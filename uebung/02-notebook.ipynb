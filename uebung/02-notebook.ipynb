{
 "cells": [
  {
   "cell_type": "markdown",
   "metadata": {},
   "source": [
    "***Vorlesung 'Syntax natürlicher Sprachen', WS 2020/21***\n",
    "\n",
    "---\n",
    "# Übung 2"
   ]
  },
  {
   "cell_type": "code",
   "execution_count": 1,
   "metadata": {},
   "outputs": [],
   "source": [
    "from exercises_2 import *\n",
    "from questions import aufgabe"
   ]
  },
  {
   "cell_type": "markdown",
   "metadata": {},
   "source": [
    "---\n",
    "## Aufgabe 1:  Eine erste syntaktische Analyse\n",
    "\n",
    "#### Kreieren Sie Ihre ersten Syntaxbäume, indem Sie das folgende Python-Skript ausführen. Beantworten Sie im Anschluss die zugehörigen Fragen!"
   ]
  },
  {
   "cell_type": "code",
   "execution_count": 2,
   "metadata": {},
   "outputs": [
    {
     "name": "stdout",
     "output_type": "stream",
     "text": [
      "(S\n",
      "  (NP I)\n",
      "  (VP\n",
      "    (VP (V shot) (NP (Det an) (N elephant)))\n",
      "    (PP (P in) (NP (Det my) (N pajamas)))))\n",
      "     S                                       \n",
      " ┌───┴──────────────┐                         \n",
      " │                  VP                       \n",
      " │        ┌─────────┴──────────┐              \n",
      " │        VP                   PP            \n",
      " │   ┌────┴───┐            ┌───┴───┐          \n",
      " │   │        NP           │       NP        \n",
      " │   │    ┌───┴─────┐      │   ┌───┴─────┐    \n",
      " NP  V   Det        N      P  Det        N   \n",
      " │   │    │         │      │   │         │    \n",
      " I  shot  an     elephant  in  my     pajamas\n",
      "\n",
      "(S\n",
      "  (NP I)\n",
      "  (VP\n",
      "    (V shot)\n",
      "    (NP (Det an) (N elephant) (PP (P in) (NP (Det my) (N pajamas))))))\n",
      "     S                                   \n",
      " ┌───┴──────────┐                         \n",
      " │              VP                       \n",
      " │   ┌──────────┴──────┐                  \n",
      " │   │                 NP                \n",
      " │   │    ┌─────┬──────┴───┐              \n",
      " │   │    │     │          PP            \n",
      " │   │    │     │      ┌───┴───┐          \n",
      " │   │    │     │      │       NP        \n",
      " │   │    │     │      │   ┌───┴─────┐    \n",
      " NP  V   Det    N      P  Det        N   \n",
      " │   │    │     │      │   │         │    \n",
      " I  shot  an elephant  in  my     pajamas\n",
      "\n"
     ]
    }
   ],
   "source": [
    "import nltk\n",
    "\n",
    "grammar = nltk.CFG.fromstring(\"\"\"\n",
    "    S -> NP VP\n",
    "    PP -> P NP\n",
    "    NP -> Det N | Det N PP | 'I'\n",
    "    VP -> V NP | VP PP\n",
    "    Det -> 'an' | 'my'\n",
    "    N -> 'elephant' | 'pajamas'\n",
    "    V -> 'shot'\n",
    "    P -> 'in'\n",
    "\"\"\")\n",
    "\n",
    "parser = nltk.ChartParser(grammar)\n",
    "sent = \"I shot an elephant in my pajamas\".split()\n",
    "for tree in parser.parse(sent):\n",
    "    print(tree)\n",
    "    tree.pretty_print(unicodelines=True)"
   ]
  },
  {
   "cell_type": "markdown",
   "metadata": {},
   "source": [
    "---\n",
    "###  Aufgabe 1 a:"
   ]
  },
  {
   "cell_type": "code",
   "execution_count": 3,
   "metadata": {},
   "outputs": [
    {
     "data": {
      "application/vnd.jupyter.widget-view+json": {
       "model_id": "6b7b7eb0d4644c289c4fd3af8a4debc5",
       "version_major": 2,
       "version_minor": 0
      },
      "text/plain": [
       "SingleChoice(children=(HTML(value='<h4 style=\"font-size:14px;\">Warum gibt die parse-Funktion des Skripts vermu…"
      ]
     },
     "metadata": {},
     "output_type": "display_data"
    },
    {
     "data": {
      "application/vnd.jupyter.widget-view+json": {
       "model_id": "c23c30e64967417b95de5717f2e4d64f",
       "version_major": 2,
       "version_minor": 0
      },
      "text/plain": [
       "SingleChoice(children=(HTML(value='<h4 style=\"font-size:14px;\">Die Alternative <code>tree = parser.parse(sent)…"
      ]
     },
     "metadata": {},
     "output_type": "display_data"
    }
   ],
   "source": [
    "aufgabe(blatt2_1a)"
   ]
  },
  {
   "cell_type": "markdown",
   "metadata": {},
   "source": [
    "---\n",
    "###  Aufgabe 1 b:\n",
    "\n",
    "#### Worin liegen die Unterschiede zwischen den ausgegebenen Bäumen? Beantworten Sie dazu folgende Frage."
   ]
  },
  {
   "cell_type": "code",
   "execution_count": 4,
   "metadata": {
    "scrolled": false
   },
   "outputs": [
    {
     "data": {
      "application/vnd.jupyter.widget-view+json": {
       "model_id": "1f5d4b34042e4bf08ca0eefbf3f4f89e",
       "version_major": 2,
       "version_minor": 0
      },
      "text/plain": [
       "MultipleChoice(children=(HTML(value='<h4 style=\"font-size:14px;\">Zu welcher Phrase kann die Präpositionalphras…"
      ]
     },
     "metadata": {},
     "output_type": "display_data"
    }
   ],
   "source": [
    "aufgabe(blatt2_1b)"
   ]
  },
  {
   "cell_type": "markdown",
   "metadata": {},
   "source": [
    "___\n",
    "### Aufgabe 1 c:\n",
    "\n",
    "#### Warum ist der gegebene Satz \"I shot an elephant in my pajamas\" syntaktisch ambig? Beantworten Sie dazu folgende Fragen."
   ]
  },
  {
   "cell_type": "code",
   "execution_count": 5,
   "metadata": {
    "scrolled": false
   },
   "outputs": [
    {
     "data": {
      "application/vnd.jupyter.widget-view+json": {
       "model_id": "1152d9a401854077bf6456d903114ea7",
       "version_major": 2,
       "version_minor": 0
      },
      "text/plain": [
       "SingleChoice(children=(HTML(value='<h4 style=\"font-size:14px;\">Bzgl. welcher (nicht an der Oberflächensyntax e…"
      ]
     },
     "metadata": {},
     "output_type": "display_data"
    },
    {
     "data": {
      "application/vnd.jupyter.widget-view+json": {
       "model_id": "3bcb7f7cc9b3492383f9d9e5d9871def",
       "version_major": 2,
       "version_minor": 0
      },
      "text/plain": [
       "SelectionList(children=(HTML(value='<h4 style=\"font-size:14px;\">Was ist der Fall, wenn die PP ein Adverbial is…"
      ]
     },
     "metadata": {},
     "output_type": "display_data"
    },
    {
     "data": {
      "application/vnd.jupyter.widget-view+json": {
       "model_id": "041f10144e33483780de0c91385e8c6a",
       "version_major": 2,
       "version_minor": 0
      },
      "text/plain": [
       "SelectionList(children=(HTML(value='<h4 style=\"font-size:14px;\">Was ist der Fall, wenn die PP ein Attribut ist…"
      ]
     },
     "metadata": {},
     "output_type": "display_data"
    }
   ],
   "source": [
    "aufgabe(blatt2_1c)"
   ]
  },
  {
   "cell_type": "markdown",
   "metadata": {},
   "source": [
    "---\n",
    "## Aufgabe 2: Was ist Grammatik?\n",
    "\n",
    "#### Gegeben sind folgende Sätze:\n",
    "1. Die Grammatik des Lateinischen ist schwer. Vor allem die Syntax bereitet Schwierigkeiten.\n",
    "2. Der Duden ist eine Grammatik.\n",
    "3. Der Begründer der Dependenzgrammatik ist Lucien Tesnière.\n"
   ]
  },
  {
   "cell_type": "markdown",
   "metadata": {},
   "source": [
    "---\n",
    "### Aufgabe 2 a:\n",
    "\n",
    "#### Erläutern Sie die drei Grammatikbegriffe, die den folgenden Sätzen zugrunde liegen. Beantworten Sie dazu folgende Fragen."
   ]
  },
  {
   "cell_type": "code",
   "execution_count": 6,
   "metadata": {},
   "outputs": [
    {
     "data": {
      "application/vnd.jupyter.widget-view+json": {
       "model_id": "1e7de247f75445c2abc85efa568e3b01",
       "version_major": 2,
       "version_minor": 0
      },
      "text/plain": [
       "SingleChoice(children=(HTML(value='<h4 style=\"font-size:14px;\">Welcher Grammatikbegriff liegt Satz 1 zugrunde?…"
      ]
     },
     "metadata": {},
     "output_type": "display_data"
    },
    {
     "data": {
      "application/vnd.jupyter.widget-view+json": {
       "model_id": "dfe09b3836da424db8e5aceab79a3a04",
       "version_major": 2,
       "version_minor": 0
      },
      "text/plain": [
       "SingleChoice(children=(HTML(value='<h4 style=\"font-size:14px;\">Welcher Grammatikbegriff liegt Satz 2 zugrunde?…"
      ]
     },
     "metadata": {},
     "output_type": "display_data"
    },
    {
     "data": {
      "application/vnd.jupyter.widget-view+json": {
       "model_id": "1dead2096683449dadb97c0b14a5ccd6",
       "version_major": 2,
       "version_minor": 0
      },
      "text/plain": [
       "SingleChoice(children=(HTML(value='<h4 style=\"font-size:14px;\">Welcher Grammatikbegriff liegt Satz 3 zugrunde?…"
      ]
     },
     "metadata": {},
     "output_type": "display_data"
    }
   ],
   "source": [
    "aufgabe(blatt2_2a)"
   ]
  },
  {
   "cell_type": "markdown",
   "metadata": {},
   "source": [
    "---\n",
    "### Aufgabe 2 b:\n",
    "\n",
    "#### Zeigen Sie am Beispiel von Satz 1 den Unterschied zwischen Grammatik und Syntax auf.  Beantworten Sie dazu folgende Fragen."
   ]
  },
  {
   "cell_type": "code",
   "execution_count": 7,
   "metadata": {},
   "outputs": [
    {
     "data": {
      "application/vnd.jupyter.widget-view+json": {
       "model_id": "254d93369a9c420093103776af7bd82e",
       "version_major": 2,
       "version_minor": 0
      },
      "text/plain": [
       "MultipleChoice(children=(HTML(value='<h4 style=\"font-size:14px;\">Welche Gesetzmäßigkeiten umfasst die Grammati…"
      ]
     },
     "metadata": {},
     "output_type": "display_data"
    },
    {
     "data": {
      "application/vnd.jupyter.widget-view+json": {
       "model_id": "13416d8e765341d5a1db6e99f1b4ef31",
       "version_major": 2,
       "version_minor": 0
      },
      "text/plain": [
       "Lueckentext(children=(HTML(value='<i>Vervollständigen Sie den Lückentext: </i>', layout=Layout(justify_content…"
      ]
     },
     "metadata": {},
     "output_type": "display_data"
    }
   ],
   "source": [
    "aufgabe(blatt2_2b)"
   ]
  },
  {
   "cell_type": "markdown",
   "metadata": {},
   "source": [
    "---\n",
    "## Aufgabe 3: Linguistische Strukturbeschreibung"
   ]
  },
  {
   "cell_type": "markdown",
   "metadata": {},
   "source": [
    "---\n",
    "### Aufgabe 3 a:\n",
    "\n",
    "#### Welche Hierachie-Ebenen lassen sich in der Beschreibung des Aufbaus sprachlicher Strukturen unterscheiden?"
   ]
  },
  {
   "cell_type": "code",
   "execution_count": 8,
   "metadata": {
    "scrolled": false
   },
   "outputs": [
    {
     "data": {
      "application/vnd.jupyter.widget-view+json": {
       "model_id": "170bd911a58445aa822add2207c3e658",
       "version_major": 2,
       "version_minor": 0
      },
      "text/plain": [
       "MultipleChoice(children=(HTML(value='<h4 style=\"font-size:14px;\">Was sind die 3 grundlegenden Beschreibungsebe…"
      ]
     },
     "metadata": {},
     "output_type": "display_data"
    }
   ],
   "source": [
    "aufgabe(blatt2_3a)"
   ]
  },
  {
   "cell_type": "markdown",
   "metadata": {},
   "source": [
    "---\n",
    "### Aufgabe 3 b:\n",
    "\n",
    "#### Wo liegt der Unterschied zwischen dem Wortbegriff einer natürlichen Sprache und dem Wortbegriff einer formalen Sprache?\n",
    "(Was sind die Blätter des Syntaxbaums einer Ableitung eines natürlichsprachlichen Satzes in einer die Sprache modellierenden formalen Grammatik?)"
   ]
  },
  {
   "cell_type": "code",
   "execution_count": 9,
   "metadata": {
    "scrolled": true
   },
   "outputs": [
    {
     "data": {
      "application/vnd.jupyter.widget-view+json": {
       "model_id": "30bea0001e2e43f3ad3719da73b91e1f",
       "version_major": 2,
       "version_minor": 0
      },
      "text/plain": [
       "Lueckentext(children=(HTML(value='<i>Vervollständigen Sie den Lückentext: </i>', layout=Layout(justify_content…"
      ]
     },
     "metadata": {},
     "output_type": "display_data"
    }
   ],
   "source": [
    "aufgabe(blatt2_3b)"
   ]
  },
  {
   "cell_type": "markdown",
   "metadata": {},
   "source": [
    "---\n",
    "## Aufgabe 4: Darstellung syntaktischer Strukturen"
   ]
  },
  {
   "cell_type": "markdown",
   "metadata": {},
   "source": [
    "---\n",
    "### Aufgabe 4 a:\n",
    "\n",
    "#### Welche formalen Repräsentationen der syntaktischen Struktur eines natürlichsprachlichen Satzes haben Sie in der Vorlesung kennengelernt? Beantworten Sie dazu folgende Frage."
   ]
  },
  {
   "cell_type": "code",
   "execution_count": 10,
   "metadata": {
    "scrolled": false
   },
   "outputs": [
    {
     "data": {
      "application/vnd.jupyter.widget-view+json": {
       "model_id": "0b64cea4d4fe42fe9a96be37ffc40b2f",
       "version_major": 2,
       "version_minor": 0
      },
      "text/plain": [
       "MultipleChoice(children=(HTML(value='<h4 style=\"font-size:14px;\">Welche Typen von Syntaxbäumen (auch: Parsebäu…"
      ]
     },
     "metadata": {},
     "output_type": "display_data"
    }
   ],
   "source": [
    "aufgabe(blatt2_4a)"
   ]
  },
  {
   "cell_type": "markdown",
   "metadata": {},
   "source": [
    "---\n",
    "### Aufgabe 4 b:\n",
    "\n",
    "#### Wie kann eine solche Struktur dargestellt werden? Beantworten Sie dazu folgende Fragen."
   ]
  },
  {
   "cell_type": "code",
   "execution_count": 11,
   "metadata": {},
   "outputs": [
    {
     "data": {
      "application/vnd.jupyter.widget-view+json": {
       "model_id": "f1cdb6e1795f43aa9543356ba527d3f7",
       "version_major": 2,
       "version_minor": 0
      },
      "text/plain": [
       "SingleChoice(children=(HTML(value='<h4 style=\"font-size:14px;\">In welcher Form wird die syntaktische Struktur …"
      ]
     },
     "metadata": {},
     "output_type": "display_data"
    },
    {
     "data": {
      "application/vnd.jupyter.widget-view+json": {
       "model_id": "a993d8f557194858a40be7e3f7bb0279",
       "version_major": 2,
       "version_minor": 0
      },
      "text/plain": [
       "SingleChoice(children=(HTML(value='<h4 style=\"font-size:14px;\">In welcher Form wird die syntaktische Struktur …"
      ]
     },
     "metadata": {},
     "output_type": "display_data"
    }
   ],
   "source": [
    "aufgabe(blatt2_4b)"
   ]
  },
  {
   "cell_type": "markdown",
   "metadata": {},
   "source": [
    "---\n",
    "### Aufgabe 4 c:\n",
    " \n",
    "#### Geben Sie zu folgendem Syntaxbaum den Klammerausdruck an (für den Fall, dass der Elefant den Pyjama trägt):"
   ]
  },
  {
   "cell_type": "code",
   "execution_count": 12,
   "metadata": {
    "scrolled": true
   },
   "outputs": [
    {
     "name": "stdout",
     "output_type": "stream",
     "text": [
      "         I-shot-an_elepha                                              \n",
      "         nt-in_my_pajamas                                              \n",
      " ┌──────────────┴─────────────────┐                                     \n",
      " │                        shot-an_elephant-                            \n",
      " │                          in_my_pajamas                              \n",
      " │   ┌────────────────────────────┴───────────────┐                     \n",
      " │   │                                       an_elephant-              \n",
      " │   │                                      in_my_pajamas              \n",
      " │   │                            ┌───────────────┴─────────────┐       \n",
      " I  shot                     an_elephant                  in_my_pajamas\n",
      "\n"
     ]
    }
   ],
   "source": [
    "from nltk import Tree\n",
    "tree = Tree.fromstring(blatt2_4c_tree)\n",
    "tree.pretty_print(unicodelines=True)"
   ]
  },
  {
   "cell_type": "code",
   "execution_count": 13,
   "metadata": {},
   "outputs": [
    {
     "name": "stdout",
     "output_type": "stream",
     "text": [
      "    ROOT                          \n",
      " ┌───┼────────┬────────────┐       \n",
      " I  shot an_elephant in_my_pajamas\n",
      "\n"
     ]
    }
   ],
   "source": [
    "tree = Tree.fromstring(\"\"\"\n",
    "(ROOT\n",
    "    I shot an_elephant in_my_pajamas\n",
    ")\n",
    "\"\"\")\n",
    "\n",
    "tree.pretty_print(unicodelines=True)"
   ]
  },
  {
   "cell_type": "markdown",
   "metadata": {},
   "source": [
    "---\n",
    "### Aufgabe 4 d:\n",
    "\n",
    "#### Geben Sie zu folgendem Klammerausdruck den Syntaxbaum an (wer trägt hier den Pyjama?)\n",
    "\n",
    "*[ [I] [ [ [shot] [an elephant] ] [in my pajamas] ] ]*\n",
    "\n",
    "#### Klammern Sie dazu einmal den Klammerausdruck aus 4c um, dann zerlegen Sie den Satz in seine Subkonstituenten."
   ]
  },
  {
   "cell_type": "code",
   "execution_count": 14,
   "metadata": {},
   "outputs": [
    {
     "name": "stdout",
     "output_type": "stream",
     "text": [
      "ROOT\n",
      " │   \n",
      "... \n",
      "\n"
     ]
    }
   ],
   "source": [
    "tree = Tree.fromstring(\"\"\"\n",
    "(ROOT\n",
    "  \n",
    ")  \n",
    "\"\"\")\n",
    "\n",
    "tree.pretty_print(unicodelines=True)"
   ]
  },
  {
   "cell_type": "code",
   "execution_count": 15,
   "metadata": {},
   "outputs": [
    {
     "name": "stdout",
     "output_type": "stream",
     "text": [
      "I-shot-an_elepha\n",
      "nt-in_my_pajamas\n",
      "       │         \n",
      "      ...       \n",
      "\n"
     ]
    }
   ],
   "source": [
    "# Zerlegung gemäß folgender Klammerung:\n",
    "# [ [I] [ [ [shot] [an elephant] ] [in my pajamas] ] ]\n",
    "\n",
    "tree = Tree.fromstring(\"\"\"\n",
    "(I-shot-an_elephant-in_my_pajamas\n",
    "   \n",
    ")\n",
    "\"\"\")\n",
    "\n",
    "tree.pretty_print(unicodelines=True)"
   ]
  },
  {
   "cell_type": "markdown",
   "metadata": {},
   "source": [
    "--- \n",
    "# Hausaufgaben"
   ]
  },
  {
   "cell_type": "markdown",
   "metadata": {},
   "source": [
    "---\n",
    "## Aufgabe 5: Ambiguität\n",
    "\n",
    "\n",
    "#### Sehen Sie sich die folgenden englischen Sätze an. Können Sie sich jeweils zwei unterschiedliche Interpretationen vorstellen?\n",
    "\n",
    "- *Fighting animals could be dangerous.*\n",
    "- *Visiting relatives can be tiresome.*\n"
   ]
  },
  {
   "cell_type": "code",
   "execution_count": 16,
   "metadata": {
    "scrolled": false
   },
   "outputs": [
    {
     "data": {
      "application/vnd.jupyter.widget-view+json": {
       "model_id": "ff42c00bc2534bf6920ff4e6a5193eb2",
       "version_major": 2,
       "version_minor": 0
      },
      "text/plain": [
       "SingleChoice(children=(HTML(value='<h4 style=\"font-size:14px;\">Was ist der Ursprung der Ambiguität?</h4>', lay…"
      ]
     },
     "metadata": {},
     "output_type": "display_data"
    },
    {
     "data": {
      "application/vnd.jupyter.widget-view+json": {
       "model_id": "e60d5fb859cc4f2da7bfee9335d48378",
       "version_major": 2,
       "version_minor": 0
      },
      "text/plain": [
       "MultipleChoice(children=(HTML(value='<h4 style=\"font-size:14px;\">In welcher Beziehung können Gerund und nachfo…"
      ]
     },
     "metadata": {},
     "output_type": "display_data"
    },
    {
     "data": {
      "application/vnd.jupyter.widget-view+json": {
       "model_id": "b51f7509840b4c24870eee1b337fe24b",
       "version_major": 2,
       "version_minor": 0
      },
      "text/plain": [
       "SingleChoice(children=(HTML(value='<h4 style=\"font-size:14px;\">Welche Funktion im Satz nimmt das Nomen ein, we…"
      ]
     },
     "metadata": {},
     "output_type": "display_data"
    },
    {
     "data": {
      "application/vnd.jupyter.widget-view+json": {
       "model_id": "130cf95e0b394231a068ca531f17c449",
       "version_major": 2,
       "version_minor": 0
      },
      "text/plain": [
       "SingleChoice(children=(HTML(value='<h4 style=\"font-size:14px;\">Welche Funktion innerhalb der Gerund-Nomen-Phra…"
      ]
     },
     "metadata": {},
     "output_type": "display_data"
    },
    {
     "data": {
      "application/vnd.jupyter.widget-view+json": {
       "model_id": "4ee6390d3a5e467f8a0d042515bb7d7d",
       "version_major": 2,
       "version_minor": 0
      },
      "text/plain": [
       "SingleChoice(children=(HTML(value='<h4 style=\"font-size:14px;\">Welche Funktion im Hauptsatz nimmt das Gerund e…"
      ]
     },
     "metadata": {},
     "output_type": "display_data"
    },
    {
     "data": {
      "application/vnd.jupyter.widget-view+json": {
       "model_id": "7b3c3eeba4a543c9a4393775c7447f34",
       "version_major": 2,
       "version_minor": 0
      },
      "text/plain": [
       "SingleChoice(children=(HTML(value='<h4 style=\"font-size:14px;\">Welche Funktion nimmt das Gerund ein, wenn das …"
      ]
     },
     "metadata": {},
     "output_type": "display_data"
    }
   ],
   "source": [
    "aufgabe(blatt2_5)"
   ]
  },
  {
   "cell_type": "markdown",
   "metadata": {},
   "source": [
    "---\n",
    "## Aufgabe 6: Fragen zu NLTK-Kapitel 8.1\n",
    "\n",
    "#### Lesen Sie das Vorwort von NLTK-Kapitel 8 sowie das Kapitel 8.1 (’Some Grammatical Dilemmas’):  http://www.nltk.org/book/ch08.html\n",
    "\n",
    "#### Beantworten sie insbesondere folgende Fragen: "
   ]
  },
  {
   "cell_type": "markdown",
   "metadata": {},
   "source": [
    "---\n",
    "### Aufgabe 6 a:\n"
   ]
  },
  {
   "cell_type": "code",
   "execution_count": 17,
   "metadata": {
    "scrolled": false
   },
   "outputs": [
    {
     "data": {
      "application/vnd.jupyter.widget-view+json": {
       "model_id": "bb7cc5529e264b469a898e6b308d2aca",
       "version_major": 2,
       "version_minor": 0
      },
      "text/plain": [
       "MultipleChoice(children=(HTML(value='<h4 style=\"font-size:14px;\">Hinsichtlich welcher syntaktischen Grundprinz…"
      ]
     },
     "metadata": {},
     "output_type": "display_data"
    },
    {
     "data": {
      "application/vnd.jupyter.widget-view+json": {
       "model_id": "ecb475da5e564bdbae0ba08120620d49",
       "version_major": 2,
       "version_minor": 0
      },
      "text/plain": [
       "SingleChoice(children=(HTML(value='<h4 style=\"font-size:14px;\">Konstituenz ist synonym zu:</h4>', layout=Layou…"
      ]
     },
     "metadata": {},
     "output_type": "display_data"
    },
    {
     "data": {
      "application/vnd.jupyter.widget-view+json": {
       "model_id": "75eea85038a94965b4789e164e46f5aa",
       "version_major": 2,
       "version_minor": 0
      },
      "text/plain": [
       "SingleChoice(children=(HTML(value='<h4 style=\"font-size:14px;\">Dependenz ist synonym zu:</h4>', layout=Layout(…"
      ]
     },
     "metadata": {},
     "output_type": "display_data"
    }
   ],
   "source": [
    "aufgabe(blatt2_6a)"
   ]
  },
  {
   "cell_type": "markdown",
   "metadata": {},
   "source": [
    "---\n",
    "### Aufgabe 6 b:"
   ]
  },
  {
   "cell_type": "code",
   "execution_count": 18,
   "metadata": {
    "scrolled": false
   },
   "outputs": [
    {
     "data": {
      "application/vnd.jupyter.widget-view+json": {
       "model_id": "663105b435c541f18ef46cd563ab5b08",
       "version_major": 2,
       "version_minor": 0
      },
      "text/plain": [
       "SingleChoice(children=(HTML(value='<h4 style=\"font-size:14px;\">Welche Mittel kommen in einer formalen Syntaxan…"
      ]
     },
     "metadata": {},
     "output_type": "display_data"
    }
   ],
   "source": [
    "aufgabe(blatt2_6b)"
   ]
  },
  {
   "cell_type": "markdown",
   "metadata": {},
   "source": [
    "---\n",
    "### Aufgabe 6 c:\n",
    "\n",
    "#### Welche ja/nein-Entscheidung bzgl. des Satzes wird bei dieser Analyse unweigerlich getroffen?"
   ]
  },
  {
   "cell_type": "code",
   "execution_count": 19,
   "metadata": {
    "scrolled": false
   },
   "outputs": [
    {
     "data": {
      "application/vnd.jupyter.widget-view+json": {
       "model_id": "eed7e47ff69a461cbd35f2734bfd1fcb",
       "version_major": 2,
       "version_minor": 0
      },
      "text/plain": [
       "MultipleChoice(children=(HTML(value='<h4 style=\"font-size:14px;\">Die ________ eines Satzes bzgl. der formalen …"
      ]
     },
     "metadata": {},
     "output_type": "display_data"
    }
   ],
   "source": [
    "aufgabe(blatt2_6c)"
   ]
  },
  {
   "cell_type": "markdown",
   "metadata": {},
   "source": [
    "---\n",
    "### Aufgabe 6 d:\n"
   ]
  },
  {
   "cell_type": "code",
   "execution_count": 20,
   "metadata": {
    "scrolled": false
   },
   "outputs": [
    {
     "data": {
      "application/vnd.jupyter.widget-view+json": {
       "model_id": "9d7eb359fd144b31939d63de5739d077",
       "version_major": 2,
       "version_minor": 0
      },
      "text/plain": [
       "MultipleChoice(children=(HTML(value='<h4 style=\"font-size:14px;\">Welche Vorteile hat die Modellierung der Satz…"
      ]
     },
     "metadata": {},
     "output_type": "display_data"
    }
   ],
   "source": [
    "aufgabe(blatt2_6d)"
   ]
  }
 ],
 "metadata": {
  "kernelspec": {
   "display_name": "Python 3",
   "language": "python",
   "name": "python3"
  },
  "language_info": {
   "codemirror_mode": {
    "name": "ipython",
    "version": 3
   },
   "file_extension": ".py",
   "mimetype": "text/x-python",
   "name": "python",
   "nbconvert_exporter": "python",
   "pygments_lexer": "ipython3",
   "version": "3.7.4"
  },
  "widgets": {
   "application/vnd.jupyter.widget-state+json": {
    "state": {
     "0030107ab01c4be8863768814c0a6e17": {
      "model_module": "@jupyter-widgets/base",
      "model_module_version": "1.2.0",
      "model_name": "LayoutModel",
      "state": {}
     },
     "0052fb2b95ca4bf5a45d1fc875128a55": {
      "model_module": "@jupyter-widgets/base",
      "model_module_version": "1.2.0",
      "model_name": "LayoutModel",
      "state": {
       "width": "600px"
      }
     },
     "0098843516594a22bacecf78655d17c2": {
      "model_module": "@jupyter-widgets/base",
      "model_module_version": "1.2.0",
      "model_name": "LayoutModel",
      "state": {
       "width": "600px"
      }
     },
     "00b62a01bf95485f92a294da16e42602": {
      "model_module": "@jupyter-widgets/controls",
      "model_module_version": "1.5.0",
      "model_name": "ButtonModel",
      "state": {
       "description": "Wortstruktur",
       "layout": "IPY_MODEL_be244bd30565423ab8d7c13fb0f857d4",
       "style": "IPY_MODEL_27ecb1ed9b8c4d35ad9f67ff4f9acec9"
      }
     },
     "00f2d9ec58f34a53925a6bfa98648f6c": {
      "model_module": "@jupyter-widgets/base",
      "model_module_version": "1.2.0",
      "model_name": "LayoutModel",
      "state": {}
     },
     "0112384cbb444e8abf95e149918371a2": {
      "model_module": "@jupyter-widgets/controls",
      "model_module_version": "1.5.0",
      "model_name": "ButtonStyleModel",
      "state": {
       "button_color": "lightgreen"
      }
     },
     "015f56cec59e4174a627a88694e92863": {
      "model_module": "@jupyter-widgets/base",
      "model_module_version": "1.2.0",
      "model_name": "LayoutModel",
      "state": {}
     },
     "0165014b13034190bedca7ccc3a0f9d2": {
      "model_module": "@jupyter-widgets/base",
      "model_module_version": "1.2.0",
      "model_name": "LayoutModel",
      "state": {}
     },
     "01759823ee7c4f83a8aeea5beab1428c": {
      "model_module": "@jupyter-widgets/controls",
      "model_module_version": "1.5.0",
      "model_name": "HTMLModel",
      "state": {
       "layout": "IPY_MODEL_b76bb7b13df84a96a193ea99c65d8a56",
       "style": "IPY_MODEL_a0390a36003c4c50b6662a62634b50d2",
       "value": "<i>Wählen Sie die <ins>eine</ins> korrekte Antwort aus: </i>"
      }
     },
     "0176269331a743339bd8a69276f81cc8": {
      "model_module": "@jupyter-widgets/controls",
      "model_module_version": "1.5.0",
      "model_name": "ButtonModel",
      "state": {
       "description": "Abhängigkeitsstruktur",
       "layout": "IPY_MODEL_14850623cce24e4d8d315399029a3af6",
       "style": "IPY_MODEL_7c500bec7e784dac9bcbee50d2a4eb65"
      }
     },
     "018f9ef28bf040e8a53120ca5ee02496": {
      "model_module": "@jupyter-widgets/base",
      "model_module_version": "1.2.0",
      "model_name": "LayoutModel",
      "state": {
       "width": "250px"
      }
     },
     "01d7467e4a9c4b328a18e959b07eca62": {
      "model_module": "@jupyter-widgets/base",
      "model_module_version": "1.2.0",
      "model_name": "LayoutModel",
      "state": {}
     },
     "02088acf4d0b4e669359f59cae39805e": {
      "model_module": "@jupyter-widgets/base",
      "model_module_version": "1.2.0",
      "model_name": "LayoutModel",
      "state": {}
     },
     "0230dd0aff5247e0b6207f844bd0aad1": {
      "model_module": "@jupyter-widgets/controls",
      "model_module_version": "1.5.0",
      "model_name": "DescriptionStyleModel",
      "state": {
       "description_width": ""
      }
     },
     "024206632ce0409586cc55f59ac2b5ce": {
      "model_module": "@jupyter-widgets/controls",
      "model_module_version": "1.5.0",
      "model_name": "ButtonStyleModel",
      "state": {}
     },
     "025f42b6b6424d9385decd2303ae6623": {
      "model_module": "@jupyter-widgets/base",
      "model_module_version": "1.2.0",
      "model_name": "LayoutModel",
      "state": {
       "width": "250px"
      }
     },
     "02bfac78201044c5afe62773fef42122": {
      "model_module": "@jupyter-widgets/base",
      "model_module_version": "1.2.0",
      "model_name": "LayoutModel",
      "state": {
       "justify_content": "center"
      }
     },
     "02cde529a5ff4a0ca05084ddaeab1d1e": {
      "model_module": "@jupyter-widgets/base",
      "model_module_version": "1.2.0",
      "model_name": "LayoutModel",
      "state": {}
     },
     "030d33675c2f4ef8b65e4df50e5126bc": {
      "model_module": "@jupyter-widgets/base",
      "model_module_version": "1.2.0",
      "model_name": "LayoutModel",
      "state": {
       "width": "250px"
      }
     },
     "031881b4669c417d9334bde8be395dc5": {
      "model_module": "@jupyter-widgets/controls",
      "model_module_version": "1.5.0",
      "model_name": "ButtonModel",
      "state": {
       "description": "Keine der anderen Möglichkeiten",
       "layout": "IPY_MODEL_f4f9a57541d042de8e45911ef0b387dc",
       "style": "IPY_MODEL_30563dbb4e12412ea539cf5a99d23354"
      }
     },
     "0328daece4ab46e09c049fb8340aa1f2": {
      "model_module": "@jupyter-widgets/base",
      "model_module_version": "1.2.0",
      "model_name": "LayoutModel",
      "state": {}
     },
     "036b1880f182410680969af6169acca1": {
      "model_module": "@jupyter-widgets/base",
      "model_module_version": "1.2.0",
      "model_name": "LayoutModel",
      "state": {
       "width": "600px"
      }
     },
     "0385e08d2b604a0e9f34561917cf4d13": {
      "model_module": "@jupyter-widgets/controls",
      "model_module_version": "1.5.0",
      "model_name": "DescriptionStyleModel",
      "state": {
       "description_width": ""
      }
     },
     "03a447b1d78f401a88ba9191dd78f9f2": {
      "model_module": "@jupyter-widgets/base",
      "model_module_version": "1.2.0",
      "model_name": "LayoutModel",
      "state": {
       "width": "250px"
      }
     },
     "03af34b3901947c097f9226112e774bd": {
      "model_module": "@jupyter-widgets/controls",
      "model_module_version": "1.5.0",
      "model_name": "CheckboxModel",
      "state": {
       "description": "Grammatikalität",
       "disabled": false,
       "layout": "IPY_MODEL_3caf1dc80a994ca3bc3a60fea956f7b8",
       "style": "IPY_MODEL_24db33051467467593ac41c9a8313b15",
       "value": false
      }
     },
     "03d6e28a5b4442388fe930cd023496d5": {
      "model_module": "@jupyter-widgets/controls",
      "model_module_version": "1.5.0",
      "model_name": "CheckboxModel",
      "state": {
       "description": "Dependenzgraph mit gelabelten Kanten",
       "disabled": false,
       "layout": "IPY_MODEL_b89219406be54c7e957cacaf944fcbbe",
       "style": "IPY_MODEL_423c5792202c4b89b5af483f1f8d7655",
       "value": false
      }
     },
     "03e3dc2ceb6b480187ebae773c6c6f72": {
      "model_module": "@jupyter-widgets/base",
      "model_module_version": "1.2.0",
      "model_name": "LayoutModel",
      "state": {
       "width": "600px"
      }
     },
     "03ed9937e5b2428ca1d13fc7e833a965": {
      "model_module": "@jupyter-widgets/controls",
      "model_module_version": "1.5.0",
      "model_name": "ButtonModel",
      "state": {
       "description": "Baumdiagramm",
       "layout": "IPY_MODEL_1d9aab2162834b5badf3f7f3d0d90aec",
       "style": "IPY_MODEL_024206632ce0409586cc55f59ac2b5ce"
      }
     },
     "03fa83e67211451180874e7ada7f9b12": {
      "model_module": "@jupyter-widgets/controls",
      "model_module_version": "1.5.0",
      "model_name": "DescriptionStyleModel",
      "state": {
       "description_width": ""
      }
     },
     "040ec667367a42a89f163ef14401d99e": {
      "model_module": "@jupyter-widgets/controls",
      "model_module_version": "1.5.0",
      "model_name": "HTMLModel",
      "state": {
       "layout": "IPY_MODEL_552bc93562c445709c77b43ceff370c2",
       "style": "IPY_MODEL_239e90ed6d044f36a15b14544672679d",
       "value": "<h4 style=\"font-size:14px;\">Konstituenz ist synonym zu:</h4>"
      }
     },
     "041f10144e33483780de0c91385e8c6a": {
      "model_module": "@jupyter-widgets/controls",
      "model_module_version": "1.5.0",
      "model_name": "VBoxModel",
      "state": {
       "children": [
        "IPY_MODEL_fb59820c2d1a40198dbded5273b6070d",
        "IPY_MODEL_8768b29848db4c83af0505d761a1f9a1",
        "IPY_MODEL_ff3874f78b8d43189f795b5f2edaf772",
        "IPY_MODEL_6603729a34ed4cf6a2211adb29e19f78"
       ],
       "layout": "IPY_MODEL_eef77438bcac4ae8b3c6359cd323e6ad"
      }
     },
     "04361920d50c43f4a65daa7b34f4804c": {
      "model_module": "@jupyter-widgets/base",
      "model_module_version": "1.2.0",
      "model_name": "LayoutModel",
      "state": {
       "width": "600px"
      }
     },
     "043fbc9b333748f49c04bb801bc3abb4": {
      "model_module": "@jupyter-widgets/controls",
      "model_module_version": "1.5.0",
      "model_name": "VBoxModel",
      "state": {
       "children": [
        "IPY_MODEL_c84ad00c23744084879e11ea4a1f8501",
        "IPY_MODEL_11a375e13e4940d7bda1c0ffb40fd685",
        "IPY_MODEL_9404a75bf31c4eeeacabdd9fce40c568"
       ],
       "layout": "IPY_MODEL_f3cba5e7961f4a35ad7b75a4a9afdd06"
      }
     },
     "044c0128e894490c9ca99f339e3f059c": {
      "model_module": "@jupyter-widgets/base",
      "model_module_version": "1.2.0",
      "model_name": "LayoutModel",
      "state": {
       "width": "250px"
      }
     },
     "0472bf990dcc4e458bae7a58dc03850c": {
      "model_module": "@jupyter-widgets/controls",
      "model_module_version": "1.5.0",
      "model_name": "ButtonStyleModel",
      "state": {}
     },
     "049a03661b1340e5bdf2aba1903fa7fd": {
      "model_module": "@jupyter-widgets/controls",
      "model_module_version": "1.5.0",
      "model_name": "HBoxModel",
      "state": {
       "children": [
        "IPY_MODEL_4614bda84e8a419da242186b32747750"
       ],
       "layout": "IPY_MODEL_a6628c0f8dab47ffbb892dddb99e813e"
      }
     },
     "04a4dc13921e441fad6c3626b4c1256c": {
      "model_module": "@jupyter-widgets/controls",
      "model_module_version": "1.5.0",
      "model_name": "ButtonModel",
      "state": {
       "description": "Theorie der Sprachstruktur",
       "layout": "IPY_MODEL_b47170f5c39249e4ae9a38737398bc5d",
       "style": "IPY_MODEL_9c0979da5dc64d489c24a15dec4564e2"
      }
     },
     "052de710f01d4f53a8bbe5ff0f786857": {
      "model_module": "@jupyter-widgets/controls",
      "model_module_version": "1.5.0",
      "model_name": "HBoxModel",
      "state": {
       "children": [
        "IPY_MODEL_cfd2ca36b6e848cc884f5d9d6c904d63"
       ],
       "layout": "IPY_MODEL_f79741bdc625471e887744d11132c4fe"
      }
     },
     "053c9c7a199d45bbbe020fde1a32215e": {
      "model_module": "@jupyter-widgets/base",
      "model_module_version": "1.2.0",
      "model_name": "LayoutModel",
      "state": {}
     },
     "05701e4ea6d44133844e82313b2896e3": {
      "model_module": "@jupyter-widgets/controls",
      "model_module_version": "1.5.0",
      "model_name": "ButtonModel",
      "state": {
       "description": "Objekt",
       "layout": "IPY_MODEL_cf23b37c3fab4a678f6de34571a5ea69",
       "style": "IPY_MODEL_5cbf6d47196b4805b64bd76a71f9642d"
      }
     },
     "0591c6f2d1214ce481d23ca8604e244a": {
      "model_module": "@jupyter-widgets/controls",
      "model_module_version": "1.5.0",
      "model_name": "DescriptionStyleModel",
      "state": {
       "description_width": ""
      }
     },
     "059b1e9ca30046b69cbc3e025e166e94": {
      "model_module": "@jupyter-widgets/base",
      "model_module_version": "1.2.0",
      "model_name": "LayoutModel",
      "state": {
       "width": "250px"
      }
     },
     "059bcff6714a4cab8007b711272130a6": {
      "model_module": "@jupyter-widgets/base",
      "model_module_version": "1.2.0",
      "model_name": "LayoutModel",
      "state": {
       "width": "600px"
      }
     },
     "05d682c55f184e69a796a2518e926c27": {
      "model_module": "@jupyter-widgets/controls",
      "model_module_version": "1.5.0",
      "model_name": "HBoxModel",
      "state": {
       "children": [
        "IPY_MODEL_1dd87bf3cde349619ece6c5a15e95ddf",
        "IPY_MODEL_3a0f439989d948b6bebbedd127e4dfe2"
       ],
       "layout": "IPY_MODEL_c7b5672fffd0486e96bb6a218cba18e5"
      }
     },
     "05ffbf94ba8f4e65a79952e5ac9ba890": {
      "model_module": "@jupyter-widgets/base",
      "model_module_version": "1.2.0",
      "model_name": "LayoutModel",
      "state": {
       "justify_content": "center"
      }
     },
     "060d7e3bf98f44d288c7e918737ba556": {
      "model_module": "@jupyter-widgets/controls",
      "model_module_version": "1.5.0",
      "model_name": "ButtonStyleModel",
      "state": {}
     },
     "06101849572a48e3977436abb8ba07e7": {
      "model_module": "@jupyter-widgets/controls",
      "model_module_version": "1.5.0",
      "model_name": "VBoxModel",
      "state": {
       "children": [
        "IPY_MODEL_bb58aefc46e34029bf1a2b80d05b6d1b",
        "IPY_MODEL_1d0d2d9025544da6bc1bacfc433f92ce",
        "IPY_MODEL_a1b56d445fb545e8acf9fbcb3fdd2f72"
       ],
       "layout": "IPY_MODEL_8ba17f7c87df4e31bb4a7b61b1192867"
      }
     },
     "0613a74400f2464a8e82e07c36de9909": {
      "model_module": "@jupyter-widgets/controls",
      "model_module_version": "1.5.0",
      "model_name": "ButtonStyleModel",
      "state": {}
     },
     "06293b88cc964079b99de91d737bbabf": {
      "model_module": "@jupyter-widgets/base",
      "model_module_version": "1.2.0",
      "model_name": "LayoutModel",
      "state": {
       "justify_content": "center"
      }
     },
     "064deb39b2ca4ed38aeb422c8671f798": {
      "model_module": "@jupyter-widgets/base",
      "model_module_version": "1.2.0",
      "model_name": "LayoutModel",
      "state": {
       "width": "250px"
      }
     },
     "06c8c0767c5046559ff6ca14c135f2aa": {
      "model_module": "@jupyter-widgets/controls",
      "model_module_version": "1.5.0",
      "model_name": "DescriptionStyleModel",
      "state": {
       "description_width": ""
      }
     },
     "0723b8a713584dd0872fbb2d9f50808e": {
      "model_module": "@jupyter-widgets/base",
      "model_module_version": "1.2.0",
      "model_name": "LayoutModel",
      "state": {
       "width": "250px"
      }
     },
     "0750486c6be84488b38209fc3fe7d77e": {
      "model_module": "@jupyter-widgets/controls",
      "model_module_version": "1.5.0",
      "model_name": "HTMLModel",
      "state": {
       "layout": "IPY_MODEL_c9156199fbe34f60b8e87784d66c6647",
       "style": "IPY_MODEL_873b981c8d914008a73f3404a7474544",
       "value": "<h4 style=\"font-size:14px;\">Welche Gesetzmäßigkeiten umfasst die Grammatik als Regelsystem?</h4>"
      }
     },
     "0752b1215b434b97911f2dab0e99e409": {
      "model_module": "@jupyter-widgets/controls",
      "model_module_version": "1.5.0",
      "model_name": "HBoxModel",
      "state": {
       "children": [
        "IPY_MODEL_a35da3f2d1bb44f398e9b4837aa2fb90"
       ],
       "layout": "IPY_MODEL_0328daece4ab46e09c049fb8340aa1f2"
      }
     },
     "07593ff8e54e4c07bee0eb90c8dd6017": {
      "model_module": "@jupyter-widgets/controls",
      "model_module_version": "1.5.0",
      "model_name": "ButtonModel",
      "state": {
       "description": "Regelsystem",
       "layout": "IPY_MODEL_e000e7f9d6354b4e8d97beb04f3928b2",
       "style": "IPY_MODEL_11ac6c62180d4798a2a46ca9c6854ed1"
      }
     },
     "07a2f00d78f443f480472a0245b6092a": {
      "model_module": "@jupyter-widgets/controls",
      "model_module_version": "1.5.0",
      "model_name": "DescriptionStyleModel",
      "state": {
       "description_width": "initial"
      }
     },
     "07a96f88cea24fd888dc79974c621929": {
      "model_module": "@jupyter-widgets/controls",
      "model_module_version": "1.5.0",
      "model_name": "DescriptionStyleModel",
      "state": {
       "description_width": "initial"
      }
     },
     "07aa9da0a3c44f66b62ae8d064f5606c": {
      "model_module": "@jupyter-widgets/controls",
      "model_module_version": "1.5.0",
      "model_name": "DescriptionStyleModel",
      "state": {
       "description_width": ""
      }
     },
     "07aef7de98814c089feaab88ddfaf8be": {
      "model_module": "@jupyter-widgets/base",
      "model_module_version": "1.2.0",
      "model_name": "LayoutModel",
      "state": {
       "width": "600px"
      }
     },
     "07dbec5a0c4649feb5f5215044a1f68e": {
      "model_module": "@jupyter-widgets/controls",
      "model_module_version": "1.5.0",
      "model_name": "DescriptionStyleModel",
      "state": {
       "description_width": "initial"
      }
     },
     "07e151eccd114c3a9ce4a41f044c3eb2": {
      "model_module": "@jupyter-widgets/base",
      "model_module_version": "1.2.0",
      "model_name": "LayoutModel",
      "state": {
       "width": "150px"
      }
     },
     "07e19c0162fa4d8f8246cd0553c13f4b": {
      "model_module": "@jupyter-widgets/controls",
      "model_module_version": "1.5.0",
      "model_name": "ButtonStyleModel",
      "state": {}
     },
     "07e65230cb99423baa0ce5b44e01bc56": {
      "model_module": "@jupyter-widgets/base",
      "model_module_version": "1.2.0",
      "model_name": "LayoutModel",
      "state": {}
     },
     "085207b9326a49f3be2388e86481d652": {
      "model_module": "@jupyter-widgets/controls",
      "model_module_version": "1.5.0",
      "model_name": "ButtonModel",
      "state": {
       "description": "Korrekt?",
       "layout": "IPY_MODEL_43e4f4629c7044a8a147ff58826e70ef",
       "style": "IPY_MODEL_62bac137c20b4b619888f514e3889894"
      }
     },
     "0853eb0cabfb4176bd59f4ee66418643": {
      "model_module": "@jupyter-widgets/controls",
      "model_module_version": "1.5.0",
      "model_name": "CheckboxModel",
      "state": {
       "description": "Wohlgeformtheit",
       "disabled": false,
       "layout": "IPY_MODEL_7e65ce6caf234c32966dd8ce887ae503",
       "style": "IPY_MODEL_d49a82972b5546a8a1020066a349d2d0",
       "value": false
      }
     },
     "08596cf8f0bf48a9a45bc92e21071733": {
      "model_module": "@jupyter-widgets/controls",
      "model_module_version": "1.5.0",
      "model_name": "VBoxModel",
      "state": {
       "children": [
        "IPY_MODEL_631b7ecc3f9041d3a2e2b715c0b3942c",
        "IPY_MODEL_639efe48d42743b39d665f8162cd6968",
        "IPY_MODEL_1eafa08749044da38753106330a51a5c",
        "IPY_MODEL_edb9fc2802d9488b8dc6ac6825707f26"
       ],
       "layout": "IPY_MODEL_0d3ba643ac0a4ce0853032778290ed7b"
      }
     },
     "0859d4bc02a84e5c8ee91efdafd7b980": {
      "model_module": "@jupyter-widgets/base",
      "model_module_version": "1.2.0",
      "model_name": "LayoutModel",
      "state": {
       "align_content": "stretch",
       "align_items": "stretch",
       "display": "inline-flex",
       "flex": "flex-grow",
       "flex_flow": "row wrap",
       "justify_content": "flex-start"
      }
     },
     "085ac38e990c411faebe00375b24b05e": {
      "model_module": "@jupyter-widgets/base",
      "model_module_version": "1.2.0",
      "model_name": "LayoutModel",
      "state": {}
     },
     "087b8940cdef4e2394fc5cc29f54fc5d": {
      "model_module": "@jupyter-widgets/controls",
      "model_module_version": "1.5.0",
      "model_name": "ButtonModel",
      "state": {
       "description": "formale Grammatik",
       "layout": "IPY_MODEL_40bc543c5ed048d0aafe813f861d639c",
       "style": "IPY_MODEL_7396727a0ade4da7a722befb932c3bcb"
      }
     },
     "0896ffc714784c9a98ef9d7adeb8b871": {
      "model_module": "@jupyter-widgets/base",
      "model_module_version": "1.2.0",
      "model_name": "LayoutModel",
      "state": {}
     },
     "08cd58b66ec1431682fafef78ce78b9c": {
      "model_module": "@jupyter-widgets/base",
      "model_module_version": "1.2.0",
      "model_name": "LayoutModel",
      "state": {
       "width": "250px"
      }
     },
     "08f2f5a925bf45258b2b7c34990b4850": {
      "model_module": "@jupyter-widgets/controls",
      "model_module_version": "1.5.0",
      "model_name": "HTMLModel",
      "state": {
       "layout": "IPY_MODEL_e35636040b784be5b658e35df13789d0",
       "style": "IPY_MODEL_f411b8bdde58469ab3c88395a7eecbe3",
       "value": "<h4 style=\"font-size:14px;\">In welcher Beziehung können Gerund und nachfolgendes Nomen stehen?</h4>"
      }
     },
     "091510278df44cc6a84fc303290371b0": {
      "model_module": "@jupyter-widgets/controls",
      "model_module_version": "1.5.0",
      "model_name": "HBoxModel",
      "state": {
       "children": [
        "IPY_MODEL_eb6fed82cf374f5fbf996a410fd02244",
        "IPY_MODEL_c7ec4b7beb974904b8e0851bd4a92275"
       ],
       "layout": "IPY_MODEL_a491f70ad2a84faebbcbf21d993dab67"
      }
     },
     "092128c8e8a34891aaaa2c324504e003": {
      "model_module": "@jupyter-widgets/base",
      "model_module_version": "1.2.0",
      "model_name": "LayoutModel",
      "state": {
       "justify_content": "center"
      }
     },
     "093a55e8d2b24571b9929b29dcd4c8d8": {
      "model_module": "@jupyter-widgets/controls",
      "model_module_version": "1.5.0",
      "model_name": "CheckboxModel",
      "state": {
       "description": "Eine endliche Menge an Sätzen kann mit unendlichen Mitteln beschrieben werden.",
       "disabled": false,
       "layout": "IPY_MODEL_3a4f1fa70c70465899722132328f0276",
       "style": "IPY_MODEL_c08ff3ffdc6e4322a73bdccf944ce709",
       "value": false
      }
     },
     "094b368f9a424ad1aa9277fb045ee84c": {
      "model_module": "@jupyter-widgets/controls",
      "model_module_version": "1.5.0",
      "model_name": "CheckboxModel",
      "state": {
       "description": "Subjekt-Nominalphrase",
       "disabled": false,
       "layout": "IPY_MODEL_0974b75dc2d141cfb739739b57a62c49",
       "style": "IPY_MODEL_4c8ae3c45fb64f7dace09bec2bb9fdf9",
       "value": false
      }
     },
     "094fa9c6f9ba4b40bc992173f441cb85": {
      "model_module": "@jupyter-widgets/base",
      "model_module_version": "1.2.0",
      "model_name": "LayoutModel",
      "state": {}
     },
     "0954224ed07241ca86a25e7e2ffe4606": {
      "model_module": "@jupyter-widgets/base",
      "model_module_version": "1.2.0",
      "model_name": "LayoutModel",
      "state": {
       "width": "250px"
      }
     },
     "09597c60e3214a62a77b4e7f981c0e66": {
      "model_module": "@jupyter-widgets/base",
      "model_module_version": "1.2.0",
      "model_name": "LayoutModel",
      "state": {}
     },
     "0974b75dc2d141cfb739739b57a62c49": {
      "model_module": "@jupyter-widgets/base",
      "model_module_version": "1.2.0",
      "model_name": "LayoutModel",
      "state": {
       "width": "600px"
      }
     },
     "0985279e1b8c418da9ba0d9066f234cc": {
      "model_module": "@jupyter-widgets/controls",
      "model_module_version": "1.5.0",
      "model_name": "HTMLModel",
      "state": {
       "layout": "IPY_MODEL_b3de506a26bf45359306d4dd275dbaf7",
       "style": "IPY_MODEL_b8e4f45082274e0d8ac559aee895081c",
       "value": "<h4 style=\"font-size:14px;\">Regularitäten bezieht.</h4>"
      }
     },
     "09939960c6384d30a107724d6faac723": {
      "model_module": "@jupyter-widgets/base",
      "model_module_version": "1.2.0",
      "model_name": "LayoutModel",
      "state": {}
     },
     "09b6023801b44f50af379db12386238d": {
      "model_module": "@jupyter-widgets/base",
      "model_module_version": "1.2.0",
      "model_name": "LayoutModel",
      "state": {}
     },
     "09b943243bf4489f8821c9e752fc29f6": {
      "model_module": "@jupyter-widgets/base",
      "model_module_version": "1.2.0",
      "model_name": "LayoutModel",
      "state": {
       "width": "250px"
      }
     },
     "0a0199ef1d094cfeb65fbc2478b78afc": {
      "model_module": "@jupyter-widgets/controls",
      "model_module_version": "1.5.0",
      "model_name": "HBoxModel",
      "state": {
       "children": [
        "IPY_MODEL_61f6a73318f04a488531bf9b1eba9308",
        "IPY_MODEL_348396b986c74b299f6a643a88e07784"
       ],
       "layout": "IPY_MODEL_69683bda11cf4a6d905631d8e7f12c25"
      }
     },
     "0a38fad14e2e439da3fbc47fd77f5869": {
      "model_module": "@jupyter-widgets/base",
      "model_module_version": "1.2.0",
      "model_name": "LayoutModel",
      "state": {
       "justify_content": "center"
      }
     },
     "0a564fba6d994f03bf6b1d2b19ec0d7b": {
      "model_module": "@jupyter-widgets/base",
      "model_module_version": "1.2.0",
      "model_name": "LayoutModel",
      "state": {
       "width": "600px"
      }
     },
     "0a64e0846b944788bc0346a10c27fb05": {
      "model_module": "@jupyter-widgets/controls",
      "model_module_version": "1.5.0",
      "model_name": "DescriptionStyleModel",
      "state": {
       "description_width": "initial"
      }
     },
     "0a81aa8e299a4193bdcf0d47c6b9e066": {
      "model_module": "@jupyter-widgets/controls",
      "model_module_version": "1.5.0",
      "model_name": "DescriptionStyleModel",
      "state": {
       "description_width": ""
      }
     },
     "0adce13d0b6b4923bbe4aca3407df13e": {
      "model_module": "@jupyter-widgets/controls",
      "model_module_version": "1.5.0",
      "model_name": "ButtonStyleModel",
      "state": {}
     },
     "0af354c190f247c9bb300c114c2e82ec": {
      "model_module": "@jupyter-widgets/controls",
      "model_module_version": "1.5.0",
      "model_name": "DescriptionStyleModel",
      "state": {
       "description_width": ""
      }
     },
     "0b57ab2f87ef4a739ce1323949055ce3": {
      "model_module": "@jupyter-widgets/controls",
      "model_module_version": "1.5.0",
      "model_name": "HBoxModel",
      "state": {
       "children": [
        "IPY_MODEL_d815aa20b74e4c1aaee2f4008c15de1a",
        "IPY_MODEL_e88f5192896d4091b80b5f1a3012cd60"
       ],
       "layout": "IPY_MODEL_884931a0754047529ed0ba8e5ce051e9"
      }
     },
     "0b5a09fd229242cc970dc2001b1eaa6e": {
      "model_module": "@jupyter-widgets/controls",
      "model_module_version": "1.5.0",
      "model_name": "HTMLModel",
      "state": {
       "layout": "IPY_MODEL_18a38d80a2444d2a8e1da9d3fd94c566",
       "style": "IPY_MODEL_df9fedcdf4db4eb3bbb61ec48106ccc2",
       "value": "<h4 style=\"font-size:14px;\">In welcher Beziehung können Gerund und nachfolgendes Nomen stehen?</h4>"
      }
     },
     "0b64cea4d4fe42fe9a96be37ffc40b2f": {
      "model_module": "@jupyter-widgets/controls",
      "model_module_version": "1.5.0",
      "model_name": "VBoxModel",
      "state": {
       "children": [
        "IPY_MODEL_450720c7f13546a0a2ba930b664db0a5",
        "IPY_MODEL_e6669d7b5da54ff586e809a8dcd9af59",
        "IPY_MODEL_9506a096b9ad4b87b58855ffc25f8930",
        "IPY_MODEL_5b52aecb929749ea96ade7abeb492dab"
       ],
       "layout": "IPY_MODEL_826803c9bb1244dab1fca3113414bb4e"
      }
     },
     "0b871796432846bbb41566e5178dbd94": {
      "model_module": "@jupyter-widgets/base",
      "model_module_version": "1.2.0",
      "model_name": "LayoutModel",
      "state": {}
     },
     "0b9198b37a1e4794b1497c547083ecb4": {
      "model_module": "@jupyter-widgets/base",
      "model_module_version": "1.2.0",
      "model_name": "LayoutModel",
      "state": {}
     },
     "0b97d39ed07541de82b98c134b30b0f2": {
      "model_module": "@jupyter-widgets/controls",
      "model_module_version": "1.5.0",
      "model_name": "BoxModel",
      "state": {
       "children": [
        "IPY_MODEL_8bc970335e0142478257ffe5ca7d5e22",
        "IPY_MODEL_ee9d64efbd874ab6bf1a0c56808ea93e",
        "IPY_MODEL_1629d81940084744bc8b2272ea9846ff",
        "IPY_MODEL_46aa97c8d2d54ba1aeeeb1408228beda",
        "IPY_MODEL_19d324e994704b0dbc6ccfab96ff5fcf"
       ],
       "layout": "IPY_MODEL_0e9640bbb78c41c4a76933279bc776bb"
      }
     },
     "0bb4c6819cf54fba9137794b7bf6e08e": {
      "model_module": "@jupyter-widgets/base",
      "model_module_version": "1.2.0",
      "model_name": "LayoutModel",
      "state": {
       "justify_content": "center"
      }
     },
     "0bd4ffdf2488448aadf47a698cf8117d": {
      "model_module": "@jupyter-widgets/base",
      "model_module_version": "1.2.0",
      "model_name": "LayoutModel",
      "state": {
       "width": "250px"
      }
     },
     "0be9369472d040a78eb4fdedcd9f736d": {
      "model_module": "@jupyter-widgets/controls",
      "model_module_version": "1.5.0",
      "model_name": "HBoxModel",
      "state": {
       "children": [
        "IPY_MODEL_6892df3f51184675af1ffcd62308f1c6"
       ],
       "layout": "IPY_MODEL_3f7bd285e21b483681e65f6103a8d8e5"
      }
     },
     "0bec3adba486433aba7cb26dc1dbbd10": {
      "model_module": "@jupyter-widgets/controls",
      "model_module_version": "1.5.0",
      "model_name": "ButtonModel",
      "state": {
       "description": "Keine der anderen Möglichkeiten",
       "layout": "IPY_MODEL_dd0606631d3d436dac8449b212e87631",
       "style": "IPY_MODEL_1cc6e0975ab54197b007a6b53b5e6411"
      }
     },
     "0c44c3c18e8a4e6381724c557ba3f153": {
      "model_module": "@jupyter-widgets/base",
      "model_module_version": "1.2.0",
      "model_name": "LayoutModel",
      "state": {}
     },
     "0c6e6186300149acaedc887320148500": {
      "model_module": "@jupyter-widgets/base",
      "model_module_version": "1.2.0",
      "model_name": "LayoutModel",
      "state": {
       "width": "250px"
      }
     },
     "0c716be79e0c48efac1ef1ba6a822b34": {
      "model_module": "@jupyter-widgets/controls",
      "model_module_version": "1.5.0",
      "model_name": "ButtonStyleModel",
      "state": {}
     },
     "0c8a0d9e03c747d38a0d1529e8c7ceae": {
      "model_module": "@jupyter-widgets/base",
      "model_module_version": "1.2.0",
      "model_name": "LayoutModel",
      "state": {
       "width": "250px"
      }
     },
     "0cc8d70c7a224fb08817d6828cc1dfca": {
      "model_module": "@jupyter-widgets/controls",
      "model_module_version": "1.5.0",
      "model_name": "HTMLModel",
      "state": {
       "layout": "IPY_MODEL_6d6ba62315024bb696412a9103e049b0",
       "style": "IPY_MODEL_303d77bba09a4d64b78025a633787ba5",
       "value": "<i>Wählen Sie die <ins>eine</ins> korrekte Antwort aus: </i>"
      }
     },
     "0cf4fcfae80b4217a4e61b52a82b7a42": {
      "model_module": "@jupyter-widgets/controls",
      "model_module_version": "1.5.0",
      "model_name": "ButtonStyleModel",
      "state": {}
     },
     "0d25e6caa4d842119fb565b2ce221696": {
      "model_module": "@jupyter-widgets/controls",
      "model_module_version": "1.5.0",
      "model_name": "DescriptionStyleModel",
      "state": {
       "description_width": ""
      }
     },
     "0d320b548a3d4918b3573218ed594fb3": {
      "model_module": "@jupyter-widgets/controls",
      "model_module_version": "1.5.0",
      "model_name": "DropdownModel",
      "state": {
       "_options_labels": [
        "Keine der Alternativen",
        "der Ort des Geschehens wird festgelegt",
        "die PP wird dem Substantiv beigefügt",
        "die im Verb ausgedrückte Tätigkeit wird modifiziert"
       ],
       "description": "Antwort:",
       "index": 0,
       "layout": "IPY_MODEL_c413e1068d214d909c3f2c15644531af",
       "style": "IPY_MODEL_a110a5d07b3542deb276f89f66086b0d"
      }
     },
     "0d381c60935642169337cba0fefbf279": {
      "model_module": "@jupyter-widgets/base",
      "model_module_version": "1.2.0",
      "model_name": "LayoutModel",
      "state": {
       "width": "250px"
      }
     },
     "0d3ba643ac0a4ce0853032778290ed7b": {
      "model_module": "@jupyter-widgets/base",
      "model_module_version": "1.2.0",
      "model_name": "LayoutModel",
      "state": {}
     },
     "0d6b7ad4404a47e9a9e4c83e7c6fb79c": {
      "model_module": "@jupyter-widgets/base",
      "model_module_version": "1.2.0",
      "model_name": "LayoutModel",
      "state": {}
     },
     "0dc5376361d244468b036cd53434e263": {
      "model_module": "@jupyter-widgets/base",
      "model_module_version": "1.2.0",
      "model_name": "LayoutModel",
      "state": {
       "justify_content": "center"
      }
     },
     "0de29de0dac24d859a345b069e5167c1": {
      "model_module": "@jupyter-widgets/controls",
      "model_module_version": "1.5.0",
      "model_name": "DescriptionStyleModel",
      "state": {
       "description_width": "initial"
      }
     },
     "0dedf95c887a4a308c0f9bf6a2da0d66": {
      "model_module": "@jupyter-widgets/controls",
      "model_module_version": "1.5.0",
      "model_name": "ButtonStyleModel",
      "state": {}
     },
     "0e001056ae8a4a238d5ffbcd0f50102a": {
      "model_module": "@jupyter-widgets/controls",
      "model_module_version": "1.5.0",
      "model_name": "ButtonModel",
      "state": {
       "description": "Übergenerierung",
       "layout": "IPY_MODEL_21d61ed0937741e4ab0e3ea3ad99711b",
       "style": "IPY_MODEL_c50a7a6b62034d8abde2c1d8a0927af1"
      }
     },
     "0e2d20a959a349af8020f9e7611541d1": {
      "model_module": "@jupyter-widgets/base",
      "model_module_version": "1.2.0",
      "model_name": "LayoutModel",
      "state": {
       "justify_content": "center"
      }
     },
     "0e5077e8e48b45e7be33825304e143dd": {
      "model_module": "@jupyter-widgets/base",
      "model_module_version": "1.2.0",
      "model_name": "LayoutModel",
      "state": {
       "width": "250px"
      }
     },
     "0e742386e53f48ee8d554cf84353ba49": {
      "model_module": "@jupyter-widgets/base",
      "model_module_version": "1.2.0",
      "model_name": "LayoutModel",
      "state": {
       "justify_content": "center"
      }
     },
     "0e792efaefff403580f7dfe1ac1c6d1f": {
      "model_module": "@jupyter-widgets/controls",
      "model_module_version": "1.5.0",
      "model_name": "VBoxModel",
      "state": {
       "children": [
        "IPY_MODEL_dc81135139e649cc8a1ac6dbea6821ed",
        "IPY_MODEL_9048213b56814cbab97cc8d5fc63cae1",
        "IPY_MODEL_2e5e718afd244e00ac00b58ebf29fb70",
        "IPY_MODEL_99df5335ea254f7da18ecc51bb9c643b",
        "IPY_MODEL_16a82d5fabca4086be5fa756cc194447"
       ],
       "layout": "IPY_MODEL_00f2d9ec58f34a53925a6bfa98648f6c"
      }
     },
     "0e9640bbb78c41c4a76933279bc776bb": {
      "model_module": "@jupyter-widgets/base",
      "model_module_version": "1.2.0",
      "model_name": "LayoutModel",
      "state": {
       "align_content": "stretch",
       "align_items": "stretch",
       "display": "inline-flex",
       "flex": "flex-grow",
       "flex_flow": "row wrap",
       "justify_content": "flex-start"
      }
     },
     "0eb0a944023944369d00fa5b3f273bad": {
      "model_module": "@jupyter-widgets/controls",
      "model_module_version": "1.5.0",
      "model_name": "ButtonStyleModel",
      "state": {}
     },
     "0ecf001ab0fc48f880c803730ca6c1c2": {
      "model_module": "@jupyter-widgets/base",
      "model_module_version": "1.2.0",
      "model_name": "LayoutModel",
      "state": {
       "width": "250px"
      }
     },
     "0edcafe6349b4fa689ffad37471040bf": {
      "model_module": "@jupyter-widgets/controls",
      "model_module_version": "1.5.0",
      "model_name": "ButtonModel",
      "state": {
       "description": "Regelsystem",
       "layout": "IPY_MODEL_08cd58b66ec1431682fafef78ce78b9c",
       "style": "IPY_MODEL_9cc60a18e9f04651b615f7544c31aef8"
      }
     },
     "0f5cec589dbc4ee39cdc645cdd34591d": {
      "model_module": "@jupyter-widgets/controls",
      "model_module_version": "1.5.0",
      "model_name": "CheckboxModel",
      "state": {
       "description": "Synonymie",
       "disabled": false,
       "layout": "IPY_MODEL_3c57f42030314eacaa7bed0d3f8ee9a2",
       "style": "IPY_MODEL_c6e73dec58f8462a857e8a1572849ef1",
       "value": false
      }
     },
     "0f67c3a1f42d49caaeca76c1694f585d": {
      "model_module": "@jupyter-widgets/controls",
      "model_module_version": "1.5.0",
      "model_name": "ButtonStyleModel",
      "state": {}
     },
     "0f70f247da594ce28a5a72a2ac6a1faa": {
      "model_module": "@jupyter-widgets/controls",
      "model_module_version": "1.5.0",
      "model_name": "DropdownModel",
      "state": {
       "_options_labels": [
        "Morphem",
        "Symbol",
        "Wort",
        " "
       ],
       "index": 2,
       "layout": "IPY_MODEL_baab3dbd6fe1418bab9f5b7db408352b",
       "style": "IPY_MODEL_e19aba8dc9d141c8aefbf407d04e1ac3"
      }
     },
     "0f79591a442d4b118a9c2e8dde379295": {
      "model_module": "@jupyter-widgets/controls",
      "model_module_version": "1.5.0",
      "model_name": "ButtonModel",
      "state": {
       "description": "Objekt",
       "layout": "IPY_MODEL_c616de58a816439ba25900cfa33250b4",
       "style": "IPY_MODEL_53bb150f14924e6ba988642f22123261"
      }
     },
     "0fc0b331593c409296fbad8116e79d2e": {
      "model_module": "@jupyter-widgets/base",
      "model_module_version": "1.2.0",
      "model_name": "LayoutModel",
      "state": {
       "width": "250px"
      }
     },
     "0fff01bbc129409cae8f97fda824fded": {
      "model_module": "@jupyter-widgets/controls",
      "model_module_version": "1.5.0",
      "model_name": "DescriptionStyleModel",
      "state": {
       "description_width": ""
      }
     },
     "100f12f64c534b4fbf9da2f23cdfad68": {
      "model_module": "@jupyter-widgets/base",
      "model_module_version": "1.2.0",
      "model_name": "LayoutModel",
      "state": {
       "justify_content": "center"
      }
     },
     "105ce4f783b741c88eaa8d84a196d4ff": {
      "model_module": "@jupyter-widgets/base",
      "model_module_version": "1.2.0",
      "model_name": "LayoutModel",
      "state": {
       "width": "250px"
      }
     },
     "108d2c3f4a0c4854b6f741b3c47bc516": {
      "model_module": "@jupyter-widgets/base",
      "model_module_version": "1.2.0",
      "model_name": "LayoutModel",
      "state": {}
     },
     "10ab95edf1f9461d9788b7c801b4c829": {
      "model_module": "@jupyter-widgets/base",
      "model_module_version": "1.2.0",
      "model_name": "LayoutModel",
      "state": {
       "width": "250px"
      }
     },
     "10c8ec75eb0947948c8077c1b5547324": {
      "model_module": "@jupyter-widgets/base",
      "model_module_version": "1.2.0",
      "model_name": "LayoutModel",
      "state": {}
     },
     "10fbc6a607e44084b5feb03f528df76f": {
      "model_module": "@jupyter-widgets/base",
      "model_module_version": "1.2.0",
      "model_name": "LayoutModel",
      "state": {
       "width": "600px"
      }
     },
     "1152d9a401854077bf6456d903114ea7": {
      "model_module": "@jupyter-widgets/controls",
      "model_module_version": "1.5.0",
      "model_name": "VBoxModel",
      "state": {
       "children": [
        "IPY_MODEL_43f448fd66434666b4163d48400dea31",
        "IPY_MODEL_d6f2928fe46b47949b16a92dd7f752e5",
        "IPY_MODEL_909f31fa05394191b25efc401dbdb14f",
        "IPY_MODEL_a6b387ef2bfc48c1a630fa9c72b42d4c"
       ],
       "layout": "IPY_MODEL_463148752fe94efb96e6050fe9e8f2d1"
      }
     },
     "11589d5f8dc547e481f3f7b362071182": {
      "model_module": "@jupyter-widgets/base",
      "model_module_version": "1.2.0",
      "model_name": "LayoutModel",
      "state": {}
     },
     "11793233a2d24cde98af1197f7015519": {
      "model_module": "@jupyter-widgets/controls",
      "model_module_version": "1.5.0",
      "model_name": "VBoxModel",
      "state": {
       "children": [
        "IPY_MODEL_96637b497a9c4de2a79aaaf6410fe88f",
        "IPY_MODEL_56b1acb5d9204e289660973d1bccb2be",
        "IPY_MODEL_a56ae62170b6473e8c5c05eae9ad6cec",
        "IPY_MODEL_3308505b8daa45aaad8b3760cfc3bade",
        "IPY_MODEL_2ff601b42ed04406a1034c04be23d350"
       ],
       "layout": "IPY_MODEL_c9a8ff4754fa4a9cb88bd72fc98f398a"
      }
     },
     "11a375e13e4940d7bda1c0ffb40fd685": {
      "model_module": "@jupyter-widgets/controls",
      "model_module_version": "1.5.0",
      "model_name": "BoxModel",
      "state": {
       "children": [
        "IPY_MODEL_e37e8441098d4165afeab0ab55a74a5b",
        "IPY_MODEL_6dbd9b4a26e94c63a46c690e9faf9595",
        "IPY_MODEL_4bf527e3577b4d26b59de95918140ee1",
        "IPY_MODEL_285f2a1d2a394e4cb2d2abecb135d9ec",
        "IPY_MODEL_0985279e1b8c418da9ba0d9066f234cc"
       ],
       "layout": "IPY_MODEL_bf906370487c4e95904151d099ed1b49"
      }
     },
     "11ac6c62180d4798a2a46ca9c6854ed1": {
      "model_module": "@jupyter-widgets/controls",
      "model_module_version": "1.5.0",
      "model_name": "ButtonStyleModel",
      "state": {}
     },
     "11d19db2be9445d2acca969d7825a417": {
      "model_module": "@jupyter-widgets/controls",
      "model_module_version": "1.5.0",
      "model_name": "HTMLModel",
      "state": {
       "layout": "IPY_MODEL_90a749d63aeb443e85af253f8840e335",
       "style": "IPY_MODEL_cfb0ddfcd5194803b62ed304bcc2c648",
       "value": "<h4 style=\"font-size:14px;\">Welche Funktion im Hauptsatz nimmt das Gerund ein, wenn es Kopf der Gerund-Nomen-Phrase ist?</h4>"
      }
     },
     "120d9db385cf43efbf62f338460bedfd": {
      "model_module": "@jupyter-widgets/controls",
      "model_module_version": "1.5.0",
      "model_name": "DescriptionStyleModel",
      "state": {
       "description_width": ""
      }
     },
     "1214a707415d466799f0dffe78a3dad1": {
      "model_module": "@jupyter-widgets/controls",
      "model_module_version": "1.5.0",
      "model_name": "DescriptionStyleModel",
      "state": {
       "description_width": ""
      }
     },
     "12371d249e0743e9b15d628536c1928f": {
      "model_module": "@jupyter-widgets/base",
      "model_module_version": "1.2.0",
      "model_name": "LayoutModel",
      "state": {
       "justify_content": "center"
      }
     },
     "123b8ffb9efa44e7a72bf0ee09aa28fe": {
      "model_module": "@jupyter-widgets/base",
      "model_module_version": "1.2.0",
      "model_name": "LayoutModel",
      "state": {
       "width": "600px"
      }
     },
     "12722ed48b254b2195e8fb1d2bbda7f2": {
      "model_module": "@jupyter-widgets/controls",
      "model_module_version": "1.5.0",
      "model_name": "DescriptionStyleModel",
      "state": {
       "description_width": ""
      }
     },
     "12b6c39b4b9547cb885d3a74a6c6b61b": {
      "model_module": "@jupyter-widgets/base",
      "model_module_version": "1.2.0",
      "model_name": "LayoutModel",
      "state": {
       "width": "250px"
      }
     },
     "12c34af79b5d4038970e976b107ab8d6": {
      "model_module": "@jupyter-widgets/controls",
      "model_module_version": "1.5.0",
      "model_name": "DescriptionStyleModel",
      "state": {
       "description_width": ""
      }
     },
     "130cf95e0b394231a068ca531f17c449": {
      "model_module": "@jupyter-widgets/controls",
      "model_module_version": "1.5.0",
      "model_name": "VBoxModel",
      "state": {
       "children": [
        "IPY_MODEL_20976a12189445ada41af87082f9fd62",
        "IPY_MODEL_d6cadf47e49a43c2aeba6da8e7fb514a",
        "IPY_MODEL_6f45ab2d2efb4c5e8c2763cb5ea2c6f4"
       ],
       "layout": "IPY_MODEL_35783b055b3945b7971720889ed00e16"
      }
     },
     "13416d8e765341d5a1db6e99f1b4ef31": {
      "model_module": "@jupyter-widgets/controls",
      "model_module_version": "1.5.0",
      "model_name": "VBoxModel",
      "state": {
       "children": [
        "IPY_MODEL_cf3980a9e05f46c39e822eaaea63a306",
        "IPY_MODEL_0b97d39ed07541de82b98c134b30b0f2",
        "IPY_MODEL_4116c83e34df48e89c11298e112dda9f"
       ],
       "layout": "IPY_MODEL_f0e75964a75842f39a3f3bcd0ca49a8a"
      }
     },
     "1350a5f101674da9a5c21584bd34d6ba": {
      "model_module": "@jupyter-widgets/controls",
      "model_module_version": "1.5.0",
      "model_name": "DescriptionStyleModel",
      "state": {
       "description_width": ""
      }
     },
     "13bddff1dbe04c55a3f8c5129d714180": {
      "model_module": "@jupyter-widgets/controls",
      "model_module_version": "1.5.0",
      "model_name": "ButtonModel",
      "state": {
       "description": "Keine der anderen Möglichkeiten",
       "layout": "IPY_MODEL_9c1581b933d84fdf8f258b733efd7495",
       "style": "IPY_MODEL_c3e6c2d891ee425e9e2fa97fbdb88a9d"
      }
     },
     "13c2f9366e824ed18ac11fc353008a91": {
      "model_module": "@jupyter-widgets/controls",
      "model_module_version": "1.5.0",
      "model_name": "DescriptionStyleModel",
      "state": {
       "description_width": "initial"
      }
     },
     "13caa0b367694e8e830ee566790ca316": {
      "model_module": "@jupyter-widgets/controls",
      "model_module_version": "1.5.0",
      "model_name": "ButtonStyleModel",
      "state": {}
     },
     "14051a7101724ae481ae1b7983a39a95": {
      "model_module": "@jupyter-widgets/base",
      "model_module_version": "1.2.0",
      "model_name": "LayoutModel",
      "state": {
       "width": "250px"
      }
     },
     "140d906489444bca96272f24fde7ebcb": {
      "model_module": "@jupyter-widgets/controls",
      "model_module_version": "1.5.0",
      "model_name": "ButtonModel",
      "state": {
       "description": "Attribut",
       "layout": "IPY_MODEL_8c2ab9e8547e45d2af357b0ade394d59",
       "style": "IPY_MODEL_fffb750a27c04d5cb18a40d0cee24853"
      }
     },
     "142bd5a4be23483fbdd1e3b18eef7e4d": {
      "model_module": "@jupyter-widgets/base",
      "model_module_version": "1.2.0",
      "model_name": "LayoutModel",
      "state": {
       "width": "500px"
      }
     },
     "1453893914044f31b937286e410546e4": {
      "model_module": "@jupyter-widgets/base",
      "model_module_version": "1.2.0",
      "model_name": "LayoutModel",
      "state": {
       "width": "250px"
      }
     },
     "14850623cce24e4d8d315399029a3af6": {
      "model_module": "@jupyter-widgets/base",
      "model_module_version": "1.2.0",
      "model_name": "LayoutModel",
      "state": {
       "width": "250px"
      }
     },
     "14b64ca1b3b34bac9c481813647bd8f7": {
      "model_module": "@jupyter-widgets/base",
      "model_module_version": "1.2.0",
      "model_name": "LayoutModel",
      "state": {
       "width": "600px"
      }
     },
     "156104cf05354db69e248fc5a422ae72": {
      "model_module": "@jupyter-widgets/base",
      "model_module_version": "1.2.0",
      "model_name": "LayoutModel",
      "state": {
       "width": "250px"
      }
     },
     "157c08da32994355b97b12d764a250d4": {
      "model_module": "@jupyter-widgets/base",
      "model_module_version": "1.2.0",
      "model_name": "LayoutModel",
      "state": {
       "width": "250px"
      }
     },
     "159c5cba05364ee18cd655926e3b87bb": {
      "model_module": "@jupyter-widgets/controls",
      "model_module_version": "1.5.0",
      "model_name": "DescriptionStyleModel",
      "state": {
       "description_width": ""
      }
     },
     "15a8063aac3f495cb630961698bb7144": {
      "model_module": "@jupyter-widgets/base",
      "model_module_version": "1.2.0",
      "model_name": "LayoutModel",
      "state": {}
     },
     "15b7c00d247d4470b481f45f26b33c6b": {
      "model_module": "@jupyter-widgets/controls",
      "model_module_version": "1.5.0",
      "model_name": "DescriptionStyleModel",
      "state": {
       "description_width": ""
      }
     },
     "160172726c994ad886c5b7ff099ed868": {
      "model_module": "@jupyter-widgets/base",
      "model_module_version": "1.2.0",
      "model_name": "LayoutModel",
      "state": {
       "width": "250px"
      }
     },
     "1629d81940084744bc8b2272ea9846ff": {
      "model_module": "@jupyter-widgets/controls",
      "model_module_version": "1.5.0",
      "model_name": "HTMLModel",
      "state": {
       "layout": "IPY_MODEL_15a8063aac3f495cb630961698bb7144",
       "style": "IPY_MODEL_a5251f81999242fbaf42a41221515850",
       "value": "<h4 style=\"font-size:14px;\">der Grammatik, der sich auf die</h4>"
      }
     },
     "162a2bcab50d42399690634b150be16f": {
      "model_module": "@jupyter-widgets/controls",
      "model_module_version": "1.5.0",
      "model_name": "ButtonStyleModel",
      "state": {}
     },
     "162b110584aa4a90b24b33cd36ab9b1f": {
      "model_module": "@jupyter-widgets/controls",
      "model_module_version": "1.5.0",
      "model_name": "DropdownModel",
      "state": {
       "_options_labels": [
        "Grundsymbole",
        "Nicht-Terminale",
        " "
       ],
       "index": 0,
       "layout": "IPY_MODEL_c3e4b0f9921a438cbde7c6161f538fda",
       "style": "IPY_MODEL_7b0fe2605ea14c08a2e05c9f53b1bd1f"
      }
     },
     "16306c03a3f24571b18dc6b0a648479a": {
      "model_module": "@jupyter-widgets/controls",
      "model_module_version": "1.5.0",
      "model_name": "ButtonStyleModel",
      "state": {}
     },
     "1631d4da670c40e4a46693c9424cf6f0": {
      "model_module": "@jupyter-widgets/controls",
      "model_module_version": "1.5.0",
      "model_name": "HBoxModel",
      "state": {
       "children": [
        "IPY_MODEL_fa8fd32eae04486fad24e988fdb06638",
        "IPY_MODEL_ebbcc8f5a07a4801a5c45cb26c1ad650"
       ],
       "layout": "IPY_MODEL_d5f0e79fefa34357968e62ebcb8e13a6"
      }
     },
     "164fc2911eec466db2ac580a252ceb7f": {
      "model_module": "@jupyter-widgets/controls",
      "model_module_version": "1.5.0",
      "model_name": "DescriptionStyleModel",
      "state": {
       "description_width": ""
      }
     },
     "16a7e853c64d462cb6bc84b552180214": {
      "model_module": "@jupyter-widgets/base",
      "model_module_version": "1.2.0",
      "model_name": "LayoutModel",
      "state": {
       "width": "600px"
      }
     },
     "16a82d5fabca4086be5fa756cc194447": {
      "model_module": "@jupyter-widgets/controls",
      "model_module_version": "1.5.0",
      "model_name": "HBoxModel",
      "state": {
       "children": [
        "IPY_MODEL_65e96d9c4f124223a9c04c19d4afc470"
       ],
       "layout": "IPY_MODEL_f71526a08516428887e90d0611fa4900"
      }
     },
     "16a98187b7424c20a34f1f6242e97a7e": {
      "model_module": "@jupyter-widgets/controls",
      "model_module_version": "1.5.0",
      "model_name": "ButtonStyleModel",
      "state": {}
     },
     "16c23103de6c44c3a5c08a870bc14ea4": {
      "model_module": "@jupyter-widgets/controls",
      "model_module_version": "1.5.0",
      "model_name": "CheckboxModel",
      "state": {
       "description": "Synonymie",
       "disabled": false,
       "layout": "IPY_MODEL_f7d7df2530c24bddad94757e705fc58c",
       "style": "IPY_MODEL_8f9d422a18e445de933133fb145c3cb2",
       "value": false
      }
     },
     "16d3d7a60792466294d5a7a78917c6d5": {
      "model_module": "@jupyter-widgets/controls",
      "model_module_version": "1.5.0",
      "model_name": "ButtonStyleModel",
      "state": {}
     },
     "170bd911a58445aa822add2207c3e658": {
      "model_module": "@jupyter-widgets/controls",
      "model_module_version": "1.5.0",
      "model_name": "VBoxModel",
      "state": {
       "children": [
        "IPY_MODEL_bebd1f22b7914aecb327dc51901552a6",
        "IPY_MODEL_2ab2af8a52ac4b2d8cc5ee0a9ee5ec3b",
        "IPY_MODEL_ea97eac4ea2845cf80527e2c78b4bcd3",
        "IPY_MODEL_18db38381e8b4219967aa236e63167e0"
       ],
       "layout": "IPY_MODEL_eb461df584ef43bfa06ddebbc2424878"
      }
     },
     "17208453dcb140499fd67fd7ec27aea1": {
      "model_module": "@jupyter-widgets/base",
      "model_module_version": "1.2.0",
      "model_name": "LayoutModel",
      "state": {
       "width": "600px"
      }
     },
     "1752997cfbe14f2db5544a605873ce44": {
      "model_module": "@jupyter-widgets/controls",
      "model_module_version": "1.5.0",
      "model_name": "HBoxModel",
      "state": {
       "children": [
        "IPY_MODEL_55fe473aac9d421f81886d05fd08ddb2",
        "IPY_MODEL_4730a5f6e9a94c49a7f69073422c9fd3"
       ],
       "layout": "IPY_MODEL_2454a2bdfe60489698e3585c80d66708"
      }
     },
     "17845f17f61e4cfa92ec4dec2ccb3265": {
      "model_module": "@jupyter-widgets/controls",
      "model_module_version": "1.5.0",
      "model_name": "ButtonModel",
      "state": {
       "description": "Objekt",
       "layout": "IPY_MODEL_37e465d476244dbea360227f351f0d32",
       "style": "IPY_MODEL_be910d55b3eb483e898750b0eb7f489e"
      }
     },
     "1789cd0f08e74aeeacf8c9ad7b7d6dd0": {
      "model_module": "@jupyter-widgets/controls",
      "model_module_version": "1.5.0",
      "model_name": "HTMLModel",
      "state": {
       "layout": "IPY_MODEL_10c8ec75eb0947948c8077c1b5547324",
       "style": "IPY_MODEL_dc38234470dd43d8838d1d176807d959",
       "value": "<h4 style=\"font-size:14px;\">der formalen Sprache.</h4>"
      }
     },
     "1792e57e76514cb6b8ee97881fd020bc": {
      "model_module": "@jupyter-widgets/controls",
      "model_module_version": "1.5.0",
      "model_name": "DescriptionStyleModel",
      "state": {
       "description_width": ""
      }
     },
     "17a08e20654e4fd2bb25c2985cd35433": {
      "model_module": "@jupyter-widgets/controls",
      "model_module_version": "1.5.0",
      "model_name": "HTMLModel",
      "state": {
       "layout": "IPY_MODEL_de6414b4122a46b5b119741b7b1ead67",
       "style": "IPY_MODEL_22bd25206334445a9dfa4fd1752cb356",
       "value": "<i>Markieren Sie <ins>alle</ins> passenden Antworten: </i>"
      }
     },
     "17a274814e93461abb7a180eaabd22f1": {
      "model_module": "@jupyter-widgets/base",
      "model_module_version": "1.2.0",
      "model_name": "LayoutModel",
      "state": {
       "width": "600px"
      }
     },
     "18255f811ed1467288785b00b87c5116": {
      "model_module": "@jupyter-widgets/controls",
      "model_module_version": "1.5.0",
      "model_name": "DescriptionStyleModel",
      "state": {
       "description_width": "initial"
      }
     },
     "184cd409003b44c3a4f2ab7d395be7c7": {
      "model_module": "@jupyter-widgets/controls",
      "model_module_version": "1.5.0",
      "model_name": "DescriptionStyleModel",
      "state": {
       "description_width": ""
      }
     },
     "18a1aa24440b4e76aa70313d6325ee75": {
      "model_module": "@jupyter-widgets/controls",
      "model_module_version": "1.5.0",
      "model_name": "DescriptionStyleModel",
      "state": {
       "description_width": ""
      }
     },
     "18a38d80a2444d2a8e1da9d3fd94c566": {
      "model_module": "@jupyter-widgets/base",
      "model_module_version": "1.2.0",
      "model_name": "LayoutModel",
      "state": {}
     },
     "18b13528719f40719e7f64eb93e6d1d2": {
      "model_module": "@jupyter-widgets/base",
      "model_module_version": "1.2.0",
      "model_name": "LayoutModel",
      "state": {}
     },
     "18db38381e8b4219967aa236e63167e0": {
      "model_module": "@jupyter-widgets/controls",
      "model_module_version": "1.5.0",
      "model_name": "ButtonModel",
      "state": {
       "description": "Korrekt?",
       "layout": "IPY_MODEL_c7a62291cb45499bb080dcebcc27839e",
       "style": "IPY_MODEL_52ef9b115165436382c249a3f3abd391"
      }
     },
     "18e8d9391e914e3f882a3427b186aa5f": {
      "model_module": "@jupyter-widgets/controls",
      "model_module_version": "1.5.0",
      "model_name": "CheckboxModel",
      "state": {
       "description": "Dependenzgraph mit gelabelten Kanten",
       "disabled": false,
       "layout": "IPY_MODEL_ff30edb669ca47938367b83865dd1ca3",
       "style": "IPY_MODEL_f93c3fe026034ba8a55595088315ed13",
       "value": false
      }
     },
     "191b4b1110064f2c93e761844f24916f": {
      "model_module": "@jupyter-widgets/controls",
      "model_module_version": "1.5.0",
      "model_name": "HTMLModel",
      "state": {
       "layout": "IPY_MODEL_05ffbf94ba8f4e65a79952e5ac9ba890",
       "style": "IPY_MODEL_9053c7fde18e48bfb8233c6ee87f45ab",
       "value": "<h4 style=\"font-size:14px;\">Welcher Grammatikbegriff liegt Satz 1 zugrunde?</h4>"
      }
     },
     "1924488577724954b5b1ec8d7998fc41": {
      "model_module": "@jupyter-widgets/base",
      "model_module_version": "1.2.0",
      "model_name": "LayoutModel",
      "state": {
       "justify_content": "center"
      }
     },
     "193e68886ab542c48132e0e793bf2c55": {
      "model_module": "@jupyter-widgets/controls",
      "model_module_version": "1.5.0",
      "model_name": "DescriptionStyleModel",
      "state": {
       "description_width": ""
      }
     },
     "19c1ed923a5946449a4aaeda71569655": {
      "model_module": "@jupyter-widgets/base",
      "model_module_version": "1.2.0",
      "model_name": "LayoutModel",
      "state": {
       "width": "250px"
      }
     },
     "19d324e994704b0dbc6ccfab96ff5fcf": {
      "model_module": "@jupyter-widgets/controls",
      "model_module_version": "1.5.0",
      "model_name": "HTMLModel",
      "state": {
       "layout": "IPY_MODEL_de960f934aee49918f0b56d835764191",
       "style": "IPY_MODEL_4f3cae67fc2043e59cb2ebde24c44595",
       "value": "<h4 style=\"font-size:14px;\">Regularitäten bezieht.</h4>"
      }
     },
     "1a51bf8fe1a2417f888a27193a1ff1f6": {
      "model_module": "@jupyter-widgets/base",
      "model_module_version": "1.2.0",
      "model_name": "LayoutModel",
      "state": {
       "justify_content": "center"
      }
     },
     "1ab02c3f84ca458aaed1e9d96b5b369b": {
      "model_module": "@jupyter-widgets/controls",
      "model_module_version": "1.5.0",
      "model_name": "HTMLModel",
      "state": {
       "layout": "IPY_MODEL_8f156ee72219435181778191f593c419",
       "style": "IPY_MODEL_06c8c0767c5046559ff6ca14c135f2aa",
       "value": "<h4 style=\"font-size:14px;\">der formalen Sprache.</h4>"
      }
     },
     "1ab86241217249208cb9669b0f8a8b3e": {
      "model_module": "@jupyter-widgets/base",
      "model_module_version": "1.2.0",
      "model_name": "LayoutModel",
      "state": {
       "width": "600px"
      }
     },
     "1af3d209fb6e4d9eaa315db29e1a7d27": {
      "model_module": "@jupyter-widgets/controls",
      "model_module_version": "1.5.0",
      "model_name": "ButtonStyleModel",
      "state": {}
     },
     "1af471aa5cee428a9421da832179d418": {
      "model_module": "@jupyter-widgets/base",
      "model_module_version": "1.2.0",
      "model_name": "LayoutModel",
      "state": {}
     },
     "1b25b7ad796748ac8895f4db250895bf": {
      "model_module": "@jupyter-widgets/controls",
      "model_module_version": "1.5.0",
      "model_name": "CheckboxModel",
      "state": {
       "description": "Nomen ist Dependent in einem nichtfiniten Teilsatz",
       "disabled": false,
       "layout": "IPY_MODEL_5f58d0395c8a41f59b0bf9db44e9efca",
       "style": "IPY_MODEL_5d4495f0a16943789f8a448f8876b886",
       "value": false
      }
     },
     "1b2e12e1bc7a4dceb4bfae9bfac6b8a9": {
      "model_module": "@jupyter-widgets/controls",
      "model_module_version": "1.5.0",
      "model_name": "HTMLModel",
      "state": {
       "layout": "IPY_MODEL_90b9769ec8d741e0ac0153ac76557d01",
       "style": "IPY_MODEL_48ecd3dadf814c6688f97df556421135",
       "value": "<i>Markieren Sie <ins>alle</ins> passenden Antworten: </i>"
      }
     },
     "1c0cef85e4d1404f907952604571b98b": {
      "model_module": "@jupyter-widgets/base",
      "model_module_version": "1.2.0",
      "model_name": "LayoutModel",
      "state": {}
     },
     "1c15cc5845994417b920b7988939eb4b": {
      "model_module": "@jupyter-widgets/base",
      "model_module_version": "1.2.0",
      "model_name": "LayoutModel",
      "state": {
       "width": "250px"
      }
     },
     "1c1673a0cf0346cba0c642e3c9f8608e": {
      "model_module": "@jupyter-widgets/controls",
      "model_module_version": "1.5.0",
      "model_name": "DescriptionStyleModel",
      "state": {
       "description_width": ""
      }
     },
     "1c26bf946f2045bf8b74365c847d6f69": {
      "model_module": "@jupyter-widgets/controls",
      "model_module_version": "1.5.0",
      "model_name": "DescriptionStyleModel",
      "state": {
       "description_width": ""
      }
     },
     "1c4a946df1b54eb89cb7e53c52442852": {
      "model_module": "@jupyter-widgets/base",
      "model_module_version": "1.2.0",
      "model_name": "LayoutModel",
      "state": {
       "width": "600px"
      }
     },
     "1c5361d7b72049828be8ce383f43b506": {
      "model_module": "@jupyter-widgets/base",
      "model_module_version": "1.2.0",
      "model_name": "LayoutModel",
      "state": {
       "width": "250px"
      }
     },
     "1c9dfbcd5a5e461098ccaee25499aef2": {
      "model_module": "@jupyter-widgets/controls",
      "model_module_version": "1.5.0",
      "model_name": "VBoxModel",
      "state": {
       "children": [
        "IPY_MODEL_d4b8de0ac26145c692166814b12e704e",
        "IPY_MODEL_f56989a32d2e4438a6c2c876b055d49c",
        "IPY_MODEL_c1fb1b6a61c1484eb5e8e09ab88822dd",
        "IPY_MODEL_6e70df9490d34cfea171becd13a31417"
       ],
       "layout": "IPY_MODEL_8aeb804e8df74d738b8cb4878f54a434"
      }
     },
     "1cb384812e764e72bd4f347990bbedf3": {
      "model_module": "@jupyter-widgets/controls",
      "model_module_version": "1.5.0",
      "model_name": "CheckboxModel",
      "state": {
       "description": "Objekt-Nominalphrase",
       "disabled": false,
       "layout": "IPY_MODEL_200a688a2c854d838616350ba111c2f5",
       "style": "IPY_MODEL_e682adbbf1b04b93b20044074d589fc5",
       "value": false
      }
     },
     "1cc6e0975ab54197b007a6b53b5e6411": {
      "model_module": "@jupyter-widgets/controls",
      "model_module_version": "1.5.0",
      "model_name": "ButtonStyleModel",
      "state": {}
     },
     "1ce633567dcf4b30b201cada8437cb1f": {
      "model_module": "@jupyter-widgets/controls",
      "model_module_version": "1.5.0",
      "model_name": "DescriptionStyleModel",
      "state": {
       "description_width": ""
      }
     },
     "1d0d2d9025544da6bc1bacfc433f92ce": {
      "model_module": "@jupyter-widgets/controls",
      "model_module_version": "1.5.0",
      "model_name": "HTMLModel",
      "state": {
       "layout": "IPY_MODEL_970452b53aca45459a13780fbf79a4dd",
       "style": "IPY_MODEL_541814c6cd174d49bd7f499d83cdeabd",
       "value": "<i>Wählen Sie die <ins>eine</ins> korrekte Antwort aus: </i>"
      }
     },
     "1d6851589eff47f2bbfeb6cfb8e103f1": {
      "model_module": "@jupyter-widgets/controls",
      "model_module_version": "1.5.0",
      "model_name": "HTMLModel",
      "state": {
       "layout": "IPY_MODEL_d66e44504ca844abaacbaba54f735f95",
       "style": "IPY_MODEL_f56f652c2809437d89567f1d3f50e750",
       "value": "<i>Wählen Sie die <ins>eine</ins> korrekte Antwort aus: </i>"
      }
     },
     "1d7443402cc94001b7553e18bd02d874": {
      "model_module": "@jupyter-widgets/base",
      "model_module_version": "1.2.0",
      "model_name": "LayoutModel",
      "state": {
       "width": "600px"
      }
     },
     "1d9aab2162834b5badf3f7f3d0d90aec": {
      "model_module": "@jupyter-widgets/base",
      "model_module_version": "1.2.0",
      "model_name": "LayoutModel",
      "state": {
       "width": "250px"
      }
     },
     "1da591de77cc4fb7bf99a403e1c0f9e5": {
      "model_module": "@jupyter-widgets/base",
      "model_module_version": "1.2.0",
      "model_name": "LayoutModel",
      "state": {}
     },
     "1dd87bf3cde349619ece6c5a15e95ddf": {
      "model_module": "@jupyter-widgets/controls",
      "model_module_version": "1.5.0",
      "model_name": "ButtonModel",
      "state": {
       "description": "formale Grammatik",
       "layout": "IPY_MODEL_bf37e0fdb2824b6aa0591559e4008dfc",
       "style": "IPY_MODEL_7a6986e66d274e94851c38cd15191d92"
      }
     },
     "1dead2096683449dadb97c0b14a5ccd6": {
      "model_module": "@jupyter-widgets/controls",
      "model_module_version": "1.5.0",
      "model_name": "VBoxModel",
      "state": {
       "children": [
        "IPY_MODEL_c5a58b61dd5d483a95bdfef902e2e0ff",
        "IPY_MODEL_b3c17ed5fa5b46859a1708dcd8bd3075",
        "IPY_MODEL_55de6eaea7784758a4fdc7971c1d8731",
        "IPY_MODEL_3a050182b42a4867874430a91dd36b50",
        "IPY_MODEL_5dd57c541dd344c0b7c070c3abd36f91"
       ],
       "layout": "IPY_MODEL_8abfd6110acf43bbac815078ed6e09b2"
      }
     },
     "1e1261f03ed04564b2b07b056bb9cfdd": {
      "model_module": "@jupyter-widgets/controls",
      "model_module_version": "1.5.0",
      "model_name": "ButtonStyleModel",
      "state": {}
     },
     "1e41a40236884894992d4aa226763d51": {
      "model_module": "@jupyter-widgets/base",
      "model_module_version": "1.2.0",
      "model_name": "LayoutModel",
      "state": {
       "width": "250px"
      }
     },
     "1e7bfae0b76644f68a5c27b72f5e84e1": {
      "model_module": "@jupyter-widgets/base",
      "model_module_version": "1.2.0",
      "model_name": "LayoutModel",
      "state": {
       "width": "250px"
      }
     },
     "1e7de247f75445c2abc85efa568e3b01": {
      "model_module": "@jupyter-widgets/controls",
      "model_module_version": "1.5.0",
      "model_name": "VBoxModel",
      "state": {
       "children": [
        "IPY_MODEL_794b0bdf28184b8385d1158d832d2d23",
        "IPY_MODEL_01759823ee7c4f83a8aeea5beab1428c",
        "IPY_MODEL_1752997cfbe14f2db5544a605873ce44",
        "IPY_MODEL_84602a8feb1846f59e566bf4919894e7",
        "IPY_MODEL_27528c8d4ded4d8eb9342951805a304d"
       ],
       "layout": "IPY_MODEL_8d5f03b90ab147dab0e45b62141d686d"
      }
     },
     "1e98db5a9a854831952836b699f9b056": {
      "model_module": "@jupyter-widgets/controls",
      "model_module_version": "1.5.0",
      "model_name": "ButtonModel",
      "state": {
       "description": "lexikalische Ambiguität",
       "layout": "IPY_MODEL_c72c007c37304b6296bbf2e748aafa68",
       "style": "IPY_MODEL_f401cc6cfa194611ac1d2815b56a726d"
      }
     },
     "1eafa08749044da38753106330a51a5c": {
      "model_module": "@jupyter-widgets/controls",
      "model_module_version": "1.5.0",
      "model_name": "HBoxModel",
      "state": {
       "children": [
        "IPY_MODEL_1e98db5a9a854831952836b699f9b056",
        "IPY_MODEL_8d2a2764126046b9864194b1bac56b64"
       ],
       "layout": "IPY_MODEL_8c2268e5f2b14de7ad1908a57f4ea7b1"
      }
     },
     "1eb75c20573d4d33bfad4c9affd866e0": {
      "model_module": "@jupyter-widgets/controls",
      "model_module_version": "1.5.0",
      "model_name": "DescriptionStyleModel",
      "state": {
       "description_width": ""
      }
     },
     "1ed24a821eb0436c8d6150e1dd4968fd": {
      "model_module": "@jupyter-widgets/base",
      "model_module_version": "1.2.0",
      "model_name": "LayoutModel",
      "state": {}
     },
     "1ed83782254f4585b89b666fab5864c3": {
      "model_module": "@jupyter-widgets/base",
      "model_module_version": "1.2.0",
      "model_name": "LayoutModel",
      "state": {
       "width": "150px"
      }
     },
     "1ef52a289df74ead937dbf760000dd68": {
      "model_module": "@jupyter-widgets/base",
      "model_module_version": "1.2.0",
      "model_name": "LayoutModel",
      "state": {
       "width": "600px"
      }
     },
     "1f19a1be716a40348a4a3fe8f1433ddf": {
      "model_module": "@jupyter-widgets/controls",
      "model_module_version": "1.5.0",
      "model_name": "HTMLModel",
      "state": {
       "layout": "IPY_MODEL_8aed12741d144b889d2b52f29ea4d349",
       "style": "IPY_MODEL_c4113f6d534f424681f4b9f367858f1e",
       "value": "<h4 style=\"font-size:14px;\">Welche Funktion im Hauptsatz nimmt das Gerund ein, wenn es Kopf der Gerund-Nomen-Phrase ist?</h4>"
      }
     },
     "1f1d175a8a30466d87d900da581f0270": {
      "model_module": "@jupyter-widgets/base",
      "model_module_version": "1.2.0",
      "model_name": "LayoutModel",
      "state": {
       "width": "150px"
      }
     },
     "1f1de2277f114adeb31acc9215fc6105": {
      "model_module": "@jupyter-widgets/controls",
      "model_module_version": "1.5.0",
      "model_name": "ButtonModel",
      "state": {
       "description": "Wissen um Sprachstruktur",
       "layout": "IPY_MODEL_2abdf3adc6f545f3bbfcb4c96e318ce8",
       "style": "IPY_MODEL_86faf294133e482da145bf2b1745e41d"
      }
     },
     "1f2038fabb494c2494b0ceeb5e10bc35": {
      "model_module": "@jupyter-widgets/base",
      "model_module_version": "1.2.0",
      "model_name": "LayoutModel",
      "state": {
       "width": "250px"
      }
     },
     "1f5cf4d7955e439a8d0107d0b9614cad": {
      "model_module": "@jupyter-widgets/controls",
      "model_module_version": "1.5.0",
      "model_name": "VBoxModel",
      "state": {
       "children": [
        "IPY_MODEL_c3e74535ee5444878df9af2c253d92b0",
        "IPY_MODEL_982b2f74e63b4cfaa2a811e577f775b8",
        "IPY_MODEL_bd73b6d41eca4caf81776ec4dd655b09"
       ],
       "layout": "IPY_MODEL_0b871796432846bbb41566e5178dbd94"
      }
     },
     "1f5d4b34042e4bf08ca0eefbf3f4f89e": {
      "model_module": "@jupyter-widgets/controls",
      "model_module_version": "1.5.0",
      "model_name": "VBoxModel",
      "state": {
       "children": [
        "IPY_MODEL_de62a967d81c4c29a5539fa01edc4231",
        "IPY_MODEL_e99b298afaea4997b7e6553034df1ee2",
        "IPY_MODEL_bb4fb6e19f524f64b1b09c16eec9f78e",
        "IPY_MODEL_2da3f3a296644b5ca75b5cacbebfc570"
       ],
       "layout": "IPY_MODEL_82d95196e49f413cb13ceb2334e4d762"
      }
     },
     "1f620897d6324c829212361a916d999d": {
      "model_module": "@jupyter-widgets/base",
      "model_module_version": "1.2.0",
      "model_name": "LayoutModel",
      "state": {}
     },
     "1f8a48a13503432ca24bbdfc24fbaf04": {
      "model_module": "@jupyter-widgets/base",
      "model_module_version": "1.2.0",
      "model_name": "LayoutModel",
      "state": {
       "justify_content": "center"
      }
     },
     "1f9f4cd08d8a42a1840271656f483ac0": {
      "model_module": "@jupyter-widgets/base",
      "model_module_version": "1.2.0",
      "model_name": "LayoutModel",
      "state": {
       "width": "600px"
      }
     },
     "200a688a2c854d838616350ba111c2f5": {
      "model_module": "@jupyter-widgets/base",
      "model_module_version": "1.2.0",
      "model_name": "LayoutModel",
      "state": {
       "width": "600px"
      }
     },
     "20376fa3a2464bff9956f7374e57258f": {
      "model_module": "@jupyter-widgets/base",
      "model_module_version": "1.2.0",
      "model_name": "LayoutModel",
      "state": {}
     },
     "20408a28d3a94b18aaf96e0abbdab255": {
      "model_module": "@jupyter-widgets/controls",
      "model_module_version": "1.5.0",
      "model_name": "HBoxModel",
      "state": {
       "children": [
        "IPY_MODEL_b099cf1e8525451b96883aeaf569d177",
        "IPY_MODEL_4b3348fc5e8847c4b001522c4a23e3bd"
       ],
       "layout": "IPY_MODEL_671db31331584754a1a8a9fbb4aefc6f"
      }
     },
     "204d3ce4e8fa4fe594add051d01923fe": {
      "model_module": "@jupyter-widgets/controls",
      "model_module_version": "1.5.0",
      "model_name": "DescriptionStyleModel",
      "state": {
       "description_width": ""
      }
     },
     "2064b30de2674ccebb8061f9a0299abd": {
      "model_module": "@jupyter-widgets/controls",
      "model_module_version": "1.5.0",
      "model_name": "DescriptionStyleModel",
      "state": {
       "description_width": ""
      }
     },
     "20976a12189445ada41af87082f9fd62": {
      "model_module": "@jupyter-widgets/controls",
      "model_module_version": "1.5.0",
      "model_name": "HTMLModel",
      "state": {
       "layout": "IPY_MODEL_6674b606863a42998c90a7135da63f60",
       "style": "IPY_MODEL_3b485d9f8f894b9997f3b70466690b68",
       "value": "<h4 style=\"font-size:14px;\">Welche Funktion innerhalb der Gerund-Nomen-Phrase nimmt das Nomen ein, wenn das Gerund Kopf dieser Phrase ist?</h4>"
      }
     },
     "209b25031e8f4e37a9706b090555c03e": {
      "model_module": "@jupyter-widgets/base",
      "model_module_version": "1.2.0",
      "model_name": "LayoutModel",
      "state": {}
     },
     "20ff6fccb72b4d5c8a1ed4e56f827ee4": {
      "model_module": "@jupyter-widgets/controls",
      "model_module_version": "1.5.0",
      "model_name": "DescriptionStyleModel",
      "state": {
       "description_width": ""
      }
     },
     "211a95bb4bbe46379198d009e7fd96b4": {
      "model_module": "@jupyter-widgets/base",
      "model_module_version": "1.2.0",
      "model_name": "LayoutModel",
      "state": {}
     },
     "2122e06ae94c4195b5ebbdad2a3f5ec7": {
      "model_module": "@jupyter-widgets/base",
      "model_module_version": "1.2.0",
      "model_name": "LayoutModel",
      "state": {
       "width": "250px"
      }
     },
     "2138d519d9e04bc384432606ec5341e6": {
      "model_module": "@jupyter-widgets/controls",
      "model_module_version": "1.5.0",
      "model_name": "DescriptionStyleModel",
      "state": {
       "description_width": "initial"
      }
     },
     "21a3ff65902a47d1924a79dcc40c212f": {
      "model_module": "@jupyter-widgets/base",
      "model_module_version": "1.2.0",
      "model_name": "LayoutModel",
      "state": {}
     },
     "21d61ed0937741e4ab0e3ea3ad99711b": {
      "model_module": "@jupyter-widgets/base",
      "model_module_version": "1.2.0",
      "model_name": "LayoutModel",
      "state": {
       "width": "250px"
      }
     },
     "21e7270c766d4d4a846596017f043b09": {
      "model_module": "@jupyter-widgets/controls",
      "model_module_version": "1.5.0",
      "model_name": "HBoxModel",
      "state": {
       "children": [
        "IPY_MODEL_baefd4eb9a0d43c29f88af420ffdad8e",
        "IPY_MODEL_96193599e9954419b89138d34db162bf"
       ],
       "layout": "IPY_MODEL_108d2c3f4a0c4854b6f741b3c47bc516"
      }
     },
     "221e00f02b814f5894f1dd6814695454": {
      "model_module": "@jupyter-widgets/controls",
      "model_module_version": "1.5.0",
      "model_name": "ButtonStyleModel",
      "state": {}
     },
     "222f5fd1a4f34779b54dc411dace0f11": {
      "model_module": "@jupyter-widgets/base",
      "model_module_version": "1.2.0",
      "model_name": "LayoutModel",
      "state": {}
     },
     "2276712b763e48d797d15fb39d2232a8": {
      "model_module": "@jupyter-widgets/base",
      "model_module_version": "1.2.0",
      "model_name": "LayoutModel",
      "state": {
       "width": "250px"
      }
     },
     "2278fdaee07541e0853a35ca3d8cba61": {
      "model_module": "@jupyter-widgets/controls",
      "model_module_version": "1.5.0",
      "model_name": "VBoxModel",
      "state": {
       "children": [
        "IPY_MODEL_5b08c2f658b843ca9d06f39ba4527054",
        "IPY_MODEL_726b0d64b8ab4b9496b991e1feb5f619",
        "IPY_MODEL_e9d1c1bdc99b4ef881f435133eac69a3",
        "IPY_MODEL_ba2799ce05e747d888fed4c05a951823"
       ],
       "layout": "IPY_MODEL_470fef02a2dc444cb290de2af09c0a8b"
      }
     },
     "22a011688ff54f0ca08053b48c30c13d": {
      "model_module": "@jupyter-widgets/controls",
      "model_module_version": "1.5.0",
      "model_name": "ButtonStyleModel",
      "state": {}
     },
     "22ba6c4999c1409da6c6b88aa8819314": {
      "model_module": "@jupyter-widgets/base",
      "model_module_version": "1.2.0",
      "model_name": "LayoutModel",
      "state": {
       "justify_content": "center"
      }
     },
     "22bd25206334445a9dfa4fd1752cb356": {
      "model_module": "@jupyter-widgets/controls",
      "model_module_version": "1.5.0",
      "model_name": "DescriptionStyleModel",
      "state": {
       "description_width": ""
      }
     },
     "22c6c009742b4ba3b88bd3912e97308f": {
      "model_module": "@jupyter-widgets/base",
      "model_module_version": "1.2.0",
      "model_name": "LayoutModel",
      "state": {
       "width": "600px"
      }
     },
     "22d8fe0bf83344b88a20d257f09d2d97": {
      "model_module": "@jupyter-widgets/controls",
      "model_module_version": "1.5.0",
      "model_name": "ButtonModel",
      "state": {
       "description": "Regelbuch",
       "layout": "IPY_MODEL_7592c7952e3a4f728aa8b66378bde2be",
       "style": "IPY_MODEL_444de02e115d4173a2df001d9076d588"
      }
     },
     "22e0be353f654e2193bd57dec46dc9b2": {
      "model_module": "@jupyter-widgets/controls",
      "model_module_version": "1.5.0",
      "model_name": "DescriptionStyleModel",
      "state": {
       "description_width": ""
      }
     },
     "22ed8e8a7f3d482a9872f357a83773ba": {
      "model_module": "@jupyter-widgets/base",
      "model_module_version": "1.2.0",
      "model_name": "LayoutModel",
      "state": {}
     },
     "239e90ed6d044f36a15b14544672679d": {
      "model_module": "@jupyter-widgets/controls",
      "model_module_version": "1.5.0",
      "model_name": "DescriptionStyleModel",
      "state": {
       "description_width": ""
      }
     },
     "23a1ffc6b8b34a1d9f9b8f991188be59": {
      "model_module": "@jupyter-widgets/base",
      "model_module_version": "1.2.0",
      "model_name": "LayoutModel",
      "state": {}
     },
     "23af03a4b851466294970c1f39e3ef22": {
      "model_module": "@jupyter-widgets/controls",
      "model_module_version": "1.5.0",
      "model_name": "VBoxModel",
      "state": {
       "children": [
        "IPY_MODEL_c0daf05ae953411599d923d01ebc0922",
        "IPY_MODEL_56f36687ae1a4f2584a6b2cceb0db710",
        "IPY_MODEL_4cde66bed70a46ae84d64cf514b3eca6",
        "IPY_MODEL_da58e703c3fc418f8fa3f1e6a66bef8c"
       ],
       "layout": "IPY_MODEL_c2474bce077f4448bc70bbedd4a1ab6e"
      }
     },
     "23f51ae8b1ad46f3b7022b57d7ba7f75": {
      "model_module": "@jupyter-widgets/controls",
      "model_module_version": "1.5.0",
      "model_name": "ButtonModel",
      "state": {
       "description": "formale Grammatik",
       "layout": "IPY_MODEL_e73bc2b647524e29a0c9003aac1cdec2",
       "style": "IPY_MODEL_2e3bf986baf84ee3b2a2037a00011b90"
      }
     },
     "241f34c282724523818c2f9ac9f93c8e": {
      "model_module": "@jupyter-widgets/controls",
      "model_module_version": "1.5.0",
      "model_name": "DescriptionStyleModel",
      "state": {
       "description_width": ""
      }
     },
     "244b1c2f9bc448faab32bd7ccc7964c4": {
      "model_module": "@jupyter-widgets/controls",
      "model_module_version": "1.5.0",
      "model_name": "ButtonModel",
      "state": {
       "description": "Parser",
       "layout": "IPY_MODEL_b2d6988acf8342d3b36926843fa59768",
       "style": "IPY_MODEL_4ec2ae70295f47ee9460be36cb525a14"
      }
     },
     "2454a2bdfe60489698e3585c80d66708": {
      "model_module": "@jupyter-widgets/base",
      "model_module_version": "1.2.0",
      "model_name": "LayoutModel",
      "state": {}
     },
     "2479f8ab96ab4c6daa408ee85566c757": {
      "model_module": "@jupyter-widgets/base",
      "model_module_version": "1.2.0",
      "model_name": "LayoutModel",
      "state": {
       "justify_content": "center"
      }
     },
     "2495df997aaf4ff0ba0c82b46c8b3efe": {
      "model_module": "@jupyter-widgets/controls",
      "model_module_version": "1.5.0",
      "model_name": "VBoxModel",
      "state": {
       "children": [
        "IPY_MODEL_92c08b0657cf417e8c8d672bc2aaf98d",
        "IPY_MODEL_b35c0def8d1746f7b8291fa1a00dd52e",
        "IPY_MODEL_c26213718c3f4f78b21235272feb6197",
        "IPY_MODEL_2ae8a4978aac41e4a90616ead3b20925",
        "IPY_MODEL_3156acc84a624b23b0240a8a182dc9f6"
       ],
       "layout": "IPY_MODEL_4dff7e5d8541436887da3332df70ebb2"
      }
     },
     "24a07dde6fb34d37b73602eacfa82163": {
      "model_module": "@jupyter-widgets/controls",
      "model_module_version": "1.5.0",
      "model_name": "ButtonModel",
      "state": {
       "description": "Keine der anderen Möglichkeiten",
       "layout": "IPY_MODEL_e3acd19f19c94353a2d26a136d08d713",
       "style": "IPY_MODEL_d811ba59939c475db08bc8d6b74625b2"
      }
     },
     "24d876f8ee634c33b6a434d499a6def3": {
      "model_module": "@jupyter-widgets/controls",
      "model_module_version": "1.5.0",
      "model_name": "ButtonModel",
      "state": {
       "description": "Wissen um Sprachstruktur",
       "layout": "IPY_MODEL_472f370d9d3a44d4be8bb722ef1637bb",
       "style": "IPY_MODEL_22a011688ff54f0ca08053b48c30c13d"
      }
     },
     "24db33051467467593ac41c9a8313b15": {
      "model_module": "@jupyter-widgets/controls",
      "model_module_version": "1.5.0",
      "model_name": "DescriptionStyleModel",
      "state": {
       "description_width": "initial"
      }
     },
     "24fc459707f5422bb71e6650d9c811ea": {
      "model_module": "@jupyter-widgets/controls",
      "model_module_version": "1.5.0",
      "model_name": "ButtonStyleModel",
      "state": {}
     },
     "24fe88dd5c154bbebe54b9911766d105": {
      "model_module": "@jupyter-widgets/controls",
      "model_module_version": "1.5.0",
      "model_name": "CheckboxModel",
      "state": {
       "description": "Nomen ist Dependent einer NP-Phrase",
       "disabled": false,
       "layout": "IPY_MODEL_cd712c7735144ce396c76c521cdd85a1",
       "style": "IPY_MODEL_82317046611a4e0db1c806b9da510a92",
       "value": false
      }
     },
     "2546fe2a30dc46f5b29fdc2c8039a595": {
      "model_module": "@jupyter-widgets/base",
      "model_module_version": "1.2.0",
      "model_name": "LayoutModel",
      "state": {
       "justify_content": "center"
      }
     },
     "254d93369a9c420093103776af7bd82e": {
      "model_module": "@jupyter-widgets/controls",
      "model_module_version": "1.5.0",
      "model_name": "VBoxModel",
      "state": {
       "children": [
        "IPY_MODEL_0750486c6be84488b38209fc3fe7d77e",
        "IPY_MODEL_48de7bb458cc4deda85a291d09826a52",
        "IPY_MODEL_2495df997aaf4ff0ba0c82b46c8b3efe",
        "IPY_MODEL_53b27510761f4b9a86f36c97c5c5333d"
       ],
       "layout": "IPY_MODEL_e5791390ac204f4190dfd5807877b826"
      }
     },
     "254f06616a52421983780c07529796ff": {
      "model_module": "@jupyter-widgets/controls",
      "model_module_version": "1.5.0",
      "model_name": "HTMLModel",
      "state": {
       "layout": "IPY_MODEL_f405cfaaf8bd4e5392836921ae14dc4d",
       "style": "IPY_MODEL_159c5cba05364ee18cd655926e3b87bb",
       "value": "<i>Wählen Sie die <ins>eine</ins> korrekte Antwort aus: </i>"
      }
     },
     "25a62ffff6bb4eaa9cc4e82aacc64963": {
      "model_module": "@jupyter-widgets/controls",
      "model_module_version": "1.5.0",
      "model_name": "DescriptionStyleModel",
      "state": {
       "description_width": ""
      }
     },
     "26e67868f4b64d579c9481a8d7befb8c": {
      "model_module": "@jupyter-widgets/controls",
      "model_module_version": "1.5.0",
      "model_name": "DescriptionStyleModel",
      "state": {
       "description_width": ""
      }
     },
     "26e86e8ce64e434c90066cf455c40cdf": {
      "model_module": "@jupyter-widgets/controls",
      "model_module_version": "1.5.0",
      "model_name": "HTMLModel",
      "state": {
       "layout": "IPY_MODEL_8090f6538a1745439db3d227f9b8911b",
       "style": "IPY_MODEL_75083c11ac4b4c5e825204a18f382f2d",
       "value": "<i>Wählen Sie die <ins>eine</ins> korrekte Antwort aus: </i>"
      }
     },
     "26e929e81c0746e28db7cf32f57f634d": {
      "model_module": "@jupyter-widgets/controls",
      "model_module_version": "1.5.0",
      "model_name": "DescriptionStyleModel",
      "state": {
       "description_width": ""
      }
     },
     "26eeb7ed9c964f8299516264dbb1731e": {
      "model_module": "@jupyter-widgets/controls",
      "model_module_version": "1.5.0",
      "model_name": "ButtonStyleModel",
      "state": {}
     },
     "274649bfcbfc4061b0973081c327dfe7": {
      "model_module": "@jupyter-widgets/controls",
      "model_module_version": "1.5.0",
      "model_name": "VBoxModel",
      "state": {
       "children": [
        "IPY_MODEL_d376de5957504db3a473daa644394496",
        "IPY_MODEL_862dfe53b7b14849930bc56aab3d51e1",
        "IPY_MODEL_2d313140d03e4fe6b391c2ea09cbec5b",
        "IPY_MODEL_f5ccea2227184321a9fecbe0d05388cc",
        "IPY_MODEL_a7b9155f55254cde9ad1f4a5507ad8bd"
       ],
       "layout": "IPY_MODEL_936e1fcb1827421b9f228edd23d07907"
      }
     },
     "27528c8d4ded4d8eb9342951805a304d": {
      "model_module": "@jupyter-widgets/controls",
      "model_module_version": "1.5.0",
      "model_name": "HBoxModel",
      "state": {
       "children": [
        "IPY_MODEL_d3ffcbc772bd4478b596ee9381423b33"
       ],
       "layout": "IPY_MODEL_085ac38e990c411faebe00375b24b05e"
      }
     },
     "279115e0a3a647c482b376853081fa15": {
      "model_module": "@jupyter-widgets/controls",
      "model_module_version": "1.5.0",
      "model_name": "CheckboxModel",
      "state": {
       "description": "Objekt-Nominalphrase",
       "disabled": false,
       "layout": "IPY_MODEL_8a47a1dbd95f4038b8dbc6e9c6e1ee9a",
       "style": "IPY_MODEL_8d82e03e93814983bae71b186aa8edc1",
       "value": false
      }
     },
     "27bcef7fee714fbeabb90afd301af6ef": {
      "model_module": "@jupyter-widgets/base",
      "model_module_version": "1.2.0",
      "model_name": "LayoutModel",
      "state": {
       "justify_content": "center"
      }
     },
     "27cf857bab86419ea89157fa3edf9f17": {
      "model_module": "@jupyter-widgets/controls",
      "model_module_version": "1.5.0",
      "model_name": "ButtonModel",
      "state": {
       "description": "formale Grammatik",
       "layout": "IPY_MODEL_66715f036f31402199f43c10dacf14ff",
       "style": "IPY_MODEL_24fc459707f5422bb71e6650d9c811ea"
      }
     },
     "27ecb1ed9b8c4d35ad9f67ff4f9acec9": {
      "model_module": "@jupyter-widgets/controls",
      "model_module_version": "1.5.0",
      "model_name": "ButtonStyleModel",
      "state": {}
     },
     "27f66cbef8c549d5a47e4fafd7351b24": {
      "model_module": "@jupyter-widgets/controls",
      "model_module_version": "1.5.0",
      "model_name": "ButtonStyleModel",
      "state": {}
     },
     "285f2a1d2a394e4cb2d2abecb135d9ec": {
      "model_module": "@jupyter-widgets/controls",
      "model_module_version": "1.5.0",
      "model_name": "DropdownModel",
      "state": {
       "_options_labels": [
        "morphologischen",
        "phonologischen",
        "semantischen",
        "syntaktischen",
        " "
       ],
       "index": 3,
       "layout": "IPY_MODEL_5f0d94ad211b46b390fcf5501fbef6c4",
       "style": "IPY_MODEL_a7566ec2e4cf4ec585960a3ed4e83675"
      }
     },
     "289d17a422444a9e83aba2414ca9edaa": {
      "model_module": "@jupyter-widgets/base",
      "model_module_version": "1.2.0",
      "model_name": "LayoutModel",
      "state": {}
     },
     "28b36cfedd2746f49cc1d85b30a4da59": {
      "model_module": "@jupyter-widgets/controls",
      "model_module_version": "1.5.0",
      "model_name": "ButtonStyleModel",
      "state": {}
     },
     "28c316533c29443f92c02410dfb3eca5": {
      "model_module": "@jupyter-widgets/controls",
      "model_module_version": "1.5.0",
      "model_name": "CheckboxModel",
      "state": {
       "description": "Korrektheit",
       "disabled": false,
       "layout": "IPY_MODEL_57d77d346cb14c54a9226c03a208368b",
       "style": "IPY_MODEL_8cfac20491f748c8b4c81ecfb0249974",
       "value": false
      }
     },
     "28e0c43f94204de2a2154acbc5cddc53": {
      "model_module": "@jupyter-widgets/controls",
      "model_module_version": "1.5.0",
      "model_name": "ButtonStyleModel",
      "state": {
       "button_color": "lightgreen"
      }
     },
     "29266c7f61b24e9f8a0383280bfe1c21": {
      "model_module": "@jupyter-widgets/controls",
      "model_module_version": "1.5.0",
      "model_name": "DescriptionStyleModel",
      "state": {
       "description_width": ""
      }
     },
     "292e262d6f8f4ea0a55b8e6df90c8011": {
      "model_module": "@jupyter-widgets/base",
      "model_module_version": "1.2.0",
      "model_name": "LayoutModel",
      "state": {
       "width": "250px"
      }
     },
     "29638577b7e54b59889e1eaddf001758": {
      "model_module": "@jupyter-widgets/controls",
      "model_module_version": "1.5.0",
      "model_name": "VBoxModel",
      "state": {
       "children": [
        "IPY_MODEL_3e5bae4382cb449ab88a2acdb5f98de1",
        "IPY_MODEL_586c69f30d0e42efad07f56e0ef23915",
        "IPY_MODEL_a84431890db24c31881a2bb1eddeb3d9",
        "IPY_MODEL_c40472af05b24e76badd4c0223ca6516"
       ],
       "layout": "IPY_MODEL_74fe5dd392f0423982c017a996218480"
      }
     },
     "296bc388a7ed4ee58ccd4aa5c0d133ef": {
      "model_module": "@jupyter-widgets/controls",
      "model_module_version": "1.5.0",
      "model_name": "HBoxModel",
      "state": {
       "children": [
        "IPY_MODEL_0176269331a743339bd8a69276f81cc8",
        "IPY_MODEL_b5050914d71b4224b50937d87b6c37d2"
       ],
       "layout": "IPY_MODEL_ea1191899afd42afa3aa863f8245d421"
      }
     },
     "29a3f5b75edd4889b0bb884ccde37514": {
      "model_module": "@jupyter-widgets/base",
      "model_module_version": "1.2.0",
      "model_name": "LayoutModel",
      "state": {
       "width": "600px"
      }
     },
     "29b268c2eede4510a8223cbcced0592a": {
      "model_module": "@jupyter-widgets/base",
      "model_module_version": "1.2.0",
      "model_name": "LayoutModel",
      "state": {}
     },
     "29c30ec5a9fa43a7947e07240251f19b": {
      "model_module": "@jupyter-widgets/base",
      "model_module_version": "1.2.0",
      "model_name": "LayoutModel",
      "state": {}
     },
     "2a2114b449bf4906a12ee7b64b24b50c": {
      "model_module": "@jupyter-widgets/controls",
      "model_module_version": "1.5.0",
      "model_name": "ButtonModel",
      "state": {
       "description": "strukturelle Ambiguität",
       "layout": "IPY_MODEL_49b2f369a1994a19ada1ba814f05790e",
       "style": "IPY_MODEL_ac7291ab8e2749e187518f3c54c1c716"
      }
     },
     "2a2e1da44c1f4192ab1ca4ca3f000ecb": {
      "model_module": "@jupyter-widgets/controls",
      "model_module_version": "1.5.0",
      "model_name": "ButtonModel",
      "state": {
       "description": "lexikalische Ambiguität",
       "layout": "IPY_MODEL_14051a7101724ae481ae1b7983a39a95",
       "style": "IPY_MODEL_2db66b376bea4057ac42e22f09564792"
      }
     },
     "2a2f5c180e994d1a80849ed3efba9e03": {
      "model_module": "@jupyter-widgets/controls",
      "model_module_version": "1.5.0",
      "model_name": "DescriptionStyleModel",
      "state": {
       "description_width": ""
      }
     },
     "2a6de1c2e2ff44bfb63698c87c43062c": {
      "model_module": "@jupyter-widgets/base",
      "model_module_version": "1.2.0",
      "model_name": "LayoutModel",
      "state": {
       "width": "250px"
      }
     },
     "2a742555ba6d4208af76ab8822968f90": {
      "model_module": "@jupyter-widgets/controls",
      "model_module_version": "1.5.0",
      "model_name": "ButtonModel",
      "state": {
       "description": "Attribut",
       "layout": "IPY_MODEL_0fc0b331593c409296fbad8116e79d2e",
       "style": "IPY_MODEL_a0e1115fb8884e1d9db73be04bb90615"
      }
     },
     "2a7a356eb4ba415397f512291d6a2e75": {
      "model_module": "@jupyter-widgets/controls",
      "model_module_version": "1.5.0",
      "model_name": "HTMLModel",
      "state": {
       "layout": "IPY_MODEL_b09790e962434df09c46d5ddae8649ac",
       "style": "IPY_MODEL_26e929e81c0746e28db7cf32f57f634d",
       "value": "<i>Wählen Sie die <ins>eine</ins> korrekte Antwort aus: </i>"
      }
     },
     "2a7a57adf7b84015a6e2ead12c250ceb": {
      "model_module": "@jupyter-widgets/controls",
      "model_module_version": "1.5.0",
      "model_name": "ButtonModel",
      "state": {
       "description": "Regelsystem",
       "layout": "IPY_MODEL_2c0e0ad511044db3bfc37c85e4f38255",
       "style": "IPY_MODEL_e60b0b3278fb4baca9c4162288a92663"
      }
     },
     "2ab103702d63474284d4cde8cbb03ee1": {
      "model_module": "@jupyter-widgets/controls",
      "model_module_version": "1.5.0",
      "model_name": "DescriptionStyleModel",
      "state": {
       "description_width": ""
      }
     },
     "2ab2af8a52ac4b2d8cc5ee0a9ee5ec3b": {
      "model_module": "@jupyter-widgets/controls",
      "model_module_version": "1.5.0",
      "model_name": "HTMLModel",
      "state": {
       "layout": "IPY_MODEL_43bd5e7b61c8457ab61d2665e1e85bc2",
       "style": "IPY_MODEL_56789c94e5ab418aaaa54097fdd8e1c2",
       "value": "<i>Wählen Sie die <ins>eine</ins> korrekte Antwort aus: </i>"
      }
     },
     "2abdf3adc6f545f3bbfcb4c96e318ce8": {
      "model_module": "@jupyter-widgets/base",
      "model_module_version": "1.2.0",
      "model_name": "LayoutModel",
      "state": {
       "width": "250px"
      }
     },
     "2ae5af58844649de88f6383ccc5389ed": {
      "model_module": "@jupyter-widgets/base",
      "model_module_version": "1.2.0",
      "model_name": "LayoutModel",
      "state": {
       "width": "600px"
      }
     },
     "2ae8a4978aac41e4a90616ead3b20925": {
      "model_module": "@jupyter-widgets/controls",
      "model_module_version": "1.5.0",
      "model_name": "CheckboxModel",
      "state": {
       "description": "semantische",
       "disabled": false,
       "layout": "IPY_MODEL_b417e16c768348f98fa2f39a1a4302b9",
       "style": "IPY_MODEL_4c8b41d621e34e40a6ebf7917d9ab39d",
       "value": false
      }
     },
     "2af8a1eea77d451bafd306509fa08a1b": {
      "model_module": "@jupyter-widgets/controls",
      "model_module_version": "1.5.0",
      "model_name": "ButtonModel",
      "state": {
       "description": "lexikalische Ambiguität",
       "layout": "IPY_MODEL_ba3471e7319c4988b91092455a229ef0",
       "style": "IPY_MODEL_e28f63be36b3424792ebff03ecbb9ef7"
      }
     },
     "2b3109645a1e4f1aa01be5b6ebaf8b31": {
      "model_module": "@jupyter-widgets/base",
      "model_module_version": "1.2.0",
      "model_name": "LayoutModel",
      "state": {}
     },
     "2b469d5003094566922e944c23c1199e": {
      "model_module": "@jupyter-widgets/controls",
      "model_module_version": "1.5.0",
      "model_name": "ButtonModel",
      "state": {
       "description": "Korrekt?",
       "layout": "IPY_MODEL_0d381c60935642169337cba0fefbf279",
       "style": "IPY_MODEL_69ca504958074523977450ad166992d5"
      }
     },
     "2b59a963fa2c4c39b095c1142a386f93": {
      "model_module": "@jupyter-widgets/controls",
      "model_module_version": "1.5.0",
      "model_name": "DescriptionStyleModel",
      "state": {
       "description_width": "initial"
      }
     },
     "2b92e8febf004483b96887499802fd22": {
      "model_module": "@jupyter-widgets/base",
      "model_module_version": "1.2.0",
      "model_name": "LayoutModel",
      "state": {
       "width": "250px"
      }
     },
     "2b9af090d61d4ab6a2ed9a53d76592b4": {
      "model_module": "@jupyter-widgets/base",
      "model_module_version": "1.2.0",
      "model_name": "LayoutModel",
      "state": {}
     },
     "2bafb69bc69f4589b0c96db279c46fde": {
      "model_module": "@jupyter-widgets/controls",
      "model_module_version": "1.5.0",
      "model_name": "HTMLModel",
      "state": {
       "layout": "IPY_MODEL_881dcf142a244b7d8221d05dda9a017d",
       "style": "IPY_MODEL_7f51a1ab564041b8845e914c0ee2cfb2",
       "value": "<i>Wählen Sie die <ins>eine</ins> korrekte Antwort aus: </i>"
      }
     },
     "2bd5d27aa54d4a329be24fe67f96d0b2": {
      "model_module": "@jupyter-widgets/base",
      "model_module_version": "1.2.0",
      "model_name": "LayoutModel",
      "state": {
       "width": "250px"
      }
     },
     "2bd9a6efaf9a42ddbcf14e3338d9ed43": {
      "model_module": "@jupyter-widgets/controls",
      "model_module_version": "1.5.0",
      "model_name": "ButtonModel",
      "state": {
       "description": "Korrekt?",
       "layout": "IPY_MODEL_a09bdcb16bf1464994a208149d6900f1",
       "style": "IPY_MODEL_e7f64840ebfa4cc88a07369c7cc5e8f1"
      }
     },
     "2bdcaf82c6ee4a0b8e546638ebccafde": {
      "model_module": "@jupyter-widgets/base",
      "model_module_version": "1.2.0",
      "model_name": "LayoutModel",
      "state": {
       "width": "250px"
      }
     },
     "2c0e0ad511044db3bfc37c85e4f38255": {
      "model_module": "@jupyter-widgets/base",
      "model_module_version": "1.2.0",
      "model_name": "LayoutModel",
      "state": {
       "width": "250px"
      }
     },
     "2c214c8c02fc45fb985f6c8c9066e7fc": {
      "model_module": "@jupyter-widgets/controls",
      "model_module_version": "1.5.0",
      "model_name": "DescriptionStyleModel",
      "state": {
       "description_width": ""
      }
     },
     "2c594576b9804c4a9a4a4d4ce8e2f7a0": {
      "model_module": "@jupyter-widgets/base",
      "model_module_version": "1.2.0",
      "model_name": "LayoutModel",
      "state": {}
     },
     "2c9d4c537c6a4063ab23216a03c3d555": {
      "model_module": "@jupyter-widgets/controls",
      "model_module_version": "1.5.0",
      "model_name": "ButtonModel",
      "state": {
       "description": "Korrekt?",
       "layout": "IPY_MODEL_3743583e67fc459198f68d002a1e8e76",
       "style": "IPY_MODEL_2ec6fd7112604ffe9c0598842c0ac090"
      }
     },
     "2cbe85d8e5f14380b51dff9bb30ffd8d": {
      "model_module": "@jupyter-widgets/controls",
      "model_module_version": "1.5.0",
      "model_name": "ButtonModel",
      "state": {
       "description": "Korrekt?",
       "layout": "IPY_MODEL_4cf6a1cca91d4891972cc955cc16379f",
       "style": "IPY_MODEL_9121ab0aa23749cab42ed2db06db3cf2"
      }
     },
     "2d05ed5fdf8743d88d443905dc5dfd30": {
      "model_module": "@jupyter-widgets/controls",
      "model_module_version": "1.5.0",
      "model_name": "HTMLModel",
      "state": {
       "layout": "IPY_MODEL_624105aeb7d94cc495295884db089740",
       "style": "IPY_MODEL_cf1f62d7ead9461ba1b36d461e7881d2",
       "value": "<i>Markieren Sie <ins>alle</ins> passenden Antworten: </i>"
      }
     },
     "2d313140d03e4fe6b391c2ea09cbec5b": {
      "model_module": "@jupyter-widgets/controls",
      "model_module_version": "1.5.0",
      "model_name": "HBoxModel",
      "state": {
       "children": [
        "IPY_MODEL_8ee205b069654536a87e69aae7db01f9",
        "IPY_MODEL_d734668fcb37465bbf44a0c148618cd7"
       ],
       "layout": "IPY_MODEL_b4832569d7f74c329bb9411da9569f9d"
      }
     },
     "2d84f3a609d94fb78439c87edf79f5dd": {
      "model_module": "@jupyter-widgets/controls",
      "model_module_version": "1.5.0",
      "model_name": "HTMLModel",
      "state": {
       "layout": "IPY_MODEL_e0074f6531834f2284758f30714b5866",
       "style": "IPY_MODEL_2c214c8c02fc45fb985f6c8c9066e7fc",
       "value": "<h4 style=\"font-size:14px;\">der formalen Sprache; ein analysierter natürlichsprachlicher Satz ist ein in der formalen Grammatik ableitbares</h4>"
      }
     },
     "2da3f3a296644b5ca75b5cacbebfc570": {
      "model_module": "@jupyter-widgets/controls",
      "model_module_version": "1.5.0",
      "model_name": "ButtonModel",
      "state": {
       "description": "Korrekt?",
       "layout": "IPY_MODEL_85484fa895d44d53965f05bd7c62e837",
       "style": "IPY_MODEL_9ef3a4780a374d58b20595a749155a03"
      }
     },
     "2db66b376bea4057ac42e22f09564792": {
      "model_module": "@jupyter-widgets/controls",
      "model_module_version": "1.5.0",
      "model_name": "ButtonStyleModel",
      "state": {}
     },
     "2e045dfa772e4701978897350cbbad79": {
      "model_module": "@jupyter-widgets/base",
      "model_module_version": "1.2.0",
      "model_name": "LayoutModel",
      "state": {}
     },
     "2e32d550141641fda11a8e505d66b9ea": {
      "model_module": "@jupyter-widgets/controls",
      "model_module_version": "1.5.0",
      "model_name": "DescriptionStyleModel",
      "state": {
       "description_width": "initial"
      }
     },
     "2e3902db037148f6bef53b07c132c9e9": {
      "model_module": "@jupyter-widgets/controls",
      "model_module_version": "1.5.0",
      "model_name": "HTMLModel",
      "state": {
       "layout": "IPY_MODEL_86cfcdf5859e4afbb665ab83594c2caa",
       "style": "IPY_MODEL_7dc364615896469f9adfceb1f2c9ca26",
       "value": "<i>Wählen Sie die <ins>eine</ins> korrekte Antwort aus: </i>"
      }
     },
     "2e3bf986baf84ee3b2a2037a00011b90": {
      "model_module": "@jupyter-widgets/controls",
      "model_module_version": "1.5.0",
      "model_name": "ButtonStyleModel",
      "state": {}
     },
     "2e425644bddc4ca38fbc51ded423f191": {
      "model_module": "@jupyter-widgets/controls",
      "model_module_version": "1.5.0",
      "model_name": "HTMLModel",
      "state": {
       "layout": "IPY_MODEL_f09a26bb000e4c0598a9a0b7da46ba53",
       "style": "IPY_MODEL_1ce633567dcf4b30b201cada8437cb1f",
       "value": "<i>Wählen Sie die <ins>eine</ins> korrekte Antwort aus: </i>"
      }
     },
     "2e51b87d436546569f11d24fc470f6ca": {
      "model_module": "@jupyter-widgets/base",
      "model_module_version": "1.2.0",
      "model_name": "LayoutModel",
      "state": {
       "width": "250px"
      }
     },
     "2e5e718afd244e00ac00b58ebf29fb70": {
      "model_module": "@jupyter-widgets/controls",
      "model_module_version": "1.5.0",
      "model_name": "HBoxModel",
      "state": {
       "children": [
        "IPY_MODEL_22d8fe0bf83344b88a20d257f09d2d97",
        "IPY_MODEL_6a70b132c1fd4beea958516130f3e8a3"
       ],
       "layout": "IPY_MODEL_d02dbe58480d401f933975d4d6f7dca9"
      }
     },
     "2e755fa6bef44b3794950cd92e01fa4b": {
      "model_module": "@jupyter-widgets/controls",
      "model_module_version": "1.5.0",
      "model_name": "DescriptionStyleModel",
      "state": {
       "description_width": ""
      }
     },
     "2ea4e67bcc3145f895fffb0728d94596": {
      "model_module": "@jupyter-widgets/controls",
      "model_module_version": "1.5.0",
      "model_name": "HTMLModel",
      "state": {
       "layout": "IPY_MODEL_fcfcaaf27aeb4ac8979fc3c97b5bc27a",
       "style": "IPY_MODEL_2064b30de2674ccebb8061f9a0299abd",
       "value": "<h4 style=\"font-size:14px;\">In welcher Form wird die syntaktische Struktur eines Satzes beim Aufruf von NLTK tree.draw() erstellt?</h4>"
      }
     },
     "2eb74fc160144d2ba8e61d1459e4dc79": {
      "model_module": "@jupyter-widgets/controls",
      "model_module_version": "1.5.0",
      "model_name": "HTMLModel",
      "state": {
       "layout": "IPY_MODEL_289d17a422444a9e83aba2414ca9edaa",
       "style": "IPY_MODEL_2fe0744b6f3a43b29483e3fed0417e26",
       "value": "<h4 style=\"font-size:14px;\">Welche Vorteile hat die Modellierung der Satzstruktur mit Hilfe einer formalen Grammatik?</h4>"
      }
     },
     "2ec6fd7112604ffe9c0598842c0ac090": {
      "model_module": "@jupyter-widgets/controls",
      "model_module_version": "1.5.0",
      "model_name": "ButtonStyleModel",
      "state": {
       "button_color": "lightgreen"
      }
     },
     "2eea8dde76784eec95e6b0a0b4afa841": {
      "model_module": "@jupyter-widgets/controls",
      "model_module_version": "1.5.0",
      "model_name": "VBoxModel",
      "state": {
       "children": [
        "IPY_MODEL_da93f9d1851d4184b6b73340988c17df",
        "IPY_MODEL_bca2a101f1bd4069bd094d102a729c99",
        "IPY_MODEL_39bfc69da4c94434b9302b04338712ca",
        "IPY_MODEL_c38220c06b944538a8abdcb86b684e81"
       ],
       "layout": "IPY_MODEL_29c30ec5a9fa43a7947e07240251f19b"
      }
     },
     "2f2d5dcb5e8740988631292538836085": {
      "model_module": "@jupyter-widgets/base",
      "model_module_version": "1.2.0",
      "model_name": "LayoutModel",
      "state": {
       "width": "150px"
      }
     },
     "2fa9d7a684f04d2aa8c97430fc8dc3a5": {
      "model_module": "@jupyter-widgets/base",
      "model_module_version": "1.2.0",
      "model_name": "LayoutModel",
      "state": {
       "justify_content": "center"
      }
     },
     "2fe0744b6f3a43b29483e3fed0417e26": {
      "model_module": "@jupyter-widgets/controls",
      "model_module_version": "1.5.0",
      "model_name": "DescriptionStyleModel",
      "state": {
       "description_width": ""
      }
     },
     "2ff601b42ed04406a1034c04be23d350": {
      "model_module": "@jupyter-widgets/controls",
      "model_module_version": "1.5.0",
      "model_name": "HBoxModel",
      "state": {
       "children": [
        "IPY_MODEL_087b8940cdef4e2394fc5cc29f54fc5d"
       ],
       "layout": "IPY_MODEL_57bc35d8b8ac4264933c4d405438e936"
      }
     },
     "3011e1573d63449191b5afd44feb29ab": {
      "model_module": "@jupyter-widgets/base",
      "model_module_version": "1.2.0",
      "model_name": "LayoutModel",
      "state": {
       "justify_content": "center"
      }
     },
     "3017ab203cf74334b8e4e83be6762e8c": {
      "model_module": "@jupyter-widgets/controls",
      "model_module_version": "1.5.0",
      "model_name": "CheckboxModel",
      "state": {
       "description": "Konstituentenbaum mit Phrasenlabels als Knoten",
       "disabled": false,
       "layout": "IPY_MODEL_370a1b076fd84164b4ac71e619753667",
       "style": "IPY_MODEL_7214436543fc4bca807fd5ab7b435bab",
       "value": false
      }
     },
     "303d77bba09a4d64b78025a633787ba5": {
      "model_module": "@jupyter-widgets/controls",
      "model_module_version": "1.5.0",
      "model_name": "DescriptionStyleModel",
      "state": {
       "description_width": ""
      }
     },
     "30563dbb4e12412ea539cf5a99d23354": {
      "model_module": "@jupyter-widgets/controls",
      "model_module_version": "1.5.0",
      "model_name": "ButtonStyleModel",
      "state": {}
     },
     "30bea0001e2e43f3ad3719da73b91e1f": {
      "model_module": "@jupyter-widgets/controls",
      "model_module_version": "1.5.0",
      "model_name": "VBoxModel",
      "state": {
       "children": [
        "IPY_MODEL_a61e7eb068dc4c1eae0a0312838d3e41",
        "IPY_MODEL_8236fb73160e41ad9e6a9a917f82061d",
        "IPY_MODEL_5fc7f37994e3417091559b4acc80548a"
       ],
       "layout": "IPY_MODEL_3d2a8a72fb1b483492321817c726a377"
      }
     },
     "30c866d2c06f485386daaaf4560baac5": {
      "model_module": "@jupyter-widgets/controls",
      "model_module_version": "1.5.0",
      "model_name": "HTMLModel",
      "state": {
       "layout": "IPY_MODEL_f6c62f8a32bd4c79afef42f982bcbc28",
       "style": "IPY_MODEL_c6ace11bba2e4e29bc770aebf1811719",
       "value": "<h4 style=\"font-size:14px;\">Die ________ eines Satzes bzgl. der formalen Grammatik wird erkannt.</h4>"
      }
     },
     "310a0b2138d24c3f9dfad3aa4750e28e": {
      "model_module": "@jupyter-widgets/base",
      "model_module_version": "1.2.0",
      "model_name": "LayoutModel",
      "state": {
       "width": "250px"
      }
     },
     "3151d25726b044658736b75b22f04a5d": {
      "model_module": "@jupyter-widgets/controls",
      "model_module_version": "1.5.0",
      "model_name": "VBoxModel",
      "state": {
       "children": [
        "IPY_MODEL_1f19a1be716a40348a4a3fe8f1433ddf",
        "IPY_MODEL_a45079fdd2fa4a3aaa52b61d8dfabd24",
        "IPY_MODEL_506ad3e1f5d54905a078ffbd8437e893"
       ],
       "layout": "IPY_MODEL_a3748e3a672a4629871b647ca84c1c88"
      }
     },
     "3156acc84a624b23b0240a8a182dc9f6": {
      "model_module": "@jupyter-widgets/controls",
      "model_module_version": "1.5.0",
      "model_name": "CheckboxModel",
      "state": {
       "description": "syntaktische",
       "disabled": false,
       "layout": "IPY_MODEL_d4245026065a4b91982c558add2920ae",
       "style": "IPY_MODEL_a1cf00bb2f7b426398e7bbc3457f89a6",
       "value": false
      }
     },
     "319532e9722b4cb6be9144e1e1df4363": {
      "model_module": "@jupyter-widgets/controls",
      "model_module_version": "1.5.0",
      "model_name": "HTMLModel",
      "state": {
       "layout": "IPY_MODEL_22ba6c4999c1409da6c6b88aa8819314",
       "style": "IPY_MODEL_c5ca272c3b5643bf9f353a9ed8eaeb53",
       "value": "<h4 style=\"font-size:14px;\">Welche Funktion innerhalb der Gerund-Nomen-Phrase nimmt das Nomen ein, wenn das Gerund Kopf dieser Phrase ist?</h4>"
      }
     },
     "31a3826b3e9d44b48da49d23c2e4275e": {
      "model_module": "@jupyter-widgets/controls",
      "model_module_version": "1.5.0",
      "model_name": "DescriptionStyleModel",
      "state": {
       "description_width": ""
      }
     },
     "31fe08d4dc734537b48fe54c9ca75be0": {
      "model_module": "@jupyter-widgets/controls",
      "model_module_version": "1.5.0",
      "model_name": "DescriptionStyleModel",
      "state": {
       "description_width": ""
      }
     },
     "32275bc7f02b4ed6bc96960c524bbaea": {
      "model_module": "@jupyter-widgets/base",
      "model_module_version": "1.2.0",
      "model_name": "LayoutModel",
      "state": {
       "width": "600px"
      }
     },
     "3259ffb4a6984ac0ac43d8c07098b580": {
      "model_module": "@jupyter-widgets/controls",
      "model_module_version": "1.5.0",
      "model_name": "ButtonStyleModel",
      "state": {}
     },
     "329775c073fa4ed487b927158e210a48": {
      "model_module": "@jupyter-widgets/base",
      "model_module_version": "1.2.0",
      "model_name": "LayoutModel",
      "state": {
       "width": "600px"
      }
     },
     "32983a4132bc4e658806720f4ae21269": {
      "model_module": "@jupyter-widgets/controls",
      "model_module_version": "1.5.0",
      "model_name": "ButtonStyleModel",
      "state": {}
     },
     "32aa450bdeb0498f82ef90a0c1662ba6": {
      "model_module": "@jupyter-widgets/controls",
      "model_module_version": "1.5.0",
      "model_name": "DescriptionStyleModel",
      "state": {
       "description_width": ""
      }
     },
     "32e5f6d3343640729cf8ba6d836670ba": {
      "model_module": "@jupyter-widgets/controls",
      "model_module_version": "1.5.0",
      "model_name": "HTMLModel",
      "state": {
       "layout": "IPY_MODEL_3c8d312f4b5e418fad8dc45e6d22c5e1",
       "style": "IPY_MODEL_410009dbb16e450ababece95e04c3489",
       "value": "<i>Wählen Sie die <ins>eine</ins> korrekte Antwort aus: </i>"
      }
     },
     "32e8f6f81c1740ae859b3ed87a515dea": {
      "model_module": "@jupyter-widgets/controls",
      "model_module_version": "1.5.0",
      "model_name": "ButtonModel",
      "state": {
       "description": "Subjekt",
       "layout": "IPY_MODEL_34c113e60b8544b6b61596d5343cb649",
       "style": "IPY_MODEL_d5cc9da7cca642388ef7374df6f2215a"
      }
     },
     "3308505b8daa45aaad8b3760cfc3bade": {
      "model_module": "@jupyter-widgets/controls",
      "model_module_version": "1.5.0",
      "model_name": "HBoxModel",
      "state": {
       "children": [
        "IPY_MODEL_04a4dc13921e441fad6c3626b4c1256c",
        "IPY_MODEL_b9037b0fe52344ca84d016455dda7652"
       ],
       "layout": "IPY_MODEL_bd2d393983774fe8a8df39d833a4a18c"
      }
     },
     "332bd6649d3c49c4904abbd082bf421c": {
      "model_module": "@jupyter-widgets/base",
      "model_module_version": "1.2.0",
      "model_name": "LayoutModel",
      "state": {}
     },
     "333dfea6102247a6b3b38d4e033bd94c": {
      "model_module": "@jupyter-widgets/base",
      "model_module_version": "1.2.0",
      "model_name": "LayoutModel",
      "state": {
       "width": "250px"
      }
     },
     "335b53eede324ccb92068f3e8dde6ae0": {
      "model_module": "@jupyter-widgets/controls",
      "model_module_version": "1.5.0",
      "model_name": "ButtonStyleModel",
      "state": {}
     },
     "337c260e24a14356b477ddbccf2c5df4": {
      "model_module": "@jupyter-widgets/base",
      "model_module_version": "1.2.0",
      "model_name": "LayoutModel",
      "state": {
       "width": "250px"
      }
     },
     "339ffb70ca44493399d1b29ff36c9de9": {
      "model_module": "@jupyter-widgets/base",
      "model_module_version": "1.2.0",
      "model_name": "LayoutModel",
      "state": {
       "width": "600px"
      }
     },
     "33fb5cda8bde4c9483083151fa7b3a25": {
      "model_module": "@jupyter-widgets/base",
      "model_module_version": "1.2.0",
      "model_name": "LayoutModel",
      "state": {}
     },
     "3460c6188cdd43edb845b14e302b5979": {
      "model_module": "@jupyter-widgets/base",
      "model_module_version": "1.2.0",
      "model_name": "LayoutModel",
      "state": {}
     },
     "348396b986c74b299f6a643a88e07784": {
      "model_module": "@jupyter-widgets/controls",
      "model_module_version": "1.5.0",
      "model_name": "ButtonModel",
      "state": {
       "description": "mehr als ein",
       "layout": "IPY_MODEL_e3e59c3a018f43d49e4d559d340b6a9c",
       "style": "IPY_MODEL_26eeb7ed9c964f8299516264dbb1731e"
      }
     },
     "34860b9c4e1e4c98b8d81b135ac6e1e9": {
      "model_module": "@jupyter-widgets/base",
      "model_module_version": "1.2.0",
      "model_name": "LayoutModel",
      "state": {}
     },
     "34919a5cabfd4fac973a1c8846f8d605": {
      "model_module": "@jupyter-widgets/base",
      "model_module_version": "1.2.0",
      "model_name": "LayoutModel",
      "state": {
       "width": "600px"
      }
     },
     "349e2920b35f4f19bde418482021e9bd": {
      "model_module": "@jupyter-widgets/controls",
      "model_module_version": "1.5.0",
      "model_name": "ButtonModel",
      "state": {
       "description": "Theorie der Sprachstruktur",
       "layout": "IPY_MODEL_41626fbf107e4cdaa003240e41499a4d",
       "style": "IPY_MODEL_fdfbfdad881e412c961f32c200dafbd5"
      }
     },
     "34c113e60b8544b6b61596d5343cb649": {
      "model_module": "@jupyter-widgets/base",
      "model_module_version": "1.2.0",
      "model_name": "LayoutModel",
      "state": {
       "width": "250px"
      }
     },
     "34c7b8daec7e47c4ab12526cdac0f0d3": {
      "model_module": "@jupyter-widgets/controls",
      "model_module_version": "1.5.0",
      "model_name": "HBoxModel",
      "state": {
       "children": [
        "IPY_MODEL_2a742555ba6d4208af76ab8822968f90",
        "IPY_MODEL_6ec90d851f124c56bbcddae4cb5b023d"
       ],
       "layout": "IPY_MODEL_848fbd6ec0184d56b22c6eb61ca8d626"
      }
     },
     "34cdc6500eb44e6b93cc78ff67a8b74e": {
      "model_module": "@jupyter-widgets/controls",
      "model_module_version": "1.5.0",
      "model_name": "DescriptionStyleModel",
      "state": {
       "description_width": ""
      }
     },
     "34da5ccf21d14c90a51fc9e3298a8751": {
      "model_module": "@jupyter-widgets/base",
      "model_module_version": "1.2.0",
      "model_name": "LayoutModel",
      "state": {}
     },
     "34ebfd604c0d4f4dbda757b6422e0cf9": {
      "model_module": "@jupyter-widgets/controls",
      "model_module_version": "1.5.0",
      "model_name": "HTMLModel",
      "state": {
       "layout": "IPY_MODEL_61b1ba1f34a645f88d8149fb7dca0cd0",
       "style": "IPY_MODEL_cc939fae13414bacbc89994bb4bd15f5",
       "value": "<h4 style=\"font-size:14px;\">Was sind die 3 grundlegenden Beschreibungsebenen der Grammatik natürlicher Sprachen?</h4>"
      }
     },
     "350b9640db6545dcb7a27b81204bb384": {
      "model_module": "@jupyter-widgets/controls",
      "model_module_version": "1.5.0",
      "model_name": "HBoxModel",
      "state": {
       "children": [
        "IPY_MODEL_2af8a1eea77d451bafd306509fa08a1b",
        "IPY_MODEL_8f8aecf4fce74f24b50e3a8e2761571c"
       ],
       "layout": "IPY_MODEL_7f140405db064ad5a5b042227b68dd22"
      }
     },
     "35783b055b3945b7971720889ed00e16": {
      "model_module": "@jupyter-widgets/base",
      "model_module_version": "1.2.0",
      "model_name": "LayoutModel",
      "state": {}
     },
     "35b4ee73e101445d948470dca3ff8088": {
      "model_module": "@jupyter-widgets/base",
      "model_module_version": "1.2.0",
      "model_name": "LayoutModel",
      "state": {
       "width": "600px"
      }
     },
     "35c9b1ac55464cbebe13b17dd6978e2b": {
      "model_module": "@jupyter-widgets/base",
      "model_module_version": "1.2.0",
      "model_name": "LayoutModel",
      "state": {}
     },
     "35d7aa5781564d7a843bd8bcedff2285": {
      "model_module": "@jupyter-widgets/controls",
      "model_module_version": "1.5.0",
      "model_name": "CheckboxModel",
      "state": {
       "description": "Satzebene, Textebene, Bedeutungsebene",
       "disabled": false,
       "layout": "IPY_MODEL_34919a5cabfd4fac973a1c8846f8d605",
       "style": "IPY_MODEL_e1f63d0726fa4e7b9f85a6a411ab3421",
       "value": false
      }
     },
     "35fc369be52544aca3c655a31e401e5f": {
      "model_module": "@jupyter-widgets/base",
      "model_module_version": "1.2.0",
      "model_name": "LayoutModel",
      "state": {}
     },
     "361ed22d3c284156b9f5c4287a6ad7a4": {
      "model_module": "@jupyter-widgets/controls",
      "model_module_version": "1.5.0",
      "model_name": "HTMLModel",
      "state": {
       "layout": "IPY_MODEL_52be5d6bffa64f828ab39cc04353c9dd",
       "style": "IPY_MODEL_07aa9da0a3c44f66b62ae8d064f5606c",
       "value": "<h4 style=\"font-size:14px;\">Welche Typen von Syntaxbäumen (auch: Parsebäume, Ableitungsbäume) wurden gezeigt?</h4>"
      }
     },
     "3622f4e48aac470eb7011297eedccf91": {
      "model_module": "@jupyter-widgets/controls",
      "model_module_version": "1.5.0",
      "model_name": "ButtonStyleModel",
      "state": {}
     },
     "3647f051cda6405891c9752a0fc17752": {
      "model_module": "@jupyter-widgets/controls",
      "model_module_version": "1.5.0",
      "model_name": "ButtonStyleModel",
      "state": {}
     },
     "365be866f4484126bf50058e268751dc": {
      "model_module": "@jupyter-widgets/controls",
      "model_module_version": "1.5.0",
      "model_name": "CheckboxModel",
      "state": {
       "description": "Nomen ist Dependent in einem nichtfiniten Teilsatz",
       "disabled": false,
       "layout": "IPY_MODEL_ec930c26f1a0459db85bb8d53dcbf2d4",
       "style": "IPY_MODEL_7438bf728ae143488bee2730a62e09f9",
       "value": false
      }
     },
     "366245b16bce407ab47ec31b7b0498ca": {
      "model_module": "@jupyter-widgets/base",
      "model_module_version": "1.2.0",
      "model_name": "LayoutModel",
      "state": {
       "width": "600px"
      }
     },
     "366588bd3f4f4c46b1e89956c9cc943c": {
      "model_module": "@jupyter-widgets/base",
      "model_module_version": "1.2.0",
      "model_name": "LayoutModel",
      "state": {
       "width": "250px"
      }
     },
     "367cbfafc7cb4b2eb317e19d7437d82c": {
      "model_module": "@jupyter-widgets/base",
      "model_module_version": "1.2.0",
      "model_name": "LayoutModel",
      "state": {
       "width": "250px"
      }
     },
     "3689d9ceb3ee4ee1a86a58f0366a6fad": {
      "model_module": "@jupyter-widgets/controls",
      "model_module_version": "1.5.0",
      "model_name": "HBoxModel",
      "state": {
       "children": [
        "IPY_MODEL_e19e3d34dd1841e9a3b7540702765296",
        "IPY_MODEL_53d295405eb04d4583defa00283bc7bf"
       ],
       "layout": "IPY_MODEL_9a14644a2613491fbf20e9bfa62349ae"
      }
     },
     "36a199d7ef624caa93cf5ba517e596c4": {
      "model_module": "@jupyter-widgets/controls",
      "model_module_version": "1.5.0",
      "model_name": "DescriptionStyleModel",
      "state": {
       "description_width": ""
      }
     },
     "36a575211ab44f06b14436be52b76662": {
      "model_module": "@jupyter-widgets/base",
      "model_module_version": "1.2.0",
      "model_name": "LayoutModel",
      "state": {
       "width": "600px"
      }
     },
     "36cac6c1f7ce4078a475800674f52942": {
      "model_module": "@jupyter-widgets/controls",
      "model_module_version": "1.5.0",
      "model_name": "HTMLModel",
      "state": {
       "layout": "IPY_MODEL_ec5d3309bc9f47bba31e11a89f755b09",
       "style": "IPY_MODEL_98a015434eb14603971f8ddaacc1fc70",
       "value": "<i>Vervollständigen Sie den Lückentext: </i>"
      }
     },
     "36d4035946a2447a84b4594efc577b02": {
      "model_module": "@jupyter-widgets/base",
      "model_module_version": "1.2.0",
      "model_name": "LayoutModel",
      "state": {}
     },
     "370a1b076fd84164b4ac71e619753667": {
      "model_module": "@jupyter-widgets/base",
      "model_module_version": "1.2.0",
      "model_name": "LayoutModel",
      "state": {
       "width": "600px"
      }
     },
     "3734aeaf8a7f496584fbf364cbea9961": {
      "model_module": "@jupyter-widgets/controls",
      "model_module_version": "1.5.0",
      "model_name": "ButtonModel",
      "state": {
       "description": "Korrekt?",
       "layout": "IPY_MODEL_0ecf001ab0fc48f880c803730ca6c1c2",
       "style": "IPY_MODEL_16306c03a3f24571b18dc6b0a648479a"
      }
     },
     "3743583e67fc459198f68d002a1e8e76": {
      "model_module": "@jupyter-widgets/base",
      "model_module_version": "1.2.0",
      "model_name": "LayoutModel",
      "state": {
       "width": "250px"
      }
     },
     "379a2b65be484a2d9af969e077407a77": {
      "model_module": "@jupyter-widgets/controls",
      "model_module_version": "1.5.0",
      "model_name": "VBoxModel",
      "state": {
       "children": [
        "IPY_MODEL_7ef77fca3b1c45f9b4dc369e3bd2c31f",
        "IPY_MODEL_a3a8fe5852e04495b5e87ddc01fe5b3e",
        "IPY_MODEL_49866262b3d842fca46f715bfc170d0a",
        "IPY_MODEL_79c0ceaa0b5f42449c9d26cdfefca87e"
       ],
       "layout": "IPY_MODEL_f1fa06e117ee4729b18efbb722726e8e"
      }
     },
     "37cd89936d954026baa44f525a6d128f": {
      "model_module": "@jupyter-widgets/controls",
      "model_module_version": "1.5.0",
      "model_name": "ButtonModel",
      "state": {
       "description": "Phrasenstruktur",
       "layout": "IPY_MODEL_2bd5d27aa54d4a329be24fe67f96d0b2",
       "style": "IPY_MODEL_3e94fe6220e641ce90d334869dfcc433"
      }
     },
     "37e465d476244dbea360227f351f0d32": {
      "model_module": "@jupyter-widgets/base",
      "model_module_version": "1.2.0",
      "model_name": "LayoutModel",
      "state": {
       "width": "250px"
      }
     },
     "381f4fc78fe445649ab2fe1e4e9ba007": {
      "model_module": "@jupyter-widgets/base",
      "model_module_version": "1.2.0",
      "model_name": "LayoutModel",
      "state": {
       "justify_content": "center"
      }
     },
     "38259025337c4f789bf9e4e4be813c5b": {
      "model_module": "@jupyter-widgets/base",
      "model_module_version": "1.2.0",
      "model_name": "LayoutModel",
      "state": {}
     },
     "385a98c8d5a64b329344a0efcbe74c52": {
      "model_module": "@jupyter-widgets/controls",
      "model_module_version": "1.5.0",
      "model_name": "ButtonStyleModel",
      "state": {}
     },
     "388cb5d94e634f4f8c096d2d6756a907": {
      "model_module": "@jupyter-widgets/controls",
      "model_module_version": "1.5.0",
      "model_name": "HTMLModel",
      "state": {
       "layout": "IPY_MODEL_af08e1f99c094f2980ab42a5edd7af55",
       "style": "IPY_MODEL_0af354c190f247c9bb300c114c2e82ec",
       "value": "<i>Wählen Sie die <ins>eine</ins> korrekte Antwort aus: </i>"
      }
     },
     "389d6703c2e5408799293c64631ef90e": {
      "model_module": "@jupyter-widgets/base",
      "model_module_version": "1.2.0",
      "model_name": "LayoutModel",
      "state": {}
     },
     "38ae304fcd58412fa4b526df03665a9f": {
      "model_module": "@jupyter-widgets/base",
      "model_module_version": "1.2.0",
      "model_name": "LayoutModel",
      "state": {
       "justify_content": "center"
      }
     },
     "38ae9a2c052b4467b20f448a8c1710c5": {
      "model_module": "@jupyter-widgets/controls",
      "model_module_version": "1.5.0",
      "model_name": "DescriptionStyleModel",
      "state": {
       "description_width": ""
      }
     },
     "38bf2d12567c4cc3af9968ac1bfd81f6": {
      "model_module": "@jupyter-widgets/controls",
      "model_module_version": "1.5.0",
      "model_name": "DescriptionStyleModel",
      "state": {
       "description_width": "initial"
      }
     },
     "3911934227e84c10906a56ad6e2440bf": {
      "model_module": "@jupyter-widgets/controls",
      "model_module_version": "1.5.0",
      "model_name": "ButtonModel",
      "state": {
       "description": "Wortart des Phrasenkopfes",
       "layout": "IPY_MODEL_c31cacb27957477ebd16ce1dd8caceb4",
       "style": "IPY_MODEL_5aba14384a45410d9f54b65515257436"
      }
     },
     "39248a7dcabb4273a00027e1beced0dd": {
      "model_module": "@jupyter-widgets/controls",
      "model_module_version": "1.5.0",
      "model_name": "CheckboxModel",
      "state": {
       "description": "Eine automatische Strukturanalyse wird möglich.",
       "disabled": false,
       "layout": "IPY_MODEL_339ffb70ca44493399d1b29ff36c9de9",
       "style": "IPY_MODEL_96151efdc4d240438acef4cc84e81f9e",
       "value": false
      }
     },
     "3982e9f9dea840f38de9bebb72234da4": {
      "model_module": "@jupyter-widgets/controls",
      "model_module_version": "1.5.0",
      "model_name": "VBoxModel",
      "state": {
       "children": [
        "IPY_MODEL_685ece9a6322480ca2987c25c89aaeec",
        "IPY_MODEL_c4418c65b2d1481db001e2166c3c3813",
        "IPY_MODEL_365be866f4484126bf50058e268751dc",
        "IPY_MODEL_54950fef091646bc83a956169a5f60d4"
       ],
       "layout": "IPY_MODEL_cc4490db5dad45f19289890578dfe58a"
      }
     },
     "39858e2b5e8f4de7bde1469c3b224be5": {
      "model_module": "@jupyter-widgets/controls",
      "model_module_version": "1.5.0",
      "model_name": "DescriptionStyleModel",
      "state": {
       "description_width": ""
      }
     },
     "398f4b794bf94fc399a060be8e6063fa": {
      "model_module": "@jupyter-widgets/controls",
      "model_module_version": "1.5.0",
      "model_name": "ButtonModel",
      "state": {
       "description": "Klammernotation",
       "layout": "IPY_MODEL_292e262d6f8f4ea0a55b8e6df90c8011",
       "style": "IPY_MODEL_b8ed9e9c6a0841b5b9d8d8b004327da9"
      }
     },
     "3991c19255054f379e9d4d3a5bf024c4": {
      "model_module": "@jupyter-widgets/controls",
      "model_module_version": "1.5.0",
      "model_name": "ButtonStyleModel",
      "state": {}
     },
     "39993eba413f4f5b9ef1e85d7952eac6": {
      "model_module": "@jupyter-widgets/controls",
      "model_module_version": "1.5.0",
      "model_name": "HBoxModel",
      "state": {
       "children": [
        "IPY_MODEL_f6c1d5a0ba1b4ea1a04b433cb4a9d19d",
        "IPY_MODEL_69ad8da6db804d4c94682c3bba7ebb04"
       ],
       "layout": "IPY_MODEL_d19c548b295947a987b06f504f8815a4"
      }
     },
     "39a0459f57654271804ea6b419e323d9": {
      "model_module": "@jupyter-widgets/controls",
      "model_module_version": "1.5.0",
      "model_name": "DescriptionStyleModel",
      "state": {
       "description_width": ""
      }
     },
     "39bfc69da4c94434b9302b04338712ca": {
      "model_module": "@jupyter-widgets/controls",
      "model_module_version": "1.5.0",
      "model_name": "VBoxModel",
      "state": {
       "children": [
        "IPY_MODEL_5b0e0723f36d47aaa48c8dcfabe7bd50",
        "IPY_MODEL_ed0fcdabc36649c09f787ea8d6db1677",
        "IPY_MODEL_6169cafd7b184dcb9bb4ecc135f6ebbd",
        "IPY_MODEL_82b5d648b3d04dc89106e6ac8d4ba3ab",
        "IPY_MODEL_700cce7107f5491e9dbb557ab7221b13"
       ],
       "layout": "IPY_MODEL_3bfd5cb1d8ec46bfa02a17e648cb9e5d"
      }
     },
     "39c48a800d0f49779117a0fe9d7adada": {
      "model_module": "@jupyter-widgets/controls",
      "model_module_version": "1.5.0",
      "model_name": "HTMLModel",
      "state": {
       "layout": "IPY_MODEL_a299d515ebcf456ca41d0be2c847d74c",
       "style": "IPY_MODEL_84c50983dab044eca95615f2e80e5279",
       "value": "<h4 style=\"font-size:14px;\">Dependenz ist synonym zu:</h4>"
      }
     },
     "3a050182b42a4867874430a91dd36b50": {
      "model_module": "@jupyter-widgets/controls",
      "model_module_version": "1.5.0",
      "model_name": "HBoxModel",
      "state": {
       "children": [
        "IPY_MODEL_a04d2aaca3ea43849dd2c836b56bdcb2",
        "IPY_MODEL_fbd06a4747de4bbfa1e6616f991aef7d"
       ],
       "layout": "IPY_MODEL_a39c9925cce14e3aa4be80bb6b5fdc25"
      }
     },
     "3a0f439989d948b6bebbedd127e4dfe2": {
      "model_module": "@jupyter-widgets/controls",
      "model_module_version": "1.5.0",
      "model_name": "ButtonModel",
      "state": {
       "description": "formale Grammatik + Parser",
       "layout": "IPY_MODEL_0723b8a713584dd0872fbb2d9f50808e",
       "style": "IPY_MODEL_3259ffb4a6984ac0ac43d8c07098b580"
      }
     },
     "3a4f1fa70c70465899722132328f0276": {
      "model_module": "@jupyter-widgets/base",
      "model_module_version": "1.2.0",
      "model_name": "LayoutModel",
      "state": {
       "width": "600px"
      }
     },
     "3a5607f4096645688fa27875ac6bcc76": {
      "model_module": "@jupyter-widgets/base",
      "model_module_version": "1.2.0",
      "model_name": "LayoutModel",
      "state": {
       "width": "250px"
      }
     },
     "3ae819cfed4f4bedb22310ba3cbbe1a2": {
      "model_module": "@jupyter-widgets/controls",
      "model_module_version": "1.5.0",
      "model_name": "HBoxModel",
      "state": {
       "children": [
        "IPY_MODEL_927a9b90338a44cfbc5c366a332a3bd5",
        "IPY_MODEL_eb04771ce56845eeaa4cf7410780b372"
       ],
       "layout": "IPY_MODEL_9aad02b163a54053a913b0a43e6eb74f"
      }
     },
     "3affe1387ac2454fbbed178ef9199fad": {
      "model_module": "@jupyter-widgets/controls",
      "model_module_version": "1.5.0",
      "model_name": "CheckboxModel",
      "state": {
       "description": "Grammatikalität",
       "disabled": false,
       "layout": "IPY_MODEL_fe576ba4d4914d80835d1a2b1f8bad99",
       "style": "IPY_MODEL_bafa24aa6c13446f9ab2a84b8af94c31",
       "value": false
      }
     },
     "3b14359e984f48b986bc3440b883282d": {
      "model_module": "@jupyter-widgets/controls",
      "model_module_version": "1.5.0",
      "model_name": "DescriptionStyleModel",
      "state": {
       "description_width": ""
      }
     },
     "3b27b275ea894f47815b43c3e73d392d": {
      "model_module": "@jupyter-widgets/controls",
      "model_module_version": "1.5.0",
      "model_name": "HTMLModel",
      "state": {
       "layout": "IPY_MODEL_eb450ab507384e7daa19997831f72760",
       "style": "IPY_MODEL_e719d6cba0fe45099c4f78701b8449cb",
       "value": "<i>Wählen Sie die <ins>eine</ins> korrekte Antwort aus: </i>"
      }
     },
     "3b485d9f8f894b9997f3b70466690b68": {
      "model_module": "@jupyter-widgets/controls",
      "model_module_version": "1.5.0",
      "model_name": "DescriptionStyleModel",
      "state": {
       "description_width": ""
      }
     },
     "3b5eff52b09f49fe9407134519b300ce": {
      "model_module": "@jupyter-widgets/controls",
      "model_module_version": "1.5.0",
      "model_name": "DescriptionStyleModel",
      "state": {
       "description_width": ""
      }
     },
     "3bcb7f7cc9b3492383f9d9e5d9871def": {
      "model_module": "@jupyter-widgets/controls",
      "model_module_version": "1.5.0",
      "model_name": "VBoxModel",
      "state": {
       "children": [
        "IPY_MODEL_d7b1ed3b894048c4b786167501ae7639",
        "IPY_MODEL_a13a3a2b4e774c329d6a173c00bfad06",
        "IPY_MODEL_4e04df6218404f5f9d83c5f1d7029bd9",
        "IPY_MODEL_9ebe868f6045469685b4d3c35f20d170"
       ],
       "layout": "IPY_MODEL_a0eb7f12f502417ea5653fda9617e479"
      }
     },
     "3bf831560dc648ae9f6fb9ca28637cf9": {
      "model_module": "@jupyter-widgets/controls",
      "model_module_version": "1.5.0",
      "model_name": "ButtonStyleModel",
      "state": {
       "button_color": "lightgreen"
      }
     },
     "3bfd5cb1d8ec46bfa02a17e648cb9e5d": {
      "model_module": "@jupyter-widgets/base",
      "model_module_version": "1.2.0",
      "model_name": "LayoutModel",
      "state": {}
     },
     "3c083cd566c64645b1a21d9c8393135f": {
      "model_module": "@jupyter-widgets/base",
      "model_module_version": "1.2.0",
      "model_name": "LayoutModel",
      "state": {}
     },
     "3c2fc249baa24dd6b69256ba4dbf5cd2": {
      "model_module": "@jupyter-widgets/base",
      "model_module_version": "1.2.0",
      "model_name": "LayoutModel",
      "state": {
       "width": "250px"
      }
     },
     "3c3779e92e0940ccab5172c97d249192": {
      "model_module": "@jupyter-widgets/controls",
      "model_module_version": "1.5.0",
      "model_name": "DescriptionStyleModel",
      "state": {
       "description_width": ""
      }
     },
     "3c3cdd6988aa42c3b5a5ea7ee916e8a9": {
      "model_module": "@jupyter-widgets/base",
      "model_module_version": "1.2.0",
      "model_name": "LayoutModel",
      "state": {}
     },
     "3c57f42030314eacaa7bed0d3f8ee9a2": {
      "model_module": "@jupyter-widgets/base",
      "model_module_version": "1.2.0",
      "model_name": "LayoutModel",
      "state": {
       "width": "600px"
      }
     },
     "3c5b40d13da44ca5b6d3deca94cb22ea": {
      "model_module": "@jupyter-widgets/controls",
      "model_module_version": "1.5.0",
      "model_name": "HBoxModel",
      "state": {
       "children": [
        "IPY_MODEL_6122d2c559e6459bbaaa0a8f22e6c416",
        "IPY_MODEL_e59b8a35dd5a46d0b96a0ae44f56ce66"
       ],
       "layout": "IPY_MODEL_a8acc1222303499b8f80ec9affd62f5c"
      }
     },
     "3c8d312f4b5e418fad8dc45e6d22c5e1": {
      "model_module": "@jupyter-widgets/base",
      "model_module_version": "1.2.0",
      "model_name": "LayoutModel",
      "state": {
       "justify_content": "center"
      }
     },
     "3caf1dc80a994ca3bc3a60fea956f7b8": {
      "model_module": "@jupyter-widgets/base",
      "model_module_version": "1.2.0",
      "model_name": "LayoutModel",
      "state": {
       "width": "600px"
      }
     },
     "3cbb4df4de7a45049977279f27e47c55": {
      "model_module": "@jupyter-widgets/controls",
      "model_module_version": "1.5.0",
      "model_name": "DescriptionStyleModel",
      "state": {
       "description_width": ""
      }
     },
     "3ccc85f8f2a441418bf3d938ca8245c5": {
      "model_module": "@jupyter-widgets/controls",
      "model_module_version": "1.5.0",
      "model_name": "ButtonStyleModel",
      "state": {}
     },
     "3d2a8a72fb1b483492321817c726a377": {
      "model_module": "@jupyter-widgets/base",
      "model_module_version": "1.2.0",
      "model_name": "LayoutModel",
      "state": {}
     },
     "3d33fcf0de134aa3b40baea403549302": {
      "model_module": "@jupyter-widgets/controls",
      "model_module_version": "1.5.0",
      "model_name": "HBoxModel",
      "state": {
       "children": [
        "IPY_MODEL_b95e068678034fadbb985eeec423a098",
        "IPY_MODEL_6216ceaaff3240179d8db02343752a66"
       ],
       "layout": "IPY_MODEL_e299b6b218f948d9aad3b7a8f4bc0ecf"
      }
     },
     "3d51709d34244b798839d421600efe79": {
      "model_module": "@jupyter-widgets/base",
      "model_module_version": "1.2.0",
      "model_name": "LayoutModel",
      "state": {
       "align_content": "stretch",
       "align_items": "stretch",
       "display": "inline-flex",
       "flex": "flex-grow",
       "flex_flow": "row wrap",
       "justify_content": "flex-start"
      }
     },
     "3d844b668b8c43ecbeebf28752fd542a": {
      "model_module": "@jupyter-widgets/controls",
      "model_module_version": "1.5.0",
      "model_name": "ButtonStyleModel",
      "state": {}
     },
     "3dac38b012e04b4e8c7ddc35df725486": {
      "model_module": "@jupyter-widgets/base",
      "model_module_version": "1.2.0",
      "model_name": "LayoutModel",
      "state": {}
     },
     "3e1e76892f894c2d8846cc7e82257f44": {
      "model_module": "@jupyter-widgets/base",
      "model_module_version": "1.2.0",
      "model_name": "LayoutModel",
      "state": {
       "width": "600px"
      }
     },
     "3e235aa60b5f4e7fbcd69fb042303720": {
      "model_module": "@jupyter-widgets/controls",
      "model_module_version": "1.5.0",
      "model_name": "ButtonStyleModel",
      "state": {}
     },
     "3e57703d2e254aa796fd6b92c420ac85": {
      "model_module": "@jupyter-widgets/base",
      "model_module_version": "1.2.0",
      "model_name": "LayoutModel",
      "state": {
       "width": "250px"
      }
     },
     "3e57c255a3ad46c3ac0de8580f581416": {
      "model_module": "@jupyter-widgets/controls",
      "model_module_version": "1.5.0",
      "model_name": "DescriptionStyleModel",
      "state": {
       "description_width": "initial"
      }
     },
     "3e5bae4382cb449ab88a2acdb5f98de1": {
      "model_module": "@jupyter-widgets/controls",
      "model_module_version": "1.5.0",
      "model_name": "HTMLModel",
      "state": {
       "layout": "IPY_MODEL_4df902728ed14885b21a6b7c3d46b755",
       "style": "IPY_MODEL_31fe08d4dc734537b48fe54c9ca75be0",
       "value": "<h4 style=\"font-size:14px;\">In welcher Form wird die syntaktische Struktur eines Satzes beim Aufruf von NLTK print(tree) erstellt?</h4>"
      }
     },
     "3e6ce862fbf740b7979187dcc8e1d820": {
      "model_module": "@jupyter-widgets/controls",
      "model_module_version": "1.5.0",
      "model_name": "DescriptionStyleModel",
      "state": {
       "description_width": ""
      }
     },
     "3e94fe6220e641ce90d334869dfcc433": {
      "model_module": "@jupyter-widgets/controls",
      "model_module_version": "1.5.0",
      "model_name": "ButtonStyleModel",
      "state": {}
     },
     "3ed8a6a18af34bf1a465fd0426f3aa9e": {
      "model_module": "@jupyter-widgets/controls",
      "model_module_version": "1.5.0",
      "model_name": "HTMLModel",
      "state": {
       "layout": "IPY_MODEL_d9839101d3a24c5c8ce28940648e9536",
       "style": "IPY_MODEL_c221035e1d6143aba5fee9b72da13abc",
       "value": "<i>Wählen Sie die <ins>eine</ins> korrekte Antwort aus: </i>"
      }
     },
     "3eeff990ebc941eba1bf02c493af2014": {
      "model_module": "@jupyter-widgets/controls",
      "model_module_version": "1.5.0",
      "model_name": "HTMLModel",
      "state": {
       "layout": "IPY_MODEL_0e742386e53f48ee8d554cf84353ba49",
       "style": "IPY_MODEL_26e67868f4b64d579c9481a8d7befb8c",
       "value": "<i>Wählen Sie die <ins>eine</ins> korrekte Antwort aus: </i>"
      }
     },
     "3effda48d18f4e0dbb0ba5096b018006": {
      "model_module": "@jupyter-widgets/controls",
      "model_module_version": "1.5.0",
      "model_name": "ButtonModel",
      "state": {
       "description": "strukturelle Ambiguität",
       "layout": "IPY_MODEL_f55bdd4d680f44d7b15ad16045135824",
       "style": "IPY_MODEL_1af3d209fb6e4d9eaa315db29e1a7d27"
      }
     },
     "3f2847c950af40ada1d09a8ea62c428d": {
      "model_module": "@jupyter-widgets/base",
      "model_module_version": "1.2.0",
      "model_name": "LayoutModel",
      "state": {
       "width": "250px"
      }
     },
     "3f544bfbe1e34cc48ed598f5b4e7da71": {
      "model_module": "@jupyter-widgets/controls",
      "model_module_version": "1.5.0",
      "model_name": "HBoxModel",
      "state": {
       "children": [
        "IPY_MODEL_3effda48d18f4e0dbb0ba5096b018006",
        "IPY_MODEL_8aedde5171c8445f871cc99ee791813a"
       ],
       "layout": "IPY_MODEL_45846de28e8a4cc98a8938618acfae95"
      }
     },
     "3f7bd285e21b483681e65f6103a8d8e5": {
      "model_module": "@jupyter-widgets/base",
      "model_module_version": "1.2.0",
      "model_name": "LayoutModel",
      "state": {}
     },
     "3f8dc685affa4f36ac07f54ec58179be": {
      "model_module": "@jupyter-widgets/base",
      "model_module_version": "1.2.0",
      "model_name": "LayoutModel",
      "state": {
       "width": "250px"
      }
     },
     "3fa499861499452c8cc64514c498f68e": {
      "model_module": "@jupyter-widgets/base",
      "model_module_version": "1.2.0",
      "model_name": "LayoutModel",
      "state": {
       "width": "250px"
      }
     },
     "3fb14ac2cbb24da085d59c03fecb671a": {
      "model_module": "@jupyter-widgets/controls",
      "model_module_version": "1.5.0",
      "model_name": "ButtonModel",
      "state": {
       "description": "Baumdiagramm",
       "layout": "IPY_MODEL_160172726c994ad886c5b7ff099ed868",
       "style": "IPY_MODEL_90a740ae27b048db92ece4b004db7464"
      }
     },
     "3fcea20e7db24c52bbf6252941aa0976": {
      "model_module": "@jupyter-widgets/controls",
      "model_module_version": "1.5.0",
      "model_name": "HTMLModel",
      "state": {
       "layout": "IPY_MODEL_64e54ae080ee43cdb2d1785ea78b4f55",
       "style": "IPY_MODEL_7fa13f2d3f914ef1b21f7de89451bdd1",
       "value": "<h4 style=\"font-size:14px;\">Was ist der Fall, wenn die PP ein Attribut ist?</h4>"
      }
     },
     "3fe0c768992448528c432060f7b21e6d": {
      "model_module": "@jupyter-widgets/controls",
      "model_module_version": "1.5.0",
      "model_name": "ButtonStyleModel",
      "state": {}
     },
     "400d0d94094845fc859c84d45d8b9799": {
      "model_module": "@jupyter-widgets/base",
      "model_module_version": "1.2.0",
      "model_name": "LayoutModel",
      "state": {}
     },
     "400f85641447458e9fcf1387e8bf9276": {
      "model_module": "@jupyter-widgets/controls",
      "model_module_version": "1.5.0",
      "model_name": "ButtonStyleModel",
      "state": {}
     },
     "405348db623f48e8a5c7bde2e3ba1b45": {
      "model_module": "@jupyter-widgets/base",
      "model_module_version": "1.2.0",
      "model_name": "LayoutModel",
      "state": {
       "justify_content": "center"
      }
     },
     "40687fe07bff406b83cdcd7718e0c841": {
      "model_module": "@jupyter-widgets/base",
      "model_module_version": "1.2.0",
      "model_name": "LayoutModel",
      "state": {
       "width": "250px"
      }
     },
     "40925aa97ccb4d87936078da817a61d6": {
      "model_module": "@jupyter-widgets/controls",
      "model_module_version": "1.5.0",
      "model_name": "ButtonModel",
      "state": {
       "description": "Parser",
       "layout": "IPY_MODEL_a89a489c9aa94e4abfaebc1cf52d2c4e",
       "style": "IPY_MODEL_28b36cfedd2746f49cc1d85b30a4da59"
      }
     },
     "409306a1b1504f459da48ef1af829d50": {
      "model_module": "@jupyter-widgets/controls",
      "model_module_version": "1.5.0",
      "model_name": "ButtonModel",
      "state": {
       "description": "Objekt",
       "layout": "IPY_MODEL_d6b2f51f70ea45aa9d5f50a4268fd2f8",
       "style": "IPY_MODEL_c9df8c7aefbb4a71879485b2e9ede631"
      }
     },
     "409e4b1fd3a14aacb3f24d53036a6d27": {
      "model_module": "@jupyter-widgets/controls",
      "model_module_version": "1.5.0",
      "model_name": "DescriptionStyleModel",
      "state": {
       "description_width": "initial"
      }
     },
     "40bc543c5ed048d0aafe813f861d639c": {
      "model_module": "@jupyter-widgets/base",
      "model_module_version": "1.2.0",
      "model_name": "LayoutModel",
      "state": {
       "width": "250px"
      }
     },
     "40c48b92c10d4cc89d02daac0a5cda84": {
      "model_module": "@jupyter-widgets/controls",
      "model_module_version": "1.5.0",
      "model_name": "DescriptionStyleModel",
      "state": {
       "description_width": ""
      }
     },
     "410009dbb16e450ababece95e04c3489": {
      "model_module": "@jupyter-widgets/controls",
      "model_module_version": "1.5.0",
      "model_name": "DescriptionStyleModel",
      "state": {
       "description_width": ""
      }
     },
     "4116c83e34df48e89c11298e112dda9f": {
      "model_module": "@jupyter-widgets/controls",
      "model_module_version": "1.5.0",
      "model_name": "ButtonModel",
      "state": {
       "description": "Korrekt?",
       "layout": "IPY_MODEL_92a5004333fb4d69b227f4ce97712078",
       "style": "IPY_MODEL_487cc99d65c84f2fa76a7af6c6dc7b19"
      }
     },
     "411d0ff6e4e046ee8577904708ecac41": {
      "model_module": "@jupyter-widgets/base",
      "model_module_version": "1.2.0",
      "model_name": "LayoutModel",
      "state": {
       "width": "600px"
      }
     },
     "4149177b1314460d8d3d91439f4d2afe": {
      "model_module": "@jupyter-widgets/controls",
      "model_module_version": "1.5.0",
      "model_name": "VBoxModel",
      "state": {
       "children": [
        "IPY_MODEL_c9c65822e80d49c592027a3a80a9a22d",
        "IPY_MODEL_a7319ddc7281402cb864a6915a507209",
        "IPY_MODEL_34c7b8daec7e47c4ab12526cdac0f0d3"
       ],
       "layout": "IPY_MODEL_c3ca223ba00e440884758e94d756c1aa"
      }
     },
     "41626fbf107e4cdaa003240e41499a4d": {
      "model_module": "@jupyter-widgets/base",
      "model_module_version": "1.2.0",
      "model_name": "LayoutModel",
      "state": {
       "width": "250px"
      }
     },
     "4171d116f47242708ecb11ca39f4af3c": {
      "model_module": "@jupyter-widgets/controls",
      "model_module_version": "1.5.0",
      "model_name": "ButtonStyleModel",
      "state": {}
     },
     "417f60ee7c0c4966b0b5ede8247bd618": {
      "model_module": "@jupyter-widgets/controls",
      "model_module_version": "1.5.0",
      "model_name": "ButtonModel",
      "state": {
       "description": "Wortstruktur",
       "layout": "IPY_MODEL_2276712b763e48d797d15fb39d2232a8",
       "style": "IPY_MODEL_e41b849aca4c4f02bcd7bf3a8fce7c5a"
      }
     },
     "418d4792406c4f9898d34bcbdd47b0f2": {
      "model_module": "@jupyter-widgets/controls",
      "model_module_version": "1.5.0",
      "model_name": "DescriptionStyleModel",
      "state": {
       "description_width": "initial"
      }
     },
     "41c5c450f26d4339b7f41e5e77bdc5e2": {
      "model_module": "@jupyter-widgets/controls",
      "model_module_version": "1.5.0",
      "model_name": "ButtonStyleModel",
      "state": {}
     },
     "41ed68868865422296d774a4d215922d": {
      "model_module": "@jupyter-widgets/controls",
      "model_module_version": "1.5.0",
      "model_name": "DescriptionStyleModel",
      "state": {
       "description_width": ""
      }
     },
     "423c5792202c4b89b5af483f1f8d7655": {
      "model_module": "@jupyter-widgets/controls",
      "model_module_version": "1.5.0",
      "model_name": "DescriptionStyleModel",
      "state": {
       "description_width": "initial"
      }
     },
     "42873a6bcb6048a58b016ff8c0ff5dd1": {
      "model_module": "@jupyter-widgets/base",
      "model_module_version": "1.2.0",
      "model_name": "LayoutModel",
      "state": {
       "justify_content": "center"
      }
     },
     "433d5846e5994badaa7e9c204061a45f": {
      "model_module": "@jupyter-widgets/controls",
      "model_module_version": "1.5.0",
      "model_name": "ButtonStyleModel",
      "state": {}
     },
     "433f6d3d29334d569614ffa620a22b85": {
      "model_module": "@jupyter-widgets/base",
      "model_module_version": "1.2.0",
      "model_name": "LayoutModel",
      "state": {
       "width": "150px"
      }
     },
     "436e0b4db8cb42c9836822cdc436dd73": {
      "model_module": "@jupyter-widgets/controls",
      "model_module_version": "1.5.0",
      "model_name": "ButtonStyleModel",
      "state": {}
     },
     "437fc46df56d42b9b39c225cfd848c32": {
      "model_module": "@jupyter-widgets/base",
      "model_module_version": "1.2.0",
      "model_name": "LayoutModel",
      "state": {
       "justify_content": "center"
      }
     },
     "439ddc4d65f04cb1bda488c6c23a4849": {
      "model_module": "@jupyter-widgets/controls",
      "model_module_version": "1.5.0",
      "model_name": "VBoxModel",
      "state": {
       "children": [
        "IPY_MODEL_3fcea20e7db24c52bbf6252941aa0976",
        "IPY_MODEL_26e86e8ce64e434c90066cf455c40cdf",
        "IPY_MODEL_e72a0a469aeb4353951f1019d4040c7a",
        "IPY_MODEL_e0dcae5a1d6e49b89920a5364aeee6c9"
       ],
       "layout": "IPY_MODEL_6dd7ebcf266b480abe91381600197136"
      }
     },
     "43a5045a8fc1464ea886059f78043f42": {
      "model_module": "@jupyter-widgets/base",
      "model_module_version": "1.2.0",
      "model_name": "LayoutModel",
      "state": {
       "align_content": "stretch",
       "align_items": "stretch",
       "display": "inline-flex",
       "flex": "flex-grow",
       "flex_flow": "row wrap",
       "justify_content": "flex-start"
      }
     },
     "43a5876f4f0a416a9ca24d36119164fb": {
      "model_module": "@jupyter-widgets/controls",
      "model_module_version": "1.5.0",
      "model_name": "HTMLModel",
      "state": {
       "layout": "IPY_MODEL_5ff0b744629a46a48c39c4de212346f4",
       "style": "IPY_MODEL_3e6ce862fbf740b7979187dcc8e1d820",
       "value": "<i>Wählen Sie die <ins>eine</ins> korrekte Antwort aus: </i>"
      }
     },
     "43bd5e7b61c8457ab61d2665e1e85bc2": {
      "model_module": "@jupyter-widgets/base",
      "model_module_version": "1.2.0",
      "model_name": "LayoutModel",
      "state": {
       "justify_content": "center"
      }
     },
     "43c563009bd749169857689557d37cb4": {
      "model_module": "@jupyter-widgets/base",
      "model_module_version": "1.2.0",
      "model_name": "LayoutModel",
      "state": {
       "justify_content": "center"
      }
     },
     "43e4f4629c7044a8a147ff58826e70ef": {
      "model_module": "@jupyter-widgets/base",
      "model_module_version": "1.2.0",
      "model_name": "LayoutModel",
      "state": {
       "width": "250px"
      }
     },
     "43e7979d9fdc4988bbfcec5326b0411e": {
      "model_module": "@jupyter-widgets/base",
      "model_module_version": "1.2.0",
      "model_name": "LayoutModel",
      "state": {
       "width": "600px"
      }
     },
     "43f448fd66434666b4163d48400dea31": {
      "model_module": "@jupyter-widgets/controls",
      "model_module_version": "1.5.0",
      "model_name": "HTMLModel",
      "state": {
       "layout": "IPY_MODEL_8d26f3cfdc6e4fd5a003511ed01e20dd",
       "style": "IPY_MODEL_658222dd95e44f90b123c55808f34502",
       "value": "<h4 style=\"font-size:14px;\">Bzgl. welcher (nicht an der Oberflächensyntax ersichtlichen) Eigenschaft unterscheiden sich die PPs in den beiden Analysen?</h4>"
      }
     },
     "43f44b02636342fca7c4c97ad3c2c6fc": {
      "model_module": "@jupyter-widgets/base",
      "model_module_version": "1.2.0",
      "model_name": "LayoutModel",
      "state": {
       "justify_content": "center"
      }
     },
     "43fc75b7bdea4feb9c7a7fd29d1c5b14": {
      "model_module": "@jupyter-widgets/base",
      "model_module_version": "1.2.0",
      "model_name": "LayoutModel",
      "state": {
       "width": "250px"
      }
     },
     "444c69d3dbce4978b0216f3412ba89be": {
      "model_module": "@jupyter-widgets/controls",
      "model_module_version": "1.5.0",
      "model_name": "DescriptionStyleModel",
      "state": {
       "description_width": ""
      }
     },
     "444de02e115d4173a2df001d9076d588": {
      "model_module": "@jupyter-widgets/controls",
      "model_module_version": "1.5.0",
      "model_name": "ButtonStyleModel",
      "state": {}
     },
     "4451c5cea2474a7c97cf445cc21e1726": {
      "model_module": "@jupyter-widgets/controls",
      "model_module_version": "1.5.0",
      "model_name": "DescriptionStyleModel",
      "state": {
       "description_width": "initial"
      }
     },
     "445c61d8809345ca966fbc8ba42c7f22": {
      "model_module": "@jupyter-widgets/controls",
      "model_module_version": "1.5.0",
      "model_name": "HBoxModel",
      "state": {
       "children": [
        "IPY_MODEL_f011d328bad74bc68af1e7ae53e5a58d",
        "IPY_MODEL_91bc1aae0ad840499a0076438270aabd"
       ],
       "layout": "IPY_MODEL_22ed8e8a7f3d482a9872f357a83773ba"
      }
     },
     "44f036cac1694dde8f8d7c966b74db92": {
      "model_module": "@jupyter-widgets/controls",
      "model_module_version": "1.5.0",
      "model_name": "ButtonModel",
      "state": {
       "description": "Regelsystem",
       "layout": "IPY_MODEL_e082c4bf387d496bb9ab487febc34493",
       "style": "IPY_MODEL_c669611182f54f5eab29f755c5907910"
      }
     },
     "450720c7f13546a0a2ba930b664db0a5": {
      "model_module": "@jupyter-widgets/controls",
      "model_module_version": "1.5.0",
      "model_name": "HTMLModel",
      "state": {
       "layout": "IPY_MODEL_7d404e3b35a746649a9210e70e846513",
       "style": "IPY_MODEL_40c48b92c10d4cc89d02daac0a5cda84",
       "value": "<h4 style=\"font-size:14px;\">Welche Typen von Syntaxbäumen (auch: Parsebäume, Ableitungsbäume) wurden gezeigt?</h4>"
      }
     },
     "453470af07c8453cbfdf6f8d79dfebe8": {
      "model_module": "@jupyter-widgets/base",
      "model_module_version": "1.2.0",
      "model_name": "LayoutModel",
      "state": {}
     },
     "45846de28e8a4cc98a8938618acfae95": {
      "model_module": "@jupyter-widgets/base",
      "model_module_version": "1.2.0",
      "model_name": "LayoutModel",
      "state": {}
     },
     "458476d605b446a0b9fd6aab34ee39fb": {
      "model_module": "@jupyter-widgets/base",
      "model_module_version": "1.2.0",
      "model_name": "LayoutModel",
      "state": {
       "width": "250px"
      }
     },
     "4593a69dd5a14914a91627ed25761959": {
      "model_module": "@jupyter-widgets/controls",
      "model_module_version": "1.5.0",
      "model_name": "HTMLModel",
      "state": {
       "layout": "IPY_MODEL_fa74135a0de8445c8faada4eadab1343",
       "style": "IPY_MODEL_f601ebb726014d06aa6867f2e85a5912",
       "value": "<i>Wählen Sie die <ins>eine</ins> korrekte Antwort aus: </i>"
      }
     },
     "45f4c3bc6c4b4648915025092a08f3cd": {
      "model_module": "@jupyter-widgets/base",
      "model_module_version": "1.2.0",
      "model_name": "LayoutModel",
      "state": {}
     },
     "4600b5f1eeab48458036b6528116a69f": {
      "model_module": "@jupyter-widgets/controls",
      "model_module_version": "1.5.0",
      "model_name": "DescriptionStyleModel",
      "state": {
       "description_width": ""
      }
     },
     "460bc6d9ef4a4a22a36c71fceaa795d9": {
      "model_module": "@jupyter-widgets/base",
      "model_module_version": "1.2.0",
      "model_name": "LayoutModel",
      "state": {
       "justify_content": "center"
      }
     },
     "4614bda84e8a419da242186b32747750": {
      "model_module": "@jupyter-widgets/controls",
      "model_module_version": "1.5.0",
      "model_name": "ButtonModel",
      "state": {
       "description": "Keine der anderen Möglichkeiten",
       "layout": "IPY_MODEL_d8bb137a2f184099bc21c5bdfb4b529c",
       "style": "IPY_MODEL_f34c33818e544a79974a708057579322"
      }
     },
     "463148752fe94efb96e6050fe9e8f2d1": {
      "model_module": "@jupyter-widgets/base",
      "model_module_version": "1.2.0",
      "model_name": "LayoutModel",
      "state": {}
     },
     "463320300b48400d8afbc23e247eb022": {
      "model_module": "@jupyter-widgets/controls",
      "model_module_version": "1.5.0",
      "model_name": "DescriptionStyleModel",
      "state": {
       "description_width": ""
      }
     },
     "4665d09da0f9431cb7f76425f5f9809b": {
      "model_module": "@jupyter-widgets/controls",
      "model_module_version": "1.5.0",
      "model_name": "DescriptionStyleModel",
      "state": {
       "description_width": "initial"
      }
     },
     "467cc6ff03d24d6a98c82a0b9b3826d2": {
      "model_module": "@jupyter-widgets/controls",
      "model_module_version": "1.5.0",
      "model_name": "ButtonModel",
      "state": {
       "description": "formale Grammatik + Parser",
       "layout": "IPY_MODEL_e4d1ff0397a64b5ca43a6dd96b78d1f4",
       "style": "IPY_MODEL_a8149c90a2e540a0a974d5d1a29dfccc"
      }
     },
     "46873333e27b4bba95c1f47a7f0ed4ab": {
      "model_module": "@jupyter-widgets/controls",
      "model_module_version": "1.5.0",
      "model_name": "ButtonStyleModel",
      "state": {}
     },
     "4698d5476eea473ea65c1d68a3b12b82": {
      "model_module": "@jupyter-widgets/controls",
      "model_module_version": "1.5.0",
      "model_name": "ButtonStyleModel",
      "state": {}
     },
     "46aa97c8d2d54ba1aeeeb1408228beda": {
      "model_module": "@jupyter-widgets/controls",
      "model_module_version": "1.5.0",
      "model_name": "DropdownModel",
      "state": {
       "_options_labels": [
        "morphologischen",
        "phonologischen",
        "semantischen",
        "syntaktischen",
        " "
       ],
       "index": 4,
       "layout": "IPY_MODEL_1f1d175a8a30466d87d900da581f0270",
       "style": "IPY_MODEL_9cb5e523282c4543ac72eb9278e41bc3"
      }
     },
     "46ad54189cf14a7985d4534ceb5a5373": {
      "model_module": "@jupyter-widgets/controls",
      "model_module_version": "1.5.0",
      "model_name": "DescriptionStyleModel",
      "state": {
       "description_width": ""
      }
     },
     "46fbe0ec7d4a440d8a1b42431086caf0": {
      "model_module": "@jupyter-widgets/base",
      "model_module_version": "1.2.0",
      "model_name": "LayoutModel",
      "state": {
       "width": "600px"
      }
     },
     "470fef02a2dc444cb290de2af09c0a8b": {
      "model_module": "@jupyter-widgets/base",
      "model_module_version": "1.2.0",
      "model_name": "LayoutModel",
      "state": {}
     },
     "472f370d9d3a44d4be8bb722ef1637bb": {
      "model_module": "@jupyter-widgets/base",
      "model_module_version": "1.2.0",
      "model_name": "LayoutModel",
      "state": {
       "width": "250px"
      }
     },
     "4730a5f6e9a94c49a7f69073422c9fd3": {
      "model_module": "@jupyter-widgets/controls",
      "model_module_version": "1.5.0",
      "model_name": "ButtonModel",
      "state": {
       "description": "Regelsystem",
       "layout": "IPY_MODEL_8c6abf83277d487da564504d6bfb4be1",
       "style": "IPY_MODEL_c6d64054eaa64b7fab8119940a23ceb2"
      }
     },
     "47f13f73d59949fd9f2ccd2bf03dd7fd": {
      "model_module": "@jupyter-widgets/controls",
      "model_module_version": "1.5.0",
      "model_name": "ButtonStyleModel",
      "state": {}
     },
     "487a2690b1fa4cc8b1b55ba8cbb89ec5": {
      "model_module": "@jupyter-widgets/controls",
      "model_module_version": "1.5.0",
      "model_name": "ButtonModel",
      "state": {
       "description": "Keine der anderen Möglichkeiten",
       "layout": "IPY_MODEL_c8ab15707aca4c839c5b01c5a02a7325",
       "style": "IPY_MODEL_07e19c0162fa4d8f8246cd0553c13f4b"
      }
     },
     "487cc99d65c84f2fa76a7af6c6dc7b19": {
      "model_module": "@jupyter-widgets/controls",
      "model_module_version": "1.5.0",
      "model_name": "ButtonStyleModel",
      "state": {}
     },
     "4884ba9c022547219966dc218c0eb022": {
      "model_module": "@jupyter-widgets/controls",
      "model_module_version": "1.5.0",
      "model_name": "ButtonStyleModel",
      "state": {}
     },
     "48cb6f57050347e7bd5967aa8c0e73bf": {
      "model_module": "@jupyter-widgets/controls",
      "model_module_version": "1.5.0",
      "model_name": "DescriptionStyleModel",
      "state": {
       "description_width": ""
      }
     },
     "48de7bb458cc4deda85a291d09826a52": {
      "model_module": "@jupyter-widgets/controls",
      "model_module_version": "1.5.0",
      "model_name": "HTMLModel",
      "state": {
       "layout": "IPY_MODEL_98c1615ebe304990a6b5b1e687a7183b",
       "style": "IPY_MODEL_3cbb4df4de7a45049977279f27e47c55",
       "value": "<i>Markieren Sie <ins>alle</ins> passenden Antworten: </i>"
      }
     },
     "48ecd3dadf814c6688f97df556421135": {
      "model_module": "@jupyter-widgets/controls",
      "model_module_version": "1.5.0",
      "model_name": "DescriptionStyleModel",
      "state": {
       "description_width": ""
      }
     },
     "49866262b3d842fca46f715bfc170d0a": {
      "model_module": "@jupyter-widgets/controls",
      "model_module_version": "1.5.0",
      "model_name": "CheckboxModel",
      "state": {
       "description": "Korrektheit",
       "disabled": false,
       "layout": "IPY_MODEL_8a7599c5d9204ffa950c1c9b1d6a06f5",
       "style": "IPY_MODEL_90fc3b8cda1140cc930117aae0495e60",
       "value": false
      }
     },
     "49b2f369a1994a19ada1ba814f05790e": {
      "model_module": "@jupyter-widgets/base",
      "model_module_version": "1.2.0",
      "model_name": "LayoutModel",
      "state": {
       "width": "250px"
      }
     },
     "49cd413fbbbe475698bb0968f5ac6d40": {
      "model_module": "@jupyter-widgets/controls",
      "model_module_version": "1.5.0",
      "model_name": "DescriptionStyleModel",
      "state": {
       "description_width": ""
      }
     },
     "4a19508516434847ad9d4e292df4eaa1": {
      "model_module": "@jupyter-widgets/controls",
      "model_module_version": "1.5.0",
      "model_name": "HTMLModel",
      "state": {
       "layout": "IPY_MODEL_a82ae7e519c346d2b4f25cfd46d081af",
       "style": "IPY_MODEL_f13f47f149884b4f8d64d07dde0f78ec",
       "value": "<h4 style=\"font-size:14px;\">Was ist der Fall, wenn die PP ein Adverbial ist?</h4>"
      }
     },
     "4a23aede33164877b38a0b9cf406e97e": {
      "model_module": "@jupyter-widgets/controls",
      "model_module_version": "1.5.0",
      "model_name": "ButtonStyleModel",
      "state": {}
     },
     "4a3356eeb89641ce8bfd703d1d8fd94e": {
      "model_module": "@jupyter-widgets/controls",
      "model_module_version": "1.5.0",
      "model_name": "HBoxModel",
      "state": {
       "children": [
        "IPY_MODEL_8c170e32123a4b638dcb56668cb6309b",
        "IPY_MODEL_afcaf97fcc7b4299bd920f997a81ccb2"
       ],
       "layout": "IPY_MODEL_cd83e3a6f7d4453eb772d45df29cf3aa"
      }
     },
     "4a9e4f80b201435285dea8f943665690": {
      "model_module": "@jupyter-widgets/controls",
      "model_module_version": "1.5.0",
      "model_name": "HBoxModel",
      "state": {
       "children": [
        "IPY_MODEL_ecfd968ebfd94ce3be50b05a2f06dea7",
        "IPY_MODEL_e25c3c07da474d8686c4d57d54796e4d"
       ],
       "layout": "IPY_MODEL_f3779cce3bf244e293a383a7f908b2b6"
      }
     },
     "4b3348fc5e8847c4b001522c4a23e3bd": {
      "model_module": "@jupyter-widgets/controls",
      "model_module_version": "1.5.0",
      "model_name": "ButtonModel",
      "state": {
       "description": "Wortstruktur",
       "layout": "IPY_MODEL_1e41a40236884894992d4aa226763d51",
       "style": "IPY_MODEL_cc71099e2f3c49d4a72e10e75877d25b"
      }
     },
     "4b57da2d620048e29d327beb4daa9274": {
      "model_module": "@jupyter-widgets/base",
      "model_module_version": "1.2.0",
      "model_name": "LayoutModel",
      "state": {}
     },
     "4ba3dbe806864e558cef8ab676ab3ba8": {
      "model_module": "@jupyter-widgets/controls",
      "model_module_version": "1.5.0",
      "model_name": "ButtonModel",
      "state": {
       "description": "Phrasentyp",
       "layout": "IPY_MODEL_4f2445ba334e47ef9c4f02caeac2aacb",
       "style": "IPY_MODEL_433d5846e5994badaa7e9c204061a45f"
      }
     },
     "4bee382ca2e04ae2b89c8835f6a31e0c": {
      "model_module": "@jupyter-widgets/controls",
      "model_module_version": "1.5.0",
      "model_name": "ButtonModel",
      "state": {
       "description": "Korrekt?",
       "layout": "IPY_MODEL_4e216e87b2f54439b5cd5c6f15dd5474",
       "style": "IPY_MODEL_8a285262ff024dda9445e1dc8f5b2cd8"
      }
     },
     "4bee44b6c1cc4f729425fbd746531328": {
      "model_module": "@jupyter-widgets/base",
      "model_module_version": "1.2.0",
      "model_name": "LayoutModel",
      "state": {
       "justify_content": "center"
      }
     },
     "4bf527e3577b4d26b59de95918140ee1": {
      "model_module": "@jupyter-widgets/controls",
      "model_module_version": "1.5.0",
      "model_name": "HTMLModel",
      "state": {
       "layout": "IPY_MODEL_ccc04291d3e74c8badddeb32dc934605",
       "style": "IPY_MODEL_15b7c00d247d4470b481f45f26b33c6b",
       "value": "<h4 style=\"font-size:14px;\">der Grammatik, der sich auf die</h4>"
      }
     },
     "4bff1ae06ae8447b94d44ee1c8794b55": {
      "model_module": "@jupyter-widgets/base",
      "model_module_version": "1.2.0",
      "model_name": "LayoutModel",
      "state": {
       "width": "250px"
      }
     },
     "4c19aa469c9445a69508644103bd91fb": {
      "model_module": "@jupyter-widgets/controls",
      "model_module_version": "1.5.0",
      "model_name": "ButtonModel",
      "state": {
       "description": "syntaktische Funktion",
       "layout": "IPY_MODEL_b23bdf7fecf14e39a03f0c54b06ff5c8",
       "style": "IPY_MODEL_bef11576c2f9470a9b4bb89f5212f786"
      }
     },
     "4c30edbbfebd48f5af2981d7385528cf": {
      "model_module": "@jupyter-widgets/controls",
      "model_module_version": "1.5.0",
      "model_name": "DescriptionStyleModel",
      "state": {
       "description_width": ""
      }
     },
     "4c81ef67ab0d44dfa4ac8f221cadf58e": {
      "model_module": "@jupyter-widgets/base",
      "model_module_version": "1.2.0",
      "model_name": "LayoutModel",
      "state": {
       "justify_content": "center"
      }
     },
     "4c8ae3c45fb64f7dace09bec2bb9fdf9": {
      "model_module": "@jupyter-widgets/controls",
      "model_module_version": "1.5.0",
      "model_name": "DescriptionStyleModel",
      "state": {
       "description_width": "initial"
      }
     },
     "4c8b41d621e34e40a6ebf7917d9ab39d": {
      "model_module": "@jupyter-widgets/controls",
      "model_module_version": "1.5.0",
      "model_name": "DescriptionStyleModel",
      "state": {
       "description_width": "initial"
      }
     },
     "4cc0ea031e9249cfa18e7ebc90a9c50e": {
      "model_module": "@jupyter-widgets/controls",
      "model_module_version": "1.5.0",
      "model_name": "DescriptionStyleModel",
      "state": {
       "description_width": "initial"
      }
     },
     "4cde66bed70a46ae84d64cf514b3eca6": {
      "model_module": "@jupyter-widgets/controls",
      "model_module_version": "1.5.0",
      "model_name": "VBoxModel",
      "state": {
       "children": [
        "IPY_MODEL_786de28ce7c143b383b3ed17fe4ac97e",
        "IPY_MODEL_e4866e6b3cfd4d72b0afb52a7ebdf55b",
        "IPY_MODEL_1cb384812e764e72bd4f347990bbedf3",
        "IPY_MODEL_fd8aaa3bdb254ef3a5add2600c8fe407",
        "IPY_MODEL_e84f6a842f17468c84fe8cead86b043d"
       ],
       "layout": "IPY_MODEL_b2e17f6d73a14d2da72f1ad8e03611e4"
      }
     },
     "4cf6a1cca91d4891972cc955cc16379f": {
      "model_module": "@jupyter-widgets/base",
      "model_module_version": "1.2.0",
      "model_name": "LayoutModel",
      "state": {
       "width": "250px"
      }
     },
     "4d1bfa0e3c864da6927226b1c320d812": {
      "model_module": "@jupyter-widgets/controls",
      "model_module_version": "1.5.0",
      "model_name": "CheckboxModel",
      "state": {
       "description": "phonologische",
       "disabled": false,
       "layout": "IPY_MODEL_366245b16bce407ab47ec31b7b0498ca",
       "style": "IPY_MODEL_d80c66236d934eb0bc8afaa3eadadf13",
       "value": true
      }
     },
     "4d502529ddf94f279e3500799263d6fc": {
      "model_module": "@jupyter-widgets/controls",
      "model_module_version": "1.5.0",
      "model_name": "ButtonStyleModel",
      "state": {}
     },
     "4dec79ad64e74447b19911fa0efb93b9": {
      "model_module": "@jupyter-widgets/controls",
      "model_module_version": "1.5.0",
      "model_name": "ButtonStyleModel",
      "state": {}
     },
     "4df902728ed14885b21a6b7c3d46b755": {
      "model_module": "@jupyter-widgets/base",
      "model_module_version": "1.2.0",
      "model_name": "LayoutModel",
      "state": {
       "justify_content": "center"
      }
     },
     "4dfb1ee7b4f84c5fa8c6a85bf0b56662": {
      "model_module": "@jupyter-widgets/controls",
      "model_module_version": "1.5.0",
      "model_name": "ButtonStyleModel",
      "state": {}
     },
     "4dff7e5d8541436887da3332df70ebb2": {
      "model_module": "@jupyter-widgets/base",
      "model_module_version": "1.2.0",
      "model_name": "LayoutModel",
      "state": {}
     },
     "4e04df6218404f5f9d83c5f1d7029bd9": {
      "model_module": "@jupyter-widgets/controls",
      "model_module_version": "1.5.0",
      "model_name": "DropdownModel",
      "state": {
       "_options_labels": [
        "Keine der Alternativen",
        "der Ort des Geschehens wird festgelegt",
        "die PP wird dem Substantiv beigefügt",
        "die im Verb ausgedrückte Tätigkeit wird modifiziert"
       ],
       "description": "Antwort:",
       "index": 0,
       "layout": "IPY_MODEL_b23c36db655348e397b9bf15b87ff685",
       "style": "IPY_MODEL_0230dd0aff5247e0b6207f844bd0aad1"
      }
     },
     "4e0b3554ce6644539c59d9b350248676": {
      "model_module": "@jupyter-widgets/controls",
      "model_module_version": "1.5.0",
      "model_name": "DescriptionStyleModel",
      "state": {
       "description_width": ""
      }
     },
     "4e17120fc9834a4881174e2a64fc89f7": {
      "model_module": "@jupyter-widgets/base",
      "model_module_version": "1.2.0",
      "model_name": "LayoutModel",
      "state": {}
     },
     "4e1c1a6316be4d269b99a7819738a437": {
      "model_module": "@jupyter-widgets/controls",
      "model_module_version": "1.5.0",
      "model_name": "DescriptionStyleModel",
      "state": {
       "description_width": ""
      }
     },
     "4e1c2c8cfa034deeb5ef1801a46c588a": {
      "model_module": "@jupyter-widgets/controls",
      "model_module_version": "1.5.0",
      "model_name": "HTMLModel",
      "state": {
       "layout": "IPY_MODEL_0dc5376361d244468b036cd53434e263",
       "style": "IPY_MODEL_902b0331548b40b3ad35c232dc824e5a",
       "value": "<i>Wählen Sie die <ins>eine</ins> korrekte Antwort aus: </i>"
      }
     },
     "4e216e87b2f54439b5cd5c6f15dd5474": {
      "model_module": "@jupyter-widgets/base",
      "model_module_version": "1.2.0",
      "model_name": "LayoutModel",
      "state": {
       "width": "250px"
      }
     },
     "4e24aa10089846c39dce3f110d5075a9": {
      "model_module": "@jupyter-widgets/controls",
      "model_module_version": "1.5.0",
      "model_name": "ButtonStyleModel",
      "state": {}
     },
     "4e3f6bbaa5794442a7261cf3ec16cda8": {
      "model_module": "@jupyter-widgets/controls",
      "model_module_version": "1.5.0",
      "model_name": "VBoxModel",
      "state": {
       "children": [
        "IPY_MODEL_aed45c24f4be49f8bb55c595c855d545",
        "IPY_MODEL_c15932360cb34d6a8534945212c69788",
        "IPY_MODEL_dc82e9b9ee3242dba9cfb6218bc1063a"
       ],
       "layout": "IPY_MODEL_fa4200a6a5c74ba7a9244d7ed601c668"
      }
     },
     "4e42d07e99ed4b449b6a257fa7b75592": {
      "model_module": "@jupyter-widgets/controls",
      "model_module_version": "1.5.0",
      "model_name": "ButtonModel",
      "state": {
       "description": "lexikalische Ambiguität",
       "layout": "IPY_MODEL_ab9058321d564c6a90194ccc50f3a81b",
       "style": "IPY_MODEL_0adce13d0b6b4923bbe4aca3407df13e"
      }
     },
     "4e6343d8c8df4ab7936fc93190ba9a23": {
      "model_module": "@jupyter-widgets/controls",
      "model_module_version": "1.5.0",
      "model_name": "DescriptionStyleModel",
      "state": {
       "description_width": "initial"
      }
     },
     "4e8833721a204397b2ade24dead18036": {
      "model_module": "@jupyter-widgets/base",
      "model_module_version": "1.2.0",
      "model_name": "LayoutModel",
      "state": {
       "justify_content": "center"
      }
     },
     "4ec2ae70295f47ee9460be36cb525a14": {
      "model_module": "@jupyter-widgets/controls",
      "model_module_version": "1.5.0",
      "model_name": "ButtonStyleModel",
      "state": {}
     },
     "4ee6390d3a5e467f8a0d042515bb7d7d": {
      "model_module": "@jupyter-widgets/controls",
      "model_module_version": "1.5.0",
      "model_name": "VBoxModel",
      "state": {
       "children": [
        "IPY_MODEL_11d19db2be9445d2acca969d7825a417",
        "IPY_MODEL_69539cbe971f40899d793f1efefd445c",
        "IPY_MODEL_6279865fc2fd44b0a420fb6e426f87a5"
       ],
       "layout": "IPY_MODEL_e34edf7cf02c41748c9830eb93b8ba7c"
      }
     },
     "4f2445ba334e47ef9c4f02caeac2aacb": {
      "model_module": "@jupyter-widgets/base",
      "model_module_version": "1.2.0",
      "model_name": "LayoutModel",
      "state": {
       "width": "250px"
      }
     },
     "4f312e98807f463a93d35cfbddf0a5b1": {
      "model_module": "@jupyter-widgets/controls",
      "model_module_version": "1.5.0",
      "model_name": "ButtonModel",
      "state": {
       "description": "formale Grammatik",
       "layout": "IPY_MODEL_044c0128e894490c9ca99f339e3f059c",
       "style": "IPY_MODEL_c6cd7bc635dd4d2fba088a5c0b4ec720"
      }
     },
     "4f3a812bf4d64cb09e87c21382cec2c9": {
      "model_module": "@jupyter-widgets/controls",
      "model_module_version": "1.5.0",
      "model_name": "DescriptionStyleModel",
      "state": {
       "description_width": ""
      }
     },
     "4f3cae67fc2043e59cb2ebde24c44595": {
      "model_module": "@jupyter-widgets/controls",
      "model_module_version": "1.5.0",
      "model_name": "DescriptionStyleModel",
      "state": {
       "description_width": ""
      }
     },
     "4f7b9a88327c44afb98ab90f6145f9a6": {
      "model_module": "@jupyter-widgets/base",
      "model_module_version": "1.2.0",
      "model_name": "LayoutModel",
      "state": {
       "width": "250px"
      }
     },
     "4f9af5b86cd7477a83a7fd99dfd45f69": {
      "model_module": "@jupyter-widgets/controls",
      "model_module_version": "1.5.0",
      "model_name": "HTMLModel",
      "state": {
       "layout": "IPY_MODEL_d097c2cb49ee4660b5fb07de643aeda2",
       "style": "IPY_MODEL_03fa83e67211451180874e7ada7f9b12",
       "value": "<i>Wählen Sie die <ins>eine</ins> korrekte Antwort aus: </i>"
      }
     },
     "4fa2f8979b3941178ca3f75860bb6b42": {
      "model_module": "@jupyter-widgets/controls",
      "model_module_version": "1.5.0",
      "model_name": "ButtonModel",
      "state": {
       "description": "syntaktische Funktion",
       "layout": "IPY_MODEL_064deb39b2ca4ed38aeb422c8671f798",
       "style": "IPY_MODEL_50578841d4db4a4fafefc63f18e2a3b8"
      }
     },
     "4fbb509eb6314dcaa759add32272bd7a": {
      "model_module": "@jupyter-widgets/controls",
      "model_module_version": "1.5.0",
      "model_name": "ButtonStyleModel",
      "state": {}
     },
     "4fecd3f99f8841abad46839a2af5c504": {
      "model_module": "@jupyter-widgets/base",
      "model_module_version": "1.2.0",
      "model_name": "LayoutModel",
      "state": {
       "width": "250px"
      }
     },
     "4ffcb35f71914526b65c65ef6fb20496": {
      "model_module": "@jupyter-widgets/controls",
      "model_module_version": "1.5.0",
      "model_name": "HTMLModel",
      "state": {
       "layout": "IPY_MODEL_ec88115ed7c1417eab0ffe478845f2a1",
       "style": "IPY_MODEL_fdf3f50a3e554e14b340323fdd6b339e",
       "value": "<h4 style=\"font-size:14px;\">Welche Funktion innerhalb der Gerund-Nomen-Phrase nimmt das Nomen ein, wenn das Gerund Kopf dieser Phrase ist?</h4>"
      }
     },
     "504c61b2a82742eb8f04cbe4f855d0a1": {
      "model_module": "@jupyter-widgets/base",
      "model_module_version": "1.2.0",
      "model_name": "LayoutModel",
      "state": {
       "justify_content": "center"
      }
     },
     "504e79ee48da443a80904ba21c2b0e40": {
      "model_module": "@jupyter-widgets/controls",
      "model_module_version": "1.5.0",
      "model_name": "DescriptionStyleModel",
      "state": {
       "description_width": ""
      }
     },
     "50578841d4db4a4fafefc63f18e2a3b8": {
      "model_module": "@jupyter-widgets/controls",
      "model_module_version": "1.5.0",
      "model_name": "ButtonStyleModel",
      "state": {}
     },
     "506ad3e1f5d54905a078ffbd8437e893": {
      "model_module": "@jupyter-widgets/controls",
      "model_module_version": "1.5.0",
      "model_name": "HBoxModel",
      "state": {
       "children": [
        "IPY_MODEL_17845f17f61e4cfa92ec4dec2ccb3265",
        "IPY_MODEL_6062b4f0b1d341a1b3b93dc3d09845a7"
       ],
       "layout": "IPY_MODEL_93571ec7d53f4a4fbcdbde21b1c67412"
      }
     },
     "50d060c773d0471d902d17a38b9d7438": {
      "model_module": "@jupyter-widgets/base",
      "model_module_version": "1.2.0",
      "model_name": "LayoutModel",
      "state": {
       "width": "250px"
      }
     },
     "50ffd87f985040559888e841001fa61c": {
      "model_module": "@jupyter-widgets/base",
      "model_module_version": "1.2.0",
      "model_name": "LayoutModel",
      "state": {
       "width": "150px"
      }
     },
     "512cc6397f4148c5bf5446eb60186ffe": {
      "model_module": "@jupyter-widgets/controls",
      "model_module_version": "1.5.0",
      "model_name": "ButtonStyleModel",
      "state": {}
     },
     "5136a0ec7fd24dc5a28f657218b94b41": {
      "model_module": "@jupyter-widgets/base",
      "model_module_version": "1.2.0",
      "model_name": "LayoutModel",
      "state": {}
     },
     "514752b6940844b0b05f9e449da81986": {
      "model_module": "@jupyter-widgets/controls",
      "model_module_version": "1.5.0",
      "model_name": "ButtonStyleModel",
      "state": {}
     },
     "518db0b996e441979bbaefaaeb48351e": {
      "model_module": "@jupyter-widgets/controls",
      "model_module_version": "1.5.0",
      "model_name": "HBoxModel",
      "state": {
       "children": [
        "IPY_MODEL_5e3cd1f965c641bfac40fdcf555ff6f6",
        "IPY_MODEL_07593ff8e54e4c07bee0eb90c8dd6017"
       ],
       "layout": "IPY_MODEL_36d4035946a2447a84b4594efc577b02"
      }
     },
     "51975a380b314b8aa0b7a3a4bb1239fd": {
      "model_module": "@jupyter-widgets/controls",
      "model_module_version": "1.5.0",
      "model_name": "HTMLModel",
      "state": {
       "layout": "IPY_MODEL_6dc4c56beb4b495f88cab51e6f590716",
       "style": "IPY_MODEL_a6d271db1a5143e2addc4515fd61ebff",
       "value": "<h4 style=\"font-size:14px;\">Dependenz ist synonym zu:</h4>"
      }
     },
     "51db8ae268e94844a69184401f0983e6": {
      "model_module": "@jupyter-widgets/base",
      "model_module_version": "1.2.0",
      "model_name": "LayoutModel",
      "state": {
       "justify_content": "center"
      }
     },
     "5222f127844d41aea1c475c14d2f59f2": {
      "model_module": "@jupyter-widgets/base",
      "model_module_version": "1.2.0",
      "model_name": "LayoutModel",
      "state": {}
     },
     "52943c30839a4fd0b934ed8a76fcbe07": {
      "model_module": "@jupyter-widgets/base",
      "model_module_version": "1.2.0",
      "model_name": "LayoutModel",
      "state": {}
     },
     "529551332abd4181aea258f08ebe987b": {
      "model_module": "@jupyter-widgets/controls",
      "model_module_version": "1.5.0",
      "model_name": "HTMLModel",
      "state": {
       "layout": "IPY_MODEL_8f9eacc9ed804d638980886cbf34cecb",
       "style": "IPY_MODEL_bdefd2bb995f4994bd3f32c5ba65cd61",
       "value": "<h4 style=\"font-size:14px;\">Was ist der Ursprung der Ambiguität?</h4>"
      }
     },
     "52a625cb0ec54079816f689e59a1cba5": {
      "model_module": "@jupyter-widgets/base",
      "model_module_version": "1.2.0",
      "model_name": "LayoutModel",
      "state": {
       "justify_content": "center"
      }
     },
     "52be5d6bffa64f828ab39cc04353c9dd": {
      "model_module": "@jupyter-widgets/base",
      "model_module_version": "1.2.0",
      "model_name": "LayoutModel",
      "state": {}
     },
     "52c431e3695f4c79ba21c2273f48c360": {
      "model_module": "@jupyter-widgets/base",
      "model_module_version": "1.2.0",
      "model_name": "LayoutModel",
      "state": {
       "width": "600px"
      }
     },
     "52ef9b115165436382c249a3f3abd391": {
      "model_module": "@jupyter-widgets/controls",
      "model_module_version": "1.5.0",
      "model_name": "ButtonStyleModel",
      "state": {}
     },
     "530e5029f45f4a7f84f081cdb88525d4": {
      "model_module": "@jupyter-widgets/base",
      "model_module_version": "1.2.0",
      "model_name": "LayoutModel",
      "state": {
       "width": "250px"
      }
     },
     "53395bae28aa4776a2b0c21845ea7ed8": {
      "model_module": "@jupyter-widgets/base",
      "model_module_version": "1.2.0",
      "model_name": "LayoutModel",
      "state": {}
     },
     "5361450ad2be434dbd2d1144d2ab0118": {
      "model_module": "@jupyter-widgets/controls",
      "model_module_version": "1.5.0",
      "model_name": "ButtonModel",
      "state": {
       "description": "lexikalische Ambiguität",
       "layout": "IPY_MODEL_c9b363278de9465e963c1463e64d985c",
       "style": "IPY_MODEL_0472bf990dcc4e458bae7a58dc03850c"
      }
     },
     "5372043ba7514014a4c00447fb2bf144": {
      "model_module": "@jupyter-widgets/controls",
      "model_module_version": "1.5.0",
      "model_name": "ButtonStyleModel",
      "state": {}
     },
     "537a5b3100df40e9b9e6c69bf073d9c5": {
      "model_module": "@jupyter-widgets/controls",
      "model_module_version": "1.5.0",
      "model_name": "HBoxModel",
      "state": {
       "children": [
        "IPY_MODEL_df0a369b21b844f9bb7428b42f5c7344"
       ],
       "layout": "IPY_MODEL_1f620897d6324c829212361a916d999d"
      }
     },
     "539deb1b8a634622a9bcb824bb16ca2e": {
      "model_module": "@jupyter-widgets/controls",
      "model_module_version": "1.5.0",
      "model_name": "ButtonStyleModel",
      "state": {
       "button_color": "lightgreen"
      }
     },
     "53b27510761f4b9a86f36c97c5c5333d": {
      "model_module": "@jupyter-widgets/controls",
      "model_module_version": "1.5.0",
      "model_name": "ButtonModel",
      "state": {
       "description": "Korrekt?",
       "layout": "IPY_MODEL_8fc980c0fbc14e319906d5e1a7097a26",
       "style": "IPY_MODEL_b50411f77db94ad4927bb229ac90e991"
      }
     },
     "53bb150f14924e6ba988642f22123261": {
      "model_module": "@jupyter-widgets/controls",
      "model_module_version": "1.5.0",
      "model_name": "ButtonStyleModel",
      "state": {}
     },
     "53d295405eb04d4583defa00283bc7bf": {
      "model_module": "@jupyter-widgets/controls",
      "model_module_version": "1.5.0",
      "model_name": "ButtonModel",
      "state": {
       "description": "Objekt",
       "layout": "IPY_MODEL_cf617596203c4befad794d1505ed2e21",
       "style": "IPY_MODEL_7b9fe73b77f44c72b8bafd96807c2cb8"
      }
     },
     "53fbf76be861403fad4646a16047db60": {
      "model_module": "@jupyter-widgets/controls",
      "model_module_version": "1.5.0",
      "model_name": "ButtonModel",
      "state": {
       "description": "strukturelle Ambiguität",
       "layout": "IPY_MODEL_62a51d2895394143bce79b3ec2ba96d0",
       "style": "IPY_MODEL_4e24aa10089846c39dce3f110d5075a9"
      }
     },
     "541814c6cd174d49bd7f499d83cdeabd": {
      "model_module": "@jupyter-widgets/controls",
      "model_module_version": "1.5.0",
      "model_name": "DescriptionStyleModel",
      "state": {
       "description_width": ""
      }
     },
     "54950fef091646bc83a956169a5f60d4": {
      "model_module": "@jupyter-widgets/controls",
      "model_module_version": "1.5.0",
      "model_name": "CheckboxModel",
      "state": {
       "description": "Nomen ist Kopf einer NP-Phrase",
       "disabled": false,
       "layout": "IPY_MODEL_07aef7de98814c089feaab88ddfaf8be",
       "style": "IPY_MODEL_fc7e75e867ad425f98d3ee9082e01418",
       "value": false
      }
     },
     "54c6d428f8b34a76957b8dc722f23dcd": {
      "model_module": "@jupyter-widgets/controls",
      "model_module_version": "1.5.0",
      "model_name": "HTMLModel",
      "state": {
       "layout": "IPY_MODEL_ba6512ac022946878bee02f459b678b8",
       "style": "IPY_MODEL_8e031aea6124410ea31acb763124dcf9",
       "value": "<i>Wählen Sie die <ins>eine</ins> korrekte Antwort aus: </i>"
      }
     },
     "552bc93562c445709c77b43ceff370c2": {
      "model_module": "@jupyter-widgets/base",
      "model_module_version": "1.2.0",
      "model_name": "LayoutModel",
      "state": {
       "justify_content": "center"
      }
     },
     "55356779739b42a6a0f25ff92cfd6b54": {
      "model_module": "@jupyter-widgets/controls",
      "model_module_version": "1.5.0",
      "model_name": "HBoxModel",
      "state": {
       "children": [
        "IPY_MODEL_bb91604dfdda472981042899d2bb29c8",
        "IPY_MODEL_7475c09e6d4246a18411cec9e9573acf"
       ],
       "layout": "IPY_MODEL_64280e8d4bb14be787d166c75a5e7c13"
      }
     },
     "5584f801b45c44c5a210d24dc57449f1": {
      "model_module": "@jupyter-widgets/base",
      "model_module_version": "1.2.0",
      "model_name": "LayoutModel",
      "state": {
       "width": "600px"
      }
     },
     "558b673051cd4c9a8ea962558cf81f28": {
      "model_module": "@jupyter-widgets/base",
      "model_module_version": "1.2.0",
      "model_name": "LayoutModel",
      "state": {}
     },
     "55de6eaea7784758a4fdc7971c1d8731": {
      "model_module": "@jupyter-widgets/controls",
      "model_module_version": "1.5.0",
      "model_name": "HBoxModel",
      "state": {
       "children": [
        "IPY_MODEL_926385519611400d949452ae6c81aee9",
        "IPY_MODEL_2a7a57adf7b84015a6e2ead12c250ceb"
       ],
       "layout": "IPY_MODEL_aa14f8783aac4f9a8b03fb8caffe8cc9"
      }
     },
     "55fe473aac9d421f81886d05fd08ddb2": {
      "model_module": "@jupyter-widgets/controls",
      "model_module_version": "1.5.0",
      "model_name": "ButtonModel",
      "state": {
       "description": "Regelbuch",
       "layout": "IPY_MODEL_310a0b2138d24c3f9dfad3aa4750e28e",
       "style": "IPY_MODEL_6c6db4c0e7104fdd950c76391a2a6a80"
      }
     },
     "560264764ae5476e8f1ab65efb69f1b3": {
      "model_module": "@jupyter-widgets/controls",
      "model_module_version": "1.5.0",
      "model_name": "CheckboxModel",
      "state": {
       "description": "Satzebene, Textebene, Bedeutungsebene",
       "disabled": false,
       "layout": "IPY_MODEL_1ab86241217249208cb9669b0f8a8b3e",
       "style": "IPY_MODEL_f412dd4ee66d4bd29932087a2f0e4b8a",
       "value": false
      }
     },
     "56045340d6434d65b53c9dfda517c313": {
      "model_module": "@jupyter-widgets/base",
      "model_module_version": "1.2.0",
      "model_name": "LayoutModel",
      "state": {
       "width": "600px"
      }
     },
     "561f67768cf14fdfa6a2f323e6f9ceae": {
      "model_module": "@jupyter-widgets/base",
      "model_module_version": "1.2.0",
      "model_name": "LayoutModel",
      "state": {}
     },
     "563a186e7c67416eb1b1394e8e6ec05b": {
      "model_module": "@jupyter-widgets/base",
      "model_module_version": "1.2.0",
      "model_name": "LayoutModel",
      "state": {
       "width": "250px"
      }
     },
     "563ea8eac0b74c2aa5b7a254a547d6ec": {
      "model_module": "@jupyter-widgets/base",
      "model_module_version": "1.2.0",
      "model_name": "LayoutModel",
      "state": {
       "width": "250px"
      }
     },
     "566213c9fbc64e9a8856be6f5368d83e": {
      "model_module": "@jupyter-widgets/controls",
      "model_module_version": "1.5.0",
      "model_name": "CheckboxModel",
      "state": {
       "description": "Verbalphrase",
       "disabled": false,
       "layout": "IPY_MODEL_81c73d2155dd41828edeb10e6324274c",
       "style": "IPY_MODEL_ed5b530213ae468280c9384cb7578d82",
       "value": false
      }
     },
     "566c195abdf04a288dc2f33a8a536137": {
      "model_module": "@jupyter-widgets/controls",
      "model_module_version": "1.5.0",
      "model_name": "VBoxModel",
      "state": {
       "children": [
        "IPY_MODEL_99f27d02818d479399d4ccdb526ceaa1",
        "IPY_MODEL_e47bc42ac4f941a1bd4f16b7f0eae582",
        "IPY_MODEL_c71afe6e550448e9959f7a0aec22ae0a"
       ],
       "layout": "IPY_MODEL_34860b9c4e1e4c98b8d81b135ac6e1e9"
      }
     },
     "56789c94e5ab418aaaa54097fdd8e1c2": {
      "model_module": "@jupyter-widgets/controls",
      "model_module_version": "1.5.0",
      "model_name": "DescriptionStyleModel",
      "state": {
       "description_width": ""
      }
     },
     "5679e39fe6e6407bbdbafec8692ad026": {
      "model_module": "@jupyter-widgets/base",
      "model_module_version": "1.2.0",
      "model_name": "LayoutModel",
      "state": {
       "justify_content": "center"
      }
     },
     "56b1acb5d9204e289660973d1bccb2be": {
      "model_module": "@jupyter-widgets/controls",
      "model_module_version": "1.5.0",
      "model_name": "HTMLModel",
      "state": {
       "layout": "IPY_MODEL_59f8eaad532d41108a91e7c2143c2e19",
       "style": "IPY_MODEL_463320300b48400d8afbc23e247eb022",
       "value": "<i>Wählen Sie die <ins>eine</ins> korrekte Antwort aus: </i>"
      }
     },
     "56b361b096f44438996feabd43d4e02a": {
      "model_module": "@jupyter-widgets/controls",
      "model_module_version": "1.5.0",
      "model_name": "VBoxModel",
      "state": {
       "children": [
        "IPY_MODEL_7f777a474ba445f2ae2e43d32ac83efe",
        "IPY_MODEL_7ed7d425ccc44079959ae49cb7b659d0",
        "IPY_MODEL_0b57ab2f87ef4a739ce1323949055ce3",
        "IPY_MODEL_7cda7f4856d3492384368f07fc2e85d6",
        "IPY_MODEL_b13c4d1851464b928096afbe3d728e8f"
       ],
       "layout": "IPY_MODEL_0896ffc714784c9a98ef9d7adeb8b871"
      }
     },
     "56bb0c97545c4222908aebc8059b6b70": {
      "model_module": "@jupyter-widgets/controls",
      "model_module_version": "1.5.0",
      "model_name": "ButtonModel",
      "state": {
       "description": "Wortart des Phrasenkopfes",
       "layout": "IPY_MODEL_e94f64ccad8c48f7990ad0eb7eacb444",
       "style": "IPY_MODEL_9f27a995d5f146fb8be095505ba1cedb"
      }
     },
     "56d3e6ea913c4d13be3a323a184b8d4d": {
      "model_module": "@jupyter-widgets/controls",
      "model_module_version": "1.5.0",
      "model_name": "VBoxModel",
      "state": {
       "children": [
        "IPY_MODEL_82cae03def2d4a389e4dd20b32667752",
        "IPY_MODEL_921706dc419346b2bbd249b5fc66b741",
        "IPY_MODEL_8c62cd1095a74389aa25108d72732923"
       ],
       "layout": "IPY_MODEL_e9b67db8ff5d4a71ad307ea997dd8ada"
      }
     },
     "56f36687ae1a4f2584a6b2cceb0db710": {
      "model_module": "@jupyter-widgets/controls",
      "model_module_version": "1.5.0",
      "model_name": "HTMLModel",
      "state": {
       "layout": "IPY_MODEL_43c563009bd749169857689557d37cb4",
       "style": "IPY_MODEL_0d25e6caa4d842119fb565b2ce221696",
       "value": "<i>Markieren Sie <ins>alle</ins> passenden Antworten: </i>"
      }
     },
     "571d1c92a88d472ea55bfbc29f935815": {
      "model_module": "@jupyter-widgets/controls",
      "model_module_version": "1.5.0",
      "model_name": "HBoxModel",
      "state": {
       "children": [
        "IPY_MODEL_5bd12cc3cc70426aa40b41652ea7f913",
        "IPY_MODEL_44f036cac1694dde8f8d7c966b74db92"
       ],
       "layout": "IPY_MODEL_fa958d99bd4341768d6bda96c1fbd590"
      }
     },
     "574b2c7b356b4800b6b5a2a43e8491dc": {
      "model_module": "@jupyter-widgets/base",
      "model_module_version": "1.2.0",
      "model_name": "LayoutModel",
      "state": {
       "width": "250px"
      }
     },
     "57aff6c9b8d24475945bd90210576c57": {
      "model_module": "@jupyter-widgets/base",
      "model_module_version": "1.2.0",
      "model_name": "LayoutModel",
      "state": {
       "width": "250px"
      }
     },
     "57bc35d8b8ac4264933c4d405438e936": {
      "model_module": "@jupyter-widgets/base",
      "model_module_version": "1.2.0",
      "model_name": "LayoutModel",
      "state": {}
     },
     "57d77d346cb14c54a9226c03a208368b": {
      "model_module": "@jupyter-widgets/base",
      "model_module_version": "1.2.0",
      "model_name": "LayoutModel",
      "state": {
       "width": "600px"
      }
     },
     "581b6168822c46eba729ba3257889b85": {
      "model_module": "@jupyter-widgets/base",
      "model_module_version": "1.2.0",
      "model_name": "LayoutModel",
      "state": {
       "justify_content": "center"
      }
     },
     "585afd38cd2344d191894837dfe6da16": {
      "model_module": "@jupyter-widgets/base",
      "model_module_version": "1.2.0",
      "model_name": "LayoutModel",
      "state": {
       "width": "250px"
      }
     },
     "586c69f30d0e42efad07f56e0ef23915": {
      "model_module": "@jupyter-widgets/controls",
      "model_module_version": "1.5.0",
      "model_name": "HTMLModel",
      "state": {
       "layout": "IPY_MODEL_e4222f741cd6474eae8a4e11488e2af4",
       "style": "IPY_MODEL_39858e2b5e8f4de7bde1469c3b224be5",
       "value": "<i>Wählen Sie die <ins>eine</ins> korrekte Antwort aus: </i>"
      }
     },
     "58856b860a4842fabdf619b78e975a01": {
      "model_module": "@jupyter-widgets/base",
      "model_module_version": "1.2.0",
      "model_name": "LayoutModel",
      "state": {
       "justify_content": "center"
      }
     },
     "58955916dde849cda43b2dca7cd1831e": {
      "model_module": "@jupyter-widgets/base",
      "model_module_version": "1.2.0",
      "model_name": "LayoutModel",
      "state": {}
     },
     "58ad9e368db5494fb5a65d1c7dd7538b": {
      "model_module": "@jupyter-widgets/base",
      "model_module_version": "1.2.0",
      "model_name": "LayoutModel",
      "state": {}
     },
     "58c060a8106d4df5a56fc295e1fe2a2c": {
      "model_module": "@jupyter-widgets/controls",
      "model_module_version": "1.5.0",
      "model_name": "VBoxModel",
      "state": {
       "children": [
        "IPY_MODEL_67984e37276e464f949ee0fa3a325801",
        "IPY_MODEL_03d6e28a5b4442388fe930cd023496d5",
        "IPY_MODEL_3017ab203cf74334b8e4e83be6762e8c",
        "IPY_MODEL_f99f51fc0a7040d9ad4d90aaa063080f"
       ],
       "layout": "IPY_MODEL_76c959c4d7f14d9a9f147b1101ece4ea"
      }
     },
     "5926b0dad46845c489119f1548506b89": {
      "model_module": "@jupyter-widgets/controls",
      "model_module_version": "1.5.0",
      "model_name": "HBoxModel",
      "state": {
       "children": [
        "IPY_MODEL_a8ec1fed00cd4bfe8c069254dc2267d6",
        "IPY_MODEL_9d75cc6bf75847e4a2a401c8f85c3462"
       ],
       "layout": "IPY_MODEL_ec0eaa3a06e747c3ac8147720ea7870f"
      }
     },
     "59276e9e284149c1bc250234e239ad10": {
      "model_module": "@jupyter-widgets/controls",
      "model_module_version": "1.5.0",
      "model_name": "DescriptionStyleModel",
      "state": {
       "description_width": ""
      }
     },
     "596f0495a3434196b3892d7f2d7f1bb5": {
      "model_module": "@jupyter-widgets/controls",
      "model_module_version": "1.5.0",
      "model_name": "DescriptionStyleModel",
      "state": {
       "description_width": ""
      }
     },
     "598b557e1cdc4ba1a6f290f8279e38db": {
      "model_module": "@jupyter-widgets/controls",
      "model_module_version": "1.5.0",
      "model_name": "ButtonModel",
      "state": {
       "description": "Korrekt?",
       "layout": "IPY_MODEL_94ddbc9069174acfb711e981cb789729",
       "style": "IPY_MODEL_f1cb2250a99143a7858ecfec0693cd4f"
      }
     },
     "59f1fc9aecc24814bd7143234d2c5940": {
      "model_module": "@jupyter-widgets/controls",
      "model_module_version": "1.5.0",
      "model_name": "ButtonStyleModel",
      "state": {}
     },
     "59f8eaad532d41108a91e7c2143c2e19": {
      "model_module": "@jupyter-widgets/base",
      "model_module_version": "1.2.0",
      "model_name": "LayoutModel",
      "state": {
       "justify_content": "center"
      }
     },
     "5a542b9825ce4aea91fa8a7efee046ac": {
      "model_module": "@jupyter-widgets/base",
      "model_module_version": "1.2.0",
      "model_name": "LayoutModel",
      "state": {
       "width": "600px"
      }
     },
     "5a71a06e40f6439eb6fa1f4dbabf11c4": {
      "model_module": "@jupyter-widgets/controls",
      "model_module_version": "1.5.0",
      "model_name": "HTMLModel",
      "state": {
       "layout": "IPY_MODEL_b649fdc35a44494298c1fa549b738858",
       "style": "IPY_MODEL_7e524b7587df4da0accd5b8d43711f28",
       "value": "<h4 style=\"font-size:14px;\">Die ________ eines Satzes bzgl. der formalen Grammatik wird erkannt.</h4>"
      }
     },
     "5a743374a6fc43dc9e221e92c041de8a": {
      "model_module": "@jupyter-widgets/base",
      "model_module_version": "1.2.0",
      "model_name": "LayoutModel",
      "state": {
       "width": "250px"
      }
     },
     "5a82045471c840e4a3d46a39e6d80002": {
      "model_module": "@jupyter-widgets/controls",
      "model_module_version": "1.5.0",
      "model_name": "DescriptionStyleModel",
      "state": {
       "description_width": ""
      }
     },
     "5aba14384a45410d9f54b65515257436": {
      "model_module": "@jupyter-widgets/controls",
      "model_module_version": "1.5.0",
      "model_name": "ButtonStyleModel",
      "state": {}
     },
     "5b03731c5280439a8317eea39cd6a0c9": {
      "model_module": "@jupyter-widgets/controls",
      "model_module_version": "1.5.0",
      "model_name": "VBoxModel",
      "state": {
       "children": [
        "IPY_MODEL_6dd647e0bcc345a9856bd436c80702ec",
        "IPY_MODEL_f7a37cc23a2344b8a09ce6ddbfb08951",
        "IPY_MODEL_5ed38f94169c47deab075d02a5d5d033",
        "IPY_MODEL_a117ea729a2f4488a9b0f3034b140423"
       ],
       "layout": "IPY_MODEL_0165014b13034190bedca7ccc3a0f9d2"
      }
     },
     "5b08c2f658b843ca9d06f39ba4527054": {
      "model_module": "@jupyter-widgets/controls",
      "model_module_version": "1.5.0",
      "model_name": "HTMLModel",
      "state": {
       "layout": "IPY_MODEL_332bd6649d3c49c4904abbd082bf421c",
       "style": "IPY_MODEL_fb8e33dc587347d2a2dbc84fa8ae68b8",
       "value": "<h4 style=\"font-size:14px;\">Die ________ eines Satzes bzgl. der formalen Grammatik wird erkannt.</h4>"
      }
     },
     "5b0e0723f36d47aaa48c8dcfabe7bd50": {
      "model_module": "@jupyter-widgets/controls",
      "model_module_version": "1.5.0",
      "model_name": "CheckboxModel",
      "state": {
       "description": "morphologische",
       "disabled": false,
       "layout": "IPY_MODEL_17208453dcb140499fd67fd7ec27aea1",
       "style": "IPY_MODEL_f508ecd89d3a470a856696e8b2e5b170",
       "value": false
      }
     },
     "5b52aecb929749ea96ade7abeb492dab": {
      "model_module": "@jupyter-widgets/controls",
      "model_module_version": "1.5.0",
      "model_name": "ButtonModel",
      "state": {
       "description": "Korrekt?",
       "layout": "IPY_MODEL_3f8dc685affa4f36ac07f54ec58179be",
       "style": "IPY_MODEL_13caa0b367694e8e830ee566790ca316"
      }
     },
     "5b58a830d5244fdeacf82770197dd7d1": {
      "model_module": "@jupyter-widgets/base",
      "model_module_version": "1.2.0",
      "model_name": "LayoutModel",
      "state": {
       "width": "600px"
      }
     },
     "5b65ef6d48f7469a85e019ce89d2a08e": {
      "model_module": "@jupyter-widgets/base",
      "model_module_version": "1.2.0",
      "model_name": "LayoutModel",
      "state": {
       "justify_content": "center"
      }
     },
     "5bb57fed4074422f8f7237b687a3eade": {
      "model_module": "@jupyter-widgets/controls",
      "model_module_version": "1.5.0",
      "model_name": "ButtonStyleModel",
      "state": {
       "button_color": "lightgreen"
      }
     },
     "5bd12cc3cc70426aa40b41652ea7f913": {
      "model_module": "@jupyter-widgets/controls",
      "model_module_version": "1.5.0",
      "model_name": "ButtonModel",
      "state": {
       "description": "Regelbuch",
       "layout": "IPY_MODEL_4f7b9a88327c44afb98ab90f6145f9a6",
       "style": "IPY_MODEL_221e00f02b814f5894f1dd6814695454"
      }
     },
     "5c0b44323bc846a1b2e1564fd54b4e20": {
      "model_module": "@jupyter-widgets/controls",
      "model_module_version": "1.5.0",
      "model_name": "VBoxModel",
      "state": {
       "children": [
        "IPY_MODEL_750a8a2f18d345a799eb9a5ed9ea6dd1",
        "IPY_MODEL_af0b03030da14df48492e1a1f08023ca",
        "IPY_MODEL_5926b0dad46845c489119f1548506b89",
        "IPY_MODEL_ab8a8f209fc6409cb703e1d38144f6c4"
       ],
       "layout": "IPY_MODEL_094fa9c6f9ba4b40bc992173f441cb85"
      }
     },
     "5c0f7cbbeea94a5fbf72913ba8c1be2e": {
      "model_module": "@jupyter-widgets/base",
      "model_module_version": "1.2.0",
      "model_name": "LayoutModel",
      "state": {
       "width": "250px"
      }
     },
     "5c201eafdfa34001bd3a902918c0c8cb": {
      "model_module": "@jupyter-widgets/controls",
      "model_module_version": "1.5.0",
      "model_name": "ButtonStyleModel",
      "state": {}
     },
     "5c48d51d658543ed9c8104a6030d857a": {
      "model_module": "@jupyter-widgets/base",
      "model_module_version": "1.2.0",
      "model_name": "LayoutModel",
      "state": {}
     },
     "5c5e3bacb1b64200813b04c91918ccd1": {
      "model_module": "@jupyter-widgets/controls",
      "model_module_version": "1.5.0",
      "model_name": "HTMLModel",
      "state": {
       "layout": "IPY_MODEL_6fe38ee7614540e89735dd053f394b44",
       "style": "IPY_MODEL_3b5eff52b09f49fe9407134519b300ce",
       "value": "<h4 style=\"font-size:14px;\">Warum gibt die parse-Funktion des Skripts vermutlich eine Sequenz zurück?</h4>"
      }
     },
     "5c81eb985e6540f99be975db134e0e06": {
      "model_module": "@jupyter-widgets/base",
      "model_module_version": "1.2.0",
      "model_name": "LayoutModel",
      "state": {
       "width": "250px"
      }
     },
     "5cbf6d47196b4805b64bd76a71f9642d": {
      "model_module": "@jupyter-widgets/controls",
      "model_module_version": "1.5.0",
      "model_name": "ButtonStyleModel",
      "state": {}
     },
     "5d05ca131447451fa34b6907ad6b60ee": {
      "model_module": "@jupyter-widgets/controls",
      "model_module_version": "1.5.0",
      "model_name": "DescriptionStyleModel",
      "state": {
       "description_width": "initial"
      }
     },
     "5d4495f0a16943789f8a448f8876b886": {
      "model_module": "@jupyter-widgets/controls",
      "model_module_version": "1.5.0",
      "model_name": "DescriptionStyleModel",
      "state": {
       "description_width": "initial"
      }
     },
     "5d968ebe95bf4986bd5ab08fc9b4c810": {
      "model_module": "@jupyter-widgets/controls",
      "model_module_version": "1.5.0",
      "model_name": "VBoxModel",
      "state": {
       "children": [
        "IPY_MODEL_b54b2ebb4efa48be950564380167bd33",
        "IPY_MODEL_98d3231c39804b368c9f5ba43ff28005",
        "IPY_MODEL_518db0b996e441979bbaefaaeb48351e",
        "IPY_MODEL_1631d4da670c40e4a46693c9424cf6f0",
        "IPY_MODEL_7b1e57b23c354d7bbd239dae1ebdeb88"
       ],
       "layout": "IPY_MODEL_02088acf4d0b4e669359f59cae39805e"
      }
     },
     "5dcf71b4ebe2498e9e82d7c70f0993e7": {
      "model_module": "@jupyter-widgets/controls",
      "model_module_version": "1.5.0",
      "model_name": "ButtonStyleModel",
      "state": {}
     },
     "5dd57c541dd344c0b7c070c3abd36f91": {
      "model_module": "@jupyter-widgets/controls",
      "model_module_version": "1.5.0",
      "model_name": "HBoxModel",
      "state": {
       "children": [
        "IPY_MODEL_983ce8ab4c644896bcc19fdd99e23607"
       ],
       "layout": "IPY_MODEL_b02ba225450c4dfab0fc0972955d2af3"
      }
     },
     "5e16ed7dfd744b48883c2fa564e968a6": {
      "model_module": "@jupyter-widgets/controls",
      "model_module_version": "1.5.0",
      "model_name": "CheckboxModel",
      "state": {
       "description": "Verbalphrase",
       "disabled": false,
       "layout": "IPY_MODEL_d0d654d60f59420c8011164ebb6409c6",
       "style": "IPY_MODEL_4665d09da0f9431cb7f76425f5f9809b",
       "value": false
      }
     },
     "5e2890841c724d12a4543e98561fd54b": {
      "model_module": "@jupyter-widgets/base",
      "model_module_version": "1.2.0",
      "model_name": "LayoutModel",
      "state": {}
     },
     "5e3cd1f965c641bfac40fdcf555ff6f6": {
      "model_module": "@jupyter-widgets/controls",
      "model_module_version": "1.5.0",
      "model_name": "ButtonModel",
      "state": {
       "description": "Regelbuch",
       "layout": "IPY_MODEL_c4f18ec364f3403385fe72326a924a90",
       "style": "IPY_MODEL_73ee9d800122451490c8e9ded7c6dfd0"
      }
     },
     "5e68943f9f154db2b3fe97260f75021d": {
      "model_module": "@jupyter-widgets/controls",
      "model_module_version": "1.5.0",
      "model_name": "DescriptionStyleModel",
      "state": {
       "description_width": ""
      }
     },
     "5e6d5df0c65047ec8a2a52edbcc0dc7d": {
      "model_module": "@jupyter-widgets/controls",
      "model_module_version": "1.5.0",
      "model_name": "HTMLModel",
      "state": {
       "layout": "IPY_MODEL_9ebcaa377cd84256a2a759be2a5be422",
       "style": "IPY_MODEL_204d3ce4e8fa4fe594add051d01923fe",
       "value": "<i>Wählen Sie die <ins>eine</ins> korrekte Antwort aus: </i>"
      }
     },
     "5e91488577a94d55b1da8f1dc04a55ca": {
      "model_module": "@jupyter-widgets/base",
      "model_module_version": "1.2.0",
      "model_name": "LayoutModel",
      "state": {}
     },
     "5ed38f94169c47deab075d02a5d5d033": {
      "model_module": "@jupyter-widgets/controls",
      "model_module_version": "1.5.0",
      "model_name": "HBoxModel",
      "state": {
       "children": [
        "IPY_MODEL_757c2073dbd648f7b5432b6d538a766a",
        "IPY_MODEL_f7b4dfbdfade4afd9a6e971bc22e38a7"
       ],
       "layout": "IPY_MODEL_11589d5f8dc547e481f3f7b362071182"
      }
     },
     "5edaf1e2335747e1975f2d1e7ab1375e": {
      "model_module": "@jupyter-widgets/controls",
      "model_module_version": "1.5.0",
      "model_name": "DropdownModel",
      "state": {
       "_options_labels": [
        "Morphem",
        "Symbol",
        "Wort",
        " "
       ],
       "index": 3,
       "layout": "IPY_MODEL_07e151eccd114c3a9ce4a41f044c3eb2",
       "style": "IPY_MODEL_88907d762fe94ee3a7dbfd27c992d4dc"
      }
     },
     "5ee295d3b95a47559c14a6f84647d0e4": {
      "model_module": "@jupyter-widgets/controls",
      "model_module_version": "1.5.0",
      "model_name": "DescriptionStyleModel",
      "state": {
       "description_width": ""
      }
     },
     "5f08d9a5c896474392e72e8af3524897": {
      "model_module": "@jupyter-widgets/base",
      "model_module_version": "1.2.0",
      "model_name": "LayoutModel",
      "state": {
       "justify_content": "center"
      }
     },
     "5f0d94ad211b46b390fcf5501fbef6c4": {
      "model_module": "@jupyter-widgets/base",
      "model_module_version": "1.2.0",
      "model_name": "LayoutModel",
      "state": {
       "width": "150px"
      }
     },
     "5f12f0f94bd34849a22d01df915ba415": {
      "model_module": "@jupyter-widgets/controls",
      "model_module_version": "1.5.0",
      "model_name": "DropdownModel",
      "state": {
       "_options_labels": [
        "Grundsymbole",
        "Nicht-Terminale",
        " "
       ],
       "index": 2,
       "layout": "IPY_MODEL_1ed83782254f4585b89b666fab5864c3",
       "style": "IPY_MODEL_8bba91e18276469a8fb0b566ce796144"
      }
     },
     "5f23747bd70c4846b180137745990ee5": {
      "model_module": "@jupyter-widgets/controls",
      "model_module_version": "1.5.0",
      "model_name": "DescriptionStyleModel",
      "state": {
       "description_width": "initial"
      }
     },
     "5f3d095beabf460890472f1e796940e7": {
      "model_module": "@jupyter-widgets/controls",
      "model_module_version": "1.5.0",
      "model_name": "ButtonModel",
      "state": {
       "description": "Wortstruktur",
       "layout": "IPY_MODEL_cb61a57f32fc401fa67eda2ff51c92c3",
       "style": "IPY_MODEL_27f66cbef8c549d5a47e4fafd7351b24"
      }
     },
     "5f58d0395c8a41f59b0bf9db44e9efca": {
      "model_module": "@jupyter-widgets/base",
      "model_module_version": "1.2.0",
      "model_name": "LayoutModel",
      "state": {
       "width": "600px"
      }
     },
     "5f6c525c32c54740930e37571b135718": {
      "model_module": "@jupyter-widgets/controls",
      "model_module_version": "1.5.0",
      "model_name": "ButtonStyleModel",
      "state": {}
     },
     "5fc7f37994e3417091559b4acc80548a": {
      "model_module": "@jupyter-widgets/controls",
      "model_module_version": "1.5.0",
      "model_name": "ButtonModel",
      "state": {
       "description": "Korrekt?",
       "layout": "IPY_MODEL_83ab5ee92665434e8f035e174858536b",
       "style": "IPY_MODEL_4171d116f47242708ecb11ca39f4af3c"
      }
     },
     "5ff0b744629a46a48c39c4de212346f4": {
      "model_module": "@jupyter-widgets/base",
      "model_module_version": "1.2.0",
      "model_name": "LayoutModel",
      "state": {
       "justify_content": "center"
      }
     },
     "60000860e45b42e3a89b26ae7258d52f": {
      "model_module": "@jupyter-widgets/base",
      "model_module_version": "1.2.0",
      "model_name": "LayoutModel",
      "state": {}
     },
     "603119a0a3e94aa2b445177a15036487": {
      "model_module": "@jupyter-widgets/base",
      "model_module_version": "1.2.0",
      "model_name": "LayoutModel",
      "state": {
       "justify_content": "center"
      }
     },
     "605a4108a17a42789310cbdaac38ed63": {
      "model_module": "@jupyter-widgets/base",
      "model_module_version": "1.2.0",
      "model_name": "LayoutModel",
      "state": {}
     },
     "6062b4f0b1d341a1b3b93dc3d09845a7": {
      "model_module": "@jupyter-widgets/controls",
      "model_module_version": "1.5.0",
      "model_name": "ButtonModel",
      "state": {
       "description": "Subjekt",
       "layout": "IPY_MODEL_5c0f7cbbeea94a5fbf72913ba8c1be2e",
       "style": "IPY_MODEL_385a98c8d5a64b329344a0efcbe74c52"
      }
     },
     "60e70a2da6ca4687ad77fdfa5728ad92": {
      "model_module": "@jupyter-widgets/controls",
      "model_module_version": "1.5.0",
      "model_name": "ButtonModel",
      "state": {
       "description": "Phrasenstruktur",
       "layout": "IPY_MODEL_367cbfafc7cb4b2eb317e19d7437d82c",
       "style": "IPY_MODEL_7574239a79744f229b3d599a07febb8e"
      }
     },
     "611908a6481c479781a5a56ed174b70a": {
      "model_module": "@jupyter-widgets/base",
      "model_module_version": "1.2.0",
      "model_name": "LayoutModel",
      "state": {}
     },
     "6122d2c559e6459bbaaa0a8f22e6c416": {
      "model_module": "@jupyter-widgets/controls",
      "model_module_version": "1.5.0",
      "model_name": "ButtonModel",
      "state": {
       "description": "genau ein",
       "layout": "IPY_MODEL_574b2c7b356b4800b6b5a2a43e8491dc",
       "style": "IPY_MODEL_3622f4e48aac470eb7011297eedccf91"
      }
     },
     "612ebf8e200c4c4cb14f51881788ea65": {
      "model_module": "@jupyter-widgets/base",
      "model_module_version": "1.2.0",
      "model_name": "LayoutModel",
      "state": {
       "justify_content": "center"
      }
     },
     "61406358c7f44467a0adc2ab68a1b33b": {
      "model_module": "@jupyter-widgets/controls",
      "model_module_version": "1.5.0",
      "model_name": "DescriptionStyleModel",
      "state": {
       "description_width": ""
      }
     },
     "6143195c139d40d6a37c2cc4c21c1fec": {
      "model_module": "@jupyter-widgets/controls",
      "model_module_version": "1.5.0",
      "model_name": "DescriptionStyleModel",
      "state": {
       "description_width": ""
      }
     },
     "6169cafd7b184dcb9bb4ecc135f6ebbd": {
      "model_module": "@jupyter-widgets/controls",
      "model_module_version": "1.5.0",
      "model_name": "CheckboxModel",
      "state": {
       "description": "pragmatische",
       "disabled": false,
       "layout": "IPY_MODEL_828d3160e0fc4264a6cdceddf177e487",
       "style": "IPY_MODEL_aa4a914678da442d9842ca2197852034",
       "value": false
      }
     },
     "61b1ba1f34a645f88d8149fb7dca0cd0": {
      "model_module": "@jupyter-widgets/base",
      "model_module_version": "1.2.0",
      "model_name": "LayoutModel",
      "state": {}
     },
     "61f6a73318f04a488531bf9b1eba9308": {
      "model_module": "@jupyter-widgets/controls",
      "model_module_version": "1.5.0",
      "model_name": "ButtonModel",
      "state": {
       "description": "genau ein",
       "layout": "IPY_MODEL_ab5f7294d3154cc7aced771d7d423489",
       "style": "IPY_MODEL_a7e45d8f29834c2c91640d170c6bfe66"
      }
     },
     "62124dc6bb7f4ab6a83e62a4f28e70ae": {
      "model_module": "@jupyter-widgets/controls",
      "model_module_version": "1.5.0",
      "model_name": "DescriptionStyleModel",
      "state": {
       "description_width": ""
      }
     },
     "62130cee7769434990ec912200df222b": {
      "model_module": "@jupyter-widgets/controls",
      "model_module_version": "1.5.0",
      "model_name": "DescriptionStyleModel",
      "state": {
       "description_width": ""
      }
     },
     "6216ceaaff3240179d8db02343752a66": {
      "model_module": "@jupyter-widgets/controls",
      "model_module_version": "1.5.0",
      "model_name": "ButtonModel",
      "state": {
       "description": "morphologisch ambige Formen",
       "layout": "IPY_MODEL_9caeca199207457db230b69705113c2b",
       "style": "IPY_MODEL_c6a8d3df83b64090928b97562c30e8ff"
      }
     },
     "621a92302d2143a6a975ecbdb3e4e882": {
      "model_module": "@jupyter-widgets/controls",
      "model_module_version": "1.5.0",
      "model_name": "DescriptionStyleModel",
      "state": {
       "description_width": ""
      }
     },
     "6220320c7aa24a25b350666218da8354": {
      "model_module": "@jupyter-widgets/controls",
      "model_module_version": "1.5.0",
      "model_name": "VBoxModel",
      "state": {
       "children": [
        "IPY_MODEL_191b4b1110064f2c93e761844f24916f",
        "IPY_MODEL_3eeff990ebc941eba1bf02c493af2014",
        "IPY_MODEL_9943682bacbb487c800d559f1a3ad366",
        "IPY_MODEL_39993eba413f4f5b9ef1e85d7952eac6",
        "IPY_MODEL_537a5b3100df40e9b9e6c69bf073d9c5"
       ],
       "layout": "IPY_MODEL_98bbf21d53c8464eaf2b880fc44f9136"
      }
     },
     "62209919e1154e56bea332c26a0d823a": {
      "model_module": "@jupyter-widgets/controls",
      "model_module_version": "1.5.0",
      "model_name": "ButtonModel",
      "state": {
       "description": "Objekt",
       "layout": "IPY_MODEL_8c6aa2768e5240b48f531c59e957ddf4",
       "style": "IPY_MODEL_162a2bcab50d42399690634b150be16f"
      }
     },
     "624105aeb7d94cc495295884db089740": {
      "model_module": "@jupyter-widgets/base",
      "model_module_version": "1.2.0",
      "model_name": "LayoutModel",
      "state": {
       "justify_content": "center"
      }
     },
     "62456b521a0f4b7fbdb061e5cb735e0b": {
      "model_module": "@jupyter-widgets/base",
      "model_module_version": "1.2.0",
      "model_name": "LayoutModel",
      "state": {
       "justify_content": "center"
      }
     },
     "624e353748da4ba6961f8996b830d6cb": {
      "model_module": "@jupyter-widgets/controls",
      "model_module_version": "1.5.0",
      "model_name": "ButtonModel",
      "state": {
       "description": "Subjekt",
       "layout": "IPY_MODEL_0c6e6186300149acaedc887320148500",
       "style": "IPY_MODEL_e04a7b4f62e143c29bda5a9eb33d87dc"
      }
     },
     "6265ecb5b96d40f6b52d090eeec895be": {
      "model_module": "@jupyter-widgets/controls",
      "model_module_version": "1.5.0",
      "model_name": "ButtonModel",
      "state": {
       "description": "Keine der anderen Möglichkeiten",
       "layout": "IPY_MODEL_585afd38cd2344d191894837dfe6da16",
       "style": "IPY_MODEL_d17e02cb4a4e4dc2800453c544a406b7"
      }
     },
     "626a16946b2f4430bc3857b9e30cd2f3": {
      "model_module": "@jupyter-widgets/base",
      "model_module_version": "1.2.0",
      "model_name": "LayoutModel",
      "state": {}
     },
     "6279865fc2fd44b0a420fb6e426f87a5": {
      "model_module": "@jupyter-widgets/controls",
      "model_module_version": "1.5.0",
      "model_name": "HBoxModel",
      "state": {
       "children": [
        "IPY_MODEL_0f79591a442d4b118a9c2e8dde379295",
        "IPY_MODEL_a8e4eeb782004fa4b56e71d70f5142e1"
       ],
       "layout": "IPY_MODEL_9f6e441b69ce42f2a43474a973ed7f65"
      }
     },
     "62a51d2895394143bce79b3ec2ba96d0": {
      "model_module": "@jupyter-widgets/base",
      "model_module_version": "1.2.0",
      "model_name": "LayoutModel",
      "state": {
       "width": "250px"
      }
     },
     "62bac137c20b4b619888f514e3889894": {
      "model_module": "@jupyter-widgets/controls",
      "model_module_version": "1.5.0",
      "model_name": "ButtonStyleModel",
      "state": {
       "button_color": "lightgreen"
      }
     },
     "62de141e78f44e0fbe9666c6cf16c6e7": {
      "model_module": "@jupyter-widgets/controls",
      "model_module_version": "1.5.0",
      "model_name": "HTMLModel",
      "state": {
       "layout": "IPY_MODEL_f4aa70ec806841e3a3442ae2d874507d",
       "style": "IPY_MODEL_241f34c282724523818c2f9ac9f93c8e",
       "value": "<h4 style=\"font-size:14px;\">Hinsichtlich welcher syntaktischen Grundprinzipien werden natürliche Sprachen mit formalen Methoden analysiert?</h4>"
      }
     },
     "631b7ecc3f9041d3a2e2b715c0b3942c": {
      "model_module": "@jupyter-widgets/controls",
      "model_module_version": "1.5.0",
      "model_name": "HTMLModel",
      "state": {
       "layout": "IPY_MODEL_928679b288ba4193b057d736a18f6d20",
       "style": "IPY_MODEL_5e68943f9f154db2b3fe97260f75021d",
       "value": "<h4 style=\"font-size:14px;\">Warum gibt die parse-Funktion des Skripts vermutlich eine Sequenz zurück?</h4>"
      }
     },
     "639efe48d42743b39d665f8162cd6968": {
      "model_module": "@jupyter-widgets/controls",
      "model_module_version": "1.5.0",
      "model_name": "HTMLModel",
      "state": {
       "layout": "IPY_MODEL_9005847e63a34228b7df0a1195de731d",
       "style": "IPY_MODEL_6143195c139d40d6a37c2cc4c21c1fec",
       "value": "<i>Wählen Sie die <ins>eine</ins> korrekte Antwort aus: </i>"
      }
     },
     "63e4a44a310a46898d1a8b44d0ba2a3d": {
      "model_module": "@jupyter-widgets/controls",
      "model_module_version": "1.5.0",
      "model_name": "CheckboxModel",
      "state": {
       "description": "Wohlgeformtheit",
       "disabled": false,
       "layout": "IPY_MODEL_ce827bfb4bed4d2d914b7c251231e6c2",
       "style": "IPY_MODEL_668d763092d84b7c85c787636708db16",
       "value": false
      }
     },
     "6420f127e8714a4f9d0313b432941943": {
      "model_module": "@jupyter-widgets/base",
      "model_module_version": "1.2.0",
      "model_name": "LayoutModel",
      "state": {
       "justify_content": "center"
      }
     },
     "64280e8d4bb14be787d166c75a5e7c13": {
      "model_module": "@jupyter-widgets/base",
      "model_module_version": "1.2.0",
      "model_name": "LayoutModel",
      "state": {}
     },
     "64e54ae080ee43cdb2d1785ea78b4f55": {
      "model_module": "@jupyter-widgets/base",
      "model_module_version": "1.2.0",
      "model_name": "LayoutModel",
      "state": {}
     },
     "64f606b256e3417ebc93587a97ccba94": {
      "model_module": "@jupyter-widgets/controls",
      "model_module_version": "1.5.0",
      "model_name": "DescriptionStyleModel",
      "state": {
       "description_width": ""
      }
     },
     "657d81ee5de54a99803bad6e8c642d85": {
      "model_module": "@jupyter-widgets/controls",
      "model_module_version": "1.5.0",
      "model_name": "HTMLModel",
      "state": {
       "layout": "IPY_MODEL_66988884e8184685a0bee32de539bdbf",
       "style": "IPY_MODEL_a438c5527bfb40e0ac4aa4a7e4f74f11",
       "value": "<h4 style=\"font-size:14px;\">Warum gibt die parse-Funktion des Skripts vermutlich eine Sequenz zurück?</h4>"
      }
     },
     "658222dd95e44f90b123c55808f34502": {
      "model_module": "@jupyter-widgets/controls",
      "model_module_version": "1.5.0",
      "model_name": "DescriptionStyleModel",
      "state": {
       "description_width": ""
      }
     },
     "659a2042b78a444e8475b90a5ce45d17": {
      "model_module": "@jupyter-widgets/controls",
      "model_module_version": "1.5.0",
      "model_name": "HTMLModel",
      "state": {
       "layout": "IPY_MODEL_0a38fad14e2e439da3fbc47fd77f5869",
       "style": "IPY_MODEL_4600b5f1eeab48458036b6528116a69f",
       "value": "<h4 style=\"font-size:14px;\">Welche Mittel kommen in einer formalen Syntaxanalyse zum Einsatz?</h4>"
      }
     },
     "65abefd47cb14316bb65d5cb2ad94455": {
      "model_module": "@jupyter-widgets/controls",
      "model_module_version": "1.5.0",
      "model_name": "VBoxModel",
      "state": {
       "children": [
        "IPY_MODEL_36cac6c1f7ce4078a475800674f52942",
        "IPY_MODEL_dce14714d57e4581bc89b4c68bf84cfb",
        "IPY_MODEL_8d84238e46a74a01813a95e4483f025a"
       ],
       "layout": "IPY_MODEL_9a957eccf112413eb7439b22260e44a9"
      }
     },
     "65c8f77852614b16a2f215384c82e43a": {
      "model_module": "@jupyter-widgets/base",
      "model_module_version": "1.2.0",
      "model_name": "LayoutModel",
      "state": {
       "justify_content": "center"
      }
     },
     "65e96d9c4f124223a9c04c19d4afc470": {
      "model_module": "@jupyter-widgets/controls",
      "model_module_version": "1.5.0",
      "model_name": "ButtonModel",
      "state": {
       "description": "formale Grammatik",
       "layout": "IPY_MODEL_09b943243bf4489f8821c9e752fc29f6",
       "style": "IPY_MODEL_4dec79ad64e74447b19911fa0efb93b9"
      }
     },
     "6603729a34ed4cf6a2211adb29e19f78": {
      "model_module": "@jupyter-widgets/controls",
      "model_module_version": "1.5.0",
      "model_name": "ButtonModel",
      "state": {
       "description": "Korrekt?",
       "layout": "IPY_MODEL_4bff1ae06ae8447b94d44ee1c8794b55",
       "style": "IPY_MODEL_d7670e7ec1ab4a05bd674df089ba825d"
      }
     },
     "660998c12ab841c2806a19cb5f1e7bd1": {
      "model_module": "@jupyter-widgets/controls",
      "model_module_version": "1.5.0",
      "model_name": "ButtonStyleModel",
      "state": {}
     },
     "663105b435c541f18ef46cd563ab5b08": {
      "model_module": "@jupyter-widgets/controls",
      "model_module_version": "1.5.0",
      "model_name": "VBoxModel",
      "state": {
       "children": [
        "IPY_MODEL_df257f61950e4a9a85105460fccc60a9",
        "IPY_MODEL_cc7729aa17b84b3494ef53d6807b6a97",
        "IPY_MODEL_e8d82b59cfb4441b8bc242309080c748",
        "IPY_MODEL_05d682c55f184e69a796a2518e926c27"
       ],
       "layout": "IPY_MODEL_9a21d3e4159c444ab2720590d995a3c8"
      }
     },
     "66715f036f31402199f43c10dacf14ff": {
      "model_module": "@jupyter-widgets/base",
      "model_module_version": "1.2.0",
      "model_name": "LayoutModel",
      "state": {
       "width": "250px"
      }
     },
     "6674b606863a42998c90a7135da63f60": {
      "model_module": "@jupyter-widgets/base",
      "model_module_version": "1.2.0",
      "model_name": "LayoutModel",
      "state": {
       "justify_content": "center"
      }
     },
     "668d763092d84b7c85c787636708db16": {
      "model_module": "@jupyter-widgets/controls",
      "model_module_version": "1.5.0",
      "model_name": "DescriptionStyleModel",
      "state": {
       "description_width": "initial"
      }
     },
     "66988884e8184685a0bee32de539bdbf": {
      "model_module": "@jupyter-widgets/base",
      "model_module_version": "1.2.0",
      "model_name": "LayoutModel",
      "state": {
       "justify_content": "center"
      }
     },
     "66a08c024e6e4615a9b5428423fb2746": {
      "model_module": "@jupyter-widgets/controls",
      "model_module_version": "1.5.0",
      "model_name": "HTMLModel",
      "state": {
       "layout": "IPY_MODEL_e8239886d7f6400799db436feb3bfda6",
       "style": "IPY_MODEL_ed9f13a4d9784323aab6ab9b99c8a042",
       "value": "<h4 style=\"font-size:14px;\">Welche Funktion nimmt das Gerund ein, wenn das Nomen Kopf der Gerund-Nomen-Phrase ist?</h4>"
      }
     },
     "66cb8aa4a109461fa4063cc9c4355323": {
      "model_module": "@jupyter-widgets/controls",
      "model_module_version": "1.5.0",
      "model_name": "DescriptionStyleModel",
      "state": {
       "description_width": "initial"
      }
     },
     "66ff5d6fa8864c47b3edba2a83a0363f": {
      "model_module": "@jupyter-widgets/controls",
      "model_module_version": "1.5.0",
      "model_name": "VBoxModel",
      "state": {
       "children": [
        "IPY_MODEL_51975a380b314b8aa0b7a3a4bb1239fd",
        "IPY_MODEL_8ae0e347b8ff41248699b4dd2e333484",
        "IPY_MODEL_445c61d8809345ca966fbc8ba42c7f22",
        "IPY_MODEL_9a82514f8dcf4d2aa916cb0e748d7c1e",
        "IPY_MODEL_df38b75b30684ffb916c236f90602bc2"
       ],
       "layout": "IPY_MODEL_dce71a8d1cec40798287fd9c0d09e510"
      }
     },
     "6702cba7c58147dba8af80e6794b80f4": {
      "model_module": "@jupyter-widgets/base",
      "model_module_version": "1.2.0",
      "model_name": "LayoutModel",
      "state": {}
     },
     "6719a86a40ae4b22930254e4cb566c5f": {
      "model_module": "@jupyter-widgets/controls",
      "model_module_version": "1.5.0",
      "model_name": "CheckboxModel",
      "state": {
       "description": "syntaktische",
       "disabled": false,
       "layout": "IPY_MODEL_88431e31bdca4b199852f33b95f821f7",
       "style": "IPY_MODEL_bbd90b6589174c6f8c14549fc4c75b0b",
       "value": true
      }
     },
     "671db31331584754a1a8a9fbb4aefc6f": {
      "model_module": "@jupyter-widgets/base",
      "model_module_version": "1.2.0",
      "model_name": "LayoutModel",
      "state": {}
     },
     "67984e37276e464f949ee0fa3a325801": {
      "model_module": "@jupyter-widgets/controls",
      "model_module_version": "1.5.0",
      "model_name": "CheckboxModel",
      "state": {
       "description": "Dependenzgraph mit Phrasenlabels als Knoten",
       "disabled": false,
       "layout": "IPY_MODEL_1ef52a289df74ead937dbf760000dd68",
       "style": "IPY_MODEL_a71b174688b4468b8cc5793869927ff1",
       "value": false
      }
     },
     "67c0fb1a009c40bc8c6360130d40dbf3": {
      "model_module": "@jupyter-widgets/controls",
      "model_module_version": "1.5.0",
      "model_name": "ButtonStyleModel",
      "state": {}
     },
     "67c802e9c4924f1da68ee9d579a0d310": {
      "model_module": "@jupyter-widgets/controls",
      "model_module_version": "1.5.0",
      "model_name": "ButtonStyleModel",
      "state": {}
     },
     "67d5f60556bb4f449999592c01ee674b": {
      "model_module": "@jupyter-widgets/base",
      "model_module_version": "1.2.0",
      "model_name": "LayoutModel",
      "state": {}
     },
     "680c961b08de48f483c589d3216cfd50": {
      "model_module": "@jupyter-widgets/controls",
      "model_module_version": "1.5.0",
      "model_name": "DescriptionStyleModel",
      "state": {
       "description_width": "initial"
      }
     },
     "6812fe1a278d4a629f571cb70738b133": {
      "model_module": "@jupyter-widgets/controls",
      "model_module_version": "1.5.0",
      "model_name": "ButtonStyleModel",
      "state": {}
     },
     "685ece9a6322480ca2987c25c89aaeec": {
      "model_module": "@jupyter-widgets/controls",
      "model_module_version": "1.5.0",
      "model_name": "CheckboxModel",
      "state": {
       "description": "Gerund ist Kopf eines nichtfiniten Teilsatzes",
       "disabled": false,
       "layout": "IPY_MODEL_5584f801b45c44c5a210d24dc57449f1",
       "style": "IPY_MODEL_cb3a319845e642ff858fc1d7edbb6645",
       "value": false
      }
     },
     "6892df3f51184675af1ffcd62308f1c6": {
      "model_module": "@jupyter-widgets/controls",
      "model_module_version": "1.5.0",
      "model_name": "ButtonModel",
      "state": {
       "description": "Keine der anderen Möglichkeiten",
       "layout": "IPY_MODEL_563ea8eac0b74c2aa5b7a254a547d6ec",
       "style": "IPY_MODEL_eb72f1f783974da281a8847aeab96f60"
      }
     },
     "692bd5b73c294e2390ddf6a3f1518b4e": {
      "model_module": "@jupyter-widgets/controls",
      "model_module_version": "1.5.0",
      "model_name": "VBoxModel",
      "state": {
       "children": [
        "IPY_MODEL_866ee719848a4db1860a2cbec039820e",
        "IPY_MODEL_97a3c53ee9574da1a4111dad42da1360",
        "IPY_MODEL_9a6b897d45de419f9befed78ac5af86c",
        "IPY_MODEL_4a9e4f80b201435285dea8f943665690",
        "IPY_MODEL_f8a2cf9fd5764c21be50e0c071a028d4"
       ],
       "layout": "IPY_MODEL_e93b7a4b1c874f60aab190ff7a29f22f"
      }
     },
     "69471be1cc3d4699a2b30beef4c8ce9d": {
      "model_module": "@jupyter-widgets/base",
      "model_module_version": "1.2.0",
      "model_name": "LayoutModel",
      "state": {
       "width": "250px"
      }
     },
     "69539cbe971f40899d793f1efefd445c": {
      "model_module": "@jupyter-widgets/controls",
      "model_module_version": "1.5.0",
      "model_name": "HTMLModel",
      "state": {
       "layout": "IPY_MODEL_c43751d833cb4a2c9c8145c3710271b9",
       "style": "IPY_MODEL_aaa5c9935f644606a5a68eb180cf5320",
       "value": "<i>Wählen Sie die <ins>eine</ins> korrekte Antwort aus: </i>"
      }
     },
     "69683bda11cf4a6d905631d8e7f12c25": {
      "model_module": "@jupyter-widgets/base",
      "model_module_version": "1.2.0",
      "model_name": "LayoutModel",
      "state": {}
     },
     "697688089cd24826bdf28047e4f45388": {
      "model_module": "@jupyter-widgets/controls",
      "model_module_version": "1.5.0",
      "model_name": "ButtonModel",
      "state": {
       "description": "Konstituenz",
       "layout": "IPY_MODEL_fff5a7e4e9104b17bac9403f96ea852b",
       "style": "IPY_MODEL_b2df974be4bc4f58847d0a754e6f9f1f"
      }
     },
     "697eda8a1a5541ad9f75a82ada307f64": {
      "model_module": "@jupyter-widgets/controls",
      "model_module_version": "1.5.0",
      "model_name": "CheckboxModel",
      "state": {
       "description": "Sinnhaftigkeit",
       "disabled": false,
       "layout": "IPY_MODEL_059bcff6714a4cab8007b711272130a6",
       "style": "IPY_MODEL_869d1e9e340f41cdbbaaf19a021c0a56",
       "value": false
      }
     },
     "69ad8da6db804d4c94682c3bba7ebb04": {
      "model_module": "@jupyter-widgets/controls",
      "model_module_version": "1.5.0",
      "model_name": "ButtonModel",
      "state": {
       "description": "Wissen um Sprachstruktur",
       "layout": "IPY_MODEL_9abc4ec798ff43b78cdc94f5ed34360e",
       "style": "IPY_MODEL_67c0fb1a009c40bc8c6360130d40dbf3"
      }
     },
     "69ca504958074523977450ad166992d5": {
      "model_module": "@jupyter-widgets/controls",
      "model_module_version": "1.5.0",
      "model_name": "ButtonStyleModel",
      "state": {}
     },
     "6a3365b6acd743d8a1afe23a084d4c3f": {
      "model_module": "@jupyter-widgets/base",
      "model_module_version": "1.2.0",
      "model_name": "LayoutModel",
      "state": {
       "justify_content": "center"
      }
     },
     "6a357b7c090642a3b33a986962d0ba3d": {
      "model_module": "@jupyter-widgets/base",
      "model_module_version": "1.2.0",
      "model_name": "LayoutModel",
      "state": {}
     },
     "6a55e6573d4b4eeea39bdad734de4bd7": {
      "model_module": "@jupyter-widgets/controls",
      "model_module_version": "1.5.0",
      "model_name": "ButtonModel",
      "state": {
       "description": "Subjekt",
       "layout": "IPY_MODEL_57aff6c9b8d24475945bd90210576c57",
       "style": "IPY_MODEL_782d773115f84f5299d9c97094b831a2"
      }
     },
     "6a67318fc42f40fb9c68cbd6788079c2": {
      "model_module": "@jupyter-widgets/base",
      "model_module_version": "1.2.0",
      "model_name": "LayoutModel",
      "state": {
       "width": "250px"
      }
     },
     "6a70b132c1fd4beea958516130f3e8a3": {
      "model_module": "@jupyter-widgets/controls",
      "model_module_version": "1.5.0",
      "model_name": "ButtonModel",
      "state": {
       "description": "Regelsystem",
       "layout": "IPY_MODEL_8cd76db643a84261bd33fcc5297e52c6",
       "style": "IPY_MODEL_3fe0c768992448528c432060f7b21e6d"
      }
     },
     "6b1e26778400425b90bfe4c8304cf6cc": {
      "model_module": "@jupyter-widgets/controls",
      "model_module_version": "1.5.0",
      "model_name": "ButtonModel",
      "state": {
       "description": "Wortstruktur",
       "layout": "IPY_MODEL_6f675020184b4a0690ec2bc405a22575",
       "style": "IPY_MODEL_837f512dbee148ee873cfe6a7c9d75e8"
      }
     },
     "6b37e4c9c09745fda893213c356ee562": {
      "model_module": "@jupyter-widgets/base",
      "model_module_version": "1.2.0",
      "model_name": "LayoutModel",
      "state": {
       "width": "250px"
      }
     },
     "6b4020fc7b304030b9f62dc8843c129c": {
      "model_module": "@jupyter-widgets/controls",
      "model_module_version": "1.5.0",
      "model_name": "ButtonStyleModel",
      "state": {}
     },
     "6b7b7eb0d4644c289c4fd3af8a4debc5": {
      "model_module": "@jupyter-widgets/controls",
      "model_module_version": "1.5.0",
      "model_name": "VBoxModel",
      "state": {
       "children": [
        "IPY_MODEL_5c5e3bacb1b64200813b04c91918ccd1",
        "IPY_MODEL_254f06616a52421983780c07529796ff",
        "IPY_MODEL_df26b1a449d04521a5abb75fe3548d56",
        "IPY_MODEL_4a3356eeb89641ce8bfd703d1d8fd94e"
       ],
       "layout": "IPY_MODEL_2b3109645a1e4f1aa01be5b6ebaf8b31"
      }
     },
     "6b8f0cccd44b4963a92ad715439021ed": {
      "model_module": "@jupyter-widgets/controls",
      "model_module_version": "1.5.0",
      "model_name": "VBoxModel",
      "state": {
       "children": [
        "IPY_MODEL_f9e703bc335a483bb52615b36bec6bd5",
        "IPY_MODEL_0cc8d70c7a224fb08817d6828cc1dfca",
        "IPY_MODEL_ae4e23f0f7c14439a23d10090cbdbe0d",
        "IPY_MODEL_0752b1215b434b97911f2dab0e99e409"
       ],
       "layout": "IPY_MODEL_09597c60e3214a62a77b4e7f981c0e66"
      }
     },
     "6b989b3b57b6464cb2190040cce2b889": {
      "model_module": "@jupyter-widgets/controls",
      "model_module_version": "1.5.0",
      "model_name": "VBoxModel",
      "state": {
       "children": [
        "IPY_MODEL_f7a3d5f51efd471cac089462c9d1b927",
        "IPY_MODEL_e1a6eb162bbd4e08856b179a04e0e497",
        "IPY_MODEL_3d33fcf0de134aa3b40baea403549302",
        "IPY_MODEL_21e7270c766d4d4a846596017f043b09"
       ],
       "layout": "IPY_MODEL_d8684260494945c483ab79ec3f3c4fe6"
      }
     },
     "6bed3b979e434fcaac0b5a33dd49649d": {
      "model_module": "@jupyter-widgets/base",
      "model_module_version": "1.2.0",
      "model_name": "LayoutModel",
      "state": {
       "width": "250px"
      }
     },
     "6c134c7b76fd4513945567b5e0989e5f": {
      "model_module": "@jupyter-widgets/controls",
      "model_module_version": "1.5.0",
      "model_name": "HTMLModel",
      "state": {
       "layout": "IPY_MODEL_e68bbd3e8f9c42f2ac40a0a60fd1d320",
       "style": "IPY_MODEL_164fc2911eec466db2ac580a252ceb7f",
       "value": "<h4 style=\"font-size:14px;\">Die Syntax ist ein</h4>"
      }
     },
     "6c20ddfd8c3e494b94714ab3aaae51a5": {
      "model_module": "@jupyter-widgets/controls",
      "model_module_version": "1.5.0",
      "model_name": "ButtonModel",
      "state": {
       "description": "Phrasenstruktur",
       "layout": "IPY_MODEL_cad20bb0a87c49c19c731523d72c7b8b",
       "style": "IPY_MODEL_e27c34ef74d144209bb46ad0141a7d7a"
      }
     },
     "6c52b283da2e4c7b9dc5e754cc86ae2f": {
      "model_module": "@jupyter-widgets/controls",
      "model_module_version": "1.5.0",
      "model_name": "ButtonModel",
      "state": {
       "description": "Korrekt?",
       "layout": "IPY_MODEL_6bed3b979e434fcaac0b5a33dd49649d",
       "style": "IPY_MODEL_3e235aa60b5f4e7fbcd69fb042303720"
      }
     },
     "6c6db4c0e7104fdd950c76391a2a6a80": {
      "model_module": "@jupyter-widgets/controls",
      "model_module_version": "1.5.0",
      "model_name": "ButtonStyleModel",
      "state": {}
     },
     "6c76e895d93041dcbe3a8665f3b84cb5": {
      "model_module": "@jupyter-widgets/base",
      "model_module_version": "1.2.0",
      "model_name": "LayoutModel",
      "state": {
       "width": "250px"
      }
     },
     "6ca93f6b964045c3ba1c44b5e983f756": {
      "model_module": "@jupyter-widgets/controls",
      "model_module_version": "1.5.0",
      "model_name": "DescriptionStyleModel",
      "state": {
       "description_width": "initial"
      }
     },
     "6cabc13356264cb3a1a8933ea4f6d656": {
      "model_module": "@jupyter-widgets/controls",
      "model_module_version": "1.5.0",
      "model_name": "VBoxModel",
      "state": {
       "children": [
        "IPY_MODEL_aa8cbb93bb7843ba8da989ce0a1377c9",
        "IPY_MODEL_43a5876f4f0a416a9ca24d36119164fb",
        "IPY_MODEL_0d320b548a3d4918b3573218ed594fb3",
        "IPY_MODEL_f4923fa86ba34a418fc2867cbd89abb3"
       ],
       "layout": "IPY_MODEL_9c6712167ef3432abee95b87cfa07844"
      }
     },
     "6d00d0b60b9543968ca789cd269196c2": {
      "model_module": "@jupyter-widgets/base",
      "model_module_version": "1.2.0",
      "model_name": "LayoutModel",
      "state": {
       "width": "250px"
      }
     },
     "6d0306471b9d4f83ae37c212e9c702c5": {
      "model_module": "@jupyter-widgets/base",
      "model_module_version": "1.2.0",
      "model_name": "LayoutModel",
      "state": {}
     },
     "6d1d12aa85014fb5889139c0e5f2da68": {
      "model_module": "@jupyter-widgets/base",
      "model_module_version": "1.2.0",
      "model_name": "LayoutModel",
      "state": {
       "width": "250px"
      }
     },
     "6d541ace529e447cb59912f1b7822055": {
      "model_module": "@jupyter-widgets/base",
      "model_module_version": "1.2.0",
      "model_name": "LayoutModel",
      "state": {
       "justify_content": "center"
      }
     },
     "6d6ba62315024bb696412a9103e049b0": {
      "model_module": "@jupyter-widgets/base",
      "model_module_version": "1.2.0",
      "model_name": "LayoutModel",
      "state": {
       "justify_content": "center"
      }
     },
     "6d7a0c61a77b480897d2168387fb430f": {
      "model_module": "@jupyter-widgets/base",
      "model_module_version": "1.2.0",
      "model_name": "LayoutModel",
      "state": {
       "justify_content": "center"
      }
     },
     "6d8c6c4febef43c1b4525a56eba17a91": {
      "model_module": "@jupyter-widgets/base",
      "model_module_version": "1.2.0",
      "model_name": "LayoutModel",
      "state": {}
     },
     "6dbd98ec7a974c47876179d8f514b6c0": {
      "model_module": "@jupyter-widgets/controls",
      "model_module_version": "1.5.0",
      "model_name": "DescriptionStyleModel",
      "state": {
       "description_width": ""
      }
     },
     "6dbd9b4a26e94c63a46c690e9faf9595": {
      "model_module": "@jupyter-widgets/controls",
      "model_module_version": "1.5.0",
      "model_name": "DropdownModel",
      "state": {
       "_options_labels": [
        "Oberbegriff",
        "Synonym",
        "Teilbereich",
        " "
       ],
       "index": 2,
       "layout": "IPY_MODEL_433f6d3d29334d569614ffa620a22b85",
       "style": "IPY_MODEL_b82b0895e7384e3996619817b12942f5"
      }
     },
     "6dc4c56beb4b495f88cab51e6f590716": {
      "model_module": "@jupyter-widgets/base",
      "model_module_version": "1.2.0",
      "model_name": "LayoutModel",
      "state": {
       "justify_content": "center"
      }
     },
     "6dd647e0bcc345a9856bd436c80702ec": {
      "model_module": "@jupyter-widgets/controls",
      "model_module_version": "1.5.0",
      "model_name": "HTMLModel",
      "state": {
       "layout": "IPY_MODEL_9b23dcfa62694bb7b26ea6ba7d9aa72d",
       "style": "IPY_MODEL_75a22c216b88443e9ae1884404216234",
       "value": "<h4 style=\"font-size:14px;\">Bzgl. welcher (nicht an der Oberflächensyntax ersichtlichen) Eigenschaft unterscheiden sich die PPs in den beiden Analysen?</h4>"
      }
     },
     "6dd7ebcf266b480abe91381600197136": {
      "model_module": "@jupyter-widgets/base",
      "model_module_version": "1.2.0",
      "model_name": "LayoutModel",
      "state": {}
     },
     "6ddf66b6cd444bf0b9d349c90797bf16": {
      "model_module": "@jupyter-widgets/base",
      "model_module_version": "1.2.0",
      "model_name": "LayoutModel",
      "state": {
       "width": "250px"
      }
     },
     "6de00decf1a64357809e7437ea63b8bd": {
      "model_module": "@jupyter-widgets/base",
      "model_module_version": "1.2.0",
      "model_name": "LayoutModel",
      "state": {
       "width": "250px"
      }
     },
     "6de5d6202d91411094caa4c29a35bb7b": {
      "model_module": "@jupyter-widgets/controls",
      "model_module_version": "1.5.0",
      "model_name": "DescriptionStyleModel",
      "state": {
       "description_width": ""
      }
     },
     "6de908e9a488456293fcd7ff84976e21": {
      "model_module": "@jupyter-widgets/base",
      "model_module_version": "1.2.0",
      "model_name": "LayoutModel",
      "state": {
       "width": "250px"
      }
     },
     "6df86fdbae95487d89b33d00f1fc830d": {
      "model_module": "@jupyter-widgets/base",
      "model_module_version": "1.2.0",
      "model_name": "LayoutModel",
      "state": {}
     },
     "6e1fe237e678462facfeff449a556642": {
      "model_module": "@jupyter-widgets/controls",
      "model_module_version": "1.5.0",
      "model_name": "DescriptionStyleModel",
      "state": {
       "description_width": "initial"
      }
     },
     "6e68dbdae30749a1ac520bfcc278e85c": {
      "model_module": "@jupyter-widgets/controls",
      "model_module_version": "1.5.0",
      "model_name": "ButtonModel",
      "state": {
       "description": "Abhängigkeitsstruktur",
       "layout": "IPY_MODEL_e2dc9a9ce1d84bad8975f538dcc6075d",
       "style": "IPY_MODEL_a9de790cb894452194c4a5d9d9347ac9"
      }
     },
     "6e70df9490d34cfea171becd13a31417": {
      "model_module": "@jupyter-widgets/controls",
      "model_module_version": "1.5.0",
      "model_name": "HBoxModel",
      "state": {
       "children": [
        "IPY_MODEL_ad8923efeb8f4376aa92f216f0ec7745",
        "IPY_MODEL_71b026c72d784e8cbf5d94bede584556"
       ],
       "layout": "IPY_MODEL_a13f5de61b8e4602b0817b9ba9b3d151"
      }
     },
     "6e7c3ba3775d480797f06b4bddc5e56e": {
      "model_module": "@jupyter-widgets/controls",
      "model_module_version": "1.5.0",
      "model_name": "DescriptionStyleModel",
      "state": {
       "description_width": "initial"
      }
     },
     "6e88012e15f348528521c817e197666a": {
      "model_module": "@jupyter-widgets/controls",
      "model_module_version": "1.5.0",
      "model_name": "HTMLModel",
      "state": {
       "layout": "IPY_MODEL_d824303e249f4e209849b3f0df938472",
       "style": "IPY_MODEL_3b14359e984f48b986bc3440b883282d",
       "value": "<h4 style=\"font-size:14px;\">In welcher Beziehung können Gerund und nachfolgendes Nomen stehen?</h4>"
      }
     },
     "6ea0996983b74a9bb9866ceffc9be616": {
      "model_module": "@jupyter-widgets/controls",
      "model_module_version": "1.5.0",
      "model_name": "ButtonModel",
      "state": {
       "description": "Subjekt",
       "layout": "IPY_MODEL_6b37e4c9c09745fda893213c356ee562",
       "style": "IPY_MODEL_6ffcc8f2142a4b59b13d814c8bd9de18"
      }
     },
     "6ea4c707ffea4363988c87e18f859017": {
      "model_module": "@jupyter-widgets/base",
      "model_module_version": "1.2.0",
      "model_name": "LayoutModel",
      "state": {
       "width": "600px"
      }
     },
     "6eb327a90f994cee9c37d0fe19fc577b": {
      "model_module": "@jupyter-widgets/base",
      "model_module_version": "1.2.0",
      "model_name": "LayoutModel",
      "state": {
       "justify_content": "center"
      }
     },
     "6ec90d851f124c56bbcddae4cb5b023d": {
      "model_module": "@jupyter-widgets/controls",
      "model_module_version": "1.5.0",
      "model_name": "ButtonModel",
      "state": {
       "description": "Objekt",
       "layout": "IPY_MODEL_6d1d12aa85014fb5889139c0e5f2da68",
       "style": "IPY_MODEL_dc680ae177a74461b5ade3446f77f2f7"
      }
     },
     "6ef6ddf4c8244029b7e406c065fd005d": {
      "model_module": "@jupyter-widgets/controls",
      "model_module_version": "1.5.0",
      "model_name": "DescriptionStyleModel",
      "state": {
       "description_width": ""
      }
     },
     "6f0fea5d63f34460b257e180ba9f389d": {
      "model_module": "@jupyter-widgets/controls",
      "model_module_version": "1.5.0",
      "model_name": "HBoxModel",
      "state": {
       "children": [
        "IPY_MODEL_cc2105b8ce664b028304559e4335cc17",
        "IPY_MODEL_40925aa97ccb4d87936078da817a61d6"
       ],
       "layout": "IPY_MODEL_90921eee57f240b79d7687a2b0dbd349"
      }
     },
     "6f45ab2d2efb4c5e8c2763cb5ea2c6f4": {
      "model_module": "@jupyter-widgets/controls",
      "model_module_version": "1.5.0",
      "model_name": "HBoxModel",
      "state": {
       "children": [
        "IPY_MODEL_e9975cd8863c4c699fc9420d04653013",
        "IPY_MODEL_32e8f6f81c1740ae859b3ed87a515dea"
       ],
       "layout": "IPY_MODEL_e3785f19565e4a44a4965da93fb86414"
      }
     },
     "6f474ed526ae46c087720b5e6a25ca63": {
      "model_module": "@jupyter-widgets/controls",
      "model_module_version": "1.5.0",
      "model_name": "ButtonModel",
      "state": {
       "description": "Theorie der Sprachstruktur",
       "layout": "IPY_MODEL_5a743374a6fc43dc9e221e92c041de8a",
       "style": "IPY_MODEL_4884ba9c022547219966dc218c0eb022"
      }
     },
     "6f4fa37d385640e0945c55abe86a3cf0": {
      "model_module": "@jupyter-widgets/base",
      "model_module_version": "1.2.0",
      "model_name": "LayoutModel",
      "state": {
       "width": "250px"
      }
     },
     "6f675020184b4a0690ec2bc405a22575": {
      "model_module": "@jupyter-widgets/base",
      "model_module_version": "1.2.0",
      "model_name": "LayoutModel",
      "state": {
       "width": "250px"
      }
     },
     "6fdd83245fd54be9ae844f4702d74895": {
      "model_module": "@jupyter-widgets/controls",
      "model_module_version": "1.5.0",
      "model_name": "DescriptionStyleModel",
      "state": {
       "description_width": "initial"
      }
     },
     "6fe38ee7614540e89735dd053f394b44": {
      "model_module": "@jupyter-widgets/base",
      "model_module_version": "1.2.0",
      "model_name": "LayoutModel",
      "state": {
       "justify_content": "center"
      }
     },
     "6ffcc8f2142a4b59b13d814c8bd9de18": {
      "model_module": "@jupyter-widgets/controls",
      "model_module_version": "1.5.0",
      "model_name": "ButtonStyleModel",
      "state": {}
     },
     "7007921789c44fe795ef1a7da16e8976": {
      "model_module": "@jupyter-widgets/controls",
      "model_module_version": "1.5.0",
      "model_name": "CheckboxModel",
      "state": {
       "description": "Konstituenz",
       "disabled": false,
       "layout": "IPY_MODEL_c436ed84225a448184896a1d5d4fbb22",
       "style": "IPY_MODEL_7a303d0e5de84158bf10c8f28519695f",
       "value": false
      }
     },
     "700cce7107f5491e9dbb557ab7221b13": {
      "model_module": "@jupyter-widgets/controls",
      "model_module_version": "1.5.0",
      "model_name": "CheckboxModel",
      "state": {
       "description": "syntaktische",
       "disabled": false,
       "layout": "IPY_MODEL_35b4ee73e101445d948470dca3ff8088",
       "style": "IPY_MODEL_d1f4fd3ce94a47bdac6d999934bd658b",
       "value": false
      }
     },
     "70720ba35adf4ec98d83f56dd0b71c65": {
      "model_module": "@jupyter-widgets/controls",
      "model_module_version": "1.5.0",
      "model_name": "DropdownModel",
      "state": {
       "_options_labels": [
        "Morphem",
        "Symbol",
        "Wort",
        " "
       ],
       "index": 3,
       "layout": "IPY_MODEL_95f38dc498c44ef9b82b120cd51272f5",
       "style": "IPY_MODEL_62130cee7769434990ec912200df222b"
      }
     },
     "70da877243df49059d35124b73e2ec54": {
      "model_module": "@jupyter-widgets/controls",
      "model_module_version": "1.5.0",
      "model_name": "DescriptionStyleModel",
      "state": {
       "description_width": ""
      }
     },
     "715a5918039945e3948d807791110cf6": {
      "model_module": "@jupyter-widgets/controls",
      "model_module_version": "1.5.0",
      "model_name": "DescriptionStyleModel",
      "state": {
       "description_width": "initial"
      }
     },
     "71a88e3df6764a4caae85dab2606e2bf": {
      "model_module": "@jupyter-widgets/controls",
      "model_module_version": "1.5.0",
      "model_name": "HTMLModel",
      "state": {
       "layout": "IPY_MODEL_733ebeb7020144308cac18a194070c05",
       "style": "IPY_MODEL_d75d61623a1e461e93da4c77251bd72a",
       "value": "<i>Markieren Sie <ins>alle</ins> passenden Antworten: </i>"
      }
     },
     "71b026c72d784e8cbf5d94bede584556": {
      "model_module": "@jupyter-widgets/controls",
      "model_module_version": "1.5.0",
      "model_name": "ButtonModel",
      "state": {
       "description": "Keine der anderen Möglichkeiten",
       "layout": "IPY_MODEL_dfa8a90a2f2746929f1733ab7d623a33",
       "style": "IPY_MODEL_6812fe1a278d4a629f571cb70738b133"
      }
     },
     "71d8576dfe9a4bb0ad3dafb5a6176b00": {
      "model_module": "@jupyter-widgets/base",
      "model_module_version": "1.2.0",
      "model_name": "LayoutModel",
      "state": {}
     },
     "72035324be104b3586011ad26ec0638a": {
      "model_module": "@jupyter-widgets/base",
      "model_module_version": "1.2.0",
      "model_name": "LayoutModel",
      "state": {
       "justify_content": "center"
      }
     },
     "7213b3155cc045019645ee4e7a7be876": {
      "model_module": "@jupyter-widgets/controls",
      "model_module_version": "1.5.0",
      "model_name": "ButtonStyleModel",
      "state": {}
     },
     "7214436543fc4bca807fd5ab7b435bab": {
      "model_module": "@jupyter-widgets/controls",
      "model_module_version": "1.5.0",
      "model_name": "DescriptionStyleModel",
      "state": {
       "description_width": "initial"
      }
     },
     "726b0d64b8ab4b9496b991e1feb5f619": {
      "model_module": "@jupyter-widgets/controls",
      "model_module_version": "1.5.0",
      "model_name": "HTMLModel",
      "state": {
       "layout": "IPY_MODEL_12371d249e0743e9b15d628536c1928f",
       "style": "IPY_MODEL_1792e57e76514cb6b8ee97881fd020bc",
       "value": "<i>Markieren Sie <ins>alle</ins> passenden Antworten: </i>"
      }
     },
     "726ec761711846749ded3b6c01c78939": {
      "model_module": "@jupyter-widgets/base",
      "model_module_version": "1.2.0",
      "model_name": "LayoutModel",
      "state": {}
     },
     "72e2f5f6ad3e419db0736a6932e875a9": {
      "model_module": "@jupyter-widgets/controls",
      "model_module_version": "1.5.0",
      "model_name": "HTMLModel",
      "state": {
       "layout": "IPY_MODEL_dec1771e58cc453098c5038be75d76fd",
       "style": "IPY_MODEL_5a82045471c840e4a3d46a39e6d80002",
       "value": "<i>Wählen Sie die <ins>eine</ins> korrekte Antwort aus: </i>"
      }
     },
     "733ebeb7020144308cac18a194070c05": {
      "model_module": "@jupyter-widgets/base",
      "model_module_version": "1.2.0",
      "model_name": "LayoutModel",
      "state": {
       "justify_content": "center"
      }
     },
     "734239360e5e4909a85bbb50862336fa": {
      "model_module": "@jupyter-widgets/base",
      "model_module_version": "1.2.0",
      "model_name": "LayoutModel",
      "state": {
       "justify_content": "center"
      }
     },
     "7348bfbf065f4c37b84ae3b5a4be46e5": {
      "model_module": "@jupyter-widgets/controls",
      "model_module_version": "1.5.0",
      "model_name": "ButtonModel",
      "state": {
       "description": "Wissen um Sprachstruktur",
       "layout": "IPY_MODEL_6de908e9a488456293fcd7ff84976e21",
       "style": "IPY_MODEL_c0f469ece8bd4f9d8b5daaa3e3b42789"
      }
     },
     "734cbfbf81a04e14a1bfa1618e77027d": {
      "model_module": "@jupyter-widgets/controls",
      "model_module_version": "1.5.0",
      "model_name": "DescriptionStyleModel",
      "state": {
       "description_width": ""
      }
     },
     "7396727a0ade4da7a722befb932c3bcb": {
      "model_module": "@jupyter-widgets/controls",
      "model_module_version": "1.5.0",
      "model_name": "ButtonStyleModel",
      "state": {}
     },
     "73a93f3d37924baabbd9d1702db9b08e": {
      "model_module": "@jupyter-widgets/base",
      "model_module_version": "1.2.0",
      "model_name": "LayoutModel",
      "state": {}
     },
     "73c062fc2a3848c58afdaf912e73dec5": {
      "model_module": "@jupyter-widgets/controls",
      "model_module_version": "1.5.0",
      "model_name": "CheckboxModel",
      "state": {
       "description": "Dependenzgraph mit Phrasenlabels als Knoten",
       "disabled": false,
       "layout": "IPY_MODEL_5b58a830d5244fdeacf82770197dd7d1",
       "style": "IPY_MODEL_7b15ea4845cf4a508ef96e2ee90c608b",
       "value": false
      }
     },
     "73ee9d800122451490c8e9ded7c6dfd0": {
      "model_module": "@jupyter-widgets/controls",
      "model_module_version": "1.5.0",
      "model_name": "ButtonStyleModel",
      "state": {}
     },
     "73f75c638238477fb1cd9546d544421e": {
      "model_module": "@jupyter-widgets/controls",
      "model_module_version": "1.5.0",
      "model_name": "DescriptionStyleModel",
      "state": {
       "description_width": ""
      }
     },
     "7420c35ad40048bd9ed1a6aac82c9b3d": {
      "model_module": "@jupyter-widgets/controls",
      "model_module_version": "1.5.0",
      "model_name": "ButtonStyleModel",
      "state": {}
     },
     "7438bf728ae143488bee2730a62e09f9": {
      "model_module": "@jupyter-widgets/controls",
      "model_module_version": "1.5.0",
      "model_name": "DescriptionStyleModel",
      "state": {
       "description_width": "initial"
      }
     },
     "7475c09e6d4246a18411cec9e9573acf": {
      "model_module": "@jupyter-widgets/controls",
      "model_module_version": "1.5.0",
      "model_name": "ButtonModel",
      "state": {
       "description": "Subjekt",
       "layout": "IPY_MODEL_10ab95edf1f9461d9788b7c801b4c829",
       "style": "IPY_MODEL_1e1261f03ed04564b2b07b056bb9cfdd"
      }
     },
     "747ece8df8f04385ab2ed6e37b646fdb": {
      "model_module": "@jupyter-widgets/base",
      "model_module_version": "1.2.0",
      "model_name": "LayoutModel",
      "state": {}
     },
     "74fe5dd392f0423982c017a996218480": {
      "model_module": "@jupyter-widgets/base",
      "model_module_version": "1.2.0",
      "model_name": "LayoutModel",
      "state": {}
     },
     "75083c11ac4b4c5e825204a18f382f2d": {
      "model_module": "@jupyter-widgets/controls",
      "model_module_version": "1.5.0",
      "model_name": "DescriptionStyleModel",
      "state": {
       "description_width": ""
      }
     },
     "750a8a2f18d345a799eb9a5ed9ea6dd1": {
      "model_module": "@jupyter-widgets/controls",
      "model_module_version": "1.5.0",
      "model_name": "HTMLModel",
      "state": {
       "layout": "IPY_MODEL_381f4fc78fe445649ab2fe1e4e9ba007",
       "style": "IPY_MODEL_d6ca365a92df4493aa1c10c0aa1ec3b0",
       "value": "<h4 style=\"font-size:14px;\">In welcher Form wird die syntaktische Struktur eines Satzes beim Aufruf von NLTK tree.draw() erstellt?</h4>"
      }
     },
     "753e44ee88b143f999239946730aaf37": {
      "model_module": "@jupyter-widgets/controls",
      "model_module_version": "1.5.0",
      "model_name": "ButtonModel",
      "state": {
       "description": "formale Grammatik",
       "layout": "IPY_MODEL_ed4f645706984144a70e90ab1f6ae06d",
       "style": "IPY_MODEL_3d844b668b8c43ecbeebf28752fd542a"
      }
     },
     "7574239a79744f229b3d599a07febb8e": {
      "model_module": "@jupyter-widgets/controls",
      "model_module_version": "1.5.0",
      "model_name": "ButtonStyleModel",
      "state": {}
     },
     "757c2073dbd648f7b5432b6d538a766a": {
      "model_module": "@jupyter-widgets/controls",
      "model_module_version": "1.5.0",
      "model_name": "ButtonModel",
      "state": {
       "description": "Phrasentyp",
       "layout": "IPY_MODEL_156104cf05354db69e248fc5a422ae72",
       "style": "IPY_MODEL_512cc6397f4148c5bf5446eb60186ffe"
      }
     },
     "758d2ec4c2af4c5a91bd122448d63325": {
      "model_module": "@jupyter-widgets/controls",
      "model_module_version": "1.5.0",
      "model_name": "ButtonModel",
      "state": {
       "description": "Regelbuch",
       "layout": "IPY_MODEL_3e57703d2e254aa796fd6b92c420ac85",
       "style": "IPY_MODEL_9ffa34992fa545d0820606e353893206"
      }
     },
     "7592c7952e3a4f728aa8b66378bde2be": {
      "model_module": "@jupyter-widgets/base",
      "model_module_version": "1.2.0",
      "model_name": "LayoutModel",
      "state": {
       "width": "250px"
      }
     },
     "75a22c216b88443e9ae1884404216234": {
      "model_module": "@jupyter-widgets/controls",
      "model_module_version": "1.5.0",
      "model_name": "DescriptionStyleModel",
      "state": {
       "description_width": ""
      }
     },
     "75c349253f6f4aec89e9fe363f63f7b5": {
      "model_module": "@jupyter-widgets/controls",
      "model_module_version": "1.5.0",
      "model_name": "CheckboxModel",
      "state": {
       "description": "Dependenzgraph mit gelabelten Kanten",
       "disabled": false,
       "layout": "IPY_MODEL_f7a2bcfd8d7f455a9c876d34ebca4fdf",
       "style": "IPY_MODEL_888994b7d7af456582c8fe7b31486be1",
       "value": true
      }
     },
     "75c59b8453754541a432c95f4a81d964": {
      "model_module": "@jupyter-widgets/base",
      "model_module_version": "1.2.0",
      "model_name": "LayoutModel",
      "state": {
       "width": "250px"
      }
     },
     "75eea85038a94965b4789e164e46f5aa": {
      "model_module": "@jupyter-widgets/controls",
      "model_module_version": "1.5.0",
      "model_name": "VBoxModel",
      "state": {
       "children": [
        "IPY_MODEL_e7ef8ab558b5497791acf504d0d9b85f",
        "IPY_MODEL_32e5f6d3343640729cf8ba6d836670ba",
        "IPY_MODEL_3ae819cfed4f4bedb22310ba3cbbe1a2",
        "IPY_MODEL_9f7c206ea8784b7c8451706b0ddf7b68",
        "IPY_MODEL_049a03661b1340e5bdf2aba1903fa7fd"
       ],
       "layout": "IPY_MODEL_fb61b85cc79c4152b282945da4b5e9e2"
      }
     },
     "760d215b1cef42e99201265cbf1d4300": {
      "model_module": "@jupyter-widgets/controls",
      "model_module_version": "1.5.0",
      "model_name": "HBoxModel",
      "state": {
       "children": [
        "IPY_MODEL_e3312a179756465181d656bd3780a3f6",
        "IPY_MODEL_ab9d6775ac5640a49aa8b72b7110c06b"
       ],
       "layout": "IPY_MODEL_02cde529a5ff4a0ca05084ddaeab1d1e"
      }
     },
     "7611a0c829f243b194735e245dfea540": {
      "model_module": "@jupyter-widgets/controls",
      "model_module_version": "1.5.0",
      "model_name": "HTMLModel",
      "state": {
       "layout": "IPY_MODEL_1a51bf8fe1a2417f888a27193a1ff1f6",
       "style": "IPY_MODEL_e9dcc07642ed408a844c600e69da18fe",
       "value": "<i>Markieren Sie <ins>alle</ins> passenden Antworten: </i>"
      }
     },
     "7615e8f8dfe74e08a30abdb0b246909a": {
      "model_module": "@jupyter-widgets/controls",
      "model_module_version": "1.5.0",
      "model_name": "DescriptionStyleModel",
      "state": {
       "description_width": "initial"
      }
     },
     "76604bac1bb34d4a879335f2fe47f5ab": {
      "model_module": "@jupyter-widgets/controls",
      "model_module_version": "1.5.0",
      "model_name": "ButtonStyleModel",
      "state": {}
     },
     "76c959c4d7f14d9a9f147b1101ece4ea": {
      "model_module": "@jupyter-widgets/base",
      "model_module_version": "1.2.0",
      "model_name": "LayoutModel",
      "state": {}
     },
     "772e59e9a2ce42eaa4fd56c39f46152e": {
      "model_module": "@jupyter-widgets/controls",
      "model_module_version": "1.5.0",
      "model_name": "ButtonStyleModel",
      "state": {}
     },
     "774949a4a60143f581e803e7f01cafbb": {
      "model_module": "@jupyter-widgets/controls",
      "model_module_version": "1.5.0",
      "model_name": "HTMLModel",
      "state": {
       "layout": "IPY_MODEL_38ae304fcd58412fa4b526df03665a9f",
       "style": "IPY_MODEL_4f3a812bf4d64cb09e87c21382cec2c9",
       "value": "<i>Wählen Sie die <ins>eine</ins> korrekte Antwort aus: </i>"
      }
     },
     "7751387f91c44bfe9a68f8c64069189e": {
      "model_module": "@jupyter-widgets/controls",
      "model_module_version": "1.5.0",
      "model_name": "HTMLModel",
      "state": {
       "layout": "IPY_MODEL_460bc6d9ef4a4a22a36c71fceaa795d9",
       "style": "IPY_MODEL_6dbd98ec7a974c47876179d8f514b6c0",
       "value": "<h4 style=\"font-size:14px;\">Welche Funktion im Satz nimmt das Nomen ein, wenn es Kopf der Gerund-Nomen-Phrase ist?</h4>"
      }
     },
     "775bcd7c55da4f5f9dc3db398e696c03": {
      "model_module": "@jupyter-widgets/base",
      "model_module_version": "1.2.0",
      "model_name": "LayoutModel",
      "state": {}
     },
     "77cc030fc08d41559772d995ecb185ec": {
      "model_module": "@jupyter-widgets/base",
      "model_module_version": "1.2.0",
      "model_name": "LayoutModel",
      "state": {}
     },
     "782d773115f84f5299d9c97094b831a2": {
      "model_module": "@jupyter-widgets/controls",
      "model_module_version": "1.5.0",
      "model_name": "ButtonStyleModel",
      "state": {}
     },
     "7848e5d3169c4679b4cb6f620cbe1c90": {
      "model_module": "@jupyter-widgets/base",
      "model_module_version": "1.2.0",
      "model_name": "LayoutModel",
      "state": {}
     },
     "786de28ce7c143b383b3ed17fe4ac97e": {
      "model_module": "@jupyter-widgets/controls",
      "model_module_version": "1.5.0",
      "model_name": "CheckboxModel",
      "state": {
       "description": "Adverbialphrase",
       "disabled": false,
       "layout": "IPY_MODEL_ca51cc3243bc405b88f4ae1a1eb6f474",
       "style": "IPY_MODEL_07dbec5a0c4649feb5f5215044a1f68e",
       "value": false
      }
     },
     "78c03928879a4e5eac32930f843e9be3": {
      "model_module": "@jupyter-widgets/controls",
      "model_module_version": "1.5.0",
      "model_name": "HTMLModel",
      "state": {
       "layout": "IPY_MODEL_27bcef7fee714fbeabb90afd301af6ef",
       "style": "IPY_MODEL_a3be273a48ae41e19b8bf3fce8dd7961",
       "value": "<h4 style=\"font-size:14px;\">Was ist der Ursprung der Ambiguität?</h4>"
      }
     },
     "7926fd431d9b43dca92e6cfc02dafceb": {
      "model_module": "@jupyter-widgets/controls",
      "model_module_version": "1.5.0",
      "model_name": "VBoxModel",
      "state": {
       "children": [
        "IPY_MODEL_657d81ee5de54a99803bad6e8c642d85",
        "IPY_MODEL_2e3902db037148f6bef53b07c132c9e9",
        "IPY_MODEL_b0b05f005f3444f5b6076a4c25580669",
        "IPY_MODEL_f1f08530c6d4478c93339383c94519fc"
       ],
       "layout": "IPY_MODEL_fc2c57df15b04e31b3e8e62bc88321cb"
      }
     },
     "794b0bdf28184b8385d1158d832d2d23": {
      "model_module": "@jupyter-widgets/controls",
      "model_module_version": "1.5.0",
      "model_name": "HTMLModel",
      "state": {
       "layout": "IPY_MODEL_5b65ef6d48f7469a85e019ce89d2a08e",
       "style": "IPY_MODEL_70da877243df49059d35124b73e2ec54",
       "value": "<h4 style=\"font-size:14px;\">Welcher Grammatikbegriff liegt Satz 1 zugrunde?</h4>"
      }
     },
     "797c5625a44641efbd6caa93be1c5745": {
      "model_module": "@jupyter-widgets/controls",
      "model_module_version": "1.5.0",
      "model_name": "ButtonStyleModel",
      "state": {}
     },
     "797c79981ee7499285c9c52d5e092b70": {
      "model_module": "@jupyter-widgets/controls",
      "model_module_version": "1.5.0",
      "model_name": "HTMLModel",
      "state": {
       "layout": "IPY_MODEL_8b49842eb72e414686a97a99725e2026",
       "style": "IPY_MODEL_abd71f544dbe48af84359d9da1a551b0",
       "value": "<i>Markieren Sie <ins>alle</ins> passenden Antworten: </i>"
      }
     },
     "797ddeaebf7744258ec08932c13c351b": {
      "model_module": "@jupyter-widgets/controls",
      "model_module_version": "1.5.0",
      "model_name": "ButtonStyleModel",
      "state": {}
     },
     "79c0ceaa0b5f42449c9d26cdfefca87e": {
      "model_module": "@jupyter-widgets/controls",
      "model_module_version": "1.5.0",
      "model_name": "CheckboxModel",
      "state": {
       "description": "Synonymie",
       "disabled": false,
       "layout": "IPY_MODEL_52c431e3695f4c79ba21c2273f48c360",
       "style": "IPY_MODEL_5f23747bd70c4846b180137745990ee5",
       "value": false
      }
     },
     "7a179b10ffc846dca119e42e2d4e27d7": {
      "model_module": "@jupyter-widgets/base",
      "model_module_version": "1.2.0",
      "model_name": "LayoutModel",
      "state": {
       "width": "250px"
      }
     },
     "7a19c4005404498c81f1288df68169a3": {
      "model_module": "@jupyter-widgets/controls",
      "model_module_version": "1.5.0",
      "model_name": "DescriptionStyleModel",
      "state": {
       "description_width": ""
      }
     },
     "7a303d0e5de84158bf10c8f28519695f": {
      "model_module": "@jupyter-widgets/controls",
      "model_module_version": "1.5.0",
      "model_name": "DescriptionStyleModel",
      "state": {
       "description_width": "initial"
      }
     },
     "7a40e5c828f0406ab9d1d4c5e5536960": {
      "model_module": "@jupyter-widgets/controls",
      "model_module_version": "1.5.0",
      "model_name": "ButtonStyleModel",
      "state": {}
     },
     "7a6530a6de8146919c21b877862ac1e9": {
      "model_module": "@jupyter-widgets/base",
      "model_module_version": "1.2.0",
      "model_name": "LayoutModel",
      "state": {
       "width": "600px"
      }
     },
     "7a695efc8e6d4241bdcc811f47c77b52": {
      "model_module": "@jupyter-widgets/controls",
      "model_module_version": "1.5.0",
      "model_name": "DescriptionStyleModel",
      "state": {
       "description_width": "initial"
      }
     },
     "7a6986e66d274e94851c38cd15191d92": {
      "model_module": "@jupyter-widgets/controls",
      "model_module_version": "1.5.0",
      "model_name": "ButtonStyleModel",
      "state": {}
     },
     "7a781135c3f04b78b6f16db1c42924ce": {
      "model_module": "@jupyter-widgets/controls",
      "model_module_version": "1.5.0",
      "model_name": "ButtonStyleModel",
      "state": {}
     },
     "7ab03780cd2742e19624d79901c18b8f": {
      "model_module": "@jupyter-widgets/controls",
      "model_module_version": "1.5.0",
      "model_name": "DescriptionStyleModel",
      "state": {
       "description_width": ""
      }
     },
     "7b0fe2605ea14c08a2e05c9f53b1bd1f": {
      "model_module": "@jupyter-widgets/controls",
      "model_module_version": "1.5.0",
      "model_name": "DescriptionStyleModel",
      "state": {
       "description_width": ""
      }
     },
     "7b15ea4845cf4a508ef96e2ee90c608b": {
      "model_module": "@jupyter-widgets/controls",
      "model_module_version": "1.5.0",
      "model_name": "DescriptionStyleModel",
      "state": {
       "description_width": "initial"
      }
     },
     "7b197edf2e0b4ae4bdcc821726eee4cf": {
      "model_module": "@jupyter-widgets/controls",
      "model_module_version": "1.5.0",
      "model_name": "DescriptionStyleModel",
      "state": {
       "description_width": "initial"
      }
     },
     "7b1e57b23c354d7bbd239dae1ebdeb88": {
      "model_module": "@jupyter-widgets/controls",
      "model_module_version": "1.5.0",
      "model_name": "HBoxModel",
      "state": {
       "children": [
        "IPY_MODEL_c52f50b5a7a445e1845da0f5ed177468"
       ],
       "layout": "IPY_MODEL_2e045dfa772e4701978897350cbbad79"
      }
     },
     "7b3c3eeba4a543c9a4393775c7447f34": {
      "model_module": "@jupyter-widgets/controls",
      "model_module_version": "1.5.0",
      "model_name": "VBoxModel",
      "state": {
       "children": [
        "IPY_MODEL_66a08c024e6e4615a9b5428423fb2746",
        "IPY_MODEL_3ed8a6a18af34bf1a465fd0426f3aa9e",
        "IPY_MODEL_3689d9ceb3ee4ee1a86a58f0366a6fad"
       ],
       "layout": "IPY_MODEL_c05be2ae4fd9495a80f89bcd68deeb6c"
      }
     },
     "7b69654956cb4a63a4aac3dd50772238": {
      "model_module": "@jupyter-widgets/base",
      "model_module_version": "1.2.0",
      "model_name": "LayoutModel",
      "state": {}
     },
     "7b7db08c9a4b413286d05b1b27dc3add": {
      "model_module": "@jupyter-widgets/controls",
      "model_module_version": "1.5.0",
      "model_name": "DescriptionStyleModel",
      "state": {
       "description_width": "initial"
      }
     },
     "7b9fe73b77f44c72b8bafd96807c2cb8": {
      "model_module": "@jupyter-widgets/controls",
      "model_module_version": "1.5.0",
      "model_name": "ButtonStyleModel",
      "state": {}
     },
     "7ba485520d0e42c3abe9c5cabb08fe20": {
      "model_module": "@jupyter-widgets/controls",
      "model_module_version": "1.5.0",
      "model_name": "VBoxModel",
      "state": {
       "children": [
        "IPY_MODEL_2eb74fc160144d2ba8e61d1459e4dc79",
        "IPY_MODEL_1b2e12e1bc7a4dceb4bfae9bfac6b8a9",
        "IPY_MODEL_d8d274b318114f6b8ada6b421ca1ec1c",
        "IPY_MODEL_d2681365f3a74eb3858630ab5eb36b93"
       ],
       "layout": "IPY_MODEL_58955916dde849cda43b2dca7cd1831e"
      }
     },
     "7c3567db1e5f44c6ac059de20111b3a2": {
      "model_module": "@jupyter-widgets/base",
      "model_module_version": "1.2.0",
      "model_name": "LayoutModel",
      "state": {}
     },
     "7c500bec7e784dac9bcbee50d2a4eb65": {
      "model_module": "@jupyter-widgets/controls",
      "model_module_version": "1.5.0",
      "model_name": "ButtonStyleModel",
      "state": {}
     },
     "7c899657b08341a3b66a9a32ae9e9187": {
      "model_module": "@jupyter-widgets/base",
      "model_module_version": "1.2.0",
      "model_name": "LayoutModel",
      "state": {
       "width": "150px"
      }
     },
     "7cda7f4856d3492384368f07fc2e85d6": {
      "model_module": "@jupyter-widgets/controls",
      "model_module_version": "1.5.0",
      "model_name": "HBoxModel",
      "state": {
       "children": [
        "IPY_MODEL_37cd89936d954026baa44f525a6d128f",
        "IPY_MODEL_417f60ee7c0c4966b0b5ede8247bd618"
       ],
       "layout": "IPY_MODEL_60000860e45b42e3a89b26ae7258d52f"
      }
     },
     "7cee9573f6b0474e8c6dc633b23c47be": {
      "model_module": "@jupyter-widgets/controls",
      "model_module_version": "1.5.0",
      "model_name": "CheckboxModel",
      "state": {
       "description": "Konstituentenbaum mit gelabelten Kanten",
       "disabled": false,
       "layout": "IPY_MODEL_17a274814e93461abb7a180eaabd22f1",
       "style": "IPY_MODEL_e0390f61be304d56b77e8b8bc5cca375",
       "value": false
      }
     },
     "7d404e3b35a746649a9210e70e846513": {
      "model_module": "@jupyter-widgets/base",
      "model_module_version": "1.2.0",
      "model_name": "LayoutModel",
      "state": {}
     },
     "7db2d95ed0494a338e08c222a039792c": {
      "model_module": "@jupyter-widgets/controls",
      "model_module_version": "1.5.0",
      "model_name": "ButtonStyleModel",
      "state": {
       "button_color": "lightgreen"
      }
     },
     "7db5f251bb614bad946ba09b9f0294b4": {
      "model_module": "@jupyter-widgets/controls",
      "model_module_version": "1.5.0",
      "model_name": "ButtonStyleModel",
      "state": {}
     },
     "7dc364615896469f9adfceb1f2c9ca26": {
      "model_module": "@jupyter-widgets/controls",
      "model_module_version": "1.5.0",
      "model_name": "DescriptionStyleModel",
      "state": {
       "description_width": ""
      }
     },
     "7dc6a223e8e945f79c0805937a93d565": {
      "model_module": "@jupyter-widgets/controls",
      "model_module_version": "1.5.0",
      "model_name": "ButtonStyleModel",
      "state": {}
     },
     "7e1bf79b2d1b41c3a03135726646462d": {
      "model_module": "@jupyter-widgets/controls",
      "model_module_version": "1.5.0",
      "model_name": "HTMLModel",
      "state": {
       "layout": "IPY_MODEL_b47bd41342694038bd8531df8c314e76",
       "style": "IPY_MODEL_88aa3884d80545ab889dbbbd6be64686",
       "value": "<h4 style=\"font-size:14px;\">Welche Mittel kommen in einer formalen Syntaxanalyse zum Einsatz?</h4>"
      }
     },
     "7e2022a584d8402fa88c971d8530a21a": {
      "model_module": "@jupyter-widgets/controls",
      "model_module_version": "1.5.0",
      "model_name": "ButtonStyleModel",
      "state": {}
     },
     "7e524b7587df4da0accd5b8d43711f28": {
      "model_module": "@jupyter-widgets/controls",
      "model_module_version": "1.5.0",
      "model_name": "DescriptionStyleModel",
      "state": {
       "description_width": ""
      }
     },
     "7e65ce6caf234c32966dd8ce887ae503": {
      "model_module": "@jupyter-widgets/base",
      "model_module_version": "1.2.0",
      "model_name": "LayoutModel",
      "state": {
       "width": "600px"
      }
     },
     "7ed7d425ccc44079959ae49cb7b659d0": {
      "model_module": "@jupyter-widgets/controls",
      "model_module_version": "1.5.0",
      "model_name": "HTMLModel",
      "state": {
       "layout": "IPY_MODEL_a59053dc090346798cfba984375b49e3",
       "style": "IPY_MODEL_22e0be353f654e2193bd57dec46dc9b2",
       "value": "<i>Wählen Sie die <ins>eine</ins> korrekte Antwort aus: </i>"
      }
     },
     "7ef77fca3b1c45f9b4dc369e3bd2c31f": {
      "model_module": "@jupyter-widgets/controls",
      "model_module_version": "1.5.0",
      "model_name": "CheckboxModel",
      "state": {
       "description": "Dependenz",
       "disabled": false,
       "layout": "IPY_MODEL_22c6c009742b4ba3b88bd3912e97308f",
       "style": "IPY_MODEL_d142a2bbbce2472ab5ac07867854818e",
       "value": false
      }
     },
     "7f00d3605f604775a82d6891ba3dfff4": {
      "model_module": "@jupyter-widgets/base",
      "model_module_version": "1.2.0",
      "model_name": "LayoutModel",
      "state": {
       "width": "250px"
      }
     },
     "7f0f55eea65344729ff82f74af579074": {
      "model_module": "@jupyter-widgets/controls",
      "model_module_version": "1.5.0",
      "model_name": "HTMLModel",
      "state": {
       "layout": "IPY_MODEL_fadc53b727514c81bcbb95ac827865af",
       "style": "IPY_MODEL_de21142c8850464a86bebf216e4612a1",
       "value": "<h4 style=\"font-size:14px;\">Welche Typen von Syntaxbäumen (auch: Parsebäume, Ableitungsbäume) wurden gezeigt?</h4>"
      }
     },
     "7f140405db064ad5a5b042227b68dd22": {
      "model_module": "@jupyter-widgets/base",
      "model_module_version": "1.2.0",
      "model_name": "LayoutModel",
      "state": {}
     },
     "7f51a1ab564041b8845e914c0ee2cfb2": {
      "model_module": "@jupyter-widgets/controls",
      "model_module_version": "1.5.0",
      "model_name": "DescriptionStyleModel",
      "state": {
       "description_width": ""
      }
     },
     "7f6374f7e6114ad2a8b0158fa37fec39": {
      "model_module": "@jupyter-widgets/controls",
      "model_module_version": "1.5.0",
      "model_name": "VBoxModel",
      "state": {
       "children": [
        "IPY_MODEL_39c48a800d0f49779117a0fe9d7adada",
        "IPY_MODEL_823b03d0331c4b988f37af0f6ef60d50",
        "IPY_MODEL_f4b686a5decb4a6d880fafd72183e159",
        "IPY_MODEL_20408a28d3a94b18aaf96e0abbdab255",
        "IPY_MODEL_967b47e7dd6d4c94b5053a4b8faceded"
       ],
       "layout": "IPY_MODEL_605a4108a17a42789310cbdaac38ed63"
      }
     },
     "7f75d862944a4512acaf3dcd1cae7f92": {
      "model_module": "@jupyter-widgets/controls",
      "model_module_version": "1.5.0",
      "model_name": "ButtonStyleModel",
      "state": {}
     },
     "7f777a474ba445f2ae2e43d32ac83efe": {
      "model_module": "@jupyter-widgets/controls",
      "model_module_version": "1.5.0",
      "model_name": "HTMLModel",
      "state": {
       "layout": "IPY_MODEL_4bee44b6c1cc4f729425fbd746531328",
       "style": "IPY_MODEL_18a1aa24440b4e76aa70313d6325ee75",
       "value": "<h4 style=\"font-size:14px;\">Konstituenz ist synonym zu:</h4>"
      }
     },
     "7f8d8183195d4eaba98a4d6c691b1527": {
      "model_module": "@jupyter-widgets/controls",
      "model_module_version": "1.5.0",
      "model_name": "HTMLModel",
      "state": {
       "layout": "IPY_MODEL_06293b88cc964079b99de91d737bbabf",
       "style": "IPY_MODEL_d531ace199b143f0b86c49e3eb2f46d6",
       "value": "<i>Wählen Sie die <ins>eine</ins> korrekte Antwort aus: </i>"
      }
     },
     "7fa13f2d3f914ef1b21f7de89451bdd1": {
      "model_module": "@jupyter-widgets/controls",
      "model_module_version": "1.5.0",
      "model_name": "DescriptionStyleModel",
      "state": {
       "description_width": ""
      }
     },
     "7fb02bd403c64edf826f4dbf7a1aa57f": {
      "model_module": "@jupyter-widgets/controls",
      "model_module_version": "1.5.0",
      "model_name": "DescriptionStyleModel",
      "state": {
       "description_width": ""
      }
     },
     "8007f49a37dd486baaf2f95fa24e52d3": {
      "model_module": "@jupyter-widgets/base",
      "model_module_version": "1.2.0",
      "model_name": "LayoutModel",
      "state": {
       "width": "250px"
      }
     },
     "80106da46e9145bfbc9d2558b0ef4005": {
      "model_module": "@jupyter-widgets/controls",
      "model_module_version": "1.5.0",
      "model_name": "DescriptionStyleModel",
      "state": {
       "description_width": ""
      }
     },
     "80187893685c44608b12e90efae11561": {
      "model_module": "@jupyter-widgets/controls",
      "model_module_version": "1.5.0",
      "model_name": "ButtonModel",
      "state": {
       "description": "formale Grammatik",
       "layout": "IPY_MODEL_025f42b6b6424d9385decd2303ae6623",
       "style": "IPY_MODEL_5372043ba7514014a4c00447fb2bf144"
      }
     },
     "80228ec048ac45a7b3f52558bfd2243c": {
      "model_module": "@jupyter-widgets/base",
      "model_module_version": "1.2.0",
      "model_name": "LayoutModel",
      "state": {
       "justify_content": "center"
      }
     },
     "8090b94c205446e2ba608ea2167cd332": {
      "model_module": "@jupyter-widgets/controls",
      "model_module_version": "1.5.0",
      "model_name": "ButtonModel",
      "state": {
       "description": "Klammernotation",
       "layout": "IPY_MODEL_c5a5b8fc7eab4a7aa76785d5b602cf96",
       "style": "IPY_MODEL_4d502529ddf94f279e3500799263d6fc"
      }
     },
     "8090f6538a1745439db3d227f9b8911b": {
      "model_module": "@jupyter-widgets/base",
      "model_module_version": "1.2.0",
      "model_name": "LayoutModel",
      "state": {
       "justify_content": "center"
      }
     },
     "8110804786c9489bb80f4a701eb4a896": {
      "model_module": "@jupyter-widgets/controls",
      "model_module_version": "1.5.0",
      "model_name": "DescriptionStyleModel",
      "state": {
       "description_width": ""
      }
     },
     "81c73d2155dd41828edeb10e6324274c": {
      "model_module": "@jupyter-widgets/base",
      "model_module_version": "1.2.0",
      "model_name": "LayoutModel",
      "state": {
       "width": "600px"
      }
     },
     "81f536f7e17943788d8580919c979748": {
      "model_module": "@jupyter-widgets/controls",
      "model_module_version": "1.5.0",
      "model_name": "HBoxModel",
      "state": {
       "children": [
        "IPY_MODEL_60e70a2da6ca4687ad77fdfa5728ad92",
        "IPY_MODEL_6b1e26778400425b90bfe4c8304cf6cc"
       ],
       "layout": "IPY_MODEL_211a95bb4bbe46379198d009e7fd96b4"
      }
     },
     "81f9b58d12a547ca8591fa967d6c4b39": {
      "model_module": "@jupyter-widgets/controls",
      "model_module_version": "1.5.0",
      "model_name": "ButtonStyleModel",
      "state": {}
     },
     "82317046611a4e0db1c806b9da510a92": {
      "model_module": "@jupyter-widgets/controls",
      "model_module_version": "1.5.0",
      "model_name": "DescriptionStyleModel",
      "state": {
       "description_width": "initial"
      }
     },
     "8236fb73160e41ad9e6a9a917f82061d": {
      "model_module": "@jupyter-widgets/controls",
      "model_module_version": "1.5.0",
      "model_name": "BoxModel",
      "state": {
       "children": [
        "IPY_MODEL_e7630c4a091d4a0a9821192e69970550",
        "IPY_MODEL_cfa59685b29a47dbaf2c3fc97121166b",
        "IPY_MODEL_ba8bd7cc91a54a2fa29a0fe1bfca00fe",
        "IPY_MODEL_70720ba35adf4ec98d83f56dd0b71c65",
        "IPY_MODEL_1789cd0f08e74aeeacf8c9ad7b7d6dd0"
       ],
       "layout": "IPY_MODEL_b7cd307dc5614dc48edd20418aa6eb63"
      }
     },
     "8238bdf9a9d349e397338a550b4bec96": {
      "model_module": "@jupyter-widgets/controls",
      "model_module_version": "1.5.0",
      "model_name": "ButtonModel",
      "state": {
       "description": "strukturelle Ambiguität",
       "layout": "IPY_MODEL_96586d2150384e1d9f73dd308f6c67c1",
       "style": "IPY_MODEL_7a781135c3f04b78b6f16db1c42924ce"
      }
     },
     "823b03d0331c4b988f37af0f6ef60d50": {
      "model_module": "@jupyter-widgets/controls",
      "model_module_version": "1.5.0",
      "model_name": "HTMLModel",
      "state": {
       "layout": "IPY_MODEL_eba791abed5b44dcae7c7be93b46d4b4",
       "style": "IPY_MODEL_fcd90fd80e5f44aea9862f787d7a9ae2",
       "value": "<i>Wählen Sie die <ins>eine</ins> korrekte Antwort aus: </i>"
      }
     },
     "823e6c489fdf4aa3a712270138b8391c": {
      "model_module": "@jupyter-widgets/base",
      "model_module_version": "1.2.0",
      "model_name": "LayoutModel",
      "state": {}
     },
     "824a5a21d0b140adb78c74867a93e010": {
      "model_module": "@jupyter-widgets/controls",
      "model_module_version": "1.5.0",
      "model_name": "CheckboxModel",
      "state": {
       "description": "Gerund ist Kopf eines nichtfiniten Teilsatzes",
       "disabled": false,
       "layout": "IPY_MODEL_10fbc6a607e44084b5feb03f528df76f",
       "style": "IPY_MODEL_6e1fe237e678462facfeff449a556642",
       "value": false
      }
     },
     "826803c9bb1244dab1fca3113414bb4e": {
      "model_module": "@jupyter-widgets/base",
      "model_module_version": "1.2.0",
      "model_name": "LayoutModel",
      "state": {}
     },
     "8270fb8bd35f4c2eafbd1cc2f68dc83c": {
      "model_module": "@jupyter-widgets/base",
      "model_module_version": "1.2.0",
      "model_name": "LayoutModel",
      "state": {}
     },
     "828d3160e0fc4264a6cdceddf177e487": {
      "model_module": "@jupyter-widgets/base",
      "model_module_version": "1.2.0",
      "model_name": "LayoutModel",
      "state": {
       "width": "600px"
      }
     },
     "8297bb746a864aaf8224883b11378ad9": {
      "model_module": "@jupyter-widgets/controls",
      "model_module_version": "1.5.0",
      "model_name": "ButtonStyleModel",
      "state": {}
     },
     "82b5d648b3d04dc89106e6ac8d4ba3ab": {
      "model_module": "@jupyter-widgets/controls",
      "model_module_version": "1.5.0",
      "model_name": "CheckboxModel",
      "state": {
       "description": "semantische",
       "disabled": false,
       "layout": "IPY_MODEL_04361920d50c43f4a65daa7b34f4804c",
       "style": "IPY_MODEL_b545a69ab457453ba9ef8f6cd240b73d",
       "value": false
      }
     },
     "82cae03def2d4a389e4dd20b32667752": {
      "model_module": "@jupyter-widgets/controls",
      "model_module_version": "1.5.0",
      "model_name": "CheckboxModel",
      "state": {
       "description": "Eine automatische Strukturanalyse wird möglich.",
       "disabled": false,
       "layout": "IPY_MODEL_36a575211ab44f06b14436be52b76662",
       "style": "IPY_MODEL_dc4262ddc47d43b78d9b8a8f68f5b3c0",
       "value": false
      }
     },
     "82d95196e49f413cb13ceb2334e4d762": {
      "model_module": "@jupyter-widgets/base",
      "model_module_version": "1.2.0",
      "model_name": "LayoutModel",
      "state": {}
     },
     "837e45100de94aac935f565c47cc96b0": {
      "model_module": "@jupyter-widgets/controls",
      "model_module_version": "1.5.0",
      "model_name": "DescriptionStyleModel",
      "state": {
       "description_width": ""
      }
     },
     "837f512dbee148ee873cfe6a7c9d75e8": {
      "model_module": "@jupyter-widgets/controls",
      "model_module_version": "1.5.0",
      "model_name": "ButtonStyleModel",
      "state": {}
     },
     "83ab5ee92665434e8f035e174858536b": {
      "model_module": "@jupyter-widgets/base",
      "model_module_version": "1.2.0",
      "model_name": "LayoutModel",
      "state": {
       "width": "250px"
      }
     },
     "841ac2dbaa1d4700af7013fdd5b702e4": {
      "model_module": "@jupyter-widgets/base",
      "model_module_version": "1.2.0",
      "model_name": "LayoutModel",
      "state": {
       "width": "250px"
      }
     },
     "84602a8feb1846f59e566bf4919894e7": {
      "model_module": "@jupyter-widgets/controls",
      "model_module_version": "1.5.0",
      "model_name": "HBoxModel",
      "state": {
       "children": [
        "IPY_MODEL_6f474ed526ae46c087720b5e6a25ca63",
        "IPY_MODEL_f75689c3e66e4d4397fe2248b1c2c625"
       ],
       "layout": "IPY_MODEL_5c48d51d658543ed9c8104a6030d857a"
      }
     },
     "848fbd6ec0184d56b22c6eb61ca8d626": {
      "model_module": "@jupyter-widgets/base",
      "model_module_version": "1.2.0",
      "model_name": "LayoutModel",
      "state": {}
     },
     "849f4180a3af42f59beb6a7d3461227b": {
      "model_module": "@jupyter-widgets/base",
      "model_module_version": "1.2.0",
      "model_name": "LayoutModel",
      "state": {}
     },
     "84c19f7466514f779d26e189906d805e": {
      "model_module": "@jupyter-widgets/controls",
      "model_module_version": "1.5.0",
      "model_name": "DescriptionStyleModel",
      "state": {
       "description_width": ""
      }
     },
     "84c50983dab044eca95615f2e80e5279": {
      "model_module": "@jupyter-widgets/controls",
      "model_module_version": "1.5.0",
      "model_name": "DescriptionStyleModel",
      "state": {
       "description_width": ""
      }
     },
     "84d2db98e24449d2b772d51c22fda877": {
      "model_module": "@jupyter-widgets/controls",
      "model_module_version": "1.5.0",
      "model_name": "DescriptionStyleModel",
      "state": {
       "description_width": ""
      }
     },
     "850225b904e24eda9cc977b48dedd41a": {
      "model_module": "@jupyter-widgets/base",
      "model_module_version": "1.2.0",
      "model_name": "LayoutModel",
      "state": {
       "width": "600px"
      }
     },
     "8538ce0c4b5345fb9d7f6675403092d4": {
      "model_module": "@jupyter-widgets/controls",
      "model_module_version": "1.5.0",
      "model_name": "ButtonStyleModel",
      "state": {}
     },
     "85484fa895d44d53965f05bd7c62e837": {
      "model_module": "@jupyter-widgets/base",
      "model_module_version": "1.2.0",
      "model_name": "LayoutModel",
      "state": {
       "width": "250px"
      }
     },
     "8574bb5b4fc34a15be61ccfa3c6df70e": {
      "model_module": "@jupyter-widgets/base",
      "model_module_version": "1.2.0",
      "model_name": "LayoutModel",
      "state": {
       "width": "600px"
      }
     },
     "85839554b48c486e9e1410cc581be402": {
      "model_module": "@jupyter-widgets/base",
      "model_module_version": "1.2.0",
      "model_name": "LayoutModel",
      "state": {}
     },
     "862dfe53b7b14849930bc56aab3d51e1": {
      "model_module": "@jupyter-widgets/controls",
      "model_module_version": "1.5.0",
      "model_name": "HTMLModel",
      "state": {
       "layout": "IPY_MODEL_612ebf8e200c4c4cb14f51881788ea65",
       "style": "IPY_MODEL_29266c7f61b24e9f8a0383280bfe1c21",
       "value": "<i>Wählen Sie die <ins>eine</ins> korrekte Antwort aus: </i>"
      }
     },
     "863150abc5cc4f2cb0ee3203c6c6f9f9": {
      "model_module": "@jupyter-widgets/controls",
      "model_module_version": "1.5.0",
      "model_name": "DescriptionStyleModel",
      "state": {
       "description_width": ""
      }
     },
     "866ee719848a4db1860a2cbec039820e": {
      "model_module": "@jupyter-widgets/controls",
      "model_module_version": "1.5.0",
      "model_name": "HTMLModel",
      "state": {
       "layout": "IPY_MODEL_504c61b2a82742eb8f04cbe4f855d0a1",
       "style": "IPY_MODEL_ec17a43bb2eb4ad7bc5fb80cab10162c",
       "value": "<h4 style=\"font-size:14px;\">Welcher Grammatikbegriff liegt Satz 2 zugrunde?</h4>"
      }
     },
     "869d1e9e340f41cdbbaaf19a021c0a56": {
      "model_module": "@jupyter-widgets/controls",
      "model_module_version": "1.5.0",
      "model_name": "DescriptionStyleModel",
      "state": {
       "description_width": "initial"
      }
     },
     "86b3c6273ae44890aa8bf76927f87556": {
      "model_module": "@jupyter-widgets/controls",
      "model_module_version": "1.5.0",
      "model_name": "HTMLModel",
      "state": {
       "layout": "IPY_MODEL_a7167ea495ad42378725f39639be1848",
       "style": "IPY_MODEL_84c19f7466514f779d26e189906d805e",
       "value": "<i>Markieren Sie <ins>alle</ins> passenden Antworten: </i>"
      }
     },
     "86cfcdf5859e4afbb665ab83594c2caa": {
      "model_module": "@jupyter-widgets/base",
      "model_module_version": "1.2.0",
      "model_name": "LayoutModel",
      "state": {
       "justify_content": "center"
      }
     },
     "86e34dd0a2ff48d9b8036f700c02a493": {
      "model_module": "@jupyter-widgets/base",
      "model_module_version": "1.2.0",
      "model_name": "LayoutModel",
      "state": {
       "width": "250px"
      }
     },
     "86faf294133e482da145bf2b1745e41d": {
      "model_module": "@jupyter-widgets/controls",
      "model_module_version": "1.5.0",
      "model_name": "ButtonStyleModel",
      "state": {}
     },
     "873b981c8d914008a73f3404a7474544": {
      "model_module": "@jupyter-widgets/controls",
      "model_module_version": "1.5.0",
      "model_name": "DescriptionStyleModel",
      "state": {
       "description_width": ""
      }
     },
     "875f48de44f44502b957e604f9582d75": {
      "model_module": "@jupyter-widgets/controls",
      "model_module_version": "1.5.0",
      "model_name": "CheckboxModel",
      "state": {
       "description": "Nomen ist Kopf einer NP-Phrase",
       "disabled": false,
       "layout": "IPY_MODEL_56045340d6434d65b53c9dfda517c313",
       "style": "IPY_MODEL_7b7db08c9a4b413286d05b1b27dc3add",
       "value": false
      }
     },
     "8768b29848db4c83af0505d761a1f9a1": {
      "model_module": "@jupyter-widgets/controls",
      "model_module_version": "1.5.0",
      "model_name": "HTMLModel",
      "state": {
       "layout": "IPY_MODEL_e2183ade38c84fca8936c86d99dcb578",
       "style": "IPY_MODEL_e516fde9e7c34a7eacf0ebd7010bddf6",
       "value": "<i>Wählen Sie die <ins>eine</ins> korrekte Antwort aus: </i>"
      }
     },
     "88045e6c9ca3450ab17b9e6a157625c5": {
      "model_module": "@jupyter-widgets/controls",
      "model_module_version": "1.5.0",
      "model_name": "ButtonStyleModel",
      "state": {}
     },
     "8807cdad02604db5b92ffd310d250b8c": {
      "model_module": "@jupyter-widgets/base",
      "model_module_version": "1.2.0",
      "model_name": "LayoutModel",
      "state": {}
     },
     "881dcf142a244b7d8221d05dda9a017d": {
      "model_module": "@jupyter-widgets/base",
      "model_module_version": "1.2.0",
      "model_name": "LayoutModel",
      "state": {
       "justify_content": "center"
      }
     },
     "8835d0ae4e9341458b2df6866028f850": {
      "model_module": "@jupyter-widgets/controls",
      "model_module_version": "1.5.0",
      "model_name": "DescriptionStyleModel",
      "state": {
       "description_width": ""
      }
     },
     "88431e31bdca4b199852f33b95f821f7": {
      "model_module": "@jupyter-widgets/base",
      "model_module_version": "1.2.0",
      "model_name": "LayoutModel",
      "state": {
       "width": "600px"
      }
     },
     "884931a0754047529ed0ba8e5ce051e9": {
      "model_module": "@jupyter-widgets/base",
      "model_module_version": "1.2.0",
      "model_name": "LayoutModel",
      "state": {}
     },
     "888311c310834eb394060a1a5dc9ad16": {
      "model_module": "@jupyter-widgets/controls",
      "model_module_version": "1.5.0",
      "model_name": "ButtonModel",
      "state": {
       "description": "morphologisch ambige Formen",
       "layout": "IPY_MODEL_c7fc9388f0a0467685927292cecc4cc4",
       "style": "IPY_MODEL_c791fb57baf94f67837ee0493bff9dc6"
      }
     },
     "888994b7d7af456582c8fe7b31486be1": {
      "model_module": "@jupyter-widgets/controls",
      "model_module_version": "1.5.0",
      "model_name": "DescriptionStyleModel",
      "state": {
       "description_width": "initial"
      }
     },
     "88907d762fe94ee3a7dbfd27c992d4dc": {
      "model_module": "@jupyter-widgets/controls",
      "model_module_version": "1.5.0",
      "model_name": "DescriptionStyleModel",
      "state": {
       "description_width": ""
      }
     },
     "88aa3884d80545ab889dbbbd6be64686": {
      "model_module": "@jupyter-widgets/controls",
      "model_module_version": "1.5.0",
      "model_name": "DescriptionStyleModel",
      "state": {
       "description_width": ""
      }
     },
     "88c21e071d684301a0f00f470dd2d750": {
      "model_module": "@jupyter-widgets/controls",
      "model_module_version": "1.5.0",
      "model_name": "CheckboxModel",
      "state": {
       "description": "Morphemebene, Phrasenebene, Satzebene",
       "disabled": false,
       "layout": "IPY_MODEL_2ae5af58844649de88f6383ccc5389ed",
       "style": "IPY_MODEL_2b59a963fa2c4c39b095c1142a386f93",
       "value": false
      }
     },
     "88ce62dfef3c49979e9cf7cba9fc0a5c": {
      "model_module": "@jupyter-widgets/base",
      "model_module_version": "1.2.0",
      "model_name": "LayoutModel",
      "state": {
       "width": "250px"
      }
     },
     "891c33d5669a494c874befc6e470f12d": {
      "model_module": "@jupyter-widgets/controls",
      "model_module_version": "1.5.0",
      "model_name": "DescriptionStyleModel",
      "state": {
       "description_width": ""
      }
     },
     "89945a28ffed45fc87e8a5e07b70319e": {
      "model_module": "@jupyter-widgets/controls",
      "model_module_version": "1.5.0",
      "model_name": "CheckboxModel",
      "state": {
       "description": "Eine automatische Strukturanalyse wird möglich.",
       "disabled": false,
       "layout": "IPY_MODEL_1c4a946df1b54eb89cb7e53c52442852",
       "style": "IPY_MODEL_5d05ca131447451fa34b6907ad6b60ee",
       "value": false
      }
     },
     "89e21f4f450945b5a6668a3215eb1605": {
      "model_module": "@jupyter-widgets/controls",
      "model_module_version": "1.5.0",
      "model_name": "CheckboxModel",
      "state": {
       "description": "Lautebene, Wortebene, Satzebene",
       "disabled": false,
       "layout": "IPY_MODEL_b1cff329362249d88f0546f50953e400",
       "style": "IPY_MODEL_f801a5fea1394eb397524e1ba9efd8d7",
       "value": true
      }
     },
     "8a285262ff024dda9445e1dc8f5b2cd8": {
      "model_module": "@jupyter-widgets/controls",
      "model_module_version": "1.5.0",
      "model_name": "ButtonStyleModel",
      "state": {}
     },
     "8a47a1dbd95f4038b8dbc6e9c6e1ee9a": {
      "model_module": "@jupyter-widgets/base",
      "model_module_version": "1.2.0",
      "model_name": "LayoutModel",
      "state": {
       "width": "600px"
      }
     },
     "8a655885b18946de8a7aacab0e67e2d0": {
      "model_module": "@jupyter-widgets/controls",
      "model_module_version": "1.5.0",
      "model_name": "ButtonModel",
      "state": {
       "description": "Objekt",
       "layout": "IPY_MODEL_926f26cca5964b10ac9ea361d84551af",
       "style": "IPY_MODEL_41c5c450f26d4339b7f41e5e77bdc5e2"
      }
     },
     "8a7599c5d9204ffa950c1c9b1d6a06f5": {
      "model_module": "@jupyter-widgets/base",
      "model_module_version": "1.2.0",
      "model_name": "LayoutModel",
      "state": {
       "width": "600px"
      }
     },
     "8abfd6110acf43bbac815078ed6e09b2": {
      "model_module": "@jupyter-widgets/base",
      "model_module_version": "1.2.0",
      "model_name": "LayoutModel",
      "state": {}
     },
     "8ae0e347b8ff41248699b4dd2e333484": {
      "model_module": "@jupyter-widgets/controls",
      "model_module_version": "1.5.0",
      "model_name": "HTMLModel",
      "state": {
       "layout": "IPY_MODEL_d3587a326dbd4a3fa33695085784258e",
       "style": "IPY_MODEL_0385e08d2b604a0e9f34561917cf4d13",
       "value": "<i>Wählen Sie die <ins>eine</ins> korrekte Antwort aus: </i>"
      }
     },
     "8aeb804e8df74d738b8cb4878f54a434": {
      "model_module": "@jupyter-widgets/base",
      "model_module_version": "1.2.0",
      "model_name": "LayoutModel",
      "state": {}
     },
     "8aed12741d144b889d2b52f29ea4d349": {
      "model_module": "@jupyter-widgets/base",
      "model_module_version": "1.2.0",
      "model_name": "LayoutModel",
      "state": {
       "justify_content": "center"
      }
     },
     "8aedde5171c8445f871cc99ee791813a": {
      "model_module": "@jupyter-widgets/controls",
      "model_module_version": "1.5.0",
      "model_name": "ButtonModel",
      "state": {
       "description": "Keine der anderen Möglichkeiten",
       "layout": "IPY_MODEL_030d33675c2f4ef8b65e4df50e5126bc",
       "style": "IPY_MODEL_4dfb1ee7b4f84c5fa8c6a85bf0b56662"
      }
     },
     "8b2d81ba3f004164b3d817e46b8bfef9": {
      "model_module": "@jupyter-widgets/controls",
      "model_module_version": "1.5.0",
      "model_name": "DescriptionStyleModel",
      "state": {
       "description_width": "initial"
      }
     },
     "8b49842eb72e414686a97a99725e2026": {
      "model_module": "@jupyter-widgets/base",
      "model_module_version": "1.2.0",
      "model_name": "LayoutModel",
      "state": {
       "justify_content": "center"
      }
     },
     "8b4bdb40e5d74aacbdcc86c73f7c6bdc": {
      "model_module": "@jupyter-widgets/controls",
      "model_module_version": "1.5.0",
      "model_name": "DropdownModel",
      "state": {
       "_options_labels": [
        "morphologischen",
        "phonologischen",
        "semantischen",
        "syntaktischen",
        " "
       ],
       "index": 4,
       "layout": "IPY_MODEL_7c899657b08341a3b66a9a32ae9e9187",
       "style": "IPY_MODEL_ea710506abf04e07bf478e469d41f190"
      }
     },
     "8b82864e94b54faf85b86e585c97d2be": {
      "model_module": "@jupyter-widgets/controls",
      "model_module_version": "1.5.0",
      "model_name": "ButtonStyleModel",
      "state": {}
     },
     "8ba17f7c87df4e31bb4a7b61b1192867": {
      "model_module": "@jupyter-widgets/base",
      "model_module_version": "1.2.0",
      "model_name": "LayoutModel",
      "state": {}
     },
     "8bba91e18276469a8fb0b566ce796144": {
      "model_module": "@jupyter-widgets/controls",
      "model_module_version": "1.5.0",
      "model_name": "DescriptionStyleModel",
      "state": {
       "description_width": ""
      }
     },
     "8bc970335e0142478257ffe5ca7d5e22": {
      "model_module": "@jupyter-widgets/controls",
      "model_module_version": "1.5.0",
      "model_name": "HTMLModel",
      "state": {
       "layout": "IPY_MODEL_1af471aa5cee428a9421da832179d418",
       "style": "IPY_MODEL_f1b4836b4bdc49e48b6e432eca4c397a",
       "value": "<h4 style=\"font-size:14px;\">Die Syntax ist ein</h4>"
      }
     },
     "8bf8066fd9f3491093f33aac930a6fe7": {
      "model_module": "@jupyter-widgets/controls",
      "model_module_version": "1.5.0",
      "model_name": "VBoxModel",
      "state": {
       "children": [
        "IPY_MODEL_4ffcb35f71914526b65c65ef6fb20496",
        "IPY_MODEL_72e2f5f6ad3e419db0736a6932e875a9",
        "IPY_MODEL_55356779739b42a6a0f25ff92cfd6b54"
       ],
       "layout": "IPY_MODEL_823e6c489fdf4aa3a712270138b8391c"
      }
     },
     "8c1443d607bd45adbc67a0380e2ecd6e": {
      "model_module": "@jupyter-widgets/base",
      "model_module_version": "1.2.0",
      "model_name": "LayoutModel",
      "state": {}
     },
     "8c170e32123a4b638dcb56668cb6309b": {
      "model_module": "@jupyter-widgets/controls",
      "model_module_version": "1.5.0",
      "model_name": "ButtonModel",
      "state": {
       "description": "Übergenerierung",
       "layout": "IPY_MODEL_a3ee679b70f344849399b1cc2bfc94e1",
       "style": "IPY_MODEL_5c201eafdfa34001bd3a902918c0c8cb"
      }
     },
     "8c1feaf27aa140a48dd7164f410088c5": {
      "model_module": "@jupyter-widgets/controls",
      "model_module_version": "1.5.0",
      "model_name": "DescriptionStyleModel",
      "state": {
       "description_width": ""
      }
     },
     "8c2268e5f2b14de7ad1908a57f4ea7b1": {
      "model_module": "@jupyter-widgets/base",
      "model_module_version": "1.2.0",
      "model_name": "LayoutModel",
      "state": {}
     },
     "8c2ab9e8547e45d2af357b0ade394d59": {
      "model_module": "@jupyter-widgets/base",
      "model_module_version": "1.2.0",
      "model_name": "LayoutModel",
      "state": {
       "width": "250px"
      }
     },
     "8c2ddd835c364a23a9044204e203630f": {
      "model_module": "@jupyter-widgets/controls",
      "model_module_version": "1.5.0",
      "model_name": "VBoxModel",
      "state": {
       "children": [
        "IPY_MODEL_960c155bb25142cab6ed399aec15d1a1",
        "IPY_MODEL_93318767d33b4215bbf46b78ef8b03d1",
        "IPY_MODEL_0853eb0cabfb4176bd59f4ee66418643"
       ],
       "layout": "IPY_MODEL_fa58b151481b42b2b30d6071df92f79d"
      }
     },
     "8c4db2fe69e149fb98825ae121c5eef8": {
      "model_module": "@jupyter-widgets/base",
      "model_module_version": "1.2.0",
      "model_name": "LayoutModel",
      "state": {}
     },
     "8c62cd1095a74389aa25108d72732923": {
      "model_module": "@jupyter-widgets/controls",
      "model_module_version": "1.5.0",
      "model_name": "CheckboxModel",
      "state": {
       "description": "Eine unendliche Menge an Sätzen kann mit endlichen Mitteln beschrieben werden.",
       "disabled": false,
       "layout": "IPY_MODEL_cb009808e95a4c72a435ffddfbcd844d",
       "style": "IPY_MODEL_8b2d81ba3f004164b3d817e46b8bfef9",
       "value": false
      }
     },
     "8c6aa2768e5240b48f531c59e957ddf4": {
      "model_module": "@jupyter-widgets/base",
      "model_module_version": "1.2.0",
      "model_name": "LayoutModel",
      "state": {
       "width": "250px"
      }
     },
     "8c6abf83277d487da564504d6bfb4be1": {
      "model_module": "@jupyter-widgets/base",
      "model_module_version": "1.2.0",
      "model_name": "LayoutModel",
      "state": {
       "width": "250px"
      }
     },
     "8cd76db643a84261bd33fcc5297e52c6": {
      "model_module": "@jupyter-widgets/base",
      "model_module_version": "1.2.0",
      "model_name": "LayoutModel",
      "state": {
       "width": "250px"
      }
     },
     "8cfac20491f748c8b4c81ecfb0249974": {
      "model_module": "@jupyter-widgets/controls",
      "model_module_version": "1.5.0",
      "model_name": "DescriptionStyleModel",
      "state": {
       "description_width": "initial"
      }
     },
     "8d26f3cfdc6e4fd5a003511ed01e20dd": {
      "model_module": "@jupyter-widgets/base",
      "model_module_version": "1.2.0",
      "model_name": "LayoutModel",
      "state": {
       "justify_content": "center"
      }
     },
     "8d2a2764126046b9864194b1bac56b64": {
      "model_module": "@jupyter-widgets/controls",
      "model_module_version": "1.5.0",
      "model_name": "ButtonModel",
      "state": {
       "description": "strukturelle Ambiguität",
       "layout": "IPY_MODEL_e3281a209e4f4a029c8202cb8d11b533",
       "style": "IPY_MODEL_b4bbff0a2e05405fb44f952653a57a64"
      }
     },
     "8d37c168a438476f9d0eddac1fcec1ff": {
      "model_module": "@jupyter-widgets/base",
      "model_module_version": "1.2.0",
      "model_name": "LayoutModel",
      "state": {
       "justify_content": "center"
      }
     },
     "8d4190b2497e472c8fca3c37a33b9e54": {
      "model_module": "@jupyter-widgets/base",
      "model_module_version": "1.2.0",
      "model_name": "LayoutModel",
      "state": {}
     },
     "8d4190e2635d418085e821f3de222165": {
      "model_module": "@jupyter-widgets/controls",
      "model_module_version": "1.5.0",
      "model_name": "HTMLModel",
      "state": {
       "layout": "IPY_MODEL_71d8576dfe9a4bb0ad3dafb5a6176b00",
       "style": "IPY_MODEL_193e68886ab542c48132e0e793bf2c55",
       "value": "<h4 style=\"font-size:14px;\">Zu welcher Phrase kann die Präpositionalphrase \"in my pajamas\" gehören?</h4>"
      }
     },
     "8d5f03b90ab147dab0e45b62141d686d": {
      "model_module": "@jupyter-widgets/base",
      "model_module_version": "1.2.0",
      "model_name": "LayoutModel",
      "state": {}
     },
     "8d8178c2579a461bb609fe9d3e8686a2": {
      "model_module": "@jupyter-widgets/base",
      "model_module_version": "1.2.0",
      "model_name": "LayoutModel",
      "state": {
       "justify_content": "center"
      }
     },
     "8d82e03e93814983bae71b186aa8edc1": {
      "model_module": "@jupyter-widgets/controls",
      "model_module_version": "1.5.0",
      "model_name": "DescriptionStyleModel",
      "state": {
       "description_width": "initial"
      }
     },
     "8d84238e46a74a01813a95e4483f025a": {
      "model_module": "@jupyter-widgets/controls",
      "model_module_version": "1.5.0",
      "model_name": "ButtonModel",
      "state": {
       "description": "Korrekt?",
       "layout": "IPY_MODEL_0e5077e8e48b45e7be33825304e143dd",
       "style": "IPY_MODEL_c40cd27ac198424e92ce5d40c346cb49"
      }
     },
     "8e031aea6124410ea31acb763124dcf9": {
      "model_module": "@jupyter-widgets/controls",
      "model_module_version": "1.5.0",
      "model_name": "DescriptionStyleModel",
      "state": {
       "description_width": ""
      }
     },
     "8e384610ae09440da92060399c49e229": {
      "model_module": "@jupyter-widgets/base",
      "model_module_version": "1.2.0",
      "model_name": "LayoutModel",
      "state": {
       "width": "250px"
      }
     },
     "8e411d1ea8314fad9de81cf8138d63de": {
      "model_module": "@jupyter-widgets/base",
      "model_module_version": "1.2.0",
      "model_name": "LayoutModel",
      "state": {
       "width": "250px"
      }
     },
     "8ee205b069654536a87e69aae7db01f9": {
      "model_module": "@jupyter-widgets/controls",
      "model_module_version": "1.5.0",
      "model_name": "ButtonModel",
      "state": {
       "description": "Regelbuch",
       "layout": "IPY_MODEL_f65a17afcfc7481e8efde585c26b95ea",
       "style": "IPY_MODEL_5f6c525c32c54740930e37571b135718"
      }
     },
     "8f156ee72219435181778191f593c419": {
      "model_module": "@jupyter-widgets/base",
      "model_module_version": "1.2.0",
      "model_name": "LayoutModel",
      "state": {}
     },
     "8f8aecf4fce74f24b50e3a8e2761571c": {
      "model_module": "@jupyter-widgets/controls",
      "model_module_version": "1.5.0",
      "model_name": "ButtonModel",
      "state": {
       "description": "morphologisch ambige Formen",
       "layout": "IPY_MODEL_50d060c773d0471d902d17a38b9d7438",
       "style": "IPY_MODEL_cf0e237033274e08ac9228e8a351b95d"
      }
     },
     "8f8c58168b6445ec95989f2fc61ab5be": {
      "model_module": "@jupyter-widgets/controls",
      "model_module_version": "1.5.0",
      "model_name": "CheckboxModel",
      "state": {
       "description": "semantische",
       "disabled": false,
       "layout": "IPY_MODEL_6ea4c707ffea4363988c87e18f859017",
       "style": "IPY_MODEL_907437432a5944628cae1225c1b7f4b0",
       "value": false
      }
     },
     "8f93c31067c043b18b2bc2cf0520b6c5": {
      "model_module": "@jupyter-widgets/controls",
      "model_module_version": "1.5.0",
      "model_name": "DescriptionStyleModel",
      "state": {
       "description_width": "initial"
      }
     },
     "8f9d422a18e445de933133fb145c3cb2": {
      "model_module": "@jupyter-widgets/controls",
      "model_module_version": "1.5.0",
      "model_name": "DescriptionStyleModel",
      "state": {
       "description_width": "initial"
      }
     },
     "8f9eacc9ed804d638980886cbf34cecb": {
      "model_module": "@jupyter-widgets/base",
      "model_module_version": "1.2.0",
      "model_name": "LayoutModel",
      "state": {
       "justify_content": "center"
      }
     },
     "8fc980c0fbc14e319906d5e1a7097a26": {
      "model_module": "@jupyter-widgets/base",
      "model_module_version": "1.2.0",
      "model_name": "LayoutModel",
      "state": {
       "width": "250px"
      }
     },
     "9005847e63a34228b7df0a1195de731d": {
      "model_module": "@jupyter-widgets/base",
      "model_module_version": "1.2.0",
      "model_name": "LayoutModel",
      "state": {
       "justify_content": "center"
      }
     },
     "901e68da3d474490b023c776bc79ef07": {
      "model_module": "@jupyter-widgets/controls",
      "model_module_version": "1.5.0",
      "model_name": "VBoxModel",
      "state": {
       "children": [
        "IPY_MODEL_d2b651698a5544ce827f21d64fe37ad2",
        "IPY_MODEL_7007921789c44fe795ef1a7da16e8976",
        "IPY_MODEL_28c316533c29443f92c02410dfb3eca5",
        "IPY_MODEL_16c23103de6c44c3a5c08a870bc14ea4"
       ],
       "layout": "IPY_MODEL_cb6faea54ab74586aa043704ea2c4748"
      }
     },
     "902b0331548b40b3ad35c232dc824e5a": {
      "model_module": "@jupyter-widgets/controls",
      "model_module_version": "1.5.0",
      "model_name": "DescriptionStyleModel",
      "state": {
       "description_width": ""
      }
     },
     "9048213b56814cbab97cc8d5fc63cae1": {
      "model_module": "@jupyter-widgets/controls",
      "model_module_version": "1.5.0",
      "model_name": "HTMLModel",
      "state": {
       "layout": "IPY_MODEL_b749af90c3c24c5a8308f1927697bb1d",
       "style": "IPY_MODEL_0fff01bbc129409cae8f97fda824fded",
       "value": "<i>Wählen Sie die <ins>eine</ins> korrekte Antwort aus: </i>"
      }
     },
     "9053c7fde18e48bfb8233c6ee87f45ab": {
      "model_module": "@jupyter-widgets/controls",
      "model_module_version": "1.5.0",
      "model_name": "DescriptionStyleModel",
      "state": {
       "description_width": ""
      }
     },
     "9057c3413bbe4a48b4f57f8f2f11824e": {
      "model_module": "@jupyter-widgets/base",
      "model_module_version": "1.2.0",
      "model_name": "LayoutModel",
      "state": {
       "width": "250px"
      }
     },
     "907437432a5944628cae1225c1b7f4b0": {
      "model_module": "@jupyter-widgets/controls",
      "model_module_version": "1.5.0",
      "model_name": "DescriptionStyleModel",
      "state": {
       "description_width": "initial"
      }
     },
     "90921eee57f240b79d7687a2b0dbd349": {
      "model_module": "@jupyter-widgets/base",
      "model_module_version": "1.2.0",
      "model_name": "LayoutModel",
      "state": {}
     },
     "909f31fa05394191b25efc401dbdb14f": {
      "model_module": "@jupyter-widgets/controls",
      "model_module_version": "1.5.0",
      "model_name": "HBoxModel",
      "state": {
       "children": [
        "IPY_MODEL_4ba3dbe806864e558cef8ab676ab3ba8",
        "IPY_MODEL_56bb0c97545c4222908aebc8059b6b70"
       ],
       "layout": "IPY_MODEL_01d7467e4a9c4b328a18e959b07eca62"
      }
     },
     "90a740ae27b048db92ece4b004db7464": {
      "model_module": "@jupyter-widgets/controls",
      "model_module_version": "1.5.0",
      "model_name": "ButtonStyleModel",
      "state": {}
     },
     "90a749d63aeb443e85af253f8840e335": {
      "model_module": "@jupyter-widgets/base",
      "model_module_version": "1.2.0",
      "model_name": "LayoutModel",
      "state": {
       "justify_content": "center"
      }
     },
     "90b9769ec8d741e0ac0153ac76557d01": {
      "model_module": "@jupyter-widgets/base",
      "model_module_version": "1.2.0",
      "model_name": "LayoutModel",
      "state": {
       "justify_content": "center"
      }
     },
     "90d93a387ba04160b27115cb49cc8295": {
      "model_module": "@jupyter-widgets/controls",
      "model_module_version": "1.5.0",
      "model_name": "HBoxModel",
      "state": {
       "children": [
        "IPY_MODEL_2a2e1da44c1f4192ab1ca4ca3f000ecb",
        "IPY_MODEL_888311c310834eb394060a1a5dc9ad16"
       ],
       "layout": "IPY_MODEL_8807cdad02604db5b92ffd310d250b8c"
      }
     },
     "90ef57bedc4245a68f228c598f02359b": {
      "model_module": "@jupyter-widgets/controls",
      "model_module_version": "1.5.0",
      "model_name": "VBoxModel",
      "state": {
       "children": [
        "IPY_MODEL_dc3b99c7674f461c82ba90bf15c3f910",
        "IPY_MODEL_e31c3904b17c41d7941de8a3123b4fce",
        "IPY_MODEL_379a2b65be484a2d9af969e077407a77",
        "IPY_MODEL_3734aeaf8a7f496584fbf364cbea9961"
       ],
       "layout": "IPY_MODEL_d0560acb61f04bb38843cc5e1a1b832b"
      }
     },
     "90fc3b8cda1140cc930117aae0495e60": {
      "model_module": "@jupyter-widgets/controls",
      "model_module_version": "1.5.0",
      "model_name": "DescriptionStyleModel",
      "state": {
       "description_width": "initial"
      }
     },
     "9121ab0aa23749cab42ed2db06db3cf2": {
      "model_module": "@jupyter-widgets/controls",
      "model_module_version": "1.5.0",
      "model_name": "ButtonStyleModel",
      "state": {
       "button_color": "lightgreen"
      }
     },
     "91863d26c13e4055be946eb51b34781e": {
      "model_module": "@jupyter-widgets/base",
      "model_module_version": "1.2.0",
      "model_name": "LayoutModel",
      "state": {
       "width": "250px"
      }
     },
     "9198fd36e1b44efcabf07ff9cf090b8b": {
      "model_module": "@jupyter-widgets/base",
      "model_module_version": "1.2.0",
      "model_name": "LayoutModel",
      "state": {
       "justify_content": "center"
      }
     },
     "91bc1aae0ad840499a0076438270aabd": {
      "model_module": "@jupyter-widgets/controls",
      "model_module_version": "1.5.0",
      "model_name": "ButtonModel",
      "state": {
       "description": "Konstituenz",
       "layout": "IPY_MODEL_8007f49a37dd486baaf2f95fa24e52d3",
       "style": "IPY_MODEL_3ccc85f8f2a441418bf3d938ca8245c5"
      }
     },
     "91c2c1e6d94645d39b90af7b80626f05": {
      "model_module": "@jupyter-widgets/base",
      "model_module_version": "1.2.0",
      "model_name": "LayoutModel",
      "state": {
       "justify_content": "center"
      }
     },
     "91fa0244311343e58ffa29e5265ba8f6": {
      "model_module": "@jupyter-widgets/controls",
      "model_module_version": "1.5.0",
      "model_name": "ButtonStyleModel",
      "state": {}
     },
     "920234a90ec94a968d201ea1dd1714cf": {
      "model_module": "@jupyter-widgets/base",
      "model_module_version": "1.2.0",
      "model_name": "LayoutModel",
      "state": {
       "width": "250px"
      }
     },
     "921706dc419346b2bbd249b5fc66b741": {
      "model_module": "@jupyter-widgets/controls",
      "model_module_version": "1.5.0",
      "model_name": "CheckboxModel",
      "state": {
       "description": "Eine endliche Menge an Sätzen kann mit unendlichen Mitteln beschrieben werden.",
       "disabled": false,
       "layout": "IPY_MODEL_46fbe0ec7d4a440d8a1b42431086caf0",
       "style": "IPY_MODEL_4e6343d8c8df4ab7936fc93190ba9a23",
       "value": false
      }
     },
     "926385519611400d949452ae6c81aee9": {
      "model_module": "@jupyter-widgets/controls",
      "model_module_version": "1.5.0",
      "model_name": "ButtonModel",
      "state": {
       "description": "Regelbuch",
       "layout": "IPY_MODEL_ef993d8c55e4473c9339d332e76527ec",
       "style": "IPY_MODEL_c3d544b85d1f48f486b6c9fdc69447c4"
      }
     },
     "926f26cca5964b10ac9ea361d84551af": {
      "model_module": "@jupyter-widgets/base",
      "model_module_version": "1.2.0",
      "model_name": "LayoutModel",
      "state": {
       "width": "250px"
      }
     },
     "927a9b90338a44cfbc5c366a332a3bd5": {
      "model_module": "@jupyter-widgets/controls",
      "model_module_version": "1.5.0",
      "model_name": "ButtonModel",
      "state": {
       "description": "Abhängigkeitsstruktur",
       "layout": "IPY_MODEL_157c08da32994355b97b12d764a250d4",
       "style": "IPY_MODEL_e8de2034ba684820a67495b9e8d4c843"
      }
     },
     "928679b288ba4193b057d736a18f6d20": {
      "model_module": "@jupyter-widgets/base",
      "model_module_version": "1.2.0",
      "model_name": "LayoutModel",
      "state": {
       "justify_content": "center"
      }
     },
     "92a5004333fb4d69b227f4ce97712078": {
      "model_module": "@jupyter-widgets/base",
      "model_module_version": "1.2.0",
      "model_name": "LayoutModel",
      "state": {
       "width": "250px"
      }
     },
     "92c08b0657cf417e8c8d672bc2aaf98d": {
      "model_module": "@jupyter-widgets/controls",
      "model_module_version": "1.5.0",
      "model_name": "CheckboxModel",
      "state": {
       "description": "morphologische",
       "disabled": false,
       "layout": "IPY_MODEL_cb15e857d90740238a31a5a328d6ed22",
       "style": "IPY_MODEL_de944d994dc44ec19e5a41912cd7443b",
       "value": false
      }
     },
     "92da909f540d47b0bcbeaad4bf2ddea6": {
      "model_module": "@jupyter-widgets/controls",
      "model_module_version": "1.5.0",
      "model_name": "CheckboxModel",
      "state": {
       "description": "Adverbialphrase",
       "disabled": false,
       "layout": "IPY_MODEL_3e1e76892f894c2d8846cc7e82257f44",
       "style": "IPY_MODEL_3e57c255a3ad46c3ac0de8580f581416",
       "value": false
      }
     },
     "93318767d33b4215bbf46b78ef8b03d1": {
      "model_module": "@jupyter-widgets/controls",
      "model_module_version": "1.5.0",
      "model_name": "CheckboxModel",
      "state": {
       "description": "Sinnhaftigkeit",
       "disabled": false,
       "layout": "IPY_MODEL_a123b17c46c841c69bdd47e70eb0139a",
       "style": "IPY_MODEL_e7b42a21f82f46bba2367af499207a76",
       "value": false
      }
     },
     "93571ec7d53f4a4fbcdbde21b1c67412": {
      "model_module": "@jupyter-widgets/base",
      "model_module_version": "1.2.0",
      "model_name": "LayoutModel",
      "state": {}
     },
     "936e1fcb1827421b9f228edd23d07907": {
      "model_module": "@jupyter-widgets/base",
      "model_module_version": "1.2.0",
      "model_name": "LayoutModel",
      "state": {}
     },
     "9404a75bf31c4eeeacabdd9fce40c568": {
      "model_module": "@jupyter-widgets/controls",
      "model_module_version": "1.5.0",
      "model_name": "ButtonModel",
      "state": {
       "description": "Korrekt?",
       "layout": "IPY_MODEL_105ce4f783b741c88eaa8d84a196d4ff",
       "style": "IPY_MODEL_5bb57fed4074422f8f7237b687a3eade"
      }
     },
     "94357312c1514bff945d75ffa94ad609": {
      "model_module": "@jupyter-widgets/controls",
      "model_module_version": "1.5.0",
      "model_name": "HTMLModel",
      "state": {
       "layout": "IPY_MODEL_bbdb0ead6c724844b8e9007dce6378ef",
       "style": "IPY_MODEL_e0190ef3e4234b1aa5d15a35fc5ab018",
       "value": "<i>Markieren Sie <ins>alle</ins> passenden Antworten: </i>"
      }
     },
     "943853b883544687877761b3484e31ba": {
      "model_module": "@jupyter-widgets/controls",
      "model_module_version": "1.5.0",
      "model_name": "DescriptionStyleModel",
      "state": {
       "description_width": ""
      }
     },
     "947029ee3d5c40c6be70539a3bb9c8a1": {
      "model_module": "@jupyter-widgets/controls",
      "model_module_version": "1.5.0",
      "model_name": "ButtonStyleModel",
      "state": {}
     },
     "9478f3148f1a4321b3bdc510cbb76297": {
      "model_module": "@jupyter-widgets/base",
      "model_module_version": "1.2.0",
      "model_name": "LayoutModel",
      "state": {
       "width": "250px"
      }
     },
     "94aa9e556179471d9b91e7831021f43d": {
      "model_module": "@jupyter-widgets/controls",
      "model_module_version": "1.5.0",
      "model_name": "ButtonModel",
      "state": {
       "description": "Phrasentyp",
       "layout": "IPY_MODEL_bf2159160b5645e3b41e7d83006ce74d",
       "style": "IPY_MODEL_59f1fc9aecc24814bd7143234d2c5940"
      }
     },
     "94ddbc9069174acfb711e981cb789729": {
      "model_module": "@jupyter-widgets/base",
      "model_module_version": "1.2.0",
      "model_name": "LayoutModel",
      "state": {
       "width": "250px"
      }
     },
     "9506a096b9ad4b87b58855ffc25f8930": {
      "model_module": "@jupyter-widgets/controls",
      "model_module_version": "1.5.0",
      "model_name": "VBoxModel",
      "state": {
       "children": [
        "IPY_MODEL_73c062fc2a3848c58afdaf912e73dec5",
        "IPY_MODEL_18e8d9391e914e3f882a3427b186aa5f",
        "IPY_MODEL_a381512a5f674f47b5c8a43cfde9af1a",
        "IPY_MODEL_7cee9573f6b0474e8c6dc633b23c47be"
       ],
       "layout": "IPY_MODEL_67d5f60556bb4f449999592c01ee674b"
      }
     },
     "95f38dc498c44ef9b82b120cd51272f5": {
      "model_module": "@jupyter-widgets/base",
      "model_module_version": "1.2.0",
      "model_name": "LayoutModel",
      "state": {
       "width": "150px"
      }
     },
     "960c155bb25142cab6ed399aec15d1a1": {
      "model_module": "@jupyter-widgets/controls",
      "model_module_version": "1.5.0",
      "model_name": "CheckboxModel",
      "state": {
       "description": "Grammatikalität",
       "disabled": false,
       "layout": "IPY_MODEL_850225b904e24eda9cc977b48dedd41a",
       "style": "IPY_MODEL_409e4b1fd3a14aacb3f24d53036a6d27",
       "value": false
      }
     },
     "96151efdc4d240438acef4cc84e81f9e": {
      "model_module": "@jupyter-widgets/controls",
      "model_module_version": "1.5.0",
      "model_name": "DescriptionStyleModel",
      "state": {
       "description_width": "initial"
      }
     },
     "96193599e9954419b89138d34db162bf": {
      "model_module": "@jupyter-widgets/controls",
      "model_module_version": "1.5.0",
      "model_name": "ButtonModel",
      "state": {
       "description": "Keine der anderen Möglichkeiten",
       "layout": "IPY_MODEL_6d00d0b60b9543968ca789cd269196c2",
       "style": "IPY_MODEL_6b4020fc7b304030b9f62dc8843c129c"
      }
     },
     "96586d2150384e1d9f73dd308f6c67c1": {
      "model_module": "@jupyter-widgets/base",
      "model_module_version": "1.2.0",
      "model_name": "LayoutModel",
      "state": {
       "width": "250px"
      }
     },
     "96637b497a9c4de2a79aaaf6410fe88f": {
      "model_module": "@jupyter-widgets/controls",
      "model_module_version": "1.5.0",
      "model_name": "HTMLModel",
      "state": {
       "layout": "IPY_MODEL_2546fe2a30dc46f5b29fdc2c8039a595",
       "style": "IPY_MODEL_1c26bf946f2045bf8b74365c847d6f69",
       "value": "<h4 style=\"font-size:14px;\">Welcher Grammatikbegriff liegt Satz 3 zugrunde?</h4>"
      }
     },
     "96651d0c230f473eaeab78f90acd3567": {
      "model_module": "@jupyter-widgets/controls",
      "model_module_version": "1.5.0",
      "model_name": "HBoxModel",
      "state": {
       "children": [
        "IPY_MODEL_349e2920b35f4f19bde418482021e9bd",
        "IPY_MODEL_24d876f8ee634c33b6a434d499a6def3"
       ],
       "layout": "IPY_MODEL_0b9198b37a1e4794b1497c547083ecb4"
      }
     },
     "967b47e7dd6d4c94b5053a4b8faceded": {
      "model_module": "@jupyter-widgets/controls",
      "model_module_version": "1.5.0",
      "model_name": "HBoxModel",
      "state": {
       "children": [
        "IPY_MODEL_031881b4669c417d9334bde8be395dc5"
       ],
       "layout": "IPY_MODEL_ef38d4be22bb46c8837361ac270a076a"
      }
     },
     "969b5ce466194de3ba9c90671d2b99ba": {
      "model_module": "@jupyter-widgets/controls",
      "model_module_version": "1.5.0",
      "model_name": "ButtonModel",
      "state": {
       "description": "Theorie der Sprachstruktur",
       "layout": "IPY_MODEL_c2e734a112a549d68b3404160ea2240a",
       "style": "IPY_MODEL_f5d0cf87e68d48249e8dbf0e2a1bb30b"
      }
     },
     "96a1b8dcc854479c9c9f27dc6093cb02": {
      "model_module": "@jupyter-widgets/controls",
      "model_module_version": "1.5.0",
      "model_name": "HTMLModel",
      "state": {
       "layout": "IPY_MODEL_1924488577724954b5b1ec8d7998fc41",
       "style": "IPY_MODEL_34cdc6500eb44e6b93cc78ff67a8b74e",
       "value": "<i>Markieren Sie <ins>alle</ins> passenden Antworten: </i>"
      }
     },
     "96b8c32b015c43469dc0a086c5ffdff3": {
      "model_module": "@jupyter-widgets/controls",
      "model_module_version": "1.5.0",
      "model_name": "ButtonModel",
      "state": {
       "description": "Subjekt",
       "layout": "IPY_MODEL_aae3b21c60ec40f88ea435986318a425",
       "style": "IPY_MODEL_81f9b58d12a547ca8591fa967d6c4b39"
      }
     },
     "96edea0ac1354897b0c999265ae6ce92": {
      "model_module": "@jupyter-widgets/controls",
      "model_module_version": "1.5.0",
      "model_name": "ButtonStyleModel",
      "state": {
       "button_color": "lightgreen"
      }
     },
     "970452b53aca45459a13780fbf79a4dd": {
      "model_module": "@jupyter-widgets/base",
      "model_module_version": "1.2.0",
      "model_name": "LayoutModel",
      "state": {
       "justify_content": "center"
      }
     },
     "9749f86c2b3e4c23b44f2be5c95df753": {
      "model_module": "@jupyter-widgets/base",
      "model_module_version": "1.2.0",
      "model_name": "LayoutModel",
      "state": {
       "width": "600px"
      }
     },
     "978cd3cd768c4756a61994334c559bbc": {
      "model_module": "@jupyter-widgets/controls",
      "model_module_version": "1.5.0",
      "model_name": "ButtonStyleModel",
      "state": {}
     },
     "97a3c53ee9574da1a4111dad42da1360": {
      "model_module": "@jupyter-widgets/controls",
      "model_module_version": "1.5.0",
      "model_name": "HTMLModel",
      "state": {
       "layout": "IPY_MODEL_b6cb33f148f24f32a2aa81c014a4e7c0",
       "style": "IPY_MODEL_80106da46e9145bfbc9d2558b0ef4005",
       "value": "<i>Wählen Sie die <ins>eine</ins> korrekte Antwort aus: </i>"
      }
     },
     "97b1def6880d44b1ba40534b0636b0c4": {
      "model_module": "@jupyter-widgets/controls",
      "model_module_version": "1.5.0",
      "model_name": "DescriptionStyleModel",
      "state": {
       "description_width": ""
      }
     },
     "98110085a5b944b0ae2495327c9182c0": {
      "model_module": "@jupyter-widgets/base",
      "model_module_version": "1.2.0",
      "model_name": "LayoutModel",
      "state": {}
     },
     "982b2f74e63b4cfaa2a811e577f775b8": {
      "model_module": "@jupyter-widgets/controls",
      "model_module_version": "1.5.0",
      "model_name": "BoxModel",
      "state": {
       "children": [
        "IPY_MODEL_6c134c7b76fd4513945567b5e0989e5f",
        "IPY_MODEL_dcccb5bb0c9b4e3e8d46f095bbfa6a11",
        "IPY_MODEL_c7b4339f66d248f3a2517b13678b1920",
        "IPY_MODEL_8b4bdb40e5d74aacbdcc86c73f7c6bdc",
        "IPY_MODEL_b49c3071b27d4e27938b76af3051c052"
       ],
       "layout": "IPY_MODEL_43a5045a8fc1464ea886059f78043f42"
      }
     },
     "983ce8ab4c644896bcc19fdd99e23607": {
      "model_module": "@jupyter-widgets/controls",
      "model_module_version": "1.5.0",
      "model_name": "ButtonModel",
      "state": {
       "description": "formale Grammatik",
       "layout": "IPY_MODEL_2a6de1c2e2ff44bfb63698c87c43062c",
       "style": "IPY_MODEL_67c802e9c4924f1da68ee9d579a0d310"
      }
     },
     "98a015434eb14603971f8ddaacc1fc70": {
      "model_module": "@jupyter-widgets/controls",
      "model_module_version": "1.5.0",
      "model_name": "DescriptionStyleModel",
      "state": {
       "description_width": ""
      }
     },
     "98bbf21d53c8464eaf2b880fc44f9136": {
      "model_module": "@jupyter-widgets/base",
      "model_module_version": "1.2.0",
      "model_name": "LayoutModel",
      "state": {}
     },
     "98c1615ebe304990a6b5b1e687a7183b": {
      "model_module": "@jupyter-widgets/base",
      "model_module_version": "1.2.0",
      "model_name": "LayoutModel",
      "state": {
       "justify_content": "center"
      }
     },
     "98d3231c39804b368c9f5ba43ff28005": {
      "model_module": "@jupyter-widgets/controls",
      "model_module_version": "1.5.0",
      "model_name": "HTMLModel",
      "state": {
       "layout": "IPY_MODEL_8d8178c2579a461bb609fe9d3e8686a2",
       "style": "IPY_MODEL_7fb02bd403c64edf826f4dbf7a1aa57f",
       "value": "<i>Wählen Sie die <ins>eine</ins> korrekte Antwort aus: </i>"
      }
     },
     "991f24fd52614e49beba38343ad706a4": {
      "model_module": "@jupyter-widgets/controls",
      "model_module_version": "1.5.0",
      "model_name": "VBoxModel",
      "state": {
       "children": [
        "IPY_MODEL_319532e9722b4cb6be9144e1e1df4363",
        "IPY_MODEL_1d6851589eff47f2bbfeb6cfb8e103f1",
        "IPY_MODEL_e04b0add3fb844a1b744855d3a87783a"
       ],
       "layout": "IPY_MODEL_c7a0c1367d764ec6a557f479d00d541f"
      }
     },
     "9943682bacbb487c800d559f1a3ad366": {
      "model_module": "@jupyter-widgets/controls",
      "model_module_version": "1.5.0",
      "model_name": "HBoxModel",
      "state": {
       "children": [
        "IPY_MODEL_c8477f497e5d4d23b0efe05e617770df",
        "IPY_MODEL_9e2eeae305cd4b608fd6842c657d1d9f"
       ],
       "layout": "IPY_MODEL_7848e5d3169c4679b4cb6f620cbe1c90"
      }
     },
     "9975967a747f432492c7c6df32b79aa4": {
      "model_module": "@jupyter-widgets/base",
      "model_module_version": "1.2.0",
      "model_name": "LayoutModel",
      "state": {
       "width": "250px"
      }
     },
     "99df5335ea254f7da18ecc51bb9c643b": {
      "model_module": "@jupyter-widgets/controls",
      "model_module_version": "1.5.0",
      "model_name": "HBoxModel",
      "state": {
       "children": [
        "IPY_MODEL_969b5ce466194de3ba9c90671d2b99ba",
        "IPY_MODEL_7348bfbf065f4c37b84ae3b5a4be46e5"
       ],
       "layout": "IPY_MODEL_45f4c3bc6c4b4648915025092a08f3cd"
      }
     },
     "99f27d02818d479399d4ccdb526ceaa1": {
      "model_module": "@jupyter-widgets/controls",
      "model_module_version": "1.5.0",
      "model_name": "HTMLModel",
      "state": {
       "layout": "IPY_MODEL_6eb327a90f994cee9c37d0fe19fc577b",
       "style": "IPY_MODEL_d7b4648ec74c4c27a35133d1203362e9",
       "value": "<h4 style=\"font-size:14px;\">Welche Funktion im Satz nimmt das Nomen ein, wenn es Kopf der Gerund-Nomen-Phrase ist?</h4>"
      }
     },
     "9a14644a2613491fbf20e9bfa62349ae": {
      "model_module": "@jupyter-widgets/base",
      "model_module_version": "1.2.0",
      "model_name": "LayoutModel",
      "state": {}
     },
     "9a1eb56d4a044d84ba024f46da471186": {
      "model_module": "@jupyter-widgets/base",
      "model_module_version": "1.2.0",
      "model_name": "LayoutModel",
      "state": {}
     },
     "9a21d3e4159c444ab2720590d995a3c8": {
      "model_module": "@jupyter-widgets/base",
      "model_module_version": "1.2.0",
      "model_name": "LayoutModel",
      "state": {}
     },
     "9a6b897d45de419f9befed78ac5af86c": {
      "model_module": "@jupyter-widgets/controls",
      "model_module_version": "1.5.0",
      "model_name": "HBoxModel",
      "state": {
       "children": [
        "IPY_MODEL_f1611159489647a6a5866e92cde2dfd8",
        "IPY_MODEL_c552fdc61e974591a46a8e5fef021e3b"
       ],
       "layout": "IPY_MODEL_85839554b48c486e9e1410cc581be402"
      }
     },
     "9a82514f8dcf4d2aa916cb0e748d7c1e": {
      "model_module": "@jupyter-widgets/controls",
      "model_module_version": "1.5.0",
      "model_name": "HBoxModel",
      "state": {
       "children": [
        "IPY_MODEL_a64dfffa198e4950bd742e4476bbd81a",
        "IPY_MODEL_00b62a01bf95485f92a294da16e42602"
       ],
       "layout": "IPY_MODEL_cce6205370aa468391c565385ed20753"
      }
     },
     "9a9187cc2bfc4936a8f98756a73cc3ea": {
      "model_module": "@jupyter-widgets/controls",
      "model_module_version": "1.5.0",
      "model_name": "DescriptionStyleModel",
      "state": {
       "description_width": "initial"
      }
     },
     "9a957eccf112413eb7439b22260e44a9": {
      "model_module": "@jupyter-widgets/base",
      "model_module_version": "1.2.0",
      "model_name": "LayoutModel",
      "state": {}
     },
     "9aad02b163a54053a913b0a43e6eb74f": {
      "model_module": "@jupyter-widgets/base",
      "model_module_version": "1.2.0",
      "model_name": "LayoutModel",
      "state": {}
     },
     "9abc4ec798ff43b78cdc94f5ed34360e": {
      "model_module": "@jupyter-widgets/base",
      "model_module_version": "1.2.0",
      "model_name": "LayoutModel",
      "state": {
       "width": "250px"
      }
     },
     "9b1828e09b9a4e8dbea7356fd14f50f1": {
      "model_module": "@jupyter-widgets/controls",
      "model_module_version": "1.5.0",
      "model_name": "VBoxModel",
      "state": {
       "children": [
        "IPY_MODEL_ac3092fc540e41e9a89caaf44f69ac4a",
        "IPY_MODEL_7f8d8183195d4eaba98a4d6c691b1527",
        "IPY_MODEL_c8a491c10e9a4cb3bb9aa55ace222002",
        "IPY_MODEL_052de710f01d4f53a8bbe5ff0f786857"
       ],
       "layout": "IPY_MODEL_3c3cdd6988aa42c3b5a5ea7ee916e8a9"
      }
     },
     "9b23dcfa62694bb7b26ea6ba7d9aa72d": {
      "model_module": "@jupyter-widgets/base",
      "model_module_version": "1.2.0",
      "model_name": "LayoutModel",
      "state": {
       "justify_content": "center"
      }
     },
     "9b4aba59c3f14532896cb6cd1848cb3a": {
      "model_module": "@jupyter-widgets/base",
      "model_module_version": "1.2.0",
      "model_name": "LayoutModel",
      "state": {}
     },
     "9b66084d6095413d95093d441ab2f088": {
      "model_module": "@jupyter-widgets/controls",
      "model_module_version": "1.5.0",
      "model_name": "VBoxModel",
      "state": {
       "children": [
        "IPY_MODEL_5a71a06e40f6439eb6fa1f4dbabf11c4",
        "IPY_MODEL_797c79981ee7499285c9c52d5e092b70",
        "IPY_MODEL_e7f63e90c48b4c8fa5261f752480f928",
        "IPY_MODEL_c0d24a6e551341d98857377a2f2ee24b"
       ],
       "layout": "IPY_MODEL_18b13528719f40719e7f64eb93e6d1d2"
      }
     },
     "9b9d86565a1244868b1f9a3ef16df65b": {
      "model_module": "@jupyter-widgets/controls",
      "model_module_version": "1.5.0",
      "model_name": "CheckboxModel",
      "state": {
       "description": "Nomen ist Dependent einer NP-Phrase",
       "disabled": false,
       "layout": "IPY_MODEL_b863df5deff4447284d4b10c0c487b7f",
       "style": "IPY_MODEL_8f93c31067c043b18b2bc2cf0520b6c5",
       "value": false
      }
     },
     "9b9ffef77c254533a634bf8210efeed3": {
      "model_module": "@jupyter-widgets/base",
      "model_module_version": "1.2.0",
      "model_name": "LayoutModel",
      "state": {
       "width": "600px"
      }
     },
     "9c0979da5dc64d489c24a15dec4564e2": {
      "model_module": "@jupyter-widgets/controls",
      "model_module_version": "1.5.0",
      "model_name": "ButtonStyleModel",
      "state": {}
     },
     "9c1581b933d84fdf8f258b733efd7495": {
      "model_module": "@jupyter-widgets/base",
      "model_module_version": "1.2.0",
      "model_name": "LayoutModel",
      "state": {
       "width": "250px"
      }
     },
     "9c27b0f5d1434c889bfc462aeb1bf250": {
      "model_module": "@jupyter-widgets/controls",
      "model_module_version": "1.5.0",
      "model_name": "VBoxModel",
      "state": {
       "children": [
        "IPY_MODEL_92da909f540d47b0bcbeaad4bf2ddea6",
        "IPY_MODEL_af1b8a8c6e6f49d187e9586fb22ad6f7",
        "IPY_MODEL_279115e0a3a647c482b376853081fa15",
        "IPY_MODEL_094b368f9a424ad1aa9277fb045ee84c",
        "IPY_MODEL_566213c9fbc64e9a8856be6f5368d83e"
       ],
       "layout": "IPY_MODEL_77cc030fc08d41559772d995ecb185ec"
      }
     },
     "9c33e49af44b4e6aa704381c166a0465": {
      "model_module": "@jupyter-widgets/base",
      "model_module_version": "1.2.0",
      "model_name": "LayoutModel",
      "state": {}
     },
     "9c6712167ef3432abee95b87cfa07844": {
      "model_module": "@jupyter-widgets/base",
      "model_module_version": "1.2.0",
      "model_name": "LayoutModel",
      "state": {}
     },
     "9c79feb071e9462baf05580e9abca818": {
      "model_module": "@jupyter-widgets/controls",
      "model_module_version": "1.5.0",
      "model_name": "ButtonModel",
      "state": {
       "description": "Keine der anderen Möglichkeiten",
       "layout": "IPY_MODEL_86e34dd0a2ff48d9b8036f700c02a493",
       "style": "IPY_MODEL_e6cdd39856ef4b17b45f515beb0eba6e"
      }
     },
     "9c8245521e804398a72e06699ef016dd": {
      "model_module": "@jupyter-widgets/controls",
      "model_module_version": "1.5.0",
      "model_name": "ButtonStyleModel",
      "state": {}
     },
     "9ca45fdbf23e4da98792ae369c94dcf9": {
      "model_module": "@jupyter-widgets/controls",
      "model_module_version": "1.5.0",
      "model_name": "ButtonStyleModel",
      "state": {}
     },
     "9caeca199207457db230b69705113c2b": {
      "model_module": "@jupyter-widgets/base",
      "model_module_version": "1.2.0",
      "model_name": "LayoutModel",
      "state": {
       "width": "250px"
      }
     },
     "9cb5e523282c4543ac72eb9278e41bc3": {
      "model_module": "@jupyter-widgets/controls",
      "model_module_version": "1.5.0",
      "model_name": "DescriptionStyleModel",
      "state": {
       "description_width": ""
      }
     },
     "9cc60a18e9f04651b615f7544c31aef8": {
      "model_module": "@jupyter-widgets/controls",
      "model_module_version": "1.5.0",
      "model_name": "ButtonStyleModel",
      "state": {}
     },
     "9d48bdee7a6a495eaae1ce8b59cfbb9e": {
      "model_module": "@jupyter-widgets/base",
      "model_module_version": "1.2.0",
      "model_name": "LayoutModel",
      "state": {
       "width": "600px"
      }
     },
     "9d75cc6bf75847e4a2a401c8f85c3462": {
      "model_module": "@jupyter-widgets/controls",
      "model_module_version": "1.5.0",
      "model_name": "ButtonModel",
      "state": {
       "description": "Klammernotation",
       "layout": "IPY_MODEL_d1d31d667f4844e9aa0941d3b6fdbeae",
       "style": "IPY_MODEL_ce0a27f5a33d45f6abcaeff43b8ade23"
      }
     },
     "9d7eb359fd144b31939d63de5739d077": {
      "model_module": "@jupyter-widgets/controls",
      "model_module_version": "1.5.0",
      "model_name": "VBoxModel",
      "state": {
       "children": [
        "IPY_MODEL_f80d003aa3c249ebb95f6646ad520043",
        "IPY_MODEL_2d05ed5fdf8743d88d443905dc5dfd30",
        "IPY_MODEL_56d3e6ea913c4d13be3a323a184b8d4d",
        "IPY_MODEL_2b469d5003094566922e944c23c1199e"
       ],
       "layout": "IPY_MODEL_6a357b7c090642a3b33a986962d0ba3d"
      }
     },
     "9d8799cb16c743ca92092b750b5430c2": {
      "model_module": "@jupyter-widgets/controls",
      "model_module_version": "1.5.0",
      "model_name": "DescriptionStyleModel",
      "state": {
       "description_width": ""
      }
     },
     "9da7a08d35294faa8dd7bb7421b8e75f": {
      "model_module": "@jupyter-widgets/base",
      "model_module_version": "1.2.0",
      "model_name": "LayoutModel",
      "state": {
       "width": "250px"
      }
     },
     "9de77cf88e03431eb404187a63692310": {
      "model_module": "@jupyter-widgets/controls",
      "model_module_version": "1.5.0",
      "model_name": "VBoxModel",
      "state": {
       "children": [
        "IPY_MODEL_dafc54d48236465e90b422dc4b9dc06c",
        "IPY_MODEL_75c349253f6f4aec89e9fe363f63f7b5",
        "IPY_MODEL_f4dee1436a4f483ab352049ce2c7783e",
        "IPY_MODEL_b63f0af93236429abbc6c393cc70d615"
       ],
       "layout": "IPY_MODEL_e86129665f4b453db7fd8dab4cad66b9"
      }
     },
     "9e06fdb79d8d4143be80afd9393b4cf6": {
      "model_module": "@jupyter-widgets/controls",
      "model_module_version": "1.5.0",
      "model_name": "ButtonModel",
      "state": {
       "description": "Baumdiagramm",
       "layout": "IPY_MODEL_fc714ad4e241416caf9350ce1d375688",
       "style": "IPY_MODEL_b4a55183320543689a2c21c9c882fe27"
      }
     },
     "9e2eeae305cd4b608fd6842c657d1d9f": {
      "model_module": "@jupyter-widgets/controls",
      "model_module_version": "1.5.0",
      "model_name": "ButtonModel",
      "state": {
       "description": "Regelsystem",
       "layout": "IPY_MODEL_2bdcaf82c6ee4a0b8e546638ebccafde",
       "style": "IPY_MODEL_e9ad734ae3ad4fb2ac79ad89f13943ad"
      }
     },
     "9eabe1f92c4b40e6ac73607ab09a98b8": {
      "model_module": "@jupyter-widgets/controls",
      "model_module_version": "1.5.0",
      "model_name": "HTMLModel",
      "state": {
       "layout": "IPY_MODEL_bf1be74546cf48fcbea9e8060bffa82d",
       "style": "IPY_MODEL_59276e9e284149c1bc250234e239ad10",
       "value": "<i>Wählen Sie die <ins>eine</ins> korrekte Antwort aus: </i>"
      }
     },
     "9ebcaa377cd84256a2a759be2a5be422": {
      "model_module": "@jupyter-widgets/base",
      "model_module_version": "1.2.0",
      "model_name": "LayoutModel",
      "state": {
       "justify_content": "center"
      }
     },
     "9ebe868f6045469685b4d3c35f20d170": {
      "model_module": "@jupyter-widgets/controls",
      "model_module_version": "1.5.0",
      "model_name": "ButtonModel",
      "state": {
       "description": "Korrekt?",
       "layout": "IPY_MODEL_1e7bfae0b76644f68a5c27b72f5e84e1",
       "style": "IPY_MODEL_baf4fbc541434109951492204e0a52ac"
      }
     },
     "9ef3a4780a374d58b20595a749155a03": {
      "model_module": "@jupyter-widgets/controls",
      "model_module_version": "1.5.0",
      "model_name": "ButtonStyleModel",
      "state": {}
     },
     "9f1fa328dfcc4249b814f212fd6df6cf": {
      "model_module": "@jupyter-widgets/controls",
      "model_module_version": "1.5.0",
      "model_name": "DescriptionStyleModel",
      "state": {
       "description_width": "initial"
      }
     },
     "9f216f7577e746af922e5dd76bbbf95a": {
      "model_module": "@jupyter-widgets/controls",
      "model_module_version": "1.5.0",
      "model_name": "VBoxModel",
      "state": {
       "children": [
        "IPY_MODEL_824a5a21d0b140adb78c74867a93e010",
        "IPY_MODEL_9b9d86565a1244868b1f9a3ef16df65b",
        "IPY_MODEL_1b25b7ad796748ac8895f4db250895bf",
        "IPY_MODEL_c59986b30cab4180af56bc56265729e7"
       ],
       "layout": "IPY_MODEL_a869065575c7436f8a7bd629e182ebb5"
      }
     },
     "9f27a995d5f146fb8be095505ba1cedb": {
      "model_module": "@jupyter-widgets/controls",
      "model_module_version": "1.5.0",
      "model_name": "ButtonStyleModel",
      "state": {}
     },
     "9f3f29ecb19044d1acedc0c8dd559f9c": {
      "model_module": "@jupyter-widgets/base",
      "model_module_version": "1.2.0",
      "model_name": "LayoutModel",
      "state": {}
     },
     "9f6e441b69ce42f2a43474a973ed7f65": {
      "model_module": "@jupyter-widgets/base",
      "model_module_version": "1.2.0",
      "model_name": "LayoutModel",
      "state": {}
     },
     "9f7c206ea8784b7c8451706b0ddf7b68": {
      "model_module": "@jupyter-widgets/controls",
      "model_module_version": "1.5.0",
      "model_name": "HBoxModel",
      "state": {
       "children": [
        "IPY_MODEL_6c20ddfd8c3e494b94714ab3aaae51a5",
        "IPY_MODEL_5f3d095beabf460890472f1e796940e7"
       ],
       "layout": "IPY_MODEL_1ed24a821eb0436c8d6150e1dd4968fd"
      }
     },
     "9f84074bebc6491aba0a2e40e79e5b6b": {
      "model_module": "@jupyter-widgets/controls",
      "model_module_version": "1.5.0",
      "model_name": "CheckboxModel",
      "state": {
       "description": "Adverbialphrase",
       "disabled": false,
       "layout": "IPY_MODEL_0a564fba6d994f03bf6b1d2b19ec0d7b",
       "style": "IPY_MODEL_2138d519d9e04bc384432606ec5341e6",
       "value": false
      }
     },
     "9ffa34992fa545d0820606e353893206": {
      "model_module": "@jupyter-widgets/controls",
      "model_module_version": "1.5.0",
      "model_name": "ButtonStyleModel",
      "state": {}
     },
     "a0390a36003c4c50b6662a62634b50d2": {
      "model_module": "@jupyter-widgets/controls",
      "model_module_version": "1.5.0",
      "model_name": "DescriptionStyleModel",
      "state": {
       "description_width": ""
      }
     },
     "a04706b3089c4046998cc25968f719c3": {
      "model_module": "@jupyter-widgets/base",
      "model_module_version": "1.2.0",
      "model_name": "LayoutModel",
      "state": {
       "width": "250px"
      }
     },
     "a04d2aaca3ea43849dd2c836b56bdcb2": {
      "model_module": "@jupyter-widgets/controls",
      "model_module_version": "1.5.0",
      "model_name": "ButtonModel",
      "state": {
       "description": "Theorie der Sprachstruktur",
       "layout": "IPY_MODEL_aa38255688eb43d4ae43c7572b0c9c62",
       "style": "IPY_MODEL_d9aefc40bfe5411daf4ad4a8443b9ef0"
      }
     },
     "a09bdcb16bf1464994a208149d6900f1": {
      "model_module": "@jupyter-widgets/base",
      "model_module_version": "1.2.0",
      "model_name": "LayoutModel",
      "state": {
       "width": "250px"
      }
     },
     "a0e0dcfc19b54ffcb6e24de473a6457c": {
      "model_module": "@jupyter-widgets/base",
      "model_module_version": "1.2.0",
      "model_name": "LayoutModel",
      "state": {
       "width": "250px"
      }
     },
     "a0e1115fb8884e1d9db73be04bb90615": {
      "model_module": "@jupyter-widgets/controls",
      "model_module_version": "1.5.0",
      "model_name": "ButtonStyleModel",
      "state": {}
     },
     "a0eb7f12f502417ea5653fda9617e479": {
      "model_module": "@jupyter-widgets/base",
      "model_module_version": "1.2.0",
      "model_name": "LayoutModel",
      "state": {}
     },
     "a110a5d07b3542deb276f89f66086b0d": {
      "model_module": "@jupyter-widgets/controls",
      "model_module_version": "1.5.0",
      "model_name": "DescriptionStyleModel",
      "state": {
       "description_width": ""
      }
     },
     "a117ea729a2f4488a9b0f3034b140423": {
      "model_module": "@jupyter-widgets/controls",
      "model_module_version": "1.5.0",
      "model_name": "HBoxModel",
      "state": {
       "children": [
        "IPY_MODEL_4fa2f8979b3941178ca3f75860bb6b42",
        "IPY_MODEL_a5aaf5e80417418f8d58a52cde45eb4a"
       ],
       "layout": "IPY_MODEL_af7b8d686f6846b39bdc6749ee0af50e"
      }
     },
     "a11da92981d14f3cbfab5b48714c0f4e": {
      "model_module": "@jupyter-widgets/base",
      "model_module_version": "1.2.0",
      "model_name": "LayoutModel",
      "state": {}
     },
     "a123b17c46c841c69bdd47e70eb0139a": {
      "model_module": "@jupyter-widgets/base",
      "model_module_version": "1.2.0",
      "model_name": "LayoutModel",
      "state": {
       "width": "600px"
      }
     },
     "a13a3a2b4e774c329d6a173c00bfad06": {
      "model_module": "@jupyter-widgets/controls",
      "model_module_version": "1.5.0",
      "model_name": "HTMLModel",
      "state": {
       "layout": "IPY_MODEL_43f44b02636342fca7c4c97ad3c2c6fc",
       "style": "IPY_MODEL_6ef6ddf4c8244029b7e406c065fd005d",
       "value": "<i>Wählen Sie die <ins>eine</ins> korrekte Antwort aus: </i>"
      }
     },
     "a13f5de61b8e4602b0817b9ba9b3d151": {
      "model_module": "@jupyter-widgets/base",
      "model_module_version": "1.2.0",
      "model_name": "LayoutModel",
      "state": {}
     },
     "a144047e675b47779fdb26ac7aaedcf1": {
      "model_module": "@jupyter-widgets/controls",
      "model_module_version": "1.5.0",
      "model_name": "DescriptionStyleModel",
      "state": {
       "description_width": ""
      }
     },
     "a1b56d445fb545e8acf9fbcb3fdd2f72": {
      "model_module": "@jupyter-widgets/controls",
      "model_module_version": "1.5.0",
      "model_name": "HBoxModel",
      "state": {
       "children": [
        "IPY_MODEL_a8afa3e765c34934931b849a2eea7d2b",
        "IPY_MODEL_bccf0d4864954c8aac836ce934b7f4d9"
       ],
       "layout": "IPY_MODEL_ec341183bad542faafd4d4703caa099d"
      }
     },
     "a1cf00bb2f7b426398e7bbc3457f89a6": {
      "model_module": "@jupyter-widgets/controls",
      "model_module_version": "1.5.0",
      "model_name": "DescriptionStyleModel",
      "state": {
       "description_width": "initial"
      }
     },
     "a21db7f98c6a47e08e82b251c9efda54": {
      "model_module": "@jupyter-widgets/base",
      "model_module_version": "1.2.0",
      "model_name": "LayoutModel",
      "state": {
       "width": "600px"
      }
     },
     "a22c9095316e4ae9be514edbb59e0295": {
      "model_module": "@jupyter-widgets/controls",
      "model_module_version": "1.5.0",
      "model_name": "VBoxModel",
      "state": {
       "children": [
        "IPY_MODEL_b3f85d6683cf44bf832d97c28aa73d77",
        "IPY_MODEL_88c21e071d684301a0f00f470dd2d750",
        "IPY_MODEL_560264764ae5476e8f1ab65efb69f1b3"
       ],
       "layout": "IPY_MODEL_2b9af090d61d4ab6a2ed9a53d76592b4"
      }
     },
     "a23f86fe306b47a686899d6287fdc9f8": {
      "model_module": "@jupyter-widgets/controls",
      "model_module_version": "1.5.0",
      "model_name": "DescriptionStyleModel",
      "state": {
       "description_width": "initial"
      }
     },
     "a27db14c03094bccb0a53754a5200440": {
      "model_module": "@jupyter-widgets/controls",
      "model_module_version": "1.5.0",
      "model_name": "CheckboxModel",
      "state": {
       "description": "pragmatische",
       "disabled": false,
       "layout": "IPY_MODEL_0052fb2b95ca4bf5a45d1fc875128a55",
       "style": "IPY_MODEL_07a2f00d78f443f480472a0245b6092a",
       "value": false
      }
     },
     "a299d515ebcf456ca41d0be2c847d74c": {
      "model_module": "@jupyter-widgets/base",
      "model_module_version": "1.2.0",
      "model_name": "LayoutModel",
      "state": {
       "justify_content": "center"
      }
     },
     "a2f99c6864874869aec6fb88bb9395f2": {
      "model_module": "@jupyter-widgets/controls",
      "model_module_version": "1.5.0",
      "model_name": "CheckboxModel",
      "state": {
       "description": "Wohlgeformtheit",
       "disabled": false,
       "layout": "IPY_MODEL_411d0ff6e4e046ee8577904708ecac41",
       "style": "IPY_MODEL_d9e272d843af457a950323cc6fff3921",
       "value": false
      }
     },
     "a3158a6da4314937bf7787b6db52dd66": {
      "model_module": "@jupyter-widgets/controls",
      "model_module_version": "1.5.0",
      "model_name": "HTMLModel",
      "state": {
       "layout": "IPY_MODEL_ba4c8cebb94d45d8a4e2c3e507f154a1",
       "style": "IPY_MODEL_f1695f3040a543b287a94823e5bfe1da",
       "value": "<h4 style=\"font-size:14px;\">Was ist der Fall, wenn die PP ein Attribut ist?</h4>"
      }
     },
     "a35477260d7d4ad29715ba50106c54f4": {
      "model_module": "@jupyter-widgets/base",
      "model_module_version": "1.2.0",
      "model_name": "LayoutModel",
      "state": {}
     },
     "a35da3f2d1bb44f398e9b4837aa2fb90": {
      "model_module": "@jupyter-widgets/controls",
      "model_module_version": "1.5.0",
      "model_name": "ButtonModel",
      "state": {
       "description": "Keine der anderen Möglichkeiten",
       "layout": "IPY_MODEL_75c59b8453754541a432c95f4a81d964",
       "style": "IPY_MODEL_4698d5476eea473ea65c1d68a3b12b82"
      }
     },
     "a36b72f4acc34d6080e2bde7d9e6cdea": {
      "model_module": "@jupyter-widgets/controls",
      "model_module_version": "1.5.0",
      "model_name": "DescriptionStyleModel",
      "state": {
       "description_width": ""
      }
     },
     "a3748e3a672a4629871b647ca84c1c88": {
      "model_module": "@jupyter-widgets/base",
      "model_module_version": "1.2.0",
      "model_name": "LayoutModel",
      "state": {}
     },
     "a381512a5f674f47b5c8a43cfde9af1a": {
      "model_module": "@jupyter-widgets/controls",
      "model_module_version": "1.5.0",
      "model_name": "CheckboxModel",
      "state": {
       "description": "Konstituentenbaum mit Phrasenlabels als Knoten",
       "disabled": false,
       "layout": "IPY_MODEL_fa782ab630b5488c85ed2786cf0cff6a",
       "style": "IPY_MODEL_07a96f88cea24fd888dc79974c621929",
       "value": false
      }
     },
     "a3991d0abf1946bf90aacb95b5c48f34": {
      "model_module": "@jupyter-widgets/base",
      "model_module_version": "1.2.0",
      "model_name": "LayoutModel",
      "state": {}
     },
     "a39c9925cce14e3aa4be80bb6b5fdc25": {
      "model_module": "@jupyter-widgets/base",
      "model_module_version": "1.2.0",
      "model_name": "LayoutModel",
      "state": {}
     },
     "a3a8fe5852e04495b5e87ddc01fe5b3e": {
      "model_module": "@jupyter-widgets/controls",
      "model_module_version": "1.5.0",
      "model_name": "CheckboxModel",
      "state": {
       "description": "Konstituenz",
       "disabled": false,
       "layout": "IPY_MODEL_43e7979d9fdc4988bbfcec5326b0411e",
       "style": "IPY_MODEL_aeb6603ca1774e06a00801c1ed40410a",
       "value": false
      }
     },
     "a3be273a48ae41e19b8bf3fce8dd7961": {
      "model_module": "@jupyter-widgets/controls",
      "model_module_version": "1.5.0",
      "model_name": "DescriptionStyleModel",
      "state": {
       "description_width": ""
      }
     },
     "a3d60fbf34fe402580a3754053312541": {
      "model_module": "@jupyter-widgets/controls",
      "model_module_version": "1.5.0",
      "model_name": "HTMLModel",
      "state": {
       "layout": "IPY_MODEL_6a3365b6acd743d8a1afe23a084d4c3f",
       "style": "IPY_MODEL_1214a707415d466799f0dffe78a3dad1",
       "value": "<h4 style=\"font-size:14px;\">Welche Funktion im Satz nimmt das Nomen ein, wenn es Kopf der Gerund-Nomen-Phrase ist?</h4>"
      }
     },
     "a3ee679b70f344849399b1cc2bfc94e1": {
      "model_module": "@jupyter-widgets/base",
      "model_module_version": "1.2.0",
      "model_name": "LayoutModel",
      "state": {
       "width": "250px"
      }
     },
     "a438c5527bfb40e0ac4aa4a7e4f74f11": {
      "model_module": "@jupyter-widgets/controls",
      "model_module_version": "1.5.0",
      "model_name": "DescriptionStyleModel",
      "state": {
       "description_width": ""
      }
     },
     "a45079fdd2fa4a3aaa52b61d8dfabd24": {
      "model_module": "@jupyter-widgets/controls",
      "model_module_version": "1.5.0",
      "model_name": "HTMLModel",
      "state": {
       "layout": "IPY_MODEL_f78ae04bb01c4218883d5cc52055c740",
       "style": "IPY_MODEL_73f75c638238477fb1cd9546d544421e",
       "value": "<i>Wählen Sie die <ins>eine</ins> korrekte Antwort aus: </i>"
      }
     },
     "a45be54badfd4175aa7b960266ab3959": {
      "model_module": "@jupyter-widgets/base",
      "model_module_version": "1.2.0",
      "model_name": "LayoutModel",
      "state": {
       "width": "600px"
      }
     },
     "a491f70ad2a84faebbcbf21d993dab67": {
      "model_module": "@jupyter-widgets/base",
      "model_module_version": "1.2.0",
      "model_name": "LayoutModel",
      "state": {}
     },
     "a49767797ff94223ad7bfa1a768d33cb": {
      "model_module": "@jupyter-widgets/controls",
      "model_module_version": "1.5.0",
      "model_name": "VBoxModel",
      "state": {
       "children": [
        "IPY_MODEL_4a19508516434847ad9d4e292df4eaa1",
        "IPY_MODEL_388cb5d94e634f4f8c096d2d6756a907",
        "IPY_MODEL_af8d1768e8bf4c428502edf116e28e47",
        "IPY_MODEL_2c9d4c537c6a4063ab23216a03c3d555"
       ],
       "layout": "IPY_MODEL_b8d0dfb39f1346af8f48611732b39f6c"
      }
     },
     "a5251f81999242fbaf42a41221515850": {
      "model_module": "@jupyter-widgets/controls",
      "model_module_version": "1.5.0",
      "model_name": "DescriptionStyleModel",
      "state": {
       "description_width": ""
      }
     },
     "a56ae62170b6473e8c5c05eae9ad6cec": {
      "model_module": "@jupyter-widgets/controls",
      "model_module_version": "1.5.0",
      "model_name": "HBoxModel",
      "state": {
       "children": [
        "IPY_MODEL_758d2ec4c2af4c5a91bd122448d63325",
        "IPY_MODEL_0edcafe6349b4fa689ffad37471040bf"
       ],
       "layout": "IPY_MODEL_b3c79b1fa1174dd08196cf8a1216ebdf"
      }
     },
     "a59053dc090346798cfba984375b49e3": {
      "model_module": "@jupyter-widgets/base",
      "model_module_version": "1.2.0",
      "model_name": "LayoutModel",
      "state": {
       "justify_content": "center"
      }
     },
     "a5aaf5e80417418f8d58a52cde45eb4a": {
      "model_module": "@jupyter-widgets/controls",
      "model_module_version": "1.5.0",
      "model_name": "ButtonModel",
      "state": {
       "description": "Keine der anderen Möglichkeiten",
       "layout": "IPY_MODEL_337c260e24a14356b477ddbccf2c5df4",
       "style": "IPY_MODEL_e752bb9f0240455793fdc8bead1e8cc1"
      }
     },
     "a5dbe4df7ebb499ab7495b6cd3882343": {
      "model_module": "@jupyter-widgets/controls",
      "model_module_version": "1.5.0",
      "model_name": "DescriptionStyleModel",
      "state": {
       "description_width": ""
      }
     },
     "a5dec6828592468cbe657d79512649d8": {
      "model_module": "@jupyter-widgets/controls",
      "model_module_version": "1.5.0",
      "model_name": "ButtonStyleModel",
      "state": {}
     },
     "a61e7eb068dc4c1eae0a0312838d3e41": {
      "model_module": "@jupyter-widgets/controls",
      "model_module_version": "1.5.0",
      "model_name": "HTMLModel",
      "state": {
       "layout": "IPY_MODEL_c24aed7494b8488b9cd4398647eae96a",
       "style": "IPY_MODEL_df0b58e9829b451fba73d2731578a94c",
       "value": "<i>Vervollständigen Sie den Lückentext: </i>"
      }
     },
     "a635ebf2535948789db0d0abefcb3e00": {
      "model_module": "@jupyter-widgets/base",
      "model_module_version": "1.2.0",
      "model_name": "LayoutModel",
      "state": {}
     },
     "a63743621e424e10baa396e66d2b64a5": {
      "model_module": "@jupyter-widgets/controls",
      "model_module_version": "1.5.0",
      "model_name": "ButtonStyleModel",
      "state": {}
     },
     "a64dfffa198e4950bd742e4476bbd81a": {
      "model_module": "@jupyter-widgets/controls",
      "model_module_version": "1.5.0",
      "model_name": "ButtonModel",
      "state": {
       "description": "Phrasenstruktur",
       "layout": "IPY_MODEL_be0a0d7606514a61b26757944c20d288",
       "style": "IPY_MODEL_fb6ea89cbda54af4a619ab5f25f52f84"
      }
     },
     "a6628c0f8dab47ffbb892dddb99e813e": {
      "model_module": "@jupyter-widgets/base",
      "model_module_version": "1.2.0",
      "model_name": "LayoutModel",
      "state": {}
     },
     "a66bd9fc6a7c4af48da3615a06b6cbfc": {
      "model_module": "@jupyter-widgets/base",
      "model_module_version": "1.2.0",
      "model_name": "LayoutModel",
      "state": {}
     },
     "a6b387ef2bfc48c1a630fa9c72b42d4c": {
      "model_module": "@jupyter-widgets/controls",
      "model_module_version": "1.5.0",
      "model_name": "HBoxModel",
      "state": {
       "children": [
        "IPY_MODEL_4c19aa469c9445a69508644103bd91fb",
        "IPY_MODEL_a8d06031436d4b0cadf3fc013224e6b1"
       ],
       "layout": "IPY_MODEL_6d0306471b9d4f83ae37c212e9c702c5"
      }
     },
     "a6d271db1a5143e2addc4515fd61ebff": {
      "model_module": "@jupyter-widgets/controls",
      "model_module_version": "1.5.0",
      "model_name": "DescriptionStyleModel",
      "state": {
       "description_width": ""
      }
     },
     "a6fc5e562dd24012a0d167fd8603714c": {
      "model_module": "@jupyter-widgets/controls",
      "model_module_version": "1.5.0",
      "model_name": "ButtonModel",
      "state": {
       "description": "formale Grammatik + Parser",
       "layout": "IPY_MODEL_1c5361d7b72049828be8ce383f43b506",
       "style": "IPY_MODEL_ada38d3e3de449f8bbc3b384acb467a3"
      }
     },
     "a70252aa82be41ba87e523ba1651c34e": {
      "model_module": "@jupyter-widgets/controls",
      "model_module_version": "1.5.0",
      "model_name": "HBoxModel",
      "state": {
       "children": [
        "IPY_MODEL_9e06fdb79d8d4143be80afd9393b4cf6",
        "IPY_MODEL_398f4b794bf94fc399a060be8e6063fa"
       ],
       "layout": "IPY_MODEL_053c9c7a199d45bbbe020fde1a32215e"
      }
     },
     "a7167ea495ad42378725f39639be1848": {
      "model_module": "@jupyter-widgets/base",
      "model_module_version": "1.2.0",
      "model_name": "LayoutModel",
      "state": {
       "justify_content": "center"
      }
     },
     "a71b174688b4468b8cc5793869927ff1": {
      "model_module": "@jupyter-widgets/controls",
      "model_module_version": "1.5.0",
      "model_name": "DescriptionStyleModel",
      "state": {
       "description_width": "initial"
      }
     },
     "a7319ddc7281402cb864a6915a507209": {
      "model_module": "@jupyter-widgets/controls",
      "model_module_version": "1.5.0",
      "model_name": "HTMLModel",
      "state": {
       "layout": "IPY_MODEL_f6c3e92caae9428ebbb3c28fc3cf540f",
       "style": "IPY_MODEL_cd0d84ef6a6a487eae8624c824afd70e",
       "value": "<i>Wählen Sie die <ins>eine</ins> korrekte Antwort aus: </i>"
      }
     },
     "a737cfa7ba6a492da0a5b5c70556467d": {
      "model_module": "@jupyter-widgets/controls",
      "model_module_version": "1.5.0",
      "model_name": "ButtonModel",
      "state": {
       "description": "Klammernotation",
       "layout": "IPY_MODEL_a77ead46f56549e6b4e590b82b5a1feb",
       "style": "IPY_MODEL_e9e7739fa329498ca1903c12a9023525"
      }
     },
     "a7566ec2e4cf4ec585960a3ed4e83675": {
      "model_module": "@jupyter-widgets/controls",
      "model_module_version": "1.5.0",
      "model_name": "DescriptionStyleModel",
      "state": {
       "description_width": ""
      }
     },
     "a767e2bcade74a9d88653bb50f70b9be": {
      "model_module": "@jupyter-widgets/base",
      "model_module_version": "1.2.0",
      "model_name": "LayoutModel",
      "state": {}
     },
     "a77ead46f56549e6b4e590b82b5a1feb": {
      "model_module": "@jupyter-widgets/base",
      "model_module_version": "1.2.0",
      "model_name": "LayoutModel",
      "state": {
       "width": "250px"
      }
     },
     "a7b9155f55254cde9ad1f4a5507ad8bd": {
      "model_module": "@jupyter-widgets/controls",
      "model_module_version": "1.5.0",
      "model_name": "HBoxModel",
      "state": {
       "children": [
        "IPY_MODEL_4f312e98807f463a93d35cfbddf0a5b1"
       ],
       "layout": "IPY_MODEL_29b268c2eede4510a8223cbcced0592a"
      }
     },
     "a7e45d8f29834c2c91640d170c6bfe66": {
      "model_module": "@jupyter-widgets/controls",
      "model_module_version": "1.5.0",
      "model_name": "ButtonStyleModel",
      "state": {}
     },
     "a8149c90a2e540a0a974d5d1a29dfccc": {
      "model_module": "@jupyter-widgets/controls",
      "model_module_version": "1.5.0",
      "model_name": "ButtonStyleModel",
      "state": {}
     },
     "a82ae7e519c346d2b4f25cfd46d081af": {
      "model_module": "@jupyter-widgets/base",
      "model_module_version": "1.2.0",
      "model_name": "LayoutModel",
      "state": {}
     },
     "a83a9fb747624c3f8d2de6e2e258348d": {
      "model_module": "@jupyter-widgets/base",
      "model_module_version": "1.2.0",
      "model_name": "LayoutModel",
      "state": {
       "width": "250px"
      }
     },
     "a84431890db24c31881a2bb1eddeb3d9": {
      "model_module": "@jupyter-widgets/controls",
      "model_module_version": "1.5.0",
      "model_name": "HBoxModel",
      "state": {
       "children": [
        "IPY_MODEL_3fb14ac2cbb24da085d59c03fecb671a",
        "IPY_MODEL_c6f4de681be44b0ca80001c834788ac5"
       ],
       "layout": "IPY_MODEL_21a3ff65902a47d1924a79dcc40c212f"
      }
     },
     "a846524c6f3f48cb8bccf7a493dc454c": {
      "model_module": "@jupyter-widgets/controls",
      "model_module_version": "1.5.0",
      "model_name": "VBoxModel",
      "state": {
       "children": [
        "IPY_MODEL_6e88012e15f348528521c817e197666a",
        "IPY_MODEL_df12601f4b0747b0bf240d1669287deb",
        "IPY_MODEL_9f216f7577e746af922e5dd76bbbf95a",
        "IPY_MODEL_2bd9a6efaf9a42ddbcf14e3338d9ed43"
       ],
       "layout": "IPY_MODEL_9f3f29ecb19044d1acedc0c8dd559f9c"
      }
     },
     "a8664cca14ee4717bccd20c851eca348": {
      "model_module": "@jupyter-widgets/controls",
      "model_module_version": "1.5.0",
      "model_name": "VBoxModel",
      "state": {
       "children": [
        "IPY_MODEL_fbf3dd09b5fe46d594cff9c9f68eb7e2",
        "IPY_MODEL_d718ba0d0cf645caaef152fa7ac05753",
        "IPY_MODEL_afed0a0d837b4a9895186dd9e40b957b",
        "IPY_MODEL_ebd10423e1ed4fa280b8b6e876ccb2d7"
       ],
       "layout": "IPY_MODEL_33fb5cda8bde4c9483083151fa7b3a25"
      }
     },
     "a869065575c7436f8a7bd629e182ebb5": {
      "model_module": "@jupyter-widgets/base",
      "model_module_version": "1.2.0",
      "model_name": "LayoutModel",
      "state": {}
     },
     "a89a489c9aa94e4abfaebc1cf52d2c4e": {
      "model_module": "@jupyter-widgets/base",
      "model_module_version": "1.2.0",
      "model_name": "LayoutModel",
      "state": {
       "width": "250px"
      }
     },
     "a8acc1222303499b8f80ec9affd62f5c": {
      "model_module": "@jupyter-widgets/base",
      "model_module_version": "1.2.0",
      "model_name": "LayoutModel",
      "state": {}
     },
     "a8afa3e765c34934931b849a2eea7d2b": {
      "model_module": "@jupyter-widgets/controls",
      "model_module_version": "1.5.0",
      "model_name": "ButtonModel",
      "state": {
       "description": "genau ein",
       "layout": "IPY_MODEL_ee8686706e0e4a22b0c8566c75a13117",
       "style": "IPY_MODEL_aa950d9586c84d7ca62fd19c2ca81ffc"
      }
     },
     "a8d06031436d4b0cadf3fc013224e6b1": {
      "model_module": "@jupyter-widgets/controls",
      "model_module_version": "1.5.0",
      "model_name": "ButtonModel",
      "state": {
       "description": "Keine der anderen Möglichkeiten",
       "layout": "IPY_MODEL_6a67318fc42f40fb9c68cbd6788079c2",
       "style": "IPY_MODEL_4a23aede33164877b38a0b9cf406e97e"
      }
     },
     "a8e4eeb782004fa4b56e71d70f5142e1": {
      "model_module": "@jupyter-widgets/controls",
      "model_module_version": "1.5.0",
      "model_name": "ButtonModel",
      "state": {
       "description": "Subjekt",
       "layout": "IPY_MODEL_9975967a747f432492c7c6df32b79aa4",
       "style": "IPY_MODEL_de4a876d932642b79bd0b109f488b024"
      }
     },
     "a8ec1fed00cd4bfe8c069254dc2267d6": {
      "model_module": "@jupyter-widgets/controls",
      "model_module_version": "1.5.0",
      "model_name": "ButtonModel",
      "state": {
       "description": "Baumdiagramm",
       "layout": "IPY_MODEL_3a5607f4096645688fa27875ac6bcc76",
       "style": "IPY_MODEL_3bf831560dc648ae9f6fb9ca28637cf9"
      }
     },
     "a936ffc6b7a9497fb661443083b6d121": {
      "model_module": "@jupyter-widgets/controls",
      "model_module_version": "1.5.0",
      "model_name": "HTMLModel",
      "state": {
       "layout": "IPY_MODEL_5e91488577a94d55b1da8f1dc04a55ca",
       "style": "IPY_MODEL_46ad54189cf14a7985d4534ceb5a5373",
       "value": "<h4 style=\"font-size:14px;\">Welche Vorteile hat die Modellierung der Satzstruktur mit Hilfe einer formalen Grammatik?</h4>"
      }
     },
     "a9881a56d46f44ca8c8bcb2b82090876": {
      "model_module": "@jupyter-widgets/controls",
      "model_module_version": "1.5.0",
      "model_name": "VBoxModel",
      "state": {
       "children": [
        "IPY_MODEL_7751387f91c44bfe9a68f8c64069189e",
        "IPY_MODEL_4f9af5b86cd7477a83a7fd99dfd45f69",
        "IPY_MODEL_adc2d74062a749f7a27097e631aba47c"
       ],
       "layout": "IPY_MODEL_209b25031e8f4e37a9706b090555c03e"
      }
     },
     "a989b243f08d4121b71744c235f6eb16": {
      "model_module": "@jupyter-widgets/base",
      "model_module_version": "1.2.0",
      "model_name": "LayoutModel",
      "state": {}
     },
     "a993d8f557194858a40be7e3f7bb0279": {
      "model_module": "@jupyter-widgets/controls",
      "model_module_version": "1.5.0",
      "model_name": "VBoxModel",
      "state": {
       "children": [
        "IPY_MODEL_2ea4e67bcc3145f895fffb0728d94596",
        "IPY_MODEL_5e6d5df0c65047ec8a2a52edbcc0dc7d",
        "IPY_MODEL_760d215b1cef42e99201265cbf1d4300",
        "IPY_MODEL_d11779a27a9843b4bd47a65dea806f2d"
       ],
       "layout": "IPY_MODEL_5222f127844d41aea1c475c14d2f59f2"
      }
     },
     "a9d6be550c24433e8b06a8dce36ae416": {
      "model_module": "@jupyter-widgets/controls",
      "model_module_version": "1.5.0",
      "model_name": "CheckboxModel",
      "state": {
       "description": "Morphemebene, Phrasenebene, Satzebene",
       "disabled": false,
       "layout": "IPY_MODEL_329775c073fa4ed487b927158e210a48",
       "style": "IPY_MODEL_66cb8aa4a109461fa4063cc9c4355323",
       "value": false
      }
     },
     "a9de790cb894452194c4a5d9d9347ac9": {
      "model_module": "@jupyter-widgets/controls",
      "model_module_version": "1.5.0",
      "model_name": "ButtonStyleModel",
      "state": {}
     },
     "aa14f8783aac4f9a8b03fb8caffe8cc9": {
      "model_module": "@jupyter-widgets/base",
      "model_module_version": "1.2.0",
      "model_name": "LayoutModel",
      "state": {}
     },
     "aa38255688eb43d4ae43c7572b0c9c62": {
      "model_module": "@jupyter-widgets/base",
      "model_module_version": "1.2.0",
      "model_name": "LayoutModel",
      "state": {
       "width": "250px"
      }
     },
     "aa4a914678da442d9842ca2197852034": {
      "model_module": "@jupyter-widgets/controls",
      "model_module_version": "1.5.0",
      "model_name": "DescriptionStyleModel",
      "state": {
       "description_width": "initial"
      }
     },
     "aa795e4124994077a9adca463d09fd7d": {
      "model_module": "@jupyter-widgets/base",
      "model_module_version": "1.2.0",
      "model_name": "LayoutModel",
      "state": {
       "width": "250px"
      }
     },
     "aa8cbb93bb7843ba8da989ce0a1377c9": {
      "model_module": "@jupyter-widgets/controls",
      "model_module_version": "1.5.0",
      "model_name": "HTMLModel",
      "state": {
       "layout": "IPY_MODEL_cc57d2678758467f8ac0e43436c850cb",
       "style": "IPY_MODEL_36a199d7ef624caa93cf5ba517e596c4",
       "value": "<h4 style=\"font-size:14px;\">Was ist der Fall, wenn die PP ein Adverbial ist?</h4>"
      }
     },
     "aa950d9586c84d7ca62fd19c2ca81ffc": {
      "model_module": "@jupyter-widgets/controls",
      "model_module_version": "1.5.0",
      "model_name": "ButtonStyleModel",
      "state": {}
     },
     "aaa5c9935f644606a5a68eb180cf5320": {
      "model_module": "@jupyter-widgets/controls",
      "model_module_version": "1.5.0",
      "model_name": "DescriptionStyleModel",
      "state": {
       "description_width": ""
      }
     },
     "aae3b21c60ec40f88ea435986318a425": {
      "model_module": "@jupyter-widgets/base",
      "model_module_version": "1.2.0",
      "model_name": "LayoutModel",
      "state": {
       "width": "250px"
      }
     },
     "ab5f7294d3154cc7aced771d7d423489": {
      "model_module": "@jupyter-widgets/base",
      "model_module_version": "1.2.0",
      "model_name": "LayoutModel",
      "state": {
       "width": "250px"
      }
     },
     "ab696d9a9fa54faaa1dc8cc56eb66b2a": {
      "model_module": "@jupyter-widgets/base",
      "model_module_version": "1.2.0",
      "model_name": "LayoutModel",
      "state": {}
     },
     "ab8a8f209fc6409cb703e1d38144f6c4": {
      "model_module": "@jupyter-widgets/controls",
      "model_module_version": "1.5.0",
      "model_name": "HBoxModel",
      "state": {
       "children": [
        "IPY_MODEL_e20ff09e47d24b6eb0025ae8b141f966"
       ],
       "layout": "IPY_MODEL_0d6b7ad4404a47e9a9e4c83e7c6fb79c"
      }
     },
     "ab9058321d564c6a90194ccc50f3a81b": {
      "model_module": "@jupyter-widgets/base",
      "model_module_version": "1.2.0",
      "model_name": "LayoutModel",
      "state": {
       "width": "250px"
      }
     },
     "ab9d6775ac5640a49aa8b72b7110c06b": {
      "model_module": "@jupyter-widgets/controls",
      "model_module_version": "1.5.0",
      "model_name": "ButtonModel",
      "state": {
       "description": "Klammernotation",
       "layout": "IPY_MODEL_333dfea6102247a6b3b38d4e033bd94c",
       "style": "IPY_MODEL_9ca45fdbf23e4da98792ae369c94dcf9"
      }
     },
     "abd71f544dbe48af84359d9da1a551b0": {
      "model_module": "@jupyter-widgets/controls",
      "model_module_version": "1.5.0",
      "model_name": "DescriptionStyleModel",
      "state": {
       "description_width": ""
      }
     },
     "abf0fca9ab7648d7b37abf147c525164": {
      "model_module": "@jupyter-widgets/base",
      "model_module_version": "1.2.0",
      "model_name": "LayoutModel",
      "state": {}
     },
     "ac04b64cfcb44f97abfa589557371712": {
      "model_module": "@jupyter-widgets/base",
      "model_module_version": "1.2.0",
      "model_name": "LayoutModel",
      "state": {
       "justify_content": "center"
      }
     },
     "ac3092fc540e41e9a89caaf44f69ac4a": {
      "model_module": "@jupyter-widgets/controls",
      "model_module_version": "1.5.0",
      "model_name": "HTMLModel",
      "state": {
       "layout": "IPY_MODEL_5679e39fe6e6407bbdbafec8692ad026",
       "style": "IPY_MODEL_e5a0fbe40e2a4c05acc57f6bd34a6817",
       "value": "<h4 style=\"font-size:14px;\">In welcher Form wird die syntaktische Struktur eines Satzes beim Aufruf von NLTK print(tree) erstellt?</h4>"
      }
     },
     "ac7291ab8e2749e187518f3c54c1c716": {
      "model_module": "@jupyter-widgets/controls",
      "model_module_version": "1.5.0",
      "model_name": "ButtonStyleModel",
      "state": {}
     },
     "aca57b05d4c545bb80d4142b982a7969": {
      "model_module": "@jupyter-widgets/controls",
      "model_module_version": "1.5.0",
      "model_name": "CheckboxModel",
      "state": {
       "description": "Lautebene, Wortebene, Satzebene",
       "disabled": false,
       "layout": "IPY_MODEL_0098843516594a22bacecf78655d17c2",
       "style": "IPY_MODEL_2e32d550141641fda11a8e505d66b9ea",
       "value": false
      }
     },
     "accd6538962a42a0aa4c668eca2353fa": {
      "model_module": "@jupyter-widgets/controls",
      "model_module_version": "1.5.0",
      "model_name": "ButtonModel",
      "state": {
       "description": "Objekt",
       "layout": "IPY_MODEL_88ce62dfef3c49979e9cf7cba9fc0a5c",
       "style": "IPY_MODEL_d5e6d574ebb840c399a32f0c1f0c393d"
      }
     },
     "ad8923efeb8f4376aa92f216f0ec7745": {
      "model_module": "@jupyter-widgets/controls",
      "model_module_version": "1.5.0",
      "model_name": "ButtonModel",
      "state": {
       "description": "syntaktische Funktion",
       "layout": "IPY_MODEL_a04706b3089c4046998cc25968f719c3",
       "style": "IPY_MODEL_f093d11dc9f049e0992f2f56a1ef5e05"
      }
     },
     "ada38d3e3de449f8bbc3b384acb467a3": {
      "model_module": "@jupyter-widgets/controls",
      "model_module_version": "1.5.0",
      "model_name": "ButtonStyleModel",
      "state": {}
     },
     "adc2d74062a749f7a27097e631aba47c": {
      "model_module": "@jupyter-widgets/controls",
      "model_module_version": "1.5.0",
      "model_name": "HBoxModel",
      "state": {
       "children": [
        "IPY_MODEL_accd6538962a42a0aa4c668eca2353fa",
        "IPY_MODEL_624e353748da4ba6961f8996b830d6cb"
       ],
       "layout": "IPY_MODEL_e13c5d685bf64b2bbe0b4ea7feb36390"
      }
     },
     "ae4e23f0f7c14439a23d10090cbdbe0d": {
      "model_module": "@jupyter-widgets/controls",
      "model_module_version": "1.5.0",
      "model_name": "HBoxModel",
      "state": {
       "children": [
        "IPY_MODEL_d468c0c8366a47be8b06b02dc063485d",
        "IPY_MODEL_8090b94c205446e2ba608ea2167cd332"
       ],
       "layout": "IPY_MODEL_a11da92981d14f3cbfab5b48714c0f4e"
      }
     },
     "ae6c7426ebb04448b115209e7ad3eee1": {
      "model_module": "@jupyter-widgets/controls",
      "model_module_version": "1.5.0",
      "model_name": "HBoxModel",
      "state": {
       "children": [
        "IPY_MODEL_9c79feb071e9462baf05580e9abca818"
       ],
       "layout": "IPY_MODEL_6702cba7c58147dba8af80e6794b80f4"
      }
     },
     "ae72fda4a7174915a11a0d21bb7975c3": {
      "model_module": "@jupyter-widgets/controls",
      "model_module_version": "1.5.0",
      "model_name": "VBoxModel",
      "state": {
       "children": [
        "IPY_MODEL_529551332abd4181aea258f08ebe987b",
        "IPY_MODEL_c9904f341ec94d5983f5b297a3bfeed6",
        "IPY_MODEL_350b9640db6545dcb7a27b81204bb384",
        "IPY_MODEL_3f544bfbe1e34cc48ed598f5b4e7da71"
       ],
       "layout": "IPY_MODEL_9b4aba59c3f14532896cb6cd1848cb3a"
      }
     },
     "ae752cf724bb4c3892f5ace6b866beda": {
      "model_module": "@jupyter-widgets/controls",
      "model_module_version": "1.5.0",
      "model_name": "DescriptionStyleModel",
      "state": {
       "description_width": "initial"
      }
     },
     "ae78c0c031c54ee18beb3e9bbf8d69bf": {
      "model_module": "@jupyter-widgets/controls",
      "model_module_version": "1.5.0",
      "model_name": "DropdownModel",
      "state": {
       "_options_labels": [
        "Keine der Alternativen",
        "der Ort des Geschehens wird festgelegt",
        "die PP wird dem Substantiv beigefügt",
        "die im Verb ausgedrückte Tätigkeit wird modifiziert"
       ],
       "description": "Antwort:",
       "index": 2,
       "layout": "IPY_MODEL_feb97e37fa7f4a6eb0ecb12841e34f12",
       "style": "IPY_MODEL_6de5d6202d91411094caa4c29a35bb7b"
      }
     },
     "aeb6603ca1774e06a00801c1ed40410a": {
      "model_module": "@jupyter-widgets/controls",
      "model_module_version": "1.5.0",
      "model_name": "DescriptionStyleModel",
      "state": {
       "description_width": "initial"
      }
     },
     "aed45c24f4be49f8bb55c595c855d545": {
      "model_module": "@jupyter-widgets/controls",
      "model_module_version": "1.5.0",
      "model_name": "HTMLModel",
      "state": {
       "layout": "IPY_MODEL_4e8833721a204397b2ade24dead18036",
       "style": "IPY_MODEL_61406358c7f44467a0adc2ab68a1b33b",
       "value": "<i>Vervollständigen Sie den Lückentext: </i>"
      }
     },
     "af08e1f99c094f2980ab42a5edd7af55": {
      "model_module": "@jupyter-widgets/base",
      "model_module_version": "1.2.0",
      "model_name": "LayoutModel",
      "state": {
       "justify_content": "center"
      }
     },
     "af0982d326454ec896728041bcdf8f74": {
      "model_module": "@jupyter-widgets/base",
      "model_module_version": "1.2.0",
      "model_name": "LayoutModel",
      "state": {}
     },
     "af0b03030da14df48492e1a1f08023ca": {
      "model_module": "@jupyter-widgets/controls",
      "model_module_version": "1.5.0",
      "model_name": "HTMLModel",
      "state": {
       "layout": "IPY_MODEL_ee216cd2914745648ae4b5331fd90fb9",
       "style": "IPY_MODEL_84d2db98e24449d2b772d51c22fda877",
       "value": "<i>Wählen Sie die <ins>eine</ins> korrekte Antwort aus: </i>"
      }
     },
     "af1b8a8c6e6f49d187e9586fb22ad6f7": {
      "model_module": "@jupyter-widgets/controls",
      "model_module_version": "1.5.0",
      "model_name": "CheckboxModel",
      "state": {
       "description": "Attributphrase",
       "disabled": false,
       "layout": "IPY_MODEL_9d48bdee7a6a495eaae1ce8b59cfbb9e",
       "style": "IPY_MODEL_d51b11f118c341cab7deb611b965d119",
       "value": false
      }
     },
     "af5a0bc7b08843e6b19ea0c8ffd96299": {
      "model_module": "@jupyter-widgets/controls",
      "model_module_version": "1.5.0",
      "model_name": "ButtonStyleModel",
      "state": {}
     },
     "af7b8d686f6846b39bdc6749ee0af50e": {
      "model_module": "@jupyter-widgets/base",
      "model_module_version": "1.2.0",
      "model_name": "LayoutModel",
      "state": {}
     },
     "af8d1768e8bf4c428502edf116e28e47": {
      "model_module": "@jupyter-widgets/controls",
      "model_module_version": "1.5.0",
      "model_name": "DropdownModel",
      "state": {
       "_options_labels": [
        "Keine der Alternativen",
        "der Ort des Geschehens wird festgelegt",
        "die PP wird dem Substantiv beigefügt",
        "die im Verb ausgedrückte Tätigkeit wird modifiziert"
       ],
       "description": "Antwort:",
       "index": 3,
       "layout": "IPY_MODEL_ceada009571f4427a0e414ece8365170",
       "style": "IPY_MODEL_2e755fa6bef44b3794950cd92e01fa4b"
      }
     },
     "afcaf97fcc7b4299bd920f997a81ccb2": {
      "model_module": "@jupyter-widgets/controls",
      "model_module_version": "1.5.0",
      "model_name": "ButtonModel",
      "state": {
       "description": "Keine der anderen Möglichkeiten",
       "layout": "IPY_MODEL_0c8a0d9e03c747d38a0d1529e8c7ceae",
       "style": "IPY_MODEL_0f67c3a1f42d49caaeca76c1694f585d"
      }
     },
     "afed0a0d837b4a9895186dd9e40b957b": {
      "model_module": "@jupyter-widgets/controls",
      "model_module_version": "1.5.0",
      "model_name": "VBoxModel",
      "state": {
       "children": [
        "IPY_MODEL_89e21f4f450945b5a6668a3215eb1605",
        "IPY_MODEL_e741558b29724af691553e4ef0ba258b",
        "IPY_MODEL_35d7aa5781564d7a843bd8bcedff2285"
       ],
       "layout": "IPY_MODEL_abf0fca9ab7648d7b37abf147c525164"
      }
     },
     "b0133f218b7c4afdafc3d064456b72c5": {
      "model_module": "@jupyter-widgets/base",
      "model_module_version": "1.2.0",
      "model_name": "LayoutModel",
      "state": {}
     },
     "b02ba225450c4dfab0fc0972955d2af3": {
      "model_module": "@jupyter-widgets/base",
      "model_module_version": "1.2.0",
      "model_name": "LayoutModel",
      "state": {}
     },
     "b040c297b64e4711a306eb7639a75c10": {
      "model_module": "@jupyter-widgets/controls",
      "model_module_version": "1.5.0",
      "model_name": "ButtonStyleModel",
      "state": {}
     },
     "b09790e962434df09c46d5ddae8649ac": {
      "model_module": "@jupyter-widgets/base",
      "model_module_version": "1.2.0",
      "model_name": "LayoutModel",
      "state": {
       "justify_content": "center"
      }
     },
     "b099cf1e8525451b96883aeaf569d177": {
      "model_module": "@jupyter-widgets/controls",
      "model_module_version": "1.5.0",
      "model_name": "ButtonModel",
      "state": {
       "description": "Phrasenstruktur",
       "layout": "IPY_MODEL_ec23a57a9a4d47f496475796a547ad51",
       "style": "IPY_MODEL_514752b6940844b0b05f9e449da81986"
      }
     },
     "b0b05f005f3444f5b6076a4c25580669": {
      "model_module": "@jupyter-widgets/controls",
      "model_module_version": "1.5.0",
      "model_name": "HBoxModel",
      "state": {
       "children": [
        "IPY_MODEL_4e42d07e99ed4b449b6a257fa7b75592",
        "IPY_MODEL_8238bdf9a9d349e397338a550b4bec96"
       ],
       "layout": "IPY_MODEL_f368178678c246ca8bf2032acc1818dc"
      }
     },
     "b0bf69292b49490e805e48bb4e7e0a4d": {
      "model_module": "@jupyter-widgets/controls",
      "model_module_version": "1.5.0",
      "model_name": "ButtonModel",
      "state": {
       "description": "Dependenz",
       "layout": "IPY_MODEL_3f2847c950af40ada1d09a8ea62c428d",
       "style": "IPY_MODEL_947029ee3d5c40c6be70539a3bb9c8a1"
      }
     },
     "b0d753e564b24d52bd66a024e79cd52a": {
      "model_module": "@jupyter-widgets/base",
      "model_module_version": "1.2.0",
      "model_name": "LayoutModel",
      "state": {
       "width": "600px"
      }
     },
     "b13c4d1851464b928096afbe3d728e8f": {
      "model_module": "@jupyter-widgets/controls",
      "model_module_version": "1.5.0",
      "model_name": "HBoxModel",
      "state": {
       "children": [
        "IPY_MODEL_6265ecb5b96d40f6b52d090eeec895be"
       ],
       "layout": "IPY_MODEL_d3c436113df346e9ab2680a172e48284"
      }
     },
     "b1a8d6d42b8f41ed80c3557ce6e99cf5": {
      "model_module": "@jupyter-widgets/base",
      "model_module_version": "1.2.0",
      "model_name": "LayoutModel",
      "state": {
       "width": "250px"
      }
     },
     "b1cff329362249d88f0546f50953e400": {
      "model_module": "@jupyter-widgets/base",
      "model_module_version": "1.2.0",
      "model_name": "LayoutModel",
      "state": {
       "width": "600px"
      }
     },
     "b23bdf7fecf14e39a03f0c54b06ff5c8": {
      "model_module": "@jupyter-widgets/base",
      "model_module_version": "1.2.0",
      "model_name": "LayoutModel",
      "state": {
       "width": "250px"
      }
     },
     "b23c36db655348e397b9bf15b87ff685": {
      "model_module": "@jupyter-widgets/base",
      "model_module_version": "1.2.0",
      "model_name": "LayoutModel",
      "state": {
       "width": "500px"
      }
     },
     "b2650beee7044a1f8fb8a32f9b23d1b0": {
      "model_module": "@jupyter-widgets/controls",
      "model_module_version": "1.5.0",
      "model_name": "DescriptionStyleModel",
      "state": {
       "description_width": ""
      }
     },
     "b286d948f1894a31a7a9f692ec272864": {
      "model_module": "@jupyter-widgets/base",
      "model_module_version": "1.2.0",
      "model_name": "LayoutModel",
      "state": {}
     },
     "b2d6988acf8342d3b36926843fa59768": {
      "model_module": "@jupyter-widgets/base",
      "model_module_version": "1.2.0",
      "model_name": "LayoutModel",
      "state": {
       "width": "250px"
      }
     },
     "b2df974be4bc4f58847d0a754e6f9f1f": {
      "model_module": "@jupyter-widgets/controls",
      "model_module_version": "1.5.0",
      "model_name": "ButtonStyleModel",
      "state": {}
     },
     "b2e17f6d73a14d2da72f1ad8e03611e4": {
      "model_module": "@jupyter-widgets/base",
      "model_module_version": "1.2.0",
      "model_name": "LayoutModel",
      "state": {}
     },
     "b35c0def8d1746f7b8291fa1a00dd52e": {
      "model_module": "@jupyter-widgets/controls",
      "model_module_version": "1.5.0",
      "model_name": "CheckboxModel",
      "state": {
       "description": "phonologische",
       "disabled": false,
       "layout": "IPY_MODEL_123b8ffb9efa44e7a72bf0ee09aa28fe",
       "style": "IPY_MODEL_a23f86fe306b47a686899d6287fdc9f8",
       "value": false
      }
     },
     "b3c17ed5fa5b46859a1708dcd8bd3075": {
      "model_module": "@jupyter-widgets/controls",
      "model_module_version": "1.5.0",
      "model_name": "HTMLModel",
      "state": {
       "layout": "IPY_MODEL_603119a0a3e94aa2b445177a15036487",
       "style": "IPY_MODEL_1eb75c20573d4d33bfad4c9affd866e0",
       "value": "<i>Wählen Sie die <ins>eine</ins> korrekte Antwort aus: </i>"
      }
     },
     "b3c79b1fa1174dd08196cf8a1216ebdf": {
      "model_module": "@jupyter-widgets/base",
      "model_module_version": "1.2.0",
      "model_name": "LayoutModel",
      "state": {}
     },
     "b3de506a26bf45359306d4dd275dbaf7": {
      "model_module": "@jupyter-widgets/base",
      "model_module_version": "1.2.0",
      "model_name": "LayoutModel",
      "state": {}
     },
     "b3f72f05f820470ab7db01e0be938df8": {
      "model_module": "@jupyter-widgets/controls",
      "model_module_version": "1.5.0",
      "model_name": "HBoxModel",
      "state": {
       "children": [
        "IPY_MODEL_c3ebd119c8af4baaab3e060f47f91849",
        "IPY_MODEL_bd77be5c352849889d66c7fac7678c01"
       ],
       "layout": "IPY_MODEL_d20871af380c408eaab167e870c0cccd"
      }
     },
     "b3f85d6683cf44bf832d97c28aa73d77": {
      "model_module": "@jupyter-widgets/controls",
      "model_module_version": "1.5.0",
      "model_name": "CheckboxModel",
      "state": {
       "description": "Lautebene, Wortebene, Satzebene",
       "disabled": false,
       "layout": "IPY_MODEL_03e3dc2ceb6b480187ebae773c6c6f72",
       "style": "IPY_MODEL_680c961b08de48f483c589d3216cfd50",
       "value": false
      }
     },
     "b3ff90dc24904eaa89703386c882bbc3": {
      "model_module": "@jupyter-widgets/base",
      "model_module_version": "1.2.0",
      "model_name": "LayoutModel",
      "state": {}
     },
     "b417e16c768348f98fa2f39a1a4302b9": {
      "model_module": "@jupyter-widgets/base",
      "model_module_version": "1.2.0",
      "model_name": "LayoutModel",
      "state": {
       "width": "600px"
      }
     },
     "b47170f5c39249e4ae9a38737398bc5d": {
      "model_module": "@jupyter-widgets/base",
      "model_module_version": "1.2.0",
      "model_name": "LayoutModel",
      "state": {
       "width": "250px"
      }
     },
     "b47bd41342694038bd8531df8c314e76": {
      "model_module": "@jupyter-widgets/base",
      "model_module_version": "1.2.0",
      "model_name": "LayoutModel",
      "state": {
       "justify_content": "center"
      }
     },
     "b4832569d7f74c329bb9411da9569f9d": {
      "model_module": "@jupyter-widgets/base",
      "model_module_version": "1.2.0",
      "model_name": "LayoutModel",
      "state": {}
     },
     "b4855c7c1a3449b9885f84c6e492ee38": {
      "model_module": "@jupyter-widgets/controls",
      "model_module_version": "1.5.0",
      "model_name": "ButtonModel",
      "state": {
       "description": "Korrekt?",
       "layout": "IPY_MODEL_e528d4b4b1f644f69c295e7d708bf25b",
       "style": "IPY_MODEL_a63743621e424e10baa396e66d2b64a5"
      }
     },
     "b49c3071b27d4e27938b76af3051c052": {
      "model_module": "@jupyter-widgets/controls",
      "model_module_version": "1.5.0",
      "model_name": "HTMLModel",
      "state": {
       "layout": "IPY_MODEL_d4fb0179a7614fc1a6fd74b3a816ceef",
       "style": "IPY_MODEL_4c30edbbfebd48f5af2981d7385528cf",
       "value": "<h4 style=\"font-size:14px;\">Regularitäten bezieht.</h4>"
      }
     },
     "b4a55183320543689a2c21c9c882fe27": {
      "model_module": "@jupyter-widgets/controls",
      "model_module_version": "1.5.0",
      "model_name": "ButtonStyleModel",
      "state": {}
     },
     "b4bbff0a2e05405fb44f952653a57a64": {
      "model_module": "@jupyter-widgets/controls",
      "model_module_version": "1.5.0",
      "model_name": "ButtonStyleModel",
      "state": {}
     },
     "b50411f77db94ad4927bb229ac90e991": {
      "model_module": "@jupyter-widgets/controls",
      "model_module_version": "1.5.0",
      "model_name": "ButtonStyleModel",
      "state": {}
     },
     "b5050914d71b4224b50937d87b6c37d2": {
      "model_module": "@jupyter-widgets/controls",
      "model_module_version": "1.5.0",
      "model_name": "ButtonModel",
      "state": {
       "description": "Dependenz",
       "layout": "IPY_MODEL_19c1ed923a5946449a4aaeda71569655",
       "style": "IPY_MODEL_df1457c02ce34c4fb5e6286d0fb67eb4"
      }
     },
     "b51f7509840b4c24870eee1b337fe24b": {
      "model_module": "@jupyter-widgets/controls",
      "model_module_version": "1.5.0",
      "model_name": "VBoxModel",
      "state": {
       "children": [
        "IPY_MODEL_a3d60fbf34fe402580a3754053312541",
        "IPY_MODEL_2bafb69bc69f4589b0c96db279c46fde",
        "IPY_MODEL_c1286996dcc7421eb32909e0386b7386"
       ],
       "layout": "IPY_MODEL_849f4180a3af42f59beb6a7d3461227b"
      }
     },
     "b545a69ab457453ba9ef8f6cd240b73d": {
      "model_module": "@jupyter-widgets/controls",
      "model_module_version": "1.5.0",
      "model_name": "DescriptionStyleModel",
      "state": {
       "description_width": "initial"
      }
     },
     "b54b2ebb4efa48be950564380167bd33": {
      "model_module": "@jupyter-widgets/controls",
      "model_module_version": "1.5.0",
      "model_name": "HTMLModel",
      "state": {
       "layout": "IPY_MODEL_734239360e5e4909a85bbb50862336fa",
       "style": "IPY_MODEL_4e1c1a6316be4d269b99a7819738a437",
       "value": "<h4 style=\"font-size:14px;\">Welcher Grammatikbegriff liegt Satz 3 zugrunde?</h4>"
      }
     },
     "b5a30694ee124601ab4a1a8a1750d475": {
      "model_module": "@jupyter-widgets/controls",
      "model_module_version": "1.5.0",
      "model_name": "ButtonModel",
      "state": {
       "description": "Subjekt",
       "layout": "IPY_MODEL_6ddf66b6cd444bf0b9d349c90797bf16",
       "style": "IPY_MODEL_e905e2fb4e70483b9d5f65dc790f7b1b"
      }
     },
     "b5d4af85ea684ab790ea4c095e8bbcd0": {
      "model_module": "@jupyter-widgets/base",
      "model_module_version": "1.2.0",
      "model_name": "LayoutModel",
      "state": {
       "width": "600px"
      }
     },
     "b5f3a2c9a5054707bfca6b263a14f160": {
      "model_module": "@jupyter-widgets/controls",
      "model_module_version": "1.5.0",
      "model_name": "ButtonStyleModel",
      "state": {}
     },
     "b6371ae5ba88416486b5071b37fc0696": {
      "model_module": "@jupyter-widgets/controls",
      "model_module_version": "1.5.0",
      "model_name": "ButtonStyleModel",
      "state": {}
     },
     "b63f0af93236429abbc6c393cc70d615": {
      "model_module": "@jupyter-widgets/controls",
      "model_module_version": "1.5.0",
      "model_name": "CheckboxModel",
      "state": {
       "description": "Konstituentenbaum mit gelabelten Kanten",
       "disabled": false,
       "layout": "IPY_MODEL_a45be54badfd4175aa7b960266ab3959",
       "style": "IPY_MODEL_4cc0ea031e9249cfa18e7ebc90a9c50e",
       "value": false
      }
     },
     "b649fdc35a44494298c1fa549b738858": {
      "model_module": "@jupyter-widgets/base",
      "model_module_version": "1.2.0",
      "model_name": "LayoutModel",
      "state": {}
     },
     "b6cb33f148f24f32a2aa81c014a4e7c0": {
      "model_module": "@jupyter-widgets/base",
      "model_module_version": "1.2.0",
      "model_name": "LayoutModel",
      "state": {
       "justify_content": "center"
      }
     },
     "b72a6ac116154924a4b611a78af4ec54": {
      "model_module": "@jupyter-widgets/controls",
      "model_module_version": "1.5.0",
      "model_name": "DescriptionStyleModel",
      "state": {
       "description_width": ""
      }
     },
     "b749af90c3c24c5a8308f1927697bb1d": {
      "model_module": "@jupyter-widgets/base",
      "model_module_version": "1.2.0",
      "model_name": "LayoutModel",
      "state": {
       "justify_content": "center"
      }
     },
     "b76bb7b13df84a96a193ea99c65d8a56": {
      "model_module": "@jupyter-widgets/base",
      "model_module_version": "1.2.0",
      "model_name": "LayoutModel",
      "state": {
       "justify_content": "center"
      }
     },
     "b7c80ea12eb444088b013598b5570963": {
      "model_module": "@jupyter-widgets/base",
      "model_module_version": "1.2.0",
      "model_name": "LayoutModel",
      "state": {
       "width": "250px"
      }
     },
     "b7cd307dc5614dc48edd20418aa6eb63": {
      "model_module": "@jupyter-widgets/base",
      "model_module_version": "1.2.0",
      "model_name": "LayoutModel",
      "state": {
       "align_content": "stretch",
       "align_items": "stretch",
       "display": "inline-flex",
       "flex": "flex-grow",
       "flex_flow": "row wrap",
       "justify_content": "flex-start"
      }
     },
     "b7e0ad7c73ba4a0fa9b97bf7ccfaa9d1": {
      "model_module": "@jupyter-widgets/controls",
      "model_module_version": "1.5.0",
      "model_name": "ButtonModel",
      "state": {
       "description": "Abhängigkeitsstruktur",
       "layout": "IPY_MODEL_12b6c39b4b9547cb885d3a74a6c6b61b",
       "style": "IPY_MODEL_a5dec6828592468cbe657d79512649d8"
      }
     },
     "b82b0895e7384e3996619817b12942f5": {
      "model_module": "@jupyter-widgets/controls",
      "model_module_version": "1.5.0",
      "model_name": "DescriptionStyleModel",
      "state": {
       "description_width": ""
      }
     },
     "b863df5deff4447284d4b10c0c487b7f": {
      "model_module": "@jupyter-widgets/base",
      "model_module_version": "1.2.0",
      "model_name": "LayoutModel",
      "state": {
       "width": "600px"
      }
     },
     "b89219406be54c7e957cacaf944fcbbe": {
      "model_module": "@jupyter-widgets/base",
      "model_module_version": "1.2.0",
      "model_name": "LayoutModel",
      "state": {
       "width": "600px"
      }
     },
     "b892faa45c7044e9ba86f11c40944569": {
      "model_module": "@jupyter-widgets/controls",
      "model_module_version": "1.5.0",
      "model_name": "CheckboxModel",
      "state": {
       "description": "Eine unendliche Menge an Sätzen kann mit endlichen Mitteln beschrieben werden.",
       "disabled": false,
       "layout": "IPY_MODEL_dd101dd8954d4d76a76fb6d4df0a0405",
       "style": "IPY_MODEL_6ca93f6b964045c3ba1c44b5e983f756",
       "value": false
      }
     },
     "b8d0dfb39f1346af8f48611732b39f6c": {
      "model_module": "@jupyter-widgets/base",
      "model_module_version": "1.2.0",
      "model_name": "LayoutModel",
      "state": {}
     },
     "b8e4f45082274e0d8ac559aee895081c": {
      "model_module": "@jupyter-widgets/controls",
      "model_module_version": "1.5.0",
      "model_name": "DescriptionStyleModel",
      "state": {
       "description_width": ""
      }
     },
     "b8ed9e9c6a0841b5b9d8d8b004327da9": {
      "model_module": "@jupyter-widgets/controls",
      "model_module_version": "1.5.0",
      "model_name": "ButtonStyleModel",
      "state": {}
     },
     "b9037b0fe52344ca84d016455dda7652": {
      "model_module": "@jupyter-widgets/controls",
      "model_module_version": "1.5.0",
      "model_name": "ButtonModel",
      "state": {
       "description": "Wissen um Sprachstruktur",
       "layout": "IPY_MODEL_458476d605b446a0b9fd6aab34ee39fb",
       "style": "IPY_MODEL_8297bb746a864aaf8224883b11378ad9"
      }
     },
     "b95e068678034fadbb985eeec423a098": {
      "model_module": "@jupyter-widgets/controls",
      "model_module_version": "1.5.0",
      "model_name": "ButtonModel",
      "state": {
       "description": "lexikalische Ambiguität",
       "layout": "IPY_MODEL_fb2626c497464eb7b637f565d5ae631d",
       "style": "IPY_MODEL_e922e3e9527844a89340684e8136d13b"
      }
     },
     "b96f25a04d3e4bc2b53faf4248ef5914": {
      "model_module": "@jupyter-widgets/base",
      "model_module_version": "1.2.0",
      "model_name": "LayoutModel",
      "state": {}
     },
     "b9adb7c593214b208e86d0d4baef18bd": {
      "model_module": "@jupyter-widgets/controls",
      "model_module_version": "1.5.0",
      "model_name": "DescriptionStyleModel",
      "state": {
       "description_width": ""
      }
     },
     "b9c6e8a9477147e083ab827ca12cf772": {
      "model_module": "@jupyter-widgets/controls",
      "model_module_version": "1.5.0",
      "model_name": "DescriptionStyleModel",
      "state": {
       "description_width": ""
      }
     },
     "b9ed407f531f408a9230fec378e03339": {
      "model_module": "@jupyter-widgets/controls",
      "model_module_version": "1.5.0",
      "model_name": "HTMLModel",
      "state": {
       "layout": "IPY_MODEL_437fc46df56d42b9b39c225cfd848c32",
       "style": "IPY_MODEL_0591c6f2d1214ce481d23ca8604e244a",
       "value": "<h4 style=\"font-size:14px;\">In welcher Form wird die syntaktische Struktur eines Satzes beim Aufruf von NLTK print(tree) erstellt?</h4>"
      }
     },
     "b9fa10554bfe403eb47ac02ffc943c97": {
      "model_module": "@jupyter-widgets/controls",
      "model_module_version": "1.5.0",
      "model_name": "HBoxModel",
      "state": {
       "children": [
        "IPY_MODEL_24a07dde6fb34d37b73602eacfa82163"
       ],
       "layout": "IPY_MODEL_389d6703c2e5408799293c64631ef90e"
      }
     },
     "ba2799ce05e747d888fed4c05a951823": {
      "model_module": "@jupyter-widgets/controls",
      "model_module_version": "1.5.0",
      "model_name": "ButtonModel",
      "state": {
       "description": "Korrekt?",
       "layout": "IPY_MODEL_b7c80ea12eb444088b013598b5570963",
       "style": "IPY_MODEL_af5a0bc7b08843e6b19ea0c8ffd96299"
      }
     },
     "ba3471e7319c4988b91092455a229ef0": {
      "model_module": "@jupyter-widgets/base",
      "model_module_version": "1.2.0",
      "model_name": "LayoutModel",
      "state": {
       "width": "250px"
      }
     },
     "ba4c8cebb94d45d8a4e2c3e507f154a1": {
      "model_module": "@jupyter-widgets/base",
      "model_module_version": "1.2.0",
      "model_name": "LayoutModel",
      "state": {}
     },
     "ba54c462f98e42f98f834621931270e0": {
      "model_module": "@jupyter-widgets/base",
      "model_module_version": "1.2.0",
      "model_name": "LayoutModel",
      "state": {
       "justify_content": "center"
      }
     },
     "ba6512ac022946878bee02f459b678b8": {
      "model_module": "@jupyter-widgets/base",
      "model_module_version": "1.2.0",
      "model_name": "LayoutModel",
      "state": {
       "justify_content": "center"
      }
     },
     "ba8bd7cc91a54a2fa29a0fe1bfca00fe": {
      "model_module": "@jupyter-widgets/controls",
      "model_module_version": "1.5.0",
      "model_name": "HTMLModel",
      "state": {
       "layout": "IPY_MODEL_58ad9e368db5494fb5a65d1c7dd7538b",
       "style": "IPY_MODEL_837e45100de94aac935f565c47cc96b0",
       "value": "<h4 style=\"font-size:14px;\">der formalen Sprache; ein analysierter natürlichsprachlicher Satz ist ein in der formalen Grammatik ableitbares</h4>"
      }
     },
     "baab3dbd6fe1418bab9f5b7db408352b": {
      "model_module": "@jupyter-widgets/base",
      "model_module_version": "1.2.0",
      "model_name": "LayoutModel",
      "state": {
       "width": "150px"
      }
     },
     "baefd4eb9a0d43c29f88af420ffdad8e": {
      "model_module": "@jupyter-widgets/controls",
      "model_module_version": "1.5.0",
      "model_name": "ButtonModel",
      "state": {
       "description": "strukturelle Ambiguität",
       "layout": "IPY_MODEL_f3ea85efb0e34d3e9d445a902829c9f4",
       "style": "IPY_MODEL_0613a74400f2464a8e82e07c36de9909"
      }
     },
     "baf4fbc541434109951492204e0a52ac": {
      "model_module": "@jupyter-widgets/controls",
      "model_module_version": "1.5.0",
      "model_name": "ButtonStyleModel",
      "state": {}
     },
     "bafa24aa6c13446f9ab2a84b8af94c31": {
      "model_module": "@jupyter-widgets/controls",
      "model_module_version": "1.5.0",
      "model_name": "DescriptionStyleModel",
      "state": {
       "description_width": "initial"
      }
     },
     "bb03f0be93c040348a16363bca31dbab": {
      "model_module": "@jupyter-widgets/controls",
      "model_module_version": "1.5.0",
      "model_name": "ButtonStyleModel",
      "state": {}
     },
     "bb2aa50619cd4ca4b4000823f09bbb42": {
      "model_module": "@jupyter-widgets/controls",
      "model_module_version": "1.5.0",
      "model_name": "HBoxModel",
      "state": {
       "children": [
        "IPY_MODEL_140d906489444bca96272f24fde7ebcb",
        "IPY_MODEL_8a655885b18946de8a7aacab0e67e2d0"
       ],
       "layout": "IPY_MODEL_20376fa3a2464bff9956f7374e57258f"
      }
     },
     "bb4fb6e19f524f64b1b09c16eec9f78e": {
      "model_module": "@jupyter-widgets/controls",
      "model_module_version": "1.5.0",
      "model_name": "VBoxModel",
      "state": {
       "children": [
        "IPY_MODEL_9f84074bebc6491aba0a2e40e79e5b6b",
        "IPY_MODEL_e4453f19d04a4ffdb00ef77157fb229a",
        "IPY_MODEL_c0efdc9515e441d79641bd7abe3d9f3d",
        "IPY_MODEL_c5169216d5b5416480c9df85fdddbdc5",
        "IPY_MODEL_5e16ed7dfd744b48883c2fa564e968a6"
       ],
       "layout": "IPY_MODEL_23a1ffc6b8b34a1d9f9b8f991188be59"
      }
     },
     "bb58aefc46e34029bf1a2b80d05b6d1b": {
      "model_module": "@jupyter-widgets/controls",
      "model_module_version": "1.5.0",
      "model_name": "HTMLModel",
      "state": {
       "layout": "IPY_MODEL_6420f127e8714a4f9d0313b432941943",
       "style": "IPY_MODEL_ccbc175237c54cedb4325c9b16befa6a",
       "value": "<h4 style=\"font-size:14px;\">Die Alternative <code>tree = parser.parse(sent)</code> ist weniger wünschenswert, da im Allgemeinen ________ Parse-Tree möglich ist.</h4>"
      }
     },
     "bb738f5603ac4544bf226d32c61b6df7": {
      "model_module": "@jupyter-widgets/base",
      "model_module_version": "1.2.0",
      "model_name": "LayoutModel",
      "state": {
       "justify_content": "center"
      }
     },
     "bb7cc5529e264b469a898e6b308d2aca": {
      "model_module": "@jupyter-widgets/controls",
      "model_module_version": "1.5.0",
      "model_name": "VBoxModel",
      "state": {
       "children": [
        "IPY_MODEL_d59acbff18a447fb95a9fae5e5e3555a",
        "IPY_MODEL_96a1b8dcc854479c9c9f27dc6093cb02",
        "IPY_MODEL_901e68da3d474490b023c776bc79ef07",
        "IPY_MODEL_ef7f6d4facff4a3695bbb0bfaf931090"
       ],
       "layout": "IPY_MODEL_a767e2bcade74a9d88653bb50f70b9be"
      }
     },
     "bb91604dfdda472981042899d2bb29c8": {
      "model_module": "@jupyter-widgets/controls",
      "model_module_version": "1.5.0",
      "model_name": "ButtonModel",
      "state": {
       "description": "Objekt",
       "layout": "IPY_MODEL_a83a9fb747624c3f8d2de6e2e258348d",
       "style": "IPY_MODEL_3647f051cda6405891c9752a0fc17752"
      }
     },
     "bbd90b6589174c6f8c14549fc4c75b0b": {
      "model_module": "@jupyter-widgets/controls",
      "model_module_version": "1.5.0",
      "model_name": "DescriptionStyleModel",
      "state": {
       "description_width": "initial"
      }
     },
     "bbdb0ead6c724844b8e9007dce6378ef": {
      "model_module": "@jupyter-widgets/base",
      "model_module_version": "1.2.0",
      "model_name": "LayoutModel",
      "state": {
       "justify_content": "center"
      }
     },
     "bbef5d243f1f4f04aceb5a6c72fdd44d": {
      "model_module": "@jupyter-widgets/base",
      "model_module_version": "1.2.0",
      "model_name": "LayoutModel",
      "state": {
       "width": "250px"
      }
     },
     "bc280cbf9e9f49a48acf956ac2bd2bc7": {
      "model_module": "@jupyter-widgets/controls",
      "model_module_version": "1.5.0",
      "model_name": "DescriptionStyleModel",
      "state": {
       "description_width": ""
      }
     },
     "bca2a101f1bd4069bd094d102a729c99": {
      "model_module": "@jupyter-widgets/controls",
      "model_module_version": "1.5.0",
      "model_name": "HTMLModel",
      "state": {
       "layout": "IPY_MODEL_02bfac78201044c5afe62773fef42122",
       "style": "IPY_MODEL_d1095d9166134311af62281697d2327c",
       "value": "<i>Markieren Sie <ins>alle</ins> passenden Antworten: </i>"
      }
     },
     "bccf0d4864954c8aac836ce934b7f4d9": {
      "model_module": "@jupyter-widgets/controls",
      "model_module_version": "1.5.0",
      "model_name": "ButtonModel",
      "state": {
       "description": "mehr als ein",
       "layout": "IPY_MODEL_91863d26c13e4055be946eb51b34781e",
       "style": "IPY_MODEL_9c8245521e804398a72e06699ef016dd"
      }
     },
     "bd2d393983774fe8a8df39d833a4a18c": {
      "model_module": "@jupyter-widgets/base",
      "model_module_version": "1.2.0",
      "model_name": "LayoutModel",
      "state": {}
     },
     "bd73b6d41eca4caf81776ec4dd655b09": {
      "model_module": "@jupyter-widgets/controls",
      "model_module_version": "1.5.0",
      "model_name": "ButtonModel",
      "state": {
       "description": "Korrekt?",
       "layout": "IPY_MODEL_bbef5d243f1f4f04aceb5a6c72fdd44d",
       "style": "IPY_MODEL_cd2c00872109401680e343741306067f"
      }
     },
     "bd77be5c352849889d66c7fac7678c01": {
      "model_module": "@jupyter-widgets/controls",
      "model_module_version": "1.5.0",
      "model_name": "ButtonModel",
      "state": {
       "description": "Wortstruktur",
       "layout": "IPY_MODEL_fe71c44cf7464d97b599ba366504a15d",
       "style": "IPY_MODEL_b040c297b64e4711a306eb7639a75c10"
      }
     },
     "bdefd2bb995f4994bd3f32c5ba65cd61": {
      "model_module": "@jupyter-widgets/controls",
      "model_module_version": "1.5.0",
      "model_name": "DescriptionStyleModel",
      "state": {
       "description_width": ""
      }
     },
     "be0a0d7606514a61b26757944c20d288": {
      "model_module": "@jupyter-widgets/base",
      "model_module_version": "1.2.0",
      "model_name": "LayoutModel",
      "state": {
       "width": "250px"
      }
     },
     "be244bd30565423ab8d7c13fb0f857d4": {
      "model_module": "@jupyter-widgets/base",
      "model_module_version": "1.2.0",
      "model_name": "LayoutModel",
      "state": {
       "width": "250px"
      }
     },
     "be6eda8d8925405189ef05dd7173cf2d": {
      "model_module": "@jupyter-widgets/controls",
      "model_module_version": "1.5.0",
      "model_name": "ButtonStyleModel",
      "state": {}
     },
     "be910d55b3eb483e898750b0eb7f489e": {
      "model_module": "@jupyter-widgets/controls",
      "model_module_version": "1.5.0",
      "model_name": "ButtonStyleModel",
      "state": {}
     },
     "bebd1f22b7914aecb327dc51901552a6": {
      "model_module": "@jupyter-widgets/controls",
      "model_module_version": "1.5.0",
      "model_name": "HTMLModel",
      "state": {
       "layout": "IPY_MODEL_a635ebf2535948789db0d0abefcb3e00",
       "style": "IPY_MODEL_d24c479e85f94ff2b090c74f0651c53f",
       "value": "<h4 style=\"font-size:14px;\">Was sind die 3 grundlegenden Beschreibungsebenen der Grammatik natürlicher Sprachen?</h4>"
      }
     },
     "bed74f6cc61e4c088af3bf80b4a548ad": {
      "model_module": "@jupyter-widgets/controls",
      "model_module_version": "1.5.0",
      "model_name": "ButtonModel",
      "state": {
       "description": "Korrekt?",
       "layout": "IPY_MODEL_0954224ed07241ca86a25e7e2ffe4606",
       "style": "IPY_MODEL_cbc6fc9a5754472c8c45805197aef478"
      }
     },
     "bef11576c2f9470a9b4bb89f5212f786": {
      "model_module": "@jupyter-widgets/controls",
      "model_module_version": "1.5.0",
      "model_name": "ButtonStyleModel",
      "state": {}
     },
     "bf1be74546cf48fcbea9e8060bffa82d": {
      "model_module": "@jupyter-widgets/base",
      "model_module_version": "1.2.0",
      "model_name": "LayoutModel",
      "state": {
       "justify_content": "center"
      }
     },
     "bf2159160b5645e3b41e7d83006ce74d": {
      "model_module": "@jupyter-widgets/base",
      "model_module_version": "1.2.0",
      "model_name": "LayoutModel",
      "state": {
       "width": "250px"
      }
     },
     "bf37e0fdb2824b6aa0591559e4008dfc": {
      "model_module": "@jupyter-widgets/base",
      "model_module_version": "1.2.0",
      "model_name": "LayoutModel",
      "state": {
       "width": "250px"
      }
     },
     "bf4d0d51992e4c8a9a1e0520da2e25a6": {
      "model_module": "@jupyter-widgets/controls",
      "model_module_version": "1.5.0",
      "model_name": "DescriptionStyleModel",
      "state": {
       "description_width": "initial"
      }
     },
     "bf906370487c4e95904151d099ed1b49": {
      "model_module": "@jupyter-widgets/base",
      "model_module_version": "1.2.0",
      "model_name": "LayoutModel",
      "state": {
       "align_content": "stretch",
       "align_items": "stretch",
       "display": "inline-flex",
       "flex": "flex-grow",
       "flex_flow": "row wrap",
       "justify_content": "flex-start"
      }
     },
     "bfa59d33cefa4af8b95cd9c65dbf1e1b": {
      "model_module": "@jupyter-widgets/controls",
      "model_module_version": "1.5.0",
      "model_name": "VBoxModel",
      "state": {
       "children": [
        "IPY_MODEL_e046f3be36ee4a0e9898361099f28795",
        "IPY_MODEL_4593a69dd5a14914a91627ed25761959",
        "IPY_MODEL_bb2aa50619cd4ca4b4000823f09bbb42"
       ],
       "layout": "IPY_MODEL_8270fb8bd35f4c2eafbd1cc2f68dc83c"
      }
     },
     "bff9b32b48d544afbbd3ff1f581c27b5": {
      "model_module": "@jupyter-widgets/controls",
      "model_module_version": "1.5.0",
      "model_name": "DescriptionStyleModel",
      "state": {
       "description_width": ""
      }
     },
     "c05be2ae4fd9495a80f89bcd68deeb6c": {
      "model_module": "@jupyter-widgets/base",
      "model_module_version": "1.2.0",
      "model_name": "LayoutModel",
      "state": {}
     },
     "c08ff3ffdc6e4322a73bdccf944ce709": {
      "model_module": "@jupyter-widgets/controls",
      "model_module_version": "1.5.0",
      "model_name": "DescriptionStyleModel",
      "state": {
       "description_width": "initial"
      }
     },
     "c0ac05217ece48e8a8a61822660a8f7d": {
      "model_module": "@jupyter-widgets/controls",
      "model_module_version": "1.5.0",
      "model_name": "DescriptionStyleModel",
      "state": {
       "description_width": ""
      }
     },
     "c0b970a4df274fd6b95c7c48b696b57e": {
      "model_module": "@jupyter-widgets/controls",
      "model_module_version": "1.5.0",
      "model_name": "VBoxModel",
      "state": {
       "children": [
        "IPY_MODEL_62de141e78f44e0fbe9666c6cf16c6e7",
        "IPY_MODEL_86b3c6273ae44890aa8bf76927f87556",
        "IPY_MODEL_f0ec253ab5334fb39d4451900f51f49c",
        "IPY_MODEL_4bee382ca2e04ae2b89c8835f6a31e0c"
       ],
       "layout": "IPY_MODEL_1da591de77cc4fb7bf99a403e1c0f9e5"
      }
     },
     "c0d0d0267d0846158c4a71f3bad8cc35": {
      "model_module": "@jupyter-widgets/base",
      "model_module_version": "1.2.0",
      "model_name": "LayoutModel",
      "state": {
       "width": "600px"
      }
     },
     "c0d24a6e551341d98857377a2f2ee24b": {
      "model_module": "@jupyter-widgets/controls",
      "model_module_version": "1.5.0",
      "model_name": "ButtonModel",
      "state": {
       "description": "Korrekt?",
       "layout": "IPY_MODEL_7f00d3605f604775a82d6891ba3dfff4",
       "style": "IPY_MODEL_16d3d7a60792466294d5a7a78917c6d5"
      }
     },
     "c0daf05ae953411599d923d01ebc0922": {
      "model_module": "@jupyter-widgets/controls",
      "model_module_version": "1.5.0",
      "model_name": "HTMLModel",
      "state": {
       "layout": "IPY_MODEL_52943c30839a4fd0b934ed8a76fcbe07",
       "style": "IPY_MODEL_bc280cbf9e9f49a48acf956ac2bd2bc7",
       "value": "<h4 style=\"font-size:14px;\">Zu welcher Phrase kann die Präpositionalphrase \"in my pajamas\" gehören?</h4>"
      }
     },
     "c0efdc9515e441d79641bd7abe3d9f3d": {
      "model_module": "@jupyter-widgets/controls",
      "model_module_version": "1.5.0",
      "model_name": "CheckboxModel",
      "state": {
       "description": "Objekt-Nominalphrase",
       "disabled": false,
       "layout": "IPY_MODEL_e88b32ca64d24c51ba6dc2cac4eb199b",
       "style": "IPY_MODEL_ae752cf724bb4c3892f5ace6b866beda",
       "value": false
      }
     },
     "c0f469ece8bd4f9d8b5daaa3e3b42789": {
      "model_module": "@jupyter-widgets/controls",
      "model_module_version": "1.5.0",
      "model_name": "ButtonStyleModel",
      "state": {}
     },
     "c1086e2b34d34be19209766ed8c3c633": {
      "model_module": "@jupyter-widgets/base",
      "model_module_version": "1.2.0",
      "model_name": "LayoutModel",
      "state": {
       "width": "250px"
      }
     },
     "c1286996dcc7421eb32909e0386b7386": {
      "model_module": "@jupyter-widgets/controls",
      "model_module_version": "1.5.0",
      "model_name": "HBoxModel",
      "state": {
       "children": [
        "IPY_MODEL_05701e4ea6d44133844e82313b2896e3",
        "IPY_MODEL_96b8c32b015c43469dc0a086c5ffdff3"
       ],
       "layout": "IPY_MODEL_f31f771c2574472b8e8d0248b33a5576"
      }
     },
     "c15932360cb34d6a8534945212c69788": {
      "model_module": "@jupyter-widgets/controls",
      "model_module_version": "1.5.0",
      "model_name": "BoxModel",
      "state": {
       "children": [
        "IPY_MODEL_e7e6898a5bb149148ec80a525104221d",
        "IPY_MODEL_162b110584aa4a90b24b33cd36ab9b1f",
        "IPY_MODEL_cdcd8c0b76104b8b8e69ee8bf4f050bc",
        "IPY_MODEL_0f70f247da594ce28a5a72a2ac6a1faa",
        "IPY_MODEL_1ab02c3f84ca458aaed1e9d96b5b369b"
       ],
       "layout": "IPY_MODEL_3d51709d34244b798839d421600efe79"
      }
     },
     "c1b991ff1e0b441b9f7b2bc133e8bd9b": {
      "model_module": "@jupyter-widgets/controls",
      "model_module_version": "1.5.0",
      "model_name": "DescriptionStyleModel",
      "state": {
       "description_width": ""
      }
     },
     "c1fb1b6a61c1484eb5e8e09ab88822dd": {
      "model_module": "@jupyter-widgets/controls",
      "model_module_version": "1.5.0",
      "model_name": "HBoxModel",
      "state": {
       "children": [
        "IPY_MODEL_94aa9e556179471d9b91e7831021f43d",
        "IPY_MODEL_3911934227e84c10906a56ad6e2440bf"
       ],
       "layout": "IPY_MODEL_4b57da2d620048e29d327beb4daa9274"
      }
     },
     "c1fb76a789a244f99f89a76767e98328": {
      "model_module": "@jupyter-widgets/base",
      "model_module_version": "1.2.0",
      "model_name": "LayoutModel",
      "state": {
       "justify_content": "center"
      }
     },
     "c221035e1d6143aba5fee9b72da13abc": {
      "model_module": "@jupyter-widgets/controls",
      "model_module_version": "1.5.0",
      "model_name": "DescriptionStyleModel",
      "state": {
       "description_width": ""
      }
     },
     "c23c30e64967417b95de5717f2e4d64f": {
      "model_module": "@jupyter-widgets/controls",
      "model_module_version": "1.5.0",
      "model_name": "VBoxModel",
      "state": {
       "children": [
        "IPY_MODEL_dc9a4224433c4d26917ddd246235e530",
        "IPY_MODEL_d07177d8393f4022bec546bc0e3fef17",
        "IPY_MODEL_3c5b40d13da44ca5b6d3deca94cb22ea"
       ],
       "layout": "IPY_MODEL_35fc369be52544aca3c655a31e401e5f"
      }
     },
     "c23e1df439904b25b3bc8efe1e0b38fb": {
      "model_module": "@jupyter-widgets/base",
      "model_module_version": "1.2.0",
      "model_name": "LayoutModel",
      "state": {
       "width": "600px"
      }
     },
     "c2474bce077f4448bc70bbedd4a1ab6e": {
      "model_module": "@jupyter-widgets/base",
      "model_module_version": "1.2.0",
      "model_name": "LayoutModel",
      "state": {}
     },
     "c24aed7494b8488b9cd4398647eae96a": {
      "model_module": "@jupyter-widgets/base",
      "model_module_version": "1.2.0",
      "model_name": "LayoutModel",
      "state": {
       "justify_content": "center"
      }
     },
     "c25c9aab172e4ec28d33f6763a185b2b": {
      "model_module": "@jupyter-widgets/controls",
      "model_module_version": "1.5.0",
      "model_name": "CheckboxModel",
      "state": {
       "description": "Korrektheit",
       "disabled": false,
       "layout": "IPY_MODEL_14b64ca1b3b34bac9c481813647bd8f7",
       "style": "IPY_MODEL_c471817de2584f47a09d62b3ee1e697a",
       "value": false
      }
     },
     "c26213718c3f4f78b21235272feb6197": {
      "model_module": "@jupyter-widgets/controls",
      "model_module_version": "1.5.0",
      "model_name": "CheckboxModel",
      "state": {
       "description": "pragmatische",
       "disabled": false,
       "layout": "IPY_MODEL_16a7e853c64d462cb6bc84b552180214",
       "style": "IPY_MODEL_18255f811ed1467288785b00b87c5116",
       "value": false
      }
     },
     "c295c98d1ae04bc0b9ba63f820baa18b": {
      "model_module": "@jupyter-widgets/base",
      "model_module_version": "1.2.0",
      "model_name": "LayoutModel",
      "state": {
       "width": "600px"
      }
     },
     "c2e3c6dbd0cb4ea193d048b8a9ef38db": {
      "model_module": "@jupyter-widgets/controls",
      "model_module_version": "1.5.0",
      "model_name": "VBoxModel",
      "state": {
       "children": [
        "IPY_MODEL_34ebfd604c0d4f4dbda757b6422e0cf9",
        "IPY_MODEL_c81f26ee26884b0ab3062e267e27303c",
        "IPY_MODEL_a22c9095316e4ae9be514edbb59e0295",
        "IPY_MODEL_bed74f6cc61e4c088af3bf80b4a548ad"
       ],
       "layout": "IPY_MODEL_98110085a5b944b0ae2495327c9182c0"
      }
     },
     "c2e734a112a549d68b3404160ea2240a": {
      "model_module": "@jupyter-widgets/base",
      "model_module_version": "1.2.0",
      "model_name": "LayoutModel",
      "state": {
       "width": "250px"
      }
     },
     "c3149f68461f44f08f61493b183732ed": {
      "model_module": "@jupyter-widgets/controls",
      "model_module_version": "1.5.0",
      "model_name": "CheckboxModel",
      "state": {
       "description": "Eine unendliche Menge an Sätzen kann mit endlichen Mitteln beschrieben werden.",
       "disabled": false,
       "layout": "IPY_MODEL_c295c98d1ae04bc0b9ba63f820baa18b",
       "style": "IPY_MODEL_9f1fa328dfcc4249b814f212fd6df6cf",
       "value": false
      }
     },
     "c31cacb27957477ebd16ce1dd8caceb4": {
      "model_module": "@jupyter-widgets/base",
      "model_module_version": "1.2.0",
      "model_name": "LayoutModel",
      "state": {
       "width": "250px"
      }
     },
     "c38220c06b944538a8abdcb86b684e81": {
      "model_module": "@jupyter-widgets/controls",
      "model_module_version": "1.5.0",
      "model_name": "ButtonModel",
      "state": {
       "description": "Korrekt?",
       "layout": "IPY_MODEL_cccbda40bddf4910a3ac2b31cb90bbdd",
       "style": "IPY_MODEL_fc51ba614bca454f9698fbe551e8431e"
      }
     },
     "c3aae4faa24143969e7eca0ea866f897": {
      "model_module": "@jupyter-widgets/controls",
      "model_module_version": "1.5.0",
      "model_name": "ButtonModel",
      "state": {
       "description": "Parsebäume",
       "layout": "IPY_MODEL_920234a90ec94a968d201ea1dd1714cf",
       "style": "IPY_MODEL_060d7e3bf98f44d288c7e918737ba556"
      }
     },
     "c3ca223ba00e440884758e94d756c1aa": {
      "model_module": "@jupyter-widgets/base",
      "model_module_version": "1.2.0",
      "model_name": "LayoutModel",
      "state": {}
     },
     "c3d544b85d1f48f486b6c9fdc69447c4": {
      "model_module": "@jupyter-widgets/controls",
      "model_module_version": "1.5.0",
      "model_name": "ButtonStyleModel",
      "state": {}
     },
     "c3e4b0f9921a438cbde7c6161f538fda": {
      "model_module": "@jupyter-widgets/base",
      "model_module_version": "1.2.0",
      "model_name": "LayoutModel",
      "state": {
       "width": "150px"
      }
     },
     "c3e6c2d891ee425e9e2fa97fbdb88a9d": {
      "model_module": "@jupyter-widgets/controls",
      "model_module_version": "1.5.0",
      "model_name": "ButtonStyleModel",
      "state": {}
     },
     "c3e74535ee5444878df9af2c253d92b0": {
      "model_module": "@jupyter-widgets/controls",
      "model_module_version": "1.5.0",
      "model_name": "HTMLModel",
      "state": {
       "layout": "IPY_MODEL_ac04b64cfcb44f97abfa589557371712",
       "style": "IPY_MODEL_9d8799cb16c743ca92092b750b5430c2",
       "value": "<i>Vervollständigen Sie den Lückentext: </i>"
      }
     },
     "c3ebd119c8af4baaab3e060f47f91849": {
      "model_module": "@jupyter-widgets/controls",
      "model_module_version": "1.5.0",
      "model_name": "ButtonModel",
      "state": {
       "description": "Phrasenstruktur",
       "layout": "IPY_MODEL_c69898a65cfc4b8a8bf090ea0a92d09a",
       "style": "IPY_MODEL_d57fd055f3764fbb8652ef1a353a550d"
      }
     },
     "c40472af05b24e76badd4c0223ca6516": {
      "model_module": "@jupyter-widgets/controls",
      "model_module_version": "1.5.0",
      "model_name": "HBoxModel",
      "state": {
       "children": [
        "IPY_MODEL_0bec3adba486433aba7cb26dc1dbbd10"
       ],
       "layout": "IPY_MODEL_3460c6188cdd43edb845b14e302b5979"
      }
     },
     "c40cd27ac198424e92ce5d40c346cb49": {
      "model_module": "@jupyter-widgets/controls",
      "model_module_version": "1.5.0",
      "model_name": "ButtonStyleModel",
      "state": {}
     },
     "c4113f6d534f424681f4b9f367858f1e": {
      "model_module": "@jupyter-widgets/controls",
      "model_module_version": "1.5.0",
      "model_name": "DescriptionStyleModel",
      "state": {
       "description_width": ""
      }
     },
     "c413e1068d214d909c3f2c15644531af": {
      "model_module": "@jupyter-widgets/base",
      "model_module_version": "1.2.0",
      "model_name": "LayoutModel",
      "state": {
       "width": "500px"
      }
     },
     "c436ed84225a448184896a1d5d4fbb22": {
      "model_module": "@jupyter-widgets/base",
      "model_module_version": "1.2.0",
      "model_name": "LayoutModel",
      "state": {
       "width": "600px"
      }
     },
     "c43751d833cb4a2c9c8145c3710271b9": {
      "model_module": "@jupyter-widgets/base",
      "model_module_version": "1.2.0",
      "model_name": "LayoutModel",
      "state": {
       "justify_content": "center"
      }
     },
     "c4418c65b2d1481db001e2166c3c3813": {
      "model_module": "@jupyter-widgets/controls",
      "model_module_version": "1.5.0",
      "model_name": "CheckboxModel",
      "state": {
       "description": "Nomen ist Dependent einer NP-Phrase",
       "disabled": false,
       "layout": "IPY_MODEL_29a3f5b75edd4889b0bb884ccde37514",
       "style": "IPY_MODEL_418d4792406c4f9898d34bcbdd47b0f2",
       "value": false
      }
     },
     "c471817de2584f47a09d62b3ee1e697a": {
      "model_module": "@jupyter-widgets/controls",
      "model_module_version": "1.5.0",
      "model_name": "DescriptionStyleModel",
      "state": {
       "description_width": "initial"
      }
     },
     "c4b67442e2a94d8c96f8fdd1ebfd4100": {
      "model_module": "@jupyter-widgets/controls",
      "model_module_version": "1.5.0",
      "model_name": "DescriptionStyleModel",
      "state": {
       "description_width": "initial"
      }
     },
     "c4f18ec364f3403385fe72326a924a90": {
      "model_module": "@jupyter-widgets/base",
      "model_module_version": "1.2.0",
      "model_name": "LayoutModel",
      "state": {
       "width": "250px"
      }
     },
     "c50a7a6b62034d8abde2c1d8a0927af1": {
      "model_module": "@jupyter-widgets/controls",
      "model_module_version": "1.5.0",
      "model_name": "ButtonStyleModel",
      "state": {}
     },
     "c515e7f7c62d44a89cdf0654520a2045": {
      "model_module": "@jupyter-widgets/base",
      "model_module_version": "1.2.0",
      "model_name": "LayoutModel",
      "state": {
       "width": "600px"
      }
     },
     "c5169216d5b5416480c9df85fdddbdc5": {
      "model_module": "@jupyter-widgets/controls",
      "model_module_version": "1.5.0",
      "model_name": "CheckboxModel",
      "state": {
       "description": "Subjekt-Nominalphrase",
       "disabled": false,
       "layout": "IPY_MODEL_9b9ffef77c254533a634bf8210efeed3",
       "style": "IPY_MODEL_38bf2d12567c4cc3af9968ac1bfd81f6",
       "value": false
      }
     },
     "c52f50b5a7a445e1845da0f5ed177468": {
      "model_module": "@jupyter-widgets/controls",
      "model_module_version": "1.5.0",
      "model_name": "ButtonModel",
      "state": {
       "description": "formale Grammatik",
       "layout": "IPY_MODEL_b1a8d6d42b8f41ed80c3557ce6e99cf5",
       "style": "IPY_MODEL_7a40e5c828f0406ab9d1d4c5e5536960"
      }
     },
     "c552fdc61e974591a46a8e5fef021e3b": {
      "model_module": "@jupyter-widgets/controls",
      "model_module_version": "1.5.0",
      "model_name": "ButtonModel",
      "state": {
       "description": "Regelsystem",
       "layout": "IPY_MODEL_f337d7cc3c034a2090495a033dc3e66f",
       "style": "IPY_MODEL_16a98187b7424c20a34f1f6242e97a7e"
      }
     },
     "c59986b30cab4180af56bc56265729e7": {
      "model_module": "@jupyter-widgets/controls",
      "model_module_version": "1.5.0",
      "model_name": "CheckboxModel",
      "state": {
       "description": "Nomen ist Kopf einer NP-Phrase",
       "disabled": false,
       "layout": "IPY_MODEL_fb8a94a189a14112ab3fb1231da0cddd",
       "style": "IPY_MODEL_0de29de0dac24d859a345b069e5167c1",
       "value": false
      }
     },
     "c5a58b61dd5d483a95bdfef902e2e0ff": {
      "model_module": "@jupyter-widgets/controls",
      "model_module_version": "1.5.0",
      "model_name": "HTMLModel",
      "state": {
       "layout": "IPY_MODEL_72035324be104b3586011ad26ec0638a",
       "style": "IPY_MODEL_a36b72f4acc34d6080e2bde7d9e6cdea",
       "value": "<h4 style=\"font-size:14px;\">Welcher Grammatikbegriff liegt Satz 3 zugrunde?</h4>"
      }
     },
     "c5a5b8fc7eab4a7aa76785d5b602cf96": {
      "model_module": "@jupyter-widgets/base",
      "model_module_version": "1.2.0",
      "model_name": "LayoutModel",
      "state": {
       "width": "250px"
      }
     },
     "c5ca272c3b5643bf9f353a9ed8eaeb53": {
      "model_module": "@jupyter-widgets/controls",
      "model_module_version": "1.5.0",
      "model_name": "DescriptionStyleModel",
      "state": {
       "description_width": ""
      }
     },
     "c5ffeb6f3eca43bfa8b4e427320d2080": {
      "model_module": "@jupyter-widgets/controls",
      "model_module_version": "1.5.0",
      "model_name": "CheckboxModel",
      "state": {
       "description": "Dependenz",
       "disabled": false,
       "layout": "IPY_MODEL_ccac2b5b54e147f79b157672a4ed5b8e",
       "style": "IPY_MODEL_7b197edf2e0b4ae4bdcc821726eee4cf",
       "value": false
      }
     },
     "c616de58a816439ba25900cfa33250b4": {
      "model_module": "@jupyter-widgets/base",
      "model_module_version": "1.2.0",
      "model_name": "LayoutModel",
      "state": {
       "width": "250px"
      }
     },
     "c669611182f54f5eab29f755c5907910": {
      "model_module": "@jupyter-widgets/controls",
      "model_module_version": "1.5.0",
      "model_name": "ButtonStyleModel",
      "state": {}
     },
     "c69898a65cfc4b8a8bf090ea0a92d09a": {
      "model_module": "@jupyter-widgets/base",
      "model_module_version": "1.2.0",
      "model_name": "LayoutModel",
      "state": {
       "width": "250px"
      }
     },
     "c6a8d3df83b64090928b97562c30e8ff": {
      "model_module": "@jupyter-widgets/controls",
      "model_module_version": "1.5.0",
      "model_name": "ButtonStyleModel",
      "state": {}
     },
     "c6ace11bba2e4e29bc770aebf1811719": {
      "model_module": "@jupyter-widgets/controls",
      "model_module_version": "1.5.0",
      "model_name": "DescriptionStyleModel",
      "state": {
       "description_width": ""
      }
     },
     "c6cd7bc635dd4d2fba088a5c0b4ec720": {
      "model_module": "@jupyter-widgets/controls",
      "model_module_version": "1.5.0",
      "model_name": "ButtonStyleModel",
      "state": {}
     },
     "c6d64054eaa64b7fab8119940a23ceb2": {
      "model_module": "@jupyter-widgets/controls",
      "model_module_version": "1.5.0",
      "model_name": "ButtonStyleModel",
      "state": {}
     },
     "c6d9232ca3a24d379d55354edb607141": {
      "model_module": "@jupyter-widgets/base",
      "model_module_version": "1.2.0",
      "model_name": "LayoutModel",
      "state": {}
     },
     "c6e73dec58f8462a857e8a1572849ef1": {
      "model_module": "@jupyter-widgets/controls",
      "model_module_version": "1.5.0",
      "model_name": "DescriptionStyleModel",
      "state": {
       "description_width": "initial"
      }
     },
     "c6f4de681be44b0ca80001c834788ac5": {
      "model_module": "@jupyter-widgets/controls",
      "model_module_version": "1.5.0",
      "model_name": "ButtonModel",
      "state": {
       "description": "Klammernotation",
       "layout": "IPY_MODEL_4fecd3f99f8841abad46839a2af5c504",
       "style": "IPY_MODEL_7db2d95ed0494a338e08c222a039792c"
      }
     },
     "c71afe6e550448e9959f7a0aec22ae0a": {
      "model_module": "@jupyter-widgets/controls",
      "model_module_version": "1.5.0",
      "model_name": "HBoxModel",
      "state": {
       "children": [
        "IPY_MODEL_62209919e1154e56bea332c26a0d823a",
        "IPY_MODEL_6a55e6573d4b4eeea39bdad734de4bd7"
       ],
       "layout": "IPY_MODEL_e382145049064b088cdd36b53446616c"
      }
     },
     "c72c007c37304b6296bbf2e748aafa68": {
      "model_module": "@jupyter-widgets/base",
      "model_module_version": "1.2.0",
      "model_name": "LayoutModel",
      "state": {
       "width": "250px"
      }
     },
     "c791fb57baf94f67837ee0493bff9dc6": {
      "model_module": "@jupyter-widgets/controls",
      "model_module_version": "1.5.0",
      "model_name": "ButtonStyleModel",
      "state": {}
     },
     "c7a0c1367d764ec6a557f479d00d541f": {
      "model_module": "@jupyter-widgets/base",
      "model_module_version": "1.2.0",
      "model_name": "LayoutModel",
      "state": {}
     },
     "c7a62291cb45499bb080dcebcc27839e": {
      "model_module": "@jupyter-widgets/base",
      "model_module_version": "1.2.0",
      "model_name": "LayoutModel",
      "state": {
       "width": "250px"
      }
     },
     "c7b4339f66d248f3a2517b13678b1920": {
      "model_module": "@jupyter-widgets/controls",
      "model_module_version": "1.5.0",
      "model_name": "HTMLModel",
      "state": {
       "layout": "IPY_MODEL_dd2f1256aa384cf2adcb5f07c3d923f2",
       "style": "IPY_MODEL_eefeab5d6ede48e49a0b6aff7a4123b5",
       "value": "<h4 style=\"font-size:14px;\">der Grammatik, der sich auf die</h4>"
      }
     },
     "c7b5672fffd0486e96bb6a218cba18e5": {
      "model_module": "@jupyter-widgets/base",
      "model_module_version": "1.2.0",
      "model_name": "LayoutModel",
      "state": {}
     },
     "c7da39901de54b009d386e6f590f8701": {
      "model_module": "@jupyter-widgets/base",
      "model_module_version": "1.2.0",
      "model_name": "LayoutModel",
      "state": {
       "width": "250px"
      }
     },
     "c7ec4b7beb974904b8e0851bd4a92275": {
      "model_module": "@jupyter-widgets/controls",
      "model_module_version": "1.5.0",
      "model_name": "ButtonModel",
      "state": {
       "description": "Parser",
       "layout": "IPY_MODEL_c1086e2b34d34be19209766ed8c3c633",
       "style": "IPY_MODEL_7420c35ad40048bd9ed1a6aac82c9b3d"
      }
     },
     "c7fc9388f0a0467685927292cecc4cc4": {
      "model_module": "@jupyter-widgets/base",
      "model_module_version": "1.2.0",
      "model_name": "LayoutModel",
      "state": {
       "width": "250px"
      }
     },
     "c801842fd1634b88a29150aeb3985441": {
      "model_module": "@jupyter-widgets/controls",
      "model_module_version": "1.5.0",
      "model_name": "DescriptionStyleModel",
      "state": {
       "description_width": ""
      }
     },
     "c81f26ee26884b0ab3062e267e27303c": {
      "model_module": "@jupyter-widgets/controls",
      "model_module_version": "1.5.0",
      "model_name": "HTMLModel",
      "state": {
       "layout": "IPY_MODEL_2479f8ab96ab4c6daa408ee85566c757",
       "style": "IPY_MODEL_49cd413fbbbe475698bb0968f5ac6d40",
       "value": "<i>Wählen Sie die <ins>eine</ins> korrekte Antwort aus: </i>"
      }
     },
     "c8477f497e5d4d23b0efe05e617770df": {
      "model_module": "@jupyter-widgets/controls",
      "model_module_version": "1.5.0",
      "model_name": "ButtonModel",
      "state": {
       "description": "Regelbuch",
       "layout": "IPY_MODEL_530e5029f45f4a7f84f081cdb88525d4",
       "style": "IPY_MODEL_0cf4fcfae80b4217a4e61b52a82b7a42"
      }
     },
     "c84ad00c23744084879e11ea4a1f8501": {
      "model_module": "@jupyter-widgets/controls",
      "model_module_version": "1.5.0",
      "model_name": "HTMLModel",
      "state": {
       "layout": "IPY_MODEL_bb738f5603ac4544bf226d32c61b6df7",
       "style": "IPY_MODEL_2a2f5c180e994d1a80849ed3efba9e03",
       "value": "<i>Vervollständigen Sie den Lückentext: </i>"
      }
     },
     "c8a491c10e9a4cb3bb9aa55ace222002": {
      "model_module": "@jupyter-widgets/controls",
      "model_module_version": "1.5.0",
      "model_name": "HBoxModel",
      "state": {
       "children": [
        "IPY_MODEL_03ed9937e5b2428ca1d13fc7e833a965",
        "IPY_MODEL_a737cfa7ba6a492da0a5b5c70556467d"
       ],
       "layout": "IPY_MODEL_0c44c3c18e8a4e6381724c557ba3f153"
      }
     },
     "c8ab15707aca4c839c5b01c5a02a7325": {
      "model_module": "@jupyter-widgets/base",
      "model_module_version": "1.2.0",
      "model_name": "LayoutModel",
      "state": {
       "width": "250px"
      }
     },
     "c9156199fbe34f60b8e87784d66c6647": {
      "model_module": "@jupyter-widgets/base",
      "model_module_version": "1.2.0",
      "model_name": "LayoutModel",
      "state": {}
     },
     "c9904f341ec94d5983f5b297a3bfeed6": {
      "model_module": "@jupyter-widgets/controls",
      "model_module_version": "1.5.0",
      "model_name": "HTMLModel",
      "state": {
       "layout": "IPY_MODEL_6d7a0c61a77b480897d2168387fb430f",
       "style": "IPY_MODEL_b9adb7c593214b208e86d0d4baef18bd",
       "value": "<i>Wählen Sie die <ins>eine</ins> korrekte Antwort aus: </i>"
      }
     },
     "c9a8ff4754fa4a9cb88bd72fc98f398a": {
      "model_module": "@jupyter-widgets/base",
      "model_module_version": "1.2.0",
      "model_name": "LayoutModel",
      "state": {}
     },
     "c9ae4bef31154a2f95478381fcf97ccc": {
      "model_module": "@jupyter-widgets/controls",
      "model_module_version": "1.5.0",
      "model_name": "HTMLModel",
      "state": {
       "layout": "IPY_MODEL_62456b521a0f4b7fbdb061e5cb735e0b",
       "style": "IPY_MODEL_d3d66a7a10c44d53af831796b39d8441",
       "value": "<i>Markieren Sie <ins>alle</ins> passenden Antworten: </i>"
      }
     },
     "c9b363278de9465e963c1463e64d985c": {
      "model_module": "@jupyter-widgets/base",
      "model_module_version": "1.2.0",
      "model_name": "LayoutModel",
      "state": {
       "width": "250px"
      }
     },
     "c9c65822e80d49c592027a3a80a9a22d": {
      "model_module": "@jupyter-widgets/controls",
      "model_module_version": "1.5.0",
      "model_name": "HTMLModel",
      "state": {
       "layout": "IPY_MODEL_91c2c1e6d94645d39b90af7b80626f05",
       "style": "IPY_MODEL_cc04617b61954f75bc6de7dfa12e90fe",
       "value": "<h4 style=\"font-size:14px;\">Welche Funktion nimmt das Gerund ein, wenn das Nomen Kopf der Gerund-Nomen-Phrase ist?</h4>"
      }
     },
     "c9df8c7aefbb4a71879485b2e9ede631": {
      "model_module": "@jupyter-widgets/controls",
      "model_module_version": "1.5.0",
      "model_name": "ButtonStyleModel",
      "state": {}
     },
     "ca0a91b0105a429986e2363e0f71bab3": {
      "model_module": "@jupyter-widgets/base",
      "model_module_version": "1.2.0",
      "model_name": "LayoutModel",
      "state": {
       "justify_content": "center"
      }
     },
     "ca40546f300044d4a3b1b02b03b7aa51": {
      "model_module": "@jupyter-widgets/base",
      "model_module_version": "1.2.0",
      "model_name": "LayoutModel",
      "state": {
       "width": "150px"
      }
     },
     "ca51cc3243bc405b88f4ae1a1eb6f474": {
      "model_module": "@jupyter-widgets/base",
      "model_module_version": "1.2.0",
      "model_name": "LayoutModel",
      "state": {
       "width": "600px"
      }
     },
     "cad20bb0a87c49c19c731523d72c7b8b": {
      "model_module": "@jupyter-widgets/base",
      "model_module_version": "1.2.0",
      "model_name": "LayoutModel",
      "state": {
       "width": "250px"
      }
     },
     "cb009808e95a4c72a435ffddfbcd844d": {
      "model_module": "@jupyter-widgets/base",
      "model_module_version": "1.2.0",
      "model_name": "LayoutModel",
      "state": {
       "width": "600px"
      }
     },
     "cb14d047728740f18029e1f33aa39b53": {
      "model_module": "@jupyter-widgets/controls",
      "model_module_version": "1.5.0",
      "model_name": "ButtonModel",
      "state": {
       "description": "Theorie der Sprachstruktur",
       "layout": "IPY_MODEL_a0e0dcfc19b54ffcb6e24de473a6457c",
       "style": "IPY_MODEL_7dc6a223e8e945f79c0805937a93d565"
      }
     },
     "cb15e857d90740238a31a5a328d6ed22": {
      "model_module": "@jupyter-widgets/base",
      "model_module_version": "1.2.0",
      "model_name": "LayoutModel",
      "state": {
       "width": "600px"
      }
     },
     "cb3a319845e642ff858fc1d7edbb6645": {
      "model_module": "@jupyter-widgets/controls",
      "model_module_version": "1.5.0",
      "model_name": "DescriptionStyleModel",
      "state": {
       "description_width": "initial"
      }
     },
     "cb61a57f32fc401fa67eda2ff51c92c3": {
      "model_module": "@jupyter-widgets/base",
      "model_module_version": "1.2.0",
      "model_name": "LayoutModel",
      "state": {
       "width": "250px"
      }
     },
     "cb6faea54ab74586aa043704ea2c4748": {
      "model_module": "@jupyter-widgets/base",
      "model_module_version": "1.2.0",
      "model_name": "LayoutModel",
      "state": {}
     },
     "cbc6fc9a5754472c8c45805197aef478": {
      "model_module": "@jupyter-widgets/controls",
      "model_module_version": "1.5.0",
      "model_name": "ButtonStyleModel",
      "state": {}
     },
     "cc04617b61954f75bc6de7dfa12e90fe": {
      "model_module": "@jupyter-widgets/controls",
      "model_module_version": "1.5.0",
      "model_name": "DescriptionStyleModel",
      "state": {
       "description_width": ""
      }
     },
     "cc2105b8ce664b028304559e4335cc17": {
      "model_module": "@jupyter-widgets/controls",
      "model_module_version": "1.5.0",
      "model_name": "ButtonModel",
      "state": {
       "description": "Parsebäume",
       "layout": "IPY_MODEL_69471be1cc3d4699a2b30beef4c8ce9d",
       "style": "IPY_MODEL_400f85641447458e9fcf1387e8bf9276"
      }
     },
     "cc4490db5dad45f19289890578dfe58a": {
      "model_module": "@jupyter-widgets/base",
      "model_module_version": "1.2.0",
      "model_name": "LayoutModel",
      "state": {}
     },
     "cc57d2678758467f8ac0e43436c850cb": {
      "model_module": "@jupyter-widgets/base",
      "model_module_version": "1.2.0",
      "model_name": "LayoutModel",
      "state": {}
     },
     "cc71099e2f3c49d4a72e10e75877d25b": {
      "model_module": "@jupyter-widgets/controls",
      "model_module_version": "1.5.0",
      "model_name": "ButtonStyleModel",
      "state": {}
     },
     "cc7729aa17b84b3494ef53d6807b6a97": {
      "model_module": "@jupyter-widgets/controls",
      "model_module_version": "1.5.0",
      "model_name": "HTMLModel",
      "state": {
       "layout": "IPY_MODEL_405348db623f48e8a5c7bde2e3ba1b45",
       "style": "IPY_MODEL_12722ed48b254b2195e8fb1d2bbda7f2",
       "value": "<i>Wählen Sie die <ins>eine</ins> korrekte Antwort aus: </i>"
      }
     },
     "cc939fae13414bacbc89994bb4bd15f5": {
      "model_module": "@jupyter-widgets/controls",
      "model_module_version": "1.5.0",
      "model_name": "DescriptionStyleModel",
      "state": {
       "description_width": ""
      }
     },
     "ccac2b5b54e147f79b157672a4ed5b8e": {
      "model_module": "@jupyter-widgets/base",
      "model_module_version": "1.2.0",
      "model_name": "LayoutModel",
      "state": {
       "width": "600px"
      }
     },
     "ccbc175237c54cedb4325c9b16befa6a": {
      "model_module": "@jupyter-widgets/controls",
      "model_module_version": "1.5.0",
      "model_name": "DescriptionStyleModel",
      "state": {
       "description_width": ""
      }
     },
     "ccc04291d3e74c8badddeb32dc934605": {
      "model_module": "@jupyter-widgets/base",
      "model_module_version": "1.2.0",
      "model_name": "LayoutModel",
      "state": {}
     },
     "cccbda40bddf4910a3ac2b31cb90bbdd": {
      "model_module": "@jupyter-widgets/base",
      "model_module_version": "1.2.0",
      "model_name": "LayoutModel",
      "state": {
       "width": "250px"
      }
     },
     "ccd9ca5e45e14cf0b4ed7aa76e976f83": {
      "model_module": "@jupyter-widgets/base",
      "model_module_version": "1.2.0",
      "model_name": "LayoutModel",
      "state": {
       "width": "250px"
      }
     },
     "cce4cc830d8b43d88eb82368d1272e96": {
      "model_module": "@jupyter-widgets/base",
      "model_module_version": "1.2.0",
      "model_name": "LayoutModel",
      "state": {}
     },
     "cce6205370aa468391c565385ed20753": {
      "model_module": "@jupyter-widgets/base",
      "model_module_version": "1.2.0",
      "model_name": "LayoutModel",
      "state": {}
     },
     "cd08d329d88f4a0eb330ebeea7c4057b": {
      "model_module": "@jupyter-widgets/controls",
      "model_module_version": "1.5.0",
      "model_name": "VBoxModel",
      "state": {
       "children": [
        "IPY_MODEL_e69166344c9d417b97266a501ba5dac0",
        "IPY_MODEL_24fe88dd5c154bbebe54b9911766d105",
        "IPY_MODEL_e7bbd8c3688646f388aba79a708cd967",
        "IPY_MODEL_875f48de44f44502b957e604f9582d75"
       ],
       "layout": "IPY_MODEL_775bcd7c55da4f5f9dc3db398e696c03"
      }
     },
     "cd0d84ef6a6a487eae8624c824afd70e": {
      "model_module": "@jupyter-widgets/controls",
      "model_module_version": "1.5.0",
      "model_name": "DescriptionStyleModel",
      "state": {
       "description_width": ""
      }
     },
     "cd2c00872109401680e343741306067f": {
      "model_module": "@jupyter-widgets/controls",
      "model_module_version": "1.5.0",
      "model_name": "ButtonStyleModel",
      "state": {}
     },
     "cd3c3860aa954f8abd1965141572e061": {
      "model_module": "@jupyter-widgets/controls",
      "model_module_version": "1.5.0",
      "model_name": "ButtonModel",
      "state": {
       "description": "Keine der anderen Möglichkeiten",
       "layout": "IPY_MODEL_40687fe07bff406b83cdcd7718e0c841",
       "style": "IPY_MODEL_3991c19255054f379e9d4d3a5bf024c4"
      }
     },
     "cd712c7735144ce396c76c521cdd85a1": {
      "model_module": "@jupyter-widgets/base",
      "model_module_version": "1.2.0",
      "model_name": "LayoutModel",
      "state": {
       "width": "600px"
      }
     },
     "cd83e3a6f7d4453eb772d45df29cf3aa": {
      "model_module": "@jupyter-widgets/base",
      "model_module_version": "1.2.0",
      "model_name": "LayoutModel",
      "state": {}
     },
     "cda8786ab5bb4cafa15ac08d04152e9c": {
      "model_module": "@jupyter-widgets/controls",
      "model_module_version": "1.5.0",
      "model_name": "ButtonModel",
      "state": {
       "description": "Keine der anderen Möglichkeiten",
       "layout": "IPY_MODEL_dc04016b7ae442449f17be76edd9943d",
       "style": "IPY_MODEL_0eb0a944023944369d00fa5b3f273bad"
      }
     },
     "cdcd8c0b76104b8b8e69ee8bf4f050bc": {
      "model_module": "@jupyter-widgets/controls",
      "model_module_version": "1.5.0",
      "model_name": "HTMLModel",
      "state": {
       "layout": "IPY_MODEL_d6d7e9168e374d419ce1b1b49e218ea0",
       "style": "IPY_MODEL_734cbfbf81a04e14a1bfa1618e77027d",
       "value": "<h4 style=\"font-size:14px;\">der formalen Sprache; ein analysierter natürlichsprachlicher Satz ist ein in der formalen Grammatik ableitbares</h4>"
      }
     },
     "ce0a27f5a33d45f6abcaeff43b8ade23": {
      "model_module": "@jupyter-widgets/controls",
      "model_module_version": "1.5.0",
      "model_name": "ButtonStyleModel",
      "state": {}
     },
     "ce827bfb4bed4d2d914b7c251231e6c2": {
      "model_module": "@jupyter-widgets/base",
      "model_module_version": "1.2.0",
      "model_name": "LayoutModel",
      "state": {
       "width": "600px"
      }
     },
     "cea11002e0524087abac2b04a9f24669": {
      "model_module": "@jupyter-widgets/controls",
      "model_module_version": "1.5.0",
      "model_name": "ButtonStyleModel",
      "state": {}
     },
     "ceada009571f4427a0e414ece8365170": {
      "model_module": "@jupyter-widgets/base",
      "model_module_version": "1.2.0",
      "model_name": "LayoutModel",
      "state": {
       "width": "500px"
      }
     },
     "cebe63b0f872427c8807d0016552bd2f": {
      "model_module": "@jupyter-widgets/controls",
      "model_module_version": "1.5.0",
      "model_name": "VBoxModel",
      "state": {
       "children": [
        "IPY_MODEL_cf08dcc2ac574e669f5ddcfd6c8dcab4",
        "IPY_MODEL_4d1bfa0e3c864da6927226b1c320d812",
        "IPY_MODEL_a27db14c03094bccb0a53754a5200440",
        "IPY_MODEL_8f8c58168b6445ec95989f2fc61ab5be",
        "IPY_MODEL_6719a86a40ae4b22930254e4cb566c5f"
       ],
       "layout": "IPY_MODEL_35c9b1ac55464cbebe13b17dd6978e2b"
      }
     },
     "ced818ea6d574df9b6f0d24da6ed398a": {
      "model_module": "@jupyter-widgets/controls",
      "model_module_version": "1.5.0",
      "model_name": "HTMLModel",
      "state": {
       "layout": "IPY_MODEL_d48e478b928f4aca89a5a9de1defb228",
       "style": "IPY_MODEL_c0ac05217ece48e8a8a61822660a8f7d",
       "value": "<h4 style=\"font-size:14px;\">Konstituenz ist synonym zu:</h4>"
      }
     },
     "cf08dcc2ac574e669f5ddcfd6c8dcab4": {
      "model_module": "@jupyter-widgets/controls",
      "model_module_version": "1.5.0",
      "model_name": "CheckboxModel",
      "state": {
       "description": "morphologische",
       "disabled": false,
       "layout": "IPY_MODEL_d1d0167cedb3440dae2778c7f251a1c9",
       "style": "IPY_MODEL_4451c5cea2474a7c97cf445cc21e1726",
       "value": true
      }
     },
     "cf0e237033274e08ac9228e8a351b95d": {
      "model_module": "@jupyter-widgets/controls",
      "model_module_version": "1.5.0",
      "model_name": "ButtonStyleModel",
      "state": {}
     },
     "cf1f62d7ead9461ba1b36d461e7881d2": {
      "model_module": "@jupyter-widgets/controls",
      "model_module_version": "1.5.0",
      "model_name": "DescriptionStyleModel",
      "state": {
       "description_width": ""
      }
     },
     "cf1fd9d2c5f54f0ea621d6093e4dc911": {
      "model_module": "@jupyter-widgets/controls",
      "model_module_version": "1.5.0",
      "model_name": "HBoxModel",
      "state": {
       "children": [
        "IPY_MODEL_80187893685c44608b12e90efae11561"
       ],
       "layout": "IPY_MODEL_53395bae28aa4776a2b0c21845ea7ed8"
      }
     },
     "cf23b37c3fab4a678f6de34571a5ea69": {
      "model_module": "@jupyter-widgets/base",
      "model_module_version": "1.2.0",
      "model_name": "LayoutModel",
      "state": {
       "width": "250px"
      }
     },
     "cf38246d1cba49239f6d62ec631d4306": {
      "model_module": "@jupyter-widgets/controls",
      "model_module_version": "1.5.0",
      "model_name": "VBoxModel",
      "state": {
       "children": [
        "IPY_MODEL_8d4190e2635d418085e821f3de222165",
        "IPY_MODEL_94357312c1514bff945d75ffa94ad609",
        "IPY_MODEL_9c27b0f5d1434c889bfc462aeb1bf250",
        "IPY_MODEL_598b557e1cdc4ba1a6f290f8279e38db"
       ],
       "layout": "IPY_MODEL_ab696d9a9fa54faaa1dc8cc56eb66b2a"
      }
     },
     "cf3980a9e05f46c39e822eaaea63a306": {
      "model_module": "@jupyter-widgets/controls",
      "model_module_version": "1.5.0",
      "model_name": "HTMLModel",
      "state": {
       "layout": "IPY_MODEL_e9204bf1a2d14540ad4dc541c6d6be76",
       "style": "IPY_MODEL_b9c6e8a9477147e083ab827ca12cf772",
       "value": "<i>Vervollständigen Sie den Lückentext: </i>"
      }
     },
     "cf617596203c4befad794d1505ed2e21": {
      "model_module": "@jupyter-widgets/base",
      "model_module_version": "1.2.0",
      "model_name": "LayoutModel",
      "state": {
       "width": "250px"
      }
     },
     "cfa59685b29a47dbaf2c3fc97121166b": {
      "model_module": "@jupyter-widgets/controls",
      "model_module_version": "1.5.0",
      "model_name": "DropdownModel",
      "state": {
       "_options_labels": [
        "Grundsymbole",
        "Nicht-Terminale",
        " "
       ],
       "index": 2,
       "layout": "IPY_MODEL_ca40546f300044d4a3b1b02b03b7aa51",
       "style": "IPY_MODEL_e5e1b839755a47e39554fc87e8beccd3"
      }
     },
     "cfb0ddfcd5194803b62ed304bcc2c648": {
      "model_module": "@jupyter-widgets/controls",
      "model_module_version": "1.5.0",
      "model_name": "DescriptionStyleModel",
      "state": {
       "description_width": ""
      }
     },
     "cfd2ca36b6e848cc884f5d9d6c904d63": {
      "model_module": "@jupyter-widgets/controls",
      "model_module_version": "1.5.0",
      "model_name": "ButtonModel",
      "state": {
       "description": "Keine der anderen Möglichkeiten",
       "layout": "IPY_MODEL_3fa499861499452c8cc64514c498f68e",
       "style": "IPY_MODEL_b6371ae5ba88416486b5071b37fc0696"
      }
     },
     "cfe12d2a419d457ea46c8f86ab887404": {
      "model_module": "@jupyter-widgets/controls",
      "model_module_version": "1.5.0",
      "model_name": "ButtonStyleModel",
      "state": {}
     },
     "cff182ac821b4c8ea9990f1861756418": {
      "model_module": "@jupyter-widgets/base",
      "model_module_version": "1.2.0",
      "model_name": "LayoutModel",
      "state": {
       "width": "250px"
      }
     },
     "d02dbe58480d401f933975d4d6f7dca9": {
      "model_module": "@jupyter-widgets/base",
      "model_module_version": "1.2.0",
      "model_name": "LayoutModel",
      "state": {}
     },
     "d0560acb61f04bb38843cc5e1a1b832b": {
      "model_module": "@jupyter-widgets/base",
      "model_module_version": "1.2.0",
      "model_name": "LayoutModel",
      "state": {}
     },
     "d07177d8393f4022bec546bc0e3fef17": {
      "model_module": "@jupyter-widgets/controls",
      "model_module_version": "1.5.0",
      "model_name": "HTMLModel",
      "state": {
       "layout": "IPY_MODEL_c1fb76a789a244f99f89a76767e98328",
       "style": "IPY_MODEL_891c33d5669a494c874befc6e470f12d",
       "value": "<i>Wählen Sie die <ins>eine</ins> korrekte Antwort aus: </i>"
      }
     },
     "d097c2cb49ee4660b5fb07de643aeda2": {
      "model_module": "@jupyter-widgets/base",
      "model_module_version": "1.2.0",
      "model_name": "LayoutModel",
      "state": {
       "justify_content": "center"
      }
     },
     "d0b7048085294a06a496b47824999c11": {
      "model_module": "@jupyter-widgets/base",
      "model_module_version": "1.2.0",
      "model_name": "LayoutModel",
      "state": {}
     },
     "d0d654d60f59420c8011164ebb6409c6": {
      "model_module": "@jupyter-widgets/base",
      "model_module_version": "1.2.0",
      "model_name": "LayoutModel",
      "state": {
       "width": "600px"
      }
     },
     "d1095d9166134311af62281697d2327c": {
      "model_module": "@jupyter-widgets/controls",
      "model_module_version": "1.5.0",
      "model_name": "DescriptionStyleModel",
      "state": {
       "description_width": ""
      }
     },
     "d11779a27a9843b4bd47a65dea806f2d": {
      "model_module": "@jupyter-widgets/controls",
      "model_module_version": "1.5.0",
      "model_name": "HBoxModel",
      "state": {
       "children": [
        "IPY_MODEL_13bddff1dbe04c55a3f8c5129d714180"
       ],
       "layout": "IPY_MODEL_726ec761711846749ded3b6c01c78939"
      }
     },
     "d142a2bbbce2472ab5ac07867854818e": {
      "model_module": "@jupyter-widgets/controls",
      "model_module_version": "1.5.0",
      "model_name": "DescriptionStyleModel",
      "state": {
       "description_width": "initial"
      }
     },
     "d17e02cb4a4e4dc2800453c544a406b7": {
      "model_module": "@jupyter-widgets/controls",
      "model_module_version": "1.5.0",
      "model_name": "ButtonStyleModel",
      "state": {}
     },
     "d19c548b295947a987b06f504f8815a4": {
      "model_module": "@jupyter-widgets/base",
      "model_module_version": "1.2.0",
      "model_name": "LayoutModel",
      "state": {}
     },
     "d1d0167cedb3440dae2778c7f251a1c9": {
      "model_module": "@jupyter-widgets/base",
      "model_module_version": "1.2.0",
      "model_name": "LayoutModel",
      "state": {
       "width": "600px"
      }
     },
     "d1d31d667f4844e9aa0941d3b6fdbeae": {
      "model_module": "@jupyter-widgets/base",
      "model_module_version": "1.2.0",
      "model_name": "LayoutModel",
      "state": {
       "width": "250px"
      }
     },
     "d1f4fd3ce94a47bdac6d999934bd658b": {
      "model_module": "@jupyter-widgets/controls",
      "model_module_version": "1.5.0",
      "model_name": "DescriptionStyleModel",
      "state": {
       "description_width": "initial"
      }
     },
     "d20871af380c408eaab167e870c0cccd": {
      "model_module": "@jupyter-widgets/base",
      "model_module_version": "1.2.0",
      "model_name": "LayoutModel",
      "state": {}
     },
     "d21ae339587e477c958d9de94b1f2085": {
      "model_module": "@jupyter-widgets/base",
      "model_module_version": "1.2.0",
      "model_name": "LayoutModel",
      "state": {}
     },
     "d24c479e85f94ff2b090c74f0651c53f": {
      "model_module": "@jupyter-widgets/controls",
      "model_module_version": "1.5.0",
      "model_name": "DescriptionStyleModel",
      "state": {
       "description_width": ""
      }
     },
     "d2681365f3a74eb3858630ab5eb36b93": {
      "model_module": "@jupyter-widgets/controls",
      "model_module_version": "1.5.0",
      "model_name": "ButtonModel",
      "state": {
       "description": "Korrekt?",
       "layout": "IPY_MODEL_2e51b87d436546569f11d24fc470f6ca",
       "style": "IPY_MODEL_b5f3a2c9a5054707bfca6b263a14f160"
      }
     },
     "d273213164d142778e4eb0a3807a0b7f": {
      "model_module": "@jupyter-widgets/controls",
      "model_module_version": "1.5.0",
      "model_name": "DescriptionStyleModel",
      "state": {
       "description_width": ""
      }
     },
     "d293c2b43fd6425eb26946bc55d36906": {
      "model_module": "@jupyter-widgets/controls",
      "model_module_version": "1.5.0",
      "model_name": "ButtonStyleModel",
      "state": {}
     },
     "d2a1e5cf711f45078d83692b512b2f2b": {
      "model_module": "@jupyter-widgets/controls",
      "model_module_version": "1.5.0",
      "model_name": "HTMLModel",
      "state": {
       "layout": "IPY_MODEL_558b673051cd4c9a8ea962558cf81f28",
       "style": "IPY_MODEL_943853b883544687877761b3484e31ba",
       "value": "<h4 style=\"font-size:14px;\">Welche Gesetzmäßigkeiten umfasst die Grammatik als Regelsystem?</h4>"
      }
     },
     "d2b651698a5544ce827f21d64fe37ad2": {
      "model_module": "@jupyter-widgets/controls",
      "model_module_version": "1.5.0",
      "model_name": "CheckboxModel",
      "state": {
       "description": "Dependenz",
       "disabled": false,
       "layout": "IPY_MODEL_c0d0d0267d0846158c4a71f3bad8cc35",
       "style": "IPY_MODEL_f29fd7829abc4a1eae0a15052c576b16",
       "value": false
      }
     },
     "d2f474bc39ed44be99e6c590802824be": {
      "model_module": "@jupyter-widgets/controls",
      "model_module_version": "1.5.0",
      "model_name": "ButtonModel",
      "state": {
       "description": "Keine der anderen Möglichkeiten",
       "layout": "IPY_MODEL_d6338d995eb54b55a9a0b6ce204ac2b8",
       "style": "IPY_MODEL_797ddeaebf7744258ec08932c13c351b"
      }
     },
     "d32f9e49ac8d48489887dbb63ba0034b": {
      "model_module": "@jupyter-widgets/base",
      "model_module_version": "1.2.0",
      "model_name": "LayoutModel",
      "state": {
       "width": "600px"
      }
     },
     "d3587a326dbd4a3fa33695085784258e": {
      "model_module": "@jupyter-widgets/base",
      "model_module_version": "1.2.0",
      "model_name": "LayoutModel",
      "state": {
       "justify_content": "center"
      }
     },
     "d376de5957504db3a473daa644394496": {
      "model_module": "@jupyter-widgets/controls",
      "model_module_version": "1.5.0",
      "model_name": "HTMLModel",
      "state": {
       "layout": "IPY_MODEL_6d541ace529e447cb59912f1b7822055",
       "style": "IPY_MODEL_f7c0ad20710249f1bf9bbd5bdd669c51",
       "value": "<h4 style=\"font-size:14px;\">Welcher Grammatikbegriff liegt Satz 2 zugrunde?</h4>"
      }
     },
     "d3c436113df346e9ab2680a172e48284": {
      "model_module": "@jupyter-widgets/base",
      "model_module_version": "1.2.0",
      "model_name": "LayoutModel",
      "state": {}
     },
     "d3d66a7a10c44d53af831796b39d8441": {
      "model_module": "@jupyter-widgets/controls",
      "model_module_version": "1.5.0",
      "model_name": "DescriptionStyleModel",
      "state": {
       "description_width": ""
      }
     },
     "d3ffcbc772bd4478b596ee9381423b33": {
      "model_module": "@jupyter-widgets/controls",
      "model_module_version": "1.5.0",
      "model_name": "ButtonModel",
      "state": {
       "description": "formale Grammatik",
       "layout": "IPY_MODEL_d4bbfca1b95f422aa5ace0ac78992d82",
       "style": "IPY_MODEL_91fa0244311343e58ffa29e5265ba8f6"
      }
     },
     "d4245026065a4b91982c558add2920ae": {
      "model_module": "@jupyter-widgets/base",
      "model_module_version": "1.2.0",
      "model_name": "LayoutModel",
      "state": {
       "width": "600px"
      }
     },
     "d468c0c8366a47be8b06b02dc063485d": {
      "model_module": "@jupyter-widgets/controls",
      "model_module_version": "1.5.0",
      "model_name": "ButtonModel",
      "state": {
       "description": "Baumdiagramm",
       "layout": "IPY_MODEL_ec832cf46c824d16bf9f7aa25884c475",
       "style": "IPY_MODEL_76604bac1bb34d4a879335f2fe47f5ab"
      }
     },
     "d48e478b928f4aca89a5a9de1defb228": {
      "model_module": "@jupyter-widgets/base",
      "model_module_version": "1.2.0",
      "model_name": "LayoutModel",
      "state": {
       "justify_content": "center"
      }
     },
     "d49a82972b5546a8a1020066a349d2d0": {
      "model_module": "@jupyter-widgets/controls",
      "model_module_version": "1.5.0",
      "model_name": "DescriptionStyleModel",
      "state": {
       "description_width": "initial"
      }
     },
     "d4b8de0ac26145c692166814b12e704e": {
      "model_module": "@jupyter-widgets/controls",
      "model_module_version": "1.5.0",
      "model_name": "HTMLModel",
      "state": {
       "layout": "IPY_MODEL_092128c8e8a34891aaaa2c324504e003",
       "style": "IPY_MODEL_120d9db385cf43efbf62f338460bedfd",
       "value": "<h4 style=\"font-size:14px;\">Bzgl. welcher (nicht an der Oberflächensyntax ersichtlichen) Eigenschaft unterscheiden sich die PPs in den beiden Analysen?</h4>"
      }
     },
     "d4bbfca1b95f422aa5ace0ac78992d82": {
      "model_module": "@jupyter-widgets/base",
      "model_module_version": "1.2.0",
      "model_name": "LayoutModel",
      "state": {
       "width": "250px"
      }
     },
     "d4d160e720c046d28bfcbf9b5b3f8acf": {
      "model_module": "@jupyter-widgets/controls",
      "model_module_version": "1.5.0",
      "model_name": "DescriptionStyleModel",
      "state": {
       "description_width": ""
      }
     },
     "d4fb0179a7614fc1a6fd74b3a816ceef": {
      "model_module": "@jupyter-widgets/base",
      "model_module_version": "1.2.0",
      "model_name": "LayoutModel",
      "state": {}
     },
     "d51b11f118c341cab7deb611b965d119": {
      "model_module": "@jupyter-widgets/controls",
      "model_module_version": "1.5.0",
      "model_name": "DescriptionStyleModel",
      "state": {
       "description_width": "initial"
      }
     },
     "d531ace199b143f0b86c49e3eb2f46d6": {
      "model_module": "@jupyter-widgets/controls",
      "model_module_version": "1.5.0",
      "model_name": "DescriptionStyleModel",
      "state": {
       "description_width": ""
      }
     },
     "d57fd055f3764fbb8652ef1a353a550d": {
      "model_module": "@jupyter-widgets/controls",
      "model_module_version": "1.5.0",
      "model_name": "ButtonStyleModel",
      "state": {}
     },
     "d59acbff18a447fb95a9fae5e5e3555a": {
      "model_module": "@jupyter-widgets/controls",
      "model_module_version": "1.5.0",
      "model_name": "HTMLModel",
      "state": {
       "layout": "IPY_MODEL_561f67768cf14fdfa6a2f323e6f9ceae",
       "style": "IPY_MODEL_d273213164d142778e4eb0a3807a0b7f",
       "value": "<h4 style=\"font-size:14px;\">Hinsichtlich welcher syntaktischen Grundprinzipien werden natürliche Sprachen mit formalen Methoden analysiert?</h4>"
      }
     },
     "d5cc9da7cca642388ef7374df6f2215a": {
      "model_module": "@jupyter-widgets/controls",
      "model_module_version": "1.5.0",
      "model_name": "ButtonStyleModel",
      "state": {}
     },
     "d5e6d574ebb840c399a32f0c1f0c393d": {
      "model_module": "@jupyter-widgets/controls",
      "model_module_version": "1.5.0",
      "model_name": "ButtonStyleModel",
      "state": {}
     },
     "d5eb406da1fd4745973fab2c21fd89e0": {
      "model_module": "@jupyter-widgets/controls",
      "model_module_version": "1.5.0",
      "model_name": "HTMLModel",
      "state": {
       "layout": "IPY_MODEL_eabd41e23c994073a3cc74906f7fffea",
       "style": "IPY_MODEL_621a92302d2143a6a975ecbdb3e4e882",
       "value": "<i>Markieren Sie <ins>alle</ins> passenden Antworten: </i>"
      }
     },
     "d5f0e79fefa34357968e62ebcb8e13a6": {
      "model_module": "@jupyter-widgets/base",
      "model_module_version": "1.2.0",
      "model_name": "LayoutModel",
      "state": {}
     },
     "d6338d995eb54b55a9a0b6ce204ac2b8": {
      "model_module": "@jupyter-widgets/base",
      "model_module_version": "1.2.0",
      "model_name": "LayoutModel",
      "state": {
       "width": "250px"
      }
     },
     "d66e44504ca844abaacbaba54f735f95": {
      "model_module": "@jupyter-widgets/base",
      "model_module_version": "1.2.0",
      "model_name": "LayoutModel",
      "state": {
       "justify_content": "center"
      }
     },
     "d676ba3a098e403cbc568690e010e6a3": {
      "model_module": "@jupyter-widgets/controls",
      "model_module_version": "1.5.0",
      "model_name": "HTMLModel",
      "state": {
       "layout": "IPY_MODEL_4c81ef67ab0d44dfa4ac8f221cadf58e",
       "style": "IPY_MODEL_25a62ffff6bb4eaa9cc4e82aacc64963",
       "value": "<h4 style=\"font-size:14px;\">Die Alternative <code>tree = parser.parse(sent)</code> ist weniger wünschenswert, da im Allgemeinen ________ Parse-Tree möglich ist.</h4>"
      }
     },
     "d6b2f51f70ea45aa9d5f50a4268fd2f8": {
      "model_module": "@jupyter-widgets/base",
      "model_module_version": "1.2.0",
      "model_name": "LayoutModel",
      "state": {
       "width": "250px"
      }
     },
     "d6ca365a92df4493aa1c10c0aa1ec3b0": {
      "model_module": "@jupyter-widgets/controls",
      "model_module_version": "1.5.0",
      "model_name": "DescriptionStyleModel",
      "state": {
       "description_width": ""
      }
     },
     "d6cadf47e49a43c2aeba6da8e7fb514a": {
      "model_module": "@jupyter-widgets/controls",
      "model_module_version": "1.5.0",
      "model_name": "HTMLModel",
      "state": {
       "layout": "IPY_MODEL_ba54c462f98e42f98f834621931270e0",
       "style": "IPY_MODEL_1c1673a0cf0346cba0c642e3c9f8608e",
       "value": "<i>Wählen Sie die <ins>eine</ins> korrekte Antwort aus: </i>"
      }
     },
     "d6d7e9168e374d419ce1b1b49e218ea0": {
      "model_module": "@jupyter-widgets/base",
      "model_module_version": "1.2.0",
      "model_name": "LayoutModel",
      "state": {}
     },
     "d6f2928fe46b47949b16a92dd7f752e5": {
      "model_module": "@jupyter-widgets/controls",
      "model_module_version": "1.5.0",
      "model_name": "HTMLModel",
      "state": {
       "layout": "IPY_MODEL_52a625cb0ec54079816f689e59a1cba5",
       "style": "IPY_MODEL_8835d0ae4e9341458b2df6866028f850",
       "value": "<i>Wählen Sie die <ins>eine</ins> korrekte Antwort aus: </i>"
      }
     },
     "d718ba0d0cf645caaef152fa7ac05753": {
      "model_module": "@jupyter-widgets/controls",
      "model_module_version": "1.5.0",
      "model_name": "HTMLModel",
      "state": {
       "layout": "IPY_MODEL_65c8f77852614b16a2f215384c82e43a",
       "style": "IPY_MODEL_1350a5f101674da9a5c21584bd34d6ba",
       "value": "<i>Wählen Sie die <ins>eine</ins> korrekte Antwort aus: </i>"
      }
     },
     "d72ed6db764d4fcb9c972e9ff465ff48": {
      "model_module": "@jupyter-widgets/controls",
      "model_module_version": "1.5.0",
      "model_name": "HTMLModel",
      "state": {
       "layout": "IPY_MODEL_0e2d20a959a349af8020f9e7611541d1",
       "style": "IPY_MODEL_5ee295d3b95a47559c14a6f84647d0e4",
       "value": "<i>Wählen Sie die <ins>eine</ins> korrekte Antwort aus: </i>"
      }
     },
     "d734668fcb37465bbf44a0c148618cd7": {
      "model_module": "@jupyter-widgets/controls",
      "model_module_version": "1.5.0",
      "model_name": "ButtonModel",
      "state": {
       "description": "Regelsystem",
       "layout": "IPY_MODEL_8e411d1ea8314fad9de81cf8138d63de",
       "style": "IPY_MODEL_e1ec86c847a3440ab960c5c6ec7172f3"
      }
     },
     "d75d61623a1e461e93da4c77251bd72a": {
      "model_module": "@jupyter-widgets/controls",
      "model_module_version": "1.5.0",
      "model_name": "DescriptionStyleModel",
      "state": {
       "description_width": ""
      }
     },
     "d7670e7ec1ab4a05bd674df089ba825d": {
      "model_module": "@jupyter-widgets/controls",
      "model_module_version": "1.5.0",
      "model_name": "ButtonStyleModel",
      "state": {}
     },
     "d7b1ed3b894048c4b786167501ae7639": {
      "model_module": "@jupyter-widgets/controls",
      "model_module_version": "1.5.0",
      "model_name": "HTMLModel",
      "state": {
       "layout": "IPY_MODEL_b3ff90dc24904eaa89703386c882bbc3",
       "style": "IPY_MODEL_444c69d3dbce4978b0216f3412ba89be",
       "value": "<h4 style=\"font-size:14px;\">Was ist der Fall, wenn die PP ein Adverbial ist?</h4>"
      }
     },
     "d7b4648ec74c4c27a35133d1203362e9": {
      "model_module": "@jupyter-widgets/controls",
      "model_module_version": "1.5.0",
      "model_name": "DescriptionStyleModel",
      "state": {
       "description_width": ""
      }
     },
     "d80c66236d934eb0bc8afaa3eadadf13": {
      "model_module": "@jupyter-widgets/controls",
      "model_module_version": "1.5.0",
      "model_name": "DescriptionStyleModel",
      "state": {
       "description_width": "initial"
      }
     },
     "d811ba59939c475db08bc8d6b74625b2": {
      "model_module": "@jupyter-widgets/controls",
      "model_module_version": "1.5.0",
      "model_name": "ButtonStyleModel",
      "state": {}
     },
     "d815aa20b74e4c1aaee2f4008c15de1a": {
      "model_module": "@jupyter-widgets/controls",
      "model_module_version": "1.5.0",
      "model_name": "ButtonModel",
      "state": {
       "description": "Abhängigkeitsstruktur",
       "layout": "IPY_MODEL_5c81eb985e6540f99be975db134e0e06",
       "style": "IPY_MODEL_660998c12ab841c2806a19cb5f1e7bd1"
      }
     },
     "d824303e249f4e209849b3f0df938472": {
      "model_module": "@jupyter-widgets/base",
      "model_module_version": "1.2.0",
      "model_name": "LayoutModel",
      "state": {}
     },
     "d8684260494945c483ab79ec3f3c4fe6": {
      "model_module": "@jupyter-widgets/base",
      "model_module_version": "1.2.0",
      "model_name": "LayoutModel",
      "state": {}
     },
     "d8bb137a2f184099bc21c5bdfb4b529c": {
      "model_module": "@jupyter-widgets/base",
      "model_module_version": "1.2.0",
      "model_name": "LayoutModel",
      "state": {
       "width": "250px"
      }
     },
     "d8d274b318114f6b8ada6b421ca1ec1c": {
      "model_module": "@jupyter-widgets/controls",
      "model_module_version": "1.5.0",
      "model_name": "VBoxModel",
      "state": {
       "children": [
        "IPY_MODEL_89945a28ffed45fc87e8a5e07b70319e",
        "IPY_MODEL_e3e0e2899aad469f84b9689c5c8d7975",
        "IPY_MODEL_c3149f68461f44f08f61493b183732ed"
       ],
       "layout": "IPY_MODEL_e5bd52fa740c481aa1f1a8520b9e9973"
      }
     },
     "d90b93f7b4f5462abd43ca07df1152fd": {
      "model_module": "@jupyter-widgets/controls",
      "model_module_version": "1.5.0",
      "model_name": "ButtonModel",
      "state": {
       "description": "Korrekt?",
       "layout": "IPY_MODEL_366588bd3f4f4c46b1e89956c9cc943c",
       "style": "IPY_MODEL_edf7b2afaa504a149625acdea14b8113"
      }
     },
     "d9839101d3a24c5c8ce28940648e9536": {
      "model_module": "@jupyter-widgets/base",
      "model_module_version": "1.2.0",
      "model_name": "LayoutModel",
      "state": {
       "justify_content": "center"
      }
     },
     "d9aefc40bfe5411daf4ad4a8443b9ef0": {
      "model_module": "@jupyter-widgets/controls",
      "model_module_version": "1.5.0",
      "model_name": "ButtonStyleModel",
      "state": {}
     },
     "d9e272d843af457a950323cc6fff3921": {
      "model_module": "@jupyter-widgets/controls",
      "model_module_version": "1.5.0",
      "model_name": "DescriptionStyleModel",
      "state": {
       "description_width": "initial"
      }
     },
     "da58e703c3fc418f8fa3f1e6a66bef8c": {
      "model_module": "@jupyter-widgets/controls",
      "model_module_version": "1.5.0",
      "model_name": "ButtonModel",
      "state": {
       "description": "Korrekt?",
       "layout": "IPY_MODEL_8e384610ae09440da92060399c49e229",
       "style": "IPY_MODEL_d293c2b43fd6425eb26946bc55d36906"
      }
     },
     "da846afe861940a686d43a814759c351": {
      "model_module": "@jupyter-widgets/controls",
      "model_module_version": "1.5.0",
      "model_name": "DescriptionStyleModel",
      "state": {
       "description_width": ""
      }
     },
     "da93f9d1851d4184b6b73340988c17df": {
      "model_module": "@jupyter-widgets/controls",
      "model_module_version": "1.5.0",
      "model_name": "HTMLModel",
      "state": {
       "layout": "IPY_MODEL_6df86fdbae95487d89b33d00f1fc830d",
       "style": "IPY_MODEL_fa9f0d904f1b44d89b7bc9a890d3b810",
       "value": "<h4 style=\"font-size:14px;\">Welche Gesetzmäßigkeiten umfasst die Grammatik als Regelsystem?</h4>"
      }
     },
     "dabccd737be34760bf813d4fb0035f74": {
      "model_module": "@jupyter-widgets/controls",
      "model_module_version": "1.5.0",
      "model_name": "VBoxModel",
      "state": {
       "children": [
        "IPY_MODEL_0b5a09fd229242cc970dc2001b1eaa6e",
        "IPY_MODEL_d5eb406da1fd4745973fab2c21fd89e0",
        "IPY_MODEL_3982e9f9dea840f38de9bebb72234da4",
        "IPY_MODEL_e049658eae2b48648ec4a80213b15fb6"
       ],
       "layout": "IPY_MODEL_626a16946b2f4430bc3857b9e30cd2f3"
      }
     },
     "dacac433f2ab4774884378ba7a61598e": {
      "model_module": "@jupyter-widgets/controls",
      "model_module_version": "1.5.0",
      "model_name": "CheckboxModel",
      "state": {
       "description": "Konstituenz",
       "disabled": false,
       "layout": "IPY_MODEL_c515e7f7c62d44a89cdf0654520a2045",
       "style": "IPY_MODEL_f9cd89a3a2c14d59a4bedaf18324894e",
       "value": false
      }
     },
     "dafc54d48236465e90b422dc4b9dc06c": {
      "model_module": "@jupyter-widgets/controls",
      "model_module_version": "1.5.0",
      "model_name": "CheckboxModel",
      "state": {
       "description": "Dependenzgraph mit Phrasenlabels als Knoten",
       "disabled": false,
       "layout": "IPY_MODEL_9749f86c2b3e4c23b44f2be5c95df753",
       "style": "IPY_MODEL_6e7c3ba3775d480797f06b4bddc5e56e",
       "value": false
      }
     },
     "db3a0fc44a594618bb7d8a378a5e3d59": {
      "model_module": "@jupyter-widgets/controls",
      "model_module_version": "1.5.0",
      "model_name": "ButtonStyleModel",
      "state": {}
     },
     "dbe3689e37cc4646bfe63beb8a1cf2eb": {
      "model_module": "@jupyter-widgets/controls",
      "model_module_version": "1.5.0",
      "model_name": "VBoxModel",
      "state": {
       "children": [
        "IPY_MODEL_a936ffc6b7a9497fb661443083b6d121",
        "IPY_MODEL_7611a0c829f243b194735e245dfea540",
        "IPY_MODEL_e33236b24b9c45079944a17663e2b541",
        "IPY_MODEL_b4855c7c1a3449b9885f84c6e492ee38"
       ],
       "layout": "IPY_MODEL_38259025337c4f789bf9e4e4be813c5b"
      }
     },
     "dc04016b7ae442449f17be76edd9943d": {
      "model_module": "@jupyter-widgets/base",
      "model_module_version": "1.2.0",
      "model_name": "LayoutModel",
      "state": {
       "width": "250px"
      }
     },
     "dc1bc0bfb7614bb785f1f4df09c4aa6c": {
      "model_module": "@jupyter-widgets/controls",
      "model_module_version": "1.5.0",
      "model_name": "ButtonModel",
      "state": {
       "description": "Objekt",
       "layout": "IPY_MODEL_ccd9ca5e45e14cf0b4ed7aa76e976f83",
       "style": "IPY_MODEL_7e2022a584d8402fa88c971d8530a21a"
      }
     },
     "dc38234470dd43d8838d1d176807d959": {
      "model_module": "@jupyter-widgets/controls",
      "model_module_version": "1.5.0",
      "model_name": "DescriptionStyleModel",
      "state": {
       "description_width": ""
      }
     },
     "dc3b99c7674f461c82ba90bf15c3f910": {
      "model_module": "@jupyter-widgets/controls",
      "model_module_version": "1.5.0",
      "model_name": "HTMLModel",
      "state": {
       "layout": "IPY_MODEL_09b6023801b44f50af379db12386238d",
       "style": "IPY_MODEL_3c3779e92e0940ccab5172c97d249192",
       "value": "<h4 style=\"font-size:14px;\">Hinsichtlich welcher syntaktischen Grundprinzipien werden natürliche Sprachen mit formalen Methoden analysiert?</h4>"
      }
     },
     "dc4262ddc47d43b78d9b8a8f68f5b3c0": {
      "model_module": "@jupyter-widgets/controls",
      "model_module_version": "1.5.0",
      "model_name": "DescriptionStyleModel",
      "state": {
       "description_width": "initial"
      }
     },
     "dc4a9b4005ed4dc4b80d5b64564d05ed": {
      "model_module": "@jupyter-widgets/base",
      "model_module_version": "1.2.0",
      "model_name": "LayoutModel",
      "state": {}
     },
     "dc680ae177a74461b5ade3446f77f2f7": {
      "model_module": "@jupyter-widgets/controls",
      "model_module_version": "1.5.0",
      "model_name": "ButtonStyleModel",
      "state": {}
     },
     "dc81135139e649cc8a1ac6dbea6821ed": {
      "model_module": "@jupyter-widgets/controls",
      "model_module_version": "1.5.0",
      "model_name": "HTMLModel",
      "state": {
       "layout": "IPY_MODEL_80228ec048ac45a7b3f52558bfd2243c",
       "style": "IPY_MODEL_e4c192cb258f4bf5bf8aae4cc7be5fd2",
       "value": "<h4 style=\"font-size:14px;\">Welcher Grammatikbegriff liegt Satz 1 zugrunde?</h4>"
      }
     },
     "dc82e9b9ee3242dba9cfb6218bc1063a": {
      "model_module": "@jupyter-widgets/controls",
      "model_module_version": "1.5.0",
      "model_name": "ButtonModel",
      "state": {
       "description": "Korrekt?",
       "layout": "IPY_MODEL_2122e06ae94c4195b5ebbdad2a3f5ec7",
       "style": "IPY_MODEL_e4890c0265514b73944a5755e5409c0b"
      }
     },
     "dc9a4224433c4d26917ddd246235e530": {
      "model_module": "@jupyter-widgets/controls",
      "model_module_version": "1.5.0",
      "model_name": "HTMLModel",
      "state": {
       "layout": "IPY_MODEL_0bb4c6819cf54fba9137794b7bf6e08e",
       "style": "IPY_MODEL_20ff6fccb72b4d5c8a1ed4e56f827ee4",
       "value": "<h4 style=\"font-size:14px;\">Die Alternative <code>tree = parser.parse(sent)</code> ist weniger wünschenswert, da im Allgemeinen ________ Parse-Tree möglich ist.</h4>"
      }
     },
     "dcaaf9a82e1b441db3b1421216d986b0": {
      "model_module": "@jupyter-widgets/controls",
      "model_module_version": "1.5.0",
      "model_name": "VBoxModel",
      "state": {
       "children": [
        "IPY_MODEL_040ec667367a42a89f163ef14401d99e",
        "IPY_MODEL_2a7a356eb4ba415397f512291d6a2e75",
        "IPY_MODEL_296bc388a7ed4ee58ccd4aa5c0d133ef",
        "IPY_MODEL_b3f72f05f820470ab7db01e0be938df8",
        "IPY_MODEL_0be9369472d040a78eb4fdedcd9f736d"
       ],
       "layout": "IPY_MODEL_9c33e49af44b4e6aa704381c166a0465"
      }
     },
     "dcccb5bb0c9b4e3e8d46f095bbfa6a11": {
      "model_module": "@jupyter-widgets/controls",
      "model_module_version": "1.5.0",
      "model_name": "DropdownModel",
      "state": {
       "_options_labels": [
        "Oberbegriff",
        "Synonym",
        "Teilbereich",
        " "
       ],
       "index": 3,
       "layout": "IPY_MODEL_2f2d5dcb5e8740988631292538836085",
       "style": "IPY_MODEL_da846afe861940a686d43a814759c351"
      }
     },
     "dce14714d57e4581bc89b4c68bf84cfb": {
      "model_module": "@jupyter-widgets/controls",
      "model_module_version": "1.5.0",
      "model_name": "BoxModel",
      "state": {
       "children": [
        "IPY_MODEL_e964ba7d0d404993888d189930072be8",
        "IPY_MODEL_5f12f0f94bd34849a22d01df915ba415",
        "IPY_MODEL_2d84f3a609d94fb78439c87edf79f5dd",
        "IPY_MODEL_5edaf1e2335747e1975f2d1e7ab1375e",
        "IPY_MODEL_ffa5a63a8c6f4e1aae1132da88429c0c"
       ],
       "layout": "IPY_MODEL_0859d4bc02a84e5c8ee91efdafd7b980"
      }
     },
     "dce71a8d1cec40798287fd9c0d09e510": {
      "model_module": "@jupyter-widgets/base",
      "model_module_version": "1.2.0",
      "model_name": "LayoutModel",
      "state": {}
     },
     "dd0606631d3d436dac8449b212e87631": {
      "model_module": "@jupyter-widgets/base",
      "model_module_version": "1.2.0",
      "model_name": "LayoutModel",
      "state": {
       "width": "250px"
      }
     },
     "dd101dd8954d4d76a76fb6d4df0a0405": {
      "model_module": "@jupyter-widgets/base",
      "model_module_version": "1.2.0",
      "model_name": "LayoutModel",
      "state": {
       "width": "600px"
      }
     },
     "dd2f1256aa384cf2adcb5f07c3d923f2": {
      "model_module": "@jupyter-widgets/base",
      "model_module_version": "1.2.0",
      "model_name": "LayoutModel",
      "state": {}
     },
     "de21142c8850464a86bebf216e4612a1": {
      "model_module": "@jupyter-widgets/controls",
      "model_module_version": "1.5.0",
      "model_name": "DescriptionStyleModel",
      "state": {
       "description_width": ""
      }
     },
     "de4a876d932642b79bd0b109f488b024": {
      "model_module": "@jupyter-widgets/controls",
      "model_module_version": "1.5.0",
      "model_name": "ButtonStyleModel",
      "state": {}
     },
     "de62a967d81c4c29a5539fa01edc4231": {
      "model_module": "@jupyter-widgets/controls",
      "model_module_version": "1.5.0",
      "model_name": "HTMLModel",
      "state": {
       "layout": "IPY_MODEL_611908a6481c479781a5a56ed174b70a",
       "style": "IPY_MODEL_bff9b32b48d544afbbd3ff1f581c27b5",
       "value": "<h4 style=\"font-size:14px;\">Zu welcher Phrase kann die Präpositionalphrase \"in my pajamas\" gehören?</h4>"
      }
     },
     "de6414b4122a46b5b119741b7b1ead67": {
      "model_module": "@jupyter-widgets/base",
      "model_module_version": "1.2.0",
      "model_name": "LayoutModel",
      "state": {
       "justify_content": "center"
      }
     },
     "de944d994dc44ec19e5a41912cd7443b": {
      "model_module": "@jupyter-widgets/controls",
      "model_module_version": "1.5.0",
      "model_name": "DescriptionStyleModel",
      "state": {
       "description_width": "initial"
      }
     },
     "de960f934aee49918f0b56d835764191": {
      "model_module": "@jupyter-widgets/base",
      "model_module_version": "1.2.0",
      "model_name": "LayoutModel",
      "state": {}
     },
     "dec1771e58cc453098c5038be75d76fd": {
      "model_module": "@jupyter-widgets/base",
      "model_module_version": "1.2.0",
      "model_name": "LayoutModel",
      "state": {
       "justify_content": "center"
      }
     },
     "df0a369b21b844f9bb7428b42f5c7344": {
      "model_module": "@jupyter-widgets/controls",
      "model_module_version": "1.5.0",
      "model_name": "ButtonModel",
      "state": {
       "description": "formale Grammatik",
       "layout": "IPY_MODEL_0bd4ffdf2488448aadf47a698cf8117d",
       "style": "IPY_MODEL_978cd3cd768c4756a61994334c559bbc"
      }
     },
     "df0b58e9829b451fba73d2731578a94c": {
      "model_module": "@jupyter-widgets/controls",
      "model_module_version": "1.5.0",
      "model_name": "DescriptionStyleModel",
      "state": {
       "description_width": ""
      }
     },
     "df12601f4b0747b0bf240d1669287deb": {
      "model_module": "@jupyter-widgets/controls",
      "model_module_version": "1.5.0",
      "model_name": "HTMLModel",
      "state": {
       "layout": "IPY_MODEL_100f12f64c534b4fbf9da2f23cdfad68",
       "style": "IPY_MODEL_184cd409003b44c3a4f2ab7d395be7c7",
       "value": "<i>Markieren Sie <ins>alle</ins> passenden Antworten: </i>"
      }
     },
     "df1457c02ce34c4fb5e6286d0fb67eb4": {
      "model_module": "@jupyter-widgets/controls",
      "model_module_version": "1.5.0",
      "model_name": "ButtonStyleModel",
      "state": {}
     },
     "df257f61950e4a9a85105460fccc60a9": {
      "model_module": "@jupyter-widgets/controls",
      "model_module_version": "1.5.0",
      "model_name": "HTMLModel",
      "state": {
       "layout": "IPY_MODEL_1f8a48a13503432ca24bbdfc24fbaf04",
       "style": "IPY_MODEL_b2650beee7044a1f8fb8a32f9b23d1b0",
       "value": "<h4 style=\"font-size:14px;\">Welche Mittel kommen in einer formalen Syntaxanalyse zum Einsatz?</h4>"
      }
     },
     "df26b1a449d04521a5abb75fe3548d56": {
      "model_module": "@jupyter-widgets/controls",
      "model_module_version": "1.5.0",
      "model_name": "HBoxModel",
      "state": {
       "children": [
        "IPY_MODEL_5361450ad2be434dbd2d1144d2ab0118",
        "IPY_MODEL_2a2114b449bf4906a12ee7b64b24b50c"
       ],
       "layout": "IPY_MODEL_8c4db2fe69e149fb98825ae121c5eef8"
      }
     },
     "df38b75b30684ffb916c236f90602bc2": {
      "model_module": "@jupyter-widgets/controls",
      "model_module_version": "1.5.0",
      "model_name": "HBoxModel",
      "state": {
       "children": [
        "IPY_MODEL_cd3c3860aa954f8abd1965141572e061"
       ],
       "layout": "IPY_MODEL_7b69654956cb4a63a4aac3dd50772238"
      }
     },
     "df6328bff7b64478943da6b0dc2e54f2": {
      "model_module": "@jupyter-widgets/base",
      "model_module_version": "1.2.0",
      "model_name": "LayoutModel",
      "state": {
       "justify_content": "center"
      }
     },
     "df9fedcdf4db4eb3bbb61ec48106ccc2": {
      "model_module": "@jupyter-widgets/controls",
      "model_module_version": "1.5.0",
      "model_name": "DescriptionStyleModel",
      "state": {
       "description_width": ""
      }
     },
     "dfa8a90a2f2746929f1733ab7d623a33": {
      "model_module": "@jupyter-widgets/base",
      "model_module_version": "1.2.0",
      "model_name": "LayoutModel",
      "state": {
       "width": "250px"
      }
     },
     "dfbd0d1f3db14785a1d9ff305ed4c5c3": {
      "model_module": "@jupyter-widgets/base",
      "model_module_version": "1.2.0",
      "model_name": "LayoutModel",
      "state": {}
     },
     "dfe09b3836da424db8e5aceab79a3a04": {
      "model_module": "@jupyter-widgets/controls",
      "model_module_version": "1.5.0",
      "model_name": "VBoxModel",
      "state": {
       "children": [
        "IPY_MODEL_fe4564dd6770425c9949d3e005686d1a",
        "IPY_MODEL_4e1c2c8cfa034deeb5ef1801a46c588a",
        "IPY_MODEL_571d1c92a88d472ea55bfbc29f935815",
        "IPY_MODEL_96651d0c230f473eaeab78f90acd3567",
        "IPY_MODEL_cf1fd9d2c5f54f0ea621d6093e4dc911"
       ],
       "layout": "IPY_MODEL_8d4190b2497e472c8fca3c37a33b9e54"
      }
     },
     "e000e7f9d6354b4e8d97beb04f3928b2": {
      "model_module": "@jupyter-widgets/base",
      "model_module_version": "1.2.0",
      "model_name": "LayoutModel",
      "state": {
       "width": "250px"
      }
     },
     "e0074f6531834f2284758f30714b5866": {
      "model_module": "@jupyter-widgets/base",
      "model_module_version": "1.2.0",
      "model_name": "LayoutModel",
      "state": {}
     },
     "e0190ef3e4234b1aa5d15a35fc5ab018": {
      "model_module": "@jupyter-widgets/controls",
      "model_module_version": "1.5.0",
      "model_name": "DescriptionStyleModel",
      "state": {
       "description_width": ""
      }
     },
     "e0390f61be304d56b77e8b8bc5cca375": {
      "model_module": "@jupyter-widgets/controls",
      "model_module_version": "1.5.0",
      "model_name": "DescriptionStyleModel",
      "state": {
       "description_width": "initial"
      }
     },
     "e0392228c5394af7bfb3a80bfb69cb53": {
      "model_module": "@jupyter-widgets/controls",
      "model_module_version": "1.5.0",
      "model_name": "HTMLModel",
      "state": {
       "layout": "IPY_MODEL_8d37c168a438476f9d0eddac1fcec1ff",
       "style": "IPY_MODEL_c801842fd1634b88a29150aeb3985441",
       "value": "<i>Wählen Sie die <ins>eine</ins> korrekte Antwort aus: </i>"
      }
     },
     "e046f3be36ee4a0e9898361099f28795": {
      "model_module": "@jupyter-widgets/controls",
      "model_module_version": "1.5.0",
      "model_name": "HTMLModel",
      "state": {
       "layout": "IPY_MODEL_51db8ae268e94844a69184401f0983e6",
       "style": "IPY_MODEL_8110804786c9489bb80f4a701eb4a896",
       "value": "<h4 style=\"font-size:14px;\">Welche Funktion nimmt das Gerund ein, wenn das Nomen Kopf der Gerund-Nomen-Phrase ist?</h4>"
      }
     },
     "e049658eae2b48648ec4a80213b15fb6": {
      "model_module": "@jupyter-widgets/controls",
      "model_module_version": "1.5.0",
      "model_name": "ButtonModel",
      "state": {
       "description": "Korrekt?",
       "layout": "IPY_MODEL_7a179b10ffc846dca119e42e2d4e27d7",
       "style": "IPY_MODEL_8b82864e94b54faf85b86e585c97d2be"
      }
     },
     "e04a7b4f62e143c29bda5a9eb33d87dc": {
      "model_module": "@jupyter-widgets/controls",
      "model_module_version": "1.5.0",
      "model_name": "ButtonStyleModel",
      "state": {}
     },
     "e04b0add3fb844a1b744855d3a87783a": {
      "model_module": "@jupyter-widgets/controls",
      "model_module_version": "1.5.0",
      "model_name": "HBoxModel",
      "state": {
       "children": [
        "IPY_MODEL_dc1bc0bfb7614bb785f1f4df09c4aa6c",
        "IPY_MODEL_b5a30694ee124601ab4a1a8a1750d475"
       ],
       "layout": "IPY_MODEL_a66bd9fc6a7c4af48da3615a06b6cbfc"
      }
     },
     "e082c4bf387d496bb9ab487febc34493": {
      "model_module": "@jupyter-widgets/base",
      "model_module_version": "1.2.0",
      "model_name": "LayoutModel",
      "state": {
       "width": "250px"
      }
     },
     "e08cb4569187444bb2a398e99513c240": {
      "model_module": "@jupyter-widgets/controls",
      "model_module_version": "1.5.0",
      "model_name": "DescriptionStyleModel",
      "state": {
       "description_width": "initial"
      }
     },
     "e0dcae5a1d6e49b89920a5364aeee6c9": {
      "model_module": "@jupyter-widgets/controls",
      "model_module_version": "1.5.0",
      "model_name": "ButtonModel",
      "state": {
       "description": "Korrekt?",
       "layout": "IPY_MODEL_fb03f3e4342c4ffcb28e9f422e97e814",
       "style": "IPY_MODEL_335b53eede324ccb92068f3e8dde6ae0"
      }
     },
     "e13c5d685bf64b2bbe0b4ea7feb36390": {
      "model_module": "@jupyter-widgets/base",
      "model_module_version": "1.2.0",
      "model_name": "LayoutModel",
      "state": {}
     },
     "e19aba8dc9d141c8aefbf407d04e1ac3": {
      "model_module": "@jupyter-widgets/controls",
      "model_module_version": "1.5.0",
      "model_name": "DescriptionStyleModel",
      "state": {
       "description_width": ""
      }
     },
     "e19e3d34dd1841e9a3b7540702765296": {
      "model_module": "@jupyter-widgets/controls",
      "model_module_version": "1.5.0",
      "model_name": "ButtonModel",
      "state": {
       "description": "Attribut",
       "layout": "IPY_MODEL_9da7a08d35294faa8dd7bb7421b8e75f",
       "style": "IPY_MODEL_7213b3155cc045019645ee4e7a7be876"
      }
     },
     "e1a6eb162bbd4e08856b179a04e0e497": {
      "model_module": "@jupyter-widgets/controls",
      "model_module_version": "1.5.0",
      "model_name": "HTMLModel",
      "state": {
       "layout": "IPY_MODEL_edf299bcc5c8407e91cbf8e66a460205",
       "style": "IPY_MODEL_31a3826b3e9d44b48da49d23c2e4275e",
       "value": "<i>Wählen Sie die <ins>eine</ins> korrekte Antwort aus: </i>"
      }
     },
     "e1cba06aa0bd4504b90e270fe143d384": {
      "model_module": "@jupyter-widgets/controls",
      "model_module_version": "1.5.0",
      "model_name": "VBoxModel",
      "state": {
       "children": [
        "IPY_MODEL_7e1bf79b2d1b41c3a03135726646462d",
        "IPY_MODEL_9eabe1f92c4b40e6ac73607ab09a98b8",
        "IPY_MODEL_6f0fea5d63f34460b257e180ba9f389d",
        "IPY_MODEL_fa210e012015404595fe23627895e6d6"
       ],
       "layout": "IPY_MODEL_9a1eb56d4a044d84ba024f46da471186"
      }
     },
     "e1dbd07fd74845449260013c7ad0883a": {
      "model_module": "@jupyter-widgets/base",
      "model_module_version": "1.2.0",
      "model_name": "LayoutModel",
      "state": {
       "width": "500px"
      }
     },
     "e1ec86c847a3440ab960c5c6ec7172f3": {
      "model_module": "@jupyter-widgets/controls",
      "model_module_version": "1.5.0",
      "model_name": "ButtonStyleModel",
      "state": {}
     },
     "e1f63d0726fa4e7b9f85a6a411ab3421": {
      "model_module": "@jupyter-widgets/controls",
      "model_module_version": "1.5.0",
      "model_name": "DescriptionStyleModel",
      "state": {
       "description_width": "initial"
      }
     },
     "e20ff09e47d24b6eb0025ae8b141f966": {
      "model_module": "@jupyter-widgets/controls",
      "model_module_version": "1.5.0",
      "model_name": "ButtonModel",
      "state": {
       "description": "Keine der anderen Möglichkeiten",
       "layout": "IPY_MODEL_f63fe4924140496485e6bf3cb3ed801e",
       "style": "IPY_MODEL_bb03f0be93c040348a16363bca31dbab"
      }
     },
     "e2183ade38c84fca8936c86d99dcb578": {
      "model_module": "@jupyter-widgets/base",
      "model_module_version": "1.2.0",
      "model_name": "LayoutModel",
      "state": {
       "justify_content": "center"
      }
     },
     "e25c3c07da474d8686c4d57d54796e4d": {
      "model_module": "@jupyter-widgets/controls",
      "model_module_version": "1.5.0",
      "model_name": "ButtonModel",
      "state": {
       "description": "Wissen um Sprachstruktur",
       "layout": "IPY_MODEL_fc7fe58a58d0420da09cb1804a03ca63",
       "style": "IPY_MODEL_8538ce0c4b5345fb9d7f6675403092d4"
      }
     },
     "e27c34ef74d144209bb46ad0141a7d7a": {
      "model_module": "@jupyter-widgets/controls",
      "model_module_version": "1.5.0",
      "model_name": "ButtonStyleModel",
      "state": {}
     },
     "e28f63be36b3424792ebff03ecbb9ef7": {
      "model_module": "@jupyter-widgets/controls",
      "model_module_version": "1.5.0",
      "model_name": "ButtonStyleModel",
      "state": {}
     },
     "e299b6b218f948d9aad3b7a8f4bc0ecf": {
      "model_module": "@jupyter-widgets/base",
      "model_module_version": "1.2.0",
      "model_name": "LayoutModel",
      "state": {}
     },
     "e2dc9a9ce1d84bad8975f538dcc6075d": {
      "model_module": "@jupyter-widgets/base",
      "model_module_version": "1.2.0",
      "model_name": "LayoutModel",
      "state": {
       "width": "250px"
      }
     },
     "e31c3904b17c41d7941de8a3123b4fce": {
      "model_module": "@jupyter-widgets/controls",
      "model_module_version": "1.5.0",
      "model_name": "HTMLModel",
      "state": {
       "layout": "IPY_MODEL_9198fd36e1b44efcabf07ff9cf090b8b",
       "style": "IPY_MODEL_64f606b256e3417ebc93587a97ccba94",
       "value": "<i>Markieren Sie <ins>alle</ins> passenden Antworten: </i>"
      }
     },
     "e3281a209e4f4a029c8202cb8d11b533": {
      "model_module": "@jupyter-widgets/base",
      "model_module_version": "1.2.0",
      "model_name": "LayoutModel",
      "state": {
       "width": "250px"
      }
     },
     "e3312a179756465181d656bd3780a3f6": {
      "model_module": "@jupyter-widgets/controls",
      "model_module_version": "1.5.0",
      "model_name": "ButtonModel",
      "state": {
       "description": "Baumdiagramm",
       "layout": "IPY_MODEL_9478f3148f1a4321b3bdc510cbb76297",
       "style": "IPY_MODEL_be6eda8d8925405189ef05dd7173cf2d"
      }
     },
     "e33236b24b9c45079944a17663e2b541": {
      "model_module": "@jupyter-widgets/controls",
      "model_module_version": "1.5.0",
      "model_name": "VBoxModel",
      "state": {
       "children": [
        "IPY_MODEL_39248a7dcabb4273a00027e1beced0dd",
        "IPY_MODEL_093a55e8d2b24571b9929b29dcd4c8d8",
        "IPY_MODEL_b892faa45c7044e9ba86f11c40944569"
       ],
       "layout": "IPY_MODEL_0030107ab01c4be8863768814c0a6e17"
      }
     },
     "e34edf7cf02c41748c9830eb93b8ba7c": {
      "model_module": "@jupyter-widgets/base",
      "model_module_version": "1.2.0",
      "model_name": "LayoutModel",
      "state": {}
     },
     "e35636040b784be5b658e35df13789d0": {
      "model_module": "@jupyter-widgets/base",
      "model_module_version": "1.2.0",
      "model_name": "LayoutModel",
      "state": {}
     },
     "e3785f19565e4a44a4965da93fb86414": {
      "model_module": "@jupyter-widgets/base",
      "model_module_version": "1.2.0",
      "model_name": "LayoutModel",
      "state": {}
     },
     "e37e8441098d4165afeab0ab55a74a5b": {
      "model_module": "@jupyter-widgets/controls",
      "model_module_version": "1.5.0",
      "model_name": "HTMLModel",
      "state": {
       "layout": "IPY_MODEL_b0133f218b7c4afdafc3d064456b72c5",
       "style": "IPY_MODEL_596f0495a3434196b3892d7f2d7f1bb5",
       "value": "<h4 style=\"font-size:14px;\">Die Syntax ist ein</h4>"
      }
     },
     "e382145049064b088cdd36b53446616c": {
      "model_module": "@jupyter-widgets/base",
      "model_module_version": "1.2.0",
      "model_name": "LayoutModel",
      "state": {}
     },
     "e3acd19f19c94353a2d26a136d08d713": {
      "model_module": "@jupyter-widgets/base",
      "model_module_version": "1.2.0",
      "model_name": "LayoutModel",
      "state": {
       "width": "250px"
      }
     },
     "e3b3e026f1ef415e9e18871b32498516": {
      "model_module": "@jupyter-widgets/controls",
      "model_module_version": "1.5.0",
      "model_name": "CheckboxModel",
      "state": {
       "description": "Sinnhaftigkeit",
       "disabled": false,
       "layout": "IPY_MODEL_5a542b9825ce4aea91fa8a7efee046ac",
       "style": "IPY_MODEL_6fdd83245fd54be9ae844f4702d74895",
       "value": false
      }
     },
     "e3e0e2899aad469f84b9689c5c8d7975": {
      "model_module": "@jupyter-widgets/controls",
      "model_module_version": "1.5.0",
      "model_name": "CheckboxModel",
      "state": {
       "description": "Eine endliche Menge an Sätzen kann mit unendlichen Mitteln beschrieben werden.",
       "disabled": false,
       "layout": "IPY_MODEL_ed8cffc2b7f2404582d14b06e7d7cdfc",
       "style": "IPY_MODEL_e08cb4569187444bb2a398e99513c240",
       "value": false
      }
     },
     "e3e59c3a018f43d49e4d559d340b6a9c": {
      "model_module": "@jupyter-widgets/base",
      "model_module_version": "1.2.0",
      "model_name": "LayoutModel",
      "state": {
       "width": "250px"
      }
     },
     "e41b849aca4c4f02bcd7bf3a8fce7c5a": {
      "model_module": "@jupyter-widgets/controls",
      "model_module_version": "1.5.0",
      "model_name": "ButtonStyleModel",
      "state": {}
     },
     "e41e252ab16f4cc59c5e27ed8d70bf61": {
      "model_module": "@jupyter-widgets/base",
      "model_module_version": "1.2.0",
      "model_name": "LayoutModel",
      "state": {}
     },
     "e4222f741cd6474eae8a4e11488e2af4": {
      "model_module": "@jupyter-widgets/base",
      "model_module_version": "1.2.0",
      "model_name": "LayoutModel",
      "state": {
       "justify_content": "center"
      }
     },
     "e42572e2347e45b19c0abf7c5bd60c25": {
      "model_module": "@jupyter-widgets/controls",
      "model_module_version": "1.5.0",
      "model_name": "HTMLModel",
      "state": {
       "layout": "IPY_MODEL_f7c973498dd64eca8c3ba6be9dcfe153",
       "style": "IPY_MODEL_38ae9a2c052b4467b20f448a8c1710c5",
       "value": "<h4 style=\"font-size:14px;\">Welche Funktion im Hauptsatz nimmt das Gerund ein, wenn es Kopf der Gerund-Nomen-Phrase ist?</h4>"
      }
     },
     "e4453f19d04a4ffdb00ef77157fb229a": {
      "model_module": "@jupyter-widgets/controls",
      "model_module_version": "1.5.0",
      "model_name": "CheckboxModel",
      "state": {
       "description": "Attributphrase",
       "disabled": false,
       "layout": "IPY_MODEL_a21db7f98c6a47e08e82b251c9efda54",
       "style": "IPY_MODEL_9a9187cc2bfc4936a8f98756a73cc3ea",
       "value": false
      }
     },
     "e47bc42ac4f941a1bd4f16b7f0eae582": {
      "model_module": "@jupyter-widgets/controls",
      "model_module_version": "1.5.0",
      "model_name": "HTMLModel",
      "state": {
       "layout": "IPY_MODEL_f532e02ad30d40e395616809cab826d9",
       "style": "IPY_MODEL_12c34af79b5d4038970e976b107ab8d6",
       "value": "<i>Wählen Sie die <ins>eine</ins> korrekte Antwort aus: </i>"
      }
     },
     "e4866e6b3cfd4d72b0afb52a7ebdf55b": {
      "model_module": "@jupyter-widgets/controls",
      "model_module_version": "1.5.0",
      "model_name": "CheckboxModel",
      "state": {
       "description": "Attributphrase",
       "disabled": false,
       "layout": "IPY_MODEL_32275bc7f02b4ed6bc96960c524bbaea",
       "style": "IPY_MODEL_fe5ada0e87444858b6b75131aac58e2a",
       "value": false
      }
     },
     "e4890c0265514b73944a5755e5409c0b": {
      "model_module": "@jupyter-widgets/controls",
      "model_module_version": "1.5.0",
      "model_name": "ButtonStyleModel",
      "state": {
       "button_color": "lightgreen"
      }
     },
     "e4c192cb258f4bf5bf8aae4cc7be5fd2": {
      "model_module": "@jupyter-widgets/controls",
      "model_module_version": "1.5.0",
      "model_name": "DescriptionStyleModel",
      "state": {
       "description_width": ""
      }
     },
     "e4d1ff0397a64b5ca43a6dd96b78d1f4": {
      "model_module": "@jupyter-widgets/base",
      "model_module_version": "1.2.0",
      "model_name": "LayoutModel",
      "state": {
       "width": "250px"
      }
     },
     "e516fde9e7c34a7eacf0ebd7010bddf6": {
      "model_module": "@jupyter-widgets/controls",
      "model_module_version": "1.5.0",
      "model_name": "DescriptionStyleModel",
      "state": {
       "description_width": ""
      }
     },
     "e528d4b4b1f644f69c295e7d708bf25b": {
      "model_module": "@jupyter-widgets/base",
      "model_module_version": "1.2.0",
      "model_name": "LayoutModel",
      "state": {
       "width": "250px"
      }
     },
     "e5791390ac204f4190dfd5807877b826": {
      "model_module": "@jupyter-widgets/base",
      "model_module_version": "1.2.0",
      "model_name": "LayoutModel",
      "state": {}
     },
     "e59b8a35dd5a46d0b96a0ae44f56ce66": {
      "model_module": "@jupyter-widgets/controls",
      "model_module_version": "1.5.0",
      "model_name": "ButtonModel",
      "state": {
       "description": "mehr als ein",
       "layout": "IPY_MODEL_aa795e4124994077a9adca463d09fd7d",
       "style": "IPY_MODEL_0dedf95c887a4a308c0f9bf6a2da0d66"
      }
     },
     "e5a0fbe40e2a4c05acc57f6bd34a6817": {
      "model_module": "@jupyter-widgets/controls",
      "model_module_version": "1.5.0",
      "model_name": "DescriptionStyleModel",
      "state": {
       "description_width": ""
      }
     },
     "e5bd52fa740c481aa1f1a8520b9e9973": {
      "model_module": "@jupyter-widgets/base",
      "model_module_version": "1.2.0",
      "model_name": "LayoutModel",
      "state": {}
     },
     "e5e1b839755a47e39554fc87e8beccd3": {
      "model_module": "@jupyter-widgets/controls",
      "model_module_version": "1.5.0",
      "model_name": "DescriptionStyleModel",
      "state": {
       "description_width": ""
      }
     },
     "e60b0b3278fb4baca9c4162288a92663": {
      "model_module": "@jupyter-widgets/controls",
      "model_module_version": "1.5.0",
      "model_name": "ButtonStyleModel",
      "state": {}
     },
     "e60d5fb859cc4f2da7bfee9335d48378": {
      "model_module": "@jupyter-widgets/controls",
      "model_module_version": "1.5.0",
      "model_name": "VBoxModel",
      "state": {
       "children": [
        "IPY_MODEL_08f2f5a925bf45258b2b7c34990b4850",
        "IPY_MODEL_c9ae4bef31154a2f95478381fcf97ccc",
        "IPY_MODEL_cd08d329d88f4a0eb330ebeea7c4057b",
        "IPY_MODEL_6c52b283da2e4c7b9dc5e754cc86ae2f"
       ],
       "layout": "IPY_MODEL_a3991d0abf1946bf90aacb95b5c48f34"
      }
     },
     "e618764022e840119b2fad3db64ffc05": {
      "model_module": "@jupyter-widgets/controls",
      "model_module_version": "1.5.0",
      "model_name": "HBoxModel",
      "state": {
       "children": [
        "IPY_MODEL_409306a1b1504f459da48ef1af829d50",
        "IPY_MODEL_6ea0996983b74a9bb9866ceffc9be616"
       ],
       "layout": "IPY_MODEL_d0b7048085294a06a496b47824999c11"
      }
     },
     "e65c35cb2d144823808c89afa92bd351": {
      "model_module": "@jupyter-widgets/controls",
      "model_module_version": "1.5.0",
      "model_name": "ButtonModel",
      "state": {
       "description": "Korrekt?",
       "layout": "IPY_MODEL_1453893914044f31b937286e410546e4",
       "style": "IPY_MODEL_28e0c43f94204de2a2154acbc5cddc53"
      }
     },
     "e6669d7b5da54ff586e809a8dcd9af59": {
      "model_module": "@jupyter-widgets/controls",
      "model_module_version": "1.5.0",
      "model_name": "HTMLModel",
      "state": {
       "layout": "IPY_MODEL_58856b860a4842fabdf619b78e975a01",
       "style": "IPY_MODEL_ef95fdddb1154b1887a235afa253d7c6",
       "value": "<i>Markieren Sie <ins>alle</ins> passenden Antworten: </i>"
      }
     },
     "e682adbbf1b04b93b20044074d589fc5": {
      "model_module": "@jupyter-widgets/controls",
      "model_module_version": "1.5.0",
      "model_name": "DescriptionStyleModel",
      "state": {
       "description_width": "initial"
      }
     },
     "e68bbd3e8f9c42f2ac40a0a60fd1d320": {
      "model_module": "@jupyter-widgets/base",
      "model_module_version": "1.2.0",
      "model_name": "LayoutModel",
      "state": {}
     },
     "e69166344c9d417b97266a501ba5dac0": {
      "model_module": "@jupyter-widgets/controls",
      "model_module_version": "1.5.0",
      "model_name": "CheckboxModel",
      "state": {
       "description": "Gerund ist Kopf eines nichtfiniten Teilsatzes",
       "disabled": false,
       "layout": "IPY_MODEL_c23e1df439904b25b3bc8efe1e0b38fb",
       "style": "IPY_MODEL_0a64e0846b944788bc0346a10c27fb05",
       "value": false
      }
     },
     "e6cdd39856ef4b17b45f515beb0eba6e": {
      "model_module": "@jupyter-widgets/controls",
      "model_module_version": "1.5.0",
      "model_name": "ButtonStyleModel",
      "state": {}
     },
     "e71478d44d34492e88e1b7fff5cfbacc": {
      "model_module": "@jupyter-widgets/controls",
      "model_module_version": "1.5.0",
      "model_name": "HTMLModel",
      "state": {
       "layout": "IPY_MODEL_2fa9d7a684f04d2aa8c97430fc8dc3a5",
       "style": "IPY_MODEL_c1b991ff1e0b441b9f7b2bc133e8bd9b",
       "value": "<i>Markieren Sie <ins>alle</ins> passenden Antworten: </i>"
      }
     },
     "e719d6cba0fe45099c4f78701b8449cb": {
      "model_module": "@jupyter-widgets/controls",
      "model_module_version": "1.5.0",
      "model_name": "DescriptionStyleModel",
      "state": {
       "description_width": ""
      }
     },
     "e72a0a469aeb4353951f1019d4040c7a": {
      "model_module": "@jupyter-widgets/controls",
      "model_module_version": "1.5.0",
      "model_name": "DropdownModel",
      "state": {
       "_options_labels": [
        "Keine der Alternativen",
        "der Ort des Geschehens wird festgelegt",
        "die PP wird dem Substantiv beigefügt",
        "die im Verb ausgedrückte Tätigkeit wird modifiziert"
       ],
       "description": "Antwort:",
       "index": 0,
       "layout": "IPY_MODEL_e1dbd07fd74845449260013c7ad0883a",
       "style": "IPY_MODEL_7a19c4005404498c81f1288df68169a3"
      }
     },
     "e73bc2b647524e29a0c9003aac1cdec2": {
      "model_module": "@jupyter-widgets/base",
      "model_module_version": "1.2.0",
      "model_name": "LayoutModel",
      "state": {
       "width": "250px"
      }
     },
     "e741558b29724af691553e4ef0ba258b": {
      "model_module": "@jupyter-widgets/controls",
      "model_module_version": "1.5.0",
      "model_name": "CheckboxModel",
      "state": {
       "description": "Morphemebene, Phrasenebene, Satzebene",
       "disabled": false,
       "layout": "IPY_MODEL_d32f9e49ac8d48489887dbb63ba0034b",
       "style": "IPY_MODEL_13c2f9366e824ed18ac11fc353008a91",
       "value": false
      }
     },
     "e752bb9f0240455793fdc8bead1e8cc1": {
      "model_module": "@jupyter-widgets/controls",
      "model_module_version": "1.5.0",
      "model_name": "ButtonStyleModel",
      "state": {}
     },
     "e7630c4a091d4a0a9821192e69970550": {
      "model_module": "@jupyter-widgets/controls",
      "model_module_version": "1.5.0",
      "model_name": "HTMLModel",
      "state": {
       "layout": "IPY_MODEL_cce4cc830d8b43d88eb82368d1272e96",
       "style": "IPY_MODEL_2ab103702d63474284d4cde8cbb03ee1",
       "value": "<h4 style=\"font-size:14px;\">Für die Blätter gilt: natürlichsprachliche Wörter sind eine Teilmenge aus dem Alphabet der</h4>"
      }
     },
     "e7b42a21f82f46bba2367af499207a76": {
      "model_module": "@jupyter-widgets/controls",
      "model_module_version": "1.5.0",
      "model_name": "DescriptionStyleModel",
      "state": {
       "description_width": "initial"
      }
     },
     "e7bbd8c3688646f388aba79a708cd967": {
      "model_module": "@jupyter-widgets/controls",
      "model_module_version": "1.5.0",
      "model_name": "CheckboxModel",
      "state": {
       "description": "Nomen ist Dependent in einem nichtfiniten Teilsatz",
       "disabled": false,
       "layout": "IPY_MODEL_8574bb5b4fc34a15be61ccfa3c6df70e",
       "style": "IPY_MODEL_7615e8f8dfe74e08a30abdb0b246909a",
       "value": false
      }
     },
     "e7e6898a5bb149148ec80a525104221d": {
      "model_module": "@jupyter-widgets/controls",
      "model_module_version": "1.5.0",
      "model_name": "HTMLModel",
      "state": {
       "layout": "IPY_MODEL_b286d948f1894a31a7a9f692ec272864",
       "style": "IPY_MODEL_8c1feaf27aa140a48dd7164f410088c5",
       "value": "<h4 style=\"font-size:14px;\">Für die Blätter gilt: natürlichsprachliche Wörter sind eine Teilmenge aus dem Alphabet der</h4>"
      }
     },
     "e7ef8ab558b5497791acf504d0d9b85f": {
      "model_module": "@jupyter-widgets/controls",
      "model_module_version": "1.5.0",
      "model_name": "HTMLModel",
      "state": {
       "layout": "IPY_MODEL_3011e1573d63449191b5afd44feb29ab",
       "style": "IPY_MODEL_a144047e675b47779fdb26ac7aaedcf1",
       "value": "<h4 style=\"font-size:14px;\">Dependenz ist synonym zu:</h4>"
      }
     },
     "e7f63e90c48b4c8fa5261f752480f928": {
      "model_module": "@jupyter-widgets/controls",
      "model_module_version": "1.5.0",
      "model_name": "VBoxModel",
      "state": {
       "children": [
        "IPY_MODEL_3affe1387ac2454fbbed178ef9199fad",
        "IPY_MODEL_697eda8a1a5541ad9f75a82ada307f64",
        "IPY_MODEL_a2f99c6864874869aec6fb88bb9395f2"
       ],
       "layout": "IPY_MODEL_07e65230cb99423baa0ce5b44e01bc56"
      }
     },
     "e7f64840ebfa4cc88a07369c7cc5e8f1": {
      "model_module": "@jupyter-widgets/controls",
      "model_module_version": "1.5.0",
      "model_name": "ButtonStyleModel",
      "state": {}
     },
     "e8239886d7f6400799db436feb3bfda6": {
      "model_module": "@jupyter-widgets/base",
      "model_module_version": "1.2.0",
      "model_name": "LayoutModel",
      "state": {
       "justify_content": "center"
      }
     },
     "e82ee3753b8d4eb4949769861c3aaeb8": {
      "model_module": "@jupyter-widgets/base",
      "model_module_version": "1.2.0",
      "model_name": "LayoutModel",
      "state": {}
     },
     "e84f6a842f17468c84fe8cead86b043d": {
      "model_module": "@jupyter-widgets/controls",
      "model_module_version": "1.5.0",
      "model_name": "CheckboxModel",
      "state": {
       "description": "Verbalphrase",
       "disabled": false,
       "layout": "IPY_MODEL_b0d753e564b24d52bd66a024e79cd52a",
       "style": "IPY_MODEL_ee65202d3c4b49eaa1dc87548bca2d70",
       "value": false
      }
     },
     "e86129665f4b453db7fd8dab4cad66b9": {
      "model_module": "@jupyter-widgets/base",
      "model_module_version": "1.2.0",
      "model_name": "LayoutModel",
      "state": {}
     },
     "e88b32ca64d24c51ba6dc2cac4eb199b": {
      "model_module": "@jupyter-widgets/base",
      "model_module_version": "1.2.0",
      "model_name": "LayoutModel",
      "state": {
       "width": "600px"
      }
     },
     "e88f5192896d4091b80b5f1a3012cd60": {
      "model_module": "@jupyter-widgets/controls",
      "model_module_version": "1.5.0",
      "model_name": "ButtonModel",
      "state": {
       "description": "Dependenz",
       "layout": "IPY_MODEL_563a186e7c67416eb1b1394e8e6ec05b",
       "style": "IPY_MODEL_46873333e27b4bba95c1f47a7f0ed4ab"
      }
     },
     "e8d82b59cfb4441b8bc242309080c748": {
      "model_module": "@jupyter-widgets/controls",
      "model_module_version": "1.5.0",
      "model_name": "HBoxModel",
      "state": {
       "children": [
        "IPY_MODEL_c3aae4faa24143969e7eca0ea866f897",
        "IPY_MODEL_244b1c2f9bc448faab32bd7ccc7964c4"
       ],
       "layout": "IPY_MODEL_3c083cd566c64645b1a21d9c8393135f"
      }
     },
     "e8de2034ba684820a67495b9e8d4c843": {
      "model_module": "@jupyter-widgets/controls",
      "model_module_version": "1.5.0",
      "model_name": "ButtonStyleModel",
      "state": {}
     },
     "e905e2fb4e70483b9d5f65dc790f7b1b": {
      "model_module": "@jupyter-widgets/controls",
      "model_module_version": "1.5.0",
      "model_name": "ButtonStyleModel",
      "state": {}
     },
     "e9204bf1a2d14540ad4dc541c6d6be76": {
      "model_module": "@jupyter-widgets/base",
      "model_module_version": "1.2.0",
      "model_name": "LayoutModel",
      "state": {
       "justify_content": "center"
      }
     },
     "e922e3e9527844a89340684e8136d13b": {
      "model_module": "@jupyter-widgets/controls",
      "model_module_version": "1.5.0",
      "model_name": "ButtonStyleModel",
      "state": {}
     },
     "e93b7a4b1c874f60aab190ff7a29f22f": {
      "model_module": "@jupyter-widgets/base",
      "model_module_version": "1.2.0",
      "model_name": "LayoutModel",
      "state": {}
     },
     "e94f64ccad8c48f7990ad0eb7eacb444": {
      "model_module": "@jupyter-widgets/base",
      "model_module_version": "1.2.0",
      "model_name": "LayoutModel",
      "state": {
       "width": "250px"
      }
     },
     "e964ba7d0d404993888d189930072be8": {
      "model_module": "@jupyter-widgets/controls",
      "model_module_version": "1.5.0",
      "model_name": "HTMLModel",
      "state": {
       "layout": "IPY_MODEL_a35477260d7d4ad29715ba50106c54f4",
       "style": "IPY_MODEL_62124dc6bb7f4ab6a83e62a4f28e70ae",
       "value": "<h4 style=\"font-size:14px;\">Für die Blätter gilt: natürlichsprachliche Wörter sind eine Teilmenge aus dem Alphabet der</h4>"
      }
     },
     "e9975cd8863c4c699fc9420d04653013": {
      "model_module": "@jupyter-widgets/controls",
      "model_module_version": "1.5.0",
      "model_name": "ButtonModel",
      "state": {
       "description": "Objekt",
       "layout": "IPY_MODEL_1c15cc5845994417b920b7988939eb4b",
       "style": "IPY_MODEL_db3a0fc44a594618bb7d8a378a5e3d59"
      }
     },
     "e99b298afaea4997b7e6553034df1ee2": {
      "model_module": "@jupyter-widgets/controls",
      "model_module_version": "1.5.0",
      "model_name": "HTMLModel",
      "state": {
       "layout": "IPY_MODEL_f1f32208eb9f4b43bfcdab4cf4d8abbe",
       "style": "IPY_MODEL_7ab03780cd2742e19624d79901c18b8f",
       "value": "<i>Markieren Sie <ins>alle</ins> passenden Antworten: </i>"
      }
     },
     "e9ad734ae3ad4fb2ac79ad89f13943ad": {
      "model_module": "@jupyter-widgets/controls",
      "model_module_version": "1.5.0",
      "model_name": "ButtonStyleModel",
      "state": {
       "button_color": "lightgreen"
      }
     },
     "e9b67db8ff5d4a71ad307ea997dd8ada": {
      "model_module": "@jupyter-widgets/base",
      "model_module_version": "1.2.0",
      "model_name": "LayoutModel",
      "state": {}
     },
     "e9d1c1bdc99b4ef881f435133eac69a3": {
      "model_module": "@jupyter-widgets/controls",
      "model_module_version": "1.5.0",
      "model_name": "VBoxModel",
      "state": {
       "children": [
        "IPY_MODEL_03af34b3901947c097f9226112e774bd",
        "IPY_MODEL_e3b3e026f1ef415e9e18871b32498516",
        "IPY_MODEL_63e4a44a310a46898d1a8b44d0ba2a3d"
       ],
       "layout": "IPY_MODEL_09939960c6384d30a107724d6faac723"
      }
     },
     "e9dcc07642ed408a844c600e69da18fe": {
      "model_module": "@jupyter-widgets/controls",
      "model_module_version": "1.5.0",
      "model_name": "DescriptionStyleModel",
      "state": {
       "description_width": ""
      }
     },
     "e9e7739fa329498ca1903c12a9023525": {
      "model_module": "@jupyter-widgets/controls",
      "model_module_version": "1.5.0",
      "model_name": "ButtonStyleModel",
      "state": {}
     },
     "ea1191899afd42afa3aa863f8245d421": {
      "model_module": "@jupyter-widgets/base",
      "model_module_version": "1.2.0",
      "model_name": "LayoutModel",
      "state": {}
     },
     "ea710506abf04e07bf478e469d41f190": {
      "model_module": "@jupyter-widgets/controls",
      "model_module_version": "1.5.0",
      "model_name": "DescriptionStyleModel",
      "state": {
       "description_width": ""
      }
     },
     "ea97eac4ea2845cf80527e2c78b4bcd3": {
      "model_module": "@jupyter-widgets/controls",
      "model_module_version": "1.5.0",
      "model_name": "VBoxModel",
      "state": {
       "children": [
        "IPY_MODEL_aca57b05d4c545bb80d4142b982a7969",
        "IPY_MODEL_a9d6be550c24433e8b06a8dce36ae416",
        "IPY_MODEL_f9609be993284d60af49f0f86cba4b7a"
       ],
       "layout": "IPY_MODEL_c6d9232ca3a24d379d55354edb607141"
      }
     },
     "eabd41e23c994073a3cc74906f7fffea": {
      "model_module": "@jupyter-widgets/base",
      "model_module_version": "1.2.0",
      "model_name": "LayoutModel",
      "state": {
       "justify_content": "center"
      }
     },
     "eb04771ce56845eeaa4cf7410780b372": {
      "model_module": "@jupyter-widgets/controls",
      "model_module_version": "1.5.0",
      "model_name": "ButtonModel",
      "state": {
       "description": "Konstituenz",
       "layout": "IPY_MODEL_9057c3413bbe4a48b4f57f8f2f11824e",
       "style": "IPY_MODEL_7db5f251bb614bad946ba09b9f0294b4"
      }
     },
     "eb450ab507384e7daa19997831f72760": {
      "model_module": "@jupyter-widgets/base",
      "model_module_version": "1.2.0",
      "model_name": "LayoutModel",
      "state": {
       "justify_content": "center"
      }
     },
     "eb461df584ef43bfa06ddebbc2424878": {
      "model_module": "@jupyter-widgets/base",
      "model_module_version": "1.2.0",
      "model_name": "LayoutModel",
      "state": {}
     },
     "eb6fed82cf374f5fbf996a410fd02244": {
      "model_module": "@jupyter-widgets/controls",
      "model_module_version": "1.5.0",
      "model_name": "ButtonModel",
      "state": {
       "description": "Parsebäume",
       "layout": "IPY_MODEL_018f9ef28bf040e8a53120ca5ee02496",
       "style": "IPY_MODEL_cfe12d2a419d457ea46c8f86ab887404"
      }
     },
     "eb72f1f783974da281a8847aeab96f60": {
      "model_module": "@jupyter-widgets/controls",
      "model_module_version": "1.5.0",
      "model_name": "ButtonStyleModel",
      "state": {}
     },
     "eba791abed5b44dcae7c7be93b46d4b4": {
      "model_module": "@jupyter-widgets/base",
      "model_module_version": "1.2.0",
      "model_name": "LayoutModel",
      "state": {
       "justify_content": "center"
      }
     },
     "ebbcc8f5a07a4801a5c45cb26c1ad650": {
      "model_module": "@jupyter-widgets/controls",
      "model_module_version": "1.5.0",
      "model_name": "ButtonModel",
      "state": {
       "description": "Wissen um Sprachstruktur",
       "layout": "IPY_MODEL_03a447b1d78f401a88ba9191dd78f9f2",
       "style": "IPY_MODEL_88045e6c9ca3450ab17b9e6a157625c5"
      }
     },
     "ebd10423e1ed4fa280b8b6e876ccb2d7": {
      "model_module": "@jupyter-widgets/controls",
      "model_module_version": "1.5.0",
      "model_name": "ButtonModel",
      "state": {
       "description": "Korrekt?",
       "layout": "IPY_MODEL_6c76e895d93041dcbe3a8665f3b84cb5",
       "style": "IPY_MODEL_96edea0ac1354897b0c999265ae6ce92"
      }
     },
     "ec0eaa3a06e747c3ac8147720ea7870f": {
      "model_module": "@jupyter-widgets/base",
      "model_module_version": "1.2.0",
      "model_name": "LayoutModel",
      "state": {}
     },
     "ec17a43bb2eb4ad7bc5fb80cab10162c": {
      "model_module": "@jupyter-widgets/controls",
      "model_module_version": "1.5.0",
      "model_name": "DescriptionStyleModel",
      "state": {
       "description_width": ""
      }
     },
     "ec23a57a9a4d47f496475796a547ad51": {
      "model_module": "@jupyter-widgets/base",
      "model_module_version": "1.2.0",
      "model_name": "LayoutModel",
      "state": {
       "width": "250px"
      }
     },
     "ec341183bad542faafd4d4703caa099d": {
      "model_module": "@jupyter-widgets/base",
      "model_module_version": "1.2.0",
      "model_name": "LayoutModel",
      "state": {}
     },
     "ec5d3309bc9f47bba31e11a89f755b09": {
      "model_module": "@jupyter-widgets/base",
      "model_module_version": "1.2.0",
      "model_name": "LayoutModel",
      "state": {
       "justify_content": "center"
      }
     },
     "ec832cf46c824d16bf9f7aa25884c475": {
      "model_module": "@jupyter-widgets/base",
      "model_module_version": "1.2.0",
      "model_name": "LayoutModel",
      "state": {
       "width": "250px"
      }
     },
     "ec88115ed7c1417eab0ffe478845f2a1": {
      "model_module": "@jupyter-widgets/base",
      "model_module_version": "1.2.0",
      "model_name": "LayoutModel",
      "state": {
       "justify_content": "center"
      }
     },
     "ec930c26f1a0459db85bb8d53dcbf2d4": {
      "model_module": "@jupyter-widgets/base",
      "model_module_version": "1.2.0",
      "model_name": "LayoutModel",
      "state": {
       "width": "600px"
      }
     },
     "ecb475da5e564bdbae0ba08120620d49": {
      "model_module": "@jupyter-widgets/controls",
      "model_module_version": "1.5.0",
      "model_name": "VBoxModel",
      "state": {
       "children": [
        "IPY_MODEL_ced818ea6d574df9b6f0d24da6ed398a",
        "IPY_MODEL_e0392228c5394af7bfb3a80bfb69cb53",
        "IPY_MODEL_fccb1bd270f44dea8943a6614e42e75b",
        "IPY_MODEL_81f536f7e17943788d8580919c979748",
        "IPY_MODEL_b9fa10554bfe403eb47ac02ffc943c97"
       ],
       "layout": "IPY_MODEL_d21ae339587e477c958d9de94b1f2085"
      }
     },
     "ecfd968ebfd94ce3be50b05a2f06dea7": {
      "model_module": "@jupyter-widgets/controls",
      "model_module_version": "1.5.0",
      "model_name": "ButtonModel",
      "state": {
       "description": "Theorie der Sprachstruktur",
       "layout": "IPY_MODEL_f1550790966a4b2890010d37c31fcdc3",
       "style": "IPY_MODEL_5dcf71b4ebe2498e9e82d7c70f0993e7"
      }
     },
     "ed0fcdabc36649c09f787ea8d6db1677": {
      "model_module": "@jupyter-widgets/controls",
      "model_module_version": "1.5.0",
      "model_name": "CheckboxModel",
      "state": {
       "description": "phonologische",
       "disabled": false,
       "layout": "IPY_MODEL_1d7443402cc94001b7553e18bd02d874",
       "style": "IPY_MODEL_7a695efc8e6d4241bdcc811f47c77b52",
       "value": false
      }
     },
     "ed4f645706984144a70e90ab1f6ae06d": {
      "model_module": "@jupyter-widgets/base",
      "model_module_version": "1.2.0",
      "model_name": "LayoutModel",
      "state": {
       "width": "250px"
      }
     },
     "ed5b530213ae468280c9384cb7578d82": {
      "model_module": "@jupyter-widgets/controls",
      "model_module_version": "1.5.0",
      "model_name": "DescriptionStyleModel",
      "state": {
       "description_width": "initial"
      }
     },
     "ed8cffc2b7f2404582d14b06e7d7cdfc": {
      "model_module": "@jupyter-widgets/base",
      "model_module_version": "1.2.0",
      "model_name": "LayoutModel",
      "state": {
       "width": "600px"
      }
     },
     "ed9f13a4d9784323aab6ab9b99c8a042": {
      "model_module": "@jupyter-widgets/controls",
      "model_module_version": "1.5.0",
      "model_name": "DescriptionStyleModel",
      "state": {
       "description_width": ""
      }
     },
     "edb9fc2802d9488b8dc6ac6825707f26": {
      "model_module": "@jupyter-widgets/controls",
      "model_module_version": "1.5.0",
      "model_name": "HBoxModel",
      "state": {
       "children": [
        "IPY_MODEL_0e001056ae8a4a238d5ffbcd0f50102a",
        "IPY_MODEL_d2f474bc39ed44be99e6c590802824be"
       ],
       "layout": "IPY_MODEL_af0982d326454ec896728041bcdf8f74"
      }
     },
     "edf299bcc5c8407e91cbf8e66a460205": {
      "model_module": "@jupyter-widgets/base",
      "model_module_version": "1.2.0",
      "model_name": "LayoutModel",
      "state": {
       "justify_content": "center"
      }
     },
     "edf7b2afaa504a149625acdea14b8113": {
      "model_module": "@jupyter-widgets/controls",
      "model_module_version": "1.5.0",
      "model_name": "ButtonStyleModel",
      "state": {}
     },
     "ee216cd2914745648ae4b5331fd90fb9": {
      "model_module": "@jupyter-widgets/base",
      "model_module_version": "1.2.0",
      "model_name": "LayoutModel",
      "state": {
       "justify_content": "center"
      }
     },
     "ee65202d3c4b49eaa1dc87548bca2d70": {
      "model_module": "@jupyter-widgets/controls",
      "model_module_version": "1.5.0",
      "model_name": "DescriptionStyleModel",
      "state": {
       "description_width": "initial"
      }
     },
     "ee8686706e0e4a22b0c8566c75a13117": {
      "model_module": "@jupyter-widgets/base",
      "model_module_version": "1.2.0",
      "model_name": "LayoutModel",
      "state": {
       "width": "250px"
      }
     },
     "ee9d64efbd874ab6bf1a0c56808ea93e": {
      "model_module": "@jupyter-widgets/controls",
      "model_module_version": "1.5.0",
      "model_name": "DropdownModel",
      "state": {
       "_options_labels": [
        "Oberbegriff",
        "Synonym",
        "Teilbereich",
        " "
       ],
       "index": 3,
       "layout": "IPY_MODEL_50ffd87f985040559888e841001fa61c",
       "style": "IPY_MODEL_48cb6f57050347e7bd5967aa8c0e73bf"
      }
     },
     "eeadcce4f46f49f994f8a1a5a1de3616": {
      "model_module": "@jupyter-widgets/controls",
      "model_module_version": "1.5.0",
      "model_name": "HTMLModel",
      "state": {
       "layout": "IPY_MODEL_581b6168822c46eba729ba3257889b85",
       "style": "IPY_MODEL_fe3fef1c0b22484ba153f48e1031a0e3",
       "value": "<i>Markieren Sie <ins>alle</ins> passenden Antworten: </i>"
      }
     },
     "eed7e47ff69a461cbd35f2734bfd1fcb": {
      "model_module": "@jupyter-widgets/controls",
      "model_module_version": "1.5.0",
      "model_name": "VBoxModel",
      "state": {
       "children": [
        "IPY_MODEL_30c866d2c06f485386daaaf4560baac5",
        "IPY_MODEL_71a88e3df6764a4caae85dab2606e2bf",
        "IPY_MODEL_8c2ddd835c364a23a9044204e203630f",
        "IPY_MODEL_f85dd356dfb3450ba86283d037ace83f"
       ],
       "layout": "IPY_MODEL_453470af07c8453cbfdf6f8d79dfebe8"
      }
     },
     "eef77438bcac4ae8b3c6359cd323e6ad": {
      "model_module": "@jupyter-widgets/base",
      "model_module_version": "1.2.0",
      "model_name": "LayoutModel",
      "state": {}
     },
     "eefeab5d6ede48e49a0b6aff7a4123b5": {
      "model_module": "@jupyter-widgets/controls",
      "model_module_version": "1.5.0",
      "model_name": "DescriptionStyleModel",
      "state": {
       "description_width": ""
      }
     },
     "ef38d4be22bb46c8837361ac270a076a": {
      "model_module": "@jupyter-widgets/base",
      "model_module_version": "1.2.0",
      "model_name": "LayoutModel",
      "state": {}
     },
     "ef7f6d4facff4a3695bbb0bfaf931090": {
      "model_module": "@jupyter-widgets/controls",
      "model_module_version": "1.5.0",
      "model_name": "ButtonModel",
      "state": {
       "description": "Korrekt?",
       "layout": "IPY_MODEL_ff9b4cd05d914d83a3a10362657b8fc1",
       "style": "IPY_MODEL_797c5625a44641efbd6caa93be1c5745"
      }
     },
     "ef8f7bb117414d2c90f6c4e29007f486": {
      "model_module": "@jupyter-widgets/base",
      "model_module_version": "1.2.0",
      "model_name": "LayoutModel",
      "state": {}
     },
     "ef95fdddb1154b1887a235afa253d7c6": {
      "model_module": "@jupyter-widgets/controls",
      "model_module_version": "1.5.0",
      "model_name": "DescriptionStyleModel",
      "state": {
       "description_width": ""
      }
     },
     "ef993d8c55e4473c9339d332e76527ec": {
      "model_module": "@jupyter-widgets/base",
      "model_module_version": "1.2.0",
      "model_name": "LayoutModel",
      "state": {
       "width": "250px"
      }
     },
     "f011d328bad74bc68af1e7ae53e5a58d": {
      "model_module": "@jupyter-widgets/controls",
      "model_module_version": "1.5.0",
      "model_name": "ButtonModel",
      "state": {
       "description": "Abhängigkeitsstruktur",
       "layout": "IPY_MODEL_2b92e8febf004483b96887499802fd22",
       "style": "IPY_MODEL_436e0b4db8cb42c9836822cdc436dd73"
      }
     },
     "f093d11dc9f049e0992f2f56a1ef5e05": {
      "model_module": "@jupyter-widgets/controls",
      "model_module_version": "1.5.0",
      "model_name": "ButtonStyleModel",
      "state": {
       "button_color": "lightgreen"
      }
     },
     "f09a26bb000e4c0598a9a0b7da46ba53": {
      "model_module": "@jupyter-widgets/base",
      "model_module_version": "1.2.0",
      "model_name": "LayoutModel",
      "state": {
       "justify_content": "center"
      }
     },
     "f0e75964a75842f39a3f3bcd0ca49a8a": {
      "model_module": "@jupyter-widgets/base",
      "model_module_version": "1.2.0",
      "model_name": "LayoutModel",
      "state": {}
     },
     "f0ec253ab5334fb39d4451900f51f49c": {
      "model_module": "@jupyter-widgets/controls",
      "model_module_version": "1.5.0",
      "model_name": "VBoxModel",
      "state": {
       "children": [
        "IPY_MODEL_c5ffeb6f3eca43bfa8b4e427320d2080",
        "IPY_MODEL_dacac433f2ab4774884378ba7a61598e",
        "IPY_MODEL_c25c9aab172e4ec28d33f6763a185b2b",
        "IPY_MODEL_0f5cec589dbc4ee39cdc645cdd34591d"
       ],
       "layout": "IPY_MODEL_8c1443d607bd45adbc67a0380e2ecd6e"
      }
     },
     "f13f47f149884b4f8d64d07dde0f78ec": {
      "model_module": "@jupyter-widgets/controls",
      "model_module_version": "1.5.0",
      "model_name": "DescriptionStyleModel",
      "state": {
       "description_width": ""
      }
     },
     "f1550790966a4b2890010d37c31fcdc3": {
      "model_module": "@jupyter-widgets/base",
      "model_module_version": "1.2.0",
      "model_name": "LayoutModel",
      "state": {
       "width": "250px"
      }
     },
     "f1611159489647a6a5866e92cde2dfd8": {
      "model_module": "@jupyter-widgets/controls",
      "model_module_version": "1.5.0",
      "model_name": "ButtonModel",
      "state": {
       "description": "Regelbuch",
       "layout": "IPY_MODEL_1f2038fabb494c2494b0ceeb5e10bc35",
       "style": "IPY_MODEL_0112384cbb444e8abf95e149918371a2"
      }
     },
     "f1695f3040a543b287a94823e5bfe1da": {
      "model_module": "@jupyter-widgets/controls",
      "model_module_version": "1.5.0",
      "model_name": "DescriptionStyleModel",
      "state": {
       "description_width": ""
      }
     },
     "f196948f50594ffcac43efe64ffabd95": {
      "model_module": "@jupyter-widgets/controls",
      "model_module_version": "1.5.0",
      "model_name": "HBoxModel",
      "state": {
       "children": [
        "IPY_MODEL_23f51ae8b1ad46f3b7022b57d7ba7f75",
        "IPY_MODEL_a6fc5e562dd24012a0d167fd8603714c"
       ],
       "layout": "IPY_MODEL_6d8c6c4febef43c1b4525a56eba17a91"
      }
     },
     "f1b4836b4bdc49e48b6e432eca4c397a": {
      "model_module": "@jupyter-widgets/controls",
      "model_module_version": "1.5.0",
      "model_name": "DescriptionStyleModel",
      "state": {
       "description_width": ""
      }
     },
     "f1cb2250a99143a7858ecfec0693cd4f": {
      "model_module": "@jupyter-widgets/controls",
      "model_module_version": "1.5.0",
      "model_name": "ButtonStyleModel",
      "state": {}
     },
     "f1cdb6e1795f43aa9543356ba527d3f7": {
      "model_module": "@jupyter-widgets/controls",
      "model_module_version": "1.5.0",
      "model_name": "VBoxModel",
      "state": {
       "children": [
        "IPY_MODEL_b9ed407f531f408a9230fec378e03339",
        "IPY_MODEL_fb243e5bc3e04fcfb564faf10948fc49",
        "IPY_MODEL_a70252aa82be41ba87e523ba1651c34e",
        "IPY_MODEL_ae6c7426ebb04448b115209e7ad3eee1"
       ],
       "layout": "IPY_MODEL_b96f25a04d3e4bc2b53faf4248ef5914"
      }
     },
     "f1f08530c6d4478c93339383c94519fc": {
      "model_module": "@jupyter-widgets/controls",
      "model_module_version": "1.5.0",
      "model_name": "HBoxModel",
      "state": {
       "children": [
        "IPY_MODEL_f983a37d9be040d283d9782ad1f55390",
        "IPY_MODEL_487a2690b1fa4cc8b1b55ba8cbb89ec5"
       ],
       "layout": "IPY_MODEL_4e17120fc9834a4881174e2a64fc89f7"
      }
     },
     "f1f32208eb9f4b43bfcdab4cf4d8abbe": {
      "model_module": "@jupyter-widgets/base",
      "model_module_version": "1.2.0",
      "model_name": "LayoutModel",
      "state": {
       "justify_content": "center"
      }
     },
     "f1fa06e117ee4729b18efbb722726e8e": {
      "model_module": "@jupyter-widgets/base",
      "model_module_version": "1.2.0",
      "model_name": "LayoutModel",
      "state": {}
     },
     "f29fd7829abc4a1eae0a15052c576b16": {
      "model_module": "@jupyter-widgets/controls",
      "model_module_version": "1.5.0",
      "model_name": "DescriptionStyleModel",
      "state": {
       "description_width": "initial"
      }
     },
     "f31f771c2574472b8e8d0248b33a5576": {
      "model_module": "@jupyter-widgets/base",
      "model_module_version": "1.2.0",
      "model_name": "LayoutModel",
      "state": {}
     },
     "f337d7cc3c034a2090495a033dc3e66f": {
      "model_module": "@jupyter-widgets/base",
      "model_module_version": "1.2.0",
      "model_name": "LayoutModel",
      "state": {
       "width": "250px"
      }
     },
     "f34c33818e544a79974a708057579322": {
      "model_module": "@jupyter-widgets/controls",
      "model_module_version": "1.5.0",
      "model_name": "ButtonStyleModel",
      "state": {}
     },
     "f368178678c246ca8bf2032acc1818dc": {
      "model_module": "@jupyter-widgets/base",
      "model_module_version": "1.2.0",
      "model_name": "LayoutModel",
      "state": {}
     },
     "f3779cce3bf244e293a383a7f908b2b6": {
      "model_module": "@jupyter-widgets/base",
      "model_module_version": "1.2.0",
      "model_name": "LayoutModel",
      "state": {}
     },
     "f3cba5e7961f4a35ad7b75a4a9afdd06": {
      "model_module": "@jupyter-widgets/base",
      "model_module_version": "1.2.0",
      "model_name": "LayoutModel",
      "state": {}
     },
     "f3ea85efb0e34d3e9d445a902829c9f4": {
      "model_module": "@jupyter-widgets/base",
      "model_module_version": "1.2.0",
      "model_name": "LayoutModel",
      "state": {
       "width": "250px"
      }
     },
     "f401cc6cfa194611ac1d2815b56a726d": {
      "model_module": "@jupyter-widgets/controls",
      "model_module_version": "1.5.0",
      "model_name": "ButtonStyleModel",
      "state": {}
     },
     "f405cfaaf8bd4e5392836921ae14dc4d": {
      "model_module": "@jupyter-widgets/base",
      "model_module_version": "1.2.0",
      "model_name": "LayoutModel",
      "state": {
       "justify_content": "center"
      }
     },
     "f411b8bdde58469ab3c88395a7eecbe3": {
      "model_module": "@jupyter-widgets/controls",
      "model_module_version": "1.5.0",
      "model_name": "DescriptionStyleModel",
      "state": {
       "description_width": ""
      }
     },
     "f412dd4ee66d4bd29932087a2f0e4b8a": {
      "model_module": "@jupyter-widgets/controls",
      "model_module_version": "1.5.0",
      "model_name": "DescriptionStyleModel",
      "state": {
       "description_width": "initial"
      }
     },
     "f4923fa86ba34a418fc2867cbd89abb3": {
      "model_module": "@jupyter-widgets/controls",
      "model_module_version": "1.5.0",
      "model_name": "ButtonModel",
      "state": {
       "description": "Korrekt?",
       "layout": "IPY_MODEL_841ac2dbaa1d4700af7013fdd5b702e4",
       "style": "IPY_MODEL_772e59e9a2ce42eaa4fd56c39f46152e"
      }
     },
     "f4aa70ec806841e3a3442ae2d874507d": {
      "model_module": "@jupyter-widgets/base",
      "model_module_version": "1.2.0",
      "model_name": "LayoutModel",
      "state": {}
     },
     "f4b686a5decb4a6d880fafd72183e159": {
      "model_module": "@jupyter-widgets/controls",
      "model_module_version": "1.5.0",
      "model_name": "HBoxModel",
      "state": {
       "children": [
        "IPY_MODEL_b7e0ad7c73ba4a0fa9b97bf7ccfaa9d1",
        "IPY_MODEL_697688089cd24826bdf28047e4f45388"
       ],
       "layout": "IPY_MODEL_7c3567db1e5f44c6ac059de20111b3a2"
      }
     },
     "f4dee1436a4f483ab352049ce2c7783e": {
      "model_module": "@jupyter-widgets/controls",
      "model_module_version": "1.5.0",
      "model_name": "CheckboxModel",
      "state": {
       "description": "Konstituentenbaum mit Phrasenlabels als Knoten",
       "disabled": false,
       "layout": "IPY_MODEL_1f9f4cd08d8a42a1840271656f483ac0",
       "style": "IPY_MODEL_f9eaddb099f24faba965e1a190e72feb",
       "value": true
      }
     },
     "f4f9a57541d042de8e45911ef0b387dc": {
      "model_module": "@jupyter-widgets/base",
      "model_module_version": "1.2.0",
      "model_name": "LayoutModel",
      "state": {
       "width": "250px"
      }
     },
     "f508ecd89d3a470a856696e8b2e5b170": {
      "model_module": "@jupyter-widgets/controls",
      "model_module_version": "1.5.0",
      "model_name": "DescriptionStyleModel",
      "state": {
       "description_width": "initial"
      }
     },
     "f532e02ad30d40e395616809cab826d9": {
      "model_module": "@jupyter-widgets/base",
      "model_module_version": "1.2.0",
      "model_name": "LayoutModel",
      "state": {
       "justify_content": "center"
      }
     },
     "f55bdd4d680f44d7b15ad16045135824": {
      "model_module": "@jupyter-widgets/base",
      "model_module_version": "1.2.0",
      "model_name": "LayoutModel",
      "state": {
       "width": "250px"
      }
     },
     "f56989a32d2e4438a6c2c876b055d49c": {
      "model_module": "@jupyter-widgets/controls",
      "model_module_version": "1.5.0",
      "model_name": "HTMLModel",
      "state": {
       "layout": "IPY_MODEL_f8421095d865453090b2d215cb94dba2",
       "style": "IPY_MODEL_b72a6ac116154924a4b611a78af4ec54",
       "value": "<i>Wählen Sie die <ins>eine</ins> korrekte Antwort aus: </i>"
      }
     },
     "f56f652c2809437d89567f1d3f50e750": {
      "model_module": "@jupyter-widgets/controls",
      "model_module_version": "1.5.0",
      "model_name": "DescriptionStyleModel",
      "state": {
       "description_width": ""
      }
     },
     "f5ae8672fe9046f4bcddf13c59d24ce1": {
      "model_module": "@jupyter-widgets/controls",
      "model_module_version": "1.5.0",
      "model_name": "VBoxModel",
      "state": {
       "children": [
        "IPY_MODEL_d2a1e5cf711f45078d83692b512b2f2b",
        "IPY_MODEL_e71478d44d34492e88e1b7fff5cfbacc",
        "IPY_MODEL_cebe63b0f872427c8807d0016552bd2f",
        "IPY_MODEL_085207b9326a49f3be2388e86481d652"
       ],
       "layout": "IPY_MODEL_222f5fd1a4f34779b54dc411dace0f11"
      }
     },
     "f5ccea2227184321a9fecbe0d05388cc": {
      "model_module": "@jupyter-widgets/controls",
      "model_module_version": "1.5.0",
      "model_name": "HBoxModel",
      "state": {
       "children": [
        "IPY_MODEL_cb14d047728740f18029e1f33aa39b53",
        "IPY_MODEL_1f1de2277f114adeb31acc9215fc6105"
       ],
       "layout": "IPY_MODEL_dfbd0d1f3db14785a1d9ff305ed4c5c3"
      }
     },
     "f5d0cf87e68d48249e8dbf0e2a1bb30b": {
      "model_module": "@jupyter-widgets/controls",
      "model_module_version": "1.5.0",
      "model_name": "ButtonStyleModel",
      "state": {}
     },
     "f5df475a05cd405084d35014171f928b": {
      "model_module": "@jupyter-widgets/controls",
      "model_module_version": "1.5.0",
      "model_name": "VBoxModel",
      "state": {
       "children": [
        "IPY_MODEL_659a2042b78a444e8475b90a5ce45d17",
        "IPY_MODEL_d72ed6db764d4fcb9c972e9ff465ff48",
        "IPY_MODEL_091510278df44cc6a84fc303290371b0",
        "IPY_MODEL_f196948f50594ffcac43efe64ffabd95"
       ],
       "layout": "IPY_MODEL_34da5ccf21d14c90a51fc9e3298a8751"
      }
     },
     "f601ebb726014d06aa6867f2e85a5912": {
      "model_module": "@jupyter-widgets/controls",
      "model_module_version": "1.5.0",
      "model_name": "DescriptionStyleModel",
      "state": {
       "description_width": ""
      }
     },
     "f63fe4924140496485e6bf3cb3ed801e": {
      "model_module": "@jupyter-widgets/base",
      "model_module_version": "1.2.0",
      "model_name": "LayoutModel",
      "state": {
       "width": "250px"
      }
     },
     "f65a17afcfc7481e8efde585c26b95ea": {
      "model_module": "@jupyter-widgets/base",
      "model_module_version": "1.2.0",
      "model_name": "LayoutModel",
      "state": {
       "width": "250px"
      }
     },
     "f6c1d5a0ba1b4ea1a04b433cb4a9d19d": {
      "model_module": "@jupyter-widgets/controls",
      "model_module_version": "1.5.0",
      "model_name": "ButtonModel",
      "state": {
       "description": "Theorie der Sprachstruktur",
       "layout": "IPY_MODEL_6de00decf1a64357809e7437ea63b8bd",
       "style": "IPY_MODEL_32983a4132bc4e658806720f4ae21269"
      }
     },
     "f6c3e92caae9428ebbb3c28fc3cf540f": {
      "model_module": "@jupyter-widgets/base",
      "model_module_version": "1.2.0",
      "model_name": "LayoutModel",
      "state": {
       "justify_content": "center"
      }
     },
     "f6c62f8a32bd4c79afef42f982bcbc28": {
      "model_module": "@jupyter-widgets/base",
      "model_module_version": "1.2.0",
      "model_name": "LayoutModel",
      "state": {}
     },
     "f6e1713e0a09480fb049cf7dd97ed8dc": {
      "model_module": "@jupyter-widgets/controls",
      "model_module_version": "1.5.0",
      "model_name": "VBoxModel",
      "state": {
       "children": [
        "IPY_MODEL_361ed22d3c284156b9f5c4287a6ad7a4",
        "IPY_MODEL_17a08e20654e4fd2bb25c2985cd35433",
        "IPY_MODEL_9de77cf88e03431eb404187a63692310",
        "IPY_MODEL_2cbe85d8e5f14380b51dff9bb30ffd8d"
       ],
       "layout": "IPY_MODEL_73a93f3d37924baabbd9d1702db9b08e"
      }
     },
     "f71526a08516428887e90d0611fa4900": {
      "model_module": "@jupyter-widgets/base",
      "model_module_version": "1.2.0",
      "model_name": "LayoutModel",
      "state": {}
     },
     "f75689c3e66e4d4397fe2248b1c2c625": {
      "model_module": "@jupyter-widgets/controls",
      "model_module_version": "1.5.0",
      "model_name": "ButtonModel",
      "state": {
       "description": "Wissen um Sprachstruktur",
       "layout": "IPY_MODEL_6f4fa37d385640e0945c55abe86a3cf0",
       "style": "IPY_MODEL_cea11002e0524087abac2b04a9f24669"
      }
     },
     "f78ae04bb01c4218883d5cc52055c740": {
      "model_module": "@jupyter-widgets/base",
      "model_module_version": "1.2.0",
      "model_name": "LayoutModel",
      "state": {
       "justify_content": "center"
      }
     },
     "f79741bdc625471e887744d11132c4fe": {
      "model_module": "@jupyter-widgets/base",
      "model_module_version": "1.2.0",
      "model_name": "LayoutModel",
      "state": {}
     },
     "f7a2bcfd8d7f455a9c876d34ebca4fdf": {
      "model_module": "@jupyter-widgets/base",
      "model_module_version": "1.2.0",
      "model_name": "LayoutModel",
      "state": {
       "width": "600px"
      }
     },
     "f7a37cc23a2344b8a09ce6ddbfb08951": {
      "model_module": "@jupyter-widgets/controls",
      "model_module_version": "1.5.0",
      "model_name": "HTMLModel",
      "state": {
       "layout": "IPY_MODEL_f9ed6b43553c4003af20294a0ba48055",
       "style": "IPY_MODEL_39a0459f57654271804ea6b419e323d9",
       "value": "<i>Wählen Sie die <ins>eine</ins> korrekte Antwort aus: </i>"
      }
     },
     "f7a3d5f51efd471cac089462c9d1b927": {
      "model_module": "@jupyter-widgets/controls",
      "model_module_version": "1.5.0",
      "model_name": "HTMLModel",
      "state": {
       "layout": "IPY_MODEL_df6328bff7b64478943da6b0dc2e54f2",
       "style": "IPY_MODEL_4e0b3554ce6644539c59d9b350248676",
       "value": "<h4 style=\"font-size:14px;\">Was ist der Ursprung der Ambiguität?</h4>"
      }
     },
     "f7b4dfbdfade4afd9a6e971bc22e38a7": {
      "model_module": "@jupyter-widgets/controls",
      "model_module_version": "1.5.0",
      "model_name": "ButtonModel",
      "state": {
       "description": "Wortart des Phrasenkopfes",
       "layout": "IPY_MODEL_3c2fc249baa24dd6b69256ba4dbf5cd2",
       "style": "IPY_MODEL_0c716be79e0c48efac1ef1ba6a822b34"
      }
     },
     "f7c0ad20710249f1bf9bbd5bdd669c51": {
      "model_module": "@jupyter-widgets/controls",
      "model_module_version": "1.5.0",
      "model_name": "DescriptionStyleModel",
      "state": {
       "description_width": ""
      }
     },
     "f7c973498dd64eca8c3ba6be9dcfe153": {
      "model_module": "@jupyter-widgets/base",
      "model_module_version": "1.2.0",
      "model_name": "LayoutModel",
      "state": {
       "justify_content": "center"
      }
     },
     "f7d7df2530c24bddad94757e705fc58c": {
      "model_module": "@jupyter-widgets/base",
      "model_module_version": "1.2.0",
      "model_name": "LayoutModel",
      "state": {
       "width": "600px"
      }
     },
     "f801a5fea1394eb397524e1ba9efd8d7": {
      "model_module": "@jupyter-widgets/controls",
      "model_module_version": "1.5.0",
      "model_name": "DescriptionStyleModel",
      "state": {
       "description_width": "initial"
      }
     },
     "f80d003aa3c249ebb95f6646ad520043": {
      "model_module": "@jupyter-widgets/controls",
      "model_module_version": "1.5.0",
      "model_name": "HTMLModel",
      "state": {
       "layout": "IPY_MODEL_e82ee3753b8d4eb4949769861c3aaeb8",
       "style": "IPY_MODEL_97b1def6880d44b1ba40534b0636b0c4",
       "value": "<h4 style=\"font-size:14px;\">Welche Vorteile hat die Modellierung der Satzstruktur mit Hilfe einer formalen Grammatik?</h4>"
      }
     },
     "f8421095d865453090b2d215cb94dba2": {
      "model_module": "@jupyter-widgets/base",
      "model_module_version": "1.2.0",
      "model_name": "LayoutModel",
      "state": {
       "justify_content": "center"
      }
     },
     "f85dd356dfb3450ba86283d037ace83f": {
      "model_module": "@jupyter-widgets/controls",
      "model_module_version": "1.5.0",
      "model_name": "ButtonModel",
      "state": {
       "description": "Korrekt?",
       "layout": "IPY_MODEL_c7da39901de54b009d386e6f590f8701",
       "style": "IPY_MODEL_47f13f73d59949fd9f2ccd2bf03dd7fd"
      }
     },
     "f8a2cf9fd5764c21be50e0c071a028d4": {
      "model_module": "@jupyter-widgets/controls",
      "model_module_version": "1.5.0",
      "model_name": "HBoxModel",
      "state": {
       "children": [
        "IPY_MODEL_27cf857bab86419ea89157fa3edf9f17"
       ],
       "layout": "IPY_MODEL_5136a0ec7fd24dc5a28f657218b94b41"
      }
     },
     "f8fd35a79ff34b6090eeb8c3b8dbfacc": {
      "model_module": "@jupyter-widgets/controls",
      "model_module_version": "1.5.0",
      "model_name": "VBoxModel",
      "state": {
       "children": [
        "IPY_MODEL_d676ba3a098e403cbc568690e010e6a3",
        "IPY_MODEL_54c6d428f8b34a76957b8dc722f23dcd",
        "IPY_MODEL_0a0199ef1d094cfeb65fbc2478b78afc"
       ],
       "layout": "IPY_MODEL_5e2890841c724d12a4543e98561fd54b"
      }
     },
     "f922afe9788f4d00aaf4efea8cd4f0e7": {
      "model_module": "@jupyter-widgets/controls",
      "model_module_version": "1.5.0",
      "model_name": "VBoxModel",
      "state": {
       "children": [
        "IPY_MODEL_a3158a6da4314937bf7787b6db52dd66",
        "IPY_MODEL_3b27b275ea894f47815b43c3e73d392d",
        "IPY_MODEL_ae78c0c031c54ee18beb3e9bbf8d69bf",
        "IPY_MODEL_e65c35cb2d144823808c89afa92bd351"
       ],
       "layout": "IPY_MODEL_3dac38b012e04b4e8c7ddc35df725486"
      }
     },
     "f93c3fe026034ba8a55595088315ed13": {
      "model_module": "@jupyter-widgets/controls",
      "model_module_version": "1.5.0",
      "model_name": "DescriptionStyleModel",
      "state": {
       "description_width": "initial"
      }
     },
     "f957e010ac004584b6eae2efeb77ce80": {
      "model_module": "@jupyter-widgets/controls",
      "model_module_version": "1.5.0",
      "model_name": "VBoxModel",
      "state": {
       "children": [
        "IPY_MODEL_7f0f55eea65344729ff82f74af579074",
        "IPY_MODEL_eeadcce4f46f49f994f8a1a5a1de3616",
        "IPY_MODEL_58c060a8106d4df5a56fc295e1fe2a2c",
        "IPY_MODEL_d90b93f7b4f5462abd43ca07df1152fd"
       ],
       "layout": "IPY_MODEL_e41e252ab16f4cc59c5e27ed8d70bf61"
      }
     },
     "f9609be993284d60af49f0f86cba4b7a": {
      "model_module": "@jupyter-widgets/controls",
      "model_module_version": "1.5.0",
      "model_name": "CheckboxModel",
      "state": {
       "description": "Satzebene, Textebene, Bedeutungsebene",
       "disabled": false,
       "layout": "IPY_MODEL_b5d4af85ea684ab790ea4c095e8bbcd0",
       "style": "IPY_MODEL_bf4d0d51992e4c8a9a1e0520da2e25a6",
       "value": false
      }
     },
     "f983a37d9be040d283d9782ad1f55390": {
      "model_module": "@jupyter-widgets/controls",
      "model_module_version": "1.5.0",
      "model_name": "ButtonModel",
      "state": {
       "description": "Übergenerierung",
       "layout": "IPY_MODEL_43fc75b7bdea4feb9c7a7fd29d1c5b14",
       "style": "IPY_MODEL_7f75d862944a4512acaf3dcd1cae7f92"
      }
     },
     "f99f51fc0a7040d9ad4d90aaa063080f": {
      "model_module": "@jupyter-widgets/controls",
      "model_module_version": "1.5.0",
      "model_name": "CheckboxModel",
      "state": {
       "description": "Konstituentenbaum mit gelabelten Kanten",
       "disabled": false,
       "layout": "IPY_MODEL_036b1880f182410680969af6169acca1",
       "style": "IPY_MODEL_715a5918039945e3948d807791110cf6",
       "value": false
      }
     },
     "f9cd89a3a2c14d59a4bedaf18324894e": {
      "model_module": "@jupyter-widgets/controls",
      "model_module_version": "1.5.0",
      "model_name": "DescriptionStyleModel",
      "state": {
       "description_width": "initial"
      }
     },
     "f9e703bc335a483bb52615b36bec6bd5": {
      "model_module": "@jupyter-widgets/controls",
      "model_module_version": "1.5.0",
      "model_name": "HTMLModel",
      "state": {
       "layout": "IPY_MODEL_ca0a91b0105a429986e2363e0f71bab3",
       "style": "IPY_MODEL_a5dbe4df7ebb499ab7495b6cd3882343",
       "value": "<h4 style=\"font-size:14px;\">In welcher Form wird die syntaktische Struktur eines Satzes beim Aufruf von NLTK tree.draw() erstellt?</h4>"
      }
     },
     "f9eaddb099f24faba965e1a190e72feb": {
      "model_module": "@jupyter-widgets/controls",
      "model_module_version": "1.5.0",
      "model_name": "DescriptionStyleModel",
      "state": {
       "description_width": "initial"
      }
     },
     "f9ed6b43553c4003af20294a0ba48055": {
      "model_module": "@jupyter-widgets/base",
      "model_module_version": "1.2.0",
      "model_name": "LayoutModel",
      "state": {
       "justify_content": "center"
      }
     },
     "fa210e012015404595fe23627895e6d6": {
      "model_module": "@jupyter-widgets/controls",
      "model_module_version": "1.5.0",
      "model_name": "HBoxModel",
      "state": {
       "children": [
        "IPY_MODEL_753e44ee88b143f999239946730aaf37",
        "IPY_MODEL_467cc6ff03d24d6a98c82a0b9b3826d2"
       ],
       "layout": "IPY_MODEL_400d0d94094845fc859c84d45d8b9799"
      }
     },
     "fa4200a6a5c74ba7a9244d7ed601c668": {
      "model_module": "@jupyter-widgets/base",
      "model_module_version": "1.2.0",
      "model_name": "LayoutModel",
      "state": {}
     },
     "fa58b151481b42b2b30d6071df92f79d": {
      "model_module": "@jupyter-widgets/base",
      "model_module_version": "1.2.0",
      "model_name": "LayoutModel",
      "state": {}
     },
     "fa74135a0de8445c8faada4eadab1343": {
      "model_module": "@jupyter-widgets/base",
      "model_module_version": "1.2.0",
      "model_name": "LayoutModel",
      "state": {
       "justify_content": "center"
      }
     },
     "fa782ab630b5488c85ed2786cf0cff6a": {
      "model_module": "@jupyter-widgets/base",
      "model_module_version": "1.2.0",
      "model_name": "LayoutModel",
      "state": {
       "width": "600px"
      }
     },
     "fa8fd32eae04486fad24e988fdb06638": {
      "model_module": "@jupyter-widgets/controls",
      "model_module_version": "1.5.0",
      "model_name": "ButtonModel",
      "state": {
       "description": "Theorie der Sprachstruktur",
       "layout": "IPY_MODEL_cff182ac821b4c8ea9990f1861756418",
       "style": "IPY_MODEL_539deb1b8a634622a9bcb824bb16ca2e"
      }
     },
     "fa958d99bd4341768d6bda96c1fbd590": {
      "model_module": "@jupyter-widgets/base",
      "model_module_version": "1.2.0",
      "model_name": "LayoutModel",
      "state": {}
     },
     "fa9f0d904f1b44d89b7bc9a890d3b810": {
      "model_module": "@jupyter-widgets/controls",
      "model_module_version": "1.5.0",
      "model_name": "DescriptionStyleModel",
      "state": {
       "description_width": ""
      }
     },
     "fadc53b727514c81bcbb95ac827865af": {
      "model_module": "@jupyter-widgets/base",
      "model_module_version": "1.2.0",
      "model_name": "LayoutModel",
      "state": {}
     },
     "fb03f3e4342c4ffcb28e9f422e97e814": {
      "model_module": "@jupyter-widgets/base",
      "model_module_version": "1.2.0",
      "model_name": "LayoutModel",
      "state": {
       "width": "250px"
      }
     },
     "fb243e5bc3e04fcfb564faf10948fc49": {
      "model_module": "@jupyter-widgets/controls",
      "model_module_version": "1.5.0",
      "model_name": "HTMLModel",
      "state": {
       "layout": "IPY_MODEL_42873a6bcb6048a58b016ff8c0ff5dd1",
       "style": "IPY_MODEL_0a81aa8e299a4193bdcf0d47c6b9e066",
       "value": "<i>Wählen Sie die <ins>eine</ins> korrekte Antwort aus: </i>"
      }
     },
     "fb2626c497464eb7b637f565d5ae631d": {
      "model_module": "@jupyter-widgets/base",
      "model_module_version": "1.2.0",
      "model_name": "LayoutModel",
      "state": {
       "width": "250px"
      }
     },
     "fb59820c2d1a40198dbded5273b6070d": {
      "model_module": "@jupyter-widgets/controls",
      "model_module_version": "1.5.0",
      "model_name": "HTMLModel",
      "state": {
       "layout": "IPY_MODEL_747ece8df8f04385ab2ed6e37b646fdb",
       "style": "IPY_MODEL_863150abc5cc4f2cb0ee3203c6c6f9f9",
       "value": "<h4 style=\"font-size:14px;\">Was ist der Fall, wenn die PP ein Attribut ist?</h4>"
      }
     },
     "fb61b85cc79c4152b282945da4b5e9e2": {
      "model_module": "@jupyter-widgets/base",
      "model_module_version": "1.2.0",
      "model_name": "LayoutModel",
      "state": {}
     },
     "fb6ea89cbda54af4a619ab5f25f52f84": {
      "model_module": "@jupyter-widgets/controls",
      "model_module_version": "1.5.0",
      "model_name": "ButtonStyleModel",
      "state": {}
     },
     "fb8a94a189a14112ab3fb1231da0cddd": {
      "model_module": "@jupyter-widgets/base",
      "model_module_version": "1.2.0",
      "model_name": "LayoutModel",
      "state": {
       "width": "600px"
      }
     },
     "fb8e33dc587347d2a2dbc84fa8ae68b8": {
      "model_module": "@jupyter-widgets/controls",
      "model_module_version": "1.5.0",
      "model_name": "DescriptionStyleModel",
      "state": {
       "description_width": ""
      }
     },
     "fbd06a4747de4bbfa1e6616f991aef7d": {
      "model_module": "@jupyter-widgets/controls",
      "model_module_version": "1.5.0",
      "model_name": "ButtonModel",
      "state": {
       "description": "Wissen um Sprachstruktur",
       "layout": "IPY_MODEL_059b1e9ca30046b69cbc3e025e166e94",
       "style": "IPY_MODEL_4fbb509eb6314dcaa759add32272bd7a"
      }
     },
     "fbf3dd09b5fe46d594cff9c9f68eb7e2": {
      "model_module": "@jupyter-widgets/controls",
      "model_module_version": "1.5.0",
      "model_name": "HTMLModel",
      "state": {
       "layout": "IPY_MODEL_015f56cec59e4174a627a88694e92863",
       "style": "IPY_MODEL_41ed68868865422296d774a4d215922d",
       "value": "<h4 style=\"font-size:14px;\">Was sind die 3 grundlegenden Beschreibungsebenen der Grammatik natürlicher Sprachen?</h4>"
      }
     },
     "fc2c57df15b04e31b3e8e62bc88321cb": {
      "model_module": "@jupyter-widgets/base",
      "model_module_version": "1.2.0",
      "model_name": "LayoutModel",
      "state": {}
     },
     "fc51ba614bca454f9698fbe551e8431e": {
      "model_module": "@jupyter-widgets/controls",
      "model_module_version": "1.5.0",
      "model_name": "ButtonStyleModel",
      "state": {}
     },
     "fc714ad4e241416caf9350ce1d375688": {
      "model_module": "@jupyter-widgets/base",
      "model_module_version": "1.2.0",
      "model_name": "LayoutModel",
      "state": {
       "width": "250px"
      }
     },
     "fc7e75e867ad425f98d3ee9082e01418": {
      "model_module": "@jupyter-widgets/controls",
      "model_module_version": "1.5.0",
      "model_name": "DescriptionStyleModel",
      "state": {
       "description_width": "initial"
      }
     },
     "fc7fe58a58d0420da09cb1804a03ca63": {
      "model_module": "@jupyter-widgets/base",
      "model_module_version": "1.2.0",
      "model_name": "LayoutModel",
      "state": {
       "width": "250px"
      }
     },
     "fccb1bd270f44dea8943a6614e42e75b": {
      "model_module": "@jupyter-widgets/controls",
      "model_module_version": "1.5.0",
      "model_name": "HBoxModel",
      "state": {
       "children": [
        "IPY_MODEL_6e68dbdae30749a1ac520bfcc278e85c",
        "IPY_MODEL_b0bf69292b49490e805e48bb4e7e0a4d"
       ],
       "layout": "IPY_MODEL_dc4a9b4005ed4dc4b80d5b64564d05ed"
      }
     },
     "fcd90fd80e5f44aea9862f787d7a9ae2": {
      "model_module": "@jupyter-widgets/controls",
      "model_module_version": "1.5.0",
      "model_name": "DescriptionStyleModel",
      "state": {
       "description_width": ""
      }
     },
     "fcec6af55dee4093833c70c2486ad04b": {
      "model_module": "@jupyter-widgets/controls",
      "model_module_version": "1.5.0",
      "model_name": "VBoxModel",
      "state": {
       "children": [
        "IPY_MODEL_e42572e2347e45b19c0abf7c5bd60c25",
        "IPY_MODEL_2e425644bddc4ca38fbc51ded423f191",
        "IPY_MODEL_e618764022e840119b2fad3db64ffc05"
       ],
       "layout": "IPY_MODEL_ef8f7bb117414d2c90f6c4e29007f486"
      }
     },
     "fcfcaaf27aeb4ac8979fc3c97b5bc27a": {
      "model_module": "@jupyter-widgets/base",
      "model_module_version": "1.2.0",
      "model_name": "LayoutModel",
      "state": {
       "justify_content": "center"
      }
     },
     "fd19da1bcd154bcd995d0c037c34d087": {
      "model_module": "@jupyter-widgets/controls",
      "model_module_version": "1.5.0",
      "model_name": "HBoxModel",
      "state": {
       "children": [
        "IPY_MODEL_53fbf76be861403fad4646a16047db60",
        "IPY_MODEL_cda8786ab5bb4cafa15ac08d04152e9c"
       ],
       "layout": "IPY_MODEL_1c0cef85e4d1404f907952604571b98b"
      }
     },
     "fd8aaa3bdb254ef3a5add2600c8fe407": {
      "model_module": "@jupyter-widgets/controls",
      "model_module_version": "1.5.0",
      "model_name": "CheckboxModel",
      "state": {
       "description": "Subjekt-Nominalphrase",
       "disabled": false,
       "layout": "IPY_MODEL_7a6530a6de8146919c21b877862ac1e9",
       "style": "IPY_MODEL_c4b67442e2a94d8c96f8fdd1ebfd4100",
       "value": false
      }
     },
     "fdf3f50a3e554e14b340323fdd6b339e": {
      "model_module": "@jupyter-widgets/controls",
      "model_module_version": "1.5.0",
      "model_name": "DescriptionStyleModel",
      "state": {
       "description_width": ""
      }
     },
     "fdfbfdad881e412c961f32c200dafbd5": {
      "model_module": "@jupyter-widgets/controls",
      "model_module_version": "1.5.0",
      "model_name": "ButtonStyleModel",
      "state": {}
     },
     "fe3fef1c0b22484ba153f48e1031a0e3": {
      "model_module": "@jupyter-widgets/controls",
      "model_module_version": "1.5.0",
      "model_name": "DescriptionStyleModel",
      "state": {
       "description_width": ""
      }
     },
     "fe4564dd6770425c9949d3e005686d1a": {
      "model_module": "@jupyter-widgets/controls",
      "model_module_version": "1.5.0",
      "model_name": "HTMLModel",
      "state": {
       "layout": "IPY_MODEL_5f08d9a5c896474392e72e8af3524897",
       "style": "IPY_MODEL_504e79ee48da443a80904ba21c2b0e40",
       "value": "<h4 style=\"font-size:14px;\">Welcher Grammatikbegriff liegt Satz 2 zugrunde?</h4>"
      }
     },
     "fe576ba4d4914d80835d1a2b1f8bad99": {
      "model_module": "@jupyter-widgets/base",
      "model_module_version": "1.2.0",
      "model_name": "LayoutModel",
      "state": {
       "width": "600px"
      }
     },
     "fe5ada0e87444858b6b75131aac58e2a": {
      "model_module": "@jupyter-widgets/controls",
      "model_module_version": "1.5.0",
      "model_name": "DescriptionStyleModel",
      "state": {
       "description_width": "initial"
      }
     },
     "fe71c44cf7464d97b599ba366504a15d": {
      "model_module": "@jupyter-widgets/base",
      "model_module_version": "1.2.0",
      "model_name": "LayoutModel",
      "state": {
       "width": "250px"
      }
     },
     "feb97e37fa7f4a6eb0ecb12841e34f12": {
      "model_module": "@jupyter-widgets/base",
      "model_module_version": "1.2.0",
      "model_name": "LayoutModel",
      "state": {
       "width": "500px"
      }
     },
     "ff30edb669ca47938367b83865dd1ca3": {
      "model_module": "@jupyter-widgets/base",
      "model_module_version": "1.2.0",
      "model_name": "LayoutModel",
      "state": {
       "width": "600px"
      }
     },
     "ff3874f78b8d43189f795b5f2edaf772": {
      "model_module": "@jupyter-widgets/controls",
      "model_module_version": "1.5.0",
      "model_name": "DropdownModel",
      "state": {
       "_options_labels": [
        "Keine der Alternativen",
        "der Ort des Geschehens wird festgelegt",
        "die PP wird dem Substantiv beigefügt",
        "die im Verb ausgedrückte Tätigkeit wird modifiziert"
       ],
       "description": "Antwort:",
       "index": 0,
       "layout": "IPY_MODEL_142bd5a4be23483fbdd1e3b18eef7e4d",
       "style": "IPY_MODEL_32aa450bdeb0498f82ef90a0c1662ba6"
      }
     },
     "ff42c00bc2534bf6920ff4e6a5193eb2": {
      "model_module": "@jupyter-widgets/controls",
      "model_module_version": "1.5.0",
      "model_name": "VBoxModel",
      "state": {
       "children": [
        "IPY_MODEL_78c03928879a4e5eac32930f843e9be3",
        "IPY_MODEL_774949a4a60143f581e803e7f01cafbb",
        "IPY_MODEL_90d93a387ba04160b27115cb49cc8295",
        "IPY_MODEL_fd19da1bcd154bcd995d0c037c34d087"
       ],
       "layout": "IPY_MODEL_a989b243f08d4121b71744c235f6eb16"
      }
     },
     "ff9b4cd05d914d83a3a10362657b8fc1": {
      "model_module": "@jupyter-widgets/base",
      "model_module_version": "1.2.0",
      "model_name": "LayoutModel",
      "state": {
       "width": "250px"
      }
     },
     "ffa5a63a8c6f4e1aae1132da88429c0c": {
      "model_module": "@jupyter-widgets/controls",
      "model_module_version": "1.5.0",
      "model_name": "HTMLModel",
      "state": {
       "layout": "IPY_MODEL_2c594576b9804c4a9a4a4d4ce8e2f7a0",
       "style": "IPY_MODEL_d4d160e720c046d28bfcbf9b5b3f8acf",
       "value": "<h4 style=\"font-size:14px;\">der formalen Sprache.</h4>"
      }
     },
     "fff5a7e4e9104b17bac9403f96ea852b": {
      "model_module": "@jupyter-widgets/base",
      "model_module_version": "1.2.0",
      "model_name": "LayoutModel",
      "state": {
       "width": "250px"
      }
     },
     "fffb750a27c04d5cb18a40d0cee24853": {
      "model_module": "@jupyter-widgets/controls",
      "model_module_version": "1.5.0",
      "model_name": "ButtonStyleModel",
      "state": {}
     }
    },
    "version_major": 2,
    "version_minor": 0
   }
  }
 },
 "nbformat": 4,
 "nbformat_minor": 2
}
