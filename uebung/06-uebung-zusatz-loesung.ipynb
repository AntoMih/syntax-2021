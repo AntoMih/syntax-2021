{
 "cells": [
  {
   "cell_type": "markdown",
   "metadata": {},
   "source": [
    "***Vorlesung 'Syntax natürlicher Sprachen'***\n",
    "\n",
    "--- \n",
    "# Zusatzübung 6: Feature-Based Grammars (FCFGs)"
   ]
  },
  {
   "cell_type": "code",
   "execution_count": 1,
   "metadata": {},
   "outputs": [],
   "source": [
    "import nltk\n",
    "from nltk import Tree"
   ]
  },
  {
   "cell_type": "markdown",
   "metadata": {},
   "source": [
    "---\n",
    "### Aufgabe: `TENSE`- und `NUM`-Merkmale und -Constraints ergänzen"
   ]
  },
  {
   "cell_type": "code",
   "execution_count": 2,
   "metadata": {},
   "outputs": [],
   "source": [
    "gramstring = r\"\"\"\n",
    "# S expansion productions\n",
    "S -> NP[] VP[]\n",
    "\n",
    "# NP expansion productions\n",
    "NP[] -> N[] \n",
    "NP[] -> PropN[] \n",
    "NP[] -> Det[] N[]\n",
    "\n",
    "# VP expansion productions\n",
    "VP[] -> IV[]\n",
    "VP[] -> TV[] NP\n",
    "\n",
    "# ###################\n",
    "# Lexical Productions\n",
    "# ###################\n",
    "\n",
    "Det[] -> 'this' | 'every'\n",
    "Det[] -> 'these' | 'all'\n",
    "Det -> 'the' | 'some'\n",
    "\n",
    "PropN[]-> 'Kim' | 'Jody'\n",
    "\n",
    "N[] -> 'dog' | 'girl' | 'car' | 'child'\n",
    "N[] -> 'dogs' | 'girls' | 'cars' | 'children' \n",
    "\n",
    "IV[] -> 'disappears' | 'walks'\n",
    "TV[] -> 'sees' | 'likes'\n",
    "\n",
    "IV[] -> 'disappear' | 'walk'\n",
    "TV[] -> 'see' | 'like'\n",
    "\n",
    "IV[] -> 'disappeared' | 'walked'\n",
    "TV[] -> 'saw' | 'liked'\n",
    "\"\"\"\n",
    "\n",
    "grammar = nltk.grammar.FeatureGrammar.fromstring(gramstring)\n",
    "parser = nltk.parse.FeatureChartParser(grammar,trace=0)"
   ]
  },
  {
   "cell_type": "code",
   "execution_count": 3,
   "metadata": {},
   "outputs": [
    {
     "name": "stdout",
     "output_type": "stream",
     "text": [
      "1\n",
      "        S[]           \n",
      "   ┌─────┴──────┐      \n",
      "  NP[]         VP[]   \n",
      "   │            │      \n",
      "PropN[]        IV[]   \n",
      "   │            │      \n",
      "  Kim       disappears\n",
      "\n"
     ]
    }
   ],
   "source": [
    "sent = 'Kim disappears'.split()\n",
    "print(len(list(parser.parse(sent))))\n",
    "\n",
    "for tree in parser.parse(sent):\n",
    "    tree = Tree.fromstring(str(tree).replace(\", \",\",\"))\n",
    "    tree.pretty_print(unicodelines=True)"
   ]
  },
  {
   "cell_type": "code",
   "execution_count": 4,
   "metadata": {},
   "outputs": [
    {
     "name": "stdout",
     "output_type": "stream",
     "text": [
      "1\n",
      "        S[]          \n",
      "   ┌─────┴──────┐     \n",
      "  NP[]         VP[]  \n",
      "   │            │     \n",
      "PropN[]        IV[]  \n",
      "   │            │     \n",
      "  Kim       disappear\n",
      "\n"
     ]
    }
   ],
   "source": [
    "#Negativbeispiel: <NP NUM> != <VP NUM>\n",
    "sent = 'Kim disappear'.split()\n",
    "print(len(list(parser.parse(sent))))\n",
    "\n",
    "for tree in parser.parse(sent):\n",
    "    tree = Tree.fromstring(str(tree).replace(\", \",\",\"))\n",
    "    tree.pretty_print(unicodelines=True)"
   ]
  },
  {
   "cell_type": "code",
   "execution_count": 5,
   "metadata": {},
   "outputs": [
    {
     "name": "stdout",
     "output_type": "stream",
     "text": [
      "1\n",
      "           S[]             \n",
      "       ┌────┴────────┐      \n",
      "      NP[]          VP[]   \n",
      "  ┌────┴────┐        │      \n",
      "Det[]      N[]      IV[]   \n",
      "  │         │        │      \n",
      " all       dogs disappeared\n",
      "\n"
     ]
    }
   ],
   "source": [
    "sent = 'all dogs disappeared'.split()\n",
    "print(len(list(parser.parse(sent))))\n",
    "\n",
    "for tree in parser.parse(sent):\n",
    "    tree = Tree.fromstring(str(tree).replace(\", \",\",\"))\n",
    "    tree.pretty_print(unicodelines=True)"
   ]
  },
  {
   "cell_type": "code",
   "execution_count": 6,
   "metadata": {},
   "outputs": [
    {
     "name": "stdout",
     "output_type": "stream",
     "text": [
      "1\n",
      "           S[]            \n",
      "       ┌────┴───────┐      \n",
      "      NP[]         VP[]   \n",
      "  ┌────┴────┐       │      \n",
      "Det[]      N[]     IV[]   \n",
      "  │         │       │      \n",
      " all       dog disappeared\n",
      "\n"
     ]
    }
   ],
   "source": [
    "#Negativbeispiel: <Det NUM> != <N NUM>\n",
    "sent = 'all dog disappeared'.split()\n",
    "print(len(list(parser.parse(sent))))\n",
    "\n",
    "for tree in parser.parse(sent):\n",
    "    tree = Tree.fromstring(str(tree).replace(\", \",\",\"))\n",
    "    tree.pretty_print(unicodelines=True)"
   ]
  },
  {
   "cell_type": "markdown",
   "metadata": {},
   "source": [
    "---\n",
    "## Lösung"
   ]
  },
  {
   "cell_type": "code",
   "execution_count": 7,
   "metadata": {
    "scrolled": false
   },
   "outputs": [],
   "source": [
    "gramstring = r\"\"\"\n",
    "## Natural Language Toolkit: feat0.fcfg\n",
    "\n",
    "% start S\n",
    "# ###################\n",
    "# Grammar Productions\n",
    "# ###################\n",
    "\n",
    "# S expansion productions\n",
    "S -> NP[NUM=?n] VP[NUM=?n]\n",
    "\n",
    "# NP expansion productions\n",
    "NP[NUM=?n] -> N[NUM=?n] \n",
    "NP[NUM=?n] -> PropN[NUM=?n] \n",
    "NP[NUM=?n] -> Det[NUM=?n] N[NUM=?n]\n",
    "\n",
    "# VP expansion productions\n",
    "VP[TENSE=?t, NUM=?n] -> IV[TENSE=?t, NUM=?n]\n",
    "VP[TENSE=?t, NUM=?n] -> TV[TENSE=?t, NUM=?n] NP\n",
    "\n",
    "# ###################\n",
    "# Lexical Productions\n",
    "# ###################\n",
    "\n",
    "Det[NUM=sg] -> 'this' | 'every'\n",
    "Det[NUM=pl] -> 'these' | 'all'\n",
    "Det -> 'the' | 'some'\n",
    "\n",
    "PropN[NUM=sg]-> 'Kim' | 'Jody'\n",
    "\n",
    "N[NUM=sg] -> 'dog' | 'girl' | 'car' | 'child'\n",
    "N[NUM=pl] -> 'dogs' | 'girls' | 'cars' | 'children' \n",
    "\n",
    "IV[TENSE=pres,  NUM=sg] -> 'disappears' | 'walks'\n",
    "TV[TENSE=pres, NUM=sg] -> 'sees' | 'likes'\n",
    "\n",
    "IV[TENSE=pres,  NUM=pl] -> 'disappear' | 'walk'\n",
    "TV[TENSE=pres, NUM=pl] -> 'see' | 'like'\n",
    "\n",
    "IV[TENSE=past] -> 'disappeared' | 'walked'\n",
    "TV[TENSE=past] -> 'saw' | 'liked'\n",
    "\"\"\"\n",
    "\n",
    "grammar = nltk.grammar.FeatureGrammar.fromstring(gramstring)\n",
    "parser = nltk.parse.FeatureChartParser(grammar,trace=0)"
   ]
  },
  {
   "cell_type": "code",
   "execution_count": 8,
   "metadata": {},
   "outputs": [
    {
     "name": "stdout",
     "output_type": "stream",
     "text": [
      "1\n",
      "                S[]              \n",
      "       ┌─────────┴────────┐       \n",
      "  NP[NUM='sg']       VP[NUM='sg',\n",
      "       │            TENSE='pres']\n",
      "       │                  │       \n",
      "PropN[NUM='sg']      IV[NUM='sg',\n",
      "       │            TENSE='pres']\n",
      "       │                  │       \n",
      "      Kim             disappears \n",
      "\n"
     ]
    }
   ],
   "source": [
    "sent = 'Kim disappears'.split()\n",
    "print(len(list(parser.parse(sent))))\n",
    "\n",
    "for tree in parser.parse(sent):\n",
    "    tree = Tree.fromstring(str(tree).replace(\", \",\",\"))\n",
    "    tree.pretty_print(unicodelines=True)"
   ]
  },
  {
   "cell_type": "code",
   "execution_count": 9,
   "metadata": {},
   "outputs": [
    {
     "name": "stdout",
     "output_type": "stream",
     "text": [
      "0\n"
     ]
    }
   ],
   "source": [
    "#Negativbeispiel: <NP NUM> != <VP NUM>\n",
    "sent = 'Kim disappear'.split()\n",
    "print(len(list(parser.parse(sent))))\n",
    "\n",
    "for tree in parser.parse(sent):\n",
    "    tree = Tree.fromstring(str(tree).replace(\", \",\",\"))\n",
    "    tree.pretty_print(unicodelines=True)"
   ]
  },
  {
   "cell_type": "code",
   "execution_count": 10,
   "metadata": {},
   "outputs": [
    {
     "name": "stdout",
     "output_type": "stream",
     "text": [
      "1\n",
      "                               S[]                      \n",
      "                   ┌────────────┴──────────────┐         \n",
      "              NP[NUM='pl']             VP[NUM=?n,TENSE='\n",
      "                   │                         past']     \n",
      "      ┌────────────┴────────────┐              │         \n",
      "Det[NUM='pl']              N[NUM='pl']  IV[TENSE='past']\n",
      "      │                         │              │         \n",
      "     all                       dogs       disappeared   \n",
      "\n"
     ]
    }
   ],
   "source": [
    "sent = 'all dogs disappeared'.split()\n",
    "print(len(list(parser.parse(sent))))\n",
    "\n",
    "for tree in parser.parse(sent):\n",
    "    tree = Tree.fromstring(str(tree).replace(\", \",\",\"))\n",
    "    tree.pretty_print(unicodelines=True)"
   ]
  },
  {
   "cell_type": "code",
   "execution_count": 11,
   "metadata": {},
   "outputs": [
    {
     "name": "stdout",
     "output_type": "stream",
     "text": [
      "0\n"
     ]
    }
   ],
   "source": [
    "#Negativbeispiel: <Det NUM> != <N NUM>\n",
    "sent = 'all dog disappeared'.split()\n",
    "print(len(list(parser.parse(sent))))\n",
    "\n",
    "for tree in parser.parse(sent):\n",
    "    tree = Tree.fromstring(str(tree).replace(\", \",\",\"))\n",
    "    tree.pretty_print(unicodelines=True)"
   ]
  }
 ],
 "metadata": {
  "kernelspec": {
   "display_name": "Python 3",
   "language": "python",
   "name": "python3"
  },
  "language_info": {
   "codemirror_mode": {
    "name": "ipython",
    "version": 3
   },
   "file_extension": ".py",
   "mimetype": "text/x-python",
   "name": "python",
   "nbconvert_exporter": "python",
   "pygments_lexer": "ipython3",
   "version": "3.6.1"
  },
  "widgets": {
   "application/vnd.jupyter.widget-state+json": {
    "state": {
     "098dd75f65594c0f992ddeffeb8523e3": {
      "model_module": "@jupyter-widgets/controls",
      "model_module_version": "1.2.0",
      "model_name": "SliderStyleModel",
      "state": {
       "description_width": ""
      }
     },
     "0ccfa5129ab64950adda077f6ac8f44a": {
      "model_module": "@jupyter-widgets/controls",
      "model_module_version": "1.2.0",
      "model_name": "IntSliderModel",
      "state": {
       "layout": "IPY_MODEL_641f3cf31a334ee6810a9a92f93e89a7",
       "style": "IPY_MODEL_63aadafcc3504a3b8b15fdea9d4ec244",
       "value": 50
      }
     },
     "1b37a149a74c40c68d34c61b481048f8": {
      "model_module": "@jupyter-widgets/base",
      "model_module_version": "1.0.0",
      "model_name": "LayoutModel",
      "state": {}
     },
     "367694b2ecc94715a20952236f9ced88": {
      "model_module": "@jupyter-widgets/base",
      "model_module_version": "1.0.0",
      "model_name": "LayoutModel",
      "state": {}
     },
     "3d6ebd239fc84a8e95b3007988e38134": {
      "model_module": "@jupyter-widgets/controls",
      "model_module_version": "1.2.0",
      "model_name": "SliderStyleModel",
      "state": {
       "description_width": ""
      }
     },
     "63aadafcc3504a3b8b15fdea9d4ec244": {
      "model_module": "@jupyter-widgets/controls",
      "model_module_version": "1.2.0",
      "model_name": "SliderStyleModel",
      "state": {
       "description_width": ""
      }
     },
     "641f3cf31a334ee6810a9a92f93e89a7": {
      "model_module": "@jupyter-widgets/base",
      "model_module_version": "1.0.0",
      "model_name": "LayoutModel",
      "state": {}
     },
     "993ec756027845c19085347ca5f9f6ce": {
      "model_module": "@jupyter-widgets/controls",
      "model_module_version": "1.2.0",
      "model_name": "SliderStyleModel",
      "state": {
       "description_width": ""
      }
     },
     "bb743dc2dd2d4bb08dd2c5255e1d87c6": {
      "model_module": "@jupyter-widgets/controls",
      "model_module_version": "1.2.0",
      "model_name": "SliderStyleModel",
      "state": {
       "description_width": ""
      }
     },
     "cb4a4abdac584f78ac3b37579ac33b10": {
      "model_module": "@jupyter-widgets/controls",
      "model_module_version": "1.2.0",
      "model_name": "IntSliderModel",
      "state": {
       "layout": "IPY_MODEL_f25c2eb22704411b9981f8047a2c0182",
       "style": "IPY_MODEL_993ec756027845c19085347ca5f9f6ce",
       "value": 50
      }
     },
     "cfbb8ba5969a49e18a1733c50e6b73e4": {
      "model_module": "@jupyter-widgets/controls",
      "model_module_version": "1.2.0",
      "model_name": "IntSliderModel",
      "state": {
       "layout": "IPY_MODEL_1b37a149a74c40c68d34c61b481048f8",
       "style": "IPY_MODEL_3d6ebd239fc84a8e95b3007988e38134",
       "value": 50
      }
     },
     "da2e37629b7141b8a194c275f89ccef5": {
      "model_module": "@jupyter-widgets/base",
      "model_module_version": "1.0.0",
      "model_name": "LayoutModel",
      "state": {}
     },
     "eafa48b852af4f40b414b8d4f0b90c7a": {
      "model_module": "@jupyter-widgets/controls",
      "model_module_version": "1.2.0",
      "model_name": "IntSliderModel",
      "state": {
       "layout": "IPY_MODEL_da2e37629b7141b8a194c275f89ccef5",
       "style": "IPY_MODEL_bb743dc2dd2d4bb08dd2c5255e1d87c6"
      }
     },
     "f196171317cf493fabedf854f59c1d44": {
      "model_module": "@jupyter-widgets/controls",
      "model_module_version": "1.2.0",
      "model_name": "IntSliderModel",
      "state": {
       "layout": "IPY_MODEL_367694b2ecc94715a20952236f9ced88",
       "style": "IPY_MODEL_098dd75f65594c0f992ddeffeb8523e3"
      }
     },
     "f25c2eb22704411b9981f8047a2c0182": {
      "model_module": "@jupyter-widgets/base",
      "model_module_version": "1.0.0",
      "model_name": "LayoutModel",
      "state": {}
     }
    },
    "version_major": 2,
    "version_minor": 0
   }
  }
 },
 "nbformat": 4,
 "nbformat_minor": 2
}
