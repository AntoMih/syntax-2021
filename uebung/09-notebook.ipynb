{
 "cells": [
  {
   "cell_type": "markdown",
   "metadata": {},
   "source": [
    "***Vorlesung 'Syntax natürlicher Sprachen', WS 2020/21***\n",
    "\n",
    "---\n",
    "# Übung 9"
   ]
  },
  {
   "cell_type": "code",
   "execution_count": 1,
   "metadata": {},
   "outputs": [],
   "source": [
    "from exercises_9 import *\n",
    "from questions import aufgabe\n",
    "from nltk.tree import Tree\n",
    "import nltk\n",
    "import sys"
   ]
  },
  {
   "cell_type": "markdown",
   "metadata": {},
   "source": [
    "---\n",
    "\n",
    "## Aufgabe 1: Parsing-Algorithmen\n",
    "\n",
    "#### Gegeben sei folgende kontextfreie Grammatik:"
   ]
  },
  {
   "cell_type": "code",
   "execution_count": 2,
   "metadata": {},
   "outputs": [],
   "source": [
    "grammar = \"\"\"\n",
    "S -> NP VP\n",
    "\n",
    "NP  -> DET NOM\n",
    "NOM -> ADJ NOM | N\n",
    "\n",
    "ADJ -> \"schöne\" | \"kluge\" | \"dicke\"\n",
    "DET -> \"der\" | \"die\" | \"das\"\n",
    "N   -> \"Mann\" | \"Frau\" | \"Buch\"\n",
    "\n",
    "VP -> V NP NP | V NP | V\n",
    "V  -> \"gibt\" | \"schenkt\" | \"schläft\" | \"gefällt\" | \"kennt\"\n",
    "\"\"\""
   ]
  },
  {
   "cell_type": "markdown",
   "metadata": {},
   "source": [
    "#### Parsen Sie jeweils alle unten angegebenen Sätze mit jedem der folgenden Parsing-Algorithmen. Bei der Auswahl von Regeln soll immer von oben nach unten und (bei Alternativen) von links nach rechts vorgegangen werden.\n",
    "\n",
    "a) Recursive Descent <br>\n",
    "b) Shift Reduce <br>\n",
    "c) Earley Algorithmus <br>\n",
    "\n",
    "    1. Der Mann gibt der Frau das Buch.\n",
    "    2. Die kluge Frau kennt das dicke Buch.\n",
    "    3. Der Mann schläft."
   ]
  },
  {
   "cell_type": "markdown",
   "metadata": {},
   "source": [
    "Hier können Sie Ihre Lösung festhalten."
   ]
  },
  {
   "cell_type": "markdown",
   "metadata": {},
   "source": [
    "--- \n",
    "# Hausaufgaben"
   ]
  },
  {
   "cell_type": "markdown",
   "metadata": {},
   "source": [
    "---\n",
    "## Aufgabe 2: Parsing-Algorithmen Reloaded\n",
    "\n",
    "#### Kombinationen von Algorithmus und Satz in Aufgabe 1, die während der Präsenzaufgaben nicht behandelt wurden, stellen zusätzliches Übungsmaterial dar.\n",
    "\n",
    "#### Bearbeiten Sie zusätzlich auch die folgenden interaktiven Aufgaben in a) und b)!"
   ]
  },
  {
   "cell_type": "markdown",
   "metadata": {},
   "source": [
    "---\n",
    "## Aufgabe 2 a)\n",
    "\n",
    "#### Welche Operationen stehen den verschiedenen Parsern zur Verfügung?"
   ]
  },
  {
   "cell_type": "code",
   "execution_count": 3,
   "metadata": {},
   "outputs": [
    {
     "data": {
      "application/vnd.jupyter.widget-view+json": {
       "model_id": "baf081ac718c426092c6cff7fb0d7bc8",
       "version_major": 2,
       "version_minor": 0
      },
      "text/plain": [
       "MultipleChoice(children=(HTML(value='<h4 style=\"font-size:14px;\">Welche Operationen hat der Recursive Descent …"
      ]
     },
     "metadata": {},
     "output_type": "display_data"
    },
    {
     "data": {
      "application/vnd.jupyter.widget-view+json": {
       "model_id": "b6e108f122724957bc5742fe35392bab",
       "version_major": 2,
       "version_minor": 0
      },
      "text/plain": [
       "MultipleChoice(children=(HTML(value='<h4 style=\"font-size:14px;\">Welche Operationen hat der Shift Reduce Parse…"
      ]
     },
     "metadata": {},
     "output_type": "display_data"
    },
    {
     "data": {
      "application/vnd.jupyter.widget-view+json": {
       "model_id": "3c8b9f34190540359481567c56ab8a47",
       "version_major": 2,
       "version_minor": 0
      },
      "text/plain": [
       "MultipleChoice(children=(HTML(value='<h4 style=\"font-size:14px;\">Welche Operationen hat der Earley Parser?</h4…"
      ]
     },
     "metadata": {},
     "output_type": "display_data"
    }
   ],
   "source": [
    "aufgabe(blatt9_2a)"
   ]
  },
  {
   "cell_type": "markdown",
   "metadata": {},
   "source": [
    "---\n",
    "### Aufgabe 2 b)\n",
    "\n",
    "#### Überlegen Sie für die folgenen Beispiele zu welchem Algorithmus diese gehören und was die nächste von diesem auszuführende Operation ist."
   ]
  },
  {
   "cell_type": "markdown",
   "metadata": {},
   "source": [
    "### Beispiel 1:\n",
    "\n",
    "$ Q_{0}$ : (S' -> * S, 0)"
   ]
  },
  {
   "cell_type": "code",
   "execution_count": 4,
   "metadata": {},
   "outputs": [
    {
     "data": {
      "application/vnd.jupyter.widget-view+json": {
       "model_id": "df64022d8b654a23b77313e694ff231f",
       "version_major": 2,
       "version_minor": 0
      },
      "text/plain": [
       "SingleChoice(children=(HTML(value='<h4 style=\"font-size:14px;\">Um welchen Parser handelt es sich?</h4>', layou…"
      ]
     },
     "metadata": {},
     "output_type": "display_data"
    },
    {
     "data": {
      "application/vnd.jupyter.widget-view+json": {
       "model_id": "8c851689caed47ef89a3f77a566f37da",
       "version_major": 2,
       "version_minor": 0
      },
      "text/plain": [
       "SingleChoice(children=(HTML(value='<h4 style=\"font-size:14px;\">Welche Operation folgt als nächstes?</h4>', lay…"
      ]
     },
     "metadata": {},
     "output_type": "display_data"
    }
   ],
   "source": [
    "aufgabe(blatt9_2b_1)"
   ]
  },
  {
   "cell_type": "markdown",
   "metadata": {},
   "source": [
    "### Beispiel 2:\n",
    "\n",
    "#### Betrachen Sie den folgenden (unvollständigen) Baum zu dem Satz \"der Mann schläft\" und die entsprechenden Grammatikregeln von oben."
   ]
  },
  {
   "cell_type": "code",
   "execution_count": 5,
   "metadata": {},
   "outputs": [
    {
     "name": "stdout",
     "output_type": "stream",
     "text": [
      "         S     \n",
      "      ___|___   \n",
      "     NP      | \n",
      "  ___|___    |  \n",
      "DET     Nom  VP\n",
      " |       |   |  \n",
      "               \n",
      "\n"
     ]
    }
   ],
   "source": [
    "dep_tree = Tree(\n",
    "    \"S\",\n",
    "    [\n",
    "        Tree(\"NP\", [Tree(\"DET\",[\"\"]),Tree(\"Nom\", [\"\"])]),\n",
    "        Tree(\"VP\", [\"\"])    \n",
    "    ]\n",
    ")\n",
    "\n",
    "dep_tree.pretty_print()"
   ]
  },
  {
   "cell_type": "code",
   "execution_count": 6,
   "metadata": {},
   "outputs": [
    {
     "data": {
      "application/vnd.jupyter.widget-view+json": {
       "model_id": "8cb72471df70434b9003d734fa787330",
       "version_major": 2,
       "version_minor": 0
      },
      "text/plain": [
       "SingleChoice(children=(HTML(value='<h4 style=\"font-size:14px;\">Um welchen Parser handelt es sich?</h4>', layou…"
      ]
     },
     "metadata": {},
     "output_type": "display_data"
    },
    {
     "data": {
      "application/vnd.jupyter.widget-view+json": {
       "model_id": "7519dee5ed984e86980aa97373303d09",
       "version_major": 2,
       "version_minor": 0
      },
      "text/plain": [
       "SingleChoice(children=(HTML(value='<h4 style=\"font-size:14px;\">Welche Operation folgt als nächstes?</h4>', lay…"
      ]
     },
     "metadata": {},
     "output_type": "display_data"
    }
   ],
   "source": [
    "aufgabe(blatt9_2b_2)"
   ]
  },
  {
   "cell_type": "markdown",
   "metadata": {},
   "source": [
    "### Beispiel 3:\n",
    "\n",
    "\n",
    "#### Betrachen Sie den folgenden Ausschnitt der Zustandsmenge zu dem Satz \"der Mann schläft\" und die entsprechenden Grammatikregeln von oben.\n",
    "\n",
    "$ Q_{0}$ : (DET -> * der, 0)"
   ]
  },
  {
   "cell_type": "code",
   "execution_count": 7,
   "metadata": {},
   "outputs": [
    {
     "data": {
      "application/vnd.jupyter.widget-view+json": {
       "model_id": "b615415c2bfa4b83934afab5ab14df2e",
       "version_major": 2,
       "version_minor": 0
      },
      "text/plain": [
       "SingleChoice(children=(HTML(value='<h4 style=\"font-size:14px;\">Um welchen Parser handelt es sich?</h4>', layou…"
      ]
     },
     "metadata": {},
     "output_type": "display_data"
    },
    {
     "data": {
      "application/vnd.jupyter.widget-view+json": {
       "model_id": "fb3af2aaf79f4ace9c70403047b8c73d",
       "version_major": 2,
       "version_minor": 0
      },
      "text/plain": [
       "SingleChoice(children=(HTML(value='<h4 style=\"font-size:14px;\">Welche Operation folgt als nächstes?</h4>', lay…"
      ]
     },
     "metadata": {},
     "output_type": "display_data"
    }
   ],
   "source": [
    "aufgabe(blatt9_2b_3)"
   ]
  },
  {
   "cell_type": "markdown",
   "metadata": {},
   "source": [
    "### Beispiel 4:\n",
    "\n",
    "\n",
    "#### Betrachen Sie den folgenden Ausschnitt der Zustandsmenge zu dem Satz \"der Mann schläft\" und die entsprechenden Grammatikregeln von oben.\n",
    "\n",
    "$ Q_{1}$ : (DET -> der * , 0)"
   ]
  },
  {
   "cell_type": "code",
   "execution_count": 8,
   "metadata": {},
   "outputs": [
    {
     "data": {
      "application/vnd.jupyter.widget-view+json": {
       "model_id": "db80a3ea8acc4425bb55c362f2171f4b",
       "version_major": 2,
       "version_minor": 0
      },
      "text/plain": [
       "SingleChoice(children=(HTML(value='<h4 style=\"font-size:14px;\">Um welchen Parser handelt es sich?</h4>', layou…"
      ]
     },
     "metadata": {},
     "output_type": "display_data"
    },
    {
     "data": {
      "application/vnd.jupyter.widget-view+json": {
       "model_id": "16cd0599a7664dd5b4d28356ad51a5e7",
       "version_major": 2,
       "version_minor": 0
      },
      "text/plain": [
       "SingleChoice(children=(HTML(value='<h4 style=\"font-size:14px;\">Welche Operation folgt als nächstes?</h4>', lay…"
      ]
     },
     "metadata": {},
     "output_type": "display_data"
    }
   ],
   "source": [
    "aufgabe(blatt9_2b_4)"
   ]
  },
  {
   "cell_type": "markdown",
   "metadata": {},
   "source": [
    "### Beispiel 5:\n",
    "\n",
    "![earley_1](https://github.com/awisiorek/syntax-1819/raw/master/uebung/img/earley_1.png)"
   ]
  },
  {
   "cell_type": "code",
   "execution_count": 9,
   "metadata": {},
   "outputs": [
    {
     "data": {
      "application/vnd.jupyter.widget-view+json": {
       "model_id": "778eb26b575d48a2b2d1475f451fcf7a",
       "version_major": 2,
       "version_minor": 0
      },
      "text/plain": [
       "SingleChoice(children=(HTML(value='<h4 style=\"font-size:14px;\">Welche Operation folgt als nächstes?</h4>', lay…"
      ]
     },
     "metadata": {},
     "output_type": "display_data"
    }
   ],
   "source": [
    "aufgabe(blatt9_2b_5)"
   ]
  },
  {
   "cell_type": "markdown",
   "metadata": {},
   "source": [
    "### Beispiel 6:\n",
    "\n",
    "![earley_2](https://github.com/awisiorek/syntax-1819/raw/master/uebung/img/earley_2.png)"
   ]
  },
  {
   "cell_type": "code",
   "execution_count": 10,
   "metadata": {},
   "outputs": [
    {
     "data": {
      "application/vnd.jupyter.widget-view+json": {
       "model_id": "5f2de917722b4beeb37b916d8552a724",
       "version_major": 2,
       "version_minor": 0
      },
      "text/plain": [
       "SingleChoice(children=(HTML(value='<h4 style=\"font-size:14px;\">Welche Operation folgt als nächstes?</h4>', lay…"
      ]
     },
     "metadata": {},
     "output_type": "display_data"
    }
   ],
   "source": [
    "aufgabe(blatt9_2b_6)"
   ]
  },
  {
   "cell_type": "markdown",
   "metadata": {},
   "source": [
    "### Beispiel 7:\n",
    "\n",
    "![earley_3](https://github.com/awisiorek/syntax-1819/raw/master/uebung/img/earley_3.png)"
   ]
  },
  {
   "cell_type": "code",
   "execution_count": 11,
   "metadata": {},
   "outputs": [
    {
     "data": {
      "application/vnd.jupyter.widget-view+json": {
       "model_id": "f54a37821c9a4b72ba9c0707493f84db",
       "version_major": 2,
       "version_minor": 0
      },
      "text/plain": [
       "SingleChoice(children=(HTML(value='<h4 style=\"font-size:14px;\">Welche Operation folgt als nächstes?</h4>', lay…"
      ]
     },
     "metadata": {},
     "output_type": "display_data"
    }
   ],
   "source": [
    "aufgabe(blatt9_2b_7)"
   ]
  },
  {
   "cell_type": "markdown",
   "metadata": {},
   "source": [
    "### Beispiel 8:\n",
    "\n",
    "![recdes_1](https://github.com/awisiorek/syntax-1819/raw/master/uebung/img/recdes_1.png)"
   ]
  },
  {
   "cell_type": "code",
   "execution_count": 12,
   "metadata": {},
   "outputs": [
    {
     "data": {
      "application/vnd.jupyter.widget-view+json": {
       "model_id": "0d86ef02c28b45c0bcd75896436c864c",
       "version_major": 2,
       "version_minor": 0
      },
      "text/plain": [
       "SingleChoice(children=(HTML(value='<h4 style=\"font-size:14px;\">Welche Operation folgt als nächstes?</h4>', lay…"
      ]
     },
     "metadata": {},
     "output_type": "display_data"
    }
   ],
   "source": [
    "aufgabe(blatt9_2b_8)"
   ]
  },
  {
   "cell_type": "markdown",
   "metadata": {},
   "source": [
    "### Beispiel 9:\n",
    "\n",
    "![recdes_2](https://github.com/awisiorek/syntax-1819/raw/master/uebung/img/recdes_2.png)"
   ]
  },
  {
   "cell_type": "code",
   "execution_count": 13,
   "metadata": {},
   "outputs": [
    {
     "data": {
      "application/vnd.jupyter.widget-view+json": {
       "model_id": "9bf0d7abf351440686ae3713c73f136e",
       "version_major": 2,
       "version_minor": 0
      },
      "text/plain": [
       "SingleChoice(children=(HTML(value='<h4 style=\"font-size:14px;\">Welche Operation folgt als nächstes?</h4>', lay…"
      ]
     },
     "metadata": {},
     "output_type": "display_data"
    }
   ],
   "source": [
    "aufgabe(blatt9_2b_9)"
   ]
  },
  {
   "cell_type": "markdown",
   "metadata": {},
   "source": [
    "### Beispiel 10:\n",
    "\n",
    "![recdes_3](https://github.com/awisiorek/syntax-1819/raw/master/uebung/img/recdes_3.png)"
   ]
  },
  {
   "cell_type": "code",
   "execution_count": 14,
   "metadata": {},
   "outputs": [
    {
     "data": {
      "application/vnd.jupyter.widget-view+json": {
       "model_id": "98a48458b0224204ae321a16feb919cb",
       "version_major": 2,
       "version_minor": 0
      },
      "text/plain": [
       "SingleChoice(children=(HTML(value='<h4 style=\"font-size:14px;\">Welche Operation folgt als nächstes?</h4>', lay…"
      ]
     },
     "metadata": {},
     "output_type": "display_data"
    }
   ],
   "source": [
    "aufgabe(blatt9_2b_10)"
   ]
  },
  {
   "cell_type": "markdown",
   "metadata": {},
   "source": [
    "### Beispiel 11:\n",
    "\n",
    "![shiftred_1](https://github.com/awisiorek/syntax-1819/raw/master/uebung/img/shiftred_1.png)"
   ]
  },
  {
   "cell_type": "code",
   "execution_count": 15,
   "metadata": {},
   "outputs": [
    {
     "data": {
      "application/vnd.jupyter.widget-view+json": {
       "model_id": "c156d5c45c7740918a8ab8d86ba653b1",
       "version_major": 2,
       "version_minor": 0
      },
      "text/plain": [
       "SingleChoice(children=(HTML(value='<h4 style=\"font-size:14px;\">Welche Operation folgt als nächstes?</h4>', lay…"
      ]
     },
     "metadata": {},
     "output_type": "display_data"
    }
   ],
   "source": [
    "aufgabe(blatt9_2b_11)"
   ]
  },
  {
   "cell_type": "markdown",
   "metadata": {},
   "source": [
    "### Beispiel 12:\n",
    "\n",
    "![shiftred_2](https://github.com/awisiorek/syntax-1819/raw/master/uebung/img/shiftred_2.png)"
   ]
  },
  {
   "cell_type": "code",
   "execution_count": 16,
   "metadata": {},
   "outputs": [
    {
     "data": {
      "application/vnd.jupyter.widget-view+json": {
       "model_id": "1d7eefa93de749c3973f5ef2880cc4d5",
       "version_major": 2,
       "version_minor": 0
      },
      "text/plain": [
       "SingleChoice(children=(HTML(value='<h4 style=\"font-size:14px;\">Welche Operation folgt als nächstes?</h4>', lay…"
      ]
     },
     "metadata": {},
     "output_type": "display_data"
    }
   ],
   "source": [
    "aufgabe(blatt9_2b_12)"
   ]
  },
  {
   "cell_type": "markdown",
   "metadata": {},
   "source": [
    "### Beispiel 13:\n",
    "\n",
    "![shiftred_3](https://github.com/awisiorek/syntax-1819/raw/master/uebung/img/shiftred_3.png)"
   ]
  },
  {
   "cell_type": "code",
   "execution_count": 17,
   "metadata": {},
   "outputs": [
    {
     "data": {
      "application/vnd.jupyter.widget-view+json": {
       "model_id": "5d6da248721644f4991eafc23d1bbf7d",
       "version_major": 2,
       "version_minor": 0
      },
      "text/plain": [
       "SingleChoice(children=(HTML(value='<h4 style=\"font-size:14px;\">Welche Operation folgt als nächstes?</h4>', lay…"
      ]
     },
     "metadata": {},
     "output_type": "display_data"
    }
   ],
   "source": [
    "aufgabe(blatt9_2b_13)"
   ]
  },
  {
   "cell_type": "markdown",
   "metadata": {},
   "source": [
    "---\n",
    "## Aufgabe 3: Imperativ ohne Subjekt\n",
    "\n",
    "#### Betrachten Sie die folgende kontextfreie Merkmalsgrammatik:"
   ]
  },
  {
   "cell_type": "code",
   "execution_count": 18,
   "metadata": {},
   "outputs": [],
   "source": [
    "grammar = \"\"\"\n",
    "S -> NP VP\n",
    "S -> VP\n",
    "\n",
    "NP -> DET N\n",
    "VP -> V[SUBCAT=tr] NP\n",
    "VP -> V[SUBCAT=intr]\n",
    "\n",
    "DET -> \"das\"\n",
    "N -> \"Kind\" | \"Buch\"\n",
    "\n",
    "V[SUBCAT=tr] -> \"lies\"\n",
    "V[SUBCAT=tr] -> \"liest\"\n",
    "V[SUBCAT=intr] -> \"schlaf\"\n",
    "V[SUBCAT=intr] -> \"schläft\"\n",
    "\"\"\""
   ]
  },
  {
   "cell_type": "markdown",
   "metadata": {},
   "source": [
    "#### Hier wurde versucht, Aufforderungssätze zu modellieren. Allerdings akzeptiert diese Grammatik immer noch viele ungrammatische Sätze.\n",
    "\n",
    "a) Fügen Sie ein Merkmal `MOOD` mit den möglichen Werten *imp* und *ind* für Imperativ und Indikativ hinzu und deklarieren Sie die entsprechenden Werte im Lexikon (den lexikalischen Regeln). <br>\n",
    "b) Formulieren Sie dann Bedingungen in den syntaktischen Regeln, sodass folgende grammatische Sätze (`pos_sentences`) weiterhin akzeptiert und folgende ungrammatische Sätze (`neg_sentences`) abgelehnt werden."
   ]
  },
  {
   "cell_type": "code",
   "execution_count": 19,
   "metadata": {},
   "outputs": [],
   "source": [
    "pos_sentences = [\n",
    "    \"das Kind schläft\",\n",
    "    \"das Kind liest das Buch\",\n",
    "    \"lies das Buch\",\n",
    "    \"schlaf\"\n",
    "]\n",
    "\n",
    "neg_sentences = [\n",
    "    \"das Kind schlaf\",\n",
    "    \"das Kind lies das Buch\",\n",
    "    \"liest das Buch\",\n",
    "    \"schläft\"\n",
    "]"
   ]
  },
  {
   "cell_type": "code",
   "execution_count": 20,
   "metadata": {},
   "outputs": [],
   "source": [
    "from IPython.display import display\n",
    "\n",
    "def test_grammar(grammar, sentences):\n",
    "    cfg = nltk.grammar.FeatureGrammar.fromstring(grammar)\n",
    "    parser = nltk.parse.FeatureEarleyChartParser(cfg)\n",
    "    \n",
    "    for i, sent in enumerate(sentences, 1):\n",
    "        print(\"Satz {}: {}\".format(i, sent))\n",
    "        sys.stdout.flush()\n",
    "        results = parser.parse(sent.split())\n",
    "        analyzed = False\n",
    "        for tree in results:\n",
    "            display(tree)  # tree.draw() oder print(tree)\n",
    "            analyzed = True\n",
    "        if not analyzed:\n",
    "            print(\"Keine Analyse möglich\", file=sys.stderr)\n",
    "            sys.stderr.flush()"
   ]
  },
  {
   "cell_type": "markdown",
   "metadata": {},
   "source": [
    "Hier sollten nur korrekte Syntaxbäume herauskommen:"
   ]
  },
  {
   "cell_type": "code",
   "execution_count": 21,
   "metadata": {},
   "outputs": [
    {
     "name": "stdout",
     "output_type": "stream",
     "text": [
      "Satz 1: das Kind schläft\n"
     ]
    },
    {
     "data": {
      "image/png": "[encoded data removed]",
      "text/plain": [
       "Tree(S[], [Tree(NP[], [Tree(DET[], ['das']), Tree(N[], ['Kind'])]), Tree(VP[], [Tree(V[SUBCAT='intr'], ['schläft'])])])"
      ]
     },
     "metadata": {},
     "output_type": "display_data"
    },
    {
     "name": "stdout",
     "output_type": "stream",
     "text": [
      "Satz 2: das Kind liest das Buch\n"
     ]
    },
    {
     "data": {
      "image/png": "[encoded data removed]",
      "text/plain": [
       "Tree(S[], [Tree(NP[], [Tree(DET[], ['das']), Tree(N[], ['Kind'])]), Tree(VP[], [Tree(V[SUBCAT='tr'], ['liest']), Tree(NP[], [Tree(DET[], ['das']), Tree(N[], ['Buch'])])])])"
      ]
     },
     "metadata": {},
     "output_type": "display_data"
    },
    {
     "name": "stdout",
     "output_type": "stream",
     "text": [
      "Satz 3: lies das Buch\n"
     ]
    },
    {
     "data": {
      "image/png": "[encoded data removed]",
      "text/plain": [
       "Tree(S[], [Tree(VP[], [Tree(V[SUBCAT='tr'], ['lies']), Tree(NP[], [Tree(DET[], ['das']), Tree(N[], ['Buch'])])])])"
      ]
     },
     "metadata": {},
     "output_type": "display_data"
    },
    {
     "name": "stdout",
     "output_type": "stream",
     "text": [
      "Satz 4: schlaf\n"
     ]
    },
    {
     "data": {
      "image/png": "[encoded data removed]",
      "text/plain": [
       "Tree(S[], [Tree(VP[], [Tree(V[SUBCAT='intr'], ['schlaf'])])])"
      ]
     },
     "metadata": {},
     "output_type": "display_data"
    }
   ],
   "source": [
    "test_grammar(grammar, pos_sentences)"
   ]
  },
  {
   "cell_type": "markdown",
   "metadata": {},
   "source": [
    "Hier sollte ausschließlich `Keine Analyse möglich` stehen:"
   ]
  },
  {
   "cell_type": "code",
   "execution_count": 22,
   "metadata": {},
   "outputs": [
    {
     "name": "stdout",
     "output_type": "stream",
     "text": [
      "Satz 1: das Kind schlaf\n"
     ]
    },
    {
     "data": {
      "image/png": "[encoded data removed]",
      "text/plain": [
       "Tree(S[], [Tree(NP[], [Tree(DET[], ['das']), Tree(N[], ['Kind'])]), Tree(VP[], [Tree(V[SUBCAT='intr'], ['schlaf'])])])"
      ]
     },
     "metadata": {},
     "output_type": "display_data"
    },
    {
     "name": "stdout",
     "output_type": "stream",
     "text": [
      "Satz 2: das Kind lies das Buch\n"
     ]
    },
    {
     "data": {
      "image/png": "[encoded data removed]",
      "text/plain": [
       "Tree(S[], [Tree(NP[], [Tree(DET[], ['das']), Tree(N[], ['Kind'])]), Tree(VP[], [Tree(V[SUBCAT='tr'], ['lies']), Tree(NP[], [Tree(DET[], ['das']), Tree(N[], ['Buch'])])])])"
      ]
     },
     "metadata": {},
     "output_type": "display_data"
    },
    {
     "name": "stdout",
     "output_type": "stream",
     "text": [
      "Satz 3: liest das Buch\n"
     ]
    },
    {
     "data": {
      "image/png": "[encoded data removed]",
      "text/plain": [
       "Tree(S[], [Tree(VP[], [Tree(V[SUBCAT='tr'], ['liest']), Tree(NP[], [Tree(DET[], ['das']), Tree(N[], ['Buch'])])])])"
      ]
     },
     "metadata": {},
     "output_type": "display_data"
    },
    {
     "name": "stdout",
     "output_type": "stream",
     "text": [
      "Satz 4: schläft\n"
     ]
    },
    {
     "data": {
      "image/png": "[encoded data removed]",
      "text/plain": [
       "Tree(S[], [Tree(VP[], [Tree(V[SUBCAT='intr'], ['schläft'])])])"
      ]
     },
     "metadata": {},
     "output_type": "display_data"
    }
   ],
   "source": [
    "test_grammar(grammar, neg_sentences)"
   ]
  },
  {
   "cell_type": "markdown",
   "metadata": {},
   "source": [
    "---\n",
    "## &ast;Aufgabe 4: Recursive Descent Parser Demo\n",
    "\n",
    "#### Die Demo-Applikation `nltk.app.rdparser()` veranschaulicht die Funktionsweise eines Recursive Descent Parsers. Spielen Sie ein wenig mit der Demo, nehmen Sie Änderungen an der Grammatik vor und stellen Sie sicher, dass Sie verstehen wie jeder einzelne Schritt zustandekommt."
   ]
  },
  {
   "cell_type": "markdown",
   "metadata": {},
   "source": [
    "---\n",
    "## &ast;Aufgabe 5: NLTK-Kapitel zum Parsing \n",
    "\n",
    "#### In folgenden NLTK-Kapiteln (8.4 und 8.2-extras) zum Parsing mit kontextfreien Grammatiken können Sie sich weiterführend über top-down-, bottom-up- sowie Chart-Parsing informieren:\n",
    "\n",
    "- Teilkapitel 8.4 (’Parsing With Context Free Grammar’):\n",
    "http://www.nltk.org/book/ch08.html\n",
    "- Teilkapitel 2.1-2.8 (’Chart Parsing’) des Zusatzkapitels zu Kapitel 8:\n",
    "http://www.nltk.org/book/ch08-extras.html"
   ]
  }
 ],
 "metadata": {
  "kernelspec": {
   "display_name": "Python 3",
   "language": "python",
   "name": "python3"
  },
  "language_info": {
   "codemirror_mode": {
    "name": "ipython",
    "version": 3
   },
   "file_extension": ".py",
   "mimetype": "text/x-python",
   "name": "python",
   "nbconvert_exporter": "python",
   "pygments_lexer": "ipython3",
   "version": "3.7.4"
  },
  "widgets": {
   "application/vnd.jupyter.widget-state+json": {
    "state": {
     "002456c0ff174e9aa40af962f9ff279b": {
      "model_module": "@jupyter-widgets/base",
      "model_module_version": "1.2.0",
      "model_name": "LayoutModel",
      "state": {
       "justify_content": "center"
      }
     },
     "0051d924dff44a3cba86b8624ce24ce9": {
      "model_module": "@jupyter-widgets/controls",
      "model_module_version": "1.5.0",
      "model_name": "ButtonModel",
      "state": {
       "description": "Complete",
       "layout": "IPY_MODEL_c2b1cd56d40843a585571e57fd67b479",
       "style": "IPY_MODEL_6094c196d8344ab5a26bb4f825070f49"
      }
     },
     "0073326e8ddc484782cce558372e7a2c": {
      "model_module": "@jupyter-widgets/controls",
      "model_module_version": "1.5.0",
      "model_name": "ButtonModel",
      "state": {
       "description": "Reduce",
       "layout": "IPY_MODEL_11597f1c1012497399d637389d0dbff5",
       "style": "IPY_MODEL_4a341ff7fb46452faaa1644e8edb36cf"
      }
     },
     "007384f6e4ce497bbb10eca3843a1e18": {
      "model_module": "@jupyter-widgets/controls",
      "model_module_version": "1.5.0",
      "model_name": "VBoxModel",
      "state": {
       "children": [
        "IPY_MODEL_bf1eb27ce5344520bf764e99bacb8f8c",
        "IPY_MODEL_792df644b23249a8aab58b663da0c3cf",
        "IPY_MODEL_0d479f37fd994d9287b0e40d82aa1d9f",
        "IPY_MODEL_bfa39c509d1b4a35afbf6f876c25f856",
        "IPY_MODEL_9ab128db54504976b77ec1339a216da9"
       ],
       "layout": "IPY_MODEL_1399eafbac6c480790206c9d974c61c5"
      }
     },
     "00f3b3a7f35b49acbfad0822e6dee23a": {
      "model_module": "@jupyter-widgets/base",
      "model_module_version": "1.2.0",
      "model_name": "LayoutModel",
      "state": {
       "width": "250px"
      }
     },
     "015690e2dc98460fa5ee41c735569677": {
      "model_module": "@jupyter-widgets/base",
      "model_module_version": "1.2.0",
      "model_name": "LayoutModel",
      "state": {
       "width": "250px"
      }
     },
     "017019750c784566bff916a60b6042ff": {
      "model_module": "@jupyter-widgets/base",
      "model_module_version": "1.2.0",
      "model_name": "LayoutModel",
      "state": {
       "justify_content": "center"
      }
     },
     "0181c6ef302f40139df69d06f93be25c": {
      "model_module": "@jupyter-widgets/controls",
      "model_module_version": "1.5.0",
      "model_name": "HBoxModel",
      "state": {
       "children": [
        "IPY_MODEL_cb37cfb93d854f4392c129098aa88fa4",
        "IPY_MODEL_aed46a3762d8481285cc830f2ad86d79"
       ],
       "layout": "IPY_MODEL_620e0bf14b5a41f49f263b6ec80f5161"
      }
     },
     "018bebb711b047aa8f59f2896df6149b": {
      "model_module": "@jupyter-widgets/controls",
      "model_module_version": "1.5.0",
      "model_name": "DescriptionStyleModel",
      "state": {
       "description_width": "initial"
      }
     },
     "01a1560c644c40068198eaa999f6aaba": {
      "model_module": "@jupyter-widgets/base",
      "model_module_version": "1.2.0",
      "model_name": "LayoutModel",
      "state": {
       "width": "600px"
      }
     },
     "021e5dea639b43fd987f5a93d3224a42": {
      "model_module": "@jupyter-widgets/controls",
      "model_module_version": "1.5.0",
      "model_name": "ButtonStyleModel",
      "state": {}
     },
     "0244893438e543019793c6204fcbcae6": {
      "model_module": "@jupyter-widgets/base",
      "model_module_version": "1.2.0",
      "model_name": "LayoutModel",
      "state": {
       "width": "250px"
      }
     },
     "02867e2237714d1e91bf19b000b7f38e": {
      "model_module": "@jupyter-widgets/controls",
      "model_module_version": "1.5.0",
      "model_name": "DescriptionStyleModel",
      "state": {
       "description_width": ""
      }
     },
     "028c3b089db744cba3053c571264ed85": {
      "model_module": "@jupyter-widgets/base",
      "model_module_version": "1.2.0",
      "model_name": "LayoutModel",
      "state": {
       "width": "250px"
      }
     },
     "02c291c7bd8744189d587d10ce6a7582": {
      "model_module": "@jupyter-widgets/controls",
      "model_module_version": "1.5.0",
      "model_name": "ButtonStyleModel",
      "state": {}
     },
     "02ce56af11a4459bbdf9bbc9a0b33c7f": {
      "model_module": "@jupyter-widgets/controls",
      "model_module_version": "1.5.0",
      "model_name": "HTMLModel",
      "state": {
       "layout": "IPY_MODEL_5ce2b196e38d41c3977b31e4d0139541",
       "style": "IPY_MODEL_412aed4ec06f497aba6418ed5d2ac430",
       "value": "<h4 style=\"font-size:14px;\">Welche Operation folgt als nächstes?</h4>"
      }
     },
     "02de7bfe81884b66bbd16efd93c3cfa4": {
      "model_module": "@jupyter-widgets/base",
      "model_module_version": "1.2.0",
      "model_name": "LayoutModel",
      "state": {}
     },
     "02f7e27bf6ec4b4f8edd79846ee04ac4": {
      "model_module": "@jupyter-widgets/controls",
      "model_module_version": "1.5.0",
      "model_name": "ButtonModel",
      "state": {
       "description": "Reduce",
       "layout": "IPY_MODEL_1d407bcf72b147d6a6e1446dce313cd8",
       "style": "IPY_MODEL_021e5dea639b43fd987f5a93d3224a42"
      }
     },
     "034f264d815c4502bac74639d2797b5b": {
      "model_module": "@jupyter-widgets/base",
      "model_module_version": "1.2.0",
      "model_name": "LayoutModel",
      "state": {
       "width": "250px"
      }
     },
     "03a168d5059c418b85a212718e025796": {
      "model_module": "@jupyter-widgets/controls",
      "model_module_version": "1.5.0",
      "model_name": "HBoxModel",
      "state": {
       "children": [
        "IPY_MODEL_9f4009ce6f6c4264a89ea512a59465d5",
        "IPY_MODEL_a4011913d3144921ace8c0c484f3829b"
       ],
       "layout": "IPY_MODEL_56c49cf14d554e3980eb01b0ea5aae8d"
      }
     },
     "03e3fb835cd740bca84962024187ac29": {
      "model_module": "@jupyter-widgets/base",
      "model_module_version": "1.2.0",
      "model_name": "LayoutModel",
      "state": {
       "width": "600px"
      }
     },
     "03ee1f712982429b88ac9c39aaad41e1": {
      "model_module": "@jupyter-widgets/controls",
      "model_module_version": "1.5.0",
      "model_name": "ButtonStyleModel",
      "state": {}
     },
     "0401a44284c140598efb31dde492bab1": {
      "model_module": "@jupyter-widgets/controls",
      "model_module_version": "1.5.0",
      "model_name": "VBoxModel",
      "state": {
       "children": [
        "IPY_MODEL_1f1e7bf3ad7c4e41a58035370402c11e",
        "IPY_MODEL_170aa0fe183a4386abb961b140fab495",
        "IPY_MODEL_fae54750a22c426b8dd54d6d9539c838",
        "IPY_MODEL_089c5f4111fd406ca070d4ec7d1b89a0"
       ],
       "layout": "IPY_MODEL_bcfcb77f83884e99b45b78de80d03833"
      }
     },
     "045f710d97f746eead9e6220247ee4c8": {
      "model_module": "@jupyter-widgets/controls",
      "model_module_version": "1.5.0",
      "model_name": "DescriptionStyleModel",
      "state": {
       "description_width": ""
      }
     },
     "04d46ee5ecd24087976ecd66fb1ac2aa": {
      "model_module": "@jupyter-widgets/controls",
      "model_module_version": "1.5.0",
      "model_name": "DescriptionStyleModel",
      "state": {
       "description_width": ""
      }
     },
     "052ba7c8b98b45daad2331bde95493cb": {
      "model_module": "@jupyter-widgets/controls",
      "model_module_version": "1.5.0",
      "model_name": "HBoxModel",
      "state": {
       "children": [
        "IPY_MODEL_433bf070ce9b40a9a73c38b400fe74e2",
        "IPY_MODEL_08a58727614f4a8097640b5687261ebb"
       ],
       "layout": "IPY_MODEL_b556b9ba9d38491c84f13bab666e378a"
      }
     },
     "0544ab4181fd406bbe89d66eae9b9366": {
      "model_module": "@jupyter-widgets/controls",
      "model_module_version": "1.5.0",
      "model_name": "ButtonModel",
      "state": {
       "description": "Complete",
       "layout": "IPY_MODEL_5870a4b7d2f34f478766ef3e863cfded",
       "style": "IPY_MODEL_200794e2b0c24db19a265694124e4136"
      }
     },
     "054b8ade5dd645f58a54079086e66856": {
      "model_module": "@jupyter-widgets/controls",
      "model_module_version": "1.5.0",
      "model_name": "ButtonStyleModel",
      "state": {}
     },
     "05553730863149ba91edfc24f37ac41b": {
      "model_module": "@jupyter-widgets/base",
      "model_module_version": "1.2.0",
      "model_name": "LayoutModel",
      "state": {
       "justify_content": "center"
      }
     },
     "055cf8c9ca26435cbebf954e89b54364": {
      "model_module": "@jupyter-widgets/controls",
      "model_module_version": "1.5.0",
      "model_name": "HTMLModel",
      "state": {
       "layout": "IPY_MODEL_eec029dbbdaf42809960c5b34eb4759b",
       "style": "IPY_MODEL_1e4de0021c49455f8f86bcb06c577746",
       "value": "<i>Wählen Sie die <ins>eine</ins> korrekte Antwort aus: </i>"
      }
     },
     "05704770cf354862bb12e18f0955fe80": {
      "model_module": "@jupyter-widgets/base",
      "model_module_version": "1.2.0",
      "model_name": "LayoutModel",
      "state": {
       "width": "250px"
      }
     },
     "05a48eeed9134f66a7a714040307058e": {
      "model_module": "@jupyter-widgets/controls",
      "model_module_version": "1.5.0",
      "model_name": "HTMLModel",
      "state": {
       "layout": "IPY_MODEL_61892670bf034fc5b04c0f7ed32b949b",
       "style": "IPY_MODEL_d479714b9dda4432972008bbf4b0e7af",
       "value": "<i>Wählen Sie die <ins>eine</ins> korrekte Antwort aus: </i>"
      }
     },
     "05af8fe01b37431ab2c1748da6092b44": {
      "model_module": "@jupyter-widgets/controls",
      "model_module_version": "1.5.0",
      "model_name": "ButtonStyleModel",
      "state": {}
     },
     "05c44c6119a54b438bdcf4f59d6cf440": {
      "model_module": "@jupyter-widgets/controls",
      "model_module_version": "1.5.0",
      "model_name": "ButtonModel",
      "state": {
       "description": "Reduce",
       "layout": "IPY_MODEL_4413c18eb9f7447f9e52dba2ff597cfa",
       "style": "IPY_MODEL_628c292a00e4495d93725c28702becdc"
      }
     },
     "0646934f4cb24e809bcb6ef1d1050803": {
      "model_module": "@jupyter-widgets/controls",
      "model_module_version": "1.5.0",
      "model_name": "ButtonModel",
      "state": {
       "description": "Predict",
       "layout": "IPY_MODEL_d4ccb52c6b38469db09b03146370aa64",
       "style": "IPY_MODEL_6cb855fc7f3d450da33cc8a43c945525"
      }
     },
     "069f3bf1224a4a2c866958c21a9de2d6": {
      "model_module": "@jupyter-widgets/base",
      "model_module_version": "1.2.0",
      "model_name": "LayoutModel",
      "state": {
       "width": "250px"
      }
     },
     "06bc9d415291428a958845ddc1422265": {
      "model_module": "@jupyter-widgets/base",
      "model_module_version": "1.2.0",
      "model_name": "LayoutModel",
      "state": {
       "width": "250px"
      }
     },
     "06c0a3f5d98e4e5e94dd274b14001352": {
      "model_module": "@jupyter-widgets/controls",
      "model_module_version": "1.5.0",
      "model_name": "ButtonModel",
      "state": {
       "description": "Shift",
       "layout": "IPY_MODEL_9439ccabc63c4977ba1b6405915f60e7",
       "style": "IPY_MODEL_0ad130a08480468f80cdc2f3a0812a37"
      }
     },
     "06c668d8a19041618bce49a311299927": {
      "model_module": "@jupyter-widgets/controls",
      "model_module_version": "1.5.0",
      "model_name": "HTMLModel",
      "state": {
       "layout": "IPY_MODEL_df3c7194b2864c5e9e36780932eecb38",
       "style": "IPY_MODEL_b19f379a83fd4e60b959fb91668749b4",
       "value": "<h4 style=\"font-size:14px;\">Welche Operation folgt als nächstes?</h4>"
      }
     },
     "06f8eec16ae241f1bef64d3937b0de67": {
      "model_module": "@jupyter-widgets/controls",
      "model_module_version": "1.5.0",
      "model_name": "ButtonStyleModel",
      "state": {}
     },
     "071d07880758496ea458d2e01dcf0bff": {
      "model_module": "@jupyter-widgets/controls",
      "model_module_version": "1.5.0",
      "model_name": "DescriptionStyleModel",
      "state": {
       "description_width": ""
      }
     },
     "072ebed4bc8b45a9a75894c3b0e12cc0": {
      "model_module": "@jupyter-widgets/controls",
      "model_module_version": "1.5.0",
      "model_name": "ButtonModel",
      "state": {
       "description": "Complete",
       "layout": "IPY_MODEL_7e91c0cd3ab643d0bb4b4b79664f9cdb",
       "style": "IPY_MODEL_3c16960648144005936f228474de44a2"
      }
     },
     "07559f2bc7b44a6cbf594ee34de9eae0": {
      "model_module": "@jupyter-widgets/controls",
      "model_module_version": "1.5.0",
      "model_name": "HBoxModel",
      "state": {
       "children": [
        "IPY_MODEL_916e7967a85a4679940fbc15d48ad0d2",
        "IPY_MODEL_c03f719f9709414ba3401308cfa53563"
       ],
       "layout": "IPY_MODEL_a36f4d92f1a74250832f3fc57df980a6"
      }
     },
     "07bb6fc0e68d47ffab38e0f6500f26ee": {
      "model_module": "@jupyter-widgets/controls",
      "model_module_version": "1.5.0",
      "model_name": "HTMLModel",
      "state": {
       "layout": "IPY_MODEL_22ba5cede46d4b1bb8661719d5b6dd2e",
       "style": "IPY_MODEL_de67b15b9d3d456da21bf0dd0926a35e",
       "value": "<h4 style=\"font-size:14px;\">Welche Operation folgt als nächstes?</h4>"
      }
     },
     "07c45d8365864b87bb88e307633eef76": {
      "model_module": "@jupyter-widgets/controls",
      "model_module_version": "1.5.0",
      "model_name": "HTMLModel",
      "state": {
       "layout": "IPY_MODEL_39e72d2ff0c14c26bd7e09c2ff66d96d",
       "style": "IPY_MODEL_436a667bda644f12a2191244db432275",
       "value": "<i>Wählen Sie die <ins>eine</ins> korrekte Antwort aus: </i>"
      }
     },
     "07e79925c1e54e929493d8f1f384d634": {
      "model_module": "@jupyter-widgets/base",
      "model_module_version": "1.2.0",
      "model_name": "LayoutModel",
      "state": {
       "width": "250px"
      }
     },
     "081100818416450f854c2ce96f1dff97": {
      "model_module": "@jupyter-widgets/controls",
      "model_module_version": "1.5.0",
      "model_name": "ButtonModel",
      "state": {
       "description": "Scan",
       "layout": "IPY_MODEL_a697ae4feffa4c46bbde2468135e06ec",
       "style": "IPY_MODEL_b6035766694a41f1aa838aec6737e0dd"
      }
     },
     "08186b7440f647e39f31b70771af35c9": {
      "model_module": "@jupyter-widgets/controls",
      "model_module_version": "1.5.0",
      "model_name": "HTMLModel",
      "state": {
       "layout": "IPY_MODEL_553e2cbfdf3c4db1a21d3e4ba9807938",
       "style": "IPY_MODEL_687835664ffb4f20babbcfe3fa59e4a1",
       "value": "<h4 style=\"font-size:14px;\">Welche Operation folgt als nächstes?</h4>"
      }
     },
     "083079dc019d4a668e2c0a87a8dc4396": {
      "model_module": "@jupyter-widgets/controls",
      "model_module_version": "1.5.0",
      "model_name": "ButtonModel",
      "state": {
       "description": "Shift",
       "layout": "IPY_MODEL_d232c3e5220142158cb51bc2ea42c27a",
       "style": "IPY_MODEL_c01b3d6b9827413eb70de799f4e51261"
      }
     },
     "087fefb1d31344c5aaa1927ab2fa0ea1": {
      "model_module": "@jupyter-widgets/controls",
      "model_module_version": "1.5.0",
      "model_name": "HTMLModel",
      "state": {
       "layout": "IPY_MODEL_503f2a96ec314b5e931847a3eac4c4fc",
       "style": "IPY_MODEL_4da447536dc64f43833fe0cd869a8625",
       "value": "<i>Wählen Sie die <ins>eine</ins> korrekte Antwort aus: </i>"
      }
     },
     "088e3649dfdd4a9092470243dbb38d37": {
      "model_module": "@jupyter-widgets/base",
      "model_module_version": "1.2.0",
      "model_name": "LayoutModel",
      "state": {
       "justify_content": "center"
      }
     },
     "089c5f4111fd406ca070d4ec7d1b89a0": {
      "model_module": "@jupyter-widgets/controls",
      "model_module_version": "1.5.0",
      "model_name": "HBoxModel",
      "state": {
       "children": [
        "IPY_MODEL_64a69d7a6ca244388291f0ae59f429b1"
       ],
       "layout": "IPY_MODEL_8e6bee78adf84817bd18d5010ab3e6cd"
      }
     },
     "08a58727614f4a8097640b5687261ebb": {
      "model_module": "@jupyter-widgets/controls",
      "model_module_version": "1.5.0",
      "model_name": "ButtonModel",
      "state": {
       "description": "Keine der Alternativen",
       "layout": "IPY_MODEL_e85f25bdbc2d44aea15ea33917f80ee3",
       "style": "IPY_MODEL_d24a43122d454640877b41b0881199c6"
      }
     },
     "090601a80fa94a44975f9955c1510c2e": {
      "model_module": "@jupyter-widgets/base",
      "model_module_version": "1.2.0",
      "model_name": "LayoutModel",
      "state": {}
     },
     "09564e8ef68d428fb2f92d23bd248ffa": {
      "model_module": "@jupyter-widgets/base",
      "model_module_version": "1.2.0",
      "model_name": "LayoutModel",
      "state": {
       "justify_content": "center"
      }
     },
     "0974dc0906a14ddb8dbb14116f78fe0a": {
      "model_module": "@jupyter-widgets/controls",
      "model_module_version": "1.5.0",
      "model_name": "CheckboxModel",
      "state": {
       "description": "Scan",
       "disabled": false,
       "layout": "IPY_MODEL_20b3889a12874dbf879434ccc024c5e9",
       "style": "IPY_MODEL_503f216f7e6f40538922bff285f3185f",
       "value": false
      }
     },
     "098cc22d1d3149feb9fa7355b68b95c8": {
      "model_module": "@jupyter-widgets/base",
      "model_module_version": "1.2.0",
      "model_name": "LayoutModel",
      "state": {
       "justify_content": "center"
      }
     },
     "099e814686bb400281370ce3c7b0eb46": {
      "model_module": "@jupyter-widgets/controls",
      "model_module_version": "1.5.0",
      "model_name": "ButtonStyleModel",
      "state": {}
     },
     "09cbd5c6809a4962b783ef426283c530": {
      "model_module": "@jupyter-widgets/controls",
      "model_module_version": "1.5.0",
      "model_name": "ButtonModel",
      "state": {
       "description": "Shift Reduce",
       "layout": "IPY_MODEL_c7bf515f20bc421ba336f31588489b57",
       "style": "IPY_MODEL_d65577ee795a4f3cb91993543155f229"
      }
     },
     "09d03a73bbae4412825db5ed14a1950a": {
      "model_module": "@jupyter-widgets/controls",
      "model_module_version": "1.5.0",
      "model_name": "ButtonModel",
      "state": {
       "description": "Shift",
       "layout": "IPY_MODEL_c3867cb50e5d41249e625f3cebc42526",
       "style": "IPY_MODEL_376b32c9e99245cfb71a9e6555129391"
      }
     },
     "09f45037128e446ea693b79005b4739b": {
      "model_module": "@jupyter-widgets/controls",
      "model_module_version": "1.5.0",
      "model_name": "DescriptionStyleModel",
      "state": {
       "description_width": ""
      }
     },
     "0a4b90d55a3f40e0af6bc008c74dd945": {
      "model_module": "@jupyter-widgets/controls",
      "model_module_version": "1.5.0",
      "model_name": "HTMLModel",
      "state": {
       "layout": "IPY_MODEL_518cd16186d2487d9c3b2d703d8aeb59",
       "style": "IPY_MODEL_e20999910c3443edbbe78b98aee392b4",
       "value": "<i>Wählen Sie die <ins>eine</ins> korrekte Antwort aus: </i>"
      }
     },
     "0a500be1dd0f4d71855eb49f08032d15": {
      "model_module": "@jupyter-widgets/controls",
      "model_module_version": "1.5.0",
      "model_name": "DescriptionStyleModel",
      "state": {
       "description_width": ""
      }
     },
     "0a7b8003476c4cbf9010dcf5e7cf09f3": {
      "model_module": "@jupyter-widgets/controls",
      "model_module_version": "1.5.0",
      "model_name": "HBoxModel",
      "state": {
       "children": [
        "IPY_MODEL_79384f716724440aac586d1416169ee4",
        "IPY_MODEL_11c9c987c5604bb19c2f858498380301"
       ],
       "layout": "IPY_MODEL_6227453a2fcf4020b11a82b31235f72e"
      }
     },
     "0aa9d695cd324ef585c201f7a1daabcb": {
      "model_module": "@jupyter-widgets/controls",
      "model_module_version": "1.5.0",
      "model_name": "VBoxModel",
      "state": {
       "children": [
        "IPY_MODEL_c66fce3aad4241b69ffc8df7447bf3df",
        "IPY_MODEL_e68afdab26414fa08aad253932451a8e",
        "IPY_MODEL_e27e6a14328a4064b6d3964f19c7f32c",
        "IPY_MODEL_3c39ede7767c4fef938fc4c10c9205fa"
       ],
       "layout": "IPY_MODEL_fbf9e85a293345dfa0997da6cb1f5c1d"
      }
     },
     "0ad130a08480468f80cdc2f3a0812a37": {
      "model_module": "@jupyter-widgets/controls",
      "model_module_version": "1.5.0",
      "model_name": "ButtonStyleModel",
      "state": {}
     },
     "0b1a17be93cd4084afc1f55a2fa3b626": {
      "model_module": "@jupyter-widgets/base",
      "model_module_version": "1.2.0",
      "model_name": "LayoutModel",
      "state": {
       "width": "250px"
      }
     },
     "0b2b38b72acb4a89929803b303ef8865": {
      "model_module": "@jupyter-widgets/controls",
      "model_module_version": "1.5.0",
      "model_name": "ButtonStyleModel",
      "state": {}
     },
     "0b483ce02f8442b4a2cf4068029fb065": {
      "model_module": "@jupyter-widgets/base",
      "model_module_version": "1.2.0",
      "model_name": "LayoutModel",
      "state": {}
     },
     "0b5cd9a36f6445d39ac72a088189c88b": {
      "model_module": "@jupyter-widgets/base",
      "model_module_version": "1.2.0",
      "model_name": "LayoutModel",
      "state": {
       "width": "250px"
      }
     },
     "0b8bc38ada464905af359f7bc49a9897": {
      "model_module": "@jupyter-widgets/controls",
      "model_module_version": "1.5.0",
      "model_name": "ButtonModel",
      "state": {
       "description": "Complete",
       "layout": "IPY_MODEL_7ec6347752864981b6b8f0696e546115",
       "style": "IPY_MODEL_d396eb86e76742278589915b53ae69bd"
      }
     },
     "0b8c2324c1c941cbb1a1e3921135c54d": {
      "model_module": "@jupyter-widgets/controls",
      "model_module_version": "1.5.0",
      "model_name": "ButtonStyleModel",
      "state": {}
     },
     "0b8f066156694abb81154dc8a5d5c808": {
      "model_module": "@jupyter-widgets/controls",
      "model_module_version": "1.5.0",
      "model_name": "ButtonStyleModel",
      "state": {}
     },
     "0ba416a83a084e52a7744256188362a8": {
      "model_module": "@jupyter-widgets/base",
      "model_module_version": "1.2.0",
      "model_name": "LayoutModel",
      "state": {
       "width": "250px"
      }
     },
     "0badf5ca5d9b400cbc8d5bd210ef9d5f": {
      "model_module": "@jupyter-widgets/controls",
      "model_module_version": "1.5.0",
      "model_name": "DescriptionStyleModel",
      "state": {
       "description_width": "initial"
      }
     },
     "0bb61ad21ecf4271a2dc4947efcf0dd4": {
      "model_module": "@jupyter-widgets/controls",
      "model_module_version": "1.5.0",
      "model_name": "ButtonStyleModel",
      "state": {}
     },
     "0bd64a5649f145b6a3f5ca747ccc21fc": {
      "model_module": "@jupyter-widgets/controls",
      "model_module_version": "1.5.0",
      "model_name": "ButtonStyleModel",
      "state": {}
     },
     "0bdc7e07e9e048dd82538f348ea61e6b": {
      "model_module": "@jupyter-widgets/base",
      "model_module_version": "1.2.0",
      "model_name": "LayoutModel",
      "state": {
       "width": "600px"
      }
     },
     "0bfbdfd3dd4547e0b332771a95dd0065": {
      "model_module": "@jupyter-widgets/controls",
      "model_module_version": "1.5.0",
      "model_name": "DescriptionStyleModel",
      "state": {
       "description_width": "initial"
      }
     },
     "0c05fcf530654f289ce656a0fc1378b5": {
      "model_module": "@jupyter-widgets/base",
      "model_module_version": "1.2.0",
      "model_name": "LayoutModel",
      "state": {
       "width": "250px"
      }
     },
     "0c12656483974e4cac628caa7c728615": {
      "model_module": "@jupyter-widgets/controls",
      "model_module_version": "1.5.0",
      "model_name": "DescriptionStyleModel",
      "state": {
       "description_width": ""
      }
     },
     "0c585c242aa94486a6b7c3da816201e1": {
      "model_module": "@jupyter-widgets/controls",
      "model_module_version": "1.5.0",
      "model_name": "HBoxModel",
      "state": {
       "children": [
        "IPY_MODEL_f1ef82b35a7f41ab8fd25fa9d241057b",
        "IPY_MODEL_e44152d62a14402e8711756f56a8952c"
       ],
       "layout": "IPY_MODEL_fc96f23c21f2402e822a8f3edbfaab6a"
      }
     },
     "0c72ad81473f49e181d920d80cccd4e9": {
      "model_module": "@jupyter-widgets/controls",
      "model_module_version": "1.5.0",
      "model_name": "ButtonStyleModel",
      "state": {}
     },
     "0c77b80ec4584ee8a38c8ebc491725d4": {
      "model_module": "@jupyter-widgets/controls",
      "model_module_version": "1.5.0",
      "model_name": "ButtonModel",
      "state": {
       "description": "Complete",
       "layout": "IPY_MODEL_26ceb1a6af55469f8493a473be954334",
       "style": "IPY_MODEL_9c2127b7aaec4e2d9506589c7a287c9b"
      }
     },
     "0c990db8a58d4f1eb2f0eea48154a335": {
      "model_module": "@jupyter-widgets/base",
      "model_module_version": "1.2.0",
      "model_name": "LayoutModel",
      "state": {}
     },
     "0ca40eea76db42009e549e7ad1ba105d": {
      "model_module": "@jupyter-widgets/controls",
      "model_module_version": "1.5.0",
      "model_name": "HTMLModel",
      "state": {
       "layout": "IPY_MODEL_835bdeb9fec14ecbb5ac2ec8fb503c6d",
       "style": "IPY_MODEL_df414703be5f43f4a0c4791b3a5011b4",
       "value": "<i>Wählen Sie die <ins>eine</ins> korrekte Antwort aus: </i>"
      }
     },
     "0ccd6357ff654c5aa41b2abe14195284": {
      "model_module": "@jupyter-widgets/base",
      "model_module_version": "1.2.0",
      "model_name": "LayoutModel",
      "state": {
       "width": "250px"
      }
     },
     "0cf2657ad03a49c1a7c78d4901e18032": {
      "model_module": "@jupyter-widgets/controls",
      "model_module_version": "1.5.0",
      "model_name": "ButtonStyleModel",
      "state": {}
     },
     "0d21dc2342144844bb82d102ef1da12d": {
      "model_module": "@jupyter-widgets/controls",
      "model_module_version": "1.5.0",
      "model_name": "ButtonStyleModel",
      "state": {}
     },
     "0d2da756c6da4fecbbbf1fc21ed5625b": {
      "model_module": "@jupyter-widgets/base",
      "model_module_version": "1.2.0",
      "model_name": "LayoutModel",
      "state": {}
     },
     "0d40d129807745dbad773237652cf0f0": {
      "model_module": "@jupyter-widgets/controls",
      "model_module_version": "1.5.0",
      "model_name": "ButtonStyleModel",
      "state": {}
     },
     "0d479f37fd994d9287b0e40d82aa1d9f": {
      "model_module": "@jupyter-widgets/controls",
      "model_module_version": "1.5.0",
      "model_name": "HBoxModel",
      "state": {
       "children": [
        "IPY_MODEL_a0b21cf3b6e441778a7a6cabbe5ef07e",
        "IPY_MODEL_59f498ecfd4f452f9156c8dc71a5ecaa"
       ],
       "layout": "IPY_MODEL_c0449cec717f452c99cd2e1710718ec5"
      }
     },
     "0d86ef02c28b45c0bcd75896436c864c": {
      "model_module": "@jupyter-widgets/controls",
      "model_module_version": "1.5.0",
      "model_name": "VBoxModel",
      "state": {
       "children": [
        "IPY_MODEL_f425c7af8131498c9e3aa3006a31a9c1",
        "IPY_MODEL_d3ba218811fc4ec6a7c88eeed04e7251",
        "IPY_MODEL_71fc85faf9094da2a06dfe81af64b552",
        "IPY_MODEL_367707d816a74fc085de5ea15bde4c64",
        "IPY_MODEL_9d935c06ea3a4b7eb6f20dfed37eb963"
       ],
       "layout": "IPY_MODEL_97633a6b13c940c1b7ff4cdb781055ed"
      }
     },
     "0db876ea5b6a4425994c179349e33e8b": {
      "model_module": "@jupyter-widgets/base",
      "model_module_version": "1.2.0",
      "model_name": "LayoutModel",
      "state": {
       "width": "250px"
      }
     },
     "0e135386d0df464696bd8ec420463b0e": {
      "model_module": "@jupyter-widgets/base",
      "model_module_version": "1.2.0",
      "model_name": "LayoutModel",
      "state": {}
     },
     "0e1fd712fbbb477aa24f513df8197745": {
      "model_module": "@jupyter-widgets/base",
      "model_module_version": "1.2.0",
      "model_name": "LayoutModel",
      "state": {}
     },
     "0e22b22831a74bd4b04b9576b7e4f217": {
      "model_module": "@jupyter-widgets/controls",
      "model_module_version": "1.5.0",
      "model_name": "DescriptionStyleModel",
      "state": {
       "description_width": ""
      }
     },
     "0e2a6fedae75450eb8d0162af2327a39": {
      "model_module": "@jupyter-widgets/controls",
      "model_module_version": "1.5.0",
      "model_name": "ButtonStyleModel",
      "state": {}
     },
     "0e467e7793274997b4a6ed97b9902dd7": {
      "model_module": "@jupyter-widgets/controls",
      "model_module_version": "1.5.0",
      "model_name": "HTMLModel",
      "state": {
       "layout": "IPY_MODEL_4f5c726eb4cb46f3a3d93989231cf27e",
       "style": "IPY_MODEL_2dac54da7a37428ab05936499d742e0b",
       "value": "<i>Markieren Sie <ins>alle</ins> passenden Antworten: </i>"
      }
     },
     "0e8ebe6a74cb4b4f923b76e25c7066ff": {
      "model_module": "@jupyter-widgets/base",
      "model_module_version": "1.2.0",
      "model_name": "LayoutModel",
      "state": {
       "justify_content": "center"
      }
     },
     "0e9f14713f0c45b39e276bce3b792a7a": {
      "model_module": "@jupyter-widgets/controls",
      "model_module_version": "1.5.0",
      "model_name": "HTMLModel",
      "state": {
       "layout": "IPY_MODEL_70bb5443895f4683a1eecd0b65ea5456",
       "style": "IPY_MODEL_c5e2d3e96d604014af6d9f337f767f22",
       "value": "<i>Wählen Sie die <ins>eine</ins> korrekte Antwort aus: </i>"
      }
     },
     "0ef34292d8ff4212aa3e5df0df562c0e": {
      "model_module": "@jupyter-widgets/controls",
      "model_module_version": "1.5.0",
      "model_name": "DescriptionStyleModel",
      "state": {
       "description_width": ""
      }
     },
     "0efe28c2a41f4b9e9578b7e8ec1094d8": {
      "model_module": "@jupyter-widgets/controls",
      "model_module_version": "1.5.0",
      "model_name": "HBoxModel",
      "state": {
       "children": [
        "IPY_MODEL_3bdb0e7eed3c4fe6b70e2a504ae117dd",
        "IPY_MODEL_6e871baaf61c49a9a9c7467d7f619cd7"
       ],
       "layout": "IPY_MODEL_46362c6609d24cf4afedec9a1c7d7b49"
      }
     },
     "0f1ad41d4349473db9f2b909bc59e5a5": {
      "model_module": "@jupyter-widgets/controls",
      "model_module_version": "1.5.0",
      "model_name": "DescriptionStyleModel",
      "state": {
       "description_width": ""
      }
     },
     "0f3f7c91ca0f45fa841c09003bfb8c65": {
      "model_module": "@jupyter-widgets/base",
      "model_module_version": "1.2.0",
      "model_name": "LayoutModel",
      "state": {
       "width": "250px"
      }
     },
     "0f49ededc34645fcb6203c9fc19f439e": {
      "model_module": "@jupyter-widgets/controls",
      "model_module_version": "1.5.0",
      "model_name": "ButtonModel",
      "state": {
       "description": "Complete",
       "layout": "IPY_MODEL_d416ed6155a24de4a8bb9f89979e45cc",
       "style": "IPY_MODEL_cf4269321faa4d37bea3d5380f17b886"
      }
     },
     "0fac59fb373742f3b6b664ac66deec26": {
      "model_module": "@jupyter-widgets/controls",
      "model_module_version": "1.5.0",
      "model_name": "VBoxModel",
      "state": {
       "children": [
        "IPY_MODEL_73778a5eeab94458a5a39ae9af3df12d",
        "IPY_MODEL_569955ebea7548539e09fadda27832b6",
        "IPY_MODEL_3439f4878fa8436eb47e1b04b42506e2",
        "IPY_MODEL_51b056c331084318bc22d0d80258cd60"
       ],
       "layout": "IPY_MODEL_b40fc5c7319749b2a96cc431e380e582"
      }
     },
     "0ff133f1878149e39c31fd8c491a9a75": {
      "model_module": "@jupyter-widgets/base",
      "model_module_version": "1.2.0",
      "model_name": "LayoutModel",
      "state": {
       "width": "250px"
      }
     },
     "10929bc20d884ffd8594d2657e13cba6": {
      "model_module": "@jupyter-widgets/base",
      "model_module_version": "1.2.0",
      "model_name": "LayoutModel",
      "state": {
       "justify_content": "center"
      }
     },
     "1092de54526649cebcb2865189f4520d": {
      "model_module": "@jupyter-widgets/base",
      "model_module_version": "1.2.0",
      "model_name": "LayoutModel",
      "state": {}
     },
     "10db7c0c1ef54025bd3f196a14ff5a0c": {
      "model_module": "@jupyter-widgets/controls",
      "model_module_version": "1.5.0",
      "model_name": "VBoxModel",
      "state": {
       "children": [
        "IPY_MODEL_9223136b70cd432fa506a6b31203378a",
        "IPY_MODEL_055cf8c9ca26435cbebf954e89b54364",
        "IPY_MODEL_9ee195ab4ded4b3e95112175a82f3eec",
        "IPY_MODEL_485cd019633e4f3c9219742f0542ed0d",
        "IPY_MODEL_bb61264bbaf74de2a840b9a80bb88d70"
       ],
       "layout": "IPY_MODEL_2ab05596d07a4d62a61c7aa0b39eee70"
      }
     },
     "10efe42361f94a50bba403b3d491fb50": {
      "model_module": "@jupyter-widgets/controls",
      "model_module_version": "1.5.0",
      "model_name": "HBoxModel",
      "state": {
       "children": [
        "IPY_MODEL_33d03d01c4e14d19a49cb7f5dcf4adc9",
        "IPY_MODEL_1221dbaeb62741048ecef385232c4b28"
       ],
       "layout": "IPY_MODEL_576531e01910404fbf5b46acb663caf1"
      }
     },
     "11302f0022c04309ba9cf7b68955c165": {
      "model_module": "@jupyter-widgets/base",
      "model_module_version": "1.2.0",
      "model_name": "LayoutModel",
      "state": {
       "justify_content": "center"
      }
     },
     "11597f1c1012497399d637389d0dbff5": {
      "model_module": "@jupyter-widgets/base",
      "model_module_version": "1.2.0",
      "model_name": "LayoutModel",
      "state": {
       "width": "250px"
      }
     },
     "11879f2af29b412bb91b20f258e4b636": {
      "model_module": "@jupyter-widgets/base",
      "model_module_version": "1.2.0",
      "model_name": "LayoutModel",
      "state": {}
     },
     "119483dff7694db293bdcb9c8bccc825": {
      "model_module": "@jupyter-widgets/controls",
      "model_module_version": "1.5.0",
      "model_name": "HTMLModel",
      "state": {
       "layout": "IPY_MODEL_417d1d6009034bf7b19a97d53b2978d7",
       "style": "IPY_MODEL_d2af88c6246844738fc0516e561f49e7",
       "value": "<h4 style=\"font-size:14px;\">Welche Operation folgt als nächstes?</h4>"
      }
     },
     "11a0e9d37aed4480b4341e9cd1ca67ea": {
      "model_module": "@jupyter-widgets/controls",
      "model_module_version": "1.5.0",
      "model_name": "ButtonModel",
      "state": {
       "description": "Recusive Descent",
       "layout": "IPY_MODEL_6c98777b6b844365829a95ebba66d27a",
       "style": "IPY_MODEL_b35543383c104849bf65eaa1be92f967"
      }
     },
     "11c75e9cccb84c259bb40e84f2252517": {
      "model_module": "@jupyter-widgets/controls",
      "model_module_version": "1.5.0",
      "model_name": "ButtonModel",
      "state": {
       "description": "Reduce",
       "layout": "IPY_MODEL_177e5e1c98bf42b59e8a899154ec6245",
       "style": "IPY_MODEL_b3d66f60688846f0ab3b5fcbdf66cc91"
      }
     },
     "11c9c987c5604bb19c2f858498380301": {
      "model_module": "@jupyter-widgets/controls",
      "model_module_version": "1.5.0",
      "model_name": "ButtonModel",
      "state": {
       "description": "Scan",
       "layout": "IPY_MODEL_30fcc9acdac8445bbd6f605c6934ee1b",
       "style": "IPY_MODEL_d28cf03c2081440dbe14fd7bb39964cc"
      }
     },
     "11db1e2f29604c118e0dd100f507deca": {
      "model_module": "@jupyter-widgets/controls",
      "model_module_version": "1.5.0",
      "model_name": "DescriptionStyleModel",
      "state": {
       "description_width": ""
      }
     },
     "11f9ad4eebb4491da380acddc68bda92": {
      "model_module": "@jupyter-widgets/controls",
      "model_module_version": "1.5.0",
      "model_name": "ButtonModel",
      "state": {
       "description": "Recusive Descent",
       "layout": "IPY_MODEL_69c46b71486c4e1591aa43811b80f31a",
       "style": "IPY_MODEL_d14f0e0c3d3442559680053a2f1b998d"
      }
     },
     "120568315af94bea8aba18c7b6e0a893": {
      "model_module": "@jupyter-widgets/controls",
      "model_module_version": "1.5.0",
      "model_name": "VBoxModel",
      "state": {
       "children": [
        "IPY_MODEL_7d0bd4c45df64eb5a24ef1cd8916b16e",
        "IPY_MODEL_4122907159a94f9bb011e5d6d652d7fb",
        "IPY_MODEL_3fc94a87221243b18d0bb8c19745bf6c",
        "IPY_MODEL_7ca4bd0d556e40a2b63900d3e20ec902",
        "IPY_MODEL_5c18672671214355a8a4e1b4007d0d97"
       ],
       "layout": "IPY_MODEL_254ab32df35e4418bf9b0ff5e3399d39"
      }
     },
     "121868b4411b47d29a613c6b710b6798": {
      "model_module": "@jupyter-widgets/controls",
      "model_module_version": "1.5.0",
      "model_name": "ButtonStyleModel",
      "state": {}
     },
     "1221dbaeb62741048ecef385232c4b28": {
      "model_module": "@jupyter-widgets/controls",
      "model_module_version": "1.5.0",
      "model_name": "ButtonModel",
      "state": {
       "description": "Scan",
       "layout": "IPY_MODEL_70d7f5aebe584a6d99313f44728ade5b",
       "style": "IPY_MODEL_ee714054188a4d6c8983faa87e48f7f3"
      }
     },
     "128ac4f4ddb34d85ab3c027a3c12dd7a": {
      "model_module": "@jupyter-widgets/controls",
      "model_module_version": "1.5.0",
      "model_name": "VBoxModel",
      "state": {
       "children": [
        "IPY_MODEL_5824d94971e04099931daaa43df795e1",
        "IPY_MODEL_ae76bd1022b949e18b4bd8ca4622e06e",
        "IPY_MODEL_d8126cc1450246068d11b7d545e8f76a",
        "IPY_MODEL_6adb0dd7d9d04ccbaa03e31b4318a46f",
        "IPY_MODEL_fcefd70e601348a4979e8b734c832cd8"
       ],
       "layout": "IPY_MODEL_6529272f8dd2403fba2ee958945a65d4"
      }
     },
     "12a7cad07c6e4bb8ae9d8215cab98233": {
      "model_module": "@jupyter-widgets/base",
      "model_module_version": "1.2.0",
      "model_name": "LayoutModel",
      "state": {
       "justify_content": "center"
      }
     },
     "12ab81ae69ea480aa1d99f4984d9385d": {
      "model_module": "@jupyter-widgets/controls",
      "model_module_version": "1.5.0",
      "model_name": "ButtonStyleModel",
      "state": {}
     },
     "12e98ecb56aa4963901824c6b3510b4e": {
      "model_module": "@jupyter-widgets/controls",
      "model_module_version": "1.5.0",
      "model_name": "DescriptionStyleModel",
      "state": {
       "description_width": ""
      }
     },
     "130a2c355fd94e91aa0c45387d0ab99e": {
      "model_module": "@jupyter-widgets/base",
      "model_module_version": "1.2.0",
      "model_name": "LayoutModel",
      "state": {}
     },
     "1380b05e293c42b79e17ce9f03d2a9cd": {
      "model_module": "@jupyter-widgets/controls",
      "model_module_version": "1.5.0",
      "model_name": "ButtonStyleModel",
      "state": {}
     },
     "1399eafbac6c480790206c9d974c61c5": {
      "model_module": "@jupyter-widgets/base",
      "model_module_version": "1.2.0",
      "model_name": "LayoutModel",
      "state": {}
     },
     "13ad83eb87e84a87ab7b43bed968a66a": {
      "model_module": "@jupyter-widgets/controls",
      "model_module_version": "1.5.0",
      "model_name": "CheckboxModel",
      "state": {
       "description": "Shift",
       "disabled": false,
       "layout": "IPY_MODEL_bbe415eb6b3f49bbb232d877b8f16767",
       "style": "IPY_MODEL_ed45e4624c9d4fe3b457dff4836e874f",
       "value": false
      }
     },
     "13b04d7233524bdfb9b5752473ff150d": {
      "model_module": "@jupyter-widgets/base",
      "model_module_version": "1.2.0",
      "model_name": "LayoutModel",
      "state": {
       "justify_content": "center"
      }
     },
     "13c0ed3a4d684f73ba3ed5ddb9e6e93b": {
      "model_module": "@jupyter-widgets/base",
      "model_module_version": "1.2.0",
      "model_name": "LayoutModel",
      "state": {
       "justify_content": "center"
      }
     },
     "13e540d321e9468d8aa11be42bae9308": {
      "model_module": "@jupyter-widgets/controls",
      "model_module_version": "1.5.0",
      "model_name": "ButtonModel",
      "state": {
       "description": "Recusive Descent",
       "layout": "IPY_MODEL_b81b949d16b34eda9d94d03ed81c7700",
       "style": "IPY_MODEL_be400e12a5e7428b87ee297b80fa2727"
      }
     },
     "141d522673134952848751f262ed91c0": {
      "model_module": "@jupyter-widgets/controls",
      "model_module_version": "1.5.0",
      "model_name": "ButtonModel",
      "state": {
       "description": "Shift",
       "layout": "IPY_MODEL_58115271815d4388a8c1f851490b74ab",
       "style": "IPY_MODEL_e9a896447b9f4df59bf0ce3c8af44a04"
      }
     },
     "1430461a93564825b88afde6e35ca294": {
      "model_module": "@jupyter-widgets/controls",
      "model_module_version": "1.5.0",
      "model_name": "ButtonStyleModel",
      "state": {}
     },
     "14984011c07f41ddb54e6642a7529723": {
      "model_module": "@jupyter-widgets/controls",
      "model_module_version": "1.5.0",
      "model_name": "HBoxModel",
      "state": {
       "children": [
        "IPY_MODEL_81aa1ee6135d4f7eae55acef0a478252",
        "IPY_MODEL_71ef7247d45749fb98932219cfe485d6"
       ],
       "layout": "IPY_MODEL_f63227bdcc7d40379f0e1532dd70bc06"
      }
     },
     "14a26956a71c4d59a9a06e1a209884b7": {
      "model_module": "@jupyter-widgets/controls",
      "model_module_version": "1.5.0",
      "model_name": "ButtonStyleModel",
      "state": {}
     },
     "14ae5270344e434ebd5f114a62082410": {
      "model_module": "@jupyter-widgets/controls",
      "model_module_version": "1.5.0",
      "model_name": "HTMLModel",
      "state": {
       "layout": "IPY_MODEL_546c268508214cf3831d2143c6fc6bf1",
       "style": "IPY_MODEL_0ef34292d8ff4212aa3e5df0df562c0e",
       "value": "<i>Wählen Sie die <ins>eine</ins> korrekte Antwort aus: </i>"
      }
     },
     "14bcf677033a4c8687b3e992c9fbd707": {
      "model_module": "@jupyter-widgets/base",
      "model_module_version": "1.2.0",
      "model_name": "LayoutModel",
      "state": {
       "width": "250px"
      }
     },
     "14c68f2797c34308936215a7088c2f5d": {
      "model_module": "@jupyter-widgets/controls",
      "model_module_version": "1.5.0",
      "model_name": "ButtonModel",
      "state": {
       "description": "Scan",
       "layout": "IPY_MODEL_672e0be8883f482d9ca7990329006c96",
       "style": "IPY_MODEL_0d21dc2342144844bb82d102ef1da12d"
      }
     },
     "1540b678a73f435ebfb6fcd7149e03b0": {
      "model_module": "@jupyter-widgets/controls",
      "model_module_version": "1.5.0",
      "model_name": "ButtonModel",
      "state": {
       "description": "Shift Reduce",
       "layout": "IPY_MODEL_64a98d92611e4a3f8dd69fd794d92e90",
       "style": "IPY_MODEL_d22b099f1ed74001a43cb5c9c72d984b"
      }
     },
     "1545970d6b06436ea8e1d9e2c0f54da7": {
      "model_module": "@jupyter-widgets/controls",
      "model_module_version": "1.5.0",
      "model_name": "DescriptionStyleModel",
      "state": {
       "description_width": "initial"
      }
     },
     "1554a03f34444ea4b29fbf5770b63d86": {
      "model_module": "@jupyter-widgets/base",
      "model_module_version": "1.2.0",
      "model_name": "LayoutModel",
      "state": {
       "width": "250px"
      }
     },
     "159679cfa8654178a58b05a8c5b44e75": {
      "model_module": "@jupyter-widgets/controls",
      "model_module_version": "1.5.0",
      "model_name": "HTMLModel",
      "state": {
       "layout": "IPY_MODEL_e4fc880147ff45e594289f43b0101c30",
       "style": "IPY_MODEL_949ee2f04ac5402c8bb4706b534be586",
       "value": "<h4 style=\"font-size:14px;\">Welche Operation folgt als nächstes?</h4>"
      }
     },
     "15c0ff6d330b45c38a1b26f090130662": {
      "model_module": "@jupyter-widgets/base",
      "model_module_version": "1.2.0",
      "model_name": "LayoutModel",
      "state": {}
     },
     "15d6ebd531ed4545afd5486351a7826c": {
      "model_module": "@jupyter-widgets/controls",
      "model_module_version": "1.5.0",
      "model_name": "ButtonModel",
      "state": {
       "description": "Reduce",
       "layout": "IPY_MODEL_711d94b6dccf44f08458a1716c3ab1a1",
       "style": "IPY_MODEL_80cff882993b45938868d1f0b9cca9c9"
      }
     },
     "1611cab3480e453a92a19439eccd9ae0": {
      "model_module": "@jupyter-widgets/controls",
      "model_module_version": "1.5.0",
      "model_name": "HBoxModel",
      "state": {
       "children": [
        "IPY_MODEL_d4f25e7ced9b4d3091d785091cc7480c",
        "IPY_MODEL_2a1f6b84a1d44ded91b8da9da53d9939"
       ],
       "layout": "IPY_MODEL_d00f707009d241ab8f6d641cd7f7a5e0"
      }
     },
     "161ab2623f544634982574ffe3617e54": {
      "model_module": "@jupyter-widgets/controls",
      "model_module_version": "1.5.0",
      "model_name": "ButtonModel",
      "state": {
       "description": "Earley",
       "layout": "IPY_MODEL_57337cec83ee44d7bec6c31cc03c33f2",
       "style": "IPY_MODEL_26f3d29d9e214eac8003c12a20e03b42"
      }
     },
     "1624804ebd3a43639555e8fca807f559": {
      "model_module": "@jupyter-widgets/base",
      "model_module_version": "1.2.0",
      "model_name": "LayoutModel",
      "state": {
       "justify_content": "center"
      }
     },
     "165a06ddbc0d45569f0fb6bda8d3bb3f": {
      "model_module": "@jupyter-widgets/base",
      "model_module_version": "1.2.0",
      "model_name": "LayoutModel",
      "state": {
       "width": "250px"
      }
     },
     "166412947f87418eb3021873b8ff793e": {
      "model_module": "@jupyter-widgets/base",
      "model_module_version": "1.2.0",
      "model_name": "LayoutModel",
      "state": {
       "width": "250px"
      }
     },
     "16688ff3777e4c1faeb8dd88b8818160": {
      "model_module": "@jupyter-widgets/controls",
      "model_module_version": "1.5.0",
      "model_name": "ButtonModel",
      "state": {
       "description": "Keine der Alternativen",
       "layout": "IPY_MODEL_75ee15dc53794903aff49bb1bc8c5cf9",
       "style": "IPY_MODEL_666ad381b0604e7abea9137a4985ec6c"
      }
     },
     "16acfc495d7e4ca094401961a14d092e": {
      "model_module": "@jupyter-widgets/base",
      "model_module_version": "1.2.0",
      "model_name": "LayoutModel",
      "state": {
       "justify_content": "center"
      }
     },
     "16b84a8309014096a8d0419d56294466": {
      "model_module": "@jupyter-widgets/base",
      "model_module_version": "1.2.0",
      "model_name": "LayoutModel",
      "state": {}
     },
     "16cbcddbb6db4deb9f839b703d4c86a0": {
      "model_module": "@jupyter-widgets/controls",
      "model_module_version": "1.5.0",
      "model_name": "DescriptionStyleModel",
      "state": {
       "description_width": ""
      }
     },
     "16cd0599a7664dd5b4d28356ad51a5e7": {
      "model_module": "@jupyter-widgets/controls",
      "model_module_version": "1.5.0",
      "model_name": "VBoxModel",
      "state": {
       "children": [
        "IPY_MODEL_a0d6039629544760b0945d69798b2b95",
        "IPY_MODEL_a37c5ef87cb44490aedd4a7b033499c3",
        "IPY_MODEL_e6bf136b1a7a475caf693c8d1ce47f23",
        "IPY_MODEL_834c633122924a8994c6ff19dade61ef",
        "IPY_MODEL_cc67dae1be024bacbb2f1bdd312fa4b9"
       ],
       "layout": "IPY_MODEL_69774665ac3b4d0cb6f421df5789366f"
      }
     },
     "170aa0fe183a4386abb961b140fab495": {
      "model_module": "@jupyter-widgets/controls",
      "model_module_version": "1.5.0",
      "model_name": "HTMLModel",
      "state": {
       "layout": "IPY_MODEL_695eb2b31fd54b5baf355f878a96757e",
       "style": "IPY_MODEL_e682aa7379ba4f46804d59c89209892d",
       "value": "<i>Wählen Sie die <ins>eine</ins> korrekte Antwort aus: </i>"
      }
     },
     "1714ae72595d434d911e522810f19180": {
      "model_module": "@jupyter-widgets/controls",
      "model_module_version": "1.5.0",
      "model_name": "ButtonModel",
      "state": {
       "description": "Shift",
       "layout": "IPY_MODEL_4cb8f114ab504a239e81a47189972830",
       "style": "IPY_MODEL_a6225b75bc634f5db534210254beb3b6"
      }
     },
     "1721181fbd0f4134b4ce57dd125436ce": {
      "model_module": "@jupyter-widgets/controls",
      "model_module_version": "1.5.0",
      "model_name": "DescriptionStyleModel",
      "state": {
       "description_width": ""
      }
     },
     "1723f482b4784ca0921493768f24ed49": {
      "model_module": "@jupyter-widgets/base",
      "model_module_version": "1.2.0",
      "model_name": "LayoutModel",
      "state": {
       "width": "250px"
      }
     },
     "173d24cc5210459eb30975b3aa648000": {
      "model_module": "@jupyter-widgets/controls",
      "model_module_version": "1.5.0",
      "model_name": "ButtonStyleModel",
      "state": {}
     },
     "177e5e1c98bf42b59e8a899154ec6245": {
      "model_module": "@jupyter-widgets/base",
      "model_module_version": "1.2.0",
      "model_name": "LayoutModel",
      "state": {
       "width": "250px"
      }
     },
     "1796f8a87a1a469e940d999c9586b358": {
      "model_module": "@jupyter-widgets/controls",
      "model_module_version": "1.5.0",
      "model_name": "HTMLModel",
      "state": {
       "layout": "IPY_MODEL_939227519d464b44ab28c3f6bc385d41",
       "style": "IPY_MODEL_bf2617ec3bb84b3086a84d003bdac0e0",
       "value": "<i>Wählen Sie die <ins>eine</ins> korrekte Antwort aus: </i>"
      }
     },
     "17a7c3b2dcb64fc4ab48a3aec7e5a4ed": {
      "model_module": "@jupyter-widgets/controls",
      "model_module_version": "1.5.0",
      "model_name": "ButtonStyleModel",
      "state": {}
     },
     "17ac221797ce4a7e95fffd32dfe644f8": {
      "model_module": "@jupyter-widgets/controls",
      "model_module_version": "1.5.0",
      "model_name": "ButtonModel",
      "state": {
       "description": "Shift",
       "layout": "IPY_MODEL_509ce84af1094a408aa4eea8feef9887",
       "style": "IPY_MODEL_59e3bdc51b284e018b24b0da8245bca1"
      }
     },
     "183a25c7bb4a4a9eb2f61d93dc1b653b": {
      "model_module": "@jupyter-widgets/controls",
      "model_module_version": "1.5.0",
      "model_name": "ButtonModel",
      "state": {
       "description": "Keine der Alternativen",
       "layout": "IPY_MODEL_ec931427a10e49e39458b2471407c201",
       "style": "IPY_MODEL_95baa742e8a54e949f820d93f1af8849"
      }
     },
     "185999d14a8b429ba851865d059c6b13": {
      "model_module": "@jupyter-widgets/base",
      "model_module_version": "1.2.0",
      "model_name": "LayoutModel",
      "state": {
       "width": "250px"
      }
     },
     "1868766ed6b741089888bcc0f1cb0eab": {
      "model_module": "@jupyter-widgets/base",
      "model_module_version": "1.2.0",
      "model_name": "LayoutModel",
      "state": {
       "width": "250px"
      }
     },
     "186a7232a881412b9f4c02d357d9a9a6": {
      "model_module": "@jupyter-widgets/controls",
      "model_module_version": "1.5.0",
      "model_name": "ButtonStyleModel",
      "state": {}
     },
     "187cda6ea8864aea9e890d9f9e4ee662": {
      "model_module": "@jupyter-widgets/base",
      "model_module_version": "1.2.0",
      "model_name": "LayoutModel",
      "state": {}
     },
     "18822025f9b3460292cef1c252285ee7": {
      "model_module": "@jupyter-widgets/base",
      "model_module_version": "1.2.0",
      "model_name": "LayoutModel",
      "state": {
       "width": "250px"
      }
     },
     "18bf1052fb63400591d24e0b42c46af6": {
      "model_module": "@jupyter-widgets/controls",
      "model_module_version": "1.5.0",
      "model_name": "HTMLModel",
      "state": {
       "layout": "IPY_MODEL_77f1859bf3aa44209b48b81480564a62",
       "style": "IPY_MODEL_5904666a05f245109bc95addb6295f2e",
       "value": "<i>Wählen Sie die <ins>eine</ins> korrekte Antwort aus: </i>"
      }
     },
     "18ddde32d16749e4815837dde44777df": {
      "model_module": "@jupyter-widgets/controls",
      "model_module_version": "1.5.0",
      "model_name": "HBoxModel",
      "state": {
       "children": [
        "IPY_MODEL_49cfe53dc8b14d7ba51bc991a303deb3",
        "IPY_MODEL_de95dabc6bc948b09255421616acbfce"
       ],
       "layout": "IPY_MODEL_2a841cb3a02d40dbae402a0b45838193"
      }
     },
     "1929d6e48f1145da83f7526d167b05bd": {
      "model_module": "@jupyter-widgets/controls",
      "model_module_version": "1.5.0",
      "model_name": "ButtonModel",
      "state": {
       "description": "Keine der Alternativen",
       "layout": "IPY_MODEL_62863215abd44cba9bdc3080ad4d78f8",
       "style": "IPY_MODEL_a7f270ec1eb54a47a55c83911225c8da"
      }
     },
     "19395c5015fc4f348cd33755d3acb237": {
      "model_module": "@jupyter-widgets/controls",
      "model_module_version": "1.5.0",
      "model_name": "DescriptionStyleModel",
      "state": {
       "description_width": ""
      }
     },
     "1947f88e617f4693bc3c7d90864ba252": {
      "model_module": "@jupyter-widgets/controls",
      "model_module_version": "1.5.0",
      "model_name": "ButtonModel",
      "state": {
       "description": "Predict",
       "layout": "IPY_MODEL_14bcf677033a4c8687b3e992c9fbd707",
       "style": "IPY_MODEL_38dac53a49134fa182b99f8cd8ba8b7b"
      }
     },
     "19785aadb09f419c817ec581ca210a03": {
      "model_module": "@jupyter-widgets/controls",
      "model_module_version": "1.5.0",
      "model_name": "HBoxModel",
      "state": {
       "children": [
        "IPY_MODEL_d3d574e453ae4e08a93c175cdbb0a01b",
        "IPY_MODEL_6fc48c71e3324735ab5ec6457ff9f2c3"
       ],
       "layout": "IPY_MODEL_1c42595553fa475599ad132d3d7bd917"
      }
     },
     "19a78a5f621e4403bed7147c02a0c405": {
      "model_module": "@jupyter-widgets/controls",
      "model_module_version": "1.5.0",
      "model_name": "HBoxModel",
      "state": {
       "children": [
        "IPY_MODEL_59478daa06d34c55bc3def8b250d16e8"
       ],
       "layout": "IPY_MODEL_90746c09d9d741068366ad8557ce92b4"
      }
     },
     "19b7358419a74fa697f0c570347a189b": {
      "model_module": "@jupyter-widgets/controls",
      "model_module_version": "1.5.0",
      "model_name": "ButtonStyleModel",
      "state": {}
     },
     "19cf7864d8f948de8744117663cb1d37": {
      "model_module": "@jupyter-widgets/controls",
      "model_module_version": "1.5.0",
      "model_name": "ButtonModel",
      "state": {
       "description": "Reduce",
       "layout": "IPY_MODEL_7fe1f92123be4598bf9654cd52697379",
       "style": "IPY_MODEL_f902b52b605b4a82a3b2a560a85af6ba"
      }
     },
     "1a0ec26584394c57bae0aab2e2fd3d4f": {
      "model_module": "@jupyter-widgets/base",
      "model_module_version": "1.2.0",
      "model_name": "LayoutModel",
      "state": {
       "width": "250px"
      }
     },
     "1a31a0322de447a58fcc7bb064d23fd8": {
      "model_module": "@jupyter-widgets/controls",
      "model_module_version": "1.5.0",
      "model_name": "DescriptionStyleModel",
      "state": {
       "description_width": "initial"
      }
     },
     "1a7dbfb6b9264f60968ecbae431692c8": {
      "model_module": "@jupyter-widgets/base",
      "model_module_version": "1.2.0",
      "model_name": "LayoutModel",
      "state": {}
     },
     "1a895a5711af469985816724aae5f468": {
      "model_module": "@jupyter-widgets/base",
      "model_module_version": "1.2.0",
      "model_name": "LayoutModel",
      "state": {
       "justify_content": "center"
      }
     },
     "1abd2512b0d54f1c9b27bdad301b72bb": {
      "model_module": "@jupyter-widgets/controls",
      "model_module_version": "1.5.0",
      "model_name": "HTMLModel",
      "state": {
       "layout": "IPY_MODEL_4386e63a365047bcabf9514b0253e19e",
       "style": "IPY_MODEL_86a76937a89f42daa9ef10a952204e3c",
       "value": "<i>Markieren Sie <ins>alle</ins> passenden Antworten: </i>"
      }
     },
     "1acd8efe449e4aafafe0d6e74618ab25": {
      "model_module": "@jupyter-widgets/base",
      "model_module_version": "1.2.0",
      "model_name": "LayoutModel",
      "state": {
       "width": "250px"
      }
     },
     "1b575f1acf5348e8ad23c4fc510edb6d": {
      "model_module": "@jupyter-widgets/base",
      "model_module_version": "1.2.0",
      "model_name": "LayoutModel",
      "state": {
       "width": "600px"
      }
     },
     "1b6177e0b3c9411b8d05dddd10c4c280": {
      "model_module": "@jupyter-widgets/base",
      "model_module_version": "1.2.0",
      "model_name": "LayoutModel",
      "state": {}
     },
     "1b7969f6a510486995c17ba91437411a": {
      "model_module": "@jupyter-widgets/base",
      "model_module_version": "1.2.0",
      "model_name": "LayoutModel",
      "state": {}
     },
     "1b9691b369a54c9c9f92067084f8506a": {
      "model_module": "@jupyter-widgets/controls",
      "model_module_version": "1.5.0",
      "model_name": "ButtonStyleModel",
      "state": {}
     },
     "1b994761c4d04dc194aec310211ba8e9": {
      "model_module": "@jupyter-widgets/controls",
      "model_module_version": "1.5.0",
      "model_name": "HBoxModel",
      "state": {
       "children": [
        "IPY_MODEL_4c51b626ac2646e0a2857feeb235d716",
        "IPY_MODEL_5e5d5b901ce14b30894e3f6fe04023cd"
       ],
       "layout": "IPY_MODEL_9143d7b34f8944cdb27171d1b4ad472f"
      }
     },
     "1befa88e9ab44476bca283ad6c37f53b": {
      "model_module": "@jupyter-widgets/controls",
      "model_module_version": "1.5.0",
      "model_name": "VBoxModel",
      "state": {
       "children": [
        "IPY_MODEL_fc7867ccb01b45e88ef6932e111d8fd9",
        "IPY_MODEL_26a6ea719f9f4f7a9ef948061ae9439c",
        "IPY_MODEL_df0e9e3f7b504d9495a6eb3630476a73",
        "IPY_MODEL_aa61c9beabac402db7f24ac178c2aa00",
        "IPY_MODEL_d9fea31ee698476e85de14d1f408a7a9"
       ],
       "layout": "IPY_MODEL_591e38f71e6642d48be646ca049a9a37"
      }
     },
     "1c17d76f9d534d5b92915827d9cdd69e": {
      "model_module": "@jupyter-widgets/base",
      "model_module_version": "1.2.0",
      "model_name": "LayoutModel",
      "state": {
       "width": "250px"
      }
     },
     "1c38360912b04cfe920dec9bef76acd0": {
      "model_module": "@jupyter-widgets/base",
      "model_module_version": "1.2.0",
      "model_name": "LayoutModel",
      "state": {
       "width": "250px"
      }
     },
     "1c38a092157a4d21b9dabba12e7f3b2f": {
      "model_module": "@jupyter-widgets/controls",
      "model_module_version": "1.5.0",
      "model_name": "ButtonStyleModel",
      "state": {}
     },
     "1c42595553fa475599ad132d3d7bd917": {
      "model_module": "@jupyter-widgets/base",
      "model_module_version": "1.2.0",
      "model_name": "LayoutModel",
      "state": {}
     },
     "1c643d1ace0f4dc891a3520b704dc51a": {
      "model_module": "@jupyter-widgets/controls",
      "model_module_version": "1.5.0",
      "model_name": "HBoxModel",
      "state": {
       "children": [
        "IPY_MODEL_b8781d57f3eb4c9395331bb2631568f6",
        "IPY_MODEL_96ec4eadd5654cbab2532594961dbca8"
       ],
       "layout": "IPY_MODEL_23cf50cc9c5e4ba6ad4e4f472e85c9d1"
      }
     },
     "1c6da947bd6a45e6ae99a7dfaaf1a168": {
      "model_module": "@jupyter-widgets/controls",
      "model_module_version": "1.5.0",
      "model_name": "ButtonStyleModel",
      "state": {}
     },
     "1c74628fc96840b6a6f1ab0af9e7e868": {
      "model_module": "@jupyter-widgets/base",
      "model_module_version": "1.2.0",
      "model_name": "LayoutModel",
      "state": {}
     },
     "1c886070f5674611b45edc4e1465849c": {
      "model_module": "@jupyter-widgets/controls",
      "model_module_version": "1.5.0",
      "model_name": "ButtonModel",
      "state": {
       "description": "Shift",
       "layout": "IPY_MODEL_165a06ddbc0d45569f0fb6bda8d3bb3f",
       "style": "IPY_MODEL_173d24cc5210459eb30975b3aa648000"
      }
     },
     "1cd3f1dd20f54f5ab3dcf1778212d9ed": {
      "model_module": "@jupyter-widgets/base",
      "model_module_version": "1.2.0",
      "model_name": "LayoutModel",
      "state": {
       "width": "600px"
      }
     },
     "1cd4b37e2f61482e8ac51a0b65619619": {
      "model_module": "@jupyter-widgets/controls",
      "model_module_version": "1.5.0",
      "model_name": "DescriptionStyleModel",
      "state": {
       "description_width": "initial"
      }
     },
     "1d1f5d3b393646d18c1579471d331610": {
      "model_module": "@jupyter-widgets/controls",
      "model_module_version": "1.5.0",
      "model_name": "HTMLModel",
      "state": {
       "layout": "IPY_MODEL_8711070a2e43464295f6a2a825f36348",
       "style": "IPY_MODEL_bf80afd1c9d847c793fc33171d903006",
       "value": "<i>Wählen Sie die <ins>eine</ins> korrekte Antwort aus: </i>"
      }
     },
     "1d27fa604a5e4856867af6aa98ec27f2": {
      "model_module": "@jupyter-widgets/base",
      "model_module_version": "1.2.0",
      "model_name": "LayoutModel",
      "state": {}
     },
     "1d2932deb5bf4ba3891c172d105e0f92": {
      "model_module": "@jupyter-widgets/controls",
      "model_module_version": "1.5.0",
      "model_name": "HBoxModel",
      "state": {
       "children": [
        "IPY_MODEL_bf428d2337784ef7941d74a9128c3200",
        "IPY_MODEL_f42a5fb859af4fbd8a7edf5f99cf4849"
       ],
       "layout": "IPY_MODEL_66e4d42ac7f042268393fcf953dd88c9"
      }
     },
     "1d29e4a3a98f484186aa0322a2b69e8f": {
      "model_module": "@jupyter-widgets/base",
      "model_module_version": "1.2.0",
      "model_name": "LayoutModel",
      "state": {
       "justify_content": "center"
      }
     },
     "1d3e90eb004f409b8f5ae83e53a8bb5a": {
      "model_module": "@jupyter-widgets/controls",
      "model_module_version": "1.5.0",
      "model_name": "CheckboxModel",
      "state": {
       "description": "Scan",
       "disabled": false,
       "layout": "IPY_MODEL_9888bfdff1174c5eb5ca5243bc9de9f6",
       "style": "IPY_MODEL_b041b8f076a24be781ac86059da2063d",
       "value": false
      }
     },
     "1d407bcf72b147d6a6e1446dce313cd8": {
      "model_module": "@jupyter-widgets/base",
      "model_module_version": "1.2.0",
      "model_name": "LayoutModel",
      "state": {
       "width": "250px"
      }
     },
     "1d7eefa93de749c3973f5ef2880cc4d5": {
      "model_module": "@jupyter-widgets/controls",
      "model_module_version": "1.5.0",
      "model_name": "VBoxModel",
      "state": {
       "children": [
        "IPY_MODEL_f00920be25244ed1b11e12d53462c9e8",
        "IPY_MODEL_dff08cde25484736920fa4629769e3e4",
        "IPY_MODEL_3265d155eef74587b28113e2084d6878",
        "IPY_MODEL_cc61b5e5ba3e4dd48cdcbee796106dc3",
        "IPY_MODEL_683ac7a72e2f4353ab055b304fd789fc"
       ],
       "layout": "IPY_MODEL_81a15c7e8ffc4c74a6e440d1ac14515c"
      }
     },
     "1dd2e61a46e6407c8c561e9374024087": {
      "model_module": "@jupyter-widgets/controls",
      "model_module_version": "1.5.0",
      "model_name": "ButtonStyleModel",
      "state": {}
     },
     "1e4de0021c49455f8f86bcb06c577746": {
      "model_module": "@jupyter-widgets/controls",
      "model_module_version": "1.5.0",
      "model_name": "DescriptionStyleModel",
      "state": {
       "description_width": ""
      }
     },
     "1e517ea403be4c0ab02899c283be74fe": {
      "model_module": "@jupyter-widgets/controls",
      "model_module_version": "1.5.0",
      "model_name": "HBoxModel",
      "state": {
       "children": [
        "IPY_MODEL_6aa13771d581410fa2419f5a17894f59",
        "IPY_MODEL_ef446cb4536643fdbd58ed6c0b764d37"
       ],
       "layout": "IPY_MODEL_26bad15b09044204889909e4158064bd"
      }
     },
     "1e5946f7ba584a839d61d162ca184e12": {
      "model_module": "@jupyter-widgets/base",
      "model_module_version": "1.2.0",
      "model_name": "LayoutModel",
      "state": {}
     },
     "1e66725601a145888e6597053c7b59a8": {
      "model_module": "@jupyter-widgets/controls",
      "model_module_version": "1.5.0",
      "model_name": "ButtonStyleModel",
      "state": {}
     },
     "1e77e51859a6479d8a72fb68c41458d4": {
      "model_module": "@jupyter-widgets/controls",
      "model_module_version": "1.5.0",
      "model_name": "ButtonStyleModel",
      "state": {}
     },
     "1ea93cbb6cd9417f950cd08fb9dbb09c": {
      "model_module": "@jupyter-widgets/base",
      "model_module_version": "1.2.0",
      "model_name": "LayoutModel",
      "state": {
       "width": "250px"
      }
     },
     "1eba682da6dc421884a90d5ccdf328a1": {
      "model_module": "@jupyter-widgets/controls",
      "model_module_version": "1.5.0",
      "model_name": "ButtonModel",
      "state": {
       "description": "Shift",
       "layout": "IPY_MODEL_2fcf9dbaf4334ecabad73662533cac37",
       "style": "IPY_MODEL_ff81b310ad544488bde3dc5c80e0aa12"
      }
     },
     "1f1e7bf3ad7c4e41a58035370402c11e": {
      "model_module": "@jupyter-widgets/controls",
      "model_module_version": "1.5.0",
      "model_name": "HTMLModel",
      "state": {
       "layout": "IPY_MODEL_3015c043407b4056adbba37fd695e483",
       "style": "IPY_MODEL_64043b7082a94aa09ea2162097251231",
       "value": "<h4 style=\"font-size:14px;\">Um welchen Parser handelt es sich?</h4>"
      }
     },
     "1f5d55a454a447e78091f74fcb4721b7": {
      "model_module": "@jupyter-widgets/controls",
      "model_module_version": "1.5.0",
      "model_name": "DescriptionStyleModel",
      "state": {
       "description_width": ""
      }
     },
     "1ff8b2fd5ef54a9da5fc482bfc123915": {
      "model_module": "@jupyter-widgets/base",
      "model_module_version": "1.2.0",
      "model_name": "LayoutModel",
      "state": {
       "width": "250px"
      }
     },
     "20065b2064574b57b3d747c845c27edf": {
      "model_module": "@jupyter-widgets/base",
      "model_module_version": "1.2.0",
      "model_name": "LayoutModel",
      "state": {
       "width": "600px"
      }
     },
     "200794e2b0c24db19a265694124e4136": {
      "model_module": "@jupyter-widgets/controls",
      "model_module_version": "1.5.0",
      "model_name": "ButtonStyleModel",
      "state": {}
     },
     "20996a53a2c74337847d29d7970985d3": {
      "model_module": "@jupyter-widgets/base",
      "model_module_version": "1.2.0",
      "model_name": "LayoutModel",
      "state": {}
     },
     "20b3889a12874dbf879434ccc024c5e9": {
      "model_module": "@jupyter-widgets/base",
      "model_module_version": "1.2.0",
      "model_name": "LayoutModel",
      "state": {
       "width": "600px"
      }
     },
     "2104f81b072048e1ab725637641f972a": {
      "model_module": "@jupyter-widgets/controls",
      "model_module_version": "1.5.0",
      "model_name": "ButtonStyleModel",
      "state": {}
     },
     "21481d0a28294f2cba343b303d668450": {
      "model_module": "@jupyter-widgets/controls",
      "model_module_version": "1.5.0",
      "model_name": "VBoxModel",
      "state": {
       "children": [
        "IPY_MODEL_4899a2dad9324dadbc275c1e23eb2d52",
        "IPY_MODEL_0a4b90d55a3f40e0af6bc008c74dd945",
        "IPY_MODEL_2b9ebed455904c559471ad9e31c45ae3",
        "IPY_MODEL_1611cab3480e453a92a19439eccd9ae0",
        "IPY_MODEL_a3662f57d258467f8bb509ddb2e15e42"
       ],
       "layout": "IPY_MODEL_4dd42171142c4f92a7f5d8123917da0c"
      }
     },
     "21851edb1eff494ca56043dd24e15bcd": {
      "model_module": "@jupyter-widgets/controls",
      "model_module_version": "1.5.0",
      "model_name": "ButtonStyleModel",
      "state": {}
     },
     "21dd328d4ae24ff48f72b151e2f6152f": {
      "model_module": "@jupyter-widgets/controls",
      "model_module_version": "1.5.0",
      "model_name": "DescriptionStyleModel",
      "state": {
       "description_width": "initial"
      }
     },
     "21f6d7b454ee4f2b8c41cc4faeb5184b": {
      "model_module": "@jupyter-widgets/base",
      "model_module_version": "1.2.0",
      "model_name": "LayoutModel",
      "state": {
       "width": "250px"
      }
     },
     "2213b4b7935649bfb44499b9c598325d": {
      "model_module": "@jupyter-widgets/base",
      "model_module_version": "1.2.0",
      "model_name": "LayoutModel",
      "state": {
       "width": "250px"
      }
     },
     "223798ca1e574523931bd88f73cc5e5a": {
      "model_module": "@jupyter-widgets/controls",
      "model_module_version": "1.5.0",
      "model_name": "ButtonModel",
      "state": {
       "description": "Recusive Descent",
       "layout": "IPY_MODEL_542820ba5d5346a19ae0835b68d11eeb",
       "style": "IPY_MODEL_4d3b0a4ea6354a638b70ef7a4bc45c7c"
      }
     },
     "2288411add274beb83556c9b23b8085b": {
      "model_module": "@jupyter-widgets/base",
      "model_module_version": "1.2.0",
      "model_name": "LayoutModel",
      "state": {
       "width": "250px"
      }
     },
     "22ba5cede46d4b1bb8661719d5b6dd2e": {
      "model_module": "@jupyter-widgets/base",
      "model_module_version": "1.2.0",
      "model_name": "LayoutModel",
      "state": {
       "justify_content": "center"
      }
     },
     "22ec238fb2f64795a03d977c5db8c88b": {
      "model_module": "@jupyter-widgets/base",
      "model_module_version": "1.2.0",
      "model_name": "LayoutModel",
      "state": {
       "width": "600px"
      }
     },
     "230964cf74f44b61b335b0106959e0f9": {
      "model_module": "@jupyter-widgets/controls",
      "model_module_version": "1.5.0",
      "model_name": "ButtonStyleModel",
      "state": {}
     },
     "230a5339089a4a48a2041d00e0f55e88": {
      "model_module": "@jupyter-widgets/controls",
      "model_module_version": "1.5.0",
      "model_name": "VBoxModel",
      "state": {
       "children": [
        "IPY_MODEL_cd7b661a070441ac9b4c15c61f3e43dc",
        "IPY_MODEL_fc943824bb86409ba85e46dd11eee6c0",
        "IPY_MODEL_fa59a74639474d7b8db404774ae9f65d",
        "IPY_MODEL_fb642dbe94524bd6a1eff8469bcaa8ca"
       ],
       "layout": "IPY_MODEL_aacb3b7e578149e1bfcab79306ff3039"
      }
     },
     "232b7d803247489593f22c88cd653aac": {
      "model_module": "@jupyter-widgets/controls",
      "model_module_version": "1.5.0",
      "model_name": "ButtonStyleModel",
      "state": {}
     },
     "235520166c8b4419a5189ae5ebc96be4": {
      "model_module": "@jupyter-widgets/controls",
      "model_module_version": "1.5.0",
      "model_name": "ButtonModel",
      "state": {
       "description": "Shift",
       "layout": "IPY_MODEL_0f3f7c91ca0f45fa841c09003bfb8c65",
       "style": "IPY_MODEL_27cd9e88512748a39a2b1ec933cd432b"
      }
     },
     "2374cf8496fe4be29aa8a2d7b78e17ec": {
      "model_module": "@jupyter-widgets/controls",
      "model_module_version": "1.5.0",
      "model_name": "ButtonStyleModel",
      "state": {}
     },
     "2391cd827cce44559105e2268122791a": {
      "model_module": "@jupyter-widgets/controls",
      "model_module_version": "1.5.0",
      "model_name": "HTMLModel",
      "state": {
       "layout": "IPY_MODEL_13c0ed3a4d684f73ba3ed5ddb9e6e93b",
       "style": "IPY_MODEL_732c266fc84c4b0f8fd78bfed82aee89",
       "value": "<i>Wählen Sie die <ins>eine</ins> korrekte Antwort aus: </i>"
      }
     },
     "23cf50cc9c5e4ba6ad4e4f472e85c9d1": {
      "model_module": "@jupyter-widgets/base",
      "model_module_version": "1.2.0",
      "model_name": "LayoutModel",
      "state": {}
     },
     "23d38725bb4e4520a90bfd996f115560": {
      "model_module": "@jupyter-widgets/controls",
      "model_module_version": "1.5.0",
      "model_name": "HBoxModel",
      "state": {
       "children": [
        "IPY_MODEL_9adb0fe0214f408a882a20ef8d6a8828",
        "IPY_MODEL_7c4a60bc2d9344ccb8ba73c34ae45f21"
       ],
       "layout": "IPY_MODEL_da1a9307e6e34a1394384590fe2989ab"
      }
     },
     "2433bc944fdc476fa37779ae878b790d": {
      "model_module": "@jupyter-widgets/controls",
      "model_module_version": "1.5.0",
      "model_name": "VBoxModel",
      "state": {
       "children": [
        "IPY_MODEL_c94cc345cba348e4a9071f3ed9e51e0d",
        "IPY_MODEL_971fe5a43afc485dadd833c4cb3a917f",
        "IPY_MODEL_0efe28c2a41f4b9e9578b7e8ec1094d8",
        "IPY_MODEL_be84c57fef9f4af89a8cf09e73122e51"
       ],
       "layout": "IPY_MODEL_3e432e94a88d4356bf5bab7d46604080"
      }
     },
     "245dccd6effe4d748be9362e77854920": {
      "model_module": "@jupyter-widgets/base",
      "model_module_version": "1.2.0",
      "model_name": "LayoutModel",
      "state": {
       "justify_content": "center"
      }
     },
     "247da991595d457d9c7d7d6029441c6e": {
      "model_module": "@jupyter-widgets/controls",
      "model_module_version": "1.5.0",
      "model_name": "DescriptionStyleModel",
      "state": {
       "description_width": "initial"
      }
     },
     "2485c743cb1643b8a5b5e7421a4b947d": {
      "model_module": "@jupyter-widgets/base",
      "model_module_version": "1.2.0",
      "model_name": "LayoutModel",
      "state": {
       "justify_content": "center"
      }
     },
     "24b21434b11a42d797f03b74e71d33c6": {
      "model_module": "@jupyter-widgets/base",
      "model_module_version": "1.2.0",
      "model_name": "LayoutModel",
      "state": {
       "justify_content": "center"
      }
     },
     "24bc6a2811ff4c93bd6bdf2ed360cbc7": {
      "model_module": "@jupyter-widgets/controls",
      "model_module_version": "1.5.0",
      "model_name": "HTMLModel",
      "state": {
       "layout": "IPY_MODEL_31c19fa46ccc46d28569177b0964079e",
       "style": "IPY_MODEL_d7395e138b724af6ae3d6401d624af5a",
       "value": "<h4 style=\"font-size:14px;\">Welche Operation folgt als nächstes?</h4>"
      }
     },
     "24e68b3bb8ad43ac906cdc769cd42843": {
      "model_module": "@jupyter-widgets/controls",
      "model_module_version": "1.5.0",
      "model_name": "DescriptionStyleModel",
      "state": {
       "description_width": "initial"
      }
     },
     "250440541dc145f3b4969f6bd91a7687": {
      "model_module": "@jupyter-widgets/controls",
      "model_module_version": "1.5.0",
      "model_name": "ButtonModel",
      "state": {
       "description": "Scan",
       "layout": "IPY_MODEL_cfc7e0e862324cd684e55808d1af46ea",
       "style": "IPY_MODEL_8e699122138b4fd8aede69ec98f1246a"
      }
     },
     "252d77d6753b4eb09a7f0be3e4610b7c": {
      "model_module": "@jupyter-widgets/controls",
      "model_module_version": "1.5.0",
      "model_name": "ButtonModel",
      "state": {
       "description": "Keine der Alternativen",
       "layout": "IPY_MODEL_166412947f87418eb3021873b8ff793e",
       "style": "IPY_MODEL_5d5bd3507d8244768bafd97f895a7097"
      }
     },
     "254ab32df35e4418bf9b0ff5e3399d39": {
      "model_module": "@jupyter-widgets/base",
      "model_module_version": "1.2.0",
      "model_name": "LayoutModel",
      "state": {}
     },
     "25a3255c973e416b8d52d4e42e9f71cc": {
      "model_module": "@jupyter-widgets/controls",
      "model_module_version": "1.5.0",
      "model_name": "DescriptionStyleModel",
      "state": {
       "description_width": ""
      }
     },
     "25ca68d226e248889230c2514939518a": {
      "model_module": "@jupyter-widgets/controls",
      "model_module_version": "1.5.0",
      "model_name": "ButtonModel",
      "state": {
       "description": "Predict",
       "layout": "IPY_MODEL_1c17d76f9d534d5b92915827d9cdd69e",
       "style": "IPY_MODEL_ea7451291f3e43858338a6f2c28494ab"
      }
     },
     "266af993e6b74048a251f5612a33cffc": {
      "model_module": "@jupyter-widgets/base",
      "model_module_version": "1.2.0",
      "model_name": "LayoutModel",
      "state": {}
     },
     "26a6ea719f9f4f7a9ef948061ae9439c": {
      "model_module": "@jupyter-widgets/controls",
      "model_module_version": "1.5.0",
      "model_name": "CheckboxModel",
      "state": {
       "description": "Predict",
       "disabled": false,
       "layout": "IPY_MODEL_6ccc87fab29e49e18b677cb9675947c4",
       "style": "IPY_MODEL_24e68b3bb8ad43ac906cdc769cd42843",
       "value": false
      }
     },
     "26bad15b09044204889909e4158064bd": {
      "model_module": "@jupyter-widgets/base",
      "model_module_version": "1.2.0",
      "model_name": "LayoutModel",
      "state": {}
     },
     "26ceb1a6af55469f8493a473be954334": {
      "model_module": "@jupyter-widgets/base",
      "model_module_version": "1.2.0",
      "model_name": "LayoutModel",
      "state": {
       "width": "250px"
      }
     },
     "26f3d29d9e214eac8003c12a20e03b42": {
      "model_module": "@jupyter-widgets/controls",
      "model_module_version": "1.5.0",
      "model_name": "ButtonStyleModel",
      "state": {}
     },
     "270568e0d1f54b66b5a3d9b2684803f0": {
      "model_module": "@jupyter-widgets/controls",
      "model_module_version": "1.5.0",
      "model_name": "ButtonStyleModel",
      "state": {}
     },
     "2716fb637e514e95adc6940c6d7f39db": {
      "model_module": "@jupyter-widgets/base",
      "model_module_version": "1.2.0",
      "model_name": "LayoutModel",
      "state": {
       "width": "250px"
      }
     },
     "271bfc10621b470c971b0f4ef8afaa1b": {
      "model_module": "@jupyter-widgets/base",
      "model_module_version": "1.2.0",
      "model_name": "LayoutModel",
      "state": {
       "width": "250px"
      }
     },
     "2754bf06142a4fedb2d3925d1ee199e7": {
      "model_module": "@jupyter-widgets/controls",
      "model_module_version": "1.5.0",
      "model_name": "ButtonStyleModel",
      "state": {}
     },
     "27a87ddc54f841778d3d6cf236ecb420": {
      "model_module": "@jupyter-widgets/base",
      "model_module_version": "1.2.0",
      "model_name": "LayoutModel",
      "state": {
       "width": "250px"
      }
     },
     "27cd9e88512748a39a2b1ec933cd432b": {
      "model_module": "@jupyter-widgets/controls",
      "model_module_version": "1.5.0",
      "model_name": "ButtonStyleModel",
      "state": {}
     },
     "27d0c310717746efa634fce1808eb983": {
      "model_module": "@jupyter-widgets/controls",
      "model_module_version": "1.5.0",
      "model_name": "DescriptionStyleModel",
      "state": {
       "description_width": "initial"
      }
     },
     "27ebc40cb3a74778b355dc01ea319239": {
      "model_module": "@jupyter-widgets/controls",
      "model_module_version": "1.5.0",
      "model_name": "ButtonModel",
      "state": {
       "description": "Complete",
       "layout": "IPY_MODEL_848198a858b6466dbb5e0df63044138d",
       "style": "IPY_MODEL_cc0b84a8d87e4cad994fb334517749dd"
      }
     },
     "281e89bb000e40378e8f97bd5e038011": {
      "model_module": "@jupyter-widgets/base",
      "model_module_version": "1.2.0",
      "model_name": "LayoutModel",
      "state": {
       "width": "250px"
      }
     },
     "283546aeb546451c853d74f90311a5a8": {
      "model_module": "@jupyter-widgets/controls",
      "model_module_version": "1.5.0",
      "model_name": "VBoxModel",
      "state": {
       "children": [
        "IPY_MODEL_9bb46ac0bf8541329f16873d2bb0e7c1",
        "IPY_MODEL_7169b05861664892a0cb57c4cbebb161",
        "IPY_MODEL_4aa94289c0404862b581251252e8d80f",
        "IPY_MODEL_7fb6e4b3ead244e9a5f777251d93275b",
        "IPY_MODEL_c6ddd4f9de0d436c936d01e00c04b468"
       ],
       "layout": "IPY_MODEL_c52b7a89fbab4b87859772cc0e254ede"
      }
     },
     "287e1c75db0a4cecaaf47f67937cd10a": {
      "model_module": "@jupyter-widgets/controls",
      "model_module_version": "1.5.0",
      "model_name": "DescriptionStyleModel",
      "state": {
       "description_width": "initial"
      }
     },
     "2891700e147b4b1f80ab54500a111205": {
      "model_module": "@jupyter-widgets/controls",
      "model_module_version": "1.5.0",
      "model_name": "DescriptionStyleModel",
      "state": {
       "description_width": ""
      }
     },
     "28beabf7c7224543bcc1c2e5123a2149": {
      "model_module": "@jupyter-widgets/controls",
      "model_module_version": "1.5.0",
      "model_name": "CheckboxModel",
      "state": {
       "description": "Reduce",
       "disabled": false,
       "layout": "IPY_MODEL_b6e92764f7bc47de9089d88eb23434c2",
       "style": "IPY_MODEL_21dd328d4ae24ff48f72b151e2f6152f",
       "value": false
      }
     },
     "28c98546858549e5b1e6aed52ebd4d77": {
      "model_module": "@jupyter-widgets/controls",
      "model_module_version": "1.5.0",
      "model_name": "ButtonStyleModel",
      "state": {}
     },
     "293831ba714c44efb287d3af9ad40906": {
      "model_module": "@jupyter-widgets/controls",
      "model_module_version": "1.5.0",
      "model_name": "DescriptionStyleModel",
      "state": {
       "description_width": ""
      }
     },
     "2951718f488d4966aa67ce842de37046": {
      "model_module": "@jupyter-widgets/controls",
      "model_module_version": "1.5.0",
      "model_name": "CheckboxModel",
      "state": {
       "description": "Reduce",
       "disabled": false,
       "layout": "IPY_MODEL_942ed8c14bf249a48d6e66e0fef485d7",
       "style": "IPY_MODEL_2bbfc2f3afcd425f8dd81e44cc40f71f",
       "value": false
      }
     },
     "29663cfc37714da29c667331e6d719f6": {
      "model_module": "@jupyter-widgets/controls",
      "model_module_version": "1.5.0",
      "model_name": "DescriptionStyleModel",
      "state": {
       "description_width": ""
      }
     },
     "29c31c10111d45d1b090a7f8bec4ed28": {
      "model_module": "@jupyter-widgets/base",
      "model_module_version": "1.2.0",
      "model_name": "LayoutModel",
      "state": {
       "width": "250px"
      }
     },
     "29e25541fb9e4e44bac47d38abf4fde7": {
      "model_module": "@jupyter-widgets/controls",
      "model_module_version": "1.5.0",
      "model_name": "DescriptionStyleModel",
      "state": {
       "description_width": "initial"
      }
     },
     "29f38781e2d344888d16ba063e5aeb51": {
      "model_module": "@jupyter-widgets/controls",
      "model_module_version": "1.5.0",
      "model_name": "ButtonModel",
      "state": {
       "description": "Scan",
       "layout": "IPY_MODEL_9a307baa6e174321b49128ecbc1cac14",
       "style": "IPY_MODEL_adb98116907a4a4c8fe5d7062cacf3a3"
      }
     },
     "2a140b1e7e2c4aeb9a785b94dccde6b6": {
      "model_module": "@jupyter-widgets/controls",
      "model_module_version": "1.5.0",
      "model_name": "HTMLModel",
      "state": {
       "layout": "IPY_MODEL_f40aaafa911a467482f3b484df5cace2",
       "style": "IPY_MODEL_7530b89a466047eab6eb4e3f0eaac91f",
       "value": "<i>Wählen Sie die <ins>eine</ins> korrekte Antwort aus: </i>"
      }
     },
     "2a1f6b84a1d44ded91b8da9da53d9939": {
      "model_module": "@jupyter-widgets/controls",
      "model_module_version": "1.5.0",
      "model_name": "ButtonModel",
      "state": {
       "description": "Reduce",
       "layout": "IPY_MODEL_05704770cf354862bb12e18f0955fe80",
       "style": "IPY_MODEL_d9494ff9ccf4481f89df158a498284cb"
      }
     },
     "2a4dc81c6db1441d9c00321bc55af4e9": {
      "model_module": "@jupyter-widgets/controls",
      "model_module_version": "1.5.0",
      "model_name": "HBoxModel",
      "state": {
       "children": [
        "IPY_MODEL_f8a60b442af340d0826714eb47d8adf1",
        "IPY_MODEL_11a0e9d37aed4480b4341e9cd1ca67ea"
       ],
       "layout": "IPY_MODEL_d40db1ac0ae14824aa8ca92c39283359"
      }
     },
     "2a5ce81803a34f76aa134b1c2906eed1": {
      "model_module": "@jupyter-widgets/base",
      "model_module_version": "1.2.0",
      "model_name": "LayoutModel",
      "state": {}
     },
     "2a841cb3a02d40dbae402a0b45838193": {
      "model_module": "@jupyter-widgets/base",
      "model_module_version": "1.2.0",
      "model_name": "LayoutModel",
      "state": {}
     },
     "2a9433fadf434617807e5d8a55bb284f": {
      "model_module": "@jupyter-widgets/controls",
      "model_module_version": "1.5.0",
      "model_name": "ButtonModel",
      "state": {
       "description": "Predict",
       "layout": "IPY_MODEL_5ac64eb83b054faf9f24623b3098963a",
       "style": "IPY_MODEL_d0f7cfeb84154cef82a5aa2b3a773686"
      }
     },
     "2ab05596d07a4d62a61c7aa0b39eee70": {
      "model_module": "@jupyter-widgets/base",
      "model_module_version": "1.2.0",
      "model_name": "LayoutModel",
      "state": {}
     },
     "2acfb38643184a049855883fcdc2e863": {
      "model_module": "@jupyter-widgets/controls",
      "model_module_version": "1.5.0",
      "model_name": "ButtonModel",
      "state": {
       "description": "Predict",
       "layout": "IPY_MODEL_3677c5df998c465cacc41520c9ecbba6",
       "style": "IPY_MODEL_68e979df73354698a70b81cd63ba4fc0"
      }
     },
     "2ade9e7702044824b6f61d53c3d33191": {
      "model_module": "@jupyter-widgets/controls",
      "model_module_version": "1.5.0",
      "model_name": "DescriptionStyleModel",
      "state": {
       "description_width": ""
      }
     },
     "2b17120774794e0eaab17f809b1c580b": {
      "model_module": "@jupyter-widgets/controls",
      "model_module_version": "1.5.0",
      "model_name": "ButtonModel",
      "state": {
       "description": "Scan",
       "layout": "IPY_MODEL_7b6b0ac166584e02bc3b80057b6d1251",
       "style": "IPY_MODEL_948c880a5a2649908b727f5ff5893ea7"
      }
     },
     "2b40772e7f624f629a01768cfcdbdfcb": {
      "model_module": "@jupyter-widgets/controls",
      "model_module_version": "1.5.0",
      "model_name": "DescriptionStyleModel",
      "state": {
       "description_width": "initial"
      }
     },
     "2b9ebed455904c559471ad9e31c45ae3": {
      "model_module": "@jupyter-widgets/controls",
      "model_module_version": "1.5.0",
      "model_name": "HBoxModel",
      "state": {
       "children": [
        "IPY_MODEL_4cc700384381481e876228e3448cdb29",
        "IPY_MODEL_e2ed912cc347463798c43d40e2fccf20"
       ],
       "layout": "IPY_MODEL_61b6bef4ee124ae286a63e9d2b0f0eab"
      }
     },
     "2bbfc2f3afcd425f8dd81e44cc40f71f": {
      "model_module": "@jupyter-widgets/controls",
      "model_module_version": "1.5.0",
      "model_name": "DescriptionStyleModel",
      "state": {
       "description_width": "initial"
      }
     },
     "2c399b9491c44c7eb4c6c888c7214402": {
      "model_module": "@jupyter-widgets/base",
      "model_module_version": "1.2.0",
      "model_name": "LayoutModel",
      "state": {
       "justify_content": "center"
      }
     },
     "2c3c1391583f47fc8449e87077e68b98": {
      "model_module": "@jupyter-widgets/base",
      "model_module_version": "1.2.0",
      "model_name": "LayoutModel",
      "state": {
       "width": "250px"
      }
     },
     "2c4d55f9b3734154bfccb3c638d954e9": {
      "model_module": "@jupyter-widgets/base",
      "model_module_version": "1.2.0",
      "model_name": "LayoutModel",
      "state": {
       "justify_content": "center"
      }
     },
     "2c7f7873f2e7475fb651527069e0aa9e": {
      "model_module": "@jupyter-widgets/base",
      "model_module_version": "1.2.0",
      "model_name": "LayoutModel",
      "state": {
       "width": "600px"
      }
     },
     "2c91c02b18d148f083b711cf60e2d84e": {
      "model_module": "@jupyter-widgets/controls",
      "model_module_version": "1.5.0",
      "model_name": "ButtonModel",
      "state": {
       "description": "Shift",
       "layout": "IPY_MODEL_d42e24495237412aa6495e6955aba62c",
       "style": "IPY_MODEL_88094c50f76e4dee8ee89b17061f2159"
      }
     },
     "2cf1aeb1c91b45f6974e33a8b221fcc1": {
      "model_module": "@jupyter-widgets/controls",
      "model_module_version": "1.5.0",
      "model_name": "ButtonModel",
      "state": {
       "description": "Shift",
       "layout": "IPY_MODEL_6cf3641a94e84f17937aea4f356d1fe7",
       "style": "IPY_MODEL_c0aabfd01f8c4f84a5ea476fa93f732c"
      }
     },
     "2d185e6de96c4447bb4aaad40bc8f2af": {
      "model_module": "@jupyter-widgets/base",
      "model_module_version": "1.2.0",
      "model_name": "LayoutModel",
      "state": {
       "width": "250px"
      }
     },
     "2d65d57dd2bc4a67ba2625f540a63b3a": {
      "model_module": "@jupyter-widgets/controls",
      "model_module_version": "1.5.0",
      "model_name": "HBoxModel",
      "state": {
       "children": [
        "IPY_MODEL_b79fa99457be4122996a1675adacbeca",
        "IPY_MODEL_af0984beac674915bba27238d1de42bf"
       ],
       "layout": "IPY_MODEL_e8daa8de6b41415f9ac34e885eff4d98"
      }
     },
     "2d7327148b78470985ec53a00e5a2d64": {
      "model_module": "@jupyter-widgets/controls",
      "model_module_version": "1.5.0",
      "model_name": "DescriptionStyleModel",
      "state": {
       "description_width": "initial"
      }
     },
     "2d80349c609f426b8520ecf62b793c41": {
      "model_module": "@jupyter-widgets/base",
      "model_module_version": "1.2.0",
      "model_name": "LayoutModel",
      "state": {
       "justify_content": "center"
      }
     },
     "2d85e5b1ebba4728b206ae7673c76a05": {
      "model_module": "@jupyter-widgets/base",
      "model_module_version": "1.2.0",
      "model_name": "LayoutModel",
      "state": {
       "justify_content": "center"
      }
     },
     "2dac54da7a37428ab05936499d742e0b": {
      "model_module": "@jupyter-widgets/controls",
      "model_module_version": "1.5.0",
      "model_name": "DescriptionStyleModel",
      "state": {
       "description_width": ""
      }
     },
     "2dbd08f83bf44c69bead66521cf2d3c4": {
      "model_module": "@jupyter-widgets/controls",
      "model_module_version": "1.5.0",
      "model_name": "HTMLModel",
      "state": {
       "layout": "IPY_MODEL_c56c67bc5a8f46a0bc2ad5cc180d95d4",
       "style": "IPY_MODEL_a82ce8a4b9c641aca7dd8824995e76ca",
       "value": "<i>Wählen Sie die <ins>eine</ins> korrekte Antwort aus: </i>"
      }
     },
     "2e1dadced795489fa9aedbf3043287cd": {
      "model_module": "@jupyter-widgets/controls",
      "model_module_version": "1.5.0",
      "model_name": "HBoxModel",
      "state": {
       "children": [
        "IPY_MODEL_46946a7dd7224b73831cacba73b5406c",
        "IPY_MODEL_ec72eacf8aae42d397c48072b48916ff"
       ],
       "layout": "IPY_MODEL_d068ed3704a342c0b13addd1cc316765"
      }
     },
     "2e2842e39a4d4ab799e95f9b68f375c7": {
      "model_module": "@jupyter-widgets/controls",
      "model_module_version": "1.5.0",
      "model_name": "ButtonModel",
      "state": {
       "description": "Complete",
       "layout": "IPY_MODEL_e4aabc57c8774a2191f1e6797f93d344",
       "style": "IPY_MODEL_0b8c2324c1c941cbb1a1e3921135c54d"
      }
     },
     "2e401ababce4485da2630b69cbf8764b": {
      "model_module": "@jupyter-widgets/base",
      "model_module_version": "1.2.0",
      "model_name": "LayoutModel",
      "state": {
       "width": "600px"
      }
     },
     "2f46c9d24346405497219c7bc09d99d5": {
      "model_module": "@jupyter-widgets/controls",
      "model_module_version": "1.5.0",
      "model_name": "ButtonStyleModel",
      "state": {}
     },
     "2f4d9052135e42a9996e01dd1d43cb9b": {
      "model_module": "@jupyter-widgets/base",
      "model_module_version": "1.2.0",
      "model_name": "LayoutModel",
      "state": {
       "width": "600px"
      }
     },
     "2f7866d8f61e44658b4b47154fd46923": {
      "model_module": "@jupyter-widgets/controls",
      "model_module_version": "1.5.0",
      "model_name": "ButtonStyleModel",
      "state": {}
     },
     "2f8eaf0b6001453fadb00c9a07438b98": {
      "model_module": "@jupyter-widgets/controls",
      "model_module_version": "1.5.0",
      "model_name": "DescriptionStyleModel",
      "state": {
       "description_width": ""
      }
     },
     "2fcf9dbaf4334ecabad73662533cac37": {
      "model_module": "@jupyter-widgets/base",
      "model_module_version": "1.2.0",
      "model_name": "LayoutModel",
      "state": {
       "width": "250px"
      }
     },
     "2ff969e8ea5a416da5d464c9d50f30a0": {
      "model_module": "@jupyter-widgets/base",
      "model_module_version": "1.2.0",
      "model_name": "LayoutModel",
      "state": {
       "width": "250px"
      }
     },
     "3015c043407b4056adbba37fd695e483": {
      "model_module": "@jupyter-widgets/base",
      "model_module_version": "1.2.0",
      "model_name": "LayoutModel",
      "state": {
       "justify_content": "center"
      }
     },
     "306da6c10aa341aa98c0282b99f1d77d": {
      "model_module": "@jupyter-widgets/base",
      "model_module_version": "1.2.0",
      "model_name": "LayoutModel",
      "state": {}
     },
     "3076d9fe9c32460eb62758d91a4489b6": {
      "model_module": "@jupyter-widgets/base",
      "model_module_version": "1.2.0",
      "model_name": "LayoutModel",
      "state": {
       "justify_content": "center"
      }
     },
     "308ffbe1dbe14cd6a8af25120a1a97c4": {
      "model_module": "@jupyter-widgets/controls",
      "model_module_version": "1.5.0",
      "model_name": "VBoxModel",
      "state": {
       "children": [
        "IPY_MODEL_3fbdd28309ab4865bebf63db26715cfa",
        "IPY_MODEL_c6e4735b3c1b48058d789da190593413",
        "IPY_MODEL_d923d5fea043432c9aba0fa20bd9b2bb",
        "IPY_MODEL_0974dc0906a14ddb8dbb14116f78fe0a",
        "IPY_MODEL_13ad83eb87e84a87ab7b43bed968a66a"
       ],
       "layout": "IPY_MODEL_fed1a5ae4520485e8701dcafaf339877"
      }
     },
     "30bc245257164fd89a4cb041a0ad7b6d": {
      "model_module": "@jupyter-widgets/controls",
      "model_module_version": "1.5.0",
      "model_name": "ButtonModel",
      "state": {
       "description": "Recusive Descent",
       "layout": "IPY_MODEL_9e450226ed774def9c98e4fff7a0f30f",
       "style": "IPY_MODEL_f8cc2f4d8c534c5fa3fb86fafa621f7a"
      }
     },
     "30fcc9acdac8445bbd6f605c6934ee1b": {
      "model_module": "@jupyter-widgets/base",
      "model_module_version": "1.2.0",
      "model_name": "LayoutModel",
      "state": {
       "width": "250px"
      }
     },
     "3104355bac2246dcb4bfbf5d23f02c82": {
      "model_module": "@jupyter-widgets/base",
      "model_module_version": "1.2.0",
      "model_name": "LayoutModel",
      "state": {}
     },
     "312d332dc8734bae8625e120adf851c7": {
      "model_module": "@jupyter-widgets/controls",
      "model_module_version": "1.5.0",
      "model_name": "HTMLModel",
      "state": {
       "layout": "IPY_MODEL_4472e1a8fa774e4e979ec9227c1e19f3",
       "style": "IPY_MODEL_19395c5015fc4f348cd33755d3acb237",
       "value": "<h4 style=\"font-size:14px;\">Welche Operation folgt als nächstes?</h4>"
      }
     },
     "3144c2ed5e2648b59d24b3208c4b1432": {
      "model_module": "@jupyter-widgets/controls",
      "model_module_version": "1.5.0",
      "model_name": "ButtonStyleModel",
      "state": {}
     },
     "31c19fa46ccc46d28569177b0964079e": {
      "model_module": "@jupyter-widgets/base",
      "model_module_version": "1.2.0",
      "model_name": "LayoutModel",
      "state": {
       "justify_content": "center"
      }
     },
     "31de47430a7f43268183f0e3e226c40c": {
      "model_module": "@jupyter-widgets/controls",
      "model_module_version": "1.5.0",
      "model_name": "ButtonModel",
      "state": {
       "description": "Scan",
       "layout": "IPY_MODEL_e3d876de5e454b1eb69b88846fc0055c",
       "style": "IPY_MODEL_95b23b8e8dd645faa6a20dba3db75919"
      }
     },
     "31f1d5e72b0747b09efae758ec338e72": {
      "model_module": "@jupyter-widgets/controls",
      "model_module_version": "1.5.0",
      "model_name": "HTMLModel",
      "state": {
       "layout": "IPY_MODEL_6cd4c38eafef4955bc49c2a42b01a961",
       "style": "IPY_MODEL_2ade9e7702044824b6f61d53c3d33191",
       "value": "<i>Wählen Sie die <ins>eine</ins> korrekte Antwort aus: </i>"
      }
     },
     "320ed8c0ab124fa4920b4bf340c94ee9": {
      "model_module": "@jupyter-widgets/controls",
      "model_module_version": "1.5.0",
      "model_name": "ButtonModel",
      "state": {
       "description": "Keine der Alternativen",
       "layout": "IPY_MODEL_cc166f0e89b040da9b1bc3266375e302",
       "style": "IPY_MODEL_a2ea636d00ab4cf78f8ef6979d88b5f1"
      }
     },
     "323e37f17d9c43649458983217f0080d": {
      "model_module": "@jupyter-widgets/base",
      "model_module_version": "1.2.0",
      "model_name": "LayoutModel",
      "state": {
       "width": "250px"
      }
     },
     "3265d155eef74587b28113e2084d6878": {
      "model_module": "@jupyter-widgets/controls",
      "model_module_version": "1.5.0",
      "model_name": "HBoxModel",
      "state": {
       "children": [
        "IPY_MODEL_d4d16231a1bf477dbc7a0704363cdf29",
        "IPY_MODEL_a8c216a5725840afbc5ecec95244fcf8"
       ],
       "layout": "IPY_MODEL_c04736ea7f1b4eb9bd285c75bc18c1d5"
      }
     },
     "326664c3c7784b4ab5b2f30592796a4e": {
      "model_module": "@jupyter-widgets/controls",
      "model_module_version": "1.5.0",
      "model_name": "ButtonStyleModel",
      "state": {}
     },
     "327d9c3c90c64646a8ad987fa321d5af": {
      "model_module": "@jupyter-widgets/base",
      "model_module_version": "1.2.0",
      "model_name": "LayoutModel",
      "state": {
       "width": "250px"
      }
     },
     "32ba97b98abc455b809ff8f6476ae982": {
      "model_module": "@jupyter-widgets/controls",
      "model_module_version": "1.5.0",
      "model_name": "ButtonModel",
      "state": {
       "description": "Earley",
       "layout": "IPY_MODEL_f16dac68475440fb9589c9c2e7f3d5f2",
       "style": "IPY_MODEL_b921bb83c883411f831a84e0cbb6e8a2"
      }
     },
     "32d13bf952b84757984be6c45749d418": {
      "model_module": "@jupyter-widgets/controls",
      "model_module_version": "1.5.0",
      "model_name": "ButtonStyleModel",
      "state": {}
     },
     "32e40b985c4540c78895a0d83f3da491": {
      "model_module": "@jupyter-widgets/controls",
      "model_module_version": "1.5.0",
      "model_name": "ButtonStyleModel",
      "state": {}
     },
     "331f8977d0f74c6dba9fd36ea042177c": {
      "model_module": "@jupyter-widgets/controls",
      "model_module_version": "1.5.0",
      "model_name": "ButtonStyleModel",
      "state": {}
     },
     "335099f09fe746bcb093aaaaf465e39e": {
      "model_module": "@jupyter-widgets/controls",
      "model_module_version": "1.5.0",
      "model_name": "VBoxModel",
      "state": {
       "children": [
        "IPY_MODEL_bc2f83395a7142feb421f5839cef0e37",
        "IPY_MODEL_3c5e7867bdd544aea6560d0a04cc8ee4",
        "IPY_MODEL_28beabf7c7224543bcc1c2e5123a2149",
        "IPY_MODEL_390ce79e68d84b92a6df53b1c000e642",
        "IPY_MODEL_5ee3024d9c844eea9c0470ed3221e402"
       ],
       "layout": "IPY_MODEL_caea34a58f6d4adc80e0a28e941a327b"
      }
     },
     "335201f6dafe41aa8d800613433e9f2b": {
      "model_module": "@jupyter-widgets/controls",
      "model_module_version": "1.5.0",
      "model_name": "ButtonStyleModel",
      "state": {}
     },
     "3384dbc9730e4a4980c956a7a80b556a": {
      "model_module": "@jupyter-widgets/base",
      "model_module_version": "1.2.0",
      "model_name": "LayoutModel",
      "state": {
       "justify_content": "center"
      }
     },
     "3395b130e273429baac80212866b882b": {
      "model_module": "@jupyter-widgets/base",
      "model_module_version": "1.2.0",
      "model_name": "LayoutModel",
      "state": {
       "width": "250px"
      }
     },
     "33d03d01c4e14d19a49cb7f5dcf4adc9": {
      "model_module": "@jupyter-widgets/controls",
      "model_module_version": "1.5.0",
      "model_name": "ButtonModel",
      "state": {
       "description": "Reduce",
       "layout": "IPY_MODEL_b595a8f9b7984be3a9cfc824dd6e3d7c",
       "style": "IPY_MODEL_6a8521000b9f41d6b4c23fa1c69fadd8"
      }
     },
     "33dadf074b6942dc91524ccad35ed62b": {
      "model_module": "@jupyter-widgets/base",
      "model_module_version": "1.2.0",
      "model_name": "LayoutModel",
      "state": {
       "width": "250px"
      }
     },
     "3419cf26d1e44b859c73970157a2e10e": {
      "model_module": "@jupyter-widgets/controls",
      "model_module_version": "1.5.0",
      "model_name": "ButtonModel",
      "state": {
       "description": "Predict",
       "layout": "IPY_MODEL_a48dff11fa7d489da4722fe15d6f0368",
       "style": "IPY_MODEL_2f46c9d24346405497219c7bc09d99d5"
      }
     },
     "3422c4cb612b431a836145722ae60691": {
      "model_module": "@jupyter-widgets/controls",
      "model_module_version": "1.5.0",
      "model_name": "DescriptionStyleModel",
      "state": {
       "description_width": ""
      }
     },
     "34313a815088497f8d6ee2e22614eb60": {
      "model_module": "@jupyter-widgets/base",
      "model_module_version": "1.2.0",
      "model_name": "LayoutModel",
      "state": {}
     },
     "3439f4878fa8436eb47e1b04b42506e2": {
      "model_module": "@jupyter-widgets/controls",
      "model_module_version": "1.5.0",
      "model_name": "HBoxModel",
      "state": {
       "children": [
        "IPY_MODEL_70eb4610a69d452d88b041ac8621942e",
        "IPY_MODEL_3eb60f06a3f943c9a9e9446bffe0fdb3"
       ],
       "layout": "IPY_MODEL_a1a4c1689eef4398a4213b5474d9074d"
      }
     },
     "345d1ae414c94523b12c952036c3b0b7": {
      "model_module": "@jupyter-widgets/controls",
      "model_module_version": "1.5.0",
      "model_name": "HBoxModel",
      "state": {
       "children": [
        "IPY_MODEL_2acfb38643184a049855883fcdc2e863",
        "IPY_MODEL_8469da6514f1432db95c92e5888d3d62"
       ],
       "layout": "IPY_MODEL_63e2e213e9e04c299ed3ed7e013a74e4"
      }
     },
     "34b07b94e40a4e3ca8fd18c141de8155": {
      "model_module": "@jupyter-widgets/controls",
      "model_module_version": "1.5.0",
      "model_name": "ButtonStyleModel",
      "state": {}
     },
     "350092141445426690241df25daab95d": {
      "model_module": "@jupyter-widgets/controls",
      "model_module_version": "1.5.0",
      "model_name": "ButtonStyleModel",
      "state": {}
     },
     "35347b88724d4df29f4101a0496743ba": {
      "model_module": "@jupyter-widgets/controls",
      "model_module_version": "1.5.0",
      "model_name": "VBoxModel",
      "state": {
       "children": [
        "IPY_MODEL_656c474627fc497493961bef609bb3b7",
        "IPY_MODEL_fbd5fc7133b8442d9eebd975d0c32869",
        "IPY_MODEL_b0e72f50a74b4727a2362dd435d7742e",
        "IPY_MODEL_c95ca3a761394f23b5e730176ccefd3e",
        "IPY_MODEL_ee77700dfef246dbba4534748de5c465"
       ],
       "layout": "IPY_MODEL_8d6ef9274ac34b68805577ef76c23bd0"
      }
     },
     "357664defaae42f69e1b86d26d500c87": {
      "model_module": "@jupyter-widgets/controls",
      "model_module_version": "1.5.0",
      "model_name": "CheckboxModel",
      "state": {
       "description": "Complete",
       "disabled": false,
       "layout": "IPY_MODEL_0bdc7e07e9e048dd82538f348ea61e6b",
       "style": "IPY_MODEL_5ae06d7775f74093be611ac50d4c48fc",
       "value": false
      }
     },
     "357bbf62eb8e487a86b4afde0af52a2b": {
      "model_module": "@jupyter-widgets/base",
      "model_module_version": "1.2.0",
      "model_name": "LayoutModel",
      "state": {}
     },
     "359376d36f944d8b957747f032b1501b": {
      "model_module": "@jupyter-widgets/base",
      "model_module_version": "1.2.0",
      "model_name": "LayoutModel",
      "state": {
       "width": "250px"
      }
     },
     "35a881aef81b4f2a8fbcd7549b034fe4": {
      "model_module": "@jupyter-widgets/controls",
      "model_module_version": "1.5.0",
      "model_name": "ButtonModel",
      "state": {
       "description": "Shift Reduce",
       "layout": "IPY_MODEL_58a74a959ea646218b5dc3a348fccc08",
       "style": "IPY_MODEL_697b0e0074fc4c39bb821f6433b5bad3"
      }
     },
     "3619453b1bb54e41b268d271df9d889a": {
      "model_module": "@jupyter-widgets/controls",
      "model_module_version": "1.5.0",
      "model_name": "ButtonModel",
      "state": {
       "description": "Predict",
       "layout": "IPY_MODEL_6a92c110412748c38bcf9547d714c4ca",
       "style": "IPY_MODEL_53ea0bdeaa1c4a3daeb6ab2cb8a8b79d"
      }
     },
     "3620b2a42c4d46c489870e04a11364f1": {
      "model_module": "@jupyter-widgets/base",
      "model_module_version": "1.2.0",
      "model_name": "LayoutModel",
      "state": {}
     },
     "362836aebe174893a3db22ebe466c1f3": {
      "model_module": "@jupyter-widgets/base",
      "model_module_version": "1.2.0",
      "model_name": "LayoutModel",
      "state": {}
     },
     "3663185fcbc349a681dc82cec2a39e22": {
      "model_module": "@jupyter-widgets/controls",
      "model_module_version": "1.5.0",
      "model_name": "HBoxModel",
      "state": {
       "children": [
        "IPY_MODEL_5d4be78a45784ace871a314f4822eed4",
        "IPY_MODEL_acfb44cc91b64cfa977ce790dcf5ff7d"
       ],
       "layout": "IPY_MODEL_e0a9a56a49ae4a21af1081a89b92297e"
      }
     },
     "367707d816a74fc085de5ea15bde4c64": {
      "model_module": "@jupyter-widgets/controls",
      "model_module_version": "1.5.0",
      "model_name": "HBoxModel",
      "state": {
       "children": [
        "IPY_MODEL_99067a83149b43c7b7015d82e2f2b5fa",
        "IPY_MODEL_51ba236ebc574c4ebaa5c0afa8be6ff9"
       ],
       "layout": "IPY_MODEL_ebb5f623a26345349699cbf0747fd7ef"
      }
     },
     "3677c5df998c465cacc41520c9ecbba6": {
      "model_module": "@jupyter-widgets/base",
      "model_module_version": "1.2.0",
      "model_name": "LayoutModel",
      "state": {
       "width": "250px"
      }
     },
     "3695c0bd1e964a9ab0e1b7c88a716e53": {
      "model_module": "@jupyter-widgets/controls",
      "model_module_version": "1.5.0",
      "model_name": "HTMLModel",
      "state": {
       "layout": "IPY_MODEL_f68570584efc4aaf81722fda2bfe3489",
       "style": "IPY_MODEL_f8d7b5264a5146f7923bf21c190db5e8",
       "value": "<h4 style=\"font-size:14px;\">Welche Operationen hat der Recursive Descent Parser?</h4>"
      }
     },
     "36b18e3051214ba5a75278f507a49f22": {
      "model_module": "@jupyter-widgets/controls",
      "model_module_version": "1.5.0",
      "model_name": "DescriptionStyleModel",
      "state": {
       "description_width": ""
      }
     },
     "376b32c9e99245cfb71a9e6555129391": {
      "model_module": "@jupyter-widgets/controls",
      "model_module_version": "1.5.0",
      "model_name": "ButtonStyleModel",
      "state": {}
     },
     "3772854119ff4d2fa9b390145a41fce6": {
      "model_module": "@jupyter-widgets/base",
      "model_module_version": "1.2.0",
      "model_name": "LayoutModel",
      "state": {
       "width": "250px"
      }
     },
     "379b319000d04dfd8ecbc6ff86f84a39": {
      "model_module": "@jupyter-widgets/controls",
      "model_module_version": "1.5.0",
      "model_name": "ButtonModel",
      "state": {
       "description": "Shift",
       "layout": "IPY_MODEL_6cc958d8b53440ef9108832f8c96e373",
       "style": "IPY_MODEL_e7fd570758754231aefa7347642685d7"
      }
     },
     "37d46f9086b040c2a783087c610a9c88": {
      "model_module": "@jupyter-widgets/base",
      "model_module_version": "1.2.0",
      "model_name": "LayoutModel",
      "state": {
       "width": "600px"
      }
     },
     "37e9518b4bfd4b72acbbb69286ff2d53": {
      "model_module": "@jupyter-widgets/controls",
      "model_module_version": "1.5.0",
      "model_name": "ButtonModel",
      "state": {
       "description": "Complete",
       "layout": "IPY_MODEL_1ff8b2fd5ef54a9da5fc482bfc123915",
       "style": "IPY_MODEL_e4e8e3b0e4654d8eb4a8a58f7ec70e49"
      }
     },
     "3807b42bd35a4122b8d5e597d8860269": {
      "model_module": "@jupyter-widgets/base",
      "model_module_version": "1.2.0",
      "model_name": "LayoutModel",
      "state": {
       "width": "250px"
      }
     },
     "3890941ad769478f822733bc6b052e01": {
      "model_module": "@jupyter-widgets/base",
      "model_module_version": "1.2.0",
      "model_name": "LayoutModel",
      "state": {
       "justify_content": "center"
      }
     },
     "38dac53a49134fa182b99f8cd8ba8b7b": {
      "model_module": "@jupyter-widgets/controls",
      "model_module_version": "1.5.0",
      "model_name": "ButtonStyleModel",
      "state": {}
     },
     "38f22f0b1204456bac01fd69d2898b89": {
      "model_module": "@jupyter-widgets/base",
      "model_module_version": "1.2.0",
      "model_name": "LayoutModel",
      "state": {
       "justify_content": "center"
      }
     },
     "39054eef7d04461795315d27d0d640ad": {
      "model_module": "@jupyter-widgets/controls",
      "model_module_version": "1.5.0",
      "model_name": "ButtonModel",
      "state": {
       "description": "Scan",
       "layout": "IPY_MODEL_8ae8901b70664c6f8ff16cd3472978e9",
       "style": "IPY_MODEL_c0d55dbce9b74b0bb6e393511e1cbc1c"
      }
     },
     "390ce79e68d84b92a6df53b1c000e642": {
      "model_module": "@jupyter-widgets/controls",
      "model_module_version": "1.5.0",
      "model_name": "CheckboxModel",
      "state": {
       "description": "Scan",
       "disabled": false,
       "layout": "IPY_MODEL_37d46f9086b040c2a783087c610a9c88",
       "style": "IPY_MODEL_3a5ed484aa1945abb8c3aba7eec21623",
       "value": false
      }
     },
     "39119d037389422b892183786909cec7": {
      "model_module": "@jupyter-widgets/controls",
      "model_module_version": "1.5.0",
      "model_name": "DescriptionStyleModel",
      "state": {
       "description_width": ""
      }
     },
     "396a8e6535424790aa16b5d71c937b04": {
      "model_module": "@jupyter-widgets/controls",
      "model_module_version": "1.5.0",
      "model_name": "HBoxModel",
      "state": {
       "children": [
        "IPY_MODEL_5ca7369d40fa4645b1a3edbe3ff4f70a",
        "IPY_MODEL_17ac221797ce4a7e95fffd32dfe644f8"
       ],
       "layout": "IPY_MODEL_1e5946f7ba584a839d61d162ca184e12"
      }
     },
     "398483adc7de48ea97488bdf2987a820": {
      "model_module": "@jupyter-widgets/controls",
      "model_module_version": "1.5.0",
      "model_name": "DescriptionStyleModel",
      "state": {
       "description_width": ""
      }
     },
     "39ad8a54d0934598bd9aae6add893dce": {
      "model_module": "@jupyter-widgets/controls",
      "model_module_version": "1.5.0",
      "model_name": "ButtonModel",
      "state": {
       "description": "Predict",
       "layout": "IPY_MODEL_6637ddd4ed874887a6e8b4de1816443a",
       "style": "IPY_MODEL_3d5004e8f72a48538d1ce9a4da5167e2"
      }
     },
     "39c0f019a4a242069b674b2166848c8f": {
      "model_module": "@jupyter-widgets/base",
      "model_module_version": "1.2.0",
      "model_name": "LayoutModel",
      "state": {
       "justify_content": "center"
      }
     },
     "39e72d2ff0c14c26bd7e09c2ff66d96d": {
      "model_module": "@jupyter-widgets/base",
      "model_module_version": "1.2.0",
      "model_name": "LayoutModel",
      "state": {
       "justify_content": "center"
      }
     },
     "3a5ed484aa1945abb8c3aba7eec21623": {
      "model_module": "@jupyter-widgets/controls",
      "model_module_version": "1.5.0",
      "model_name": "DescriptionStyleModel",
      "state": {
       "description_width": "initial"
      }
     },
     "3a65210bb1f143f2ac6c9b506428d351": {
      "model_module": "@jupyter-widgets/controls",
      "model_module_version": "1.5.0",
      "model_name": "HBoxModel",
      "state": {
       "children": [
        "IPY_MODEL_6432446c2b1e4cdea17e004af3f81999",
        "IPY_MODEL_39054eef7d04461795315d27d0d640ad"
       ],
       "layout": "IPY_MODEL_bf2d49c94872444aa36c518da5717992"
      }
     },
     "3a8f864e55224a61978bc96fbcac9867": {
      "model_module": "@jupyter-widgets/controls",
      "model_module_version": "1.5.0",
      "model_name": "DescriptionStyleModel",
      "state": {
       "description_width": ""
      }
     },
     "3a91dba85afc4d03a88a09f290b771c2": {
      "model_module": "@jupyter-widgets/controls",
      "model_module_version": "1.5.0",
      "model_name": "ButtonModel",
      "state": {
       "description": "Shift",
       "layout": "IPY_MODEL_566f6f0413c0431f91d3519556a94810",
       "style": "IPY_MODEL_d37cf7f8449441de94a5c994cd485332"
      }
     },
     "3bbd4237949a43c9b0cc11a8303aa5a7": {
      "model_module": "@jupyter-widgets/controls",
      "model_module_version": "1.5.0",
      "model_name": "ButtonStyleModel",
      "state": {}
     },
     "3bd4310ad2d64a8bbb68d3c1678e4fc4": {
      "model_module": "@jupyter-widgets/base",
      "model_module_version": "1.2.0",
      "model_name": "LayoutModel",
      "state": {}
     },
     "3bdb0e7eed3c4fe6b70e2a504ae117dd": {
      "model_module": "@jupyter-widgets/controls",
      "model_module_version": "1.5.0",
      "model_name": "ButtonModel",
      "state": {
       "description": "Earley",
       "layout": "IPY_MODEL_2213b4b7935649bfb44499b9c598325d",
       "style": "IPY_MODEL_de6add2a2cf34c0e92edfaf58a30b4af"
      }
     },
     "3c015b1acd844afd98928c21818afe58": {
      "model_module": "@jupyter-widgets/base",
      "model_module_version": "1.2.0",
      "model_name": "LayoutModel",
      "state": {
       "width": "250px"
      }
     },
     "3c0387de0c2d46da85020ac711d0d6cc": {
      "model_module": "@jupyter-widgets/base",
      "model_module_version": "1.2.0",
      "model_name": "LayoutModel",
      "state": {
       "width": "250px"
      }
     },
     "3c16960648144005936f228474de44a2": {
      "model_module": "@jupyter-widgets/controls",
      "model_module_version": "1.5.0",
      "model_name": "ButtonStyleModel",
      "state": {}
     },
     "3c39ede7767c4fef938fc4c10c9205fa": {
      "model_module": "@jupyter-widgets/controls",
      "model_module_version": "1.5.0",
      "model_name": "ButtonModel",
      "state": {
       "description": "Korrekt?",
       "layout": "IPY_MODEL_4f772ebe780340308ced61a7d6b71024",
       "style": "IPY_MODEL_4e4ecbb8d1034338b8b25e1818745a5d"
      }
     },
     "3c485be6cf59455e88be15a4f4d4aebf": {
      "model_module": "@jupyter-widgets/controls",
      "model_module_version": "1.5.0",
      "model_name": "ButtonStyleModel",
      "state": {}
     },
     "3c5e7867bdd544aea6560d0a04cc8ee4": {
      "model_module": "@jupyter-widgets/controls",
      "model_module_version": "1.5.0",
      "model_name": "CheckboxModel",
      "state": {
       "description": "Predict",
       "disabled": false,
       "layout": "IPY_MODEL_ad306a1166a94cf98dd43db27cbaf6ae",
       "style": "IPY_MODEL_018bebb711b047aa8f59f2896df6149b",
       "value": false
      }
     },
     "3c72b35f33714471961260d8f56e395c": {
      "model_module": "@jupyter-widgets/controls",
      "model_module_version": "1.5.0",
      "model_name": "DescriptionStyleModel",
      "state": {
       "description_width": ""
      }
     },
     "3c8b9f34190540359481567c56ab8a47": {
      "model_module": "@jupyter-widgets/controls",
      "model_module_version": "1.5.0",
      "model_name": "VBoxModel",
      "state": {
       "children": [
        "IPY_MODEL_6afed90f2b894223b92fa27f1dd1e928",
        "IPY_MODEL_65295583b79e4f549ef2eb49ff223144",
        "IPY_MODEL_128ac4f4ddb34d85ab3c027a3c12dd7a",
        "IPY_MODEL_d2c0a4b4a8224bd0bbb1032389c5b2f3"
       ],
       "layout": "IPY_MODEL_ab9f10876484444a8c804647214e18fa"
      }
     },
     "3ca6c8dcc7674620a74421d814ee7c40": {
      "model_module": "@jupyter-widgets/controls",
      "model_module_version": "1.5.0",
      "model_name": "DescriptionStyleModel",
      "state": {
       "description_width": "initial"
      }
     },
     "3cb5da2cd45f42519d008f53df486ddc": {
      "model_module": "@jupyter-widgets/base",
      "model_module_version": "1.2.0",
      "model_name": "LayoutModel",
      "state": {}
     },
     "3ce83d05eff14ee3a318f38e6e5f5e7b": {
      "model_module": "@jupyter-widgets/controls",
      "model_module_version": "1.5.0",
      "model_name": "DescriptionStyleModel",
      "state": {
       "description_width": ""
      }
     },
     "3d074cbd85f5475f8ec3a7471bd9ffcf": {
      "model_module": "@jupyter-widgets/controls",
      "model_module_version": "1.5.0",
      "model_name": "HTMLModel",
      "state": {
       "layout": "IPY_MODEL_12a7cad07c6e4bb8ae9d8215cab98233",
       "style": "IPY_MODEL_82d42db99ef340dfb610c6bd72469386",
       "value": "<i>Wählen Sie die <ins>eine</ins> korrekte Antwort aus: </i>"
      }
     },
     "3d0d9e3325e448a6ba98415d8647de37": {
      "model_module": "@jupyter-widgets/controls",
      "model_module_version": "1.5.0",
      "model_name": "ButtonStyleModel",
      "state": {}
     },
     "3d5004e8f72a48538d1ce9a4da5167e2": {
      "model_module": "@jupyter-widgets/controls",
      "model_module_version": "1.5.0",
      "model_name": "ButtonStyleModel",
      "state": {}
     },
     "3d83a9e938a74c809006b674bb69d35e": {
      "model_module": "@jupyter-widgets/controls",
      "model_module_version": "1.5.0",
      "model_name": "HBoxModel",
      "state": {
       "children": [
        "IPY_MODEL_09cbd5c6809a4962b783ef426283c530"
       ],
       "layout": "IPY_MODEL_5082d10bcf7c4ff78c31412eb36dbd22"
      }
     },
     "3dc47357c181495392211a1e6796d262": {
      "model_module": "@jupyter-widgets/base",
      "model_module_version": "1.2.0",
      "model_name": "LayoutModel",
      "state": {}
     },
     "3df9dae3ad5b42508febffdbebdbb0ba": {
      "model_module": "@jupyter-widgets/controls",
      "model_module_version": "1.5.0",
      "model_name": "ButtonModel",
      "state": {
       "description": "Korrekt?",
       "layout": "IPY_MODEL_97fd3cc433984d2887f94e50503156bb",
       "style": "IPY_MODEL_b081b35566914c22ab63a5c88726d11e"
      }
     },
     "3e432e94a88d4356bf5bab7d46604080": {
      "model_module": "@jupyter-widgets/base",
      "model_module_version": "1.2.0",
      "model_name": "LayoutModel",
      "state": {}
     },
     "3e52a34686ac4086913edc3e7f73d563": {
      "model_module": "@jupyter-widgets/controls",
      "model_module_version": "1.5.0",
      "model_name": "HBoxModel",
      "state": {
       "children": [
        "IPY_MODEL_59093dfff718433cbfe55b396792339e",
        "IPY_MODEL_081100818416450f854c2ce96f1dff97"
       ],
       "layout": "IPY_MODEL_a7d3aeae8ceb4aa99543d9f89dcf55ae"
      }
     },
     "3e81f225ac1b443097ccbff5cff89daf": {
      "model_module": "@jupyter-widgets/controls",
      "model_module_version": "1.5.0",
      "model_name": "ButtonModel",
      "state": {
       "description": "Reduce",
       "layout": "IPY_MODEL_7e88e43672c3423797c67f9963223f7b",
       "style": "IPY_MODEL_74ec8be9ec464dcbb3ff7cea2a3b19ca"
      }
     },
     "3e8f93f2bd5142f7a18a33886dd43764": {
      "model_module": "@jupyter-widgets/controls",
      "model_module_version": "1.5.0",
      "model_name": "HTMLModel",
      "state": {
       "layout": "IPY_MODEL_bfc07d3f949c4b63a27e2e555427ec17",
       "style": "IPY_MODEL_7ab94e5a277342f8b15aff937ab2bc0a",
       "value": "<h4 style=\"font-size:14px;\">Welche Operation folgt als nächstes?</h4>"
      }
     },
     "3eb60f06a3f943c9a9e9446bffe0fdb3": {
      "model_module": "@jupyter-widgets/controls",
      "model_module_version": "1.5.0",
      "model_name": "ButtonModel",
      "state": {
       "description": "Recusive Descent",
       "layout": "IPY_MODEL_8f2d6c09bf364edeb5cde4746c7523ac",
       "style": "IPY_MODEL_bab28a6e10094ac48c4eab45c61da2fb"
      }
     },
     "3f04e7cb754b45e9bfb8918163dfce47": {
      "model_module": "@jupyter-widgets/base",
      "model_module_version": "1.2.0",
      "model_name": "LayoutModel",
      "state": {
       "width": "250px"
      }
     },
     "3f2548e414e240f79406bc908b9858de": {
      "model_module": "@jupyter-widgets/controls",
      "model_module_version": "1.5.0",
      "model_name": "ButtonModel",
      "state": {
       "description": "Shift",
       "layout": "IPY_MODEL_b37d88d68baf400484f359f04b9a38ee",
       "style": "IPY_MODEL_cda40709b35140c0ae1eb23939f9f858"
      }
     },
     "3f5cc25f8d484db98d495b31f3c32129": {
      "model_module": "@jupyter-widgets/controls",
      "model_module_version": "1.5.0",
      "model_name": "ButtonStyleModel",
      "state": {}
     },
     "3f8b74bdd78441c2aceff32af488328b": {
      "model_module": "@jupyter-widgets/controls",
      "model_module_version": "1.5.0",
      "model_name": "CheckboxModel",
      "state": {
       "description": "Reduce",
       "disabled": false,
       "layout": "IPY_MODEL_2e401ababce4485da2630b69cbf8764b",
       "style": "IPY_MODEL_ef2fe59b19374b34a723f1a5f7f5204f",
       "value": false
      }
     },
     "3fa9dd63d70d435696add721164e8574": {
      "model_module": "@jupyter-widgets/controls",
      "model_module_version": "1.5.0",
      "model_name": "DescriptionStyleModel",
      "state": {
       "description_width": ""
      }
     },
     "3fbdd28309ab4865bebf63db26715cfa": {
      "model_module": "@jupyter-widgets/controls",
      "model_module_version": "1.5.0",
      "model_name": "CheckboxModel",
      "state": {
       "description": "Complete",
       "disabled": false,
       "layout": "IPY_MODEL_6f480fd469b64ec69cd401e7c6dc9a5f",
       "style": "IPY_MODEL_8fb1a7c8490b4775a2d6d7efabb037d0",
       "value": false
      }
     },
     "3fc94a87221243b18d0bb8c19745bf6c": {
      "model_module": "@jupyter-widgets/controls",
      "model_module_version": "1.5.0",
      "model_name": "CheckboxModel",
      "state": {
       "description": "Reduce",
       "disabled": false,
       "layout": "IPY_MODEL_a4ac0325b6cc4ca48b940e4496b2552e",
       "style": "IPY_MODEL_c4f011068367490fb7632cbadf02ca72",
       "value": false
      }
     },
     "3fcc2670251143ffa89f729aab95a0f4": {
      "model_module": "@jupyter-widgets/controls",
      "model_module_version": "1.5.0",
      "model_name": "ButtonStyleModel",
      "state": {}
     },
     "3fe17616874946af81aaf4b52e14f24e": {
      "model_module": "@jupyter-widgets/controls",
      "model_module_version": "1.5.0",
      "model_name": "ButtonModel",
      "state": {
       "description": "Scan",
       "layout": "IPY_MODEL_d861cac2d19649fe96797020c13a1968",
       "style": "IPY_MODEL_a56a157cee9143a791123ed8794c76de"
      }
     },
     "3fe9dd1af31d4efaa46c687fd096981b": {
      "model_module": "@jupyter-widgets/controls",
      "model_module_version": "1.5.0",
      "model_name": "ButtonStyleModel",
      "state": {}
     },
     "401df6a987934038a9858685c25181a3": {
      "model_module": "@jupyter-widgets/base",
      "model_module_version": "1.2.0",
      "model_name": "LayoutModel",
      "state": {}
     },
     "4039588e03bb4ce68897a35c959a35aa": {
      "model_module": "@jupyter-widgets/controls",
      "model_module_version": "1.5.0",
      "model_name": "ButtonStyleModel",
      "state": {}
     },
     "4039a83539464ea480a7ba1bdb994656": {
      "model_module": "@jupyter-widgets/base",
      "model_module_version": "1.2.0",
      "model_name": "LayoutModel",
      "state": {
       "width": "250px"
      }
     },
     "407e072a3e6b441d88f57bd189645d07": {
      "model_module": "@jupyter-widgets/controls",
      "model_module_version": "1.5.0",
      "model_name": "HBoxModel",
      "state": {
       "children": [
        "IPY_MODEL_161ab2623f544634982574ffe3617e54",
        "IPY_MODEL_11f9ad4eebb4491da380acddc68bda92"
       ],
       "layout": "IPY_MODEL_9348d4f91ef142a9b9e69b9070496129"
      }
     },
     "407f2755beec49c398db7ded5c75757c": {
      "model_module": "@jupyter-widgets/controls",
      "model_module_version": "1.5.0",
      "model_name": "VBoxModel",
      "state": {
       "children": [
        "IPY_MODEL_7dc3178d016b400f83750273ebd0685a",
        "IPY_MODEL_40fcfea7b181436a9fc019599439fe93",
        "IPY_MODEL_943e0952346643e59b9735be62aa81f3",
        "IPY_MODEL_6abfc2e51cda4391aeecb1338a3346a4"
       ],
       "layout": "IPY_MODEL_130a2c355fd94e91aa0c45387d0ab99e"
      }
     },
     "40a61126e7fd4e4ba9acf09f6aea22b1": {
      "model_module": "@jupyter-widgets/controls",
      "model_module_version": "1.5.0",
      "model_name": "DescriptionStyleModel",
      "state": {
       "description_width": ""
      }
     },
     "40df1e36b5fe460691d1a60bb37d066e": {
      "model_module": "@jupyter-widgets/controls",
      "model_module_version": "1.5.0",
      "model_name": "HBoxModel",
      "state": {
       "children": [
        "IPY_MODEL_c24bc73e26db414ebe77921e62854ec9",
        "IPY_MODEL_424c7dcbfd5a412dbeb2f7697915230f"
       ],
       "layout": "IPY_MODEL_803061ef1f2b43679b322f5114baa53c"
      }
     },
     "40fcfea7b181436a9fc019599439fe93": {
      "model_module": "@jupyter-widgets/controls",
      "model_module_version": "1.5.0",
      "model_name": "HTMLModel",
      "state": {
       "layout": "IPY_MODEL_7f6f638c487a4ed197b82a7715ac274f",
       "style": "IPY_MODEL_68ee3db7c06a457b998b1c227cfc4bae",
       "value": "<i>Wählen Sie die <ins>eine</ins> korrekte Antwort aus: </i>"
      }
     },
     "4122907159a94f9bb011e5d6d652d7fb": {
      "model_module": "@jupyter-widgets/controls",
      "model_module_version": "1.5.0",
      "model_name": "CheckboxModel",
      "state": {
       "description": "Predict",
       "disabled": false,
       "layout": "IPY_MODEL_69b69edaa5954f03892e707e616c16d9",
       "style": "IPY_MODEL_9dd17d0c5d594ce1a7a6106e930563db",
       "value": false
      }
     },
     "412aed4ec06f497aba6418ed5d2ac430": {
      "model_module": "@jupyter-widgets/controls",
      "model_module_version": "1.5.0",
      "model_name": "DescriptionStyleModel",
      "state": {
       "description_width": ""
      }
     },
     "41368c3281d64aadb47a9a8b981088fe": {
      "model_module": "@jupyter-widgets/controls",
      "model_module_version": "1.5.0",
      "model_name": "ButtonModel",
      "state": {
       "description": "Shift Reduce",
       "layout": "IPY_MODEL_dfe93a0bad914a2f8980aac4d4cf6862",
       "style": "IPY_MODEL_454cb8c5bb6a4f7582223d9cbf167fe5"
      }
     },
     "41427bcd04a8401f99d638a4e006bfba": {
      "model_module": "@jupyter-widgets/controls",
      "model_module_version": "1.5.0",
      "model_name": "VBoxModel",
      "state": {
       "children": [
        "IPY_MODEL_51f5d6c44e1146409a7d699d4680d2e9",
        "IPY_MODEL_1796f8a87a1a469e940d999c9586b358",
        "IPY_MODEL_8fa28e2cb022451a85d6c11896889fe9",
        "IPY_MODEL_be7aa4f332e6428392433d1dafe4eead",
        "IPY_MODEL_fe1ff64f23a84665b5060e59e737c6a1"
       ],
       "layout": "IPY_MODEL_8c5537e111b24e7fab396ecd7e839a4f"
      }
     },
     "415e5f33f78c4a7a88254aa8ed5e7802": {
      "model_module": "@jupyter-widgets/base",
      "model_module_version": "1.2.0",
      "model_name": "LayoutModel",
      "state": {
       "width": "250px"
      }
     },
     "4161a96739354e828f7d4c39b28fafc6": {
      "model_module": "@jupyter-widgets/controls",
      "model_module_version": "1.5.0",
      "model_name": "ButtonModel",
      "state": {
       "description": "Predict",
       "layout": "IPY_MODEL_6cf954c4e74849e1bab6f96035180e7c",
       "style": "IPY_MODEL_230964cf74f44b61b335b0106959e0f9"
      }
     },
     "4162fcc7a08b4e529f1b8ed8180972bc": {
      "model_module": "@jupyter-widgets/controls",
      "model_module_version": "1.5.0",
      "model_name": "ButtonModel",
      "state": {
       "description": "Reduce",
       "layout": "IPY_MODEL_a0f2f49315da4752978c28e56971d982",
       "style": "IPY_MODEL_ba37ebd3b06044e4b57e74e423c0a1a7"
      }
     },
     "416d6f48dd7e42cabec1b9073987af43": {
      "model_module": "@jupyter-widgets/base",
      "model_module_version": "1.2.0",
      "model_name": "LayoutModel",
      "state": {
       "width": "250px"
      }
     },
     "417d1d6009034bf7b19a97d53b2978d7": {
      "model_module": "@jupyter-widgets/base",
      "model_module_version": "1.2.0",
      "model_name": "LayoutModel",
      "state": {
       "justify_content": "center"
      }
     },
     "41b354167d4c4f6a8990ed9dd8ae84e0": {
      "model_module": "@jupyter-widgets/controls",
      "model_module_version": "1.5.0",
      "model_name": "ButtonModel",
      "state": {
       "description": "Recusive Descent",
       "layout": "IPY_MODEL_54e3a75cf58948f99cb592f60e4a206c",
       "style": "IPY_MODEL_92215fbd15e0478ba24cd9b27f80c86a"
      }
     },
     "41cbe0dd642c46afb3c59e1e9417518b": {
      "model_module": "@jupyter-widgets/controls",
      "model_module_version": "1.5.0",
      "model_name": "ButtonStyleModel",
      "state": {}
     },
     "41d6b0a15798403d9ad621817d731e43": {
      "model_module": "@jupyter-widgets/base",
      "model_module_version": "1.2.0",
      "model_name": "LayoutModel",
      "state": {
       "justify_content": "center"
      }
     },
     "41f6808817794cc78ce36698b9d4b9e5": {
      "model_module": "@jupyter-widgets/controls",
      "model_module_version": "1.5.0",
      "model_name": "ButtonStyleModel",
      "state": {}
     },
     "424c7dcbfd5a412dbeb2f7697915230f": {
      "model_module": "@jupyter-widgets/controls",
      "model_module_version": "1.5.0",
      "model_name": "ButtonModel",
      "state": {
       "description": "Shift",
       "layout": "IPY_MODEL_6b69a4b2f3aa4c0caeb44ede8f54f7f3",
       "style": "IPY_MODEL_91ee9423029f4742b5b834c842c219c9"
      }
     },
     "4275c52b13944ee3a8a69f963a335af3": {
      "model_module": "@jupyter-widgets/controls",
      "model_module_version": "1.5.0",
      "model_name": "ButtonStyleModel",
      "state": {}
     },
     "42b8b67b4a5e4f1ab8beb70447677062": {
      "model_module": "@jupyter-widgets/base",
      "model_module_version": "1.2.0",
      "model_name": "LayoutModel",
      "state": {
       "width": "250px"
      }
     },
     "42bc3d38cc114145a6b262b6df9c9c30": {
      "model_module": "@jupyter-widgets/controls",
      "model_module_version": "1.5.0",
      "model_name": "ButtonModel",
      "state": {
       "description": "Complete",
       "layout": "IPY_MODEL_90ec8d7b744741ddbad89bbd435e4800",
       "style": "IPY_MODEL_7d0d00b1ecf54181bf49c69809e224f8"
      }
     },
     "433bf070ce9b40a9a73c38b400fe74e2": {
      "model_module": "@jupyter-widgets/controls",
      "model_module_version": "1.5.0",
      "model_name": "ButtonModel",
      "state": {
       "description": "Complete",
       "layout": "IPY_MODEL_b6e3eac0bb6f45b88bdd3c7d56fcf538",
       "style": "IPY_MODEL_099e814686bb400281370ce3c7b0eb46"
      }
     },
     "433f791e307943fc8e2f8f0bdf9c8b35": {
      "model_module": "@jupyter-widgets/controls",
      "model_module_version": "1.5.0",
      "model_name": "HTMLModel",
      "state": {
       "layout": "IPY_MODEL_3384dbc9730e4a4980c956a7a80b556a",
       "style": "IPY_MODEL_25a3255c973e416b8d52d4e42e9f71cc",
       "value": "<h4 style=\"font-size:14px;\">Welche Operation folgt als nächstes?</h4>"
      }
     },
     "4345b5c4b07840c9869dbd05a2451f58": {
      "model_module": "@jupyter-widgets/controls",
      "model_module_version": "1.5.0",
      "model_name": "HTMLModel",
      "state": {
       "layout": "IPY_MODEL_7a747708c9c043f2a53ef39991618ef8",
       "style": "IPY_MODEL_4345be8190a74592afb03dbfaa661147",
       "value": "<h4 style=\"font-size:14px;\">Welche Operation folgt als nächstes?</h4>"
      }
     },
     "4345be8190a74592afb03dbfaa661147": {
      "model_module": "@jupyter-widgets/controls",
      "model_module_version": "1.5.0",
      "model_name": "DescriptionStyleModel",
      "state": {
       "description_width": ""
      }
     },
     "436a667bda644f12a2191244db432275": {
      "model_module": "@jupyter-widgets/controls",
      "model_module_version": "1.5.0",
      "model_name": "DescriptionStyleModel",
      "state": {
       "description_width": ""
      }
     },
     "4386e63a365047bcabf9514b0253e19e": {
      "model_module": "@jupyter-widgets/base",
      "model_module_version": "1.2.0",
      "model_name": "LayoutModel",
      "state": {
       "justify_content": "center"
      }
     },
     "438dfa0edee34dd691ab5a2b2ccb4e04": {
      "model_module": "@jupyter-widgets/controls",
      "model_module_version": "1.5.0",
      "model_name": "HTMLModel",
      "state": {
       "layout": "IPY_MODEL_24b21434b11a42d797f03b74e71d33c6",
       "style": "IPY_MODEL_071d07880758496ea458d2e01dcf0bff",
       "value": "<i>Wählen Sie die <ins>eine</ins> korrekte Antwort aus: </i>"
      }
     },
     "43a833d0bbdb4473bb7e0de76e3f7bac": {
      "model_module": "@jupyter-widgets/controls",
      "model_module_version": "1.5.0",
      "model_name": "HTMLModel",
      "state": {
       "layout": "IPY_MODEL_48fa8cf819fe4602b91ad21c9659a383",
       "style": "IPY_MODEL_b65f0fbce1e4478186d1d4daa88cff1e",
       "value": "<h4 style=\"font-size:14px;\">Welche Operationen hat der Recursive Descent Parser?</h4>"
      }
     },
     "43e0716a13c14bf4a154e35b705f9514": {
      "model_module": "@jupyter-widgets/base",
      "model_module_version": "1.2.0",
      "model_name": "LayoutModel",
      "state": {
       "width": "250px"
      }
     },
     "440a3c5cd0804eb8baa53b65eb374dcd": {
      "model_module": "@jupyter-widgets/controls",
      "model_module_version": "1.5.0",
      "model_name": "ButtonStyleModel",
      "state": {}
     },
     "4413c18eb9f7447f9e52dba2ff597cfa": {
      "model_module": "@jupyter-widgets/base",
      "model_module_version": "1.2.0",
      "model_name": "LayoutModel",
      "state": {
       "width": "250px"
      }
     },
     "44176f38835a4de0befc36c08683141a": {
      "model_module": "@jupyter-widgets/controls",
      "model_module_version": "1.5.0",
      "model_name": "DescriptionStyleModel",
      "state": {
       "description_width": ""
      }
     },
     "44455811656f4bbcb026d2ae06293761": {
      "model_module": "@jupyter-widgets/base",
      "model_module_version": "1.2.0",
      "model_name": "LayoutModel",
      "state": {
       "justify_content": "center"
      }
     },
     "4445e652fe0146d08a752bc7e4888187": {
      "model_module": "@jupyter-widgets/controls",
      "model_module_version": "1.5.0",
      "model_name": "HTMLModel",
      "state": {
       "layout": "IPY_MODEL_ec299f1ac3f24f7ba495f902ed9c8ae8",
       "style": "IPY_MODEL_0f1ad41d4349473db9f2b909bc59e5a5",
       "value": "<h4 style=\"font-size:14px;\">Welche Operation folgt als nächstes?</h4>"
      }
     },
     "444efcacd3d24ffd9c6e215e4284538e": {
      "model_module": "@jupyter-widgets/controls",
      "model_module_version": "1.5.0",
      "model_name": "HTMLModel",
      "state": {
       "layout": "IPY_MODEL_59befd33b7854e389ad8d2dafff25a2f",
       "style": "IPY_MODEL_c16d0d04c2174511abe169c5f2d85b37",
       "value": "<h4 style=\"font-size:14px;\">Um welchen Parser handelt es sich?</h4>"
      }
     },
     "44708db8f00b41bc8fe252830049e343": {
      "model_module": "@jupyter-widgets/controls",
      "model_module_version": "1.5.0",
      "model_name": "VBoxModel",
      "state": {
       "children": [
        "IPY_MODEL_4345b5c4b07840c9869dbd05a2451f58",
        "IPY_MODEL_f500fa983fc64444b3ed5f7530e598d4",
        "IPY_MODEL_cecea39b66af4f70ba7fadf523a2a321",
        "IPY_MODEL_1e517ea403be4c0ab02899c283be74fe",
        "IPY_MODEL_5321c959c3474aed8877467147e3e77d"
       ],
       "layout": "IPY_MODEL_aeada0fb85d34c28921a102c7e906c7b"
      }
     },
     "4472e1a8fa774e4e979ec9227c1e19f3": {
      "model_module": "@jupyter-widgets/base",
      "model_module_version": "1.2.0",
      "model_name": "LayoutModel",
      "state": {
       "justify_content": "center"
      }
     },
     "447949eae8114bc18a86b2754e580906": {
      "model_module": "@jupyter-widgets/base",
      "model_module_version": "1.2.0",
      "model_name": "LayoutModel",
      "state": {
       "justify_content": "center"
      }
     },
     "447a2adfd5d74ae2befba3b5a9807185": {
      "model_module": "@jupyter-widgets/controls",
      "model_module_version": "1.5.0",
      "model_name": "ButtonStyleModel",
      "state": {}
     },
     "4490b029e8954dd0988ef8149dfc7be5": {
      "model_module": "@jupyter-widgets/controls",
      "model_module_version": "1.5.0",
      "model_name": "HBoxModel",
      "state": {
       "children": [
        "IPY_MODEL_06c0a3f5d98e4e5e94dd274b14001352"
       ],
       "layout": "IPY_MODEL_c45802a923c941118190083f57af103c"
      }
     },
     "44b6a1f5f4a24e399baa0306ab8534d3": {
      "model_module": "@jupyter-widgets/controls",
      "model_module_version": "1.5.0",
      "model_name": "ButtonModel",
      "state": {
       "description": "Shift",
       "layout": "IPY_MODEL_3395b130e273429baac80212866b882b",
       "style": "IPY_MODEL_ce9b27e8648a4053aa0b3aa61b79a767"
      }
     },
     "44c43a3b12394d81b9b8cb496498e741": {
      "model_module": "@jupyter-widgets/base",
      "model_module_version": "1.2.0",
      "model_name": "LayoutModel",
      "state": {
       "width": "250px"
      }
     },
     "44eeda21d4044d0e9c0c0b2cca3277bb": {
      "model_module": "@jupyter-widgets/base",
      "model_module_version": "1.2.0",
      "model_name": "LayoutModel",
      "state": {
       "width": "250px"
      }
     },
     "4508ee6855ca410b8e4399b776b512f3": {
      "model_module": "@jupyter-widgets/controls",
      "model_module_version": "1.5.0",
      "model_name": "ButtonStyleModel",
      "state": {}
     },
     "4528d559acdf4bf481907e57f16b7945": {
      "model_module": "@jupyter-widgets/controls",
      "model_module_version": "1.5.0",
      "model_name": "ButtonModel",
      "state": {
       "description": "Reduce",
       "layout": "IPY_MODEL_51890ca640724f328a835caf4206a266",
       "style": "IPY_MODEL_8d843aef88d9489b9e8087eb74068e38"
      }
     },
     "453cc3adccf5490ab218094918b41129": {
      "model_module": "@jupyter-widgets/controls",
      "model_module_version": "1.5.0",
      "model_name": "ButtonModel",
      "state": {
       "description": "Predict",
       "layout": "IPY_MODEL_a9d68edd3b974c329561fc9b5c673ab4",
       "style": "IPY_MODEL_6c93cda834cb4e1ea4889d2b6d781f2f"
      }
     },
     "454cb8c5bb6a4f7582223d9cbf167fe5": {
      "model_module": "@jupyter-widgets/controls",
      "model_module_version": "1.5.0",
      "model_name": "ButtonStyleModel",
      "state": {}
     },
     "45739e895d8b46d29beaa8b36f180a85": {
      "model_module": "@jupyter-widgets/controls",
      "model_module_version": "1.5.0",
      "model_name": "DescriptionStyleModel",
      "state": {
       "description_width": ""
      }
     },
     "4581743050b14824b311a099bd10ca23": {
      "model_module": "@jupyter-widgets/controls",
      "model_module_version": "1.5.0",
      "model_name": "VBoxModel",
      "state": {
       "children": [
        "IPY_MODEL_50504fd3794d4535b3c9b674a60dc796",
        "IPY_MODEL_6a67e7a8dff04507beb9698cd825c65f",
        "IPY_MODEL_fcb0236b37304ffdad8549751db6aae0",
        "IPY_MODEL_551baf4f83f0452087cbd94acc4c6165",
        "IPY_MODEL_a528b3deaa154cae8e71906c92d9e07e"
       ],
       "layout": "IPY_MODEL_3cb5da2cd45f42519d008f53df486ddc"
      }
     },
     "4587a39ff71f418980ac16f79bef62a2": {
      "model_module": "@jupyter-widgets/controls",
      "model_module_version": "1.5.0",
      "model_name": "ButtonModel",
      "state": {
       "description": "Complete",
       "layout": "IPY_MODEL_8a06ed6e01b04651976c98afd7de2b59",
       "style": "IPY_MODEL_0bd64a5649f145b6a3f5ca747ccc21fc"
      }
     },
     "46362c6609d24cf4afedec9a1c7d7b49": {
      "model_module": "@jupyter-widgets/base",
      "model_module_version": "1.2.0",
      "model_name": "LayoutModel",
      "state": {}
     },
     "46419f5227eb490796847a7675b2b5c0": {
      "model_module": "@jupyter-widgets/base",
      "model_module_version": "1.2.0",
      "model_name": "LayoutModel",
      "state": {}
     },
     "4654dd90f173418eb4e78090bec9bb4e": {
      "model_module": "@jupyter-widgets/base",
      "model_module_version": "1.2.0",
      "model_name": "LayoutModel",
      "state": {}
     },
     "465cd8ba0e3a4360a9c429c02865065a": {
      "model_module": "@jupyter-widgets/base",
      "model_module_version": "1.2.0",
      "model_name": "LayoutModel",
      "state": {
       "justify_content": "center"
      }
     },
     "4687205598324164ba43aa42b6dec778": {
      "model_module": "@jupyter-widgets/controls",
      "model_module_version": "1.5.0",
      "model_name": "DescriptionStyleModel",
      "state": {
       "description_width": ""
      }
     },
     "46946a7dd7224b73831cacba73b5406c": {
      "model_module": "@jupyter-widgets/controls",
      "model_module_version": "1.5.0",
      "model_name": "ButtonModel",
      "state": {
       "description": "Scan",
       "layout": "IPY_MODEL_3772854119ff4d2fa9b390145a41fce6",
       "style": "IPY_MODEL_0e2a6fedae75450eb8d0162af2327a39"
      }
     },
     "46aa30317c0e4e4fa52a258e3067d826": {
      "model_module": "@jupyter-widgets/base",
      "model_module_version": "1.2.0",
      "model_name": "LayoutModel",
      "state": {
       "justify_content": "center"
      }
     },
     "46f7a0534f714463a89eca0be8eb2efb": {
      "model_module": "@jupyter-widgets/controls",
      "model_module_version": "1.5.0",
      "model_name": "ButtonModel",
      "state": {
       "description": "Reduce",
       "layout": "IPY_MODEL_86725dcc05dd4d2abc33b63b6b45d5b5",
       "style": "IPY_MODEL_28c98546858549e5b1e6aed52ebd4d77"
      }
     },
     "4705bd98f77240a09a86affe5f6dc776": {
      "model_module": "@jupyter-widgets/base",
      "model_module_version": "1.2.0",
      "model_name": "LayoutModel",
      "state": {}
     },
     "473fde9c76624814a21240f929d88b19": {
      "model_module": "@jupyter-widgets/controls",
      "model_module_version": "1.5.0",
      "model_name": "ButtonModel",
      "state": {
       "description": "Shift",
       "layout": "IPY_MODEL_0db876ea5b6a4425994c179349e33e8b",
       "style": "IPY_MODEL_d6197f808b2f4563be76c7257819a024"
      }
     },
     "47b78e630005448cacbc1d0804d1be22": {
      "model_module": "@jupyter-widgets/controls",
      "model_module_version": "1.5.0",
      "model_name": "ButtonStyleModel",
      "state": {}
     },
     "47be3fd08a064bac99453c4275bd45ce": {
      "model_module": "@jupyter-widgets/controls",
      "model_module_version": "1.5.0",
      "model_name": "ButtonModel",
      "state": {
       "description": "Shift",
       "layout": "IPY_MODEL_883c8e7c7aba4ff99975aa7f23e70532",
       "style": "IPY_MODEL_1430461a93564825b88afde6e35ca294"
      }
     },
     "47fad0e035404e599f32beb4639b33ac": {
      "model_module": "@jupyter-widgets/controls",
      "model_module_version": "1.5.0",
      "model_name": "ButtonStyleModel",
      "state": {}
     },
     "47fc6d6eca30493a9386c33ceb91c73c": {
      "model_module": "@jupyter-widgets/controls",
      "model_module_version": "1.5.0",
      "model_name": "ButtonStyleModel",
      "state": {}
     },
     "48113e0e26164cb0aafeadb7b4834aed": {
      "model_module": "@jupyter-widgets/controls",
      "model_module_version": "1.5.0",
      "model_name": "ButtonStyleModel",
      "state": {}
     },
     "482b2690fc5b419782760716b33f2e9c": {
      "model_module": "@jupyter-widgets/controls",
      "model_module_version": "1.5.0",
      "model_name": "HBoxModel",
      "state": {
       "children": [
        "IPY_MODEL_42bc3d38cc114145a6b262b6df9c9c30",
        "IPY_MODEL_fd92583f267a4110a7979d1e9b68bbe2"
       ],
       "layout": "IPY_MODEL_f3298f1bd47b4610a65d66df4914307d"
      }
     },
     "483c9739b90f4b8f8aa41f6cf40b34a3": {
      "model_module": "@jupyter-widgets/base",
      "model_module_version": "1.2.0",
      "model_name": "LayoutModel",
      "state": {
       "width": "250px"
      }
     },
     "485cd019633e4f3c9219742f0542ed0d": {
      "model_module": "@jupyter-widgets/controls",
      "model_module_version": "1.5.0",
      "model_name": "HBoxModel",
      "state": {
       "children": [
        "IPY_MODEL_e0b78addc263496c8af0a667e7bfab81",
        "IPY_MODEL_9fba76862ec641568237a8fb63e7ec9b"
       ],
       "layout": "IPY_MODEL_d0ff55aae19c40fbb211075316117858"
      }
     },
     "485e7c690b6141d9852df96d5ed6c39d": {
      "model_module": "@jupyter-widgets/base",
      "model_module_version": "1.2.0",
      "model_name": "LayoutModel",
      "state": {}
     },
     "488b4d2d976d410496d11c9a482e8fa5": {
      "model_module": "@jupyter-widgets/base",
      "model_module_version": "1.2.0",
      "model_name": "LayoutModel",
      "state": {
       "justify_content": "center"
      }
     },
     "4899a2dad9324dadbc275c1e23eb2d52": {
      "model_module": "@jupyter-widgets/controls",
      "model_module_version": "1.5.0",
      "model_name": "HTMLModel",
      "state": {
       "layout": "IPY_MODEL_39c0f019a4a242069b674b2166848c8f",
       "style": "IPY_MODEL_9dcffb2c36e24e908fdf222927cbdb55",
       "value": "<h4 style=\"font-size:14px;\">Welche Operation folgt als nächstes?</h4>"
      }
     },
     "489be051c28a4f8c84f5ace5842329ae": {
      "model_module": "@jupyter-widgets/base",
      "model_module_version": "1.2.0",
      "model_name": "LayoutModel",
      "state": {
       "width": "250px"
      }
     },
     "489ebf6b3f254d0bb2b1a3ab704d5ea6": {
      "model_module": "@jupyter-widgets/controls",
      "model_module_version": "1.5.0",
      "model_name": "HBoxModel",
      "state": {
       "children": [
        "IPY_MODEL_ddec30f95cdd4705b388c329656cff71"
       ],
       "layout": "IPY_MODEL_be5b5ac8930e4691bf489f645266f7ca"
      }
     },
     "48d6e592acd041f7b08985e3bf6d79c7": {
      "model_module": "@jupyter-widgets/base",
      "model_module_version": "1.2.0",
      "model_name": "LayoutModel",
      "state": {}
     },
     "48d78887897d40bd8360ba825483b4c9": {
      "model_module": "@jupyter-widgets/base",
      "model_module_version": "1.2.0",
      "model_name": "LayoutModel",
      "state": {}
     },
     "48fa8cf819fe4602b91ad21c9659a383": {
      "model_module": "@jupyter-widgets/base",
      "model_module_version": "1.2.0",
      "model_name": "LayoutModel",
      "state": {}
     },
     "490857126f4f4545ac1cd53695149c9a": {
      "model_module": "@jupyter-widgets/controls",
      "model_module_version": "1.5.0",
      "model_name": "ButtonStyleModel",
      "state": {}
     },
     "496c6218481048d9b3600815b4cc9a02": {
      "model_module": "@jupyter-widgets/controls",
      "model_module_version": "1.5.0",
      "model_name": "ButtonModel",
      "state": {
       "description": "Keine der Alternativen",
       "layout": "IPY_MODEL_863505f5a65b4928b741e3f28a25e71d",
       "style": "IPY_MODEL_779b32cda35f45888d2cefd70338ec92"
      }
     },
     "49849b555c7b487b96e84f7198d2fca6": {
      "model_module": "@jupyter-widgets/controls",
      "model_module_version": "1.5.0",
      "model_name": "ButtonModel",
      "state": {
       "description": "Korrekt?",
       "layout": "IPY_MODEL_9d67976e623845c6b326397ce5708cd5",
       "style": "IPY_MODEL_de8ecc022da945e3a49ece6fc4491ed9"
      }
     },
     "4997f7bb5bff46eb817a1f3b0b848154": {
      "model_module": "@jupyter-widgets/base",
      "model_module_version": "1.2.0",
      "model_name": "LayoutModel",
      "state": {}
     },
     "49a9cf7278844b17b29a06f0a1ad24b9": {
      "model_module": "@jupyter-widgets/controls",
      "model_module_version": "1.5.0",
      "model_name": "ButtonModel",
      "state": {
       "description": "Keine der Alternativen",
       "layout": "IPY_MODEL_daa9a8dd1f4449779f187f545f9d71f8",
       "style": "IPY_MODEL_186a7232a881412b9f4c02d357d9a9a6"
      }
     },
     "49bb2e3130e04c479221021f6fa97a46": {
      "model_module": "@jupyter-widgets/controls",
      "model_module_version": "1.5.0",
      "model_name": "CheckboxModel",
      "state": {
       "description": "Reduce",
       "disabled": false,
       "layout": "IPY_MODEL_1cd3f1dd20f54f5ab3dcf1778212d9ed",
       "style": "IPY_MODEL_f48391f5d1904cb0858a10d9e8d3b26d",
       "value": false
      }
     },
     "49cb496b0d5949a58fb3d0e0defae6f1": {
      "model_module": "@jupyter-widgets/base",
      "model_module_version": "1.2.0",
      "model_name": "LayoutModel",
      "state": {
       "width": "600px"
      }
     },
     "49cfe53dc8b14d7ba51bc991a303deb3": {
      "model_module": "@jupyter-widgets/controls",
      "model_module_version": "1.5.0",
      "model_name": "ButtonModel",
      "state": {
       "description": "Predict",
       "layout": "IPY_MODEL_f3ee8ecba895457a8c2076de214f108e",
       "style": "IPY_MODEL_4df800d490ed4aa9b6621474ccd7154e"
      }
     },
     "4a0d9578c9bd432f8fdf26e4c16ce567": {
      "model_module": "@jupyter-widgets/base",
      "model_module_version": "1.2.0",
      "model_name": "LayoutModel",
      "state": {}
     },
     "4a2070d6b4b74d30b5fb531785d027db": {
      "model_module": "@jupyter-widgets/controls",
      "model_module_version": "1.5.0",
      "model_name": "VBoxModel",
      "state": {
       "children": [
        "IPY_MODEL_bcf7adc51cda45389a6c8280285b00ef",
        "IPY_MODEL_b128bd7f987a4325b93991a873a7d32e",
        "IPY_MODEL_d19c193010354815a6d756742998619b",
        "IPY_MODEL_a05c18a9df02417b82a613596683106b"
       ],
       "layout": "IPY_MODEL_acfb6124482843f5a5326b6e2099e1b3"
      }
     },
     "4a341ff7fb46452faaa1644e8edb36cf": {
      "model_module": "@jupyter-widgets/controls",
      "model_module_version": "1.5.0",
      "model_name": "ButtonStyleModel",
      "state": {}
     },
     "4a8bbbf4ae384914ad090938f74447a2": {
      "model_module": "@jupyter-widgets/base",
      "model_module_version": "1.2.0",
      "model_name": "LayoutModel",
      "state": {}
     },
     "4aa94289c0404862b581251252e8d80f": {
      "model_module": "@jupyter-widgets/controls",
      "model_module_version": "1.5.0",
      "model_name": "HBoxModel",
      "state": {
       "children": [
        "IPY_MODEL_d21c4d5a7e9242789d785c7f93e4d399",
        "IPY_MODEL_d771a8e2d78a470ba49d1f50fdabef1e"
       ],
       "layout": "IPY_MODEL_5d44b03b88c2482990765826ac7b1370"
      }
     },
     "4ad36a93f26a4074a29658306471665f": {
      "model_module": "@jupyter-widgets/controls",
      "model_module_version": "1.5.0",
      "model_name": "ButtonModel",
      "state": {
       "description": "Korrekt?",
       "layout": "IPY_MODEL_705a9c7de7fe4465b5a7da68e583ecb5",
       "style": "IPY_MODEL_4db43c58b5dd46b1acfc2681216876d5"
      }
     },
     "4b1f967c424e4327a64409badad8ac81": {
      "model_module": "@jupyter-widgets/controls",
      "model_module_version": "1.5.0",
      "model_name": "ButtonStyleModel",
      "state": {}
     },
     "4ba187eb15144b65a0d0246cf98fc3e3": {
      "model_module": "@jupyter-widgets/base",
      "model_module_version": "1.2.0",
      "model_name": "LayoutModel",
      "state": {}
     },
     "4c10d223295b4d16a1d79f1a066a4ab9": {
      "model_module": "@jupyter-widgets/controls",
      "model_module_version": "1.5.0",
      "model_name": "HTMLModel",
      "state": {
       "layout": "IPY_MODEL_488b4d2d976d410496d11c9a482e8fa5",
       "style": "IPY_MODEL_6389b7942b6a4bc5b7e43300cbbf5c00",
       "value": "<i>Wählen Sie die <ins>eine</ins> korrekte Antwort aus: </i>"
      }
     },
     "4c1f7495125749ab85c6eac9c9f8a0b5": {
      "model_module": "@jupyter-widgets/base",
      "model_module_version": "1.2.0",
      "model_name": "LayoutModel",
      "state": {}
     },
     "4c51b626ac2646e0a2857feeb235d716": {
      "model_module": "@jupyter-widgets/controls",
      "model_module_version": "1.5.0",
      "model_name": "ButtonModel",
      "state": {
       "description": "Predict",
       "layout": "IPY_MODEL_785c0bd243774280a2bbb6cccc4c61bc",
       "style": "IPY_MODEL_d857c4c94a2e47dd91e000aae7c45e09"
      }
     },
     "4cb8f114ab504a239e81a47189972830": {
      "model_module": "@jupyter-widgets/base",
      "model_module_version": "1.2.0",
      "model_name": "LayoutModel",
      "state": {
       "width": "250px"
      }
     },
     "4cc513dbe4a4482b98ace07852c1a31d": {
      "model_module": "@jupyter-widgets/controls",
      "model_module_version": "1.5.0",
      "model_name": "ButtonModel",
      "state": {
       "description": "Scan",
       "layout": "IPY_MODEL_e3dac0a3ddd5451c8bb13901d93948e4",
       "style": "IPY_MODEL_ba5cd3ffa39b4fa1b7d866928aab996a"
      }
     },
     "4cc700384381481e876228e3448cdb29": {
      "model_module": "@jupyter-widgets/controls",
      "model_module_version": "1.5.0",
      "model_name": "ButtonModel",
      "state": {
       "description": "Complete",
       "layout": "IPY_MODEL_6fea35701be847ab9fb2e9b9e110edd8",
       "style": "IPY_MODEL_ce7993d27d7d475d8d30c6cf2ceb1d84"
      }
     },
     "4d3b0a4ea6354a638b70ef7a4bc45c7c": {
      "model_module": "@jupyter-widgets/controls",
      "model_module_version": "1.5.0",
      "model_name": "ButtonStyleModel",
      "state": {}
     },
     "4da447536dc64f43833fe0cd869a8625": {
      "model_module": "@jupyter-widgets/controls",
      "model_module_version": "1.5.0",
      "model_name": "DescriptionStyleModel",
      "state": {
       "description_width": ""
      }
     },
     "4db43c58b5dd46b1acfc2681216876d5": {
      "model_module": "@jupyter-widgets/controls",
      "model_module_version": "1.5.0",
      "model_name": "ButtonStyleModel",
      "state": {}
     },
     "4db57df32c544104afed2fb41d19d02d": {
      "model_module": "@jupyter-widgets/base",
      "model_module_version": "1.2.0",
      "model_name": "LayoutModel",
      "state": {
       "width": "250px"
      }
     },
     "4dcdf715f5e043a2a69589347a65f8a4": {
      "model_module": "@jupyter-widgets/base",
      "model_module_version": "1.2.0",
      "model_name": "LayoutModel",
      "state": {
       "width": "250px"
      }
     },
     "4dd42171142c4f92a7f5d8123917da0c": {
      "model_module": "@jupyter-widgets/base",
      "model_module_version": "1.2.0",
      "model_name": "LayoutModel",
      "state": {}
     },
     "4df800d490ed4aa9b6621474ccd7154e": {
      "model_module": "@jupyter-widgets/controls",
      "model_module_version": "1.5.0",
      "model_name": "ButtonStyleModel",
      "state": {}
     },
     "4e4ecbb8d1034338b8b25e1818745a5d": {
      "model_module": "@jupyter-widgets/controls",
      "model_module_version": "1.5.0",
      "model_name": "ButtonStyleModel",
      "state": {}
     },
     "4e8f36d1f0c64c60bf64e6f96af698a5": {
      "model_module": "@jupyter-widgets/controls",
      "model_module_version": "1.5.0",
      "model_name": "DescriptionStyleModel",
      "state": {
       "description_width": ""
      }
     },
     "4ea03b40591240c3b38abe74b9066dce": {
      "model_module": "@jupyter-widgets/controls",
      "model_module_version": "1.5.0",
      "model_name": "ButtonStyleModel",
      "state": {}
     },
     "4f0d2b50ea614009ad124deabe29a7cf": {
      "model_module": "@jupyter-widgets/controls",
      "model_module_version": "1.5.0",
      "model_name": "DescriptionStyleModel",
      "state": {
       "description_width": ""
      }
     },
     "4f47f321831c45c48a0766ff5f18e146": {
      "model_module": "@jupyter-widgets/base",
      "model_module_version": "1.2.0",
      "model_name": "LayoutModel",
      "state": {
       "width": "250px"
      }
     },
     "4f5c726eb4cb46f3a3d93989231cf27e": {
      "model_module": "@jupyter-widgets/base",
      "model_module_version": "1.2.0",
      "model_name": "LayoutModel",
      "state": {
       "justify_content": "center"
      }
     },
     "4f772ebe780340308ced61a7d6b71024": {
      "model_module": "@jupyter-widgets/base",
      "model_module_version": "1.2.0",
      "model_name": "LayoutModel",
      "state": {
       "width": "250px"
      }
     },
     "4f84ea563cae4e11b0ac782b73398bbe": {
      "model_module": "@jupyter-widgets/base",
      "model_module_version": "1.2.0",
      "model_name": "LayoutModel",
      "state": {}
     },
     "4f8bf10a35534c7fb228621a0a093ec8": {
      "model_module": "@jupyter-widgets/controls",
      "model_module_version": "1.5.0",
      "model_name": "ButtonStyleModel",
      "state": {}
     },
     "50283de383ff41ebacaee521fc638cce": {
      "model_module": "@jupyter-widgets/controls",
      "model_module_version": "1.5.0",
      "model_name": "ButtonModel",
      "state": {
       "description": "Reduce",
       "layout": "IPY_MODEL_cc5f8c7ca98a4f889c65e68ef2cf29f8",
       "style": "IPY_MODEL_47b78e630005448cacbc1d0804d1be22"
      }
     },
     "5029d6b6a1694d5095a50c226e35dd6d": {
      "model_module": "@jupyter-widgets/controls",
      "model_module_version": "1.5.0",
      "model_name": "DescriptionStyleModel",
      "state": {
       "description_width": "initial"
      }
     },
     "503f216f7e6f40538922bff285f3185f": {
      "model_module": "@jupyter-widgets/controls",
      "model_module_version": "1.5.0",
      "model_name": "DescriptionStyleModel",
      "state": {
       "description_width": "initial"
      }
     },
     "503f2a96ec314b5e931847a3eac4c4fc": {
      "model_module": "@jupyter-widgets/base",
      "model_module_version": "1.2.0",
      "model_name": "LayoutModel",
      "state": {
       "justify_content": "center"
      }
     },
     "503fa41b4f09473fbc81ffc2541c7cdd": {
      "model_module": "@jupyter-widgets/base",
      "model_module_version": "1.2.0",
      "model_name": "LayoutModel",
      "state": {}
     },
     "50452d715d72470abbf9836e715d2bb2": {
      "model_module": "@jupyter-widgets/base",
      "model_module_version": "1.2.0",
      "model_name": "LayoutModel",
      "state": {
       "width": "250px"
      }
     },
     "50504fd3794d4535b3c9b674a60dc796": {
      "model_module": "@jupyter-widgets/controls",
      "model_module_version": "1.5.0",
      "model_name": "CheckboxModel",
      "state": {
       "description": "Complete",
       "disabled": false,
       "layout": "IPY_MODEL_b164c46d100f41f4876a9ffacd8778ce",
       "style": "IPY_MODEL_e5b29ba96ae24c9f826353a43f8ec3a6",
       "value": false
      }
     },
     "50696466d2c44553b9543eb3ada55c36": {
      "model_module": "@jupyter-widgets/controls",
      "model_module_version": "1.5.0",
      "model_name": "ButtonStyleModel",
      "state": {}
     },
     "5082d10bcf7c4ff78c31412eb36dbd22": {
      "model_module": "@jupyter-widgets/base",
      "model_module_version": "1.2.0",
      "model_name": "LayoutModel",
      "state": {}
     },
     "509ce84af1094a408aa4eea8feef9887": {
      "model_module": "@jupyter-widgets/base",
      "model_module_version": "1.2.0",
      "model_name": "LayoutModel",
      "state": {
       "width": "250px"
      }
     },
     "50bf0f27f0a4419189e81eee2c8ac734": {
      "model_module": "@jupyter-widgets/base",
      "model_module_version": "1.2.0",
      "model_name": "LayoutModel",
      "state": {
       "justify_content": "center"
      }
     },
     "5107759598094c1f9098d0ce7112204d": {
      "model_module": "@jupyter-widgets/controls",
      "model_module_version": "1.5.0",
      "model_name": "HBoxModel",
      "state": {
       "children": [
        "IPY_MODEL_f468440ebcde4f1ca8b58aa2e0016e8a",
        "IPY_MODEL_e481cb06fc6446f485f4e32558b803ac"
       ],
       "layout": "IPY_MODEL_791955c8ad9345e6b022f90bb4c4509e"
      }
     },
     "510baf357a5f437490fc7928c062d8b3": {
      "model_module": "@jupyter-widgets/controls",
      "model_module_version": "1.5.0",
      "model_name": "ButtonStyleModel",
      "state": {}
     },
     "5176fe6f2c394e048ddb84337421b32f": {
      "model_module": "@jupyter-widgets/base",
      "model_module_version": "1.2.0",
      "model_name": "LayoutModel",
      "state": {}
     },
     "51890ca640724f328a835caf4206a266": {
      "model_module": "@jupyter-widgets/base",
      "model_module_version": "1.2.0",
      "model_name": "LayoutModel",
      "state": {
       "width": "250px"
      }
     },
     "518cd16186d2487d9c3b2d703d8aeb59": {
      "model_module": "@jupyter-widgets/base",
      "model_module_version": "1.2.0",
      "model_name": "LayoutModel",
      "state": {
       "justify_content": "center"
      }
     },
     "51b056c331084318bc22d0d80258cd60": {
      "model_module": "@jupyter-widgets/controls",
      "model_module_version": "1.5.0",
      "model_name": "HBoxModel",
      "state": {
       "children": [
        "IPY_MODEL_cd6391d9c8a143ae99a9faeeb532a201"
       ],
       "layout": "IPY_MODEL_d005509cb03f4a568dae90a8749da585"
      }
     },
     "51b7af83fbd744ea8433944c7a44c451": {
      "model_module": "@jupyter-widgets/controls",
      "model_module_version": "1.5.0",
      "model_name": "ButtonModel",
      "state": {
       "description": "Complete",
       "layout": "IPY_MODEL_f39794f5cfec4517a175b42dab99ee17",
       "style": "IPY_MODEL_a8f8b1331fe84297a520d7f41bed2f50"
      }
     },
     "51ba236ebc574c4ebaa5c0afa8be6ff9": {
      "model_module": "@jupyter-widgets/controls",
      "model_module_version": "1.5.0",
      "model_name": "ButtonModel",
      "state": {
       "description": "Reduce",
       "layout": "IPY_MODEL_d5931bf8f7004ef2bd6d1f0e1612d385",
       "style": "IPY_MODEL_0c72ad81473f49e181d920d80cccd4e9"
      }
     },
     "51f5d6c44e1146409a7d699d4680d2e9": {
      "model_module": "@jupyter-widgets/controls",
      "model_module_version": "1.5.0",
      "model_name": "HTMLModel",
      "state": {
       "layout": "IPY_MODEL_38f22f0b1204456bac01fd69d2898b89",
       "style": "IPY_MODEL_a4eba6aa48e54e97b40e36dd1a977679",
       "value": "<h4 style=\"font-size:14px;\">Welche Operation folgt als nächstes?</h4>"
      }
     },
     "524cd521ea224d2593e637acddb8573b": {
      "model_module": "@jupyter-widgets/base",
      "model_module_version": "1.2.0",
      "model_name": "LayoutModel",
      "state": {}
     },
     "528fe41f0ac7400a8acce85b6f0b8f57": {
      "model_module": "@jupyter-widgets/controls",
      "model_module_version": "1.5.0",
      "model_name": "DescriptionStyleModel",
      "state": {
       "description_width": ""
      }
     },
     "52def1b9583f442c90c657a0bb84c612": {
      "model_module": "@jupyter-widgets/controls",
      "model_module_version": "1.5.0",
      "model_name": "HBoxModel",
      "state": {
       "children": [
        "IPY_MODEL_5590bf58c3994304b580bc204d44737c",
        "IPY_MODEL_b80d8730a07b4adf872ec88e07778d0f"
       ],
       "layout": "IPY_MODEL_a40a2557ef384273a72c8e5b71e078cc"
      }
     },
     "5321c959c3474aed8877467147e3e77d": {
      "model_module": "@jupyter-widgets/controls",
      "model_module_version": "1.5.0",
      "model_name": "HBoxModel",
      "state": {
       "children": [
        "IPY_MODEL_9a9e6c1eb39c42eca1e0a04bf7d81938"
       ],
       "layout": "IPY_MODEL_ab60e73005dc4d25a68edd47e9af3b49"
      }
     },
     "533242bbe3a1487d8c3b9b4e6ef14c5a": {
      "model_module": "@jupyter-widgets/controls",
      "model_module_version": "1.5.0",
      "model_name": "DescriptionStyleModel",
      "state": {
       "description_width": ""
      }
     },
     "53ea0bdeaa1c4a3daeb6ab2cb8a8b79d": {
      "model_module": "@jupyter-widgets/controls",
      "model_module_version": "1.5.0",
      "model_name": "ButtonStyleModel",
      "state": {}
     },
     "542820ba5d5346a19ae0835b68d11eeb": {
      "model_module": "@jupyter-widgets/base",
      "model_module_version": "1.2.0",
      "model_name": "LayoutModel",
      "state": {
       "width": "250px"
      }
     },
     "543728f0fcc44341a1fcf6c779b3a444": {
      "model_module": "@jupyter-widgets/controls",
      "model_module_version": "1.5.0",
      "model_name": "DescriptionStyleModel",
      "state": {
       "description_width": ""
      }
     },
     "543d934727214351ba98372f71a9fe93": {
      "model_module": "@jupyter-widgets/controls",
      "model_module_version": "1.5.0",
      "model_name": "ButtonModel",
      "state": {
       "description": "Complete",
       "layout": "IPY_MODEL_97fd79d6d228480599cfbcd8f0f4e3fe",
       "style": "IPY_MODEL_d5a78775eaab478981717a1e3d4e52aa"
      }
     },
     "546c268508214cf3831d2143c6fc6bf1": {
      "model_module": "@jupyter-widgets/base",
      "model_module_version": "1.2.0",
      "model_name": "LayoutModel",
      "state": {
       "justify_content": "center"
      }
     },
     "54945f1e1bce4729a76aeb86a12fe200": {
      "model_module": "@jupyter-widgets/controls",
      "model_module_version": "1.5.0",
      "model_name": "ButtonModel",
      "state": {
       "description": "Complete",
       "layout": "IPY_MODEL_c712401ef2114537aacf77f04b2d7f62",
       "style": "IPY_MODEL_c4146829867c44d7999d84e530ff5026"
      }
     },
     "54a8858cc0dd49d494275777634bb8c1": {
      "model_module": "@jupyter-widgets/controls",
      "model_module_version": "1.5.0",
      "model_name": "ButtonModel",
      "state": {
       "description": "Predict",
       "layout": "IPY_MODEL_719f9ec3b8134af3a4331ab40bbe3906",
       "style": "IPY_MODEL_41cbe0dd642c46afb3c59e1e9417518b"
      }
     },
     "54c076621223480fb4ad1ceac4434288": {
      "model_module": "@jupyter-widgets/base",
      "model_module_version": "1.2.0",
      "model_name": "LayoutModel",
      "state": {}
     },
     "54cae605f213402897fae9a90f867540": {
      "model_module": "@jupyter-widgets/base",
      "model_module_version": "1.2.0",
      "model_name": "LayoutModel",
      "state": {}
     },
     "54e3a75cf58948f99cb592f60e4a206c": {
      "model_module": "@jupyter-widgets/base",
      "model_module_version": "1.2.0",
      "model_name": "LayoutModel",
      "state": {
       "width": "250px"
      }
     },
     "54e842b62c99419ab0ca852166d737e2": {
      "model_module": "@jupyter-widgets/controls",
      "model_module_version": "1.5.0",
      "model_name": "DescriptionStyleModel",
      "state": {
       "description_width": ""
      }
     },
     "5506eb5812ff421a9730bcbfe768c3c1": {
      "model_module": "@jupyter-widgets/controls",
      "model_module_version": "1.5.0",
      "model_name": "HBoxModel",
      "state": {
       "children": [
        "IPY_MODEL_edc366ee0eba4a75929ad16ea618506c"
       ],
       "layout": "IPY_MODEL_5176fe6f2c394e048ddb84337421b32f"
      }
     },
     "55154884bdc1403aa33846ef521103e2": {
      "model_module": "@jupyter-widgets/base",
      "model_module_version": "1.2.0",
      "model_name": "LayoutModel",
      "state": {
       "width": "250px"
      }
     },
     "551baf4f83f0452087cbd94acc4c6165": {
      "model_module": "@jupyter-widgets/controls",
      "model_module_version": "1.5.0",
      "model_name": "CheckboxModel",
      "state": {
       "description": "Scan",
       "disabled": false,
       "layout": "IPY_MODEL_b4b81d5bcdc94e45924f89a79cf18571",
       "style": "IPY_MODEL_3ca6c8dcc7674620a74421d814ee7c40",
       "value": false
      }
     },
     "55232b6df6fb4040b7bf7c627d4c28b6": {
      "model_module": "@jupyter-widgets/controls",
      "model_module_version": "1.5.0",
      "model_name": "HBoxModel",
      "state": {
       "children": [
        "IPY_MODEL_c32e63ac6c824c7188258f2b4fcbe161",
        "IPY_MODEL_9461997108974fd882ebbf7bdef8b189"
       ],
       "layout": "IPY_MODEL_6e467df970eb4e6dbd5852d6916d8eb2"
      }
     },
     "553e2cbfdf3c4db1a21d3e4ba9807938": {
      "model_module": "@jupyter-widgets/base",
      "model_module_version": "1.2.0",
      "model_name": "LayoutModel",
      "state": {
       "justify_content": "center"
      }
     },
     "5590bf58c3994304b580bc204d44737c": {
      "model_module": "@jupyter-widgets/controls",
      "model_module_version": "1.5.0",
      "model_name": "ButtonModel",
      "state": {
       "description": "Complete",
       "layout": "IPY_MODEL_9a7b762d774043e482746cd6b34fe6de",
       "style": "IPY_MODEL_5e0e645081cc42fd8e50de1a8c552421"
      }
     },
     "5597ded2a627449e93c4d6ee09aea835": {
      "model_module": "@jupyter-widgets/controls",
      "model_module_version": "1.5.0",
      "model_name": "HTMLModel",
      "state": {
       "layout": "IPY_MODEL_017019750c784566bff916a60b6042ff",
       "style": "IPY_MODEL_9d515838fd2444d5b19eac3211e987ce",
       "value": "<h4 style=\"font-size:14px;\">Um welchen Parser handelt es sich?</h4>"
      }
     },
     "55c0a94aed2c4ad89d2c59d06f586a3f": {
      "model_module": "@jupyter-widgets/controls",
      "model_module_version": "1.5.0",
      "model_name": "ButtonStyleModel",
      "state": {}
     },
     "5631eb8904ec4692b0a657f5c47ce8d4": {
      "model_module": "@jupyter-widgets/controls",
      "model_module_version": "1.5.0",
      "model_name": "ButtonModel",
      "state": {
       "description": "Reduce",
       "layout": "IPY_MODEL_d3db7fdddea544d8ae01317e247e38af",
       "style": "IPY_MODEL_8aa92a845356423fbb02eb49fe20c56c"
      }
     },
     "566f6f0413c0431f91d3519556a94810": {
      "model_module": "@jupyter-widgets/base",
      "model_module_version": "1.2.0",
      "model_name": "LayoutModel",
      "state": {
       "width": "250px"
      }
     },
     "5677e0e3ef9e46c8b08e430dcedf4811": {
      "model_module": "@jupyter-widgets/controls",
      "model_module_version": "1.5.0",
      "model_name": "HBoxModel",
      "state": {
       "children": [
        "IPY_MODEL_3e81f225ac1b443097ccbff5cff89daf",
        "IPY_MODEL_7585f5d9f0c44b79897d772a847f1ee2"
       ],
       "layout": "IPY_MODEL_0c990db8a58d4f1eb2f0eea48154a335"
      }
     },
     "5692c80efb1242aa96de5739537070e5": {
      "model_module": "@jupyter-widgets/base",
      "model_module_version": "1.2.0",
      "model_name": "LayoutModel",
      "state": {
       "width": "600px"
      }
     },
     "569955ebea7548539e09fadda27832b6": {
      "model_module": "@jupyter-widgets/controls",
      "model_module_version": "1.5.0",
      "model_name": "HTMLModel",
      "state": {
       "layout": "IPY_MODEL_ddb5f2e282104f3380844770db17d48e",
       "style": "IPY_MODEL_eff913b7b05c439584d5a2f645f9c0c3",
       "value": "<i>Wählen Sie die <ins>eine</ins> korrekte Antwort aus: </i>"
      }
     },
     "56bc88c2733d4a8088325ef067774330": {
      "model_module": "@jupyter-widgets/controls",
      "model_module_version": "1.5.0",
      "model_name": "DescriptionStyleModel",
      "state": {
       "description_width": ""
      }
     },
     "56beeb2d82a74fb2846d7dc51503350b": {
      "model_module": "@jupyter-widgets/base",
      "model_module_version": "1.2.0",
      "model_name": "LayoutModel",
      "state": {
       "width": "250px"
      }
     },
     "56c49cf14d554e3980eb01b0ea5aae8d": {
      "model_module": "@jupyter-widgets/base",
      "model_module_version": "1.2.0",
      "model_name": "LayoutModel",
      "state": {}
     },
     "56c82376bc7246aaabbea17f8369b1cd": {
      "model_module": "@jupyter-widgets/controls",
      "model_module_version": "1.5.0",
      "model_name": "ButtonStyleModel",
      "state": {}
     },
     "56ee36d0e35f459086d2db9bc4f89e66": {
      "model_module": "@jupyter-widgets/controls",
      "model_module_version": "1.5.0",
      "model_name": "VBoxModel",
      "state": {
       "children": [
        "IPY_MODEL_6e0600b585424def85846104fdba0a48",
        "IPY_MODEL_f6bf8e44cb08496487652270ca960af4",
        "IPY_MODEL_84b1a157da214477baf01037395e885b",
        "IPY_MODEL_e6ecedfeac154fff89d7b5f22692004a",
        "IPY_MODEL_9f040b7d5d75494c8dcd0409b423ad70"
       ],
       "layout": "IPY_MODEL_16b84a8309014096a8d0419d56294466"
      }
     },
     "56f3cf07911e4f93a0fdfac2de379398": {
      "model_module": "@jupyter-widgets/controls",
      "model_module_version": "1.5.0",
      "model_name": "ButtonStyleModel",
      "state": {}
     },
     "570f930da5ec49fda180be5fad1c537c": {
      "model_module": "@jupyter-widgets/controls",
      "model_module_version": "1.5.0",
      "model_name": "ButtonStyleModel",
      "state": {}
     },
     "57337cec83ee44d7bec6c31cc03c33f2": {
      "model_module": "@jupyter-widgets/base",
      "model_module_version": "1.2.0",
      "model_name": "LayoutModel",
      "state": {
       "width": "250px"
      }
     },
     "5751d23c8eaf4a3c8301daefe572f3a1": {
      "model_module": "@jupyter-widgets/base",
      "model_module_version": "1.2.0",
      "model_name": "LayoutModel",
      "state": {
       "width": "250px"
      }
     },
     "576531e01910404fbf5b46acb663caf1": {
      "model_module": "@jupyter-widgets/base",
      "model_module_version": "1.2.0",
      "model_name": "LayoutModel",
      "state": {}
     },
     "5770f4b58b39457cb0609d464983540b": {
      "model_module": "@jupyter-widgets/base",
      "model_module_version": "1.2.0",
      "model_name": "LayoutModel",
      "state": {
       "justify_content": "center"
      }
     },
     "5791d1b90c374134924c8bb262627115": {
      "model_module": "@jupyter-widgets/base",
      "model_module_version": "1.2.0",
      "model_name": "LayoutModel",
      "state": {
       "width": "250px"
      }
     },
     "58115271815d4388a8c1f851490b74ab": {
      "model_module": "@jupyter-widgets/base",
      "model_module_version": "1.2.0",
      "model_name": "LayoutModel",
      "state": {
       "width": "250px"
      }
     },
     "5824d94971e04099931daaa43df795e1": {
      "model_module": "@jupyter-widgets/controls",
      "model_module_version": "1.5.0",
      "model_name": "CheckboxModel",
      "state": {
       "description": "Complete",
       "disabled": false,
       "layout": "IPY_MODEL_20065b2064574b57b3d747c845c27edf",
       "style": "IPY_MODEL_751d93d531c84b8fbe9823839855f636",
       "value": false
      }
     },
     "583054a4c86e4602aa5442c44825aade": {
      "model_module": "@jupyter-widgets/controls",
      "model_module_version": "1.5.0",
      "model_name": "HBoxModel",
      "state": {
       "children": [
        "IPY_MODEL_a5ab88ed9e604f269bfe30318e36043e",
        "IPY_MODEL_473fde9c76624814a21240f929d88b19"
       ],
       "layout": "IPY_MODEL_e1ecb501e7df486499d3470e13de6abb"
      }
     },
     "583e7ac179114054b28deddf3bc8fd03": {
      "model_module": "@jupyter-widgets/controls",
      "model_module_version": "1.5.0",
      "model_name": "ButtonModel",
      "state": {
       "description": "Complete",
       "layout": "IPY_MODEL_88891e1dd8d4407082a6bedf9e5db33b",
       "style": "IPY_MODEL_350092141445426690241df25daab95d"
      }
     },
     "583fdeb3e18844c9b283e1c4d83a2683": {
      "model_module": "@jupyter-widgets/controls",
      "model_module_version": "1.5.0",
      "model_name": "ButtonModel",
      "state": {
       "description": "Predict",
       "layout": "IPY_MODEL_034f264d815c4502bac74639d2797b5b",
       "style": "IPY_MODEL_e62ed837761b45dfa683aca7efcc48ac"
      }
     },
     "58449376535a450686a1e6bcd7fbf079": {
      "model_module": "@jupyter-widgets/base",
      "model_module_version": "1.2.0",
      "model_name": "LayoutModel",
      "state": {
       "width": "250px"
      }
     },
     "5870a4b7d2f34f478766ef3e863cfded": {
      "model_module": "@jupyter-widgets/base",
      "model_module_version": "1.2.0",
      "model_name": "LayoutModel",
      "state": {
       "width": "250px"
      }
     },
     "5896c214ca4c4a8eb883d88c23761a59": {
      "model_module": "@jupyter-widgets/base",
      "model_module_version": "1.2.0",
      "model_name": "LayoutModel",
      "state": {
       "width": "250px"
      }
     },
     "58a1b9665de449c99e8c1ffe82c8b9ed": {
      "model_module": "@jupyter-widgets/controls",
      "model_module_version": "1.5.0",
      "model_name": "HTMLModel",
      "state": {
       "layout": "IPY_MODEL_d9da488b70a8441a9f4de09b25086748",
       "style": "IPY_MODEL_f24c6f4ba9a9492faa3a24d3878d17d6",
       "value": "<h4 style=\"font-size:14px;\">Welche Operation folgt als nächstes?</h4>"
      }
     },
     "58a74a959ea646218b5dc3a348fccc08": {
      "model_module": "@jupyter-widgets/base",
      "model_module_version": "1.2.0",
      "model_name": "LayoutModel",
      "state": {
       "width": "250px"
      }
     },
     "5904666a05f245109bc95addb6295f2e": {
      "model_module": "@jupyter-widgets/controls",
      "model_module_version": "1.5.0",
      "model_name": "DescriptionStyleModel",
      "state": {
       "description_width": ""
      }
     },
     "59093dfff718433cbfe55b396792339e": {
      "model_module": "@jupyter-widgets/controls",
      "model_module_version": "1.5.0",
      "model_name": "ButtonModel",
      "state": {
       "description": "Reduce",
       "layout": "IPY_MODEL_0ccd6357ff654c5aa41b2abe14195284",
       "style": "IPY_MODEL_dc6ae8b4c9364640a7365ebf206c67e0"
      }
     },
     "591e38f71e6642d48be646ca049a9a37": {
      "model_module": "@jupyter-widgets/base",
      "model_module_version": "1.2.0",
      "model_name": "LayoutModel",
      "state": {}
     },
     "592e6f0ca146439a924352d935800c45": {
      "model_module": "@jupyter-widgets/controls",
      "model_module_version": "1.5.0",
      "model_name": "HBoxModel",
      "state": {
       "children": [
        "IPY_MODEL_7fb3ecdc11f1420c96d0d488317b02b7",
        "IPY_MODEL_e4824b3676cc45a4bf27354c5795d84e"
       ],
       "layout": "IPY_MODEL_3104355bac2246dcb4bfbf5d23f02c82"
      }
     },
     "59478daa06d34c55bc3def8b250d16e8": {
      "model_module": "@jupyter-widgets/controls",
      "model_module_version": "1.5.0",
      "model_name": "ButtonModel",
      "state": {
       "description": "Shift",
       "layout": "IPY_MODEL_764000de0f094eea871d4db33da621e6",
       "style": "IPY_MODEL_f685a42b7a294a5494456dc883fc1e63"
      }
     },
     "59b937f60e514b0aa2c4179d4d8441b4": {
      "model_module": "@jupyter-widgets/base",
      "model_module_version": "1.2.0",
      "model_name": "LayoutModel",
      "state": {
       "width": "250px"
      }
     },
     "59befd33b7854e389ad8d2dafff25a2f": {
      "model_module": "@jupyter-widgets/base",
      "model_module_version": "1.2.0",
      "model_name": "LayoutModel",
      "state": {
       "justify_content": "center"
      }
     },
     "59cb1d96ce944063a8d27d7cb54415ec": {
      "model_module": "@jupyter-widgets/base",
      "model_module_version": "1.2.0",
      "model_name": "LayoutModel",
      "state": {}
     },
     "59d99b95e8054e23be53275f1c1325af": {
      "model_module": "@jupyter-widgets/base",
      "model_module_version": "1.2.0",
      "model_name": "LayoutModel",
      "state": {
       "width": "250px"
      }
     },
     "59e3bdc51b284e018b24b0da8245bca1": {
      "model_module": "@jupyter-widgets/controls",
      "model_module_version": "1.5.0",
      "model_name": "ButtonStyleModel",
      "state": {}
     },
     "59f498ecfd4f452f9156c8dc71a5ecaa": {
      "model_module": "@jupyter-widgets/controls",
      "model_module_version": "1.5.0",
      "model_name": "ButtonModel",
      "state": {
       "description": "Keine der Alternativen",
       "layout": "IPY_MODEL_0b5cd9a36f6445d39ac72a088189c88b",
       "style": "IPY_MODEL_d8bc7585e8eb4356b196f488ab6a2d22"
      }
     },
     "5a05c8e33eae48d0a9dbcac66fa9afc6": {
      "model_module": "@jupyter-widgets/base",
      "model_module_version": "1.2.0",
      "model_name": "LayoutModel",
      "state": {}
     },
     "5a10f88d21234cfd8704274ff3323dd0": {
      "model_module": "@jupyter-widgets/base",
      "model_module_version": "1.2.0",
      "model_name": "LayoutModel",
      "state": {
       "width": "600px"
      }
     },
     "5a2e18cb8bc24f08a7487f1f82325b24": {
      "model_module": "@jupyter-widgets/base",
      "model_module_version": "1.2.0",
      "model_name": "LayoutModel",
      "state": {}
     },
     "5a2f16b26c6348cb8536aad504734991": {
      "model_module": "@jupyter-widgets/base",
      "model_module_version": "1.2.0",
      "model_name": "LayoutModel",
      "state": {}
     },
     "5a742b01e48f42f69cbc4fa3f0da847a": {
      "model_module": "@jupyter-widgets/controls",
      "model_module_version": "1.5.0",
      "model_name": "ButtonStyleModel",
      "state": {}
     },
     "5a939ac436ac424d892abc024531e524": {
      "model_module": "@jupyter-widgets/base",
      "model_module_version": "1.2.0",
      "model_name": "LayoutModel",
      "state": {}
     },
     "5abb9e2a0e5649e0994faa10b08ac34f": {
      "model_module": "@jupyter-widgets/controls",
      "model_module_version": "1.5.0",
      "model_name": "ButtonModel",
      "state": {
       "description": "Complete",
       "layout": "IPY_MODEL_5b0d4829707045db8a7901c88f0d7a1d",
       "style": "IPY_MODEL_edd06e9c909c46ed90721d2e4a4528a8"
      }
     },
     "5ac5f93b39e84246ab75896840752169": {
      "model_module": "@jupyter-widgets/base",
      "model_module_version": "1.2.0",
      "model_name": "LayoutModel",
      "state": {
       "width": "250px"
      }
     },
     "5ac64eb83b054faf9f24623b3098963a": {
      "model_module": "@jupyter-widgets/base",
      "model_module_version": "1.2.0",
      "model_name": "LayoutModel",
      "state": {
       "width": "250px"
      }
     },
     "5ae06d7775f74093be611ac50d4c48fc": {
      "model_module": "@jupyter-widgets/controls",
      "model_module_version": "1.5.0",
      "model_name": "DescriptionStyleModel",
      "state": {
       "description_width": "initial"
      }
     },
     "5b0d4829707045db8a7901c88f0d7a1d": {
      "model_module": "@jupyter-widgets/base",
      "model_module_version": "1.2.0",
      "model_name": "LayoutModel",
      "state": {
       "width": "250px"
      }
     },
     "5b0f1e9e88e141f78246f9045b43f6a1": {
      "model_module": "@jupyter-widgets/controls",
      "model_module_version": "1.5.0",
      "model_name": "HTMLModel",
      "state": {
       "layout": "IPY_MODEL_a7a2ce9258b546df97e8e11f291e9483",
       "style": "IPY_MODEL_a76e0a4065c04fea81b34d83dc9d50e0",
       "value": "<h4 style=\"font-size:14px;\">Welche Operation folgt als nächstes?</h4>"
      }
     },
     "5b47ad3e3279458aafd44ab94ca3ceaf": {
      "model_module": "@jupyter-widgets/base",
      "model_module_version": "1.2.0",
      "model_name": "LayoutModel",
      "state": {
       "justify_content": "center"
      }
     },
     "5b7aceba8de34534b69af91a4b347097": {
      "model_module": "@jupyter-widgets/base",
      "model_module_version": "1.2.0",
      "model_name": "LayoutModel",
      "state": {
       "justify_content": "center"
      }
     },
     "5b886c45237748f1bce61af37ee0db79": {
      "model_module": "@jupyter-widgets/base",
      "model_module_version": "1.2.0",
      "model_name": "LayoutModel",
      "state": {}
     },
     "5b9fb336e03543b7bc9934bd736c0c94": {
      "model_module": "@jupyter-widgets/controls",
      "model_module_version": "1.5.0",
      "model_name": "ButtonStyleModel",
      "state": {}
     },
     "5bfa922e61ed44fda9894e0f4c002351": {
      "model_module": "@jupyter-widgets/base",
      "model_module_version": "1.2.0",
      "model_name": "LayoutModel",
      "state": {
       "justify_content": "center"
      }
     },
     "5c04a52282124af0841c85eb72e67d90": {
      "model_module": "@jupyter-widgets/base",
      "model_module_version": "1.2.0",
      "model_name": "LayoutModel",
      "state": {}
     },
     "5c0d90b707584a58bb56c7116bbb5fe6": {
      "model_module": "@jupyter-widgets/base",
      "model_module_version": "1.2.0",
      "model_name": "LayoutModel",
      "state": {}
     },
     "5c0eb46b9cff4c41a98dfbe63b9e4acc": {
      "model_module": "@jupyter-widgets/controls",
      "model_module_version": "1.5.0",
      "model_name": "HBoxModel",
      "state": {
       "children": [
        "IPY_MODEL_abd95d6b415e485b90de8968676206d8"
       ],
       "layout": "IPY_MODEL_84fe090079d74964a929cdefbe06147b"
      }
     },
     "5c18672671214355a8a4e1b4007d0d97": {
      "model_module": "@jupyter-widgets/controls",
      "model_module_version": "1.5.0",
      "model_name": "CheckboxModel",
      "state": {
       "description": "Shift",
       "disabled": false,
       "layout": "IPY_MODEL_a8a585993deb423ab02b9865b24100f9",
       "style": "IPY_MODEL_2b40772e7f624f629a01768cfcdbdfcb",
       "value": false
      }
     },
     "5ca7369d40fa4645b1a3edbe3ff4f70a": {
      "model_module": "@jupyter-widgets/controls",
      "model_module_version": "1.5.0",
      "model_name": "ButtonModel",
      "state": {
       "description": "Scan",
       "layout": "IPY_MODEL_f7fd73c752814e24a072490d7724bf91",
       "style": "IPY_MODEL_900de85cba6d4b4fbf4b5e52312e45d0"
      }
     },
     "5cab0822f4a44dd0a3d50577db640a17": {
      "model_module": "@jupyter-widgets/controls",
      "model_module_version": "1.5.0",
      "model_name": "ButtonStyleModel",
      "state": {}
     },
     "5cc528aaba4540f09715aa84b8883030": {
      "model_module": "@jupyter-widgets/controls",
      "model_module_version": "1.5.0",
      "model_name": "HBoxModel",
      "state": {
       "children": [
        "IPY_MODEL_97c732d574bf411d91ecedec1a24a209",
        "IPY_MODEL_141d522673134952848751f262ed91c0"
       ],
       "layout": "IPY_MODEL_72106defa7504c56a20534752ebb830b"
      }
     },
     "5ce2b196e38d41c3977b31e4d0139541": {
      "model_module": "@jupyter-widgets/base",
      "model_module_version": "1.2.0",
      "model_name": "LayoutModel",
      "state": {
       "justify_content": "center"
      }
     },
     "5d1a5c36c732463aadc39bef280b8cb9": {
      "model_module": "@jupyter-widgets/base",
      "model_module_version": "1.2.0",
      "model_name": "LayoutModel",
      "state": {
       "width": "250px"
      }
     },
     "5d383c6aa29c4accad9c237b1167a8f0": {
      "model_module": "@jupyter-widgets/controls",
      "model_module_version": "1.5.0",
      "model_name": "ButtonStyleModel",
      "state": {}
     },
     "5d3e4782cce045d68d46a8886c42a83c": {
      "model_module": "@jupyter-widgets/base",
      "model_module_version": "1.2.0",
      "model_name": "LayoutModel",
      "state": {}
     },
     "5d44b03b88c2482990765826ac7b1370": {
      "model_module": "@jupyter-widgets/base",
      "model_module_version": "1.2.0",
      "model_name": "LayoutModel",
      "state": {}
     },
     "5d4be78a45784ace871a314f4822eed4": {
      "model_module": "@jupyter-widgets/controls",
      "model_module_version": "1.5.0",
      "model_name": "ButtonModel",
      "state": {
       "description": "Earley",
       "layout": "IPY_MODEL_1554a03f34444ea4b29fbf5770b63d86",
       "style": "IPY_MODEL_751a2adbd617423d8ed76d1f7da9a718"
      }
     },
     "5d5bd3507d8244768bafd97f895a7097": {
      "model_module": "@jupyter-widgets/controls",
      "model_module_version": "1.5.0",
      "model_name": "ButtonStyleModel",
      "state": {}
     },
     "5d6da248721644f4991eafc23d1bbf7d": {
      "model_module": "@jupyter-widgets/controls",
      "model_module_version": "1.5.0",
      "model_name": "VBoxModel",
      "state": {
       "children": [
        "IPY_MODEL_bb4c64852ca7477e9cbfdb5cf43a85fe",
        "IPY_MODEL_7ee4e1d6de6f411b9ca2094908092b39",
        "IPY_MODEL_052ba7c8b98b45daad2331bde95493cb",
        "IPY_MODEL_345d1ae414c94523b12c952036c3b0b7",
        "IPY_MODEL_9940c1d2856c406aac1438cc99d043e2"
       ],
       "layout": "IPY_MODEL_7fe16a6b9e984fa19099aa3754768a58"
      }
     },
     "5da63ca6a3c74b59b92e3f27296790af": {
      "model_module": "@jupyter-widgets/controls",
      "model_module_version": "1.5.0",
      "model_name": "ButtonStyleModel",
      "state": {}
     },
     "5db274ca817a4be98aaf929261130006": {
      "model_module": "@jupyter-widgets/base",
      "model_module_version": "1.2.0",
      "model_name": "LayoutModel",
      "state": {}
     },
     "5dba07aaf0bb4725bc46580e45374d7c": {
      "model_module": "@jupyter-widgets/controls",
      "model_module_version": "1.5.0",
      "model_name": "ButtonStyleModel",
      "state": {}
     },
     "5dd03130dded4b87be18bd398fdcef13": {
      "model_module": "@jupyter-widgets/controls",
      "model_module_version": "1.5.0",
      "model_name": "HBoxModel",
      "state": {
       "children": [
        "IPY_MODEL_91194502b55c46a4a637db703ea2757f",
        "IPY_MODEL_b5e853c9613548159382641431a5bc64"
       ],
       "layout": "IPY_MODEL_f7b02886fb2d44338a98e529ffab3641"
      }
     },
     "5e0e645081cc42fd8e50de1a8c552421": {
      "model_module": "@jupyter-widgets/controls",
      "model_module_version": "1.5.0",
      "model_name": "ButtonStyleModel",
      "state": {}
     },
     "5e3ec4b9a96549e99e3d0270a33cb767": {
      "model_module": "@jupyter-widgets/controls",
      "model_module_version": "1.5.0",
      "model_name": "VBoxModel",
      "state": {
       "children": [
        "IPY_MODEL_357664defaae42f69e1b86d26d500c87",
        "IPY_MODEL_92910b70c43b4ce78a75168995949eec",
        "IPY_MODEL_3f8b74bdd78441c2aceff32af488328b",
        "IPY_MODEL_1d3e90eb004f409b8f5ae83e53a8bb5a",
        "IPY_MODEL_bf393483247842d58f10826a6d335b8d"
       ],
       "layout": "IPY_MODEL_503fa41b4f09473fbc81ffc2541c7cdd"
      }
     },
     "5e5d5b901ce14b30894e3f6fe04023cd": {
      "model_module": "@jupyter-widgets/controls",
      "model_module_version": "1.5.0",
      "model_name": "ButtonModel",
      "state": {
       "description": "Reduce",
       "layout": "IPY_MODEL_44eeda21d4044d0e9c0c0b2cca3277bb",
       "style": "IPY_MODEL_d9adda2703e74dd1a0ad5f551de00fed"
      }
     },
     "5ed86dd108b94dccb6b44d78008ec00a": {
      "model_module": "@jupyter-widgets/base",
      "model_module_version": "1.2.0",
      "model_name": "LayoutModel",
      "state": {}
     },
     "5edf18dc938347d1ac46c007ce12454d": {
      "model_module": "@jupyter-widgets/base",
      "model_module_version": "1.2.0",
      "model_name": "LayoutModel",
      "state": {
       "width": "600px"
      }
     },
     "5ee3024d9c844eea9c0470ed3221e402": {
      "model_module": "@jupyter-widgets/controls",
      "model_module_version": "1.5.0",
      "model_name": "CheckboxModel",
      "state": {
       "description": "Shift",
       "disabled": false,
       "layout": "IPY_MODEL_f5a39281fde44a6ca3404fe555bee640",
       "style": "IPY_MODEL_1545970d6b06436ea8e1d9e2c0f54da7",
       "value": false
      }
     },
     "5f2de917722b4beeb37b916d8552a724": {
      "model_module": "@jupyter-widgets/controls",
      "model_module_version": "1.5.0",
      "model_name": "VBoxModel",
      "state": {
       "children": [
        "IPY_MODEL_b3f337376d92456bbdcecc76650f6fb7",
        "IPY_MODEL_2391cd827cce44559105e2268122791a",
        "IPY_MODEL_6410f637f73c4060b21b9ef5aa2f4879",
        "IPY_MODEL_1b994761c4d04dc194aec310211ba8e9",
        "IPY_MODEL_700b08d8d50147a2a2963bd10484926b"
       ],
       "layout": "IPY_MODEL_b4cd1dbd37ca4ce9a413079f9fbf6fdc"
      }
     },
     "5fb507f181d4437fbf627a56e817dc24": {
      "model_module": "@jupyter-widgets/controls",
      "model_module_version": "1.5.0",
      "model_name": "VBoxModel",
      "state": {
       "children": [
        "IPY_MODEL_6d239b1eea6042d085ebe8ec4d34cd65",
        "IPY_MODEL_86a1302f1e3845738ec20796fec95815",
        "IPY_MODEL_1befa88e9ab44476bca283ad6c37f53b",
        "IPY_MODEL_3df9dae3ad5b42508febffdbebdbb0ba"
       ],
       "layout": "IPY_MODEL_b31ee53796414f56a0c48b70a68415d7"
      }
     },
     "5fc2e97e80e9493aa3b48f9860fc5cee": {
      "model_module": "@jupyter-widgets/controls",
      "model_module_version": "1.5.0",
      "model_name": "DescriptionStyleModel",
      "state": {
       "description_width": ""
      }
     },
     "5ffa8584448446cd9897f7a2b2e47b54": {
      "model_module": "@jupyter-widgets/controls",
      "model_module_version": "1.5.0",
      "model_name": "CheckboxModel",
      "state": {
       "description": "Shift",
       "disabled": false,
       "layout": "IPY_MODEL_5692c80efb1242aa96de5739537070e5",
       "style": "IPY_MODEL_e599759bd3004b11b11507094c6f5856",
       "value": false
      }
     },
     "602d9cbdf020453395d9eac3617c963d": {
      "model_module": "@jupyter-widgets/base",
      "model_module_version": "1.2.0",
      "model_name": "LayoutModel",
      "state": {
       "width": "250px"
      }
     },
     "6094c196d8344ab5a26bb4f825070f49": {
      "model_module": "@jupyter-widgets/controls",
      "model_module_version": "1.5.0",
      "model_name": "ButtonStyleModel",
      "state": {}
     },
     "61126926a701471486286cf4915de235": {
      "model_module": "@jupyter-widgets/controls",
      "model_module_version": "1.5.0",
      "model_name": "ButtonModel",
      "state": {
       "description": "Predict",
       "layout": "IPY_MODEL_61b4443875574e0eb469f501659e8e55",
       "style": "IPY_MODEL_704b21db2d014b7392a50aa25d1bc250"
      }
     },
     "6114d45ff4af495aadf921875ea434b4": {
      "model_module": "@jupyter-widgets/controls",
      "model_module_version": "1.5.0",
      "model_name": "HBoxModel",
      "state": {
       "children": [
        "IPY_MODEL_eb3fef0208404be2afcf0e85d8ce030f"
       ],
       "layout": "IPY_MODEL_15c0ff6d330b45c38a1b26f090130662"
      }
     },
     "613f3933cadf4c3199f3ca28e9e5ead0": {
      "model_module": "@jupyter-widgets/controls",
      "model_module_version": "1.5.0",
      "model_name": "VBoxModel",
      "state": {
       "children": [
        "IPY_MODEL_7c127293b682417a954e81e350f53c71",
        "IPY_MODEL_05a48eeed9134f66a7a714040307058e",
        "IPY_MODEL_23d38725bb4e4520a90bfd996f115560",
        "IPY_MODEL_18ddde32d16749e4815837dde44777df",
        "IPY_MODEL_2d65d57dd2bc4a67ba2625f540a63b3a"
       ],
       "layout": "IPY_MODEL_c157dbf7c9cf45cf8f16f5780d29cb6a"
      }
     },
     "61892670bf034fc5b04c0f7ed32b949b": {
      "model_module": "@jupyter-widgets/base",
      "model_module_version": "1.2.0",
      "model_name": "LayoutModel",
      "state": {
       "justify_content": "center"
      }
     },
     "61b4443875574e0eb469f501659e8e55": {
      "model_module": "@jupyter-widgets/base",
      "model_module_version": "1.2.0",
      "model_name": "LayoutModel",
      "state": {
       "width": "250px"
      }
     },
     "61b6bef4ee124ae286a63e9d2b0f0eab": {
      "model_module": "@jupyter-widgets/base",
      "model_module_version": "1.2.0",
      "model_name": "LayoutModel",
      "state": {}
     },
     "620e0bf14b5a41f49f263b6ec80f5161": {
      "model_module": "@jupyter-widgets/base",
      "model_module_version": "1.2.0",
      "model_name": "LayoutModel",
      "state": {}
     },
     "6227453a2fcf4020b11a82b31235f72e": {
      "model_module": "@jupyter-widgets/base",
      "model_module_version": "1.2.0",
      "model_name": "LayoutModel",
      "state": {}
     },
     "622d4ebb502344868f5ab3cc585c342f": {
      "model_module": "@jupyter-widgets/controls",
      "model_module_version": "1.5.0",
      "model_name": "ButtonModel",
      "state": {
       "description": "Reduce",
       "layout": "IPY_MODEL_8b8c87e2e92b4a9383ec3320a1a79283",
       "style": "IPY_MODEL_b692bdd750854397b7134e8bfc32244d"
      }
     },
     "6265c203934a42ba9f851659e9d37ff8": {
      "model_module": "@jupyter-widgets/controls",
      "model_module_version": "1.5.0",
      "model_name": "DescriptionStyleModel",
      "state": {
       "description_width": ""
      }
     },
     "62863215abd44cba9bdc3080ad4d78f8": {
      "model_module": "@jupyter-widgets/base",
      "model_module_version": "1.2.0",
      "model_name": "LayoutModel",
      "state": {
       "width": "250px"
      }
     },
     "628c292a00e4495d93725c28702becdc": {
      "model_module": "@jupyter-widgets/controls",
      "model_module_version": "1.5.0",
      "model_name": "ButtonStyleModel",
      "state": {}
     },
     "628ea0f917194e3fa1a1b8bfbd0f2039": {
      "model_module": "@jupyter-widgets/controls",
      "model_module_version": "1.5.0",
      "model_name": "ButtonModel",
      "state": {
       "description": "Scan",
       "layout": "IPY_MODEL_3807b42bd35a4122b8d5e597d8860269",
       "style": "IPY_MODEL_88e1cec12e1e4f88a548380056daacd5"
      }
     },
     "629b0bc3324147189c7e80c506d7a79e": {
      "model_module": "@jupyter-widgets/controls",
      "model_module_version": "1.5.0",
      "model_name": "ButtonModel",
      "state": {
       "description": "Predict",
       "layout": "IPY_MODEL_de23f6eea2964d6aad31cf49adaf00aa",
       "style": "IPY_MODEL_47fad0e035404e599f32beb4639b33ac"
      }
     },
     "62db924ebfb2497aa137f8ceba48267f": {
      "model_module": "@jupyter-widgets/controls",
      "model_module_version": "1.5.0",
      "model_name": "ButtonStyleModel",
      "state": {}
     },
     "63212d36071449b7815d49b4fcfbf8b7": {
      "model_module": "@jupyter-widgets/controls",
      "model_module_version": "1.5.0",
      "model_name": "HBoxModel",
      "state": {
       "children": [
        "IPY_MODEL_2cf1aeb1c91b45f6974e33a8b221fcc1"
       ],
       "layout": "IPY_MODEL_a935d573dd6644b894b1f9e94307a10c"
      }
     },
     "633d5db219fe48558945bf3ff8d4da7b": {
      "model_module": "@jupyter-widgets/controls",
      "model_module_version": "1.5.0",
      "model_name": "HBoxModel",
      "state": {
       "children": [
        "IPY_MODEL_e059c04e860f456e9c008f198e1de13a",
        "IPY_MODEL_1929d6e48f1145da83f7526d167b05bd"
       ],
       "layout": "IPY_MODEL_d3aae0c264a943529862e90b0b865f04"
      }
     },
     "635024bfed2f41ae94d5f90c7ce5b516": {
      "model_module": "@jupyter-widgets/controls",
      "model_module_version": "1.5.0",
      "model_name": "HTMLModel",
      "state": {
       "layout": "IPY_MODEL_8030eeebb9eb4dcf89c3ef076a34b138",
       "style": "IPY_MODEL_2f8eaf0b6001453fadb00c9a07438b98",
       "value": "<h4 style=\"font-size:14px;\">Um welchen Parser handelt es sich?</h4>"
      }
     },
     "6369133ba8d84f09b67d9c919dda5c5d": {
      "model_module": "@jupyter-widgets/base",
      "model_module_version": "1.2.0",
      "model_name": "LayoutModel",
      "state": {
       "width": "250px"
      }
     },
     "6389b7942b6a4bc5b7e43300cbbf5c00": {
      "model_module": "@jupyter-widgets/controls",
      "model_module_version": "1.5.0",
      "model_name": "DescriptionStyleModel",
      "state": {
       "description_width": ""
      }
     },
     "638cbf07d0d941119a732d2f6c8a1ce2": {
      "model_module": "@jupyter-widgets/base",
      "model_module_version": "1.2.0",
      "model_name": "LayoutModel",
      "state": {}
     },
     "63e2e213e9e04c299ed3ed7e013a74e4": {
      "model_module": "@jupyter-widgets/base",
      "model_module_version": "1.2.0",
      "model_name": "LayoutModel",
      "state": {}
     },
     "63e7bb2b1d8c476eb50f23d55e605a1c": {
      "model_module": "@jupyter-widgets/controls",
      "model_module_version": "1.5.0",
      "model_name": "VBoxModel",
      "state": {
       "children": [
        "IPY_MODEL_24bc6a2811ff4c93bd6bdf2ed360cbc7",
        "IPY_MODEL_cad4ac1341364cc69c90d8f0f7b6594c",
        "IPY_MODEL_633d5db219fe48558945bf3ff8d4da7b",
        "IPY_MODEL_0181c6ef302f40139df69d06f93be25c",
        "IPY_MODEL_e674ee031a8f48c38fa169a47f0b6edd"
       ],
       "layout": "IPY_MODEL_fdfdccce7db641b08e3e64ea52a73e61"
      }
     },
     "63f7e5d2765c47d6b7530f59768ea2fc": {
      "model_module": "@jupyter-widgets/controls",
      "model_module_version": "1.5.0",
      "model_name": "ButtonStyleModel",
      "state": {}
     },
     "64043b7082a94aa09ea2162097251231": {
      "model_module": "@jupyter-widgets/controls",
      "model_module_version": "1.5.0",
      "model_name": "DescriptionStyleModel",
      "state": {
       "description_width": ""
      }
     },
     "6410f637f73c4060b21b9ef5aa2f4879": {
      "model_module": "@jupyter-widgets/controls",
      "model_module_version": "1.5.0",
      "model_name": "HBoxModel",
      "state": {
       "children": [
        "IPY_MODEL_caa716d53e4f44f1be7aa955a03d5a41",
        "IPY_MODEL_f0ab075ea38e48e084a2732eb9b4759f"
       ],
       "layout": "IPY_MODEL_69ddd24280c44752b2eaf7d226646ad9"
      }
     },
     "6414b140f81445a38587d85e541bfb19": {
      "model_module": "@jupyter-widgets/controls",
      "model_module_version": "1.5.0",
      "model_name": "ButtonStyleModel",
      "state": {}
     },
     "6432446c2b1e4cdea17e004af3f81999": {
      "model_module": "@jupyter-widgets/controls",
      "model_module_version": "1.5.0",
      "model_name": "ButtonModel",
      "state": {
       "description": "Reduce",
       "layout": "IPY_MODEL_a17cd5e1b4fc49808d7e6f7bbfab0622",
       "style": "IPY_MODEL_fbf9d8a6ae3b4955b863aef64fc258bc"
      }
     },
     "6475d56a151d436da8047d3e06588b9f": {
      "model_module": "@jupyter-widgets/controls",
      "model_module_version": "1.5.0",
      "model_name": "ButtonModel",
      "state": {
       "description": "Recusive Descent",
       "layout": "IPY_MODEL_e8903fa8da114e4a9c2538c038c388f8",
       "style": "IPY_MODEL_d501576040da4dae8dc0549ffdb59981"
      }
     },
     "64805f1c1c3c412e81267343fe1e3d95": {
      "model_module": "@jupyter-widgets/controls",
      "model_module_version": "1.5.0",
      "model_name": "ButtonStyleModel",
      "state": {}
     },
     "64812cb0624b4b1f804d8a08a5ab0857": {
      "model_module": "@jupyter-widgets/base",
      "model_module_version": "1.2.0",
      "model_name": "LayoutModel",
      "state": {
       "justify_content": "center"
      }
     },
     "64a3a44898ae43309aef82daf2183986": {
      "model_module": "@jupyter-widgets/controls",
      "model_module_version": "1.5.0",
      "model_name": "ButtonStyleModel",
      "state": {}
     },
     "64a69d7a6ca244388291f0ae59f429b1": {
      "model_module": "@jupyter-widgets/controls",
      "model_module_version": "1.5.0",
      "model_name": "ButtonModel",
      "state": {
       "description": "Shift Reduce",
       "layout": "IPY_MODEL_671b366fe1ef4c62bcb585106243b286",
       "style": "IPY_MODEL_a9557668644f4405b9927fa82a99e367"
      }
     },
     "64a98d92611e4a3f8dd69fd794d92e90": {
      "model_module": "@jupyter-widgets/base",
      "model_module_version": "1.2.0",
      "model_name": "LayoutModel",
      "state": {
       "width": "250px"
      }
     },
     "64bcbd4f64c543e09ec286ad1463358e": {
      "model_module": "@jupyter-widgets/base",
      "model_module_version": "1.2.0",
      "model_name": "LayoutModel",
      "state": {}
     },
     "64cfb2afbf97415083a4a085946086a5": {
      "model_module": "@jupyter-widgets/controls",
      "model_module_version": "1.5.0",
      "model_name": "ButtonStyleModel",
      "state": {}
     },
     "64f29bb417fb47ceb141119c7465e23f": {
      "model_module": "@jupyter-widgets/base",
      "model_module_version": "1.2.0",
      "model_name": "LayoutModel",
      "state": {}
     },
     "6529272f8dd2403fba2ee958945a65d4": {
      "model_module": "@jupyter-widgets/base",
      "model_module_version": "1.2.0",
      "model_name": "LayoutModel",
      "state": {}
     },
     "65295583b79e4f549ef2eb49ff223144": {
      "model_module": "@jupyter-widgets/controls",
      "model_module_version": "1.5.0",
      "model_name": "HTMLModel",
      "state": {
       "layout": "IPY_MODEL_adb58a6a69444011922b36faae5e7025",
       "style": "IPY_MODEL_a85da8c97cec41a386486b490b6ff9cb",
       "value": "<i>Markieren Sie <ins>alle</ins> passenden Antworten: </i>"
      }
     },
     "656c474627fc497493961bef609bb3b7": {
      "model_module": "@jupyter-widgets/controls",
      "model_module_version": "1.5.0",
      "model_name": "HTMLModel",
      "state": {
       "layout": "IPY_MODEL_9f1044df599949309740d760f551c8d1",
       "style": "IPY_MODEL_1f5d55a454a447e78091f74fcb4721b7",
       "value": "<h4 style=\"font-size:14px;\">Welche Operation folgt als nächstes?</h4>"
      }
     },
     "6577aeb044c24e1cb3620f01fb552ecd": {
      "model_module": "@jupyter-widgets/controls",
      "model_module_version": "1.5.0",
      "model_name": "DescriptionStyleModel",
      "state": {
       "description_width": "initial"
      }
     },
     "657e4fecbe7248b1b16ebe94fb045724": {
      "model_module": "@jupyter-widgets/base",
      "model_module_version": "1.2.0",
      "model_name": "LayoutModel",
      "state": {
       "width": "600px"
      }
     },
     "65b753318ad04129a68e00aee71e8be4": {
      "model_module": "@jupyter-widgets/base",
      "model_module_version": "1.2.0",
      "model_name": "LayoutModel",
      "state": {
       "width": "600px"
      }
     },
     "661632641dbe4e0b927cead4ac2e24bf": {
      "model_module": "@jupyter-widgets/controls",
      "model_module_version": "1.5.0",
      "model_name": "ButtonStyleModel",
      "state": {}
     },
     "661f2d0afe2541d8bedc48537c0e2249": {
      "model_module": "@jupyter-widgets/controls",
      "model_module_version": "1.5.0",
      "model_name": "ButtonStyleModel",
      "state": {}
     },
     "662294dbaebf4157bf18337434c5c1a8": {
      "model_module": "@jupyter-widgets/controls",
      "model_module_version": "1.5.0",
      "model_name": "ButtonStyleModel",
      "state": {}
     },
     "6637ddd4ed874887a6e8b4de1816443a": {
      "model_module": "@jupyter-widgets/base",
      "model_module_version": "1.2.0",
      "model_name": "LayoutModel",
      "state": {
       "width": "250px"
      }
     },
     "663da0cddce949ecb160f97967caadb4": {
      "model_module": "@jupyter-widgets/controls",
      "model_module_version": "1.5.0",
      "model_name": "ButtonStyleModel",
      "state": {}
     },
     "664159cc0d154f458fbc13f87d204d00": {
      "model_module": "@jupyter-widgets/controls",
      "model_module_version": "1.5.0",
      "model_name": "VBoxModel",
      "state": {
       "children": [
        "IPY_MODEL_ab9b9f3c9c4a443ba3003d77df970aad",
        "IPY_MODEL_bff3feef668e4c7b8595c0132f6b4ab5",
        "IPY_MODEL_83e9129d287a4ce0b2727e83a657384a",
        "IPY_MODEL_eba34b2c29c44151b56fa1b42142e4f0",
        "IPY_MODEL_836c3003d28f4614b731565519673704"
       ],
       "layout": "IPY_MODEL_e16f55ee48324edbaf21b6d4b319367d"
      }
     },
     "666ad381b0604e7abea9137a4985ec6c": {
      "model_module": "@jupyter-widgets/controls",
      "model_module_version": "1.5.0",
      "model_name": "ButtonStyleModel",
      "state": {}
     },
     "667683a610c34492b7eb88e7d632c935": {
      "model_module": "@jupyter-widgets/controls",
      "model_module_version": "1.5.0",
      "model_name": "HBoxModel",
      "state": {
       "children": [
        "IPY_MODEL_8dd0ecf06d6f4f48b2fe3a50fc1585cc",
        "IPY_MODEL_a3f18522d2b64269a79c88d4839f6c8d"
       ],
       "layout": "IPY_MODEL_82b820f9e8b24d01b75a0f2145b80b86"
      }
     },
     "66c25a0691c341459969d1dd022ee462": {
      "model_module": "@jupyter-widgets/controls",
      "model_module_version": "1.5.0",
      "model_name": "HTMLModel",
      "state": {
       "layout": "IPY_MODEL_76f59b755d23400883c6260a7de2ad6f",
       "style": "IPY_MODEL_09f45037128e446ea693b79005b4739b",
       "value": "<h4 style=\"font-size:14px;\">Um welchen Parser handelt es sich?</h4>"
      }
     },
     "66e4d42ac7f042268393fcf953dd88c9": {
      "model_module": "@jupyter-widgets/base",
      "model_module_version": "1.2.0",
      "model_name": "LayoutModel",
      "state": {}
     },
     "671b366fe1ef4c62bcb585106243b286": {
      "model_module": "@jupyter-widgets/base",
      "model_module_version": "1.2.0",
      "model_name": "LayoutModel",
      "state": {
       "width": "250px"
      }
     },
     "672e0be8883f482d9ca7990329006c96": {
      "model_module": "@jupyter-widgets/base",
      "model_module_version": "1.2.0",
      "model_name": "LayoutModel",
      "state": {
       "width": "250px"
      }
     },
     "67357725238b434eb52283627ada6a19": {
      "model_module": "@jupyter-widgets/base",
      "model_module_version": "1.2.0",
      "model_name": "LayoutModel",
      "state": {}
     },
     "6747f5dbc49f4f4886c4c799f2257772": {
      "model_module": "@jupyter-widgets/controls",
      "model_module_version": "1.5.0",
      "model_name": "ButtonStyleModel",
      "state": {}
     },
     "675bd04a06a64d038ffabc5c402e7e0f": {
      "model_module": "@jupyter-widgets/controls",
      "model_module_version": "1.5.0",
      "model_name": "ButtonStyleModel",
      "state": {}
     },
     "6765affcbe01492fa4f35b1baebeab6f": {
      "model_module": "@jupyter-widgets/base",
      "model_module_version": "1.2.0",
      "model_name": "LayoutModel",
      "state": {}
     },
     "67c0b3fb241e4ed29c11591c0e118b7b": {
      "model_module": "@jupyter-widgets/base",
      "model_module_version": "1.2.0",
      "model_name": "LayoutModel",
      "state": {}
     },
     "6804ef7cc77a439c8b40aa329da82a2e": {
      "model_module": "@jupyter-widgets/base",
      "model_module_version": "1.2.0",
      "model_name": "LayoutModel",
      "state": {
       "width": "250px"
      }
     },
     "683ac7a72e2f4353ab055b304fd789fc": {
      "model_module": "@jupyter-widgets/controls",
      "model_module_version": "1.5.0",
      "model_name": "HBoxModel",
      "state": {
       "children": [
        "IPY_MODEL_ae6d5ddb57144d5c97a24d14b8206139",
        "IPY_MODEL_7cb9cabb036d4f53b6a13db5f6265379"
       ],
       "layout": "IPY_MODEL_5ed86dd108b94dccb6b44d78008ec00a"
      }
     },
     "687835664ffb4f20babbcfe3fa59e4a1": {
      "model_module": "@jupyter-widgets/controls",
      "model_module_version": "1.5.0",
      "model_name": "DescriptionStyleModel",
      "state": {
       "description_width": ""
      }
     },
     "68a0cad3a4d84371bfc3d75de933dda8": {
      "model_module": "@jupyter-widgets/controls",
      "model_module_version": "1.5.0",
      "model_name": "ButtonModel",
      "state": {
       "description": "Keine der Alternativen",
       "layout": "IPY_MODEL_1ea93cbb6cd9417f950cd08fb9dbb09c",
       "style": "IPY_MODEL_2754bf06142a4fedb2d3925d1ee199e7"
      }
     },
     "68e04f28c0744023a0954f36c4c549ae": {
      "model_module": "@jupyter-widgets/controls",
      "model_module_version": "1.5.0",
      "model_name": "CheckboxModel",
      "state": {
       "description": "Complete",
       "disabled": false,
       "layout": "IPY_MODEL_eaf9c924a03e42788f4945063ef3787a",
       "style": "IPY_MODEL_9567c6e036c8484e84a06d757edf3c0e",
       "value": false
      }
     },
     "68e8c7ba396c49a5a2fdb99c31547c0a": {
      "model_module": "@jupyter-widgets/base",
      "model_module_version": "1.2.0",
      "model_name": "LayoutModel",
      "state": {}
     },
     "68e979df73354698a70b81cd63ba4fc0": {
      "model_module": "@jupyter-widgets/controls",
      "model_module_version": "1.5.0",
      "model_name": "ButtonStyleModel",
      "state": {}
     },
     "68ee3db7c06a457b998b1c227cfc4bae": {
      "model_module": "@jupyter-widgets/controls",
      "model_module_version": "1.5.0",
      "model_name": "DescriptionStyleModel",
      "state": {
       "description_width": ""
      }
     },
     "6926d0f5507c40d086ec32c3a2ee579a": {
      "model_module": "@jupyter-widgets/controls",
      "model_module_version": "1.5.0",
      "model_name": "HBoxModel",
      "state": {
       "children": [
        "IPY_MODEL_dba4e59eb1ee4407b4453a332855ef22",
        "IPY_MODEL_db28c8a3d47d4f9baa9cb8575cca8db9"
       ],
       "layout": "IPY_MODEL_48d78887897d40bd8360ba825483b4c9"
      }
     },
     "695b466d181144a199bd68c86c121599": {
      "model_module": "@jupyter-widgets/controls",
      "model_module_version": "1.5.0",
      "model_name": "HTMLModel",
      "state": {
       "layout": "IPY_MODEL_b0dff703c6864b9aa8474f6887814380",
       "style": "IPY_MODEL_4e8f36d1f0c64c60bf64e6f96af698a5",
       "value": "<i>Markieren Sie <ins>alle</ins> passenden Antworten: </i>"
      }
     },
     "695eb2b31fd54b5baf355f878a96757e": {
      "model_module": "@jupyter-widgets/base",
      "model_module_version": "1.2.0",
      "model_name": "LayoutModel",
      "state": {
       "justify_content": "center"
      }
     },
     "69774665ac3b4d0cb6f421df5789366f": {
      "model_module": "@jupyter-widgets/base",
      "model_module_version": "1.2.0",
      "model_name": "LayoutModel",
      "state": {}
     },
     "697b0e0074fc4c39bb821f6433b5bad3": {
      "model_module": "@jupyter-widgets/controls",
      "model_module_version": "1.5.0",
      "model_name": "ButtonStyleModel",
      "state": {}
     },
     "698c2c3ef071451a9675bc70c2f45084": {
      "model_module": "@jupyter-widgets/base",
      "model_module_version": "1.2.0",
      "model_name": "LayoutModel",
      "state": {
       "justify_content": "center"
      }
     },
     "6990ebda6f1a407a93a1ca0563ab4143": {
      "model_module": "@jupyter-widgets/controls",
      "model_module_version": "1.5.0",
      "model_name": "ButtonModel",
      "state": {
       "description": "Earley",
       "layout": "IPY_MODEL_59d99b95e8054e23be53275f1c1325af",
       "style": "IPY_MODEL_55c0a94aed2c4ad89d2c59d06f586a3f"
      }
     },
     "69b052423e664ea3ad20a6674d65a30e": {
      "model_module": "@jupyter-widgets/controls",
      "model_module_version": "1.5.0",
      "model_name": "DescriptionStyleModel",
      "state": {
       "description_width": ""
      }
     },
     "69b0dc5ac25c407482fdf18084f4b070": {
      "model_module": "@jupyter-widgets/controls",
      "model_module_version": "1.5.0",
      "model_name": "HTMLModel",
      "state": {
       "layout": "IPY_MODEL_13b04d7233524bdfb9b5752473ff150d",
       "style": "IPY_MODEL_0e22b22831a74bd4b04b9576b7e4f217",
       "value": "<i>Wählen Sie die <ins>eine</ins> korrekte Antwort aus: </i>"
      }
     },
     "69b69edaa5954f03892e707e616c16d9": {
      "model_module": "@jupyter-widgets/base",
      "model_module_version": "1.2.0",
      "model_name": "LayoutModel",
      "state": {
       "width": "600px"
      }
     },
     "69b9908d4bee4b41a99d4bc2b05c21ce": {
      "model_module": "@jupyter-widgets/controls",
      "model_module_version": "1.5.0",
      "model_name": "HBoxModel",
      "state": {
       "children": [
        "IPY_MODEL_a36dd3b5f93e418596a3746d9b37fc39"
       ],
       "layout": "IPY_MODEL_485e7c690b6141d9852df96d5ed6c39d"
      }
     },
     "69bfd92ace1643818fd2d0fd6c0da7f2": {
      "model_module": "@jupyter-widgets/base",
      "model_module_version": "1.2.0",
      "model_name": "LayoutModel",
      "state": {
       "width": "250px"
      }
     },
     "69c1fa9362c246e095a50890b3af7468": {
      "model_module": "@jupyter-widgets/controls",
      "model_module_version": "1.5.0",
      "model_name": "VBoxModel",
      "state": {
       "children": [
        "IPY_MODEL_e8479e4990c3454fbd9c3b7df0a6199f",
        "IPY_MODEL_9393502559fc499783228a92c9e9db37",
        "IPY_MODEL_4581743050b14824b311a099bd10ca23",
        "IPY_MODEL_f811557531e04a3599c609fba2fdf0e6"
       ],
       "layout": "IPY_MODEL_5a939ac436ac424d892abc024531e524"
      }
     },
     "69c46b71486c4e1591aa43811b80f31a": {
      "model_module": "@jupyter-widgets/base",
      "model_module_version": "1.2.0",
      "model_name": "LayoutModel",
      "state": {
       "width": "250px"
      }
     },
     "69c895e95d4843e588898c9d6b053c07": {
      "model_module": "@jupyter-widgets/controls",
      "model_module_version": "1.5.0",
      "model_name": "ButtonStyleModel",
      "state": {}
     },
     "69ddd24280c44752b2eaf7d226646ad9": {
      "model_module": "@jupyter-widgets/base",
      "model_module_version": "1.2.0",
      "model_name": "LayoutModel",
      "state": {}
     },
     "6a09dbfbb6bf4358aaa3f52ad971a3a6": {
      "model_module": "@jupyter-widgets/controls",
      "model_module_version": "1.5.0",
      "model_name": "DescriptionStyleModel",
      "state": {
       "description_width": ""
      }
     },
     "6a256937c4bd40f4b836271fc31e9483": {
      "model_module": "@jupyter-widgets/controls",
      "model_module_version": "1.5.0",
      "model_name": "ButtonModel",
      "state": {
       "description": "Reduce",
       "layout": "IPY_MODEL_0ff133f1878149e39c31fd8c491a9a75",
       "style": "IPY_MODEL_888625893d5f43348eb7a306d6ef33ca"
      }
     },
     "6a67e7a8dff04507beb9698cd825c65f": {
      "model_module": "@jupyter-widgets/controls",
      "model_module_version": "1.5.0",
      "model_name": "CheckboxModel",
      "state": {
       "description": "Predict",
       "disabled": false,
       "layout": "IPY_MODEL_5edf18dc938347d1ac46c007ce12454d",
       "style": "IPY_MODEL_863d53bbe8324164a2f777b4b68ed763",
       "value": false
      }
     },
     "6a7c5362a28a43bcbe8a88799d68305f": {
      "model_module": "@jupyter-widgets/controls",
      "model_module_version": "1.5.0",
      "model_name": "ButtonStyleModel",
      "state": {}
     },
     "6a8521000b9f41d6b4c23fa1c69fadd8": {
      "model_module": "@jupyter-widgets/controls",
      "model_module_version": "1.5.0",
      "model_name": "ButtonStyleModel",
      "state": {}
     },
     "6a92c110412748c38bcf9547d714c4ca": {
      "model_module": "@jupyter-widgets/base",
      "model_module_version": "1.2.0",
      "model_name": "LayoutModel",
      "state": {
       "width": "250px"
      }
     },
     "6aa13771d581410fa2419f5a17894f59": {
      "model_module": "@jupyter-widgets/controls",
      "model_module_version": "1.5.0",
      "model_name": "ButtonModel",
      "state": {
       "description": "Reduce",
       "layout": "IPY_MODEL_4f47f321831c45c48a0766ff5f18e146",
       "style": "IPY_MODEL_dec2872a1e4248b5b08e813406231979"
      }
     },
     "6aac360a36e8442691d4cebfb259a566": {
      "model_module": "@jupyter-widgets/controls",
      "model_module_version": "1.5.0",
      "model_name": "ButtonModel",
      "state": {
       "description": "Scan",
       "layout": "IPY_MODEL_88b21743d7d34af28c01fdbfec5ca395",
       "style": "IPY_MODEL_865b11f4813b4e42bf193d38dfaa75cc"
      }
     },
     "6ab2fafd580746bd80dd2b8b9033c707": {
      "model_module": "@jupyter-widgets/base",
      "model_module_version": "1.2.0",
      "model_name": "LayoutModel",
      "state": {
       "width": "250px"
      }
     },
     "6abfc2e51cda4391aeecb1338a3346a4": {
      "model_module": "@jupyter-widgets/controls",
      "model_module_version": "1.5.0",
      "model_name": "HBoxModel",
      "state": {
       "children": [
        "IPY_MODEL_1540b678a73f435ebfb6fcd7149e03b0"
       ],
       "layout": "IPY_MODEL_ff4977ba24e14a85b245483851935522"
      }
     },
     "6ac3a75d86524653b7708fc28700038a": {
      "model_module": "@jupyter-widgets/controls",
      "model_module_version": "1.5.0",
      "model_name": "DescriptionStyleModel",
      "state": {
       "description_width": ""
      }
     },
     "6adb0dd7d9d04ccbaa03e31b4318a46f": {
      "model_module": "@jupyter-widgets/controls",
      "model_module_version": "1.5.0",
      "model_name": "CheckboxModel",
      "state": {
       "description": "Scan",
       "disabled": false,
       "layout": "IPY_MODEL_8b26a2118aaf4d98a99a061ca52e66da",
       "style": "IPY_MODEL_1cd4b37e2f61482e8ac51a0b65619619",
       "value": false
      }
     },
     "6ae17e486cef47b99f4aa7966bb20df2": {
      "model_module": "@jupyter-widgets/base",
      "model_module_version": "1.2.0",
      "model_name": "LayoutModel",
      "state": {
       "width": "250px"
      }
     },
     "6ae5bafe3b06457196ccb6837cef3526": {
      "model_module": "@jupyter-widgets/base",
      "model_module_version": "1.2.0",
      "model_name": "LayoutModel",
      "state": {
       "justify_content": "center"
      }
     },
     "6afed90f2b894223b92fa27f1dd1e928": {
      "model_module": "@jupyter-widgets/controls",
      "model_module_version": "1.5.0",
      "model_name": "HTMLModel",
      "state": {
       "layout": "IPY_MODEL_d3c60767d7904c54b4a3770ea8511677",
       "style": "IPY_MODEL_6265c203934a42ba9f851659e9d37ff8",
       "value": "<h4 style=\"font-size:14px;\">Welche Operationen hat der Earley Parser?</h4>"
      }
     },
     "6b0602384f564b24847b317bb932a772": {
      "model_module": "@jupyter-widgets/controls",
      "model_module_version": "1.5.0",
      "model_name": "ButtonStyleModel",
      "state": {}
     },
     "6b10026e188a42e4a5e8933ef4246f6a": {
      "model_module": "@jupyter-widgets/base",
      "model_module_version": "1.2.0",
      "model_name": "LayoutModel",
      "state": {}
     },
     "6b3ae2dcc6664fa99cc66372fc30ecdd": {
      "model_module": "@jupyter-widgets/base",
      "model_module_version": "1.2.0",
      "model_name": "LayoutModel",
      "state": {}
     },
     "6b69a4b2f3aa4c0caeb44ede8f54f7f3": {
      "model_module": "@jupyter-widgets/base",
      "model_module_version": "1.2.0",
      "model_name": "LayoutModel",
      "state": {
       "width": "250px"
      }
     },
     "6b7c4176ed9640b6a71260456c81084d": {
      "model_module": "@jupyter-widgets/base",
      "model_module_version": "1.2.0",
      "model_name": "LayoutModel",
      "state": {
       "width": "250px"
      }
     },
     "6bd7cc0130954b3c8dce113b4029f4c0": {
      "model_module": "@jupyter-widgets/controls",
      "model_module_version": "1.5.0",
      "model_name": "ButtonStyleModel",
      "state": {}
     },
     "6c6f211123ef43c8a1accb077dc9c4da": {
      "model_module": "@jupyter-widgets/controls",
      "model_module_version": "1.5.0",
      "model_name": "CheckboxModel",
      "state": {
       "description": "Predict",
       "disabled": false,
       "layout": "IPY_MODEL_ed9bc98d6fdb4d7a84a92d74e5d7f746",
       "style": "IPY_MODEL_29e25541fb9e4e44bac47d38abf4fde7",
       "value": false
      }
     },
     "6c79d5fd3e5e4db2a43ca8da4d299c81": {
      "model_module": "@jupyter-widgets/controls",
      "model_module_version": "1.5.0",
      "model_name": "VBoxModel",
      "state": {
       "children": [
        "IPY_MODEL_a21265e329f447819874599cd6bcc452",
        "IPY_MODEL_4c10d223295b4d16a1d79f1a066a4ab9",
        "IPY_MODEL_93305ed0917d40cda79b275ae3f33b2a",
        "IPY_MODEL_3a65210bb1f143f2ac6c9b506428d351",
        "IPY_MODEL_cc82a7f37b64498593b8f5ce10af9611"
       ],
       "layout": "IPY_MODEL_34313a815088497f8d6ee2e22614eb60"
      }
     },
     "6c93cda834cb4e1ea4889d2b6d781f2f": {
      "model_module": "@jupyter-widgets/controls",
      "model_module_version": "1.5.0",
      "model_name": "ButtonStyleModel",
      "state": {}
     },
     "6c98777b6b844365829a95ebba66d27a": {
      "model_module": "@jupyter-widgets/base",
      "model_module_version": "1.2.0",
      "model_name": "LayoutModel",
      "state": {
       "width": "250px"
      }
     },
     "6cb855fc7f3d450da33cc8a43c945525": {
      "model_module": "@jupyter-widgets/controls",
      "model_module_version": "1.5.0",
      "model_name": "ButtonStyleModel",
      "state": {}
     },
     "6cc958d8b53440ef9108832f8c96e373": {
      "model_module": "@jupyter-widgets/base",
      "model_module_version": "1.2.0",
      "model_name": "LayoutModel",
      "state": {
       "width": "250px"
      }
     },
     "6ccc87fab29e49e18b677cb9675947c4": {
      "model_module": "@jupyter-widgets/base",
      "model_module_version": "1.2.0",
      "model_name": "LayoutModel",
      "state": {
       "width": "600px"
      }
     },
     "6cd4c38eafef4955bc49c2a42b01a961": {
      "model_module": "@jupyter-widgets/base",
      "model_module_version": "1.2.0",
      "model_name": "LayoutModel",
      "state": {
       "justify_content": "center"
      }
     },
     "6cf3641a94e84f17937aea4f356d1fe7": {
      "model_module": "@jupyter-widgets/base",
      "model_module_version": "1.2.0",
      "model_name": "LayoutModel",
      "state": {
       "width": "250px"
      }
     },
     "6cf954c4e74849e1bab6f96035180e7c": {
      "model_module": "@jupyter-widgets/base",
      "model_module_version": "1.2.0",
      "model_name": "LayoutModel",
      "state": {
       "width": "250px"
      }
     },
     "6cf9df629e654a54ac8f98cf8552c104": {
      "model_module": "@jupyter-widgets/controls",
      "model_module_version": "1.5.0",
      "model_name": "DescriptionStyleModel",
      "state": {
       "description_width": ""
      }
     },
     "6d01cf5c5aae44b68b5197d18b065a59": {
      "model_module": "@jupyter-widgets/controls",
      "model_module_version": "1.5.0",
      "model_name": "CheckboxModel",
      "state": {
       "description": "Scan",
       "disabled": false,
       "layout": "IPY_MODEL_863383580ba1442090251ca3acaf2aa2",
       "style": "IPY_MODEL_e0d531ccc0c049d68641647d353809a3",
       "value": false
      }
     },
     "6d1b4c4594e24c0e8c0d5df75688a927": {
      "model_module": "@jupyter-widgets/base",
      "model_module_version": "1.2.0",
      "model_name": "LayoutModel",
      "state": {
       "width": "250px"
      }
     },
     "6d239b1eea6042d085ebe8ec4d34cd65": {
      "model_module": "@jupyter-widgets/controls",
      "model_module_version": "1.5.0",
      "model_name": "HTMLModel",
      "state": {
       "layout": "IPY_MODEL_78af0e55befc4c31a6f42c20d776ec0b",
       "style": "IPY_MODEL_12e98ecb56aa4963901824c6b3510b4e",
       "value": "<h4 style=\"font-size:14px;\">Welche Operationen hat der Shift Reduce Parser?</h4>"
      }
     },
     "6da392b32f664844891ec8d885d03d30": {
      "model_module": "@jupyter-widgets/base",
      "model_module_version": "1.2.0",
      "model_name": "LayoutModel",
      "state": {
       "width": "250px"
      }
     },
     "6dcc0699bda64cc2b31d1a564c103ba9": {
      "model_module": "@jupyter-widgets/base",
      "model_module_version": "1.2.0",
      "model_name": "LayoutModel",
      "state": {
       "width": "250px"
      }
     },
     "6ddec5b6d42f4ca293640a194fe1d175": {
      "model_module": "@jupyter-widgets/controls",
      "model_module_version": "1.5.0",
      "model_name": "CheckboxModel",
      "state": {
       "description": "Complete",
       "disabled": false,
       "layout": "IPY_MODEL_b0dcd6aac6924f39864b8bbd28aae63a",
       "style": "IPY_MODEL_cf6e547db1e945cca9287af1592ba901",
       "value": false
      }
     },
     "6e0600b585424def85846104fdba0a48": {
      "model_module": "@jupyter-widgets/controls",
      "model_module_version": "1.5.0",
      "model_name": "HTMLModel",
      "state": {
       "layout": "IPY_MODEL_90dfbf4932854b358ea86c134079c798",
       "style": "IPY_MODEL_0a500be1dd0f4d71855eb49f08032d15",
       "value": "<h4 style=\"font-size:14px;\">Welche Operation folgt als nächstes?</h4>"
      }
     },
     "6e467df970eb4e6dbd5852d6916d8eb2": {
      "model_module": "@jupyter-widgets/base",
      "model_module_version": "1.2.0",
      "model_name": "LayoutModel",
      "state": {}
     },
     "6e6c6507456d43cf8a224778bfabcc19": {
      "model_module": "@jupyter-widgets/base",
      "model_module_version": "1.2.0",
      "model_name": "LayoutModel",
      "state": {
       "width": "250px"
      }
     },
     "6e871baaf61c49a9a9c7467d7f619cd7": {
      "model_module": "@jupyter-widgets/controls",
      "model_module_version": "1.5.0",
      "model_name": "ButtonModel",
      "state": {
       "description": "Recusive Descent",
       "layout": "IPY_MODEL_f70fdc11ef2f41c888e2426740b0cc0b",
       "style": "IPY_MODEL_21851edb1eff494ca56043dd24e15bcd"
      }
     },
     "6efcd45dcf434b6f8d60929ae28b55f3": {
      "model_module": "@jupyter-widgets/base",
      "model_module_version": "1.2.0",
      "model_name": "LayoutModel",
      "state": {
       "width": "250px"
      }
     },
     "6f377041ff9f4cee8bf600bf483f82bb": {
      "model_module": "@jupyter-widgets/controls",
      "model_module_version": "1.5.0",
      "model_name": "ButtonModel",
      "state": {
       "description": "Earley",
       "layout": "IPY_MODEL_483c9739b90f4b8f8aa41f6cf40b34a3",
       "style": "IPY_MODEL_dfec82a292354c3c85991d0e0f4a3c46"
      }
     },
     "6f435e4925ce40a7b64b4c63a6040568": {
      "model_module": "@jupyter-widgets/controls",
      "model_module_version": "1.5.0",
      "model_name": "HTMLModel",
      "state": {
       "layout": "IPY_MODEL_915a183f21b64b87ae58fc060c44b7e0",
       "style": "IPY_MODEL_0c12656483974e4cac628caa7c728615",
       "value": "<h4 style=\"font-size:14px;\">Um welchen Parser handelt es sich?</h4>"
      }
     },
     "6f480fd469b64ec69cd401e7c6dc9a5f": {
      "model_module": "@jupyter-widgets/base",
      "model_module_version": "1.2.0",
      "model_name": "LayoutModel",
      "state": {
       "width": "600px"
      }
     },
     "6f62b2eabcd54bf1a51ced8a54624926": {
      "model_module": "@jupyter-widgets/controls",
      "model_module_version": "1.5.0",
      "model_name": "ButtonStyleModel",
      "state": {}
     },
     "6fc48c71e3324735ab5ec6457ff9f2c3": {
      "model_module": "@jupyter-widgets/controls",
      "model_module_version": "1.5.0",
      "model_name": "ButtonModel",
      "state": {
       "description": "Shift",
       "layout": "IPY_MODEL_9fe8f317f62d4566b0112008dca9ae0b",
       "style": "IPY_MODEL_447a2adfd5d74ae2befba3b5a9807185"
      }
     },
     "6fdf4c73583f4c13be4e3a03e3e5eac0": {
      "model_module": "@jupyter-widgets/controls",
      "model_module_version": "1.5.0",
      "model_name": "ButtonStyleModel",
      "state": {}
     },
     "6fea35701be847ab9fb2e9b9e110edd8": {
      "model_module": "@jupyter-widgets/base",
      "model_module_version": "1.2.0",
      "model_name": "LayoutModel",
      "state": {
       "width": "250px"
      }
     },
     "700b08d8d50147a2a2963bd10484926b": {
      "model_module": "@jupyter-widgets/controls",
      "model_module_version": "1.5.0",
      "model_name": "HBoxModel",
      "state": {
       "children": [
        "IPY_MODEL_628ea0f917194e3fa1a1b8bfbd0f2039",
        "IPY_MODEL_df415f6a9a0a48cd9df7b0f802d6c4ab"
       ],
       "layout": "IPY_MODEL_f9489e494bb94ebab63665945f32184b"
      }
     },
     "704b21db2d014b7392a50aa25d1bc250": {
      "model_module": "@jupyter-widgets/controls",
      "model_module_version": "1.5.0",
      "model_name": "ButtonStyleModel",
      "state": {}
     },
     "705a9c7de7fe4465b5a7da68e583ecb5": {
      "model_module": "@jupyter-widgets/base",
      "model_module_version": "1.2.0",
      "model_name": "LayoutModel",
      "state": {
       "width": "250px"
      }
     },
     "70bb5443895f4683a1eecd0b65ea5456": {
      "model_module": "@jupyter-widgets/base",
      "model_module_version": "1.2.0",
      "model_name": "LayoutModel",
      "state": {
       "justify_content": "center"
      }
     },
     "70d7f5aebe584a6d99313f44728ade5b": {
      "model_module": "@jupyter-widgets/base",
      "model_module_version": "1.2.0",
      "model_name": "LayoutModel",
      "state": {
       "width": "250px"
      }
     },
     "70eb4610a69d452d88b041ac8621942e": {
      "model_module": "@jupyter-widgets/controls",
      "model_module_version": "1.5.0",
      "model_name": "ButtonModel",
      "state": {
       "description": "Earley",
       "layout": "IPY_MODEL_e151262d04aa41018ad388f26aa3b721",
       "style": "IPY_MODEL_3d0d9e3325e448a6ba98415d8647de37"
      }
     },
     "711d94b6dccf44f08458a1716c3ab1a1": {
      "model_module": "@jupyter-widgets/base",
      "model_module_version": "1.2.0",
      "model_name": "LayoutModel",
      "state": {
       "width": "250px"
      }
     },
     "7153124a324747a0b6af9588ecdb834b": {
      "model_module": "@jupyter-widgets/base",
      "model_module_version": "1.2.0",
      "model_name": "LayoutModel",
      "state": {
       "justify_content": "center"
      }
     },
     "7169b05861664892a0cb57c4cbebb161": {
      "model_module": "@jupyter-widgets/controls",
      "model_module_version": "1.5.0",
      "model_name": "HTMLModel",
      "state": {
       "layout": "IPY_MODEL_716ac06b679a450db6b57a7c7290d710",
       "style": "IPY_MODEL_3c72b35f33714471961260d8f56e395c",
       "value": "<i>Wählen Sie die <ins>eine</ins> korrekte Antwort aus: </i>"
      }
     },
     "716ac06b679a450db6b57a7c7290d710": {
      "model_module": "@jupyter-widgets/base",
      "model_module_version": "1.2.0",
      "model_name": "LayoutModel",
      "state": {
       "justify_content": "center"
      }
     },
     "7175480b05424c718e51a1caa1c5092d": {
      "model_module": "@jupyter-widgets/base",
      "model_module_version": "1.2.0",
      "model_name": "LayoutModel",
      "state": {
       "width": "250px"
      }
     },
     "719f9ec3b8134af3a4331ab40bbe3906": {
      "model_module": "@jupyter-widgets/base",
      "model_module_version": "1.2.0",
      "model_name": "LayoutModel",
      "state": {
       "width": "250px"
      }
     },
     "71ef7247d45749fb98932219cfe485d6": {
      "model_module": "@jupyter-widgets/controls",
      "model_module_version": "1.5.0",
      "model_name": "ButtonModel",
      "state": {
       "description": "Predict",
       "layout": "IPY_MODEL_dbad9b85cb6b4f7780621bde17c63941",
       "style": "IPY_MODEL_1c6da947bd6a45e6ae99a7dfaaf1a168"
      }
     },
     "71fc85faf9094da2a06dfe81af64b552": {
      "model_module": "@jupyter-widgets/controls",
      "model_module_version": "1.5.0",
      "model_name": "HBoxModel",
      "state": {
       "children": [
        "IPY_MODEL_37e9518b4bfd4b72acbbb69286ff2d53",
        "IPY_MODEL_68a0cad3a4d84371bfc3d75de933dda8"
       ],
       "layout": "IPY_MODEL_9759395a52cf43939bf6aed94e33a47e"
      }
     },
     "72106defa7504c56a20534752ebb830b": {
      "model_module": "@jupyter-widgets/base",
      "model_module_version": "1.2.0",
      "model_name": "LayoutModel",
      "state": {}
     },
     "723f86f2196642d8af91cdb15109ef86": {
      "model_module": "@jupyter-widgets/base",
      "model_module_version": "1.2.0",
      "model_name": "LayoutModel",
      "state": {
       "width": "250px"
      }
     },
     "7294f90c06e647168e6ad07f899a59f9": {
      "model_module": "@jupyter-widgets/controls",
      "model_module_version": "1.5.0",
      "model_name": "VBoxModel",
      "state": {
       "children": [
        "IPY_MODEL_68e04f28c0744023a0954f36c4c549ae",
        "IPY_MODEL_c738b2027883428e8b2831c897d5b169",
        "IPY_MODEL_2951718f488d4966aa67ce842de37046",
        "IPY_MODEL_c488c61404194deba1514919a7e70555",
        "IPY_MODEL_98441e21a0824044971cb2eb95eaf15f"
       ],
       "layout": "IPY_MODEL_7809d75d0acb49b2bc6f00107fa95789"
      }
     },
     "72dcbc8b9d444893958111366cfa1f36": {
      "model_module": "@jupyter-widgets/controls",
      "model_module_version": "1.5.0",
      "model_name": "HBoxModel",
      "state": {
       "children": [
        "IPY_MODEL_072ebed4bc8b45a9a75894c3b0e12cc0",
        "IPY_MODEL_d212bb6ddb5e4437a59108a4b8a74dd2"
       ],
       "layout": "IPY_MODEL_e988568e779f4153b5da9d0a27867047"
      }
     },
     "72ea1d2f035d44a6a97a2145ac3ba770": {
      "model_module": "@jupyter-widgets/controls",
      "model_module_version": "1.5.0",
      "model_name": "VBoxModel",
      "state": {
       "children": [
        "IPY_MODEL_58a1b9665de449c99e8c1ffe82c8b9ed",
        "IPY_MODEL_96a18f829e79476f8bf473f5e966b642",
        "IPY_MODEL_77d04737e52241f3a95bb56277be4a80",
        "IPY_MODEL_b593db63a3134319832303759df33b9b",
        "IPY_MODEL_40df1e36b5fe460691d1a60bb37d066e"
       ],
       "layout": "IPY_MODEL_0e1fd712fbbb477aa24f513df8197745"
      }
     },
     "732c266fc84c4b0f8fd78bfed82aee89": {
      "model_module": "@jupyter-widgets/controls",
      "model_module_version": "1.5.0",
      "model_name": "DescriptionStyleModel",
      "state": {
       "description_width": ""
      }
     },
     "7353363562ec4de29f3f26848c05e847": {
      "model_module": "@jupyter-widgets/controls",
      "model_module_version": "1.5.0",
      "model_name": "HTMLModel",
      "state": {
       "layout": "IPY_MODEL_89e934ca73fe42228f30890b40c5db45",
       "style": "IPY_MODEL_b405bc56831c478692ebed4b356b0043",
       "value": "<i>Wählen Sie die <ins>eine</ins> korrekte Antwort aus: </i>"
      }
     },
     "736c3d78a74a49e3af5c68cf0d798423": {
      "model_module": "@jupyter-widgets/controls",
      "model_module_version": "1.5.0",
      "model_name": "ButtonStyleModel",
      "state": {}
     },
     "737001f67d6941c19e145622dc3f379e": {
      "model_module": "@jupyter-widgets/base",
      "model_module_version": "1.2.0",
      "model_name": "LayoutModel",
      "state": {}
     },
     "73778a5eeab94458a5a39ae9af3df12d": {
      "model_module": "@jupyter-widgets/controls",
      "model_module_version": "1.5.0",
      "model_name": "HTMLModel",
      "state": {
       "layout": "IPY_MODEL_5bfa922e61ed44fda9894e0f4c002351",
       "style": "IPY_MODEL_adbcc8e55f0a40ae84eaafc581e1433c",
       "value": "<h4 style=\"font-size:14px;\">Um welchen Parser handelt es sich?</h4>"
      }
     },
     "737dfaeec5584113a316b0506bd38e90": {
      "model_module": "@jupyter-widgets/controls",
      "model_module_version": "1.5.0",
      "model_name": "HBoxModel",
      "state": {
       "children": [
        "IPY_MODEL_54a8858cc0dd49d494275777634bb8c1",
        "IPY_MODEL_19cf7864d8f948de8744117663cb1d37"
       ],
       "layout": "IPY_MODEL_9783546a0aa34e58b1cc78651c1ae208"
      }
     },
     "73849cda1e544cc594f41355c94c9145": {
      "model_module": "@jupyter-widgets/base",
      "model_module_version": "1.2.0",
      "model_name": "LayoutModel",
      "state": {
       "justify_content": "center"
      }
     },
     "739faffa66fa48f0a426190b8923be07": {
      "model_module": "@jupyter-widgets/base",
      "model_module_version": "1.2.0",
      "model_name": "LayoutModel",
      "state": {
       "width": "250px"
      }
     },
     "742e53ed4c8943a595a9cd453d7cc6b1": {
      "model_module": "@jupyter-widgets/base",
      "model_module_version": "1.2.0",
      "model_name": "LayoutModel",
      "state": {
       "width": "600px"
      }
     },
     "7489ccb8d10f40938a24d41c2388403e": {
      "model_module": "@jupyter-widgets/controls",
      "model_module_version": "1.5.0",
      "model_name": "ButtonModel",
      "state": {
       "description": "Keine der Alternativen",
       "layout": "IPY_MODEL_6804ef7cc77a439c8b40aa329da82a2e",
       "style": "IPY_MODEL_c5f0a3087fc1434eacf65e8b9ebab9a1"
      }
     },
     "748ee35b745e4e749f9a039a7fa24713": {
      "model_module": "@jupyter-widgets/base",
      "model_module_version": "1.2.0",
      "model_name": "LayoutModel",
      "state": {
       "width": "250px"
      }
     },
     "74d16f483b32400885a4d2578703b5b3": {
      "model_module": "@jupyter-widgets/controls",
      "model_module_version": "1.5.0",
      "model_name": "ButtonStyleModel",
      "state": {}
     },
     "74d8769f292e48ec883a490e0735dd1e": {
      "model_module": "@jupyter-widgets/controls",
      "model_module_version": "1.5.0",
      "model_name": "HBoxModel",
      "state": {
       "children": [
        "IPY_MODEL_81eb861652534fe0aec3a7cd22ff6332"
       ],
       "layout": "IPY_MODEL_bb10f98d28c64cf6b4d16cfc4a24ab79"
      }
     },
     "74ec8be9ec464dcbb3ff7cea2a3b19ca": {
      "model_module": "@jupyter-widgets/controls",
      "model_module_version": "1.5.0",
      "model_name": "ButtonStyleModel",
      "state": {}
     },
     "7519dee5ed984e86980aa97373303d09": {
      "model_module": "@jupyter-widgets/controls",
      "model_module_version": "1.5.0",
      "model_name": "VBoxModel",
      "state": {
       "children": [
        "IPY_MODEL_312d332dc8734bae8625e120adf851c7",
        "IPY_MODEL_7551cbab199542249cddc21d2520ff71",
        "IPY_MODEL_9ac25a8a558746f4b041b158ba4a3760",
        "IPY_MODEL_d5ca523ab9a24d489d04f9a3c78695c4",
        "IPY_MODEL_489ebf6b3f254d0bb2b1a3ab704d5ea6"
       ],
       "layout": "IPY_MODEL_362836aebe174893a3db22ebe466c1f3"
      }
     },
     "751a2adbd617423d8ed76d1f7da9a718": {
      "model_module": "@jupyter-widgets/controls",
      "model_module_version": "1.5.0",
      "model_name": "ButtonStyleModel",
      "state": {}
     },
     "751d93d531c84b8fbe9823839855f636": {
      "model_module": "@jupyter-widgets/controls",
      "model_module_version": "1.5.0",
      "model_name": "DescriptionStyleModel",
      "state": {
       "description_width": "initial"
      }
     },
     "7530b89a466047eab6eb4e3f0eaac91f": {
      "model_module": "@jupyter-widgets/controls",
      "model_module_version": "1.5.0",
      "model_name": "DescriptionStyleModel",
      "state": {
       "description_width": ""
      }
     },
     "7551cbab199542249cddc21d2520ff71": {
      "model_module": "@jupyter-widgets/controls",
      "model_module_version": "1.5.0",
      "model_name": "HTMLModel",
      "state": {
       "layout": "IPY_MODEL_d078a7e3d5514fc997056626ec689872",
       "style": "IPY_MODEL_293831ba714c44efb287d3af9ad40906",
       "value": "<i>Wählen Sie die <ins>eine</ins> korrekte Antwort aus: </i>"
      }
     },
     "7585f5d9f0c44b79897d772a847f1ee2": {
      "model_module": "@jupyter-widgets/controls",
      "model_module_version": "1.5.0",
      "model_name": "ButtonModel",
      "state": {
       "description": "Scan",
       "layout": "IPY_MODEL_9c442ac458f04e5fa97214e6dfd7952c",
       "style": "IPY_MODEL_74d16f483b32400885a4d2578703b5b3"
      }
     },
     "75e58e2c729949ac841d1010d628301e": {
      "model_module": "@jupyter-widgets/controls",
      "model_module_version": "1.5.0",
      "model_name": "ButtonModel",
      "state": {
       "description": "Predict",
       "layout": "IPY_MODEL_ed970524d7a84149a10dc8704b7f89c1",
       "style": "IPY_MODEL_e21c07f7403546998f338b956c6528b6"
      }
     },
     "75ee15dc53794903aff49bb1bc8c5cf9": {
      "model_module": "@jupyter-widgets/base",
      "model_module_version": "1.2.0",
      "model_name": "LayoutModel",
      "state": {
       "width": "250px"
      }
     },
     "76106f1404ea43168f040585e7cc9a33": {
      "model_module": "@jupyter-widgets/controls",
      "model_module_version": "1.5.0",
      "model_name": "HBoxModel",
      "state": {
       "children": [
        "IPY_MODEL_7e0ef83266c1478990e8dade492071d1",
        "IPY_MODEL_b471069947974af99532f8970d32149d"
       ],
       "layout": "IPY_MODEL_86e9b3dc53354c4d9ca523c2c20f2027"
      }
     },
     "764000de0f094eea871d4db33da621e6": {
      "model_module": "@jupyter-widgets/base",
      "model_module_version": "1.2.0",
      "model_name": "LayoutModel",
      "state": {
       "width": "250px"
      }
     },
     "767f1f1bc29a4334a787c1276e7bd498": {
      "model_module": "@jupyter-widgets/base",
      "model_module_version": "1.2.0",
      "model_name": "LayoutModel",
      "state": {
       "width": "250px"
      }
     },
     "768b8c5ca08b40bfabdff5839b671baf": {
      "model_module": "@jupyter-widgets/controls",
      "model_module_version": "1.5.0",
      "model_name": "ButtonModel",
      "state": {
       "description": "Reduce",
       "layout": "IPY_MODEL_bc6b2db6b02e4d4e996726ea493bb965",
       "style": "IPY_MODEL_98e8a21970844f8599e90b7262448be2"
      }
     },
     "76acbdd35605498d948378f641760e34": {
      "model_module": "@jupyter-widgets/base",
      "model_module_version": "1.2.0",
      "model_name": "LayoutModel",
      "state": {
       "width": "250px"
      }
     },
     "76b25f5161344ff9a72e58d6c870561c": {
      "model_module": "@jupyter-widgets/controls",
      "model_module_version": "1.5.0",
      "model_name": "HBoxModel",
      "state": {
       "children": [
        "IPY_MODEL_543d934727214351ba98372f71a9fe93",
        "IPY_MODEL_0646934f4cb24e809bcb6ef1d1050803"
       ],
       "layout": "IPY_MODEL_4705bd98f77240a09a86affe5f6dc776"
      }
     },
     "76f59b755d23400883c6260a7de2ad6f": {
      "model_module": "@jupyter-widgets/base",
      "model_module_version": "1.2.0",
      "model_name": "LayoutModel",
      "state": {
       "justify_content": "center"
      }
     },
     "778eb26b575d48a2b2d1475f451fcf7a": {
      "model_module": "@jupyter-widgets/controls",
      "model_module_version": "1.5.0",
      "model_name": "VBoxModel",
      "state": {
       "children": [
        "IPY_MODEL_06c668d8a19041618bce49a311299927",
        "IPY_MODEL_a695a6529d3845e58db1e4116b04571a",
        "IPY_MODEL_1c643d1ace0f4dc891a3520b704dc51a",
        "IPY_MODEL_d6ba20f8548c4869b9e29ec60106ef7f",
        "IPY_MODEL_396a8e6535424790aa16b5d71c937b04"
       ],
       "layout": "IPY_MODEL_64f29bb417fb47ceb141119c7465e23f"
      }
     },
     "779b32cda35f45888d2cefd70338ec92": {
      "model_module": "@jupyter-widgets/controls",
      "model_module_version": "1.5.0",
      "model_name": "ButtonStyleModel",
      "state": {}
     },
     "77d04737e52241f3a95bb56277be4a80": {
      "model_module": "@jupyter-widgets/controls",
      "model_module_version": "1.5.0",
      "model_name": "HBoxModel",
      "state": {
       "children": [
        "IPY_MODEL_54945f1e1bce4729a76aeb86a12fe200",
        "IPY_MODEL_dea59c9e954849979650542c688f40d3"
       ],
       "layout": "IPY_MODEL_ccfa8919227f4c6fb4d12a1e723262a5"
      }
     },
     "77e36d0f8ddf473587231935dab15683": {
      "model_module": "@jupyter-widgets/base",
      "model_module_version": "1.2.0",
      "model_name": "LayoutModel",
      "state": {}
     },
     "77f1859bf3aa44209b48b81480564a62": {
      "model_module": "@jupyter-widgets/base",
      "model_module_version": "1.2.0",
      "model_name": "LayoutModel",
      "state": {
       "justify_content": "center"
      }
     },
     "7809d75d0acb49b2bc6f00107fa95789": {
      "model_module": "@jupyter-widgets/base",
      "model_module_version": "1.2.0",
      "model_name": "LayoutModel",
      "state": {}
     },
     "7834b128230847fdbecf3e0f791dd462": {
      "model_module": "@jupyter-widgets/base",
      "model_module_version": "1.2.0",
      "model_name": "LayoutModel",
      "state": {}
     },
     "7844571a475245b4881d85cd31a93a4c": {
      "model_module": "@jupyter-widgets/base",
      "model_module_version": "1.2.0",
      "model_name": "LayoutModel",
      "state": {}
     },
     "785c0bd243774280a2bbb6cccc4c61bc": {
      "model_module": "@jupyter-widgets/base",
      "model_module_version": "1.2.0",
      "model_name": "LayoutModel",
      "state": {
       "width": "250px"
      }
     },
     "78a4eaafa04b4ea5b160c6e5f9bbbeac": {
      "model_module": "@jupyter-widgets/controls",
      "model_module_version": "1.5.0",
      "model_name": "ButtonStyleModel",
      "state": {}
     },
     "78af0e55befc4c31a6f42c20d776ec0b": {
      "model_module": "@jupyter-widgets/base",
      "model_module_version": "1.2.0",
      "model_name": "LayoutModel",
      "state": {}
     },
     "78bdfe0fd4064592a1a09721550fd5cb": {
      "model_module": "@jupyter-widgets/controls",
      "model_module_version": "1.5.0",
      "model_name": "ButtonModel",
      "state": {
       "description": "Reduce",
       "layout": "IPY_MODEL_fbb99366ecc9449dbd117f0b377c6afa",
       "style": "IPY_MODEL_331f8977d0f74c6dba9fd36ea042177c"
      }
     },
     "791955c8ad9345e6b022f90bb4c4509e": {
      "model_module": "@jupyter-widgets/base",
      "model_module_version": "1.2.0",
      "model_name": "LayoutModel",
      "state": {}
     },
     "792df644b23249a8aab58b663da0c3cf": {
      "model_module": "@jupyter-widgets/controls",
      "model_module_version": "1.5.0",
      "model_name": "HTMLModel",
      "state": {
       "layout": "IPY_MODEL_3890941ad769478f822733bc6b052e01",
       "style": "IPY_MODEL_f6003010c8524d9c8efce926354877f2",
       "value": "<i>Wählen Sie die <ins>eine</ins> korrekte Antwort aus: </i>"
      }
     },
     "79384f716724440aac586d1416169ee4": {
      "model_module": "@jupyter-widgets/controls",
      "model_module_version": "1.5.0",
      "model_name": "ButtonModel",
      "state": {
       "description": "Reduce",
       "layout": "IPY_MODEL_0b1a17be93cd4084afc1f55a2fa3b626",
       "style": "IPY_MODEL_6747f5dbc49f4f4886c4c799f2257772"
      }
     },
     "79ea631fc6d547c580824d1aa64624d1": {
      "model_module": "@jupyter-widgets/base",
      "model_module_version": "1.2.0",
      "model_name": "LayoutModel",
      "state": {}
     },
     "79fbd7f71a194011853f7c9fce48472b": {
      "model_module": "@jupyter-widgets/base",
      "model_module_version": "1.2.0",
      "model_name": "LayoutModel",
      "state": {
       "justify_content": "center"
      }
     },
     "7a1be672241643f1b73cc0cd45e9af64": {
      "model_module": "@jupyter-widgets/controls",
      "model_module_version": "1.5.0",
      "model_name": "HBoxModel",
      "state": {
       "children": [
        "IPY_MODEL_f380c7aac31840a48561a0b322a795b9",
        "IPY_MODEL_6475d56a151d436da8047d3e06588b9f"
       ],
       "layout": "IPY_MODEL_7f72b8909dea49afa159920021fd7436"
      }
     },
     "7a747708c9c043f2a53ef39991618ef8": {
      "model_module": "@jupyter-widgets/base",
      "model_module_version": "1.2.0",
      "model_name": "LayoutModel",
      "state": {
       "justify_content": "center"
      }
     },
     "7a984c53b8b6483cb1e69e8e640a6268": {
      "model_module": "@jupyter-widgets/controls",
      "model_module_version": "1.5.0",
      "model_name": "DescriptionStyleModel",
      "state": {
       "description_width": ""
      }
     },
     "7a996264d66f40019e48e0c777a11fe9": {
      "model_module": "@jupyter-widgets/base",
      "model_module_version": "1.2.0",
      "model_name": "LayoutModel",
      "state": {
       "width": "250px"
      }
     },
     "7aa282ea119240d5b75fa50f6f0498ce": {
      "model_module": "@jupyter-widgets/controls",
      "model_module_version": "1.5.0",
      "model_name": "ButtonStyleModel",
      "state": {}
     },
     "7ab94e5a277342f8b15aff937ab2bc0a": {
      "model_module": "@jupyter-widgets/controls",
      "model_module_version": "1.5.0",
      "model_name": "DescriptionStyleModel",
      "state": {
       "description_width": ""
      }
     },
     "7b1f9412d26741489d567582c509ba17": {
      "model_module": "@jupyter-widgets/base",
      "model_module_version": "1.2.0",
      "model_name": "LayoutModel",
      "state": {
       "width": "250px"
      }
     },
     "7b3059af11c44bdf9099528c13ff985c": {
      "model_module": "@jupyter-widgets/controls",
      "model_module_version": "1.5.0",
      "model_name": "ButtonStyleModel",
      "state": {}
     },
     "7b4424c3fb4747e98288f567305dc9a3": {
      "model_module": "@jupyter-widgets/controls",
      "model_module_version": "1.5.0",
      "model_name": "HBoxModel",
      "state": {
       "children": [
        "IPY_MODEL_250440541dc145f3b4969f6bd91a7687",
        "IPY_MODEL_f48633dc463146bb914ef402bf5c86f7"
       ],
       "layout": "IPY_MODEL_80046ba2af7144329ed47a0dec7a3aa4"
      }
     },
     "7b6b0ac166584e02bc3b80057b6d1251": {
      "model_module": "@jupyter-widgets/base",
      "model_module_version": "1.2.0",
      "model_name": "LayoutModel",
      "state": {
       "width": "250px"
      }
     },
     "7b8a222490f940ad972a758742f74119": {
      "model_module": "@jupyter-widgets/controls",
      "model_module_version": "1.5.0",
      "model_name": "DescriptionStyleModel",
      "state": {
       "description_width": ""
      }
     },
     "7bfdc35fe4e645b8bed9be777929dd06": {
      "model_module": "@jupyter-widgets/controls",
      "model_module_version": "1.5.0",
      "model_name": "ButtonStyleModel",
      "state": {}
     },
     "7c127293b682417a954e81e350f53c71": {
      "model_module": "@jupyter-widgets/controls",
      "model_module_version": "1.5.0",
      "model_name": "HTMLModel",
      "state": {
       "layout": "IPY_MODEL_a3fe1ccb51ca4db1a994ac523b48a792",
       "style": "IPY_MODEL_4f0d2b50ea614009ad124deabe29a7cf",
       "value": "<h4 style=\"font-size:14px;\">Welche Operation folgt als nächstes?</h4>"
      }
     },
     "7c17abbee3f0446bb0fec43cefd4e284": {
      "model_module": "@jupyter-widgets/controls",
      "model_module_version": "1.5.0",
      "model_name": "ButtonStyleModel",
      "state": {}
     },
     "7c4a60bc2d9344ccb8ba73c34ae45f21": {
      "model_module": "@jupyter-widgets/controls",
      "model_module_version": "1.5.0",
      "model_name": "ButtonModel",
      "state": {
       "description": "Keine der Alternativen",
       "layout": "IPY_MODEL_59b937f60e514b0aa2c4179d4d8441b4",
       "style": "IPY_MODEL_6b0602384f564b24847b317bb932a772"
      }
     },
     "7c52baaa47f446ceace64da6528cd5d9": {
      "model_module": "@jupyter-widgets/controls",
      "model_module_version": "1.5.0",
      "model_name": "HBoxModel",
      "state": {
       "children": [
        "IPY_MODEL_d9a9bb8fd9644060b631bf51830651c8",
        "IPY_MODEL_30bc245257164fd89a4cb041a0ad7b6d"
       ],
       "layout": "IPY_MODEL_9624bf63d5234decaffba7a09167e816"
      }
     },
     "7ca4bd0d556e40a2b63900d3e20ec902": {
      "model_module": "@jupyter-widgets/controls",
      "model_module_version": "1.5.0",
      "model_name": "CheckboxModel",
      "state": {
       "description": "Scan",
       "disabled": false,
       "layout": "IPY_MODEL_908f807e6ca44a15b37f20b1e85da1ba",
       "style": "IPY_MODEL_a7127313f3d04c3c8094196a66aa242f",
       "value": false
      }
     },
     "7ca581ca88324be091a61db46e29c00e": {
      "model_module": "@jupyter-widgets/base",
      "model_module_version": "1.2.0",
      "model_name": "LayoutModel",
      "state": {}
     },
     "7cb0d91a04cc4901a6faa0eb6fcc9a14": {
      "model_module": "@jupyter-widgets/base",
      "model_module_version": "1.2.0",
      "model_name": "LayoutModel",
      "state": {}
     },
     "7cb9cabb036d4f53b6a13db5f6265379": {
      "model_module": "@jupyter-widgets/controls",
      "model_module_version": "1.5.0",
      "model_name": "ButtonModel",
      "state": {
       "description": "Shift",
       "layout": "IPY_MODEL_739faffa66fa48f0a426190b8923be07",
       "style": "IPY_MODEL_6a7c5362a28a43bcbe8a88799d68305f"
      }
     },
     "7cceaaff5ae84237afdc0f842a98b874": {
      "model_module": "@jupyter-widgets/controls",
      "model_module_version": "1.5.0",
      "model_name": "ButtonStyleModel",
      "state": {}
     },
     "7d0bd4c45df64eb5a24ef1cd8916b16e": {
      "model_module": "@jupyter-widgets/controls",
      "model_module_version": "1.5.0",
      "model_name": "CheckboxModel",
      "state": {
       "description": "Complete",
       "disabled": false,
       "layout": "IPY_MODEL_03e3fb835cd740bca84962024187ac29",
       "style": "IPY_MODEL_f377825f2fd34bf09f16a7d2e103a40d",
       "value": false
      }
     },
     "7d0d00b1ecf54181bf49c69809e224f8": {
      "model_module": "@jupyter-widgets/controls",
      "model_module_version": "1.5.0",
      "model_name": "ButtonStyleModel",
      "state": {}
     },
     "7d3ef104bea94ebc8e04289c17ec675f": {
      "model_module": "@jupyter-widgets/controls",
      "model_module_version": "1.5.0",
      "model_name": "ButtonStyleModel",
      "state": {}
     },
     "7dc3178d016b400f83750273ebd0685a": {
      "model_module": "@jupyter-widgets/controls",
      "model_module_version": "1.5.0",
      "model_name": "HTMLModel",
      "state": {
       "layout": "IPY_MODEL_64812cb0624b4b1f804d8a08a5ab0857",
       "style": "IPY_MODEL_e449777aa7904c939e3a8d1f03db0d56",
       "value": "<h4 style=\"font-size:14px;\">Um welchen Parser handelt es sich?</h4>"
      }
     },
     "7dcfadc4b9e546acafd54d33212b4ef9": {
      "model_module": "@jupyter-widgets/controls",
      "model_module_version": "1.5.0",
      "model_name": "VBoxModel",
      "state": {
       "children": [
        "IPY_MODEL_119483dff7694db293bdcb9c8bccc825",
        "IPY_MODEL_b7fe2093179642f588dffbd01d5ff46c",
        "IPY_MODEL_da399ba6b3954f69906a353eba929170",
        "IPY_MODEL_ff459a834c9b46a3a4239c2db9ebb32b",
        "IPY_MODEL_19785aadb09f419c817ec581ca210a03"
       ],
       "layout": "IPY_MODEL_d957643090f8400ab065944e563c2f9d"
      }
     },
     "7e0ef83266c1478990e8dade492071d1": {
      "model_module": "@jupyter-widgets/controls",
      "model_module_version": "1.5.0",
      "model_name": "ButtonModel",
      "state": {
       "description": "Predict",
       "layout": "IPY_MODEL_cb13a95c48494e4db7bef227594f5058",
       "style": "IPY_MODEL_1c38a092157a4d21b9dabba12e7f3b2f"
      }
     },
     "7e88e43672c3423797c67f9963223f7b": {
      "model_module": "@jupyter-widgets/base",
      "model_module_version": "1.2.0",
      "model_name": "LayoutModel",
      "state": {
       "width": "250px"
      }
     },
     "7e91c0cd3ab643d0bb4b4b79664f9cdb": {
      "model_module": "@jupyter-widgets/base",
      "model_module_version": "1.2.0",
      "model_name": "LayoutModel",
      "state": {
       "width": "250px"
      }
     },
     "7ec6347752864981b6b8f0696e546115": {
      "model_module": "@jupyter-widgets/base",
      "model_module_version": "1.2.0",
      "model_name": "LayoutModel",
      "state": {
       "width": "250px"
      }
     },
     "7ee4e1d6de6f411b9ca2094908092b39": {
      "model_module": "@jupyter-widgets/controls",
      "model_module_version": "1.5.0",
      "model_name": "HTMLModel",
      "state": {
       "layout": "IPY_MODEL_5b47ad3e3279458aafd44ab94ca3ceaf",
       "style": "IPY_MODEL_543728f0fcc44341a1fcf6c779b3a444",
       "value": "<i>Wählen Sie die <ins>eine</ins> korrekte Antwort aus: </i>"
      }
     },
     "7f31a1b0be794abab4d71746283beaf5": {
      "model_module": "@jupyter-widgets/base",
      "model_module_version": "1.2.0",
      "model_name": "LayoutModel",
      "state": {
       "width": "250px"
      }
     },
     "7f6f638c487a4ed197b82a7715ac274f": {
      "model_module": "@jupyter-widgets/base",
      "model_module_version": "1.2.0",
      "model_name": "LayoutModel",
      "state": {
       "justify_content": "center"
      }
     },
     "7f72b8909dea49afa159920021fd7436": {
      "model_module": "@jupyter-widgets/base",
      "model_module_version": "1.2.0",
      "model_name": "LayoutModel",
      "state": {}
     },
     "7f7ac0ad4b0e4f859d0363919b702418": {
      "model_module": "@jupyter-widgets/controls",
      "model_module_version": "1.5.0",
      "model_name": "HBoxModel",
      "state": {
       "children": [
        "IPY_MODEL_8e09d94a861842e29bc428246b1b65c6",
        "IPY_MODEL_320ed8c0ab124fa4920b4bf340c94ee9"
       ],
       "layout": "IPY_MODEL_48d6e592acd041f7b08985e3bf6d79c7"
      }
     },
     "7fb3ecdc11f1420c96d0d488317b02b7": {
      "model_module": "@jupyter-widgets/controls",
      "model_module_version": "1.5.0",
      "model_name": "ButtonModel",
      "state": {
       "description": "Reduce",
       "layout": "IPY_MODEL_a473801e02764335b0dc2d5a4b1118b3",
       "style": "IPY_MODEL_0b2b38b72acb4a89929803b303ef8865"
      }
     },
     "7fb6e4b3ead244e9a5f777251d93275b": {
      "model_module": "@jupyter-widgets/controls",
      "model_module_version": "1.5.0",
      "model_name": "HBoxModel",
      "state": {
       "children": [
        "IPY_MODEL_8e0c51a3fcaa4ae3bb64cd08b83edffc",
        "IPY_MODEL_be5e37abe1f04a90a5ce07164e907566"
       ],
       "layout": "IPY_MODEL_6b10026e188a42e4a5e8933ef4246f6a"
      }
     },
     "7fce70ba77af4160b6a40bb59f13dbe9": {
      "model_module": "@jupyter-widgets/controls",
      "model_module_version": "1.5.0",
      "model_name": "HBoxModel",
      "state": {
       "children": [
        "IPY_MODEL_3fe17616874946af81aaf4b52e14f24e",
        "IPY_MODEL_235520166c8b4419a5189ae5ebc96be4"
       ],
       "layout": "IPY_MODEL_79ea631fc6d547c580824d1aa64624d1"
      }
     },
     "7fe16a6b9e984fa19099aa3754768a58": {
      "model_module": "@jupyter-widgets/base",
      "model_module_version": "1.2.0",
      "model_name": "LayoutModel",
      "state": {}
     },
     "7fe1f92123be4598bf9654cd52697379": {
      "model_module": "@jupyter-widgets/base",
      "model_module_version": "1.2.0",
      "model_name": "LayoutModel",
      "state": {
       "width": "250px"
      }
     },
     "7ffc9fd7f63542bb90b1fe52a3fee84e": {
      "model_module": "@jupyter-widgets/base",
      "model_module_version": "1.2.0",
      "model_name": "LayoutModel",
      "state": {
       "width": "250px"
      }
     },
     "80046ba2af7144329ed47a0dec7a3aa4": {
      "model_module": "@jupyter-widgets/base",
      "model_module_version": "1.2.0",
      "model_name": "LayoutModel",
      "state": {}
     },
     "803061ef1f2b43679b322f5114baa53c": {
      "model_module": "@jupyter-widgets/base",
      "model_module_version": "1.2.0",
      "model_name": "LayoutModel",
      "state": {}
     },
     "8030eeebb9eb4dcf89c3ef076a34b138": {
      "model_module": "@jupyter-widgets/base",
      "model_module_version": "1.2.0",
      "model_name": "LayoutModel",
      "state": {
       "justify_content": "center"
      }
     },
     "803dc3fd3f734eedb1610d84e10faf2b": {
      "model_module": "@jupyter-widgets/base",
      "model_module_version": "1.2.0",
      "model_name": "LayoutModel",
      "state": {
       "width": "250px"
      }
     },
     "805876b0a67f4746b72a6c1070171e6d": {
      "model_module": "@jupyter-widgets/controls",
      "model_module_version": "1.5.0",
      "model_name": "ButtonModel",
      "state": {
       "description": "Korrekt?",
       "layout": "IPY_MODEL_58449376535a450686a1e6bcd7fbf079",
       "style": "IPY_MODEL_3fcc2670251143ffa89f729aab95a0f4"
      }
     },
     "80cff882993b45938868d1f0b9cca9c9": {
      "model_module": "@jupyter-widgets/controls",
      "model_module_version": "1.5.0",
      "model_name": "ButtonStyleModel",
      "state": {}
     },
     "80ef47525d6d46efa724029c93c9f3db": {
      "model_module": "@jupyter-widgets/controls",
      "model_module_version": "1.5.0",
      "model_name": "ButtonStyleModel",
      "state": {}
     },
     "816620aee0eb414fb88c84e7cdfa8986": {
      "model_module": "@jupyter-widgets/base",
      "model_module_version": "1.2.0",
      "model_name": "LayoutModel",
      "state": {
       "justify_content": "center"
      }
     },
     "817bf236d648426c97ea9046832c2d3b": {
      "model_module": "@jupyter-widgets/controls",
      "model_module_version": "1.5.0",
      "model_name": "HBoxModel",
      "state": {
       "children": [
        "IPY_MODEL_75e58e2c729949ac841d1010d628301e",
        "IPY_MODEL_4528d559acdf4bf481907e57f16b7945"
       ],
       "layout": "IPY_MODEL_ae70d33ce81442e482ba5cb3b71bad70"
      }
     },
     "819500e9c89b4b5fb8746413b13d1729": {
      "model_module": "@jupyter-widgets/base",
      "model_module_version": "1.2.0",
      "model_name": "LayoutModel",
      "state": {}
     },
     "81a116b0e98f4e12ba3ed3910279b0b2": {
      "model_module": "@jupyter-widgets/controls",
      "model_module_version": "1.5.0",
      "model_name": "ButtonStyleModel",
      "state": {}
     },
     "81a15c7e8ffc4c74a6e440d1ac14515c": {
      "model_module": "@jupyter-widgets/base",
      "model_module_version": "1.2.0",
      "model_name": "LayoutModel",
      "state": {}
     },
     "81aa1ee6135d4f7eae55acef0a478252": {
      "model_module": "@jupyter-widgets/controls",
      "model_module_version": "1.5.0",
      "model_name": "ButtonModel",
      "state": {
       "description": "Complete",
       "layout": "IPY_MODEL_d41c21c1f1314a009e4bc6c6fea0a757",
       "style": "IPY_MODEL_c99ffe4469c742a190ac8ebdd9cd23a6"
      }
     },
     "81aaa8baf1c34e898d14a77b27e2403c": {
      "model_module": "@jupyter-widgets/base",
      "model_module_version": "1.2.0",
      "model_name": "LayoutModel",
      "state": {
       "justify_content": "center"
      }
     },
     "81eb861652534fe0aec3a7cd22ff6332": {
      "model_module": "@jupyter-widgets/controls",
      "model_module_version": "1.5.0",
      "model_name": "ButtonModel",
      "state": {
       "description": "Shift",
       "layout": "IPY_MODEL_ddc8349a96b64be09f545a4ece6258e7",
       "style": "IPY_MODEL_3f5cc25f8d484db98d495b31f3c32129"
      }
     },
     "821cc66054a748bc9fba01d7455a36cd": {
      "model_module": "@jupyter-widgets/base",
      "model_module_version": "1.2.0",
      "model_name": "LayoutModel",
      "state": {
       "width": "250px"
      }
     },
     "82615f73331342ff97bf15662190c118": {
      "model_module": "@jupyter-widgets/controls",
      "model_module_version": "1.5.0",
      "model_name": "DescriptionStyleModel",
      "state": {
       "description_width": ""
      }
     },
     "82b820f9e8b24d01b75a0f2145b80b86": {
      "model_module": "@jupyter-widgets/base",
      "model_module_version": "1.2.0",
      "model_name": "LayoutModel",
      "state": {}
     },
     "82bc8b28d65b45a0baf930f2d132dac3": {
      "model_module": "@jupyter-widgets/controls",
      "model_module_version": "1.5.0",
      "model_name": "ButtonStyleModel",
      "state": {}
     },
     "82d42db99ef340dfb610c6bd72469386": {
      "model_module": "@jupyter-widgets/controls",
      "model_module_version": "1.5.0",
      "model_name": "DescriptionStyleModel",
      "state": {
       "description_width": ""
      }
     },
     "834c633122924a8994c6ff19dade61ef": {
      "model_module": "@jupyter-widgets/controls",
      "model_module_version": "1.5.0",
      "model_name": "HBoxModel",
      "state": {
       "children": [
        "IPY_MODEL_78bdfe0fd4064592a1a09721550fd5cb",
        "IPY_MODEL_d866746c270d457d926c1d77e6855761"
       ],
       "layout": "IPY_MODEL_b949c065a060487c8ce0c29989098737"
      }
     },
     "834e344134c94f019f78f66c9aafcb23": {
      "model_module": "@jupyter-widgets/base",
      "model_module_version": "1.2.0",
      "model_name": "LayoutModel",
      "state": {}
     },
     "835bdeb9fec14ecbb5ac2ec8fb503c6d": {
      "model_module": "@jupyter-widgets/base",
      "model_module_version": "1.2.0",
      "model_name": "LayoutModel",
      "state": {
       "justify_content": "center"
      }
     },
     "83617cfccef1433ead222b6474deb0c0": {
      "model_module": "@jupyter-widgets/controls",
      "model_module_version": "1.5.0",
      "model_name": "ButtonStyleModel",
      "state": {}
     },
     "836c3003d28f4614b731565519673704": {
      "model_module": "@jupyter-widgets/controls",
      "model_module_version": "1.5.0",
      "model_name": "HBoxModel",
      "state": {
       "children": [
        "IPY_MODEL_a9f9f993f3904b5090515dece6b9e81c"
       ],
       "layout": "IPY_MODEL_898054cd0160474793b9aab11cac573b"
      }
     },
     "838f8b6361f94588be8511af3fbe818f": {
      "model_module": "@jupyter-widgets/base",
      "model_module_version": "1.2.0",
      "model_name": "LayoutModel",
      "state": {}
     },
     "839fd41f810d4803bd820e9427a4672d": {
      "model_module": "@jupyter-widgets/controls",
      "model_module_version": "1.5.0",
      "model_name": "HBoxModel",
      "state": {
       "children": [
        "IPY_MODEL_44b6a1f5f4a24e399baa0306ab8534d3"
       ],
       "layout": "IPY_MODEL_6765affcbe01492fa4f35b1baebeab6f"
      }
     },
     "83d1b313544e4430b00b1d3b67b37d8a": {
      "model_module": "@jupyter-widgets/base",
      "model_module_version": "1.2.0",
      "model_name": "LayoutModel",
      "state": {}
     },
     "83e9129d287a4ce0b2727e83a657384a": {
      "model_module": "@jupyter-widgets/controls",
      "model_module_version": "1.5.0",
      "model_name": "HBoxModel",
      "state": {
       "children": [
        "IPY_MODEL_fa160d77bcfe4e24921267209eee9ed6",
        "IPY_MODEL_8d2049b1c89b42b1ac7ed2417ccc29ad"
       ],
       "layout": "IPY_MODEL_5c04a52282124af0841c85eb72e67d90"
      }
     },
     "845ee18d72574ebd9b4e64d107dfde9d": {
      "model_module": "@jupyter-widgets/controls",
      "model_module_version": "1.5.0",
      "model_name": "ButtonModel",
      "state": {
       "description": "Keine der Alternativen",
       "layout": "IPY_MODEL_4039a83539464ea480a7ba1bdb994656",
       "style": "IPY_MODEL_5cab0822f4a44dd0a3d50577db640a17"
      }
     },
     "8469da6514f1432db95c92e5888d3d62": {
      "model_module": "@jupyter-widgets/controls",
      "model_module_version": "1.5.0",
      "model_name": "ButtonModel",
      "state": {
       "description": "Reduce",
       "layout": "IPY_MODEL_33dadf074b6942dc91524ccad35ed62b",
       "style": "IPY_MODEL_62db924ebfb2497aa137f8ceba48267f"
      }
     },
     "847cc89ef6d049c0854f3b1ddf18ae03": {
      "model_module": "@jupyter-widgets/base",
      "model_module_version": "1.2.0",
      "model_name": "LayoutModel",
      "state": {}
     },
     "848198a858b6466dbb5e0df63044138d": {
      "model_module": "@jupyter-widgets/base",
      "model_module_version": "1.2.0",
      "model_name": "LayoutModel",
      "state": {
       "width": "250px"
      }
     },
     "849e4780abf1450a91e3ecc3598d0355": {
      "model_module": "@jupyter-widgets/controls",
      "model_module_version": "1.5.0",
      "model_name": "ButtonStyleModel",
      "state": {}
     },
     "84b1a157da214477baf01037395e885b": {
      "model_module": "@jupyter-widgets/controls",
      "model_module_version": "1.5.0",
      "model_name": "HBoxModel",
      "state": {
       "children": [
        "IPY_MODEL_a958bf087f0948a48660dbe5af94ce1c",
        "IPY_MODEL_e8f67d0a0c89426180789ce2bdd8685a"
       ],
       "layout": "IPY_MODEL_94c92fabc7394b19b3a7b1eb6a802782"
      }
     },
     "84fe090079d74964a929cdefbe06147b": {
      "model_module": "@jupyter-widgets/base",
      "model_module_version": "1.2.0",
      "model_name": "LayoutModel",
      "state": {}
     },
     "851734bdcf0e4ce8a15bacee00db18d5": {
      "model_module": "@jupyter-widgets/controls",
      "model_module_version": "1.5.0",
      "model_name": "HTMLModel",
      "state": {
       "layout": "IPY_MODEL_901c1569267440b1be1340271b528b04",
       "style": "IPY_MODEL_4687205598324164ba43aa42b6dec778",
       "value": "<h4 style=\"font-size:14px;\">Welche Operation folgt als nächstes?</h4>"
      }
     },
     "859d1b1660e04d88947ca222d242ad3c": {
      "model_module": "@jupyter-widgets/controls",
      "model_module_version": "1.5.0",
      "model_name": "ButtonModel",
      "state": {
       "description": "Recusive Descent",
       "layout": "IPY_MODEL_c3e0e7b6ff264c41a8b6bbc36c132ed0",
       "style": "IPY_MODEL_6414b140f81445a38587d85e541bfb19"
      }
     },
     "85b2fab6119c473483dba2e8d9055f46": {
      "model_module": "@jupyter-widgets/controls",
      "model_module_version": "1.5.0",
      "model_name": "ButtonModel",
      "state": {
       "description": "Predict",
       "layout": "IPY_MODEL_d5db993642ef475288860ae9808e81e7",
       "style": "IPY_MODEL_e2ec0dd598574c589fc2f36e9fc259ca"
      }
     },
     "85e0100edbb645a48f5122d236ac6aad": {
      "model_module": "@jupyter-widgets/base",
      "model_module_version": "1.2.0",
      "model_name": "LayoutModel",
      "state": {}
     },
     "8625364cc1654ef2ad4123a04d2c4c9e": {
      "model_module": "@jupyter-widgets/controls",
      "model_module_version": "1.5.0",
      "model_name": "DescriptionStyleModel",
      "state": {
       "description_width": ""
      }
     },
     "863383580ba1442090251ca3acaf2aa2": {
      "model_module": "@jupyter-widgets/base",
      "model_module_version": "1.2.0",
      "model_name": "LayoutModel",
      "state": {
       "width": "600px"
      }
     },
     "863505f5a65b4928b741e3f28a25e71d": {
      "model_module": "@jupyter-widgets/base",
      "model_module_version": "1.2.0",
      "model_name": "LayoutModel",
      "state": {
       "width": "250px"
      }
     },
     "863bc95e440f4daa859da53e528ccd5c": {
      "model_module": "@jupyter-widgets/base",
      "model_module_version": "1.2.0",
      "model_name": "LayoutModel",
      "state": {
       "justify_content": "center"
      }
     },
     "863d53bbe8324164a2f777b4b68ed763": {
      "model_module": "@jupyter-widgets/controls",
      "model_module_version": "1.5.0",
      "model_name": "DescriptionStyleModel",
      "state": {
       "description_width": "initial"
      }
     },
     "865b11f4813b4e42bf193d38dfaa75cc": {
      "model_module": "@jupyter-widgets/controls",
      "model_module_version": "1.5.0",
      "model_name": "ButtonStyleModel",
      "state": {}
     },
     "86725dcc05dd4d2abc33b63b6b45d5b5": {
      "model_module": "@jupyter-widgets/base",
      "model_module_version": "1.2.0",
      "model_name": "LayoutModel",
      "state": {
       "width": "250px"
      }
     },
     "86a1302f1e3845738ec20796fec95815": {
      "model_module": "@jupyter-widgets/controls",
      "model_module_version": "1.5.0",
      "model_name": "HTMLModel",
      "state": {
       "layout": "IPY_MODEL_d5a0c5d50d294ef1bde4319627ca2ba9",
       "style": "IPY_MODEL_f5f25a46784b4138927ae59cacbea43b",
       "value": "<i>Markieren Sie <ins>alle</ins> passenden Antworten: </i>"
      }
     },
     "86a76937a89f42daa9ef10a952204e3c": {
      "model_module": "@jupyter-widgets/controls",
      "model_module_version": "1.5.0",
      "model_name": "DescriptionStyleModel",
      "state": {
       "description_width": ""
      }
     },
     "86ae9abae8f94376b4ef6aec473eb017": {
      "model_module": "@jupyter-widgets/controls",
      "model_module_version": "1.5.0",
      "model_name": "ButtonStyleModel",
      "state": {}
     },
     "86be8aaf71fa466b8abfdeabe669e28c": {
      "model_module": "@jupyter-widgets/controls",
      "model_module_version": "1.5.0",
      "model_name": "HBoxModel",
      "state": {
       "children": [
        "IPY_MODEL_09d03a73bbae4412825db5ed14a1950a"
       ],
       "layout": "IPY_MODEL_401df6a987934038a9858685c25181a3"
      }
     },
     "86e8b6be055b469882ff065edb91cff7": {
      "model_module": "@jupyter-widgets/controls",
      "model_module_version": "1.5.0",
      "model_name": "ButtonStyleModel",
      "state": {}
     },
     "86e9b3dc53354c4d9ca523c2c20f2027": {
      "model_module": "@jupyter-widgets/base",
      "model_module_version": "1.2.0",
      "model_name": "LayoutModel",
      "state": {}
     },
     "8711070a2e43464295f6a2a825f36348": {
      "model_module": "@jupyter-widgets/base",
      "model_module_version": "1.2.0",
      "model_name": "LayoutModel",
      "state": {
       "justify_content": "center"
      }
     },
     "871b9f5c870845e69a3774e3ad14626b": {
      "model_module": "@jupyter-widgets/base",
      "model_module_version": "1.2.0",
      "model_name": "LayoutModel",
      "state": {
       "width": "250px"
      }
     },
     "87530b3913b843f6a0dc7eea8a97a282": {
      "model_module": "@jupyter-widgets/base",
      "model_module_version": "1.2.0",
      "model_name": "LayoutModel",
      "state": {}
     },
     "8757d62bc08e49709f0fc0e8e140adc5": {
      "model_module": "@jupyter-widgets/controls",
      "model_module_version": "1.5.0",
      "model_name": "DescriptionStyleModel",
      "state": {
       "description_width": ""
      }
     },
     "875f0db819f64e958463800566f95a15": {
      "model_module": "@jupyter-widgets/controls",
      "model_module_version": "1.5.0",
      "model_name": "HBoxModel",
      "state": {
       "children": [
        "IPY_MODEL_c9cbbf3c2f0549a6b3fbadbd1780c0df"
       ],
       "layout": "IPY_MODEL_9dc3c4c9971c47e7b07428698057329f"
      }
     },
     "8787d793fc8c4ed983c434558639336f": {
      "model_module": "@jupyter-widgets/controls",
      "model_module_version": "1.5.0",
      "model_name": "HBoxModel",
      "state": {
       "children": [
        "IPY_MODEL_e29d17153dc7472bac3d0b03426c46db"
       ],
       "layout": "IPY_MODEL_9d6f9a3c8ddb4ee696cd931119575895"
      }
     },
     "88094c50f76e4dee8ee89b17061f2159": {
      "model_module": "@jupyter-widgets/controls",
      "model_module_version": "1.5.0",
      "model_name": "ButtonStyleModel",
      "state": {}
     },
     "881949fa567a479cbed1b091ec19e1c5": {
      "model_module": "@jupyter-widgets/controls",
      "model_module_version": "1.5.0",
      "model_name": "ButtonModel",
      "state": {
       "description": "Shift",
       "layout": "IPY_MODEL_98646b0f9b154c37bfe602b00f02cb03",
       "style": "IPY_MODEL_3bbd4237949a43c9b0cc11a8303aa5a7"
      }
     },
     "883c8e7c7aba4ff99975aa7f23e70532": {
      "model_module": "@jupyter-widgets/base",
      "model_module_version": "1.2.0",
      "model_name": "LayoutModel",
      "state": {
       "width": "250px"
      }
     },
     "888625893d5f43348eb7a306d6ef33ca": {
      "model_module": "@jupyter-widgets/controls",
      "model_module_version": "1.5.0",
      "model_name": "ButtonStyleModel",
      "state": {}
     },
     "88891e1dd8d4407082a6bedf9e5db33b": {
      "model_module": "@jupyter-widgets/base",
      "model_module_version": "1.2.0",
      "model_name": "LayoutModel",
      "state": {
       "width": "250px"
      }
     },
     "88b21743d7d34af28c01fdbfec5ca395": {
      "model_module": "@jupyter-widgets/base",
      "model_module_version": "1.2.0",
      "model_name": "LayoutModel",
      "state": {
       "width": "250px"
      }
     },
     "88e1cec12e1e4f88a548380056daacd5": {
      "model_module": "@jupyter-widgets/controls",
      "model_module_version": "1.5.0",
      "model_name": "ButtonStyleModel",
      "state": {}
     },
     "88fef06191494c89b05eec9992ce0905": {
      "model_module": "@jupyter-widgets/controls",
      "model_module_version": "1.5.0",
      "model_name": "DescriptionStyleModel",
      "state": {
       "description_width": ""
      }
     },
     "890ef86d4bf047fa8da8ec714ad6a178": {
      "model_module": "@jupyter-widgets/base",
      "model_module_version": "1.2.0",
      "model_name": "LayoutModel",
      "state": {
       "width": "250px"
      }
     },
     "89676477e3794e6b8a6df20d24b00b1b": {
      "model_module": "@jupyter-widgets/base",
      "model_module_version": "1.2.0",
      "model_name": "LayoutModel",
      "state": {
       "width": "250px"
      }
     },
     "898054cd0160474793b9aab11cac573b": {
      "model_module": "@jupyter-widgets/base",
      "model_module_version": "1.2.0",
      "model_name": "LayoutModel",
      "state": {}
     },
     "8988f383732d425b98aae2cba76885b8": {
      "model_module": "@jupyter-widgets/controls",
      "model_module_version": "1.5.0",
      "model_name": "DescriptionStyleModel",
      "state": {
       "description_width": ""
      }
     },
     "89dd359788ed4682a5268a5db0fa507a": {
      "model_module": "@jupyter-widgets/controls",
      "model_module_version": "1.5.0",
      "model_name": "ButtonStyleModel",
      "state": {}
     },
     "89e934ca73fe42228f30890b40c5db45": {
      "model_module": "@jupyter-widgets/base",
      "model_module_version": "1.2.0",
      "model_name": "LayoutModel",
      "state": {
       "justify_content": "center"
      }
     },
     "89fad49ac967480ba03587fb1dfd320a": {
      "model_module": "@jupyter-widgets/controls",
      "model_module_version": "1.5.0",
      "model_name": "ButtonStyleModel",
      "state": {}
     },
     "8a06ed6e01b04651976c98afd7de2b59": {
      "model_module": "@jupyter-widgets/base",
      "model_module_version": "1.2.0",
      "model_name": "LayoutModel",
      "state": {
       "width": "250px"
      }
     },
     "8a2a95185d974720b31a520b23b35ed8": {
      "model_module": "@jupyter-widgets/controls",
      "model_module_version": "1.5.0",
      "model_name": "ButtonModel",
      "state": {
       "description": "Scan",
       "layout": "IPY_MODEL_6e6c6507456d43cf8a224778bfabcc19",
       "style": "IPY_MODEL_3fe9dd1af31d4efaa46c687fd096981b"
      }
     },
     "8a6c6e53c84648d1823ac644d7a31429": {
      "model_module": "@jupyter-widgets/base",
      "model_module_version": "1.2.0",
      "model_name": "LayoutModel",
      "state": {
       "width": "600px"
      }
     },
     "8a80e932975745aea7b83fd5979d6ba6": {
      "model_module": "@jupyter-widgets/base",
      "model_module_version": "1.2.0",
      "model_name": "LayoutModel",
      "state": {}
     },
     "8aa92a845356423fbb02eb49fe20c56c": {
      "model_module": "@jupyter-widgets/controls",
      "model_module_version": "1.5.0",
      "model_name": "ButtonStyleModel",
      "state": {}
     },
     "8ae8901b70664c6f8ff16cd3472978e9": {
      "model_module": "@jupyter-widgets/base",
      "model_module_version": "1.2.0",
      "model_name": "LayoutModel",
      "state": {
       "width": "250px"
      }
     },
     "8b0bda3357f64bc5b929d4ffd6b5e289": {
      "model_module": "@jupyter-widgets/controls",
      "model_module_version": "1.5.0",
      "model_name": "ButtonModel",
      "state": {
       "description": "Complete",
       "layout": "IPY_MODEL_1868766ed6b741089888bcc0f1cb0eab",
       "style": "IPY_MODEL_ff2e063bba794aa9bc54990e60b91bee"
      }
     },
     "8b0f219a53b04d1fa8c3518e200d6d91": {
      "model_module": "@jupyter-widgets/controls",
      "model_module_version": "1.5.0",
      "model_name": "ButtonModel",
      "state": {
       "description": "Reduce",
       "layout": "IPY_MODEL_416d6f48dd7e42cabec1b9073987af43",
       "style": "IPY_MODEL_48113e0e26164cb0aafeadb7b4834aed"
      }
     },
     "8b16ff79a657446f9703599469c089ad": {
      "model_module": "@jupyter-widgets/base",
      "model_module_version": "1.2.0",
      "model_name": "LayoutModel",
      "state": {
       "justify_content": "center"
      }
     },
     "8b26a2118aaf4d98a99a061ca52e66da": {
      "model_module": "@jupyter-widgets/base",
      "model_module_version": "1.2.0",
      "model_name": "LayoutModel",
      "state": {
       "width": "600px"
      }
     },
     "8b4f0117ecab4da6afbd5efe6921c15d": {
      "model_module": "@jupyter-widgets/base",
      "model_module_version": "1.2.0",
      "model_name": "LayoutModel",
      "state": {
       "width": "600px"
      }
     },
     "8b8c87e2e92b4a9383ec3320a1a79283": {
      "model_module": "@jupyter-widgets/base",
      "model_module_version": "1.2.0",
      "model_name": "LayoutModel",
      "state": {
       "width": "250px"
      }
     },
     "8c0982609f384e7eb91c2d3aa8e81e25": {
      "model_module": "@jupyter-widgets/controls",
      "model_module_version": "1.5.0",
      "model_name": "HTMLModel",
      "state": {
       "layout": "IPY_MODEL_1624804ebd3a43639555e8fca807f559",
       "style": "IPY_MODEL_3a8f864e55224a61978bc96fbcac9867",
       "value": "<h4 style=\"font-size:14px;\">Welche Operation folgt als nächstes?</h4>"
      }
     },
     "8c1410cc0c2544cf9e7a481f5b969109": {
      "model_module": "@jupyter-widgets/controls",
      "model_module_version": "1.5.0",
      "model_name": "ButtonModel",
      "state": {
       "description": "Keine der Alternativen",
       "layout": "IPY_MODEL_6da392b32f664844891ec8d885d03d30",
       "style": "IPY_MODEL_06f8eec16ae241f1bef64d3937b0de67"
      }
     },
     "8c32891a207e4bda96bd2b2d417f250b": {
      "model_module": "@jupyter-widgets/controls",
      "model_module_version": "1.5.0",
      "model_name": "HTMLModel",
      "state": {
       "layout": "IPY_MODEL_50bf0f27f0a4419189e81eee2c8ac734",
       "style": "IPY_MODEL_69b052423e664ea3ad20a6674d65a30e",
       "value": "<i>Wählen Sie die <ins>eine</ins> korrekte Antwort aus: </i>"
      }
     },
     "8c5537e111b24e7fab396ecd7e839a4f": {
      "model_module": "@jupyter-widgets/base",
      "model_module_version": "1.2.0",
      "model_name": "LayoutModel",
      "state": {}
     },
     "8c851689caed47ef89a3f77a566f37da": {
      "model_module": "@jupyter-widgets/controls",
      "model_module_version": "1.5.0",
      "model_name": "VBoxModel",
      "state": {
       "children": [
        "IPY_MODEL_d7c02eb475564a0da7e45d4f144c08f5",
        "IPY_MODEL_9a2496e92c894f79aba9c1dbff7b0d9b",
        "IPY_MODEL_76b25f5161344ff9a72e58d6c870561c",
        "IPY_MODEL_eed9cb2ebfa940148f66137780a4d8ea",
        "IPY_MODEL_86be8aaf71fa466b8abfdeabe669e28c"
       ],
       "layout": "IPY_MODEL_b20834d8524b466b98f604fec39c274d"
      }
     },
     "8cb72471df70434b9003d734fa787330": {
      "model_module": "@jupyter-widgets/controls",
      "model_module_version": "1.5.0",
      "model_name": "VBoxModel",
      "state": {
       "children": [
        "IPY_MODEL_66c25a0691c341459969d1dd022ee462",
        "IPY_MODEL_2dbd08f83bf44c69bead66521cf2d3c4",
        "IPY_MODEL_7a1be672241643f1b73cc0cd45e9af64",
        "IPY_MODEL_8f78145fe9ab4ffbb02428bd66e0d093"
       ],
       "layout": "IPY_MODEL_e60680de992f472cbc9e358a0accd458"
      }
     },
     "8d2049b1c89b42b1ac7ed2417ccc29ad": {
      "model_module": "@jupyter-widgets/controls",
      "model_module_version": "1.5.0",
      "model_name": "ButtonModel",
      "state": {
       "description": "Predict",
       "layout": "IPY_MODEL_c350711ee5c44c80b8ae115fb12d37d3",
       "style": "IPY_MODEL_ff53cc83b9bd4d17996c4418d692e260"
      }
     },
     "8d48be06821f4b97bf06c35ee836de41": {
      "model_module": "@jupyter-widgets/controls",
      "model_module_version": "1.5.0",
      "model_name": "HTMLModel",
      "state": {
       "layout": "IPY_MODEL_2c4d55f9b3734154bfccb3c638d954e9",
       "style": "IPY_MODEL_bda655780ac8449fb9dd79d29420efe7",
       "value": "<i>Wählen Sie die <ins>eine</ins> korrekte Antwort aus: </i>"
      }
     },
     "8d6ef9274ac34b68805577ef76c23bd0": {
      "model_module": "@jupyter-widgets/base",
      "model_module_version": "1.2.0",
      "model_name": "LayoutModel",
      "state": {}
     },
     "8d843aef88d9489b9e8087eb74068e38": {
      "model_module": "@jupyter-widgets/controls",
      "model_module_version": "1.5.0",
      "model_name": "ButtonStyleModel",
      "state": {}
     },
     "8da630bdb00348638623c73aca19a5b0": {
      "model_module": "@jupyter-widgets/base",
      "model_module_version": "1.2.0",
      "model_name": "LayoutModel",
      "state": {
       "justify_content": "center"
      }
     },
     "8dd0ecf06d6f4f48b2fe3a50fc1585cc": {
      "model_module": "@jupyter-widgets/controls",
      "model_module_version": "1.5.0",
      "model_name": "ButtonModel",
      "state": {
       "description": "Predict",
       "layout": "IPY_MODEL_ef70dbeb922f47eba9928d789fcecf5e",
       "style": "IPY_MODEL_570f930da5ec49fda180be5fad1c537c"
      }
     },
     "8e09d94a861842e29bc428246b1b65c6": {
      "model_module": "@jupyter-widgets/controls",
      "model_module_version": "1.5.0",
      "model_name": "ButtonModel",
      "state": {
       "description": "Complete",
       "layout": "IPY_MODEL_c26d317acabc48969600e0564a9d77a5",
       "style": "IPY_MODEL_1e66725601a145888e6597053c7b59a8"
      }
     },
     "8e0b5217873d482bb0e28b19bf1d33fb": {
      "model_module": "@jupyter-widgets/controls",
      "model_module_version": "1.5.0",
      "model_name": "ButtonStyleModel",
      "state": {}
     },
     "8e0c51a3fcaa4ae3bb64cd08b83edffc": {
      "model_module": "@jupyter-widgets/controls",
      "model_module_version": "1.5.0",
      "model_name": "ButtonModel",
      "state": {
       "description": "Predict",
       "layout": "IPY_MODEL_56beeb2d82a74fb2846d7dc51503350b",
       "style": "IPY_MODEL_f09a593fad5b4fcab7598eaf0f346e41"
      }
     },
     "8e3b84d045124639a86bdc0589a383ba": {
      "model_module": "@jupyter-widgets/controls",
      "model_module_version": "1.5.0",
      "model_name": "VBoxModel",
      "state": {
       "children": [
        "IPY_MODEL_851734bdcf0e4ce8a15bacee00db18d5",
        "IPY_MODEL_1d1f5d3b393646d18c1579471d331610",
        "IPY_MODEL_fcb3f47dbb53405bb3b483a98079d02c",
        "IPY_MODEL_667683a610c34492b7eb88e7d632c935",
        "IPY_MODEL_5107759598094c1f9098d0ce7112204d"
       ],
       "layout": "IPY_MODEL_cd33822c22d14fdaa714e6e87e677d29"
      }
     },
     "8e5e7ff0e1e5417f8f820fa1603b9611": {
      "model_module": "@jupyter-widgets/base",
      "model_module_version": "1.2.0",
      "model_name": "LayoutModel",
      "state": {
       "width": "250px"
      }
     },
     "8e699122138b4fd8aede69ec98f1246a": {
      "model_module": "@jupyter-widgets/controls",
      "model_module_version": "1.5.0",
      "model_name": "ButtonStyleModel",
      "state": {}
     },
     "8e6bee78adf84817bd18d5010ab3e6cd": {
      "model_module": "@jupyter-widgets/base",
      "model_module_version": "1.2.0",
      "model_name": "LayoutModel",
      "state": {}
     },
     "8e78a817b39b450280b06374ae2226ac": {
      "model_module": "@jupyter-widgets/base",
      "model_module_version": "1.2.0",
      "model_name": "LayoutModel",
      "state": {
       "width": "250px"
      }
     },
     "8ed4a8986ce7460287f94a9b26c454f8": {
      "model_module": "@jupyter-widgets/base",
      "model_module_version": "1.2.0",
      "model_name": "LayoutModel",
      "state": {
       "width": "600px"
      }
     },
     "8f04d130a6bc402e9af2c5feb207c2d4": {
      "model_module": "@jupyter-widgets/base",
      "model_module_version": "1.2.0",
      "model_name": "LayoutModel",
      "state": {}
     },
     "8f2d6c09bf364edeb5cde4746c7523ac": {
      "model_module": "@jupyter-widgets/base",
      "model_module_version": "1.2.0",
      "model_name": "LayoutModel",
      "state": {
       "width": "250px"
      }
     },
     "8f479706b7bd43d88019bcf3a5ee2ec4": {
      "model_module": "@jupyter-widgets/controls",
      "model_module_version": "1.5.0",
      "model_name": "VBoxModel",
      "state": {
       "children": [
        "IPY_MODEL_08186b7440f647e39f31b70771af35c9",
        "IPY_MODEL_a2632c571cba45cc8ad61b7f59e37d3d",
        "IPY_MODEL_e96007ed463544ada9a38a96a12714b7",
        "IPY_MODEL_aeac8783665c4bacb83188e1f7d830da",
        "IPY_MODEL_74d8769f292e48ec883a490e0735dd1e"
       ],
       "layout": "IPY_MODEL_a108d4a8df6f403a85050fc8b7dbb2d2"
      }
     },
     "8f78145fe9ab4ffbb02428bd66e0d093": {
      "model_module": "@jupyter-widgets/controls",
      "model_module_version": "1.5.0",
      "model_name": "HBoxModel",
      "state": {
       "children": [
        "IPY_MODEL_9922409efc51460fbc0d445d77350787"
       ],
       "layout": "IPY_MODEL_0b483ce02f8442b4a2cf4068029fb065"
      }
     },
     "8f7ae52aa8834037a00c9d8eabe2c246": {
      "model_module": "@jupyter-widgets/base",
      "model_module_version": "1.2.0",
      "model_name": "LayoutModel",
      "state": {
       "justify_content": "center"
      }
     },
     "8fa11b68caf243f5a250e0fe25d528e7": {
      "model_module": "@jupyter-widgets/controls",
      "model_module_version": "1.5.0",
      "model_name": "ButtonStyleModel",
      "state": {}
     },
     "8fa28e2cb022451a85d6c11896889fe9": {
      "model_module": "@jupyter-widgets/controls",
      "model_module_version": "1.5.0",
      "model_name": "HBoxModel",
      "state": {
       "children": [
        "IPY_MODEL_a3eb98b42eb04716acba505271b1f429",
        "IPY_MODEL_183a25c7bb4a4a9eb2f61d93dc1b653b"
       ],
       "layout": "IPY_MODEL_b224da06e3c143cdbbaf956bf41a7689"
      }
     },
     "8fb1a7c8490b4775a2d6d7efabb037d0": {
      "model_module": "@jupyter-widgets/controls",
      "model_module_version": "1.5.0",
      "model_name": "DescriptionStyleModel",
      "state": {
       "description_width": "initial"
      }
     },
     "900de85cba6d4b4fbf4b5e52312e45d0": {
      "model_module": "@jupyter-widgets/controls",
      "model_module_version": "1.5.0",
      "model_name": "ButtonStyleModel",
      "state": {}
     },
     "901c1569267440b1be1340271b528b04": {
      "model_module": "@jupyter-widgets/base",
      "model_module_version": "1.2.0",
      "model_name": "LayoutModel",
      "state": {
       "justify_content": "center"
      }
     },
     "90540ce40662410d9a06d4ab79176942": {
      "model_module": "@jupyter-widgets/controls",
      "model_module_version": "1.5.0",
      "model_name": "ButtonModel",
      "state": {
       "description": "Scan",
       "layout": "IPY_MODEL_359376d36f944d8b957747f032b1501b",
       "style": "IPY_MODEL_8e0b5217873d482bb0e28b19bf1d33fb"
      }
     },
     "90746c09d9d741068366ad8557ce92b4": {
      "model_module": "@jupyter-widgets/base",
      "model_module_version": "1.2.0",
      "model_name": "LayoutModel",
      "state": {}
     },
     "907988bb4c3e4937bee5fb73d525199b": {
      "model_module": "@jupyter-widgets/base",
      "model_module_version": "1.2.0",
      "model_name": "LayoutModel",
      "state": {}
     },
     "908f807e6ca44a15b37f20b1e85da1ba": {
      "model_module": "@jupyter-widgets/base",
      "model_module_version": "1.2.0",
      "model_name": "LayoutModel",
      "state": {
       "width": "600px"
      }
     },
     "90c4c179fffd48bfa1efcca25a23b9c4": {
      "model_module": "@jupyter-widgets/base",
      "model_module_version": "1.2.0",
      "model_name": "LayoutModel",
      "state": {
       "width": "600px"
      }
     },
     "90ca92077e3142b88ad2c8792bde569b": {
      "model_module": "@jupyter-widgets/controls",
      "model_module_version": "1.5.0",
      "model_name": "ButtonModel",
      "state": {
       "description": "Shift Reduce",
       "layout": "IPY_MODEL_748ee35b745e4e749f9a039a7fa24713",
       "style": "IPY_MODEL_32e40b985c4540c78895a0d83f3da491"
      }
     },
     "90cc47f15ae5403595cd7bdfdf8f9027": {
      "model_module": "@jupyter-widgets/base",
      "model_module_version": "1.2.0",
      "model_name": "LayoutModel",
      "state": {
       "width": "250px"
      }
     },
     "90dfbf4932854b358ea86c134079c798": {
      "model_module": "@jupyter-widgets/base",
      "model_module_version": "1.2.0",
      "model_name": "LayoutModel",
      "state": {
       "justify_content": "center"
      }
     },
     "90ec8d7b744741ddbad89bbd435e4800": {
      "model_module": "@jupyter-widgets/base",
      "model_module_version": "1.2.0",
      "model_name": "LayoutModel",
      "state": {
       "width": "250px"
      }
     },
     "910b35908a8d40d8a8f1cbd78935e1e0": {
      "model_module": "@jupyter-widgets/controls",
      "model_module_version": "1.5.0",
      "model_name": "DescriptionStyleModel",
      "state": {
       "description_width": ""
      }
     },
     "91194502b55c46a4a637db703ea2757f": {
      "model_module": "@jupyter-widgets/controls",
      "model_module_version": "1.5.0",
      "model_name": "ButtonModel",
      "state": {
       "description": "Predict",
       "layout": "IPY_MODEL_9dc909290cf84f3687c67b45cdb140c6",
       "style": "IPY_MODEL_f4bd067fcf7a49be80a905a97edcbddc"
      }
     },
     "911ac1a3eec4479893b52a65a25f3912": {
      "model_module": "@jupyter-widgets/base",
      "model_module_version": "1.2.0",
      "model_name": "LayoutModel",
      "state": {
       "width": "250px"
      }
     },
     "9143d7b34f8944cdb27171d1b4ad472f": {
      "model_module": "@jupyter-widgets/base",
      "model_module_version": "1.2.0",
      "model_name": "LayoutModel",
      "state": {}
     },
     "914456f6f2eb46ca8c14ff41531fcac0": {
      "model_module": "@jupyter-widgets/controls",
      "model_module_version": "1.5.0",
      "model_name": "ButtonModel",
      "state": {
       "description": "Scan",
       "layout": "IPY_MODEL_fe71993cccdb4a56a20878e7b97d261c",
       "style": "IPY_MODEL_1dd2e61a46e6407c8c561e9374024087"
      }
     },
     "915a183f21b64b87ae58fc060c44b7e0": {
      "model_module": "@jupyter-widgets/base",
      "model_module_version": "1.2.0",
      "model_name": "LayoutModel",
      "state": {
       "justify_content": "center"
      }
     },
     "916e7967a85a4679940fbc15d48ad0d2": {
      "model_module": "@jupyter-widgets/controls",
      "model_module_version": "1.5.0",
      "model_name": "ButtonModel",
      "state": {
       "description": "Complete",
       "layout": "IPY_MODEL_6efcd45dcf434b6f8d60929ae28b55f3",
       "style": "IPY_MODEL_e32e34e936b5455b99c14dc7a03d5b85"
      }
     },
     "919ff3668f9d4606b8a9a63a78edae94": {
      "model_module": "@jupyter-widgets/controls",
      "model_module_version": "1.5.0",
      "model_name": "DescriptionStyleModel",
      "state": {
       "description_width": "initial"
      }
     },
     "91ee9423029f4742b5b834c842c219c9": {
      "model_module": "@jupyter-widgets/controls",
      "model_module_version": "1.5.0",
      "model_name": "ButtonStyleModel",
      "state": {}
     },
     "920bf781faf54470bd9c59f1dcf0de86": {
      "model_module": "@jupyter-widgets/controls",
      "model_module_version": "1.5.0",
      "model_name": "DescriptionStyleModel",
      "state": {
       "description_width": ""
      }
     },
     "921d9af0d79f475aaa1cd55b78c1ad3e": {
      "model_module": "@jupyter-widgets/controls",
      "model_module_version": "1.5.0",
      "model_name": "HBoxModel",
      "state": {
       "children": [
        "IPY_MODEL_15d6ebd531ed4545afd5486351a7826c",
        "IPY_MODEL_cd2780a3eed14337bd5b0eaa69973daa"
       ],
       "layout": "IPY_MODEL_64bcbd4f64c543e09ec286ad1463358e"
      }
     },
     "92215fbd15e0478ba24cd9b27f80c86a": {
      "model_module": "@jupyter-widgets/controls",
      "model_module_version": "1.5.0",
      "model_name": "ButtonStyleModel",
      "state": {}
     },
     "9223136b70cd432fa506a6b31203378a": {
      "model_module": "@jupyter-widgets/controls",
      "model_module_version": "1.5.0",
      "model_name": "HTMLModel",
      "state": {
       "layout": "IPY_MODEL_816620aee0eb414fb88c84e7cdfa8986",
       "style": "IPY_MODEL_e4b8fdca0f474ee2a0550b99541c076d",
       "value": "<h4 style=\"font-size:14px;\">Welche Operation folgt als nächstes?</h4>"
      }
     },
     "928a60f7004b4b8a8c6131f16c5fa367": {
      "model_module": "@jupyter-widgets/controls",
      "model_module_version": "1.5.0",
      "model_name": "ButtonStyleModel",
      "state": {}
     },
     "92910b70c43b4ce78a75168995949eec": {
      "model_module": "@jupyter-widgets/controls",
      "model_module_version": "1.5.0",
      "model_name": "CheckboxModel",
      "state": {
       "description": "Predict",
       "disabled": false,
       "layout": "IPY_MODEL_01a1560c644c40068198eaa999f6aaba",
       "style": "IPY_MODEL_6577aeb044c24e1cb3620f01fb552ecd",
       "value": false
      }
     },
     "92ca2d3d9cb44d5c91a1e74dc839de7c": {
      "model_module": "@jupyter-widgets/controls",
      "model_module_version": "1.5.0",
      "model_name": "DescriptionStyleModel",
      "state": {
       "description_width": ""
      }
     },
     "92cdd61cd8664caf85724f23c65a03d4": {
      "model_module": "@jupyter-widgets/base",
      "model_module_version": "1.2.0",
      "model_name": "LayoutModel",
      "state": {
       "width": "250px"
      }
     },
     "92fae0b0fabf4f498abc0db262df751e": {
      "model_module": "@jupyter-widgets/controls",
      "model_module_version": "1.5.0",
      "model_name": "HTMLModel",
      "state": {
       "layout": "IPY_MODEL_db1be6c380964f058f865917d7af6506",
       "style": "IPY_MODEL_dbcb93a5e98f454e969556ef59de71a7",
       "value": "<h4 style=\"font-size:14px;\">Welche Operation folgt als nächstes?</h4>"
      }
     },
     "93305ed0917d40cda79b275ae3f33b2a": {
      "model_module": "@jupyter-widgets/controls",
      "model_module_version": "1.5.0",
      "model_name": "HBoxModel",
      "state": {
       "children": [
        "IPY_MODEL_51b7af83fbd744ea8433944c7a44c451",
        "IPY_MODEL_39ad8a54d0934598bd9aae6add893dce"
       ],
       "layout": "IPY_MODEL_ea06199bf013493c9f547c1499e54b3c"
      }
     },
     "9348d4f91ef142a9b9e69b9070496129": {
      "model_module": "@jupyter-widgets/base",
      "model_module_version": "1.2.0",
      "model_name": "LayoutModel",
      "state": {}
     },
     "935f60ab27254480a7fc4a6cf35d3fe5": {
      "model_module": "@jupyter-widgets/controls",
      "model_module_version": "1.5.0",
      "model_name": "HBoxModel",
      "state": {
       "children": [
        "IPY_MODEL_41368c3281d64aadb47a9a8b981088fe"
       ],
       "layout": "IPY_MODEL_87530b3913b843f6a0dc7eea8a97a282"
      }
     },
     "936c51bce1f24a059876fee98af51b3e": {
      "model_module": "@jupyter-widgets/base",
      "model_module_version": "1.2.0",
      "model_name": "LayoutModel",
      "state": {}
     },
     "939227519d464b44ab28c3f6bc385d41": {
      "model_module": "@jupyter-widgets/base",
      "model_module_version": "1.2.0",
      "model_name": "LayoutModel",
      "state": {
       "justify_content": "center"
      }
     },
     "9393502559fc499783228a92c9e9db37": {
      "model_module": "@jupyter-widgets/controls",
      "model_module_version": "1.5.0",
      "model_name": "HTMLModel",
      "state": {
       "layout": "IPY_MODEL_088e3649dfdd4a9092470243dbb38d37",
       "style": "IPY_MODEL_6cf9df629e654a54ac8f98cf8552c104",
       "value": "<i>Markieren Sie <ins>alle</ins> passenden Antworten: </i>"
      }
     },
     "93d0ea2ac4884bc5b1df2c6b1487f7da": {
      "model_module": "@jupyter-widgets/controls",
      "model_module_version": "1.5.0",
      "model_name": "ButtonModel",
      "state": {
       "description": "Predict",
       "layout": "IPY_MODEL_069f3bf1224a4a2c866958c21a9de2d6",
       "style": "IPY_MODEL_7bfdc35fe4e645b8bed9be777929dd06"
      }
     },
     "93e661ce5922496fa7ed89912d7892dd": {
      "model_module": "@jupyter-widgets/controls",
      "model_module_version": "1.5.0",
      "model_name": "HTMLModel",
      "state": {
       "layout": "IPY_MODEL_46aa30317c0e4e4fa52a258e3067d826",
       "style": "IPY_MODEL_5fc2e97e80e9493aa3b48f9860fc5cee",
       "value": "<h4 style=\"font-size:14px;\">Welche Operation folgt als nächstes?</h4>"
      }
     },
     "93f22dd911eb47d0b5bc8bbec5e7b7d5": {
      "model_module": "@jupyter-widgets/controls",
      "model_module_version": "1.5.0",
      "model_name": "ButtonModel",
      "state": {
       "description": "Predict",
       "layout": "IPY_MODEL_5791d1b90c374134924c8bb262627115",
       "style": "IPY_MODEL_7d3ef104bea94ebc8e04289c17ec675f"
      }
     },
     "942ed8c14bf249a48d6e66e0fef485d7": {
      "model_module": "@jupyter-widgets/base",
      "model_module_version": "1.2.0",
      "model_name": "LayoutModel",
      "state": {
       "width": "600px"
      }
     },
     "9439ccabc63c4977ba1b6405915f60e7": {
      "model_module": "@jupyter-widgets/base",
      "model_module_version": "1.2.0",
      "model_name": "LayoutModel",
      "state": {
       "width": "250px"
      }
     },
     "943e0952346643e59b9735be62aa81f3": {
      "model_module": "@jupyter-widgets/controls",
      "model_module_version": "1.5.0",
      "model_name": "HBoxModel",
      "state": {
       "children": [
        "IPY_MODEL_eeac8eab176d4467b10f23619561cddd",
        "IPY_MODEL_a9fcefeecc8a406eabb1e77b106e6519"
       ],
       "layout": "IPY_MODEL_7cb0d91a04cc4901a6faa0eb6fcc9a14"
      }
     },
     "9461997108974fd882ebbf7bdef8b189": {
      "model_module": "@jupyter-widgets/controls",
      "model_module_version": "1.5.0",
      "model_name": "ButtonModel",
      "state": {
       "description": "Scan",
       "layout": "IPY_MODEL_e1a55c270b8c419cab25558c1498e8fb",
       "style": "IPY_MODEL_32d13bf952b84757984be6c45749d418"
      }
     },
     "948c880a5a2649908b727f5ff5893ea7": {
      "model_module": "@jupyter-widgets/controls",
      "model_module_version": "1.5.0",
      "model_name": "ButtonStyleModel",
      "state": {}
     },
     "949ee2f04ac5402c8bb4706b534be586": {
      "model_module": "@jupyter-widgets/controls",
      "model_module_version": "1.5.0",
      "model_name": "DescriptionStyleModel",
      "state": {
       "description_width": ""
      }
     },
     "94c92fabc7394b19b3a7b1eb6a802782": {
      "model_module": "@jupyter-widgets/base",
      "model_module_version": "1.2.0",
      "model_name": "LayoutModel",
      "state": {}
     },
     "94ce1dfbf0aa4f9081b8e5b81c1033e4": {
      "model_module": "@jupyter-widgets/controls",
      "model_module_version": "1.5.0",
      "model_name": "ButtonModel",
      "state": {
       "description": "Earley",
       "layout": "IPY_MODEL_e92a24cabe6147939096e9bbb3a807b5",
       "style": "IPY_MODEL_69c895e95d4843e588898c9d6b053c07"
      }
     },
     "951bbad156b34b2ba12715205db478b3": {
      "model_module": "@jupyter-widgets/controls",
      "model_module_version": "1.5.0",
      "model_name": "ButtonStyleModel",
      "state": {}
     },
     "9567c6e036c8484e84a06d757edf3c0e": {
      "model_module": "@jupyter-widgets/controls",
      "model_module_version": "1.5.0",
      "model_name": "DescriptionStyleModel",
      "state": {
       "description_width": "initial"
      }
     },
     "9591c47badd143778c984a6f707b5ceb": {
      "model_module": "@jupyter-widgets/controls",
      "model_module_version": "1.5.0",
      "model_name": "ButtonStyleModel",
      "state": {}
     },
     "95b0bdea3e9b46289ad89e77e703e660": {
      "model_module": "@jupyter-widgets/base",
      "model_module_version": "1.2.0",
      "model_name": "LayoutModel",
      "state": {}
     },
     "95b23b8e8dd645faa6a20dba3db75919": {
      "model_module": "@jupyter-widgets/controls",
      "model_module_version": "1.5.0",
      "model_name": "ButtonStyleModel",
      "state": {}
     },
     "95baa742e8a54e949f820d93f1af8849": {
      "model_module": "@jupyter-widgets/controls",
      "model_module_version": "1.5.0",
      "model_name": "ButtonStyleModel",
      "state": {}
     },
     "961385c6cb3d4d65b7783b0f870eef4e": {
      "model_module": "@jupyter-widgets/base",
      "model_module_version": "1.2.0",
      "model_name": "LayoutModel",
      "state": {
       "width": "250px"
      }
     },
     "9624bf63d5234decaffba7a09167e816": {
      "model_module": "@jupyter-widgets/base",
      "model_module_version": "1.2.0",
      "model_name": "LayoutModel",
      "state": {}
     },
     "96a18f829e79476f8bf473f5e966b642": {
      "model_module": "@jupyter-widgets/controls",
      "model_module_version": "1.5.0",
      "model_name": "HTMLModel",
      "state": {
       "layout": "IPY_MODEL_9ee0510ba4c146f3ba2db0f1557d33c0",
       "style": "IPY_MODEL_1721181fbd0f4134b4ce57dd125436ce",
       "value": "<i>Wählen Sie die <ins>eine</ins> korrekte Antwort aus: </i>"
      }
     },
     "96ec4eadd5654cbab2532594961dbca8": {
      "model_module": "@jupyter-widgets/controls",
      "model_module_version": "1.5.0",
      "model_name": "ButtonModel",
      "state": {
       "description": "Keine der Alternativen",
       "layout": "IPY_MODEL_ea809432bd894d0a8a80862eb6b99b51",
       "style": "IPY_MODEL_2374cf8496fe4be29aa8a2d7b78e17ec"
      }
     },
     "9710c356d4ce466f88ee54f04f213a37": {
      "model_module": "@jupyter-widgets/controls",
      "model_module_version": "1.5.0",
      "model_name": "HTMLModel",
      "state": {
       "layout": "IPY_MODEL_245dccd6effe4d748be9362e77854920",
       "style": "IPY_MODEL_045f710d97f746eead9e6220247ee4c8",
       "value": "<i>Wählen Sie die <ins>eine</ins> korrekte Antwort aus: </i>"
      }
     },
     "971fe5a43afc485dadd833c4cb3a917f": {
      "model_module": "@jupyter-widgets/controls",
      "model_module_version": "1.5.0",
      "model_name": "HTMLModel",
      "state": {
       "layout": "IPY_MODEL_8da630bdb00348638623c73aca19a5b0",
       "style": "IPY_MODEL_92ca2d3d9cb44d5c91a1e74dc839de7c",
       "value": "<i>Wählen Sie die <ins>eine</ins> korrekte Antwort aus: </i>"
      }
     },
     "9732b58271a242ffa6bf6b4ca1f986e4": {
      "model_module": "@jupyter-widgets/controls",
      "model_module_version": "1.5.0",
      "model_name": "HBoxModel",
      "state": {
       "children": [
        "IPY_MODEL_2e2842e39a4d4ab799e95f9b68f375c7",
        "IPY_MODEL_df5e3ca12c464cd98a4bceefb6e52acb"
       ],
       "layout": "IPY_MODEL_bd060235e64041bf9efa36ee053b738f"
      }
     },
     "9759395a52cf43939bf6aed94e33a47e": {
      "model_module": "@jupyter-widgets/base",
      "model_module_version": "1.2.0",
      "model_name": "LayoutModel",
      "state": {}
     },
     "97633a6b13c940c1b7ff4cdb781055ed": {
      "model_module": "@jupyter-widgets/base",
      "model_module_version": "1.2.0",
      "model_name": "LayoutModel",
      "state": {}
     },
     "9783546a0aa34e58b1cc78651c1ae208": {
      "model_module": "@jupyter-widgets/base",
      "model_module_version": "1.2.0",
      "model_name": "LayoutModel",
      "state": {}
     },
     "97c732d574bf411d91ecedec1a24a209": {
      "model_module": "@jupyter-widgets/controls",
      "model_module_version": "1.5.0",
      "model_name": "ButtonModel",
      "state": {
       "description": "Scan",
       "layout": "IPY_MODEL_271bfc10621b470c971b0f4ef8afaa1b",
       "style": "IPY_MODEL_bf1646ee9a9b4f3fa00f92c02837257a"
      }
     },
     "97fd3cc433984d2887f94e50503156bb": {
      "model_module": "@jupyter-widgets/base",
      "model_module_version": "1.2.0",
      "model_name": "LayoutModel",
      "state": {
       "width": "250px"
      }
     },
     "97fd79d6d228480599cfbcd8f0f4e3fe": {
      "model_module": "@jupyter-widgets/base",
      "model_module_version": "1.2.0",
      "model_name": "LayoutModel",
      "state": {
       "width": "250px"
      }
     },
     "98441e21a0824044971cb2eb95eaf15f": {
      "model_module": "@jupyter-widgets/controls",
      "model_module_version": "1.5.0",
      "model_name": "CheckboxModel",
      "state": {
       "description": "Shift",
       "disabled": false,
       "layout": "IPY_MODEL_e579a3a42e9a4b4cb45b57d9bbe1c72a",
       "style": "IPY_MODEL_0badf5ca5d9b400cbc8d5bd210ef9d5f",
       "value": false
      }
     },
     "98646b0f9b154c37bfe602b00f02cb03": {
      "model_module": "@jupyter-widgets/base",
      "model_module_version": "1.2.0",
      "model_name": "LayoutModel",
      "state": {
       "width": "250px"
      }
     },
     "987cf58d064541dfa11ee323ae151a0f": {
      "model_module": "@jupyter-widgets/base",
      "model_module_version": "1.2.0",
      "model_name": "LayoutModel",
      "state": {
       "justify_content": "center"
      }
     },
     "9888bfdff1174c5eb5ca5243bc9de9f6": {
      "model_module": "@jupyter-widgets/base",
      "model_module_version": "1.2.0",
      "model_name": "LayoutModel",
      "state": {
       "width": "600px"
      }
     },
     "98a48458b0224204ae321a16feb919cb": {
      "model_module": "@jupyter-widgets/controls",
      "model_module_version": "1.5.0",
      "model_name": "VBoxModel",
      "state": {
       "children": [
        "IPY_MODEL_93e661ce5922496fa7ed89912d7892dd",
        "IPY_MODEL_e655d2d46d554af5bee79fe164e5109d",
        "IPY_MODEL_ec1e677bebf44618b87aaef06b103473",
        "IPY_MODEL_e06065ed67964452aecb0453c0b239be",
        "IPY_MODEL_a90499cdeb6241619e712158592da264"
       ],
       "layout": "IPY_MODEL_187cda6ea8864aea9e890d9f9e4ee662"
      }
     },
     "98e8a21970844f8599e90b7262448be2": {
      "model_module": "@jupyter-widgets/controls",
      "model_module_version": "1.5.0",
      "model_name": "ButtonStyleModel",
      "state": {}
     },
     "99067a83149b43c7b7015d82e2f2b5fa": {
      "model_module": "@jupyter-widgets/controls",
      "model_module_version": "1.5.0",
      "model_name": "ButtonModel",
      "state": {
       "description": "Predict",
       "layout": "IPY_MODEL_c2a28a440c644c618da678a429968f69",
       "style": "IPY_MODEL_951bbad156b34b2ba12715205db478b3"
      }
     },
     "99086864bcd1484eb059978fbc1c5a62": {
      "model_module": "@jupyter-widgets/base",
      "model_module_version": "1.2.0",
      "model_name": "LayoutModel",
      "state": {
       "justify_content": "center"
      }
     },
     "9922409efc51460fbc0d445d77350787": {
      "model_module": "@jupyter-widgets/controls",
      "model_module_version": "1.5.0",
      "model_name": "ButtonModel",
      "state": {
       "description": "Shift Reduce",
       "layout": "IPY_MODEL_a383b8a39f114c00a0daaae46d72d44a",
       "style": "IPY_MODEL_5d383c6aa29c4accad9c237b1167a8f0"
      }
     },
     "9940c1d2856c406aac1438cc99d043e2": {
      "model_module": "@jupyter-widgets/controls",
      "model_module_version": "1.5.0",
      "model_name": "HBoxModel",
      "state": {
       "children": [
        "IPY_MODEL_a7357fc56eb14d95a0d756fcdc4f9ca8",
        "IPY_MODEL_e633d3cca29440bca28fcca4e92aaefb"
       ],
       "layout": "IPY_MODEL_7ca581ca88324be091a61db46e29c00e"
      }
     },
     "996db7a319d64aa7bb23c5d6162b9199": {
      "model_module": "@jupyter-widgets/base",
      "model_module_version": "1.2.0",
      "model_name": "LayoutModel",
      "state": {
       "width": "250px"
      }
     },
     "9a2496e92c894f79aba9c1dbff7b0d9b": {
      "model_module": "@jupyter-widgets/controls",
      "model_module_version": "1.5.0",
      "model_name": "HTMLModel",
      "state": {
       "layout": "IPY_MODEL_f49d9405d9564b29bbb43a1de1340d08",
       "style": "IPY_MODEL_3fa9dd63d70d435696add721164e8574",
       "value": "<i>Wählen Sie die <ins>eine</ins> korrekte Antwort aus: </i>"
      }
     },
     "9a307baa6e174321b49128ecbc1cac14": {
      "model_module": "@jupyter-widgets/base",
      "model_module_version": "1.2.0",
      "model_name": "LayoutModel",
      "state": {
       "width": "250px"
      }
     },
     "9a48383e99e245c69a65e012b64c53c2": {
      "model_module": "@jupyter-widgets/controls",
      "model_module_version": "1.5.0",
      "model_name": "DescriptionStyleModel",
      "state": {
       "description_width": ""
      }
     },
     "9a7b762d774043e482746cd6b34fe6de": {
      "model_module": "@jupyter-widgets/base",
      "model_module_version": "1.2.0",
      "model_name": "LayoutModel",
      "state": {
       "width": "250px"
      }
     },
     "9a9e6c1eb39c42eca1e0a04bf7d81938": {
      "model_module": "@jupyter-widgets/controls",
      "model_module_version": "1.5.0",
      "model_name": "ButtonModel",
      "state": {
       "description": "Shift",
       "layout": "IPY_MODEL_5751d23c8eaf4a3c8301daefe572f3a1",
       "style": "IPY_MODEL_d6ca0e7f639e418693b84c6a1c0774d3"
      }
     },
     "9ab128db54504976b77ec1339a216da9": {
      "model_module": "@jupyter-widgets/controls",
      "model_module_version": "1.5.0",
      "model_name": "HBoxModel",
      "state": {
       "children": [
        "IPY_MODEL_14c68f2797c34308936215a7088c2f5d",
        "IPY_MODEL_1714ae72595d434d911e522810f19180"
       ],
       "layout": "IPY_MODEL_ab8f2d3e6cdf426bb914644e4288071b"
      }
     },
     "9ac25a8a558746f4b041b158ba4a3760": {
      "model_module": "@jupyter-widgets/controls",
      "model_module_version": "1.5.0",
      "model_name": "HBoxModel",
      "state": {
       "children": [
        "IPY_MODEL_d4dd8acb8a0e41b484c875cac0051bb1",
        "IPY_MODEL_93f22dd911eb47d0b5bc8bbec5e7b7d5"
       ],
       "layout": "IPY_MODEL_1b7969f6a510486995c17ba91437411a"
      }
     },
     "9adb0fe0214f408a882a20ef8d6a8828": {
      "model_module": "@jupyter-widgets/controls",
      "model_module_version": "1.5.0",
      "model_name": "ButtonModel",
      "state": {
       "description": "Complete",
       "layout": "IPY_MODEL_aa8ba656dc594ea5a28406d42abfdc39",
       "style": "IPY_MODEL_81a116b0e98f4e12ba3ed3910279b0b2"
      }
     },
     "9bb46ac0bf8541329f16873d2bb0e7c1": {
      "model_module": "@jupyter-widgets/controls",
      "model_module_version": "1.5.0",
      "model_name": "HTMLModel",
      "state": {
       "layout": "IPY_MODEL_11302f0022c04309ba9cf7b68955c165",
       "style": "IPY_MODEL_6a09dbfbb6bf4358aaa3f52ad971a3a6",
       "value": "<h4 style=\"font-size:14px;\">Welche Operation folgt als nächstes?</h4>"
      }
     },
     "9bf0d7abf351440686ae3713c73f136e": {
      "model_module": "@jupyter-widgets/controls",
      "model_module_version": "1.5.0",
      "model_name": "VBoxModel",
      "state": {
       "children": [
        "IPY_MODEL_a2d6548b7d9947008bf01b6fbada0d27",
        "IPY_MODEL_d1fd30af905841d1bede7d5631369257",
        "IPY_MODEL_0c585c242aa94486a6b7c3da816201e1",
        "IPY_MODEL_9fd3aa18e33f42649566dcbc5d1ad11e",
        "IPY_MODEL_b81d9a20cedc4ebba7bfd4ba03829197"
       ],
       "layout": "IPY_MODEL_cc906841e5cd4b86842321116a3f942d"
      }
     },
     "9c09b408a5bc4015a1840d15d79d785f": {
      "model_module": "@jupyter-widgets/controls",
      "model_module_version": "1.5.0",
      "model_name": "ButtonModel",
      "state": {
       "description": "Scan",
       "layout": "IPY_MODEL_50452d715d72470abbf9836e715d2bb2",
       "style": "IPY_MODEL_6f62b2eabcd54bf1a51ced8a54624926"
      }
     },
     "9c0c7dca039d4739b9b3e3458f3cabf8": {
      "model_module": "@jupyter-widgets/controls",
      "model_module_version": "1.5.0",
      "model_name": "ButtonModel",
      "state": {
       "description": "Shift",
       "layout": "IPY_MODEL_89676477e3794e6b8a6df20d24b00b1b",
       "style": "IPY_MODEL_0b8f066156694abb81154dc8a5d5c808"
      }
     },
     "9c0cc5a820da4ba7b61fd2c14b981e31": {
      "model_module": "@jupyter-widgets/controls",
      "model_module_version": "1.5.0",
      "model_name": "ButtonModel",
      "state": {
       "description": "Recusive Descent",
       "layout": "IPY_MODEL_7b1f9412d26741489d567582c509ba17",
       "style": "IPY_MODEL_662294dbaebf4157bf18337434c5c1a8"
      }
     },
     "9c2127b7aaec4e2d9506589c7a287c9b": {
      "model_module": "@jupyter-widgets/controls",
      "model_module_version": "1.5.0",
      "model_name": "ButtonStyleModel",
      "state": {}
     },
     "9c3dfd4f061746bd8c7e511e7588f059": {
      "model_module": "@jupyter-widgets/controls",
      "model_module_version": "1.5.0",
      "model_name": "HTMLModel",
      "state": {
       "layout": "IPY_MODEL_81aaa8baf1c34e898d14a77b27e2403c",
       "style": "IPY_MODEL_c64b4d94ad5b46f481f143547682bd14",
       "value": "<h4 style=\"font-size:14px;\">Um welchen Parser handelt es sich?</h4>"
      }
     },
     "9c442ac458f04e5fa97214e6dfd7952c": {
      "model_module": "@jupyter-widgets/base",
      "model_module_version": "1.2.0",
      "model_name": "LayoutModel",
      "state": {
       "width": "250px"
      }
     },
     "9c5e95b06e1c41deb88993360a3c07de": {
      "model_module": "@jupyter-widgets/controls",
      "model_module_version": "1.5.0",
      "model_name": "VBoxModel",
      "state": {
       "children": [
        "IPY_MODEL_f578415577e2417f99acb973758edb4f",
        "IPY_MODEL_b54e09df8026452799fd0a06ecd96b95",
        "IPY_MODEL_da2a566479154fffa45eed20664db779",
        "IPY_MODEL_dd1e4a4e3ebb4c489f2a5df9da183882",
        "IPY_MODEL_aef30b23b82b4d9c9b6f49c5bb6b5ff6"
       ],
       "layout": "IPY_MODEL_11879f2af29b412bb91b20f258e4b636"
      }
     },
     "9cfd98fdbbde4845b374493b4f6ed8c1": {
      "model_module": "@jupyter-widgets/controls",
      "model_module_version": "1.5.0",
      "model_name": "DescriptionStyleModel",
      "state": {
       "description_width": "initial"
      }
     },
     "9d192184c6e14a09a48bddbb1e251645": {
      "model_module": "@jupyter-widgets/controls",
      "model_module_version": "1.5.0",
      "model_name": "DescriptionStyleModel",
      "state": {
       "description_width": ""
      }
     },
     "9d40cf2bb8d44110b11ebec518c37fe3": {
      "model_module": "@jupyter-widgets/controls",
      "model_module_version": "1.5.0",
      "model_name": "DescriptionStyleModel",
      "state": {
       "description_width": "initial"
      }
     },
     "9d515838fd2444d5b19eac3211e987ce": {
      "model_module": "@jupyter-widgets/controls",
      "model_module_version": "1.5.0",
      "model_name": "DescriptionStyleModel",
      "state": {
       "description_width": ""
      }
     },
     "9d5cb16e0808432086da8298e62e9ab7": {
      "model_module": "@jupyter-widgets/controls",
      "model_module_version": "1.5.0",
      "model_name": "DescriptionStyleModel",
      "state": {
       "description_width": ""
      }
     },
     "9d67976e623845c6b326397ce5708cd5": {
      "model_module": "@jupyter-widgets/base",
      "model_module_version": "1.2.0",
      "model_name": "LayoutModel",
      "state": {
       "width": "250px"
      }
     },
     "9d6f9a3c8ddb4ee696cd931119575895": {
      "model_module": "@jupyter-widgets/base",
      "model_module_version": "1.2.0",
      "model_name": "LayoutModel",
      "state": {}
     },
     "9d935c06ea3a4b7eb6f20dfed37eb963": {
      "model_module": "@jupyter-widgets/controls",
      "model_module_version": "1.5.0",
      "model_name": "HBoxModel",
      "state": {
       "children": [
        "IPY_MODEL_c82a81cd16ee49b5933c06c572ac7dfb",
        "IPY_MODEL_379b319000d04dfd8ecbc6ff86f84a39"
       ],
       "layout": "IPY_MODEL_090601a80fa94a44975f9955c1510c2e"
      }
     },
     "9d9c6dc0ffbd40238440419f760e18ad": {
      "model_module": "@jupyter-widgets/controls",
      "model_module_version": "1.5.0",
      "model_name": "HBoxModel",
      "state": {
       "children": [
        "IPY_MODEL_32ba97b98abc455b809ff8f6476ae982",
        "IPY_MODEL_223798ca1e574523931bd88f73cc5e5a"
       ],
       "layout": "IPY_MODEL_59cb1d96ce944063a8d27d7cb54415ec"
      }
     },
     "9dc3c4c9971c47e7b07428698057329f": {
      "model_module": "@jupyter-widgets/base",
      "model_module_version": "1.2.0",
      "model_name": "LayoutModel",
      "state": {}
     },
     "9dc909290cf84f3687c67b45cdb140c6": {
      "model_module": "@jupyter-widgets/base",
      "model_module_version": "1.2.0",
      "model_name": "LayoutModel",
      "state": {
       "width": "250px"
      }
     },
     "9dcffb2c36e24e908fdf222927cbdb55": {
      "model_module": "@jupyter-widgets/controls",
      "model_module_version": "1.5.0",
      "model_name": "DescriptionStyleModel",
      "state": {
       "description_width": ""
      }
     },
     "9dd17d0c5d594ce1a7a6106e930563db": {
      "model_module": "@jupyter-widgets/controls",
      "model_module_version": "1.5.0",
      "model_name": "DescriptionStyleModel",
      "state": {
       "description_width": "initial"
      }
     },
     "9ddeed99d1aa495389dfd44c5ae1f305": {
      "model_module": "@jupyter-widgets/controls",
      "model_module_version": "1.5.0",
      "model_name": "ButtonStyleModel",
      "state": {}
     },
     "9e023ea7be1e451c9ca45f17c47ddbc1": {
      "model_module": "@jupyter-widgets/controls",
      "model_module_version": "1.5.0",
      "model_name": "DescriptionStyleModel",
      "state": {
       "description_width": "initial"
      }
     },
     "9e450226ed774def9c98e4fff7a0f30f": {
      "model_module": "@jupyter-widgets/base",
      "model_module_version": "1.2.0",
      "model_name": "LayoutModel",
      "state": {
       "width": "250px"
      }
     },
     "9e72f37abea8445aa6f6557f76c068fa": {
      "model_module": "@jupyter-widgets/controls",
      "model_module_version": "1.5.0",
      "model_name": "VBoxModel",
      "state": {
       "children": [
        "IPY_MODEL_f22fb2325acd41bca9278a06ef23683c",
        "IPY_MODEL_a13df7b102204c389527e3fb33504849",
        "IPY_MODEL_6926d0f5507c40d086ec32c3a2ee579a",
        "IPY_MODEL_d8b8cb39f890400c8e4c265846628189",
        "IPY_MODEL_7fce70ba77af4160b6a40bb59f13dbe9"
       ],
       "layout": "IPY_MODEL_a020cd1ee4974d5ebfc32dadb2b465bb"
      }
     },
     "9ea506ae931e4b5ebdad1ee26d71c6cb": {
      "model_module": "@jupyter-widgets/controls",
      "model_module_version": "1.5.0",
      "model_name": "ButtonStyleModel",
      "state": {}
     },
     "9ea720dc229445f0a90f6e9d5d136179": {
      "model_module": "@jupyter-widgets/base",
      "model_module_version": "1.2.0",
      "model_name": "LayoutModel",
      "state": {}
     },
     "9eca694c978a4db39ea384178c85bdd7": {
      "model_module": "@jupyter-widgets/controls",
      "model_module_version": "1.5.0",
      "model_name": "DescriptionStyleModel",
      "state": {
       "description_width": ""
      }
     },
     "9ee0510ba4c146f3ba2db0f1557d33c0": {
      "model_module": "@jupyter-widgets/base",
      "model_module_version": "1.2.0",
      "model_name": "LayoutModel",
      "state": {
       "justify_content": "center"
      }
     },
     "9ee195ab4ded4b3e95112175a82f3eec": {
      "model_module": "@jupyter-widgets/controls",
      "model_module_version": "1.5.0",
      "model_name": "HBoxModel",
      "state": {
       "children": [
        "IPY_MODEL_cc897902c461417b9b26f0ae9df1fc77",
        "IPY_MODEL_845ee18d72574ebd9b4e64d107dfde9d"
       ],
       "layout": "IPY_MODEL_357bbf62eb8e487a86b4afde0af52a2b"
      }
     },
     "9f040b7d5d75494c8dcd0409b423ad70": {
      "model_module": "@jupyter-widgets/controls",
      "model_module_version": "1.5.0",
      "model_name": "HBoxModel",
      "state": {
       "children": [
        "IPY_MODEL_4cc513dbe4a4482b98ace07852c1a31d",
        "IPY_MODEL_881949fa567a479cbed1b091ec19e1c5"
       ],
       "layout": "IPY_MODEL_54c076621223480fb4ad1ceac4434288"
      }
     },
     "9f1044df599949309740d760f551c8d1": {
      "model_module": "@jupyter-widgets/base",
      "model_module_version": "1.2.0",
      "model_name": "LayoutModel",
      "state": {
       "justify_content": "center"
      }
     },
     "9f35f27f292148debd3fdb5b98ff34c7": {
      "model_module": "@jupyter-widgets/base",
      "model_module_version": "1.2.0",
      "model_name": "LayoutModel",
      "state": {
       "width": "250px"
      }
     },
     "9f4009ce6f6c4264a89ea512a59465d5": {
      "model_module": "@jupyter-widgets/controls",
      "model_module_version": "1.5.0",
      "model_name": "ButtonModel",
      "state": {
       "description": "Complete",
       "layout": "IPY_MODEL_7ffc9fd7f63542bb90b1fe52a3fee84e",
       "style": "IPY_MODEL_c2dd4edf5fd241f2bcddf766bff61246"
      }
     },
     "9f60d9c25a8f48ec803d25dd8a500075": {
      "model_module": "@jupyter-widgets/controls",
      "model_module_version": "1.5.0",
      "model_name": "HTMLModel",
      "state": {
       "layout": "IPY_MODEL_698c2c3ef071451a9675bc70c2f45084",
       "style": "IPY_MODEL_b6d87d54b22a4372a0a78f6079d7ba1b",
       "value": "<i>Wählen Sie die <ins>eine</ins> korrekte Antwort aus: </i>"
      }
     },
     "9fba76862ec641568237a8fb63e7ec9b": {
      "model_module": "@jupyter-widgets/controls",
      "model_module_version": "1.5.0",
      "model_name": "ButtonModel",
      "state": {
       "description": "Reduce",
       "layout": "IPY_MODEL_06bc9d415291428a958845ddc1422265",
       "style": "IPY_MODEL_86ae9abae8f94376b4ef6aec473eb017"
      }
     },
     "9fd3aa18e33f42649566dcbc5d1ad11e": {
      "model_module": "@jupyter-widgets/controls",
      "model_module_version": "1.5.0",
      "model_name": "HBoxModel",
      "state": {
       "children": [
        "IPY_MODEL_2a9433fadf434617807e5d8a55bb284f",
        "IPY_MODEL_50283de383ff41ebacaee521fc638cce"
       ],
       "layout": "IPY_MODEL_deba1345d8804ad2ad19ab8c4049200e"
      }
     },
     "9fe8f317f62d4566b0112008dca9ae0b": {
      "model_module": "@jupyter-widgets/base",
      "model_module_version": "1.2.0",
      "model_name": "LayoutModel",
      "state": {
       "width": "250px"
      }
     },
     "9fed8b4efa2d44e0af8bb9edb85945c6": {
      "model_module": "@jupyter-widgets/controls",
      "model_module_version": "1.5.0",
      "model_name": "ButtonModel",
      "state": {
       "description": "Scan",
       "layout": "IPY_MODEL_e220c5270b594af8aedea87ab5e5d4f4",
       "style": "IPY_MODEL_4508ee6855ca410b8e4399b776b512f3"
      }
     },
     "a020cd1ee4974d5ebfc32dadb2b465bb": {
      "model_module": "@jupyter-widgets/base",
      "model_module_version": "1.2.0",
      "model_name": "LayoutModel",
      "state": {}
     },
     "a05c18a9df02417b82a613596683106b": {
      "model_module": "@jupyter-widgets/controls",
      "model_module_version": "1.5.0",
      "model_name": "HBoxModel",
      "state": {
       "children": [
        "IPY_MODEL_a620f88fb8e2445d90e0470c07096434"
       ],
       "layout": "IPY_MODEL_834e344134c94f019f78f66c9aafcb23"
      }
     },
     "a0b21cf3b6e441778a7a6cabbe5ef07e": {
      "model_module": "@jupyter-widgets/controls",
      "model_module_version": "1.5.0",
      "model_name": "ButtonModel",
      "state": {
       "description": "Complete",
       "layout": "IPY_MODEL_d279cf0e17154f618e7558a79c51fee4",
       "style": "IPY_MODEL_ee24bb68de4f4c3aae86288a4d87af96"
      }
     },
     "a0c2bc8f067b4307bf9731c8aadc4301": {
      "model_module": "@jupyter-widgets/controls",
      "model_module_version": "1.5.0",
      "model_name": "ButtonModel",
      "state": {
       "description": "Complete",
       "layout": "IPY_MODEL_7f31a1b0be794abab4d71746283beaf5",
       "style": "IPY_MODEL_a1b1908c00514863902142b14594f1e0"
      }
     },
     "a0d6039629544760b0945d69798b2b95": {
      "model_module": "@jupyter-widgets/controls",
      "model_module_version": "1.5.0",
      "model_name": "HTMLModel",
      "state": {
       "layout": "IPY_MODEL_7153124a324747a0b6af9588ecdb834b",
       "style": "IPY_MODEL_910b35908a8d40d8a8f1cbd78935e1e0",
       "value": "<h4 style=\"font-size:14px;\">Welche Operation folgt als nächstes?</h4>"
      }
     },
     "a0ea1e68182e4b3e84063a416ea2ab72": {
      "model_module": "@jupyter-widgets/controls",
      "model_module_version": "1.5.0",
      "model_name": "ButtonModel",
      "state": {
       "description": "Predict",
       "layout": "IPY_MODEL_e913f403ed0b4d809c6813680dab9c66",
       "style": "IPY_MODEL_e270684629474767a20065bd50d45ca8"
      }
     },
     "a0f2f49315da4752978c28e56971d982": {
      "model_module": "@jupyter-widgets/base",
      "model_module_version": "1.2.0",
      "model_name": "LayoutModel",
      "state": {
       "width": "250px"
      }
     },
     "a108d4a8df6f403a85050fc8b7dbb2d2": {
      "model_module": "@jupyter-widgets/base",
      "model_module_version": "1.2.0",
      "model_name": "LayoutModel",
      "state": {}
     },
     "a13df7b102204c389527e3fb33504849": {
      "model_module": "@jupyter-widgets/controls",
      "model_module_version": "1.5.0",
      "model_name": "HTMLModel",
      "state": {
       "layout": "IPY_MODEL_05553730863149ba91edfc24f37ac41b",
       "style": "IPY_MODEL_bafef4d72a394583a856c0ec1c5db94a",
       "value": "<i>Wählen Sie die <ins>eine</ins> korrekte Antwort aus: </i>"
      }
     },
     "a14a2ede1f4a49efb3a07ca1bdad5bda": {
      "model_module": "@jupyter-widgets/controls",
      "model_module_version": "1.5.0",
      "model_name": "ButtonModel",
      "state": {
       "description": "Scan",
       "layout": "IPY_MODEL_3c0387de0c2d46da85020ac711d0d6cc",
       "style": "IPY_MODEL_6fdf4c73583f4c13be4e3a03e3e5eac0"
      }
     },
     "a150cce721d14aca956a2822ba478785": {
      "model_module": "@jupyter-widgets/controls",
      "model_module_version": "1.5.0",
      "model_name": "ButtonModel",
      "state": {
       "description": "Reduce",
       "layout": "IPY_MODEL_21f6d7b454ee4f2b8c41cc4faeb5184b",
       "style": "IPY_MODEL_aa2a28826c5a42e0acd2d0adeaa77064"
      }
     },
     "a17cd5e1b4fc49808d7e6f7bbfab0622": {
      "model_module": "@jupyter-widgets/base",
      "model_module_version": "1.2.0",
      "model_name": "LayoutModel",
      "state": {
       "width": "250px"
      }
     },
     "a1a4c1689eef4398a4213b5474d9074d": {
      "model_module": "@jupyter-widgets/base",
      "model_module_version": "1.2.0",
      "model_name": "LayoutModel",
      "state": {}
     },
     "a1b1908c00514863902142b14594f1e0": {
      "model_module": "@jupyter-widgets/controls",
      "model_module_version": "1.5.0",
      "model_name": "ButtonStyleModel",
      "state": {}
     },
     "a1b27495541045e6b22c537d24e4be81": {
      "model_module": "@jupyter-widgets/base",
      "model_module_version": "1.2.0",
      "model_name": "LayoutModel",
      "state": {
       "justify_content": "center"
      }
     },
     "a1c0ade981654dc5948adeb7f9a6a339": {
      "model_module": "@jupyter-widgets/controls",
      "model_module_version": "1.5.0",
      "model_name": "HBoxModel",
      "state": {
       "children": [
        "IPY_MODEL_afb30ea09782449f8fbb89792e343653",
        "IPY_MODEL_3419cf26d1e44b859c73970157a2e10e"
       ],
       "layout": "IPY_MODEL_fb5e7359fd5146deab6bc932b8217bb0"
      }
     },
     "a1d9f1b324a74f43a407599e60f4d34a": {
      "model_module": "@jupyter-widgets/base",
      "model_module_version": "1.2.0",
      "model_name": "LayoutModel",
      "state": {
       "justify_content": "center"
      }
     },
     "a1dbdebc6b494ef49dcb6a6c9184d9d3": {
      "model_module": "@jupyter-widgets/base",
      "model_module_version": "1.2.0",
      "model_name": "LayoutModel",
      "state": {}
     },
     "a21265e329f447819874599cd6bcc452": {
      "model_module": "@jupyter-widgets/controls",
      "model_module_version": "1.5.0",
      "model_name": "HTMLModel",
      "state": {
       "layout": "IPY_MODEL_acd41f8e788242f8815ece9cde4f451b",
       "style": "IPY_MODEL_36b18e3051214ba5a75278f507a49f22",
       "value": "<h4 style=\"font-size:14px;\">Welche Operation folgt als nächstes?</h4>"
      }
     },
     "a25d6c26e1334a71838268408d38172e": {
      "model_module": "@jupyter-widgets/base",
      "model_module_version": "1.2.0",
      "model_name": "LayoutModel",
      "state": {}
     },
     "a2632c571cba45cc8ad61b7f59e37d3d": {
      "model_module": "@jupyter-widgets/controls",
      "model_module_version": "1.5.0",
      "model_name": "HTMLModel",
      "state": {
       "layout": "IPY_MODEL_f998401284984a0b9bc51aca66efb83c",
       "style": "IPY_MODEL_9eca694c978a4db39ea384178c85bdd7",
       "value": "<i>Wählen Sie die <ins>eine</ins> korrekte Antwort aus: </i>"
      }
     },
     "a287849fcf554b7ea07b041dbd8fe500": {
      "model_module": "@jupyter-widgets/controls",
      "model_module_version": "1.5.0",
      "model_name": "ButtonStyleModel",
      "state": {}
     },
     "a2d05ef16d18451ab3b747464573e281": {
      "model_module": "@jupyter-widgets/controls",
      "model_module_version": "1.5.0",
      "model_name": "VBoxModel",
      "state": {
       "children": [
        "IPY_MODEL_9c3dfd4f061746bd8c7e511e7588f059",
        "IPY_MODEL_14ae5270344e434ebd5f114a62082410",
        "IPY_MODEL_ceedd677e40d4ea996a08fa2071dd4e1",
        "IPY_MODEL_6114d45ff4af495aadf921875ea434b4"
       ],
       "layout": "IPY_MODEL_8f04d130a6bc402e9af2c5feb207c2d4"
      }
     },
     "a2d6548b7d9947008bf01b6fbada0d27": {
      "model_module": "@jupyter-widgets/controls",
      "model_module_version": "1.5.0",
      "model_name": "HTMLModel",
      "state": {
       "layout": "IPY_MODEL_cecdbc2efb714555bb690d3a425803b8",
       "style": "IPY_MODEL_bdec6a75b4f94e4e887c4269d5c66fce",
       "value": "<h4 style=\"font-size:14px;\">Welche Operation folgt als nächstes?</h4>"
      }
     },
     "a2ea636d00ab4cf78f8ef6979d88b5f1": {
      "model_module": "@jupyter-widgets/controls",
      "model_module_version": "1.5.0",
      "model_name": "ButtonStyleModel",
      "state": {}
     },
     "a3662f57d258467f8bb509ddb2e15e42": {
      "model_module": "@jupyter-widgets/controls",
      "model_module_version": "1.5.0",
      "model_name": "HBoxModel",
      "state": {
       "children": [
        "IPY_MODEL_e3ce49c518fb4ec98e0d36e0c6afb139",
        "IPY_MODEL_d129743c7ad94845bbf01121155dc5d2"
       ],
       "layout": "IPY_MODEL_5a2f16b26c6348cb8536aad504734991"
      }
     },
     "a36dd3b5f93e418596a3746d9b37fc39": {
      "model_module": "@jupyter-widgets/controls",
      "model_module_version": "1.5.0",
      "model_name": "ButtonModel",
      "state": {
       "description": "Shift",
       "layout": "IPY_MODEL_69bfd92ace1643818fd2d0fd6c0da7f2",
       "style": "IPY_MODEL_c8783df720a148c49cacf593c0e6ee2d"
      }
     },
     "a36f4d92f1a74250832f3fc57df980a6": {
      "model_module": "@jupyter-widgets/base",
      "model_module_version": "1.2.0",
      "model_name": "LayoutModel",
      "state": {}
     },
     "a37c5ef87cb44490aedd4a7b033499c3": {
      "model_module": "@jupyter-widgets/controls",
      "model_module_version": "1.5.0",
      "model_name": "HTMLModel",
      "state": {
       "layout": "IPY_MODEL_41d6b0a15798403d9ad621817d731e43",
       "style": "IPY_MODEL_ed5224d96095407ea32d3c9e0bef6a65",
       "value": "<i>Wählen Sie die <ins>eine</ins> korrekte Antwort aus: </i>"
      }
     },
     "a383b8a39f114c00a0daaae46d72d44a": {
      "model_module": "@jupyter-widgets/base",
      "model_module_version": "1.2.0",
      "model_name": "LayoutModel",
      "state": {
       "width": "250px"
      }
     },
     "a38634c60c9a4b6aa42c9b00e807f400": {
      "model_module": "@jupyter-widgets/base",
      "model_module_version": "1.2.0",
      "model_name": "LayoutModel",
      "state": {
       "width": "250px"
      }
     },
     "a3eb98b42eb04716acba505271b1f429": {
      "model_module": "@jupyter-widgets/controls",
      "model_module_version": "1.5.0",
      "model_name": "ButtonModel",
      "state": {
       "description": "Complete",
       "layout": "IPY_MODEL_b9af00e5cec64d65afb288b1dd360e2f",
       "style": "IPY_MODEL_4f8bf10a35534c7fb228621a0a093ec8"
      }
     },
     "a3f18522d2b64269a79c88d4839f6c8d": {
      "model_module": "@jupyter-widgets/controls",
      "model_module_version": "1.5.0",
      "model_name": "ButtonModel",
      "state": {
       "description": "Reduce",
       "layout": "IPY_MODEL_8e78a817b39b450280b06374ae2226ac",
       "style": "IPY_MODEL_17a7c3b2dcb64fc4ab48a3aec7e5a4ed"
      }
     },
     "a3fe1ccb51ca4db1a994ac523b48a792": {
      "model_module": "@jupyter-widgets/base",
      "model_module_version": "1.2.0",
      "model_name": "LayoutModel",
      "state": {
       "justify_content": "center"
      }
     },
     "a3ff383786a841b89a85c6a82b54fe6e": {
      "model_module": "@jupyter-widgets/controls",
      "model_module_version": "1.5.0",
      "model_name": "VBoxModel",
      "state": {
       "children": [
        "IPY_MODEL_43a833d0bbdb4473bb7e0de76e3f7bac",
        "IPY_MODEL_0e467e7793274997b4a6ed97b9902dd7",
        "IPY_MODEL_5e3ec4b9a96549e99e3d0270a33cb767",
        "IPY_MODEL_be84f9108c6b4de8baf75a3a0651faa6"
       ],
       "layout": "IPY_MODEL_936c51bce1f24a059876fee98af51b3e"
      }
     },
     "a4011913d3144921ace8c0c484f3829b": {
      "model_module": "@jupyter-widgets/controls",
      "model_module_version": "1.5.0",
      "model_name": "ButtonModel",
      "state": {
       "description": "Keine der Alternativen",
       "layout": "IPY_MODEL_1723f482b4784ca0921493768f24ed49",
       "style": "IPY_MODEL_b80c4ea0d15f4733a3b8d90be268329a"
      }
     },
     "a40a2557ef384273a72c8e5b71e078cc": {
      "model_module": "@jupyter-widgets/base",
      "model_module_version": "1.2.0",
      "model_name": "LayoutModel",
      "state": {}
     },
     "a40b541a921d4203b7b56c7fd4ca347a": {
      "model_module": "@jupyter-widgets/controls",
      "model_module_version": "1.5.0",
      "model_name": "DescriptionStyleModel",
      "state": {
       "description_width": ""
      }
     },
     "a42184841c45471684a3a3125bb5e19f": {
      "model_module": "@jupyter-widgets/controls",
      "model_module_version": "1.5.0",
      "model_name": "ButtonStyleModel",
      "state": {}
     },
     "a434116b4e4647018ac138f28a4ba0e8": {
      "model_module": "@jupyter-widgets/controls",
      "model_module_version": "1.5.0",
      "model_name": "HTMLModel",
      "state": {
       "layout": "IPY_MODEL_10929bc20d884ffd8594d2657e13cba6",
       "style": "IPY_MODEL_8988f383732d425b98aae2cba76885b8",
       "value": "<i>Wählen Sie die <ins>eine</ins> korrekte Antwort aus: </i>"
      }
     },
     "a473801e02764335b0dc2d5a4b1118b3": {
      "model_module": "@jupyter-widgets/base",
      "model_module_version": "1.2.0",
      "model_name": "LayoutModel",
      "state": {
       "width": "250px"
      }
     },
     "a48cd21ddd0d4d36bbd0c365f2bafa1f": {
      "model_module": "@jupyter-widgets/base",
      "model_module_version": "1.2.0",
      "model_name": "LayoutModel",
      "state": {}
     },
     "a48dff11fa7d489da4722fe15d6f0368": {
      "model_module": "@jupyter-widgets/base",
      "model_module_version": "1.2.0",
      "model_name": "LayoutModel",
      "state": {
       "width": "250px"
      }
     },
     "a492b856991045068c78fa97fa2901e7": {
      "model_module": "@jupyter-widgets/base",
      "model_module_version": "1.2.0",
      "model_name": "LayoutModel",
      "state": {
       "width": "600px"
      }
     },
     "a4ac0325b6cc4ca48b940e4496b2552e": {
      "model_module": "@jupyter-widgets/base",
      "model_module_version": "1.2.0",
      "model_name": "LayoutModel",
      "state": {
       "width": "600px"
      }
     },
     "a4c0447a8da643208069a42fbb34ea31": {
      "model_module": "@jupyter-widgets/base",
      "model_module_version": "1.2.0",
      "model_name": "LayoutModel",
      "state": {}
     },
     "a4eba6aa48e54e97b40e36dd1a977679": {
      "model_module": "@jupyter-widgets/controls",
      "model_module_version": "1.5.0",
      "model_name": "DescriptionStyleModel",
      "state": {
       "description_width": ""
      }
     },
     "a528b3deaa154cae8e71906c92d9e07e": {
      "model_module": "@jupyter-widgets/controls",
      "model_module_version": "1.5.0",
      "model_name": "CheckboxModel",
      "state": {
       "description": "Shift",
       "disabled": false,
       "layout": "IPY_MODEL_65b753318ad04129a68e00aee71e8be4",
       "style": "IPY_MODEL_5029d6b6a1694d5095a50c226e35dd6d",
       "value": false
      }
     },
     "a55a763edd4f4e4e9714223079535130": {
      "model_module": "@jupyter-widgets/base",
      "model_module_version": "1.2.0",
      "model_name": "LayoutModel",
      "state": {}
     },
     "a56a157cee9143a791123ed8794c76de": {
      "model_module": "@jupyter-widgets/controls",
      "model_module_version": "1.5.0",
      "model_name": "ButtonStyleModel",
      "state": {}
     },
     "a573a4db81bb4a01a5539674ee926b86": {
      "model_module": "@jupyter-widgets/base",
      "model_module_version": "1.2.0",
      "model_name": "LayoutModel",
      "state": {}
     },
     "a589f368d8bd4c80abb8b97a4f0a4bcd": {
      "model_module": "@jupyter-widgets/controls",
      "model_module_version": "1.5.0",
      "model_name": "ButtonStyleModel",
      "state": {}
     },
     "a5ab88ed9e604f269bfe30318e36043e": {
      "model_module": "@jupyter-widgets/controls",
      "model_module_version": "1.5.0",
      "model_name": "ButtonModel",
      "state": {
       "description": "Scan",
       "layout": "IPY_MODEL_5896c214ca4c4a8eb883d88c23761a59",
       "style": "IPY_MODEL_c6d0d17fd3fe47caa226eb763296e524"
      }
     },
     "a620f88fb8e2445d90e0470c07096434": {
      "model_module": "@jupyter-widgets/controls",
      "model_module_version": "1.5.0",
      "model_name": "ButtonModel",
      "state": {
       "description": "Shift Reduce",
       "layout": "IPY_MODEL_d2aea47f21eb46149f5acbd6090e5642",
       "style": "IPY_MODEL_3c485be6cf59455e88be15a4f4d4aebf"
      }
     },
     "a6225b75bc634f5db534210254beb3b6": {
      "model_module": "@jupyter-widgets/controls",
      "model_module_version": "1.5.0",
      "model_name": "ButtonStyleModel",
      "state": {}
     },
     "a666219a0155403283828c67b334b8c7": {
      "model_module": "@jupyter-widgets/controls",
      "model_module_version": "1.5.0",
      "model_name": "ButtonStyleModel",
      "state": {}
     },
     "a695a6529d3845e58db1e4116b04571a": {
      "model_module": "@jupyter-widgets/controls",
      "model_module_version": "1.5.0",
      "model_name": "HTMLModel",
      "state": {
       "layout": "IPY_MODEL_863bc95e440f4daa859da53e528ccd5c",
       "style": "IPY_MODEL_d75f447917564c90aa9a924255f75b11",
       "value": "<i>Wählen Sie die <ins>eine</ins> korrekte Antwort aus: </i>"
      }
     },
     "a697ae4feffa4c46bbde2468135e06ec": {
      "model_module": "@jupyter-widgets/base",
      "model_module_version": "1.2.0",
      "model_name": "LayoutModel",
      "state": {
       "width": "250px"
      }
     },
     "a7127313f3d04c3c8094196a66aa242f": {
      "model_module": "@jupyter-widgets/controls",
      "model_module_version": "1.5.0",
      "model_name": "DescriptionStyleModel",
      "state": {
       "description_width": "initial"
      }
     },
     "a7357fc56eb14d95a0d756fcdc4f9ca8": {
      "model_module": "@jupyter-widgets/controls",
      "model_module_version": "1.5.0",
      "model_name": "ButtonModel",
      "state": {
       "description": "Scan",
       "layout": "IPY_MODEL_18822025f9b3460292cef1c252285ee7",
       "style": "IPY_MODEL_bb5dfd3c588c4be3b6d54623e7b284fd"
      }
     },
     "a76e0a4065c04fea81b34d83dc9d50e0": {
      "model_module": "@jupyter-widgets/controls",
      "model_module_version": "1.5.0",
      "model_name": "DescriptionStyleModel",
      "state": {
       "description_width": ""
      }
     },
     "a77361ad6e494c1aa70923b60b0237b7": {
      "model_module": "@jupyter-widgets/controls",
      "model_module_version": "1.5.0",
      "model_name": "HTMLModel",
      "state": {
       "layout": "IPY_MODEL_2c399b9491c44c7eb4c6c888c7214402",
       "style": "IPY_MODEL_88fef06191494c89b05eec9992ce0905",
       "value": "<i>Wählen Sie die <ins>eine</ins> korrekte Antwort aus: </i>"
      }
     },
     "a7a2ce9258b546df97e8e11f291e9483": {
      "model_module": "@jupyter-widgets/base",
      "model_module_version": "1.2.0",
      "model_name": "LayoutModel",
      "state": {
       "justify_content": "center"
      }
     },
     "a7d3aeae8ceb4aa99543d9f89dcf55ae": {
      "model_module": "@jupyter-widgets/base",
      "model_module_version": "1.2.0",
      "model_name": "LayoutModel",
      "state": {}
     },
     "a7f270ec1eb54a47a55c83911225c8da": {
      "model_module": "@jupyter-widgets/controls",
      "model_module_version": "1.5.0",
      "model_name": "ButtonStyleModel",
      "state": {}
     },
     "a82ce8a4b9c641aca7dd8824995e76ca": {
      "model_module": "@jupyter-widgets/controls",
      "model_module_version": "1.5.0",
      "model_name": "DescriptionStyleModel",
      "state": {
       "description_width": ""
      }
     },
     "a85ce85cbb7f48c291e71e289001992d": {
      "model_module": "@jupyter-widgets/base",
      "model_module_version": "1.2.0",
      "model_name": "LayoutModel",
      "state": {
       "width": "250px"
      }
     },
     "a85da8c97cec41a386486b490b6ff9cb": {
      "model_module": "@jupyter-widgets/controls",
      "model_module_version": "1.5.0",
      "model_name": "DescriptionStyleModel",
      "state": {
       "description_width": ""
      }
     },
     "a87492caaf0847ab9e3afe90ec98fb66": {
      "model_module": "@jupyter-widgets/base",
      "model_module_version": "1.2.0",
      "model_name": "LayoutModel",
      "state": {
       "width": "250px"
      }
     },
     "a892d85da27a47d79dadb5d422563ee0": {
      "model_module": "@jupyter-widgets/controls",
      "model_module_version": "1.5.0",
      "model_name": "ButtonStyleModel",
      "state": {}
     },
     "a8a585993deb423ab02b9865b24100f9": {
      "model_module": "@jupyter-widgets/base",
      "model_module_version": "1.2.0",
      "model_name": "LayoutModel",
      "state": {
       "width": "600px"
      }
     },
     "a8c216a5725840afbc5ecec95244fcf8": {
      "model_module": "@jupyter-widgets/controls",
      "model_module_version": "1.5.0",
      "model_name": "ButtonModel",
      "state": {
       "description": "Keine der Alternativen",
       "layout": "IPY_MODEL_b1aeba5a1ec04ba0b5099aa13d86b16c",
       "style": "IPY_MODEL_7c17abbee3f0446bb0fec43cefd4e284"
      }
     },
     "a8f72f98fe8545d6b8f1eaf311b8bd65": {
      "model_module": "@jupyter-widgets/controls",
      "model_module_version": "1.5.0",
      "model_name": "ButtonModel",
      "state": {
       "description": "Shift",
       "layout": "IPY_MODEL_ee232f3b9b7247aea678fe1a39cf984f",
       "style": "IPY_MODEL_8fa11b68caf243f5a250e0fe25d528e7"
      }
     },
     "a8f8b1331fe84297a520d7f41bed2f50": {
      "model_module": "@jupyter-widgets/controls",
      "model_module_version": "1.5.0",
      "model_name": "ButtonStyleModel",
      "state": {}
     },
     "a90499cdeb6241619e712158592da264": {
      "model_module": "@jupyter-widgets/controls",
      "model_module_version": "1.5.0",
      "model_name": "HBoxModel",
      "state": {
       "children": [
        "IPY_MODEL_29f38781e2d344888d16ba063e5aeb51",
        "IPY_MODEL_3a91dba85afc4d03a88a09f290b771c2"
       ],
       "layout": "IPY_MODEL_524cd521ea224d2593e637acddb8573b"
      }
     },
     "a92dc6938c534d438bf40ee6b03abb63": {
      "model_module": "@jupyter-widgets/controls",
      "model_module_version": "1.5.0",
      "model_name": "VBoxModel",
      "state": {
       "children": [
        "IPY_MODEL_07bb6fc0e68d47ffab38e0f6500f26ee",
        "IPY_MODEL_d4624340e2f14f5fa7d598e18d5daa4b",
        "IPY_MODEL_f979634b494a4d138f34eeb51540fcde",
        "IPY_MODEL_10efe42361f94a50bba403b3d491fb50",
        "IPY_MODEL_8787d793fc8c4ed983c434558639336f"
       ],
       "layout": "IPY_MODEL_83d1b313544e4430b00b1d3b67b37d8a"
      }
     },
     "a935d573dd6644b894b1f9e94307a10c": {
      "model_module": "@jupyter-widgets/base",
      "model_module_version": "1.2.0",
      "model_name": "LayoutModel",
      "state": {}
     },
     "a948701858b84109af269f7247373fc7": {
      "model_module": "@jupyter-widgets/base",
      "model_module_version": "1.2.0",
      "model_name": "LayoutModel",
      "state": {}
     },
     "a9557668644f4405b9927fa82a99e367": {
      "model_module": "@jupyter-widgets/controls",
      "model_module_version": "1.5.0",
      "model_name": "ButtonStyleModel",
      "state": {}
     },
     "a958bf087f0948a48660dbe5af94ce1c": {
      "model_module": "@jupyter-widgets/controls",
      "model_module_version": "1.5.0",
      "model_name": "ButtonModel",
      "state": {
       "description": "Complete",
       "layout": "IPY_MODEL_911ac1a3eec4479893b52a65a25f3912",
       "style": "IPY_MODEL_56f3cf07911e4f93a0fdfac2de379398"
      }
     },
     "a9d68edd3b974c329561fc9b5c673ab4": {
      "model_module": "@jupyter-widgets/base",
      "model_module_version": "1.2.0",
      "model_name": "LayoutModel",
      "state": {
       "width": "250px"
      }
     },
     "a9dc576f80ec483094acd49460e77ab6": {
      "model_module": "@jupyter-widgets/controls",
      "model_module_version": "1.5.0",
      "model_name": "HTMLModel",
      "state": {
       "layout": "IPY_MODEL_2485c743cb1643b8a5b5e7421a4b947d",
       "style": "IPY_MODEL_16cbcddbb6db4deb9f839b703d4c86a0",
       "value": "<h4 style=\"font-size:14px;\">Um welchen Parser handelt es sich?</h4>"
      }
     },
     "a9f9f993f3904b5090515dece6b9e81c": {
      "model_module": "@jupyter-widgets/controls",
      "model_module_version": "1.5.0",
      "model_name": "ButtonModel",
      "state": {
       "description": "Shift",
       "layout": "IPY_MODEL_42b8b67b4a5e4f1ab8beb70447677062",
       "style": "IPY_MODEL_e54c2e518e0a4dcdbbd1da2e71349524"
      }
     },
     "a9fcefeecc8a406eabb1e77b106e6519": {
      "model_module": "@jupyter-widgets/controls",
      "model_module_version": "1.5.0",
      "model_name": "ButtonModel",
      "state": {
       "description": "Recusive Descent",
       "layout": "IPY_MODEL_f53b1762623b4f98acc63a44d2588122",
       "style": "IPY_MODEL_4b1f967c424e4327a64409badad8ac81"
      }
     },
     "aa2a28826c5a42e0acd2d0adeaa77064": {
      "model_module": "@jupyter-widgets/controls",
      "model_module_version": "1.5.0",
      "model_name": "ButtonStyleModel",
      "state": {}
     },
     "aa61c9beabac402db7f24ac178c2aa00": {
      "model_module": "@jupyter-widgets/controls",
      "model_module_version": "1.5.0",
      "model_name": "CheckboxModel",
      "state": {
       "description": "Scan",
       "disabled": false,
       "layout": "IPY_MODEL_8b4f0117ecab4da6afbd5efe6921c15d",
       "style": "IPY_MODEL_919ff3668f9d4606b8a9a63a78edae94",
       "value": false
      }
     },
     "aa8ba656dc594ea5a28406d42abfdc39": {
      "model_module": "@jupyter-widgets/base",
      "model_module_version": "1.2.0",
      "model_name": "LayoutModel",
      "state": {
       "width": "250px"
      }
     },
     "aaa20c5121e84b909cff52ec796c216b": {
      "model_module": "@jupyter-widgets/controls",
      "model_module_version": "1.5.0",
      "model_name": "ButtonStyleModel",
      "state": {}
     },
     "aacb3b7e578149e1bfcab79306ff3039": {
      "model_module": "@jupyter-widgets/base",
      "model_module_version": "1.2.0",
      "model_name": "LayoutModel",
      "state": {}
     },
     "ab3907596e7642e3ab5bedd034e6490c": {
      "model_module": "@jupyter-widgets/controls",
      "model_module_version": "1.5.0",
      "model_name": "HBoxModel",
      "state": {
       "children": [
        "IPY_MODEL_6990ebda6f1a407a93a1ca0563ab4143",
        "IPY_MODEL_c79ea269db85419394256e6d7478658b"
       ],
       "layout": "IPY_MODEL_4a0d9578c9bd432f8fdf26e4c16ce567"
      }
     },
     "ab4fa29208384fef922e9318b123606f": {
      "model_module": "@jupyter-widgets/controls",
      "model_module_version": "1.5.0",
      "model_name": "HTMLModel",
      "state": {
       "layout": "IPY_MODEL_8b16ff79a657446f9703599469c089ad",
       "style": "IPY_MODEL_d48c3486a7de4982a9fab4e84c5ecbca",
       "value": "<i>Wählen Sie die <ins>eine</ins> korrekte Antwort aus: </i>"
      }
     },
     "ab60e73005dc4d25a68edd47e9af3b49": {
      "model_module": "@jupyter-widgets/base",
      "model_module_version": "1.2.0",
      "model_name": "LayoutModel",
      "state": {}
     },
     "ab62f92f6a0d432d9e2809cf5f23a530": {
      "model_module": "@jupyter-widgets/base",
      "model_module_version": "1.2.0",
      "model_name": "LayoutModel",
      "state": {
       "width": "250px"
      }
     },
     "ab7aa0798aba4e00a92c360473edfedd": {
      "model_module": "@jupyter-widgets/controls",
      "model_module_version": "1.5.0",
      "model_name": "HBoxModel",
      "state": {
       "children": [
        "IPY_MODEL_0544ab4181fd406bbe89d66eae9b9366",
        "IPY_MODEL_453cc3adccf5490ab218094918b41129"
       ],
       "layout": "IPY_MODEL_77e36d0f8ddf473587231935dab15683"
      }
     },
     "ab8f2d3e6cdf426bb914644e4288071b": {
      "model_module": "@jupyter-widgets/base",
      "model_module_version": "1.2.0",
      "model_name": "LayoutModel",
      "state": {}
     },
     "ab9b9f3c9c4a443ba3003d77df970aad": {
      "model_module": "@jupyter-widgets/controls",
      "model_module_version": "1.5.0",
      "model_name": "HTMLModel",
      "state": {
       "layout": "IPY_MODEL_a1b27495541045e6b22c537d24e4be81",
       "style": "IPY_MODEL_b63ed8b0a09e44ceabb4b5139403c43c",
       "value": "<h4 style=\"font-size:14px;\">Welche Operation folgt als nächstes?</h4>"
      }
     },
     "ab9f10876484444a8c804647214e18fa": {
      "model_module": "@jupyter-widgets/base",
      "model_module_version": "1.2.0",
      "model_name": "LayoutModel",
      "state": {}
     },
     "abd40666cf474adea2cb0bc32dc9065b": {
      "model_module": "@jupyter-widgets/controls",
      "model_module_version": "1.5.0",
      "model_name": "HBoxModel",
      "state": {
       "children": [
        "IPY_MODEL_e61cd2de73eb49cba115abccf38127b6",
        "IPY_MODEL_5631eb8904ec4692b0a657f5c47ce8d4"
       ],
       "layout": "IPY_MODEL_266af993e6b74048a251f5612a33cffc"
      }
     },
     "abd95d6b415e485b90de8968676206d8": {
      "model_module": "@jupyter-widgets/controls",
      "model_module_version": "1.5.0",
      "model_name": "ButtonModel",
      "state": {
       "description": "Shift Reduce",
       "layout": "IPY_MODEL_5d1a5c36c732463aadc39bef280b8cb9",
       "style": "IPY_MODEL_928a60f7004b4b8a8c6131f16c5fa367"
      }
     },
     "abe01a9e0c9b44e798dd9207ff535c91": {
      "model_module": "@jupyter-widgets/base",
      "model_module_version": "1.2.0",
      "model_name": "LayoutModel",
      "state": {
       "justify_content": "center"
      }
     },
     "ac4fb6f3706f44bda59c2dad1d7252b7": {
      "model_module": "@jupyter-widgets/base",
      "model_module_version": "1.2.0",
      "model_name": "LayoutModel",
      "state": {
       "width": "250px"
      }
     },
     "ac524e473b0f441b9b0ccdf944ba4972": {
      "model_module": "@jupyter-widgets/base",
      "model_module_version": "1.2.0",
      "model_name": "LayoutModel",
      "state": {
       "width": "250px"
      }
     },
     "acd41f8e788242f8815ece9cde4f451b": {
      "model_module": "@jupyter-widgets/base",
      "model_module_version": "1.2.0",
      "model_name": "LayoutModel",
      "state": {
       "justify_content": "center"
      }
     },
     "acfb44cc91b64cfa977ce790dcf5ff7d": {
      "model_module": "@jupyter-widgets/controls",
      "model_module_version": "1.5.0",
      "model_name": "ButtonModel",
      "state": {
       "description": "Recusive Descent",
       "layout": "IPY_MODEL_2c3c1391583f47fc8449e87077e68b98",
       "style": "IPY_MODEL_56c82376bc7246aaabbea17f8369b1cd"
      }
     },
     "acfb6124482843f5a5326b6e2099e1b3": {
      "model_module": "@jupyter-widgets/base",
      "model_module_version": "1.2.0",
      "model_name": "LayoutModel",
      "state": {}
     },
     "ad1301f27d944070be6567163421da0b": {
      "model_module": "@jupyter-widgets/controls",
      "model_module_version": "1.5.0",
      "model_name": "ButtonModel",
      "state": {
       "description": "Reduce",
       "layout": "IPY_MODEL_ebacfb74bd844e4c8eaaada900f4f6df",
       "style": "IPY_MODEL_232b7d803247489593f22c88cd653aac"
      }
     },
     "ad13c59bd8594c27b2e5bab05d4eed41": {
      "model_module": "@jupyter-widgets/base",
      "model_module_version": "1.2.0",
      "model_name": "LayoutModel",
      "state": {
       "width": "250px"
      }
     },
     "ad1c70024ae04d56926952f5d4fc317a": {
      "model_module": "@jupyter-widgets/base",
      "model_module_version": "1.2.0",
      "model_name": "LayoutModel",
      "state": {}
     },
     "ad306a1166a94cf98dd43db27cbaf6ae": {
      "model_module": "@jupyter-widgets/base",
      "model_module_version": "1.2.0",
      "model_name": "LayoutModel",
      "state": {
       "width": "600px"
      }
     },
     "ad5650b0ffaf460a8eb10f322a91b568": {
      "model_module": "@jupyter-widgets/base",
      "model_module_version": "1.2.0",
      "model_name": "LayoutModel",
      "state": {}
     },
     "ad894b59b4e54a09b7c8646f9197408d": {
      "model_module": "@jupyter-widgets/controls",
      "model_module_version": "1.5.0",
      "model_name": "ButtonModel",
      "state": {
       "description": "Predict",
       "layout": "IPY_MODEL_afdb27aeb9414b8386aa435c59deabe8",
       "style": "IPY_MODEL_5a742b01e48f42f69cbc4fa3f0da847a"
      }
     },
     "adb58a6a69444011922b36faae5e7025": {
      "model_module": "@jupyter-widgets/base",
      "model_module_version": "1.2.0",
      "model_name": "LayoutModel",
      "state": {
       "justify_content": "center"
      }
     },
     "adb98116907a4a4c8fe5d7062cacf3a3": {
      "model_module": "@jupyter-widgets/controls",
      "model_module_version": "1.5.0",
      "model_name": "ButtonStyleModel",
      "state": {}
     },
     "adbcc8e55f0a40ae84eaafc581e1433c": {
      "model_module": "@jupyter-widgets/controls",
      "model_module_version": "1.5.0",
      "model_name": "DescriptionStyleModel",
      "state": {
       "description_width": ""
      }
     },
     "ae29c9ca116d4da8983bca879e1bcef3": {
      "model_module": "@jupyter-widgets/base",
      "model_module_version": "1.2.0",
      "model_name": "LayoutModel",
      "state": {
       "justify_content": "center"
      }
     },
     "ae4990f8298046888b5a65bc75b432e3": {
      "model_module": "@jupyter-widgets/base",
      "model_module_version": "1.2.0",
      "model_name": "LayoutModel",
      "state": {
       "width": "250px"
      }
     },
     "ae607c8bb542474798079836042d1131": {
      "model_module": "@jupyter-widgets/controls",
      "model_module_version": "1.5.0",
      "model_name": "DescriptionStyleModel",
      "state": {
       "description_width": ""
      }
     },
     "ae6d5ddb57144d5c97a24d14b8206139": {
      "model_module": "@jupyter-widgets/controls",
      "model_module_version": "1.5.0",
      "model_name": "ButtonModel",
      "state": {
       "description": "Scan",
       "layout": "IPY_MODEL_ea70f4de9ece40889f5aeca3198a5395",
       "style": "IPY_MODEL_b074c53706ed456791edab75875460c2"
      }
     },
     "ae70d33ce81442e482ba5cb3b71bad70": {
      "model_module": "@jupyter-widgets/base",
      "model_module_version": "1.2.0",
      "model_name": "LayoutModel",
      "state": {}
     },
     "ae76bd1022b949e18b4bd8ca4622e06e": {
      "model_module": "@jupyter-widgets/controls",
      "model_module_version": "1.5.0",
      "model_name": "CheckboxModel",
      "state": {
       "description": "Predict",
       "disabled": false,
       "layout": "IPY_MODEL_c14cfe546a1241619592df2204b122f4",
       "style": "IPY_MODEL_b9da3815e6714ddc89929940006d1ebf",
       "value": false
      }
     },
     "aeac8783665c4bacb83188e1f7d830da": {
      "model_module": "@jupyter-widgets/controls",
      "model_module_version": "1.5.0",
      "model_name": "HBoxModel",
      "state": {
       "children": [
        "IPY_MODEL_11c75e9cccb84c259bb40e84f2252517",
        "IPY_MODEL_90540ce40662410d9a06d4ab79176942"
       ],
       "layout": "IPY_MODEL_ff1d9ba35d0d41e0aee7991b66cf86b0"
      }
     },
     "aeada0fb85d34c28921a102c7e906c7b": {
      "model_module": "@jupyter-widgets/base",
      "model_module_version": "1.2.0",
      "model_name": "LayoutModel",
      "state": {}
     },
     "aed46a3762d8481285cc830f2ad86d79": {
      "model_module": "@jupyter-widgets/controls",
      "model_module_version": "1.5.0",
      "model_name": "ButtonModel",
      "state": {
       "description": "Reduce",
       "layout": "IPY_MODEL_f11fecda7d81429aafb9b9a0771af2e7",
       "style": "IPY_MODEL_a287849fcf554b7ea07b041dbd8fe500"
      }
     },
     "aef30b23b82b4d9c9b6f49c5bb6b5ff6": {
      "model_module": "@jupyter-widgets/controls",
      "model_module_version": "1.5.0",
      "model_name": "HBoxModel",
      "state": {
       "children": [
        "IPY_MODEL_2b17120774794e0eaab17f809b1c580b",
        "IPY_MODEL_1c886070f5674611b45edc4e1465849c"
       ],
       "layout": "IPY_MODEL_1092de54526649cebcb2865189f4520d"
      }
     },
     "af0984beac674915bba27238d1de42bf": {
      "model_module": "@jupyter-widgets/controls",
      "model_module_version": "1.5.0",
      "model_name": "ButtonModel",
      "state": {
       "description": "Shift",
       "layout": "IPY_MODEL_27a87ddc54f841778d3d6cf236ecb420",
       "style": "IPY_MODEL_82bc8b28d65b45a0baf930f2d132dac3"
      }
     },
     "af330c8a75ee4e76b237a83e1e360c31": {
      "model_module": "@jupyter-widgets/base",
      "model_module_version": "1.2.0",
      "model_name": "LayoutModel",
      "state": {}
     },
     "af5ab73dd3ea443d944908ea021a0532": {
      "model_module": "@jupyter-widgets/controls",
      "model_module_version": "1.5.0",
      "model_name": "ButtonModel",
      "state": {
       "description": "Earley",
       "layout": "IPY_MODEL_cfef8ad7ca82451a946158da861e5ae6",
       "style": "IPY_MODEL_14a26956a71c4d59a9a06e1a209884b7"
      }
     },
     "af7adb1e17624fb5bca1110fcd15dddb": {
      "model_module": "@jupyter-widgets/base",
      "model_module_version": "1.2.0",
      "model_name": "LayoutModel",
      "state": {}
     },
     "af9b4345fcc148d39ec3b111ff343019": {
      "model_module": "@jupyter-widgets/controls",
      "model_module_version": "1.5.0",
      "model_name": "ButtonModel",
      "state": {
       "description": "Predict",
       "layout": "IPY_MODEL_f0e44ea9c5dd4d3ab3c6de2a8105ec88",
       "style": "IPY_MODEL_fd3cc79703e9435da2dc3e5b823d06a4"
      }
     },
     "afb30ea09782449f8fbb89792e343653": {
      "model_module": "@jupyter-widgets/controls",
      "model_module_version": "1.5.0",
      "model_name": "ButtonModel",
      "state": {
       "description": "Complete",
       "layout": "IPY_MODEL_44c43a3b12394d81b9b8cb496498e741",
       "style": "IPY_MODEL_78a4eaafa04b4ea5b160c6e5f9bbbeac"
      }
     },
     "afdb27aeb9414b8386aa435c59deabe8": {
      "model_module": "@jupyter-widgets/base",
      "model_module_version": "1.2.0",
      "model_name": "LayoutModel",
      "state": {
       "width": "250px"
      }
     },
     "b041b8f076a24be781ac86059da2063d": {
      "model_module": "@jupyter-widgets/controls",
      "model_module_version": "1.5.0",
      "model_name": "DescriptionStyleModel",
      "state": {
       "description_width": "initial"
      }
     },
     "b074c53706ed456791edab75875460c2": {
      "model_module": "@jupyter-widgets/controls",
      "model_module_version": "1.5.0",
      "model_name": "ButtonStyleModel",
      "state": {}
     },
     "b081b35566914c22ab63a5c88726d11e": {
      "model_module": "@jupyter-widgets/controls",
      "model_module_version": "1.5.0",
      "model_name": "ButtonStyleModel",
      "state": {}
     },
     "b0aadac8397a416da938ab9cdf0fdc39": {
      "model_module": "@jupyter-widgets/base",
      "model_module_version": "1.2.0",
      "model_name": "LayoutModel",
      "state": {
       "justify_content": "center"
      }
     },
     "b0b08e5cf937465cbc9bb6bc34e44136": {
      "model_module": "@jupyter-widgets/base",
      "model_module_version": "1.2.0",
      "model_name": "LayoutModel",
      "state": {}
     },
     "b0c9ade8f3f64608ac3860a0b0642e85": {
      "model_module": "@jupyter-widgets/controls",
      "model_module_version": "1.5.0",
      "model_name": "ButtonModel",
      "state": {
       "description": "Reduce",
       "layout": "IPY_MODEL_ad13c59bd8594c27b2e5bab05d4eed41",
       "style": "IPY_MODEL_02c291c7bd8744189d587d10ce6a7582"
      }
     },
     "b0dcd6aac6924f39864b8bbd28aae63a": {
      "model_module": "@jupyter-widgets/base",
      "model_module_version": "1.2.0",
      "model_name": "LayoutModel",
      "state": {
       "width": "600px"
      }
     },
     "b0dff703c6864b9aa8474f6887814380": {
      "model_module": "@jupyter-widgets/base",
      "model_module_version": "1.2.0",
      "model_name": "LayoutModel",
      "state": {
       "justify_content": "center"
      }
     },
     "b0e72f50a74b4727a2362dd435d7742e": {
      "model_module": "@jupyter-widgets/controls",
      "model_module_version": "1.5.0",
      "model_name": "HBoxModel",
      "state": {
       "children": [
        "IPY_MODEL_a0c2bc8f067b4307bf9731c8aadc4301",
        "IPY_MODEL_7489ccb8d10f40938a24d41c2388403e"
       ],
       "layout": "IPY_MODEL_819500e9c89b4b5fb8746413b13d1729"
      }
     },
     "b107214f49ee4c07827f53a1fc9155a7": {
      "model_module": "@jupyter-widgets/controls",
      "model_module_version": "1.5.0",
      "model_name": "DescriptionStyleModel",
      "state": {
       "description_width": ""
      }
     },
     "b128bd7f987a4325b93991a873a7d32e": {
      "model_module": "@jupyter-widgets/controls",
      "model_module_version": "1.5.0",
      "model_name": "HTMLModel",
      "state": {
       "layout": "IPY_MODEL_16acfc495d7e4ca094401961a14d092e",
       "style": "IPY_MODEL_398483adc7de48ea97488bdf2987a820",
       "value": "<i>Wählen Sie die <ins>eine</ins> korrekte Antwort aus: </i>"
      }
     },
     "b14b35c415ca4247aa3e6522db7d5dc4": {
      "model_module": "@jupyter-widgets/base",
      "model_module_version": "1.2.0",
      "model_name": "LayoutModel",
      "state": {
       "width": "250px"
      }
     },
     "b164c46d100f41f4876a9ffacd8778ce": {
      "model_module": "@jupyter-widgets/base",
      "model_module_version": "1.2.0",
      "model_name": "LayoutModel",
      "state": {
       "width": "600px"
      }
     },
     "b19f379a83fd4e60b959fb91668749b4": {
      "model_module": "@jupyter-widgets/controls",
      "model_module_version": "1.5.0",
      "model_name": "DescriptionStyleModel",
      "state": {
       "description_width": ""
      }
     },
     "b1a94022587c47719b316a17a4d31f21": {
      "model_module": "@jupyter-widgets/controls",
      "model_module_version": "1.5.0",
      "model_name": "ButtonModel",
      "state": {
       "description": "Predict",
       "layout": "IPY_MODEL_b311247b3ad14b6390b5e22075e157f6",
       "style": "IPY_MODEL_03ee1f712982429b88ac9c39aaad41e1"
      }
     },
     "b1aeba5a1ec04ba0b5099aa13d86b16c": {
      "model_module": "@jupyter-widgets/base",
      "model_module_version": "1.2.0",
      "model_name": "LayoutModel",
      "state": {
       "width": "250px"
      }
     },
     "b1ff97fe9a8546c896df07cfd1b302ee": {
      "model_module": "@jupyter-widgets/controls",
      "model_module_version": "1.5.0",
      "model_name": "ButtonStyleModel",
      "state": {}
     },
     "b20834d8524b466b98f604fec39c274d": {
      "model_module": "@jupyter-widgets/base",
      "model_module_version": "1.2.0",
      "model_name": "LayoutModel",
      "state": {}
     },
     "b224da06e3c143cdbbaf956bf41a7689": {
      "model_module": "@jupyter-widgets/base",
      "model_module_version": "1.2.0",
      "model_name": "LayoutModel",
      "state": {}
     },
     "b23683c48dfb46a682a55b8944e63053": {
      "model_module": "@jupyter-widgets/controls",
      "model_module_version": "1.5.0",
      "model_name": "DescriptionStyleModel",
      "state": {
       "description_width": ""
      }
     },
     "b25b89dbc9e24342b1a7345ddc6fe55b": {
      "model_module": "@jupyter-widgets/controls",
      "model_module_version": "1.5.0",
      "model_name": "ButtonStyleModel",
      "state": {}
     },
     "b29be05511c4438dbd278600171464fc": {
      "model_module": "@jupyter-widgets/base",
      "model_module_version": "1.2.0",
      "model_name": "LayoutModel",
      "state": {}
     },
     "b2fbd3701e144bffa00d9a287a9532f2": {
      "model_module": "@jupyter-widgets/base",
      "model_module_version": "1.2.0",
      "model_name": "LayoutModel",
      "state": {
       "width": "250px"
      }
     },
     "b311247b3ad14b6390b5e22075e157f6": {
      "model_module": "@jupyter-widgets/base",
      "model_module_version": "1.2.0",
      "model_name": "LayoutModel",
      "state": {
       "width": "250px"
      }
     },
     "b31ee53796414f56a0c48b70a68415d7": {
      "model_module": "@jupyter-widgets/base",
      "model_module_version": "1.2.0",
      "model_name": "LayoutModel",
      "state": {}
     },
     "b329912aaf4e4a99b3fc8a3da1fcf5a0": {
      "model_module": "@jupyter-widgets/base",
      "model_module_version": "1.2.0",
      "model_name": "LayoutModel",
      "state": {}
     },
     "b35543383c104849bf65eaa1be92f967": {
      "model_module": "@jupyter-widgets/controls",
      "model_module_version": "1.5.0",
      "model_name": "ButtonStyleModel",
      "state": {}
     },
     "b37d88d68baf400484f359f04b9a38ee": {
      "model_module": "@jupyter-widgets/base",
      "model_module_version": "1.2.0",
      "model_name": "LayoutModel",
      "state": {
       "width": "250px"
      }
     },
     "b38b70cdedda4a238efaf1f7bee0c832": {
      "model_module": "@jupyter-widgets/controls",
      "model_module_version": "1.5.0",
      "model_name": "ButtonModel",
      "state": {
       "description": "Scan",
       "layout": "IPY_MODEL_871b9f5c870845e69a3774e3ad14626b",
       "style": "IPY_MODEL_b4c45dec8b9447888885985d915eeead"
      }
     },
     "b3d66f60688846f0ab3b5fcbdf66cc91": {
      "model_module": "@jupyter-widgets/controls",
      "model_module_version": "1.5.0",
      "model_name": "ButtonStyleModel",
      "state": {}
     },
     "b3f337376d92456bbdcecc76650f6fb7": {
      "model_module": "@jupyter-widgets/controls",
      "model_module_version": "1.5.0",
      "model_name": "HTMLModel",
      "state": {
       "layout": "IPY_MODEL_5770f4b58b39457cb0609d464983540b",
       "style": "IPY_MODEL_39119d037389422b892183786909cec7",
       "value": "<h4 style=\"font-size:14px;\">Welche Operation folgt als nächstes?</h4>"
      }
     },
     "b405bc56831c478692ebed4b356b0043": {
      "model_module": "@jupyter-widgets/controls",
      "model_module_version": "1.5.0",
      "model_name": "DescriptionStyleModel",
      "state": {
       "description_width": ""
      }
     },
     "b40fc5c7319749b2a96cc431e380e582": {
      "model_module": "@jupyter-widgets/base",
      "model_module_version": "1.2.0",
      "model_name": "LayoutModel",
      "state": {}
     },
     "b42810ece5ac40109557b6df537dc982": {
      "model_module": "@jupyter-widgets/base",
      "model_module_version": "1.2.0",
      "model_name": "LayoutModel",
      "state": {}
     },
     "b46fd3fe3e49493a8a104d95ba09bcc6": {
      "model_module": "@jupyter-widgets/controls",
      "model_module_version": "1.5.0",
      "model_name": "ButtonModel",
      "state": {
       "description": "Reduce",
       "layout": "IPY_MODEL_90cc47f15ae5403595cd7bdfdf8f9027",
       "style": "IPY_MODEL_0d40d129807745dbad773237652cf0f0"
      }
     },
     "b471069947974af99532f8970d32149d": {
      "model_module": "@jupyter-widgets/controls",
      "model_module_version": "1.5.0",
      "model_name": "ButtonModel",
      "state": {
       "description": "Reduce",
       "layout": "IPY_MODEL_dc3306647fba4b6d9fe961513174aa6d",
       "style": "IPY_MODEL_64cfb2afbf97415083a4a085946086a5"
      }
     },
     "b48165fb26b34b7ea46e90e377ac5a96": {
      "model_module": "@jupyter-widgets/controls",
      "model_module_version": "1.5.0",
      "model_name": "ButtonStyleModel",
      "state": {}
     },
     "b4b81d5bcdc94e45924f89a79cf18571": {
      "model_module": "@jupyter-widgets/base",
      "model_module_version": "1.2.0",
      "model_name": "LayoutModel",
      "state": {
       "width": "600px"
      }
     },
     "b4c45dec8b9447888885985d915eeead": {
      "model_module": "@jupyter-widgets/controls",
      "model_module_version": "1.5.0",
      "model_name": "ButtonStyleModel",
      "state": {}
     },
     "b4cd1dbd37ca4ce9a413079f9fbf6fdc": {
      "model_module": "@jupyter-widgets/base",
      "model_module_version": "1.2.0",
      "model_name": "LayoutModel",
      "state": {}
     },
     "b54e09df8026452799fd0a06ecd96b95": {
      "model_module": "@jupyter-widgets/controls",
      "model_module_version": "1.5.0",
      "model_name": "HTMLModel",
      "state": {
       "layout": "IPY_MODEL_ce6fc230277142c89a5e428efc827e20",
       "style": "IPY_MODEL_fd5b8031066347d2a7934c86fea02ce5",
       "value": "<i>Wählen Sie die <ins>eine</ins> korrekte Antwort aus: </i>"
      }
     },
     "b556b9ba9d38491c84f13bab666e378a": {
      "model_module": "@jupyter-widgets/base",
      "model_module_version": "1.2.0",
      "model_name": "LayoutModel",
      "state": {}
     },
     "b593db63a3134319832303759df33b9b": {
      "model_module": "@jupyter-widgets/controls",
      "model_module_version": "1.5.0",
      "model_name": "HBoxModel",
      "state": {
       "children": [
        "IPY_MODEL_c7a4c10a6c1e4621ba892d5dee333003",
        "IPY_MODEL_ad1301f27d944070be6567163421da0b"
       ],
       "layout": "IPY_MODEL_5b886c45237748f1bce61af37ee0db79"
      }
     },
     "b595a8f9b7984be3a9cfc824dd6e3d7c": {
      "model_module": "@jupyter-widgets/base",
      "model_module_version": "1.2.0",
      "model_name": "LayoutModel",
      "state": {
       "width": "250px"
      }
     },
     "b5e853c9613548159382641431a5bc64": {
      "model_module": "@jupyter-widgets/controls",
      "model_module_version": "1.5.0",
      "model_name": "ButtonModel",
      "state": {
       "description": "Reduce",
       "layout": "IPY_MODEL_821cc66054a748bc9fba01d7455a36cd",
       "style": "IPY_MODEL_c29d6e6b4cb44ec79827e08113774f21"
      }
     },
     "b6035766694a41f1aa838aec6737e0dd": {
      "model_module": "@jupyter-widgets/controls",
      "model_module_version": "1.5.0",
      "model_name": "ButtonStyleModel",
      "state": {}
     },
     "b615415c2bfa4b83934afab5ab14df2e": {
      "model_module": "@jupyter-widgets/controls",
      "model_module_version": "1.5.0",
      "model_name": "VBoxModel",
      "state": {
       "children": [
        "IPY_MODEL_5597ded2a627449e93c4d6ee09aea835",
        "IPY_MODEL_2a140b1e7e2c4aeb9a785b94dccde6b6",
        "IPY_MODEL_9d9c6dc0ffbd40238440419f760e18ad",
        "IPY_MODEL_3d83a9e938a74c809006b674bb69d35e"
       ],
       "layout": "IPY_MODEL_f41330f76c9b489ba0a47e3d710299a0"
      }
     },
     "b63ed8b0a09e44ceabb4b5139403c43c": {
      "model_module": "@jupyter-widgets/controls",
      "model_module_version": "1.5.0",
      "model_name": "DescriptionStyleModel",
      "state": {
       "description_width": ""
      }
     },
     "b64ac8920d8f40b6802829b9f47de053": {
      "model_module": "@jupyter-widgets/base",
      "model_module_version": "1.2.0",
      "model_name": "LayoutModel",
      "state": {
       "width": "250px"
      }
     },
     "b65f0fbce1e4478186d1d4daa88cff1e": {
      "model_module": "@jupyter-widgets/controls",
      "model_module_version": "1.5.0",
      "model_name": "DescriptionStyleModel",
      "state": {
       "description_width": ""
      }
     },
     "b692bdd750854397b7134e8bfc32244d": {
      "model_module": "@jupyter-widgets/controls",
      "model_module_version": "1.5.0",
      "model_name": "ButtonStyleModel",
      "state": {}
     },
     "b6d87d54b22a4372a0a78f6079d7ba1b": {
      "model_module": "@jupyter-widgets/controls",
      "model_module_version": "1.5.0",
      "model_name": "DescriptionStyleModel",
      "state": {
       "description_width": ""
      }
     },
     "b6e108f122724957bc5742fe35392bab": {
      "model_module": "@jupyter-widgets/controls",
      "model_module_version": "1.5.0",
      "model_name": "VBoxModel",
      "state": {
       "children": [
        "IPY_MODEL_cf41d41419ca43feb41bedb620f4004f",
        "IPY_MODEL_c30e3c63c951481fb5a0206c046b0938",
        "IPY_MODEL_120568315af94bea8aba18c7b6e0a893",
        "IPY_MODEL_49849b555c7b487b96e84f7198d2fca6"
       ],
       "layout": "IPY_MODEL_68e8c7ba396c49a5a2fdb99c31547c0a"
      }
     },
     "b6e3eac0bb6f45b88bdd3c7d56fcf538": {
      "model_module": "@jupyter-widgets/base",
      "model_module_version": "1.2.0",
      "model_name": "LayoutModel",
      "state": {
       "width": "250px"
      }
     },
     "b6e92764f7bc47de9089d88eb23434c2": {
      "model_module": "@jupyter-widgets/base",
      "model_module_version": "1.2.0",
      "model_name": "LayoutModel",
      "state": {
       "width": "600px"
      }
     },
     "b708d025086f4f1e872da5f7879a1de1": {
      "model_module": "@jupyter-widgets/controls",
      "model_module_version": "1.5.0",
      "model_name": "HBoxModel",
      "state": {
       "children": [
        "IPY_MODEL_90ca92077e3142b88ad2c8792bde569b"
       ],
       "layout": "IPY_MODEL_c5a3e98e147f458ba482667b89f69ea3"
      }
     },
     "b7108ea320b6411299cba9287724f112": {
      "model_module": "@jupyter-widgets/controls",
      "model_module_version": "1.5.0",
      "model_name": "ButtonStyleModel",
      "state": {}
     },
     "b79fa99457be4122996a1675adacbeca": {
      "model_module": "@jupyter-widgets/controls",
      "model_module_version": "1.5.0",
      "model_name": "ButtonModel",
      "state": {
       "description": "Scan",
       "layout": "IPY_MODEL_c10f2f8396fd4b6daf36a328e831dcd3",
       "style": "IPY_MODEL_b7108ea320b6411299cba9287724f112"
      }
     },
     "b7fe2093179642f588dffbd01d5ff46c": {
      "model_module": "@jupyter-widgets/controls",
      "model_module_version": "1.5.0",
      "model_name": "HTMLModel",
      "state": {
       "layout": "IPY_MODEL_8f7ae52aa8834037a00c9d8eabe2c246",
       "style": "IPY_MODEL_dcab44dbcf744772ad98bb9e61f262a9",
       "value": "<i>Wählen Sie die <ins>eine</ins> korrekte Antwort aus: </i>"
      }
     },
     "b80c4ea0d15f4733a3b8d90be268329a": {
      "model_module": "@jupyter-widgets/controls",
      "model_module_version": "1.5.0",
      "model_name": "ButtonStyleModel",
      "state": {}
     },
     "b80d8730a07b4adf872ec88e07778d0f": {
      "model_module": "@jupyter-widgets/controls",
      "model_module_version": "1.5.0",
      "model_name": "ButtonModel",
      "state": {
       "description": "Keine der Alternativen",
       "layout": "IPY_MODEL_07e79925c1e54e929493d8f1f384d634",
       "style": "IPY_MODEL_510baf357a5f437490fc7928c062d8b3"
      }
     },
     "b81b949d16b34eda9d94d03ed81c7700": {
      "model_module": "@jupyter-widgets/base",
      "model_module_version": "1.2.0",
      "model_name": "LayoutModel",
      "state": {
       "width": "250px"
      }
     },
     "b81d9a20cedc4ebba7bfd4ba03829197": {
      "model_module": "@jupyter-widgets/controls",
      "model_module_version": "1.5.0",
      "model_name": "HBoxModel",
      "state": {
       "children": [
        "IPY_MODEL_914456f6f2eb46ca8c14ff41531fcac0",
        "IPY_MODEL_f82b7bcd4c144ad29448a255bf9938bd"
       ],
       "layout": "IPY_MODEL_85e0100edbb645a48f5122d236ac6aad"
      }
     },
     "b844eccbdc734b88ad00ba8b42915562": {
      "model_module": "@jupyter-widgets/base",
      "model_module_version": "1.2.0",
      "model_name": "LayoutModel",
      "state": {}
     },
     "b8781d57f3eb4c9395331bb2631568f6": {
      "model_module": "@jupyter-widgets/controls",
      "model_module_version": "1.5.0",
      "model_name": "ButtonModel",
      "state": {
       "description": "Complete",
       "layout": "IPY_MODEL_ab62f92f6a0d432d9e2809cf5f23a530",
       "style": "IPY_MODEL_661f2d0afe2541d8bedc48537c0e2249"
      }
     },
     "b8d9d45936584ce9bc41c58ed7051ba5": {
      "model_module": "@jupyter-widgets/controls",
      "model_module_version": "1.5.0",
      "model_name": "ButtonStyleModel",
      "state": {}
     },
     "b921bb83c883411f831a84e0cbb6e8a2": {
      "model_module": "@jupyter-widgets/controls",
      "model_module_version": "1.5.0",
      "model_name": "ButtonStyleModel",
      "state": {}
     },
     "b949c065a060487c8ce0c29989098737": {
      "model_module": "@jupyter-widgets/base",
      "model_module_version": "1.2.0",
      "model_name": "LayoutModel",
      "state": {}
     },
     "b9605fdb92a74144bb3a3634eb33252a": {
      "model_module": "@jupyter-widgets/base",
      "model_module_version": "1.2.0",
      "model_name": "LayoutModel",
      "state": {
       "width": "250px"
      }
     },
     "b9af00e5cec64d65afb288b1dd360e2f": {
      "model_module": "@jupyter-widgets/base",
      "model_module_version": "1.2.0",
      "model_name": "LayoutModel",
      "state": {
       "width": "250px"
      }
     },
     "b9da1d9668484912abde80cab6b9e099": {
      "model_module": "@jupyter-widgets/controls",
      "model_module_version": "1.5.0",
      "model_name": "VBoxModel",
      "state": {
       "children": [
        "IPY_MODEL_8c0982609f384e7eb91c2d3aa8e81e25",
        "IPY_MODEL_7353363562ec4de29f3f26848c05e847",
        "IPY_MODEL_72dcbc8b9d444893958111366cfa1f36",
        "IPY_MODEL_55232b6df6fb4040b7bf7c627d4c28b6",
        "IPY_MODEL_63212d36071449b7815d49b4fcfbf8b7"
       ],
       "layout": "IPY_MODEL_a573a4db81bb4a01a5539674ee926b86"
      }
     },
     "b9da3815e6714ddc89929940006d1ebf": {
      "model_module": "@jupyter-widgets/controls",
      "model_module_version": "1.5.0",
      "model_name": "DescriptionStyleModel",
      "state": {
       "description_width": "initial"
      }
     },
     "b9da503983e6491691403f17579b3e7d": {
      "model_module": "@jupyter-widgets/base",
      "model_module_version": "1.2.0",
      "model_name": "LayoutModel",
      "state": {}
     },
     "ba37ebd3b06044e4b57e74e423c0a1a7": {
      "model_module": "@jupyter-widgets/controls",
      "model_module_version": "1.5.0",
      "model_name": "ButtonStyleModel",
      "state": {}
     },
     "ba5cd3ffa39b4fa1b7d866928aab996a": {
      "model_module": "@jupyter-widgets/controls",
      "model_module_version": "1.5.0",
      "model_name": "ButtonStyleModel",
      "state": {}
     },
     "ba64c69a80374c7c9f3018d15053850a": {
      "model_module": "@jupyter-widgets/base",
      "model_module_version": "1.2.0",
      "model_name": "LayoutModel",
      "state": {
       "width": "250px"
      }
     },
     "baa9cf7d5e864e5db9af4518c2d5cb3d": {
      "model_module": "@jupyter-widgets/base",
      "model_module_version": "1.2.0",
      "model_name": "LayoutModel",
      "state": {}
     },
     "bab28a6e10094ac48c4eab45c61da2fb": {
      "model_module": "@jupyter-widgets/controls",
      "model_module_version": "1.5.0",
      "model_name": "ButtonStyleModel",
      "state": {}
     },
     "baf081ac718c426092c6cff7fb0d7bc8": {
      "model_module": "@jupyter-widgets/controls",
      "model_module_version": "1.5.0",
      "model_name": "VBoxModel",
      "state": {
       "children": [
        "IPY_MODEL_d542cf92c75c4739afcf7af144de8894",
        "IPY_MODEL_ca507bb9f4834195860c59455c08a715",
        "IPY_MODEL_308ffbe1dbe14cd6a8af25120a1a97c4",
        "IPY_MODEL_805876b0a67f4746b72a6c1070171e6d"
       ],
       "layout": "IPY_MODEL_dd389834eb014949b82a2fb99047daa4"
      }
     },
     "bafef4d72a394583a856c0ec1c5db94a": {
      "model_module": "@jupyter-widgets/controls",
      "model_module_version": "1.5.0",
      "model_name": "DescriptionStyleModel",
      "state": {
       "description_width": ""
      }
     },
     "bb0f950bf5084b16aca62008be0edcc8": {
      "model_module": "@jupyter-widgets/base",
      "model_module_version": "1.2.0",
      "model_name": "LayoutModel",
      "state": {
       "width": "250px"
      }
     },
     "bb10f98d28c64cf6b4d16cfc4a24ab79": {
      "model_module": "@jupyter-widgets/base",
      "model_module_version": "1.2.0",
      "model_name": "LayoutModel",
      "state": {}
     },
     "bb30de85ae94495ba32de74ab4169c43": {
      "model_module": "@jupyter-widgets/controls",
      "model_module_version": "1.5.0",
      "model_name": "ButtonStyleModel",
      "state": {}
     },
     "bb4c64852ca7477e9cbfdb5cf43a85fe": {
      "model_module": "@jupyter-widgets/controls",
      "model_module_version": "1.5.0",
      "model_name": "HTMLModel",
      "state": {
       "layout": "IPY_MODEL_ae29c9ca116d4da8983bca879e1bcef3",
       "style": "IPY_MODEL_b107214f49ee4c07827f53a1fc9155a7",
       "value": "<h4 style=\"font-size:14px;\">Welche Operation folgt als nächstes?</h4>"
      }
     },
     "bb5dfd3c588c4be3b6d54623e7b284fd": {
      "model_module": "@jupyter-widgets/controls",
      "model_module_version": "1.5.0",
      "model_name": "ButtonStyleModel",
      "state": {}
     },
     "bb61264bbaf74de2a840b9a80bb88d70": {
      "model_module": "@jupyter-widgets/controls",
      "model_module_version": "1.5.0",
      "model_name": "HBoxModel",
      "state": {
       "children": [
        "IPY_MODEL_8a2a95185d974720b31a520b23b35ed8",
        "IPY_MODEL_d8100f0213464957bd57a57b1f5e0b0d"
       ],
       "layout": "IPY_MODEL_a4c0447a8da643208069a42fbb34ea31"
      }
     },
     "bb752a159a9e4aca9736657e88e1946b": {
      "model_module": "@jupyter-widgets/controls",
      "model_module_version": "1.5.0",
      "model_name": "HBoxModel",
      "state": {
       "children": [
        "IPY_MODEL_35a881aef81b4f2a8fbcd7549b034fe4"
       ],
       "layout": "IPY_MODEL_46419f5227eb490796847a7675b2b5c0"
      }
     },
     "bbe415eb6b3f49bbb232d877b8f16767": {
      "model_module": "@jupyter-widgets/base",
      "model_module_version": "1.2.0",
      "model_name": "LayoutModel",
      "state": {
       "width": "600px"
      }
     },
     "bc1671e1811e46d491396a56c173662a": {
      "model_module": "@jupyter-widgets/controls",
      "model_module_version": "1.5.0",
      "model_name": "HBoxModel",
      "state": {
       "children": [
        "IPY_MODEL_05c44c6119a54b438bdcf4f59d6cf440",
        "IPY_MODEL_9c09b408a5bc4015a1840d15d79d785f"
       ],
       "layout": "IPY_MODEL_ee35db28ff6a47b7bf1465141f12e381"
      }
     },
     "bc2f83395a7142feb421f5839cef0e37": {
      "model_module": "@jupyter-widgets/controls",
      "model_module_version": "1.5.0",
      "model_name": "CheckboxModel",
      "state": {
       "description": "Complete",
       "disabled": false,
       "layout": "IPY_MODEL_657e4fecbe7248b1b16ebe94fb045724",
       "style": "IPY_MODEL_27d0c310717746efa634fce1808eb983",
       "value": false
      }
     },
     "bc6b2db6b02e4d4e996726ea493bb965": {
      "model_module": "@jupyter-widgets/base",
      "model_module_version": "1.2.0",
      "model_name": "LayoutModel",
      "state": {
       "width": "250px"
      }
     },
     "bc6cd3974be84059acd82f7af829b7e0": {
      "model_module": "@jupyter-widgets/controls",
      "model_module_version": "1.5.0",
      "model_name": "ButtonStyleModel",
      "state": {}
     },
     "bcdc5de53a3d4fe094139afbf10f0349": {
      "model_module": "@jupyter-widgets/controls",
      "model_module_version": "1.5.0",
      "model_name": "ButtonStyleModel",
      "state": {}
     },
     "bcf7adc51cda45389a6c8280285b00ef": {
      "model_module": "@jupyter-widgets/controls",
      "model_module_version": "1.5.0",
      "model_name": "HTMLModel",
      "state": {
       "layout": "IPY_MODEL_d80f3cf76bc54e72b9c77bab601026a8",
       "style": "IPY_MODEL_ef92918243b94421b327007e4d386bbb",
       "value": "<h4 style=\"font-size:14px;\">Um welchen Parser handelt es sich?</h4>"
      }
     },
     "bcfcb77f83884e99b45b78de80d03833": {
      "model_module": "@jupyter-widgets/base",
      "model_module_version": "1.2.0",
      "model_name": "LayoutModel",
      "state": {}
     },
     "bd060235e64041bf9efa36ee053b738f": {
      "model_module": "@jupyter-widgets/base",
      "model_module_version": "1.2.0",
      "model_name": "LayoutModel",
      "state": {}
     },
     "bd68241a9f2147e2b8ebc4944087079a": {
      "model_module": "@jupyter-widgets/controls",
      "model_module_version": "1.5.0",
      "model_name": "HTMLModel",
      "state": {
       "layout": "IPY_MODEL_1d29e4a3a98f484186aa0322a2b69e8f",
       "style": "IPY_MODEL_9d192184c6e14a09a48bddbb1e251645",
       "value": "<h4 style=\"font-size:14px;\">Welche Operation folgt als nächstes?</h4>"
      }
     },
     "bda655780ac8449fb9dd79d29420efe7": {
      "model_module": "@jupyter-widgets/controls",
      "model_module_version": "1.5.0",
      "model_name": "DescriptionStyleModel",
      "state": {
       "description_width": ""
      }
     },
     "bdca5fc3da3d4c84ba05f4a4355f407a": {
      "model_module": "@jupyter-widgets/controls",
      "model_module_version": "1.5.0",
      "model_name": "DescriptionStyleModel",
      "state": {
       "description_width": ""
      }
     },
     "bdec6a75b4f94e4e887c4269d5c66fce": {
      "model_module": "@jupyter-widgets/controls",
      "model_module_version": "1.5.0",
      "model_name": "DescriptionStyleModel",
      "state": {
       "description_width": ""
      }
     },
     "be400e12a5e7428b87ee297b80fa2727": {
      "model_module": "@jupyter-widgets/controls",
      "model_module_version": "1.5.0",
      "model_name": "ButtonStyleModel",
      "state": {}
     },
     "be5b5ac8930e4691bf489f645266f7ca": {
      "model_module": "@jupyter-widgets/base",
      "model_module_version": "1.2.0",
      "model_name": "LayoutModel",
      "state": {}
     },
     "be5e37abe1f04a90a5ce07164e907566": {
      "model_module": "@jupyter-widgets/controls",
      "model_module_version": "1.5.0",
      "model_name": "ButtonModel",
      "state": {
       "description": "Reduce",
       "layout": "IPY_MODEL_a87492caaf0847ab9e3afe90ec98fb66",
       "style": "IPY_MODEL_7b3059af11c44bdf9099528c13ff985c"
      }
     },
     "be7aa4f332e6428392433d1dafe4eead": {
      "model_module": "@jupyter-widgets/controls",
      "model_module_version": "1.5.0",
      "model_name": "HBoxModel",
      "state": {
       "children": [
        "IPY_MODEL_93d0ea2ac4884bc5b1df2c6b1487f7da",
        "IPY_MODEL_8b0f219a53b04d1fa8c3518e200d6d91"
       ],
       "layout": "IPY_MODEL_1d27fa604a5e4856867af6aa98ec27f2"
      }
     },
     "be84c57fef9f4af89a8cf09e73122e51": {
      "model_module": "@jupyter-widgets/controls",
      "model_module_version": "1.5.0",
      "model_name": "HBoxModel",
      "state": {
       "children": [
        "IPY_MODEL_da3b8a5d31534311bb2051d867e208ff"
       ],
       "layout": "IPY_MODEL_0e135386d0df464696bd8ec420463b0e"
      }
     },
     "be84f9108c6b4de8baf75a3a0651faa6": {
      "model_module": "@jupyter-widgets/controls",
      "model_module_version": "1.5.0",
      "model_name": "ButtonModel",
      "state": {
       "description": "Korrekt?",
       "layout": "IPY_MODEL_015690e2dc98460fa5ee41c735569677",
       "style": "IPY_MODEL_80ef47525d6d46efa724029c93c9f3db"
      }
     },
     "bee0f8b3add34349827194fa43a9d5de": {
      "model_module": "@jupyter-widgets/base",
      "model_module_version": "1.2.0",
      "model_name": "LayoutModel",
      "state": {
       "width": "250px"
      }
     },
     "bf1646ee9a9b4f3fa00f92c02837257a": {
      "model_module": "@jupyter-widgets/controls",
      "model_module_version": "1.5.0",
      "model_name": "ButtonStyleModel",
      "state": {}
     },
     "bf1eb27ce5344520bf764e99bacb8f8c": {
      "model_module": "@jupyter-widgets/controls",
      "model_module_version": "1.5.0",
      "model_name": "HTMLModel",
      "state": {
       "layout": "IPY_MODEL_2d80349c609f426b8520ecf62b793c41",
       "style": "IPY_MODEL_40a61126e7fd4e4ba9acf09f6aea22b1",
       "value": "<h4 style=\"font-size:14px;\">Welche Operation folgt als nächstes?</h4>"
      }
     },
     "bf2617ec3bb84b3086a84d003bdac0e0": {
      "model_module": "@jupyter-widgets/controls",
      "model_module_version": "1.5.0",
      "model_name": "DescriptionStyleModel",
      "state": {
       "description_width": ""
      }
     },
     "bf2d49c94872444aa36c518da5717992": {
      "model_module": "@jupyter-widgets/base",
      "model_module_version": "1.2.0",
      "model_name": "LayoutModel",
      "state": {}
     },
     "bf393483247842d58f10826a6d335b8d": {
      "model_module": "@jupyter-widgets/controls",
      "model_module_version": "1.5.0",
      "model_name": "CheckboxModel",
      "state": {
       "description": "Shift",
       "disabled": false,
       "layout": "IPY_MODEL_a492b856991045068c78fa97fa2901e7",
       "style": "IPY_MODEL_9e023ea7be1e451c9ca45f17c47ddbc1",
       "value": false
      }
     },
     "bf428d2337784ef7941d74a9128c3200": {
      "model_module": "@jupyter-widgets/controls",
      "model_module_version": "1.5.0",
      "model_name": "ButtonModel",
      "state": {
       "description": "Scan",
       "layout": "IPY_MODEL_3f04e7cb754b45e9bfb8918163dfce47",
       "style": "IPY_MODEL_12ab81ae69ea480aa1d99f4984d9385d"
      }
     },
     "bf6d936a52824d58a5c2fa413a5a6293": {
      "model_module": "@jupyter-widgets/controls",
      "model_module_version": "1.5.0",
      "model_name": "ButtonStyleModel",
      "state": {}
     },
     "bf80afd1c9d847c793fc33171d903006": {
      "model_module": "@jupyter-widgets/controls",
      "model_module_version": "1.5.0",
      "model_name": "DescriptionStyleModel",
      "state": {
       "description_width": ""
      }
     },
     "bfa39c509d1b4a35afbf6f876c25f856": {
      "model_module": "@jupyter-widgets/controls",
      "model_module_version": "1.5.0",
      "model_name": "HBoxModel",
      "state": {
       "children": [
        "IPY_MODEL_f8691f870c474a788479362039740a65",
        "IPY_MODEL_b46fd3fe3e49493a8a104d95ba09bcc6"
       ],
       "layout": "IPY_MODEL_5a2e18cb8bc24f08a7487f1f82325b24"
      }
     },
     "bfc07d3f949c4b63a27e2e555427ec17": {
      "model_module": "@jupyter-widgets/base",
      "model_module_version": "1.2.0",
      "model_name": "LayoutModel",
      "state": {
       "justify_content": "center"
      }
     },
     "bff3feef668e4c7b8595c0132f6b4ab5": {
      "model_module": "@jupyter-widgets/controls",
      "model_module_version": "1.5.0",
      "model_name": "HTMLModel",
      "state": {
       "layout": "IPY_MODEL_5b7aceba8de34534b69af91a4b347097",
       "style": "IPY_MODEL_82615f73331342ff97bf15662190c118",
       "value": "<i>Wählen Sie die <ins>eine</ins> korrekte Antwort aus: </i>"
      }
     },
     "c01b3d6b9827413eb70de799f4e51261": {
      "model_module": "@jupyter-widgets/controls",
      "model_module_version": "1.5.0",
      "model_name": "ButtonStyleModel",
      "state": {}
     },
     "c03f719f9709414ba3401308cfa53563": {
      "model_module": "@jupyter-widgets/controls",
      "model_module_version": "1.5.0",
      "model_name": "ButtonModel",
      "state": {
       "description": "Predict",
       "layout": "IPY_MODEL_415e5f33f78c4a7a88254aa8ed5e7802",
       "style": "IPY_MODEL_b1ff97fe9a8546c896df07cfd1b302ee"
      }
     },
     "c0449cec717f452c99cd2e1710718ec5": {
      "model_module": "@jupyter-widgets/base",
      "model_module_version": "1.2.0",
      "model_name": "LayoutModel",
      "state": {}
     },
     "c04736ea7f1b4eb9bd285c75bc18c1d5": {
      "model_module": "@jupyter-widgets/base",
      "model_module_version": "1.2.0",
      "model_name": "LayoutModel",
      "state": {}
     },
     "c0aabfd01f8c4f84a5ea476fa93f732c": {
      "model_module": "@jupyter-widgets/controls",
      "model_module_version": "1.5.0",
      "model_name": "ButtonStyleModel",
      "state": {}
     },
     "c0d55dbce9b74b0bb6e393511e1cbc1c": {
      "model_module": "@jupyter-widgets/controls",
      "model_module_version": "1.5.0",
      "model_name": "ButtonStyleModel",
      "state": {}
     },
     "c10f2f8396fd4b6daf36a328e831dcd3": {
      "model_module": "@jupyter-widgets/base",
      "model_module_version": "1.2.0",
      "model_name": "LayoutModel",
      "state": {
       "width": "250px"
      }
     },
     "c14cfe546a1241619592df2204b122f4": {
      "model_module": "@jupyter-widgets/base",
      "model_module_version": "1.2.0",
      "model_name": "LayoutModel",
      "state": {
       "width": "600px"
      }
     },
     "c156d5c45c7740918a8ab8d86ba653b1": {
      "model_module": "@jupyter-widgets/controls",
      "model_module_version": "1.5.0",
      "model_name": "VBoxModel",
      "state": {
       "children": [
        "IPY_MODEL_4445e652fe0146d08a752bc7e4888187",
        "IPY_MODEL_a77361ad6e494c1aa70923b60b0237b7",
        "IPY_MODEL_9732b58271a242ffa6bf6b4ca1f986e4",
        "IPY_MODEL_76106f1404ea43168f040585e7cc9a33",
        "IPY_MODEL_2e1dadced795489fa9aedbf3043287cd"
       ],
       "layout": "IPY_MODEL_c3e8475eb60149338a167f99456c5be9"
      }
     },
     "c157dbf7c9cf45cf8f16f5780d29cb6a": {
      "model_module": "@jupyter-widgets/base",
      "model_module_version": "1.2.0",
      "model_name": "LayoutModel",
      "state": {}
     },
     "c16d0d04c2174511abe169c5f2d85b37": {
      "model_module": "@jupyter-widgets/controls",
      "model_module_version": "1.5.0",
      "model_name": "DescriptionStyleModel",
      "state": {
       "description_width": ""
      }
     },
     "c1a4ff6d38c24ee69944ca009bb250e5": {
      "model_module": "@jupyter-widgets/base",
      "model_module_version": "1.2.0",
      "model_name": "LayoutModel",
      "state": {
       "width": "250px"
      }
     },
     "c225298103844f67b0ccfe729d972a76": {
      "model_module": "@jupyter-widgets/controls",
      "model_module_version": "1.5.0",
      "model_name": "VBoxModel",
      "state": {
       "children": [
        "IPY_MODEL_bd68241a9f2147e2b8ebc4944087079a",
        "IPY_MODEL_ca5ae18a68d2433a9720e58425436a06",
        "IPY_MODEL_7f7ac0ad4b0e4f859d0363919b702418",
        "IPY_MODEL_5dd03130dded4b87be18bd398fdcef13",
        "IPY_MODEL_1d2932deb5bf4ba3891c172d105e0f92"
       ],
       "layout": "IPY_MODEL_ad1c70024ae04d56926952f5d4fc317a"
      }
     },
     "c24bc73e26db414ebe77921e62854ec9": {
      "model_module": "@jupyter-widgets/controls",
      "model_module_version": "1.5.0",
      "model_name": "ButtonModel",
      "state": {
       "description": "Scan",
       "layout": "IPY_MODEL_c6b3e325dc194051b215fe69e42bee52",
       "style": "IPY_MODEL_64805f1c1c3c412e81267343fe1e3d95"
      }
     },
     "c26d317acabc48969600e0564a9d77a5": {
      "model_module": "@jupyter-widgets/base",
      "model_module_version": "1.2.0",
      "model_name": "LayoutModel",
      "state": {
       "width": "250px"
      }
     },
     "c29d6e6b4cb44ec79827e08113774f21": {
      "model_module": "@jupyter-widgets/controls",
      "model_module_version": "1.5.0",
      "model_name": "ButtonStyleModel",
      "state": {}
     },
     "c2a28a440c644c618da678a429968f69": {
      "model_module": "@jupyter-widgets/base",
      "model_module_version": "1.2.0",
      "model_name": "LayoutModel",
      "state": {
       "width": "250px"
      }
     },
     "c2b1cd56d40843a585571e57fd67b479": {
      "model_module": "@jupyter-widgets/base",
      "model_module_version": "1.2.0",
      "model_name": "LayoutModel",
      "state": {
       "width": "250px"
      }
     },
     "c2dd4edf5fd241f2bcddf766bff61246": {
      "model_module": "@jupyter-widgets/controls",
      "model_module_version": "1.5.0",
      "model_name": "ButtonStyleModel",
      "state": {}
     },
     "c2ff1a6a6c2c48029130eb0a01fde6c5": {
      "model_module": "@jupyter-widgets/base",
      "model_module_version": "1.2.0",
      "model_name": "LayoutModel",
      "state": {
       "width": "250px"
      }
     },
     "c30e3c63c951481fb5a0206c046b0938": {
      "model_module": "@jupyter-widgets/controls",
      "model_module_version": "1.5.0",
      "model_name": "HTMLModel",
      "state": {
       "layout": "IPY_MODEL_1a895a5711af469985816724aae5f468",
       "style": "IPY_MODEL_02867e2237714d1e91bf19b000b7f38e",
       "value": "<i>Markieren Sie <ins>alle</ins> passenden Antworten: </i>"
      }
     },
     "c32e63ac6c824c7188258f2b4fcbe161": {
      "model_module": "@jupyter-widgets/controls",
      "model_module_version": "1.5.0",
      "model_name": "ButtonModel",
      "state": {
       "description": "Reduce",
       "layout": "IPY_MODEL_b9605fdb92a74144bb3a3634eb33252a",
       "style": "IPY_MODEL_2104f81b072048e1ab725637641f972a"
      }
     },
     "c350711ee5c44c80b8ae115fb12d37d3": {
      "model_module": "@jupyter-widgets/base",
      "model_module_version": "1.2.0",
      "model_name": "LayoutModel",
      "state": {
       "width": "250px"
      }
     },
     "c36a05870df640b6a220ab2224fa6920": {
      "model_module": "@jupyter-widgets/controls",
      "model_module_version": "1.5.0",
      "model_name": "ButtonStyleModel",
      "state": {}
     },
     "c3867cb50e5d41249e625f3cebc42526": {
      "model_module": "@jupyter-widgets/base",
      "model_module_version": "1.2.0",
      "model_name": "LayoutModel",
      "state": {
       "width": "250px"
      }
     },
     "c3e0e7b6ff264c41a8b6bbc36c132ed0": {
      "model_module": "@jupyter-widgets/base",
      "model_module_version": "1.2.0",
      "model_name": "LayoutModel",
      "state": {
       "width": "250px"
      }
     },
     "c3e8475eb60149338a167f99456c5be9": {
      "model_module": "@jupyter-widgets/base",
      "model_module_version": "1.2.0",
      "model_name": "LayoutModel",
      "state": {}
     },
     "c40cad5caca0483cbb0b7fc092d67f7c": {
      "model_module": "@jupyter-widgets/base",
      "model_module_version": "1.2.0",
      "model_name": "LayoutModel",
      "state": {
       "width": "250px"
      }
     },
     "c4146829867c44d7999d84e530ff5026": {
      "model_module": "@jupyter-widgets/controls",
      "model_module_version": "1.5.0",
      "model_name": "ButtonStyleModel",
      "state": {}
     },
     "c4275a4b17ed4775bc5879583f18bc3e": {
      "model_module": "@jupyter-widgets/controls",
      "model_module_version": "1.5.0",
      "model_name": "ButtonStyleModel",
      "state": {}
     },
     "c45802a923c941118190083f57af103c": {
      "model_module": "@jupyter-widgets/base",
      "model_module_version": "1.2.0",
      "model_name": "LayoutModel",
      "state": {}
     },
     "c488c61404194deba1514919a7e70555": {
      "model_module": "@jupyter-widgets/controls",
      "model_module_version": "1.5.0",
      "model_name": "CheckboxModel",
      "state": {
       "description": "Scan",
       "disabled": false,
       "layout": "IPY_MODEL_22ec238fb2f64795a03d977c5db8c88b",
       "style": "IPY_MODEL_f0b9252a8ac94f28949dd5797fec1082",
       "value": false
      }
     },
     "c4cb0353c269475fb85495eefa1533f7": {
      "model_module": "@jupyter-widgets/controls",
      "model_module_version": "1.5.0",
      "model_name": "HBoxModel",
      "state": {
       "children": [
        "IPY_MODEL_cadd5283aa6540afaf15231052bdd21b",
        "IPY_MODEL_47be3fd08a064bac99453c4275bd45ce"
       ],
       "layout": "IPY_MODEL_847cc89ef6d049c0854f3b1ddf18ae03"
      }
     },
     "c4f011068367490fb7632cbadf02ca72": {
      "model_module": "@jupyter-widgets/controls",
      "model_module_version": "1.5.0",
      "model_name": "DescriptionStyleModel",
      "state": {
       "description_width": "initial"
      }
     },
     "c5118f9bdd0243b8b41ee896be5714c1": {
      "model_module": "@jupyter-widgets/controls",
      "model_module_version": "1.5.0",
      "model_name": "ButtonStyleModel",
      "state": {}
     },
     "c52b7a89fbab4b87859772cc0e254ede": {
      "model_module": "@jupyter-widgets/base",
      "model_module_version": "1.2.0",
      "model_name": "LayoutModel",
      "state": {}
     },
     "c53f7e927ccd43d1aa510ba30e73f80b": {
      "model_module": "@jupyter-widgets/base",
      "model_module_version": "1.2.0",
      "model_name": "LayoutModel",
      "state": {
       "justify_content": "center"
      }
     },
     "c5417cb89b134c36a345b22efde94aea": {
      "model_module": "@jupyter-widgets/base",
      "model_module_version": "1.2.0",
      "model_name": "LayoutModel",
      "state": {
       "width": "250px"
      }
     },
     "c561c23c337c4955b3fc1b0addef3844": {
      "model_module": "@jupyter-widgets/controls",
      "model_module_version": "1.5.0",
      "model_name": "VBoxModel",
      "state": {
       "children": [
        "IPY_MODEL_3695c0bd1e964a9ab0e1b7c88a716e53",
        "IPY_MODEL_1abd2512b0d54f1c9b27bdad301b72bb",
        "IPY_MODEL_7294f90c06e647168e6ad07f899a59f9",
        "IPY_MODEL_fd100c3c6e3f4a8f8efea2f3c2f36468"
       ],
       "layout": "IPY_MODEL_b329912aaf4e4a99b3fc8a3da1fcf5a0"
      }
     },
     "c56c67bc5a8f46a0bc2ad5cc180d95d4": {
      "model_module": "@jupyter-widgets/base",
      "model_module_version": "1.2.0",
      "model_name": "LayoutModel",
      "state": {
       "justify_content": "center"
      }
     },
     "c577def9ada2437581f73ce2b4765dd7": {
      "model_module": "@jupyter-widgets/controls",
      "model_module_version": "1.5.0",
      "model_name": "ButtonStyleModel",
      "state": {}
     },
     "c5a3e98e147f458ba482667b89f69ea3": {
      "model_module": "@jupyter-widgets/base",
      "model_module_version": "1.2.0",
      "model_name": "LayoutModel",
      "state": {}
     },
     "c5e2d3e96d604014af6d9f337f767f22": {
      "model_module": "@jupyter-widgets/controls",
      "model_module_version": "1.5.0",
      "model_name": "DescriptionStyleModel",
      "state": {
       "description_width": ""
      }
     },
     "c5f0a3087fc1434eacf65e8b9ebab9a1": {
      "model_module": "@jupyter-widgets/controls",
      "model_module_version": "1.5.0",
      "model_name": "ButtonStyleModel",
      "state": {}
     },
     "c64b4d94ad5b46f481f143547682bd14": {
      "model_module": "@jupyter-widgets/controls",
      "model_module_version": "1.5.0",
      "model_name": "DescriptionStyleModel",
      "state": {
       "description_width": ""
      }
     },
     "c66fce3aad4241b69ffc8df7447bf3df": {
      "model_module": "@jupyter-widgets/controls",
      "model_module_version": "1.5.0",
      "model_name": "HTMLModel",
      "state": {
       "layout": "IPY_MODEL_a948701858b84109af269f7247373fc7",
       "style": "IPY_MODEL_f3da43b35d66495bba7ede4547555218",
       "value": "<h4 style=\"font-size:14px;\">Welche Operationen hat der Earley Parser?</h4>"
      }
     },
     "c6b3e325dc194051b215fe69e42bee52": {
      "model_module": "@jupyter-widgets/base",
      "model_module_version": "1.2.0",
      "model_name": "LayoutModel",
      "state": {
       "width": "250px"
      }
     },
     "c6d0d17fd3fe47caa226eb763296e524": {
      "model_module": "@jupyter-widgets/controls",
      "model_module_version": "1.5.0",
      "model_name": "ButtonStyleModel",
      "state": {}
     },
     "c6ddd4f9de0d436c936d01e00c04b468": {
      "model_module": "@jupyter-widgets/controls",
      "model_module_version": "1.5.0",
      "model_name": "HBoxModel",
      "state": {
       "children": [
        "IPY_MODEL_ce09e64828be46f39407cddb93c1a931",
        "IPY_MODEL_083079dc019d4a668e2c0a87a8dc4396"
       ],
       "layout": "IPY_MODEL_ad5650b0ffaf460a8eb10f322a91b568"
      }
     },
     "c6e4735b3c1b48058d789da190593413": {
      "model_module": "@jupyter-widgets/controls",
      "model_module_version": "1.5.0",
      "model_name": "CheckboxModel",
      "state": {
       "description": "Predict",
       "disabled": false,
       "layout": "IPY_MODEL_90c4c179fffd48bfa1efcca25a23b9c4",
       "style": "IPY_MODEL_9d40cf2bb8d44110b11ebec518c37fe3",
       "value": false
      }
     },
     "c712401ef2114537aacf77f04b2d7f62": {
      "model_module": "@jupyter-widgets/base",
      "model_module_version": "1.2.0",
      "model_name": "LayoutModel",
      "state": {
       "width": "250px"
      }
     },
     "c738b2027883428e8b2831c897d5b169": {
      "model_module": "@jupyter-widgets/controls",
      "model_module_version": "1.5.0",
      "model_name": "CheckboxModel",
      "state": {
       "description": "Predict",
       "disabled": false,
       "layout": "IPY_MODEL_1b575f1acf5348e8ad23c4fc510edb6d",
       "style": "IPY_MODEL_0bfbdfd3dd4547e0b332771a95dd0065",
       "value": false
      }
     },
     "c7541f466dde4cd9a08bacf99d06a0cf": {
      "model_module": "@jupyter-widgets/controls",
      "model_module_version": "1.5.0",
      "model_name": "VBoxModel",
      "state": {
       "children": [
        "IPY_MODEL_5b0f1e9e88e141f78246f9045b43f6a1",
        "IPY_MODEL_9f60d9c25a8f48ec803d25dd8a500075",
        "IPY_MODEL_cfa131c02c7b48da9dd4ebcb28d3d450",
        "IPY_MODEL_0a7b8003476c4cbf9010dcf5e7cf09f3",
        "IPY_MODEL_4490b029e8954dd0988ef8149dfc7be5"
       ],
       "layout": "IPY_MODEL_f2303c7e9f1a40a89258f9e3f331de6b"
      }
     },
     "c79ea269db85419394256e6d7478658b": {
      "model_module": "@jupyter-widgets/controls",
      "model_module_version": "1.5.0",
      "model_name": "ButtonModel",
      "state": {
       "description": "Recusive Descent",
       "layout": "IPY_MODEL_c1a4ff6d38c24ee69944ca009bb250e5",
       "style": "IPY_MODEL_d2e3392a873a48f1a65b04d7a90be6aa"
      }
     },
     "c7a4c10a6c1e4621ba892d5dee333003": {
      "model_module": "@jupyter-widgets/controls",
      "model_module_version": "1.5.0",
      "model_name": "ButtonModel",
      "state": {
       "description": "Predict",
       "layout": "IPY_MODEL_6dcc0699bda64cc2b31d1a564c103ba9",
       "style": "IPY_MODEL_d09f15775a824b76ab42668a2777b661"
      }
     },
     "c7ada5cefe6b479baff1391b9e369288": {
      "model_module": "@jupyter-widgets/controls",
      "model_module_version": "1.5.0",
      "model_name": "VBoxModel",
      "state": {
       "children": [
        "IPY_MODEL_a9dc576f80ec483094acd49460e77ab6",
        "IPY_MODEL_3d074cbd85f5475f8ec3a7471bd9ffcf",
        "IPY_MODEL_2a4dc81c6db1441d9c00321bc55af4e9",
        "IPY_MODEL_935f60ab27254480a7fc4a6cf35d3fe5"
       ],
       "layout": "IPY_MODEL_af7adb1e17624fb5bca1110fcd15dddb"
      }
     },
     "c7bcc9136ca94b81a6ae1311b7a15678": {
      "model_module": "@jupyter-widgets/controls",
      "model_module_version": "1.5.0",
      "model_name": "ButtonStyleModel",
      "state": {}
     },
     "c7bf515f20bc421ba336f31588489b57": {
      "model_module": "@jupyter-widgets/base",
      "model_module_version": "1.2.0",
      "model_name": "LayoutModel",
      "state": {
       "width": "250px"
      }
     },
     "c7da505ac21f45a48ec021512b13591f": {
      "model_module": "@jupyter-widgets/base",
      "model_module_version": "1.2.0",
      "model_name": "LayoutModel",
      "state": {
       "width": "250px"
      }
     },
     "c801555dca7c42bca4cb2553b86f1423": {
      "model_module": "@jupyter-widgets/base",
      "model_module_version": "1.2.0",
      "model_name": "LayoutModel",
      "state": {}
     },
     "c82a81cd16ee49b5933c06c572ac7dfb": {
      "model_module": "@jupyter-widgets/controls",
      "model_module_version": "1.5.0",
      "model_name": "ButtonModel",
      "state": {
       "description": "Scan",
       "layout": "IPY_MODEL_185999d14a8b429ba851865d059c6b13",
       "style": "IPY_MODEL_34b07b94e40a4e3ca8fd18c141de8155"
      }
     },
     "c8783df720a148c49cacf593c0e6ee2d": {
      "model_module": "@jupyter-widgets/controls",
      "model_module_version": "1.5.0",
      "model_name": "ButtonStyleModel",
      "state": {}
     },
     "c94cc345cba348e4a9071f3ed9e51e0d": {
      "model_module": "@jupyter-widgets/controls",
      "model_module_version": "1.5.0",
      "model_name": "HTMLModel",
      "state": {
       "layout": "IPY_MODEL_da94a8e4288b47fea807d440b7e2b0d1",
       "style": "IPY_MODEL_f5bb31fdc92a4182908745dc4d25a882",
       "value": "<h4 style=\"font-size:14px;\">Um welchen Parser handelt es sich?</h4>"
      }
     },
     "c95ca3a761394f23b5e730176ccefd3e": {
      "model_module": "@jupyter-widgets/controls",
      "model_module_version": "1.5.0",
      "model_name": "HBoxModel",
      "state": {
       "children": [
        "IPY_MODEL_e41b751e91414a6c86416a2dc956e98c",
        "IPY_MODEL_622d4ebb502344868f5ab3cc585c342f"
       ],
       "layout": "IPY_MODEL_4a8bbbf4ae384914ad090938f74447a2"
      }
     },
     "c99ffe4469c742a190ac8ebdd9cd23a6": {
      "model_module": "@jupyter-widgets/controls",
      "model_module_version": "1.5.0",
      "model_name": "ButtonStyleModel",
      "state": {}
     },
     "c9cbbf3c2f0549a6b3fbadbd1780c0df": {
      "model_module": "@jupyter-widgets/controls",
      "model_module_version": "1.5.0",
      "model_name": "ButtonModel",
      "state": {
       "description": "Shift Reduce",
       "layout": "IPY_MODEL_92cdd61cd8664caf85724f23c65a03d4",
       "style": "IPY_MODEL_5da63ca6a3c74b59b92e3f27296790af"
      }
     },
     "ca1aa84d53ce41b285f43b27b07c2643": {
      "model_module": "@jupyter-widgets/controls",
      "model_module_version": "1.5.0",
      "model_name": "HBoxModel",
      "state": {
       "children": [
        "IPY_MODEL_27ebc40cb3a74778b355dc01ea319239",
        "IPY_MODEL_ad894b59b4e54a09b7c8646f9197408d"
       ],
       "layout": "IPY_MODEL_4ba187eb15144b65a0d0246cf98fc3e3"
      }
     },
     "ca2e2331f232497a8fec077f97d5ce44": {
      "model_module": "@jupyter-widgets/controls",
      "model_module_version": "1.5.0",
      "model_name": "DescriptionStyleModel",
      "state": {
       "description_width": ""
      }
     },
     "ca507bb9f4834195860c59455c08a715": {
      "model_module": "@jupyter-widgets/controls",
      "model_module_version": "1.5.0",
      "model_name": "HTMLModel",
      "state": {
       "layout": "IPY_MODEL_3076d9fe9c32460eb62758d91a4489b6",
       "style": "IPY_MODEL_d57a8a35897246508595be0a3d321b4d",
       "value": "<i>Markieren Sie <ins>alle</ins> passenden Antworten: </i>"
      }
     },
     "ca5ae18a68d2433a9720e58425436a06": {
      "model_module": "@jupyter-widgets/controls",
      "model_module_version": "1.5.0",
      "model_name": "HTMLModel",
      "state": {
       "layout": "IPY_MODEL_0e8ebe6a74cb4b4f923b76e25c7066ff",
       "style": "IPY_MODEL_56bc88c2733d4a8088325ef067774330",
       "value": "<i>Wählen Sie die <ins>eine</ins> korrekte Antwort aus: </i>"
      }
     },
     "caa716d53e4f44f1be7aa955a03d5a41": {
      "model_module": "@jupyter-widgets/controls",
      "model_module_version": "1.5.0",
      "model_name": "ButtonModel",
      "state": {
       "description": "Complete",
       "layout": "IPY_MODEL_43e0716a13c14bf4a154e35b705f9514",
       "style": "IPY_MODEL_c7bcc9136ca94b81a6ae1311b7a15678"
      }
     },
     "cad4ac1341364cc69c90d8f0f7b6594c": {
      "model_module": "@jupyter-widgets/controls",
      "model_module_version": "1.5.0",
      "model_name": "HTMLModel",
      "state": {
       "layout": "IPY_MODEL_447949eae8114bc18a86b2754e580906",
       "style": "IPY_MODEL_3ce83d05eff14ee3a318f38e6e5f5e7b",
       "value": "<i>Wählen Sie die <ins>eine</ins> korrekte Antwort aus: </i>"
      }
     },
     "cadd5283aa6540afaf15231052bdd21b": {
      "model_module": "@jupyter-widgets/controls",
      "model_module_version": "1.5.0",
      "model_name": "ButtonModel",
      "state": {
       "description": "Scan",
       "layout": "IPY_MODEL_6ae17e486cef47b99f4aa7966bb20df2",
       "style": "IPY_MODEL_aaa20c5121e84b909cff52ec796c216b"
      }
     },
     "caea34a58f6d4adc80e0a28e941a327b": {
      "model_module": "@jupyter-widgets/base",
      "model_module_version": "1.2.0",
      "model_name": "LayoutModel",
      "state": {}
     },
     "cb13a95c48494e4db7bef227594f5058": {
      "model_module": "@jupyter-widgets/base",
      "model_module_version": "1.2.0",
      "model_name": "LayoutModel",
      "state": {
       "width": "250px"
      }
     },
     "cb37cfb93d854f4392c129098aa88fa4": {
      "model_module": "@jupyter-widgets/controls",
      "model_module_version": "1.5.0",
      "model_name": "ButtonModel",
      "state": {
       "description": "Predict",
       "layout": "IPY_MODEL_a38634c60c9a4b6aa42c9b00e807f400",
       "style": "IPY_MODEL_4ea03b40591240c3b38abe74b9066dce"
      }
     },
     "cc0980633b244310b326a3bf1654662f": {
      "model_module": "@jupyter-widgets/controls",
      "model_module_version": "1.5.0",
      "model_name": "HTMLModel",
      "state": {
       "layout": "IPY_MODEL_44455811656f4bbcb026d2ae06293761",
       "style": "IPY_MODEL_cc456403a6b047b2a5385d006f750709",
       "value": "<h4 style=\"font-size:14px;\">Um welchen Parser handelt es sich?</h4>"
      }
     },
     "cc0b84a8d87e4cad994fb334517749dd": {
      "model_module": "@jupyter-widgets/controls",
      "model_module_version": "1.5.0",
      "model_name": "ButtonStyleModel",
      "state": {}
     },
     "cc166f0e89b040da9b1bc3266375e302": {
      "model_module": "@jupyter-widgets/base",
      "model_module_version": "1.2.0",
      "model_name": "LayoutModel",
      "state": {
       "width": "250px"
      }
     },
     "cc18c4484aef4240a5f3df6f4c2e47bf": {
      "model_module": "@jupyter-widgets/base",
      "model_module_version": "1.2.0",
      "model_name": "LayoutModel",
      "state": {
       "width": "250px"
      }
     },
     "cc35acb3e78341ff93bca6d3a190f3a6": {
      "model_module": "@jupyter-widgets/controls",
      "model_module_version": "1.5.0",
      "model_name": "ButtonModel",
      "state": {
       "description": "Complete",
       "layout": "IPY_MODEL_55154884bdc1403aa33846ef521103e2",
       "style": "IPY_MODEL_c577def9ada2437581f73ce2b4765dd7"
      }
     },
     "cc456403a6b047b2a5385d006f750709": {
      "model_module": "@jupyter-widgets/controls",
      "model_module_version": "1.5.0",
      "model_name": "DescriptionStyleModel",
      "state": {
       "description_width": ""
      }
     },
     "cc5f8c7ca98a4f889c65e68ef2cf29f8": {
      "model_module": "@jupyter-widgets/base",
      "model_module_version": "1.2.0",
      "model_name": "LayoutModel",
      "state": {
       "width": "250px"
      }
     },
     "cc61b5e5ba3e4dd48cdcbee796106dc3": {
      "model_module": "@jupyter-widgets/controls",
      "model_module_version": "1.5.0",
      "model_name": "HBoxModel",
      "state": {
       "children": [
        "IPY_MODEL_b1a94022587c47719b316a17a4d31f21",
        "IPY_MODEL_02f7e27bf6ec4b4f8edd79846ee04ac4"
       ],
       "layout": "IPY_MODEL_b9da503983e6491691403f17579b3e7d"
      }
     },
     "cc67dae1be024bacbb2f1bdd312fa4b9": {
      "model_module": "@jupyter-widgets/controls",
      "model_module_version": "1.5.0",
      "model_name": "HBoxModel",
      "state": {
       "children": [
        "IPY_MODEL_3f2548e414e240f79406bc908b9858de"
       ],
       "layout": "IPY_MODEL_5db274ca817a4be98aaf929261130006"
      }
     },
     "cc82a7f37b64498593b8f5ce10af9611": {
      "model_module": "@jupyter-widgets/controls",
      "model_module_version": "1.5.0",
      "model_name": "HBoxModel",
      "state": {
       "children": [
        "IPY_MODEL_fa9b16d524d24eaba833265120ce21b0"
       ],
       "layout": "IPY_MODEL_54cae605f213402897fae9a90f867540"
      }
     },
     "cc897902c461417b9b26f0ae9df1fc77": {
      "model_module": "@jupyter-widgets/controls",
      "model_module_version": "1.5.0",
      "model_name": "ButtonModel",
      "state": {
       "description": "Complete",
       "layout": "IPY_MODEL_bb0f950bf5084b16aca62008be0edcc8",
       "style": "IPY_MODEL_121868b4411b47d29a613c6b710b6798"
      }
     },
     "cc906841e5cd4b86842321116a3f942d": {
      "model_module": "@jupyter-widgets/base",
      "model_module_version": "1.2.0",
      "model_name": "LayoutModel",
      "state": {}
     },
     "ccfa8919227f4c6fb4d12a1e723262a5": {
      "model_module": "@jupyter-widgets/base",
      "model_module_version": "1.2.0",
      "model_name": "LayoutModel",
      "state": {}
     },
     "cd2780a3eed14337bd5b0eaa69973daa": {
      "model_module": "@jupyter-widgets/controls",
      "model_module_version": "1.5.0",
      "model_name": "ButtonModel",
      "state": {
       "description": "Scan",
       "layout": "IPY_MODEL_723f86f2196642d8af91cdb15109ef86",
       "style": "IPY_MODEL_b25b89dbc9e24342b1a7345ddc6fe55b"
      }
     },
     "cd33822c22d14fdaa714e6e87e677d29": {
      "model_module": "@jupyter-widgets/base",
      "model_module_version": "1.2.0",
      "model_name": "LayoutModel",
      "state": {}
     },
     "cd6391d9c8a143ae99a9faeeb532a201": {
      "model_module": "@jupyter-widgets/controls",
      "model_module_version": "1.5.0",
      "model_name": "ButtonModel",
      "state": {
       "description": "Shift Reduce",
       "layout": "IPY_MODEL_767f1f1bc29a4334a787c1276e7bd498",
       "style": "IPY_MODEL_736c3d78a74a49e3af5c68cf0d798423"
      }
     },
     "cd7b661a070441ac9b4c15c61f3e43dc": {
      "model_module": "@jupyter-widgets/controls",
      "model_module_version": "1.5.0",
      "model_name": "HTMLModel",
      "state": {
       "layout": "IPY_MODEL_f6bba0265c6b40f6886c0d907f607e91",
       "style": "IPY_MODEL_54e842b62c99419ab0ca852166d737e2",
       "value": "<h4 style=\"font-size:14px;\">Um welchen Parser handelt es sich?</h4>"
      }
     },
     "cd81f57f74634235b4344a21f44b2fbe": {
      "model_module": "@jupyter-widgets/controls",
      "model_module_version": "1.5.0",
      "model_name": "ButtonStyleModel",
      "state": {}
     },
     "cda40709b35140c0ae1eb23939f9f858": {
      "model_module": "@jupyter-widgets/controls",
      "model_module_version": "1.5.0",
      "model_name": "ButtonStyleModel",
      "state": {}
     },
     "cdbb5663014044f9a746c0ad0e289f4c": {
      "model_module": "@jupyter-widgets/base",
      "model_module_version": "1.2.0",
      "model_name": "LayoutModel",
      "state": {}
     },
     "cddc77c15ac446d3bb03386dc0a64e97": {
      "model_module": "@jupyter-widgets/controls",
      "model_module_version": "1.5.0",
      "model_name": "DescriptionStyleModel",
      "state": {
       "description_width": ""
      }
     },
     "cdec5f0d8f2c4b57b541b4ca790146b8": {
      "model_module": "@jupyter-widgets/base",
      "model_module_version": "1.2.0",
      "model_name": "LayoutModel",
      "state": {
       "width": "250px"
      }
     },
     "cdf63774abb940b58746c8095b4ff1a8": {
      "model_module": "@jupyter-widgets/base",
      "model_module_version": "1.2.0",
      "model_name": "LayoutModel",
      "state": {
       "width": "250px"
      }
     },
     "ce09e64828be46f39407cddb93c1a931": {
      "model_module": "@jupyter-widgets/controls",
      "model_module_version": "1.5.0",
      "model_name": "ButtonModel",
      "state": {
       "description": "Scan",
       "layout": "IPY_MODEL_fdb835a4024e4bf68d0a1e87c01f3b38",
       "style": "IPY_MODEL_9ddeed99d1aa495389dfd44c5ae1f305"
      }
     },
     "ce6fc230277142c89a5e428efc827e20": {
      "model_module": "@jupyter-widgets/base",
      "model_module_version": "1.2.0",
      "model_name": "LayoutModel",
      "state": {
       "justify_content": "center"
      }
     },
     "ce7993d27d7d475d8d30c6cf2ceb1d84": {
      "model_module": "@jupyter-widgets/controls",
      "model_module_version": "1.5.0",
      "model_name": "ButtonStyleModel",
      "state": {}
     },
     "ce9b27e8648a4053aa0b3aa61b79a767": {
      "model_module": "@jupyter-widgets/controls",
      "model_module_version": "1.5.0",
      "model_name": "ButtonStyleModel",
      "state": {}
     },
     "cecdbc2efb714555bb690d3a425803b8": {
      "model_module": "@jupyter-widgets/base",
      "model_module_version": "1.2.0",
      "model_name": "LayoutModel",
      "state": {
       "justify_content": "center"
      }
     },
     "cecea39b66af4f70ba7fadf523a2a321": {
      "model_module": "@jupyter-widgets/controls",
      "model_module_version": "1.5.0",
      "model_name": "HBoxModel",
      "state": {
       "children": [
        "IPY_MODEL_4587a39ff71f418980ac16f79bef62a2",
        "IPY_MODEL_d520d343f22e4e2c85701a29913d9fde"
       ],
       "layout": "IPY_MODEL_67c0b3fb241e4ed29c11591c0e118b7b"
      }
     },
     "ceedd677e40d4ea996a08fa2071dd4e1": {
      "model_module": "@jupyter-widgets/controls",
      "model_module_version": "1.5.0",
      "model_name": "HBoxModel",
      "state": {
       "children": [
        "IPY_MODEL_94ce1dfbf0aa4f9081b8e5b81c1033e4",
        "IPY_MODEL_13e540d321e9468d8aa11be42bae9308"
       ],
       "layout": "IPY_MODEL_a55a763edd4f4e4e9714223079535130"
      }
     },
     "cf41d41419ca43feb41bedb620f4004f": {
      "model_module": "@jupyter-widgets/controls",
      "model_module_version": "1.5.0",
      "model_name": "HTMLModel",
      "state": {
       "layout": "IPY_MODEL_cdbb5663014044f9a746c0ad0e289f4c",
       "style": "IPY_MODEL_a40b541a921d4203b7b56c7fd4ca347a",
       "value": "<h4 style=\"font-size:14px;\">Welche Operationen hat der Shift Reduce Parser?</h4>"
      }
     },
     "cf4269321faa4d37bea3d5380f17b886": {
      "model_module": "@jupyter-widgets/controls",
      "model_module_version": "1.5.0",
      "model_name": "ButtonStyleModel",
      "state": {}
     },
     "cf6e547db1e945cca9287af1592ba901": {
      "model_module": "@jupyter-widgets/controls",
      "model_module_version": "1.5.0",
      "model_name": "DescriptionStyleModel",
      "state": {
       "description_width": "initial"
      }
     },
     "cfa131c02c7b48da9dd4ebcb28d3d450": {
      "model_module": "@jupyter-widgets/controls",
      "model_module_version": "1.5.0",
      "model_name": "HBoxModel",
      "state": {
       "children": [
        "IPY_MODEL_0f49ededc34645fcb6203c9fc19f439e",
        "IPY_MODEL_85b2fab6119c473483dba2e8d9055f46"
       ],
       "layout": "IPY_MODEL_3620b2a42c4d46c489870e04a11364f1"
      }
     },
     "cfc7e0e862324cd684e55808d1af46ea": {
      "model_module": "@jupyter-widgets/base",
      "model_module_version": "1.2.0",
      "model_name": "LayoutModel",
      "state": {
       "width": "250px"
      }
     },
     "cfdfdf2311c24d408b340f1b0c3b375a": {
      "model_module": "@jupyter-widgets/base",
      "model_module_version": "1.2.0",
      "model_name": "LayoutModel",
      "state": {
       "justify_content": "center"
      }
     },
     "cfef8ad7ca82451a946158da861e5ae6": {
      "model_module": "@jupyter-widgets/base",
      "model_module_version": "1.2.0",
      "model_name": "LayoutModel",
      "state": {
       "width": "250px"
      }
     },
     "cff674f8852947deae6c786aadf2c0c1": {
      "model_module": "@jupyter-widgets/controls",
      "model_module_version": "1.5.0",
      "model_name": "VBoxModel",
      "state": {
       "children": [
        "IPY_MODEL_ef36f6b4e9464070bd8bddf06cdcd9b6",
        "IPY_MODEL_e90761e069c34cb6b74ffa19599042d4",
        "IPY_MODEL_a1c0ade981654dc5948adeb7f9a6a339",
        "IPY_MODEL_592e6f0ca146439a924352d935800c45",
        "IPY_MODEL_839fd41f810d4803bd820e9427a4672d"
       ],
       "layout": "IPY_MODEL_a1dbdebc6b494ef49dcb6a6c9184d9d3"
      }
     },
     "d005509cb03f4a568dae90a8749da585": {
      "model_module": "@jupyter-widgets/base",
      "model_module_version": "1.2.0",
      "model_name": "LayoutModel",
      "state": {}
     },
     "d00f707009d241ab8f6d641cd7f7a5e0": {
      "model_module": "@jupyter-widgets/base",
      "model_module_version": "1.2.0",
      "model_name": "LayoutModel",
      "state": {}
     },
     "d02e296be9d94e2dbe3fffe27f435817": {
      "model_module": "@jupyter-widgets/controls",
      "model_module_version": "1.5.0",
      "model_name": "ButtonModel",
      "state": {
       "description": "Shift Reduce",
       "layout": "IPY_MODEL_df19b169c08d4031a150896d6088e0a1",
       "style": "IPY_MODEL_663da0cddce949ecb160f97967caadb4"
      }
     },
     "d068ed3704a342c0b13addd1cc316765": {
      "model_module": "@jupyter-widgets/base",
      "model_module_version": "1.2.0",
      "model_name": "LayoutModel",
      "state": {}
     },
     "d078a7e3d5514fc997056626ec689872": {
      "model_module": "@jupyter-widgets/base",
      "model_module_version": "1.2.0",
      "model_name": "LayoutModel",
      "state": {
       "justify_content": "center"
      }
     },
     "d09f15775a824b76ab42668a2777b661": {
      "model_module": "@jupyter-widgets/controls",
      "model_module_version": "1.5.0",
      "model_name": "ButtonStyleModel",
      "state": {}
     },
     "d0d2f63b82ed466a8e943c5f5993445b": {
      "model_module": "@jupyter-widgets/base",
      "model_module_version": "1.2.0",
      "model_name": "LayoutModel",
      "state": {}
     },
     "d0f7cfeb84154cef82a5aa2b3a773686": {
      "model_module": "@jupyter-widgets/controls",
      "model_module_version": "1.5.0",
      "model_name": "ButtonStyleModel",
      "state": {}
     },
     "d0ff55aae19c40fbb211075316117858": {
      "model_module": "@jupyter-widgets/base",
      "model_module_version": "1.2.0",
      "model_name": "LayoutModel",
      "state": {}
     },
     "d129743c7ad94845bbf01121155dc5d2": {
      "model_module": "@jupyter-widgets/controls",
      "model_module_version": "1.5.0",
      "model_name": "ButtonModel",
      "state": {
       "description": "Shift",
       "layout": "IPY_MODEL_eac9382eadf04ab4a0d090717e5d0b57",
       "style": "IPY_MODEL_cd81f57f74634235b4344a21f44b2fbe"
      }
     },
     "d14f0e0c3d3442559680053a2f1b998d": {
      "model_module": "@jupyter-widgets/controls",
      "model_module_version": "1.5.0",
      "model_name": "ButtonStyleModel",
      "state": {}
     },
     "d19c193010354815a6d756742998619b": {
      "model_module": "@jupyter-widgets/controls",
      "model_module_version": "1.5.0",
      "model_name": "HBoxModel",
      "state": {
       "children": [
        "IPY_MODEL_af5ab73dd3ea443d944908ea021a0532",
        "IPY_MODEL_9c0cc5a820da4ba7b61fd2c14b981e31"
       ],
       "layout": "IPY_MODEL_638cbf07d0d941119a732d2f6c8a1ce2"
      }
     },
     "d1de68784837443bbb6739ed2a876ffd": {
      "model_module": "@jupyter-widgets/controls",
      "model_module_version": "1.5.0",
      "model_name": "HBoxModel",
      "state": {
       "children": [
        "IPY_MODEL_a8f72f98fe8545d6b8f1eaf311b8bd65"
       ],
       "layout": "IPY_MODEL_af330c8a75ee4e76b237a83e1e360c31"
      }
     },
     "d1fd30af905841d1bede7d5631369257": {
      "model_module": "@jupyter-widgets/controls",
      "model_module_version": "1.5.0",
      "model_name": "HTMLModel",
      "state": {
       "layout": "IPY_MODEL_cfdfdf2311c24d408b340f1b0c3b375a",
       "style": "IPY_MODEL_f6053092956048f0ab0c5fecff85febc",
       "value": "<i>Wählen Sie die <ins>eine</ins> korrekte Antwort aus: </i>"
      }
     },
     "d212bb6ddb5e4437a59108a4b8a74dd2": {
      "model_module": "@jupyter-widgets/controls",
      "model_module_version": "1.5.0",
      "model_name": "ButtonModel",
      "state": {
       "description": "Predict",
       "layout": "IPY_MODEL_fd77bdc3fb5d4589a26b2d1236289bc9",
       "style": "IPY_MODEL_a589f368d8bd4c80abb8b97a4f0a4bcd"
      }
     },
     "d21c4d5a7e9242789d785c7f93e4d399": {
      "model_module": "@jupyter-widgets/controls",
      "model_module_version": "1.5.0",
      "model_name": "ButtonModel",
      "state": {
       "description": "Complete",
       "layout": "IPY_MODEL_76acbdd35605498d948378f641760e34",
       "style": "IPY_MODEL_bf6d936a52824d58a5c2fa413a5a6293"
      }
     },
     "d22b099f1ed74001a43cb5c9c72d984b": {
      "model_module": "@jupyter-widgets/controls",
      "model_module_version": "1.5.0",
      "model_name": "ButtonStyleModel",
      "state": {}
     },
     "d232c3e5220142158cb51bc2ea42c27a": {
      "model_module": "@jupyter-widgets/base",
      "model_module_version": "1.2.0",
      "model_name": "LayoutModel",
      "state": {
       "width": "250px"
      }
     },
     "d235e81783864d0898c05bbcc3fc318b": {
      "model_module": "@jupyter-widgets/controls",
      "model_module_version": "1.5.0",
      "model_name": "ButtonModel",
      "state": {
       "description": "Shift",
       "layout": "IPY_MODEL_1acd8efe449e4aafafe0d6e74618ab25",
       "style": "IPY_MODEL_ec0b648b440740188c67afad47aa8e20"
      }
     },
     "d24a43122d454640877b41b0881199c6": {
      "model_module": "@jupyter-widgets/controls",
      "model_module_version": "1.5.0",
      "model_name": "ButtonStyleModel",
      "state": {}
     },
     "d279cf0e17154f618e7558a79c51fee4": {
      "model_module": "@jupyter-widgets/base",
      "model_module_version": "1.2.0",
      "model_name": "LayoutModel",
      "state": {
       "width": "250px"
      }
     },
     "d28cf03c2081440dbe14fd7bb39964cc": {
      "model_module": "@jupyter-widgets/controls",
      "model_module_version": "1.5.0",
      "model_name": "ButtonStyleModel",
      "state": {}
     },
     "d29673602b194cd398499293fcae93f0": {
      "model_module": "@jupyter-widgets/controls",
      "model_module_version": "1.5.0",
      "model_name": "HBoxModel",
      "state": {
       "children": [
        "IPY_MODEL_2c91c02b18d148f083b711cf60e2d84e"
       ],
       "layout": "IPY_MODEL_3bd4310ad2d64a8bbb68d3c1678e4fc4"
      }
     },
     "d2aea47f21eb46149f5acbd6090e5642": {
      "model_module": "@jupyter-widgets/base",
      "model_module_version": "1.2.0",
      "model_name": "LayoutModel",
      "state": {
       "width": "250px"
      }
     },
     "d2af88c6246844738fc0516e561f49e7": {
      "model_module": "@jupyter-widgets/controls",
      "model_module_version": "1.5.0",
      "model_name": "DescriptionStyleModel",
      "state": {
       "description_width": ""
      }
     },
     "d2c0a4b4a8224bd0bbb1032389c5b2f3": {
      "model_module": "@jupyter-widgets/controls",
      "model_module_version": "1.5.0",
      "model_name": "ButtonModel",
      "state": {
       "description": "Korrekt?",
       "layout": "IPY_MODEL_323e37f17d9c43649458983217f0080d",
       "style": "IPY_MODEL_9591c47badd143778c984a6f707b5ceb"
      }
     },
     "d2e3392a873a48f1a65b04d7a90be6aa": {
      "model_module": "@jupyter-widgets/controls",
      "model_module_version": "1.5.0",
      "model_name": "ButtonStyleModel",
      "state": {}
     },
     "d37cf7f8449441de94a5c994cd485332": {
      "model_module": "@jupyter-widgets/controls",
      "model_module_version": "1.5.0",
      "model_name": "ButtonStyleModel",
      "state": {}
     },
     "d391e0c7b48c4ade993aa58dad5f515e": {
      "model_module": "@jupyter-widgets/base",
      "model_module_version": "1.2.0",
      "model_name": "LayoutModel",
      "state": {
       "justify_content": "center"
      }
     },
     "d396eb86e76742278589915b53ae69bd": {
      "model_module": "@jupyter-widgets/controls",
      "model_module_version": "1.5.0",
      "model_name": "ButtonStyleModel",
      "state": {}
     },
     "d3aae0c264a943529862e90b0b865f04": {
      "model_module": "@jupyter-widgets/base",
      "model_module_version": "1.2.0",
      "model_name": "LayoutModel",
      "state": {}
     },
     "d3ba218811fc4ec6a7c88eeed04e7251": {
      "model_module": "@jupyter-widgets/controls",
      "model_module_version": "1.5.0",
      "model_name": "HTMLModel",
      "state": {
       "layout": "IPY_MODEL_6ae5bafe3b06457196ccb6837cef3526",
       "style": "IPY_MODEL_45739e895d8b46d29beaa8b36f180a85",
       "value": "<i>Wählen Sie die <ins>eine</ins> korrekte Antwort aus: </i>"
      }
     },
     "d3c60767d7904c54b4a3770ea8511677": {
      "model_module": "@jupyter-widgets/base",
      "model_module_version": "1.2.0",
      "model_name": "LayoutModel",
      "state": {}
     },
     "d3d574e453ae4e08a93c175cdbb0a01b": {
      "model_module": "@jupyter-widgets/controls",
      "model_module_version": "1.5.0",
      "model_name": "ButtonModel",
      "state": {
       "description": "Scan",
       "layout": "IPY_MODEL_4dcdf715f5e043a2a69589347a65f8a4",
       "style": "IPY_MODEL_86e8b6be055b469882ff065edb91cff7"
      }
     },
     "d3db7fdddea544d8ae01317e247e38af": {
      "model_module": "@jupyter-widgets/base",
      "model_module_version": "1.2.0",
      "model_name": "LayoutModel",
      "state": {
       "width": "250px"
      }
     },
     "d3e8c3fbf19a4c8ba6b89ff890032f48": {
      "model_module": "@jupyter-widgets/controls",
      "model_module_version": "1.5.0",
      "model_name": "HBoxModel",
      "state": {
       "children": [
        "IPY_MODEL_0051d924dff44a3cba86b8624ce24ce9",
        "IPY_MODEL_8c1410cc0c2544cf9e7a481f5b969109"
       ],
       "layout": "IPY_MODEL_4c1f7495125749ab85c6eac9c9f8a0b5"
      }
     },
     "d40db1ac0ae14824aa8ca92c39283359": {
      "model_module": "@jupyter-widgets/base",
      "model_module_version": "1.2.0",
      "model_name": "LayoutModel",
      "state": {}
     },
     "d416ed6155a24de4a8bb9f89979e45cc": {
      "model_module": "@jupyter-widgets/base",
      "model_module_version": "1.2.0",
      "model_name": "LayoutModel",
      "state": {
       "width": "250px"
      }
     },
     "d41c21c1f1314a009e4bc6c6fea0a757": {
      "model_module": "@jupyter-widgets/base",
      "model_module_version": "1.2.0",
      "model_name": "LayoutModel",
      "state": {
       "width": "250px"
      }
     },
     "d42e24495237412aa6495e6955aba62c": {
      "model_module": "@jupyter-widgets/base",
      "model_module_version": "1.2.0",
      "model_name": "LayoutModel",
      "state": {
       "width": "250px"
      }
     },
     "d4624340e2f14f5fa7d598e18d5daa4b": {
      "model_module": "@jupyter-widgets/controls",
      "model_module_version": "1.5.0",
      "model_name": "HTMLModel",
      "state": {
       "layout": "IPY_MODEL_73849cda1e544cc594f41355c94c9145",
       "style": "IPY_MODEL_3422c4cb612b431a836145722ae60691",
       "value": "<i>Wählen Sie die <ins>eine</ins> korrekte Antwort aus: </i>"
      }
     },
     "d479714b9dda4432972008bbf4b0e7af": {
      "model_module": "@jupyter-widgets/controls",
      "model_module_version": "1.5.0",
      "model_name": "DescriptionStyleModel",
      "state": {
       "description_width": ""
      }
     },
     "d48c3486a7de4982a9fab4e84c5ecbca": {
      "model_module": "@jupyter-widgets/controls",
      "model_module_version": "1.5.0",
      "model_name": "DescriptionStyleModel",
      "state": {
       "description_width": ""
      }
     },
     "d4aaaa336f234b99b045bd1a66cbdd86": {
      "model_module": "@jupyter-widgets/base",
      "model_module_version": "1.2.0",
      "model_name": "LayoutModel",
      "state": {
       "justify_content": "center"
      }
     },
     "d4ccb52c6b38469db09b03146370aa64": {
      "model_module": "@jupyter-widgets/base",
      "model_module_version": "1.2.0",
      "model_name": "LayoutModel",
      "state": {
       "width": "250px"
      }
     },
     "d4d16231a1bf477dbc7a0704363cdf29": {
      "model_module": "@jupyter-widgets/controls",
      "model_module_version": "1.5.0",
      "model_name": "ButtonModel",
      "state": {
       "description": "Complete",
       "layout": "IPY_MODEL_6d1b4c4594e24c0e8c0d5df75688a927",
       "style": "IPY_MODEL_f974bc5e118b4d97918031655dea96df"
      }
     },
     "d4d59095067e4e02aea8a74021043dd8": {
      "model_module": "@jupyter-widgets/controls",
      "model_module_version": "1.5.0",
      "model_name": "ButtonModel",
      "state": {
       "description": "Scan",
       "layout": "IPY_MODEL_db4e50e5dbcd4b1a989592e99b31ca0f",
       "style": "IPY_MODEL_849e4780abf1450a91e3ecc3598d0355"
      }
     },
     "d4dd8acb8a0e41b484c875cac0051bb1": {
      "model_module": "@jupyter-widgets/controls",
      "model_module_version": "1.5.0",
      "model_name": "ButtonModel",
      "state": {
       "description": "Complete",
       "layout": "IPY_MODEL_2ff969e8ea5a416da5d464c9d50f30a0",
       "style": "IPY_MODEL_83617cfccef1433ead222b6474deb0c0"
      }
     },
     "d4f25e7ced9b4d3091d785091cc7480c": {
      "model_module": "@jupyter-widgets/controls",
      "model_module_version": "1.5.0",
      "model_name": "ButtonModel",
      "state": {
       "description": "Predict",
       "layout": "IPY_MODEL_6369133ba8d84f09b67d9c919dda5c5d",
       "style": "IPY_MODEL_a42184841c45471684a3a3125bb5e19f"
      }
     },
     "d501576040da4dae8dc0549ffdb59981": {
      "model_module": "@jupyter-widgets/controls",
      "model_module_version": "1.5.0",
      "model_name": "ButtonStyleModel",
      "state": {}
     },
     "d520d343f22e4e2c85701a29913d9fde": {
      "model_module": "@jupyter-widgets/controls",
      "model_module_version": "1.5.0",
      "model_name": "ButtonModel",
      "state": {
       "description": "Predict",
       "layout": "IPY_MODEL_281e89bb000e40378e8f97bd5e038011",
       "style": "IPY_MODEL_c5118f9bdd0243b8b41ee896be5714c1"
      }
     },
     "d542cf92c75c4739afcf7af144de8894": {
      "model_module": "@jupyter-widgets/controls",
      "model_module_version": "1.5.0",
      "model_name": "HTMLModel",
      "state": {
       "layout": "IPY_MODEL_5a05c8e33eae48d0a9dbcac66fa9afc6",
       "style": "IPY_MODEL_9a48383e99e245c69a65e012b64c53c2",
       "value": "<h4 style=\"font-size:14px;\">Welche Operationen hat der Recursive Descent Parser?</h4>"
      }
     },
     "d57a8a35897246508595be0a3d321b4d": {
      "model_module": "@jupyter-widgets/controls",
      "model_module_version": "1.5.0",
      "model_name": "DescriptionStyleModel",
      "state": {
       "description_width": ""
      }
     },
     "d5931bf8f7004ef2bd6d1f0e1612d385": {
      "model_module": "@jupyter-widgets/base",
      "model_module_version": "1.2.0",
      "model_name": "LayoutModel",
      "state": {
       "width": "250px"
      }
     },
     "d5a0c5d50d294ef1bde4319627ca2ba9": {
      "model_module": "@jupyter-widgets/base",
      "model_module_version": "1.2.0",
      "model_name": "LayoutModel",
      "state": {
       "justify_content": "center"
      }
     },
     "d5a78775eaab478981717a1e3d4e52aa": {
      "model_module": "@jupyter-widgets/controls",
      "model_module_version": "1.5.0",
      "model_name": "ButtonStyleModel",
      "state": {}
     },
     "d5ca523ab9a24d489d04f9a3c78695c4": {
      "model_module": "@jupyter-widgets/controls",
      "model_module_version": "1.5.0",
      "model_name": "HBoxModel",
      "state": {
       "children": [
        "IPY_MODEL_eb5014b7b6dc48798096a62b06bcb6a4",
        "IPY_MODEL_9fed8b4efa2d44e0af8bb9edb85945c6"
       ],
       "layout": "IPY_MODEL_e8d382cdf73144d3adbded1a316507ab"
      }
     },
     "d5db993642ef475288860ae9808e81e7": {
      "model_module": "@jupyter-widgets/base",
      "model_module_version": "1.2.0",
      "model_name": "LayoutModel",
      "state": {
       "width": "250px"
      }
     },
     "d5ffc6c571904d9782941de215741855": {
      "model_module": "@jupyter-widgets/controls",
      "model_module_version": "1.5.0",
      "model_name": "HTMLModel",
      "state": {
       "layout": "IPY_MODEL_79fbd7f71a194011853f7c9fce48472b",
       "style": "IPY_MODEL_920bf781faf54470bd9c59f1dcf0de86",
       "value": "<h4 style=\"font-size:14px;\">Welche Operation folgt als nächstes?</h4>"
      }
     },
     "d6197f808b2f4563be76c7257819a024": {
      "model_module": "@jupyter-widgets/controls",
      "model_module_version": "1.5.0",
      "model_name": "ButtonStyleModel",
      "state": {}
     },
     "d65577ee795a4f3cb91993543155f229": {
      "model_module": "@jupyter-widgets/controls",
      "model_module_version": "1.5.0",
      "model_name": "ButtonStyleModel",
      "state": {}
     },
     "d6837c26c61f4b17a02c5bbe91dbf163": {
      "model_module": "@jupyter-widgets/controls",
      "model_module_version": "1.5.0",
      "model_name": "ButtonModel",
      "state": {
       "description": "Reduce",
       "layout": "IPY_MODEL_e8c7e80273ab4c55b6964b5fda23f94b",
       "style": "IPY_MODEL_3144c2ed5e2648b59d24b3208c4b1432"
      }
     },
     "d6ba20f8548c4869b9e29ec60106ef7f": {
      "model_module": "@jupyter-widgets/controls",
      "model_module_version": "1.5.0",
      "model_name": "HBoxModel",
      "state": {
       "children": [
        "IPY_MODEL_583fdeb3e18844c9b283e1c4d83a2683",
        "IPY_MODEL_0073326e8ddc484782cce558372e7a2c"
       ],
       "layout": "IPY_MODEL_907988bb4c3e4937bee5fb73d525199b"
      }
     },
     "d6ca0e7f639e418693b84c6a1c0774d3": {
      "model_module": "@jupyter-widgets/controls",
      "model_module_version": "1.5.0",
      "model_name": "ButtonStyleModel",
      "state": {}
     },
     "d7395e138b724af6ae3d6401d624af5a": {
      "model_module": "@jupyter-widgets/controls",
      "model_module_version": "1.5.0",
      "model_name": "DescriptionStyleModel",
      "state": {
       "description_width": ""
      }
     },
     "d75f447917564c90aa9a924255f75b11": {
      "model_module": "@jupyter-widgets/controls",
      "model_module_version": "1.5.0",
      "model_name": "DescriptionStyleModel",
      "state": {
       "description_width": ""
      }
     },
     "d771a8e2d78a470ba49d1f50fdabef1e": {
      "model_module": "@jupyter-widgets/controls",
      "model_module_version": "1.5.0",
      "model_name": "ButtonModel",
      "state": {
       "description": "Keine der Alternativen",
       "layout": "IPY_MODEL_c7da505ac21f45a48ec021512b13591f",
       "style": "IPY_MODEL_7cceaaff5ae84237afdc0f842a98b874"
      }
     },
     "d7afa8e31bca42f38743a02652ae3647": {
      "model_module": "@jupyter-widgets/base",
      "model_module_version": "1.2.0",
      "model_name": "LayoutModel",
      "state": {
       "width": "250px"
      }
     },
     "d7c02eb475564a0da7e45d4f144c08f5": {
      "model_module": "@jupyter-widgets/controls",
      "model_module_version": "1.5.0",
      "model_name": "HTMLModel",
      "state": {
       "layout": "IPY_MODEL_ea5b951031d9492ca3a909f3414e3718",
       "style": "IPY_MODEL_bdca5fc3da3d4c84ba05f4a4355f407a",
       "value": "<h4 style=\"font-size:14px;\">Welche Operation folgt als nächstes?</h4>"
      }
     },
     "d80f3cf76bc54e72b9c77bab601026a8": {
      "model_module": "@jupyter-widgets/base",
      "model_module_version": "1.2.0",
      "model_name": "LayoutModel",
      "state": {
       "justify_content": "center"
      }
     },
     "d8100f0213464957bd57a57b1f5e0b0d": {
      "model_module": "@jupyter-widgets/controls",
      "model_module_version": "1.5.0",
      "model_name": "ButtonModel",
      "state": {
       "description": "Shift",
       "layout": "IPY_MODEL_ac524e473b0f441b9b0ccdf944ba4972",
       "style": "IPY_MODEL_6bd7cc0130954b3c8dce113b4029f4c0"
      }
     },
     "d8126cc1450246068d11b7d545e8f76a": {
      "model_module": "@jupyter-widgets/controls",
      "model_module_version": "1.5.0",
      "model_name": "CheckboxModel",
      "state": {
       "description": "Reduce",
       "disabled": false,
       "layout": "IPY_MODEL_8a6c6e53c84648d1823ac644d7a31429",
       "style": "IPY_MODEL_defabb19d8c64a1286c42fd243fa5baf",
       "value": false
      }
     },
     "d840a1354874430496b6d60f23877b15": {
      "model_module": "@jupyter-widgets/controls",
      "model_module_version": "1.5.0",
      "model_name": "VBoxModel",
      "state": {
       "children": [
        "IPY_MODEL_02ce56af11a4459bbdf9bbc9a0b33c7f",
        "IPY_MODEL_087fefb1d31344c5aaa1927ab2fa0ea1",
        "IPY_MODEL_d3e8c3fbf19a4c8ba6b89ff890032f48",
        "IPY_MODEL_abd40666cf474adea2cb0bc32dc9065b",
        "IPY_MODEL_583054a4c86e4602aa5442c44825aade"
       ],
       "layout": "IPY_MODEL_f33f6992bf444be2aadd70196e2b1e9d"
      }
     },
     "d857c4c94a2e47dd91e000aae7c45e09": {
      "model_module": "@jupyter-widgets/controls",
      "model_module_version": "1.5.0",
      "model_name": "ButtonStyleModel",
      "state": {}
     },
     "d861cac2d19649fe96797020c13a1968": {
      "model_module": "@jupyter-widgets/base",
      "model_module_version": "1.2.0",
      "model_name": "LayoutModel",
      "state": {
       "width": "250px"
      }
     },
     "d866746c270d457d926c1d77e6855761": {
      "model_module": "@jupyter-widgets/controls",
      "model_module_version": "1.5.0",
      "model_name": "ButtonModel",
      "state": {
       "description": "Scan",
       "layout": "IPY_MODEL_00f3b3a7f35b49acbfad0822e6dee23a",
       "style": "IPY_MODEL_4275c52b13944ee3a8a69f963a335af3"
      }
     },
     "d8b8cb39f890400c8e4c265846628189": {
      "model_module": "@jupyter-widgets/controls",
      "model_module_version": "1.5.0",
      "model_name": "HBoxModel",
      "state": {
       "children": [
        "IPY_MODEL_af9b4345fcc148d39ec3b111ff343019",
        "IPY_MODEL_b0c9ade8f3f64608ac3860a0b0642e85"
       ],
       "layout": "IPY_MODEL_ea52899440ef4341a40a0ccd63eda9fa"
      }
     },
     "d8bc7585e8eb4356b196f488ab6a2d22": {
      "model_module": "@jupyter-widgets/controls",
      "model_module_version": "1.5.0",
      "model_name": "ButtonStyleModel",
      "state": {}
     },
     "d8bd7fff40574a42b9f29951acfe03de": {
      "model_module": "@jupyter-widgets/controls",
      "model_module_version": "1.5.0",
      "model_name": "VBoxModel",
      "state": {
       "children": [
        "IPY_MODEL_433f791e307943fc8e2f8f0bdf9c8b35",
        "IPY_MODEL_69b0dc5ac25c407482fdf18084f4b070",
        "IPY_MODEL_03a168d5059c418b85a212718e025796",
        "IPY_MODEL_737dfaeec5584113a316b0506bd38e90",
        "IPY_MODEL_7b4424c3fb4747e98288f567305dc9a3"
       ],
       "layout": "IPY_MODEL_95b0bdea3e9b46289ad89e77e703e660"
      }
     },
     "d923d5fea043432c9aba0fa20bd9b2bb": {
      "model_module": "@jupyter-widgets/controls",
      "model_module_version": "1.5.0",
      "model_name": "CheckboxModel",
      "state": {
       "description": "Reduce",
       "disabled": false,
       "layout": "IPY_MODEL_2c7f7873f2e7475fb651527069e0aa9e",
       "style": "IPY_MODEL_247da991595d457d9c7d7d6029441c6e",
       "value": false
      }
     },
     "d9494ff9ccf4481f89df158a498284cb": {
      "model_module": "@jupyter-widgets/controls",
      "model_module_version": "1.5.0",
      "model_name": "ButtonStyleModel",
      "state": {}
     },
     "d957643090f8400ab065944e563c2f9d": {
      "model_module": "@jupyter-widgets/base",
      "model_module_version": "1.2.0",
      "model_name": "LayoutModel",
      "state": {}
     },
     "d9a9bb8fd9644060b631bf51830651c8": {
      "model_module": "@jupyter-widgets/controls",
      "model_module_version": "1.5.0",
      "model_name": "ButtonModel",
      "state": {
       "description": "Earley",
       "layout": "IPY_MODEL_327d9c3c90c64646a8ad987fa321d5af",
       "style": "IPY_MODEL_9ea506ae931e4b5ebdad1ee26d71c6cb"
      }
     },
     "d9adda2703e74dd1a0ad5f551de00fed": {
      "model_module": "@jupyter-widgets/controls",
      "model_module_version": "1.5.0",
      "model_name": "ButtonStyleModel",
      "state": {}
     },
     "d9da488b70a8441a9f4de09b25086748": {
      "model_module": "@jupyter-widgets/base",
      "model_module_version": "1.2.0",
      "model_name": "LayoutModel",
      "state": {
       "justify_content": "center"
      }
     },
     "d9fea31ee698476e85de14d1f408a7a9": {
      "model_module": "@jupyter-widgets/controls",
      "model_module_version": "1.5.0",
      "model_name": "CheckboxModel",
      "state": {
       "description": "Shift",
       "disabled": false,
       "layout": "IPY_MODEL_742e53ed4c8943a595a9cd453d7cc6b1",
       "style": "IPY_MODEL_9cfd98fdbbde4845b374493b4f6ed8c1",
       "value": false
      }
     },
     "da1a9307e6e34a1394384590fe2989ab": {
      "model_module": "@jupyter-widgets/base",
      "model_module_version": "1.2.0",
      "model_name": "LayoutModel",
      "state": {}
     },
     "da2a566479154fffa45eed20664db779": {
      "model_module": "@jupyter-widgets/controls",
      "model_module_version": "1.5.0",
      "model_name": "HBoxModel",
      "state": {
       "children": [
        "IPY_MODEL_0b8bc38ada464905af359f7bc49a9897",
        "IPY_MODEL_496c6218481048d9b3600815b4cc9a02"
       ],
       "layout": "IPY_MODEL_d0d2f63b82ed466a8e943c5f5993445b"
      }
     },
     "da399ba6b3954f69906a353eba929170": {
      "model_module": "@jupyter-widgets/controls",
      "model_module_version": "1.5.0",
      "model_name": "HBoxModel",
      "state": {
       "children": [
        "IPY_MODEL_0c77b80ec4584ee8a38c8ebc491725d4",
        "IPY_MODEL_16688ff3777e4c1faeb8dd88b8818160"
       ],
       "layout": "IPY_MODEL_1b6177e0b3c9411b8d05dddd10c4c280"
      }
     },
     "da3b8a5d31534311bb2051d867e208ff": {
      "model_module": "@jupyter-widgets/controls",
      "model_module_version": "1.5.0",
      "model_name": "ButtonModel",
      "state": {
       "description": "Shift Reduce",
       "layout": "IPY_MODEL_b64ac8920d8f40b6802829b9f47de053",
       "style": "IPY_MODEL_7aa282ea119240d5b75fa50f6f0498ce"
      }
     },
     "da94a8e4288b47fea807d440b7e2b0d1": {
      "model_module": "@jupyter-widgets/base",
      "model_module_version": "1.2.0",
      "model_name": "LayoutModel",
      "state": {
       "justify_content": "center"
      }
     },
     "daa9a8dd1f4449779f187f545f9d71f8": {
      "model_module": "@jupyter-widgets/base",
      "model_module_version": "1.2.0",
      "model_name": "LayoutModel",
      "state": {
       "width": "250px"
      }
     },
     "db1be6c380964f058f865917d7af6506": {
      "model_module": "@jupyter-widgets/base",
      "model_module_version": "1.2.0",
      "model_name": "LayoutModel",
      "state": {
       "justify_content": "center"
      }
     },
     "db28c8a3d47d4f9baa9cb8575cca8db9": {
      "model_module": "@jupyter-widgets/controls",
      "model_module_version": "1.5.0",
      "model_name": "ButtonModel",
      "state": {
       "description": "Keine der Alternativen",
       "layout": "IPY_MODEL_eee6454822e74897b2739f7ce8b5cba8",
       "style": "IPY_MODEL_2f7866d8f61e44658b4b47154fd46923"
      }
     },
     "db4e50e5dbcd4b1a989592e99b31ca0f": {
      "model_module": "@jupyter-widgets/base",
      "model_module_version": "1.2.0",
      "model_name": "LayoutModel",
      "state": {
       "width": "250px"
      }
     },
     "db59a7da2d934b36a53614ca76f2e098": {
      "model_module": "@jupyter-widgets/controls",
      "model_module_version": "1.5.0",
      "model_name": "VBoxModel",
      "state": {
       "children": [
        "IPY_MODEL_159679cfa8654178a58b05a8c5b44e75",
        "IPY_MODEL_ab4fa29208384fef922e9318b123606f",
        "IPY_MODEL_ab7aa0798aba4e00a92c360473edfedd",
        "IPY_MODEL_3e52a34686ac4086913edc3e7f73d563",
        "IPY_MODEL_19a78a5f621e4403bed7147c02a0c405"
       ],
       "layout": "IPY_MODEL_4f84ea563cae4e11b0ac782b73398bbe"
      }
     },
     "db80a3ea8acc4425bb55c362f2171f4b": {
      "model_module": "@jupyter-widgets/controls",
      "model_module_version": "1.5.0",
      "model_name": "VBoxModel",
      "state": {
       "children": [
        "IPY_MODEL_444efcacd3d24ffd9c6e215e4284538e",
        "IPY_MODEL_9710c356d4ce466f88ee54f04f213a37",
        "IPY_MODEL_407e072a3e6b441d88f57bd189645d07",
        "IPY_MODEL_875f0db819f64e958463800566f95a15"
       ],
       "layout": "IPY_MODEL_6b3ae2dcc6664fa99cc66372fc30ecdd"
      }
     },
     "dba4e59eb1ee4407b4453a332855ef22": {
      "model_module": "@jupyter-widgets/controls",
      "model_module_version": "1.5.0",
      "model_name": "ButtonModel",
      "state": {
       "description": "Complete",
       "layout": "IPY_MODEL_4db57df32c544104afed2fb41d19d02d",
       "style": "IPY_MODEL_64a3a44898ae43309aef82daf2183986"
      }
     },
     "dbad9b85cb6b4f7780621bde17c63941": {
      "model_module": "@jupyter-widgets/base",
      "model_module_version": "1.2.0",
      "model_name": "LayoutModel",
      "state": {
       "width": "250px"
      }
     },
     "dbcb93a5e98f454e969556ef59de71a7": {
      "model_module": "@jupyter-widgets/controls",
      "model_module_version": "1.5.0",
      "model_name": "DescriptionStyleModel",
      "state": {
       "description_width": ""
      }
     },
     "dc3306647fba4b6d9fe961513174aa6d": {
      "model_module": "@jupyter-widgets/base",
      "model_module_version": "1.2.0",
      "model_name": "LayoutModel",
      "state": {
       "width": "250px"
      }
     },
     "dc6ae8b4c9364640a7365ebf206c67e0": {
      "model_module": "@jupyter-widgets/controls",
      "model_module_version": "1.5.0",
      "model_name": "ButtonStyleModel",
      "state": {}
     },
     "dca2b09772e94b3f9a0702b72c7d5e0e": {
      "model_module": "@jupyter-widgets/controls",
      "model_module_version": "1.5.0",
      "model_name": "HTMLModel",
      "state": {
       "layout": "IPY_MODEL_c801555dca7c42bca4cb2553b86f1423",
       "style": "IPY_MODEL_7b8a222490f940ad972a758742f74119",
       "value": "<h4 style=\"font-size:14px;\">Welche Operationen hat der Shift Reduce Parser?</h4>"
      }
     },
     "dcab44dbcf744772ad98bb9e61f262a9": {
      "model_module": "@jupyter-widgets/controls",
      "model_module_version": "1.5.0",
      "model_name": "DescriptionStyleModel",
      "state": {
       "description_width": ""
      }
     },
     "dd1e4a4e3ebb4c489f2a5df9da183882": {
      "model_module": "@jupyter-widgets/controls",
      "model_module_version": "1.5.0",
      "model_name": "HBoxModel",
      "state": {
       "children": [
        "IPY_MODEL_61126926a701471486286cf4915de235",
        "IPY_MODEL_46f7a0534f714463a89eca0be8eb2efb"
       ],
       "layout": "IPY_MODEL_67357725238b434eb52283627ada6a19"
      }
     },
     "dd37f970b0ce41bf80d0f1753dcd580d": {
      "model_module": "@jupyter-widgets/controls",
      "model_module_version": "1.5.0",
      "model_name": "ButtonStyleModel",
      "state": {}
     },
     "dd389834eb014949b82a2fb99047daa4": {
      "model_module": "@jupyter-widgets/base",
      "model_module_version": "1.2.0",
      "model_name": "LayoutModel",
      "state": {}
     },
     "ddb5f2e282104f3380844770db17d48e": {
      "model_module": "@jupyter-widgets/base",
      "model_module_version": "1.2.0",
      "model_name": "LayoutModel",
      "state": {
       "justify_content": "center"
      }
     },
     "ddc8349a96b64be09f545a4ece6258e7": {
      "model_module": "@jupyter-widgets/base",
      "model_module_version": "1.2.0",
      "model_name": "LayoutModel",
      "state": {
       "width": "250px"
      }
     },
     "ddd5138a81534c5eb69f726597b220e4": {
      "model_module": "@jupyter-widgets/base",
      "model_module_version": "1.2.0",
      "model_name": "LayoutModel",
      "state": {
       "width": "250px"
      }
     },
     "ddec30f95cdd4705b388c329656cff71": {
      "model_module": "@jupyter-widgets/controls",
      "model_module_version": "1.5.0",
      "model_name": "ButtonModel",
      "state": {
       "description": "Shift",
       "layout": "IPY_MODEL_f5e08d0504fd457eb42279c80c632b2a",
       "style": "IPY_MODEL_270568e0d1f54b66b5a3d9b2684803f0"
      }
     },
     "de23f6eea2964d6aad31cf49adaf00aa": {
      "model_module": "@jupyter-widgets/base",
      "model_module_version": "1.2.0",
      "model_name": "LayoutModel",
      "state": {
       "width": "250px"
      }
     },
     "de67b15b9d3d456da21bf0dd0926a35e": {
      "model_module": "@jupyter-widgets/controls",
      "model_module_version": "1.5.0",
      "model_name": "DescriptionStyleModel",
      "state": {
       "description_width": ""
      }
     },
     "de6add2a2cf34c0e92edfaf58a30b4af": {
      "model_module": "@jupyter-widgets/controls",
      "model_module_version": "1.5.0",
      "model_name": "ButtonStyleModel",
      "state": {}
     },
     "de8ecc022da945e3a49ece6fc4491ed9": {
      "model_module": "@jupyter-widgets/controls",
      "model_module_version": "1.5.0",
      "model_name": "ButtonStyleModel",
      "state": {}
     },
     "de95dabc6bc948b09255421616acbfce": {
      "model_module": "@jupyter-widgets/controls",
      "model_module_version": "1.5.0",
      "model_name": "ButtonModel",
      "state": {
       "description": "Reduce",
       "layout": "IPY_MODEL_cdec5f0d8f2c4b57b541b4ca790146b8",
       "style": "IPY_MODEL_0cf2657ad03a49c1a7c78d4901e18032"
      }
     },
     "dea59c9e954849979650542c688f40d3": {
      "model_module": "@jupyter-widgets/controls",
      "model_module_version": "1.5.0",
      "model_name": "ButtonModel",
      "state": {
       "description": "Keine der Alternativen",
       "layout": "IPY_MODEL_b2fbd3701e144bffa00d9a287a9532f2",
       "style": "IPY_MODEL_f16adbb2f9f64e76a16b111e1acf99c3"
      }
     },
     "deba1345d8804ad2ad19ab8c4049200e": {
      "model_module": "@jupyter-widgets/base",
      "model_module_version": "1.2.0",
      "model_name": "LayoutModel",
      "state": {}
     },
     "dec2872a1e4248b5b08e813406231979": {
      "model_module": "@jupyter-widgets/controls",
      "model_module_version": "1.5.0",
      "model_name": "ButtonStyleModel",
      "state": {}
     },
     "defabb19d8c64a1286c42fd243fa5baf": {
      "model_module": "@jupyter-widgets/controls",
      "model_module_version": "1.5.0",
      "model_name": "DescriptionStyleModel",
      "state": {
       "description_width": "initial"
      }
     },
     "df0be15271434f029fa5d82dcd5d50b1": {
      "model_module": "@jupyter-widgets/controls",
      "model_module_version": "1.5.0",
      "model_name": "ButtonModel",
      "state": {
       "description": "Predict",
       "layout": "IPY_MODEL_5ac5f93b39e84246ab75896840752169",
       "style": "IPY_MODEL_bb30de85ae94495ba32de74ab4169c43"
      }
     },
     "df0e9e3f7b504d9495a6eb3630476a73": {
      "model_module": "@jupyter-widgets/controls",
      "model_module_version": "1.5.0",
      "model_name": "CheckboxModel",
      "state": {
       "description": "Reduce",
       "disabled": false,
       "layout": "IPY_MODEL_5a10f88d21234cfd8704274ff3323dd0",
       "style": "IPY_MODEL_1a31a0322de447a58fcc7bb064d23fd8",
       "value": false
      }
     },
     "df19b169c08d4031a150896d6088e0a1": {
      "model_module": "@jupyter-widgets/base",
      "model_module_version": "1.2.0",
      "model_name": "LayoutModel",
      "state": {
       "width": "250px"
      }
     },
     "df3c7194b2864c5e9e36780932eecb38": {
      "model_module": "@jupyter-widgets/base",
      "model_module_version": "1.2.0",
      "model_name": "LayoutModel",
      "state": {
       "justify_content": "center"
      }
     },
     "df414703be5f43f4a0c4791b3a5011b4": {
      "model_module": "@jupyter-widgets/controls",
      "model_module_version": "1.5.0",
      "model_name": "DescriptionStyleModel",
      "state": {
       "description_width": ""
      }
     },
     "df415f6a9a0a48cd9df7b0f802d6c4ab": {
      "model_module": "@jupyter-widgets/controls",
      "model_module_version": "1.5.0",
      "model_name": "ButtonModel",
      "state": {
       "description": "Shift",
       "layout": "IPY_MODEL_890ef86d4bf047fa8da8ec714ad6a178",
       "style": "IPY_MODEL_675bd04a06a64d038ffabc5c402e7e0f"
      }
     },
     "df5e3ca12c464cd98a4bceefb6e52acb": {
      "model_module": "@jupyter-widgets/controls",
      "model_module_version": "1.5.0",
      "model_name": "ButtonModel",
      "state": {
       "description": "Keine der Alternativen",
       "layout": "IPY_MODEL_c40cad5caca0483cbb0b7fc092d67f7c",
       "style": "IPY_MODEL_5dba07aaf0bb4725bc46580e45374d7c"
      }
     },
     "df64022d8b654a23b77313e694ff231f": {
      "model_module": "@jupyter-widgets/controls",
      "model_module_version": "1.5.0",
      "model_name": "VBoxModel",
      "state": {
       "children": [
        "IPY_MODEL_f68dab3a4dea4e1784aa42e616cc3479",
        "IPY_MODEL_438dfa0edee34dd691ab5a2b2ccb4e04",
        "IPY_MODEL_fec75e6fd4bc430e9af4b114520911c4",
        "IPY_MODEL_5506eb5812ff421a9730bcbfe768c3c1"
       ],
       "layout": "IPY_MODEL_737001f67d6941c19e145622dc3f379e"
      }
     },
     "dfe93a0bad914a2f8980aac4d4cf6862": {
      "model_module": "@jupyter-widgets/base",
      "model_module_version": "1.2.0",
      "model_name": "LayoutModel",
      "state": {
       "width": "250px"
      }
     },
     "dfec82a292354c3c85991d0e0f4a3c46": {
      "model_module": "@jupyter-widgets/controls",
      "model_module_version": "1.5.0",
      "model_name": "ButtonStyleModel",
      "state": {}
     },
     "dff08cde25484736920fa4629769e3e4": {
      "model_module": "@jupyter-widgets/controls",
      "model_module_version": "1.5.0",
      "model_name": "HTMLModel",
      "state": {
       "layout": "IPY_MODEL_465cd8ba0e3a4360a9c429c02865065a",
       "style": "IPY_MODEL_6ac3a75d86524653b7708fc28700038a",
       "value": "<i>Wählen Sie die <ins>eine</ins> korrekte Antwort aus: </i>"
      }
     },
     "e059c04e860f456e9c008f198e1de13a": {
      "model_module": "@jupyter-widgets/controls",
      "model_module_version": "1.5.0",
      "model_name": "ButtonModel",
      "state": {
       "description": "Complete",
       "layout": "IPY_MODEL_2716fb637e514e95adc6940c6d7f39db",
       "style": "IPY_MODEL_b48165fb26b34b7ea46e90e377ac5a96"
      }
     },
     "e06065ed67964452aecb0453c0b239be": {
      "model_module": "@jupyter-widgets/controls",
      "model_module_version": "1.5.0",
      "model_name": "HBoxModel",
      "state": {
       "children": [
        "IPY_MODEL_a0ea1e68182e4b3e84063a416ea2ab72",
        "IPY_MODEL_e408c3fd5bd34fc099332511cbc8f895"
       ],
       "layout": "IPY_MODEL_a48cd21ddd0d4d36bbd0c365f2bafa1f"
      }
     },
     "e0a9a56a49ae4a21af1081a89b92297e": {
      "model_module": "@jupyter-widgets/base",
      "model_module_version": "1.2.0",
      "model_name": "LayoutModel",
      "state": {}
     },
     "e0b78addc263496c8af0a667e7bfab81": {
      "model_module": "@jupyter-widgets/controls",
      "model_module_version": "1.5.0",
      "model_name": "ButtonModel",
      "state": {
       "description": "Predict",
       "layout": "IPY_MODEL_6ab2fafd580746bd80dd2b8b9033c707",
       "style": "IPY_MODEL_f4e44a9563cd47a482561d7401a5b8ba"
      }
     },
     "e0d531ccc0c049d68641647d353809a3": {
      "model_module": "@jupyter-widgets/controls",
      "model_module_version": "1.5.0",
      "model_name": "DescriptionStyleModel",
      "state": {
       "description_width": "initial"
      }
     },
     "e151262d04aa41018ad388f26aa3b721": {
      "model_module": "@jupyter-widgets/base",
      "model_module_version": "1.2.0",
      "model_name": "LayoutModel",
      "state": {
       "width": "250px"
      }
     },
     "e1571e5caee446289d40e14d3c358d0a": {
      "model_module": "@jupyter-widgets/controls",
      "model_module_version": "1.5.0",
      "model_name": "VBoxModel",
      "state": {
       "children": [
        "IPY_MODEL_cc0980633b244310b326a3bf1654662f",
        "IPY_MODEL_18bf1052fb63400591d24e0b42c46af6",
        "IPY_MODEL_ab3907596e7642e3ab5bedd034e6490c",
        "IPY_MODEL_b708d025086f4f1e872da5f7879a1de1"
       ],
       "layout": "IPY_MODEL_0d2da756c6da4fecbbbf1fc21ed5625b"
      }
     },
     "e16f55ee48324edbaf21b6d4b319367d": {
      "model_module": "@jupyter-widgets/base",
      "model_module_version": "1.2.0",
      "model_name": "LayoutModel",
      "state": {}
     },
     "e1a55c270b8c419cab25558c1498e8fb": {
      "model_module": "@jupyter-widgets/base",
      "model_module_version": "1.2.0",
      "model_name": "LayoutModel",
      "state": {
       "width": "250px"
      }
     },
     "e1ecb501e7df486499d3470e13de6abb": {
      "model_module": "@jupyter-widgets/base",
      "model_module_version": "1.2.0",
      "model_name": "LayoutModel",
      "state": {}
     },
     "e20999910c3443edbbe78b98aee392b4": {
      "model_module": "@jupyter-widgets/controls",
      "model_module_version": "1.5.0",
      "model_name": "DescriptionStyleModel",
      "state": {
       "description_width": ""
      }
     },
     "e21c07f7403546998f338b956c6528b6": {
      "model_module": "@jupyter-widgets/controls",
      "model_module_version": "1.5.0",
      "model_name": "ButtonStyleModel",
      "state": {}
     },
     "e220c5270b594af8aedea87ab5e5d4f4": {
      "model_module": "@jupyter-widgets/base",
      "model_module_version": "1.2.0",
      "model_name": "LayoutModel",
      "state": {
       "width": "250px"
      }
     },
     "e270684629474767a20065bd50d45ca8": {
      "model_module": "@jupyter-widgets/controls",
      "model_module_version": "1.5.0",
      "model_name": "ButtonStyleModel",
      "state": {}
     },
     "e27e6a14328a4064b6d3964f19c7f32c": {
      "model_module": "@jupyter-widgets/controls",
      "model_module_version": "1.5.0",
      "model_name": "VBoxModel",
      "state": {
       "children": [
        "IPY_MODEL_6ddec5b6d42f4ca293640a194fe1d175",
        "IPY_MODEL_6c6f211123ef43c8a1accb077dc9c4da",
        "IPY_MODEL_49bb2e3130e04c479221021f6fa97a46",
        "IPY_MODEL_6d01cf5c5aae44b68b5197d18b065a59",
        "IPY_MODEL_5ffa8584448446cd9897f7a2b2e47b54"
       ],
       "layout": "IPY_MODEL_f979b80eaec44c70bfbc78bc4b1f1899"
      }
     },
     "e29d17153dc7472bac3d0b03426c46db": {
      "model_module": "@jupyter-widgets/controls",
      "model_module_version": "1.5.0",
      "model_name": "ButtonModel",
      "state": {
       "description": "Shift",
       "layout": "IPY_MODEL_961385c6cb3d4d65b7783b0f870eef4e",
       "style": "IPY_MODEL_bc6cd3974be84059acd82f7af829b7e0"
      }
     },
     "e2eabc28c88649dba04b36d6243a28c2": {
      "model_module": "@jupyter-widgets/controls",
      "model_module_version": "1.5.0",
      "model_name": "HTMLModel",
      "state": {
       "layout": "IPY_MODEL_098cc22d1d3149feb9fa7355b68b95c8",
       "style": "IPY_MODEL_8757d62bc08e49709f0fc0e8e140adc5",
       "value": "<h4 style=\"font-size:14px;\">Welche Operation folgt als nächstes?</h4>"
      }
     },
     "e2ec0dd598574c589fc2f36e9fc259ca": {
      "model_module": "@jupyter-widgets/controls",
      "model_module_version": "1.5.0",
      "model_name": "ButtonStyleModel",
      "state": {}
     },
     "e2ed912cc347463798c43d40e2fccf20": {
      "model_module": "@jupyter-widgets/controls",
      "model_module_version": "1.5.0",
      "model_name": "ButtonModel",
      "state": {
       "description": "Keine der Alternativen",
       "layout": "IPY_MODEL_bee0f8b3add34349827194fa43a9d5de",
       "style": "IPY_MODEL_50696466d2c44553b9543eb3ada55c36"
      }
     },
     "e326b820fa36429b86cf2af543f24144": {
      "model_module": "@jupyter-widgets/controls",
      "model_module_version": "1.5.0",
      "model_name": "ButtonStyleModel",
      "state": {}
     },
     "e32e34e936b5455b99c14dc7a03d5b85": {
      "model_module": "@jupyter-widgets/controls",
      "model_module_version": "1.5.0",
      "model_name": "ButtonStyleModel",
      "state": {}
     },
     "e35c7b655a644c16af7a098ec3cc8467": {
      "model_module": "@jupyter-widgets/base",
      "model_module_version": "1.2.0",
      "model_name": "LayoutModel",
      "state": {}
     },
     "e39dba5ca3a44fcaab012350d15b773f": {
      "model_module": "@jupyter-widgets/controls",
      "model_module_version": "1.5.0",
      "model_name": "DescriptionStyleModel",
      "state": {
       "description_width": ""
      }
     },
     "e3ce49c518fb4ec98e0d36e0c6afb139": {
      "model_module": "@jupyter-widgets/controls",
      "model_module_version": "1.5.0",
      "model_name": "ButtonModel",
      "state": {
       "description": "Scan",
       "layout": "IPY_MODEL_2288411add274beb83556c9b23b8085b",
       "style": "IPY_MODEL_054b8ade5dd645f58a54079086e66856"
      }
     },
     "e3d876de5e454b1eb69b88846fc0055c": {
      "model_module": "@jupyter-widgets/base",
      "model_module_version": "1.2.0",
      "model_name": "LayoutModel",
      "state": {
       "width": "250px"
      }
     },
     "e3dac0a3ddd5451c8bb13901d93948e4": {
      "model_module": "@jupyter-widgets/base",
      "model_module_version": "1.2.0",
      "model_name": "LayoutModel",
      "state": {
       "width": "250px"
      }
     },
     "e3f961bbd98942b39a3424f9649ce195": {
      "model_module": "@jupyter-widgets/controls",
      "model_module_version": "1.5.0",
      "model_name": "VBoxModel",
      "state": {
       "children": [
        "IPY_MODEL_6f435e4925ce40a7b64b4c63a6040568",
        "IPY_MODEL_07c45d8365864b87bb88e307633eef76",
        "IPY_MODEL_7c52baaa47f446ceace64da6528cd5d9",
        "IPY_MODEL_5c0eb46b9cff4c41a98dfbe63b9e4acc"
       ],
       "layout": "IPY_MODEL_1c74628fc96840b6a6f1ab0af9e7e868"
      }
     },
     "e408c3fd5bd34fc099332511cbc8f895": {
      "model_module": "@jupyter-widgets/controls",
      "model_module_version": "1.5.0",
      "model_name": "ButtonModel",
      "state": {
       "description": "Reduce",
       "layout": "IPY_MODEL_803dc3fd3f734eedb1610d84e10faf2b",
       "style": "IPY_MODEL_1380b05e293c42b79e17ce9f03d2a9cd"
      }
     },
     "e41b751e91414a6c86416a2dc956e98c": {
      "model_module": "@jupyter-widgets/controls",
      "model_module_version": "1.5.0",
      "model_name": "ButtonModel",
      "state": {
       "description": "Predict",
       "layout": "IPY_MODEL_c2ff1a6a6c2c48029130eb0a01fde6c5",
       "style": "IPY_MODEL_89fad49ac967480ba03587fb1dfd320a"
      }
     },
     "e44152d62a14402e8711756f56a8952c": {
      "model_module": "@jupyter-widgets/controls",
      "model_module_version": "1.5.0",
      "model_name": "ButtonModel",
      "state": {
       "description": "Keine der Alternativen",
       "layout": "IPY_MODEL_3c015b1acd844afd98928c21818afe58",
       "style": "IPY_MODEL_19b7358419a74fa697f0c570347a189b"
      }
     },
     "e449777aa7904c939e3a8d1f03db0d56": {
      "model_module": "@jupyter-widgets/controls",
      "model_module_version": "1.5.0",
      "model_name": "DescriptionStyleModel",
      "state": {
       "description_width": ""
      }
     },
     "e481cb06fc6446f485f4e32558b803ac": {
      "model_module": "@jupyter-widgets/controls",
      "model_module_version": "1.5.0",
      "model_name": "ButtonModel",
      "state": {
       "description": "Shift",
       "layout": "IPY_MODEL_ae4990f8298046888b5a65bc75b432e3",
       "style": "IPY_MODEL_490857126f4f4545ac1cd53695149c9a"
      }
     },
     "e4824b3676cc45a4bf27354c5795d84e": {
      "model_module": "@jupyter-widgets/controls",
      "model_module_version": "1.5.0",
      "model_name": "ButtonModel",
      "state": {
       "description": "Scan",
       "layout": "IPY_MODEL_6b7c4176ed9640b6a71260456c81084d",
       "style": "IPY_MODEL_661632641dbe4e0b927cead4ac2e24bf"
      }
     },
     "e4aabc57c8774a2191f1e6797f93d344": {
      "model_module": "@jupyter-widgets/base",
      "model_module_version": "1.2.0",
      "model_name": "LayoutModel",
      "state": {
       "width": "250px"
      }
     },
     "e4b8fdca0f474ee2a0550b99541c076d": {
      "model_module": "@jupyter-widgets/controls",
      "model_module_version": "1.5.0",
      "model_name": "DescriptionStyleModel",
      "state": {
       "description_width": ""
      }
     },
     "e4e8e3b0e4654d8eb4a8a58f7ec70e49": {
      "model_module": "@jupyter-widgets/controls",
      "model_module_version": "1.5.0",
      "model_name": "ButtonStyleModel",
      "state": {}
     },
     "e4fc880147ff45e594289f43b0101c30": {
      "model_module": "@jupyter-widgets/base",
      "model_module_version": "1.2.0",
      "model_name": "LayoutModel",
      "state": {
       "justify_content": "center"
      }
     },
     "e54c2e518e0a4dcdbbd1da2e71349524": {
      "model_module": "@jupyter-widgets/controls",
      "model_module_version": "1.5.0",
      "model_name": "ButtonStyleModel",
      "state": {}
     },
     "e579a3a42e9a4b4cb45b57d9bbe1c72a": {
      "model_module": "@jupyter-widgets/base",
      "model_module_version": "1.2.0",
      "model_name": "LayoutModel",
      "state": {
       "width": "600px"
      }
     },
     "e599759bd3004b11b11507094c6f5856": {
      "model_module": "@jupyter-widgets/controls",
      "model_module_version": "1.5.0",
      "model_name": "DescriptionStyleModel",
      "state": {
       "description_width": "initial"
      }
     },
     "e5b29ba96ae24c9f826353a43f8ec3a6": {
      "model_module": "@jupyter-widgets/controls",
      "model_module_version": "1.5.0",
      "model_name": "DescriptionStyleModel",
      "state": {
       "description_width": "initial"
      }
     },
     "e60680de992f472cbc9e358a0accd458": {
      "model_module": "@jupyter-widgets/base",
      "model_module_version": "1.2.0",
      "model_name": "LayoutModel",
      "state": {}
     },
     "e61cd2de73eb49cba115abccf38127b6": {
      "model_module": "@jupyter-widgets/controls",
      "model_module_version": "1.5.0",
      "model_name": "ButtonModel",
      "state": {
       "description": "Predict",
       "layout": "IPY_MODEL_7175480b05424c718e51a1caa1c5092d",
       "style": "IPY_MODEL_41f6808817794cc78ce36698b9d4b9e5"
      }
     },
     "e62ed837761b45dfa683aca7efcc48ac": {
      "model_module": "@jupyter-widgets/controls",
      "model_module_version": "1.5.0",
      "model_name": "ButtonStyleModel",
      "state": {}
     },
     "e633d3cca29440bca28fcca4e92aaefb": {
      "model_module": "@jupyter-widgets/controls",
      "model_module_version": "1.5.0",
      "model_name": "ButtonModel",
      "state": {
       "description": "Shift",
       "layout": "IPY_MODEL_2d185e6de96c4447bb4aaad40bc8f2af",
       "style": "IPY_MODEL_05af8fe01b37431ab2c1748da6092b44"
      }
     },
     "e655d2d46d554af5bee79fe164e5109d": {
      "model_module": "@jupyter-widgets/controls",
      "model_module_version": "1.5.0",
      "model_name": "HTMLModel",
      "state": {
       "layout": "IPY_MODEL_b0aadac8397a416da938ab9cdf0fdc39",
       "style": "IPY_MODEL_b23683c48dfb46a682a55b8944e63053",
       "value": "<i>Wählen Sie die <ins>eine</ins> korrekte Antwort aus: </i>"
      }
     },
     "e65db87429d24d9da4d08da4ebcd66b9": {
      "model_module": "@jupyter-widgets/controls",
      "model_module_version": "1.5.0",
      "model_name": "DescriptionStyleModel",
      "state": {
       "description_width": "initial"
      }
     },
     "e674ee031a8f48c38fa169a47f0b6edd": {
      "model_module": "@jupyter-widgets/controls",
      "model_module_version": "1.5.0",
      "model_name": "HBoxModel",
      "state": {
       "children": [
        "IPY_MODEL_31de47430a7f43268183f0e3e226c40c",
        "IPY_MODEL_1eba682da6dc421884a90d5ccdf328a1"
       ],
       "layout": "IPY_MODEL_b0b08e5cf937465cbc9bb6bc34e44136"
      }
     },
     "e682aa7379ba4f46804d59c89209892d": {
      "model_module": "@jupyter-widgets/controls",
      "model_module_version": "1.5.0",
      "model_name": "DescriptionStyleModel",
      "state": {
       "description_width": ""
      }
     },
     "e68afdab26414fa08aad253932451a8e": {
      "model_module": "@jupyter-widgets/controls",
      "model_module_version": "1.5.0",
      "model_name": "HTMLModel",
      "state": {
       "layout": "IPY_MODEL_a1d9f1b324a74f43a407599e60f4d34a",
       "style": "IPY_MODEL_04d46ee5ecd24087976ecd66fb1ac2aa",
       "value": "<i>Markieren Sie <ins>alle</ins> passenden Antworten: </i>"
      }
     },
     "e6bf136b1a7a475caf693c8d1ce47f23": {
      "model_module": "@jupyter-widgets/controls",
      "model_module_version": "1.5.0",
      "model_name": "HBoxModel",
      "state": {
       "children": [
        "IPY_MODEL_8b0bda3357f64bc5b929d4ffd6b5e289",
        "IPY_MODEL_df0be15271434f029fa5d82dcd5d50b1"
       ],
       "layout": "IPY_MODEL_ed0b47cdbf15404a820b5f2441c30fbe"
      }
     },
     "e6ecedfeac154fff89d7b5f22692004a": {
      "model_module": "@jupyter-widgets/controls",
      "model_module_version": "1.5.0",
      "model_name": "HBoxModel",
      "state": {
       "children": [
        "IPY_MODEL_25ca68d226e248889230c2514939518a",
        "IPY_MODEL_768b8c5ca08b40bfabdff5839b671baf"
       ],
       "layout": "IPY_MODEL_5d3e4782cce045d68d46a8886c42a83c"
      }
     },
     "e7fd570758754231aefa7347642685d7": {
      "model_module": "@jupyter-widgets/controls",
      "model_module_version": "1.5.0",
      "model_name": "ButtonStyleModel",
      "state": {}
     },
     "e82f02d63dbc4cc2a800254ec3da4503": {
      "model_module": "@jupyter-widgets/controls",
      "model_module_version": "1.5.0",
      "model_name": "ButtonStyleModel",
      "state": {}
     },
     "e8479e4990c3454fbd9c3b7df0a6199f": {
      "model_module": "@jupyter-widgets/controls",
      "model_module_version": "1.5.0",
      "model_name": "HTMLModel",
      "state": {
       "layout": "IPY_MODEL_306da6c10aa341aa98c0282b99f1d77d",
       "style": "IPY_MODEL_ca2e2331f232497a8fec077f97d5ce44",
       "value": "<h4 style=\"font-size:14px;\">Welche Operationen hat der Earley Parser?</h4>"
      }
     },
     "e85f25bdbc2d44aea15ea33917f80ee3": {
      "model_module": "@jupyter-widgets/base",
      "model_module_version": "1.2.0",
      "model_name": "LayoutModel",
      "state": {
       "width": "250px"
      }
     },
     "e8903fa8da114e4a9c2538c038c388f8": {
      "model_module": "@jupyter-widgets/base",
      "model_module_version": "1.2.0",
      "model_name": "LayoutModel",
      "state": {
       "width": "250px"
      }
     },
     "e8c7e80273ab4c55b6964b5fda23f94b": {
      "model_module": "@jupyter-widgets/base",
      "model_module_version": "1.2.0",
      "model_name": "LayoutModel",
      "state": {
       "width": "250px"
      }
     },
     "e8d382cdf73144d3adbded1a316507ab": {
      "model_module": "@jupyter-widgets/base",
      "model_module_version": "1.2.0",
      "model_name": "LayoutModel",
      "state": {}
     },
     "e8daa8de6b41415f9ac34e885eff4d98": {
      "model_module": "@jupyter-widgets/base",
      "model_module_version": "1.2.0",
      "model_name": "LayoutModel",
      "state": {}
     },
     "e8f67d0a0c89426180789ce2bdd8685a": {
      "model_module": "@jupyter-widgets/controls",
      "model_module_version": "1.5.0",
      "model_name": "ButtonModel",
      "state": {
       "description": "Keine der Alternativen",
       "layout": "IPY_MODEL_ddd5138a81534c5eb69f726597b220e4",
       "style": "IPY_MODEL_1e77e51859a6479d8a72fb68c41458d4"
      }
     },
     "e90761e069c34cb6b74ffa19599042d4": {
      "model_module": "@jupyter-widgets/controls",
      "model_module_version": "1.5.0",
      "model_name": "HTMLModel",
      "state": {
       "layout": "IPY_MODEL_987cf58d064541dfa11ee323ae151a0f",
       "style": "IPY_MODEL_ae607c8bb542474798079836042d1131",
       "value": "<i>Wählen Sie die <ins>eine</ins> korrekte Antwort aus: </i>"
      }
     },
     "e913f403ed0b4d809c6813680dab9c66": {
      "model_module": "@jupyter-widgets/base",
      "model_module_version": "1.2.0",
      "model_name": "LayoutModel",
      "state": {
       "width": "250px"
      }
     },
     "e92a24cabe6147939096e9bbb3a807b5": {
      "model_module": "@jupyter-widgets/base",
      "model_module_version": "1.2.0",
      "model_name": "LayoutModel",
      "state": {
       "width": "250px"
      }
     },
     "e96007ed463544ada9a38a96a12714b7": {
      "model_module": "@jupyter-widgets/controls",
      "model_module_version": "1.5.0",
      "model_name": "HBoxModel",
      "state": {
       "children": [
        "IPY_MODEL_5abb9e2a0e5649e0994faa10b08ac34f",
        "IPY_MODEL_3619453b1bb54e41b268d271df9d889a"
       ],
       "layout": "IPY_MODEL_02de7bfe81884b66bbd16efd93c3cfa4"
      }
     },
     "e988568e779f4153b5da9d0a27867047": {
      "model_module": "@jupyter-widgets/base",
      "model_module_version": "1.2.0",
      "model_name": "LayoutModel",
      "state": {}
     },
     "e9a896447b9f4df59bf0ce3c8af44a04": {
      "model_module": "@jupyter-widgets/controls",
      "model_module_version": "1.5.0",
      "model_name": "ButtonStyleModel",
      "state": {}
     },
     "ea06199bf013493c9f547c1499e54b3c": {
      "model_module": "@jupyter-widgets/base",
      "model_module_version": "1.2.0",
      "model_name": "LayoutModel",
      "state": {}
     },
     "ea52899440ef4341a40a0ccd63eda9fa": {
      "model_module": "@jupyter-widgets/base",
      "model_module_version": "1.2.0",
      "model_name": "LayoutModel",
      "state": {}
     },
     "ea5b951031d9492ca3a909f3414e3718": {
      "model_module": "@jupyter-widgets/base",
      "model_module_version": "1.2.0",
      "model_name": "LayoutModel",
      "state": {
       "justify_content": "center"
      }
     },
     "ea70f4de9ece40889f5aeca3198a5395": {
      "model_module": "@jupyter-widgets/base",
      "model_module_version": "1.2.0",
      "model_name": "LayoutModel",
      "state": {
       "width": "250px"
      }
     },
     "ea7451291f3e43858338a6f2c28494ab": {
      "model_module": "@jupyter-widgets/controls",
      "model_module_version": "1.5.0",
      "model_name": "ButtonStyleModel",
      "state": {}
     },
     "ea809432bd894d0a8a80862eb6b99b51": {
      "model_module": "@jupyter-widgets/base",
      "model_module_version": "1.2.0",
      "model_name": "LayoutModel",
      "state": {
       "width": "250px"
      }
     },
     "eab3dda12b784e2ea84a882f5bb518fa": {
      "model_module": "@jupyter-widgets/base",
      "model_module_version": "1.2.0",
      "model_name": "LayoutModel",
      "state": {
       "width": "250px"
      }
     },
     "eac9382eadf04ab4a0d090717e5d0b57": {
      "model_module": "@jupyter-widgets/base",
      "model_module_version": "1.2.0",
      "model_name": "LayoutModel",
      "state": {
       "width": "250px"
      }
     },
     "eaf9c924a03e42788f4945063ef3787a": {
      "model_module": "@jupyter-widgets/base",
      "model_module_version": "1.2.0",
      "model_name": "LayoutModel",
      "state": {
       "width": "600px"
      }
     },
     "eb3fef0208404be2afcf0e85d8ce030f": {
      "model_module": "@jupyter-widgets/controls",
      "model_module_version": "1.5.0",
      "model_name": "ButtonModel",
      "state": {
       "description": "Shift Reduce",
       "layout": "IPY_MODEL_ac4fb6f3706f44bda59c2dad1d7252b7",
       "style": "IPY_MODEL_89dd359788ed4682a5268a5db0fa507a"
      }
     },
     "eb5014b7b6dc48798096a62b06bcb6a4": {
      "model_module": "@jupyter-widgets/controls",
      "model_module_version": "1.5.0",
      "model_name": "ButtonModel",
      "state": {
       "description": "Reduce",
       "layout": "IPY_MODEL_996db7a319d64aa7bb23c5d6162b9199",
       "style": "IPY_MODEL_c4275a4b17ed4775bc5879583f18bc3e"
      }
     },
     "eba34b2c29c44151b56fa1b42142e4f0": {
      "model_module": "@jupyter-widgets/controls",
      "model_module_version": "1.5.0",
      "model_name": "HBoxModel",
      "state": {
       "children": [
        "IPY_MODEL_d6837c26c61f4b17a02c5bbe91dbf163",
        "IPY_MODEL_d4d59095067e4e02aea8a74021043dd8"
       ],
       "layout": "IPY_MODEL_7834b128230847fdbecf3e0f791dd462"
      }
     },
     "ebacfb74bd844e4c8eaaada900f4f6df": {
      "model_module": "@jupyter-widgets/base",
      "model_module_version": "1.2.0",
      "model_name": "LayoutModel",
      "state": {
       "width": "250px"
      }
     },
     "ebb5f623a26345349699cbf0747fd7ef": {
      "model_module": "@jupyter-widgets/base",
      "model_module_version": "1.2.0",
      "model_name": "LayoutModel",
      "state": {}
     },
     "ec0b648b440740188c67afad47aa8e20": {
      "model_module": "@jupyter-widgets/controls",
      "model_module_version": "1.5.0",
      "model_name": "ButtonStyleModel",
      "state": {}
     },
     "ec1e677bebf44618b87aaef06b103473": {
      "model_module": "@jupyter-widgets/controls",
      "model_module_version": "1.5.0",
      "model_name": "HBoxModel",
      "state": {
       "children": [
        "IPY_MODEL_583e7ac179114054b28deddf3bc8fd03",
        "IPY_MODEL_252d77d6753b4eb09a7f0be3e4610b7c"
       ],
       "layout": "IPY_MODEL_20996a53a2c74337847d29d7970985d3"
      }
     },
     "ec299f1ac3f24f7ba495f902ed9c8ae8": {
      "model_module": "@jupyter-widgets/base",
      "model_module_version": "1.2.0",
      "model_name": "LayoutModel",
      "state": {
       "justify_content": "center"
      }
     },
     "ec661dddbe3d4bc8a899c1954362f098": {
      "model_module": "@jupyter-widgets/controls",
      "model_module_version": "1.5.0",
      "model_name": "ButtonStyleModel",
      "state": {}
     },
     "ec72eacf8aae42d397c48072b48916ff": {
      "model_module": "@jupyter-widgets/controls",
      "model_module_version": "1.5.0",
      "model_name": "ButtonModel",
      "state": {
       "description": "Shift",
       "layout": "IPY_MODEL_c5417cb89b134c36a345b22efde94aea",
       "style": "IPY_MODEL_fe6d9d27737d414fb4aad9cc2a71b882"
      }
     },
     "ec858861de024d5e871df839d383c67c": {
      "model_module": "@jupyter-widgets/controls",
      "model_module_version": "1.5.0",
      "model_name": "VBoxModel",
      "state": {
       "children": [
        "IPY_MODEL_dca2b09772e94b3f9a0702b72c7d5e0e",
        "IPY_MODEL_695b466d181144a199bd68c86c121599",
        "IPY_MODEL_335099f09fe746bcb093aaaaf465e39e",
        "IPY_MODEL_4ad36a93f26a4074a29658306471665f"
       ],
       "layout": "IPY_MODEL_4997f7bb5bff46eb817a1f3b0b848154"
      }
     },
     "ec931427a10e49e39458b2471407c201": {
      "model_module": "@jupyter-widgets/base",
      "model_module_version": "1.2.0",
      "model_name": "LayoutModel",
      "state": {
       "width": "250px"
      }
     },
     "ed0b47cdbf15404a820b5f2441c30fbe": {
      "model_module": "@jupyter-widgets/base",
      "model_module_version": "1.2.0",
      "model_name": "LayoutModel",
      "state": {}
     },
     "ed45e4624c9d4fe3b457dff4836e874f": {
      "model_module": "@jupyter-widgets/controls",
      "model_module_version": "1.5.0",
      "model_name": "DescriptionStyleModel",
      "state": {
       "description_width": "initial"
      }
     },
     "ed5224d96095407ea32d3c9e0bef6a65": {
      "model_module": "@jupyter-widgets/controls",
      "model_module_version": "1.5.0",
      "model_name": "DescriptionStyleModel",
      "state": {
       "description_width": ""
      }
     },
     "ed970524d7a84149a10dc8704b7f89c1": {
      "model_module": "@jupyter-widgets/base",
      "model_module_version": "1.2.0",
      "model_name": "LayoutModel",
      "state": {
       "width": "250px"
      }
     },
     "ed9bc98d6fdb4d7a84a92d74e5d7f746": {
      "model_module": "@jupyter-widgets/base",
      "model_module_version": "1.2.0",
      "model_name": "LayoutModel",
      "state": {
       "width": "600px"
      }
     },
     "edc366ee0eba4a75929ad16ea618506c": {
      "model_module": "@jupyter-widgets/controls",
      "model_module_version": "1.5.0",
      "model_name": "ButtonModel",
      "state": {
       "description": "Shift Reduce",
       "layout": "IPY_MODEL_f1d484ccbf594369809deb87f5babc39",
       "style": "IPY_MODEL_4039588e03bb4ce68897a35c959a35aa"
      }
     },
     "edd06e9c909c46ed90721d2e4a4528a8": {
      "model_module": "@jupyter-widgets/controls",
      "model_module_version": "1.5.0",
      "model_name": "ButtonStyleModel",
      "state": {}
     },
     "ede1902ec53242d39f34526e1612e35c": {
      "model_module": "@jupyter-widgets/controls",
      "model_module_version": "1.5.0",
      "model_name": "VBoxModel",
      "state": {
       "children": [
        "IPY_MODEL_e2eabc28c88649dba04b36d6243a28c2",
        "IPY_MODEL_31f1d5e72b0747b09efae758ec338e72",
        "IPY_MODEL_52def1b9583f442c90c657a0bb84c612",
        "IPY_MODEL_faba08e961914a3f88dc7428a664f15c",
        "IPY_MODEL_5cc528aaba4540f09715aa84b8883030"
       ],
       "layout": "IPY_MODEL_8a80e932975745aea7b83fd5979d6ba6"
      }
     },
     "ee232f3b9b7247aea678fe1a39cf984f": {
      "model_module": "@jupyter-widgets/base",
      "model_module_version": "1.2.0",
      "model_name": "LayoutModel",
      "state": {
       "width": "250px"
      }
     },
     "ee24bb68de4f4c3aae86288a4d87af96": {
      "model_module": "@jupyter-widgets/controls",
      "model_module_version": "1.5.0",
      "model_name": "ButtonStyleModel",
      "state": {}
     },
     "ee328405f0584e98950fbd5aa76125c9": {
      "model_module": "@jupyter-widgets/controls",
      "model_module_version": "1.5.0",
      "model_name": "ButtonModel",
      "state": {
       "description": "Recusive Descent",
       "layout": "IPY_MODEL_602d9cbdf020453395d9eac3617c963d",
       "style": "IPY_MODEL_ec661dddbe3d4bc8a899c1954362f098"
      }
     },
     "ee35db28ff6a47b7bf1465141f12e381": {
      "model_module": "@jupyter-widgets/base",
      "model_module_version": "1.2.0",
      "model_name": "LayoutModel",
      "state": {}
     },
     "ee714054188a4d6c8983faa87e48f7f3": {
      "model_module": "@jupyter-widgets/controls",
      "model_module_version": "1.5.0",
      "model_name": "ButtonStyleModel",
      "state": {}
     },
     "ee77700dfef246dbba4534748de5c465": {
      "model_module": "@jupyter-widgets/controls",
      "model_module_version": "1.5.0",
      "model_name": "HBoxModel",
      "state": {
       "children": [
        "IPY_MODEL_6aac360a36e8442691d4cebfb259a566",
        "IPY_MODEL_9c0c7dca039d4739b9b3e3458f3cabf8"
       ],
       "layout": "IPY_MODEL_baa9cf7d5e864e5db9af4518c2d5cb3d"
      }
     },
     "ee92c79a4a324d2fbf5fbe99fdb66640": {
      "model_module": "@jupyter-widgets/controls",
      "model_module_version": "1.5.0",
      "model_name": "ButtonModel",
      "state": {
       "description": "Earley",
       "layout": "IPY_MODEL_0ba416a83a084e52a7744256188362a8",
       "style": "IPY_MODEL_e326b820fa36429b86cf2af543f24144"
      }
     },
     "eeac8eab176d4467b10f23619561cddd": {
      "model_module": "@jupyter-widgets/controls",
      "model_module_version": "1.5.0",
      "model_name": "ButtonModel",
      "state": {
       "description": "Earley",
       "layout": "IPY_MODEL_d7afa8e31bca42f38743a02652ae3647",
       "style": "IPY_MODEL_63f7e5d2765c47d6b7530f59768ea2fc"
      }
     },
     "eec029dbbdaf42809960c5b34eb4759b": {
      "model_module": "@jupyter-widgets/base",
      "model_module_version": "1.2.0",
      "model_name": "LayoutModel",
      "state": {
       "justify_content": "center"
      }
     },
     "eed9cb2ebfa940148f66137780a4d8ea": {
      "model_module": "@jupyter-widgets/controls",
      "model_module_version": "1.5.0",
      "model_name": "HBoxModel",
      "state": {
       "children": [
        "IPY_MODEL_a150cce721d14aca956a2822ba478785",
        "IPY_MODEL_b38b70cdedda4a238efaf1f7bee0c832"
       ],
       "layout": "IPY_MODEL_b844eccbdc734b88ad00ba8b42915562"
      }
     },
     "eee6454822e74897b2739f7ce8b5cba8": {
      "model_module": "@jupyter-widgets/base",
      "model_module_version": "1.2.0",
      "model_name": "LayoutModel",
      "state": {
       "width": "250px"
      }
     },
     "ef09fb00a02144e2a9d1cce43559791a": {
      "model_module": "@jupyter-widgets/base",
      "model_module_version": "1.2.0",
      "model_name": "LayoutModel",
      "state": {}
     },
     "ef2fe59b19374b34a723f1a5f7f5204f": {
      "model_module": "@jupyter-widgets/controls",
      "model_module_version": "1.5.0",
      "model_name": "DescriptionStyleModel",
      "state": {
       "description_width": "initial"
      }
     },
     "ef36f6b4e9464070bd8bddf06cdcd9b6": {
      "model_module": "@jupyter-widgets/controls",
      "model_module_version": "1.5.0",
      "model_name": "HTMLModel",
      "state": {
       "layout": "IPY_MODEL_09564e8ef68d428fb2f92d23bd248ffa",
       "style": "IPY_MODEL_11db1e2f29604c118e0dd100f507deca",
       "value": "<h4 style=\"font-size:14px;\">Welche Operation folgt als nächstes?</h4>"
      }
     },
     "ef446cb4536643fdbd58ed6c0b764d37": {
      "model_module": "@jupyter-widgets/controls",
      "model_module_version": "1.5.0",
      "model_name": "ButtonModel",
      "state": {
       "description": "Scan",
       "layout": "IPY_MODEL_1a0ec26584394c57bae0aab2e2fd3d4f",
       "style": "IPY_MODEL_c36a05870df640b6a220ab2224fa6920"
      }
     },
     "ef70dbeb922f47eba9928d789fcecf5e": {
      "model_module": "@jupyter-widgets/base",
      "model_module_version": "1.2.0",
      "model_name": "LayoutModel",
      "state": {
       "width": "250px"
      }
     },
     "ef8e00918b1640d49bc23cf3ad8e2677": {
      "model_module": "@jupyter-widgets/controls",
      "model_module_version": "1.5.0",
      "model_name": "ButtonStyleModel",
      "state": {}
     },
     "ef92918243b94421b327007e4d386bbb": {
      "model_module": "@jupyter-widgets/controls",
      "model_module_version": "1.5.0",
      "model_name": "DescriptionStyleModel",
      "state": {
       "description_width": ""
      }
     },
     "ef9cd337ac8b41f0b09b9bd53901af86": {
      "model_module": "@jupyter-widgets/controls",
      "model_module_version": "1.5.0",
      "model_name": "ButtonStyleModel",
      "state": {}
     },
     "eff913b7b05c439584d5a2f645f9c0c3": {
      "model_module": "@jupyter-widgets/controls",
      "model_module_version": "1.5.0",
      "model_name": "DescriptionStyleModel",
      "state": {
       "description_width": ""
      }
     },
     "f00920be25244ed1b11e12d53462c9e8": {
      "model_module": "@jupyter-widgets/controls",
      "model_module_version": "1.5.0",
      "model_name": "HTMLModel",
      "state": {
       "layout": "IPY_MODEL_f3f4fef581a64cb395f1421dc5252e84",
       "style": "IPY_MODEL_9d5cb16e0808432086da8298e62e9ab7",
       "value": "<h4 style=\"font-size:14px;\">Welche Operation folgt als nächstes?</h4>"
      }
     },
     "f08de5729d3b405b9c9f98b4bc4b4d45": {
      "model_module": "@jupyter-widgets/controls",
      "model_module_version": "1.5.0",
      "model_name": "ButtonModel",
      "state": {
       "description": "Complete",
       "layout": "IPY_MODEL_8e5e7ff0e1e5417f8f820fa1603b9611",
       "style": "IPY_MODEL_e82f02d63dbc4cc2a800254ec3da4503"
      }
     },
     "f09a593fad5b4fcab7598eaf0f346e41": {
      "model_module": "@jupyter-widgets/controls",
      "model_module_version": "1.5.0",
      "model_name": "ButtonStyleModel",
      "state": {}
     },
     "f0ab075ea38e48e084a2732eb9b4759f": {
      "model_module": "@jupyter-widgets/controls",
      "model_module_version": "1.5.0",
      "model_name": "ButtonModel",
      "state": {
       "description": "Keine der Alternativen",
       "layout": "IPY_MODEL_f99267e12762431fbca1c70bc39fb70f",
       "style": "IPY_MODEL_1b9691b369a54c9c9f92067084f8506a"
      }
     },
     "f0b9252a8ac94f28949dd5797fec1082": {
      "model_module": "@jupyter-widgets/controls",
      "model_module_version": "1.5.0",
      "model_name": "DescriptionStyleModel",
      "state": {
       "description_width": "initial"
      }
     },
     "f0e44ea9c5dd4d3ab3c6de2a8105ec88": {
      "model_module": "@jupyter-widgets/base",
      "model_module_version": "1.2.0",
      "model_name": "LayoutModel",
      "state": {
       "width": "250px"
      }
     },
     "f11fecda7d81429aafb9b9a0771af2e7": {
      "model_module": "@jupyter-widgets/base",
      "model_module_version": "1.2.0",
      "model_name": "LayoutModel",
      "state": {
       "width": "250px"
      }
     },
     "f1509eeb6d2a4c45a238a4b66f13e762": {
      "model_module": "@jupyter-widgets/controls",
      "model_module_version": "1.5.0",
      "model_name": "HTMLModel",
      "state": {
       "layout": "IPY_MODEL_002456c0ff174e9aa40af962f9ff279b",
       "style": "IPY_MODEL_e39dba5ca3a44fcaab012350d15b773f",
       "value": "<h4 style=\"font-size:14px;\">Welche Operation folgt als nächstes?</h4>"
      }
     },
     "f16adbb2f9f64e76a16b111e1acf99c3": {
      "model_module": "@jupyter-widgets/controls",
      "model_module_version": "1.5.0",
      "model_name": "ButtonStyleModel",
      "state": {}
     },
     "f16dac68475440fb9589c9c2e7f3d5f2": {
      "model_module": "@jupyter-widgets/base",
      "model_module_version": "1.2.0",
      "model_name": "LayoutModel",
      "state": {
       "width": "250px"
      }
     },
     "f1d484ccbf594369809deb87f5babc39": {
      "model_module": "@jupyter-widgets/base",
      "model_module_version": "1.2.0",
      "model_name": "LayoutModel",
      "state": {
       "width": "250px"
      }
     },
     "f1ef82b35a7f41ab8fd25fa9d241057b": {
      "model_module": "@jupyter-widgets/controls",
      "model_module_version": "1.5.0",
      "model_name": "ButtonModel",
      "state": {
       "description": "Complete",
       "layout": "IPY_MODEL_cc18c4484aef4240a5f3df6f4c2e47bf",
       "style": "IPY_MODEL_ef8e00918b1640d49bc23cf3ad8e2677"
      }
     },
     "f22fb2325acd41bca9278a06ef23683c": {
      "model_module": "@jupyter-widgets/controls",
      "model_module_version": "1.5.0",
      "model_name": "HTMLModel",
      "state": {
       "layout": "IPY_MODEL_c53f7e927ccd43d1aa510ba30e73f80b",
       "style": "IPY_MODEL_533242bbe3a1487d8c3b9b4e6ef14c5a",
       "value": "<h4 style=\"font-size:14px;\">Welche Operation folgt als nächstes?</h4>"
      }
     },
     "f2303c7e9f1a40a89258f9e3f331de6b": {
      "model_module": "@jupyter-widgets/base",
      "model_module_version": "1.2.0",
      "model_name": "LayoutModel",
      "state": {}
     },
     "f24c6f4ba9a9492faa3a24d3878d17d6": {
      "model_module": "@jupyter-widgets/controls",
      "model_module_version": "1.5.0",
      "model_name": "DescriptionStyleModel",
      "state": {
       "description_width": ""
      }
     },
     "f3298f1bd47b4610a65d66df4914307d": {
      "model_module": "@jupyter-widgets/base",
      "model_module_version": "1.2.0",
      "model_name": "LayoutModel",
      "state": {}
     },
     "f33f6992bf444be2aadd70196e2b1e9d": {
      "model_module": "@jupyter-widgets/base",
      "model_module_version": "1.2.0",
      "model_name": "LayoutModel",
      "state": {}
     },
     "f377825f2fd34bf09f16a7d2e103a40d": {
      "model_module": "@jupyter-widgets/controls",
      "model_module_version": "1.5.0",
      "model_name": "DescriptionStyleModel",
      "state": {
       "description_width": "initial"
      }
     },
     "f380c7aac31840a48561a0b322a795b9": {
      "model_module": "@jupyter-widgets/controls",
      "model_module_version": "1.5.0",
      "model_name": "ButtonModel",
      "state": {
       "description": "Earley",
       "layout": "IPY_MODEL_b14b35c415ca4247aa3e6522db7d5dc4",
       "style": "IPY_MODEL_b8d9d45936584ce9bc41c58ed7051ba5"
      }
     },
     "f39794f5cfec4517a175b42dab99ee17": {
      "model_module": "@jupyter-widgets/base",
      "model_module_version": "1.2.0",
      "model_name": "LayoutModel",
      "state": {
       "width": "250px"
      }
     },
     "f3da43b35d66495bba7ede4547555218": {
      "model_module": "@jupyter-widgets/controls",
      "model_module_version": "1.5.0",
      "model_name": "DescriptionStyleModel",
      "state": {
       "description_width": ""
      }
     },
     "f3ee8ecba895457a8c2076de214f108e": {
      "model_module": "@jupyter-widgets/base",
      "model_module_version": "1.2.0",
      "model_name": "LayoutModel",
      "state": {
       "width": "250px"
      }
     },
     "f3f4fef581a64cb395f1421dc5252e84": {
      "model_module": "@jupyter-widgets/base",
      "model_module_version": "1.2.0",
      "model_name": "LayoutModel",
      "state": {
       "justify_content": "center"
      }
     },
     "f40aaafa911a467482f3b484df5cace2": {
      "model_module": "@jupyter-widgets/base",
      "model_module_version": "1.2.0",
      "model_name": "LayoutModel",
      "state": {
       "justify_content": "center"
      }
     },
     "f41330f76c9b489ba0a47e3d710299a0": {
      "model_module": "@jupyter-widgets/base",
      "model_module_version": "1.2.0",
      "model_name": "LayoutModel",
      "state": {}
     },
     "f41ae06c0e0c4f9eb1a2bab3f25f2aa3": {
      "model_module": "@jupyter-widgets/base",
      "model_module_version": "1.2.0",
      "model_name": "LayoutModel",
      "state": {
       "justify_content": "center"
      }
     },
     "f425c7af8131498c9e3aa3006a31a9c1": {
      "model_module": "@jupyter-widgets/controls",
      "model_module_version": "1.5.0",
      "model_name": "HTMLModel",
      "state": {
       "layout": "IPY_MODEL_2d85e5b1ebba4728b206ae7673c76a05",
       "style": "IPY_MODEL_cddc77c15ac446d3bb03386dc0a64e97",
       "value": "<h4 style=\"font-size:14px;\">Welche Operation folgt als nächstes?</h4>"
      }
     },
     "f42a5fb859af4fbd8a7edf5f99cf4849": {
      "model_module": "@jupyter-widgets/controls",
      "model_module_version": "1.5.0",
      "model_name": "ButtonModel",
      "state": {
       "description": "Shift",
       "layout": "IPY_MODEL_0244893438e543019793c6204fcbcae6",
       "style": "IPY_MODEL_47fc6d6eca30493a9386c33ceb91c73c"
      }
     },
     "f468440ebcde4f1ca8b58aa2e0016e8a": {
      "model_module": "@jupyter-widgets/controls",
      "model_module_version": "1.5.0",
      "model_name": "ButtonModel",
      "state": {
       "description": "Scan",
       "layout": "IPY_MODEL_489be051c28a4f8c84f5ace5842329ae",
       "style": "IPY_MODEL_ff43595a315d42799c583e23a24de73c"
      }
     },
     "f48391f5d1904cb0858a10d9e8d3b26d": {
      "model_module": "@jupyter-widgets/controls",
      "model_module_version": "1.5.0",
      "model_name": "DescriptionStyleModel",
      "state": {
       "description_width": "initial"
      }
     },
     "f48633dc463146bb914ef402bf5c86f7": {
      "model_module": "@jupyter-widgets/controls",
      "model_module_version": "1.5.0",
      "model_name": "ButtonModel",
      "state": {
       "description": "Shift",
       "layout": "IPY_MODEL_29c31c10111d45d1b090a7f8bec4ed28",
       "style": "IPY_MODEL_440a3c5cd0804eb8baa53b65eb374dcd"
      }
     },
     "f49d9405d9564b29bbb43a1de1340d08": {
      "model_module": "@jupyter-widgets/base",
      "model_module_version": "1.2.0",
      "model_name": "LayoutModel",
      "state": {
       "justify_content": "center"
      }
     },
     "f4bd067fcf7a49be80a905a97edcbddc": {
      "model_module": "@jupyter-widgets/controls",
      "model_module_version": "1.5.0",
      "model_name": "ButtonStyleModel",
      "state": {}
     },
     "f4e44a9563cd47a482561d7401a5b8ba": {
      "model_module": "@jupyter-widgets/controls",
      "model_module_version": "1.5.0",
      "model_name": "ButtonStyleModel",
      "state": {}
     },
     "f500fa983fc64444b3ed5f7530e598d4": {
      "model_module": "@jupyter-widgets/controls",
      "model_module_version": "1.5.0",
      "model_name": "HTMLModel",
      "state": {
       "layout": "IPY_MODEL_d391e0c7b48c4ade993aa58dad5f515e",
       "style": "IPY_MODEL_7a984c53b8b6483cb1e69e8e640a6268",
       "value": "<i>Wählen Sie die <ins>eine</ins> korrekte Antwort aus: </i>"
      }
     },
     "f53b1762623b4f98acc63a44d2588122": {
      "model_module": "@jupyter-widgets/base",
      "model_module_version": "1.2.0",
      "model_name": "LayoutModel",
      "state": {
       "width": "250px"
      }
     },
     "f54a37821c9a4b72ba9c0707493f84db": {
      "model_module": "@jupyter-widgets/controls",
      "model_module_version": "1.5.0",
      "model_name": "VBoxModel",
      "state": {
       "children": [
        "IPY_MODEL_92fae0b0fabf4f498abc0db262df751e",
        "IPY_MODEL_a434116b4e4647018ac138f28a4ba0e8",
        "IPY_MODEL_482b2690fc5b419782760716b33f2e9c",
        "IPY_MODEL_817bf236d648426c97ea9046832c2d3b",
        "IPY_MODEL_c4cb0353c269475fb85495eefa1533f7"
       ],
       "layout": "IPY_MODEL_9ea720dc229445f0a90f6e9d5d136179"
      }
     },
     "f578415577e2417f99acb973758edb4f": {
      "model_module": "@jupyter-widgets/controls",
      "model_module_version": "1.5.0",
      "model_name": "HTMLModel",
      "state": {
       "layout": "IPY_MODEL_abe01a9e0c9b44e798dd9207ff535c91",
       "style": "IPY_MODEL_528fe41f0ac7400a8acce85b6f0b8f57",
       "value": "<h4 style=\"font-size:14px;\">Welche Operation folgt als nächstes?</h4>"
      }
     },
     "f5a39281fde44a6ca3404fe555bee640": {
      "model_module": "@jupyter-widgets/base",
      "model_module_version": "1.2.0",
      "model_name": "LayoutModel",
      "state": {
       "width": "600px"
      }
     },
     "f5bb31fdc92a4182908745dc4d25a882": {
      "model_module": "@jupyter-widgets/controls",
      "model_module_version": "1.5.0",
      "model_name": "DescriptionStyleModel",
      "state": {
       "description_width": ""
      }
     },
     "f5e08d0504fd457eb42279c80c632b2a": {
      "model_module": "@jupyter-widgets/base",
      "model_module_version": "1.2.0",
      "model_name": "LayoutModel",
      "state": {
       "width": "250px"
      }
     },
     "f5f09f0bcef24194aa029f2caa995711": {
      "model_module": "@jupyter-widgets/controls",
      "model_module_version": "1.5.0",
      "model_name": "VBoxModel",
      "state": {
       "children": [
        "IPY_MODEL_f1509eeb6d2a4c45a238a4b66f13e762",
        "IPY_MODEL_0ca40eea76db42009e549e7ad1ba105d",
        "IPY_MODEL_07559f2bc7b44a6cbf594ee34de9eae0",
        "IPY_MODEL_921d9af0d79f475aaa1cd55b78c1ad3e",
        "IPY_MODEL_d1de68784837443bbb6739ed2a876ffd"
       ],
       "layout": "IPY_MODEL_b29be05511c4438dbd278600171464fc"
      }
     },
     "f5f25a46784b4138927ae59cacbea43b": {
      "model_module": "@jupyter-widgets/controls",
      "model_module_version": "1.5.0",
      "model_name": "DescriptionStyleModel",
      "state": {
       "description_width": ""
      }
     },
     "f6003010c8524d9c8efce926354877f2": {
      "model_module": "@jupyter-widgets/controls",
      "model_module_version": "1.5.0",
      "model_name": "DescriptionStyleModel",
      "state": {
       "description_width": ""
      }
     },
     "f6053092956048f0ab0c5fecff85febc": {
      "model_module": "@jupyter-widgets/controls",
      "model_module_version": "1.5.0",
      "model_name": "DescriptionStyleModel",
      "state": {
       "description_width": ""
      }
     },
     "f63227bdcc7d40379f0e1532dd70bc06": {
      "model_module": "@jupyter-widgets/base",
      "model_module_version": "1.2.0",
      "model_name": "LayoutModel",
      "state": {}
     },
     "f68570584efc4aaf81722fda2bfe3489": {
      "model_module": "@jupyter-widgets/base",
      "model_module_version": "1.2.0",
      "model_name": "LayoutModel",
      "state": {}
     },
     "f685a42b7a294a5494456dc883fc1e63": {
      "model_module": "@jupyter-widgets/controls",
      "model_module_version": "1.5.0",
      "model_name": "ButtonStyleModel",
      "state": {}
     },
     "f68dab3a4dea4e1784aa42e616cc3479": {
      "model_module": "@jupyter-widgets/controls",
      "model_module_version": "1.5.0",
      "model_name": "HTMLModel",
      "state": {
       "layout": "IPY_MODEL_ff124feb102d4bf9bf448b7f65f85f7f",
       "style": "IPY_MODEL_8625364cc1654ef2ad4123a04d2c4c9e",
       "value": "<h4 style=\"font-size:14px;\">Um welchen Parser handelt es sich?</h4>"
      }
     },
     "f6b851c144854baabbec2024efd36b78": {
      "model_module": "@jupyter-widgets/base",
      "model_module_version": "1.2.0",
      "model_name": "LayoutModel",
      "state": {}
     },
     "f6bba0265c6b40f6886c0d907f607e91": {
      "model_module": "@jupyter-widgets/base",
      "model_module_version": "1.2.0",
      "model_name": "LayoutModel",
      "state": {
       "justify_content": "center"
      }
     },
     "f6bf8e44cb08496487652270ca960af4": {
      "model_module": "@jupyter-widgets/controls",
      "model_module_version": "1.5.0",
      "model_name": "HTMLModel",
      "state": {
       "layout": "IPY_MODEL_99086864bcd1484eb059978fbc1c5a62",
       "style": "IPY_MODEL_2891700e147b4b1f80ab54500a111205",
       "value": "<i>Wählen Sie die <ins>eine</ins> korrekte Antwort aus: </i>"
      }
     },
     "f70fdc11ef2f41c888e2426740b0cc0b": {
      "model_module": "@jupyter-widgets/base",
      "model_module_version": "1.2.0",
      "model_name": "LayoutModel",
      "state": {
       "width": "250px"
      }
     },
     "f7b02886fb2d44338a98e529ffab3641": {
      "model_module": "@jupyter-widgets/base",
      "model_module_version": "1.2.0",
      "model_name": "LayoutModel",
      "state": {}
     },
     "f7fd73c752814e24a072490d7724bf91": {
      "model_module": "@jupyter-widgets/base",
      "model_module_version": "1.2.0",
      "model_name": "LayoutModel",
      "state": {
       "width": "250px"
      }
     },
     "f811557531e04a3599c609fba2fdf0e6": {
      "model_module": "@jupyter-widgets/controls",
      "model_module_version": "1.5.0",
      "model_name": "ButtonModel",
      "state": {
       "description": "Korrekt?",
       "layout": "IPY_MODEL_cdf63774abb940b58746c8095b4ff1a8",
       "style": "IPY_MODEL_ef9cd337ac8b41f0b09b9bd53901af86"
      }
     },
     "f82b7bcd4c144ad29448a255bf9938bd": {
      "model_module": "@jupyter-widgets/controls",
      "model_module_version": "1.5.0",
      "model_name": "ButtonModel",
      "state": {
       "description": "Shift",
       "layout": "IPY_MODEL_1c38360912b04cfe920dec9bef76acd0",
       "style": "IPY_MODEL_a666219a0155403283828c67b334b8c7"
      }
     },
     "f8691f870c474a788479362039740a65": {
      "model_module": "@jupyter-widgets/controls",
      "model_module_version": "1.5.0",
      "model_name": "ButtonModel",
      "state": {
       "description": "Predict",
       "layout": "IPY_MODEL_7a996264d66f40019e48e0c777a11fe9",
       "style": "IPY_MODEL_a892d85da27a47d79dadb5d422563ee0"
      }
     },
     "f8a60b442af340d0826714eb47d8adf1": {
      "model_module": "@jupyter-widgets/controls",
      "model_module_version": "1.5.0",
      "model_name": "ButtonModel",
      "state": {
       "description": "Earley",
       "layout": "IPY_MODEL_a85ce85cbb7f48c291e71e289001992d",
       "style": "IPY_MODEL_0bb61ad21ecf4271a2dc4947efcf0dd4"
      }
     },
     "f8cc2f4d8c534c5fa3fb86fafa621f7a": {
      "model_module": "@jupyter-widgets/controls",
      "model_module_version": "1.5.0",
      "model_name": "ButtonStyleModel",
      "state": {}
     },
     "f8d7b5264a5146f7923bf21c190db5e8": {
      "model_module": "@jupyter-widgets/controls",
      "model_module_version": "1.5.0",
      "model_name": "DescriptionStyleModel",
      "state": {
       "description_width": ""
      }
     },
     "f902b52b605b4a82a3b2a560a85af6ba": {
      "model_module": "@jupyter-widgets/controls",
      "model_module_version": "1.5.0",
      "model_name": "ButtonStyleModel",
      "state": {}
     },
     "f9489e494bb94ebab63665945f32184b": {
      "model_module": "@jupyter-widgets/base",
      "model_module_version": "1.2.0",
      "model_name": "LayoutModel",
      "state": {}
     },
     "f974bc5e118b4d97918031655dea96df": {
      "model_module": "@jupyter-widgets/controls",
      "model_module_version": "1.5.0",
      "model_name": "ButtonStyleModel",
      "state": {}
     },
     "f979634b494a4d138f34eeb51540fcde": {
      "model_module": "@jupyter-widgets/controls",
      "model_module_version": "1.5.0",
      "model_name": "HBoxModel",
      "state": {
       "children": [
        "IPY_MODEL_cc35acb3e78341ff93bca6d3a190f3a6",
        "IPY_MODEL_1947f88e617f4693bc3c7d90864ba252"
       ],
       "layout": "IPY_MODEL_e35c7b655a644c16af7a098ec3cc8467"
      }
     },
     "f979b80eaec44c70bfbc78bc4b1f1899": {
      "model_module": "@jupyter-widgets/base",
      "model_module_version": "1.2.0",
      "model_name": "LayoutModel",
      "state": {}
     },
     "f99267e12762431fbca1c70bc39fb70f": {
      "model_module": "@jupyter-widgets/base",
      "model_module_version": "1.2.0",
      "model_name": "LayoutModel",
      "state": {
       "width": "250px"
      }
     },
     "f998401284984a0b9bc51aca66efb83c": {
      "model_module": "@jupyter-widgets/base",
      "model_module_version": "1.2.0",
      "model_name": "LayoutModel",
      "state": {
       "justify_content": "center"
      }
     },
     "fa160d77bcfe4e24921267209eee9ed6": {
      "model_module": "@jupyter-widgets/controls",
      "model_module_version": "1.5.0",
      "model_name": "ButtonModel",
      "state": {
       "description": "Complete",
       "layout": "IPY_MODEL_ba64c69a80374c7c9f3018d15053850a",
       "style": "IPY_MODEL_335201f6dafe41aa8d800613433e9f2b"
      }
     },
     "fa59a74639474d7b8db404774ae9f65d": {
      "model_module": "@jupyter-widgets/controls",
      "model_module_version": "1.5.0",
      "model_name": "HBoxModel",
      "state": {
       "children": [
        "IPY_MODEL_ee92c79a4a324d2fbf5fbe99fdb66640",
        "IPY_MODEL_41b354167d4c4f6a8990ed9dd8ae84e0"
       ],
       "layout": "IPY_MODEL_838f8b6361f94588be8511af3fbe818f"
      }
     },
     "fa9b16d524d24eaba833265120ce21b0": {
      "model_module": "@jupyter-widgets/controls",
      "model_module_version": "1.5.0",
      "model_name": "ButtonModel",
      "state": {
       "description": "Shift",
       "layout": "IPY_MODEL_9f35f27f292148debd3fdb5b98ff34c7",
       "style": "IPY_MODEL_dd37f970b0ce41bf80d0f1753dcd580d"
      }
     },
     "faba08e961914a3f88dc7428a664f15c": {
      "model_module": "@jupyter-widgets/controls",
      "model_module_version": "1.5.0",
      "model_name": "HBoxModel",
      "state": {
       "children": [
        "IPY_MODEL_629b0bc3324147189c7e80c506d7a79e",
        "IPY_MODEL_6a256937c4bd40f4b836271fc31e9483"
       ],
       "layout": "IPY_MODEL_1a7dbfb6b9264f60968ecbae431692c8"
      }
     },
     "fae54750a22c426b8dd54d6d9539c838": {
      "model_module": "@jupyter-widgets/controls",
      "model_module_version": "1.5.0",
      "model_name": "HBoxModel",
      "state": {
       "children": [
        "IPY_MODEL_fdc5531788484f9c97b711ba1d44d90a",
        "IPY_MODEL_ee328405f0584e98950fbd5aa76125c9"
       ],
       "layout": "IPY_MODEL_5c0d90b707584a58bb56c7116bbb5fe6"
      }
     },
     "fb3af2aaf79f4ace9c70403047b8c73d": {
      "model_module": "@jupyter-widgets/controls",
      "model_module_version": "1.5.0",
      "model_name": "VBoxModel",
      "state": {
       "children": [
        "IPY_MODEL_3e8f93f2bd5142f7a18a33886dd43764",
        "IPY_MODEL_8c32891a207e4bda96bd2b2d417f250b",
        "IPY_MODEL_ca1aa84d53ce41b285f43b27b07c2643",
        "IPY_MODEL_bc1671e1811e46d491396a56c173662a",
        "IPY_MODEL_d29673602b194cd398499293fcae93f0"
       ],
       "layout": "IPY_MODEL_f6b851c144854baabbec2024efd36b78"
      }
     },
     "fb5e7359fd5146deab6bc932b8217bb0": {
      "model_module": "@jupyter-widgets/base",
      "model_module_version": "1.2.0",
      "model_name": "LayoutModel",
      "state": {}
     },
     "fb642dbe94524bd6a1eff8469bcaa8ca": {
      "model_module": "@jupyter-widgets/controls",
      "model_module_version": "1.5.0",
      "model_name": "HBoxModel",
      "state": {
       "children": [
        "IPY_MODEL_d02e296be9d94e2dbe3fffe27f435817"
       ],
       "layout": "IPY_MODEL_3dc47357c181495392211a1e6796d262"
      }
     },
     "fbb99366ecc9449dbd117f0b377c6afa": {
      "model_module": "@jupyter-widgets/base",
      "model_module_version": "1.2.0",
      "model_name": "LayoutModel",
      "state": {
       "width": "250px"
      }
     },
     "fbd5fc7133b8442d9eebd975d0c32869": {
      "model_module": "@jupyter-widgets/controls",
      "model_module_version": "1.5.0",
      "model_name": "HTMLModel",
      "state": {
       "layout": "IPY_MODEL_d4aaaa336f234b99b045bd1a66cbdd86",
       "style": "IPY_MODEL_44176f38835a4de0befc36c08683141a",
       "value": "<i>Wählen Sie die <ins>eine</ins> korrekte Antwort aus: </i>"
      }
     },
     "fbf9d8a6ae3b4955b863aef64fc258bc": {
      "model_module": "@jupyter-widgets/controls",
      "model_module_version": "1.5.0",
      "model_name": "ButtonStyleModel",
      "state": {}
     },
     "fbf9e85a293345dfa0997da6cb1f5c1d": {
      "model_module": "@jupyter-widgets/base",
      "model_module_version": "1.2.0",
      "model_name": "LayoutModel",
      "state": {}
     },
     "fc7867ccb01b45e88ef6932e111d8fd9": {
      "model_module": "@jupyter-widgets/controls",
      "model_module_version": "1.5.0",
      "model_name": "CheckboxModel",
      "state": {
       "description": "Complete",
       "disabled": false,
       "layout": "IPY_MODEL_2f4d9052135e42a9996e01dd1d43cb9b",
       "style": "IPY_MODEL_2d7327148b78470985ec53a00e5a2d64",
       "value": false
      }
     },
     "fc943824bb86409ba85e46dd11eee6c0": {
      "model_module": "@jupyter-widgets/controls",
      "model_module_version": "1.5.0",
      "model_name": "HTMLModel",
      "state": {
       "layout": "IPY_MODEL_f41ae06c0e0c4f9eb1a2bab3f25f2aa3",
       "style": "IPY_MODEL_29663cfc37714da29c667331e6d719f6",
       "value": "<i>Wählen Sie die <ins>eine</ins> korrekte Antwort aus: </i>"
      }
     },
     "fc96f23c21f2402e822a8f3edbfaab6a": {
      "model_module": "@jupyter-widgets/base",
      "model_module_version": "1.2.0",
      "model_name": "LayoutModel",
      "state": {}
     },
     "fcb0236b37304ffdad8549751db6aae0": {
      "model_module": "@jupyter-widgets/controls",
      "model_module_version": "1.5.0",
      "model_name": "CheckboxModel",
      "state": {
       "description": "Reduce",
       "disabled": false,
       "layout": "IPY_MODEL_49cb496b0d5949a58fb3d0e0defae6f1",
       "style": "IPY_MODEL_e65db87429d24d9da4d08da4ebcd66b9",
       "value": false
      }
     },
     "fcb3f47dbb53405bb3b483a98079d02c": {
      "model_module": "@jupyter-widgets/controls",
      "model_module_version": "1.5.0",
      "model_name": "HBoxModel",
      "state": {
       "children": [
        "IPY_MODEL_f08de5729d3b405b9c9f98b4bc4b4d45",
        "IPY_MODEL_49a9cf7278844b17b29a06f0a1ad24b9"
       ],
       "layout": "IPY_MODEL_ef09fb00a02144e2a9d1cce43559791a"
      }
     },
     "fcefd70e601348a4979e8b734c832cd8": {
      "model_module": "@jupyter-widgets/controls",
      "model_module_version": "1.5.0",
      "model_name": "CheckboxModel",
      "state": {
       "description": "Shift",
       "disabled": false,
       "layout": "IPY_MODEL_8ed4a8986ce7460287f94a9b26c454f8",
       "style": "IPY_MODEL_287e1c75db0a4cecaaf47f67937cd10a",
       "value": false
      }
     },
     "fd100c3c6e3f4a8f8efea2f3c2f36468": {
      "model_module": "@jupyter-widgets/controls",
      "model_module_version": "1.5.0",
      "model_name": "ButtonModel",
      "state": {
       "description": "Korrekt?",
       "layout": "IPY_MODEL_028c3b089db744cba3053c571264ed85",
       "style": "IPY_MODEL_5b9fb336e03543b7bc9934bd736c0c94"
      }
     },
     "fd3cc79703e9435da2dc3e5b823d06a4": {
      "model_module": "@jupyter-widgets/controls",
      "model_module_version": "1.5.0",
      "model_name": "ButtonStyleModel",
      "state": {}
     },
     "fd5b8031066347d2a7934c86fea02ce5": {
      "model_module": "@jupyter-widgets/controls",
      "model_module_version": "1.5.0",
      "model_name": "DescriptionStyleModel",
      "state": {
       "description_width": ""
      }
     },
     "fd77bdc3fb5d4589a26b2d1236289bc9": {
      "model_module": "@jupyter-widgets/base",
      "model_module_version": "1.2.0",
      "model_name": "LayoutModel",
      "state": {
       "width": "250px"
      }
     },
     "fd92583f267a4110a7979d1e9b68bbe2": {
      "model_module": "@jupyter-widgets/controls",
      "model_module_version": "1.5.0",
      "model_name": "ButtonModel",
      "state": {
       "description": "Keine der Alternativen",
       "layout": "IPY_MODEL_eab3dda12b784e2ea84a882f5bb518fa",
       "style": "IPY_MODEL_bcdc5de53a3d4fe094139afbf10f0349"
      }
     },
     "fdb835a4024e4bf68d0a1e87c01f3b38": {
      "model_module": "@jupyter-widgets/base",
      "model_module_version": "1.2.0",
      "model_name": "LayoutModel",
      "state": {
       "width": "250px"
      }
     },
     "fdc5531788484f9c97b711ba1d44d90a": {
      "model_module": "@jupyter-widgets/controls",
      "model_module_version": "1.5.0",
      "model_name": "ButtonModel",
      "state": {
       "description": "Earley",
       "layout": "IPY_MODEL_0c05fcf530654f289ce656a0fc1378b5",
       "style": "IPY_MODEL_326664c3c7784b4ab5b2f30592796a4e"
      }
     },
     "fdfdccce7db641b08e3e64ea52a73e61": {
      "model_module": "@jupyter-widgets/base",
      "model_module_version": "1.2.0",
      "model_name": "LayoutModel",
      "state": {}
     },
     "fe0336e2c30849e29ac21086e4cad544": {
      "model_module": "@jupyter-widgets/controls",
      "model_module_version": "1.5.0",
      "model_name": "VBoxModel",
      "state": {
       "children": [
        "IPY_MODEL_d5ffc6c571904d9782941de215741855",
        "IPY_MODEL_8d48be06821f4b97bf06c35ee836de41",
        "IPY_MODEL_14984011c07f41ddb54e6642a7529723",
        "IPY_MODEL_5677e0e3ef9e46c8b08e430dcedf4811",
        "IPY_MODEL_69b9908d4bee4b41a99d4bc2b05c21ce"
       ],
       "layout": "IPY_MODEL_4654dd90f173418eb4e78090bec9bb4e"
      }
     },
     "fe1ff64f23a84665b5060e59e737c6a1": {
      "model_module": "@jupyter-widgets/controls",
      "model_module_version": "1.5.0",
      "model_name": "HBoxModel",
      "state": {
       "children": [
        "IPY_MODEL_a14a2ede1f4a49efb3a07ca1bdad5bda",
        "IPY_MODEL_d235e81783864d0898c05bbcc3fc318b"
       ],
       "layout": "IPY_MODEL_7844571a475245b4881d85cd31a93a4c"
      }
     },
     "fe6d9d27737d414fb4aad9cc2a71b882": {
      "model_module": "@jupyter-widgets/controls",
      "model_module_version": "1.5.0",
      "model_name": "ButtonStyleModel",
      "state": {}
     },
     "fe71993cccdb4a56a20878e7b97d261c": {
      "model_module": "@jupyter-widgets/base",
      "model_module_version": "1.2.0",
      "model_name": "LayoutModel",
      "state": {
       "width": "250px"
      }
     },
     "fec75e6fd4bc430e9af4b114520911c4": {
      "model_module": "@jupyter-widgets/controls",
      "model_module_version": "1.5.0",
      "model_name": "HBoxModel",
      "state": {
       "children": [
        "IPY_MODEL_6f377041ff9f4cee8bf600bf483f82bb",
        "IPY_MODEL_859d1b1660e04d88947ca222d242ad3c"
       ],
       "layout": "IPY_MODEL_b42810ece5ac40109557b6df537dc982"
      }
     },
     "fed1a5ae4520485e8701dcafaf339877": {
      "model_module": "@jupyter-widgets/base",
      "model_module_version": "1.2.0",
      "model_name": "LayoutModel",
      "state": {}
     },
     "ff124feb102d4bf9bf448b7f65f85f7f": {
      "model_module": "@jupyter-widgets/base",
      "model_module_version": "1.2.0",
      "model_name": "LayoutModel",
      "state": {
       "justify_content": "center"
      }
     },
     "ff1d9ba35d0d41e0aee7991b66cf86b0": {
      "model_module": "@jupyter-widgets/base",
      "model_module_version": "1.2.0",
      "model_name": "LayoutModel",
      "state": {}
     },
     "ff2e063bba794aa9bc54990e60b91bee": {
      "model_module": "@jupyter-widgets/controls",
      "model_module_version": "1.5.0",
      "model_name": "ButtonStyleModel",
      "state": {}
     },
     "ff43595a315d42799c583e23a24de73c": {
      "model_module": "@jupyter-widgets/controls",
      "model_module_version": "1.5.0",
      "model_name": "ButtonStyleModel",
      "state": {}
     },
     "ff459a834c9b46a3a4239c2db9ebb32b": {
      "model_module": "@jupyter-widgets/controls",
      "model_module_version": "1.5.0",
      "model_name": "HBoxModel",
      "state": {
       "children": [
        "IPY_MODEL_4161a96739354e828f7d4c39b28fafc6",
        "IPY_MODEL_4162fcc7a08b4e529f1b8ed8180972bc"
       ],
       "layout": "IPY_MODEL_a25d6c26e1334a71838268408d38172e"
      }
     },
     "ff4977ba24e14a85b245483851935522": {
      "model_module": "@jupyter-widgets/base",
      "model_module_version": "1.2.0",
      "model_name": "LayoutModel",
      "state": {}
     },
     "ff53cc83b9bd4d17996c4418d692e260": {
      "model_module": "@jupyter-widgets/controls",
      "model_module_version": "1.5.0",
      "model_name": "ButtonStyleModel",
      "state": {}
     },
     "ff81b310ad544488bde3dc5c80e0aa12": {
      "model_module": "@jupyter-widgets/controls",
      "model_module_version": "1.5.0",
      "model_name": "ButtonStyleModel",
      "state": {}
     },
     "ff9378a71a5a4c0f823f3e927821b230": {
      "model_module": "@jupyter-widgets/controls",
      "model_module_version": "1.5.0",
      "model_name": "VBoxModel",
      "state": {
       "children": [
        "IPY_MODEL_635024bfed2f41ae94d5f90c7ce5b516",
        "IPY_MODEL_0e9f14713f0c45b39e276bce3b792a7a",
        "IPY_MODEL_3663185fcbc349a681dc82cec2a39e22",
        "IPY_MODEL_bb752a159a9e4aca9736657e88e1946b"
       ],
       "layout": "IPY_MODEL_2a5ce81803a34f76aa134b1c2906eed1"
      }
     }
    },
    "version_major": 2,
    "version_minor": 0
   }
  }
 },
 "nbformat": 4,
 "nbformat_minor": 2
}
