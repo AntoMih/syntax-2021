{
 "cells": [
  {
   "cell_type": "markdown",
   "metadata": {},
   "source": [
    "***Vorlesung 'Syntax natürlicher Sprachen', WS 2020/21***\n",
    "\n",
    "---\n",
    "# Übung 9 (Lösung)"
   ]
  },
  {
   "cell_type": "code",
   "execution_count": 1,
   "metadata": {},
   "outputs": [],
   "source": [
    "from exercises_9 import *\n",
    "from questions import aufgabe\n",
    "from nltk.tree import Tree\n",
    "import nltk\n",
    "import sys"
   ]
  },
  {
   "cell_type": "markdown",
   "metadata": {},
   "source": [
    "---\n",
    "\n",
    "## Aufgabe 1: Parsing-Algorithmen\n",
    "\n",
    "#### Gegeben sei folgende kontextfreie Grammatik:"
   ]
  },
  {
   "cell_type": "code",
   "execution_count": 2,
   "metadata": {},
   "outputs": [],
   "source": [
    "grammar = nltk.CFG.fromstring(\"\"\"\n",
    "S -> NP VP\n",
    "\n",
    "NP  -> DET NOM\n",
    "NOM -> ADJ NOM | N\n",
    "\n",
    "ADJ -> \"schöne\" | \"kluge\" | \"dicke\"\n",
    "DET -> \"der\" | \"die\" | \"das\"\n",
    "N   -> \"Mann\" | \"Frau\" | \"Buch\"\n",
    "\n",
    "VP -> V NP NP | V NP | V\n",
    "V  -> \"gibt\" | \"schenkt\" | \"schläft\" | \"gefällt\" | \"kennt\"\n",
    "\"\"\")"
   ]
  },
  {
   "cell_type": "markdown",
   "metadata": {},
   "source": [
    "#### Parsen Sie jeweils alle unten angegebenen Sätze mit jedem der folgenden Parsing-Algorithmen. Bei der Auswahl von Regeln soll immer von oben nach unten und (bei Alternativen) von links nach rechts vorgegangen werden.\n",
    "\n",
    "a) Recursive Descent <br>\n",
    "b) Shift Reduce <br>\n",
    "c) Earley Algorithmus <br>\n",
    "\n",
    "    1. Der Mann gibt der Frau das Buch.\n",
    "    2. Die kluge Frau kennt das dicke Buch.\n",
    "    3. Der Mann schläft."
   ]
  },
  {
   "cell_type": "code",
   "execution_count": 3,
   "metadata": {},
   "outputs": [],
   "source": [
    "####Lösung für den kürzesten Satz (Rest: analog) mit nltk-Parsern und trace-output:\n"
   ]
  },
  {
   "cell_type": "markdown",
   "metadata": {},
   "source": [
    "--- \n",
    "##### Lösung mit Recursive-Descent-Parser:"
   ]
  },
  {
   "cell_type": "code",
   "execution_count": 4,
   "metadata": {
    "scrolled": false
   },
   "outputs": [
    {
     "name": "stdout",
     "output_type": "stream",
     "text": [
      "Parsing 'der Mann schläft'\n",
      "Start:\n",
      "    [ * S ]\n",
      "Expand: S -> NP VP\n",
      "    [ * NP VP ]\n",
      "Expand: NP -> DET NOM\n",
      "    [ * DET NOM VP ]\n",
      "Expand: DET -> 'der'\n",
      "    [ * 'der' NOM VP ]\n",
      "Match: 'der'\n",
      "    [ 'der' * NOM VP ]\n",
      "Expand: NOM -> ADJ NOM\n",
      "    [ 'der' * ADJ NOM VP ]\n",
      "Expand: ADJ -> 'schöne'\n",
      "    [ 'der' * 'schöne' NOM VP ]\n",
      "Backtrack: 'Mann' match failed\n",
      "Expand: ADJ -> 'kluge'\n",
      "    [ 'der' * 'kluge' NOM VP ]\n",
      "Backtrack: 'Mann' match failed\n",
      "Expand: ADJ -> 'dicke'\n",
      "    [ 'der' * 'dicke' NOM VP ]\n",
      "Backtrack: 'Mann' match failed\n",
      "Expand: NOM -> N\n",
      "    [ 'der' * N VP ]\n",
      "Expand: N -> 'Mann'\n",
      "    [ 'der' * 'Mann' VP ]\n",
      "Match: 'Mann'\n",
      "    [ 'der' 'Mann' * VP ]\n",
      "Expand: VP -> V NP NP\n",
      "    [ 'der' 'Mann' * V NP NP ]\n",
      "Expand: V -> 'gibt'\n",
      "    [ 'der' 'Mann' * 'gibt' NP NP ]\n",
      "Backtrack: 'schläft' match failed\n",
      "Expand: V -> 'schenkt'\n",
      "    [ 'der' 'Mann' * 'schenkt' NP NP ]\n",
      "Backtrack: 'schläft' match failed\n",
      "Expand: V -> 'schläft'\n",
      "    [ 'der' 'Mann' * 'schläft' NP NP ]\n",
      "Match: 'schläft'\n",
      "    [ 'der' 'Mann' 'schläft' * NP NP ]\n",
      "Expand: NP -> DET NOM\n",
      "    [ 'der' 'Mann' 'schläft' * DET NOM NP ]\n",
      "Expand: DET -> 'der'\n",
      "    [ 'der' 'Mann' 'schläft' * 'der' NOM NP ]\n",
      "Backtrack\n",
      "Expand: DET -> 'die'\n",
      "    [ 'der' 'Mann' 'schläft' * 'die' NOM NP ]\n",
      "Backtrack\n",
      "Expand: DET -> 'das'\n",
      "    [ 'der' 'Mann' 'schläft' * 'das' NOM NP ]\n",
      "Backtrack\n",
      "Expand: V -> 'gefällt'\n",
      "    [ 'der' 'Mann' * 'gefällt' NP NP ]\n",
      "Backtrack: 'schläft' match failed\n",
      "Expand: V -> 'kennt'\n",
      "    [ 'der' 'Mann' * 'kennt' NP NP ]\n",
      "Backtrack: 'schläft' match failed\n",
      "Expand: VP -> V NP\n",
      "    [ 'der' 'Mann' * V NP ]\n",
      "Expand: V -> 'gibt'\n",
      "    [ 'der' 'Mann' * 'gibt' NP ]\n",
      "Backtrack: 'schläft' match failed\n",
      "Expand: V -> 'schenkt'\n",
      "    [ 'der' 'Mann' * 'schenkt' NP ]\n",
      "Backtrack: 'schläft' match failed\n",
      "Expand: V -> 'schläft'\n",
      "    [ 'der' 'Mann' * 'schläft' NP ]\n",
      "Match: 'schläft'\n",
      "    [ 'der' 'Mann' 'schläft' * NP ]\n",
      "Expand: NP -> DET NOM\n",
      "    [ 'der' 'Mann' 'schläft' * DET NOM ]\n",
      "Expand: DET -> 'der'\n",
      "    [ 'der' 'Mann' 'schläft' * 'der' NOM ]\n",
      "Backtrack\n",
      "Expand: DET -> 'die'\n",
      "    [ 'der' 'Mann' 'schläft' * 'die' NOM ]\n",
      "Backtrack\n",
      "Expand: DET -> 'das'\n",
      "    [ 'der' 'Mann' 'schläft' * 'das' NOM ]\n",
      "Backtrack\n",
      "Expand: V -> 'gefällt'\n",
      "    [ 'der' 'Mann' * 'gefällt' NP ]\n",
      "Backtrack: 'schläft' match failed\n",
      "Expand: V -> 'kennt'\n",
      "    [ 'der' 'Mann' * 'kennt' NP ]\n",
      "Backtrack: 'schläft' match failed\n",
      "Expand: VP -> V\n",
      "    [ 'der' 'Mann' * V ]\n",
      "Expand: V -> 'gibt'\n",
      "    [ 'der' 'Mann' * 'gibt' ]\n",
      "Backtrack: 'schläft' match failed\n",
      "Expand: V -> 'schenkt'\n",
      "    [ 'der' 'Mann' * 'schenkt' ]\n",
      "Backtrack: 'schläft' match failed\n",
      "Expand: V -> 'schläft'\n",
      "    [ 'der' 'Mann' * 'schläft' ]\n",
      "Match: 'schläft'\n",
      "    [ 'der' 'Mann' 'schläft' ]\n",
      "GOOD PARSE:\n",
      "    [ 'der' 'Mann' 'schläft' ]\n",
      "         S          \n",
      "     ┌───┴──────┐    \n",
      "     NP         │   \n",
      " ┌───┴───┐      │    \n",
      " │      NOM     VP  \n",
      " │       │      │    \n",
      "DET      N      V   \n",
      " │       │      │    \n",
      "der     Mann schläft\n",
      "\n",
      "Expand: V -> 'gefällt'\n",
      "    [ 'der' 'Mann' * 'gefällt' ]\n",
      "Backtrack: 'schläft' match failed\n",
      "Expand: V -> 'kennt'\n",
      "    [ 'der' 'Mann' * 'kennt' ]\n",
      "Backtrack: 'schläft' match failed\n",
      "Expand: N -> 'Frau'\n",
      "    [ 'der' * 'Frau' VP ]\n",
      "Backtrack: 'Mann' match failed\n",
      "Expand: N -> 'Buch'\n",
      "    [ 'der' * 'Buch' VP ]\n",
      "Backtrack: 'Mann' match failed\n",
      "Expand: DET -> 'die'\n",
      "    [ * 'die' NOM VP ]\n",
      "Backtrack: 'der' match failed\n",
      "Expand: DET -> 'das'\n",
      "    [ * 'das' NOM VP ]\n",
      "Backtrack: 'der' match failed\n"
     ]
    }
   ],
   "source": [
    "##Recursive Descent Parser:\n",
    "from nltk.tree import Tree\n",
    "parser = nltk.RecursiveDescentParser(grammar, trace=3)\n",
    "sent = 'der Mann schläft'.split()\n",
    "for tree in parser.parse(sent):\n",
    "    tree.pretty_print(unicodelines=True)"
   ]
  },
  {
   "cell_type": "markdown",
   "metadata": {},
   "source": [
    "--- \n",
    "##### Lösung mit Shift-Reduce-Parser:"
   ]
  },
  {
   "cell_type": "code",
   "execution_count": 5,
   "metadata": {},
   "outputs": [
    {
     "name": "stdout",
     "output_type": "stream",
     "text": [
      "Warning: VP -> V NP NP will never be used\n",
      "Warning: VP -> V NP NP will never be used\n",
      "Warning: VP -> V NP will never be used\n",
      "Parsing 'der Mann schläft'\n",
      "    [ * der Mann schläft]\n",
      "  S [ 'der' * Mann schläft]\n",
      "  R [ DET * Mann schläft]\n",
      "  S [ DET 'Mann' * schläft]\n",
      "  R [ DET N * schläft]\n",
      "  R [ DET NOM * schläft]\n",
      "  R [ NP * schläft]\n",
      "  S [ NP 'schläft' * ]\n",
      "  R [ NP V * ]\n",
      "  R [ NP VP * ]\n",
      "  R [ S * ]\n",
      "         S          \n",
      "     ┌───┴──────┐    \n",
      "     NP         │   \n",
      " ┌───┴───┐      │    \n",
      " │      NOM     VP  \n",
      " │       │      │    \n",
      "DET      N      V   \n",
      " │       │      │    \n",
      "der     Mann schläft\n",
      "\n"
     ]
    }
   ],
   "source": [
    "##Shift Reduce Parser:\n",
    "from nltk.tree import Tree\n",
    "parser = nltk.ShiftReduceParser(grammar, trace=2)\n",
    "sent = 'der Mann schläft'.split()\n",
    "for tree in parser.parse(sent):\n",
    "    tree.pretty_print(unicodelines=True)"
   ]
  },
  {
   "cell_type": "markdown",
   "metadata": {},
   "source": [
    "--- \n",
    "##### Lösung mit Earley-Parser:"
   ]
  },
  {
   "cell_type": "code",
   "execution_count": 6,
   "metadata": {},
   "outputs": [
    {
     "name": "stdout",
     "output_type": "stream",
     "text": [
      "|.    der    .    Mann   .  schläft  .|\n",
      "|[-----------]           .           .| [0:1] 'der'\n",
      "|.           [-----------]           .| [1:2] 'Mann'\n",
      "|.           .           [-----------]| [2:3] 'schläft'\n",
      "|>           .           .           .| [0:0] S  -> * NP VP\n",
      "|>           .           .           .| [0:0] NP -> * DET NOM\n",
      "|>           .           .           .| [0:0] DET -> * 'der'\n",
      "|[-----------]           .           .| [0:1] DET -> 'der' *\n",
      "|[----------->           .           .| [0:1] NP -> DET * NOM\n",
      "|.           >           .           .| [1:1] NOM -> * ADJ NOM\n",
      "|.           >           .           .| [1:1] NOM -> * N\n",
      "|.           >           .           .| [1:1] N  -> * 'Mann'\n",
      "|.           [-----------]           .| [1:2] N  -> 'Mann' *\n",
      "|.           [-----------]           .| [1:2] NOM -> N *\n",
      "|[-----------------------]           .| [0:2] NP -> DET NOM *\n",
      "|[----------------------->           .| [0:2] S  -> NP * VP\n",
      "|.           .           >           .| [2:2] VP -> * V NP NP\n",
      "|.           .           >           .| [2:2] VP -> * V NP\n",
      "|.           .           >           .| [2:2] VP -> * V\n",
      "|.           .           >           .| [2:2] V  -> * 'schläft'\n",
      "|.           .           [-----------]| [2:3] V  -> 'schläft' *\n",
      "|.           .           [----------->| [2:3] VP -> V * NP NP\n",
      "|.           .           [----------->| [2:3] VP -> V * NP\n",
      "|.           .           [-----------]| [2:3] VP -> V *\n",
      "|[===================================]| [0:3] S  -> NP VP *\n",
      "|.           .           .           >| [3:3] NP -> * DET NOM\n",
      "         S          \n",
      "     ┌───┴──────┐    \n",
      "     NP         │   \n",
      " ┌───┴───┐      │    \n",
      " │      NOM     VP  \n",
      " │       │      │    \n",
      "DET      N      V   \n",
      " │       │      │    \n",
      "der     Mann schläft\n",
      "\n"
     ]
    }
   ],
   "source": [
    "## Earley Parser:\n",
    "\n",
    "from nltk.tree import Tree\n",
    "parser = nltk.EarleyChartParser(grammar, trace=1)\n",
    "sent = 'der Mann schläft'.split()\n",
    "for tree in parser.parse(sent):\n",
    "    tree.pretty_print(unicodelines=True)"
   ]
  },
  {
   "cell_type": "code",
   "execution_count": 7,
   "metadata": {},
   "outputs": [
    {
     "name": "stdout",
     "output_type": "stream",
     "text": [
      "|.    der    .    Mann   .  schläft  .|\n",
      "Leaf Init Rule:\n",
      "|[-----------]           .           .| [0:1] 'der'\n",
      "|.           [-----------]           .| [1:2] 'Mann'\n",
      "|.           .           [-----------]| [2:3] 'schläft'\n",
      "Top Down Init Rule:\n",
      "|>           .           .           .| [0:0] S  -> * NP VP\n",
      "\n",
      "* Processing queue: 0 \n",
      "\n",
      "Predictor Rule:\n",
      "|>           .           .           .| [0:0] NP -> * DET NOM\n",
      "Predictor Rule:\n",
      "|>           .           .           .| [0:0] DET -> * 'der'\n",
      "\n",
      "* Processing queue: 1 \n",
      "\n",
      "Scanner Rule:\n",
      "|[-----------]           .           .| [0:1] DET -> 'der' *\n",
      "Completer Rule:\n",
      "|[----------->           .           .| [0:1] NP -> DET * NOM\n",
      "Predictor Rule:\n",
      "|.           >           .           .| [1:1] NOM -> * ADJ NOM\n",
      "|.           >           .           .| [1:1] NOM -> * N\n",
      "Predictor Rule:\n",
      "|.           >           .           .| [1:1] N  -> * 'Mann'\n",
      "\n",
      "* Processing queue: 2 \n",
      "\n",
      "Scanner Rule:\n",
      "|.           [-----------]           .| [1:2] N  -> 'Mann' *\n",
      "Completer Rule:\n",
      "|.           [-----------]           .| [1:2] NOM -> N *\n",
      "Completer Rule:\n",
      "|[-----------------------]           .| [0:2] NP -> DET NOM *\n",
      "Completer Rule:\n",
      "|[----------------------->           .| [0:2] S  -> NP * VP\n",
      "Predictor Rule:\n",
      "|.           .           >           .| [2:2] VP -> * V NP NP\n",
      "|.           .           >           .| [2:2] VP -> * V NP\n",
      "|.           .           >           .| [2:2] VP -> * V\n",
      "Predictor Rule:\n",
      "|.           .           >           .| [2:2] V  -> * 'schläft'\n",
      "\n",
      "* Processing queue: 3 \n",
      "\n",
      "Scanner Rule:\n",
      "|.           .           [-----------]| [2:3] V  -> 'schläft' *\n",
      "Completer Rule:\n",
      "|.           .           [----------->| [2:3] VP -> V * NP NP\n",
      "|.           .           [----------->| [2:3] VP -> V * NP\n",
      "|.           .           [-----------]| [2:3] VP -> V *\n",
      "Completer Rule:\n",
      "|[===================================]| [0:3] S  -> NP VP *\n",
      "Predictor Rule:\n",
      "|.           .           .           >| [3:3] NP -> * DET NOM\n",
      "         S          \n",
      "     ┌───┴──────┐    \n",
      "     NP         │   \n",
      " ┌───┴───┐      │    \n",
      " │      NOM     VP  \n",
      " │       │      │    \n",
      "DET      N      V   \n",
      " │       │      │    \n",
      "der     Mann schläft\n",
      "\n"
     ]
    }
   ],
   "source": [
    "## Earley Parser (mit ausführlicherem trace = 2):\n",
    "\n",
    "from nltk.tree import Tree\n",
    "rd_parser = nltk.EarleyChartParser(grammar, trace=2)\n",
    "sent = 'der Mann schläft'.split()\n",
    "for tree in rd_parser.parse(sent):\n",
    "    tree.pretty_print(unicodelines=True)"
   ]
  },
  {
   "cell_type": "markdown",
   "metadata": {},
   "source": [
    "--- \n",
    "# Hausaufgaben"
   ]
  },
  {
   "cell_type": "markdown",
   "metadata": {},
   "source": [
    "---\n",
    "## Aufgabe 2: Parsing-Algorithmen Reloaded\n",
    "\n",
    "#### Kombinationen von Algorithmus und Satz in Aufgabe 1, die während der Präsenzaufgaben nicht behandelt wurden, stellen zusätzliches Übungsmaterial dar.\n",
    "\n",
    "#### Bearbeiten Sie zusätzlich auch die folgenden interaktiven Aufgaben in a) und b)!"
   ]
  },
  {
   "cell_type": "markdown",
   "metadata": {},
   "source": [
    "---\n",
    "## Aufgabe 2 a)\n",
    "\n",
    "#### Welche Operationen stehen den verschiedenen Parsern zur Verfügung?"
   ]
  },
  {
   "cell_type": "code",
   "execution_count": 8,
   "metadata": {},
   "outputs": [
    {
     "data": {
      "application/vnd.jupyter.widget-view+json": {
       "model_id": "26b8a8e7c9d1454fba8747b11a9490f6",
       "version_major": 2,
       "version_minor": 0
      },
      "text/plain": [
       "MultipleChoice(children=(HTML(value='<h4 style=\"font-size:14px;\">Welche Operationen hat der Recursive Descent …"
      ]
     },
     "metadata": {},
     "output_type": "display_data"
    },
    {
     "data": {
      "application/vnd.jupyter.widget-view+json": {
       "model_id": "8af8916ecf694ae3bd74bff25dfcdb50",
       "version_major": 2,
       "version_minor": 0
      },
      "text/plain": [
       "MultipleChoice(children=(HTML(value='<h4 style=\"font-size:14px;\">Welche Operationen hat der Shift Reduce Parse…"
      ]
     },
     "metadata": {},
     "output_type": "display_data"
    },
    {
     "data": {
      "application/vnd.jupyter.widget-view+json": {
       "model_id": "4859874cb2a7485cb31ada945c5628de",
       "version_major": 2,
       "version_minor": 0
      },
      "text/plain": [
       "MultipleChoice(children=(HTML(value='<h4 style=\"font-size:14px;\">Welche Operationen hat der Earley Parser?</h4…"
      ]
     },
     "metadata": {},
     "output_type": "display_data"
    }
   ],
   "source": [
    "aufgabe(blatt9_2a)"
   ]
  },
  {
   "cell_type": "markdown",
   "metadata": {},
   "source": [
    "---\n",
    "### Aufgabe 2 b)\n",
    "\n",
    "#### Überlegen Sie für die folgenen Beispiele zu welchem Algorithmus diese gehören und was die nächste von diesem auszuführende Operation ist."
   ]
  },
  {
   "cell_type": "markdown",
   "metadata": {},
   "source": [
    "### Beispiel 1:\n",
    "\n",
    "$ Q_{0}$ : (S' -> * S, 0)"
   ]
  },
  {
   "cell_type": "code",
   "execution_count": 9,
   "metadata": {},
   "outputs": [
    {
     "data": {
      "application/vnd.jupyter.widget-view+json": {
       "model_id": "c90ee34c8eaa494497c7e944e75e3f4c",
       "version_major": 2,
       "version_minor": 0
      },
      "text/plain": [
       "SingleChoice(children=(HTML(value='<h4 style=\"font-size:14px;\">Um welchen Parser handelt es sich?</h4>', layou…"
      ]
     },
     "metadata": {},
     "output_type": "display_data"
    },
    {
     "data": {
      "application/vnd.jupyter.widget-view+json": {
       "model_id": "5f194f4eddf84c69878f7aab0a48e839",
       "version_major": 2,
       "version_minor": 0
      },
      "text/plain": [
       "SingleChoice(children=(HTML(value='<h4 style=\"font-size:14px;\">Welche Operation folgt als nächstes?</h4>', lay…"
      ]
     },
     "metadata": {},
     "output_type": "display_data"
    }
   ],
   "source": [
    "aufgabe(blatt9_2b_1)"
   ]
  },
  {
   "cell_type": "markdown",
   "metadata": {},
   "source": [
    "### Beispiel 2:\n",
    "\n",
    "#### Betrachen Sie den folgenden Baum zu dem Satz \"der Mann schläft\" und die entsprechenden Grammatikregeln von oben."
   ]
  },
  {
   "cell_type": "code",
   "execution_count": 10,
   "metadata": {},
   "outputs": [
    {
     "name": "stdout",
     "output_type": "stream",
     "text": [
      "         S     \n",
      "      ___|___   \n",
      "     NP      | \n",
      "  ___|___    |  \n",
      "DET     Nom  VP\n",
      " |       |   |  \n",
      "               \n",
      "\n"
     ]
    }
   ],
   "source": [
    "dep_tree = Tree(\n",
    "    \"S\",\n",
    "    [\n",
    "        Tree(\"NP\", [Tree(\"DET\",[\"\"]),Tree(\"Nom\", [\"\"])]),\n",
    "        Tree(\"VP\", [\"\"])    \n",
    "    ]\n",
    ")\n",
    "\n",
    "dep_tree.pretty_print()"
   ]
  },
  {
   "cell_type": "code",
   "execution_count": 11,
   "metadata": {},
   "outputs": [
    {
     "data": {
      "application/vnd.jupyter.widget-view+json": {
       "model_id": "9651150190da454f8955e12740f5f638",
       "version_major": 2,
       "version_minor": 0
      },
      "text/plain": [
       "SingleChoice(children=(HTML(value='<h4 style=\"font-size:14px;\">Um welchen Parser handelt es sich?</h4>', layou…"
      ]
     },
     "metadata": {},
     "output_type": "display_data"
    },
    {
     "data": {
      "application/vnd.jupyter.widget-view+json": {
       "model_id": "6d1a68d6c231488ea0d2073b7b6d863d",
       "version_major": 2,
       "version_minor": 0
      },
      "text/plain": [
       "SingleChoice(children=(HTML(value='<h4 style=\"font-size:14px;\">Welche Operation folgt als nächstes?</h4>', lay…"
      ]
     },
     "metadata": {},
     "output_type": "display_data"
    }
   ],
   "source": [
    "aufgabe(blatt9_2b_2)"
   ]
  },
  {
   "cell_type": "markdown",
   "metadata": {},
   "source": [
    "### Beispiel 3:\n",
    "\n",
    "\n",
    "#### Betrachen Sie den folgenden Ausschnitt der Zustandsmenge zu dem Satz \"der Mann schläft\" und die entsprechenden Grammatikregeln von oben.\n",
    "\n",
    "$ Q_{0}$ : (DET -> * der, 0)"
   ]
  },
  {
   "cell_type": "code",
   "execution_count": 12,
   "metadata": {},
   "outputs": [
    {
     "data": {
      "application/vnd.jupyter.widget-view+json": {
       "model_id": "b428207389e54550b59a2f91e936e512",
       "version_major": 2,
       "version_minor": 0
      },
      "text/plain": [
       "SingleChoice(children=(HTML(value='<h4 style=\"font-size:14px;\">Um welchen Parser handelt es sich?</h4>', layou…"
      ]
     },
     "metadata": {},
     "output_type": "display_data"
    },
    {
     "data": {
      "application/vnd.jupyter.widget-view+json": {
       "model_id": "45833bdb95fe4c669399ea3613c8e692",
       "version_major": 2,
       "version_minor": 0
      },
      "text/plain": [
       "SingleChoice(children=(HTML(value='<h4 style=\"font-size:14px;\">Welche Operation folgt als nächstes?</h4>', lay…"
      ]
     },
     "metadata": {},
     "output_type": "display_data"
    }
   ],
   "source": [
    "aufgabe(blatt9_2b_3)"
   ]
  },
  {
   "cell_type": "markdown",
   "metadata": {},
   "source": [
    "### Beispiel 4:\n",
    "\n",
    "\n",
    "#### Betrachen Sie den folgenden Ausschnitt der Zustandsmenge zu dem Satz \"der Mann schläft\" und die entsprechenden Grammatikregeln von oben.\n",
    "\n",
    "$ Q_{1}$ : (DET -> der * , 0)"
   ]
  },
  {
   "cell_type": "code",
   "execution_count": 13,
   "metadata": {},
   "outputs": [
    {
     "data": {
      "application/vnd.jupyter.widget-view+json": {
       "model_id": "dbe65466149845eeaf08174094e9123a",
       "version_major": 2,
       "version_minor": 0
      },
      "text/plain": [
       "SingleChoice(children=(HTML(value='<h4 style=\"font-size:14px;\">Um welchen Parser handelt es sich?</h4>', layou…"
      ]
     },
     "metadata": {},
     "output_type": "display_data"
    },
    {
     "data": {
      "application/vnd.jupyter.widget-view+json": {
       "model_id": "0ae0691d64c04ac88b60cbbddb667f5a",
       "version_major": 2,
       "version_minor": 0
      },
      "text/plain": [
       "SingleChoice(children=(HTML(value='<h4 style=\"font-size:14px;\">Welche Operation folgt als nächstes?</h4>', lay…"
      ]
     },
     "metadata": {},
     "output_type": "display_data"
    }
   ],
   "source": [
    "aufgabe(blatt9_2b_4)"
   ]
  },
  {
   "cell_type": "markdown",
   "metadata": {},
   "source": [
    "### Beispiel 5:\n",
    "\n",
    "![earley_1](https://github.com/awisiorek/syntax-1819/raw/master/uebung/img/earley_1.png)"
   ]
  },
  {
   "cell_type": "code",
   "execution_count": 14,
   "metadata": {},
   "outputs": [
    {
     "data": {
      "application/vnd.jupyter.widget-view+json": {
       "model_id": "82394efa2e014331a1a014a0f3bce4b6",
       "version_major": 2,
       "version_minor": 0
      },
      "text/plain": [
       "SingleChoice(children=(HTML(value='<h4 style=\"font-size:14px;\">Welche Operation folgt als nächstes?</h4>', lay…"
      ]
     },
     "metadata": {},
     "output_type": "display_data"
    }
   ],
   "source": [
    "aufgabe(blatt9_2b_5)"
   ]
  },
  {
   "cell_type": "markdown",
   "metadata": {},
   "source": [
    "### Beispiel 6:\n",
    "\n",
    "![earley_2](https://github.com/awisiorek/syntax-1819/raw/master/uebung/img/earley_2.png)"
   ]
  },
  {
   "cell_type": "code",
   "execution_count": 15,
   "metadata": {},
   "outputs": [
    {
     "data": {
      "application/vnd.jupyter.widget-view+json": {
       "model_id": "602a343b5dae458786297a3368581280",
       "version_major": 2,
       "version_minor": 0
      },
      "text/plain": [
       "SingleChoice(children=(HTML(value='<h4 style=\"font-size:14px;\">Welche Operation folgt als nächstes?</h4>', lay…"
      ]
     },
     "metadata": {},
     "output_type": "display_data"
    }
   ],
   "source": [
    "aufgabe(blatt9_2b_6)"
   ]
  },
  {
   "cell_type": "markdown",
   "metadata": {},
   "source": [
    "### Beispiel 7:\n",
    "\n",
    "![earley_3](https://github.com/awisiorek/syntax-1819/raw/master/uebung/img/earley_3.png)"
   ]
  },
  {
   "cell_type": "code",
   "execution_count": 16,
   "metadata": {},
   "outputs": [
    {
     "data": {
      "application/vnd.jupyter.widget-view+json": {
       "model_id": "257f414e498e43ab81aef561a6b9418a",
       "version_major": 2,
       "version_minor": 0
      },
      "text/plain": [
       "SingleChoice(children=(HTML(value='<h4 style=\"font-size:14px;\">Welche Operation folgt als nächstes?</h4>', lay…"
      ]
     },
     "metadata": {},
     "output_type": "display_data"
    }
   ],
   "source": [
    "aufgabe(blatt9_2b_7)"
   ]
  },
  {
   "cell_type": "markdown",
   "metadata": {},
   "source": [
    "### Beispiel 8:\n",
    "\n",
    "![recdes_1](https://github.com/awisiorek/syntax-1819/raw/master/uebung/img/recdes_1.png)"
   ]
  },
  {
   "cell_type": "code",
   "execution_count": 17,
   "metadata": {},
   "outputs": [
    {
     "data": {
      "application/vnd.jupyter.widget-view+json": {
       "model_id": "5f0b0b1080514ac9a18bd95b116e6652",
       "version_major": 2,
       "version_minor": 0
      },
      "text/plain": [
       "SingleChoice(children=(HTML(value='<h4 style=\"font-size:14px;\">Welche Operation folgt als nächstes?</h4>', lay…"
      ]
     },
     "metadata": {},
     "output_type": "display_data"
    }
   ],
   "source": [
    "aufgabe(blatt9_2b_8)"
   ]
  },
  {
   "cell_type": "markdown",
   "metadata": {},
   "source": [
    "### Beispiel 9:\n",
    "\n",
    "![recdes_2](https://github.com/awisiorek/syntax-1819/raw/master/uebung/img/recdes_2.png)"
   ]
  },
  {
   "cell_type": "code",
   "execution_count": 18,
   "metadata": {},
   "outputs": [
    {
     "data": {
      "application/vnd.jupyter.widget-view+json": {
       "model_id": "d63cada8f7684ce3bd2193f127f5aeaa",
       "version_major": 2,
       "version_minor": 0
      },
      "text/plain": [
       "SingleChoice(children=(HTML(value='<h4 style=\"font-size:14px;\">Welche Operation folgt als nächstes?</h4>', lay…"
      ]
     },
     "metadata": {},
     "output_type": "display_data"
    }
   ],
   "source": [
    "aufgabe(blatt9_2b_9)"
   ]
  },
  {
   "cell_type": "markdown",
   "metadata": {},
   "source": [
    "### Beispiel 10:\n",
    "\n",
    "![recdes_3](https://github.com/awisiorek/syntax-1819/raw/master/uebung/img/recdes_3.png)"
   ]
  },
  {
   "cell_type": "code",
   "execution_count": 19,
   "metadata": {},
   "outputs": [
    {
     "data": {
      "application/vnd.jupyter.widget-view+json": {
       "model_id": "0411ba325be94adb91150e4220d5d9ab",
       "version_major": 2,
       "version_minor": 0
      },
      "text/plain": [
       "SingleChoice(children=(HTML(value='<h4 style=\"font-size:14px;\">Welche Operation folgt als nächstes?</h4>', lay…"
      ]
     },
     "metadata": {},
     "output_type": "display_data"
    }
   ],
   "source": [
    "aufgabe(blatt9_2b_10)"
   ]
  },
  {
   "cell_type": "markdown",
   "metadata": {},
   "source": [
    "### Beispiel 11:\n",
    "\n",
    "![shiftred_1](https://github.com/awisiorek/syntax-1819/raw/master/uebung/img/shiftred_1.png)"
   ]
  },
  {
   "cell_type": "code",
   "execution_count": 20,
   "metadata": {},
   "outputs": [
    {
     "data": {
      "application/vnd.jupyter.widget-view+json": {
       "model_id": "e936ac3d24bd49cda18dd4e7b5345a68",
       "version_major": 2,
       "version_minor": 0
      },
      "text/plain": [
       "SingleChoice(children=(HTML(value='<h4 style=\"font-size:14px;\">Welche Operation folgt als nächstes?</h4>', lay…"
      ]
     },
     "metadata": {},
     "output_type": "display_data"
    }
   ],
   "source": [
    "aufgabe(blatt9_2b_11)"
   ]
  },
  {
   "cell_type": "markdown",
   "metadata": {},
   "source": [
    "### Beispiel 12:\n",
    "\n",
    "![shiftred_2](https://github.com/awisiorek/syntax-1819/raw/master/uebung/img/shiftred_2.png)"
   ]
  },
  {
   "cell_type": "code",
   "execution_count": 21,
   "metadata": {},
   "outputs": [
    {
     "data": {
      "application/vnd.jupyter.widget-view+json": {
       "model_id": "828a4431983b4eb9bed83d9f29516e39",
       "version_major": 2,
       "version_minor": 0
      },
      "text/plain": [
       "SingleChoice(children=(HTML(value='<h4 style=\"font-size:14px;\">Welche Operation folgt als nächstes?</h4>', lay…"
      ]
     },
     "metadata": {},
     "output_type": "display_data"
    }
   ],
   "source": [
    "aufgabe(blatt9_2b_12)"
   ]
  },
  {
   "cell_type": "markdown",
   "metadata": {},
   "source": [
    "### Beispiel 13:\n",
    "\n",
    "![shiftred_3](https://github.com/awisiorek/syntax-1819/raw/master/uebung/img/shiftred_3.png)"
   ]
  },
  {
   "cell_type": "code",
   "execution_count": 22,
   "metadata": {},
   "outputs": [
    {
     "data": {
      "application/vnd.jupyter.widget-view+json": {
       "model_id": "8b806790722745559cb1f27cf387e6df",
       "version_major": 2,
       "version_minor": 0
      },
      "text/plain": [
       "SingleChoice(children=(HTML(value='<h4 style=\"font-size:14px;\">Welche Operation folgt als nächstes?</h4>', lay…"
      ]
     },
     "metadata": {},
     "output_type": "display_data"
    }
   ],
   "source": [
    "aufgabe(blatt9_2b_13)"
   ]
  },
  {
   "cell_type": "markdown",
   "metadata": {},
   "source": [
    "---\n",
    "## Aufgabe 3: Imperativ ohne Subjekt\n",
    "\n",
    "#### Betrachten Sie die folgende kontextfreie Merkmalsgrammatik:"
   ]
  },
  {
   "cell_type": "code",
   "execution_count": 23,
   "metadata": {},
   "outputs": [],
   "source": [
    "##Angabe:\n",
    "grammar = \"\"\"\n",
    "S -> NP VP\n",
    "S -> VP\n",
    "\n",
    "NP -> DET N\n",
    "VP -> V[SUBCAT=tr] NP\n",
    "VP -> V[SUBCAT=intr]\n",
    "\n",
    "DET -> \"das\"\n",
    "N -> \"Kind\" | \"Buch\"\n",
    "\n",
    "V[SUBCAT=tr] -> \"lies\"\n",
    "V[SUBCAT=tr] -> \"liest\"\n",
    "V[SUBCAT=intr] -> \"schlaf\"\n",
    "V[SUBCAT=intr] -> \"schläft\"\n",
    "\"\"\""
   ]
  },
  {
   "cell_type": "code",
   "execution_count": 24,
   "metadata": {},
   "outputs": [],
   "source": [
    "##Lösung:\n",
    "grammar = \"\"\"\n",
    "# b)\n",
    "S -> NP VP[MOOD=\"ind\"]\n",
    "S -> VP[MOOD=\"imp\"]\n",
    "\n",
    "VP[MOOD=?x] -> V[SUBCAT=tr,MOOD=?x] NP \n",
    "VP[MOOD=?x] -> V[SUBCAT=intr,MOOD=?x]\n",
    "\n",
    "NP -> DET N\n",
    "\n",
    "DET -> \"das\"\n",
    "N -> \"Kind\" | \"Buch\"\n",
    "\n",
    "# a)\n",
    "V[SUBCAT=intr,MOOD=\"imp\"] -> \"schlaf\"\n",
    "V[SUBCAT=intr,MOOD=\"ind\"] -> \"schläft\"\n",
    "\n",
    "V[SUBCAT=tr,MOOD=\"imp\"] -> \"lies\"\n",
    "V[SUBCAT=tr,MOOD=\"ind\"] -> \"liest\"\n",
    "\"\"\""
   ]
  },
  {
   "cell_type": "markdown",
   "metadata": {},
   "source": [
    "#### Hier wurde versucht, Aufforderungssätze zu modellieren. Allerdings akzeptiert diese Grammatik immer noch viele ungrammatische Sätze.\n",
    "\n",
    "a) Fügen Sie ein Merkmal `MOOD` mit den möglichen Werten *imp* und *ind* für Imperativ und Indikativ hinzu und deklarieren Sie die entsprechenden Werte im Lexikon (den lexikalischen Regeln). <br>\n",
    "b) Formulieren Sie dann Bedingungen in den syntaktischen Regeln, sodass folgende grammatische Sätze (`pos_sentences`) weiterhin akzeptiert und folgende ungrammatische Sätze (`neg_sentences`) abgelehnt werden."
   ]
  },
  {
   "cell_type": "code",
   "execution_count": 25,
   "metadata": {},
   "outputs": [],
   "source": [
    "pos_sentences = [\n",
    "    \"das Kind schläft\",\n",
    "    \"das Kind liest das Buch\",\n",
    "    \"lies das Buch\",\n",
    "    \"schlaf\"\n",
    "]\n",
    "\n",
    "neg_sentences = [\n",
    "    \"das Kind schlaf\",\n",
    "    \"das Kind lies das Buch\",\n",
    "    \"liest das Buch\",\n",
    "    \"schläft\"\n",
    "]"
   ]
  },
  {
   "cell_type": "code",
   "execution_count": 26,
   "metadata": {},
   "outputs": [],
   "source": [
    "from IPython.display import display\n",
    "\n",
    "def test_grammar(grammar, sentences):\n",
    "    cfg = nltk.grammar.FeatureGrammar.fromstring(grammar)\n",
    "    parser = nltk.parse.FeatureEarleyChartParser(cfg)\n",
    "    \n",
    "    for i, sent in enumerate(sentences, 1):\n",
    "        print(\"Satz {}: {}\".format(i, sent))\n",
    "        sys.stdout.flush()\n",
    "        results = parser.parse(sent.split())\n",
    "        analyzed = False\n",
    "        for tree in results:\n",
    "            display(tree)  # tree.draw() oder print(tree)\n",
    "            analyzed = True\n",
    "        if not analyzed:\n",
    "            print(\"Keine Analyse möglich\", file=sys.stderr)\n",
    "            sys.stderr.flush()"
   ]
  },
  {
   "cell_type": "markdown",
   "metadata": {},
   "source": [
    "Hier sollten nur korrekte Syntaxbäume herauskommen:"
   ]
  },
  {
   "cell_type": "code",
   "execution_count": 27,
   "metadata": {},
   "outputs": [
    {
     "name": "stdout",
     "output_type": "stream",
     "text": [
      "Satz 1: das Kind schläft\n"
     ]
    },
    {
     "data": {
      "image/png": "[encoded data removed]",
      "text/plain": [
       "Tree(S[], [Tree(NP[], [Tree(DET[], ['das']), Tree(N[], ['Kind'])]), Tree(VP[MOOD='ind'], [Tree(V[MOOD='ind', SUBCAT='intr'], ['schläft'])])])"
      ]
     },
     "metadata": {},
     "output_type": "display_data"
    },
    {
     "name": "stdout",
     "output_type": "stream",
     "text": [
      "Satz 2: das Kind liest das Buch\n"
     ]
    },
    {
     "data": {
      "image/png": "[encoded data removed]",
      "text/plain": [
       "Tree(S[], [Tree(NP[], [Tree(DET[], ['das']), Tree(N[], ['Kind'])]), Tree(VP[MOOD='ind'], [Tree(V[MOOD='ind', SUBCAT='tr'], ['liest']), Tree(NP[], [Tree(DET[], ['das']), Tree(N[], ['Buch'])])])])"
      ]
     },
     "metadata": {},
     "output_type": "display_data"
    },
    {
     "name": "stdout",
     "output_type": "stream",
     "text": [
      "Satz 3: lies das Buch\n"
     ]
    },
    {
     "data": {
      "image/png": "[encoded data removed]",
      "text/plain": [
       "Tree(S[], [Tree(VP[MOOD='imp'], [Tree(V[MOOD='imp', SUBCAT='tr'], ['lies']), Tree(NP[], [Tree(DET[], ['das']), Tree(N[], ['Buch'])])])])"
      ]
     },
     "metadata": {},
     "output_type": "display_data"
    },
    {
     "name": "stdout",
     "output_type": "stream",
     "text": [
      "Satz 4: schlaf\n"
     ]
    },
    {
     "data": {
      "image/png": "[encoded data removed]",
      "text/plain": [
       "Tree(S[], [Tree(VP[MOOD='imp'], [Tree(V[MOOD='imp', SUBCAT='intr'], ['schlaf'])])])"
      ]
     },
     "metadata": {},
     "output_type": "display_data"
    }
   ],
   "source": [
    "test_grammar(grammar, pos_sentences)"
   ]
  },
  {
   "cell_type": "markdown",
   "metadata": {},
   "source": [
    "Hier sollte ausschließlich `Keine Analyse möglich` stehen:"
   ]
  },
  {
   "cell_type": "code",
   "execution_count": 28,
   "metadata": {},
   "outputs": [
    {
     "name": "stdout",
     "output_type": "stream",
     "text": [
      "Satz 1: das Kind schlaf\n"
     ]
    },
    {
     "name": "stderr",
     "output_type": "stream",
     "text": [
      "Keine Analyse möglich\n"
     ]
    },
    {
     "name": "stdout",
     "output_type": "stream",
     "text": [
      "Satz 2: das Kind lies das Buch\n"
     ]
    },
    {
     "name": "stderr",
     "output_type": "stream",
     "text": [
      "Keine Analyse möglich\n"
     ]
    },
    {
     "name": "stdout",
     "output_type": "stream",
     "text": [
      "Satz 3: liest das Buch\n"
     ]
    },
    {
     "name": "stderr",
     "output_type": "stream",
     "text": [
      "Keine Analyse möglich\n"
     ]
    },
    {
     "name": "stdout",
     "output_type": "stream",
     "text": [
      "Satz 4: schläft\n"
     ]
    },
    {
     "name": "stderr",
     "output_type": "stream",
     "text": [
      "Keine Analyse möglich\n"
     ]
    }
   ],
   "source": [
    "test_grammar(grammar, neg_sentences)"
   ]
  },
  {
   "cell_type": "markdown",
   "metadata": {},
   "source": [
    "---\n",
    "## &ast;Aufgabe 4: Recursive Descent Parser Demo\n",
    "\n",
    "#### Die Demo-Applikation `nltk.app.rdparser()` veranschaulicht die Funktionsweise eines Recursive Descent Parsers. Spielen Sie ein wenig mit der Demo, nehmen Sie Änderungen an der Grammatik vor und stellen Sie sicher, dass Sie verstehen wie jeder einzelne Schritt zustandekommt."
   ]
  },
  {
   "cell_type": "markdown",
   "metadata": {},
   "source": [
    "---\n",
    "## &ast;Aufgabe 5: NLTK-Kapitel zum Parsing \n",
    "\n",
    "#### In folgenden NLTK-Kapiteln (8.4 und 8.2-extras) zum Parsing mit kontextfreien Grammatiken können Sie sich weiterführend über top-down-, bottom-up- sowie Chart-Parsing informieren:\n",
    "\n",
    "- Teilkapitel 8.4 (’Parsing With Context Free Grammar’):\n",
    "http://www.nltk.org/book/ch08.html\n",
    "- Teilkapitel 2.1-2.8 (’Chart Parsing’) des Zusatzkapitels zu Kapitel 8:\n",
    "http://www.nltk.org/book/ch08-extras.html"
   ]
  }
 ],
 "metadata": {
  "kernelspec": {
   "display_name": "Python 3",
   "language": "python",
   "name": "python3"
  },
  "language_info": {
   "codemirror_mode": {
    "name": "ipython",
    "version": 3
   },
   "file_extension": ".py",
   "mimetype": "text/x-python",
   "name": "python",
   "nbconvert_exporter": "python",
   "pygments_lexer": "ipython3",
   "version": "3.7.4"
  },
  "widgets": {
   "application/vnd.jupyter.widget-state+json": {
    "state": {
     "007384f6e4ce497bbb10eca3843a1e18": {
      "model_module": "@jupyter-widgets/controls",
      "model_module_version": "1.5.0",
      "model_name": "VBoxModel",
      "state": {
       "children": [
        "IPY_MODEL_bf1eb27ce5344520bf764e99bacb8f8c",
        "IPY_MODEL_792df644b23249a8aab58b663da0c3cf",
        "IPY_MODEL_0d479f37fd994d9287b0e40d82aa1d9f",
        "IPY_MODEL_bfa39c509d1b4a35afbf6f876c25f856",
        "IPY_MODEL_9ab128db54504976b77ec1339a216da9"
       ],
       "layout": "IPY_MODEL_1399eafbac6c480790206c9d974c61c5"
      }
     },
     "008ddd12b702459aacf0d122b0a60ce6": {
      "model_module": "@jupyter-widgets/controls",
      "model_module_version": "1.5.0",
      "model_name": "ButtonModel",
      "state": {
       "description": "Korrekt?",
       "layout": "IPY_MODEL_afc9c59e57b14562b53349a54e98b4c5",
       "style": "IPY_MODEL_b6bfd5763df44956a84c434f9a716c34"
      }
     },
     "014849f3eef64e0fb9eb851f0875630f": {
      "model_module": "@jupyter-widgets/base",
      "model_module_version": "1.2.0",
      "model_name": "LayoutModel",
      "state": {
       "width": "250px"
      }
     },
     "01573a0b27b14050a42e26331676bb5d": {
      "model_module": "@jupyter-widgets/base",
      "model_module_version": "1.2.0",
      "model_name": "LayoutModel",
      "state": {
       "justify_content": "center"
      }
     },
     "0176a135c4e34137870a8609c829e390": {
      "model_module": "@jupyter-widgets/controls",
      "model_module_version": "1.5.0",
      "model_name": "HBoxModel",
      "state": {
       "children": [
        "IPY_MODEL_8f6474a4db9e4944bb5756adc9663dd6",
        "IPY_MODEL_5c147f7923a44c728577a31e1ab7725a"
       ],
       "layout": "IPY_MODEL_26301dac00434844a29ffa3c717c2b83"
      }
     },
     "0181c6ef302f40139df69d06f93be25c": {
      "model_module": "@jupyter-widgets/controls",
      "model_module_version": "1.5.0",
      "model_name": "HBoxModel",
      "state": {
       "children": [
        "IPY_MODEL_cb37cfb93d854f4392c129098aa88fa4",
        "IPY_MODEL_aed46a3762d8481285cc830f2ad86d79"
       ],
       "layout": "IPY_MODEL_620e0bf14b5a41f49f263b6ec80f5161"
      }
     },
     "018bebb711b047aa8f59f2896df6149b": {
      "model_module": "@jupyter-widgets/controls",
      "model_module_version": "1.5.0",
      "model_name": "DescriptionStyleModel",
      "state": {
       "description_width": "initial"
      }
     },
     "018cf6adafab41f982be30730131c593": {
      "model_module": "@jupyter-widgets/base",
      "model_module_version": "1.2.0",
      "model_name": "LayoutModel",
      "state": {
       "width": "250px"
      }
     },
     "01b19f5b542a494b9fe49f6111571d18": {
      "model_module": "@jupyter-widgets/controls",
      "model_module_version": "1.5.0",
      "model_name": "HTMLModel",
      "state": {
       "layout": "IPY_MODEL_338a9148df6344d69fc129fc8251a30e",
       "style": "IPY_MODEL_a5d8b4fc493a470c836e0d98a029d84c",
       "value": "<i>Wählen Sie die <ins>eine</ins> korrekte Antwort aus: </i>"
      }
     },
     "01f24fe1908a4eee851af07783275c67": {
      "model_module": "@jupyter-widgets/controls",
      "model_module_version": "1.5.0",
      "model_name": "ButtonModel",
      "state": {
       "description": "Shift Reduce",
       "layout": "IPY_MODEL_5dd948399bc847f8ae49e0c2f1197425",
       "style": "IPY_MODEL_a88dbedaf20f4730b0c2e1081d4faf33"
      }
     },
     "026c3b9d7cd24308aae5c2cff632605c": {
      "model_module": "@jupyter-widgets/controls",
      "model_module_version": "1.5.0",
      "model_name": "DescriptionStyleModel",
      "state": {
       "description_width": "initial"
      }
     },
     "027f56fa1cfc410c86363fdb0b1b7f4a": {
      "model_module": "@jupyter-widgets/controls",
      "model_module_version": "1.5.0",
      "model_name": "ButtonModel",
      "state": {
       "description": "Complete",
       "layout": "IPY_MODEL_6597ae663ff74604893a8b448c8a4590",
       "style": "IPY_MODEL_340e4d16f1cf4894bf1d3ec284e744a6"
      }
     },
     "028c3b089db744cba3053c571264ed85": {
      "model_module": "@jupyter-widgets/base",
      "model_module_version": "1.2.0",
      "model_name": "LayoutModel",
      "state": {
       "width": "250px"
      }
     },
     "033562dd4e3f4def89a61306cd44f01a": {
      "model_module": "@jupyter-widgets/controls",
      "model_module_version": "1.5.0",
      "model_name": "ButtonStyleModel",
      "state": {}
     },
     "034463479fcb4440be65400a2a3c0199": {
      "model_module": "@jupyter-widgets/controls",
      "model_module_version": "1.5.0",
      "model_name": "ButtonModel",
      "state": {
       "description": "Recusive Descent",
       "layout": "IPY_MODEL_0f0ec7b48b0f47cb8927085b413e7117",
       "style": "IPY_MODEL_7e80e3c578fa43a796bd4fb4b21c28d3"
      }
     },
     "03749f0227f44bfd9869b96089bf286f": {
      "model_module": "@jupyter-widgets/controls",
      "model_module_version": "1.5.0",
      "model_name": "ButtonStyleModel",
      "state": {}
     },
     "0411ba325be94adb91150e4220d5d9ab": {
      "model_module": "@jupyter-widgets/controls",
      "model_module_version": "1.5.0",
      "model_name": "VBoxModel",
      "state": {
       "children": [
        "IPY_MODEL_ac56447b99f84be59db4b6efc7bd9198",
        "IPY_MODEL_560d3cea6f234ba9b206adf842dbdc16",
        "IPY_MODEL_6493034ef72b422283a49c02c1dc3aaf",
        "IPY_MODEL_d133785941d54775ac8f51113fc01856",
        "IPY_MODEL_386127319b784b97b12271d1d0c3dc39"
       ],
       "layout": "IPY_MODEL_8a22267166b7487f9a0b996e7798644b"
      }
     },
     "04317b18710b4ddfa1bf94a9a2213103": {
      "model_module": "@jupyter-widgets/controls",
      "model_module_version": "1.5.0",
      "model_name": "ButtonStyleModel",
      "state": {}
     },
     "049c19abee34433abe86efe751daea19": {
      "model_module": "@jupyter-widgets/base",
      "model_module_version": "1.2.0",
      "model_name": "LayoutModel",
      "state": {
       "width": "250px"
      }
     },
     "04a8957bc8cb4ffea981ac5be2406b2b": {
      "model_module": "@jupyter-widgets/base",
      "model_module_version": "1.2.0",
      "model_name": "LayoutModel",
      "state": {}
     },
     "04c5e08f9a4c4e56bd3841e8a4ba7a72": {
      "model_module": "@jupyter-widgets/controls",
      "model_module_version": "1.5.0",
      "model_name": "DescriptionStyleModel",
      "state": {
       "description_width": "initial"
      }
     },
     "04d86de2999845af98cc64f5575dc544": {
      "model_module": "@jupyter-widgets/base",
      "model_module_version": "1.2.0",
      "model_name": "LayoutModel",
      "state": {
       "width": "250px"
      }
     },
     "04f0036eb5f74897839ce12ae0fd982e": {
      "model_module": "@jupyter-widgets/base",
      "model_module_version": "1.2.0",
      "model_name": "LayoutModel",
      "state": {
       "justify_content": "center"
      }
     },
     "050b38e2f80b4dfdb9b576448fee9c39": {
      "model_module": "@jupyter-widgets/base",
      "model_module_version": "1.2.0",
      "model_name": "LayoutModel",
      "state": {
       "width": "250px"
      }
     },
     "051c6f50e1e343c3a9537c752fd31b50": {
      "model_module": "@jupyter-widgets/controls",
      "model_module_version": "1.5.0",
      "model_name": "HBoxModel",
      "state": {
       "children": [
        "IPY_MODEL_413d6f3cc9cc4daea54dfb999a5b48a4",
        "IPY_MODEL_813bc0fb5398469b925321e11692effb"
       ],
       "layout": "IPY_MODEL_77fd2a76806e45009245a21de69cbaae"
      }
     },
     "05219eb507e140ae8a1440bb99bee062": {
      "model_module": "@jupyter-widgets/controls",
      "model_module_version": "1.5.0",
      "model_name": "ButtonModel",
      "state": {
       "description": "Keine der Alternativen",
       "layout": "IPY_MODEL_dbd99ee825cc48a487fb6f5057c31ff9",
       "style": "IPY_MODEL_c048d3b56fcf41ba8bd85ce1b36376cd"
      }
     },
     "0544ab4181fd406bbe89d66eae9b9366": {
      "model_module": "@jupyter-widgets/controls",
      "model_module_version": "1.5.0",
      "model_name": "ButtonModel",
      "state": {
       "description": "Complete",
       "layout": "IPY_MODEL_5870a4b7d2f34f478766ef3e863cfded",
       "style": "IPY_MODEL_200794e2b0c24db19a265694124e4136"
      }
     },
     "0547f12347334f2d8cfc77fd93043939": {
      "model_module": "@jupyter-widgets/controls",
      "model_module_version": "1.5.0",
      "model_name": "HTMLModel",
      "state": {
       "layout": "IPY_MODEL_06e002a3b9fb4ac9a319e17f4a73cf99",
       "style": "IPY_MODEL_ec16c16545db47be8b531fe55eb99152",
       "value": "<h4 style=\"font-size:14px;\">Um welchen Parser handelt es sich?</h4>"
      }
     },
     "0548b27c53f04467ba4a40f69f7b6efe": {
      "model_module": "@jupyter-widgets/controls",
      "model_module_version": "1.5.0",
      "model_name": "ButtonStyleModel",
      "state": {}
     },
     "054adcabb355477b8b0ecfe934929300": {
      "model_module": "@jupyter-widgets/controls",
      "model_module_version": "1.5.0",
      "model_name": "ButtonModel",
      "state": {
       "description": "Shift Reduce",
       "layout": "IPY_MODEL_6f0c1d1eeaf34eb1a847649739fbe338",
       "style": "IPY_MODEL_57bb292dde1740fca895d52f1aa718d6"
      }
     },
     "055cf8c9ca26435cbebf954e89b54364": {
      "model_module": "@jupyter-widgets/controls",
      "model_module_version": "1.5.0",
      "model_name": "HTMLModel",
      "state": {
       "layout": "IPY_MODEL_eec029dbbdaf42809960c5b34eb4759b",
       "style": "IPY_MODEL_1e4de0021c49455f8f86bcb06c577746",
       "value": "<i>Wählen Sie die <ins>eine</ins> korrekte Antwort aus: </i>"
      }
     },
     "05a48eeed9134f66a7a714040307058e": {
      "model_module": "@jupyter-widgets/controls",
      "model_module_version": "1.5.0",
      "model_name": "HTMLModel",
      "state": {
       "layout": "IPY_MODEL_61892670bf034fc5b04c0f7ed32b949b",
       "style": "IPY_MODEL_d479714b9dda4432972008bbf4b0e7af",
       "value": "<i>Wählen Sie die <ins>eine</ins> korrekte Antwort aus: </i>"
      }
     },
     "05ac8413f0fe4d5cbb5392bd8ca67b77": {
      "model_module": "@jupyter-widgets/controls",
      "model_module_version": "1.5.0",
      "model_name": "HTMLModel",
      "state": {
       "layout": "IPY_MODEL_d7c3f1e1361c4590b15b1e97086c0bef",
       "style": "IPY_MODEL_2d3b220103ad49f4a1c966c18387e282",
       "value": "<i>Wählen Sie die <ins>eine</ins> korrekte Antwort aus: </i>"
      }
     },
     "05ebcb9aac2344d2ac9da44d35d05423": {
      "model_module": "@jupyter-widgets/controls",
      "model_module_version": "1.5.0",
      "model_name": "CheckboxModel",
      "state": {
       "description": "Predict",
       "disabled": false,
       "layout": "IPY_MODEL_c0eae8dc2e864d98b37a55fe3a6db3e4",
       "style": "IPY_MODEL_21b95c12cdf34a349a30b371512bab8e",
       "value": true
      }
     },
     "05f23ec4b67e4628a68084ca8597a0b7": {
      "model_module": "@jupyter-widgets/base",
      "model_module_version": "1.2.0",
      "model_name": "LayoutModel",
      "state": {}
     },
     "065c63706f4e4dfca198e811a00b0a20": {
      "model_module": "@jupyter-widgets/base",
      "model_module_version": "1.2.0",
      "model_name": "LayoutModel",
      "state": {
       "justify_content": "center"
      }
     },
     "0674e6cb83f94a49879c12b549eb3592": {
      "model_module": "@jupyter-widgets/controls",
      "model_module_version": "1.5.0",
      "model_name": "HBoxModel",
      "state": {
       "children": [
        "IPY_MODEL_f67d9ea1eb0b4481bbc05499d741a37d",
        "IPY_MODEL_4880e3c2e20045bc8d0bb730a0012fcb"
       ],
       "layout": "IPY_MODEL_2ededa303b60419c8e310c27437bd0c4"
      }
     },
     "06932fa219c24369946d69592ec8e77b": {
      "model_module": "@jupyter-widgets/controls",
      "model_module_version": "1.5.0",
      "model_name": "HTMLModel",
      "state": {
       "layout": "IPY_MODEL_edf38b020b8646ec99b84eb717640ae2",
       "style": "IPY_MODEL_46244fb1b2944e6f945f0a6ab056ff61",
       "value": "<i>Wählen Sie die <ins>eine</ins> korrekte Antwort aus: </i>"
      }
     },
     "06bc9d415291428a958845ddc1422265": {
      "model_module": "@jupyter-widgets/base",
      "model_module_version": "1.2.0",
      "model_name": "LayoutModel",
      "state": {
       "width": "250px"
      }
     },
     "06c0a3f5d98e4e5e94dd274b14001352": {
      "model_module": "@jupyter-widgets/controls",
      "model_module_version": "1.5.0",
      "model_name": "ButtonModel",
      "state": {
       "description": "Shift",
       "layout": "IPY_MODEL_9439ccabc63c4977ba1b6405915f60e7",
       "style": "IPY_MODEL_0ad130a08480468f80cdc2f3a0812a37"
      }
     },
     "06c6be43e8154c799fb8930bcda4ca5a": {
      "model_module": "@jupyter-widgets/controls",
      "model_module_version": "1.5.0",
      "model_name": "ButtonStyleModel",
      "state": {}
     },
     "06d2b866037743eba42270cc1b6a2214": {
      "model_module": "@jupyter-widgets/controls",
      "model_module_version": "1.5.0",
      "model_name": "HBoxModel",
      "state": {
       "children": [
        "IPY_MODEL_18fd43f629604b44ba6e8e47ba1388df",
        "IPY_MODEL_fa3eaa7e3ac44263a791b47a0a2129ec"
       ],
       "layout": "IPY_MODEL_86d402c1259047f689551c41e344c845"
      }
     },
     "06d91875c3c34909ae5225c749703c5b": {
      "model_module": "@jupyter-widgets/controls",
      "model_module_version": "1.5.0",
      "model_name": "ButtonStyleModel",
      "state": {}
     },
     "06e002a3b9fb4ac9a319e17f4a73cf99": {
      "model_module": "@jupyter-widgets/base",
      "model_module_version": "1.2.0",
      "model_name": "LayoutModel",
      "state": {
       "justify_content": "center"
      }
     },
     "0700a7d8df164f48b959516d90b0eb1f": {
      "model_module": "@jupyter-widgets/base",
      "model_module_version": "1.2.0",
      "model_name": "LayoutModel",
      "state": {
       "width": "250px"
      }
     },
     "072ebed4bc8b45a9a75894c3b0e12cc0": {
      "model_module": "@jupyter-widgets/controls",
      "model_module_version": "1.5.0",
      "model_name": "ButtonModel",
      "state": {
       "description": "Complete",
       "layout": "IPY_MODEL_7e91c0cd3ab643d0bb4b4b79664f9cdb",
       "style": "IPY_MODEL_3c16960648144005936f228474de44a2"
      }
     },
     "074139441d704f73a364f3cef26b8ed3": {
      "model_module": "@jupyter-widgets/controls",
      "model_module_version": "1.5.0",
      "model_name": "HTMLModel",
      "state": {
       "layout": "IPY_MODEL_3067515d20c445c090a1d199a8027698",
       "style": "IPY_MODEL_a0f73c05c0924d4c9716904099932322",
       "value": "<h4 style=\"font-size:14px;\">Welche Operationen hat der Recursive Descent Parser?</h4>"
      }
     },
     "074b1d54c4e246c8a817e588a76f6099": {
      "model_module": "@jupyter-widgets/controls",
      "model_module_version": "1.5.0",
      "model_name": "ButtonStyleModel",
      "state": {}
     },
     "0774b2579982445ca5f4579dc42567b2": {
      "model_module": "@jupyter-widgets/base",
      "model_module_version": "1.2.0",
      "model_name": "LayoutModel",
      "state": {
       "width": "250px"
      }
     },
     "0774f6d406b44ea7a2a24d8c4ee1e8a9": {
      "model_module": "@jupyter-widgets/controls",
      "model_module_version": "1.5.0",
      "model_name": "ButtonStyleModel",
      "state": {}
     },
     "077b4699924a46b1b68ebf3b813ae843": {
      "model_module": "@jupyter-widgets/base",
      "model_module_version": "1.2.0",
      "model_name": "LayoutModel",
      "state": {
       "width": "250px"
      }
     },
     "07834d8983154b218fe39918f9346070": {
      "model_module": "@jupyter-widgets/controls",
      "model_module_version": "1.5.0",
      "model_name": "VBoxModel",
      "state": {
       "children": [
        "IPY_MODEL_b7739eb4a090420da5ef9cddad1d5cf0",
        "IPY_MODEL_c751a88cca2e48d6ad0858a119ffb1c5",
        "IPY_MODEL_cfb09b8f9384476aa5a6ecd9b6ca02c8",
        "IPY_MODEL_97663f9dc1a04a749199b96a847768b9",
        "IPY_MODEL_facc1c2f099c4ed4b6a39ac32e771f79"
       ],
       "layout": "IPY_MODEL_c871d1cf1c8743f6927ae49e74f4cfa0"
      }
     },
     "07bb6fc0e68d47ffab38e0f6500f26ee": {
      "model_module": "@jupyter-widgets/controls",
      "model_module_version": "1.5.0",
      "model_name": "HTMLModel",
      "state": {
       "layout": "IPY_MODEL_22ba5cede46d4b1bb8661719d5b6dd2e",
       "style": "IPY_MODEL_de67b15b9d3d456da21bf0dd0926a35e",
       "value": "<h4 style=\"font-size:14px;\">Welche Operation folgt als nächstes?</h4>"
      }
     },
     "07c45d8365864b87bb88e307633eef76": {
      "model_module": "@jupyter-widgets/controls",
      "model_module_version": "1.5.0",
      "model_name": "HTMLModel",
      "state": {
       "layout": "IPY_MODEL_39e72d2ff0c14c26bd7e09c2ff66d96d",
       "style": "IPY_MODEL_436a667bda644f12a2191244db432275",
       "value": "<i>Wählen Sie die <ins>eine</ins> korrekte Antwort aus: </i>"
      }
     },
     "07d4cef4eec542ba9466a6204f8f4f0e": {
      "model_module": "@jupyter-widgets/controls",
      "model_module_version": "1.5.0",
      "model_name": "ButtonModel",
      "state": {
       "description": "Reduce",
       "layout": "IPY_MODEL_c6350109b0e341adbd28c518e0724448",
       "style": "IPY_MODEL_507a737391314346a1da14815537b4fa"
      }
     },
     "081100818416450f854c2ce96f1dff97": {
      "model_module": "@jupyter-widgets/controls",
      "model_module_version": "1.5.0",
      "model_name": "ButtonModel",
      "state": {
       "description": "Scan",
       "layout": "IPY_MODEL_a697ae4feffa4c46bbde2468135e06ec",
       "style": "IPY_MODEL_b6035766694a41f1aa838aec6737e0dd"
      }
     },
     "083079dc019d4a668e2c0a87a8dc4396": {
      "model_module": "@jupyter-widgets/controls",
      "model_module_version": "1.5.0",
      "model_name": "ButtonModel",
      "state": {
       "description": "Shift",
       "layout": "IPY_MODEL_d232c3e5220142158cb51bc2ea42c27a",
       "style": "IPY_MODEL_c01b3d6b9827413eb70de799f4e51261"
      }
     },
     "0838233678bc48dcafb3b6a142cb26f6": {
      "model_module": "@jupyter-widgets/base",
      "model_module_version": "1.2.0",
      "model_name": "LayoutModel",
      "state": {}
     },
     "0888947aa8fc4f4f939e56708e913ed3": {
      "model_module": "@jupyter-widgets/base",
      "model_module_version": "1.2.0",
      "model_name": "LayoutModel",
      "state": {}
     },
     "088e3649dfdd4a9092470243dbb38d37": {
      "model_module": "@jupyter-widgets/base",
      "model_module_version": "1.2.0",
      "model_name": "LayoutModel",
      "state": {
       "justify_content": "center"
      }
     },
     "08e13f0a8a264735a59145b9c85143f5": {
      "model_module": "@jupyter-widgets/controls",
      "model_module_version": "1.5.0",
      "model_name": "ButtonStyleModel",
      "state": {}
     },
     "09564e8ef68d428fb2f92d23bd248ffa": {
      "model_module": "@jupyter-widgets/base",
      "model_module_version": "1.2.0",
      "model_name": "LayoutModel",
      "state": {
       "justify_content": "center"
      }
     },
     "0971b0cda40d4678aa9f16571ba5197e": {
      "model_module": "@jupyter-widgets/controls",
      "model_module_version": "1.5.0",
      "model_name": "HBoxModel",
      "state": {
       "children": [
        "IPY_MODEL_d39ea835e37848b89eadf729cf249b45",
        "IPY_MODEL_577cc3ac06fd4111a1d348b1f8ef1469"
       ],
       "layout": "IPY_MODEL_d866e589c16f410ebabb6e12a50e818f"
      }
     },
     "09aaab275b504b39a3c4953edb004251": {
      "model_module": "@jupyter-widgets/controls",
      "model_module_version": "1.5.0",
      "model_name": "DescriptionStyleModel",
      "state": {
       "description_width": ""
      }
     },
     "09d32ffdd1ab4f7da5c630de1deec26f": {
      "model_module": "@jupyter-widgets/controls",
      "model_module_version": "1.5.0",
      "model_name": "HTMLModel",
      "state": {
       "layout": "IPY_MODEL_4f4bda21529f4ee684476a2a3126396e",
       "style": "IPY_MODEL_6f41be8674034695987fdeade34cb36c",
       "value": "<h4 style=\"font-size:14px;\">Welche Operation folgt als nächstes?</h4>"
      }
     },
     "0a0674561a2b4014a9e30a5999275c82": {
      "model_module": "@jupyter-widgets/base",
      "model_module_version": "1.2.0",
      "model_name": "LayoutModel",
      "state": {}
     },
     "0a48ac165faa403fa4cae25b09ce1956": {
      "model_module": "@jupyter-widgets/controls",
      "model_module_version": "1.5.0",
      "model_name": "DescriptionStyleModel",
      "state": {
       "description_width": "initial"
      }
     },
     "0a690e4783794f08a66ed7ad7be82b49": {
      "model_module": "@jupyter-widgets/controls",
      "model_module_version": "1.5.0",
      "model_name": "ButtonStyleModel",
      "state": {}
     },
     "0a7b8003476c4cbf9010dcf5e7cf09f3": {
      "model_module": "@jupyter-widgets/controls",
      "model_module_version": "1.5.0",
      "model_name": "HBoxModel",
      "state": {
       "children": [
        "IPY_MODEL_79384f716724440aac586d1416169ee4",
        "IPY_MODEL_11c9c987c5604bb19c2f858498380301"
       ],
       "layout": "IPY_MODEL_6227453a2fcf4020b11a82b31235f72e"
      }
     },
     "0a808933807b4d94ba9e858bfaa7803c": {
      "model_module": "@jupyter-widgets/controls",
      "model_module_version": "1.5.0",
      "model_name": "ButtonModel",
      "state": {
       "description": "Earley",
       "layout": "IPY_MODEL_94abebe4f44f45bdb9d1ceb9b5038b59",
       "style": "IPY_MODEL_23f5009571634230ad87738ac18e7f0c"
      }
     },
     "0ab609ea6ef24a38af79e539754134a1": {
      "model_module": "@jupyter-widgets/controls",
      "model_module_version": "1.5.0",
      "model_name": "HBoxModel",
      "state": {
       "children": [
        "IPY_MODEL_cc6f588654c44b56b8fdb9eb61d47bc5",
        "IPY_MODEL_e81f1455215047fa8556f6c42e235716"
       ],
       "layout": "IPY_MODEL_fa9d5c9abc1c4ca89a8ec452ee6c7061"
      }
     },
     "0ad130a08480468f80cdc2f3a0812a37": {
      "model_module": "@jupyter-widgets/controls",
      "model_module_version": "1.5.0",
      "model_name": "ButtonStyleModel",
      "state": {}
     },
     "0ae0691d64c04ac88b60cbbddb667f5a": {
      "model_module": "@jupyter-widgets/controls",
      "model_module_version": "1.5.0",
      "model_name": "VBoxModel",
      "state": {
       "children": [
        "IPY_MODEL_6cfb719d31a24307a4f05037ed087c2a",
        "IPY_MODEL_06932fa219c24369946d69592ec8e77b",
        "IPY_MODEL_f4675c861356430c95117413db73353b",
        "IPY_MODEL_e662d162e2db4103bf62f9a699cb7c95",
        "IPY_MODEL_6accd85c6484462b8fe6912922727f99"
       ],
       "layout": "IPY_MODEL_609550273db548ca88c955cffed2a38e"
      }
     },
     "0b0ad83a34294ca9af8388a113dc5f10": {
      "model_module": "@jupyter-widgets/controls",
      "model_module_version": "1.5.0",
      "model_name": "DescriptionStyleModel",
      "state": {
       "description_width": ""
      }
     },
     "0b1a17be93cd4084afc1f55a2fa3b626": {
      "model_module": "@jupyter-widgets/base",
      "model_module_version": "1.2.0",
      "model_name": "LayoutModel",
      "state": {
       "width": "250px"
      }
     },
     "0b2b38b72acb4a89929803b303ef8865": {
      "model_module": "@jupyter-widgets/controls",
      "model_module_version": "1.5.0",
      "model_name": "ButtonStyleModel",
      "state": {}
     },
     "0b3cd0f432cc40f0b6e23049200d2627": {
      "model_module": "@jupyter-widgets/controls",
      "model_module_version": "1.5.0",
      "model_name": "HTMLModel",
      "state": {
       "layout": "IPY_MODEL_f7ca7b3769a74aa2b2cd4773c1ba09a7",
       "style": "IPY_MODEL_c957a93d83b74fb39d4f888271ac4c17",
       "value": "<i>Wählen Sie die <ins>eine</ins> korrekte Antwort aus: </i>"
      }
     },
     "0b5cd9a36f6445d39ac72a088189c88b": {
      "model_module": "@jupyter-widgets/base",
      "model_module_version": "1.2.0",
      "model_name": "LayoutModel",
      "state": {
       "width": "250px"
      }
     },
     "0b8bc38ada464905af359f7bc49a9897": {
      "model_module": "@jupyter-widgets/controls",
      "model_module_version": "1.5.0",
      "model_name": "ButtonModel",
      "state": {
       "description": "Complete",
       "layout": "IPY_MODEL_7ec6347752864981b6b8f0696e546115",
       "style": "IPY_MODEL_d396eb86e76742278589915b53ae69bd"
      }
     },
     "0b8f066156694abb81154dc8a5d5c808": {
      "model_module": "@jupyter-widgets/controls",
      "model_module_version": "1.5.0",
      "model_name": "ButtonStyleModel",
      "state": {}
     },
     "0badf5ca5d9b400cbc8d5bd210ef9d5f": {
      "model_module": "@jupyter-widgets/controls",
      "model_module_version": "1.5.0",
      "model_name": "DescriptionStyleModel",
      "state": {
       "description_width": "initial"
      }
     },
     "0bb50b4ec64b4b38a7b30bf76279dd81": {
      "model_module": "@jupyter-widgets/controls",
      "model_module_version": "1.5.0",
      "model_name": "ButtonModel",
      "state": {
       "description": "Predict",
       "layout": "IPY_MODEL_0cc6ef1d09c94d2cbd5b44a1842abc27",
       "style": "IPY_MODEL_6aa3c35ecc084e4ebef41472d5c947c2"
      }
     },
     "0bb61ad21ecf4271a2dc4947efcf0dd4": {
      "model_module": "@jupyter-widgets/controls",
      "model_module_version": "1.5.0",
      "model_name": "ButtonStyleModel",
      "state": {}
     },
     "0bd39ed06cb2480fa4574dda06c385ec": {
      "model_module": "@jupyter-widgets/base",
      "model_module_version": "1.2.0",
      "model_name": "LayoutModel",
      "state": {}
     },
     "0be989a44fd84068a1d35c280f0ba299": {
      "model_module": "@jupyter-widgets/controls",
      "model_module_version": "1.5.0",
      "model_name": "DescriptionStyleModel",
      "state": {
       "description_width": ""
      }
     },
     "0bf0ccf204e1461da76651a3831e7c77": {
      "model_module": "@jupyter-widgets/controls",
      "model_module_version": "1.5.0",
      "model_name": "ButtonModel",
      "state": {
       "description": "Scan",
       "layout": "IPY_MODEL_d72985e36ef7423697b1de067a7c0670",
       "style": "IPY_MODEL_6dba1959f13c4e73859039c0a98ed53f"
      }
     },
     "0bf13a948fe44bb8a05dcadefce35dba": {
      "model_module": "@jupyter-widgets/base",
      "model_module_version": "1.2.0",
      "model_name": "LayoutModel",
      "state": {
       "width": "250px"
      }
     },
     "0bfbdfd3dd4547e0b332771a95dd0065": {
      "model_module": "@jupyter-widgets/controls",
      "model_module_version": "1.5.0",
      "model_name": "DescriptionStyleModel",
      "state": {
       "description_width": "initial"
      }
     },
     "0c12656483974e4cac628caa7c728615": {
      "model_module": "@jupyter-widgets/controls",
      "model_module_version": "1.5.0",
      "model_name": "DescriptionStyleModel",
      "state": {
       "description_width": ""
      }
     },
     "0c18124f980b44efb0e7d3b9232d65eb": {
      "model_module": "@jupyter-widgets/controls",
      "model_module_version": "1.5.0",
      "model_name": "HTMLModel",
      "state": {
       "layout": "IPY_MODEL_92d2760ec6ed469dbc0d3b4c81f94cd9",
       "style": "IPY_MODEL_258aef84bfe141579c16476e54166f4d",
       "value": "<i>Wählen Sie die <ins>eine</ins> korrekte Antwort aus: </i>"
      }
     },
     "0c23c20bb6f34d408be77a06bc0ef798": {
      "model_module": "@jupyter-widgets/base",
      "model_module_version": "1.2.0",
      "model_name": "LayoutModel",
      "state": {
       "width": "250px"
      }
     },
     "0c35968e42cf4c14b054476400c771fd": {
      "model_module": "@jupyter-widgets/controls",
      "model_module_version": "1.5.0",
      "model_name": "ButtonModel",
      "state": {
       "description": "Recusive Descent",
       "layout": "IPY_MODEL_3184b6c3fe2044be9eab955be882d9fb",
       "style": "IPY_MODEL_0d4517f221af45cd9c7d7fa0653c833b"
      }
     },
     "0c4dc0fd9f8d4fdea89a5f148e7f1b15": {
      "model_module": "@jupyter-widgets/controls",
      "model_module_version": "1.5.0",
      "model_name": "ButtonModel",
      "state": {
       "description": "Scan",
       "layout": "IPY_MODEL_049c19abee34433abe86efe751daea19",
       "style": "IPY_MODEL_a3cb92341a7940e3b4d110af0ce555fa"
      }
     },
     "0c6a95aa2fb3495cb174cc240e4515c4": {
      "model_module": "@jupyter-widgets/controls",
      "model_module_version": "1.5.0",
      "model_name": "ButtonModel",
      "state": {
       "description": "Reduce",
       "layout": "IPY_MODEL_27be2f22a88a42579c7ef4b181a0bdda",
       "style": "IPY_MODEL_b44c18dfc6384c8a8bceca1aef1d92ca"
      }
     },
     "0cc6ef1d09c94d2cbd5b44a1842abc27": {
      "model_module": "@jupyter-widgets/base",
      "model_module_version": "1.2.0",
      "model_name": "LayoutModel",
      "state": {
       "width": "250px"
      }
     },
     "0ccd6357ff654c5aa41b2abe14195284": {
      "model_module": "@jupyter-widgets/base",
      "model_module_version": "1.2.0",
      "model_name": "LayoutModel",
      "state": {
       "width": "250px"
      }
     },
     "0cf2657ad03a49c1a7c78d4901e18032": {
      "model_module": "@jupyter-widgets/controls",
      "model_module_version": "1.5.0",
      "model_name": "ButtonStyleModel",
      "state": {}
     },
     "0d203963b5594a2d9dfcf8c7d445714f": {
      "model_module": "@jupyter-widgets/controls",
      "model_module_version": "1.5.0",
      "model_name": "ButtonModel",
      "state": {
       "description": "Predict",
       "layout": "IPY_MODEL_f6b6bd88d3a841a6ba6335b4cd61583c",
       "style": "IPY_MODEL_9de65fe39a0940bcb752add87ec1a339"
      }
     },
     "0d21dc2342144844bb82d102ef1da12d": {
      "model_module": "@jupyter-widgets/controls",
      "model_module_version": "1.5.0",
      "model_name": "ButtonStyleModel",
      "state": {}
     },
     "0d40d129807745dbad773237652cf0f0": {
      "model_module": "@jupyter-widgets/controls",
      "model_module_version": "1.5.0",
      "model_name": "ButtonStyleModel",
      "state": {}
     },
     "0d4517f221af45cd9c7d7fa0653c833b": {
      "model_module": "@jupyter-widgets/controls",
      "model_module_version": "1.5.0",
      "model_name": "ButtonStyleModel",
      "state": {}
     },
     "0d479f37fd994d9287b0e40d82aa1d9f": {
      "model_module": "@jupyter-widgets/controls",
      "model_module_version": "1.5.0",
      "model_name": "HBoxModel",
      "state": {
       "children": [
        "IPY_MODEL_a0b21cf3b6e441778a7a6cabbe5ef07e",
        "IPY_MODEL_59f498ecfd4f452f9156c8dc71a5ecaa"
       ],
       "layout": "IPY_MODEL_c0449cec717f452c99cd2e1710718ec5"
      }
     },
     "0d93c09a14b04a7cbd988a3d0461f46a": {
      "model_module": "@jupyter-widgets/base",
      "model_module_version": "1.2.0",
      "model_name": "LayoutModel",
      "state": {
       "justify_content": "center"
      }
     },
     "0d99d2deaf9c4c73b9b31fe443e62c05": {
      "model_module": "@jupyter-widgets/base",
      "model_module_version": "1.2.0",
      "model_name": "LayoutModel",
      "state": {
       "width": "250px"
      }
     },
     "0da461fa5c8c4e45b062e3220eff2f16": {
      "model_module": "@jupyter-widgets/controls",
      "model_module_version": "1.5.0",
      "model_name": "DescriptionStyleModel",
      "state": {
       "description_width": ""
      }
     },
     "0e135386d0df464696bd8ec420463b0e": {
      "model_module": "@jupyter-widgets/base",
      "model_module_version": "1.2.0",
      "model_name": "LayoutModel",
      "state": {}
     },
     "0e14634f5efa4c37b411bc824112a8a1": {
      "model_module": "@jupyter-widgets/base",
      "model_module_version": "1.2.0",
      "model_name": "LayoutModel",
      "state": {
       "width": "250px"
      }
     },
     "0e1fd712fbbb477aa24f513df8197745": {
      "model_module": "@jupyter-widgets/base",
      "model_module_version": "1.2.0",
      "model_name": "LayoutModel",
      "state": {}
     },
     "0e64813f623248e8a9957c5c3b4cc200": {
      "model_module": "@jupyter-widgets/controls",
      "model_module_version": "1.5.0",
      "model_name": "ButtonStyleModel",
      "state": {}
     },
     "0e96df04a38a4b5c87035bd5f3badf17": {
      "model_module": "@jupyter-widgets/controls",
      "model_module_version": "1.5.0",
      "model_name": "VBoxModel",
      "state": {
       "children": [
        "IPY_MODEL_4d1c0250faef45e4b5560dae982b3dd2",
        "IPY_MODEL_1969f0302e0742559326a2d145a7c09d",
        "IPY_MODEL_19adb99b42fc46f992aa5b93c922d92d",
        "IPY_MODEL_af2e51788354405ca20c3d95b9572d1c",
        "IPY_MODEL_a86a62cb64264699b3087e3c7b85c254"
       ],
       "layout": "IPY_MODEL_a337eaec4f6a4c558083d3be89847892"
      }
     },
     "0e9f14713f0c45b39e276bce3b792a7a": {
      "model_module": "@jupyter-widgets/controls",
      "model_module_version": "1.5.0",
      "model_name": "HTMLModel",
      "state": {
       "layout": "IPY_MODEL_70bb5443895f4683a1eecd0b65ea5456",
       "style": "IPY_MODEL_c5e2d3e96d604014af6d9f337f767f22",
       "value": "<i>Wählen Sie die <ins>eine</ins> korrekte Antwort aus: </i>"
      }
     },
     "0ec3f7512fe347b3afa1f570e4790f6d": {
      "model_module": "@jupyter-widgets/base",
      "model_module_version": "1.2.0",
      "model_name": "LayoutModel",
      "state": {
       "width": "250px"
      }
     },
     "0ef34292d8ff4212aa3e5df0df562c0e": {
      "model_module": "@jupyter-widgets/controls",
      "model_module_version": "1.5.0",
      "model_name": "DescriptionStyleModel",
      "state": {
       "description_width": ""
      }
     },
     "0efe28c2a41f4b9e9578b7e8ec1094d8": {
      "model_module": "@jupyter-widgets/controls",
      "model_module_version": "1.5.0",
      "model_name": "HBoxModel",
      "state": {
       "children": [
        "IPY_MODEL_3bdb0e7eed3c4fe6b70e2a504ae117dd",
        "IPY_MODEL_6e871baaf61c49a9a9c7467d7f619cd7"
       ],
       "layout": "IPY_MODEL_46362c6609d24cf4afedec9a1c7d7b49"
      }
     },
     "0f0ce2224a2144b89cdb5b8379a8369d": {
      "model_module": "@jupyter-widgets/controls",
      "model_module_version": "1.5.0",
      "model_name": "ButtonStyleModel",
      "state": {}
     },
     "0f0ec7b48b0f47cb8927085b413e7117": {
      "model_module": "@jupyter-widgets/base",
      "model_module_version": "1.2.0",
      "model_name": "LayoutModel",
      "state": {
       "width": "250px"
      }
     },
     "0f44761a81184989a1c184cf63066a19": {
      "model_module": "@jupyter-widgets/base",
      "model_module_version": "1.2.0",
      "model_name": "LayoutModel",
      "state": {}
     },
     "0f49ededc34645fcb6203c9fc19f439e": {
      "model_module": "@jupyter-widgets/controls",
      "model_module_version": "1.5.0",
      "model_name": "ButtonModel",
      "state": {
       "description": "Complete",
       "layout": "IPY_MODEL_d416ed6155a24de4a8bb9f89979e45cc",
       "style": "IPY_MODEL_cf4269321faa4d37bea3d5380f17b886"
      }
     },
     "0f6862c81e5b4464bb24b31fcf8d25fa": {
      "model_module": "@jupyter-widgets/controls",
      "model_module_version": "1.5.0",
      "model_name": "ButtonStyleModel",
      "state": {}
     },
     "0f89a38f43264b8786facee502d337ce": {
      "model_module": "@jupyter-widgets/base",
      "model_module_version": "1.2.0",
      "model_name": "LayoutModel",
      "state": {}
     },
     "0fa97099deb64d97b826a55b2ec0c4dc": {
      "model_module": "@jupyter-widgets/controls",
      "model_module_version": "1.5.0",
      "model_name": "HTMLModel",
      "state": {
       "layout": "IPY_MODEL_95d23b3257f9489e8a6c2352ad89a468",
       "style": "IPY_MODEL_340af6cefad44e84a5a1f7035cca7291",
       "value": "<i>Wählen Sie die <ins>eine</ins> korrekte Antwort aus: </i>"
      }
     },
     "0fc2563919e042f3a9f8e813d8b6edd7": {
      "model_module": "@jupyter-widgets/base",
      "model_module_version": "1.2.0",
      "model_name": "LayoutModel",
      "state": {
       "width": "250px"
      }
     },
     "0fe474c99248415faf8e038fd5254fbd": {
      "model_module": "@jupyter-widgets/base",
      "model_module_version": "1.2.0",
      "model_name": "LayoutModel",
      "state": {
       "width": "250px"
      }
     },
     "0fedb9f447f346269bd87fd5ad125d97": {
      "model_module": "@jupyter-widgets/controls",
      "model_module_version": "1.5.0",
      "model_name": "ButtonStyleModel",
      "state": {
       "button_color": "lightgreen"
      }
     },
     "10822e628f8246dca596127db0eed34c": {
      "model_module": "@jupyter-widgets/controls",
      "model_module_version": "1.5.0",
      "model_name": "ButtonModel",
      "state": {
       "description": "Shift",
       "layout": "IPY_MODEL_87a6bc0934904f8f899dced66655e63f",
       "style": "IPY_MODEL_f89a44cb02f8400db650d8389eb77384"
      }
     },
     "1092de54526649cebcb2865189f4520d": {
      "model_module": "@jupyter-widgets/base",
      "model_module_version": "1.2.0",
      "model_name": "LayoutModel",
      "state": {}
     },
     "10b2a76ff7ab4a35aa3d95e21dc8954f": {
      "model_module": "@jupyter-widgets/controls",
      "model_module_version": "1.5.0",
      "model_name": "ButtonModel",
      "state": {
       "description": "Complete",
       "layout": "IPY_MODEL_655402e89671431abd664c2a13163451",
       "style": "IPY_MODEL_2b90956bb8784e08964fa6b27012ddfa"
      }
     },
     "10cd271881944a02b459e0f0251af5d7": {
      "model_module": "@jupyter-widgets/controls",
      "model_module_version": "1.5.0",
      "model_name": "VBoxModel",
      "state": {
       "children": [
        "IPY_MODEL_93df47fc2cd7415b9d842388ed1adbe4",
        "IPY_MODEL_ed1e61ec4adc4295a11d464587fce33a",
        "IPY_MODEL_a00f9486f1414f6f9b0c186f84b239c7",
        "IPY_MODEL_1c3aa209b95c4ee290380a6a1ce410c6",
        "IPY_MODEL_0971b0cda40d4678aa9f16571ba5197e"
       ],
       "layout": "IPY_MODEL_54e8c5381a6c4c209fb832d2afe27464"
      }
     },
     "10db7c0c1ef54025bd3f196a14ff5a0c": {
      "model_module": "@jupyter-widgets/controls",
      "model_module_version": "1.5.0",
      "model_name": "VBoxModel",
      "state": {
       "children": [
        "IPY_MODEL_9223136b70cd432fa506a6b31203378a",
        "IPY_MODEL_055cf8c9ca26435cbebf954e89b54364",
        "IPY_MODEL_9ee195ab4ded4b3e95112175a82f3eec",
        "IPY_MODEL_485cd019633e4f3c9219742f0542ed0d",
        "IPY_MODEL_bb61264bbaf74de2a840b9a80bb88d70"
       ],
       "layout": "IPY_MODEL_2ab05596d07a4d62a61c7aa0b39eee70"
      }
     },
     "10df1ee91dd348b38897012a85762beb": {
      "model_module": "@jupyter-widgets/base",
      "model_module_version": "1.2.0",
      "model_name": "LayoutModel",
      "state": {}
     },
     "10efe42361f94a50bba403b3d491fb50": {
      "model_module": "@jupyter-widgets/controls",
      "model_module_version": "1.5.0",
      "model_name": "HBoxModel",
      "state": {
       "children": [
        "IPY_MODEL_33d03d01c4e14d19a49cb7f5dcf4adc9",
        "IPY_MODEL_1221dbaeb62741048ecef385232c4b28"
       ],
       "layout": "IPY_MODEL_576531e01910404fbf5b46acb663caf1"
      }
     },
     "11302f0022c04309ba9cf7b68955c165": {
      "model_module": "@jupyter-widgets/base",
      "model_module_version": "1.2.0",
      "model_name": "LayoutModel",
      "state": {
       "justify_content": "center"
      }
     },
     "1145a123ce8349b2a2b74e03b1da49ce": {
      "model_module": "@jupyter-widgets/controls",
      "model_module_version": "1.5.0",
      "model_name": "DescriptionStyleModel",
      "state": {
       "description_width": ""
      }
     },
     "11879f2af29b412bb91b20f258e4b636": {
      "model_module": "@jupyter-widgets/base",
      "model_module_version": "1.2.0",
      "model_name": "LayoutModel",
      "state": {}
     },
     "1197f016b37a494c9d8d74d3afa0438b": {
      "model_module": "@jupyter-widgets/controls",
      "model_module_version": "1.5.0",
      "model_name": "DescriptionStyleModel",
      "state": {
       "description_width": ""
      }
     },
     "119d7753035c45dbb2998417d8e16fa9": {
      "model_module": "@jupyter-widgets/controls",
      "model_module_version": "1.5.0",
      "model_name": "ButtonModel",
      "state": {
       "description": "Predict",
       "layout": "IPY_MODEL_9153fae2ce0f47c59d884b76fcd78417",
       "style": "IPY_MODEL_fe821d51a1334cdd8b766dd203085693"
      }
     },
     "11a0e9d37aed4480b4341e9cd1ca67ea": {
      "model_module": "@jupyter-widgets/controls",
      "model_module_version": "1.5.0",
      "model_name": "ButtonModel",
      "state": {
       "description": "Recusive Descent",
       "layout": "IPY_MODEL_6c98777b6b844365829a95ebba66d27a",
       "style": "IPY_MODEL_b35543383c104849bf65eaa1be92f967"
      }
     },
     "11adaa0b582c486abec757d2423e3c17": {
      "model_module": "@jupyter-widgets/controls",
      "model_module_version": "1.5.0",
      "model_name": "ButtonStyleModel",
      "state": {}
     },
     "11b96385393845e48c7dc380b566cd58": {
      "model_module": "@jupyter-widgets/base",
      "model_module_version": "1.2.0",
      "model_name": "LayoutModel",
      "state": {
       "width": "600px"
      }
     },
     "11c47eba35ca43c3a7083a4c1e2c1148": {
      "model_module": "@jupyter-widgets/controls",
      "model_module_version": "1.5.0",
      "model_name": "ButtonModel",
      "state": {
       "description": "Complete",
       "layout": "IPY_MODEL_de7ef3d4eb61408a9d56b6ea5a27603b",
       "style": "IPY_MODEL_34a4397781ba49ef8883e202ad4ca132"
      }
     },
     "11c9c987c5604bb19c2f858498380301": {
      "model_module": "@jupyter-widgets/controls",
      "model_module_version": "1.5.0",
      "model_name": "ButtonModel",
      "state": {
       "description": "Scan",
       "layout": "IPY_MODEL_30fcc9acdac8445bbd6f605c6934ee1b",
       "style": "IPY_MODEL_d28cf03c2081440dbe14fd7bb39964cc"
      }
     },
     "11db1e2f29604c118e0dd100f507deca": {
      "model_module": "@jupyter-widgets/controls",
      "model_module_version": "1.5.0",
      "model_name": "DescriptionStyleModel",
      "state": {
       "description_width": ""
      }
     },
     "121868b4411b47d29a613c6b710b6798": {
      "model_module": "@jupyter-widgets/controls",
      "model_module_version": "1.5.0",
      "model_name": "ButtonStyleModel",
      "state": {}
     },
     "1221dbaeb62741048ecef385232c4b28": {
      "model_module": "@jupyter-widgets/controls",
      "model_module_version": "1.5.0",
      "model_name": "ButtonModel",
      "state": {
       "description": "Scan",
       "layout": "IPY_MODEL_70d7f5aebe584a6d99313f44728ade5b",
       "style": "IPY_MODEL_ee714054188a4d6c8983faa87e48f7f3"
      }
     },
     "1242f887c3e248a4ac790c90b05ccfcc": {
      "model_module": "@jupyter-widgets/controls",
      "model_module_version": "1.5.0",
      "model_name": "ButtonModel",
      "state": {
       "description": "Predict",
       "layout": "IPY_MODEL_48ee5fa3d33045dca147709394909b35",
       "style": "IPY_MODEL_4afa624841bf4bb3a3b308d1d688e8fa"
      }
     },
     "1285ba14bbad4c5fafc6fb7a4ae886e1": {
      "model_module": "@jupyter-widgets/base",
      "model_module_version": "1.2.0",
      "model_name": "LayoutModel",
      "state": {
       "width": "600px"
      }
     },
     "12a7cad07c6e4bb8ae9d8215cab98233": {
      "model_module": "@jupyter-widgets/base",
      "model_module_version": "1.2.0",
      "model_name": "LayoutModel",
      "state": {
       "justify_content": "center"
      }
     },
     "12f5d9c2e5dd41b88ddccb367f13bf36": {
      "model_module": "@jupyter-widgets/base",
      "model_module_version": "1.2.0",
      "model_name": "LayoutModel",
      "state": {
       "width": "250px"
      }
     },
     "1351bc859cd2490bb1644af0d574d864": {
      "model_module": "@jupyter-widgets/controls",
      "model_module_version": "1.5.0",
      "model_name": "ButtonModel",
      "state": {
       "description": "Shift Reduce",
       "layout": "IPY_MODEL_3eaf2a91492040f49627760f677e24d5",
       "style": "IPY_MODEL_ae9a2dce1c3e45bdafa92342d955a148"
      }
     },
     "1399eafbac6c480790206c9d974c61c5": {
      "model_module": "@jupyter-widgets/base",
      "model_module_version": "1.2.0",
      "model_name": "LayoutModel",
      "state": {}
     },
     "13c72031d22d4140984c2bdf08491f77": {
      "model_module": "@jupyter-widgets/controls",
      "model_module_version": "1.5.0",
      "model_name": "ButtonStyleModel",
      "state": {}
     },
     "13cea67195c3470dad9a19456751dbd1": {
      "model_module": "@jupyter-widgets/base",
      "model_module_version": "1.2.0",
      "model_name": "LayoutModel",
      "state": {
       "justify_content": "center"
      }
     },
     "13e540d321e9468d8aa11be42bae9308": {
      "model_module": "@jupyter-widgets/controls",
      "model_module_version": "1.5.0",
      "model_name": "ButtonModel",
      "state": {
       "description": "Recusive Descent",
       "layout": "IPY_MODEL_b81b949d16b34eda9d94d03ed81c7700",
       "style": "IPY_MODEL_be400e12a5e7428b87ee297b80fa2727"
      }
     },
     "1427f625865e4bea9abcc73494abace6": {
      "model_module": "@jupyter-widgets/controls",
      "model_module_version": "1.5.0",
      "model_name": "ButtonModel",
      "state": {
       "description": "Predict",
       "layout": "IPY_MODEL_94e5ae4ce6f04e2ebc5b96c939d4f280",
       "style": "IPY_MODEL_a8822a44cbaa4a81844557a2d00e5b31"
      }
     },
     "147e7a12e8b148e38d0c397c464a36bc": {
      "model_module": "@jupyter-widgets/controls",
      "model_module_version": "1.5.0",
      "model_name": "ButtonStyleModel",
      "state": {}
     },
     "14ae5270344e434ebd5f114a62082410": {
      "model_module": "@jupyter-widgets/controls",
      "model_module_version": "1.5.0",
      "model_name": "HTMLModel",
      "state": {
       "layout": "IPY_MODEL_546c268508214cf3831d2143c6fc6bf1",
       "style": "IPY_MODEL_0ef34292d8ff4212aa3e5df0df562c0e",
       "value": "<i>Wählen Sie die <ins>eine</ins> korrekte Antwort aus: </i>"
      }
     },
     "14bcf677033a4c8687b3e992c9fbd707": {
      "model_module": "@jupyter-widgets/base",
      "model_module_version": "1.2.0",
      "model_name": "LayoutModel",
      "state": {
       "width": "250px"
      }
     },
     "14c68f2797c34308936215a7088c2f5d": {
      "model_module": "@jupyter-widgets/controls",
      "model_module_version": "1.5.0",
      "model_name": "ButtonModel",
      "state": {
       "description": "Scan",
       "layout": "IPY_MODEL_672e0be8883f482d9ca7990329006c96",
       "style": "IPY_MODEL_0d21dc2342144844bb82d102ef1da12d"
      }
     },
     "14fb4dfd7501478fb6881bee2fe5ca47": {
      "model_module": "@jupyter-widgets/controls",
      "model_module_version": "1.5.0",
      "model_name": "ButtonStyleModel",
      "state": {}
     },
     "150622509a944b2c8e58563d722e1b9a": {
      "model_module": "@jupyter-widgets/base",
      "model_module_version": "1.2.0",
      "model_name": "LayoutModel",
      "state": {}
     },
     "1531708188f64667a4ca08b20b318c4d": {
      "model_module": "@jupyter-widgets/controls",
      "model_module_version": "1.5.0",
      "model_name": "HTMLModel",
      "state": {
       "layout": "IPY_MODEL_5b21488e112e45d3977c1768298957c4",
       "style": "IPY_MODEL_dee29bcfa353407a96d08d18e46350a7",
       "value": "<h4 style=\"font-size:14px;\">Um welchen Parser handelt es sich?</h4>"
      }
     },
     "153bd4514bd8416d82be1408f629c524": {
      "model_module": "@jupyter-widgets/controls",
      "model_module_version": "1.5.0",
      "model_name": "ButtonStyleModel",
      "state": {}
     },
     "1545970d6b06436ea8e1d9e2c0f54da7": {
      "model_module": "@jupyter-widgets/controls",
      "model_module_version": "1.5.0",
      "model_name": "DescriptionStyleModel",
      "state": {
       "description_width": "initial"
      }
     },
     "1554a03f34444ea4b29fbf5770b63d86": {
      "model_module": "@jupyter-widgets/base",
      "model_module_version": "1.2.0",
      "model_name": "LayoutModel",
      "state": {
       "width": "250px"
      }
     },
     "159679cfa8654178a58b05a8c5b44e75": {
      "model_module": "@jupyter-widgets/controls",
      "model_module_version": "1.5.0",
      "model_name": "HTMLModel",
      "state": {
       "layout": "IPY_MODEL_e4fc880147ff45e594289f43b0101c30",
       "style": "IPY_MODEL_949ee2f04ac5402c8bb4706b534be586",
       "value": "<h4 style=\"font-size:14px;\">Welche Operation folgt als nächstes?</h4>"
      }
     },
     "159cdf8dacdf4c8d9c881f2fc9e10a95": {
      "model_module": "@jupyter-widgets/controls",
      "model_module_version": "1.5.0",
      "model_name": "ButtonModel",
      "state": {
       "description": "Predict",
       "layout": "IPY_MODEL_4ba826ed22be4b3fb762a7c69a681b1f",
       "style": "IPY_MODEL_e656151eba424f4db06b901df283ae97"
      }
     },
     "15a2aaaba3f5490aa3cf9962fe86fcb6": {
      "model_module": "@jupyter-widgets/controls",
      "model_module_version": "1.5.0",
      "model_name": "ButtonModel",
      "state": {
       "description": "Keine der Alternativen",
       "layout": "IPY_MODEL_d85d9d4bd7d6475ca57f05ce5fcada29",
       "style": "IPY_MODEL_9a160ee39f9b4ab39c87cbd4d40d795a"
      }
     },
     "15c0ff6d330b45c38a1b26f090130662": {
      "model_module": "@jupyter-widgets/base",
      "model_module_version": "1.2.0",
      "model_name": "LayoutModel",
      "state": {}
     },
     "15c6f6efa5374673af49f365da862017": {
      "model_module": "@jupyter-widgets/base",
      "model_module_version": "1.2.0",
      "model_name": "LayoutModel",
      "state": {}
     },
     "15d8118ae2074ab380e03d9b2a71dd78": {
      "model_module": "@jupyter-widgets/controls",
      "model_module_version": "1.5.0",
      "model_name": "DescriptionStyleModel",
      "state": {
       "description_width": "initial"
      }
     },
     "15e0b6ca2faf4ae5825c48fc43649167": {
      "model_module": "@jupyter-widgets/base",
      "model_module_version": "1.2.0",
      "model_name": "LayoutModel",
      "state": {
       "width": "250px"
      }
     },
     "1624804ebd3a43639555e8fca807f559": {
      "model_module": "@jupyter-widgets/base",
      "model_module_version": "1.2.0",
      "model_name": "LayoutModel",
      "state": {
       "justify_content": "center"
      }
     },
     "1639229aa37b4e30a0b4b7918f2fc97d": {
      "model_module": "@jupyter-widgets/base",
      "model_module_version": "1.2.0",
      "model_name": "LayoutModel",
      "state": {
       "width": "250px"
      }
     },
     "165a06ddbc0d45569f0fb6bda8d3bb3f": {
      "model_module": "@jupyter-widgets/base",
      "model_module_version": "1.2.0",
      "model_name": "LayoutModel",
      "state": {
       "width": "250px"
      }
     },
     "167813ed7e8841088665ee4eb0a8b8f8": {
      "model_module": "@jupyter-widgets/controls",
      "model_module_version": "1.5.0",
      "model_name": "ButtonStyleModel",
      "state": {
       "button_color": "lightgreen"
      }
     },
     "16bbdddeceff4f7b846993693fcbd643": {
      "model_module": "@jupyter-widgets/base",
      "model_module_version": "1.2.0",
      "model_name": "LayoutModel",
      "state": {
       "width": "250px"
      }
     },
     "16cbcddbb6db4deb9f839b703d4c86a0": {
      "model_module": "@jupyter-widgets/controls",
      "model_module_version": "1.5.0",
      "model_name": "DescriptionStyleModel",
      "state": {
       "description_width": ""
      }
     },
     "1714ae72595d434d911e522810f19180": {
      "model_module": "@jupyter-widgets/controls",
      "model_module_version": "1.5.0",
      "model_name": "ButtonModel",
      "state": {
       "description": "Shift",
       "layout": "IPY_MODEL_4cb8f114ab504a239e81a47189972830",
       "style": "IPY_MODEL_a6225b75bc634f5db534210254beb3b6"
      }
     },
     "1719fccad2b5446ab3fc4b749e5c5eef": {
      "model_module": "@jupyter-widgets/controls",
      "model_module_version": "1.5.0",
      "model_name": "ButtonModel",
      "state": {
       "description": "Reduce",
       "layout": "IPY_MODEL_3dd6419755dc4b568ddbdab335f20107",
       "style": "IPY_MODEL_147e7a12e8b148e38d0c397c464a36bc"
      }
     },
     "1721181fbd0f4134b4ce57dd125436ce": {
      "model_module": "@jupyter-widgets/controls",
      "model_module_version": "1.5.0",
      "model_name": "DescriptionStyleModel",
      "state": {
       "description_width": ""
      }
     },
     "173d24cc5210459eb30975b3aa648000": {
      "model_module": "@jupyter-widgets/controls",
      "model_module_version": "1.5.0",
      "model_name": "ButtonStyleModel",
      "state": {}
     },
     "1765905975d8414e8dac783aa9517237": {
      "model_module": "@jupyter-widgets/controls",
      "model_module_version": "1.5.0",
      "model_name": "ButtonStyleModel",
      "state": {
       "button_color": "lightgreen"
      }
     },
     "1786a36370d24e708c18e0ed287bc6e4": {
      "model_module": "@jupyter-widgets/base",
      "model_module_version": "1.2.0",
      "model_name": "LayoutModel",
      "state": {
       "justify_content": "center"
      }
     },
     "17a7c3b2dcb64fc4ab48a3aec7e5a4ed": {
      "model_module": "@jupyter-widgets/controls",
      "model_module_version": "1.5.0",
      "model_name": "ButtonStyleModel",
      "state": {}
     },
     "17d24e32bdf047f6ace538f746fa186d": {
      "model_module": "@jupyter-widgets/controls",
      "model_module_version": "1.5.0",
      "model_name": "ButtonStyleModel",
      "state": {}
     },
     "17e0e3f733294878bcda49e4f1c78a88": {
      "model_module": "@jupyter-widgets/controls",
      "model_module_version": "1.5.0",
      "model_name": "HBoxModel",
      "state": {
       "children": [
        "IPY_MODEL_fa156639f99c4877ae3d82df0e3ea3b4",
        "IPY_MODEL_30cc57943ae54cea87a7152922064f08"
       ],
       "layout": "IPY_MODEL_d61e200a430b4b6e902234c356bdd939"
      }
     },
     "186a7232a881412b9f4c02d357d9a9a6": {
      "model_module": "@jupyter-widgets/controls",
      "model_module_version": "1.5.0",
      "model_name": "ButtonStyleModel",
      "state": {}
     },
     "18ddde32d16749e4815837dde44777df": {
      "model_module": "@jupyter-widgets/controls",
      "model_module_version": "1.5.0",
      "model_name": "HBoxModel",
      "state": {
       "children": [
        "IPY_MODEL_49cfe53dc8b14d7ba51bc991a303deb3",
        "IPY_MODEL_de95dabc6bc948b09255421616acbfce"
       ],
       "layout": "IPY_MODEL_2a841cb3a02d40dbae402a0b45838193"
      }
     },
     "18fd43f629604b44ba6e8e47ba1388df": {
      "model_module": "@jupyter-widgets/controls",
      "model_module_version": "1.5.0",
      "model_name": "ButtonModel",
      "state": {
       "description": "Complete",
       "layout": "IPY_MODEL_d65f99a5d5f6486099e7e911737106ad",
       "style": "IPY_MODEL_1d94652e56174a6a9759284de84c2af7"
      }
     },
     "1929d6e48f1145da83f7526d167b05bd": {
      "model_module": "@jupyter-widgets/controls",
      "model_module_version": "1.5.0",
      "model_name": "ButtonModel",
      "state": {
       "description": "Keine der Alternativen",
       "layout": "IPY_MODEL_62863215abd44cba9bdc3080ad4d78f8",
       "style": "IPY_MODEL_a7f270ec1eb54a47a55c83911225c8da"
      }
     },
     "1939a8f428c24428a78dd03f203eb583": {
      "model_module": "@jupyter-widgets/base",
      "model_module_version": "1.2.0",
      "model_name": "LayoutModel",
      "state": {
       "width": "250px"
      }
     },
     "1947f88e617f4693bc3c7d90864ba252": {
      "model_module": "@jupyter-widgets/controls",
      "model_module_version": "1.5.0",
      "model_name": "ButtonModel",
      "state": {
       "description": "Predict",
       "layout": "IPY_MODEL_14bcf677033a4c8687b3e992c9fbd707",
       "style": "IPY_MODEL_38dac53a49134fa182b99f8cd8ba8b7b"
      }
     },
     "1969f0302e0742559326a2d145a7c09d": {
      "model_module": "@jupyter-widgets/controls",
      "model_module_version": "1.5.0",
      "model_name": "CheckboxModel",
      "state": {
       "description": "Predict",
       "disabled": false,
       "layout": "IPY_MODEL_5e1fbc7a846f42f0ab1795ae15cf38ab",
       "style": "IPY_MODEL_3c303c52b9df40d69e34504b5c53abc7",
       "value": true
      }
     },
     "19a78a5f621e4403bed7147c02a0c405": {
      "model_module": "@jupyter-widgets/controls",
      "model_module_version": "1.5.0",
      "model_name": "HBoxModel",
      "state": {
       "children": [
        "IPY_MODEL_59478daa06d34c55bc3def8b250d16e8"
       ],
       "layout": "IPY_MODEL_90746c09d9d741068366ad8557ce92b4"
      }
     },
     "19adb99b42fc46f992aa5b93c922d92d": {
      "model_module": "@jupyter-widgets/controls",
      "model_module_version": "1.5.0",
      "model_name": "CheckboxModel",
      "state": {
       "description": "Reduce",
       "disabled": false,
       "layout": "IPY_MODEL_5fb11e3cda3645ca9116cf070cf7ac4c",
       "style": "IPY_MODEL_2c4c83a3bb3845c089d579c47f29d483",
       "value": false
      }
     },
     "19e9a5220471424f8a12c6353612600c": {
      "model_module": "@jupyter-widgets/base",
      "model_module_version": "1.2.0",
      "model_name": "LayoutModel",
      "state": {
       "justify_content": "center"
      }
     },
     "1a95d9a26c2343fb8cc22f9409d631f6": {
      "model_module": "@jupyter-widgets/controls",
      "model_module_version": "1.5.0",
      "model_name": "ButtonStyleModel",
      "state": {}
     },
     "1abd2512b0d54f1c9b27bdad301b72bb": {
      "model_module": "@jupyter-widgets/controls",
      "model_module_version": "1.5.0",
      "model_name": "HTMLModel",
      "state": {
       "layout": "IPY_MODEL_4386e63a365047bcabf9514b0253e19e",
       "style": "IPY_MODEL_86a76937a89f42daa9ef10a952204e3c",
       "value": "<i>Markieren Sie <ins>alle</ins> passenden Antworten: </i>"
      }
     },
     "1b575f1acf5348e8ad23c4fc510edb6d": {
      "model_module": "@jupyter-widgets/base",
      "model_module_version": "1.2.0",
      "model_name": "LayoutModel",
      "state": {
       "width": "600px"
      }
     },
     "1bf08df3602b4870b194bd0a8484173e": {
      "model_module": "@jupyter-widgets/base",
      "model_module_version": "1.2.0",
      "model_name": "LayoutModel",
      "state": {
       "width": "250px"
      }
     },
     "1bf662a8effc47a29c16b5f4efbaea31": {
      "model_module": "@jupyter-widgets/base",
      "model_module_version": "1.2.0",
      "model_name": "LayoutModel",
      "state": {
       "width": "250px"
      }
     },
     "1bfa7e1a0eea4639a5435b36b0ede8a4": {
      "model_module": "@jupyter-widgets/base",
      "model_module_version": "1.2.0",
      "model_name": "LayoutModel",
      "state": {
       "width": "250px"
      }
     },
     "1c3aa209b95c4ee290380a6a1ce410c6": {
      "model_module": "@jupyter-widgets/controls",
      "model_module_version": "1.5.0",
      "model_name": "HBoxModel",
      "state": {
       "children": [
        "IPY_MODEL_44facbffdc9f456cbd510cb67fdf3d4b",
        "IPY_MODEL_0c6a95aa2fb3495cb174cc240e4515c4"
       ],
       "layout": "IPY_MODEL_9d54f12704c24601a1b1412694433484"
      }
     },
     "1c63161acec143b5b2e0697d1cb1d06f": {
      "model_module": "@jupyter-widgets/controls",
      "model_module_version": "1.5.0",
      "model_name": "ButtonModel",
      "state": {
       "description": "Complete",
       "layout": "IPY_MODEL_e055420538e447b09aebb3c0ec4ec343",
       "style": "IPY_MODEL_074b1d54c4e246c8a817e588a76f6099"
      }
     },
     "1c74628fc96840b6a6f1ab0af9e7e868": {
      "model_module": "@jupyter-widgets/base",
      "model_module_version": "1.2.0",
      "model_name": "LayoutModel",
      "state": {}
     },
     "1c886070f5674611b45edc4e1465849c": {
      "model_module": "@jupyter-widgets/controls",
      "model_module_version": "1.5.0",
      "model_name": "ButtonModel",
      "state": {
       "description": "Shift",
       "layout": "IPY_MODEL_165a06ddbc0d45569f0fb6bda8d3bb3f",
       "style": "IPY_MODEL_173d24cc5210459eb30975b3aa648000"
      }
     },
     "1cac5d60e7054bd399c7958d07de201d": {
      "model_module": "@jupyter-widgets/controls",
      "model_module_version": "1.5.0",
      "model_name": "ButtonStyleModel",
      "state": {
       "button_color": "lightgreen"
      }
     },
     "1cd4a21170254e2a878a56833f41968a": {
      "model_module": "@jupyter-widgets/base",
      "model_module_version": "1.2.0",
      "model_name": "LayoutModel",
      "state": {
       "justify_content": "center"
      }
     },
     "1ced2e13667d44dcbe2838a020409614": {
      "model_module": "@jupyter-widgets/controls",
      "model_module_version": "1.5.0",
      "model_name": "ButtonStyleModel",
      "state": {
       "button_color": "lightgreen"
      }
     },
     "1cf5218e0827468991753c7dcdbf23f3": {
      "model_module": "@jupyter-widgets/controls",
      "model_module_version": "1.5.0",
      "model_name": "DescriptionStyleModel",
      "state": {
       "description_width": "initial"
      }
     },
     "1cf87f27f4384a95b735e4c78aee9d3a": {
      "model_module": "@jupyter-widgets/base",
      "model_module_version": "1.2.0",
      "model_name": "LayoutModel",
      "state": {}
     },
     "1d03abdf60294434920471d8b41cf9b4": {
      "model_module": "@jupyter-widgets/base",
      "model_module_version": "1.2.0",
      "model_name": "LayoutModel",
      "state": {}
     },
     "1d1f5d3b393646d18c1579471d331610": {
      "model_module": "@jupyter-widgets/controls",
      "model_module_version": "1.5.0",
      "model_name": "HTMLModel",
      "state": {
       "layout": "IPY_MODEL_8711070a2e43464295f6a2a825f36348",
       "style": "IPY_MODEL_bf80afd1c9d847c793fc33171d903006",
       "value": "<i>Wählen Sie die <ins>eine</ins> korrekte Antwort aus: </i>"
      }
     },
     "1d94652e56174a6a9759284de84c2af7": {
      "model_module": "@jupyter-widgets/controls",
      "model_module_version": "1.5.0",
      "model_name": "ButtonStyleModel",
      "state": {}
     },
     "1dbc5f9789574779bcc2b7533119cda5": {
      "model_module": "@jupyter-widgets/controls",
      "model_module_version": "1.5.0",
      "model_name": "ButtonStyleModel",
      "state": {}
     },
     "1dcf263a372f483398be3c2fe454351b": {
      "model_module": "@jupyter-widgets/controls",
      "model_module_version": "1.5.0",
      "model_name": "HBoxModel",
      "state": {
       "children": [
        "IPY_MODEL_8b3a25e8bfb34927a3a31f0b82638472",
        "IPY_MODEL_558084f3a46d483e9fdb8533d937475b"
       ],
       "layout": "IPY_MODEL_cd229d0299d445ec96b3f0ad8541b943"
      }
     },
     "1e21fb18d20c4aa991ab4edb06a309b1": {
      "model_module": "@jupyter-widgets/controls",
      "model_module_version": "1.5.0",
      "model_name": "HBoxModel",
      "state": {
       "children": [
        "IPY_MODEL_76d8bab35ac2462caebbf878bdbbfd3b",
        "IPY_MODEL_2d72b10a26214de888b5ffc31a74aae7"
       ],
       "layout": "IPY_MODEL_c0cd9185c58146acac29bf0f5d1eb297"
      }
     },
     "1e3820e69f9b4113a6496ca7d60a51ee": {
      "model_module": "@jupyter-widgets/controls",
      "model_module_version": "1.5.0",
      "model_name": "ButtonStyleModel",
      "state": {
       "button_color": "lightgreen"
      }
     },
     "1e41d7fdb07a485caf072a116d163abc": {
      "model_module": "@jupyter-widgets/controls",
      "model_module_version": "1.5.0",
      "model_name": "ButtonModel",
      "state": {
       "description": "Keine der Alternativen",
       "layout": "IPY_MODEL_4d8d185fbdbd4ee7aea39223a46f2fa2",
       "style": "IPY_MODEL_722ae9b9f06944a9bf1dde30f182e63d"
      }
     },
     "1e4de0021c49455f8f86bcb06c577746": {
      "model_module": "@jupyter-widgets/controls",
      "model_module_version": "1.5.0",
      "model_name": "DescriptionStyleModel",
      "state": {
       "description_width": ""
      }
     },
     "1eba682da6dc421884a90d5ccdf328a1": {
      "model_module": "@jupyter-widgets/controls",
      "model_module_version": "1.5.0",
      "model_name": "ButtonModel",
      "state": {
       "description": "Shift",
       "layout": "IPY_MODEL_2fcf9dbaf4334ecabad73662533cac37",
       "style": "IPY_MODEL_ff81b310ad544488bde3dc5c80e0aa12"
      }
     },
     "1f4d43b9e5a44f9a8234234a16fb1b95": {
      "model_module": "@jupyter-widgets/base",
      "model_module_version": "1.2.0",
      "model_name": "LayoutModel",
      "state": {
       "justify_content": "center"
      }
     },
     "1f5d55a454a447e78091f74fcb4721b7": {
      "model_module": "@jupyter-widgets/controls",
      "model_module_version": "1.5.0",
      "model_name": "DescriptionStyleModel",
      "state": {
       "description_width": ""
      }
     },
     "1f62020f310b4636a5a656a79480d375": {
      "model_module": "@jupyter-widgets/controls",
      "model_module_version": "1.5.0",
      "model_name": "ButtonModel",
      "state": {
       "description": "Reduce",
       "layout": "IPY_MODEL_26634e3348db4f9a8249d2c3f34c5fbb",
       "style": "IPY_MODEL_856b2cc13ce84d3583770e0c22996271"
      }
     },
     "1fc338984a01469ea2388e7056f58113": {
      "model_module": "@jupyter-widgets/controls",
      "model_module_version": "1.5.0",
      "model_name": "HTMLModel",
      "state": {
       "layout": "IPY_MODEL_62f0702dc5504b779df22f7778e4a8b4",
       "style": "IPY_MODEL_38519c0086ff4165ac2ea4884aaa244b",
       "value": "<i>Markieren Sie <ins>alle</ins> passenden Antworten: </i>"
      }
     },
     "1ff2109224b64e50ab2098e45838abda": {
      "model_module": "@jupyter-widgets/base",
      "model_module_version": "1.2.0",
      "model_name": "LayoutModel",
      "state": {
       "width": "250px"
      }
     },
     "200794e2b0c24db19a265694124e4136": {
      "model_module": "@jupyter-widgets/controls",
      "model_module_version": "1.5.0",
      "model_name": "ButtonStyleModel",
      "state": {}
     },
     "206a76ccf41d426ba2edd5018b072977": {
      "model_module": "@jupyter-widgets/controls",
      "model_module_version": "1.5.0",
      "model_name": "CheckboxModel",
      "state": {
       "description": "Scan",
       "disabled": false,
       "layout": "IPY_MODEL_b0a8af37bbe948499fc09b31004dc5ca",
       "style": "IPY_MODEL_304044c5242a41c7bf87ecab163493b5",
       "value": false
      }
     },
     "206d5faf495e4aa389b735735e8b516f": {
      "model_module": "@jupyter-widgets/controls",
      "model_module_version": "1.5.0",
      "model_name": "HBoxModel",
      "state": {
       "children": [
        "IPY_MODEL_1351bc859cd2490bb1644af0d574d864"
       ],
       "layout": "IPY_MODEL_42bb40d94b93485fba6fea2776dc77fe"
      }
     },
     "206df37cdeb34571941ceaa1297b9bf9": {
      "model_module": "@jupyter-widgets/controls",
      "model_module_version": "1.5.0",
      "model_name": "ButtonModel",
      "state": {
       "description": "Korrekt?",
       "layout": "IPY_MODEL_43abbf3ebe8f4054b1bab13a1af25624",
       "style": "IPY_MODEL_57eeb4be00094fee851f5bf872280e17"
      }
     },
     "208f44d1a60f41dd8cadbe45b21cce6a": {
      "model_module": "@jupyter-widgets/controls",
      "model_module_version": "1.5.0",
      "model_name": "ButtonStyleModel",
      "state": {
       "button_color": "lightgreen"
      }
     },
     "20f62a2dbfdf4dee9b241911aa3bd43b": {
      "model_module": "@jupyter-widgets/controls",
      "model_module_version": "1.5.0",
      "model_name": "HBoxModel",
      "state": {
       "children": [
        "IPY_MODEL_532917da99fd45a4a5511547e73c6b0b",
        "IPY_MODEL_7e778f87c9424dae8d63739e05898e15"
       ],
       "layout": "IPY_MODEL_fc41174b5c1c4e0ab0c729b437b725df"
      }
     },
     "2104f81b072048e1ab725637641f972a": {
      "model_module": "@jupyter-widgets/controls",
      "model_module_version": "1.5.0",
      "model_name": "ButtonStyleModel",
      "state": {}
     },
     "21851edb1eff494ca56043dd24e15bcd": {
      "model_module": "@jupyter-widgets/controls",
      "model_module_version": "1.5.0",
      "model_name": "ButtonStyleModel",
      "state": {}
     },
     "21b95c12cdf34a349a30b371512bab8e": {
      "model_module": "@jupyter-widgets/controls",
      "model_module_version": "1.5.0",
      "model_name": "DescriptionStyleModel",
      "state": {
       "description_width": "initial"
      }
     },
     "21dd328d4ae24ff48f72b151e2f6152f": {
      "model_module": "@jupyter-widgets/controls",
      "model_module_version": "1.5.0",
      "model_name": "DescriptionStyleModel",
      "state": {
       "description_width": "initial"
      }
     },
     "220c485ec3b048328a57ecddc8f65cdb": {
      "model_module": "@jupyter-widgets/controls",
      "model_module_version": "1.5.0",
      "model_name": "ButtonModel",
      "state": {
       "description": "Keine der Alternativen",
       "layout": "IPY_MODEL_ccf12375bb424f109625538fc65cc06b",
       "style": "IPY_MODEL_04317b18710b4ddfa1bf94a9a2213103"
      }
     },
     "2213b4b7935649bfb44499b9c598325d": {
      "model_module": "@jupyter-widgets/base",
      "model_module_version": "1.2.0",
      "model_name": "LayoutModel",
      "state": {
       "width": "250px"
      }
     },
     "222d348d99b04777af126b0ee5403cad": {
      "model_module": "@jupyter-widgets/controls",
      "model_module_version": "1.5.0",
      "model_name": "ButtonStyleModel",
      "state": {}
     },
     "22ba5cede46d4b1bb8661719d5b6dd2e": {
      "model_module": "@jupyter-widgets/base",
      "model_module_version": "1.2.0",
      "model_name": "LayoutModel",
      "state": {
       "justify_content": "center"
      }
     },
     "22ccab0ed9064463828d9f0a40c1d3d3": {
      "model_module": "@jupyter-widgets/controls",
      "model_module_version": "1.5.0",
      "model_name": "HTMLModel",
      "state": {
       "layout": "IPY_MODEL_6b6a213b787d401ca4458fd925fed616",
       "style": "IPY_MODEL_a7e5eecbc4ab47b4a3be01e5c7b2b006",
       "value": "<h4 style=\"font-size:14px;\">Welche Operation folgt als nächstes?</h4>"
      }
     },
     "22ddcda748f54985a9d7f84dd88eb2df": {
      "model_module": "@jupyter-widgets/controls",
      "model_module_version": "1.5.0",
      "model_name": "ButtonStyleModel",
      "state": {}
     },
     "22ec238fb2f64795a03d977c5db8c88b": {
      "model_module": "@jupyter-widgets/base",
      "model_module_version": "1.2.0",
      "model_name": "LayoutModel",
      "state": {
       "width": "600px"
      }
     },
     "22fb944be1fe44bd92ee854354855847": {
      "model_module": "@jupyter-widgets/base",
      "model_module_version": "1.2.0",
      "model_name": "LayoutModel",
      "state": {
       "width": "250px"
      }
     },
     "232b7d803247489593f22c88cd653aac": {
      "model_module": "@jupyter-widgets/controls",
      "model_module_version": "1.5.0",
      "model_name": "ButtonStyleModel",
      "state": {}
     },
     "23388ed8f9484f5e887ac7a26fcf74a4": {
      "model_module": "@jupyter-widgets/controls",
      "model_module_version": "1.5.0",
      "model_name": "DescriptionStyleModel",
      "state": {
       "description_width": ""
      }
     },
     "234e9364dbb248c1a23a569844bc3171": {
      "model_module": "@jupyter-widgets/controls",
      "model_module_version": "1.5.0",
      "model_name": "HBoxModel",
      "state": {
       "children": [
        "IPY_MODEL_713f608634c94f668761bbfc089fafe5",
        "IPY_MODEL_ab572c0cf69e4e1e98ecff6a9d6ad009"
       ],
       "layout": "IPY_MODEL_be42d1fc0ccb48d48bcbfba9ca8743af"
      }
     },
     "23b5cb9254564eed9e059fadbc6fc71d": {
      "model_module": "@jupyter-widgets/controls",
      "model_module_version": "1.5.0",
      "model_name": "ButtonStyleModel",
      "state": {}
     },
     "23d38725bb4e4520a90bfd996f115560": {
      "model_module": "@jupyter-widgets/controls",
      "model_module_version": "1.5.0",
      "model_name": "HBoxModel",
      "state": {
       "children": [
        "IPY_MODEL_9adb0fe0214f408a882a20ef8d6a8828",
        "IPY_MODEL_7c4a60bc2d9344ccb8ba73c34ae45f21"
       ],
       "layout": "IPY_MODEL_da1a9307e6e34a1394384590fe2989ab"
      }
     },
     "23f190d9e72247b682bf054839dbae11": {
      "model_module": "@jupyter-widgets/controls",
      "model_module_version": "1.5.0",
      "model_name": "HTMLModel",
      "state": {
       "layout": "IPY_MODEL_8dd1de5fc2114abc94683327d4b3234d",
       "style": "IPY_MODEL_f91466503c034123989f845d25f21fb4",
       "value": "<i>Wählen Sie die <ins>eine</ins> korrekte Antwort aus: </i>"
      }
     },
     "23f5009571634230ad87738ac18e7f0c": {
      "model_module": "@jupyter-widgets/controls",
      "model_module_version": "1.5.0",
      "model_name": "ButtonStyleModel",
      "state": {
       "button_color": "lightgreen"
      }
     },
     "2433bc944fdc476fa37779ae878b790d": {
      "model_module": "@jupyter-widgets/controls",
      "model_module_version": "1.5.0",
      "model_name": "VBoxModel",
      "state": {
       "children": [
        "IPY_MODEL_c94cc345cba348e4a9071f3ed9e51e0d",
        "IPY_MODEL_971fe5a43afc485dadd833c4cb3a917f",
        "IPY_MODEL_0efe28c2a41f4b9e9578b7e8ec1094d8",
        "IPY_MODEL_be84c57fef9f4af89a8cf09e73122e51"
       ],
       "layout": "IPY_MODEL_3e432e94a88d4356bf5bab7d46604080"
      }
     },
     "245b978b439e4578bfdf45ab9c3ae139": {
      "model_module": "@jupyter-widgets/controls",
      "model_module_version": "1.5.0",
      "model_name": "ButtonStyleModel",
      "state": {}
     },
     "2485c743cb1643b8a5b5e7421a4b947d": {
      "model_module": "@jupyter-widgets/base",
      "model_module_version": "1.2.0",
      "model_name": "LayoutModel",
      "state": {
       "justify_content": "center"
      }
     },
     "2496dbe926454d62a850b82da20b0842": {
      "model_module": "@jupyter-widgets/base",
      "model_module_version": "1.2.0",
      "model_name": "LayoutModel",
      "state": {}
     },
     "2496dfba223e467d9a3d70bfd6c90b13": {
      "model_module": "@jupyter-widgets/controls",
      "model_module_version": "1.5.0",
      "model_name": "ButtonModel",
      "state": {
       "description": "Predict",
       "layout": "IPY_MODEL_7c7670d4aabd484c8f5af03cd1041563",
       "style": "IPY_MODEL_d1e51442501944509cb877d36dd8572d"
      }
     },
     "24bc6a2811ff4c93bd6bdf2ed360cbc7": {
      "model_module": "@jupyter-widgets/controls",
      "model_module_version": "1.5.0",
      "model_name": "HTMLModel",
      "state": {
       "layout": "IPY_MODEL_31c19fa46ccc46d28569177b0964079e",
       "style": "IPY_MODEL_d7395e138b724af6ae3d6401d624af5a",
       "value": "<h4 style=\"font-size:14px;\">Welche Operation folgt als nächstes?</h4>"
      }
     },
     "24d3d70dece54e828815334a99fc2144": {
      "model_module": "@jupyter-widgets/base",
      "model_module_version": "1.2.0",
      "model_name": "LayoutModel",
      "state": {
       "width": "250px"
      }
     },
     "24d4645c8cfb4293a0883b4332abf535": {
      "model_module": "@jupyter-widgets/base",
      "model_module_version": "1.2.0",
      "model_name": "LayoutModel",
      "state": {}
     },
     "24eaffaf6b0541ec827487cb0fad51c6": {
      "model_module": "@jupyter-widgets/controls",
      "model_module_version": "1.5.0",
      "model_name": "ButtonModel",
      "state": {
       "description": "Recusive Descent",
       "layout": "IPY_MODEL_976ad134bd434c0ca1848e8ed0e6eb78",
       "style": "IPY_MODEL_62a1fef22fa04adbb02efbef5fb93e67"
      }
     },
     "250eee2eabb043bfb3cd3faf15efda0d": {
      "model_module": "@jupyter-widgets/controls",
      "model_module_version": "1.5.0",
      "model_name": "HBoxModel",
      "state": {
       "children": [
        "IPY_MODEL_ea7ac2b64160473780e8b0df5f46e01e"
       ],
       "layout": "IPY_MODEL_63784ce2329b4cdeb4e444d29827ed2e"
      }
     },
     "2549ec47500d43bf906a84208c27d6e6": {
      "model_module": "@jupyter-widgets/base",
      "model_module_version": "1.2.0",
      "model_name": "LayoutModel",
      "state": {
       "width": "250px"
      }
     },
     "256cddb767cb4731b514847d3af23aa1": {
      "model_module": "@jupyter-widgets/controls",
      "model_module_version": "1.5.0",
      "model_name": "HBoxModel",
      "state": {
       "children": [
        "IPY_MODEL_7f20a88a77e647ccb1af24cc43970481",
        "IPY_MODEL_e80d252f84f2459f88e0c02c75776aa9"
       ],
       "layout": "IPY_MODEL_d5a826fdcc4c4d988f4c149eef27489b"
      }
     },
     "256fb845f88f4ada888a0b4bfa09307c": {
      "model_module": "@jupyter-widgets/controls",
      "model_module_version": "1.5.0",
      "model_name": "DescriptionStyleModel",
      "state": {
       "description_width": ""
      }
     },
     "257f414e498e43ab81aef561a6b9418a": {
      "model_module": "@jupyter-widgets/controls",
      "model_module_version": "1.5.0",
      "model_name": "VBoxModel",
      "state": {
       "children": [
        "IPY_MODEL_5e806e8706184dbea416f3004355b3b2",
        "IPY_MODEL_23f190d9e72247b682bf054839dbae11",
        "IPY_MODEL_5948c5523da745a09e0c7b9372d07503",
        "IPY_MODEL_c15c2d285cee439cb90f1d7025237f46",
        "IPY_MODEL_a4801f13361c485e9cac6bde3642172f"
       ],
       "layout": "IPY_MODEL_c80bc544b8aa4d5f96b281b0ad140867"
      }
     },
     "258aef84bfe141579c16476e54166f4d": {
      "model_module": "@jupyter-widgets/controls",
      "model_module_version": "1.5.0",
      "model_name": "DescriptionStyleModel",
      "state": {
       "description_width": ""
      }
     },
     "260edccf59be439386256b955ed75c5d": {
      "model_module": "@jupyter-widgets/base",
      "model_module_version": "1.2.0",
      "model_name": "LayoutModel",
      "state": {
       "width": "250px"
      }
     },
     "261680a574194d91a96b2c52ca19be70": {
      "model_module": "@jupyter-widgets/base",
      "model_module_version": "1.2.0",
      "model_name": "LayoutModel",
      "state": {
       "width": "250px"
      }
     },
     "26301dac00434844a29ffa3c717c2b83": {
      "model_module": "@jupyter-widgets/base",
      "model_module_version": "1.2.0",
      "model_name": "LayoutModel",
      "state": {}
     },
     "263669c781944db5bbd13d31631da8f8": {
      "model_module": "@jupyter-widgets/controls",
      "model_module_version": "1.5.0",
      "model_name": "VBoxModel",
      "state": {
       "children": [
        "IPY_MODEL_f16df036827147748f2ff066b6b3d441",
        "IPY_MODEL_ccf8784d98a4439099d1ab1d223369f7",
        "IPY_MODEL_06d2b866037743eba42270cc1b6a2214",
        "IPY_MODEL_40d57db80248486c86c2f957fde29258",
        "IPY_MODEL_9e2ffec7ad6946c2aba43bd29bd03d1f"
       ],
       "layout": "IPY_MODEL_aeffcb543be04fcc8d8d817c63b9eeaf"
      }
     },
     "263ede028b00423fb065ae0cd4939df6": {
      "model_module": "@jupyter-widgets/controls",
      "model_module_version": "1.5.0",
      "model_name": "DescriptionStyleModel",
      "state": {
       "description_width": ""
      }
     },
     "2662de196e274377ad7152b1b1daedb5": {
      "model_module": "@jupyter-widgets/base",
      "model_module_version": "1.2.0",
      "model_name": "LayoutModel",
      "state": {}
     },
     "26634e3348db4f9a8249d2c3f34c5fbb": {
      "model_module": "@jupyter-widgets/base",
      "model_module_version": "1.2.0",
      "model_name": "LayoutModel",
      "state": {
       "width": "250px"
      }
     },
     "26b8a8e7c9d1454fba8747b11a9490f6": {
      "model_module": "@jupyter-widgets/controls",
      "model_module_version": "1.5.0",
      "model_name": "VBoxModel",
      "state": {
       "children": [
        "IPY_MODEL_d36e76bcb9dc4c798386786f581b4f1b",
        "IPY_MODEL_b156ea084497422d95834c1b9401a3bf",
        "IPY_MODEL_58f4a27dec8640ff8d77e31378249f6b",
        "IPY_MODEL_206df37cdeb34571941ceaa1297b9bf9"
       ],
       "layout": "IPY_MODEL_d8078c7aa2a44d4b80684575eada89fd"
      }
     },
     "26c6d0e20dc0492eb31e93c7ee6687da": {
      "model_module": "@jupyter-widgets/controls",
      "model_module_version": "1.5.0",
      "model_name": "DescriptionStyleModel",
      "state": {
       "description_width": "initial"
      }
     },
     "2716fb637e514e95adc6940c6d7f39db": {
      "model_module": "@jupyter-widgets/base",
      "model_module_version": "1.2.0",
      "model_name": "LayoutModel",
      "state": {
       "width": "250px"
      }
     },
     "279fa8c6af84440ab48d095a98aa93b2": {
      "model_module": "@jupyter-widgets/base",
      "model_module_version": "1.2.0",
      "model_name": "LayoutModel",
      "state": {
       "justify_content": "center"
      }
     },
     "27a87ddc54f841778d3d6cf236ecb420": {
      "model_module": "@jupyter-widgets/base",
      "model_module_version": "1.2.0",
      "model_name": "LayoutModel",
      "state": {
       "width": "250px"
      }
     },
     "27aad3b1a79c4b9d9e0de232a6af3c81": {
      "model_module": "@jupyter-widgets/controls",
      "model_module_version": "1.5.0",
      "model_name": "HBoxModel",
      "state": {
       "children": [
        "IPY_MODEL_47b6b95fcb804c28842e618f49d7fcc5"
       ],
       "layout": "IPY_MODEL_f5f323ab74414a219af09018f319751b"
      }
     },
     "27bbaedf9f02427f835d3e3a43bd5e4e": {
      "model_module": "@jupyter-widgets/controls",
      "model_module_version": "1.5.0",
      "model_name": "DescriptionStyleModel",
      "state": {
       "description_width": ""
      }
     },
     "27be2f22a88a42579c7ef4b181a0bdda": {
      "model_module": "@jupyter-widgets/base",
      "model_module_version": "1.2.0",
      "model_name": "LayoutModel",
      "state": {
       "width": "250px"
      }
     },
     "27c6da75b9ed43359f3042121fc72453": {
      "model_module": "@jupyter-widgets/controls",
      "model_module_version": "1.5.0",
      "model_name": "ButtonStyleModel",
      "state": {
       "button_color": "lightgreen"
      }
     },
     "27d0c310717746efa634fce1808eb983": {
      "model_module": "@jupyter-widgets/controls",
      "model_module_version": "1.5.0",
      "model_name": "DescriptionStyleModel",
      "state": {
       "description_width": "initial"
      }
     },
     "27dbd3bc8e6d4a0a8172f205bd7736ab": {
      "model_module": "@jupyter-widgets/controls",
      "model_module_version": "1.5.0",
      "model_name": "HBoxModel",
      "state": {
       "children": [
        "IPY_MODEL_89fbd791ec4345e49ef2f619347798b0",
        "IPY_MODEL_46e38b12a609437497c79687c42f04f9"
       ],
       "layout": "IPY_MODEL_eaaf5183c2254ebc93c438260a608052"
      }
     },
     "283546aeb546451c853d74f90311a5a8": {
      "model_module": "@jupyter-widgets/controls",
      "model_module_version": "1.5.0",
      "model_name": "VBoxModel",
      "state": {
       "children": [
        "IPY_MODEL_9bb46ac0bf8541329f16873d2bb0e7c1",
        "IPY_MODEL_7169b05861664892a0cb57c4cbebb161",
        "IPY_MODEL_4aa94289c0404862b581251252e8d80f",
        "IPY_MODEL_7fb6e4b3ead244e9a5f777251d93275b",
        "IPY_MODEL_c6ddd4f9de0d436c936d01e00c04b468"
       ],
       "layout": "IPY_MODEL_c52b7a89fbab4b87859772cc0e254ede"
      }
     },
     "28beabf7c7224543bcc1c2e5123a2149": {
      "model_module": "@jupyter-widgets/controls",
      "model_module_version": "1.5.0",
      "model_name": "CheckboxModel",
      "state": {
       "description": "Reduce",
       "disabled": false,
       "layout": "IPY_MODEL_b6e92764f7bc47de9089d88eb23434c2",
       "style": "IPY_MODEL_21dd328d4ae24ff48f72b151e2f6152f",
       "value": false
      }
     },
     "28c98546858549e5b1e6aed52ebd4d77": {
      "model_module": "@jupyter-widgets/controls",
      "model_module_version": "1.5.0",
      "model_name": "ButtonStyleModel",
      "state": {}
     },
     "294dd41273234e96ae96973a8a47665c": {
      "model_module": "@jupyter-widgets/base",
      "model_module_version": "1.2.0",
      "model_name": "LayoutModel",
      "state": {
       "width": "600px"
      }
     },
     "2951718f488d4966aa67ce842de37046": {
      "model_module": "@jupyter-widgets/controls",
      "model_module_version": "1.5.0",
      "model_name": "CheckboxModel",
      "state": {
       "description": "Reduce",
       "disabled": false,
       "layout": "IPY_MODEL_942ed8c14bf249a48d6e66e0fef485d7",
       "style": "IPY_MODEL_2bbfc2f3afcd425f8dd81e44cc40f71f",
       "value": false
      }
     },
     "297205d065c146868acbe7966a755393": {
      "model_module": "@jupyter-widgets/controls",
      "model_module_version": "1.5.0",
      "model_name": "HBoxModel",
      "state": {
       "children": [
        "IPY_MODEL_0bb50b4ec64b4b38a7b30bf76279dd81",
        "IPY_MODEL_e0d9556d5867408687131f74af028088"
       ],
       "layout": "IPY_MODEL_62a1b9822be74197a13da7f7e889419b"
      }
     },
     "2977c1e1c63a4e9097b79894ebcf5cc5": {
      "model_module": "@jupyter-widgets/base",
      "model_module_version": "1.2.0",
      "model_name": "LayoutModel",
      "state": {
       "justify_content": "center"
      }
     },
     "29ecdc6a620046cc8e811602d101aff9": {
      "model_module": "@jupyter-widgets/controls",
      "model_module_version": "1.5.0",
      "model_name": "ButtonModel",
      "state": {
       "description": "Shift",
       "layout": "IPY_MODEL_c1372dc53523445c9dbd0fab523e452d",
       "style": "IPY_MODEL_8f8b78fc4e994d89ac364c5d8017b880"
      }
     },
     "2a263a7dbd0047fa9cfeae9cf2d6ea34": {
      "model_module": "@jupyter-widgets/controls",
      "model_module_version": "1.5.0",
      "model_name": "DescriptionStyleModel",
      "state": {
       "description_width": "initial"
      }
     },
     "2a4dc81c6db1441d9c00321bc55af4e9": {
      "model_module": "@jupyter-widgets/controls",
      "model_module_version": "1.5.0",
      "model_name": "HBoxModel",
      "state": {
       "children": [
        "IPY_MODEL_f8a60b442af340d0826714eb47d8adf1",
        "IPY_MODEL_11a0e9d37aed4480b4341e9cd1ca67ea"
       ],
       "layout": "IPY_MODEL_d40db1ac0ae14824aa8ca92c39283359"
      }
     },
     "2a58f919ae104d7b8e26e5d33eff77a4": {
      "model_module": "@jupyter-widgets/controls",
      "model_module_version": "1.5.0",
      "model_name": "CheckboxModel",
      "state": {
       "description": "Shift",
       "disabled": false,
       "layout": "IPY_MODEL_7c0557f400044b608de2a2c608b86dde",
       "style": "IPY_MODEL_58b8e12851ab4285ae7211726c17be2d",
       "value": true
      }
     },
     "2a5ce81803a34f76aa134b1c2906eed1": {
      "model_module": "@jupyter-widgets/base",
      "model_module_version": "1.2.0",
      "model_name": "LayoutModel",
      "state": {}
     },
     "2a841cb3a02d40dbae402a0b45838193": {
      "model_module": "@jupyter-widgets/base",
      "model_module_version": "1.2.0",
      "model_name": "LayoutModel",
      "state": {}
     },
     "2a9f1adfb2ed4703ad4201d5aa550a78": {
      "model_module": "@jupyter-widgets/controls",
      "model_module_version": "1.5.0",
      "model_name": "ButtonModel",
      "state": {
       "description": "Shift",
       "layout": "IPY_MODEL_ea27efe2a485496a860e2cf57a9a7732",
       "style": "IPY_MODEL_0774f6d406b44ea7a2a24d8c4ee1e8a9"
      }
     },
     "2aa62ff4e9314a2e92c4106d88a7dc03": {
      "model_module": "@jupyter-widgets/controls",
      "model_module_version": "1.5.0",
      "model_name": "ButtonModel",
      "state": {
       "description": "Complete",
       "layout": "IPY_MODEL_708377f1afb8442fb58a4a43fcd7445f",
       "style": "IPY_MODEL_b027758eefc14d93a0f10978b47863fd"
      }
     },
     "2ab05596d07a4d62a61c7aa0b39eee70": {
      "model_module": "@jupyter-widgets/base",
      "model_module_version": "1.2.0",
      "model_name": "LayoutModel",
      "state": {}
     },
     "2ac49cca103a4a019c2a9792bdffaf33": {
      "model_module": "@jupyter-widgets/controls",
      "model_module_version": "1.5.0",
      "model_name": "VBoxModel",
      "state": {
       "children": [
        "IPY_MODEL_8ffd29defc894274bf1e119b593f9c62",
        "IPY_MODEL_1fc338984a01469ea2388e7056f58113",
        "IPY_MODEL_0e96df04a38a4b5c87035bd5f3badf17",
        "IPY_MODEL_381409c33b5d4528a163df522153e4d2"
       ],
       "layout": "IPY_MODEL_899d06bf7f464b17a270894128b52e02"
      }
     },
     "2ad19202ac4748b7b9532f3afce0e3f7": {
      "model_module": "@jupyter-widgets/base",
      "model_module_version": "1.2.0",
      "model_name": "LayoutModel",
      "state": {}
     },
     "2afaca63b15549cc97d96f77e2ecaf2e": {
      "model_module": "@jupyter-widgets/controls",
      "model_module_version": "1.5.0",
      "model_name": "ButtonModel",
      "state": {
       "description": "Earley",
       "layout": "IPY_MODEL_8c03ade32ae6438b8bd11f489f14b3bf",
       "style": "IPY_MODEL_1ced2e13667d44dcbe2838a020409614"
      }
     },
     "2b17120774794e0eaab17f809b1c580b": {
      "model_module": "@jupyter-widgets/controls",
      "model_module_version": "1.5.0",
      "model_name": "ButtonModel",
      "state": {
       "description": "Scan",
       "layout": "IPY_MODEL_7b6b0ac166584e02bc3b80057b6d1251",
       "style": "IPY_MODEL_948c880a5a2649908b727f5ff5893ea7"
      }
     },
     "2b229bdcfb9a475ba2c8ba77701e6064": {
      "model_module": "@jupyter-widgets/controls",
      "model_module_version": "1.5.0",
      "model_name": "HBoxModel",
      "state": {
       "children": [
        "IPY_MODEL_bc458d10313047bb95b2d5ecfd3d5be8"
       ],
       "layout": "IPY_MODEL_6a03bdf5e686403b872102a5010deeeb"
      }
     },
     "2b269e8916864919bdc1f98ea550b6fd": {
      "model_module": "@jupyter-widgets/controls",
      "model_module_version": "1.5.0",
      "model_name": "ButtonStyleModel",
      "state": {}
     },
     "2b90956bb8784e08964fa6b27012ddfa": {
      "model_module": "@jupyter-widgets/controls",
      "model_module_version": "1.5.0",
      "model_name": "ButtonStyleModel",
      "state": {}
     },
     "2b910b59b2a2423294976d6010626631": {
      "model_module": "@jupyter-widgets/controls",
      "model_module_version": "1.5.0",
      "model_name": "HTMLModel",
      "state": {
       "layout": "IPY_MODEL_04f0036eb5f74897839ce12ae0fd982e",
       "style": "IPY_MODEL_3842a5abb88040f690b3fe92c9e22856",
       "value": "<h4 style=\"font-size:14px;\">Um welchen Parser handelt es sich?</h4>"
      }
     },
     "2b92de799d71484287e789def5d4edb7": {
      "model_module": "@jupyter-widgets/controls",
      "model_module_version": "1.5.0",
      "model_name": "ButtonStyleModel",
      "state": {}
     },
     "2ba937294a0440249323cfb94f4dc9f7": {
      "model_module": "@jupyter-widgets/controls",
      "model_module_version": "1.5.0",
      "model_name": "ButtonStyleModel",
      "state": {}
     },
     "2bbfc2f3afcd425f8dd81e44cc40f71f": {
      "model_module": "@jupyter-widgets/controls",
      "model_module_version": "1.5.0",
      "model_name": "DescriptionStyleModel",
      "state": {
       "description_width": "initial"
      }
     },
     "2c3720090f0749b582f38f6e09b1f32c": {
      "model_module": "@jupyter-widgets/controls",
      "model_module_version": "1.5.0",
      "model_name": "DescriptionStyleModel",
      "state": {
       "description_width": ""
      }
     },
     "2c3b4e292e2847a8982386442ea51ac1": {
      "model_module": "@jupyter-widgets/controls",
      "model_module_version": "1.5.0",
      "model_name": "ButtonModel",
      "state": {
       "description": "Shift",
       "layout": "IPY_MODEL_347fe51322884a0bb42061f29b1baf49",
       "style": "IPY_MODEL_208f44d1a60f41dd8cadbe45b21cce6a"
      }
     },
     "2c3c1391583f47fc8449e87077e68b98": {
      "model_module": "@jupyter-widgets/base",
      "model_module_version": "1.2.0",
      "model_name": "LayoutModel",
      "state": {
       "width": "250px"
      }
     },
     "2c4c83a3bb3845c089d579c47f29d483": {
      "model_module": "@jupyter-widgets/controls",
      "model_module_version": "1.5.0",
      "model_name": "DescriptionStyleModel",
      "state": {
       "description_width": "initial"
      }
     },
     "2cafe601260e4353b4f63060eacfe0b5": {
      "model_module": "@jupyter-widgets/controls",
      "model_module_version": "1.5.0",
      "model_name": "ButtonStyleModel",
      "state": {}
     },
     "2cf1aeb1c91b45f6974e33a8b221fcc1": {
      "model_module": "@jupyter-widgets/controls",
      "model_module_version": "1.5.0",
      "model_name": "ButtonModel",
      "state": {
       "description": "Shift",
       "layout": "IPY_MODEL_6cf3641a94e84f17937aea4f356d1fe7",
       "style": "IPY_MODEL_c0aabfd01f8c4f84a5ea476fa93f732c"
      }
     },
     "2d3b220103ad49f4a1c966c18387e282": {
      "model_module": "@jupyter-widgets/controls",
      "model_module_version": "1.5.0",
      "model_name": "DescriptionStyleModel",
      "state": {
       "description_width": ""
      }
     },
     "2d65d57dd2bc4a67ba2625f540a63b3a": {
      "model_module": "@jupyter-widgets/controls",
      "model_module_version": "1.5.0",
      "model_name": "HBoxModel",
      "state": {
       "children": [
        "IPY_MODEL_b79fa99457be4122996a1675adacbeca",
        "IPY_MODEL_af0984beac674915bba27238d1de42bf"
       ],
       "layout": "IPY_MODEL_e8daa8de6b41415f9ac34e885eff4d98"
      }
     },
     "2d72b10a26214de888b5ffc31a74aae7": {
      "model_module": "@jupyter-widgets/controls",
      "model_module_version": "1.5.0",
      "model_name": "ButtonModel",
      "state": {
       "description": "Keine der Alternativen",
       "layout": "IPY_MODEL_bc8274ce0e39408686acafddbd8a1142",
       "style": "IPY_MODEL_41817ffe151c4435b28133b6e1f14d5b"
      }
     },
     "2d80349c609f426b8520ecf62b793c41": {
      "model_module": "@jupyter-widgets/base",
      "model_module_version": "1.2.0",
      "model_name": "LayoutModel",
      "state": {
       "justify_content": "center"
      }
     },
     "2d919c0ee2cc446ea5ed0a48168617ee": {
      "model_module": "@jupyter-widgets/controls",
      "model_module_version": "1.5.0",
      "model_name": "ButtonModel",
      "state": {
       "description": "Shift",
       "layout": "IPY_MODEL_665c598df5a742989e9537890c1f16ff",
       "style": "IPY_MODEL_795f3d37881944ccbdbd76411b6c663a"
      }
     },
     "2dc129bb866843829609e7bd783e0ebe": {
      "model_module": "@jupyter-widgets/controls",
      "model_module_version": "1.5.0",
      "model_name": "ButtonModel",
      "state": {
       "description": "Complete",
       "layout": "IPY_MODEL_5e31249afc8b4dc89e02a154284da461",
       "style": "IPY_MODEL_ecf922f79b3b43a38ae59c9e927009a2"
      }
     },
     "2dcea9a4dee7446ebee28485e6727d23": {
      "model_module": "@jupyter-widgets/controls",
      "model_module_version": "1.5.0",
      "model_name": "CheckboxModel",
      "state": {
       "description": "Complete",
       "disabled": false,
       "layout": "IPY_MODEL_2fbf7f07523b447b85997096ddd56635",
       "style": "IPY_MODEL_da7ea927ed6c4d39bc8d2ddf14ad708f",
       "value": false
      }
     },
     "2e0511291b8f4b5491f501c6994a4cc3": {
      "model_module": "@jupyter-widgets/controls",
      "model_module_version": "1.5.0",
      "model_name": "HTMLModel",
      "state": {
       "layout": "IPY_MODEL_6a786f025a31430c80e1b5fc62cb5d30",
       "style": "IPY_MODEL_1197f016b37a494c9d8d74d3afa0438b",
       "value": "<h4 style=\"font-size:14px;\">Welche Operation folgt als nächstes?</h4>"
      }
     },
     "2e137dbab8ac44aa8199b2141af30572": {
      "model_module": "@jupyter-widgets/controls",
      "model_module_version": "1.5.0",
      "model_name": "HTMLModel",
      "state": {
       "layout": "IPY_MODEL_01573a0b27b14050a42e26331676bb5d",
       "style": "IPY_MODEL_4a52b7499afe44378ef2cbae36accfc9",
       "value": "<i>Wählen Sie die <ins>eine</ins> korrekte Antwort aus: </i>"
      }
     },
     "2e26144f5d40482090fc45fe1906ff8e": {
      "model_module": "@jupyter-widgets/controls",
      "model_module_version": "1.5.0",
      "model_name": "ButtonStyleModel",
      "state": {}
     },
     "2e4418e12851465a9b6dc178b7afadfc": {
      "model_module": "@jupyter-widgets/base",
      "model_module_version": "1.2.0",
      "model_name": "LayoutModel",
      "state": {
       "justify_content": "center"
      }
     },
     "2e78a01855bf412fb2fee2ea9bc141ec": {
      "model_module": "@jupyter-widgets/controls",
      "model_module_version": "1.5.0",
      "model_name": "CheckboxModel",
      "state": {
       "description": "Shift",
       "disabled": false,
       "layout": "IPY_MODEL_bbb4dfaf33d145f2bba701669d1156a7",
       "style": "IPY_MODEL_e3608a3681e241259ecd6ed8fef4fb01",
       "value": false
      }
     },
     "2e8f960c1e5646bab59f5d6fe011cd4b": {
      "model_module": "@jupyter-widgets/controls",
      "model_module_version": "1.5.0",
      "model_name": "ButtonStyleModel",
      "state": {}
     },
     "2e95592b3f3d48f6b29bf8a934d88827": {
      "model_module": "@jupyter-widgets/base",
      "model_module_version": "1.2.0",
      "model_name": "LayoutModel",
      "state": {
       "width": "250px"
      }
     },
     "2ed27fd3d1104140a5ca9df12cde4303": {
      "model_module": "@jupyter-widgets/base",
      "model_module_version": "1.2.0",
      "model_name": "LayoutModel",
      "state": {
       "justify_content": "center"
      }
     },
     "2ededa303b60419c8e310c27437bd0c4": {
      "model_module": "@jupyter-widgets/base",
      "model_module_version": "1.2.0",
      "model_name": "LayoutModel",
      "state": {}
     },
     "2eeb2c42526d405a8b6eaa2c6b076a80": {
      "model_module": "@jupyter-widgets/base",
      "model_module_version": "1.2.0",
      "model_name": "LayoutModel",
      "state": {}
     },
     "2eeffd9fa38a462caf12e0de6b94464e": {
      "model_module": "@jupyter-widgets/base",
      "model_module_version": "1.2.0",
      "model_name": "LayoutModel",
      "state": {
       "width": "250px"
      }
     },
     "2f1e403f5e3f4e0e9f3d7b0410b13a0d": {
      "model_module": "@jupyter-widgets/base",
      "model_module_version": "1.2.0",
      "model_name": "LayoutModel",
      "state": {}
     },
     "2f2f7a95b66b47c1b3e9bb5b09c636e4": {
      "model_module": "@jupyter-widgets/base",
      "model_module_version": "1.2.0",
      "model_name": "LayoutModel",
      "state": {
       "width": "250px"
      }
     },
     "2f46a299effb4893ac74d0120ed2db69": {
      "model_module": "@jupyter-widgets/controls",
      "model_module_version": "1.5.0",
      "model_name": "ButtonStyleModel",
      "state": {
       "button_color": "lightgreen"
      }
     },
     "2f46c9d24346405497219c7bc09d99d5": {
      "model_module": "@jupyter-widgets/controls",
      "model_module_version": "1.5.0",
      "model_name": "ButtonStyleModel",
      "state": {}
     },
     "2f8eaf0b6001453fadb00c9a07438b98": {
      "model_module": "@jupyter-widgets/controls",
      "model_module_version": "1.5.0",
      "model_name": "DescriptionStyleModel",
      "state": {
       "description_width": ""
      }
     },
     "2f9634e053844cf5b04c96859ca0d197": {
      "model_module": "@jupyter-widgets/controls",
      "model_module_version": "1.5.0",
      "model_name": "DescriptionStyleModel",
      "state": {
       "description_width": ""
      }
     },
     "2fbf7f07523b447b85997096ddd56635": {
      "model_module": "@jupyter-widgets/base",
      "model_module_version": "1.2.0",
      "model_name": "LayoutModel",
      "state": {
       "width": "600px"
      }
     },
     "2fcf9dbaf4334ecabad73662533cac37": {
      "model_module": "@jupyter-widgets/base",
      "model_module_version": "1.2.0",
      "model_name": "LayoutModel",
      "state": {
       "width": "250px"
      }
     },
     "304044c5242a41c7bf87ecab163493b5": {
      "model_module": "@jupyter-widgets/controls",
      "model_module_version": "1.5.0",
      "model_name": "DescriptionStyleModel",
      "state": {
       "description_width": "initial"
      }
     },
     "3067515d20c445c090a1d199a8027698": {
      "model_module": "@jupyter-widgets/base",
      "model_module_version": "1.2.0",
      "model_name": "LayoutModel",
      "state": {}
     },
     "306da6c10aa341aa98c0282b99f1d77d": {
      "model_module": "@jupyter-widgets/base",
      "model_module_version": "1.2.0",
      "model_name": "LayoutModel",
      "state": {}
     },
     "30bc245257164fd89a4cb041a0ad7b6d": {
      "model_module": "@jupyter-widgets/controls",
      "model_module_version": "1.5.0",
      "model_name": "ButtonModel",
      "state": {
       "description": "Recusive Descent",
       "layout": "IPY_MODEL_9e450226ed774def9c98e4fff7a0f30f",
       "style": "IPY_MODEL_f8cc2f4d8c534c5fa3fb86fafa621f7a"
      }
     },
     "30c28ed0a5174419ad0119a87aa3395e": {
      "model_module": "@jupyter-widgets/base",
      "model_module_version": "1.2.0",
      "model_name": "LayoutModel",
      "state": {
       "width": "250px"
      }
     },
     "30cc57943ae54cea87a7152922064f08": {
      "model_module": "@jupyter-widgets/controls",
      "model_module_version": "1.5.0",
      "model_name": "ButtonModel",
      "state": {
       "description": "Keine der Alternativen",
       "layout": "IPY_MODEL_ca9c80b6633b47a69ad11edcc71d9dea",
       "style": "IPY_MODEL_66a5ce49b74f42f8ac64ef49ab86a66f"
      }
     },
     "30ccbe55d4d64714bcd2b6820fc76d0a": {
      "model_module": "@jupyter-widgets/controls",
      "model_module_version": "1.5.0",
      "model_name": "ButtonStyleModel",
      "state": {
       "button_color": "lightgreen"
      }
     },
     "30fcc9acdac8445bbd6f605c6934ee1b": {
      "model_module": "@jupyter-widgets/base",
      "model_module_version": "1.2.0",
      "model_name": "LayoutModel",
      "state": {
       "width": "250px"
      }
     },
     "30fec9d7d4e84330817479f037fd9387": {
      "model_module": "@jupyter-widgets/base",
      "model_module_version": "1.2.0",
      "model_name": "LayoutModel",
      "state": {}
     },
     "30ff9a0fec984661bd15ddb609b0f7b7": {
      "model_module": "@jupyter-widgets/base",
      "model_module_version": "1.2.0",
      "model_name": "LayoutModel",
      "state": {
       "width": "250px"
      }
     },
     "3104355bac2246dcb4bfbf5d23f02c82": {
      "model_module": "@jupyter-widgets/base",
      "model_module_version": "1.2.0",
      "model_name": "LayoutModel",
      "state": {}
     },
     "3139ffda7ebc4ff5a0c2b28151221bca": {
      "model_module": "@jupyter-widgets/controls",
      "model_module_version": "1.5.0",
      "model_name": "ButtonModel",
      "state": {
       "description": "Recusive Descent",
       "layout": "IPY_MODEL_6d96d5bde31d4e57bd7ee031937eedc4",
       "style": "IPY_MODEL_bd1bd3501894445080790fbce077059a"
      }
     },
     "3176b9b749a74fa4a835b8f27b068d9b": {
      "model_module": "@jupyter-widgets/controls",
      "model_module_version": "1.5.0",
      "model_name": "ButtonStyleModel",
      "state": {}
     },
     "3184b6c3fe2044be9eab955be882d9fb": {
      "model_module": "@jupyter-widgets/base",
      "model_module_version": "1.2.0",
      "model_name": "LayoutModel",
      "state": {
       "width": "250px"
      }
     },
     "31c19fa46ccc46d28569177b0964079e": {
      "model_module": "@jupyter-widgets/base",
      "model_module_version": "1.2.0",
      "model_name": "LayoutModel",
      "state": {
       "justify_content": "center"
      }
     },
     "31de47430a7f43268183f0e3e226c40c": {
      "model_module": "@jupyter-widgets/controls",
      "model_module_version": "1.5.0",
      "model_name": "ButtonModel",
      "state": {
       "description": "Scan",
       "layout": "IPY_MODEL_e3d876de5e454b1eb69b88846fc0055c",
       "style": "IPY_MODEL_95b23b8e8dd645faa6a20dba3db75919"
      }
     },
     "31e9da1da8ed4320b466259ddcdac04a": {
      "model_module": "@jupyter-widgets/controls",
      "model_module_version": "1.5.0",
      "model_name": "ButtonStyleModel",
      "state": {}
     },
     "31f82ff094d74725b5eb48f041d51409": {
      "model_module": "@jupyter-widgets/controls",
      "model_module_version": "1.5.0",
      "model_name": "ButtonModel",
      "state": {
       "description": "Keine der Alternativen",
       "layout": "IPY_MODEL_e12cd9e5dab24d5c890f02822b831d65",
       "style": "IPY_MODEL_706e974e45274f2f903e95963f3e72c1"
      }
     },
     "321cb8028bbd4303a3aa0f9eb3519655": {
      "model_module": "@jupyter-widgets/controls",
      "model_module_version": "1.5.0",
      "model_name": "HTMLModel",
      "state": {
       "layout": "IPY_MODEL_aab95b882e7143a3873560f104c31ab2",
       "style": "IPY_MODEL_efabc0e437f4444ea130a6f378bfe755",
       "value": "<h4 style=\"font-size:14px;\">Welche Operation folgt als nächstes?</h4>"
      }
     },
     "3230e64a4b3643dfbf97280271d0f3bf": {
      "model_module": "@jupyter-widgets/controls",
      "model_module_version": "1.5.0",
      "model_name": "ButtonModel",
      "state": {
       "description": "Earley",
       "layout": "IPY_MODEL_8a8a95b2701b4eed90a095d4036e6491",
       "style": "IPY_MODEL_2e8f960c1e5646bab59f5d6fe011cd4b"
      }
     },
     "3274479b0998404c96f4e75c4bac6055": {
      "model_module": "@jupyter-widgets/controls",
      "model_module_version": "1.5.0",
      "model_name": "ButtonModel",
      "state": {
       "description": "Korrekt?",
       "layout": "IPY_MODEL_ee2908de88c54e3693202e5cf7099167",
       "style": "IPY_MODEL_e3c5b46f771343dc87942436660c4056"
      }
     },
     "327d9c3c90c64646a8ad987fa321d5af": {
      "model_module": "@jupyter-widgets/base",
      "model_module_version": "1.2.0",
      "model_name": "LayoutModel",
      "state": {
       "width": "250px"
      }
     },
     "3288fe8bb16241a6803b9e67f23ff693": {
      "model_module": "@jupyter-widgets/base",
      "model_module_version": "1.2.0",
      "model_name": "LayoutModel",
      "state": {
       "justify_content": "center"
      }
     },
     "329f39e8fc9941e6bedcdf583bcb7bab": {
      "model_module": "@jupyter-widgets/controls",
      "model_module_version": "1.5.0",
      "model_name": "ButtonStyleModel",
      "state": {}
     },
     "32ad4215ccaf43aca867effde3bc7157": {
      "model_module": "@jupyter-widgets/controls",
      "model_module_version": "1.5.0",
      "model_name": "DescriptionStyleModel",
      "state": {
       "description_width": ""
      }
     },
     "32ce388d48a14ce295d4eaea814864ee": {
      "model_module": "@jupyter-widgets/controls",
      "model_module_version": "1.5.0",
      "model_name": "ButtonModel",
      "state": {
       "description": "Complete",
       "layout": "IPY_MODEL_050b38e2f80b4dfdb9b576448fee9c39",
       "style": "IPY_MODEL_e6a09ea36bf54117b1e13d54587b3c37"
      }
     },
     "32d13bf952b84757984be6c45749d418": {
      "model_module": "@jupyter-widgets/controls",
      "model_module_version": "1.5.0",
      "model_name": "ButtonStyleModel",
      "state": {}
     },
     "32faed6d30cb43b2908171af7fab4a3c": {
      "model_module": "@jupyter-widgets/base",
      "model_module_version": "1.2.0",
      "model_name": "LayoutModel",
      "state": {}
     },
     "3346308f9d5f4954a2c5cd5fb50c04eb": {
      "model_module": "@jupyter-widgets/controls",
      "model_module_version": "1.5.0",
      "model_name": "DescriptionStyleModel",
      "state": {
       "description_width": ""
      }
     },
     "334e74de4d80428f8bbbe9f082ec9b0e": {
      "model_module": "@jupyter-widgets/base",
      "model_module_version": "1.2.0",
      "model_name": "LayoutModel",
      "state": {
       "width": "250px"
      }
     },
     "335099f09fe746bcb093aaaaf465e39e": {
      "model_module": "@jupyter-widgets/controls",
      "model_module_version": "1.5.0",
      "model_name": "VBoxModel",
      "state": {
       "children": [
        "IPY_MODEL_bc2f83395a7142feb421f5839cef0e37",
        "IPY_MODEL_3c5e7867bdd544aea6560d0a04cc8ee4",
        "IPY_MODEL_28beabf7c7224543bcc1c2e5123a2149",
        "IPY_MODEL_390ce79e68d84b92a6df53b1c000e642",
        "IPY_MODEL_5ee3024d9c844eea9c0470ed3221e402"
       ],
       "layout": "IPY_MODEL_caea34a58f6d4adc80e0a28e941a327b"
      }
     },
     "33602ba503c14a25a8e62c4c955fc934": {
      "model_module": "@jupyter-widgets/controls",
      "model_module_version": "1.5.0",
      "model_name": "ButtonStyleModel",
      "state": {}
     },
     "336def28755e4cdb80ae9ca22b5d7b10": {
      "model_module": "@jupyter-widgets/controls",
      "model_module_version": "1.5.0",
      "model_name": "ButtonModel",
      "state": {
       "description": "Scan",
       "layout": "IPY_MODEL_41ee6df5e0ce427e83635cc5a0d6989a",
       "style": "IPY_MODEL_9b68bc38fa4443939c9e1fe6245e3f28"
      }
     },
     "338a9148df6344d69fc129fc8251a30e": {
      "model_module": "@jupyter-widgets/base",
      "model_module_version": "1.2.0",
      "model_name": "LayoutModel",
      "state": {
       "justify_content": "center"
      }
     },
     "339005570ad644f9808060dedd92fac3": {
      "model_module": "@jupyter-widgets/controls",
      "model_module_version": "1.5.0",
      "model_name": "ButtonStyleModel",
      "state": {
       "button_color": "lightgreen"
      }
     },
     "3395b130e273429baac80212866b882b": {
      "model_module": "@jupyter-widgets/base",
      "model_module_version": "1.2.0",
      "model_name": "LayoutModel",
      "state": {
       "width": "250px"
      }
     },
     "33c9feab91f24822b5de610ef94a3aca": {
      "model_module": "@jupyter-widgets/controls",
      "model_module_version": "1.5.0",
      "model_name": "ButtonModel",
      "state": {
       "description": "Keine der Alternativen",
       "layout": "IPY_MODEL_eebb499a0db745cf80d72408508f00f1",
       "style": "IPY_MODEL_2e26144f5d40482090fc45fe1906ff8e"
      }
     },
     "33d03d01c4e14d19a49cb7f5dcf4adc9": {
      "model_module": "@jupyter-widgets/controls",
      "model_module_version": "1.5.0",
      "model_name": "ButtonModel",
      "state": {
       "description": "Reduce",
       "layout": "IPY_MODEL_b595a8f9b7984be3a9cfc824dd6e3d7c",
       "style": "IPY_MODEL_6a8521000b9f41d6b4c23fa1c69fadd8"
      }
     },
     "33dd5fa0c0be403697d5c2a6dd2aaba7": {
      "model_module": "@jupyter-widgets/controls",
      "model_module_version": "1.5.0",
      "model_name": "HBoxModel",
      "state": {
       "children": [
        "IPY_MODEL_10b2a76ff7ab4a35aa3d95e21dc8954f",
        "IPY_MODEL_60b783c591704490a3514f1b4663e0e6"
       ],
       "layout": "IPY_MODEL_cdb6f201ef55448c930525a44a90f59b"
      }
     },
     "340af6cefad44e84a5a1f7035cca7291": {
      "model_module": "@jupyter-widgets/controls",
      "model_module_version": "1.5.0",
      "model_name": "DescriptionStyleModel",
      "state": {
       "description_width": ""
      }
     },
     "340e4d16f1cf4894bf1d3ec284e744a6": {
      "model_module": "@jupyter-widgets/controls",
      "model_module_version": "1.5.0",
      "model_name": "ButtonStyleModel",
      "state": {}
     },
     "341397a20ec5499689ec41187c8cd169": {
      "model_module": "@jupyter-widgets/controls",
      "model_module_version": "1.5.0",
      "model_name": "CheckboxModel",
      "state": {
       "description": "Shift",
       "disabled": false,
       "layout": "IPY_MODEL_50104a2b8c8a4a629b5e021b106bc86f",
       "style": "IPY_MODEL_36fee2cf647a4266afb7a4f701d4b771",
       "value": false
      }
     },
     "3419cf26d1e44b859c73970157a2e10e": {
      "model_module": "@jupyter-widgets/controls",
      "model_module_version": "1.5.0",
      "model_name": "ButtonModel",
      "state": {
       "description": "Predict",
       "layout": "IPY_MODEL_a48dff11fa7d489da4722fe15d6f0368",
       "style": "IPY_MODEL_2f46c9d24346405497219c7bc09d99d5"
      }
     },
     "3422c4cb612b431a836145722ae60691": {
      "model_module": "@jupyter-widgets/controls",
      "model_module_version": "1.5.0",
      "model_name": "DescriptionStyleModel",
      "state": {
       "description_width": ""
      }
     },
     "34448986f61f44faab4cc0419748e2ce": {
      "model_module": "@jupyter-widgets/base",
      "model_module_version": "1.2.0",
      "model_name": "LayoutModel",
      "state": {
       "width": "600px"
      }
     },
     "3466235e24a24daf8428ce4f376ff1d7": {
      "model_module": "@jupyter-widgets/base",
      "model_module_version": "1.2.0",
      "model_name": "LayoutModel",
      "state": {
       "width": "250px"
      }
     },
     "347fe51322884a0bb42061f29b1baf49": {
      "model_module": "@jupyter-widgets/base",
      "model_module_version": "1.2.0",
      "model_name": "LayoutModel",
      "state": {
       "width": "250px"
      }
     },
     "3480a18865bd4618b98393ea45dca2d1": {
      "model_module": "@jupyter-widgets/controls",
      "model_module_version": "1.5.0",
      "model_name": "ButtonStyleModel",
      "state": {}
     },
     "34a4397781ba49ef8883e202ad4ca132": {
      "model_module": "@jupyter-widgets/controls",
      "model_module_version": "1.5.0",
      "model_name": "ButtonStyleModel",
      "state": {}
     },
     "353076893df046a6abd1147c769eb996": {
      "model_module": "@jupyter-widgets/base",
      "model_module_version": "1.2.0",
      "model_name": "LayoutModel",
      "state": {
       "justify_content": "center"
      }
     },
     "35347b88724d4df29f4101a0496743ba": {
      "model_module": "@jupyter-widgets/controls",
      "model_module_version": "1.5.0",
      "model_name": "VBoxModel",
      "state": {
       "children": [
        "IPY_MODEL_656c474627fc497493961bef609bb3b7",
        "IPY_MODEL_fbd5fc7133b8442d9eebd975d0c32869",
        "IPY_MODEL_b0e72f50a74b4727a2362dd435d7742e",
        "IPY_MODEL_c95ca3a761394f23b5e730176ccefd3e",
        "IPY_MODEL_ee77700dfef246dbba4534748de5c465"
       ],
       "layout": "IPY_MODEL_8d6ef9274ac34b68805577ef76c23bd0"
      }
     },
     "35356812790242b98d2efbacf7331fae": {
      "model_module": "@jupyter-widgets/controls",
      "model_module_version": "1.5.0",
      "model_name": "ButtonModel",
      "state": {
       "description": "Shift",
       "layout": "IPY_MODEL_1bfa7e1a0eea4639a5435b36b0ede8a4",
       "style": "IPY_MODEL_4ab9f514548347eda5cefe61d6a57f9a"
      }
     },
     "35591a18f80847178e455597db73358f": {
      "model_module": "@jupyter-widgets/base",
      "model_module_version": "1.2.0",
      "model_name": "LayoutModel",
      "state": {
       "justify_content": "center"
      }
     },
     "356ba57e17be41fb84eac1451fc05270": {
      "model_module": "@jupyter-widgets/base",
      "model_module_version": "1.2.0",
      "model_name": "LayoutModel",
      "state": {}
     },
     "357bbf62eb8e487a86b4afde0af52a2b": {
      "model_module": "@jupyter-widgets/base",
      "model_module_version": "1.2.0",
      "model_name": "LayoutModel",
      "state": {}
     },
     "35a881aef81b4f2a8fbcd7549b034fe4": {
      "model_module": "@jupyter-widgets/controls",
      "model_module_version": "1.5.0",
      "model_name": "ButtonModel",
      "state": {
       "description": "Shift Reduce",
       "layout": "IPY_MODEL_58a74a959ea646218b5dc3a348fccc08",
       "style": "IPY_MODEL_697b0e0074fc4c39bb821f6433b5bad3"
      }
     },
     "35c53978d2cd4d5bb6ae89da81684776": {
      "model_module": "@jupyter-widgets/controls",
      "model_module_version": "1.5.0",
      "model_name": "HTMLModel",
      "state": {
       "layout": "IPY_MODEL_4c48b61de0724e3ab15fea02c6e2e12e",
       "style": "IPY_MODEL_9734191d0f2d4c26b4d1593e15a669e7",
       "value": "<i>Wählen Sie die <ins>eine</ins> korrekte Antwort aus: </i>"
      }
     },
     "35de2644961449f4b72b57d0e46aea0d": {
      "model_module": "@jupyter-widgets/controls",
      "model_module_version": "1.5.0",
      "model_name": "DescriptionStyleModel",
      "state": {
       "description_width": ""
      }
     },
     "35e1643fb9544669b5f984de735f10dd": {
      "model_module": "@jupyter-widgets/base",
      "model_module_version": "1.2.0",
      "model_name": "LayoutModel",
      "state": {
       "width": "600px"
      }
     },
     "3620b2a42c4d46c489870e04a11364f1": {
      "model_module": "@jupyter-widgets/base",
      "model_module_version": "1.2.0",
      "model_name": "LayoutModel",
      "state": {}
     },
     "365a382f833247fab297b75abd37245a": {
      "model_module": "@jupyter-widgets/controls",
      "model_module_version": "1.5.0",
      "model_name": "ButtonStyleModel",
      "state": {}
     },
     "3663185fcbc349a681dc82cec2a39e22": {
      "model_module": "@jupyter-widgets/controls",
      "model_module_version": "1.5.0",
      "model_name": "HBoxModel",
      "state": {
       "children": [
        "IPY_MODEL_5d4be78a45784ace871a314f4822eed4",
        "IPY_MODEL_acfb44cc91b64cfa977ce790dcf5ff7d"
       ],
       "layout": "IPY_MODEL_e0a9a56a49ae4a21af1081a89b92297e"
      }
     },
     "3673f93aa5934b4c84f2ebf18c4b3547": {
      "model_module": "@jupyter-widgets/controls",
      "model_module_version": "1.5.0",
      "model_name": "VBoxModel",
      "state": {
       "children": [
        "IPY_MODEL_2dcea9a4dee7446ebee28485e6727d23",
        "IPY_MODEL_e4d5fe64a6d84f7488f58655d271bdfb",
        "IPY_MODEL_5090141166f5452b8167b4bd8f69b405",
        "IPY_MODEL_a54183b7b271441d9468198b050064fb",
        "IPY_MODEL_2e78a01855bf412fb2fee2ea9bc141ec"
       ],
       "layout": "IPY_MODEL_6dac3d8149a64cbaaeb03cdf36d22511"
      }
     },
     "3695c0bd1e964a9ab0e1b7c88a716e53": {
      "model_module": "@jupyter-widgets/controls",
      "model_module_version": "1.5.0",
      "model_name": "HTMLModel",
      "state": {
       "layout": "IPY_MODEL_f68570584efc4aaf81722fda2bfe3489",
       "style": "IPY_MODEL_f8d7b5264a5146f7923bf21c190db5e8",
       "value": "<h4 style=\"font-size:14px;\">Welche Operationen hat der Recursive Descent Parser?</h4>"
      }
     },
     "3696bf0fec4447059acf2c6c500574e1": {
      "model_module": "@jupyter-widgets/base",
      "model_module_version": "1.2.0",
      "model_name": "LayoutModel",
      "state": {
       "width": "250px"
      }
     },
     "36c8d4718f234adbbd997f8f154abe8b": {
      "model_module": "@jupyter-widgets/controls",
      "model_module_version": "1.5.0",
      "model_name": "DescriptionStyleModel",
      "state": {
       "description_width": ""
      }
     },
     "36fee2cf647a4266afb7a4f701d4b771": {
      "model_module": "@jupyter-widgets/controls",
      "model_module_version": "1.5.0",
      "model_name": "DescriptionStyleModel",
      "state": {
       "description_width": "initial"
      }
     },
     "37136cd2a8b140be98b0b6d3bef46b42": {
      "model_module": "@jupyter-widgets/controls",
      "model_module_version": "1.5.0",
      "model_name": "VBoxModel",
      "state": {
       "children": [
        "IPY_MODEL_2e0511291b8f4b5491f501c6994a4cc3",
        "IPY_MODEL_bbc7a7f47570498a966135944c9b1092",
        "IPY_MODEL_56d59fb25cae4c2b82f53a3a5ed03a0e",
        "IPY_MODEL_43797b940373453f81ad8ec852016edb",
        "IPY_MODEL_ad76dd44c7e84ed49dee259116bc995c"
       ],
       "layout": "IPY_MODEL_687bca13414a40d3b8272f1cef3177b7"
      }
     },
     "37986f19f7074e98ac7222fe97955b3e": {
      "model_module": "@jupyter-widgets/controls",
      "model_module_version": "1.5.0",
      "model_name": "ButtonModel",
      "state": {
       "description": "Predict",
       "layout": "IPY_MODEL_575dcaac7610433da28d512e42103c63",
       "style": "IPY_MODEL_3b5ddd5369f4499688bcef98fe8d6252"
      }
     },
     "37d46f9086b040c2a783087c610a9c88": {
      "model_module": "@jupyter-widgets/base",
      "model_module_version": "1.2.0",
      "model_name": "LayoutModel",
      "state": {
       "width": "600px"
      }
     },
     "37e2883afbde444992053a0a4007ad97": {
      "model_module": "@jupyter-widgets/controls",
      "model_module_version": "1.5.0",
      "model_name": "ButtonModel",
      "state": {
       "description": "Predict",
       "layout": "IPY_MODEL_500abdc446ff40fcaece7c23668f1664",
       "style": "IPY_MODEL_70947b73d5a44f85afb4ba8541ff9ce6"
      }
     },
     "381409c33b5d4528a163df522153e4d2": {
      "model_module": "@jupyter-widgets/controls",
      "model_module_version": "1.5.0",
      "model_name": "ButtonModel",
      "state": {
       "description": "Korrekt?",
       "layout": "IPY_MODEL_018cf6adafab41f982be30730131c593",
       "style": "IPY_MODEL_a71fb26b6a7745a1a282a240709669fc"
      }
     },
     "3842a5abb88040f690b3fe92c9e22856": {
      "model_module": "@jupyter-widgets/controls",
      "model_module_version": "1.5.0",
      "model_name": "DescriptionStyleModel",
      "state": {
       "description_width": ""
      }
     },
     "38519c0086ff4165ac2ea4884aaa244b": {
      "model_module": "@jupyter-widgets/controls",
      "model_module_version": "1.5.0",
      "model_name": "DescriptionStyleModel",
      "state": {
       "description_width": ""
      }
     },
     "386127319b784b97b12271d1d0c3dc39": {
      "model_module": "@jupyter-widgets/controls",
      "model_module_version": "1.5.0",
      "model_name": "HBoxModel",
      "state": {
       "children": [
        "IPY_MODEL_d9d14502a80f444aad0e052a6185de99",
        "IPY_MODEL_affafc924a554df89c25e7d522616682"
       ],
       "layout": "IPY_MODEL_1cf87f27f4384a95b735e4c78aee9d3a"
      }
     },
     "388db37917e44170b83f48e66093f754": {
      "model_module": "@jupyter-widgets/base",
      "model_module_version": "1.2.0",
      "model_name": "LayoutModel",
      "state": {
       "width": "250px"
      }
     },
     "3890941ad769478f822733bc6b052e01": {
      "model_module": "@jupyter-widgets/base",
      "model_module_version": "1.2.0",
      "model_name": "LayoutModel",
      "state": {
       "justify_content": "center"
      }
     },
     "38963fca5c3445078c3859fb441716c3": {
      "model_module": "@jupyter-widgets/base",
      "model_module_version": "1.2.0",
      "model_name": "LayoutModel",
      "state": {}
     },
     "38dac53a49134fa182b99f8cd8ba8b7b": {
      "model_module": "@jupyter-widgets/controls",
      "model_module_version": "1.5.0",
      "model_name": "ButtonStyleModel",
      "state": {}
     },
     "38e090c22b37438cba2e1fd7f6b40e03": {
      "model_module": "@jupyter-widgets/controls",
      "model_module_version": "1.5.0",
      "model_name": "HBoxModel",
      "state": {
       "children": [
        "IPY_MODEL_f4c23639f5a1430bb36432d208b46517",
        "IPY_MODEL_7fdf292977d94530a8e8830a9e6128fa"
       ],
       "layout": "IPY_MODEL_6977d7a468194901afd6b9c441ff2e26"
      }
     },
     "390ce79e68d84b92a6df53b1c000e642": {
      "model_module": "@jupyter-widgets/controls",
      "model_module_version": "1.5.0",
      "model_name": "CheckboxModel",
      "state": {
       "description": "Scan",
       "disabled": false,
       "layout": "IPY_MODEL_37d46f9086b040c2a783087c610a9c88",
       "style": "IPY_MODEL_3a5ed484aa1945abb8c3aba7eec21623",
       "value": false
      }
     },
     "391b38a8b4314d808233e68b017b3856": {
      "model_module": "@jupyter-widgets/base",
      "model_module_version": "1.2.0",
      "model_name": "LayoutModel",
      "state": {}
     },
     "39e72d2ff0c14c26bd7e09c2ff66d96d": {
      "model_module": "@jupyter-widgets/base",
      "model_module_version": "1.2.0",
      "model_name": "LayoutModel",
      "state": {
       "justify_content": "center"
      }
     },
     "3a267c1c5de44ec8b8acaaa735519e76": {
      "model_module": "@jupyter-widgets/base",
      "model_module_version": "1.2.0",
      "model_name": "LayoutModel",
      "state": {
       "width": "250px"
      }
     },
     "3a2a62f151e243d183e0a202bf484ea3": {
      "model_module": "@jupyter-widgets/controls",
      "model_module_version": "1.5.0",
      "model_name": "CheckboxModel",
      "state": {
       "description": "Predict",
       "disabled": false,
       "layout": "IPY_MODEL_517d752365a144b286f1752a8607da59",
       "style": "IPY_MODEL_489df5a341674b8bad8a2ce9024251ba",
       "value": true
      }
     },
     "3a409bc41d944b2692bebae6f6a54bd3": {
      "model_module": "@jupyter-widgets/base",
      "model_module_version": "1.2.0",
      "model_name": "LayoutModel",
      "state": {}
     },
     "3a5ed484aa1945abb8c3aba7eec21623": {
      "model_module": "@jupyter-widgets/controls",
      "model_module_version": "1.5.0",
      "model_name": "DescriptionStyleModel",
      "state": {
       "description_width": "initial"
      }
     },
     "3a84bde1346f4495bc45d5502550526c": {
      "model_module": "@jupyter-widgets/controls",
      "model_module_version": "1.5.0",
      "model_name": "HTMLModel",
      "state": {
       "layout": "IPY_MODEL_c2d34507db784e79a475cd905a09a556",
       "style": "IPY_MODEL_d5047874711c46e9a01a61c2551a746d",
       "value": "<h4 style=\"font-size:14px;\">Welche Operation folgt als nächstes?</h4>"
      }
     },
     "3a8f864e55224a61978bc96fbcac9867": {
      "model_module": "@jupyter-widgets/controls",
      "model_module_version": "1.5.0",
      "model_name": "DescriptionStyleModel",
      "state": {
       "description_width": ""
      }
     },
     "3a9a7b6730a64170bc1cf3b719e61006": {
      "model_module": "@jupyter-widgets/base",
      "model_module_version": "1.2.0",
      "model_name": "LayoutModel",
      "state": {}
     },
     "3ab23f8d492549379ae6b98e666aa3af": {
      "model_module": "@jupyter-widgets/controls",
      "model_module_version": "1.5.0",
      "model_name": "HBoxModel",
      "state": {
       "children": [
        "IPY_MODEL_2496dfba223e467d9a3d70bfd6c90b13",
        "IPY_MODEL_c16cd7cc86934397aad10bc09c2526a1"
       ],
       "layout": "IPY_MODEL_b432a74735654965863ee73290aa71a1"
      }
     },
     "3b5ddd5369f4499688bcef98fe8d6252": {
      "model_module": "@jupyter-widgets/controls",
      "model_module_version": "1.5.0",
      "model_name": "ButtonStyleModel",
      "state": {}
     },
     "3ba94419994b40449e00cd69e1ce7f46": {
      "model_module": "@jupyter-widgets/base",
      "model_module_version": "1.2.0",
      "model_name": "LayoutModel",
      "state": {}
     },
     "3bdb0e7eed3c4fe6b70e2a504ae117dd": {
      "model_module": "@jupyter-widgets/controls",
      "model_module_version": "1.5.0",
      "model_name": "ButtonModel",
      "state": {
       "description": "Earley",
       "layout": "IPY_MODEL_2213b4b7935649bfb44499b9c598325d",
       "style": "IPY_MODEL_de6add2a2cf34c0e92edfaf58a30b4af"
      }
     },
     "3bf99cf257b24458b1ee00286e2b82b2": {
      "model_module": "@jupyter-widgets/controls",
      "model_module_version": "1.5.0",
      "model_name": "ButtonStyleModel",
      "state": {}
     },
     "3c16960648144005936f228474de44a2": {
      "model_module": "@jupyter-widgets/controls",
      "model_module_version": "1.5.0",
      "model_name": "ButtonStyleModel",
      "state": {}
     },
     "3c303c52b9df40d69e34504b5c53abc7": {
      "model_module": "@jupyter-widgets/controls",
      "model_module_version": "1.5.0",
      "model_name": "DescriptionStyleModel",
      "state": {
       "description_width": "initial"
      }
     },
     "3c575459d3a8453e95eaabf6a6151a55": {
      "model_module": "@jupyter-widgets/base",
      "model_module_version": "1.2.0",
      "model_name": "LayoutModel",
      "state": {
       "width": "250px"
      }
     },
     "3c5e7867bdd544aea6560d0a04cc8ee4": {
      "model_module": "@jupyter-widgets/controls",
      "model_module_version": "1.5.0",
      "model_name": "CheckboxModel",
      "state": {
       "description": "Predict",
       "disabled": false,
       "layout": "IPY_MODEL_ad306a1166a94cf98dd43db27cbaf6ae",
       "style": "IPY_MODEL_018bebb711b047aa8f59f2896df6149b",
       "value": false
      }
     },
     "3c72b35f33714471961260d8f56e395c": {
      "model_module": "@jupyter-widgets/controls",
      "model_module_version": "1.5.0",
      "model_name": "DescriptionStyleModel",
      "state": {
       "description_width": ""
      }
     },
     "3c8b154ea64c4d6bbcbfd12c97905960": {
      "model_module": "@jupyter-widgets/controls",
      "model_module_version": "1.5.0",
      "model_name": "ButtonStyleModel",
      "state": {}
     },
     "3ca433d44f264c69a5f1337ea8bf755b": {
      "model_module": "@jupyter-widgets/controls",
      "model_module_version": "1.5.0",
      "model_name": "HBoxModel",
      "state": {
       "children": [
        "IPY_MODEL_708622dca0f44527842c243dca6b8f4c"
       ],
       "layout": "IPY_MODEL_d611c3f5231f439fb32780a813dfd360"
      }
     },
     "3ca6c8dcc7674620a74421d814ee7c40": {
      "model_module": "@jupyter-widgets/controls",
      "model_module_version": "1.5.0",
      "model_name": "DescriptionStyleModel",
      "state": {
       "description_width": "initial"
      }
     },
     "3cb5da2cd45f42519d008f53df486ddc": {
      "model_module": "@jupyter-widgets/base",
      "model_module_version": "1.2.0",
      "model_name": "LayoutModel",
      "state": {}
     },
     "3cd2ec72a65640d3a3e9707d0734918d": {
      "model_module": "@jupyter-widgets/base",
      "model_module_version": "1.2.0",
      "model_name": "LayoutModel",
      "state": {}
     },
     "3ce83d05eff14ee3a318f38e6e5f5e7b": {
      "model_module": "@jupyter-widgets/controls",
      "model_module_version": "1.5.0",
      "model_name": "DescriptionStyleModel",
      "state": {
       "description_width": ""
      }
     },
     "3d074cbd85f5475f8ec3a7471bd9ffcf": {
      "model_module": "@jupyter-widgets/controls",
      "model_module_version": "1.5.0",
      "model_name": "HTMLModel",
      "state": {
       "layout": "IPY_MODEL_12a7cad07c6e4bb8ae9d8215cab98233",
       "style": "IPY_MODEL_82d42db99ef340dfb610c6bd72469386",
       "value": "<i>Wählen Sie die <ins>eine</ins> korrekte Antwort aus: </i>"
      }
     },
     "3d14f967ed7f432a90f60eab98f810ad": {
      "model_module": "@jupyter-widgets/controls",
      "model_module_version": "1.5.0",
      "model_name": "ButtonModel",
      "state": {
       "description": "Complete",
       "layout": "IPY_MODEL_f62e23b7cc214fea98f388b8b216b417",
       "style": "IPY_MODEL_4c93dcd5a08542bdb58b614a639d2bcf"
      }
     },
     "3dd6419755dc4b568ddbdab335f20107": {
      "model_module": "@jupyter-widgets/base",
      "model_module_version": "1.2.0",
      "model_name": "LayoutModel",
      "state": {
       "width": "250px"
      }
     },
     "3de4fc8273204b2aa14646dc6710066c": {
      "model_module": "@jupyter-widgets/controls",
      "model_module_version": "1.5.0",
      "model_name": "ButtonModel",
      "state": {
       "description": "Scan",
       "layout": "IPY_MODEL_8eadfa8f0fe24e4e912adb04bbd475cc",
       "style": "IPY_MODEL_85c09085d8064ddbbe5b2202565ff323"
      }
     },
     "3e432e94a88d4356bf5bab7d46604080": {
      "model_module": "@jupyter-widgets/base",
      "model_module_version": "1.2.0",
      "model_name": "LayoutModel",
      "state": {}
     },
     "3e52a34686ac4086913edc3e7f73d563": {
      "model_module": "@jupyter-widgets/controls",
      "model_module_version": "1.5.0",
      "model_name": "HBoxModel",
      "state": {
       "children": [
        "IPY_MODEL_59093dfff718433cbfe55b396792339e",
        "IPY_MODEL_081100818416450f854c2ce96f1dff97"
       ],
       "layout": "IPY_MODEL_a7d3aeae8ceb4aa99543d9f89dcf55ae"
      }
     },
     "3eaf2a91492040f49627760f677e24d5": {
      "model_module": "@jupyter-widgets/base",
      "model_module_version": "1.2.0",
      "model_name": "LayoutModel",
      "state": {
       "width": "250px"
      }
     },
     "3ee558ab04514bf58dac0d9d868f5448": {
      "model_module": "@jupyter-widgets/controls",
      "model_module_version": "1.5.0",
      "model_name": "ButtonModel",
      "state": {
       "description": "Shift",
       "layout": "IPY_MODEL_cada124924124e2ab35170d6fe89e44f",
       "style": "IPY_MODEL_06c6be43e8154c799fb8930bcda4ca5a"
      }
     },
     "3ef80e1456264791a16ab7655c381854": {
      "model_module": "@jupyter-widgets/base",
      "model_module_version": "1.2.0",
      "model_name": "LayoutModel",
      "state": {
       "width": "250px"
      }
     },
     "3f09f7ef90c84e16b49f4d951cdf8428": {
      "model_module": "@jupyter-widgets/controls",
      "model_module_version": "1.5.0",
      "model_name": "HTMLModel",
      "state": {
       "layout": "IPY_MODEL_90cfb3f96591416791bb638223055538",
       "style": "IPY_MODEL_480cf251644c491484b27fcf045a0665",
       "value": "<h4 style=\"font-size:14px;\">Welche Operation folgt als nächstes?</h4>"
      }
     },
     "3f65c367cc304a9d998012ec2484a613": {
      "model_module": "@jupyter-widgets/base",
      "model_module_version": "1.2.0",
      "model_name": "LayoutModel",
      "state": {
       "justify_content": "center"
      }
     },
     "3f75b86771a345d08e73a545c1c0b043": {
      "model_module": "@jupyter-widgets/controls",
      "model_module_version": "1.5.0",
      "model_name": "ButtonStyleModel",
      "state": {}
     },
     "3fe9dd1af31d4efaa46c687fd096981b": {
      "model_module": "@jupyter-widgets/controls",
      "model_module_version": "1.5.0",
      "model_name": "ButtonStyleModel",
      "state": {}
     },
     "400a9fb98ccc4be284043745174ed845": {
      "model_module": "@jupyter-widgets/base",
      "model_module_version": "1.2.0",
      "model_name": "LayoutModel",
      "state": {}
     },
     "4039a83539464ea480a7ba1bdb994656": {
      "model_module": "@jupyter-widgets/base",
      "model_module_version": "1.2.0",
      "model_name": "LayoutModel",
      "state": {
       "width": "250px"
      }
     },
     "40922ed0b15c456a9a9d5e9fcc915a3c": {
      "model_module": "@jupyter-widgets/controls",
      "model_module_version": "1.5.0",
      "model_name": "VBoxModel",
      "state": {
       "children": [
        "IPY_MODEL_1531708188f64667a4ca08b20b318c4d",
        "IPY_MODEL_bfcd1d80ccbb480da7d0dda3de9f0ab2",
        "IPY_MODEL_0674e6cb83f94a49879c12b549eb3592",
        "IPY_MODEL_250eee2eabb043bfb3cd3faf15efda0d"
       ],
       "layout": "IPY_MODEL_d909165330904329b568038b993872bc"
      }
     },
     "40a61126e7fd4e4ba9acf09f6aea22b1": {
      "model_module": "@jupyter-widgets/controls",
      "model_module_version": "1.5.0",
      "model_name": "DescriptionStyleModel",
      "state": {
       "description_width": ""
      }
     },
     "40d57db80248486c86c2f957fde29258": {
      "model_module": "@jupyter-widgets/controls",
      "model_module_version": "1.5.0",
      "model_name": "HBoxModel",
      "state": {
       "children": [
        "IPY_MODEL_432c5fbab12c491c8d44925576efc2f2",
        "IPY_MODEL_91bf9538680c43499986ac90812d3fe8"
       ],
       "layout": "IPY_MODEL_0bd39ed06cb2480fa4574dda06c385ec"
      }
     },
     "40df1e36b5fe460691d1a60bb37d066e": {
      "model_module": "@jupyter-widgets/controls",
      "model_module_version": "1.5.0",
      "model_name": "HBoxModel",
      "state": {
       "children": [
        "IPY_MODEL_c24bc73e26db414ebe77921e62854ec9",
        "IPY_MODEL_424c7dcbfd5a412dbeb2f7697915230f"
       ],
       "layout": "IPY_MODEL_803061ef1f2b43679b322f5114baa53c"
      }
     },
     "413427e807b24f5e89dcd0c94985dcf5": {
      "model_module": "@jupyter-widgets/base",
      "model_module_version": "1.2.0",
      "model_name": "LayoutModel",
      "state": {
       "width": "600px"
      }
     },
     "41368c3281d64aadb47a9a8b981088fe": {
      "model_module": "@jupyter-widgets/controls",
      "model_module_version": "1.5.0",
      "model_name": "ButtonModel",
      "state": {
       "description": "Shift Reduce",
       "layout": "IPY_MODEL_dfe93a0bad914a2f8980aac4d4cf6862",
       "style": "IPY_MODEL_454cb8c5bb6a4f7582223d9cbf167fe5"
      }
     },
     "413d6f3cc9cc4daea54dfb999a5b48a4": {
      "model_module": "@jupyter-widgets/controls",
      "model_module_version": "1.5.0",
      "model_name": "ButtonModel",
      "state": {
       "description": "Scan",
       "layout": "IPY_MODEL_5e46e9d5405b4cc28bd1d1ee7f96379d",
       "style": "IPY_MODEL_c4d9b080945a45e2b951ff1154d139b3"
      }
     },
     "416e831a69244626b7c032cccedeac44": {
      "model_module": "@jupyter-widgets/controls",
      "model_module_version": "1.5.0",
      "model_name": "ButtonModel",
      "state": {
       "description": "Scan",
       "layout": "IPY_MODEL_0e14634f5efa4c37b411bc824112a8a1",
       "style": "IPY_MODEL_33602ba503c14a25a8e62c4c955fc934"
      }
     },
     "41817ffe151c4435b28133b6e1f14d5b": {
      "model_module": "@jupyter-widgets/controls",
      "model_module_version": "1.5.0",
      "model_name": "ButtonStyleModel",
      "state": {}
     },
     "41bfe3ba5de645c3af9ed7dcd8ea12b7": {
      "model_module": "@jupyter-widgets/base",
      "model_module_version": "1.2.0",
      "model_name": "LayoutModel",
      "state": {
       "width": "250px"
      }
     },
     "41ee6df5e0ce427e83635cc5a0d6989a": {
      "model_module": "@jupyter-widgets/base",
      "model_module_version": "1.2.0",
      "model_name": "LayoutModel",
      "state": {
       "width": "250px"
      }
     },
     "420b0ad18807436597b309ba5277dd8d": {
      "model_module": "@jupyter-widgets/controls",
      "model_module_version": "1.5.0",
      "model_name": "DescriptionStyleModel",
      "state": {
       "description_width": ""
      }
     },
     "422ab47b70044db6a7359cc63b578daa": {
      "model_module": "@jupyter-widgets/base",
      "model_module_version": "1.2.0",
      "model_name": "LayoutModel",
      "state": {
       "width": "250px"
      }
     },
     "424c7dcbfd5a412dbeb2f7697915230f": {
      "model_module": "@jupyter-widgets/controls",
      "model_module_version": "1.5.0",
      "model_name": "ButtonModel",
      "state": {
       "description": "Shift",
       "layout": "IPY_MODEL_6b69a4b2f3aa4c0caeb44ede8f54f7f3",
       "style": "IPY_MODEL_91ee9423029f4742b5b834c842c219c9"
      }
     },
     "42bb40d94b93485fba6fea2776dc77fe": {
      "model_module": "@jupyter-widgets/base",
      "model_module_version": "1.2.0",
      "model_name": "LayoutModel",
      "state": {}
     },
     "42bf7e4bbe744bf890d564a5d5b35529": {
      "model_module": "@jupyter-widgets/controls",
      "model_module_version": "1.5.0",
      "model_name": "DescriptionStyleModel",
      "state": {
       "description_width": ""
      }
     },
     "432c5fbab12c491c8d44925576efc2f2": {
      "model_module": "@jupyter-widgets/controls",
      "model_module_version": "1.5.0",
      "model_name": "ButtonModel",
      "state": {
       "description": "Reduce",
       "layout": "IPY_MODEL_30c28ed0a5174419ad0119a87aa3395e",
       "style": "IPY_MODEL_452aafd13ac14b87b9c003e6b31bb736"
      }
     },
     "433d63d3de0840e4b7e44b2a90cf7381": {
      "model_module": "@jupyter-widgets/base",
      "model_module_version": "1.2.0",
      "model_name": "LayoutModel",
      "state": {}
     },
     "435b393420c04ba2bb1280e97ae0b6eb": {
      "model_module": "@jupyter-widgets/base",
      "model_module_version": "1.2.0",
      "model_name": "LayoutModel",
      "state": {}
     },
     "436a667bda644f12a2191244db432275": {
      "model_module": "@jupyter-widgets/controls",
      "model_module_version": "1.5.0",
      "model_name": "DescriptionStyleModel",
      "state": {
       "description_width": ""
      }
     },
     "43797b940373453f81ad8ec852016edb": {
      "model_module": "@jupyter-widgets/controls",
      "model_module_version": "1.5.0",
      "model_name": "HBoxModel",
      "state": {
       "children": [
        "IPY_MODEL_1719fccad2b5446ab3fc4b749e5c5eef",
        "IPY_MODEL_9ba25b7edc2b45b2a1488fda8960ad41"
       ],
       "layout": "IPY_MODEL_a9376e8dc1e247ff9009653dcf5258d9"
      }
     },
     "4386e63a365047bcabf9514b0253e19e": {
      "model_module": "@jupyter-widgets/base",
      "model_module_version": "1.2.0",
      "model_name": "LayoutModel",
      "state": {
       "justify_content": "center"
      }
     },
     "43abbf3ebe8f4054b1bab13a1af25624": {
      "model_module": "@jupyter-widgets/base",
      "model_module_version": "1.2.0",
      "model_name": "LayoutModel",
      "state": {
       "width": "250px"
      }
     },
     "43cdd9ebf1514b91a017256caad3f9fb": {
      "model_module": "@jupyter-widgets/controls",
      "model_module_version": "1.5.0",
      "model_name": "HBoxModel",
      "state": {
       "children": [
        "IPY_MODEL_4782b40670444937877c2b8aa3c75d1c",
        "IPY_MODEL_87f35b02753748398246d18d9c08abf5"
       ],
       "layout": "IPY_MODEL_a428df302c6a4e2d8ba664a28547de05"
      }
     },
     "43f2c3c8c9634f71a4b6c1913d47a36f": {
      "model_module": "@jupyter-widgets/base",
      "model_module_version": "1.2.0",
      "model_name": "LayoutModel",
      "state": {}
     },
     "44000f194c0c4b3b9f62da322789dc32": {
      "model_module": "@jupyter-widgets/controls",
      "model_module_version": "1.5.0",
      "model_name": "DescriptionStyleModel",
      "state": {
       "description_width": "initial"
      }
     },
     "440ba8b2684942c0a6b3536dcccbebc7": {
      "model_module": "@jupyter-widgets/controls",
      "model_module_version": "1.5.0",
      "model_name": "DescriptionStyleModel",
      "state": {
       "description_width": ""
      }
     },
     "44176f38835a4de0befc36c08683141a": {
      "model_module": "@jupyter-widgets/controls",
      "model_module_version": "1.5.0",
      "model_name": "DescriptionStyleModel",
      "state": {
       "description_width": ""
      }
     },
     "4422c3d0acdc49c2b8b5f9c277694f7a": {
      "model_module": "@jupyter-widgets/base",
      "model_module_version": "1.2.0",
      "model_name": "LayoutModel",
      "state": {
       "width": "600px"
      }
     },
     "4472ccf5ebcd45eab6b9e773f84cc416": {
      "model_module": "@jupyter-widgets/controls",
      "model_module_version": "1.5.0",
      "model_name": "ButtonStyleModel",
      "state": {}
     },
     "447949eae8114bc18a86b2754e580906": {
      "model_module": "@jupyter-widgets/base",
      "model_module_version": "1.2.0",
      "model_name": "LayoutModel",
      "state": {
       "justify_content": "center"
      }
     },
     "4490b029e8954dd0988ef8149dfc7be5": {
      "model_module": "@jupyter-widgets/controls",
      "model_module_version": "1.5.0",
      "model_name": "HBoxModel",
      "state": {
       "children": [
        "IPY_MODEL_06c0a3f5d98e4e5e94dd274b14001352"
       ],
       "layout": "IPY_MODEL_c45802a923c941118190083f57af103c"
      }
     },
     "44b6a1f5f4a24e399baa0306ab8534d3": {
      "model_module": "@jupyter-widgets/controls",
      "model_module_version": "1.5.0",
      "model_name": "ButtonModel",
      "state": {
       "description": "Shift",
       "layout": "IPY_MODEL_3395b130e273429baac80212866b882b",
       "style": "IPY_MODEL_ce9b27e8648a4053aa0b3aa61b79a767"
      }
     },
     "44c43a3b12394d81b9b8cb496498e741": {
      "model_module": "@jupyter-widgets/base",
      "model_module_version": "1.2.0",
      "model_name": "LayoutModel",
      "state": {
       "width": "250px"
      }
     },
     "44facbffdc9f456cbd510cb67fdf3d4b": {
      "model_module": "@jupyter-widgets/controls",
      "model_module_version": "1.5.0",
      "model_name": "ButtonModel",
      "state": {
       "description": "Predict",
       "layout": "IPY_MODEL_66b16ef8928546c8b76fc45197c8568f",
       "style": "IPY_MODEL_ff843e934d34451999995cf7352c7ca0"
      }
     },
     "44ffbccfb436441a858999bf2639e1a2": {
      "model_module": "@jupyter-widgets/controls",
      "model_module_version": "1.5.0",
      "model_name": "ButtonStyleModel",
      "state": {}
     },
     "452aafd13ac14b87b9c003e6b31bb736": {
      "model_module": "@jupyter-widgets/controls",
      "model_module_version": "1.5.0",
      "model_name": "ButtonStyleModel",
      "state": {}
     },
     "453cc3adccf5490ab218094918b41129": {
      "model_module": "@jupyter-widgets/controls",
      "model_module_version": "1.5.0",
      "model_name": "ButtonModel",
      "state": {
       "description": "Predict",
       "layout": "IPY_MODEL_a9d68edd3b974c329561fc9b5c673ab4",
       "style": "IPY_MODEL_6c93cda834cb4e1ea4889d2b6d781f2f"
      }
     },
     "454cb2deb11f48d18f73363ac9e9de20": {
      "model_module": "@jupyter-widgets/base",
      "model_module_version": "1.2.0",
      "model_name": "LayoutModel",
      "state": {}
     },
     "454cb8c5bb6a4f7582223d9cbf167fe5": {
      "model_module": "@jupyter-widgets/controls",
      "model_module_version": "1.5.0",
      "model_name": "ButtonStyleModel",
      "state": {}
     },
     "456edda4dfbb4818b1ac04eee426f991": {
      "model_module": "@jupyter-widgets/controls",
      "model_module_version": "1.5.0",
      "model_name": "HTMLModel",
      "state": {
       "layout": "IPY_MODEL_279fa8c6af84440ab48d095a98aa93b2",
       "style": "IPY_MODEL_48bbf81479394553b8a0fd89eb2f8054",
       "value": "<i>Wählen Sie die <ins>eine</ins> korrekte Antwort aus: </i>"
      }
     },
     "4581743050b14824b311a099bd10ca23": {
      "model_module": "@jupyter-widgets/controls",
      "model_module_version": "1.5.0",
      "model_name": "VBoxModel",
      "state": {
       "children": [
        "IPY_MODEL_50504fd3794d4535b3c9b674a60dc796",
        "IPY_MODEL_6a67e7a8dff04507beb9698cd825c65f",
        "IPY_MODEL_fcb0236b37304ffdad8549751db6aae0",
        "IPY_MODEL_551baf4f83f0452087cbd94acc4c6165",
        "IPY_MODEL_a528b3deaa154cae8e71906c92d9e07e"
       ],
       "layout": "IPY_MODEL_3cb5da2cd45f42519d008f53df486ddc"
      }
     },
     "45833bdb95fe4c669399ea3613c8e692": {
      "model_module": "@jupyter-widgets/controls",
      "model_module_version": "1.5.0",
      "model_name": "VBoxModel",
      "state": {
       "children": [
        "IPY_MODEL_e3a3f41f0c8c41148192b226340026c0",
        "IPY_MODEL_93ac76dd17514d6dae718d9e753761b3",
        "IPY_MODEL_baf73156147a4211885dd22ae3be202b",
        "IPY_MODEL_7af180de1c7346389b261d18a3d5502d",
        "IPY_MODEL_e8ec6a03dcb743899c9c774f8ba3123e"
       ],
       "layout": "IPY_MODEL_4b93882d55264308a1983940ba03167f"
      }
     },
     "45cbd3792a6f4bab9a0b90e3ff758769": {
      "model_module": "@jupyter-widgets/controls",
      "model_module_version": "1.5.0",
      "model_name": "ButtonModel",
      "state": {
       "description": "Scan",
       "layout": "IPY_MODEL_41bfe3ba5de645c3af9ed7dcd8ea12b7",
       "style": "IPY_MODEL_e8af30a054c64ad4a3f4cab74db98fbe"
      }
     },
     "4601bbcb7e8d496d9655abeefa5b4ec0": {
      "model_module": "@jupyter-widgets/base",
      "model_module_version": "1.2.0",
      "model_name": "LayoutModel",
      "state": {}
     },
     "46244fb1b2944e6f945f0a6ab056ff61": {
      "model_module": "@jupyter-widgets/controls",
      "model_module_version": "1.5.0",
      "model_name": "DescriptionStyleModel",
      "state": {
       "description_width": ""
      }
     },
     "46362c6609d24cf4afedec9a1c7d7b49": {
      "model_module": "@jupyter-widgets/base",
      "model_module_version": "1.2.0",
      "model_name": "LayoutModel",
      "state": {}
     },
     "46419f5227eb490796847a7675b2b5c0": {
      "model_module": "@jupyter-widgets/base",
      "model_module_version": "1.2.0",
      "model_name": "LayoutModel",
      "state": {}
     },
     "4682edf44ccc4018a533748785e51f67": {
      "model_module": "@jupyter-widgets/base",
      "model_module_version": "1.2.0",
      "model_name": "LayoutModel",
      "state": {}
     },
     "4687205598324164ba43aa42b6dec778": {
      "model_module": "@jupyter-widgets/controls",
      "model_module_version": "1.5.0",
      "model_name": "DescriptionStyleModel",
      "state": {
       "description_width": ""
      }
     },
     "46e38b12a609437497c79687c42f04f9": {
      "model_module": "@jupyter-widgets/controls",
      "model_module_version": "1.5.0",
      "model_name": "ButtonModel",
      "state": {
       "description": "Shift",
       "layout": "IPY_MODEL_3ef80e1456264791a16ab7655c381854",
       "style": "IPY_MODEL_0f0ce2224a2144b89cdb5b8379a8369d"
      }
     },
     "46f7a0534f714463a89eca0be8eb2efb": {
      "model_module": "@jupyter-widgets/controls",
      "model_module_version": "1.5.0",
      "model_name": "ButtonModel",
      "state": {
       "description": "Reduce",
       "layout": "IPY_MODEL_86725dcc05dd4d2abc33b63b6b45d5b5",
       "style": "IPY_MODEL_28c98546858549e5b1e6aed52ebd4d77"
      }
     },
     "4782b40670444937877c2b8aa3c75d1c": {
      "model_module": "@jupyter-widgets/controls",
      "model_module_version": "1.5.0",
      "model_name": "ButtonModel",
      "state": {
       "description": "Scan",
       "layout": "IPY_MODEL_334e74de4d80428f8bbbe9f082ec9b0e",
       "style": "IPY_MODEL_222d348d99b04777af126b0ee5403cad"
      }
     },
     "47ae6db920644aeca427930e581f0089": {
      "model_module": "@jupyter-widgets/controls",
      "model_module_version": "1.5.0",
      "model_name": "ButtonModel",
      "state": {
       "description": "Reduce",
       "layout": "IPY_MODEL_6455bee5a4bd486f9157773e5cf8768f",
       "style": "IPY_MODEL_4d532a1f482c495e86916e5d36be1133"
      }
     },
     "47b6b95fcb804c28842e618f49d7fcc5": {
      "model_module": "@jupyter-widgets/controls",
      "model_module_version": "1.5.0",
      "model_name": "ButtonModel",
      "state": {
       "description": "Shift",
       "layout": "IPY_MODEL_50c6256552474199a287340d729131ec",
       "style": "IPY_MODEL_a8b30d6bd83f44faa97b3db090c5b202"
      }
     },
     "480cf251644c491484b27fcf045a0665": {
      "model_module": "@jupyter-widgets/controls",
      "model_module_version": "1.5.0",
      "model_name": "DescriptionStyleModel",
      "state": {
       "description_width": ""
      }
     },
     "48123b3c82fb4ec68c67a3dd31bee9af": {
      "model_module": "@jupyter-widgets/base",
      "model_module_version": "1.2.0",
      "model_name": "LayoutModel",
      "state": {
       "width": "250px"
      }
     },
     "4859874cb2a7485cb31ada945c5628de": {
      "model_module": "@jupyter-widgets/controls",
      "model_module_version": "1.5.0",
      "model_name": "VBoxModel",
      "state": {
       "children": [
        "IPY_MODEL_d14449db87c7409a8389b5c70d1d7ec2",
        "IPY_MODEL_4e912898e3c3491dba32188af34c6351",
        "IPY_MODEL_b573886da1c448279650fc99795e2cb7",
        "IPY_MODEL_51621b90a85148c891a078b40d0095ae"
       ],
       "layout": "IPY_MODEL_2662de196e274377ad7152b1b1daedb5"
      }
     },
     "485cd019633e4f3c9219742f0542ed0d": {
      "model_module": "@jupyter-widgets/controls",
      "model_module_version": "1.5.0",
      "model_name": "HBoxModel",
      "state": {
       "children": [
        "IPY_MODEL_e0b78addc263496c8af0a667e7bfab81",
        "IPY_MODEL_9fba76862ec641568237a8fb63e7ec9b"
       ],
       "layout": "IPY_MODEL_d0ff55aae19c40fbb211075316117858"
      }
     },
     "4880e3c2e20045bc8d0bb730a0012fcb": {
      "model_module": "@jupyter-widgets/controls",
      "model_module_version": "1.5.0",
      "model_name": "ButtonModel",
      "state": {
       "description": "Recusive Descent",
       "layout": "IPY_MODEL_b587989543844b949b68ea093340e6c2",
       "style": "IPY_MODEL_d9ceb1ae9fc7485ebce6ea0de61f3400"
      }
     },
     "489be051c28a4f8c84f5ace5842329ae": {
      "model_module": "@jupyter-widgets/base",
      "model_module_version": "1.2.0",
      "model_name": "LayoutModel",
      "state": {
       "width": "250px"
      }
     },
     "489df5a341674b8bad8a2ce9024251ba": {
      "model_module": "@jupyter-widgets/controls",
      "model_module_version": "1.5.0",
      "model_name": "DescriptionStyleModel",
      "state": {
       "description_width": "initial"
      }
     },
     "48bbf81479394553b8a0fd89eb2f8054": {
      "model_module": "@jupyter-widgets/controls",
      "model_module_version": "1.5.0",
      "model_name": "DescriptionStyleModel",
      "state": {
       "description_width": ""
      }
     },
     "48ee5fa3d33045dca147709394909b35": {
      "model_module": "@jupyter-widgets/base",
      "model_module_version": "1.2.0",
      "model_name": "LayoutModel",
      "state": {
       "width": "250px"
      }
     },
     "490857126f4f4545ac1cd53695149c9a": {
      "model_module": "@jupyter-widgets/controls",
      "model_module_version": "1.5.0",
      "model_name": "ButtonStyleModel",
      "state": {}
     },
     "491cf2155e274f8f8c9109893d45f4c4": {
      "model_module": "@jupyter-widgets/controls",
      "model_module_version": "1.5.0",
      "model_name": "ButtonModel",
      "state": {
       "description": "Predict",
       "layout": "IPY_MODEL_1639229aa37b4e30a0b4b7918f2fc97d",
       "style": "IPY_MODEL_a8a17c2815e14e1abefe8bfede0054f6"
      }
     },
     "4969de008e874ab68c8818c3fe7f9e98": {
      "model_module": "@jupyter-widgets/controls",
      "model_module_version": "1.5.0",
      "model_name": "ButtonModel",
      "state": {
       "description": "Shift",
       "layout": "IPY_MODEL_077b4699924a46b1b68ebf3b813ae843",
       "style": "IPY_MODEL_153bd4514bd8416d82be1408f629c524"
      }
     },
     "496c6218481048d9b3600815b4cc9a02": {
      "model_module": "@jupyter-widgets/controls",
      "model_module_version": "1.5.0",
      "model_name": "ButtonModel",
      "state": {
       "description": "Keine der Alternativen",
       "layout": "IPY_MODEL_863505f5a65b4928b741e3f28a25e71d",
       "style": "IPY_MODEL_779b32cda35f45888d2cefd70338ec92"
      }
     },
     "4997f7bb5bff46eb817a1f3b0b848154": {
      "model_module": "@jupyter-widgets/base",
      "model_module_version": "1.2.0",
      "model_name": "LayoutModel",
      "state": {}
     },
     "49a9cf7278844b17b29a06f0a1ad24b9": {
      "model_module": "@jupyter-widgets/controls",
      "model_module_version": "1.5.0",
      "model_name": "ButtonModel",
      "state": {
       "description": "Keine der Alternativen",
       "layout": "IPY_MODEL_daa9a8dd1f4449779f187f545f9d71f8",
       "style": "IPY_MODEL_186a7232a881412b9f4c02d357d9a9a6"
      }
     },
     "49cb496b0d5949a58fb3d0e0defae6f1": {
      "model_module": "@jupyter-widgets/base",
      "model_module_version": "1.2.0",
      "model_name": "LayoutModel",
      "state": {
       "width": "600px"
      }
     },
     "49cfe53dc8b14d7ba51bc991a303deb3": {
      "model_module": "@jupyter-widgets/controls",
      "model_module_version": "1.5.0",
      "model_name": "ButtonModel",
      "state": {
       "description": "Predict",
       "layout": "IPY_MODEL_f3ee8ecba895457a8c2076de214f108e",
       "style": "IPY_MODEL_4df800d490ed4aa9b6621474ccd7154e"
      }
     },
     "49d95da80c224432a24f17a7fb3c55f7": {
      "model_module": "@jupyter-widgets/controls",
      "model_module_version": "1.5.0",
      "model_name": "ButtonStyleModel",
      "state": {
       "button_color": "lightgreen"
      }
     },
     "4a067e137c6d4866ae209714db08ac6a": {
      "model_module": "@jupyter-widgets/controls",
      "model_module_version": "1.5.0",
      "model_name": "DescriptionStyleModel",
      "state": {
       "description_width": ""
      }
     },
     "4a52b7499afe44378ef2cbae36accfc9": {
      "model_module": "@jupyter-widgets/controls",
      "model_module_version": "1.5.0",
      "model_name": "DescriptionStyleModel",
      "state": {
       "description_width": ""
      }
     },
     "4a59f79aa8804735862090525ed9d632": {
      "model_module": "@jupyter-widgets/controls",
      "model_module_version": "1.5.0",
      "model_name": "HBoxModel",
      "state": {
       "children": [
        "IPY_MODEL_576f6431ffd7456daf7573c4fa69c05e",
        "IPY_MODEL_70c8bad8ee1a4cc3828f2b4ac78779d1"
       ],
       "layout": "IPY_MODEL_c821445b37324491b1089ba363a12ce0"
      }
     },
     "4a6ed8ba6e5a43318c3be2a5c873caea": {
      "model_module": "@jupyter-widgets/base",
      "model_module_version": "1.2.0",
      "model_name": "LayoutModel",
      "state": {
       "width": "250px"
      }
     },
     "4a8bbbf4ae384914ad090938f74447a2": {
      "model_module": "@jupyter-widgets/base",
      "model_module_version": "1.2.0",
      "model_name": "LayoutModel",
      "state": {}
     },
     "4aa94289c0404862b581251252e8d80f": {
      "model_module": "@jupyter-widgets/controls",
      "model_module_version": "1.5.0",
      "model_name": "HBoxModel",
      "state": {
       "children": [
        "IPY_MODEL_d21c4d5a7e9242789d785c7f93e4d399",
        "IPY_MODEL_d771a8e2d78a470ba49d1f50fdabef1e"
       ],
       "layout": "IPY_MODEL_5d44b03b88c2482990765826ac7b1370"
      }
     },
     "4ab9f514548347eda5cefe61d6a57f9a": {
      "model_module": "@jupyter-widgets/controls",
      "model_module_version": "1.5.0",
      "model_name": "ButtonStyleModel",
      "state": {}
     },
     "4ace7c07737943628ffc50c0d8141173": {
      "model_module": "@jupyter-widgets/base",
      "model_module_version": "1.2.0",
      "model_name": "LayoutModel",
      "state": {
       "width": "250px"
      }
     },
     "4ad36a93f26a4074a29658306471665f": {
      "model_module": "@jupyter-widgets/controls",
      "model_module_version": "1.5.0",
      "model_name": "ButtonModel",
      "state": {
       "description": "Korrekt?",
       "layout": "IPY_MODEL_705a9c7de7fe4465b5a7da68e583ecb5",
       "style": "IPY_MODEL_4db43c58b5dd46b1acfc2681216876d5"
      }
     },
     "4afa624841bf4bb3a3b308d1d688e8fa": {
      "model_module": "@jupyter-widgets/controls",
      "model_module_version": "1.5.0",
      "model_name": "ButtonStyleModel",
      "state": {}
     },
     "4b02d2f69a8e4704a356aa7552e71b68": {
      "model_module": "@jupyter-widgets/base",
      "model_module_version": "1.2.0",
      "model_name": "LayoutModel",
      "state": {
       "width": "600px"
      }
     },
     "4b11989440c6420cb7b5852cf389582e": {
      "model_module": "@jupyter-widgets/controls",
      "model_module_version": "1.5.0",
      "model_name": "ButtonModel",
      "state": {
       "description": "Reduce",
       "layout": "IPY_MODEL_7590b0517ea146978545d7dbea7a05a0",
       "style": "IPY_MODEL_23b5cb9254564eed9e059fadbc6fc71d"
      }
     },
     "4b15d729933b40ca95ab0ca49a5a8f86": {
      "model_module": "@jupyter-widgets/base",
      "model_module_version": "1.2.0",
      "model_name": "LayoutModel",
      "state": {
       "width": "250px"
      }
     },
     "4b503d3e09db487bbff5c920523ce220": {
      "model_module": "@jupyter-widgets/controls",
      "model_module_version": "1.5.0",
      "model_name": "HTMLModel",
      "state": {
       "layout": "IPY_MODEL_79371835eefd487ab0486d5eae84b6a6",
       "style": "IPY_MODEL_985a4a00846a49f9b37cee3ad3cf357b",
       "value": "<h4 style=\"font-size:14px;\">Um welchen Parser handelt es sich?</h4>"
      }
     },
     "4b57dfa9a3e44a95a962ba89332b6b94": {
      "model_module": "@jupyter-widgets/base",
      "model_module_version": "1.2.0",
      "model_name": "LayoutModel",
      "state": {
       "width": "600px"
      }
     },
     "4b66b790658d49489f30d8729afabe18": {
      "model_module": "@jupyter-widgets/controls",
      "model_module_version": "1.5.0",
      "model_name": "DescriptionStyleModel",
      "state": {
       "description_width": "initial"
      }
     },
     "4b674357a67640118b70335d0d29d17d": {
      "model_module": "@jupyter-widgets/base",
      "model_module_version": "1.2.0",
      "model_name": "LayoutModel",
      "state": {
       "width": "250px"
      }
     },
     "4b93882d55264308a1983940ba03167f": {
      "model_module": "@jupyter-widgets/base",
      "model_module_version": "1.2.0",
      "model_name": "LayoutModel",
      "state": {}
     },
     "4ba3e0d2388648cf9b973bb7113b5af1": {
      "model_module": "@jupyter-widgets/controls",
      "model_module_version": "1.5.0",
      "model_name": "VBoxModel",
      "state": {
       "children": [
        "IPY_MODEL_e8e4f83302044e71bf3759990932a1c1",
        "IPY_MODEL_35c53978d2cd4d5bb6ae89da81684776",
        "IPY_MODEL_57dd7dd5777d4d418b9161431ee8052a",
        "IPY_MODEL_9712263e74e14914ad9f6d5912a389a3",
        "IPY_MODEL_daa6eef324b84a969c4d06fe3ef60f16"
       ],
       "layout": "IPY_MODEL_0a0674561a2b4014a9e30a5999275c82"
      }
     },
     "4ba826ed22be4b3fb762a7c69a681b1f": {
      "model_module": "@jupyter-widgets/base",
      "model_module_version": "1.2.0",
      "model_name": "LayoutModel",
      "state": {
       "width": "250px"
      }
     },
     "4bbcb059cd28410c99a64c73c91d2d0e": {
      "model_module": "@jupyter-widgets/controls",
      "model_module_version": "1.5.0",
      "model_name": "CheckboxModel",
      "state": {
       "description": "Complete",
       "disabled": false,
       "layout": "IPY_MODEL_98b03cbd132b41a8ab782aaaa49baf28",
       "style": "IPY_MODEL_ac8e132ad369489192c8e6c77be02eb3",
       "value": false
      }
     },
     "4bf00c41f8304351a8be18d82abb8d1d": {
      "model_module": "@jupyter-widgets/base",
      "model_module_version": "1.2.0",
      "model_name": "LayoutModel",
      "state": {
       "justify_content": "center"
      }
     },
     "4c48b61de0724e3ab15fea02c6e2e12e": {
      "model_module": "@jupyter-widgets/base",
      "model_module_version": "1.2.0",
      "model_name": "LayoutModel",
      "state": {
       "justify_content": "center"
      }
     },
     "4c93dcd5a08542bdb58b614a639d2bcf": {
      "model_module": "@jupyter-widgets/controls",
      "model_module_version": "1.5.0",
      "model_name": "ButtonStyleModel",
      "state": {}
     },
     "4ca4423e9804430ab508bbedd89c4cfe": {
      "model_module": "@jupyter-widgets/base",
      "model_module_version": "1.2.0",
      "model_name": "LayoutModel",
      "state": {}
     },
     "4caef652e4db4c969afc90eb19063557": {
      "model_module": "@jupyter-widgets/controls",
      "model_module_version": "1.5.0",
      "model_name": "HBoxModel",
      "state": {
       "children": [
        "IPY_MODEL_3d14f967ed7f432a90f60eab98f810ad",
        "IPY_MODEL_33c9feab91f24822b5de610ef94a3aca"
       ],
       "layout": "IPY_MODEL_6805b694fa594e929a765c7d375181d9"
      }
     },
     "4cb8f114ab504a239e81a47189972830": {
      "model_module": "@jupyter-widgets/base",
      "model_module_version": "1.2.0",
      "model_name": "LayoutModel",
      "state": {
       "width": "250px"
      }
     },
     "4d1c0250faef45e4b5560dae982b3dd2": {
      "model_module": "@jupyter-widgets/controls",
      "model_module_version": "1.5.0",
      "model_name": "CheckboxModel",
      "state": {
       "description": "Complete",
       "disabled": false,
       "layout": "IPY_MODEL_c6efd709298f40c1bdd8fb3e7d7a8394",
       "style": "IPY_MODEL_c4fd008664e94b01b18dfca83d229781",
       "value": true
      }
     },
     "4d532a1f482c495e86916e5d36be1133": {
      "model_module": "@jupyter-widgets/controls",
      "model_module_version": "1.5.0",
      "model_name": "ButtonStyleModel",
      "state": {}
     },
     "4d733c18dac049a5bbb33d1287a88bf5": {
      "model_module": "@jupyter-widgets/controls",
      "model_module_version": "1.5.0",
      "model_name": "HTMLModel",
      "state": {
       "layout": "IPY_MODEL_f561d039527d495596874d895c70c11e",
       "style": "IPY_MODEL_c8da2883228845299d06203027150982",
       "value": "<i>Markieren Sie <ins>alle</ins> passenden Antworten: </i>"
      }
     },
     "4d8a88e314df4c379e625303a1e5da5f": {
      "model_module": "@jupyter-widgets/base",
      "model_module_version": "1.2.0",
      "model_name": "LayoutModel",
      "state": {
       "width": "250px"
      }
     },
     "4d8d185fbdbd4ee7aea39223a46f2fa2": {
      "model_module": "@jupyter-widgets/base",
      "model_module_version": "1.2.0",
      "model_name": "LayoutModel",
      "state": {
       "width": "250px"
      }
     },
     "4d926446b65844ddb91113a52dbd6171": {
      "model_module": "@jupyter-widgets/controls",
      "model_module_version": "1.5.0",
      "model_name": "ButtonStyleModel",
      "state": {
       "button_color": "lightgreen"
      }
     },
     "4d986d1741cf44a28733736fc41efc75": {
      "model_module": "@jupyter-widgets/controls",
      "model_module_version": "1.5.0",
      "model_name": "DescriptionStyleModel",
      "state": {
       "description_width": ""
      }
     },
     "4dac5f9a54a84d8390391e0298e62eb1": {
      "model_module": "@jupyter-widgets/base",
      "model_module_version": "1.2.0",
      "model_name": "LayoutModel",
      "state": {}
     },
     "4db0caa769734e0aabf54ef53da0b9e3": {
      "model_module": "@jupyter-widgets/base",
      "model_module_version": "1.2.0",
      "model_name": "LayoutModel",
      "state": {
       "justify_content": "center"
      }
     },
     "4db43c58b5dd46b1acfc2681216876d5": {
      "model_module": "@jupyter-widgets/controls",
      "model_module_version": "1.5.0",
      "model_name": "ButtonStyleModel",
      "state": {}
     },
     "4dcb63f1e51645578a919c7637e009f8": {
      "model_module": "@jupyter-widgets/controls",
      "model_module_version": "1.5.0",
      "model_name": "ButtonModel",
      "state": {
       "description": "Complete",
       "layout": "IPY_MODEL_388db37917e44170b83f48e66093f754",
       "style": "IPY_MODEL_e9f3c3cc4b714e7aa67b2fec36ef0af6"
      }
     },
     "4deac15f3db64ab9a6c78199ea671752": {
      "model_module": "@jupyter-widgets/controls",
      "model_module_version": "1.5.0",
      "model_name": "ButtonStyleModel",
      "state": {}
     },
     "4df800d490ed4aa9b6621474ccd7154e": {
      "model_module": "@jupyter-widgets/controls",
      "model_module_version": "1.5.0",
      "model_name": "ButtonStyleModel",
      "state": {}
     },
     "4e34e16a008948c882f1977f613d72e3": {
      "model_module": "@jupyter-widgets/base",
      "model_module_version": "1.2.0",
      "model_name": "LayoutModel",
      "state": {}
     },
     "4e628bda4c7d408588607c6e04dc5401": {
      "model_module": "@jupyter-widgets/base",
      "model_module_version": "1.2.0",
      "model_name": "LayoutModel",
      "state": {
       "width": "600px"
      }
     },
     "4e8f36d1f0c64c60bf64e6f96af698a5": {
      "model_module": "@jupyter-widgets/controls",
      "model_module_version": "1.5.0",
      "model_name": "DescriptionStyleModel",
      "state": {
       "description_width": ""
      }
     },
     "4e912898e3c3491dba32188af34c6351": {
      "model_module": "@jupyter-widgets/controls",
      "model_module_version": "1.5.0",
      "model_name": "HTMLModel",
      "state": {
       "layout": "IPY_MODEL_3288fe8bb16241a6803b9e67f23ff693",
       "style": "IPY_MODEL_fe10136f3e9746e3b9cdad3ff75b8455",
       "value": "<i>Markieren Sie <ins>alle</ins> passenden Antworten: </i>"
      }
     },
     "4ea03b40591240c3b38abe74b9066dce": {
      "model_module": "@jupyter-widgets/controls",
      "model_module_version": "1.5.0",
      "model_name": "ButtonStyleModel",
      "state": {}
     },
     "4eb8edb12bca4a5ab8cbfb6da7c8e3e5": {
      "model_module": "@jupyter-widgets/controls",
      "model_module_version": "1.5.0",
      "model_name": "ButtonStyleModel",
      "state": {}
     },
     "4ecfcacd096349149067bffd9d64d54d": {
      "model_module": "@jupyter-widgets/base",
      "model_module_version": "1.2.0",
      "model_name": "LayoutModel",
      "state": {
       "justify_content": "center"
      }
     },
     "4f0d2b50ea614009ad124deabe29a7cf": {
      "model_module": "@jupyter-widgets/controls",
      "model_module_version": "1.5.0",
      "model_name": "DescriptionStyleModel",
      "state": {
       "description_width": ""
      }
     },
     "4f1ce7d838e444b4b7353a1fe0c94c7b": {
      "model_module": "@jupyter-widgets/controls",
      "model_module_version": "1.5.0",
      "model_name": "HBoxModel",
      "state": {
       "children": [
        "IPY_MODEL_d492b815ccdb45768c33f440b558e1bb",
        "IPY_MODEL_9114ea31397348778728036736161988"
       ],
       "layout": "IPY_MODEL_b231623e0b9b42ccbf94635da9b727dc"
      }
     },
     "4f4bda21529f4ee684476a2a3126396e": {
      "model_module": "@jupyter-widgets/base",
      "model_module_version": "1.2.0",
      "model_name": "LayoutModel",
      "state": {
       "justify_content": "center"
      }
     },
     "4f83eaf67d6840c3a148d0518a5a81eb": {
      "model_module": "@jupyter-widgets/controls",
      "model_module_version": "1.5.0",
      "model_name": "ButtonStyleModel",
      "state": {}
     },
     "4f84ea563cae4e11b0ac782b73398bbe": {
      "model_module": "@jupyter-widgets/base",
      "model_module_version": "1.2.0",
      "model_name": "LayoutModel",
      "state": {}
     },
     "4fae7a508b5d445d90f493b308b978ac": {
      "model_module": "@jupyter-widgets/controls",
      "model_module_version": "1.5.0",
      "model_name": "ButtonModel",
      "state": {
       "description": "Shift",
       "layout": "IPY_MODEL_c01f3d6ab473476ea7248fc12e5cc96f",
       "style": "IPY_MODEL_f38d6ff7a12644b5bcd04a9bab64f3a7"
      }
     },
     "4fe4320244c143469b2b24214a0b466a": {
      "model_module": "@jupyter-widgets/controls",
      "model_module_version": "1.5.0",
      "model_name": "ButtonStyleModel",
      "state": {}
     },
     "500abdc446ff40fcaece7c23668f1664": {
      "model_module": "@jupyter-widgets/base",
      "model_module_version": "1.2.0",
      "model_name": "LayoutModel",
      "state": {
       "width": "250px"
      }
     },
     "50104a2b8c8a4a629b5e021b106bc86f": {
      "model_module": "@jupyter-widgets/base",
      "model_module_version": "1.2.0",
      "model_name": "LayoutModel",
      "state": {
       "width": "600px"
      }
     },
     "50151f00cfe24886a59278da50c9c754": {
      "model_module": "@jupyter-widgets/controls",
      "model_module_version": "1.5.0",
      "model_name": "ButtonStyleModel",
      "state": {}
     },
     "501678f141fb414cb692ce708d93d0af": {
      "model_module": "@jupyter-widgets/base",
      "model_module_version": "1.2.0",
      "model_name": "LayoutModel",
      "state": {
       "justify_content": "center"
      }
     },
     "5029d6b6a1694d5095a50c226e35dd6d": {
      "model_module": "@jupyter-widgets/controls",
      "model_module_version": "1.5.0",
      "model_name": "DescriptionStyleModel",
      "state": {
       "description_width": "initial"
      }
     },
     "50504fd3794d4535b3c9b674a60dc796": {
      "model_module": "@jupyter-widgets/controls",
      "model_module_version": "1.5.0",
      "model_name": "CheckboxModel",
      "state": {
       "description": "Complete",
       "disabled": false,
       "layout": "IPY_MODEL_b164c46d100f41f4876a9ffacd8778ce",
       "style": "IPY_MODEL_e5b29ba96ae24c9f826353a43f8ec3a6",
       "value": false
      }
     },
     "5073e7b55ca44d30ae2aac6dc0a5d92f": {
      "model_module": "@jupyter-widgets/controls",
      "model_module_version": "1.5.0",
      "model_name": "ButtonModel",
      "state": {
       "description": "Shift",
       "layout": "IPY_MODEL_fdcf84fef4cf461f9bd578e7bcadc2ac",
       "style": "IPY_MODEL_726ac646311d49acb511298530806d3b"
      }
     },
     "5076693a77d04e4b8d9a4868bae314ba": {
      "model_module": "@jupyter-widgets/base",
      "model_module_version": "1.2.0",
      "model_name": "LayoutModel",
      "state": {}
     },
     "507a737391314346a1da14815537b4fa": {
      "model_module": "@jupyter-widgets/controls",
      "model_module_version": "1.5.0",
      "model_name": "ButtonStyleModel",
      "state": {}
     },
     "5090141166f5452b8167b4bd8f69b405": {
      "model_module": "@jupyter-widgets/controls",
      "model_module_version": "1.5.0",
      "model_name": "CheckboxModel",
      "state": {
       "description": "Reduce",
       "disabled": false,
       "layout": "IPY_MODEL_9277f96c85f64df7af75e7596d96dd32",
       "style": "IPY_MODEL_9ba1f03263734a6eaf112c56c4aef08d",
       "value": false
      }
     },
     "50c6256552474199a287340d729131ec": {
      "model_module": "@jupyter-widgets/base",
      "model_module_version": "1.2.0",
      "model_name": "LayoutModel",
      "state": {
       "width": "250px"
      }
     },
     "5107759598094c1f9098d0ce7112204d": {
      "model_module": "@jupyter-widgets/controls",
      "model_module_version": "1.5.0",
      "model_name": "HBoxModel",
      "state": {
       "children": [
        "IPY_MODEL_f468440ebcde4f1ca8b58aa2e0016e8a",
        "IPY_MODEL_e481cb06fc6446f485f4e32558b803ac"
       ],
       "layout": "IPY_MODEL_791955c8ad9345e6b022f90bb4c4509e"
      }
     },
     "5109b56ab473454b82ee2283258b127a": {
      "model_module": "@jupyter-widgets/controls",
      "model_module_version": "1.5.0",
      "model_name": "HBoxModel",
      "state": {
       "children": [
        "IPY_MODEL_9192d1b4f19c4276a900dfccdde07f45"
       ],
       "layout": "IPY_MODEL_c086a986b27d46f983b630a263923240"
      }
     },
     "5120dec049254f7ca7347018c28e9be5": {
      "model_module": "@jupyter-widgets/controls",
      "model_module_version": "1.5.0",
      "model_name": "VBoxModel",
      "state": {
       "children": [
        "IPY_MODEL_4bbcb059cd28410c99a64c73c91d2d0e",
        "IPY_MODEL_d5e16b949b584298a1e38195cfe2de09",
        "IPY_MODEL_fa8890de7290499ca5736cba88a093be",
        "IPY_MODEL_f02e4882cc8247df83ae125ff63559ef",
        "IPY_MODEL_2a58f919ae104d7b8e26e5d33eff77a4"
       ],
       "layout": "IPY_MODEL_b7e6e789fb9548beab01ddfe021fc2a4"
      }
     },
     "513110f050fb4d73962562275d743999": {
      "model_module": "@jupyter-widgets/controls",
      "model_module_version": "1.5.0",
      "model_name": "DescriptionStyleModel",
      "state": {
       "description_width": "initial"
      }
     },
     "51621b90a85148c891a078b40d0095ae": {
      "model_module": "@jupyter-widgets/controls",
      "model_module_version": "1.5.0",
      "model_name": "ButtonModel",
      "state": {
       "description": "Korrekt?",
       "layout": "IPY_MODEL_51c67e3099bc4eef8241cb931ed9e8df",
       "style": "IPY_MODEL_7c4858badfd84804ad70f574c05cbc2f"
      }
     },
     "517d752365a144b286f1752a8607da59": {
      "model_module": "@jupyter-widgets/base",
      "model_module_version": "1.2.0",
      "model_name": "LayoutModel",
      "state": {
       "width": "600px"
      }
     },
     "5193a81363b1406681bcf24187307c08": {
      "model_module": "@jupyter-widgets/controls",
      "model_module_version": "1.5.0",
      "model_name": "ButtonStyleModel",
      "state": {}
     },
     "51a8de1042854da2a0332326988d8411": {
      "model_module": "@jupyter-widgets/base",
      "model_module_version": "1.2.0",
      "model_name": "LayoutModel",
      "state": {}
     },
     "51c67e3099bc4eef8241cb931ed9e8df": {
      "model_module": "@jupyter-widgets/base",
      "model_module_version": "1.2.0",
      "model_name": "LayoutModel",
      "state": {
       "width": "250px"
      }
     },
     "523bd8a3c46f44edbd54c93fd691e204": {
      "model_module": "@jupyter-widgets/controls",
      "model_module_version": "1.5.0",
      "model_name": "HTMLModel",
      "state": {
       "layout": "IPY_MODEL_5ddea77fa40249ca84cb84fb90333022",
       "style": "IPY_MODEL_d1eb0040d4a14801af2a805713fda2c6",
       "value": "<i>Wählen Sie die <ins>eine</ins> korrekte Antwort aus: </i>"
      }
     },
     "527e9fdb15b340138fa8b89329307847": {
      "model_module": "@jupyter-widgets/base",
      "model_module_version": "1.2.0",
      "model_name": "LayoutModel",
      "state": {
       "width": "250px"
      }
     },
     "528362029916432aa165aa8b162afcdb": {
      "model_module": "@jupyter-widgets/base",
      "model_module_version": "1.2.0",
      "model_name": "LayoutModel",
      "state": {
       "width": "250px"
      }
     },
     "528fe41f0ac7400a8acce85b6f0b8f57": {
      "model_module": "@jupyter-widgets/controls",
      "model_module_version": "1.5.0",
      "model_name": "DescriptionStyleModel",
      "state": {
       "description_width": ""
      }
     },
     "52b88f7c4ec44adc9b192f2e6b1a3b12": {
      "model_module": "@jupyter-widgets/controls",
      "model_module_version": "1.5.0",
      "model_name": "CheckboxModel",
      "state": {
       "description": "Scan",
       "disabled": false,
       "layout": "IPY_MODEL_a336c4be3bf449e6a4f6a77f99bb4dd9",
       "style": "IPY_MODEL_026c3b9d7cd24308aae5c2cff632605c",
       "value": true
      }
     },
     "52dd6b6eb00b41e5bc2f3cb4b474a34f": {
      "model_module": "@jupyter-widgets/base",
      "model_module_version": "1.2.0",
      "model_name": "LayoutModel",
      "state": {
       "justify_content": "center"
      }
     },
     "52fe495c97e140dbb1dfecdc2d8c7f4b": {
      "model_module": "@jupyter-widgets/base",
      "model_module_version": "1.2.0",
      "model_name": "LayoutModel",
      "state": {
       "width": "250px"
      }
     },
     "531b39c5854e41a5a1bb5161fe5d5974": {
      "model_module": "@jupyter-widgets/controls",
      "model_module_version": "1.5.0",
      "model_name": "HBoxModel",
      "state": {
       "children": [
        "IPY_MODEL_964b2dbf013a47e58aed1c92b1a88b05",
        "IPY_MODEL_f1f4e2a936734269acdd71487f122e02"
       ],
       "layout": "IPY_MODEL_da2bc30ae7704fba8c0e3a6acb74cfd5"
      }
     },
     "532917da99fd45a4a5511547e73c6b0b": {
      "model_module": "@jupyter-widgets/controls",
      "model_module_version": "1.5.0",
      "model_name": "ButtonModel",
      "state": {
       "description": "Reduce",
       "layout": "IPY_MODEL_e41b3a41865e484f87ef9de6f6b020b1",
       "style": "IPY_MODEL_b8c49a80e2744bf9bc11147f3639eab4"
      }
     },
     "534e37e3708e48d68cdafc8a116c81a8": {
      "model_module": "@jupyter-widgets/base",
      "model_module_version": "1.2.0",
      "model_name": "LayoutModel",
      "state": {}
     },
     "534f145c1ebe4d35a748cfb4ae0d757f": {
      "model_module": "@jupyter-widgets/controls",
      "model_module_version": "1.5.0",
      "model_name": "VBoxModel",
      "state": {
       "children": [
        "IPY_MODEL_914259737cd4407293b8b05397fc5e89",
        "IPY_MODEL_ca30ac1526c34e68bac04806c9618464",
        "IPY_MODEL_54f2f796ffcc4b98877e2ccbb0f142b1",
        "IPY_MODEL_206a76ccf41d426ba2edd5018b072977",
        "IPY_MODEL_f5ba7996c5ca423db3af535d2d3da205"
       ],
       "layout": "IPY_MODEL_05f23ec4b67e4628a68084ca8597a0b7"
      }
     },
     "53e70a8f26274b11be25f06ad2ee8172": {
      "model_module": "@jupyter-widgets/base",
      "model_module_version": "1.2.0",
      "model_name": "LayoutModel",
      "state": {}
     },
     "53f23cbc9b594362b63f26ed39984285": {
      "model_module": "@jupyter-widgets/controls",
      "model_module_version": "1.5.0",
      "model_name": "CheckboxModel",
      "state": {
       "description": "Complete",
       "disabled": false,
       "layout": "IPY_MODEL_11b96385393845e48c7dc380b566cd58",
       "style": "IPY_MODEL_04c5e08f9a4c4e56bd3841e8a4ba7a72",
       "value": true
      }
     },
     "5407e789a2f44b569136a547ca550de5": {
      "model_module": "@jupyter-widgets/controls",
      "model_module_version": "1.5.0",
      "model_name": "ButtonStyleModel",
      "state": {}
     },
     "541d460d67be4829bb65eff2fb06d270": {
      "model_module": "@jupyter-widgets/base",
      "model_module_version": "1.2.0",
      "model_name": "LayoutModel",
      "state": {}
     },
     "542aba633fad4381b70576642f1c713d": {
      "model_module": "@jupyter-widgets/base",
      "model_module_version": "1.2.0",
      "model_name": "LayoutModel",
      "state": {
       "width": "250px"
      }
     },
     "546c268508214cf3831d2143c6fc6bf1": {
      "model_module": "@jupyter-widgets/base",
      "model_module_version": "1.2.0",
      "model_name": "LayoutModel",
      "state": {
       "justify_content": "center"
      }
     },
     "54945f1e1bce4729a76aeb86a12fe200": {
      "model_module": "@jupyter-widgets/controls",
      "model_module_version": "1.5.0",
      "model_name": "ButtonModel",
      "state": {
       "description": "Complete",
       "layout": "IPY_MODEL_c712401ef2114537aacf77f04b2d7f62",
       "style": "IPY_MODEL_c4146829867c44d7999d84e530ff5026"
      }
     },
     "54e8c5381a6c4c209fb832d2afe27464": {
      "model_module": "@jupyter-widgets/base",
      "model_module_version": "1.2.0",
      "model_name": "LayoutModel",
      "state": {}
     },
     "54f2f796ffcc4b98877e2ccbb0f142b1": {
      "model_module": "@jupyter-widgets/controls",
      "model_module_version": "1.5.0",
      "model_name": "CheckboxModel",
      "state": {
       "description": "Reduce",
       "disabled": false,
       "layout": "IPY_MODEL_4422c3d0acdc49c2b8b5f9c277694f7a",
       "style": "IPY_MODEL_ac4d36a19e534364ba0860d8e5ec4d28",
       "value": true
      }
     },
     "55154884bdc1403aa33846ef521103e2": {
      "model_module": "@jupyter-widgets/base",
      "model_module_version": "1.2.0",
      "model_name": "LayoutModel",
      "state": {
       "width": "250px"
      }
     },
     "551baf4f83f0452087cbd94acc4c6165": {
      "model_module": "@jupyter-widgets/controls",
      "model_module_version": "1.5.0",
      "model_name": "CheckboxModel",
      "state": {
       "description": "Scan",
       "disabled": false,
       "layout": "IPY_MODEL_b4b81d5bcdc94e45924f89a79cf18571",
       "style": "IPY_MODEL_3ca6c8dcc7674620a74421d814ee7c40",
       "value": false
      }
     },
     "55232b6df6fb4040b7bf7c627d4c28b6": {
      "model_module": "@jupyter-widgets/controls",
      "model_module_version": "1.5.0",
      "model_name": "HBoxModel",
      "state": {
       "children": [
        "IPY_MODEL_c32e63ac6c824c7188258f2b4fcbe161",
        "IPY_MODEL_9461997108974fd882ebbf7bdef8b189"
       ],
       "layout": "IPY_MODEL_6e467df970eb4e6dbd5852d6916d8eb2"
      }
     },
     "558084f3a46d483e9fdb8533d937475b": {
      "model_module": "@jupyter-widgets/controls",
      "model_module_version": "1.5.0",
      "model_name": "ButtonModel",
      "state": {
       "description": "Recusive Descent",
       "layout": "IPY_MODEL_3c575459d3a8453e95eaabf6a6151a55",
       "style": "IPY_MODEL_f93dcf6e27e94fafb9b3db4bcd17fc85"
      }
     },
     "55d41dc95fc0488cb7d876aa4dc1cd6a": {
      "model_module": "@jupyter-widgets/base",
      "model_module_version": "1.2.0",
      "model_name": "LayoutModel",
      "state": {
       "width": "250px"
      }
     },
     "560d3cea6f234ba9b206adf842dbdc16": {
      "model_module": "@jupyter-widgets/controls",
      "model_module_version": "1.5.0",
      "model_name": "HTMLModel",
      "state": {
       "layout": "IPY_MODEL_979685e80615478986984a25a42bc091",
       "style": "IPY_MODEL_b66ad7a8a4ad4aa895482c63a9ab5172",
       "value": "<i>Wählen Sie die <ins>eine</ins> korrekte Antwort aus: </i>"
      }
     },
     "56beeb2d82a74fb2846d7dc51503350b": {
      "model_module": "@jupyter-widgets/base",
      "model_module_version": "1.2.0",
      "model_name": "LayoutModel",
      "state": {
       "width": "250px"
      }
     },
     "56c82376bc7246aaabbea17f8369b1cd": {
      "model_module": "@jupyter-widgets/controls",
      "model_module_version": "1.5.0",
      "model_name": "ButtonStyleModel",
      "state": {}
     },
     "56d59fb25cae4c2b82f53a3a5ed03a0e": {
      "model_module": "@jupyter-widgets/controls",
      "model_module_version": "1.5.0",
      "model_name": "HBoxModel",
      "state": {
       "children": [
        "IPY_MODEL_5a4e29753811411fa0376ebdfc17e29f",
        "IPY_MODEL_1242f887c3e248a4ac790c90b05ccfcc"
       ],
       "layout": "IPY_MODEL_817a839ff0744354b5cc751cf7ca90b2"
      }
     },
     "570f930da5ec49fda180be5fad1c537c": {
      "model_module": "@jupyter-widgets/controls",
      "model_module_version": "1.5.0",
      "model_name": "ButtonStyleModel",
      "state": {}
     },
     "575dcaac7610433da28d512e42103c63": {
      "model_module": "@jupyter-widgets/base",
      "model_module_version": "1.2.0",
      "model_name": "LayoutModel",
      "state": {
       "width": "250px"
      }
     },
     "576531e01910404fbf5b46acb663caf1": {
      "model_module": "@jupyter-widgets/base",
      "model_module_version": "1.2.0",
      "model_name": "LayoutModel",
      "state": {}
     },
     "576f6431ffd7456daf7573c4fa69c05e": {
      "model_module": "@jupyter-widgets/controls",
      "model_module_version": "1.5.0",
      "model_name": "ButtonModel",
      "state": {
       "description": "Complete",
       "layout": "IPY_MODEL_c4a0b9186f3643a8959d726a4c87e90c",
       "style": "IPY_MODEL_6794c1658d8743b8a4ef4323e49becb5"
      }
     },
     "577cc3ac06fd4111a1d348b1f8ef1469": {
      "model_module": "@jupyter-widgets/controls",
      "model_module_version": "1.5.0",
      "model_name": "ButtonModel",
      "state": {
       "description": "Shift",
       "layout": "IPY_MODEL_81ef7d436dad43bba49d679e8afe52b2",
       "style": "IPY_MODEL_ed9a1541c7dd485bab2454bcb0fbbd91"
      }
     },
     "579404e892a84f7ea13ea4fc6a4fca4e": {
      "model_module": "@jupyter-widgets/base",
      "model_module_version": "1.2.0",
      "model_name": "LayoutModel",
      "state": {}
     },
     "57bb292dde1740fca895d52f1aa718d6": {
      "model_module": "@jupyter-widgets/controls",
      "model_module_version": "1.5.0",
      "model_name": "ButtonStyleModel",
      "state": {}
     },
     "57dd7dd5777d4d418b9161431ee8052a": {
      "model_module": "@jupyter-widgets/controls",
      "model_module_version": "1.5.0",
      "model_name": "HBoxModel",
      "state": {
       "children": [
        "IPY_MODEL_bacca5a205e14321ac6461a18f6af5c8",
        "IPY_MODEL_64555fae060d4dbe81c7c0dcf96380c8"
       ],
       "layout": "IPY_MODEL_c1a8a1b81e2d4c5ab5b260077eb2e238"
      }
     },
     "57eeb4be00094fee851f5bf872280e17": {
      "model_module": "@jupyter-widgets/controls",
      "model_module_version": "1.5.0",
      "model_name": "ButtonStyleModel",
      "state": {
       "button_color": "lightgreen"
      }
     },
     "581f640461e345f99231a1a36c2897ef": {
      "model_module": "@jupyter-widgets/controls",
      "model_module_version": "1.5.0",
      "model_name": "HTMLModel",
      "state": {
       "layout": "IPY_MODEL_58b5e744cbdd46bbb9707c4638531acb",
       "style": "IPY_MODEL_263ede028b00423fb065ae0cd4939df6",
       "value": "<h4 style=\"font-size:14px;\">Welche Operation folgt als nächstes?</h4>"
      }
     },
     "5870a4b7d2f34f478766ef3e863cfded": {
      "model_module": "@jupyter-widgets/base",
      "model_module_version": "1.2.0",
      "model_name": "LayoutModel",
      "state": {
       "width": "250px"
      }
     },
     "587eaf7ba7344baa9b20c8640dc66709": {
      "model_module": "@jupyter-widgets/base",
      "model_module_version": "1.2.0",
      "model_name": "LayoutModel",
      "state": {
       "width": "250px"
      }
     },
     "58a1b9665de449c99e8c1ffe82c8b9ed": {
      "model_module": "@jupyter-widgets/controls",
      "model_module_version": "1.5.0",
      "model_name": "HTMLModel",
      "state": {
       "layout": "IPY_MODEL_d9da488b70a8441a9f4de09b25086748",
       "style": "IPY_MODEL_f24c6f4ba9a9492faa3a24d3878d17d6",
       "value": "<h4 style=\"font-size:14px;\">Welche Operation folgt als nächstes?</h4>"
      }
     },
     "58a74a959ea646218b5dc3a348fccc08": {
      "model_module": "@jupyter-widgets/base",
      "model_module_version": "1.2.0",
      "model_name": "LayoutModel",
      "state": {
       "width": "250px"
      }
     },
     "58b5e744cbdd46bbb9707c4638531acb": {
      "model_module": "@jupyter-widgets/base",
      "model_module_version": "1.2.0",
      "model_name": "LayoutModel",
      "state": {
       "justify_content": "center"
      }
     },
     "58b8e12851ab4285ae7211726c17be2d": {
      "model_module": "@jupyter-widgets/controls",
      "model_module_version": "1.5.0",
      "model_name": "DescriptionStyleModel",
      "state": {
       "description_width": "initial"
      }
     },
     "58f4a27dec8640ff8d77e31378249f6b": {
      "model_module": "@jupyter-widgets/controls",
      "model_module_version": "1.5.0",
      "model_name": "VBoxModel",
      "state": {
       "children": [
        "IPY_MODEL_c1b7f688b7754249ab03fcb3d33c246b",
        "IPY_MODEL_05ebcb9aac2344d2ac9da44d35d05423",
        "IPY_MODEL_ae63a8d749ef44599252ec27b0940074",
        "IPY_MODEL_9b1799a02e8c4f13aa0e7b52acca9e2f",
        "IPY_MODEL_a6288e6ffaba4d92989b10b38b1cd506"
       ],
       "layout": "IPY_MODEL_541d460d67be4829bb65eff2fb06d270"
      }
     },
     "59093dfff718433cbfe55b396792339e": {
      "model_module": "@jupyter-widgets/controls",
      "model_module_version": "1.5.0",
      "model_name": "ButtonModel",
      "state": {
       "description": "Reduce",
       "layout": "IPY_MODEL_0ccd6357ff654c5aa41b2abe14195284",
       "style": "IPY_MODEL_dc6ae8b4c9364640a7365ebf206c67e0"
      }
     },
     "592e6f0ca146439a924352d935800c45": {
      "model_module": "@jupyter-widgets/controls",
      "model_module_version": "1.5.0",
      "model_name": "HBoxModel",
      "state": {
       "children": [
        "IPY_MODEL_7fb3ecdc11f1420c96d0d488317b02b7",
        "IPY_MODEL_e4824b3676cc45a4bf27354c5795d84e"
       ],
       "layout": "IPY_MODEL_3104355bac2246dcb4bfbf5d23f02c82"
      }
     },
     "59478daa06d34c55bc3def8b250d16e8": {
      "model_module": "@jupyter-widgets/controls",
      "model_module_version": "1.5.0",
      "model_name": "ButtonModel",
      "state": {
       "description": "Shift",
       "layout": "IPY_MODEL_764000de0f094eea871d4db33da621e6",
       "style": "IPY_MODEL_f685a42b7a294a5494456dc883fc1e63"
      }
     },
     "5948c5523da745a09e0c7b9372d07503": {
      "model_module": "@jupyter-widgets/controls",
      "model_module_version": "1.5.0",
      "model_name": "HBoxModel",
      "state": {
       "children": [
        "IPY_MODEL_d0ea96887d084ad3bde9b8274fc57669",
        "IPY_MODEL_cd7c2685d6cc49c29595653f170b63e6"
       ],
       "layout": "IPY_MODEL_7f88c5b169854ba6bfa31b995b33a1bb"
      }
     },
     "59b937f60e514b0aa2c4179d4d8441b4": {
      "model_module": "@jupyter-widgets/base",
      "model_module_version": "1.2.0",
      "model_name": "LayoutModel",
      "state": {
       "width": "250px"
      }
     },
     "59f498ecfd4f452f9156c8dc71a5ecaa": {
      "model_module": "@jupyter-widgets/controls",
      "model_module_version": "1.5.0",
      "model_name": "ButtonModel",
      "state": {
       "description": "Keine der Alternativen",
       "layout": "IPY_MODEL_0b5cd9a36f6445d39ac72a088189c88b",
       "style": "IPY_MODEL_d8bc7585e8eb4356b196f488ab6a2d22"
      }
     },
     "5a2e18cb8bc24f08a7487f1f82325b24": {
      "model_module": "@jupyter-widgets/base",
      "model_module_version": "1.2.0",
      "model_name": "LayoutModel",
      "state": {}
     },
     "5a4e29753811411fa0376ebdfc17e29f": {
      "model_module": "@jupyter-widgets/controls",
      "model_module_version": "1.5.0",
      "model_name": "ButtonModel",
      "state": {
       "description": "Complete",
       "layout": "IPY_MODEL_c8679f04cc0c4a9b9a88961d663b78ed",
       "style": "IPY_MODEL_08e13f0a8a264735a59145b9c85143f5"
      }
     },
     "5a939ac436ac424d892abc024531e524": {
      "model_module": "@jupyter-widgets/base",
      "model_module_version": "1.2.0",
      "model_name": "LayoutModel",
      "state": {}
     },
     "5abc9e771ddf490fb8dc5f1c8e14f50c": {
      "model_module": "@jupyter-widgets/controls",
      "model_module_version": "1.5.0",
      "model_name": "HTMLModel",
      "state": {
       "layout": "IPY_MODEL_d2b4dceec0024c40a66f66d1d0aff4af",
       "style": "IPY_MODEL_f1335ca984644c2b9e3b36cdb761e52c",
       "value": "<i>Wählen Sie die <ins>eine</ins> korrekte Antwort aus: </i>"
      }
     },
     "5af6e346894a44ce835043869a430733": {
      "model_module": "@jupyter-widgets/base",
      "model_module_version": "1.2.0",
      "model_name": "LayoutModel",
      "state": {
       "justify_content": "center"
      }
     },
     "5af7a2ef447b48db9aaa790dab3682f2": {
      "model_module": "@jupyter-widgets/controls",
      "model_module_version": "1.5.0",
      "model_name": "ButtonStyleModel",
      "state": {}
     },
     "5b0f1e9e88e141f78246f9045b43f6a1": {
      "model_module": "@jupyter-widgets/controls",
      "model_module_version": "1.5.0",
      "model_name": "HTMLModel",
      "state": {
       "layout": "IPY_MODEL_a7a2ce9258b546df97e8e11f291e9483",
       "style": "IPY_MODEL_a76e0a4065c04fea81b34d83dc9d50e0",
       "value": "<h4 style=\"font-size:14px;\">Welche Operation folgt als nächstes?</h4>"
      }
     },
     "5b21488e112e45d3977c1768298957c4": {
      "model_module": "@jupyter-widgets/base",
      "model_module_version": "1.2.0",
      "model_name": "LayoutModel",
      "state": {
       "justify_content": "center"
      }
     },
     "5b886c45237748f1bce61af37ee0db79": {
      "model_module": "@jupyter-widgets/base",
      "model_module_version": "1.2.0",
      "model_name": "LayoutModel",
      "state": {}
     },
     "5b8a4bfc19aa49db80924464ee029883": {
      "model_module": "@jupyter-widgets/controls",
      "model_module_version": "1.5.0",
      "model_name": "DescriptionStyleModel",
      "state": {
       "description_width": ""
      }
     },
     "5b9fb336e03543b7bc9934bd736c0c94": {
      "model_module": "@jupyter-widgets/controls",
      "model_module_version": "1.5.0",
      "model_name": "ButtonStyleModel",
      "state": {}
     },
     "5bf53657c3d4435891ddd5ac48f7949b": {
      "model_module": "@jupyter-widgets/controls",
      "model_module_version": "1.5.0",
      "model_name": "DescriptionStyleModel",
      "state": {
       "description_width": ""
      }
     },
     "5c0eb46b9cff4c41a98dfbe63b9e4acc": {
      "model_module": "@jupyter-widgets/controls",
      "model_module_version": "1.5.0",
      "model_name": "HBoxModel",
      "state": {
       "children": [
        "IPY_MODEL_abd95d6b415e485b90de8968676206d8"
       ],
       "layout": "IPY_MODEL_84fe090079d74964a929cdefbe06147b"
      }
     },
     "5c147f7923a44c728577a31e1ab7725a": {
      "model_module": "@jupyter-widgets/controls",
      "model_module_version": "1.5.0",
      "model_name": "ButtonModel",
      "state": {
       "description": "Predict",
       "layout": "IPY_MODEL_eea9d2881496420bb09372efee7959e4",
       "style": "IPY_MODEL_7d5a36d580ee4edd8af6b2c2a32e132d"
      }
     },
     "5c5f3b1dfa04404f91b43e4b976161ce": {
      "model_module": "@jupyter-widgets/controls",
      "model_module_version": "1.5.0",
      "model_name": "HBoxModel",
      "state": {
       "children": [
        "IPY_MODEL_cc0e3d7ef7374710891eb31dcf83492a",
        "IPY_MODEL_a11fd895d37d4aa896ef27c5df23b86f"
       ],
       "layout": "IPY_MODEL_ecb8e5be45654b3a83b307f680a5c2a7"
      }
     },
     "5c89bbbcf669444db6f36bd472decbfa": {
      "model_module": "@jupyter-widgets/controls",
      "model_module_version": "1.5.0",
      "model_name": "DescriptionStyleModel",
      "state": {
       "description_width": "initial"
      }
     },
     "5cab0822f4a44dd0a3d50577db640a17": {
      "model_module": "@jupyter-widgets/controls",
      "model_module_version": "1.5.0",
      "model_name": "ButtonStyleModel",
      "state": {}
     },
     "5d0acf52e3594f208eff971b9945a2c0": {
      "model_module": "@jupyter-widgets/controls",
      "model_module_version": "1.5.0",
      "model_name": "HTMLModel",
      "state": {
       "layout": "IPY_MODEL_f7cb47012570449089f7ac641f6861bb",
       "style": "IPY_MODEL_09aaab275b504b39a3c4953edb004251",
       "value": "<i>Wählen Sie die <ins>eine</ins> korrekte Antwort aus: </i>"
      }
     },
     "5d1a5c36c732463aadc39bef280b8cb9": {
      "model_module": "@jupyter-widgets/base",
      "model_module_version": "1.2.0",
      "model_name": "LayoutModel",
      "state": {
       "width": "250px"
      }
     },
     "5d1f396b137b41fa97dcf7b34dc6149a": {
      "model_module": "@jupyter-widgets/base",
      "model_module_version": "1.2.0",
      "model_name": "LayoutModel",
      "state": {
       "justify_content": "center"
      }
     },
     "5d44b03b88c2482990765826ac7b1370": {
      "model_module": "@jupyter-widgets/base",
      "model_module_version": "1.2.0",
      "model_name": "LayoutModel",
      "state": {}
     },
     "5d4be78a45784ace871a314f4822eed4": {
      "model_module": "@jupyter-widgets/controls",
      "model_module_version": "1.5.0",
      "model_name": "ButtonModel",
      "state": {
       "description": "Earley",
       "layout": "IPY_MODEL_1554a03f34444ea4b29fbf5770b63d86",
       "style": "IPY_MODEL_751a2adbd617423d8ed76d1f7da9a718"
      }
     },
     "5d7b705b108642f7a990730b6a1b267b": {
      "model_module": "@jupyter-widgets/controls",
      "model_module_version": "1.5.0",
      "model_name": "HTMLModel",
      "state": {
       "layout": "IPY_MODEL_4ecfcacd096349149067bffd9d64d54d",
       "style": "IPY_MODEL_0da461fa5c8c4e45b062e3220eff2f16",
       "value": "<h4 style=\"font-size:14px;\">Welche Operation folgt als nächstes?</h4>"
      }
     },
     "5dd39ed1199c44b2b93d4b72fd7d4ef5": {
      "model_module": "@jupyter-widgets/controls",
      "model_module_version": "1.5.0",
      "model_name": "ButtonStyleModel",
      "state": {}
     },
     "5dd948399bc847f8ae49e0c2f1197425": {
      "model_module": "@jupyter-widgets/base",
      "model_module_version": "1.2.0",
      "model_name": "LayoutModel",
      "state": {
       "width": "250px"
      }
     },
     "5ddea77fa40249ca84cb84fb90333022": {
      "model_module": "@jupyter-widgets/base",
      "model_module_version": "1.2.0",
      "model_name": "LayoutModel",
      "state": {
       "justify_content": "center"
      }
     },
     "5e1fbc7a846f42f0ab1795ae15cf38ab": {
      "model_module": "@jupyter-widgets/base",
      "model_module_version": "1.2.0",
      "model_name": "LayoutModel",
      "state": {
       "width": "600px"
      }
     },
     "5e31249afc8b4dc89e02a154284da461": {
      "model_module": "@jupyter-widgets/base",
      "model_module_version": "1.2.0",
      "model_name": "LayoutModel",
      "state": {
       "width": "250px"
      }
     },
     "5e3ba21c94184eeb973e1c84d2391b3e": {
      "model_module": "@jupyter-widgets/controls",
      "model_module_version": "1.5.0",
      "model_name": "ButtonModel",
      "state": {
       "description": "Scan",
       "layout": "IPY_MODEL_953464c37e4a4e5aaa5d3a3b93aed791",
       "style": "IPY_MODEL_4f83eaf67d6840c3a148d0518a5a81eb"
      }
     },
     "5e46e9d5405b4cc28bd1d1ee7f96379d": {
      "model_module": "@jupyter-widgets/base",
      "model_module_version": "1.2.0",
      "model_name": "LayoutModel",
      "state": {
       "width": "250px"
      }
     },
     "5e58b745dc034690b61c5764bf34e4ba": {
      "model_module": "@jupyter-widgets/controls",
      "model_module_version": "1.5.0",
      "model_name": "DescriptionStyleModel",
      "state": {
       "description_width": ""
      }
     },
     "5e806e8706184dbea416f3004355b3b2": {
      "model_module": "@jupyter-widgets/controls",
      "model_module_version": "1.5.0",
      "model_name": "HTMLModel",
      "state": {
       "layout": "IPY_MODEL_501678f141fb414cb692ce708d93d0af",
       "style": "IPY_MODEL_9e87afdeccce4a609ca1b435022f96ac",
       "value": "<h4 style=\"font-size:14px;\">Welche Operation folgt als nächstes?</h4>"
      }
     },
     "5e87efd8a04a47e88a8c73f476f0edcc": {
      "model_module": "@jupyter-widgets/controls",
      "model_module_version": "1.5.0",
      "model_name": "HBoxModel",
      "state": {
       "children": [
        "IPY_MODEL_a0e0532e6b974cd19a54b3002ca6f606",
        "IPY_MODEL_a82e8033c6894b15b84540857bdba120"
       ],
       "layout": "IPY_MODEL_986c09344d664f6db58e427a4471e28d"
      }
     },
     "5ed5c030248c42c4b38f88a03d91cc8a": {
      "model_module": "@jupyter-widgets/controls",
      "model_module_version": "1.5.0",
      "model_name": "HTMLModel",
      "state": {
       "layout": "IPY_MODEL_353076893df046a6abd1147c769eb996",
       "style": "IPY_MODEL_c1ac211376f3493fb95b60610ca67c1a",
       "value": "<h4 style=\"font-size:14px;\">Welche Operation folgt als nächstes?</h4>"
      }
     },
     "5edf18dc938347d1ac46c007ce12454d": {
      "model_module": "@jupyter-widgets/base",
      "model_module_version": "1.2.0",
      "model_name": "LayoutModel",
      "state": {
       "width": "600px"
      }
     },
     "5ee3024d9c844eea9c0470ed3221e402": {
      "model_module": "@jupyter-widgets/controls",
      "model_module_version": "1.5.0",
      "model_name": "CheckboxModel",
      "state": {
       "description": "Shift",
       "disabled": false,
       "layout": "IPY_MODEL_f5a39281fde44a6ca3404fe555bee640",
       "style": "IPY_MODEL_1545970d6b06436ea8e1d9e2c0f54da7",
       "value": false
      }
     },
     "5f0214fb6ba34805ac553918932fb8fc": {
      "model_module": "@jupyter-widgets/base",
      "model_module_version": "1.2.0",
      "model_name": "LayoutModel",
      "state": {}
     },
     "5f0b0b1080514ac9a18bd95b116e6652": {
      "model_module": "@jupyter-widgets/controls",
      "model_module_version": "1.5.0",
      "model_name": "VBoxModel",
      "state": {
       "children": [
        "IPY_MODEL_5ed5c030248c42c4b38f88a03d91cc8a",
        "IPY_MODEL_9c283d078b1c4d6e9e309551aa0fd1a0",
        "IPY_MODEL_9d93a3faf81442129b8485cbbd57f045",
        "IPY_MODEL_70d6b75d5d1241af9603e367dde26dcd",
        "IPY_MODEL_234e9364dbb248c1a23a569844bc3171"
       ],
       "layout": "IPY_MODEL_9a34b843900c42d89a6a777f5cf96aa9"
      }
     },
     "5f194f4eddf84c69878f7aab0a48e839": {
      "model_module": "@jupyter-widgets/controls",
      "model_module_version": "1.5.0",
      "model_name": "VBoxModel",
      "state": {
       "children": [
        "IPY_MODEL_a89973c484ff4535ad761be708043db2",
        "IPY_MODEL_80170f9b46f444e992f44dd68a238d6c",
        "IPY_MODEL_d6b966272b4d4fafb1dca2cd473c6dac",
        "IPY_MODEL_610cef54378644328616615257b37cb7",
        "IPY_MODEL_27aad3b1a79c4b9d9e0de232a6af3c81"
       ],
       "layout": "IPY_MODEL_86bd44ba6d034bbba7de9480b275ca24"
      }
     },
     "5f42ded8643e44c691e01805c48b65fa": {
      "model_module": "@jupyter-widgets/controls",
      "model_module_version": "1.5.0",
      "model_name": "ButtonModel",
      "state": {
       "description": "Predict",
       "layout": "IPY_MODEL_a86dfc0cc56a4ea1adc112a2fb336c5c",
       "style": "IPY_MODEL_339005570ad644f9808060dedd92fac3"
      }
     },
     "5f4bbe1748ec44168a6e1a08eaf8144b": {
      "model_module": "@jupyter-widgets/controls",
      "model_module_version": "1.5.0",
      "model_name": "ButtonStyleModel",
      "state": {
       "button_color": "lightgreen"
      }
     },
     "5f56496cb1ef45c59b707bb5d6e73b82": {
      "model_module": "@jupyter-widgets/base",
      "model_module_version": "1.2.0",
      "model_name": "LayoutModel",
      "state": {}
     },
     "5fb11e3cda3645ca9116cf070cf7ac4c": {
      "model_module": "@jupyter-widgets/base",
      "model_module_version": "1.2.0",
      "model_name": "LayoutModel",
      "state": {
       "width": "600px"
      }
     },
     "600f8e087e924542a65fa246335e5641": {
      "model_module": "@jupyter-widgets/controls",
      "model_module_version": "1.5.0",
      "model_name": "ButtonStyleModel",
      "state": {}
     },
     "602a343b5dae458786297a3368581280": {
      "model_module": "@jupyter-widgets/controls",
      "model_module_version": "1.5.0",
      "model_name": "VBoxModel",
      "state": {
       "children": [
        "IPY_MODEL_e14905aded124e31a51649467b74aba7",
        "IPY_MODEL_d6cf74684c034e48bd0187a2d720f138",
        "IPY_MODEL_17e0e3f733294878bcda49e4f1c78a88",
        "IPY_MODEL_ef9d225201554ff7af4b5dd83decb208",
        "IPY_MODEL_27dbd3bc8e6d4a0a8172f205bd7736ab"
       ],
       "layout": "IPY_MODEL_73d575629e9d479f8f35ccd490d06502"
      }
     },
     "606c25a409c94ff4b42a29325d068fd0": {
      "model_module": "@jupyter-widgets/base",
      "model_module_version": "1.2.0",
      "model_name": "LayoutModel",
      "state": {
       "width": "250px"
      }
     },
     "609550273db548ca88c955cffed2a38e": {
      "model_module": "@jupyter-widgets/base",
      "model_module_version": "1.2.0",
      "model_name": "LayoutModel",
      "state": {}
     },
     "60b783c591704490a3514f1b4663e0e6": {
      "model_module": "@jupyter-widgets/controls",
      "model_module_version": "1.5.0",
      "model_name": "ButtonModel",
      "state": {
       "description": "Keine der Alternativen",
       "layout": "IPY_MODEL_983f988f261d41039153c55ae3516ccb",
       "style": "IPY_MODEL_17d24e32bdf047f6ace538f746fa186d"
      }
     },
     "60d8c65880484e399015d5416d028dc2": {
      "model_module": "@jupyter-widgets/controls",
      "model_module_version": "1.5.0",
      "model_name": "ButtonStyleModel",
      "state": {}
     },
     "60fb66480908479a91cd29142429b841": {
      "model_module": "@jupyter-widgets/controls",
      "model_module_version": "1.5.0",
      "model_name": "HTMLModel",
      "state": {
       "layout": "IPY_MODEL_65b66d88af02417fb621f2cb46614cd4",
       "style": "IPY_MODEL_6cc078499d5a4a1d82c6f6682f100804",
       "value": "<h4 style=\"font-size:14px;\">Um welchen Parser handelt es sich?</h4>"
      }
     },
     "610cef54378644328616615257b37cb7": {
      "model_module": "@jupyter-widgets/controls",
      "model_module_version": "1.5.0",
      "model_name": "HBoxModel",
      "state": {
       "children": [
        "IPY_MODEL_8d57692f367e484ba264c70eba32661a",
        "IPY_MODEL_0c4dc0fd9f8d4fdea89a5f148e7f1b15"
       ],
       "layout": "IPY_MODEL_c75471720dbd470aa718110ed03ffa2e"
      }
     },
     "61126926a701471486286cf4915de235": {
      "model_module": "@jupyter-widgets/controls",
      "model_module_version": "1.5.0",
      "model_name": "ButtonModel",
      "state": {
       "description": "Predict",
       "layout": "IPY_MODEL_61b4443875574e0eb469f501659e8e55",
       "style": "IPY_MODEL_704b21db2d014b7392a50aa25d1bc250"
      }
     },
     "6114d45ff4af495aadf921875ea434b4": {
      "model_module": "@jupyter-widgets/controls",
      "model_module_version": "1.5.0",
      "model_name": "HBoxModel",
      "state": {
       "children": [
        "IPY_MODEL_eb3fef0208404be2afcf0e85d8ce030f"
       ],
       "layout": "IPY_MODEL_15c0ff6d330b45c38a1b26f090130662"
      }
     },
     "613f3933cadf4c3199f3ca28e9e5ead0": {
      "model_module": "@jupyter-widgets/controls",
      "model_module_version": "1.5.0",
      "model_name": "VBoxModel",
      "state": {
       "children": [
        "IPY_MODEL_7c127293b682417a954e81e350f53c71",
        "IPY_MODEL_05a48eeed9134f66a7a714040307058e",
        "IPY_MODEL_23d38725bb4e4520a90bfd996f115560",
        "IPY_MODEL_18ddde32d16749e4815837dde44777df",
        "IPY_MODEL_2d65d57dd2bc4a67ba2625f540a63b3a"
       ],
       "layout": "IPY_MODEL_c157dbf7c9cf45cf8f16f5780d29cb6a"
      }
     },
     "616868f4024f4d7bb3a312f5e44b5b84": {
      "model_module": "@jupyter-widgets/base",
      "model_module_version": "1.2.0",
      "model_name": "LayoutModel",
      "state": {
       "width": "250px"
      }
     },
     "61892670bf034fc5b04c0f7ed32b949b": {
      "model_module": "@jupyter-widgets/base",
      "model_module_version": "1.2.0",
      "model_name": "LayoutModel",
      "state": {
       "justify_content": "center"
      }
     },
     "61b4443875574e0eb469f501659e8e55": {
      "model_module": "@jupyter-widgets/base",
      "model_module_version": "1.2.0",
      "model_name": "LayoutModel",
      "state": {
       "width": "250px"
      }
     },
     "61db0ef49f92405db283ab0ec1e659e8": {
      "model_module": "@jupyter-widgets/controls",
      "model_module_version": "1.5.0",
      "model_name": "HBoxModel",
      "state": {
       "children": [
        "IPY_MODEL_ff0e1114455f4474b46fb4fc39765a56"
       ],
       "layout": "IPY_MODEL_f496baa054054f12818160ed19bdfa44"
      }
     },
     "620e0bf14b5a41f49f263b6ec80f5161": {
      "model_module": "@jupyter-widgets/base",
      "model_module_version": "1.2.0",
      "model_name": "LayoutModel",
      "state": {}
     },
     "622475e3f43f4e70816afa8443a8b619": {
      "model_module": "@jupyter-widgets/base",
      "model_module_version": "1.2.0",
      "model_name": "LayoutModel",
      "state": {
       "width": "250px"
      }
     },
     "6227453a2fcf4020b11a82b31235f72e": {
      "model_module": "@jupyter-widgets/base",
      "model_module_version": "1.2.0",
      "model_name": "LayoutModel",
      "state": {}
     },
     "622b8699718349b78a3f4ef9837a1d24": {
      "model_module": "@jupyter-widgets/base",
      "model_module_version": "1.2.0",
      "model_name": "LayoutModel",
      "state": {
       "justify_content": "center"
      }
     },
     "622d4ebb502344868f5ab3cc585c342f": {
      "model_module": "@jupyter-widgets/controls",
      "model_module_version": "1.5.0",
      "model_name": "ButtonModel",
      "state": {
       "description": "Reduce",
       "layout": "IPY_MODEL_8b8c87e2e92b4a9383ec3320a1a79283",
       "style": "IPY_MODEL_b692bdd750854397b7134e8bfc32244d"
      }
     },
     "62863215abd44cba9bdc3080ad4d78f8": {
      "model_module": "@jupyter-widgets/base",
      "model_module_version": "1.2.0",
      "model_name": "LayoutModel",
      "state": {
       "width": "250px"
      }
     },
     "6287cbd59cdc4487af58a6d17d0ea7f6": {
      "model_module": "@jupyter-widgets/base",
      "model_module_version": "1.2.0",
      "model_name": "LayoutModel",
      "state": {}
     },
     "62a1b9822be74197a13da7f7e889419b": {
      "model_module": "@jupyter-widgets/base",
      "model_module_version": "1.2.0",
      "model_name": "LayoutModel",
      "state": {}
     },
     "62a1fef22fa04adbb02efbef5fb93e67": {
      "model_module": "@jupyter-widgets/controls",
      "model_module_version": "1.5.0",
      "model_name": "ButtonStyleModel",
      "state": {}
     },
     "62bec94ecf654729a4a0186d62ed4570": {
      "model_module": "@jupyter-widgets/base",
      "model_module_version": "1.2.0",
      "model_name": "LayoutModel",
      "state": {}
     },
     "62f0702dc5504b779df22f7778e4a8b4": {
      "model_module": "@jupyter-widgets/base",
      "model_module_version": "1.2.0",
      "model_name": "LayoutModel",
      "state": {
       "justify_content": "center"
      }
     },
     "63212d36071449b7815d49b4fcfbf8b7": {
      "model_module": "@jupyter-widgets/controls",
      "model_module_version": "1.5.0",
      "model_name": "HBoxModel",
      "state": {
       "children": [
        "IPY_MODEL_2cf1aeb1c91b45f6974e33a8b221fcc1"
       ],
       "layout": "IPY_MODEL_a935d573dd6644b894b1f9e94307a10c"
      }
     },
     "633d5db219fe48558945bf3ff8d4da7b": {
      "model_module": "@jupyter-widgets/controls",
      "model_module_version": "1.5.0",
      "model_name": "HBoxModel",
      "state": {
       "children": [
        "IPY_MODEL_e059c04e860f456e9c008f198e1de13a",
        "IPY_MODEL_1929d6e48f1145da83f7526d167b05bd"
       ],
       "layout": "IPY_MODEL_d3aae0c264a943529862e90b0b865f04"
      }
     },
     "635024bfed2f41ae94d5f90c7ce5b516": {
      "model_module": "@jupyter-widgets/controls",
      "model_module_version": "1.5.0",
      "model_name": "HTMLModel",
      "state": {
       "layout": "IPY_MODEL_8030eeebb9eb4dcf89c3ef076a34b138",
       "style": "IPY_MODEL_2f8eaf0b6001453fadb00c9a07438b98",
       "value": "<h4 style=\"font-size:14px;\">Um welchen Parser handelt es sich?</h4>"
      }
     },
     "63784ce2329b4cdeb4e444d29827ed2e": {
      "model_module": "@jupyter-widgets/base",
      "model_module_version": "1.2.0",
      "model_name": "LayoutModel",
      "state": {}
     },
     "63e7bb2b1d8c476eb50f23d55e605a1c": {
      "model_module": "@jupyter-widgets/controls",
      "model_module_version": "1.5.0",
      "model_name": "VBoxModel",
      "state": {
       "children": [
        "IPY_MODEL_24bc6a2811ff4c93bd6bdf2ed360cbc7",
        "IPY_MODEL_cad4ac1341364cc69c90d8f0f7b6594c",
        "IPY_MODEL_633d5db219fe48558945bf3ff8d4da7b",
        "IPY_MODEL_0181c6ef302f40139df69d06f93be25c",
        "IPY_MODEL_e674ee031a8f48c38fa169a47f0b6edd"
       ],
       "layout": "IPY_MODEL_fdfdccce7db641b08e3e64ea52a73e61"
      }
     },
     "64555fae060d4dbe81c7c0dcf96380c8": {
      "model_module": "@jupyter-widgets/controls",
      "model_module_version": "1.5.0",
      "model_name": "ButtonModel",
      "state": {
       "description": "Keine der Alternativen",
       "layout": "IPY_MODEL_8d0c49962552452fbc9d539eb2404723",
       "style": "IPY_MODEL_edc59a3dc3ee41abb787379ec4062d25"
      }
     },
     "6455bee5a4bd486f9157773e5cf8768f": {
      "model_module": "@jupyter-widgets/base",
      "model_module_version": "1.2.0",
      "model_name": "LayoutModel",
      "state": {
       "width": "250px"
      }
     },
     "646a6317b54b4b6c944cf02d7b216af6": {
      "model_module": "@jupyter-widgets/controls",
      "model_module_version": "1.5.0",
      "model_name": "ButtonModel",
      "state": {
       "description": "Korrekt?",
       "layout": "IPY_MODEL_0ec3f7512fe347b3afa1f570e4790f6d",
       "style": "IPY_MODEL_49d95da80c224432a24f17a7fb3c55f7"
      }
     },
     "646bbe11186649159194db8f5938e5a7": {
      "model_module": "@jupyter-widgets/base",
      "model_module_version": "1.2.0",
      "model_name": "LayoutModel",
      "state": {
       "justify_content": "center"
      }
     },
     "64805f1c1c3c412e81267343fe1e3d95": {
      "model_module": "@jupyter-widgets/controls",
      "model_module_version": "1.5.0",
      "model_name": "ButtonStyleModel",
      "state": {}
     },
     "648bbc5e30a5476994d83b77cdbf2b0f": {
      "model_module": "@jupyter-widgets/controls",
      "model_module_version": "1.5.0",
      "model_name": "ButtonStyleModel",
      "state": {}
     },
     "648df6f2ced3400688976e8f69d776e5": {
      "model_module": "@jupyter-widgets/controls",
      "model_module_version": "1.5.0",
      "model_name": "ButtonStyleModel",
      "state": {}
     },
     "6493034ef72b422283a49c02c1dc3aaf": {
      "model_module": "@jupyter-widgets/controls",
      "model_module_version": "1.5.0",
      "model_name": "HBoxModel",
      "state": {
       "children": [
        "IPY_MODEL_b200a9c301d74aa789d2ebe9210a5f29",
        "IPY_MODEL_31f82ff094d74725b5eb48f041d51409"
       ],
       "layout": "IPY_MODEL_391b38a8b4314d808233e68b017b3856"
      }
     },
     "653c1f596c9c46398c47d1cbfb5ed66e": {
      "model_module": "@jupyter-widgets/controls",
      "model_module_version": "1.5.0",
      "model_name": "HBoxModel",
      "state": {
       "children": [
        "IPY_MODEL_b1bcbbe8038749b1804b5dbb01648dfd"
       ],
       "layout": "IPY_MODEL_2eeb2c42526d405a8b6eaa2c6b076a80"
      }
     },
     "655402e89671431abd664c2a13163451": {
      "model_module": "@jupyter-widgets/base",
      "model_module_version": "1.2.0",
      "model_name": "LayoutModel",
      "state": {
       "width": "250px"
      }
     },
     "656c474627fc497493961bef609bb3b7": {
      "model_module": "@jupyter-widgets/controls",
      "model_module_version": "1.5.0",
      "model_name": "HTMLModel",
      "state": {
       "layout": "IPY_MODEL_9f1044df599949309740d760f551c8d1",
       "style": "IPY_MODEL_1f5d55a454a447e78091f74fcb4721b7",
       "value": "<h4 style=\"font-size:14px;\">Welche Operation folgt als nächstes?</h4>"
      }
     },
     "656cae3068f54eaaa2a86147d33231e0": {
      "model_module": "@jupyter-widgets/controls",
      "model_module_version": "1.5.0",
      "model_name": "HTMLModel",
      "state": {
       "layout": "IPY_MODEL_4db0caa769734e0aabf54ef53da0b9e3",
       "style": "IPY_MODEL_b8096401a579412f930e93520c59156a",
       "value": "<i>Wählen Sie die <ins>eine</ins> korrekte Antwort aus: </i>"
      }
     },
     "657e4fecbe7248b1b16ebe94fb045724": {
      "model_module": "@jupyter-widgets/base",
      "model_module_version": "1.2.0",
      "model_name": "LayoutModel",
      "state": {
       "width": "600px"
      }
     },
     "6597ae663ff74604893a8b448c8a4590": {
      "model_module": "@jupyter-widgets/base",
      "model_module_version": "1.2.0",
      "model_name": "LayoutModel",
      "state": {
       "width": "250px"
      }
     },
     "65b66d88af02417fb621f2cb46614cd4": {
      "model_module": "@jupyter-widgets/base",
      "model_module_version": "1.2.0",
      "model_name": "LayoutModel",
      "state": {
       "justify_content": "center"
      }
     },
     "65b753318ad04129a68e00aee71e8be4": {
      "model_module": "@jupyter-widgets/base",
      "model_module_version": "1.2.0",
      "model_name": "LayoutModel",
      "state": {
       "width": "600px"
      }
     },
     "65c033f6327b4f8188d1b3ad8b6b1319": {
      "model_module": "@jupyter-widgets/controls",
      "model_module_version": "1.5.0",
      "model_name": "ButtonStyleModel",
      "state": {}
     },
     "65ee6c26bc904e529b61f68d42950163": {
      "model_module": "@jupyter-widgets/base",
      "model_module_version": "1.2.0",
      "model_name": "LayoutModel",
      "state": {}
     },
     "661632641dbe4e0b927cead4ac2e24bf": {
      "model_module": "@jupyter-widgets/controls",
      "model_module_version": "1.5.0",
      "model_name": "ButtonStyleModel",
      "state": {}
     },
     "6639fcb90e2c4139b07d6be7f657d502": {
      "model_module": "@jupyter-widgets/controls",
      "model_module_version": "1.5.0",
      "model_name": "ButtonModel",
      "state": {
       "description": "Keine der Alternativen",
       "layout": "IPY_MODEL_a3d80eeafe094b95adefea25aa362434",
       "style": "IPY_MODEL_0fedb9f447f346269bd87fd5ad125d97"
      }
     },
     "6657b34a5fbd4681a29f075acc709099": {
      "model_module": "@jupyter-widgets/controls",
      "model_module_version": "1.5.0",
      "model_name": "ButtonStyleModel",
      "state": {
       "button_color": "lightgreen"
      }
     },
     "665c598df5a742989e9537890c1f16ff": {
      "model_module": "@jupyter-widgets/base",
      "model_module_version": "1.2.0",
      "model_name": "LayoutModel",
      "state": {
       "width": "250px"
      }
     },
     "667683a610c34492b7eb88e7d632c935": {
      "model_module": "@jupyter-widgets/controls",
      "model_module_version": "1.5.0",
      "model_name": "HBoxModel",
      "state": {
       "children": [
        "IPY_MODEL_8dd0ecf06d6f4f48b2fe3a50fc1585cc",
        "IPY_MODEL_a3f18522d2b64269a79c88d4839f6c8d"
       ],
       "layout": "IPY_MODEL_82b820f9e8b24d01b75a0f2145b80b86"
      }
     },
     "66a5ce49b74f42f8ac64ef49ab86a66f": {
      "model_module": "@jupyter-widgets/controls",
      "model_module_version": "1.5.0",
      "model_name": "ButtonStyleModel",
      "state": {}
     },
     "66a7577e70364fd9874c9eb0d31a4a31": {
      "model_module": "@jupyter-widgets/controls",
      "model_module_version": "1.5.0",
      "model_name": "ButtonStyleModel",
      "state": {}
     },
     "66b16ef8928546c8b76fc45197c8568f": {
      "model_module": "@jupyter-widgets/base",
      "model_module_version": "1.2.0",
      "model_name": "LayoutModel",
      "state": {
       "width": "250px"
      }
     },
     "66c48798856a4802b42730f80b31552f": {
      "model_module": "@jupyter-widgets/base",
      "model_module_version": "1.2.0",
      "model_name": "LayoutModel",
      "state": {
       "justify_content": "center"
      }
     },
     "672e0be8883f482d9ca7990329006c96": {
      "model_module": "@jupyter-widgets/base",
      "model_module_version": "1.2.0",
      "model_name": "LayoutModel",
      "state": {
       "width": "250px"
      }
     },
     "67357725238b434eb52283627ada6a19": {
      "model_module": "@jupyter-widgets/base",
      "model_module_version": "1.2.0",
      "model_name": "LayoutModel",
      "state": {}
     },
     "6747f5dbc49f4f4886c4c799f2257772": {
      "model_module": "@jupyter-widgets/controls",
      "model_module_version": "1.5.0",
      "model_name": "ButtonStyleModel",
      "state": {}
     },
     "67548f388d614d8c90454f9011b7a86e": {
      "model_module": "@jupyter-widgets/base",
      "model_module_version": "1.2.0",
      "model_name": "LayoutModel",
      "state": {}
     },
     "6765affcbe01492fa4f35b1baebeab6f": {
      "model_module": "@jupyter-widgets/base",
      "model_module_version": "1.2.0",
      "model_name": "LayoutModel",
      "state": {}
     },
     "6794c1658d8743b8a4ef4323e49becb5": {
      "model_module": "@jupyter-widgets/controls",
      "model_module_version": "1.5.0",
      "model_name": "ButtonStyleModel",
      "state": {}
     },
     "67ea39a44e8d48f09fed3d8b7a2c6e30": {
      "model_module": "@jupyter-widgets/base",
      "model_module_version": "1.2.0",
      "model_name": "LayoutModel",
      "state": {
       "width": "250px"
      }
     },
     "6804ef7cc77a439c8b40aa329da82a2e": {
      "model_module": "@jupyter-widgets/base",
      "model_module_version": "1.2.0",
      "model_name": "LayoutModel",
      "state": {
       "width": "250px"
      }
     },
     "6805b694fa594e929a765c7d375181d9": {
      "model_module": "@jupyter-widgets/base",
      "model_module_version": "1.2.0",
      "model_name": "LayoutModel",
      "state": {}
     },
     "6853941354b64cbb9c5d59bfbfe4f8b8": {
      "model_module": "@jupyter-widgets/controls",
      "model_module_version": "1.5.0",
      "model_name": "ButtonStyleModel",
      "state": {
       "button_color": "lightgreen"
      }
     },
     "68573826064a45148409457b00c5b912": {
      "model_module": "@jupyter-widgets/controls",
      "model_module_version": "1.5.0",
      "model_name": "DescriptionStyleModel",
      "state": {
       "description_width": ""
      }
     },
     "687bca13414a40d3b8272f1cef3177b7": {
      "model_module": "@jupyter-widgets/base",
      "model_module_version": "1.2.0",
      "model_name": "LayoutModel",
      "state": {}
     },
     "68e04f28c0744023a0954f36c4c549ae": {
      "model_module": "@jupyter-widgets/controls",
      "model_module_version": "1.5.0",
      "model_name": "CheckboxModel",
      "state": {
       "description": "Complete",
       "disabled": false,
       "layout": "IPY_MODEL_eaf9c924a03e42788f4945063ef3787a",
       "style": "IPY_MODEL_9567c6e036c8484e84a06d757edf3c0e",
       "value": false
      }
     },
     "695b466d181144a199bd68c86c121599": {
      "model_module": "@jupyter-widgets/controls",
      "model_module_version": "1.5.0",
      "model_name": "HTMLModel",
      "state": {
       "layout": "IPY_MODEL_b0dff703c6864b9aa8474f6887814380",
       "style": "IPY_MODEL_4e8f36d1f0c64c60bf64e6f96af698a5",
       "value": "<i>Markieren Sie <ins>alle</ins> passenden Antworten: </i>"
      }
     },
     "6977d7a468194901afd6b9c441ff2e26": {
      "model_module": "@jupyter-widgets/base",
      "model_module_version": "1.2.0",
      "model_name": "LayoutModel",
      "state": {}
     },
     "697841fb561e42fca5dc00dcd1d1e57b": {
      "model_module": "@jupyter-widgets/controls",
      "model_module_version": "1.5.0",
      "model_name": "ButtonModel",
      "state": {
       "description": "Scan",
       "layout": "IPY_MODEL_1bf08df3602b4870b194bd0a8484173e",
       "style": "IPY_MODEL_1765905975d8414e8dac783aa9517237"
      }
     },
     "697b0e0074fc4c39bb821f6433b5bad3": {
      "model_module": "@jupyter-widgets/controls",
      "model_module_version": "1.5.0",
      "model_name": "ButtonStyleModel",
      "state": {}
     },
     "698c2c3ef071451a9675bc70c2f45084": {
      "model_module": "@jupyter-widgets/base",
      "model_module_version": "1.2.0",
      "model_name": "LayoutModel",
      "state": {
       "justify_content": "center"
      }
     },
     "69baaa780acd4caa8082e7ab50966470": {
      "model_module": "@jupyter-widgets/controls",
      "model_module_version": "1.5.0",
      "model_name": "ButtonModel",
      "state": {
       "description": "Reduce",
       "layout": "IPY_MODEL_3a267c1c5de44ec8b8acaaa735519e76",
       "style": "IPY_MODEL_b8dfb6d30992471fa259991ba98b426d"
      }
     },
     "69c1fa9362c246e095a50890b3af7468": {
      "model_module": "@jupyter-widgets/controls",
      "model_module_version": "1.5.0",
      "model_name": "VBoxModel",
      "state": {
       "children": [
        "IPY_MODEL_e8479e4990c3454fbd9c3b7df0a6199f",
        "IPY_MODEL_9393502559fc499783228a92c9e9db37",
        "IPY_MODEL_4581743050b14824b311a099bd10ca23",
        "IPY_MODEL_f811557531e04a3599c609fba2fdf0e6"
       ],
       "layout": "IPY_MODEL_5a939ac436ac424d892abc024531e524"
      }
     },
     "69c895e95d4843e588898c9d6b053c07": {
      "model_module": "@jupyter-widgets/controls",
      "model_module_version": "1.5.0",
      "model_name": "ButtonStyleModel",
      "state": {}
     },
     "6a03bdf5e686403b872102a5010deeeb": {
      "model_module": "@jupyter-widgets/base",
      "model_module_version": "1.2.0",
      "model_name": "LayoutModel",
      "state": {}
     },
     "6a09dbfbb6bf4358aaa3f52ad971a3a6": {
      "model_module": "@jupyter-widgets/controls",
      "model_module_version": "1.5.0",
      "model_name": "DescriptionStyleModel",
      "state": {
       "description_width": ""
      }
     },
     "6a67e7a8dff04507beb9698cd825c65f": {
      "model_module": "@jupyter-widgets/controls",
      "model_module_version": "1.5.0",
      "model_name": "CheckboxModel",
      "state": {
       "description": "Predict",
       "disabled": false,
       "layout": "IPY_MODEL_5edf18dc938347d1ac46c007ce12454d",
       "style": "IPY_MODEL_863d53bbe8324164a2f777b4b68ed763",
       "value": false
      }
     },
     "6a786f025a31430c80e1b5fc62cb5d30": {
      "model_module": "@jupyter-widgets/base",
      "model_module_version": "1.2.0",
      "model_name": "LayoutModel",
      "state": {
       "justify_content": "center"
      }
     },
     "6a8521000b9f41d6b4c23fa1c69fadd8": {
      "model_module": "@jupyter-widgets/controls",
      "model_module_version": "1.5.0",
      "model_name": "ButtonStyleModel",
      "state": {}
     },
     "6aa3c35ecc084e4ebef41472d5c947c2": {
      "model_module": "@jupyter-widgets/controls",
      "model_module_version": "1.5.0",
      "model_name": "ButtonStyleModel",
      "state": {}
     },
     "6aac360a36e8442691d4cebfb259a566": {
      "model_module": "@jupyter-widgets/controls",
      "model_module_version": "1.5.0",
      "model_name": "ButtonModel",
      "state": {
       "description": "Scan",
       "layout": "IPY_MODEL_88b21743d7d34af28c01fdbfec5ca395",
       "style": "IPY_MODEL_865b11f4813b4e42bf193d38dfaa75cc"
      }
     },
     "6ab2fafd580746bd80dd2b8b9033c707": {
      "model_module": "@jupyter-widgets/base",
      "model_module_version": "1.2.0",
      "model_name": "LayoutModel",
      "state": {
       "width": "250px"
      }
     },
     "6abca2f2eef6490b8a78323ca0b7534f": {
      "model_module": "@jupyter-widgets/controls",
      "model_module_version": "1.5.0",
      "model_name": "ButtonModel",
      "state": {
       "description": "Reduce",
       "layout": "IPY_MODEL_6eab6bf74de84d518d4c7fabc2c0e4b6",
       "style": "IPY_MODEL_b6dadcdb09f64599bd901e0a64e4bb81"
      }
     },
     "6ac2497a4fd7439a8bd7ffc897b9c600": {
      "model_module": "@jupyter-widgets/base",
      "model_module_version": "1.2.0",
      "model_name": "LayoutModel",
      "state": {
       "width": "250px"
      }
     },
     "6accd85c6484462b8fe6912922727f99": {
      "model_module": "@jupyter-widgets/controls",
      "model_module_version": "1.5.0",
      "model_name": "HBoxModel",
      "state": {
       "children": [
        "IPY_MODEL_4969de008e874ab68c8818c3fe7f9e98"
       ],
       "layout": "IPY_MODEL_7291a5ef181142bfa0ef0225a675f775"
      }
     },
     "6b0602384f564b24847b317bb932a772": {
      "model_module": "@jupyter-widgets/controls",
      "model_module_version": "1.5.0",
      "model_name": "ButtonStyleModel",
      "state": {}
     },
     "6b0dad230414425a8de936410db442ed": {
      "model_module": "@jupyter-widgets/controls",
      "model_module_version": "1.5.0",
      "model_name": "DescriptionStyleModel",
      "state": {
       "description_width": ""
      }
     },
     "6b10026e188a42e4a5e8933ef4246f6a": {
      "model_module": "@jupyter-widgets/base",
      "model_module_version": "1.2.0",
      "model_name": "LayoutModel",
      "state": {}
     },
     "6b4182db58cb4918863171a07dd80861": {
      "model_module": "@jupyter-widgets/controls",
      "model_module_version": "1.5.0",
      "model_name": "ButtonModel",
      "state": {
       "description": "Earley",
       "layout": "IPY_MODEL_fa8f9dc132fc47c1b266a0634bebc7dc",
       "style": "IPY_MODEL_6853941354b64cbb9c5d59bfbfe4f8b8"
      }
     },
     "6b69a4b2f3aa4c0caeb44ede8f54f7f3": {
      "model_module": "@jupyter-widgets/base",
      "model_module_version": "1.2.0",
      "model_name": "LayoutModel",
      "state": {
       "width": "250px"
      }
     },
     "6b6a213b787d401ca4458fd925fed616": {
      "model_module": "@jupyter-widgets/base",
      "model_module_version": "1.2.0",
      "model_name": "LayoutModel",
      "state": {
       "justify_content": "center"
      }
     },
     "6b7c4176ed9640b6a71260456c81084d": {
      "model_module": "@jupyter-widgets/base",
      "model_module_version": "1.2.0",
      "model_name": "LayoutModel",
      "state": {
       "width": "250px"
      }
     },
     "6b9ab193480e472cb27486f1f7f86781": {
      "model_module": "@jupyter-widgets/base",
      "model_module_version": "1.2.0",
      "model_name": "LayoutModel",
      "state": {}
     },
     "6bd7cc0130954b3c8dce113b4029f4c0": {
      "model_module": "@jupyter-widgets/controls",
      "model_module_version": "1.5.0",
      "model_name": "ButtonStyleModel",
      "state": {}
     },
     "6c7736c2af9349d299ab3ddb2bf2a11e": {
      "model_module": "@jupyter-widgets/controls",
      "model_module_version": "1.5.0",
      "model_name": "HBoxModel",
      "state": {
       "children": [
        "IPY_MODEL_119d7753035c45dbb2998417d8e16fa9",
        "IPY_MODEL_d93aa6b3529741ae87078cf29495aa87"
       ],
       "layout": "IPY_MODEL_579404e892a84f7ea13ea4fc6a4fca4e"
      }
     },
     "6c93cda834cb4e1ea4889d2b6d781f2f": {
      "model_module": "@jupyter-widgets/controls",
      "model_module_version": "1.5.0",
      "model_name": "ButtonStyleModel",
      "state": {}
     },
     "6c98777b6b844365829a95ebba66d27a": {
      "model_module": "@jupyter-widgets/base",
      "model_module_version": "1.2.0",
      "model_name": "LayoutModel",
      "state": {
       "width": "250px"
      }
     },
     "6cc078499d5a4a1d82c6f6682f100804": {
      "model_module": "@jupyter-widgets/controls",
      "model_module_version": "1.5.0",
      "model_name": "DescriptionStyleModel",
      "state": {
       "description_width": ""
      }
     },
     "6cc3c63a440e44ebac175b109e1a25f5": {
      "model_module": "@jupyter-widgets/base",
      "model_module_version": "1.2.0",
      "model_name": "LayoutModel",
      "state": {}
     },
     "6cd9516b3b5440469e723c2bd83d6353": {
      "model_module": "@jupyter-widgets/controls",
      "model_module_version": "1.5.0",
      "model_name": "HTMLModel",
      "state": {
       "layout": "IPY_MODEL_c1e259a6d1144fc6a4cb2f9f5ce143b2",
       "style": "IPY_MODEL_c56fa58481a84326b14ebbbcdb97cb40",
       "value": "<h4 style=\"font-size:14px;\">Um welchen Parser handelt es sich?</h4>"
      }
     },
     "6cf3641a94e84f17937aea4f356d1fe7": {
      "model_module": "@jupyter-widgets/base",
      "model_module_version": "1.2.0",
      "model_name": "LayoutModel",
      "state": {
       "width": "250px"
      }
     },
     "6cf9df629e654a54ac8f98cf8552c104": {
      "model_module": "@jupyter-widgets/controls",
      "model_module_version": "1.5.0",
      "model_name": "DescriptionStyleModel",
      "state": {
       "description_width": ""
      }
     },
     "6cfb719d31a24307a4f05037ed087c2a": {
      "model_module": "@jupyter-widgets/controls",
      "model_module_version": "1.5.0",
      "model_name": "HTMLModel",
      "state": {
       "layout": "IPY_MODEL_c282358484b1436294d57dcc192d4e92",
       "style": "IPY_MODEL_faa1774ba9d64397904beffd9068ee07",
       "value": "<h4 style=\"font-size:14px;\">Welche Operation folgt als nächstes?</h4>"
      }
     },
     "6d1a68d6c231488ea0d2073b7b6d863d": {
      "model_module": "@jupyter-widgets/controls",
      "model_module_version": "1.5.0",
      "model_name": "VBoxModel",
      "state": {
       "children": [
        "IPY_MODEL_bd2689f8f5e4457d942c9581fca0421e",
        "IPY_MODEL_a8520efae47f482daea0d5b8730f6fae",
        "IPY_MODEL_ef94605e81444e92b438fddd03b4e4a2",
        "IPY_MODEL_20f62a2dbfdf4dee9b241911aa3bd43b",
        "IPY_MODEL_9d7612b29a4d44c2832e186a81884545"
       ],
       "layout": "IPY_MODEL_62bec94ecf654729a4a0186d62ed4570"
      }
     },
     "6d96d5bde31d4e57bd7ee031937eedc4": {
      "model_module": "@jupyter-widgets/base",
      "model_module_version": "1.2.0",
      "model_name": "LayoutModel",
      "state": {
       "width": "250px"
      }
     },
     "6d998b3b0b0d4fc8ab75567021aecd99": {
      "model_module": "@jupyter-widgets/controls",
      "model_module_version": "1.5.0",
      "model_name": "HTMLModel",
      "state": {
       "layout": "IPY_MODEL_9ea978d14b3043d586b16200c61e445b",
       "style": "IPY_MODEL_aeba904cbfc6452783a7eba19352ef59",
       "value": "<h4 style=\"font-size:14px;\">Welche Operationen hat der Shift Reduce Parser?</h4>"
      }
     },
     "6dac3d8149a64cbaaeb03cdf36d22511": {
      "model_module": "@jupyter-widgets/base",
      "model_module_version": "1.2.0",
      "model_name": "LayoutModel",
      "state": {}
     },
     "6dba1959f13c4e73859039c0a98ed53f": {
      "model_module": "@jupyter-widgets/controls",
      "model_module_version": "1.5.0",
      "model_name": "ButtonStyleModel",
      "state": {}
     },
     "6dcc0699bda64cc2b31d1a564c103ba9": {
      "model_module": "@jupyter-widgets/base",
      "model_module_version": "1.2.0",
      "model_name": "LayoutModel",
      "state": {
       "width": "250px"
      }
     },
     "6e35c211d97d49109fce3c82b4992aee": {
      "model_module": "@jupyter-widgets/controls",
      "model_module_version": "1.5.0",
      "model_name": "ButtonStyleModel",
      "state": {}
     },
     "6e3b0ce6e72b42b8bac515a88136c7c9": {
      "model_module": "@jupyter-widgets/controls",
      "model_module_version": "1.5.0",
      "model_name": "HTMLModel",
      "state": {
       "layout": "IPY_MODEL_b3767b75ef9c409998d4a4f73e7e2664",
       "style": "IPY_MODEL_3346308f9d5f4954a2c5cd5fb50c04eb",
       "value": "<h4 style=\"font-size:14px;\">Welche Operation folgt als nächstes?</h4>"
      }
     },
     "6e467df970eb4e6dbd5852d6916d8eb2": {
      "model_module": "@jupyter-widgets/base",
      "model_module_version": "1.2.0",
      "model_name": "LayoutModel",
      "state": {}
     },
     "6e6c6507456d43cf8a224778bfabcc19": {
      "model_module": "@jupyter-widgets/base",
      "model_module_version": "1.2.0",
      "model_name": "LayoutModel",
      "state": {
       "width": "250px"
      }
     },
     "6e871baaf61c49a9a9c7467d7f619cd7": {
      "model_module": "@jupyter-widgets/controls",
      "model_module_version": "1.5.0",
      "model_name": "ButtonModel",
      "state": {
       "description": "Recusive Descent",
       "layout": "IPY_MODEL_f70fdc11ef2f41c888e2426740b0cc0b",
       "style": "IPY_MODEL_21851edb1eff494ca56043dd24e15bcd"
      }
     },
     "6eab6bf74de84d518d4c7fabc2c0e4b6": {
      "model_module": "@jupyter-widgets/base",
      "model_module_version": "1.2.0",
      "model_name": "LayoutModel",
      "state": {
       "width": "250px"
      }
     },
     "6eb79559fc3d4c8f90059d7b89b3271b": {
      "model_module": "@jupyter-widgets/controls",
      "model_module_version": "1.5.0",
      "model_name": "ButtonModel",
      "state": {
       "description": "Reduce",
       "layout": "IPY_MODEL_55d41dc95fc0488cb7d876aa4dc1cd6a",
       "style": "IPY_MODEL_2b92de799d71484287e789def5d4edb7"
      }
     },
     "6eb9ea60aa8c462da506f63576e83947": {
      "model_module": "@jupyter-widgets/controls",
      "model_module_version": "1.5.0",
      "model_name": "ButtonStyleModel",
      "state": {}
     },
     "6f0c1d1eeaf34eb1a847649739fbe338": {
      "model_module": "@jupyter-widgets/base",
      "model_module_version": "1.2.0",
      "model_name": "LayoutModel",
      "state": {
       "width": "250px"
      }
     },
     "6f41be8674034695987fdeade34cb36c": {
      "model_module": "@jupyter-widgets/controls",
      "model_module_version": "1.5.0",
      "model_name": "DescriptionStyleModel",
      "state": {
       "description_width": ""
      }
     },
     "6f435e4925ce40a7b64b4c63a6040568": {
      "model_module": "@jupyter-widgets/controls",
      "model_module_version": "1.5.0",
      "model_name": "HTMLModel",
      "state": {
       "layout": "IPY_MODEL_915a183f21b64b87ae58fc060c44b7e0",
       "style": "IPY_MODEL_0c12656483974e4cac628caa7c728615",
       "value": "<h4 style=\"font-size:14px;\">Um welchen Parser handelt es sich?</h4>"
      }
     },
     "6fea0159917e4e9c8f4f3e28b284cc60": {
      "model_module": "@jupyter-widgets/base",
      "model_module_version": "1.2.0",
      "model_name": "LayoutModel",
      "state": {
       "width": "600px"
      }
     },
     "701e4ce10a0f4add8ac5a67ff92da335": {
      "model_module": "@jupyter-widgets/base",
      "model_module_version": "1.2.0",
      "model_name": "LayoutModel",
      "state": {
       "width": "250px"
      }
     },
     "701f9ef040e940cf853711c5d994436a": {
      "model_module": "@jupyter-widgets/base",
      "model_module_version": "1.2.0",
      "model_name": "LayoutModel",
      "state": {}
     },
     "704b21db2d014b7392a50aa25d1bc250": {
      "model_module": "@jupyter-widgets/controls",
      "model_module_version": "1.5.0",
      "model_name": "ButtonStyleModel",
      "state": {}
     },
     "705a9c7de7fe4465b5a7da68e583ecb5": {
      "model_module": "@jupyter-widgets/base",
      "model_module_version": "1.2.0",
      "model_name": "LayoutModel",
      "state": {
       "width": "250px"
      }
     },
     "706e974e45274f2f903e95963f3e72c1": {
      "model_module": "@jupyter-widgets/controls",
      "model_module_version": "1.5.0",
      "model_name": "ButtonStyleModel",
      "state": {}
     },
     "708377f1afb8442fb58a4a43fcd7445f": {
      "model_module": "@jupyter-widgets/base",
      "model_module_version": "1.2.0",
      "model_name": "LayoutModel",
      "state": {
       "width": "250px"
      }
     },
     "708622dca0f44527842c243dca6b8f4c": {
      "model_module": "@jupyter-widgets/controls",
      "model_module_version": "1.5.0",
      "model_name": "ButtonModel",
      "state": {
       "description": "Shift",
       "layout": "IPY_MODEL_d85b2ab3fd9d40a5ab9337e794ebc4e7",
       "style": "IPY_MODEL_06d91875c3c34909ae5225c749703c5b"
      }
     },
     "70947b73d5a44f85afb4ba8541ff9ce6": {
      "model_module": "@jupyter-widgets/controls",
      "model_module_version": "1.5.0",
      "model_name": "ButtonStyleModel",
      "state": {
       "button_color": "lightgreen"
      }
     },
     "70a027ba22b5461ea62b3e9b9b9a184d": {
      "model_module": "@jupyter-widgets/controls",
      "model_module_version": "1.5.0",
      "model_name": "HTMLModel",
      "state": {
       "layout": "IPY_MODEL_75acf8ce2be9493ba5d634cd00fa709b",
       "style": "IPY_MODEL_9416224e24964fa5ae7c25ab8bfc6859",
       "value": "<i>Wählen Sie die <ins>eine</ins> korrekte Antwort aus: </i>"
      }
     },
     "70bb5443895f4683a1eecd0b65ea5456": {
      "model_module": "@jupyter-widgets/base",
      "model_module_version": "1.2.0",
      "model_name": "LayoutModel",
      "state": {
       "justify_content": "center"
      }
     },
     "70c8bad8ee1a4cc3828f2b4ac78779d1": {
      "model_module": "@jupyter-widgets/controls",
      "model_module_version": "1.5.0",
      "model_name": "ButtonModel",
      "state": {
       "description": "Predict",
       "layout": "IPY_MODEL_606c25a409c94ff4b42a29325d068fd0",
       "style": "IPY_MODEL_b5c72e1397004d8f90771a7ea7a5792b"
      }
     },
     "70d6b75d5d1241af9603e367dde26dcd": {
      "model_module": "@jupyter-widgets/controls",
      "model_module_version": "1.5.0",
      "model_name": "HBoxModel",
      "state": {
       "children": [
        "IPY_MODEL_ed12ce59e00c4f2cba00e86b64b38a6d",
        "IPY_MODEL_af3024b566cd439f922c4cb5edfac0e2"
       ],
       "layout": "IPY_MODEL_15c6f6efa5374673af49f365da862017"
      }
     },
     "70d7f5aebe584a6d99313f44728ade5b": {
      "model_module": "@jupyter-widgets/base",
      "model_module_version": "1.2.0",
      "model_name": "LayoutModel",
      "state": {
       "width": "250px"
      }
     },
     "70f2dcb3010b445a90be57c34b0eeabd": {
      "model_module": "@jupyter-widgets/base",
      "model_module_version": "1.2.0",
      "model_name": "LayoutModel",
      "state": {
       "width": "250px"
      }
     },
     "710f762a279b48068791332d22ef12be": {
      "model_module": "@jupyter-widgets/base",
      "model_module_version": "1.2.0",
      "model_name": "LayoutModel",
      "state": {
       "width": "600px"
      }
     },
     "713f608634c94f668761bbfc089fafe5": {
      "model_module": "@jupyter-widgets/controls",
      "model_module_version": "1.5.0",
      "model_name": "ButtonModel",
      "state": {
       "description": "Scan",
       "layout": "IPY_MODEL_f74541eac0c545e38a8f4494c4d06881",
       "style": "IPY_MODEL_9af9bcaf2cc246f9ba69791afc01a925"
      }
     },
     "7169b05861664892a0cb57c4cbebb161": {
      "model_module": "@jupyter-widgets/controls",
      "model_module_version": "1.5.0",
      "model_name": "HTMLModel",
      "state": {
       "layout": "IPY_MODEL_716ac06b679a450db6b57a7c7290d710",
       "style": "IPY_MODEL_3c72b35f33714471961260d8f56e395c",
       "value": "<i>Wählen Sie die <ins>eine</ins> korrekte Antwort aus: </i>"
      }
     },
     "716ac06b679a450db6b57a7c7290d710": {
      "model_module": "@jupyter-widgets/base",
      "model_module_version": "1.2.0",
      "model_name": "LayoutModel",
      "state": {
       "justify_content": "center"
      }
     },
     "720d5ab7ddfb44ae82af1b423d4d5bbc": {
      "model_module": "@jupyter-widgets/controls",
      "model_module_version": "1.5.0",
      "model_name": "ButtonStyleModel",
      "state": {}
     },
     "722ae9b9f06944a9bf1dde30f182e63d": {
      "model_module": "@jupyter-widgets/controls",
      "model_module_version": "1.5.0",
      "model_name": "ButtonStyleModel",
      "state": {}
     },
     "723f5c2e031c42cb94ea38591948e521": {
      "model_module": "@jupyter-widgets/base",
      "model_module_version": "1.2.0",
      "model_name": "LayoutModel",
      "state": {
       "width": "250px"
      }
     },
     "726ac646311d49acb511298530806d3b": {
      "model_module": "@jupyter-widgets/controls",
      "model_module_version": "1.5.0",
      "model_name": "ButtonStyleModel",
      "state": {}
     },
     "7291a5ef181142bfa0ef0225a675f775": {
      "model_module": "@jupyter-widgets/base",
      "model_module_version": "1.2.0",
      "model_name": "LayoutModel",
      "state": {}
     },
     "7294f90c06e647168e6ad07f899a59f9": {
      "model_module": "@jupyter-widgets/controls",
      "model_module_version": "1.5.0",
      "model_name": "VBoxModel",
      "state": {
       "children": [
        "IPY_MODEL_68e04f28c0744023a0954f36c4c549ae",
        "IPY_MODEL_c738b2027883428e8b2831c897d5b169",
        "IPY_MODEL_2951718f488d4966aa67ce842de37046",
        "IPY_MODEL_c488c61404194deba1514919a7e70555",
        "IPY_MODEL_98441e21a0824044971cb2eb95eaf15f"
       ],
       "layout": "IPY_MODEL_7809d75d0acb49b2bc6f00107fa95789"
      }
     },
     "72bc274ad6924a318cfc91e9f2432ec5": {
      "model_module": "@jupyter-widgets/base",
      "model_module_version": "1.2.0",
      "model_name": "LayoutModel",
      "state": {
       "width": "250px"
      }
     },
     "72dcbc8b9d444893958111366cfa1f36": {
      "model_module": "@jupyter-widgets/controls",
      "model_module_version": "1.5.0",
      "model_name": "HBoxModel",
      "state": {
       "children": [
        "IPY_MODEL_072ebed4bc8b45a9a75894c3b0e12cc0",
        "IPY_MODEL_d212bb6ddb5e4437a59108a4b8a74dd2"
       ],
       "layout": "IPY_MODEL_e988568e779f4153b5da9d0a27867047"
      }
     },
     "72ea1d2f035d44a6a97a2145ac3ba770": {
      "model_module": "@jupyter-widgets/controls",
      "model_module_version": "1.5.0",
      "model_name": "VBoxModel",
      "state": {
       "children": [
        "IPY_MODEL_58a1b9665de449c99e8c1ffe82c8b9ed",
        "IPY_MODEL_96a18f829e79476f8bf473f5e966b642",
        "IPY_MODEL_77d04737e52241f3a95bb56277be4a80",
        "IPY_MODEL_b593db63a3134319832303759df33b9b",
        "IPY_MODEL_40df1e36b5fe460691d1a60bb37d066e"
       ],
       "layout": "IPY_MODEL_0e1fd712fbbb477aa24f513df8197745"
      }
     },
     "7353363562ec4de29f3f26848c05e847": {
      "model_module": "@jupyter-widgets/controls",
      "model_module_version": "1.5.0",
      "model_name": "HTMLModel",
      "state": {
       "layout": "IPY_MODEL_89e934ca73fe42228f30890b40c5db45",
       "style": "IPY_MODEL_b405bc56831c478692ebed4b356b0043",
       "value": "<i>Wählen Sie die <ins>eine</ins> korrekte Antwort aus: </i>"
      }
     },
     "73849cda1e544cc594f41355c94c9145": {
      "model_module": "@jupyter-widgets/base",
      "model_module_version": "1.2.0",
      "model_name": "LayoutModel",
      "state": {
       "justify_content": "center"
      }
     },
     "73d575629e9d479f8f35ccd490d06502": {
      "model_module": "@jupyter-widgets/base",
      "model_module_version": "1.2.0",
      "model_name": "LayoutModel",
      "state": {}
     },
     "745c49c9c1314e24a3127bc4c1bacdb5": {
      "model_module": "@jupyter-widgets/controls",
      "model_module_version": "1.5.0",
      "model_name": "ButtonModel",
      "state": {
       "description": "Shift",
       "layout": "IPY_MODEL_cde4de8ce26f4078bd016579ad03cb69",
       "style": "IPY_MODEL_6eb9ea60aa8c462da506f63576e83947"
      }
     },
     "747b5831e95b4b46a9fb181f425e5832": {
      "model_module": "@jupyter-widgets/controls",
      "model_module_version": "1.5.0",
      "model_name": "ButtonStyleModel",
      "state": {}
     },
     "7489ccb8d10f40938a24d41c2388403e": {
      "model_module": "@jupyter-widgets/controls",
      "model_module_version": "1.5.0",
      "model_name": "ButtonModel",
      "state": {
       "description": "Keine der Alternativen",
       "layout": "IPY_MODEL_6804ef7cc77a439c8b40aa329da82a2e",
       "style": "IPY_MODEL_c5f0a3087fc1434eacf65e8b9ebab9a1"
      }
     },
     "74c79754c72649bebf76d2ab14afb0a3": {
      "model_module": "@jupyter-widgets/controls",
      "model_module_version": "1.5.0",
      "model_name": "ButtonModel",
      "state": {
       "description": "Scan",
       "layout": "IPY_MODEL_622475e3f43f4e70816afa8443a8b619",
       "style": "IPY_MODEL_5dd39ed1199c44b2b93d4b72fd7d4ef5"
      }
     },
     "751a2adbd617423d8ed76d1f7da9a718": {
      "model_module": "@jupyter-widgets/controls",
      "model_module_version": "1.5.0",
      "model_name": "ButtonStyleModel",
      "state": {}
     },
     "758ad5ec88b5421492a5f8b49f647c7c": {
      "model_module": "@jupyter-widgets/controls",
      "model_module_version": "1.5.0",
      "model_name": "ButtonModel",
      "state": {
       "description": "Scan",
       "layout": "IPY_MODEL_12f5d9c2e5dd41b88ddccb367f13bf36",
       "style": "IPY_MODEL_648df6f2ced3400688976e8f69d776e5"
      }
     },
     "7590b0517ea146978545d7dbea7a05a0": {
      "model_module": "@jupyter-widgets/base",
      "model_module_version": "1.2.0",
      "model_name": "LayoutModel",
      "state": {
       "width": "250px"
      }
     },
     "75acf8ce2be9493ba5d634cd00fa709b": {
      "model_module": "@jupyter-widgets/base",
      "model_module_version": "1.2.0",
      "model_name": "LayoutModel",
      "state": {
       "justify_content": "center"
      }
     },
     "75eed409e6c24226b08a8221d871434d": {
      "model_module": "@jupyter-widgets/base",
      "model_module_version": "1.2.0",
      "model_name": "LayoutModel",
      "state": {
       "justify_content": "center"
      }
     },
     "7600349d4f0d4302aaed2729af6be8ea": {
      "model_module": "@jupyter-widgets/controls",
      "model_module_version": "1.5.0",
      "model_name": "ButtonModel",
      "state": {
       "description": "Predict",
       "layout": "IPY_MODEL_f9b94d690c4040a3b4868e54c19902e9",
       "style": "IPY_MODEL_c8a337ddf2694ecfb87688c6c5e8c2b4"
      }
     },
     "764000de0f094eea871d4db33da621e6": {
      "model_module": "@jupyter-widgets/base",
      "model_module_version": "1.2.0",
      "model_name": "LayoutModel",
      "state": {
       "width": "250px"
      }
     },
     "76acbdd35605498d948378f641760e34": {
      "model_module": "@jupyter-widgets/base",
      "model_module_version": "1.2.0",
      "model_name": "LayoutModel",
      "state": {
       "width": "250px"
      }
     },
     "76b22d932b4f441fb4561161d4d7981b": {
      "model_module": "@jupyter-widgets/base",
      "model_module_version": "1.2.0",
      "model_name": "LayoutModel",
      "state": {}
     },
     "76d8bab35ac2462caebbf878bdbbfd3b": {
      "model_module": "@jupyter-widgets/controls",
      "model_module_version": "1.5.0",
      "model_name": "ButtonModel",
      "state": {
       "description": "Complete",
       "layout": "IPY_MODEL_9f57a2a45ab9428f96fb4523fbaf8b54",
       "style": "IPY_MODEL_9c1d05f4c1d34f2f97baeffa551947b6"
      }
     },
     "7738a9839a1e455ab2893ef944bd8365": {
      "model_module": "@jupyter-widgets/controls",
      "model_module_version": "1.5.0",
      "model_name": "ButtonModel",
      "state": {
       "description": "Earley",
       "layout": "IPY_MODEL_2549ec47500d43bf906a84208c27d6e6",
       "style": "IPY_MODEL_deea33cd3b354264a123e4d6357c2fce"
      }
     },
     "779b32cda35f45888d2cefd70338ec92": {
      "model_module": "@jupyter-widgets/controls",
      "model_module_version": "1.5.0",
      "model_name": "ButtonStyleModel",
      "state": {}
     },
     "77d04737e52241f3a95bb56277be4a80": {
      "model_module": "@jupyter-widgets/controls",
      "model_module_version": "1.5.0",
      "model_name": "HBoxModel",
      "state": {
       "children": [
        "IPY_MODEL_54945f1e1bce4729a76aeb86a12fe200",
        "IPY_MODEL_dea59c9e954849979650542c688f40d3"
       ],
       "layout": "IPY_MODEL_ccfa8919227f4c6fb4d12a1e723262a5"
      }
     },
     "77dbc230cf2e4a4dbb6fa197be57838c": {
      "model_module": "@jupyter-widgets/controls",
      "model_module_version": "1.5.0",
      "model_name": "ButtonModel",
      "state": {
       "description": "Complete",
       "layout": "IPY_MODEL_f11b61be8f554e218719995ea47e45be",
       "style": "IPY_MODEL_99bc96786a064a50a7f8d2d65eba90c2"
      }
     },
     "77e36d0f8ddf473587231935dab15683": {
      "model_module": "@jupyter-widgets/base",
      "model_module_version": "1.2.0",
      "model_name": "LayoutModel",
      "state": {}
     },
     "77fd2a76806e45009245a21de69cbaae": {
      "model_module": "@jupyter-widgets/base",
      "model_module_version": "1.2.0",
      "model_name": "LayoutModel",
      "state": {}
     },
     "7809d75d0acb49b2bc6f00107fa95789": {
      "model_module": "@jupyter-widgets/base",
      "model_module_version": "1.2.0",
      "model_name": "LayoutModel",
      "state": {}
     },
     "782fab54e9c84afcb405f2f73047d2a4": {
      "model_module": "@jupyter-widgets/base",
      "model_module_version": "1.2.0",
      "model_name": "LayoutModel",
      "state": {
       "justify_content": "center"
      }
     },
     "7891f7fff9f145d1b08c37fd3a5d3454": {
      "model_module": "@jupyter-widgets/controls",
      "model_module_version": "1.5.0",
      "model_name": "HBoxModel",
      "state": {
       "children": [
        "IPY_MODEL_9dfe82e454ac45ab9741ce10b752a9be",
        "IPY_MODEL_1e41d7fdb07a485caf072a116d163abc"
       ],
       "layout": "IPY_MODEL_f4f572937e83400b93ffd810cdf7797b"
      }
     },
     "78a4eaafa04b4ea5b160c6e5f9bbbeac": {
      "model_module": "@jupyter-widgets/controls",
      "model_module_version": "1.5.0",
      "model_name": "ButtonStyleModel",
      "state": {}
     },
     "78a9d2294e2c423db4b02f3d690b7918": {
      "model_module": "@jupyter-widgets/controls",
      "model_module_version": "1.5.0",
      "model_name": "DescriptionStyleModel",
      "state": {
       "description_width": ""
      }
     },
     "78f39c4b41984055bcf273940f477b37": {
      "model_module": "@jupyter-widgets/base",
      "model_module_version": "1.2.0",
      "model_name": "LayoutModel",
      "state": {
       "width": "250px"
      }
     },
     "791955c8ad9345e6b022f90bb4c4509e": {
      "model_module": "@jupyter-widgets/base",
      "model_module_version": "1.2.0",
      "model_name": "LayoutModel",
      "state": {}
     },
     "792df644b23249a8aab58b663da0c3cf": {
      "model_module": "@jupyter-widgets/controls",
      "model_module_version": "1.5.0",
      "model_name": "HTMLModel",
      "state": {
       "layout": "IPY_MODEL_3890941ad769478f822733bc6b052e01",
       "style": "IPY_MODEL_f6003010c8524d9c8efce926354877f2",
       "value": "<i>Wählen Sie die <ins>eine</ins> korrekte Antwort aus: </i>"
      }
     },
     "79371835eefd487ab0486d5eae84b6a6": {
      "model_module": "@jupyter-widgets/base",
      "model_module_version": "1.2.0",
      "model_name": "LayoutModel",
      "state": {
       "justify_content": "center"
      }
     },
     "79384f716724440aac586d1416169ee4": {
      "model_module": "@jupyter-widgets/controls",
      "model_module_version": "1.5.0",
      "model_name": "ButtonModel",
      "state": {
       "description": "Reduce",
       "layout": "IPY_MODEL_0b1a17be93cd4084afc1f55a2fa3b626",
       "style": "IPY_MODEL_6747f5dbc49f4f4886c4c799f2257772"
      }
     },
     "795f3d37881944ccbdbd76411b6c663a": {
      "model_module": "@jupyter-widgets/controls",
      "model_module_version": "1.5.0",
      "model_name": "ButtonStyleModel",
      "state": {}
     },
     "7a1a754400934cc7ae5d06e5214a88c0": {
      "model_module": "@jupyter-widgets/controls",
      "model_module_version": "1.5.0",
      "model_name": "HBoxModel",
      "state": {
       "children": [
        "IPY_MODEL_0a808933807b4d94ba9e858bfaa7803c",
        "IPY_MODEL_0c35968e42cf4c14b054476400c771fd"
       ],
       "layout": "IPY_MODEL_e7db1db0c56b447e814574f2c40beb8f"
      }
     },
     "7a328ce6c67d4a649746e828cfefcb42": {
      "model_module": "@jupyter-widgets/controls",
      "model_module_version": "1.5.0",
      "model_name": "HBoxModel",
      "state": {
       "children": [
        "IPY_MODEL_e23102a2363e41098f0f98bff249eaef",
        "IPY_MODEL_6eb79559fc3d4c8f90059d7b89b3271b"
       ],
       "layout": "IPY_MODEL_9ad8202a467443e58f3c3b9e732ebdf1"
      }
     },
     "7a591cb3cc2e4418910a251cde7c68c7": {
      "model_module": "@jupyter-widgets/base",
      "model_module_version": "1.2.0",
      "model_name": "LayoutModel",
      "state": {
       "justify_content": "center"
      }
     },
     "7a72c73d4ac74b67b738630289f5d20d": {
      "model_module": "@jupyter-widgets/controls",
      "model_module_version": "1.5.0",
      "model_name": "DescriptionStyleModel",
      "state": {
       "description_width": ""
      }
     },
     "7a8a8525b73046ca8f6a9406edc37284": {
      "model_module": "@jupyter-widgets/controls",
      "model_module_version": "1.5.0",
      "model_name": "HBoxModel",
      "state": {
       "children": [
        "IPY_MODEL_5e3ba21c94184eeb973e1c84d2391b3e",
        "IPY_MODEL_35356812790242b98d2efbacf7331fae"
       ],
       "layout": "IPY_MODEL_a41a1396108f41da90ac7ac89861ae91"
      }
     },
     "7a996264d66f40019e48e0c777a11fe9": {
      "model_module": "@jupyter-widgets/base",
      "model_module_version": "1.2.0",
      "model_name": "LayoutModel",
      "state": {
       "width": "250px"
      }
     },
     "7aa282ea119240d5b75fa50f6f0498ce": {
      "model_module": "@jupyter-widgets/controls",
      "model_module_version": "1.5.0",
      "model_name": "ButtonStyleModel",
      "state": {}
     },
     "7af180de1c7346389b261d18a3d5502d": {
      "model_module": "@jupyter-widgets/controls",
      "model_module_version": "1.5.0",
      "model_name": "HBoxModel",
      "state": {
       "children": [
        "IPY_MODEL_c18dd93089064399acc38c765271f45f",
        "IPY_MODEL_336def28755e4cdb80ae9ca22b5d7b10"
       ],
       "layout": "IPY_MODEL_f4af41e8bf784d61b829330a6f2a0c48"
      }
     },
     "7b3059af11c44bdf9099528c13ff985c": {
      "model_module": "@jupyter-widgets/controls",
      "model_module_version": "1.5.0",
      "model_name": "ButtonStyleModel",
      "state": {}
     },
     "7b6b0ac166584e02bc3b80057b6d1251": {
      "model_module": "@jupyter-widgets/base",
      "model_module_version": "1.2.0",
      "model_name": "LayoutModel",
      "state": {
       "width": "250px"
      }
     },
     "7b8a222490f940ad972a758742f74119": {
      "model_module": "@jupyter-widgets/controls",
      "model_module_version": "1.5.0",
      "model_name": "DescriptionStyleModel",
      "state": {
       "description_width": ""
      }
     },
     "7bf1b8a2b7404fc28927cdb0f01b1f4d": {
      "model_module": "@jupyter-widgets/base",
      "model_module_version": "1.2.0",
      "model_name": "LayoutModel",
      "state": {
       "width": "600px"
      }
     },
     "7bf6dbb5a3b0476cb2cf3d28d3228b24": {
      "model_module": "@jupyter-widgets/controls",
      "model_module_version": "1.5.0",
      "model_name": "DescriptionStyleModel",
      "state": {
       "description_width": "initial"
      }
     },
     "7bfbcebe5262402f915d0f06867e3618": {
      "model_module": "@jupyter-widgets/base",
      "model_module_version": "1.2.0",
      "model_name": "LayoutModel",
      "state": {}
     },
     "7c0557f400044b608de2a2c608b86dde": {
      "model_module": "@jupyter-widgets/base",
      "model_module_version": "1.2.0",
      "model_name": "LayoutModel",
      "state": {
       "width": "600px"
      }
     },
     "7c127293b682417a954e81e350f53c71": {
      "model_module": "@jupyter-widgets/controls",
      "model_module_version": "1.5.0",
      "model_name": "HTMLModel",
      "state": {
       "layout": "IPY_MODEL_a3fe1ccb51ca4db1a994ac523b48a792",
       "style": "IPY_MODEL_4f0d2b50ea614009ad124deabe29a7cf",
       "value": "<h4 style=\"font-size:14px;\">Welche Operation folgt als nächstes?</h4>"
      }
     },
     "7c4858badfd84804ad70f574c05cbc2f": {
      "model_module": "@jupyter-widgets/controls",
      "model_module_version": "1.5.0",
      "model_name": "ButtonStyleModel",
      "state": {
       "button_color": "lightgreen"
      }
     },
     "7c4a60bc2d9344ccb8ba73c34ae45f21": {
      "model_module": "@jupyter-widgets/controls",
      "model_module_version": "1.5.0",
      "model_name": "ButtonModel",
      "state": {
       "description": "Keine der Alternativen",
       "layout": "IPY_MODEL_59b937f60e514b0aa2c4179d4d8441b4",
       "style": "IPY_MODEL_6b0602384f564b24847b317bb932a772"
      }
     },
     "7c52baaa47f446ceace64da6528cd5d9": {
      "model_module": "@jupyter-widgets/controls",
      "model_module_version": "1.5.0",
      "model_name": "HBoxModel",
      "state": {
       "children": [
        "IPY_MODEL_d9a9bb8fd9644060b631bf51830651c8",
        "IPY_MODEL_30bc245257164fd89a4cb041a0ad7b6d"
       ],
       "layout": "IPY_MODEL_9624bf63d5234decaffba7a09167e816"
      }
     },
     "7c7670d4aabd484c8f5af03cd1041563": {
      "model_module": "@jupyter-widgets/base",
      "model_module_version": "1.2.0",
      "model_name": "LayoutModel",
      "state": {
       "width": "250px"
      }
     },
     "7cceaaff5ae84237afdc0f842a98b874": {
      "model_module": "@jupyter-widgets/controls",
      "model_module_version": "1.5.0",
      "model_name": "ButtonStyleModel",
      "state": {}
     },
     "7d0f597dbc6d468f8af1e6fb9d8a6940": {
      "model_module": "@jupyter-widgets/controls",
      "model_module_version": "1.5.0",
      "model_name": "HBoxModel",
      "state": {
       "children": [
        "IPY_MODEL_07d4cef4eec542ba9466a6204f8f4f0e",
        "IPY_MODEL_3de4fc8273204b2aa14646dc6710066c"
       ],
       "layout": "IPY_MODEL_7bfbcebe5262402f915d0f06867e3618"
      }
     },
     "7d20f054398a4329b8314c99ff4ab654": {
      "model_module": "@jupyter-widgets/controls",
      "model_module_version": "1.5.0",
      "model_name": "HBoxModel",
      "state": {
       "children": [
        "IPY_MODEL_69baaa780acd4caa8082e7ab50966470",
        "IPY_MODEL_416e831a69244626b7c032cccedeac44"
       ],
       "layout": "IPY_MODEL_2496dbe926454d62a850b82da20b0842"
      }
     },
     "7d4838d098e147be8b8c39e232f11a3f": {
      "model_module": "@jupyter-widgets/controls",
      "model_module_version": "1.5.0",
      "model_name": "DescriptionStyleModel",
      "state": {
       "description_width": ""
      }
     },
     "7d5a36d580ee4edd8af6b2c2a32e132d": {
      "model_module": "@jupyter-widgets/controls",
      "model_module_version": "1.5.0",
      "model_name": "ButtonStyleModel",
      "state": {}
     },
     "7dc87ac9e1ec432ca7fd7c976d4cce5f": {
      "model_module": "@jupyter-widgets/base",
      "model_module_version": "1.2.0",
      "model_name": "LayoutModel",
      "state": {}
     },
     "7de5bf4247294a8baf4a97e761bd8d6f": {
      "model_module": "@jupyter-widgets/controls",
      "model_module_version": "1.5.0",
      "model_name": "ButtonModel",
      "state": {
       "description": "Recusive Descent",
       "layout": "IPY_MODEL_2e95592b3f3d48f6b29bf8a934d88827",
       "style": "IPY_MODEL_8291e3fbfa4c47f89cd34c624f923f6b"
      }
     },
     "7e3d9599e9554563b1fc1edc2e358726": {
      "model_module": "@jupyter-widgets/base",
      "model_module_version": "1.2.0",
      "model_name": "LayoutModel",
      "state": {
       "justify_content": "center"
      }
     },
     "7e778f87c9424dae8d63739e05898e15": {
      "model_module": "@jupyter-widgets/controls",
      "model_module_version": "1.5.0",
      "model_name": "ButtonModel",
      "state": {
       "description": "Scan",
       "layout": "IPY_MODEL_c68084a1d4094bc4ba7268cc46f5e74b",
       "style": "IPY_MODEL_b20f0be48663467b8dc9c340b3085c91"
      }
     },
     "7e80e3c578fa43a796bd4fb4b21c28d3": {
      "model_module": "@jupyter-widgets/controls",
      "model_module_version": "1.5.0",
      "model_name": "ButtonStyleModel",
      "state": {}
     },
     "7e91c0cd3ab643d0bb4b4b79664f9cdb": {
      "model_module": "@jupyter-widgets/base",
      "model_module_version": "1.2.0",
      "model_name": "LayoutModel",
      "state": {
       "width": "250px"
      }
     },
     "7ec6347752864981b6b8f0696e546115": {
      "model_module": "@jupyter-widgets/base",
      "model_module_version": "1.2.0",
      "model_name": "LayoutModel",
      "state": {
       "width": "250px"
      }
     },
     "7f183d0883ea4921b6011c8587bcf57e": {
      "model_module": "@jupyter-widgets/base",
      "model_module_version": "1.2.0",
      "model_name": "LayoutModel",
      "state": {
       "width": "250px"
      }
     },
     "7f20a88a77e647ccb1af24cc43970481": {
      "model_module": "@jupyter-widgets/controls",
      "model_module_version": "1.5.0",
      "model_name": "ButtonModel",
      "state": {
       "description": "Predict",
       "layout": "IPY_MODEL_fce371f6076d4083bb8d64899ebc743b",
       "style": "IPY_MODEL_0e64813f623248e8a9957c5c3b4cc200"
      }
     },
     "7f31a1b0be794abab4d71746283beaf5": {
      "model_module": "@jupyter-widgets/base",
      "model_module_version": "1.2.0",
      "model_name": "LayoutModel",
      "state": {
       "width": "250px"
      }
     },
     "7f38a9451497401e9ae8129758ab178a": {
      "model_module": "@jupyter-widgets/controls",
      "model_module_version": "1.5.0",
      "model_name": "ButtonStyleModel",
      "state": {}
     },
     "7f88c5b169854ba6bfa31b995b33a1bb": {
      "model_module": "@jupyter-widgets/base",
      "model_module_version": "1.2.0",
      "model_name": "LayoutModel",
      "state": {}
     },
     "7fb3ecdc11f1420c96d0d488317b02b7": {
      "model_module": "@jupyter-widgets/controls",
      "model_module_version": "1.5.0",
      "model_name": "ButtonModel",
      "state": {
       "description": "Reduce",
       "layout": "IPY_MODEL_a473801e02764335b0dc2d5a4b1118b3",
       "style": "IPY_MODEL_0b2b38b72acb4a89929803b303ef8865"
      }
     },
     "7fb6e4b3ead244e9a5f777251d93275b": {
      "model_module": "@jupyter-widgets/controls",
      "model_module_version": "1.5.0",
      "model_name": "HBoxModel",
      "state": {
       "children": [
        "IPY_MODEL_8e0c51a3fcaa4ae3bb64cd08b83edffc",
        "IPY_MODEL_be5e37abe1f04a90a5ce07164e907566"
       ],
       "layout": "IPY_MODEL_6b10026e188a42e4a5e8933ef4246f6a"
      }
     },
     "7fba09f3c1f540968b4e8c4e06c50be5": {
      "model_module": "@jupyter-widgets/controls",
      "model_module_version": "1.5.0",
      "model_name": "DescriptionStyleModel",
      "state": {
       "description_width": ""
      }
     },
     "7fdf292977d94530a8e8830a9e6128fa": {
      "model_module": "@jupyter-widgets/controls",
      "model_module_version": "1.5.0",
      "model_name": "ButtonModel",
      "state": {
       "description": "Keine der Alternativen",
       "layout": "IPY_MODEL_22fb944be1fe44bd92ee854354855847",
       "style": "IPY_MODEL_eaa6827fda5244959f560667c3dbb989"
      }
     },
     "7ff08f205a5b425285f7a1cb8a60e0f7": {
      "model_module": "@jupyter-widgets/base",
      "model_module_version": "1.2.0",
      "model_name": "LayoutModel",
      "state": {}
     },
     "80170f9b46f444e992f44dd68a238d6c": {
      "model_module": "@jupyter-widgets/controls",
      "model_module_version": "1.5.0",
      "model_name": "HTMLModel",
      "state": {
       "layout": "IPY_MODEL_66c48798856a4802b42730f80b31552f",
       "style": "IPY_MODEL_0b0ad83a34294ca9af8388a113dc5f10",
       "value": "<i>Wählen Sie die <ins>eine</ins> korrekte Antwort aus: </i>"
      }
     },
     "803061ef1f2b43679b322f5114baa53c": {
      "model_module": "@jupyter-widgets/base",
      "model_module_version": "1.2.0",
      "model_name": "LayoutModel",
      "state": {}
     },
     "8030eeebb9eb4dcf89c3ef076a34b138": {
      "model_module": "@jupyter-widgets/base",
      "model_module_version": "1.2.0",
      "model_name": "LayoutModel",
      "state": {
       "justify_content": "center"
      }
     },
     "80f3f8b1416d4f619f503f8884281be4": {
      "model_module": "@jupyter-widgets/controls",
      "model_module_version": "1.5.0",
      "model_name": "HBoxModel",
      "state": {
       "children": [
        "IPY_MODEL_c8b850bc39314efaa01ec4245bbda497"
       ],
       "layout": "IPY_MODEL_f905a89ef77f493284a67ff14f7a8834"
      }
     },
     "812515e51b3e4c2991d424b97e480e56": {
      "model_module": "@jupyter-widgets/base",
      "model_module_version": "1.2.0",
      "model_name": "LayoutModel",
      "state": {
       "width": "250px"
      }
     },
     "813bc0fb5398469b925321e11692effb": {
      "model_module": "@jupyter-widgets/controls",
      "model_module_version": "1.5.0",
      "model_name": "ButtonModel",
      "state": {
       "description": "Shift",
       "layout": "IPY_MODEL_0774b2579982445ca5f4579dc42567b2",
       "style": "IPY_MODEL_dd52bbda3eaa456ebceb73fa7481b9be"
      }
     },
     "816620aee0eb414fb88c84e7cdfa8986": {
      "model_module": "@jupyter-widgets/base",
      "model_module_version": "1.2.0",
      "model_name": "LayoutModel",
      "state": {
       "justify_content": "center"
      }
     },
     "817a839ff0744354b5cc751cf7ca90b2": {
      "model_module": "@jupyter-widgets/base",
      "model_module_version": "1.2.0",
      "model_name": "LayoutModel",
      "state": {}
     },
     "819500e9c89b4b5fb8746413b13d1729": {
      "model_module": "@jupyter-widgets/base",
      "model_module_version": "1.2.0",
      "model_name": "LayoutModel",
      "state": {}
     },
     "81a116b0e98f4e12ba3ed3910279b0b2": {
      "model_module": "@jupyter-widgets/controls",
      "model_module_version": "1.5.0",
      "model_name": "ButtonStyleModel",
      "state": {}
     },
     "81aaa8baf1c34e898d14a77b27e2403c": {
      "model_module": "@jupyter-widgets/base",
      "model_module_version": "1.2.0",
      "model_name": "LayoutModel",
      "state": {
       "justify_content": "center"
      }
     },
     "81ef7d436dad43bba49d679e8afe52b2": {
      "model_module": "@jupyter-widgets/base",
      "model_module_version": "1.2.0",
      "model_name": "LayoutModel",
      "state": {
       "width": "250px"
      }
     },
     "8201f05ee93042248a67dfa4c4d8546d": {
      "model_module": "@jupyter-widgets/controls",
      "model_module_version": "1.5.0",
      "model_name": "DescriptionStyleModel",
      "state": {
       "description_width": ""
      }
     },
     "82394efa2e014331a1a014a0f3bce4b6": {
      "model_module": "@jupyter-widgets/controls",
      "model_module_version": "1.5.0",
      "model_name": "VBoxModel",
      "state": {
       "children": [
        "IPY_MODEL_581f640461e345f99231a1a36c2897ef",
        "IPY_MODEL_befe8224af0d43feb353eac09437220c",
        "IPY_MODEL_33dd5fa0c0be403697d5c2a6dd2aaba7",
        "IPY_MODEL_256cddb767cb4731b514847d3af23aa1",
        "IPY_MODEL_5c5f3b1dfa04404f91b43e4b976161ce"
       ],
       "layout": "IPY_MODEL_3ba94419994b40449e00cd69e1ce7f46"
      }
     },
     "8259ea6fdc2c41308b58548444ebc409": {
      "model_module": "@jupyter-widgets/controls",
      "model_module_version": "1.5.0",
      "model_name": "ButtonStyleModel",
      "state": {}
     },
     "82839f93e7b34e599655451d4a91b20d": {
      "model_module": "@jupyter-widgets/controls",
      "model_module_version": "1.5.0",
      "model_name": "HTMLModel",
      "state": {
       "layout": "IPY_MODEL_2e4418e12851465a9b6dc178b7afadfc",
       "style": "IPY_MODEL_7d4838d098e147be8b8c39e232f11a3f",
       "value": "<h4 style=\"font-size:14px;\">Um welchen Parser handelt es sich?</h4>"
      }
     },
     "82855e26fa434ab99163c967050965ac": {
      "model_module": "@jupyter-widgets/base",
      "model_module_version": "1.2.0",
      "model_name": "LayoutModel",
      "state": {
       "width": "250px"
      }
     },
     "828a4431983b4eb9bed83d9f29516e39": {
      "model_module": "@jupyter-widgets/controls",
      "model_module_version": "1.5.0",
      "model_name": "VBoxModel",
      "state": {
       "children": [
        "IPY_MODEL_cb69dd015e384e74924243f410e3f88d",
        "IPY_MODEL_5d0acf52e3594f208eff971b9945a2c0",
        "IPY_MODEL_c6e9392a4ebd4c1da2b43bb2a1f3297f",
        "IPY_MODEL_5e87efd8a04a47e88a8c73f476f0edcc",
        "IPY_MODEL_a3d1606f6d834b96b62e26db184aa9c0"
       ],
       "layout": "IPY_MODEL_a211372217be45bb88ec4ff5be405b2f"
      }
     },
     "8291e3fbfa4c47f89cd34c624f923f6b": {
      "model_module": "@jupyter-widgets/controls",
      "model_module_version": "1.5.0",
      "model_name": "ButtonStyleModel",
      "state": {}
     },
     "82b820f9e8b24d01b75a0f2145b80b86": {
      "model_module": "@jupyter-widgets/base",
      "model_module_version": "1.2.0",
      "model_name": "LayoutModel",
      "state": {}
     },
     "82bc8b28d65b45a0baf930f2d132dac3": {
      "model_module": "@jupyter-widgets/controls",
      "model_module_version": "1.5.0",
      "model_name": "ButtonStyleModel",
      "state": {}
     },
     "82d42db99ef340dfb610c6bd72469386": {
      "model_module": "@jupyter-widgets/controls",
      "model_module_version": "1.5.0",
      "model_name": "DescriptionStyleModel",
      "state": {
       "description_width": ""
      }
     },
     "838d82240f5a4f2eb9ca9ebf4b01714f": {
      "model_module": "@jupyter-widgets/controls",
      "model_module_version": "1.5.0",
      "model_name": "CheckboxModel",
      "state": {
       "description": "Reduce",
       "disabled": false,
       "layout": "IPY_MODEL_4b57dfa9a3e44a95a962ba89332b6b94",
       "style": "IPY_MODEL_26c6d0e20dc0492eb31e93c7ee6687da",
       "value": false
      }
     },
     "839fd41f810d4803bd820e9427a4672d": {
      "model_module": "@jupyter-widgets/controls",
      "model_module_version": "1.5.0",
      "model_name": "HBoxModel",
      "state": {
       "children": [
        "IPY_MODEL_44b6a1f5f4a24e399baa0306ab8534d3"
       ],
       "layout": "IPY_MODEL_6765affcbe01492fa4f35b1baebeab6f"
      }
     },
     "83d1b313544e4430b00b1d3b67b37d8a": {
      "model_module": "@jupyter-widgets/base",
      "model_module_version": "1.2.0",
      "model_name": "LayoutModel",
      "state": {}
     },
     "83e62e73db1d4afa884cc11232e0f9b4": {
      "model_module": "@jupyter-widgets/base",
      "model_module_version": "1.2.0",
      "model_name": "LayoutModel",
      "state": {}
     },
     "845ee18d72574ebd9b4e64d107dfde9d": {
      "model_module": "@jupyter-widgets/controls",
      "model_module_version": "1.5.0",
      "model_name": "ButtonModel",
      "state": {
       "description": "Keine der Alternativen",
       "layout": "IPY_MODEL_4039a83539464ea480a7ba1bdb994656",
       "style": "IPY_MODEL_5cab0822f4a44dd0a3d50577db640a17"
      }
     },
     "8469c892db9e42ec952c8cf560d215b2": {
      "model_module": "@jupyter-widgets/controls",
      "model_module_version": "1.5.0",
      "model_name": "DescriptionStyleModel",
      "state": {
       "description_width": ""
      }
     },
     "84bf65e9559941ec98a399122f182984": {
      "model_module": "@jupyter-widgets/controls",
      "model_module_version": "1.5.0",
      "model_name": "ButtonStyleModel",
      "state": {}
     },
     "84fe090079d74964a929cdefbe06147b": {
      "model_module": "@jupyter-widgets/base",
      "model_module_version": "1.2.0",
      "model_name": "LayoutModel",
      "state": {}
     },
     "851734bdcf0e4ce8a15bacee00db18d5": {
      "model_module": "@jupyter-widgets/controls",
      "model_module_version": "1.5.0",
      "model_name": "HTMLModel",
      "state": {
       "layout": "IPY_MODEL_901c1569267440b1be1340271b528b04",
       "style": "IPY_MODEL_4687205598324164ba43aa42b6dec778",
       "value": "<h4 style=\"font-size:14px;\">Welche Operation folgt als nächstes?</h4>"
      }
     },
     "856b2cc13ce84d3583770e0c22996271": {
      "model_module": "@jupyter-widgets/controls",
      "model_module_version": "1.5.0",
      "model_name": "ButtonStyleModel",
      "state": {}
     },
     "85b2fab6119c473483dba2e8d9055f46": {
      "model_module": "@jupyter-widgets/controls",
      "model_module_version": "1.5.0",
      "model_name": "ButtonModel",
      "state": {
       "description": "Predict",
       "layout": "IPY_MODEL_d5db993642ef475288860ae9808e81e7",
       "style": "IPY_MODEL_e2ec0dd598574c589fc2f36e9fc259ca"
      }
     },
     "85c09085d8064ddbbe5b2202565ff323": {
      "model_module": "@jupyter-widgets/controls",
      "model_module_version": "1.5.0",
      "model_name": "ButtonStyleModel",
      "state": {}
     },
     "863505f5a65b4928b741e3f28a25e71d": {
      "model_module": "@jupyter-widgets/base",
      "model_module_version": "1.2.0",
      "model_name": "LayoutModel",
      "state": {
       "width": "250px"
      }
     },
     "863d53bbe8324164a2f777b4b68ed763": {
      "model_module": "@jupyter-widgets/controls",
      "model_module_version": "1.5.0",
      "model_name": "DescriptionStyleModel",
      "state": {
       "description_width": "initial"
      }
     },
     "865b11f4813b4e42bf193d38dfaa75cc": {
      "model_module": "@jupyter-widgets/controls",
      "model_module_version": "1.5.0",
      "model_name": "ButtonStyleModel",
      "state": {}
     },
     "86725dcc05dd4d2abc33b63b6b45d5b5": {
      "model_module": "@jupyter-widgets/base",
      "model_module_version": "1.2.0",
      "model_name": "LayoutModel",
      "state": {
       "width": "250px"
      }
     },
     "86a76937a89f42daa9ef10a952204e3c": {
      "model_module": "@jupyter-widgets/controls",
      "model_module_version": "1.5.0",
      "model_name": "DescriptionStyleModel",
      "state": {
       "description_width": ""
      }
     },
     "86ae9abae8f94376b4ef6aec473eb017": {
      "model_module": "@jupyter-widgets/controls",
      "model_module_version": "1.5.0",
      "model_name": "ButtonStyleModel",
      "state": {}
     },
     "86bd44ba6d034bbba7de9480b275ca24": {
      "model_module": "@jupyter-widgets/base",
      "model_module_version": "1.2.0",
      "model_name": "LayoutModel",
      "state": {}
     },
     "86c34ab391e044de9b632d51cb2b97a8": {
      "model_module": "@jupyter-widgets/controls",
      "model_module_version": "1.5.0",
      "model_name": "ButtonModel",
      "state": {
       "description": "Reduce",
       "layout": "IPY_MODEL_c796dcd1ed9342eea4e34fa44d9b1a39",
       "style": "IPY_MODEL_3480a18865bd4618b98393ea45dca2d1"
      }
     },
     "86d402c1259047f689551c41e344c845": {
      "model_module": "@jupyter-widgets/base",
      "model_module_version": "1.2.0",
      "model_name": "LayoutModel",
      "state": {}
     },
     "86f4c466f4e14d01bfa7acba1ea259e2": {
      "model_module": "@jupyter-widgets/base",
      "model_module_version": "1.2.0",
      "model_name": "LayoutModel",
      "state": {}
     },
     "8711070a2e43464295f6a2a825f36348": {
      "model_module": "@jupyter-widgets/base",
      "model_module_version": "1.2.0",
      "model_name": "LayoutModel",
      "state": {
       "justify_content": "center"
      }
     },
     "87530b3913b843f6a0dc7eea8a97a282": {
      "model_module": "@jupyter-widgets/base",
      "model_module_version": "1.2.0",
      "model_name": "LayoutModel",
      "state": {}
     },
     "875888d1f4a7477eb3afbb64e8439b2d": {
      "model_module": "@jupyter-widgets/base",
      "model_module_version": "1.2.0",
      "model_name": "LayoutModel",
      "state": {
       "justify_content": "center"
      }
     },
     "876e6f93b0994932a84dd87211f880c9": {
      "model_module": "@jupyter-widgets/controls",
      "model_module_version": "1.5.0",
      "model_name": "ButtonStyleModel",
      "state": {
       "button_color": "lightgreen"
      }
     },
     "8787d793fc8c4ed983c434558639336f": {
      "model_module": "@jupyter-widgets/controls",
      "model_module_version": "1.5.0",
      "model_name": "HBoxModel",
      "state": {
       "children": [
        "IPY_MODEL_e29d17153dc7472bac3d0b03426c46db"
       ],
       "layout": "IPY_MODEL_9d6f9a3c8ddb4ee696cd931119575895"
      }
     },
     "87a6bc0934904f8f899dced66655e63f": {
      "model_module": "@jupyter-widgets/base",
      "model_module_version": "1.2.0",
      "model_name": "LayoutModel",
      "state": {
       "width": "250px"
      }
     },
     "87b7ec5b1e724db5ad10874e0277948b": {
      "model_module": "@jupyter-widgets/base",
      "model_module_version": "1.2.0",
      "model_name": "LayoutModel",
      "state": {}
     },
     "87eb96e2199b4ad69c2106cb240a1f28": {
      "model_module": "@jupyter-widgets/base",
      "model_module_version": "1.2.0",
      "model_name": "LayoutModel",
      "state": {
       "width": "250px"
      }
     },
     "87f35b02753748398246d18d9c08abf5": {
      "model_module": "@jupyter-widgets/controls",
      "model_module_version": "1.5.0",
      "model_name": "ButtonModel",
      "state": {
       "description": "Shift",
       "layout": "IPY_MODEL_981b306011d5417db88918a9a3c2970f",
       "style": "IPY_MODEL_3c8b154ea64c4d6bbcbfd12c97905960"
      }
     },
     "88579cdf84d84c548f21a9d51a89a9d8": {
      "model_module": "@jupyter-widgets/controls",
      "model_module_version": "1.5.0",
      "model_name": "DescriptionStyleModel",
      "state": {
       "description_width": ""
      }
     },
     "885e117ba3a94295814c2b29fab3dcf3": {
      "model_module": "@jupyter-widgets/base",
      "model_module_version": "1.2.0",
      "model_name": "LayoutModel",
      "state": {}
     },
     "88849a79f31c493c95f7d842d98e6f0a": {
      "model_module": "@jupyter-widgets/controls",
      "model_module_version": "1.5.0",
      "model_name": "HBoxModel",
      "state": {
       "children": [
        "IPY_MODEL_e76ce42736844d4aa81552ec0e87e4fa",
        "IPY_MODEL_fd31a62e745e455fa2ce6ff799e99fa0"
       ],
       "layout": "IPY_MODEL_d2f5d56884b94d6a8b2d9197559f4d94"
      }
     },
     "88b21743d7d34af28c01fdbfec5ca395": {
      "model_module": "@jupyter-widgets/base",
      "model_module_version": "1.2.0",
      "model_name": "LayoutModel",
      "state": {
       "width": "250px"
      }
     },
     "88b596a06277477a8ecd669faf144cc8": {
      "model_module": "@jupyter-widgets/controls",
      "model_module_version": "1.5.0",
      "model_name": "ButtonStyleModel",
      "state": {
       "button_color": "lightgreen"
      }
     },
     "88be940b2d33469894b82dfa18b83670": {
      "model_module": "@jupyter-widgets/controls",
      "model_module_version": "1.5.0",
      "model_name": "HTMLModel",
      "state": {
       "layout": "IPY_MODEL_2ed27fd3d1104140a5ca9df12cde4303",
       "style": "IPY_MODEL_fb84a613aa904f0dbe8526618ecfa54d",
       "value": "<i>Wählen Sie die <ins>eine</ins> korrekte Antwort aus: </i>"
      }
     },
     "88bfe8136c99419e9d83d543f3b9a5a4": {
      "model_module": "@jupyter-widgets/controls",
      "model_module_version": "1.5.0",
      "model_name": "ButtonModel",
      "state": {
       "description": "Scan",
       "layout": "IPY_MODEL_4b674357a67640118b70335d0d29d17d",
       "style": "IPY_MODEL_b50db5bd68984e789d5c9a7cbe5d3fe9"
      }
     },
     "88f1e24cf08843ae8a57c53cf6d65787": {
      "model_module": "@jupyter-widgets/controls",
      "model_module_version": "1.5.0",
      "model_name": "HBoxModel",
      "state": {
       "children": [
        "IPY_MODEL_3230e64a4b3643dfbf97280271d0f3bf",
        "IPY_MODEL_c6e551f78a8746a38a94e89fdc81b397"
       ],
       "layout": "IPY_MODEL_afefc134bc054505ab196b5da2095010"
      }
     },
     "89676477e3794e6b8a6df20d24b00b1b": {
      "model_module": "@jupyter-widgets/base",
      "model_module_version": "1.2.0",
      "model_name": "LayoutModel",
      "state": {
       "width": "250px"
      }
     },
     "899499512eff4a06a00887fb7455bb2b": {
      "model_module": "@jupyter-widgets/controls",
      "model_module_version": "1.5.0",
      "model_name": "VBoxModel",
      "state": {
       "children": [
        "IPY_MODEL_321cb8028bbd4303a3aa0f9eb3519655",
        "IPY_MODEL_a0debafd7ebf4869bd7e6f768bf8be51",
        "IPY_MODEL_c123cc41f52541d6ba3bf002aaea91e2",
        "IPY_MODEL_7a328ce6c67d4a649746e828cfefcb42",
        "IPY_MODEL_051c6f50e1e343c3a9537c752fd31b50"
       ],
       "layout": "IPY_MODEL_86f4c466f4e14d01bfa7acba1ea259e2"
      }
     },
     "899d06bf7f464b17a270894128b52e02": {
      "model_module": "@jupyter-widgets/base",
      "model_module_version": "1.2.0",
      "model_name": "LayoutModel",
      "state": {}
     },
     "89dd359788ed4682a5268a5db0fa507a": {
      "model_module": "@jupyter-widgets/controls",
      "model_module_version": "1.5.0",
      "model_name": "ButtonStyleModel",
      "state": {}
     },
     "89e934ca73fe42228f30890b40c5db45": {
      "model_module": "@jupyter-widgets/base",
      "model_module_version": "1.2.0",
      "model_name": "LayoutModel",
      "state": {
       "justify_content": "center"
      }
     },
     "89fad49ac967480ba03587fb1dfd320a": {
      "model_module": "@jupyter-widgets/controls",
      "model_module_version": "1.5.0",
      "model_name": "ButtonStyleModel",
      "state": {}
     },
     "89fbd791ec4345e49ef2f619347798b0": {
      "model_module": "@jupyter-widgets/controls",
      "model_module_version": "1.5.0",
      "model_name": "ButtonModel",
      "state": {
       "description": "Scan",
       "layout": "IPY_MODEL_15e0b6ca2faf4ae5825c48fc43649167",
       "style": "IPY_MODEL_2ba937294a0440249323cfb94f4dc9f7"
      }
     },
     "8a22267166b7487f9a0b996e7798644b": {
      "model_module": "@jupyter-widgets/base",
      "model_module_version": "1.2.0",
      "model_name": "LayoutModel",
      "state": {}
     },
     "8a2a95185d974720b31a520b23b35ed8": {
      "model_module": "@jupyter-widgets/controls",
      "model_module_version": "1.5.0",
      "model_name": "ButtonModel",
      "state": {
       "description": "Scan",
       "layout": "IPY_MODEL_6e6c6507456d43cf8a224778bfabcc19",
       "style": "IPY_MODEL_3fe9dd1af31d4efaa46c687fd096981b"
      }
     },
     "8a8a95b2701b4eed90a095d4036e6491": {
      "model_module": "@jupyter-widgets/base",
      "model_module_version": "1.2.0",
      "model_name": "LayoutModel",
      "state": {
       "width": "250px"
      }
     },
     "8aba2addc7714a09a48b0be494a8bda4": {
      "model_module": "@jupyter-widgets/base",
      "model_module_version": "1.2.0",
      "model_name": "LayoutModel",
      "state": {
       "width": "250px"
      }
     },
     "8af8916ecf694ae3bd74bff25dfcdb50": {
      "model_module": "@jupyter-widgets/controls",
      "model_module_version": "1.5.0",
      "model_name": "VBoxModel",
      "state": {
       "children": [
        "IPY_MODEL_6d998b3b0b0d4fc8ab75567021aecd99",
        "IPY_MODEL_4d733c18dac049a5bbb33d1287a88bf5",
        "IPY_MODEL_534f145c1ebe4d35a748cfb4ae0d757f",
        "IPY_MODEL_008ddd12b702459aacf0d122b0a60ce6"
       ],
       "layout": "IPY_MODEL_53e70a8f26274b11be25f06ad2ee8172"
      }
     },
     "8b06083ec1cf484eb981c8a0abcfd704": {
      "model_module": "@jupyter-widgets/controls",
      "model_module_version": "1.5.0",
      "model_name": "VBoxModel",
      "state": {
       "children": [
        "IPY_MODEL_b1e908a400ed4137ae5b5d6e83e904ca",
        "IPY_MODEL_9e4deca74062483085e30079fe2ffc8f",
        "IPY_MODEL_8c05cc8467fd4859a16674d3eaf5d059",
        "IPY_MODEL_8e1b399b54444cbb832f6b82152b537c"
       ],
       "layout": "IPY_MODEL_996f4a7b0ec04d68a26c248a1d1efff5"
      }
     },
     "8b09f1b3b1994d2685e76865b520fd68": {
      "model_module": "@jupyter-widgets/controls",
      "model_module_version": "1.5.0",
      "model_name": "DescriptionStyleModel",
      "state": {
       "description_width": ""
      }
     },
     "8b16ff79a657446f9703599469c089ad": {
      "model_module": "@jupyter-widgets/base",
      "model_module_version": "1.2.0",
      "model_name": "LayoutModel",
      "state": {
       "justify_content": "center"
      }
     },
     "8b18eeb88291476db9905ea15a602345": {
      "model_module": "@jupyter-widgets/controls",
      "model_module_version": "1.5.0",
      "model_name": "ButtonModel",
      "state": {
       "description": "Complete",
       "layout": "IPY_MODEL_e35304f6429f4b098d329ba29f1cfc34",
       "style": "IPY_MODEL_13c72031d22d4140984c2bdf08491f77"
      }
     },
     "8b2ecd387cc84da09b03be1192f70750": {
      "model_module": "@jupyter-widgets/controls",
      "model_module_version": "1.5.0",
      "model_name": "ButtonStyleModel",
      "state": {
       "button_color": "lightgreen"
      }
     },
     "8b3a25e8bfb34927a3a31f0b82638472": {
      "model_module": "@jupyter-widgets/controls",
      "model_module_version": "1.5.0",
      "model_name": "ButtonModel",
      "state": {
       "description": "Earley",
       "layout": "IPY_MODEL_72bc274ad6924a318cfc91e9f2432ec5",
       "style": "IPY_MODEL_2cafe601260e4353b4f63060eacfe0b5"
      }
     },
     "8b7a09f14ac54a0c89b44197e4530962": {
      "model_module": "@jupyter-widgets/controls",
      "model_module_version": "1.5.0",
      "model_name": "HBoxModel",
      "state": {
       "children": [
        "IPY_MODEL_697841fb561e42fca5dc00dcd1d1e57b",
        "IPY_MODEL_4fae7a508b5d445d90f493b308b978ac"
       ],
       "layout": "IPY_MODEL_b1957af6964f4d79b3d102f66d7972c5"
      }
     },
     "8b806790722745559cb1f27cf387e6df": {
      "model_module": "@jupyter-widgets/controls",
      "model_module_version": "1.5.0",
      "model_name": "VBoxModel",
      "state": {
       "children": [
        "IPY_MODEL_8f5b82f69d3346c6aaf8fd6730ecc4b1",
        "IPY_MODEL_bb8c57942c9447689a58838785993caa",
        "IPY_MODEL_7891f7fff9f145d1b08c37fd3a5d3454",
        "IPY_MODEL_ac822b7028ce47c7bb43d35b4116a729",
        "IPY_MODEL_fa9b5edc928540fcb6f624e59ef20a00"
       ],
       "layout": "IPY_MODEL_534e37e3708e48d68cdafc8a116c81a8"
      }
     },
     "8b8c87e2e92b4a9383ec3320a1a79283": {
      "model_module": "@jupyter-widgets/base",
      "model_module_version": "1.2.0",
      "model_name": "LayoutModel",
      "state": {
       "width": "250px"
      }
     },
     "8bcb5778462747dda75203ff89e13821": {
      "model_module": "@jupyter-widgets/base",
      "model_module_version": "1.2.0",
      "model_name": "LayoutModel",
      "state": {}
     },
     "8c03ade32ae6438b8bd11f489f14b3bf": {
      "model_module": "@jupyter-widgets/base",
      "model_module_version": "1.2.0",
      "model_name": "LayoutModel",
      "state": {
       "width": "250px"
      }
     },
     "8c05cc8467fd4859a16674d3eaf5d059": {
      "model_module": "@jupyter-widgets/controls",
      "model_module_version": "1.5.0",
      "model_name": "HBoxModel",
      "state": {
       "children": [
        "IPY_MODEL_7738a9839a1e455ab2893ef944bd8365",
        "IPY_MODEL_f618bc682d9e4892bd06bcf2ba4f593d"
       ],
       "layout": "IPY_MODEL_04a8957bc8cb4ffea981ac5be2406b2b"
      }
     },
     "8c0982609f384e7eb91c2d3aa8e81e25": {
      "model_module": "@jupyter-widgets/controls",
      "model_module_version": "1.5.0",
      "model_name": "HTMLModel",
      "state": {
       "layout": "IPY_MODEL_1624804ebd3a43639555e8fca807f559",
       "style": "IPY_MODEL_3a8f864e55224a61978bc96fbcac9867",
       "value": "<h4 style=\"font-size:14px;\">Welche Operation folgt als nächstes?</h4>"
      }
     },
     "8c22da5179dc4f4a912bdb215c9ad42f": {
      "model_module": "@jupyter-widgets/base",
      "model_module_version": "1.2.0",
      "model_name": "LayoutModel",
      "state": {
       "width": "250px"
      }
     },
     "8c2677467f5f435e8b776a11c3580a43": {
      "model_module": "@jupyter-widgets/controls",
      "model_module_version": "1.5.0",
      "model_name": "ButtonStyleModel",
      "state": {}
     },
     "8cb6b73159e8496f84de920102bef39d": {
      "model_module": "@jupyter-widgets/base",
      "model_module_version": "1.2.0",
      "model_name": "LayoutModel",
      "state": {}
     },
     "8d0c49962552452fbc9d539eb2404723": {
      "model_module": "@jupyter-widgets/base",
      "model_module_version": "1.2.0",
      "model_name": "LayoutModel",
      "state": {
       "width": "250px"
      }
     },
     "8d57692f367e484ba264c70eba32661a": {
      "model_module": "@jupyter-widgets/controls",
      "model_module_version": "1.5.0",
      "model_name": "ButtonModel",
      "state": {
       "description": "Reduce",
       "layout": "IPY_MODEL_d55647aebffa4cccbe85c3df4ff90dd3",
       "style": "IPY_MODEL_033562dd4e3f4def89a61306cd44f01a"
      }
     },
     "8d6ef9274ac34b68805577ef76c23bd0": {
      "model_module": "@jupyter-widgets/base",
      "model_module_version": "1.2.0",
      "model_name": "LayoutModel",
      "state": {}
     },
     "8d98539b14a74e0cb578c35451308514": {
      "model_module": "@jupyter-widgets/base",
      "model_module_version": "1.2.0",
      "model_name": "LayoutModel",
      "state": {
       "width": "600px"
      }
     },
     "8da630bdb00348638623c73aca19a5b0": {
      "model_module": "@jupyter-widgets/base",
      "model_module_version": "1.2.0",
      "model_name": "LayoutModel",
      "state": {
       "justify_content": "center"
      }
     },
     "8dd0ecf06d6f4f48b2fe3a50fc1585cc": {
      "model_module": "@jupyter-widgets/controls",
      "model_module_version": "1.5.0",
      "model_name": "ButtonModel",
      "state": {
       "description": "Predict",
       "layout": "IPY_MODEL_ef70dbeb922f47eba9928d789fcecf5e",
       "style": "IPY_MODEL_570f930da5ec49fda180be5fad1c537c"
      }
     },
     "8dd1de5fc2114abc94683327d4b3234d": {
      "model_module": "@jupyter-widgets/base",
      "model_module_version": "1.2.0",
      "model_name": "LayoutModel",
      "state": {
       "justify_content": "center"
      }
     },
     "8e0c51a3fcaa4ae3bb64cd08b83edffc": {
      "model_module": "@jupyter-widgets/controls",
      "model_module_version": "1.5.0",
      "model_name": "ButtonModel",
      "state": {
       "description": "Predict",
       "layout": "IPY_MODEL_56beeb2d82a74fb2846d7dc51503350b",
       "style": "IPY_MODEL_f09a593fad5b4fcab7598eaf0f346e41"
      }
     },
     "8e1b399b54444cbb832f6b82152b537c": {
      "model_module": "@jupyter-widgets/controls",
      "model_module_version": "1.5.0",
      "model_name": "HBoxModel",
      "state": {
       "children": [
        "IPY_MODEL_b679fc3920114bceb42d348a673f755a"
       ],
       "layout": "IPY_MODEL_454cb2deb11f48d18f73363ac9e9de20"
      }
     },
     "8e3b84d045124639a86bdc0589a383ba": {
      "model_module": "@jupyter-widgets/controls",
      "model_module_version": "1.5.0",
      "model_name": "VBoxModel",
      "state": {
       "children": [
        "IPY_MODEL_851734bdcf0e4ce8a15bacee00db18d5",
        "IPY_MODEL_1d1f5d3b393646d18c1579471d331610",
        "IPY_MODEL_fcb3f47dbb53405bb3b483a98079d02c",
        "IPY_MODEL_667683a610c34492b7eb88e7d632c935",
        "IPY_MODEL_5107759598094c1f9098d0ce7112204d"
       ],
       "layout": "IPY_MODEL_cd33822c22d14fdaa714e6e87e677d29"
      }
     },
     "8e50f6b3f6c14031bcae2efa18e3a0c9": {
      "model_module": "@jupyter-widgets/base",
      "model_module_version": "1.2.0",
      "model_name": "LayoutModel",
      "state": {}
     },
     "8e5e7ff0e1e5417f8f820fa1603b9611": {
      "model_module": "@jupyter-widgets/base",
      "model_module_version": "1.2.0",
      "model_name": "LayoutModel",
      "state": {
       "width": "250px"
      }
     },
     "8e78a817b39b450280b06374ae2226ac": {
      "model_module": "@jupyter-widgets/base",
      "model_module_version": "1.2.0",
      "model_name": "LayoutModel",
      "state": {
       "width": "250px"
      }
     },
     "8e78e5c2aa114311b39d07b24b3cb727": {
      "model_module": "@jupyter-widgets/controls",
      "model_module_version": "1.5.0",
      "model_name": "ButtonModel",
      "state": {
       "description": "Predict",
       "layout": "IPY_MODEL_587eaf7ba7344baa9b20c8640dc66709",
       "style": "IPY_MODEL_600f8e087e924542a65fa246335e5641"
      }
     },
     "8ea55c7f2f5641f4ac3b06e4b28f8515": {
      "model_module": "@jupyter-widgets/controls",
      "model_module_version": "1.5.0",
      "model_name": "HTMLModel",
      "state": {
       "layout": "IPY_MODEL_cc8aa1b79b304558b09a9499c1813605",
       "style": "IPY_MODEL_88579cdf84d84c548f21a9d51a89a9d8",
       "value": "<i>Markieren Sie <ins>alle</ins> passenden Antworten: </i>"
      }
     },
     "8eadfa8f0fe24e4e912adb04bbd475cc": {
      "model_module": "@jupyter-widgets/base",
      "model_module_version": "1.2.0",
      "model_name": "LayoutModel",
      "state": {
       "width": "250px"
      }
     },
     "8f04d130a6bc402e9af2c5feb207c2d4": {
      "model_module": "@jupyter-widgets/base",
      "model_module_version": "1.2.0",
      "model_name": "LayoutModel",
      "state": {}
     },
     "8f5b82f69d3346c6aaf8fd6730ecc4b1": {
      "model_module": "@jupyter-widgets/controls",
      "model_module_version": "1.5.0",
      "model_name": "HTMLModel",
      "state": {
       "layout": "IPY_MODEL_1786a36370d24e708c18e0ed287bc6e4",
       "style": "IPY_MODEL_d3360e13baf5468893540d8bacf53bba",
       "value": "<h4 style=\"font-size:14px;\">Welche Operation folgt als nächstes?</h4>"
      }
     },
     "8f6474a4db9e4944bb5756adc9663dd6": {
      "model_module": "@jupyter-widgets/controls",
      "model_module_version": "1.5.0",
      "model_name": "ButtonModel",
      "state": {
       "description": "Complete",
       "layout": "IPY_MODEL_1bf662a8effc47a29c16b5f4efbaea31",
       "style": "IPY_MODEL_2f46a299effb4893ac74d0120ed2db69"
      }
     },
     "8f8b78fc4e994d89ac364c5d8017b880": {
      "model_module": "@jupyter-widgets/controls",
      "model_module_version": "1.5.0",
      "model_name": "ButtonStyleModel",
      "state": {}
     },
     "8f8e069587d742e0b556c3d94d809a09": {
      "model_module": "@jupyter-widgets/controls",
      "model_module_version": "1.5.0",
      "model_name": "HBoxModel",
      "state": {
       "children": [
        "IPY_MODEL_3ee558ab04514bf58dac0d9d868f5448"
       ],
       "layout": "IPY_MODEL_8e50f6b3f6c14031bcae2efa18e3a0c9"
      }
     },
     "8ffd29defc894274bf1e119b593f9c62": {
      "model_module": "@jupyter-widgets/controls",
      "model_module_version": "1.5.0",
      "model_name": "HTMLModel",
      "state": {
       "layout": "IPY_MODEL_433d63d3de0840e4b7e44b2a90cf7381",
       "style": "IPY_MODEL_6b0dad230414425a8de936410db442ed",
       "value": "<h4 style=\"font-size:14px;\">Welche Operationen hat der Earley Parser?</h4>"
      }
     },
     "901c1569267440b1be1340271b528b04": {
      "model_module": "@jupyter-widgets/base",
      "model_module_version": "1.2.0",
      "model_name": "LayoutModel",
      "state": {
       "justify_content": "center"
      }
     },
     "906a9bab64d94365b218a70247ae9f10": {
      "model_module": "@jupyter-widgets/base",
      "model_module_version": "1.2.0",
      "model_name": "LayoutModel",
      "state": {
       "width": "250px"
      }
     },
     "90746c09d9d741068366ad8557ce92b4": {
      "model_module": "@jupyter-widgets/base",
      "model_module_version": "1.2.0",
      "model_name": "LayoutModel",
      "state": {}
     },
     "9092676687084966b7608b5da99da06f": {
      "model_module": "@jupyter-widgets/base",
      "model_module_version": "1.2.0",
      "model_name": "LayoutModel",
      "state": {
       "width": "250px"
      }
     },
     "90cc47f15ae5403595cd7bdfdf8f9027": {
      "model_module": "@jupyter-widgets/base",
      "model_module_version": "1.2.0",
      "model_name": "LayoutModel",
      "state": {
       "width": "250px"
      }
     },
     "90cfb3f96591416791bb638223055538": {
      "model_module": "@jupyter-widgets/base",
      "model_module_version": "1.2.0",
      "model_name": "LayoutModel",
      "state": {
       "justify_content": "center"
      }
     },
     "90e51e37f86a4c1fba15829f51a2355f": {
      "model_module": "@jupyter-widgets/controls",
      "model_module_version": "1.5.0",
      "model_name": "ButtonModel",
      "state": {
       "description": "Scan",
       "layout": "IPY_MODEL_a2d4e93360364e05805f71414959a422",
       "style": "IPY_MODEL_8259ea6fdc2c41308b58548444ebc409"
      }
     },
     "90ea4a0a0f134f4ca96bcb02ba33c44d": {
      "model_module": "@jupyter-widgets/controls",
      "model_module_version": "1.5.0",
      "model_name": "ButtonModel",
      "state": {
       "description": "Reduce",
       "layout": "IPY_MODEL_3696bf0fec4447059acf2c6c500574e1",
       "style": "IPY_MODEL_876e6f93b0994932a84dd87211f880c9"
      }
     },
     "9114ea31397348778728036736161988": {
      "model_module": "@jupyter-widgets/controls",
      "model_module_version": "1.5.0",
      "model_name": "ButtonModel",
      "state": {
       "description": "Reduce",
       "layout": "IPY_MODEL_812515e51b3e4c2991d424b97e480e56",
       "style": "IPY_MODEL_fb1b34684ac4413ebf029102c9bb9364"
      }
     },
     "9119f1ebd8754598a2badc5a58421057": {
      "model_module": "@jupyter-widgets/base",
      "model_module_version": "1.2.0",
      "model_name": "LayoutModel",
      "state": {}
     },
     "914259737cd4407293b8b05397fc5e89": {
      "model_module": "@jupyter-widgets/controls",
      "model_module_version": "1.5.0",
      "model_name": "CheckboxModel",
      "state": {
       "description": "Complete",
       "disabled": false,
       "layout": "IPY_MODEL_e905e4c5f101401ca51c3a6260a37dc3",
       "style": "IPY_MODEL_44000f194c0c4b3b9f62da322789dc32",
       "value": false
      }
     },
     "9153fae2ce0f47c59d884b76fcd78417": {
      "model_module": "@jupyter-widgets/base",
      "model_module_version": "1.2.0",
      "model_name": "LayoutModel",
      "state": {
       "width": "250px"
      }
     },
     "915a183f21b64b87ae58fc060c44b7e0": {
      "model_module": "@jupyter-widgets/base",
      "model_module_version": "1.2.0",
      "model_name": "LayoutModel",
      "state": {
       "justify_content": "center"
      }
     },
     "9182966c9ea4465abd11dc58f8019472": {
      "model_module": "@jupyter-widgets/controls",
      "model_module_version": "1.5.0",
      "model_name": "ButtonModel",
      "state": {
       "description": "Reduce",
       "layout": "IPY_MODEL_616868f4024f4d7bb3a312f5e44b5b84",
       "style": "IPY_MODEL_946280dc270645b1ab248afdcbb2b951"
      }
     },
     "9192d1b4f19c4276a900dfccdde07f45": {
      "model_module": "@jupyter-widgets/controls",
      "model_module_version": "1.5.0",
      "model_name": "ButtonModel",
      "state": {
       "description": "Shift Reduce",
       "layout": "IPY_MODEL_261680a574194d91a96b2c52ca19be70",
       "style": "IPY_MODEL_5af7a2ef447b48db9aaa790dab3682f2"
      }
     },
     "91bf9538680c43499986ac90812d3fe8": {
      "model_module": "@jupyter-widgets/controls",
      "model_module_version": "1.5.0",
      "model_name": "ButtonModel",
      "state": {
       "description": "Scan",
       "layout": "IPY_MODEL_8c22da5179dc4f4a912bdb215c9ad42f",
       "style": "IPY_MODEL_0a690e4783794f08a66ed7ad7be82b49"
      }
     },
     "91ee9423029f4742b5b834c842c219c9": {
      "model_module": "@jupyter-widgets/controls",
      "model_module_version": "1.5.0",
      "model_name": "ButtonStyleModel",
      "state": {}
     },
     "91ff30d6799949c58078e94a244f9d6a": {
      "model_module": "@jupyter-widgets/controls",
      "model_module_version": "1.5.0",
      "model_name": "VBoxModel",
      "state": {
       "children": [
        "IPY_MODEL_09d32ffdd1ab4f7da5c630de1deec26f",
        "IPY_MODEL_456edda4dfbb4818b1ac04eee426f991",
        "IPY_MODEL_38e090c22b37438cba2e1fd7f6b40e03",
        "IPY_MODEL_9c7a1662e74a424aa8fb588d123ab4e3",
        "IPY_MODEL_a8f394a0b99f4c10a057c8d5393f42c8"
       ],
       "layout": "IPY_MODEL_d1b9f13e8e1740a3ba6ee30f13a3fe10"
      }
     },
     "9216030b5e5e47daa39aae2f184b4165": {
      "model_module": "@jupyter-widgets/controls",
      "model_module_version": "1.5.0",
      "model_name": "ButtonStyleModel",
      "state": {}
     },
     "9223136b70cd432fa506a6b31203378a": {
      "model_module": "@jupyter-widgets/controls",
      "model_module_version": "1.5.0",
      "model_name": "HTMLModel",
      "state": {
       "layout": "IPY_MODEL_816620aee0eb414fb88c84e7cdfa8986",
       "style": "IPY_MODEL_e4b8fdca0f474ee2a0550b99541c076d",
       "value": "<h4 style=\"font-size:14px;\">Welche Operation folgt als nächstes?</h4>"
      }
     },
     "925de880b3014ecb880deb428cd1d8c2": {
      "model_module": "@jupyter-widgets/controls",
      "model_module_version": "1.5.0",
      "model_name": "HBoxModel",
      "state": {
       "children": [
        "IPY_MODEL_ceddf927a0e94132a412e9322f1e467b"
       ],
       "layout": "IPY_MODEL_5f56496cb1ef45c59b707bb5d6e73b82"
      }
     },
     "9277f96c85f64df7af75e7596d96dd32": {
      "model_module": "@jupyter-widgets/base",
      "model_module_version": "1.2.0",
      "model_name": "LayoutModel",
      "state": {
       "width": "600px"
      }
     },
     "928a60f7004b4b8a8c6131f16c5fa367": {
      "model_module": "@jupyter-widgets/controls",
      "model_module_version": "1.5.0",
      "model_name": "ButtonStyleModel",
      "state": {}
     },
     "92ca2d3d9cb44d5c91a1e74dc839de7c": {
      "model_module": "@jupyter-widgets/controls",
      "model_module_version": "1.5.0",
      "model_name": "DescriptionStyleModel",
      "state": {
       "description_width": ""
      }
     },
     "92d2760ec6ed469dbc0d3b4c81f94cd9": {
      "model_module": "@jupyter-widgets/base",
      "model_module_version": "1.2.0",
      "model_name": "LayoutModel",
      "state": {
       "justify_content": "center"
      }
     },
     "931770f357824546b6e0bb058fa04e92": {
      "model_module": "@jupyter-widgets/controls",
      "model_module_version": "1.5.0",
      "model_name": "ButtonStyleModel",
      "state": {}
     },
     "9318936ada3e42da9751db9e9f9ed084": {
      "model_module": "@jupyter-widgets/controls",
      "model_module_version": "1.5.0",
      "model_name": "ButtonStyleModel",
      "state": {}
     },
     "935f60ab27254480a7fc4a6cf35d3fe5": {
      "model_module": "@jupyter-widgets/controls",
      "model_module_version": "1.5.0",
      "model_name": "HBoxModel",
      "state": {
       "children": [
        "IPY_MODEL_41368c3281d64aadb47a9a8b981088fe"
       ],
       "layout": "IPY_MODEL_87530b3913b843f6a0dc7eea8a97a282"
      }
     },
     "9393502559fc499783228a92c9e9db37": {
      "model_module": "@jupyter-widgets/controls",
      "model_module_version": "1.5.0",
      "model_name": "HTMLModel",
      "state": {
       "layout": "IPY_MODEL_088e3649dfdd4a9092470243dbb38d37",
       "style": "IPY_MODEL_6cf9df629e654a54ac8f98cf8552c104",
       "value": "<i>Markieren Sie <ins>alle</ins> passenden Antworten: </i>"
      }
     },
     "93ac76dd17514d6dae718d9e753761b3": {
      "model_module": "@jupyter-widgets/controls",
      "model_module_version": "1.5.0",
      "model_name": "HTMLModel",
      "state": {
       "layout": "IPY_MODEL_b5419d19c01d4ba0a988dd1ef4904f22",
       "style": "IPY_MODEL_ddeacd83554a4e4aa2a70bf266a8f6b7",
       "value": "<i>Wählen Sie die <ins>eine</ins> korrekte Antwort aus: </i>"
      }
     },
     "93df47fc2cd7415b9d842388ed1adbe4": {
      "model_module": "@jupyter-widgets/controls",
      "model_module_version": "1.5.0",
      "model_name": "HTMLModel",
      "state": {
       "layout": "IPY_MODEL_0d93c09a14b04a7cbd988a3d0461f46a",
       "style": "IPY_MODEL_5b8a4bfc19aa49db80924464ee029883",
       "value": "<h4 style=\"font-size:14px;\">Welche Operation folgt als nächstes?</h4>"
      }
     },
     "9416224e24964fa5ae7c25ab8bfc6859": {
      "model_module": "@jupyter-widgets/controls",
      "model_module_version": "1.5.0",
      "model_name": "DescriptionStyleModel",
      "state": {
       "description_width": ""
      }
     },
     "942ed8c14bf249a48d6e66e0fef485d7": {
      "model_module": "@jupyter-widgets/base",
      "model_module_version": "1.2.0",
      "model_name": "LayoutModel",
      "state": {
       "width": "600px"
      }
     },
     "9439ccabc63c4977ba1b6405915f60e7": {
      "model_module": "@jupyter-widgets/base",
      "model_module_version": "1.2.0",
      "model_name": "LayoutModel",
      "state": {
       "width": "250px"
      }
     },
     "94405a0d97464f5690bb1f6c0fc909b5": {
      "model_module": "@jupyter-widgets/base",
      "model_module_version": "1.2.0",
      "model_name": "LayoutModel",
      "state": {
       "width": "250px"
      }
     },
     "9461997108974fd882ebbf7bdef8b189": {
      "model_module": "@jupyter-widgets/controls",
      "model_module_version": "1.5.0",
      "model_name": "ButtonModel",
      "state": {
       "description": "Scan",
       "layout": "IPY_MODEL_e1a55c270b8c419cab25558c1498e8fb",
       "style": "IPY_MODEL_32d13bf952b84757984be6c45749d418"
      }
     },
     "946280dc270645b1ab248afdcbb2b951": {
      "model_module": "@jupyter-widgets/controls",
      "model_module_version": "1.5.0",
      "model_name": "ButtonStyleModel",
      "state": {}
     },
     "948c880a5a2649908b727f5ff5893ea7": {
      "model_module": "@jupyter-widgets/controls",
      "model_module_version": "1.5.0",
      "model_name": "ButtonStyleModel",
      "state": {}
     },
     "949ee2f04ac5402c8bb4706b534be586": {
      "model_module": "@jupyter-widgets/controls",
      "model_module_version": "1.5.0",
      "model_name": "DescriptionStyleModel",
      "state": {
       "description_width": ""
      }
     },
     "94abebe4f44f45bdb9d1ceb9b5038b59": {
      "model_module": "@jupyter-widgets/base",
      "model_module_version": "1.2.0",
      "model_name": "LayoutModel",
      "state": {
       "width": "250px"
      }
     },
     "94ce1dfbf0aa4f9081b8e5b81c1033e4": {
      "model_module": "@jupyter-widgets/controls",
      "model_module_version": "1.5.0",
      "model_name": "ButtonModel",
      "state": {
       "description": "Earley",
       "layout": "IPY_MODEL_e92a24cabe6147939096e9bbb3a807b5",
       "style": "IPY_MODEL_69c895e95d4843e588898c9d6b053c07"
      }
     },
     "94e5ae4ce6f04e2ebc5b96c939d4f280": {
      "model_module": "@jupyter-widgets/base",
      "model_module_version": "1.2.0",
      "model_name": "LayoutModel",
      "state": {
       "width": "250px"
      }
     },
     "94e6695faa994484ac07861de7373343": {
      "model_module": "@jupyter-widgets/base",
      "model_module_version": "1.2.0",
      "model_name": "LayoutModel",
      "state": {
       "width": "250px"
      }
     },
     "953464c37e4a4e5aaa5d3a3b93aed791": {
      "model_module": "@jupyter-widgets/base",
      "model_module_version": "1.2.0",
      "model_name": "LayoutModel",
      "state": {
       "width": "250px"
      }
     },
     "9567c6e036c8484e84a06d757edf3c0e": {
      "model_module": "@jupyter-widgets/controls",
      "model_module_version": "1.5.0",
      "model_name": "DescriptionStyleModel",
      "state": {
       "description_width": "initial"
      }
     },
     "95b23b8e8dd645faa6a20dba3db75919": {
      "model_module": "@jupyter-widgets/controls",
      "model_module_version": "1.5.0",
      "model_name": "ButtonStyleModel",
      "state": {}
     },
     "95d23b3257f9489e8a6c2352ad89a468": {
      "model_module": "@jupyter-widgets/base",
      "model_module_version": "1.2.0",
      "model_name": "LayoutModel",
      "state": {
       "justify_content": "center"
      }
     },
     "95ffcf30aba7417dad87cf9c0638cce3": {
      "model_module": "@jupyter-widgets/base",
      "model_module_version": "1.2.0",
      "model_name": "LayoutModel",
      "state": {
       "width": "250px"
      }
     },
     "961385c6cb3d4d65b7783b0f870eef4e": {
      "model_module": "@jupyter-widgets/base",
      "model_module_version": "1.2.0",
      "model_name": "LayoutModel",
      "state": {
       "width": "250px"
      }
     },
     "9624bf63d5234decaffba7a09167e816": {
      "model_module": "@jupyter-widgets/base",
      "model_module_version": "1.2.0",
      "model_name": "LayoutModel",
      "state": {}
     },
     "964b2dbf013a47e58aed1c92b1a88b05": {
      "model_module": "@jupyter-widgets/controls",
      "model_module_version": "1.5.0",
      "model_name": "ButtonModel",
      "state": {
       "description": "Scan",
       "layout": "IPY_MODEL_8aba2addc7714a09a48b0be494a8bda4",
       "style": "IPY_MODEL_df9d25eb33f14527b97a2976ec8e566e"
      }
     },
     "9651150190da454f8955e12740f5f638": {
      "model_module": "@jupyter-widgets/controls",
      "model_module_version": "1.5.0",
      "model_name": "VBoxModel",
      "state": {
       "children": [
        "IPY_MODEL_eac54c5fe4644ffbb49b14df4cefcdf3",
        "IPY_MODEL_523bd8a3c46f44edbd54c93fd691e204",
        "IPY_MODEL_1dcf263a372f483398be3c2fe454351b",
        "IPY_MODEL_925de880b3014ecb880deb428cd1d8c2"
       ],
       "layout": "IPY_MODEL_3a9a7b6730a64170bc1cf3b719e61006"
      }
     },
     "96a18f829e79476f8bf473f5e966b642": {
      "model_module": "@jupyter-widgets/controls",
      "model_module_version": "1.5.0",
      "model_name": "HTMLModel",
      "state": {
       "layout": "IPY_MODEL_9ee0510ba4c146f3ba2db0f1557d33c0",
       "style": "IPY_MODEL_1721181fbd0f4134b4ce57dd125436ce",
       "value": "<i>Wählen Sie die <ins>eine</ins> korrekte Antwort aus: </i>"
      }
     },
     "96c739344cbc4b5f8909bdb121dbd40c": {
      "model_module": "@jupyter-widgets/controls",
      "model_module_version": "1.5.0",
      "model_name": "ButtonModel",
      "state": {
       "description": "Keine der Alternativen",
       "layout": "IPY_MODEL_0bf13a948fe44bb8a05dcadefce35dba",
       "style": "IPY_MODEL_50151f00cfe24886a59278da50c9c754"
      }
     },
     "96db95814586466a954db3e15276bb4d": {
      "model_module": "@jupyter-widgets/controls",
      "model_module_version": "1.5.0",
      "model_name": "VBoxModel",
      "state": {
       "children": [
        "IPY_MODEL_3a84bde1346f4495bc45d5502550526c",
        "IPY_MODEL_d6843982ab6c4e4cb7e549a15feab09c",
        "IPY_MODEL_0176a135c4e34137870a8609c829e390",
        "IPY_MODEL_7d20f054398a4329b8314c99ff4ab654",
        "IPY_MODEL_8f8e069587d742e0b556c3d94d809a09"
       ],
       "layout": "IPY_MODEL_43f2c3c8c9634f71a4b6c1913d47a36f"
      }
     },
     "9712263e74e14914ad9f6d5912a389a3": {
      "model_module": "@jupyter-widgets/controls",
      "model_module_version": "1.5.0",
      "model_name": "HBoxModel",
      "state": {
       "children": [
        "IPY_MODEL_ab208dd620cc4c4abd27e63502e6f40d",
        "IPY_MODEL_6abca2f2eef6490b8a78323ca0b7534f"
       ],
       "layout": "IPY_MODEL_ff8c0f7a6af241989ea70ad6687c276f"
      }
     },
     "971fe5a43afc485dadd833c4cb3a917f": {
      "model_module": "@jupyter-widgets/controls",
      "model_module_version": "1.5.0",
      "model_name": "HTMLModel",
      "state": {
       "layout": "IPY_MODEL_8da630bdb00348638623c73aca19a5b0",
       "style": "IPY_MODEL_92ca2d3d9cb44d5c91a1e74dc839de7c",
       "value": "<i>Wählen Sie die <ins>eine</ins> korrekte Antwort aus: </i>"
      }
     },
     "9734191d0f2d4c26b4d1593e15a669e7": {
      "model_module": "@jupyter-widgets/controls",
      "model_module_version": "1.5.0",
      "model_name": "DescriptionStyleModel",
      "state": {
       "description_width": ""
      }
     },
     "9751d3b406f342afb3a7628d54763c32": {
      "model_module": "@jupyter-widgets/controls",
      "model_module_version": "1.5.0",
      "model_name": "VBoxModel",
      "state": {
       "children": [
        "IPY_MODEL_ab927d8b7dda41d5ab0bb5aaa3630e37",
        "IPY_MODEL_70a027ba22b5461ea62b3e9b9b9a184d",
        "IPY_MODEL_4caef652e4db4c969afc90eb19063557",
        "IPY_MODEL_f7bfe3b9d360446ab4dd55fbc9476633",
        "IPY_MODEL_43cdd9ebf1514b91a017256caad3f9fb"
       ],
       "layout": "IPY_MODEL_b66c052f83744ed6af1d7616cb6fe768"
      }
     },
     "97663f9dc1a04a749199b96a847768b9": {
      "model_module": "@jupyter-widgets/controls",
      "model_module_version": "1.5.0",
      "model_name": "HBoxModel",
      "state": {
       "children": [
        "IPY_MODEL_37986f19f7074e98ac7222fe97955b3e",
        "IPY_MODEL_4b11989440c6420cb7b5852cf389582e"
       ],
       "layout": "IPY_MODEL_f4fe53ff85204f38a361beca2b1cc22a"
      }
     },
     "976ad134bd434c0ca1848e8ed0e6eb78": {
      "model_module": "@jupyter-widgets/base",
      "model_module_version": "1.2.0",
      "model_name": "LayoutModel",
      "state": {
       "width": "250px"
      }
     },
     "978b7878f91e4c9bb3ecdc08d1046811": {
      "model_module": "@jupyter-widgets/base",
      "model_module_version": "1.2.0",
      "model_name": "LayoutModel",
      "state": {
       "width": "250px"
      }
     },
     "979685e80615478986984a25a42bc091": {
      "model_module": "@jupyter-widgets/base",
      "model_module_version": "1.2.0",
      "model_name": "LayoutModel",
      "state": {
       "justify_content": "center"
      }
     },
     "97d5ad7d172b4692a7717eddbc5c2553": {
      "model_module": "@jupyter-widgets/controls",
      "model_module_version": "1.5.0",
      "model_name": "HBoxModel",
      "state": {
       "children": [
        "IPY_MODEL_9f419faaa271498db06a4b1394db30f2",
        "IPY_MODEL_2c3b4e292e2847a8982386442ea51ac1"
       ],
       "layout": "IPY_MODEL_24d4645c8cfb4293a0883b4332abf535"
      }
     },
     "981b306011d5417db88918a9a3c2970f": {
      "model_module": "@jupyter-widgets/base",
      "model_module_version": "1.2.0",
      "model_name": "LayoutModel",
      "state": {
       "width": "250px"
      }
     },
     "983f988f261d41039153c55ae3516ccb": {
      "model_module": "@jupyter-widgets/base",
      "model_module_version": "1.2.0",
      "model_name": "LayoutModel",
      "state": {
       "width": "250px"
      }
     },
     "98441e21a0824044971cb2eb95eaf15f": {
      "model_module": "@jupyter-widgets/controls",
      "model_module_version": "1.5.0",
      "model_name": "CheckboxModel",
      "state": {
       "description": "Shift",
       "disabled": false,
       "layout": "IPY_MODEL_e579a3a42e9a4b4cb45b57d9bbe1c72a",
       "style": "IPY_MODEL_0badf5ca5d9b400cbc8d5bd210ef9d5f",
       "value": false
      }
     },
     "985a4a00846a49f9b37cee3ad3cf357b": {
      "model_module": "@jupyter-widgets/controls",
      "model_module_version": "1.5.0",
      "model_name": "DescriptionStyleModel",
      "state": {
       "description_width": ""
      }
     },
     "986c09344d664f6db58e427a4471e28d": {
      "model_module": "@jupyter-widgets/base",
      "model_module_version": "1.2.0",
      "model_name": "LayoutModel",
      "state": {}
     },
     "987cf58d064541dfa11ee323ae151a0f": {
      "model_module": "@jupyter-widgets/base",
      "model_module_version": "1.2.0",
      "model_name": "LayoutModel",
      "state": {
       "justify_content": "center"
      }
     },
     "987f70008fe6418aa5748c8aeecde775": {
      "model_module": "@jupyter-widgets/controls",
      "model_module_version": "1.5.0",
      "model_name": "DescriptionStyleModel",
      "state": {
       "description_width": ""
      }
     },
     "98b03cbd132b41a8ab782aaaa49baf28": {
      "model_module": "@jupyter-widgets/base",
      "model_module_version": "1.2.0",
      "model_name": "LayoutModel",
      "state": {
       "width": "600px"
      }
     },
     "99343421b4fa40d49d6438f25c217426": {
      "model_module": "@jupyter-widgets/base",
      "model_module_version": "1.2.0",
      "model_name": "LayoutModel",
      "state": {}
     },
     "996f4a7b0ec04d68a26c248a1d1efff5": {
      "model_module": "@jupyter-widgets/base",
      "model_module_version": "1.2.0",
      "model_name": "LayoutModel",
      "state": {}
     },
     "99bc96786a064a50a7f8d2d65eba90c2": {
      "model_module": "@jupyter-widgets/controls",
      "model_module_version": "1.5.0",
      "model_name": "ButtonStyleModel",
      "state": {}
     },
     "9a160ee39f9b4ab39c87cbd4d40d795a": {
      "model_module": "@jupyter-widgets/controls",
      "model_module_version": "1.5.0",
      "model_name": "ButtonStyleModel",
      "state": {}
     },
     "9a34b843900c42d89a6a777f5cf96aa9": {
      "model_module": "@jupyter-widgets/base",
      "model_module_version": "1.2.0",
      "model_name": "LayoutModel",
      "state": {}
     },
     "9ab128db54504976b77ec1339a216da9": {
      "model_module": "@jupyter-widgets/controls",
      "model_module_version": "1.5.0",
      "model_name": "HBoxModel",
      "state": {
       "children": [
        "IPY_MODEL_14c68f2797c34308936215a7088c2f5d",
        "IPY_MODEL_1714ae72595d434d911e522810f19180"
       ],
       "layout": "IPY_MODEL_ab8f2d3e6cdf426bb914644e4288071b"
      }
     },
     "9ad8202a467443e58f3c3b9e732ebdf1": {
      "model_module": "@jupyter-widgets/base",
      "model_module_version": "1.2.0",
      "model_name": "LayoutModel",
      "state": {}
     },
     "9adb0fe0214f408a882a20ef8d6a8828": {
      "model_module": "@jupyter-widgets/controls",
      "model_module_version": "1.5.0",
      "model_name": "ButtonModel",
      "state": {
       "description": "Complete",
       "layout": "IPY_MODEL_aa8ba656dc594ea5a28406d42abfdc39",
       "style": "IPY_MODEL_81a116b0e98f4e12ba3ed3910279b0b2"
      }
     },
     "9af9bcaf2cc246f9ba69791afc01a925": {
      "model_module": "@jupyter-widgets/controls",
      "model_module_version": "1.5.0",
      "model_name": "ButtonStyleModel",
      "state": {}
     },
     "9b1799a02e8c4f13aa0e7b52acca9e2f": {
      "model_module": "@jupyter-widgets/controls",
      "model_module_version": "1.5.0",
      "model_name": "CheckboxModel",
      "state": {
       "description": "Scan",
       "disabled": false,
       "layout": "IPY_MODEL_7bf1b8a2b7404fc28927cdb0f01b1f4d",
       "style": "IPY_MODEL_7bf6dbb5a3b0476cb2cf3d28d3228b24",
       "value": true
      }
     },
     "9b47ba7a6d7f42a5a89ca785b2acfcee": {
      "model_module": "@jupyter-widgets/base",
      "model_module_version": "1.2.0",
      "model_name": "LayoutModel",
      "state": {}
     },
     "9b68bc38fa4443939c9e1fe6245e3f28": {
      "model_module": "@jupyter-widgets/controls",
      "model_module_version": "1.5.0",
      "model_name": "ButtonStyleModel",
      "state": {
       "button_color": "lightgreen"
      }
     },
     "9ba1f03263734a6eaf112c56c4aef08d": {
      "model_module": "@jupyter-widgets/controls",
      "model_module_version": "1.5.0",
      "model_name": "DescriptionStyleModel",
      "state": {
       "description_width": "initial"
      }
     },
     "9ba25b7edc2b45b2a1488fda8960ad41": {
      "model_module": "@jupyter-widgets/controls",
      "model_module_version": "1.5.0",
      "model_name": "ButtonModel",
      "state": {
       "description": "Scan",
       "layout": "IPY_MODEL_e56c72d85d3d437d85e1cea4dcf1a38c",
       "style": "IPY_MODEL_5f4bbe1748ec44168a6e1a08eaf8144b"
      }
     },
     "9bb46ac0bf8541329f16873d2bb0e7c1": {
      "model_module": "@jupyter-widgets/controls",
      "model_module_version": "1.5.0",
      "model_name": "HTMLModel",
      "state": {
       "layout": "IPY_MODEL_11302f0022c04309ba9cf7b68955c165",
       "style": "IPY_MODEL_6a09dbfbb6bf4358aaa3f52ad971a3a6",
       "value": "<h4 style=\"font-size:14px;\">Welche Operation folgt als nächstes?</h4>"
      }
     },
     "9c0c7dca039d4739b9b3e3458f3cabf8": {
      "model_module": "@jupyter-widgets/controls",
      "model_module_version": "1.5.0",
      "model_name": "ButtonModel",
      "state": {
       "description": "Shift",
       "layout": "IPY_MODEL_89676477e3794e6b8a6df20d24b00b1b",
       "style": "IPY_MODEL_0b8f066156694abb81154dc8a5d5c808"
      }
     },
     "9c1d05f4c1d34f2f97baeffa551947b6": {
      "model_module": "@jupyter-widgets/controls",
      "model_module_version": "1.5.0",
      "model_name": "ButtonStyleModel",
      "state": {}
     },
     "9c2403e9868c4b33afeee38eba2210a6": {
      "model_module": "@jupyter-widgets/controls",
      "model_module_version": "1.5.0",
      "model_name": "ButtonModel",
      "state": {
       "description": "Scan",
       "layout": "IPY_MODEL_9092676687084966b7608b5da99da06f",
       "style": "IPY_MODEL_e2460749b5f645b9bcf1366809e41745"
      }
     },
     "9c283d078b1c4d6e9e309551aa0fd1a0": {
      "model_module": "@jupyter-widgets/controls",
      "model_module_version": "1.5.0",
      "model_name": "HTMLModel",
      "state": {
       "layout": "IPY_MODEL_e17e95586b1840ab9233de408806a304",
       "style": "IPY_MODEL_a59d73d7c881483b947b08c8ba1586c5",
       "value": "<i>Wählen Sie die <ins>eine</ins> korrekte Antwort aus: </i>"
      }
     },
     "9c3dfd4f061746bd8c7e511e7588f059": {
      "model_module": "@jupyter-widgets/controls",
      "model_module_version": "1.5.0",
      "model_name": "HTMLModel",
      "state": {
       "layout": "IPY_MODEL_81aaa8baf1c34e898d14a77b27e2403c",
       "style": "IPY_MODEL_c64b4d94ad5b46f481f143547682bd14",
       "value": "<h4 style=\"font-size:14px;\">Um welchen Parser handelt es sich?</h4>"
      }
     },
     "9c5e95b06e1c41deb88993360a3c07de": {
      "model_module": "@jupyter-widgets/controls",
      "model_module_version": "1.5.0",
      "model_name": "VBoxModel",
      "state": {
       "children": [
        "IPY_MODEL_f578415577e2417f99acb973758edb4f",
        "IPY_MODEL_b54e09df8026452799fd0a06ecd96b95",
        "IPY_MODEL_da2a566479154fffa45eed20664db779",
        "IPY_MODEL_dd1e4a4e3ebb4c489f2a5df9da183882",
        "IPY_MODEL_aef30b23b82b4d9c9b6f49c5bb6b5ff6"
       ],
       "layout": "IPY_MODEL_11879f2af29b412bb91b20f258e4b636"
      }
     },
     "9c7a1662e74a424aa8fb588d123ab4e3": {
      "model_module": "@jupyter-widgets/controls",
      "model_module_version": "1.5.0",
      "model_name": "HBoxModel",
      "state": {
       "children": [
        "IPY_MODEL_0d203963b5594a2d9dfcf8c7d445714f",
        "IPY_MODEL_f7946aaec337468eb655a93231ac0826"
       ],
       "layout": "IPY_MODEL_150622509a944b2c8e58563d722e1b9a"
      }
     },
     "9c9266248ad743fdaca53ace03531a0b": {
      "model_module": "@jupyter-widgets/controls",
      "model_module_version": "1.5.0",
      "model_name": "DescriptionStyleModel",
      "state": {
       "description_width": "initial"
      }
     },
     "9d388005feea4c92b68c74378a233ff9": {
      "model_module": "@jupyter-widgets/controls",
      "model_module_version": "1.5.0",
      "model_name": "VBoxModel",
      "state": {
       "children": [
        "IPY_MODEL_c158fbced638470fa6acdb221293a7bd",
        "IPY_MODEL_e3cfca34612846fd80293fc30e5dc688",
        "IPY_MODEL_a0caeb2acdc74d82b83d89414d2153f5",
        "IPY_MODEL_abe0231c17544b46b2f4e54f410f2cce",
        "IPY_MODEL_dac3277417844899b68af57c083cc8b4"
       ],
       "layout": "IPY_MODEL_a4d4595c398b412299c00d843786b310"
      }
     },
     "9d54f12704c24601a1b1412694433484": {
      "model_module": "@jupyter-widgets/base",
      "model_module_version": "1.2.0",
      "model_name": "LayoutModel",
      "state": {}
     },
     "9d6f9a3c8ddb4ee696cd931119575895": {
      "model_module": "@jupyter-widgets/base",
      "model_module_version": "1.2.0",
      "model_name": "LayoutModel",
      "state": {}
     },
     "9d7612b29a4d44c2832e186a81884545": {
      "model_module": "@jupyter-widgets/controls",
      "model_module_version": "1.5.0",
      "model_name": "HBoxModel",
      "state": {
       "children": [
        "IPY_MODEL_e52fed76a42b44dfa0eba0c8f6c81df2"
       ],
       "layout": "IPY_MODEL_8cb6b73159e8496f84de920102bef39d"
      }
     },
     "9d93a3faf81442129b8485cbbd57f045": {
      "model_module": "@jupyter-widgets/controls",
      "model_module_version": "1.5.0",
      "model_name": "HBoxModel",
      "state": {
       "children": [
        "IPY_MODEL_1c63161acec143b5b2e0697d1cb1d06f",
        "IPY_MODEL_220c485ec3b048328a57ecddc8f65cdb"
       ],
       "layout": "IPY_MODEL_f56551d0285b48a08887407616023e48"
      }
     },
     "9dd3285e19e8477aa69f4c33a778e4bd": {
      "model_module": "@jupyter-widgets/base",
      "model_module_version": "1.2.0",
      "model_name": "LayoutModel",
      "state": {}
     },
     "9dda85aa5f5847658a4b9e267031f50f": {
      "model_module": "@jupyter-widgets/controls",
      "model_module_version": "1.5.0",
      "model_name": "ButtonModel",
      "state": {
       "description": "Predict",
       "layout": "IPY_MODEL_c73b007d52d2455392c9dfe7ac4eadbd",
       "style": "IPY_MODEL_f5d3f6967756455c978f9645684e414c"
      }
     },
     "9ddeed99d1aa495389dfd44c5ae1f305": {
      "model_module": "@jupyter-widgets/controls",
      "model_module_version": "1.5.0",
      "model_name": "ButtonStyleModel",
      "state": {}
     },
     "9de65fe39a0940bcb752add87ec1a339": {
      "model_module": "@jupyter-widgets/controls",
      "model_module_version": "1.5.0",
      "model_name": "ButtonStyleModel",
      "state": {}
     },
     "9dfe82e454ac45ab9741ce10b752a9be": {
      "model_module": "@jupyter-widgets/controls",
      "model_module_version": "1.5.0",
      "model_name": "ButtonModel",
      "state": {
       "description": "Complete",
       "layout": "IPY_MODEL_a569d87f08db4d99b0c65ef16d7ea626",
       "style": "IPY_MODEL_9318936ada3e42da9751db9e9f9ed084"
      }
     },
     "9e2ffec7ad6946c2aba43bd29bd03d1f": {
      "model_module": "@jupyter-widgets/controls",
      "model_module_version": "1.5.0",
      "model_name": "HBoxModel",
      "state": {
       "children": [
        "IPY_MODEL_10822e628f8246dca596127db0eed34c"
       ],
       "layout": "IPY_MODEL_dd898b644efc42b5b1c12ed9c6975200"
      }
     },
     "9e450226ed774def9c98e4fff7a0f30f": {
      "model_module": "@jupyter-widgets/base",
      "model_module_version": "1.2.0",
      "model_name": "LayoutModel",
      "state": {
       "width": "250px"
      }
     },
     "9e4deca74062483085e30079fe2ffc8f": {
      "model_module": "@jupyter-widgets/controls",
      "model_module_version": "1.5.0",
      "model_name": "HTMLModel",
      "state": {
       "layout": "IPY_MODEL_2977c1e1c63a4e9097b79894ebcf5cc5",
       "style": "IPY_MODEL_5e58b745dc034690b61c5764bf34e4ba",
       "value": "<i>Wählen Sie die <ins>eine</ins> korrekte Antwort aus: </i>"
      }
     },
     "9e76a2d5e1f04a84874d0c914b6d06ac": {
      "model_module": "@jupyter-widgets/controls",
      "model_module_version": "1.5.0",
      "model_name": "VBoxModel",
      "state": {
       "children": [
        "IPY_MODEL_e117597e4c4c4db1aeaf0df0adfdaddf",
        "IPY_MODEL_5abc9e771ddf490fb8dc5f1c8e14f50c",
        "IPY_MODEL_b1758e48399c4010bf2f5ed09f893462",
        "IPY_MODEL_3ab23f8d492549379ae6b98e666aa3af",
        "IPY_MODEL_531b39c5854e41a5a1bb5161fe5d5974"
       ],
       "layout": "IPY_MODEL_bf931518529c44a8b13ef5e8759201cd"
      }
     },
     "9e87afdeccce4a609ca1b435022f96ac": {
      "model_module": "@jupyter-widgets/controls",
      "model_module_version": "1.5.0",
      "model_name": "DescriptionStyleModel",
      "state": {
       "description_width": ""
      }
     },
     "9ea506ae931e4b5ebdad1ee26d71c6cb": {
      "model_module": "@jupyter-widgets/controls",
      "model_module_version": "1.5.0",
      "model_name": "ButtonStyleModel",
      "state": {}
     },
     "9ea978d14b3043d586b16200c61e445b": {
      "model_module": "@jupyter-widgets/base",
      "model_module_version": "1.2.0",
      "model_name": "LayoutModel",
      "state": {}
     },
     "9ee0510ba4c146f3ba2db0f1557d33c0": {
      "model_module": "@jupyter-widgets/base",
      "model_module_version": "1.2.0",
      "model_name": "LayoutModel",
      "state": {
       "justify_content": "center"
      }
     },
     "9ee195ab4ded4b3e95112175a82f3eec": {
      "model_module": "@jupyter-widgets/controls",
      "model_module_version": "1.5.0",
      "model_name": "HBoxModel",
      "state": {
       "children": [
        "IPY_MODEL_cc897902c461417b9b26f0ae9df1fc77",
        "IPY_MODEL_845ee18d72574ebd9b4e64d107dfde9d"
       ],
       "layout": "IPY_MODEL_357bbf62eb8e487a86b4afde0af52a2b"
      }
     },
     "9f1044df599949309740d760f551c8d1": {
      "model_module": "@jupyter-widgets/base",
      "model_module_version": "1.2.0",
      "model_name": "LayoutModel",
      "state": {
       "justify_content": "center"
      }
     },
     "9f419faaa271498db06a4b1394db30f2": {
      "model_module": "@jupyter-widgets/controls",
      "model_module_version": "1.5.0",
      "model_name": "ButtonModel",
      "state": {
       "description": "Scan",
       "layout": "IPY_MODEL_67ea39a44e8d48f09fed3d8b7a2c6e30",
       "style": "IPY_MODEL_d7062a7bfd3d4e2b889ef2359bd8c6ee"
      }
     },
     "9f57a2a45ab9428f96fb4523fbaf8b54": {
      "model_module": "@jupyter-widgets/base",
      "model_module_version": "1.2.0",
      "model_name": "LayoutModel",
      "state": {
       "width": "250px"
      }
     },
     "9f60d9c25a8f48ec803d25dd8a500075": {
      "model_module": "@jupyter-widgets/controls",
      "model_module_version": "1.5.0",
      "model_name": "HTMLModel",
      "state": {
       "layout": "IPY_MODEL_698c2c3ef071451a9675bc70c2f45084",
       "style": "IPY_MODEL_b6d87d54b22a4372a0a78f6079d7ba1b",
       "value": "<i>Wählen Sie die <ins>eine</ins> korrekte Antwort aus: </i>"
      }
     },
     "9fba76862ec641568237a8fb63e7ec9b": {
      "model_module": "@jupyter-widgets/controls",
      "model_module_version": "1.5.0",
      "model_name": "ButtonModel",
      "state": {
       "description": "Reduce",
       "layout": "IPY_MODEL_06bc9d415291428a958845ddc1422265",
       "style": "IPY_MODEL_86ae9abae8f94376b4ef6aec473eb017"
      }
     },
     "a00f9486f1414f6f9b0c186f84b239c7": {
      "model_module": "@jupyter-widgets/controls",
      "model_module_version": "1.5.0",
      "model_name": "HBoxModel",
      "state": {
       "children": [
        "IPY_MODEL_ef63b0bbd76d43a7a6b7012724c033e6",
        "IPY_MODEL_edc8b767df1148a086fba51beb54795e"
       ],
       "layout": "IPY_MODEL_eb3a2deaa7b342dd9e001daf0f2cfc05"
      }
     },
     "a03cfbe6c2084c46b31a91c9978ae124": {
      "model_module": "@jupyter-widgets/controls",
      "model_module_version": "1.5.0",
      "model_name": "ButtonStyleModel",
      "state": {}
     },
     "a074149d2eca405fb03f25d8878f4750": {
      "model_module": "@jupyter-widgets/controls",
      "model_module_version": "1.5.0",
      "model_name": "ButtonStyleModel",
      "state": {}
     },
     "a0b21cf3b6e441778a7a6cabbe5ef07e": {
      "model_module": "@jupyter-widgets/controls",
      "model_module_version": "1.5.0",
      "model_name": "ButtonModel",
      "state": {
       "description": "Complete",
       "layout": "IPY_MODEL_d279cf0e17154f618e7558a79c51fee4",
       "style": "IPY_MODEL_ee24bb68de4f4c3aae86288a4d87af96"
      }
     },
     "a0c2bc8f067b4307bf9731c8aadc4301": {
      "model_module": "@jupyter-widgets/controls",
      "model_module_version": "1.5.0",
      "model_name": "ButtonModel",
      "state": {
       "description": "Complete",
       "layout": "IPY_MODEL_7f31a1b0be794abab4d71746283beaf5",
       "style": "IPY_MODEL_a1b1908c00514863902142b14594f1e0"
      }
     },
     "a0caeb2acdc74d82b83d89414d2153f5": {
      "model_module": "@jupyter-widgets/controls",
      "model_module_version": "1.5.0",
      "model_name": "HBoxModel",
      "state": {
       "children": [
        "IPY_MODEL_fe1422baa0b942aba8910599a712c60f",
        "IPY_MODEL_159cdf8dacdf4c8d9c881f2fc9e10a95"
       ],
       "layout": "IPY_MODEL_76b22d932b4f441fb4561161d4d7981b"
      }
     },
     "a0debafd7ebf4869bd7e6f768bf8be51": {
      "model_module": "@jupyter-widgets/controls",
      "model_module_version": "1.5.0",
      "model_name": "HTMLModel",
      "state": {
       "layout": "IPY_MODEL_875888d1f4a7477eb3afbb64e8439b2d",
       "style": "IPY_MODEL_c4aaf2a290914615a4cd1aee4160bb4a",
       "value": "<i>Wählen Sie die <ins>eine</ins> korrekte Antwort aus: </i>"
      }
     },
     "a0e0532e6b974cd19a54b3002ca6f606": {
      "model_module": "@jupyter-widgets/controls",
      "model_module_version": "1.5.0",
      "model_name": "ButtonModel",
      "state": {
       "description": "Predict",
       "layout": "IPY_MODEL_a7e69e1204944771817ed81427903026",
       "style": "IPY_MODEL_c1e180ba47284abab48d086493a3ae27"
      }
     },
     "a0f73c05c0924d4c9716904099932322": {
      "model_module": "@jupyter-widgets/controls",
      "model_module_version": "1.5.0",
      "model_name": "DescriptionStyleModel",
      "state": {
       "description_width": ""
      }
     },
     "a11fd895d37d4aa896ef27c5df23b86f": {
      "model_module": "@jupyter-widgets/controls",
      "model_module_version": "1.5.0",
      "model_name": "ButtonModel",
      "state": {
       "description": "Shift",
       "layout": "IPY_MODEL_528362029916432aa165aa8b162afcdb",
       "style": "IPY_MODEL_7f38a9451497401e9ae8129758ab178a"
      }
     },
     "a130bdc26fd24f63bffc115f1cf3b634": {
      "model_module": "@jupyter-widgets/base",
      "model_module_version": "1.2.0",
      "model_name": "LayoutModel",
      "state": {}
     },
     "a15c4cb988f74562a04ac5e5e64cf54c": {
      "model_module": "@jupyter-widgets/controls",
      "model_module_version": "1.5.0",
      "model_name": "DescriptionStyleModel",
      "state": {
       "description_width": ""
      }
     },
     "a1b1908c00514863902142b14594f1e0": {
      "model_module": "@jupyter-widgets/controls",
      "model_module_version": "1.5.0",
      "model_name": "ButtonStyleModel",
      "state": {}
     },
     "a1c0ade981654dc5948adeb7f9a6a339": {
      "model_module": "@jupyter-widgets/controls",
      "model_module_version": "1.5.0",
      "model_name": "HBoxModel",
      "state": {
       "children": [
        "IPY_MODEL_afb30ea09782449f8fbb89792e343653",
        "IPY_MODEL_3419cf26d1e44b859c73970157a2e10e"
       ],
       "layout": "IPY_MODEL_fb5e7359fd5146deab6bc932b8217bb0"
      }
     },
     "a1dbdebc6b494ef49dcb6a6c9184d9d3": {
      "model_module": "@jupyter-widgets/base",
      "model_module_version": "1.2.0",
      "model_name": "LayoutModel",
      "state": {}
     },
     "a211372217be45bb88ec4ff5be405b2f": {
      "model_module": "@jupyter-widgets/base",
      "model_module_version": "1.2.0",
      "model_name": "LayoutModel",
      "state": {}
     },
     "a287849fcf554b7ea07b041dbd8fe500": {
      "model_module": "@jupyter-widgets/controls",
      "model_module_version": "1.5.0",
      "model_name": "ButtonStyleModel",
      "state": {}
     },
     "a2bcf32b512e4f9fae168be392015ad0": {
      "model_module": "@jupyter-widgets/controls",
      "model_module_version": "1.5.0",
      "model_name": "ButtonModel",
      "state": {
       "description": "Shift",
       "layout": "IPY_MODEL_94405a0d97464f5690bb1f6c0fc909b5",
       "style": "IPY_MODEL_f0154444934a4f9085e61a586a2c34b6"
      }
     },
     "a2d05ef16d18451ab3b747464573e281": {
      "model_module": "@jupyter-widgets/controls",
      "model_module_version": "1.5.0",
      "model_name": "VBoxModel",
      "state": {
       "children": [
        "IPY_MODEL_9c3dfd4f061746bd8c7e511e7588f059",
        "IPY_MODEL_14ae5270344e434ebd5f114a62082410",
        "IPY_MODEL_ceedd677e40d4ea996a08fa2071dd4e1",
        "IPY_MODEL_6114d45ff4af495aadf921875ea434b4"
       ],
       "layout": "IPY_MODEL_8f04d130a6bc402e9af2c5feb207c2d4"
      }
     },
     "a2d4e93360364e05805f71414959a422": {
      "model_module": "@jupyter-widgets/base",
      "model_module_version": "1.2.0",
      "model_name": "LayoutModel",
      "state": {
       "width": "250px"
      }
     },
     "a2fa38364f5b4a8cb83b302c7cf219f7": {
      "model_module": "@jupyter-widgets/controls",
      "model_module_version": "1.5.0",
      "model_name": "DescriptionStyleModel",
      "state": {
       "description_width": ""
      }
     },
     "a336c4be3bf449e6a4f6a77f99bb4dd9": {
      "model_module": "@jupyter-widgets/base",
      "model_module_version": "1.2.0",
      "model_name": "LayoutModel",
      "state": {
       "width": "600px"
      }
     },
     "a337eaec4f6a4c558083d3be89847892": {
      "model_module": "@jupyter-widgets/base",
      "model_module_version": "1.2.0",
      "model_name": "LayoutModel",
      "state": {}
     },
     "a38634c60c9a4b6aa42c9b00e807f400": {
      "model_module": "@jupyter-widgets/base",
      "model_module_version": "1.2.0",
      "model_name": "LayoutModel",
      "state": {
       "width": "250px"
      }
     },
     "a3aca2fe03804c948d00ff1f63204e8d": {
      "model_module": "@jupyter-widgets/base",
      "model_module_version": "1.2.0",
      "model_name": "LayoutModel",
      "state": {
       "width": "250px"
      }
     },
     "a3cb92341a7940e3b4d110af0ce555fa": {
      "model_module": "@jupyter-widgets/controls",
      "model_module_version": "1.5.0",
      "model_name": "ButtonStyleModel",
      "state": {}
     },
     "a3d1606f6d834b96b62e26db184aa9c0": {
      "model_module": "@jupyter-widgets/controls",
      "model_module_version": "1.5.0",
      "model_name": "HBoxModel",
      "state": {
       "children": [
        "IPY_MODEL_90e51e37f86a4c1fba15829f51a2355f",
        "IPY_MODEL_745c49c9c1314e24a3127bc4c1bacdb5"
       ],
       "layout": "IPY_MODEL_cd31d00c396d4e858c19bc09a7b9bc4c"
      }
     },
     "a3d80eeafe094b95adefea25aa362434": {
      "model_module": "@jupyter-widgets/base",
      "model_module_version": "1.2.0",
      "model_name": "LayoutModel",
      "state": {
       "width": "250px"
      }
     },
     "a3f18522d2b64269a79c88d4839f6c8d": {
      "model_module": "@jupyter-widgets/controls",
      "model_module_version": "1.5.0",
      "model_name": "ButtonModel",
      "state": {
       "description": "Reduce",
       "layout": "IPY_MODEL_8e78a817b39b450280b06374ae2226ac",
       "style": "IPY_MODEL_17a7c3b2dcb64fc4ab48a3aec7e5a4ed"
      }
     },
     "a3fe1ccb51ca4db1a994ac523b48a792": {
      "model_module": "@jupyter-widgets/base",
      "model_module_version": "1.2.0",
      "model_name": "LayoutModel",
      "state": {
       "justify_content": "center"
      }
     },
     "a41a1396108f41da90ac7ac89861ae91": {
      "model_module": "@jupyter-widgets/base",
      "model_module_version": "1.2.0",
      "model_name": "LayoutModel",
      "state": {}
     },
     "a428df302c6a4e2d8ba664a28547de05": {
      "model_module": "@jupyter-widgets/base",
      "model_module_version": "1.2.0",
      "model_name": "LayoutModel",
      "state": {}
     },
     "a4648a80e70545569f923affe04df961": {
      "model_module": "@jupyter-widgets/controls",
      "model_module_version": "1.5.0",
      "model_name": "HBoxModel",
      "state": {
       "children": [
        "IPY_MODEL_2dc129bb866843829609e7bd783e0ebe",
        "IPY_MODEL_37e2883afbde444992053a0a4007ad97"
       ],
       "layout": "IPY_MODEL_356ba57e17be41fb84eac1451fc05270"
      }
     },
     "a473801e02764335b0dc2d5a4b1118b3": {
      "model_module": "@jupyter-widgets/base",
      "model_module_version": "1.2.0",
      "model_name": "LayoutModel",
      "state": {
       "width": "250px"
      }
     },
     "a4801f13361c485e9cac6bde3642172f": {
      "model_module": "@jupyter-widgets/controls",
      "model_module_version": "1.5.0",
      "model_name": "HBoxModel",
      "state": {
       "children": [
        "IPY_MODEL_9c2403e9868c4b33afeee38eba2210a6",
        "IPY_MODEL_b5d941d9cbd04df5bf18ed0965bf1c70"
       ],
       "layout": "IPY_MODEL_f39e80f05d9b41dd861c731151f99b42"
      }
     },
     "a48dff11fa7d489da4722fe15d6f0368": {
      "model_module": "@jupyter-widgets/base",
      "model_module_version": "1.2.0",
      "model_name": "LayoutModel",
      "state": {
       "width": "250px"
      }
     },
     "a4c0447a8da643208069a42fbb34ea31": {
      "model_module": "@jupyter-widgets/base",
      "model_module_version": "1.2.0",
      "model_name": "LayoutModel",
      "state": {}
     },
     "a4d4595c398b412299c00d843786b310": {
      "model_module": "@jupyter-widgets/base",
      "model_module_version": "1.2.0",
      "model_name": "LayoutModel",
      "state": {}
     },
     "a512d21d254848daae8bc746fceb064d": {
      "model_module": "@jupyter-widgets/base",
      "model_module_version": "1.2.0",
      "model_name": "LayoutModel",
      "state": {
       "width": "250px"
      }
     },
     "a528b3deaa154cae8e71906c92d9e07e": {
      "model_module": "@jupyter-widgets/controls",
      "model_module_version": "1.5.0",
      "model_name": "CheckboxModel",
      "state": {
       "description": "Shift",
       "disabled": false,
       "layout": "IPY_MODEL_65b753318ad04129a68e00aee71e8be4",
       "style": "IPY_MODEL_5029d6b6a1694d5095a50c226e35dd6d",
       "value": false
      }
     },
     "a535ab4070ad4d8f846d777bc788ece1": {
      "model_module": "@jupyter-widgets/controls",
      "model_module_version": "1.5.0",
      "model_name": "HTMLModel",
      "state": {
       "layout": "IPY_MODEL_de1b2364bdb342a3bacd1b5350b6f728",
       "style": "IPY_MODEL_0be989a44fd84068a1d35c280f0ba299",
       "value": "<i>Wählen Sie die <ins>eine</ins> korrekte Antwort aus: </i>"
      }
     },
     "a54183b7b271441d9468198b050064fb": {
      "model_module": "@jupyter-widgets/controls",
      "model_module_version": "1.5.0",
      "model_name": "CheckboxModel",
      "state": {
       "description": "Scan",
       "disabled": false,
       "layout": "IPY_MODEL_e35bd10fdfb24b7bb7a04aef52eeaa3f",
       "style": "IPY_MODEL_5c89bbbcf669444db6f36bd472decbfa",
       "value": true
      }
     },
     "a55a763edd4f4e4e9714223079535130": {
      "model_module": "@jupyter-widgets/base",
      "model_module_version": "1.2.0",
      "model_name": "LayoutModel",
      "state": {}
     },
     "a569d87f08db4d99b0c65ef16d7ea626": {
      "model_module": "@jupyter-widgets/base",
      "model_module_version": "1.2.0",
      "model_name": "LayoutModel",
      "state": {
       "width": "250px"
      }
     },
     "a573a4db81bb4a01a5539674ee926b86": {
      "model_module": "@jupyter-widgets/base",
      "model_module_version": "1.2.0",
      "model_name": "LayoutModel",
      "state": {}
     },
     "a5746d40d3ab411aa476d3a2e73e10e6": {
      "model_module": "@jupyter-widgets/base",
      "model_module_version": "1.2.0",
      "model_name": "LayoutModel",
      "state": {
       "justify_content": "center"
      }
     },
     "a5871b46ac844f2eb6676274d07e1ed1": {
      "model_module": "@jupyter-widgets/base",
      "model_module_version": "1.2.0",
      "model_name": "LayoutModel",
      "state": {
       "width": "600px"
      }
     },
     "a589f368d8bd4c80abb8b97a4f0a4bcd": {
      "model_module": "@jupyter-widgets/controls",
      "model_module_version": "1.5.0",
      "model_name": "ButtonStyleModel",
      "state": {}
     },
     "a59d73d7c881483b947b08c8ba1586c5": {
      "model_module": "@jupyter-widgets/controls",
      "model_module_version": "1.5.0",
      "model_name": "DescriptionStyleModel",
      "state": {
       "description_width": ""
      }
     },
     "a5d8b4fc493a470c836e0d98a029d84c": {
      "model_module": "@jupyter-widgets/controls",
      "model_module_version": "1.5.0",
      "model_name": "DescriptionStyleModel",
      "state": {
       "description_width": ""
      }
     },
     "a6225b75bc634f5db534210254beb3b6": {
      "model_module": "@jupyter-widgets/controls",
      "model_module_version": "1.5.0",
      "model_name": "ButtonStyleModel",
      "state": {}
     },
     "a6288e6ffaba4d92989b10b38b1cd506": {
      "model_module": "@jupyter-widgets/controls",
      "model_module_version": "1.5.0",
      "model_name": "CheckboxModel",
      "state": {
       "description": "Shift",
       "disabled": false,
       "layout": "IPY_MODEL_35e1643fb9544669b5f984de735f10dd",
       "style": "IPY_MODEL_2a263a7dbd0047fa9cfeae9cf2d6ea34",
       "value": false
      }
     },
     "a697ae4feffa4c46bbde2468135e06ec": {
      "model_module": "@jupyter-widgets/base",
      "model_module_version": "1.2.0",
      "model_name": "LayoutModel",
      "state": {
       "width": "250px"
      }
     },
     "a71fb26b6a7745a1a282a240709669fc": {
      "model_module": "@jupyter-widgets/controls",
      "model_module_version": "1.5.0",
      "model_name": "ButtonStyleModel",
      "state": {
       "button_color": "lightgreen"
      }
     },
     "a765c4c3bd62433f8cd6fe189224072d": {
      "model_module": "@jupyter-widgets/controls",
      "model_module_version": "1.5.0",
      "model_name": "ButtonModel",
      "state": {
       "description": "Reduce",
       "layout": "IPY_MODEL_0c23c20bb6f34d408be77a06bc0ef798",
       "style": "IPY_MODEL_d0ba31bcc7c9401da4f6176196632b07"
      }
     },
     "a76e0a4065c04fea81b34d83dc9d50e0": {
      "model_module": "@jupyter-widgets/controls",
      "model_module_version": "1.5.0",
      "model_name": "DescriptionStyleModel",
      "state": {
       "description_width": ""
      }
     },
     "a7a2ce9258b546df97e8e11f291e9483": {
      "model_module": "@jupyter-widgets/base",
      "model_module_version": "1.2.0",
      "model_name": "LayoutModel",
      "state": {
       "justify_content": "center"
      }
     },
     "a7d3aeae8ceb4aa99543d9f89dcf55ae": {
      "model_module": "@jupyter-widgets/base",
      "model_module_version": "1.2.0",
      "model_name": "LayoutModel",
      "state": {}
     },
     "a7e5eecbc4ab47b4a3be01e5c7b2b006": {
      "model_module": "@jupyter-widgets/controls",
      "model_module_version": "1.5.0",
      "model_name": "DescriptionStyleModel",
      "state": {
       "description_width": ""
      }
     },
     "a7e69e1204944771817ed81427903026": {
      "model_module": "@jupyter-widgets/base",
      "model_module_version": "1.2.0",
      "model_name": "LayoutModel",
      "state": {
       "width": "250px"
      }
     },
     "a7ecc6da6a6d411ea60ab697215fde1d": {
      "model_module": "@jupyter-widgets/base",
      "model_module_version": "1.2.0",
      "model_name": "LayoutModel",
      "state": {
       "width": "250px"
      }
     },
     "a7f270ec1eb54a47a55c83911225c8da": {
      "model_module": "@jupyter-widgets/controls",
      "model_module_version": "1.5.0",
      "model_name": "ButtonStyleModel",
      "state": {}
     },
     "a80052a7e51a4881ab5b12458f33037b": {
      "model_module": "@jupyter-widgets/controls",
      "model_module_version": "1.5.0",
      "model_name": "DescriptionStyleModel",
      "state": {
       "description_width": "initial"
      }
     },
     "a82e8033c6894b15b84540857bdba120": {
      "model_module": "@jupyter-widgets/controls",
      "model_module_version": "1.5.0",
      "model_name": "ButtonModel",
      "state": {
       "description": "Reduce",
       "layout": "IPY_MODEL_f1b3dc4cac964e3fa30433507a72d97f",
       "style": "IPY_MODEL_b2ea61da197c45b3ae561450975e884c"
      }
     },
     "a8520efae47f482daea0d5b8730f6fae": {
      "model_module": "@jupyter-widgets/controls",
      "model_module_version": "1.5.0",
      "model_name": "HTMLModel",
      "state": {
       "layout": "IPY_MODEL_5af6e346894a44ce835043869a430733",
       "style": "IPY_MODEL_987f70008fe6418aa5748c8aeecde775",
       "value": "<i>Wählen Sie die <ins>eine</ins> korrekte Antwort aus: </i>"
      }
     },
     "a85ce85cbb7f48c291e71e289001992d": {
      "model_module": "@jupyter-widgets/base",
      "model_module_version": "1.2.0",
      "model_name": "LayoutModel",
      "state": {
       "width": "250px"
      }
     },
     "a86a62cb64264699b3087e3c7b85c254": {
      "model_module": "@jupyter-widgets/controls",
      "model_module_version": "1.5.0",
      "model_name": "CheckboxModel",
      "state": {
       "description": "Shift",
       "disabled": false,
       "layout": "IPY_MODEL_34448986f61f44faab4cc0419748e2ce",
       "style": "IPY_MODEL_513110f050fb4d73962562275d743999",
       "value": false
      }
     },
     "a86dfc0cc56a4ea1adc112a2fb336c5c": {
      "model_module": "@jupyter-widgets/base",
      "model_module_version": "1.2.0",
      "model_name": "LayoutModel",
      "state": {
       "width": "250px"
      }
     },
     "a87492caaf0847ab9e3afe90ec98fb66": {
      "model_module": "@jupyter-widgets/base",
      "model_module_version": "1.2.0",
      "model_name": "LayoutModel",
      "state": {
       "width": "250px"
      }
     },
     "a8822a44cbaa4a81844557a2d00e5b31": {
      "model_module": "@jupyter-widgets/controls",
      "model_module_version": "1.5.0",
      "model_name": "ButtonStyleModel",
      "state": {}
     },
     "a88dbedaf20f4730b0c2e1081d4faf33": {
      "model_module": "@jupyter-widgets/controls",
      "model_module_version": "1.5.0",
      "model_name": "ButtonStyleModel",
      "state": {}
     },
     "a892d85da27a47d79dadb5d422563ee0": {
      "model_module": "@jupyter-widgets/controls",
      "model_module_version": "1.5.0",
      "model_name": "ButtonStyleModel",
      "state": {}
     },
     "a89973c484ff4535ad761be708043db2": {
      "model_module": "@jupyter-widgets/controls",
      "model_module_version": "1.5.0",
      "model_name": "HTMLModel",
      "state": {
       "layout": "IPY_MODEL_35591a18f80847178e455597db73358f",
       "style": "IPY_MODEL_d9585eda964847d8962a70ab8d18be84",
       "value": "<h4 style=\"font-size:14px;\">Welche Operation folgt als nächstes?</h4>"
      }
     },
     "a8a17c2815e14e1abefe8bfede0054f6": {
      "model_module": "@jupyter-widgets/controls",
      "model_module_version": "1.5.0",
      "model_name": "ButtonStyleModel",
      "state": {
       "button_color": "lightgreen"
      }
     },
     "a8b30d6bd83f44faa97b3db090c5b202": {
      "model_module": "@jupyter-widgets/controls",
      "model_module_version": "1.5.0",
      "model_name": "ButtonStyleModel",
      "state": {}
     },
     "a8dadc5e8c74438a8335187044a659e7": {
      "model_module": "@jupyter-widgets/base",
      "model_module_version": "1.2.0",
      "model_name": "LayoutModel",
      "state": {}
     },
     "a8f394a0b99f4c10a057c8d5393f42c8": {
      "model_module": "@jupyter-widgets/controls",
      "model_module_version": "1.5.0",
      "model_name": "HBoxModel",
      "state": {
       "children": [
        "IPY_MODEL_758ad5ec88b5421492a5f8b49f647c7c",
        "IPY_MODEL_2d919c0ee2cc446ea5ed0a48168617ee"
       ],
       "layout": "IPY_MODEL_701f9ef040e940cf853711c5d994436a"
      }
     },
     "a91753971b2b4137bbbdb8ebb6320cfc": {
      "model_module": "@jupyter-widgets/base",
      "model_module_version": "1.2.0",
      "model_name": "LayoutModel",
      "state": {
       "width": "250px"
      }
     },
     "a92dc6938c534d438bf40ee6b03abb63": {
      "model_module": "@jupyter-widgets/controls",
      "model_module_version": "1.5.0",
      "model_name": "VBoxModel",
      "state": {
       "children": [
        "IPY_MODEL_07bb6fc0e68d47ffab38e0f6500f26ee",
        "IPY_MODEL_d4624340e2f14f5fa7d598e18d5daa4b",
        "IPY_MODEL_f979634b494a4d138f34eeb51540fcde",
        "IPY_MODEL_10efe42361f94a50bba403b3d491fb50",
        "IPY_MODEL_8787d793fc8c4ed983c434558639336f"
       ],
       "layout": "IPY_MODEL_83d1b313544e4430b00b1d3b67b37d8a"
      }
     },
     "a935d573dd6644b894b1f9e94307a10c": {
      "model_module": "@jupyter-widgets/base",
      "model_module_version": "1.2.0",
      "model_name": "LayoutModel",
      "state": {}
     },
     "a9376e8dc1e247ff9009653dcf5258d9": {
      "model_module": "@jupyter-widgets/base",
      "model_module_version": "1.2.0",
      "model_name": "LayoutModel",
      "state": {}
     },
     "a96470deb7504addb6e6bbfaa3c665c0": {
      "model_module": "@jupyter-widgets/base",
      "model_module_version": "1.2.0",
      "model_name": "LayoutModel",
      "state": {
       "width": "250px"
      }
     },
     "a9aa2e66aef84967a19a6da368608113": {
      "model_module": "@jupyter-widgets/controls",
      "model_module_version": "1.5.0",
      "model_name": "ButtonStyleModel",
      "state": {}
     },
     "a9d68edd3b974c329561fc9b5c673ab4": {
      "model_module": "@jupyter-widgets/base",
      "model_module_version": "1.2.0",
      "model_name": "LayoutModel",
      "state": {
       "width": "250px"
      }
     },
     "a9dc576f80ec483094acd49460e77ab6": {
      "model_module": "@jupyter-widgets/controls",
      "model_module_version": "1.5.0",
      "model_name": "HTMLModel",
      "state": {
       "layout": "IPY_MODEL_2485c743cb1643b8a5b5e7421a4b947d",
       "style": "IPY_MODEL_16cbcddbb6db4deb9f839b703d4c86a0",
       "value": "<h4 style=\"font-size:14px;\">Um welchen Parser handelt es sich?</h4>"
      }
     },
     "aa8ba656dc594ea5a28406d42abfdc39": {
      "model_module": "@jupyter-widgets/base",
      "model_module_version": "1.2.0",
      "model_name": "LayoutModel",
      "state": {
       "width": "250px"
      }
     },
     "aab6676569684ced947e501bb0fd0a52": {
      "model_module": "@jupyter-widgets/controls",
      "model_module_version": "1.5.0",
      "model_name": "DescriptionStyleModel",
      "state": {
       "description_width": "initial"
      }
     },
     "aab95b882e7143a3873560f104c31ab2": {
      "model_module": "@jupyter-widgets/base",
      "model_module_version": "1.2.0",
      "model_name": "LayoutModel",
      "state": {
       "justify_content": "center"
      }
     },
     "aac53a34d0694e668230888c898178e6": {
      "model_module": "@jupyter-widgets/controls",
      "model_module_version": "1.5.0",
      "model_name": "VBoxModel",
      "state": {
       "children": [
        "IPY_MODEL_e7062c27a6d5482eab914d8cb6db2b88",
        "IPY_MODEL_8ea55c7f2f5641f4ac3b06e4b28f8515",
        "IPY_MODEL_5120dec049254f7ca7347018c28e9be5",
        "IPY_MODEL_646a6317b54b4b6c944cf02d7b216af6"
       ],
       "layout": "IPY_MODEL_4ca4423e9804430ab508bbedd89c4cfe"
      }
     },
     "ab208dd620cc4c4abd27e63502e6f40d": {
      "model_module": "@jupyter-widgets/controls",
      "model_module_version": "1.5.0",
      "model_name": "ButtonModel",
      "state": {
       "description": "Predict",
       "layout": "IPY_MODEL_906a9bab64d94365b218a70247ae9f10",
       "style": "IPY_MODEL_1a95d9a26c2343fb8cc22f9409d631f6"
      }
     },
     "ab2a6599aa8a49eba10fbffd60f95ed0": {
      "model_module": "@jupyter-widgets/base",
      "model_module_version": "1.2.0",
      "model_name": "LayoutModel",
      "state": {
       "width": "250px"
      }
     },
     "ab3e8ba31fa94596993fb54ab2387f9c": {
      "model_module": "@jupyter-widgets/controls",
      "model_module_version": "1.5.0",
      "model_name": "DescriptionStyleModel",
      "state": {
       "description_width": ""
      }
     },
     "ab4fa29208384fef922e9318b123606f": {
      "model_module": "@jupyter-widgets/controls",
      "model_module_version": "1.5.0",
      "model_name": "HTMLModel",
      "state": {
       "layout": "IPY_MODEL_8b16ff79a657446f9703599469c089ad",
       "style": "IPY_MODEL_d48c3486a7de4982a9fab4e84c5ecbca",
       "value": "<i>Wählen Sie die <ins>eine</ins> korrekte Antwort aus: </i>"
      }
     },
     "ab572c0cf69e4e1e98ecff6a9d6ad009": {
      "model_module": "@jupyter-widgets/controls",
      "model_module_version": "1.5.0",
      "model_name": "ButtonModel",
      "state": {
       "description": "Shift",
       "layout": "IPY_MODEL_70f2dcb3010b445a90be57c34b0eeabd",
       "style": "IPY_MODEL_0548b27c53f04467ba4a40f69f7b6efe"
      }
     },
     "ab7aa0798aba4e00a92c360473edfedd": {
      "model_module": "@jupyter-widgets/controls",
      "model_module_version": "1.5.0",
      "model_name": "HBoxModel",
      "state": {
       "children": [
        "IPY_MODEL_0544ab4181fd406bbe89d66eae9b9366",
        "IPY_MODEL_453cc3adccf5490ab218094918b41129"
       ],
       "layout": "IPY_MODEL_77e36d0f8ddf473587231935dab15683"
      }
     },
     "ab8f2d3e6cdf426bb914644e4288071b": {
      "model_module": "@jupyter-widgets/base",
      "model_module_version": "1.2.0",
      "model_name": "LayoutModel",
      "state": {}
     },
     "ab927d8b7dda41d5ab0bb5aaa3630e37": {
      "model_module": "@jupyter-widgets/controls",
      "model_module_version": "1.5.0",
      "model_name": "HTMLModel",
      "state": {
       "layout": "IPY_MODEL_13cea67195c3470dad9a19456751dbd1",
       "style": "IPY_MODEL_256fb845f88f4ada888a0b4bfa09307c",
       "value": "<h4 style=\"font-size:14px;\">Welche Operation folgt als nächstes?</h4>"
      }
     },
     "aba37e682e0741fe9f1541e4f637b6e7": {
      "model_module": "@jupyter-widgets/controls",
      "model_module_version": "1.5.0",
      "model_name": "HBoxModel",
      "state": {
       "children": [
        "IPY_MODEL_dd49d96975fe49d4bc5fc678d4c6fb03",
        "IPY_MODEL_86c34ab391e044de9b632d51cb2b97a8"
       ],
       "layout": "IPY_MODEL_99343421b4fa40d49d6438f25c217426"
      }
     },
     "abd95d6b415e485b90de8968676206d8": {
      "model_module": "@jupyter-widgets/controls",
      "model_module_version": "1.5.0",
      "model_name": "ButtonModel",
      "state": {
       "description": "Shift Reduce",
       "layout": "IPY_MODEL_5d1a5c36c732463aadc39bef280b8cb9",
       "style": "IPY_MODEL_928a60f7004b4b8a8c6131f16c5fa367"
      }
     },
     "abe01a9e0c9b44e798dd9207ff535c91": {
      "model_module": "@jupyter-widgets/base",
      "model_module_version": "1.2.0",
      "model_name": "LayoutModel",
      "state": {
       "justify_content": "center"
      }
     },
     "abe0231c17544b46b2f4e54f410f2cce": {
      "model_module": "@jupyter-widgets/controls",
      "model_module_version": "1.5.0",
      "model_name": "HBoxModel",
      "state": {
       "children": [
        "IPY_MODEL_ca556cdfc4fa458fb5a26ac5e246b9f7",
        "IPY_MODEL_45cbd3792a6f4bab9a0b90e3ff758769"
       ],
       "layout": "IPY_MODEL_4682edf44ccc4018a533748785e51f67"
      }
     },
     "ac4d36a19e534364ba0860d8e5ec4d28": {
      "model_module": "@jupyter-widgets/controls",
      "model_module_version": "1.5.0",
      "model_name": "DescriptionStyleModel",
      "state": {
       "description_width": "initial"
      }
     },
     "ac4fb6f3706f44bda59c2dad1d7252b7": {
      "model_module": "@jupyter-widgets/base",
      "model_module_version": "1.2.0",
      "model_name": "LayoutModel",
      "state": {
       "width": "250px"
      }
     },
     "ac524e473b0f441b9b0ccdf944ba4972": {
      "model_module": "@jupyter-widgets/base",
      "model_module_version": "1.2.0",
      "model_name": "LayoutModel",
      "state": {
       "width": "250px"
      }
     },
     "ac56447b99f84be59db4b6efc7bd9198": {
      "model_module": "@jupyter-widgets/controls",
      "model_module_version": "1.5.0",
      "model_name": "HTMLModel",
      "state": {
       "layout": "IPY_MODEL_1cd4a21170254e2a878a56833f41968a",
       "style": "IPY_MODEL_32ad4215ccaf43aca867effde3bc7157",
       "value": "<h4 style=\"font-size:14px;\">Welche Operation folgt als nächstes?</h4>"
      }
     },
     "ac7a6e188aa34d328dc959804073b4b6": {
      "model_module": "@jupyter-widgets/controls",
      "model_module_version": "1.5.0",
      "model_name": "ButtonStyleModel",
      "state": {}
     },
     "ac822b7028ce47c7bb43d35b4116a729": {
      "model_module": "@jupyter-widgets/controls",
      "model_module_version": "1.5.0",
      "model_name": "HBoxModel",
      "state": {
       "children": [
        "IPY_MODEL_9dda85aa5f5847658a4b9e267031f50f",
        "IPY_MODEL_90ea4a0a0f134f4ca96bcb02ba33c44d"
       ],
       "layout": "IPY_MODEL_51a8de1042854da2a0332326988d8411"
      }
     },
     "ac88c033adf8478db300902b15cf8998": {
      "model_module": "@jupyter-widgets/controls",
      "model_module_version": "1.5.0",
      "model_name": "ButtonStyleModel",
      "state": {}
     },
     "ac8e132ad369489192c8e6c77be02eb3": {
      "model_module": "@jupyter-widgets/controls",
      "model_module_version": "1.5.0",
      "model_name": "DescriptionStyleModel",
      "state": {
       "description_width": "initial"
      }
     },
     "acfb44cc91b64cfa977ce790dcf5ff7d": {
      "model_module": "@jupyter-widgets/controls",
      "model_module_version": "1.5.0",
      "model_name": "ButtonModel",
      "state": {
       "description": "Recusive Descent",
       "layout": "IPY_MODEL_2c3c1391583f47fc8449e87077e68b98",
       "style": "IPY_MODEL_56c82376bc7246aaabbea17f8369b1cd"
      }
     },
     "ad1301f27d944070be6567163421da0b": {
      "model_module": "@jupyter-widgets/controls",
      "model_module_version": "1.5.0",
      "model_name": "ButtonModel",
      "state": {
       "description": "Reduce",
       "layout": "IPY_MODEL_ebacfb74bd844e4c8eaaada900f4f6df",
       "style": "IPY_MODEL_232b7d803247489593f22c88cd653aac"
      }
     },
     "ad306a1166a94cf98dd43db27cbaf6ae": {
      "model_module": "@jupyter-widgets/base",
      "model_module_version": "1.2.0",
      "model_name": "LayoutModel",
      "state": {
       "width": "600px"
      }
     },
     "ad5650b0ffaf460a8eb10f322a91b568": {
      "model_module": "@jupyter-widgets/base",
      "model_module_version": "1.2.0",
      "model_name": "LayoutModel",
      "state": {}
     },
     "ad76dd44c7e84ed49dee259116bc995c": {
      "model_module": "@jupyter-widgets/controls",
      "model_module_version": "1.5.0",
      "model_name": "HBoxModel",
      "state": {
       "children": [
        "IPY_MODEL_b3c707c1251744c89adfa09ec9dfa162"
       ],
       "layout": "IPY_MODEL_4dac5f9a54a84d8390391e0298e62eb1"
      }
     },
     "ae4990f8298046888b5a65bc75b432e3": {
      "model_module": "@jupyter-widgets/base",
      "model_module_version": "1.2.0",
      "model_name": "LayoutModel",
      "state": {
       "width": "250px"
      }
     },
     "ae607c8bb542474798079836042d1131": {
      "model_module": "@jupyter-widgets/controls",
      "model_module_version": "1.5.0",
      "model_name": "DescriptionStyleModel",
      "state": {
       "description_width": ""
      }
     },
     "ae63a8d749ef44599252ec27b0940074": {
      "model_module": "@jupyter-widgets/controls",
      "model_module_version": "1.5.0",
      "model_name": "CheckboxModel",
      "state": {
       "description": "Reduce",
       "disabled": false,
       "layout": "IPY_MODEL_710f762a279b48068791332d22ef12be",
       "style": "IPY_MODEL_0a48ac165faa403fa4cae25b09ce1956",
       "value": false
      }
     },
     "ae8f7a0c66804b6282fc886c3a7bb5cf": {
      "model_module": "@jupyter-widgets/controls",
      "model_module_version": "1.5.0",
      "model_name": "ButtonStyleModel",
      "state": {}
     },
     "ae9a2dce1c3e45bdafa92342d955a148": {
      "model_module": "@jupyter-widgets/controls",
      "model_module_version": "1.5.0",
      "model_name": "ButtonStyleModel",
      "state": {}
     },
     "ae9cdc7dd61444d9ab4be5a9af496c05": {
      "model_module": "@jupyter-widgets/controls",
      "model_module_version": "1.5.0",
      "model_name": "ButtonStyleModel",
      "state": {}
     },
     "aeba904cbfc6452783a7eba19352ef59": {
      "model_module": "@jupyter-widgets/controls",
      "model_module_version": "1.5.0",
      "model_name": "DescriptionStyleModel",
      "state": {
       "description_width": ""
      }
     },
     "aed46a3762d8481285cc830f2ad86d79": {
      "model_module": "@jupyter-widgets/controls",
      "model_module_version": "1.5.0",
      "model_name": "ButtonModel",
      "state": {
       "description": "Reduce",
       "layout": "IPY_MODEL_f11fecda7d81429aafb9b9a0771af2e7",
       "style": "IPY_MODEL_a287849fcf554b7ea07b041dbd8fe500"
      }
     },
     "aef30b23b82b4d9c9b6f49c5bb6b5ff6": {
      "model_module": "@jupyter-widgets/controls",
      "model_module_version": "1.5.0",
      "model_name": "HBoxModel",
      "state": {
       "children": [
        "IPY_MODEL_2b17120774794e0eaab17f809b1c580b",
        "IPY_MODEL_1c886070f5674611b45edc4e1465849c"
       ],
       "layout": "IPY_MODEL_1092de54526649cebcb2865189f4520d"
      }
     },
     "aeffcb543be04fcc8d8d817c63b9eeaf": {
      "model_module": "@jupyter-widgets/base",
      "model_module_version": "1.2.0",
      "model_name": "LayoutModel",
      "state": {}
     },
     "af0984beac674915bba27238d1de42bf": {
      "model_module": "@jupyter-widgets/controls",
      "model_module_version": "1.5.0",
      "model_name": "ButtonModel",
      "state": {
       "description": "Shift",
       "layout": "IPY_MODEL_27a87ddc54f841778d3d6cf236ecb420",
       "style": "IPY_MODEL_82bc8b28d65b45a0baf930f2d132dac3"
      }
     },
     "af2e51788354405ca20c3d95b9572d1c": {
      "model_module": "@jupyter-widgets/controls",
      "model_module_version": "1.5.0",
      "model_name": "CheckboxModel",
      "state": {
       "description": "Scan",
       "disabled": false,
       "layout": "IPY_MODEL_6fea0159917e4e9c8f4f3e28b284cc60",
       "style": "IPY_MODEL_1cf5218e0827468991753c7dcdbf23f3",
       "value": true
      }
     },
     "af3024b566cd439f922c4cb5edfac0e2": {
      "model_module": "@jupyter-widgets/controls",
      "model_module_version": "1.5.0",
      "model_name": "ButtonModel",
      "state": {
       "description": "Reduce",
       "layout": "IPY_MODEL_be87dbc28faf49b990d60288c4e94033",
       "style": "IPY_MODEL_3f75b86771a345d08e73a545c1c0b043"
      }
     },
     "af7adb1e17624fb5bca1110fcd15dddb": {
      "model_module": "@jupyter-widgets/base",
      "model_module_version": "1.2.0",
      "model_name": "LayoutModel",
      "state": {}
     },
     "afb30ea09782449f8fbb89792e343653": {
      "model_module": "@jupyter-widgets/controls",
      "model_module_version": "1.5.0",
      "model_name": "ButtonModel",
      "state": {
       "description": "Complete",
       "layout": "IPY_MODEL_44c43a3b12394d81b9b8cb496498e741",
       "style": "IPY_MODEL_78a4eaafa04b4ea5b160c6e5f9bbbeac"
      }
     },
     "afc9c59e57b14562b53349a54e98b4c5": {
      "model_module": "@jupyter-widgets/base",
      "model_module_version": "1.2.0",
      "model_name": "LayoutModel",
      "state": {
       "width": "250px"
      }
     },
     "afefc134bc054505ab196b5da2095010": {
      "model_module": "@jupyter-widgets/base",
      "model_module_version": "1.2.0",
      "model_name": "LayoutModel",
      "state": {}
     },
     "affafc924a554df89c25e7d522616682": {
      "model_module": "@jupyter-widgets/controls",
      "model_module_version": "1.5.0",
      "model_name": "ButtonModel",
      "state": {
       "description": "Shift",
       "layout": "IPY_MODEL_95ffcf30aba7417dad87cf9c0638cce3",
       "style": "IPY_MODEL_747b5831e95b4b46a9fb181f425e5832"
      }
     },
     "b027758eefc14d93a0f10978b47863fd": {
      "model_module": "@jupyter-widgets/controls",
      "model_module_version": "1.5.0",
      "model_name": "ButtonStyleModel",
      "state": {}
     },
     "b08de230a4724e059de76f662e5e0253": {
      "model_module": "@jupyter-widgets/base",
      "model_module_version": "1.2.0",
      "model_name": "LayoutModel",
      "state": {}
     },
     "b0a8af37bbe948499fc09b31004dc5ca": {
      "model_module": "@jupyter-widgets/base",
      "model_module_version": "1.2.0",
      "model_name": "LayoutModel",
      "state": {
       "width": "600px"
      }
     },
     "b0b08e5cf937465cbc9bb6bc34e44136": {
      "model_module": "@jupyter-widgets/base",
      "model_module_version": "1.2.0",
      "model_name": "LayoutModel",
      "state": {}
     },
     "b0dff703c6864b9aa8474f6887814380": {
      "model_module": "@jupyter-widgets/base",
      "model_module_version": "1.2.0",
      "model_name": "LayoutModel",
      "state": {
       "justify_content": "center"
      }
     },
     "b0e72f50a74b4727a2362dd435d7742e": {
      "model_module": "@jupyter-widgets/controls",
      "model_module_version": "1.5.0",
      "model_name": "HBoxModel",
      "state": {
       "children": [
        "IPY_MODEL_a0c2bc8f067b4307bf9731c8aadc4301",
        "IPY_MODEL_7489ccb8d10f40938a24d41c2388403e"
       ],
       "layout": "IPY_MODEL_819500e9c89b4b5fb8746413b13d1729"
      }
     },
     "b145271d43884ee2ba938e8213b1f3c0": {
      "model_module": "@jupyter-widgets/controls",
      "model_module_version": "1.5.0",
      "model_name": "HBoxModel",
      "state": {
       "children": [
        "IPY_MODEL_6b4182db58cb4918863171a07dd80861",
        "IPY_MODEL_7de5bf4247294a8baf4a97e761bd8d6f"
       ],
       "layout": "IPY_MODEL_b08de230a4724e059de76f662e5e0253"
      }
     },
     "b156ea084497422d95834c1b9401a3bf": {
      "model_module": "@jupyter-widgets/controls",
      "model_module_version": "1.5.0",
      "model_name": "HTMLModel",
      "state": {
       "layout": "IPY_MODEL_c494b7e4661e44d797cb5001a7601957",
       "style": "IPY_MODEL_27bbaedf9f02427f835d3e3a43bd5e4e",
       "value": "<i>Markieren Sie <ins>alle</ins> passenden Antworten: </i>"
      }
     },
     "b164c46d100f41f4876a9ffacd8778ce": {
      "model_module": "@jupyter-widgets/base",
      "model_module_version": "1.2.0",
      "model_name": "LayoutModel",
      "state": {
       "width": "600px"
      }
     },
     "b1758e48399c4010bf2f5ed09f893462": {
      "model_module": "@jupyter-widgets/controls",
      "model_module_version": "1.5.0",
      "model_name": "HBoxModel",
      "state": {
       "children": [
        "IPY_MODEL_8b18eeb88291476db9905ea15a602345",
        "IPY_MODEL_e62d8d6a440a4ff1a61378b6a23ba760"
       ],
       "layout": "IPY_MODEL_10df1ee91dd348b38897012a85762beb"
      }
     },
     "b1957af6964f4d79b3d102f66d7972c5": {
      "model_module": "@jupyter-widgets/base",
      "model_module_version": "1.2.0",
      "model_name": "LayoutModel",
      "state": {}
     },
     "b1bcbbe8038749b1804b5dbb01648dfd": {
      "model_module": "@jupyter-widgets/controls",
      "model_module_version": "1.5.0",
      "model_name": "ButtonModel",
      "state": {
       "description": "Shift Reduce",
       "layout": "IPY_MODEL_24d3d70dece54e828815334a99fc2144",
       "style": "IPY_MODEL_9216030b5e5e47daa39aae2f184b4165"
      }
     },
     "b1e908a400ed4137ae5b5d6e83e904ca": {
      "model_module": "@jupyter-widgets/controls",
      "model_module_version": "1.5.0",
      "model_name": "HTMLModel",
      "state": {
       "layout": "IPY_MODEL_19e9a5220471424f8a12c6353612600c",
       "style": "IPY_MODEL_78a9d2294e2c423db4b02f3d690b7918",
       "value": "<h4 style=\"font-size:14px;\">Um welchen Parser handelt es sich?</h4>"
      }
     },
     "b200a9c301d74aa789d2ebe9210a5f29": {
      "model_module": "@jupyter-widgets/controls",
      "model_module_version": "1.5.0",
      "model_name": "ButtonModel",
      "state": {
       "description": "Complete",
       "layout": "IPY_MODEL_527e9fdb15b340138fa8b89329307847",
       "style": "IPY_MODEL_6e35c211d97d49109fce3c82b4992aee"
      }
     },
     "b20f0be48663467b8dc9c340b3085c91": {
      "model_module": "@jupyter-widgets/controls",
      "model_module_version": "1.5.0",
      "model_name": "ButtonStyleModel",
      "state": {}
     },
     "b22b2b6af5444c2ea70c1ae8b67c5e68": {
      "model_module": "@jupyter-widgets/controls",
      "model_module_version": "1.5.0",
      "model_name": "DescriptionStyleModel",
      "state": {
       "description_width": ""
      }
     },
     "b231623e0b9b42ccbf94635da9b727dc": {
      "model_module": "@jupyter-widgets/base",
      "model_module_version": "1.2.0",
      "model_name": "LayoutModel",
      "state": {}
     },
     "b2ea61da197c45b3ae561450975e884c": {
      "model_module": "@jupyter-widgets/controls",
      "model_module_version": "1.5.0",
      "model_name": "ButtonStyleModel",
      "state": {}
     },
     "b2fbd3701e144bffa00d9a287a9532f2": {
      "model_module": "@jupyter-widgets/base",
      "model_module_version": "1.2.0",
      "model_name": "LayoutModel",
      "state": {
       "width": "250px"
      }
     },
     "b329912aaf4e4a99b3fc8a3da1fcf5a0": {
      "model_module": "@jupyter-widgets/base",
      "model_module_version": "1.2.0",
      "model_name": "LayoutModel",
      "state": {}
     },
     "b35543383c104849bf65eaa1be92f967": {
      "model_module": "@jupyter-widgets/controls",
      "model_module_version": "1.5.0",
      "model_name": "ButtonStyleModel",
      "state": {}
     },
     "b3767b75ef9c409998d4a4f73e7e2664": {
      "model_module": "@jupyter-widgets/base",
      "model_module_version": "1.2.0",
      "model_name": "LayoutModel",
      "state": {
       "justify_content": "center"
      }
     },
     "b3c707c1251744c89adfa09ec9dfa162": {
      "model_module": "@jupyter-widgets/controls",
      "model_module_version": "1.5.0",
      "model_name": "ButtonModel",
      "state": {
       "description": "Shift",
       "layout": "IPY_MODEL_3466235e24a24daf8428ce4f376ff1d7",
       "style": "IPY_MODEL_31e9da1da8ed4320b466259ddcdac04a"
      }
     },
     "b3eaf7932e854b48bfa2ebbae302d9ed": {
      "model_module": "@jupyter-widgets/controls",
      "model_module_version": "1.5.0",
      "model_name": "VBoxModel",
      "state": {
       "children": [
        "IPY_MODEL_82839f93e7b34e599655451d4a91b20d",
        "IPY_MODEL_05ac8413f0fe4d5cbb5392bd8ca67b77",
        "IPY_MODEL_c3335ede082e4504af0489365d5d16a9",
        "IPY_MODEL_2b229bdcfb9a475ba2c8ba77701e6064"
       ],
       "layout": "IPY_MODEL_2f1e403f5e3f4e0e9f3d7b0410b13a0d"
      }
     },
     "b3ef56a6392c4bb4b460c8975b8f8041": {
      "model_module": "@jupyter-widgets/controls",
      "model_module_version": "1.5.0",
      "model_name": "HTMLModel",
      "state": {
       "layout": "IPY_MODEL_ce4d743c1bfe43efa7c272a27fcfafc2",
       "style": "IPY_MODEL_8469c892db9e42ec952c8cf560d215b2",
       "value": "<h4 style=\"font-size:14px;\">Welche Operation folgt als nächstes?</h4>"
      }
     },
     "b405bc56831c478692ebed4b356b0043": {
      "model_module": "@jupyter-widgets/controls",
      "model_module_version": "1.5.0",
      "model_name": "DescriptionStyleModel",
      "state": {
       "description_width": ""
      }
     },
     "b41e2337359e49e5b01ef0d922a17a90": {
      "model_module": "@jupyter-widgets/base",
      "model_module_version": "1.2.0",
      "model_name": "LayoutModel",
      "state": {}
     },
     "b428207389e54550b59a2f91e936e512": {
      "model_module": "@jupyter-widgets/controls",
      "model_module_version": "1.5.0",
      "model_name": "VBoxModel",
      "state": {
       "children": [
        "IPY_MODEL_0547f12347334f2d8cfc77fd93043939",
        "IPY_MODEL_e663cca03e5547288d3ab6cd95b9e6ec",
        "IPY_MODEL_0ab609ea6ef24a38af79e539754134a1",
        "IPY_MODEL_b84400c999554d3dbae8ed838061843a"
       ],
       "layout": "IPY_MODEL_2ad19202ac4748b7b9532f3afce0e3f7"
      }
     },
     "b432a74735654965863ee73290aa71a1": {
      "model_module": "@jupyter-widgets/base",
      "model_module_version": "1.2.0",
      "model_name": "LayoutModel",
      "state": {}
     },
     "b44c18dfc6384c8a8bceca1aef1d92ca": {
      "model_module": "@jupyter-widgets/controls",
      "model_module_version": "1.5.0",
      "model_name": "ButtonStyleModel",
      "state": {}
     },
     "b46fd3fe3e49493a8a104d95ba09bcc6": {
      "model_module": "@jupyter-widgets/controls",
      "model_module_version": "1.5.0",
      "model_name": "ButtonModel",
      "state": {
       "description": "Reduce",
       "layout": "IPY_MODEL_90cc47f15ae5403595cd7bdfdf8f9027",
       "style": "IPY_MODEL_0d40d129807745dbad773237652cf0f0"
      }
     },
     "b48165fb26b34b7ea46e90e377ac5a96": {
      "model_module": "@jupyter-widgets/controls",
      "model_module_version": "1.5.0",
      "model_name": "ButtonStyleModel",
      "state": {}
     },
     "b4a6a5a97ab14c6e8d78e7718bbb1d54": {
      "model_module": "@jupyter-widgets/controls",
      "model_module_version": "1.5.0",
      "model_name": "HBoxModel",
      "state": {
       "children": [
        "IPY_MODEL_77dbc230cf2e4a4dbb6fa197be57838c",
        "IPY_MODEL_05219eb507e140ae8a1440bb99bee062"
       ],
       "layout": "IPY_MODEL_4601bbcb7e8d496d9655abeefa5b4ec0"
      }
     },
     "b4ad7523189e4d9e9afd6df05f439e6d": {
      "model_module": "@jupyter-widgets/controls",
      "model_module_version": "1.5.0",
      "model_name": "HBoxModel",
      "state": {
       "children": [
        "IPY_MODEL_dc010ed65982464ebd9e14d0f90b6ff1",
        "IPY_MODEL_96c739344cbc4b5f8909bdb121dbd40c"
       ],
       "layout": "IPY_MODEL_6287cbd59cdc4487af58a6d17d0ea7f6"
      }
     },
     "b4b81d5bcdc94e45924f89a79cf18571": {
      "model_module": "@jupyter-widgets/base",
      "model_module_version": "1.2.0",
      "model_name": "LayoutModel",
      "state": {
       "width": "600px"
      }
     },
     "b50db5bd68984e789d5c9a7cbe5d3fe9": {
      "model_module": "@jupyter-widgets/controls",
      "model_module_version": "1.5.0",
      "model_name": "ButtonStyleModel",
      "state": {}
     },
     "b5419d19c01d4ba0a988dd1ef4904f22": {
      "model_module": "@jupyter-widgets/base",
      "model_module_version": "1.2.0",
      "model_name": "LayoutModel",
      "state": {
       "justify_content": "center"
      }
     },
     "b54e09df8026452799fd0a06ecd96b95": {
      "model_module": "@jupyter-widgets/controls",
      "model_module_version": "1.5.0",
      "model_name": "HTMLModel",
      "state": {
       "layout": "IPY_MODEL_ce6fc230277142c89a5e428efc827e20",
       "style": "IPY_MODEL_fd5b8031066347d2a7934c86fea02ce5",
       "value": "<i>Wählen Sie die <ins>eine</ins> korrekte Antwort aus: </i>"
      }
     },
     "b573886da1c448279650fc99795e2cb7": {
      "model_module": "@jupyter-widgets/controls",
      "model_module_version": "1.5.0",
      "model_name": "VBoxModel",
      "state": {
       "children": [
        "IPY_MODEL_53f23cbc9b594362b63f26ed39984285",
        "IPY_MODEL_3a2a62f151e243d183e0a202bf484ea3",
        "IPY_MODEL_838d82240f5a4f2eb9ca9ebf4b01714f",
        "IPY_MODEL_52b88f7c4ec44adc9b192f2e6b1a3b12",
        "IPY_MODEL_341397a20ec5499689ec41187c8cd169"
       ],
       "layout": "IPY_MODEL_b41e2337359e49e5b01ef0d922a17a90"
      }
     },
     "b581b1705ff7422dab639f269b577ec2": {
      "model_module": "@jupyter-widgets/controls",
      "model_module_version": "1.5.0",
      "model_name": "ButtonModel",
      "state": {
       "description": "Earley",
       "layout": "IPY_MODEL_04d86de2999845af98cc64f5575dc544",
       "style": "IPY_MODEL_1e3820e69f9b4113a6496ca7d60a51ee"
      }
     },
     "b587989543844b949b68ea093340e6c2": {
      "model_module": "@jupyter-widgets/base",
      "model_module_version": "1.2.0",
      "model_name": "LayoutModel",
      "state": {
       "width": "250px"
      }
     },
     "b593db63a3134319832303759df33b9b": {
      "model_module": "@jupyter-widgets/controls",
      "model_module_version": "1.5.0",
      "model_name": "HBoxModel",
      "state": {
       "children": [
        "IPY_MODEL_c7a4c10a6c1e4621ba892d5dee333003",
        "IPY_MODEL_ad1301f27d944070be6567163421da0b"
       ],
       "layout": "IPY_MODEL_5b886c45237748f1bce61af37ee0db79"
      }
     },
     "b595a8f9b7984be3a9cfc824dd6e3d7c": {
      "model_module": "@jupyter-widgets/base",
      "model_module_version": "1.2.0",
      "model_name": "LayoutModel",
      "state": {
       "width": "250px"
      }
     },
     "b5c6ddeeabf147c381bcfe454c7ebcad": {
      "model_module": "@jupyter-widgets/controls",
      "model_module_version": "1.5.0",
      "model_name": "ButtonModel",
      "state": {
       "description": "Complete",
       "layout": "IPY_MODEL_d726e334eda5454b8530fe1389fbf9a6",
       "style": "IPY_MODEL_365a382f833247fab297b75abd37245a"
      }
     },
     "b5c72e1397004d8f90771a7ea7a5792b": {
      "model_module": "@jupyter-widgets/controls",
      "model_module_version": "1.5.0",
      "model_name": "ButtonStyleModel",
      "state": {
       "button_color": "lightgreen"
      }
     },
     "b5d941d9cbd04df5bf18ed0965bf1c70": {
      "model_module": "@jupyter-widgets/controls",
      "model_module_version": "1.5.0",
      "model_name": "ButtonModel",
      "state": {
       "description": "Shift",
       "layout": "IPY_MODEL_c498fef81d4940e2aced7b5da407edf2",
       "style": "IPY_MODEL_da16f91f6faf49da81ef150f42d81a3f"
      }
     },
     "b6035766694a41f1aa838aec6737e0dd": {
      "model_module": "@jupyter-widgets/controls",
      "model_module_version": "1.5.0",
      "model_name": "ButtonStyleModel",
      "state": {}
     },
     "b64ac8920d8f40b6802829b9f47de053": {
      "model_module": "@jupyter-widgets/base",
      "model_module_version": "1.2.0",
      "model_name": "LayoutModel",
      "state": {
       "width": "250px"
      }
     },
     "b66ad7a8a4ad4aa895482c63a9ab5172": {
      "model_module": "@jupyter-widgets/controls",
      "model_module_version": "1.5.0",
      "model_name": "DescriptionStyleModel",
      "state": {
       "description_width": ""
      }
     },
     "b66c052f83744ed6af1d7616cb6fe768": {
      "model_module": "@jupyter-widgets/base",
      "model_module_version": "1.2.0",
      "model_name": "LayoutModel",
      "state": {}
     },
     "b679fc3920114bceb42d348a673f755a": {
      "model_module": "@jupyter-widgets/controls",
      "model_module_version": "1.5.0",
      "model_name": "ButtonModel",
      "state": {
       "description": "Shift Reduce",
       "layout": "IPY_MODEL_a91753971b2b4137bbbdb8ebb6320cfc",
       "style": "IPY_MODEL_931770f357824546b6e0bb058fa04e92"
      }
     },
     "b692bdd750854397b7134e8bfc32244d": {
      "model_module": "@jupyter-widgets/controls",
      "model_module_version": "1.5.0",
      "model_name": "ButtonStyleModel",
      "state": {}
     },
     "b6bfd5763df44956a84c434f9a716c34": {
      "model_module": "@jupyter-widgets/controls",
      "model_module_version": "1.5.0",
      "model_name": "ButtonStyleModel",
      "state": {
       "button_color": "lightgreen"
      }
     },
     "b6d87d54b22a4372a0a78f6079d7ba1b": {
      "model_module": "@jupyter-widgets/controls",
      "model_module_version": "1.5.0",
      "model_name": "DescriptionStyleModel",
      "state": {
       "description_width": ""
      }
     },
     "b6dadcdb09f64599bd901e0a64e4bb81": {
      "model_module": "@jupyter-widgets/controls",
      "model_module_version": "1.5.0",
      "model_name": "ButtonStyleModel",
      "state": {
       "button_color": "lightgreen"
      }
     },
     "b6e92764f7bc47de9089d88eb23434c2": {
      "model_module": "@jupyter-widgets/base",
      "model_module_version": "1.2.0",
      "model_name": "LayoutModel",
      "state": {
       "width": "600px"
      }
     },
     "b70b707b93964291b9ce3739a6e52c9c": {
      "model_module": "@jupyter-widgets/base",
      "model_module_version": "1.2.0",
      "model_name": "LayoutModel",
      "state": {
       "justify_content": "center"
      }
     },
     "b7108ea320b6411299cba9287724f112": {
      "model_module": "@jupyter-widgets/controls",
      "model_module_version": "1.5.0",
      "model_name": "ButtonStyleModel",
      "state": {}
     },
     "b7739eb4a090420da5ef9cddad1d5cf0": {
      "model_module": "@jupyter-widgets/controls",
      "model_module_version": "1.5.0",
      "model_name": "HTMLModel",
      "state": {
       "layout": "IPY_MODEL_d51001913fa64759b4db31a55ce96325",
       "style": "IPY_MODEL_e934c44e892a48f2992423dfa346c73e",
       "value": "<h4 style=\"font-size:14px;\">Welche Operation folgt als nächstes?</h4>"
      }
     },
     "b79fa99457be4122996a1675adacbeca": {
      "model_module": "@jupyter-widgets/controls",
      "model_module_version": "1.5.0",
      "model_name": "ButtonModel",
      "state": {
       "description": "Scan",
       "layout": "IPY_MODEL_c10f2f8396fd4b6daf36a328e831dcd3",
       "style": "IPY_MODEL_b7108ea320b6411299cba9287724f112"
      }
     },
     "b7e6e789fb9548beab01ddfe021fc2a4": {
      "model_module": "@jupyter-widgets/base",
      "model_module_version": "1.2.0",
      "model_name": "LayoutModel",
      "state": {}
     },
     "b8096401a579412f930e93520c59156a": {
      "model_module": "@jupyter-widgets/controls",
      "model_module_version": "1.5.0",
      "model_name": "DescriptionStyleModel",
      "state": {
       "description_width": ""
      }
     },
     "b81b949d16b34eda9d94d03ed81c7700": {
      "model_module": "@jupyter-widgets/base",
      "model_module_version": "1.2.0",
      "model_name": "LayoutModel",
      "state": {
       "width": "250px"
      }
     },
     "b84400c999554d3dbae8ed838061843a": {
      "model_module": "@jupyter-widgets/controls",
      "model_module_version": "1.5.0",
      "model_name": "HBoxModel",
      "state": {
       "children": [
        "IPY_MODEL_01f24fe1908a4eee851af07783275c67"
       ],
       "layout": "IPY_MODEL_fbc443ccca9b4169844636ed9700b0ad"
      }
     },
     "b86aebb66eff44ccaa58231c40d50349": {
      "model_module": "@jupyter-widgets/base",
      "model_module_version": "1.2.0",
      "model_name": "LayoutModel",
      "state": {
       "width": "250px"
      }
     },
     "b8c49a80e2744bf9bc11147f3639eab4": {
      "model_module": "@jupyter-widgets/controls",
      "model_module_version": "1.5.0",
      "model_name": "ButtonStyleModel",
      "state": {}
     },
     "b8dfb6d30992471fa259991ba98b426d": {
      "model_module": "@jupyter-widgets/controls",
      "model_module_version": "1.5.0",
      "model_name": "ButtonStyleModel",
      "state": {}
     },
     "b9605fdb92a74144bb3a3634eb33252a": {
      "model_module": "@jupyter-widgets/base",
      "model_module_version": "1.2.0",
      "model_name": "LayoutModel",
      "state": {
       "width": "250px"
      }
     },
     "b9a200b87935483bb795e594456a1685": {
      "model_module": "@jupyter-widgets/base",
      "model_module_version": "1.2.0",
      "model_name": "LayoutModel",
      "state": {
       "width": "250px"
      }
     },
     "b9da1d9668484912abde80cab6b9e099": {
      "model_module": "@jupyter-widgets/controls",
      "model_module_version": "1.5.0",
      "model_name": "VBoxModel",
      "state": {
       "children": [
        "IPY_MODEL_8c0982609f384e7eb91c2d3aa8e81e25",
        "IPY_MODEL_7353363562ec4de29f3f26848c05e847",
        "IPY_MODEL_72dcbc8b9d444893958111366cfa1f36",
        "IPY_MODEL_55232b6df6fb4040b7bf7c627d4c28b6",
        "IPY_MODEL_63212d36071449b7815d49b4fcfbf8b7"
       ],
       "layout": "IPY_MODEL_a573a4db81bb4a01a5539674ee926b86"
      }
     },
     "baa9cf7d5e864e5db9af4518c2d5cb3d": {
      "model_module": "@jupyter-widgets/base",
      "model_module_version": "1.2.0",
      "model_name": "LayoutModel",
      "state": {}
     },
     "bacca5a205e14321ac6461a18f6af5c8": {
      "model_module": "@jupyter-widgets/controls",
      "model_module_version": "1.5.0",
      "model_name": "ButtonModel",
      "state": {
       "description": "Complete",
       "layout": "IPY_MODEL_0700a7d8df164f48b959516d90b0eb1f",
       "style": "IPY_MODEL_d36fa8d3fad04a44b4e6d870c444f2c4"
      }
     },
     "baf73156147a4211885dd22ae3be202b": {
      "model_module": "@jupyter-widgets/controls",
      "model_module_version": "1.5.0",
      "model_name": "HBoxModel",
      "state": {
       "children": [
        "IPY_MODEL_c8c8f05aafe14b5e9b0fcb68270158c8",
        "IPY_MODEL_ec12655b79764828b0020e78f5af8ffc"
       ],
       "layout": "IPY_MODEL_3cd2ec72a65640d3a3e9707d0734918d"
      }
     },
     "bb0f950bf5084b16aca62008be0edcc8": {
      "model_module": "@jupyter-widgets/base",
      "model_module_version": "1.2.0",
      "model_name": "LayoutModel",
      "state": {
       "width": "250px"
      }
     },
     "bb61264bbaf74de2a840b9a80bb88d70": {
      "model_module": "@jupyter-widgets/controls",
      "model_module_version": "1.5.0",
      "model_name": "HBoxModel",
      "state": {
       "children": [
        "IPY_MODEL_8a2a95185d974720b31a520b23b35ed8",
        "IPY_MODEL_d8100f0213464957bd57a57b1f5e0b0d"
       ],
       "layout": "IPY_MODEL_a4c0447a8da643208069a42fbb34ea31"
      }
     },
     "bb752a159a9e4aca9736657e88e1946b": {
      "model_module": "@jupyter-widgets/controls",
      "model_module_version": "1.5.0",
      "model_name": "HBoxModel",
      "state": {
       "children": [
        "IPY_MODEL_35a881aef81b4f2a8fbcd7549b034fe4"
       ],
       "layout": "IPY_MODEL_46419f5227eb490796847a7675b2b5c0"
      }
     },
     "bb8c57942c9447689a58838785993caa": {
      "model_module": "@jupyter-widgets/controls",
      "model_module_version": "1.5.0",
      "model_name": "HTMLModel",
      "state": {
       "layout": "IPY_MODEL_e2cdee2ab2bc444dbb29f153e1e868d8",
       "style": "IPY_MODEL_a15c4cb988f74562a04ac5e5e64cf54c",
       "value": "<i>Wählen Sie die <ins>eine</ins> korrekte Antwort aus: </i>"
      }
     },
     "bbb4dfaf33d145f2bba701669d1156a7": {
      "model_module": "@jupyter-widgets/base",
      "model_module_version": "1.2.0",
      "model_name": "LayoutModel",
      "state": {
       "width": "600px"
      }
     },
     "bbc7a7f47570498a966135944c9b1092": {
      "model_module": "@jupyter-widgets/controls",
      "model_module_version": "1.5.0",
      "model_name": "HTMLModel",
      "state": {
       "layout": "IPY_MODEL_4bf00c41f8304351a8be18d82abb8d1d",
       "style": "IPY_MODEL_de955d6d2ccb4a1385eb0533b27503c2",
       "value": "<i>Wählen Sie die <ins>eine</ins> korrekte Antwort aus: </i>"
      }
     },
     "bc2f83395a7142feb421f5839cef0e37": {
      "model_module": "@jupyter-widgets/controls",
      "model_module_version": "1.5.0",
      "model_name": "CheckboxModel",
      "state": {
       "description": "Complete",
       "disabled": false,
       "layout": "IPY_MODEL_657e4fecbe7248b1b16ebe94fb045724",
       "style": "IPY_MODEL_27d0c310717746efa634fce1808eb983",
       "value": false
      }
     },
     "bc458d10313047bb95b2d5ecfd3d5be8": {
      "model_module": "@jupyter-widgets/controls",
      "model_module_version": "1.5.0",
      "model_name": "ButtonModel",
      "state": {
       "description": "Shift Reduce",
       "layout": "IPY_MODEL_4a6ed8ba6e5a43318c3be2a5c873caea",
       "style": "IPY_MODEL_a03cfbe6c2084c46b31a91c9978ae124"
      }
     },
     "bc6cd3974be84059acd82f7af829b7e0": {
      "model_module": "@jupyter-widgets/controls",
      "model_module_version": "1.5.0",
      "model_name": "ButtonStyleModel",
      "state": {}
     },
     "bc8274ce0e39408686acafddbd8a1142": {
      "model_module": "@jupyter-widgets/base",
      "model_module_version": "1.2.0",
      "model_name": "LayoutModel",
      "state": {
       "width": "250px"
      }
     },
     "bcfea01a41124be0bf2c2d38141005bc": {
      "model_module": "@jupyter-widgets/controls",
      "model_module_version": "1.5.0",
      "model_name": "ButtonModel",
      "state": {
       "description": "Shift",
       "layout": "IPY_MODEL_f8ddf5bed19d4137867a6951c51b56af",
       "style": "IPY_MODEL_c98299264bd446059aaa06c4bd79cb59"
      }
     },
     "bd1bd3501894445080790fbce077059a": {
      "model_module": "@jupyter-widgets/controls",
      "model_module_version": "1.5.0",
      "model_name": "ButtonStyleModel",
      "state": {
       "button_color": "lightgreen"
      }
     },
     "bd2689f8f5e4457d942c9581fca0421e": {
      "model_module": "@jupyter-widgets/controls",
      "model_module_version": "1.5.0",
      "model_name": "HTMLModel",
      "state": {
       "layout": "IPY_MODEL_065c63706f4e4dfca198e811a00b0a20",
       "style": "IPY_MODEL_2c3720090f0749b582f38f6e09b1f32c",
       "value": "<h4 style=\"font-size:14px;\">Welche Operation folgt als nächstes?</h4>"
      }
     },
     "bd56d3bf78a94c5e8e2de8ac9e0dc7d1": {
      "model_module": "@jupyter-widgets/base",
      "model_module_version": "1.2.0",
      "model_name": "LayoutModel",
      "state": {
       "width": "250px"
      }
     },
     "bdb137f8000946febe2c1c1574a76675": {
      "model_module": "@jupyter-widgets/base",
      "model_module_version": "1.2.0",
      "model_name": "LayoutModel",
      "state": {
       "width": "250px"
      }
     },
     "be400e12a5e7428b87ee297b80fa2727": {
      "model_module": "@jupyter-widgets/controls",
      "model_module_version": "1.5.0",
      "model_name": "ButtonStyleModel",
      "state": {}
     },
     "be42d1fc0ccb48d48bcbfba9ca8743af": {
      "model_module": "@jupyter-widgets/base",
      "model_module_version": "1.2.0",
      "model_name": "LayoutModel",
      "state": {}
     },
     "be5e37abe1f04a90a5ce07164e907566": {
      "model_module": "@jupyter-widgets/controls",
      "model_module_version": "1.5.0",
      "model_name": "ButtonModel",
      "state": {
       "description": "Reduce",
       "layout": "IPY_MODEL_a87492caaf0847ab9e3afe90ec98fb66",
       "style": "IPY_MODEL_7b3059af11c44bdf9099528c13ff985c"
      }
     },
     "be84c57fef9f4af89a8cf09e73122e51": {
      "model_module": "@jupyter-widgets/controls",
      "model_module_version": "1.5.0",
      "model_name": "HBoxModel",
      "state": {
       "children": [
        "IPY_MODEL_da3b8a5d31534311bb2051d867e208ff"
       ],
       "layout": "IPY_MODEL_0e135386d0df464696bd8ec420463b0e"
      }
     },
     "be87dbc28faf49b990d60288c4e94033": {
      "model_module": "@jupyter-widgets/base",
      "model_module_version": "1.2.0",
      "model_name": "LayoutModel",
      "state": {
       "width": "250px"
      }
     },
     "befe8224af0d43feb353eac09437220c": {
      "model_module": "@jupyter-widgets/controls",
      "model_module_version": "1.5.0",
      "model_name": "HTMLModel",
      "state": {
       "layout": "IPY_MODEL_a5746d40d3ab411aa476d3a2e73e10e6",
       "style": "IPY_MODEL_df5f5f1968b1468eae739dd5f0e67a52",
       "value": "<i>Wählen Sie die <ins>eine</ins> korrekte Antwort aus: </i>"
      }
     },
     "bf1eb27ce5344520bf764e99bacb8f8c": {
      "model_module": "@jupyter-widgets/controls",
      "model_module_version": "1.5.0",
      "model_name": "HTMLModel",
      "state": {
       "layout": "IPY_MODEL_2d80349c609f426b8520ecf62b793c41",
       "style": "IPY_MODEL_40a61126e7fd4e4ba9acf09f6aea22b1",
       "value": "<h4 style=\"font-size:14px;\">Welche Operation folgt als nächstes?</h4>"
      }
     },
     "bf6d936a52824d58a5c2fa413a5a6293": {
      "model_module": "@jupyter-widgets/controls",
      "model_module_version": "1.5.0",
      "model_name": "ButtonStyleModel",
      "state": {}
     },
     "bf80afd1c9d847c793fc33171d903006": {
      "model_module": "@jupyter-widgets/controls",
      "model_module_version": "1.5.0",
      "model_name": "DescriptionStyleModel",
      "state": {
       "description_width": ""
      }
     },
     "bf931518529c44a8b13ef5e8759201cd": {
      "model_module": "@jupyter-widgets/base",
      "model_module_version": "1.2.0",
      "model_name": "LayoutModel",
      "state": {}
     },
     "bfa39c509d1b4a35afbf6f876c25f856": {
      "model_module": "@jupyter-widgets/controls",
      "model_module_version": "1.5.0",
      "model_name": "HBoxModel",
      "state": {
       "children": [
        "IPY_MODEL_f8691f870c474a788479362039740a65",
        "IPY_MODEL_b46fd3fe3e49493a8a104d95ba09bcc6"
       ],
       "layout": "IPY_MODEL_5a2e18cb8bc24f08a7487f1f82325b24"
      }
     },
     "bfcd1d80ccbb480da7d0dda3de9f0ab2": {
      "model_module": "@jupyter-widgets/controls",
      "model_module_version": "1.5.0",
      "model_name": "HTMLModel",
      "state": {
       "layout": "IPY_MODEL_782fab54e9c84afcb405f2f73047d2a4",
       "style": "IPY_MODEL_440ba8b2684942c0a6b3536dcccbebc7",
       "value": "<i>Wählen Sie die <ins>eine</ins> korrekte Antwort aus: </i>"
      }
     },
     "bfd4b563d29e484abb350f9fef520e29": {
      "model_module": "@jupyter-widgets/base",
      "model_module_version": "1.2.0",
      "model_name": "LayoutModel",
      "state": {
       "justify_content": "center"
      }
     },
     "c01b3d6b9827413eb70de799f4e51261": {
      "model_module": "@jupyter-widgets/controls",
      "model_module_version": "1.5.0",
      "model_name": "ButtonStyleModel",
      "state": {}
     },
     "c01f3d6ab473476ea7248fc12e5cc96f": {
      "model_module": "@jupyter-widgets/base",
      "model_module_version": "1.2.0",
      "model_name": "LayoutModel",
      "state": {
       "width": "250px"
      }
     },
     "c0449cec717f452c99cd2e1710718ec5": {
      "model_module": "@jupyter-widgets/base",
      "model_module_version": "1.2.0",
      "model_name": "LayoutModel",
      "state": {}
     },
     "c048d3b56fcf41ba8bd85ce1b36376cd": {
      "model_module": "@jupyter-widgets/controls",
      "model_module_version": "1.5.0",
      "model_name": "ButtonStyleModel",
      "state": {
       "button_color": "lightgreen"
      }
     },
     "c086a986b27d46f983b630a263923240": {
      "model_module": "@jupyter-widgets/base",
      "model_module_version": "1.2.0",
      "model_name": "LayoutModel",
      "state": {}
     },
     "c0aabfd01f8c4f84a5ea476fa93f732c": {
      "model_module": "@jupyter-widgets/controls",
      "model_module_version": "1.5.0",
      "model_name": "ButtonStyleModel",
      "state": {}
     },
     "c0cd9185c58146acac29bf0f5d1eb297": {
      "model_module": "@jupyter-widgets/base",
      "model_module_version": "1.2.0",
      "model_name": "LayoutModel",
      "state": {}
     },
     "c0d04f71b5d24e1ba67c090cd20ac733": {
      "model_module": "@jupyter-widgets/base",
      "model_module_version": "1.2.0",
      "model_name": "LayoutModel",
      "state": {}
     },
     "c0eae8dc2e864d98b37a55fe3a6db3e4": {
      "model_module": "@jupyter-widgets/base",
      "model_module_version": "1.2.0",
      "model_name": "LayoutModel",
      "state": {
       "width": "600px"
      }
     },
     "c10f2f8396fd4b6daf36a328e831dcd3": {
      "model_module": "@jupyter-widgets/base",
      "model_module_version": "1.2.0",
      "model_name": "LayoutModel",
      "state": {
       "width": "250px"
      }
     },
     "c123cc41f52541d6ba3bf002aaea91e2": {
      "model_module": "@jupyter-widgets/controls",
      "model_module_version": "1.5.0",
      "model_name": "HBoxModel",
      "state": {
       "children": [
        "IPY_MODEL_027f56fa1cfc410c86363fdb0b1b7f4a",
        "IPY_MODEL_6639fcb90e2c4139b07d6be7f657d502"
       ],
       "layout": "IPY_MODEL_65ee6c26bc904e529b61f68d42950163"
      }
     },
     "c1372dc53523445c9dbd0fab523e452d": {
      "model_module": "@jupyter-widgets/base",
      "model_module_version": "1.2.0",
      "model_name": "LayoutModel",
      "state": {
       "width": "250px"
      }
     },
     "c1386ef6ab784dc0adc8506f993b7bc0": {
      "model_module": "@jupyter-widgets/controls",
      "model_module_version": "1.5.0",
      "model_name": "ButtonStyleModel",
      "state": {}
     },
     "c157dbf7c9cf45cf8f16f5780d29cb6a": {
      "model_module": "@jupyter-widgets/base",
      "model_module_version": "1.2.0",
      "model_name": "LayoutModel",
      "state": {}
     },
     "c158fbced638470fa6acdb221293a7bd": {
      "model_module": "@jupyter-widgets/controls",
      "model_module_version": "1.5.0",
      "model_name": "HTMLModel",
      "state": {
       "layout": "IPY_MODEL_f2b96e5ddaeb47e79b5a092b843f2d36",
       "style": "IPY_MODEL_7fba09f3c1f540968b4e8c4e06c50be5",
       "value": "<h4 style=\"font-size:14px;\">Welche Operation folgt als nächstes?</h4>"
      }
     },
     "c15c2d285cee439cb90f1d7025237f46": {
      "model_module": "@jupyter-widgets/controls",
      "model_module_version": "1.5.0",
      "model_name": "HBoxModel",
      "state": {
       "children": [
        "IPY_MODEL_491cf2155e274f8f8c9109893d45f4c4",
        "IPY_MODEL_cdf9df1b760c4435b9226e8da5377909"
       ],
       "layout": "IPY_MODEL_ddab9f139e5c4ebca1745be71813e3c7"
      }
     },
     "c16cd7cc86934397aad10bc09c2526a1": {
      "model_module": "@jupyter-widgets/controls",
      "model_module_version": "1.5.0",
      "model_name": "ButtonModel",
      "state": {
       "description": "Reduce",
       "layout": "IPY_MODEL_94e6695faa994484ac07861de7373343",
       "style": "IPY_MODEL_1dbc5f9789574779bcc2b7533119cda5"
      }
     },
     "c18dd93089064399acc38c765271f45f": {
      "model_module": "@jupyter-widgets/controls",
      "model_module_version": "1.5.0",
      "model_name": "ButtonModel",
      "state": {
       "description": "Reduce",
       "layout": "IPY_MODEL_cee57df01de0446fb01a00dd46d4c33a",
       "style": "IPY_MODEL_720d5ab7ddfb44ae82af1b423d4d5bbc"
      }
     },
     "c1a8a1b81e2d4c5ab5b260077eb2e238": {
      "model_module": "@jupyter-widgets/base",
      "model_module_version": "1.2.0",
      "model_name": "LayoutModel",
      "state": {}
     },
     "c1ac211376f3493fb95b60610ca67c1a": {
      "model_module": "@jupyter-widgets/controls",
      "model_module_version": "1.5.0",
      "model_name": "DescriptionStyleModel",
      "state": {
       "description_width": ""
      }
     },
     "c1b7f688b7754249ab03fcb3d33c246b": {
      "model_module": "@jupyter-widgets/controls",
      "model_module_version": "1.5.0",
      "model_name": "CheckboxModel",
      "state": {
       "description": "Complete",
       "disabled": false,
       "layout": "IPY_MODEL_1285ba14bbad4c5fafc6fb7a4ae886e1",
       "style": "IPY_MODEL_9c9266248ad743fdaca53ace03531a0b",
       "value": false
      }
     },
     "c1e180ba47284abab48d086493a3ae27": {
      "model_module": "@jupyter-widgets/controls",
      "model_module_version": "1.5.0",
      "model_name": "ButtonStyleModel",
      "state": {}
     },
     "c1e259a6d1144fc6a4cb2f9f5ce143b2": {
      "model_module": "@jupyter-widgets/base",
      "model_module_version": "1.2.0",
      "model_name": "LayoutModel",
      "state": {
       "justify_content": "center"
      }
     },
     "c24bc73e26db414ebe77921e62854ec9": {
      "model_module": "@jupyter-widgets/controls",
      "model_module_version": "1.5.0",
      "model_name": "ButtonModel",
      "state": {
       "description": "Scan",
       "layout": "IPY_MODEL_c6b3e325dc194051b215fe69e42bee52",
       "style": "IPY_MODEL_64805f1c1c3c412e81267343fe1e3d95"
      }
     },
     "c282358484b1436294d57dcc192d4e92": {
      "model_module": "@jupyter-widgets/base",
      "model_module_version": "1.2.0",
      "model_name": "LayoutModel",
      "state": {
       "justify_content": "center"
      }
     },
     "c2a2b251426049518f91589914487c84": {
      "model_module": "@jupyter-widgets/base",
      "model_module_version": "1.2.0",
      "model_name": "LayoutModel",
      "state": {
       "width": "250px"
      }
     },
     "c2d34507db784e79a475cd905a09a556": {
      "model_module": "@jupyter-widgets/base",
      "model_module_version": "1.2.0",
      "model_name": "LayoutModel",
      "state": {
       "justify_content": "center"
      }
     },
     "c2f1ce72ef614e7982e857c4acfd4746": {
      "model_module": "@jupyter-widgets/controls",
      "model_module_version": "1.5.0",
      "model_name": "ButtonStyleModel",
      "state": {}
     },
     "c2ff1a6a6c2c48029130eb0a01fde6c5": {
      "model_module": "@jupyter-widgets/base",
      "model_module_version": "1.2.0",
      "model_name": "LayoutModel",
      "state": {
       "width": "250px"
      }
     },
     "c314e717045f4054b41fecc3d1108a0e": {
      "model_module": "@jupyter-widgets/controls",
      "model_module_version": "1.5.0",
      "model_name": "ButtonModel",
      "state": {
       "description": "Keine der Alternativen",
       "layout": "IPY_MODEL_f5f8e4f511fb4dd3ac4df3b983a07f49",
       "style": "IPY_MODEL_88b596a06277477a8ecd669faf144cc8"
      }
     },
     "c32e63ac6c824c7188258f2b4fcbe161": {
      "model_module": "@jupyter-widgets/controls",
      "model_module_version": "1.5.0",
      "model_name": "ButtonModel",
      "state": {
       "description": "Reduce",
       "layout": "IPY_MODEL_b9605fdb92a74144bb3a3634eb33252a",
       "style": "IPY_MODEL_2104f81b072048e1ab725637641f972a"
      }
     },
     "c3335ede082e4504af0489365d5d16a9": {
      "model_module": "@jupyter-widgets/controls",
      "model_module_version": "1.5.0",
      "model_name": "HBoxModel",
      "state": {
       "children": [
        "IPY_MODEL_e6a1ef622a474ab4a177f99b26c464ee",
        "IPY_MODEL_3139ffda7ebc4ff5a0c2b28151221bca"
       ],
       "layout": "IPY_MODEL_5f0214fb6ba34805ac553918932fb8fc"
      }
     },
     "c4146829867c44d7999d84e530ff5026": {
      "model_module": "@jupyter-widgets/controls",
      "model_module_version": "1.5.0",
      "model_name": "ButtonStyleModel",
      "state": {}
     },
     "c45802a923c941118190083f57af103c": {
      "model_module": "@jupyter-widgets/base",
      "model_module_version": "1.2.0",
      "model_name": "LayoutModel",
      "state": {}
     },
     "c4617a4f18364715bf296a31b9c69abc": {
      "model_module": "@jupyter-widgets/controls",
      "model_module_version": "1.5.0",
      "model_name": "VBoxModel",
      "state": {
       "children": [
        "IPY_MODEL_22ccab0ed9064463828d9f0a40c1d3d3",
        "IPY_MODEL_01b19f5b542a494b9fe49f6111571d18",
        "IPY_MODEL_a4648a80e70545569f923affe04df961",
        "IPY_MODEL_7d0f597dbc6d468f8af1e6fb9d8a6940",
        "IPY_MODEL_80f3f8b1416d4f619f503f8884281be4"
       ],
       "layout": "IPY_MODEL_0f44761a81184989a1c184cf63066a19"
      }
     },
     "c488c61404194deba1514919a7e70555": {
      "model_module": "@jupyter-widgets/controls",
      "model_module_version": "1.5.0",
      "model_name": "CheckboxModel",
      "state": {
       "description": "Scan",
       "disabled": false,
       "layout": "IPY_MODEL_22ec238fb2f64795a03d977c5db8c88b",
       "style": "IPY_MODEL_f0b9252a8ac94f28949dd5797fec1082",
       "value": false
      }
     },
     "c494b7e4661e44d797cb5001a7601957": {
      "model_module": "@jupyter-widgets/base",
      "model_module_version": "1.2.0",
      "model_name": "LayoutModel",
      "state": {
       "justify_content": "center"
      }
     },
     "c498fef81d4940e2aced7b5da407edf2": {
      "model_module": "@jupyter-widgets/base",
      "model_module_version": "1.2.0",
      "model_name": "LayoutModel",
      "state": {
       "width": "250px"
      }
     },
     "c4a0b9186f3643a8959d726a4c87e90c": {
      "model_module": "@jupyter-widgets/base",
      "model_module_version": "1.2.0",
      "model_name": "LayoutModel",
      "state": {
       "width": "250px"
      }
     },
     "c4aaf2a290914615a4cd1aee4160bb4a": {
      "model_module": "@jupyter-widgets/controls",
      "model_module_version": "1.5.0",
      "model_name": "DescriptionStyleModel",
      "state": {
       "description_width": ""
      }
     },
     "c4d9b080945a45e2b951ff1154d139b3": {
      "model_module": "@jupyter-widgets/controls",
      "model_module_version": "1.5.0",
      "model_name": "ButtonStyleModel",
      "state": {}
     },
     "c4fd008664e94b01b18dfca83d229781": {
      "model_module": "@jupyter-widgets/controls",
      "model_module_version": "1.5.0",
      "model_name": "DescriptionStyleModel",
      "state": {
       "description_width": "initial"
      }
     },
     "c52b7a89fbab4b87859772cc0e254ede": {
      "model_module": "@jupyter-widgets/base",
      "model_module_version": "1.2.0",
      "model_name": "LayoutModel",
      "state": {}
     },
     "c561c23c337c4955b3fc1b0addef3844": {
      "model_module": "@jupyter-widgets/controls",
      "model_module_version": "1.5.0",
      "model_name": "VBoxModel",
      "state": {
       "children": [
        "IPY_MODEL_3695c0bd1e964a9ab0e1b7c88a716e53",
        "IPY_MODEL_1abd2512b0d54f1c9b27bdad301b72bb",
        "IPY_MODEL_7294f90c06e647168e6ad07f899a59f9",
        "IPY_MODEL_fd100c3c6e3f4a8f8efea2f3c2f36468"
       ],
       "layout": "IPY_MODEL_b329912aaf4e4a99b3fc8a3da1fcf5a0"
      }
     },
     "c56fa58481a84326b14ebbbcdb97cb40": {
      "model_module": "@jupyter-widgets/controls",
      "model_module_version": "1.5.0",
      "model_name": "DescriptionStyleModel",
      "state": {
       "description_width": ""
      }
     },
     "c577def9ada2437581f73ce2b4765dd7": {
      "model_module": "@jupyter-widgets/controls",
      "model_module_version": "1.5.0",
      "model_name": "ButtonStyleModel",
      "state": {}
     },
     "c5e2d3e96d604014af6d9f337f767f22": {
      "model_module": "@jupyter-widgets/controls",
      "model_module_version": "1.5.0",
      "model_name": "DescriptionStyleModel",
      "state": {
       "description_width": ""
      }
     },
     "c5f0a3087fc1434eacf65e8b9ebab9a1": {
      "model_module": "@jupyter-widgets/controls",
      "model_module_version": "1.5.0",
      "model_name": "ButtonStyleModel",
      "state": {}
     },
     "c6350109b0e341adbd28c518e0724448": {
      "model_module": "@jupyter-widgets/base",
      "model_module_version": "1.2.0",
      "model_name": "LayoutModel",
      "state": {
       "width": "250px"
      }
     },
     "c64b4d94ad5b46f481f143547682bd14": {
      "model_module": "@jupyter-widgets/controls",
      "model_module_version": "1.5.0",
      "model_name": "DescriptionStyleModel",
      "state": {
       "description_width": ""
      }
     },
     "c68084a1d4094bc4ba7268cc46f5e74b": {
      "model_module": "@jupyter-widgets/base",
      "model_module_version": "1.2.0",
      "model_name": "LayoutModel",
      "state": {
       "width": "250px"
      }
     },
     "c6b3e325dc194051b215fe69e42bee52": {
      "model_module": "@jupyter-widgets/base",
      "model_module_version": "1.2.0",
      "model_name": "LayoutModel",
      "state": {
       "width": "250px"
      }
     },
     "c6ddd4f9de0d436c936d01e00c04b468": {
      "model_module": "@jupyter-widgets/controls",
      "model_module_version": "1.5.0",
      "model_name": "HBoxModel",
      "state": {
       "children": [
        "IPY_MODEL_ce09e64828be46f39407cddb93c1a931",
        "IPY_MODEL_083079dc019d4a668e2c0a87a8dc4396"
       ],
       "layout": "IPY_MODEL_ad5650b0ffaf460a8eb10f322a91b568"
      }
     },
     "c6e551f78a8746a38a94e89fdc81b397": {
      "model_module": "@jupyter-widgets/controls",
      "model_module_version": "1.5.0",
      "model_name": "ButtonModel",
      "state": {
       "description": "Recusive Descent",
       "layout": "IPY_MODEL_0d99d2deaf9c4c73b9b31fe443e62c05",
       "style": "IPY_MODEL_65c033f6327b4f8188d1b3ad8b6b1319"
      }
     },
     "c6e9392a4ebd4c1da2b43bb2a1f3297f": {
      "model_module": "@jupyter-widgets/controls",
      "model_module_version": "1.5.0",
      "model_name": "HBoxModel",
      "state": {
       "children": [
        "IPY_MODEL_b5c6ddeeabf147c381bcfe454c7ebcad",
        "IPY_MODEL_c314e717045f4054b41fecc3d1108a0e"
       ],
       "layout": "IPY_MODEL_ecbbce5e50ac480e898573f8fedd8f59"
      }
     },
     "c6efd709298f40c1bdd8fb3e7d7a8394": {
      "model_module": "@jupyter-widgets/base",
      "model_module_version": "1.2.0",
      "model_name": "LayoutModel",
      "state": {
       "width": "600px"
      }
     },
     "c712401ef2114537aacf77f04b2d7f62": {
      "model_module": "@jupyter-widgets/base",
      "model_module_version": "1.2.0",
      "model_name": "LayoutModel",
      "state": {
       "width": "250px"
      }
     },
     "c738b2027883428e8b2831c897d5b169": {
      "model_module": "@jupyter-widgets/controls",
      "model_module_version": "1.5.0",
      "model_name": "CheckboxModel",
      "state": {
       "description": "Predict",
       "disabled": false,
       "layout": "IPY_MODEL_1b575f1acf5348e8ad23c4fc510edb6d",
       "style": "IPY_MODEL_0bfbdfd3dd4547e0b332771a95dd0065",
       "value": false
      }
     },
     "c73b007d52d2455392c9dfe7ac4eadbd": {
      "model_module": "@jupyter-widgets/base",
      "model_module_version": "1.2.0",
      "model_name": "LayoutModel",
      "state": {
       "width": "250px"
      }
     },
     "c751a88cca2e48d6ad0858a119ffb1c5": {
      "model_module": "@jupyter-widgets/controls",
      "model_module_version": "1.5.0",
      "model_name": "HTMLModel",
      "state": {
       "layout": "IPY_MODEL_e7059dc9fea644a094f66f50c9f89af4",
       "style": "IPY_MODEL_2f9634e053844cf5b04c96859ca0d197",
       "value": "<i>Wählen Sie die <ins>eine</ins> korrekte Antwort aus: </i>"
      }
     },
     "c7541f466dde4cd9a08bacf99d06a0cf": {
      "model_module": "@jupyter-widgets/controls",
      "model_module_version": "1.5.0",
      "model_name": "VBoxModel",
      "state": {
       "children": [
        "IPY_MODEL_5b0f1e9e88e141f78246f9045b43f6a1",
        "IPY_MODEL_9f60d9c25a8f48ec803d25dd8a500075",
        "IPY_MODEL_cfa131c02c7b48da9dd4ebcb28d3d450",
        "IPY_MODEL_0a7b8003476c4cbf9010dcf5e7cf09f3",
        "IPY_MODEL_4490b029e8954dd0988ef8149dfc7be5"
       ],
       "layout": "IPY_MODEL_f2303c7e9f1a40a89258f9e3f331de6b"
      }
     },
     "c75471720dbd470aa718110ed03ffa2e": {
      "model_module": "@jupyter-widgets/base",
      "model_module_version": "1.2.0",
      "model_name": "LayoutModel",
      "state": {}
     },
     "c796dcd1ed9342eea4e34fa44d9b1a39": {
      "model_module": "@jupyter-widgets/base",
      "model_module_version": "1.2.0",
      "model_name": "LayoutModel",
      "state": {
       "width": "250px"
      }
     },
     "c7a4c10a6c1e4621ba892d5dee333003": {
      "model_module": "@jupyter-widgets/controls",
      "model_module_version": "1.5.0",
      "model_name": "ButtonModel",
      "state": {
       "description": "Predict",
       "layout": "IPY_MODEL_6dcc0699bda64cc2b31d1a564c103ba9",
       "style": "IPY_MODEL_d09f15775a824b76ab42668a2777b661"
      }
     },
     "c7ada5cefe6b479baff1391b9e369288": {
      "model_module": "@jupyter-widgets/controls",
      "model_module_version": "1.5.0",
      "model_name": "VBoxModel",
      "state": {
       "children": [
        "IPY_MODEL_a9dc576f80ec483094acd49460e77ab6",
        "IPY_MODEL_3d074cbd85f5475f8ec3a7471bd9ffcf",
        "IPY_MODEL_2a4dc81c6db1441d9c00321bc55af4e9",
        "IPY_MODEL_935f60ab27254480a7fc4a6cf35d3fe5"
       ],
       "layout": "IPY_MODEL_af7adb1e17624fb5bca1110fcd15dddb"
      }
     },
     "c7cfc7bc5a4142dcb6ce99d3c4e8a091": {
      "model_module": "@jupyter-widgets/base",
      "model_module_version": "1.2.0",
      "model_name": "LayoutModel",
      "state": {
       "width": "250px"
      }
     },
     "c7da505ac21f45a48ec021512b13591f": {
      "model_module": "@jupyter-widgets/base",
      "model_module_version": "1.2.0",
      "model_name": "LayoutModel",
      "state": {
       "width": "250px"
      }
     },
     "c801555dca7c42bca4cb2553b86f1423": {
      "model_module": "@jupyter-widgets/base",
      "model_module_version": "1.2.0",
      "model_name": "LayoutModel",
      "state": {}
     },
     "c80bc544b8aa4d5f96b281b0ad140867": {
      "model_module": "@jupyter-widgets/base",
      "model_module_version": "1.2.0",
      "model_name": "LayoutModel",
      "state": {}
     },
     "c821445b37324491b1089ba363a12ce0": {
      "model_module": "@jupyter-widgets/base",
      "model_module_version": "1.2.0",
      "model_name": "LayoutModel",
      "state": {}
     },
     "c82b808d7cf14a19bc80e049aa7267f9": {
      "model_module": "@jupyter-widgets/base",
      "model_module_version": "1.2.0",
      "model_name": "LayoutModel",
      "state": {}
     },
     "c83338b52dcf4fc49e2e43becc1c732f": {
      "model_module": "@jupyter-widgets/controls",
      "model_module_version": "1.5.0",
      "model_name": "DescriptionStyleModel",
      "state": {
       "description_width": ""
      }
     },
     "c8679f04cc0c4a9b9a88961d663b78ed": {
      "model_module": "@jupyter-widgets/base",
      "model_module_version": "1.2.0",
      "model_name": "LayoutModel",
      "state": {
       "width": "250px"
      }
     },
     "c871d1cf1c8743f6927ae49e74f4cfa0": {
      "model_module": "@jupyter-widgets/base",
      "model_module_version": "1.2.0",
      "model_name": "LayoutModel",
      "state": {}
     },
     "c8a337ddf2694ecfb87688c6c5e8c2b4": {
      "model_module": "@jupyter-widgets/controls",
      "model_module_version": "1.5.0",
      "model_name": "ButtonStyleModel",
      "state": {}
     },
     "c8b850bc39314efaa01ec4245bbda497": {
      "model_module": "@jupyter-widgets/controls",
      "model_module_version": "1.5.0",
      "model_name": "ButtonModel",
      "state": {
       "description": "Shift",
       "layout": "IPY_MODEL_7f183d0883ea4921b6011c8587bcf57e",
       "style": "IPY_MODEL_ac88c033adf8478db300902b15cf8998"
      }
     },
     "c8c4609366464334bc085b138fa86007": {
      "model_module": "@jupyter-widgets/controls",
      "model_module_version": "1.5.0",
      "model_name": "HBoxModel",
      "state": {
       "children": [
        "IPY_MODEL_2afaca63b15549cc97d96f77e2ecaf2e",
        "IPY_MODEL_034463479fcb4440be65400a2a3c0199"
       ],
       "layout": "IPY_MODEL_5076693a77d04e4b8d9a4868bae314ba"
      }
     },
     "c8c8f05aafe14b5e9b0fcb68270158c8": {
      "model_module": "@jupyter-widgets/controls",
      "model_module_version": "1.5.0",
      "model_name": "ButtonModel",
      "state": {
       "description": "Complete",
       "layout": "IPY_MODEL_422ab47b70044db6a7359cc63b578daa",
       "style": "IPY_MODEL_84bf65e9559941ec98a399122f182984"
      }
     },
     "c8da2883228845299d06203027150982": {
      "model_module": "@jupyter-widgets/controls",
      "model_module_version": "1.5.0",
      "model_name": "DescriptionStyleModel",
      "state": {
       "description_width": ""
      }
     },
     "c90ee34c8eaa494497c7e944e75e3f4c": {
      "model_module": "@jupyter-widgets/controls",
      "model_module_version": "1.5.0",
      "model_name": "VBoxModel",
      "state": {
       "children": [
        "IPY_MODEL_cd79224d7e054620882f45b4b4b59dd5",
        "IPY_MODEL_0c18124f980b44efb0e7d3b9232d65eb",
        "IPY_MODEL_7a1a754400934cc7ae5d06e5214a88c0",
        "IPY_MODEL_206d5faf495e4aa389b735735e8b516f"
       ],
       "layout": "IPY_MODEL_6cc3c63a440e44ebac175b109e1a25f5"
      }
     },
     "c94cc345cba348e4a9071f3ed9e51e0d": {
      "model_module": "@jupyter-widgets/controls",
      "model_module_version": "1.5.0",
      "model_name": "HTMLModel",
      "state": {
       "layout": "IPY_MODEL_da94a8e4288b47fea807d440b7e2b0d1",
       "style": "IPY_MODEL_f5bb31fdc92a4182908745dc4d25a882",
       "value": "<h4 style=\"font-size:14px;\">Um welchen Parser handelt es sich?</h4>"
      }
     },
     "c957a93d83b74fb39d4f888271ac4c17": {
      "model_module": "@jupyter-widgets/controls",
      "model_module_version": "1.5.0",
      "model_name": "DescriptionStyleModel",
      "state": {
       "description_width": ""
      }
     },
     "c95ca3a761394f23b5e730176ccefd3e": {
      "model_module": "@jupyter-widgets/controls",
      "model_module_version": "1.5.0",
      "model_name": "HBoxModel",
      "state": {
       "children": [
        "IPY_MODEL_e41b751e91414a6c86416a2dc956e98c",
        "IPY_MODEL_622d4ebb502344868f5ab3cc585c342f"
       ],
       "layout": "IPY_MODEL_4a8bbbf4ae384914ad090938f74447a2"
      }
     },
     "c98299264bd446059aaa06c4bd79cb59": {
      "model_module": "@jupyter-widgets/controls",
      "model_module_version": "1.5.0",
      "model_name": "ButtonStyleModel",
      "state": {}
     },
     "ca2e2331f232497a8fec077f97d5ce44": {
      "model_module": "@jupyter-widgets/controls",
      "model_module_version": "1.5.0",
      "model_name": "DescriptionStyleModel",
      "state": {
       "description_width": ""
      }
     },
     "ca30ac1526c34e68bac04806c9618464": {
      "model_module": "@jupyter-widgets/controls",
      "model_module_version": "1.5.0",
      "model_name": "CheckboxModel",
      "state": {
       "description": "Predict",
       "disabled": false,
       "layout": "IPY_MODEL_294dd41273234e96ae96973a8a47665c",
       "style": "IPY_MODEL_a80052a7e51a4881ab5b12458f33037b",
       "value": false
      }
     },
     "ca556cdfc4fa458fb5a26ac5e246b9f7": {
      "model_module": "@jupyter-widgets/controls",
      "model_module_version": "1.5.0",
      "model_name": "ButtonModel",
      "state": {
       "description": "Reduce",
       "layout": "IPY_MODEL_f179bbc33ae54a4cbda23993f27ecc36",
       "style": "IPY_MODEL_44ffbccfb436441a858999bf2639e1a2"
      }
     },
     "ca9c80b6633b47a69ad11edcc71d9dea": {
      "model_module": "@jupyter-widgets/base",
      "model_module_version": "1.2.0",
      "model_name": "LayoutModel",
      "state": {
       "width": "250px"
      }
     },
     "cad4ac1341364cc69c90d8f0f7b6594c": {
      "model_module": "@jupyter-widgets/controls",
      "model_module_version": "1.5.0",
      "model_name": "HTMLModel",
      "state": {
       "layout": "IPY_MODEL_447949eae8114bc18a86b2754e580906",
       "style": "IPY_MODEL_3ce83d05eff14ee3a318f38e6e5f5e7b",
       "value": "<i>Wählen Sie die <ins>eine</ins> korrekte Antwort aus: </i>"
      }
     },
     "cada124924124e2ab35170d6fe89e44f": {
      "model_module": "@jupyter-widgets/base",
      "model_module_version": "1.2.0",
      "model_name": "LayoutModel",
      "state": {
       "width": "250px"
      }
     },
     "caea34a58f6d4adc80e0a28e941a327b": {
      "model_module": "@jupyter-widgets/base",
      "model_module_version": "1.2.0",
      "model_name": "LayoutModel",
      "state": {}
     },
     "cb37cfb93d854f4392c129098aa88fa4": {
      "model_module": "@jupyter-widgets/controls",
      "model_module_version": "1.5.0",
      "model_name": "ButtonModel",
      "state": {
       "description": "Predict",
       "layout": "IPY_MODEL_a38634c60c9a4b6aa42c9b00e807f400",
       "style": "IPY_MODEL_4ea03b40591240c3b38abe74b9066dce"
      }
     },
     "cb69dd015e384e74924243f410e3f88d": {
      "model_module": "@jupyter-widgets/controls",
      "model_module_version": "1.5.0",
      "model_name": "HTMLModel",
      "state": {
       "layout": "IPY_MODEL_e09c0406aa6043c596dd7b48b61f9119",
       "style": "IPY_MODEL_8b09f1b3b1994d2685e76865b520fd68",
       "value": "<h4 style=\"font-size:14px;\">Welche Operation folgt als nächstes?</h4>"
      }
     },
     "cbf596a8c669402c8f360486ac5ed78c": {
      "model_module": "@jupyter-widgets/controls",
      "model_module_version": "1.5.0",
      "model_name": "VBoxModel",
      "state": {
       "children": [
        "IPY_MODEL_60fb66480908479a91cd29142429b841",
        "IPY_MODEL_0fa97099deb64d97b826a55b2ec0c4dc",
        "IPY_MODEL_88f1e24cf08843ae8a57c53cf6d65787",
        "IPY_MODEL_5109b56ab473454b82ee2283258b127a"
       ],
       "layout": "IPY_MODEL_ef8866c431b84d9281e86ecd61037caa"
      }
     },
     "cc0e3d7ef7374710891eb31dcf83492a": {
      "model_module": "@jupyter-widgets/controls",
      "model_module_version": "1.5.0",
      "model_name": "ButtonModel",
      "state": {
       "description": "Scan",
       "layout": "IPY_MODEL_ddcb4cf520524f088504086a581d96ad",
       "style": "IPY_MODEL_4d926446b65844ddb91113a52dbd6171"
      }
     },
     "cc35acb3e78341ff93bca6d3a190f3a6": {
      "model_module": "@jupyter-widgets/controls",
      "model_module_version": "1.5.0",
      "model_name": "ButtonModel",
      "state": {
       "description": "Complete",
       "layout": "IPY_MODEL_55154884bdc1403aa33846ef521103e2",
       "style": "IPY_MODEL_c577def9ada2437581f73ce2b4765dd7"
      }
     },
     "cc6f588654c44b56b8fdb9eb61d47bc5": {
      "model_module": "@jupyter-widgets/controls",
      "model_module_version": "1.5.0",
      "model_name": "ButtonModel",
      "state": {
       "description": "Earley",
       "layout": "IPY_MODEL_a3aca2fe03804c948d00ff1f63204e8d",
       "style": "IPY_MODEL_30ccbe55d4d64714bcd2b6820fc76d0a"
      }
     },
     "cc7347d193ca4156b77619513f65b1c7": {
      "model_module": "@jupyter-widgets/controls",
      "model_module_version": "1.5.0",
      "model_name": "ButtonStyleModel",
      "state": {}
     },
     "cc897902c461417b9b26f0ae9df1fc77": {
      "model_module": "@jupyter-widgets/controls",
      "model_module_version": "1.5.0",
      "model_name": "ButtonModel",
      "state": {
       "description": "Complete",
       "layout": "IPY_MODEL_bb0f950bf5084b16aca62008be0edcc8",
       "style": "IPY_MODEL_121868b4411b47d29a613c6b710b6798"
      }
     },
     "cc8aa1b79b304558b09a9499c1813605": {
      "model_module": "@jupyter-widgets/base",
      "model_module_version": "1.2.0",
      "model_name": "LayoutModel",
      "state": {
       "justify_content": "center"
      }
     },
     "ccf12375bb424f109625538fc65cc06b": {
      "model_module": "@jupyter-widgets/base",
      "model_module_version": "1.2.0",
      "model_name": "LayoutModel",
      "state": {
       "width": "250px"
      }
     },
     "ccf8784d98a4439099d1ab1d223369f7": {
      "model_module": "@jupyter-widgets/controls",
      "model_module_version": "1.5.0",
      "model_name": "HTMLModel",
      "state": {
       "layout": "IPY_MODEL_52dd6b6eb00b41e5bc2f3cb4b474a34f",
       "style": "IPY_MODEL_35de2644961449f4b72b57d0e46aea0d",
       "value": "<i>Wählen Sie die <ins>eine</ins> korrekte Antwort aus: </i>"
      }
     },
     "ccfa8919227f4c6fb4d12a1e723262a5": {
      "model_module": "@jupyter-widgets/base",
      "model_module_version": "1.2.0",
      "model_name": "LayoutModel",
      "state": {}
     },
     "cd229d0299d445ec96b3f0ad8541b943": {
      "model_module": "@jupyter-widgets/base",
      "model_module_version": "1.2.0",
      "model_name": "LayoutModel",
      "state": {}
     },
     "cd31d00c396d4e858c19bc09a7b9bc4c": {
      "model_module": "@jupyter-widgets/base",
      "model_module_version": "1.2.0",
      "model_name": "LayoutModel",
      "state": {}
     },
     "cd33822c22d14fdaa714e6e87e677d29": {
      "model_module": "@jupyter-widgets/base",
      "model_module_version": "1.2.0",
      "model_name": "LayoutModel",
      "state": {}
     },
     "cd607d04a5014cff9dec1b23c2920d8b": {
      "model_module": "@jupyter-widgets/controls",
      "model_module_version": "1.5.0",
      "model_name": "HBoxModel",
      "state": {
       "children": [
        "IPY_MODEL_054adcabb355477b8b0ecfe934929300"
       ],
       "layout": "IPY_MODEL_83e62e73db1d4afa884cc11232e0f9b4"
      }
     },
     "cd79224d7e054620882f45b4b4b59dd5": {
      "model_module": "@jupyter-widgets/controls",
      "model_module_version": "1.5.0",
      "model_name": "HTMLModel",
      "state": {
       "layout": "IPY_MODEL_3f65c367cc304a9d998012ec2484a613",
       "style": "IPY_MODEL_23388ed8f9484f5e887ac7a26fcf74a4",
       "value": "<h4 style=\"font-size:14px;\">Um welchen Parser handelt es sich?</h4>"
      }
     },
     "cd7c2685d6cc49c29595653f170b63e6": {
      "model_module": "@jupyter-widgets/controls",
      "model_module_version": "1.5.0",
      "model_name": "ButtonModel",
      "state": {
       "description": "Keine der Alternativen",
       "layout": "IPY_MODEL_87eb96e2199b4ad69c2106cb240a1f28",
       "style": "IPY_MODEL_03749f0227f44bfd9869b96089bf286f"
      }
     },
     "cdb6f201ef55448c930525a44a90f59b": {
      "model_module": "@jupyter-widgets/base",
      "model_module_version": "1.2.0",
      "model_name": "LayoutModel",
      "state": {}
     },
     "cde4de8ce26f4078bd016579ad03cb69": {
      "model_module": "@jupyter-widgets/base",
      "model_module_version": "1.2.0",
      "model_name": "LayoutModel",
      "state": {
       "width": "250px"
      }
     },
     "cdec5f0d8f2c4b57b541b4ca790146b8": {
      "model_module": "@jupyter-widgets/base",
      "model_module_version": "1.2.0",
      "model_name": "LayoutModel",
      "state": {
       "width": "250px"
      }
     },
     "cdf63774abb940b58746c8095b4ff1a8": {
      "model_module": "@jupyter-widgets/base",
      "model_module_version": "1.2.0",
      "model_name": "LayoutModel",
      "state": {
       "width": "250px"
      }
     },
     "cdf9df1b760c4435b9226e8da5377909": {
      "model_module": "@jupyter-widgets/controls",
      "model_module_version": "1.5.0",
      "model_name": "ButtonModel",
      "state": {
       "description": "Reduce",
       "layout": "IPY_MODEL_78f39c4b41984055bcf273940f477b37",
       "style": "IPY_MODEL_c2f1ce72ef614e7982e857c4acfd4746"
      }
     },
     "ce09e64828be46f39407cddb93c1a931": {
      "model_module": "@jupyter-widgets/controls",
      "model_module_version": "1.5.0",
      "model_name": "ButtonModel",
      "state": {
       "description": "Scan",
       "layout": "IPY_MODEL_fdb835a4024e4bf68d0a1e87c01f3b38",
       "style": "IPY_MODEL_9ddeed99d1aa495389dfd44c5ae1f305"
      }
     },
     "ce4d743c1bfe43efa7c272a27fcfafc2": {
      "model_module": "@jupyter-widgets/base",
      "model_module_version": "1.2.0",
      "model_name": "LayoutModel",
      "state": {
       "justify_content": "center"
      }
     },
     "ce6fc230277142c89a5e428efc827e20": {
      "model_module": "@jupyter-widgets/base",
      "model_module_version": "1.2.0",
      "model_name": "LayoutModel",
      "state": {
       "justify_content": "center"
      }
     },
     "ce9b27e8648a4053aa0b3aa61b79a767": {
      "model_module": "@jupyter-widgets/controls",
      "model_module_version": "1.5.0",
      "model_name": "ButtonStyleModel",
      "state": {}
     },
     "ceddf927a0e94132a412e9322f1e467b": {
      "model_module": "@jupyter-widgets/controls",
      "model_module_version": "1.5.0",
      "model_name": "ButtonModel",
      "state": {
       "description": "Shift Reduce",
       "layout": "IPY_MODEL_a96470deb7504addb6e6bbfaa3c665c0",
       "style": "IPY_MODEL_4472ccf5ebcd45eab6b9e773f84cc416"
      }
     },
     "cee57df01de0446fb01a00dd46d4c33a": {
      "model_module": "@jupyter-widgets/base",
      "model_module_version": "1.2.0",
      "model_name": "LayoutModel",
      "state": {
       "width": "250px"
      }
     },
     "ceedd677e40d4ea996a08fa2071dd4e1": {
      "model_module": "@jupyter-widgets/controls",
      "model_module_version": "1.5.0",
      "model_name": "HBoxModel",
      "state": {
       "children": [
        "IPY_MODEL_94ce1dfbf0aa4f9081b8e5b81c1033e4",
        "IPY_MODEL_13e540d321e9468d8aa11be42bae9308"
       ],
       "layout": "IPY_MODEL_a55a763edd4f4e4e9714223079535130"
      }
     },
     "cf24c02fd413462a8cc68dba7d11bba2": {
      "model_module": "@jupyter-widgets/controls",
      "model_module_version": "1.5.0",
      "model_name": "DescriptionStyleModel",
      "state": {
       "description_width": "initial"
      }
     },
     "cf4269321faa4d37bea3d5380f17b886": {
      "model_module": "@jupyter-widgets/controls",
      "model_module_version": "1.5.0",
      "model_name": "ButtonStyleModel",
      "state": {}
     },
     "cf635b9c9de447529f670da56b3aec57": {
      "model_module": "@jupyter-widgets/controls",
      "model_module_version": "1.5.0",
      "model_name": "VBoxModel",
      "state": {
       "children": [
        "IPY_MODEL_074139441d704f73a364f3cef26b8ed3",
        "IPY_MODEL_ed05932b909a4b8cae8a2a79c103da88",
        "IPY_MODEL_3673f93aa5934b4c84f2ebf18c4b3547",
        "IPY_MODEL_3274479b0998404c96f4e75c4bac6055"
       ],
       "layout": "IPY_MODEL_0888947aa8fc4f4f939e56708e913ed3"
      }
     },
     "cf87934014a34941a52afb2e4a930e72": {
      "model_module": "@jupyter-widgets/controls",
      "model_module_version": "1.5.0",
      "model_name": "VBoxModel",
      "state": {
       "children": [
        "IPY_MODEL_4b503d3e09db487bbff5c920523ce220",
        "IPY_MODEL_f04a35568d614621a5e66aa7c485d101",
        "IPY_MODEL_dedc791091cd4f38812c42be25b9c18b",
        "IPY_MODEL_653c1f596c9c46398c47d1cbfb5ed66e"
       ],
       "layout": "IPY_MODEL_7dc87ac9e1ec432ca7fd7c976d4cce5f"
      }
     },
     "cfa131c02c7b48da9dd4ebcb28d3d450": {
      "model_module": "@jupyter-widgets/controls",
      "model_module_version": "1.5.0",
      "model_name": "HBoxModel",
      "state": {
       "children": [
        "IPY_MODEL_0f49ededc34645fcb6203c9fc19f439e",
        "IPY_MODEL_85b2fab6119c473483dba2e8d9055f46"
       ],
       "layout": "IPY_MODEL_3620b2a42c4d46c489870e04a11364f1"
      }
     },
     "cfb09b8f9384476aa5a6ecd9b6ca02c8": {
      "model_module": "@jupyter-widgets/controls",
      "model_module_version": "1.5.0",
      "model_name": "HBoxModel",
      "state": {
       "children": [
        "IPY_MODEL_2aa62ff4e9314a2e92c4106d88a7dc03",
        "IPY_MODEL_15a2aaaba3f5490aa3cf9962fe86fcb6"
       ],
       "layout": "IPY_MODEL_6b9ab193480e472cb27486f1f7f86781"
      }
     },
     "cff674f8852947deae6c786aadf2c0c1": {
      "model_module": "@jupyter-widgets/controls",
      "model_module_version": "1.5.0",
      "model_name": "VBoxModel",
      "state": {
       "children": [
        "IPY_MODEL_ef36f6b4e9464070bd8bddf06cdcd9b6",
        "IPY_MODEL_e90761e069c34cb6b74ffa19599042d4",
        "IPY_MODEL_a1c0ade981654dc5948adeb7f9a6a339",
        "IPY_MODEL_592e6f0ca146439a924352d935800c45",
        "IPY_MODEL_839fd41f810d4803bd820e9427a4672d"
       ],
       "layout": "IPY_MODEL_a1dbdebc6b494ef49dcb6a6c9184d9d3"
      }
     },
     "d048c6cee5cd43e1bfa984d4f7cef0c2": {
      "model_module": "@jupyter-widgets/controls",
      "model_module_version": "1.5.0",
      "model_name": "HBoxModel",
      "state": {
       "children": [
        "IPY_MODEL_47ae6db920644aeca427930e581f0089",
        "IPY_MODEL_e52e86f5204e43c698df9b86073b72ea"
       ],
       "layout": "IPY_MODEL_0838233678bc48dcafb3b6a142cb26f6"
      }
     },
     "d0676f7624044f6ebce0f8191a853496": {
      "model_module": "@jupyter-widgets/controls",
      "model_module_version": "1.5.0",
      "model_name": "VBoxModel",
      "state": {
       "children": [
        "IPY_MODEL_f6a3a586be074344a972f8970fb7cff8",
        "IPY_MODEL_d34a89defd0848c0ac42428a1ba59a9c",
        "IPY_MODEL_b4ad7523189e4d9e9afd6df05f439e6d",
        "IPY_MODEL_6c7736c2af9349d299ab3ddb2bf2a11e",
        "IPY_MODEL_fc9c49466c10429b9e49572f1fd2773d"
       ],
       "layout": "IPY_MODEL_885e117ba3a94295814c2b29fab3dcf3"
      }
     },
     "d09f15775a824b76ab42668a2777b661": {
      "model_module": "@jupyter-widgets/controls",
      "model_module_version": "1.5.0",
      "model_name": "ButtonStyleModel",
      "state": {}
     },
     "d0ba31bcc7c9401da4f6176196632b07": {
      "model_module": "@jupyter-widgets/controls",
      "model_module_version": "1.5.0",
      "model_name": "ButtonStyleModel",
      "state": {}
     },
     "d0d2f63b82ed466a8e943c5f5993445b": {
      "model_module": "@jupyter-widgets/base",
      "model_module_version": "1.2.0",
      "model_name": "LayoutModel",
      "state": {}
     },
     "d0e9bc8acad9493c8301acbde3edf156": {
      "model_module": "@jupyter-widgets/base",
      "model_module_version": "1.2.0",
      "model_name": "LayoutModel",
      "state": {
       "justify_content": "center"
      }
     },
     "d0ea96887d084ad3bde9b8274fc57669": {
      "model_module": "@jupyter-widgets/controls",
      "model_module_version": "1.5.0",
      "model_name": "ButtonModel",
      "state": {
       "description": "Complete",
       "layout": "IPY_MODEL_a7ecc6da6a6d411ea60ab697215fde1d",
       "style": "IPY_MODEL_f98792bf93eb4a758e4d2d3c9a507b26"
      }
     },
     "d0ff55aae19c40fbb211075316117858": {
      "model_module": "@jupyter-widgets/base",
      "model_module_version": "1.2.0",
      "model_name": "LayoutModel",
      "state": {}
     },
     "d133785941d54775ac8f51113fc01856": {
      "model_module": "@jupyter-widgets/controls",
      "model_module_version": "1.5.0",
      "model_name": "HBoxModel",
      "state": {
       "children": [
        "IPY_MODEL_8e78e5c2aa114311b39d07b24b3cb727",
        "IPY_MODEL_1f62020f310b4636a5a656a79480d375"
       ],
       "layout": "IPY_MODEL_67548f388d614d8c90454f9011b7a86e"
      }
     },
     "d14449db87c7409a8389b5c70d1d7ec2": {
      "model_module": "@jupyter-widgets/controls",
      "model_module_version": "1.5.0",
      "model_name": "HTMLModel",
      "state": {
       "layout": "IPY_MODEL_8bcb5778462747dda75203ff89e13821",
       "style": "IPY_MODEL_f112a15954e248628eefb59c187143ce",
       "value": "<h4 style=\"font-size:14px;\">Welche Operationen hat der Earley Parser?</h4>"
      }
     },
     "d1b3a6326137418da051b01f22497ff7": {
      "model_module": "@jupyter-widgets/controls",
      "model_module_version": "1.5.0",
      "model_name": "ButtonModel",
      "state": {
       "description": "Predict",
       "layout": "IPY_MODEL_f45ea716e679419c9aaa8c9b71cc6b82",
       "style": "IPY_MODEL_167813ed7e8841088665ee4eb0a8b8f8"
      }
     },
     "d1b9f13e8e1740a3ba6ee30f13a3fe10": {
      "model_module": "@jupyter-widgets/base",
      "model_module_version": "1.2.0",
      "model_name": "LayoutModel",
      "state": {}
     },
     "d1e51442501944509cb877d36dd8572d": {
      "model_module": "@jupyter-widgets/controls",
      "model_module_version": "1.5.0",
      "model_name": "ButtonStyleModel",
      "state": {}
     },
     "d1eb0040d4a14801af2a805713fda2c6": {
      "model_module": "@jupyter-widgets/controls",
      "model_module_version": "1.5.0",
      "model_name": "DescriptionStyleModel",
      "state": {
       "description_width": ""
      }
     },
     "d20a86ce01fa4c3491577fdd722eca2e": {
      "model_module": "@jupyter-widgets/controls",
      "model_module_version": "1.5.0",
      "model_name": "ButtonModel",
      "state": {
       "description": "Predict",
       "layout": "IPY_MODEL_1939a8f428c24428a78dd03f203eb583",
       "style": "IPY_MODEL_6657b34a5fbd4681a29f075acc709099"
      }
     },
     "d212bb6ddb5e4437a59108a4b8a74dd2": {
      "model_module": "@jupyter-widgets/controls",
      "model_module_version": "1.5.0",
      "model_name": "ButtonModel",
      "state": {
       "description": "Predict",
       "layout": "IPY_MODEL_fd77bdc3fb5d4589a26b2d1236289bc9",
       "style": "IPY_MODEL_a589f368d8bd4c80abb8b97a4f0a4bcd"
      }
     },
     "d21c4d5a7e9242789d785c7f93e4d399": {
      "model_module": "@jupyter-widgets/controls",
      "model_module_version": "1.5.0",
      "model_name": "ButtonModel",
      "state": {
       "description": "Complete",
       "layout": "IPY_MODEL_76acbdd35605498d948378f641760e34",
       "style": "IPY_MODEL_bf6d936a52824d58a5c2fa413a5a6293"
      }
     },
     "d232c3e5220142158cb51bc2ea42c27a": {
      "model_module": "@jupyter-widgets/base",
      "model_module_version": "1.2.0",
      "model_name": "LayoutModel",
      "state": {
       "width": "250px"
      }
     },
     "d24882ff1e694cafa8af1adf2f670050": {
      "model_module": "@jupyter-widgets/controls",
      "model_module_version": "1.5.0",
      "model_name": "VBoxModel",
      "state": {
       "children": [
        "IPY_MODEL_5d7b705b108642f7a990730b6a1b267b",
        "IPY_MODEL_2e137dbab8ac44aa8199b2141af30572",
        "IPY_MODEL_1e21fb18d20c4aa991ab4edb06a309b1",
        "IPY_MODEL_aba37e682e0741fe9f1541e4f637b6e7",
        "IPY_MODEL_8b7a09f14ac54a0c89b44197e4530962"
       ],
       "layout": "IPY_MODEL_a8dadc5e8c74438a8335187044a659e7"
      }
     },
     "d25b81b7612d4b41a7a9b4dd02f62e8f": {
      "model_module": "@jupyter-widgets/controls",
      "model_module_version": "1.5.0",
      "model_name": "DescriptionStyleModel",
      "state": {
       "description_width": ""
      }
     },
     "d279cf0e17154f618e7558a79c51fee4": {
      "model_module": "@jupyter-widgets/base",
      "model_module_version": "1.2.0",
      "model_name": "LayoutModel",
      "state": {
       "width": "250px"
      }
     },
     "d28cf03c2081440dbe14fd7bb39964cc": {
      "model_module": "@jupyter-widgets/controls",
      "model_module_version": "1.5.0",
      "model_name": "ButtonStyleModel",
      "state": {}
     },
     "d2b4dceec0024c40a66f66d1d0aff4af": {
      "model_module": "@jupyter-widgets/base",
      "model_module_version": "1.2.0",
      "model_name": "LayoutModel",
      "state": {
       "justify_content": "center"
      }
     },
     "d2f5d56884b94d6a8b2d9197559f4d94": {
      "model_module": "@jupyter-widgets/base",
      "model_module_version": "1.2.0",
      "model_name": "LayoutModel",
      "state": {}
     },
     "d3360e13baf5468893540d8bacf53bba": {
      "model_module": "@jupyter-widgets/controls",
      "model_module_version": "1.5.0",
      "model_name": "DescriptionStyleModel",
      "state": {
       "description_width": ""
      }
     },
     "d34a89defd0848c0ac42428a1ba59a9c": {
      "model_module": "@jupyter-widgets/controls",
      "model_module_version": "1.5.0",
      "model_name": "HTMLModel",
      "state": {
       "layout": "IPY_MODEL_75eed409e6c24226b08a8221d871434d",
       "style": "IPY_MODEL_1145a123ce8349b2a2b74e03b1da49ce",
       "value": "<i>Wählen Sie die <ins>eine</ins> korrekte Antwort aus: </i>"
      }
     },
     "d3578a96bdfa45f881fb2118475282da": {
      "model_module": "@jupyter-widgets/base",
      "model_module_version": "1.2.0",
      "model_name": "LayoutModel",
      "state": {
       "justify_content": "center"
      }
     },
     "d36e76bcb9dc4c798386786f581b4f1b": {
      "model_module": "@jupyter-widgets/controls",
      "model_module_version": "1.5.0",
      "model_name": "HTMLModel",
      "state": {
       "layout": "IPY_MODEL_dbd1bc6fdf764f049d01fa11b74bcbc4",
       "style": "IPY_MODEL_68573826064a45148409457b00c5b912",
       "value": "<h4 style=\"font-size:14px;\">Welche Operationen hat der Recursive Descent Parser?</h4>"
      }
     },
     "d36fa8d3fad04a44b4e6d870c444f2c4": {
      "model_module": "@jupyter-widgets/controls",
      "model_module_version": "1.5.0",
      "model_name": "ButtonStyleModel",
      "state": {}
     },
     "d396eb86e76742278589915b53ae69bd": {
      "model_module": "@jupyter-widgets/controls",
      "model_module_version": "1.5.0",
      "model_name": "ButtonStyleModel",
      "state": {}
     },
     "d39ea835e37848b89eadf729cf249b45": {
      "model_module": "@jupyter-widgets/controls",
      "model_module_version": "1.5.0",
      "model_name": "ButtonModel",
      "state": {
       "description": "Scan",
       "layout": "IPY_MODEL_ab2a6599aa8a49eba10fbffd60f95ed0",
       "style": "IPY_MODEL_0f6862c81e5b4464bb24b31fcf8d25fa"
      }
     },
     "d3aae0c264a943529862e90b0b865f04": {
      "model_module": "@jupyter-widgets/base",
      "model_module_version": "1.2.0",
      "model_name": "LayoutModel",
      "state": {}
     },
     "d40db1ac0ae14824aa8ca92c39283359": {
      "model_module": "@jupyter-widgets/base",
      "model_module_version": "1.2.0",
      "model_name": "LayoutModel",
      "state": {}
     },
     "d416ed6155a24de4a8bb9f89979e45cc": {
      "model_module": "@jupyter-widgets/base",
      "model_module_version": "1.2.0",
      "model_name": "LayoutModel",
      "state": {
       "width": "250px"
      }
     },
     "d45af81ecbc54464b94bca4ae21b6d97": {
      "model_module": "@jupyter-widgets/controls",
      "model_module_version": "1.5.0",
      "model_name": "ButtonModel",
      "state": {
       "description": "Scan",
       "layout": "IPY_MODEL_723f5c2e031c42cb94ea38591948e521",
       "style": "IPY_MODEL_27c6da75b9ed43359f3042121fc72453"
      }
     },
     "d4624340e2f14f5fa7d598e18d5daa4b": {
      "model_module": "@jupyter-widgets/controls",
      "model_module_version": "1.5.0",
      "model_name": "HTMLModel",
      "state": {
       "layout": "IPY_MODEL_73849cda1e544cc594f41355c94c9145",
       "style": "IPY_MODEL_3422c4cb612b431a836145722ae60691",
       "value": "<i>Wählen Sie die <ins>eine</ins> korrekte Antwort aus: </i>"
      }
     },
     "d479714b9dda4432972008bbf4b0e7af": {
      "model_module": "@jupyter-widgets/controls",
      "model_module_version": "1.5.0",
      "model_name": "DescriptionStyleModel",
      "state": {
       "description_width": ""
      }
     },
     "d48c3486a7de4982a9fab4e84c5ecbca": {
      "model_module": "@jupyter-widgets/controls",
      "model_module_version": "1.5.0",
      "model_name": "DescriptionStyleModel",
      "state": {
       "description_width": ""
      }
     },
     "d492b815ccdb45768c33f440b558e1bb": {
      "model_module": "@jupyter-widgets/controls",
      "model_module_version": "1.5.0",
      "model_name": "ButtonModel",
      "state": {
       "description": "Predict",
       "layout": "IPY_MODEL_52fe495c97e140dbb1dfecdc2d8c7f4b",
       "style": "IPY_MODEL_11adaa0b582c486abec757d2423e3c17"
      }
     },
     "d4aaaa336f234b99b045bd1a66cbdd86": {
      "model_module": "@jupyter-widgets/base",
      "model_module_version": "1.2.0",
      "model_name": "LayoutModel",
      "state": {
       "justify_content": "center"
      }
     },
     "d5047874711c46e9a01a61c2551a746d": {
      "model_module": "@jupyter-widgets/controls",
      "model_module_version": "1.5.0",
      "model_name": "DescriptionStyleModel",
      "state": {
       "description_width": ""
      }
     },
     "d51001913fa64759b4db31a55ce96325": {
      "model_module": "@jupyter-widgets/base",
      "model_module_version": "1.2.0",
      "model_name": "LayoutModel",
      "state": {
       "justify_content": "center"
      }
     },
     "d55647aebffa4cccbe85c3df4ff90dd3": {
      "model_module": "@jupyter-widgets/base",
      "model_module_version": "1.2.0",
      "model_name": "LayoutModel",
      "state": {
       "width": "250px"
      }
     },
     "d5a826fdcc4c4d988f4c149eef27489b": {
      "model_module": "@jupyter-widgets/base",
      "model_module_version": "1.2.0",
      "model_name": "LayoutModel",
      "state": {}
     },
     "d5caa5169b354d21a3a6ac6ee27f0767": {
      "model_module": "@jupyter-widgets/controls",
      "model_module_version": "1.5.0",
      "model_name": "ButtonModel",
      "state": {
       "description": "Reduce",
       "layout": "IPY_MODEL_4ace7c07737943628ffc50c0d8141173",
       "style": "IPY_MODEL_4fe4320244c143469b2b24214a0b466a"
      }
     },
     "d5db993642ef475288860ae9808e81e7": {
      "model_module": "@jupyter-widgets/base",
      "model_module_version": "1.2.0",
      "model_name": "LayoutModel",
      "state": {
       "width": "250px"
      }
     },
     "d5e16b949b584298a1e38195cfe2de09": {
      "model_module": "@jupyter-widgets/controls",
      "model_module_version": "1.5.0",
      "model_name": "CheckboxModel",
      "state": {
       "description": "Predict",
       "disabled": false,
       "layout": "IPY_MODEL_8d98539b14a74e0cb578c35451308514",
       "style": "IPY_MODEL_15d8118ae2074ab380e03d9b2a71dd78",
       "value": false
      }
     },
     "d611c3f5231f439fb32780a813dfd360": {
      "model_module": "@jupyter-widgets/base",
      "model_module_version": "1.2.0",
      "model_name": "LayoutModel",
      "state": {}
     },
     "d61e200a430b4b6e902234c356bdd939": {
      "model_module": "@jupyter-widgets/base",
      "model_module_version": "1.2.0",
      "model_name": "LayoutModel",
      "state": {}
     },
     "d63cada8f7684ce3bd2193f127f5aeaa": {
      "model_module": "@jupyter-widgets/controls",
      "model_module_version": "1.5.0",
      "model_name": "VBoxModel",
      "state": {
       "children": [
        "IPY_MODEL_b3ef56a6392c4bb4b460c8975b8f8041",
        "IPY_MODEL_88be940b2d33469894b82dfa18b83670",
        "IPY_MODEL_b4a6a5a97ab14c6e8d78e7718bbb1d54",
        "IPY_MODEL_297205d065c146868acbe7966a755393",
        "IPY_MODEL_7a8a8525b73046ca8f6a9406edc37284"
       ],
       "layout": "IPY_MODEL_435b393420c04ba2bb1280e97ae0b6eb"
      }
     },
     "d65f99a5d5f6486099e7e911737106ad": {
      "model_module": "@jupyter-widgets/base",
      "model_module_version": "1.2.0",
      "model_name": "LayoutModel",
      "state": {
       "width": "250px"
      }
     },
     "d6843982ab6c4e4cb7e549a15feab09c": {
      "model_module": "@jupyter-widgets/controls",
      "model_module_version": "1.5.0",
      "model_name": "HTMLModel",
      "state": {
       "layout": "IPY_MODEL_e4ada88975504e9eb9c3b79cf6e384f6",
       "style": "IPY_MODEL_f1d0aa0949d94de4983f09a6e61a9025",
       "value": "<i>Wählen Sie die <ins>eine</ins> korrekte Antwort aus: </i>"
      }
     },
     "d6b966272b4d4fafb1dca2cd473c6dac": {
      "model_module": "@jupyter-widgets/controls",
      "model_module_version": "1.5.0",
      "model_name": "HBoxModel",
      "state": {
       "children": [
        "IPY_MODEL_11c47eba35ca43c3a7083a4c1e2c1148",
        "IPY_MODEL_d1b3a6326137418da051b01f22497ff7"
       ],
       "layout": "IPY_MODEL_9dd3285e19e8477aa69f4c33a778e4bd"
      }
     },
     "d6cf74684c034e48bd0187a2d720f138": {
      "model_module": "@jupyter-widgets/controls",
      "model_module_version": "1.5.0",
      "model_name": "HTMLModel",
      "state": {
       "layout": "IPY_MODEL_e211ce922d2641259d2895218c6ceccd",
       "style": "IPY_MODEL_36c8d4718f234adbbd997f8f154abe8b",
       "value": "<i>Wählen Sie die <ins>eine</ins> korrekte Antwort aus: </i>"
      }
     },
     "d7062a7bfd3d4e2b889ef2359bd8c6ee": {
      "model_module": "@jupyter-widgets/controls",
      "model_module_version": "1.5.0",
      "model_name": "ButtonStyleModel",
      "state": {}
     },
     "d726e334eda5454b8530fe1389fbf9a6": {
      "model_module": "@jupyter-widgets/base",
      "model_module_version": "1.2.0",
      "model_name": "LayoutModel",
      "state": {
       "width": "250px"
      }
     },
     "d72985e36ef7423697b1de067a7c0670": {
      "model_module": "@jupyter-widgets/base",
      "model_module_version": "1.2.0",
      "model_name": "LayoutModel",
      "state": {
       "width": "250px"
      }
     },
     "d7395e138b724af6ae3d6401d624af5a": {
      "model_module": "@jupyter-widgets/controls",
      "model_module_version": "1.5.0",
      "model_name": "DescriptionStyleModel",
      "state": {
       "description_width": ""
      }
     },
     "d771a8e2d78a470ba49d1f50fdabef1e": {
      "model_module": "@jupyter-widgets/controls",
      "model_module_version": "1.5.0",
      "model_name": "ButtonModel",
      "state": {
       "description": "Keine der Alternativen",
       "layout": "IPY_MODEL_c7da505ac21f45a48ec021512b13591f",
       "style": "IPY_MODEL_7cceaaff5ae84237afdc0f842a98b874"
      }
     },
     "d79f17fa60d8425fb12d8311f97392bc": {
      "model_module": "@jupyter-widgets/base",
      "model_module_version": "1.2.0",
      "model_name": "LayoutModel",
      "state": {
       "justify_content": "center"
      }
     },
     "d7c3f1e1361c4590b15b1e97086c0bef": {
      "model_module": "@jupyter-widgets/base",
      "model_module_version": "1.2.0",
      "model_name": "LayoutModel",
      "state": {
       "justify_content": "center"
      }
     },
     "d8078c7aa2a44d4b80684575eada89fd": {
      "model_module": "@jupyter-widgets/base",
      "model_module_version": "1.2.0",
      "model_name": "LayoutModel",
      "state": {}
     },
     "d8100f0213464957bd57a57b1f5e0b0d": {
      "model_module": "@jupyter-widgets/controls",
      "model_module_version": "1.5.0",
      "model_name": "ButtonModel",
      "state": {
       "description": "Shift",
       "layout": "IPY_MODEL_ac524e473b0f441b9b0ccdf944ba4972",
       "style": "IPY_MODEL_6bd7cc0130954b3c8dce113b4029f4c0"
      }
     },
     "d85b2ab3fd9d40a5ab9337e794ebc4e7": {
      "model_module": "@jupyter-widgets/base",
      "model_module_version": "1.2.0",
      "model_name": "LayoutModel",
      "state": {
       "width": "250px"
      }
     },
     "d85d9d4bd7d6475ca57f05ce5fcada29": {
      "model_module": "@jupyter-widgets/base",
      "model_module_version": "1.2.0",
      "model_name": "LayoutModel",
      "state": {
       "width": "250px"
      }
     },
     "d866e589c16f410ebabb6e12a50e818f": {
      "model_module": "@jupyter-widgets/base",
      "model_module_version": "1.2.0",
      "model_name": "LayoutModel",
      "state": {}
     },
     "d8bc7585e8eb4356b196f488ab6a2d22": {
      "model_module": "@jupyter-widgets/controls",
      "model_module_version": "1.5.0",
      "model_name": "ButtonStyleModel",
      "state": {}
     },
     "d909165330904329b568038b993872bc": {
      "model_module": "@jupyter-widgets/base",
      "model_module_version": "1.2.0",
      "model_name": "LayoutModel",
      "state": {}
     },
     "d90a302e59724c1fb67c10a7257afee5": {
      "model_module": "@jupyter-widgets/controls",
      "model_module_version": "1.5.0",
      "model_name": "DescriptionStyleModel",
      "state": {
       "description_width": ""
      }
     },
     "d93aa6b3529741ae87078cf29495aa87": {
      "model_module": "@jupyter-widgets/controls",
      "model_module_version": "1.5.0",
      "model_name": "ButtonModel",
      "state": {
       "description": "Reduce",
       "layout": "IPY_MODEL_b9a200b87935483bb795e594456a1685",
       "style": "IPY_MODEL_ac7a6e188aa34d328dc959804073b4b6"
      }
     },
     "d9585eda964847d8962a70ab8d18be84": {
      "model_module": "@jupyter-widgets/controls",
      "model_module_version": "1.5.0",
      "model_name": "DescriptionStyleModel",
      "state": {
       "description_width": ""
      }
     },
     "d9a9bb8fd9644060b631bf51830651c8": {
      "model_module": "@jupyter-widgets/controls",
      "model_module_version": "1.5.0",
      "model_name": "ButtonModel",
      "state": {
       "description": "Earley",
       "layout": "IPY_MODEL_327d9c3c90c64646a8ad987fa321d5af",
       "style": "IPY_MODEL_9ea506ae931e4b5ebdad1ee26d71c6cb"
      }
     },
     "d9ceb1ae9fc7485ebce6ea0de61f3400": {
      "model_module": "@jupyter-widgets/controls",
      "model_module_version": "1.5.0",
      "model_name": "ButtonStyleModel",
      "state": {}
     },
     "d9d14502a80f444aad0e052a6185de99": {
      "model_module": "@jupyter-widgets/controls",
      "model_module_version": "1.5.0",
      "model_name": "ButtonModel",
      "state": {
       "description": "Scan",
       "layout": "IPY_MODEL_542aba633fad4381b70576642f1c713d",
       "style": "IPY_MODEL_1cac5d60e7054bd399c7958d07de201d"
      }
     },
     "d9da488b70a8441a9f4de09b25086748": {
      "model_module": "@jupyter-widgets/base",
      "model_module_version": "1.2.0",
      "model_name": "LayoutModel",
      "state": {
       "justify_content": "center"
      }
     },
     "d9f75042699f4856b5e3d30476b4739e": {
      "model_module": "@jupyter-widgets/base",
      "model_module_version": "1.2.0",
      "model_name": "LayoutModel",
      "state": {
       "width": "250px"
      }
     },
     "d9fc5b0b3b56467181cf5802bb498c3c": {
      "model_module": "@jupyter-widgets/controls",
      "model_module_version": "1.5.0",
      "model_name": "ButtonStyleModel",
      "state": {
       "button_color": "lightgreen"
      }
     },
     "da16f91f6faf49da81ef150f42d81a3f": {
      "model_module": "@jupyter-widgets/controls",
      "model_module_version": "1.5.0",
      "model_name": "ButtonStyleModel",
      "state": {}
     },
     "da1a9307e6e34a1394384590fe2989ab": {
      "model_module": "@jupyter-widgets/base",
      "model_module_version": "1.2.0",
      "model_name": "LayoutModel",
      "state": {}
     },
     "da2a566479154fffa45eed20664db779": {
      "model_module": "@jupyter-widgets/controls",
      "model_module_version": "1.5.0",
      "model_name": "HBoxModel",
      "state": {
       "children": [
        "IPY_MODEL_0b8bc38ada464905af359f7bc49a9897",
        "IPY_MODEL_496c6218481048d9b3600815b4cc9a02"
       ],
       "layout": "IPY_MODEL_d0d2f63b82ed466a8e943c5f5993445b"
      }
     },
     "da2bc30ae7704fba8c0e3a6acb74cfd5": {
      "model_module": "@jupyter-widgets/base",
      "model_module_version": "1.2.0",
      "model_name": "LayoutModel",
      "state": {}
     },
     "da3b8a5d31534311bb2051d867e208ff": {
      "model_module": "@jupyter-widgets/controls",
      "model_module_version": "1.5.0",
      "model_name": "ButtonModel",
      "state": {
       "description": "Shift Reduce",
       "layout": "IPY_MODEL_b64ac8920d8f40b6802829b9f47de053",
       "style": "IPY_MODEL_7aa282ea119240d5b75fa50f6f0498ce"
      }
     },
     "da7ea927ed6c4d39bc8d2ddf14ad708f": {
      "model_module": "@jupyter-widgets/controls",
      "model_module_version": "1.5.0",
      "model_name": "DescriptionStyleModel",
      "state": {
       "description_width": "initial"
      }
     },
     "da94a8e4288b47fea807d440b7e2b0d1": {
      "model_module": "@jupyter-widgets/base",
      "model_module_version": "1.2.0",
      "model_name": "LayoutModel",
      "state": {
       "justify_content": "center"
      }
     },
     "daa6eef324b84a969c4d06fe3ef60f16": {
      "model_module": "@jupyter-widgets/controls",
      "model_module_version": "1.5.0",
      "model_name": "HBoxModel",
      "state": {
       "children": [
        "IPY_MODEL_74c79754c72649bebf76d2ab14afb0a3",
        "IPY_MODEL_29ecdc6a620046cc8e811602d101aff9"
       ],
       "layout": "IPY_MODEL_3a409bc41d944b2692bebae6f6a54bd3"
      }
     },
     "daa9a8dd1f4449779f187f545f9d71f8": {
      "model_module": "@jupyter-widgets/base",
      "model_module_version": "1.2.0",
      "model_name": "LayoutModel",
      "state": {
       "width": "250px"
      }
     },
     "dac3277417844899b68af57c083cc8b4": {
      "model_module": "@jupyter-widgets/controls",
      "model_module_version": "1.5.0",
      "model_name": "HBoxModel",
      "state": {
       "children": [
        "IPY_MODEL_a2bcf32b512e4f9fae168be392015ad0"
       ],
       "layout": "IPY_MODEL_7ff08f205a5b425285f7a1cb8a60e0f7"
      }
     },
     "db59a7da2d934b36a53614ca76f2e098": {
      "model_module": "@jupyter-widgets/controls",
      "model_module_version": "1.5.0",
      "model_name": "VBoxModel",
      "state": {
       "children": [
        "IPY_MODEL_159679cfa8654178a58b05a8c5b44e75",
        "IPY_MODEL_ab4fa29208384fef922e9318b123606f",
        "IPY_MODEL_ab7aa0798aba4e00a92c360473edfedd",
        "IPY_MODEL_3e52a34686ac4086913edc3e7f73d563",
        "IPY_MODEL_19a78a5f621e4403bed7147c02a0c405"
       ],
       "layout": "IPY_MODEL_4f84ea563cae4e11b0ac782b73398bbe"
      }
     },
     "dbd1bc6fdf764f049d01fa11b74bcbc4": {
      "model_module": "@jupyter-widgets/base",
      "model_module_version": "1.2.0",
      "model_name": "LayoutModel",
      "state": {}
     },
     "dbd99ee825cc48a487fb6f5057c31ff9": {
      "model_module": "@jupyter-widgets/base",
      "model_module_version": "1.2.0",
      "model_name": "LayoutModel",
      "state": {
       "width": "250px"
      }
     },
     "dbe65466149845eeaf08174094e9123a": {
      "model_module": "@jupyter-widgets/controls",
      "model_module_version": "1.5.0",
      "model_name": "VBoxModel",
      "state": {
       "children": [
        "IPY_MODEL_6cd9516b3b5440469e723c2bd83d6353",
        "IPY_MODEL_656cae3068f54eaaa2a86147d33231e0",
        "IPY_MODEL_c8c4609366464334bc085b138fa86007",
        "IPY_MODEL_cd607d04a5014cff9dec1b23c2920d8b"
       ],
       "layout": "IPY_MODEL_1d03abdf60294434920471d8b41cf9b4"
      }
     },
     "dc010ed65982464ebd9e14d0f90b6ff1": {
      "model_module": "@jupyter-widgets/controls",
      "model_module_version": "1.5.0",
      "model_name": "ButtonModel",
      "state": {
       "description": "Complete",
       "layout": "IPY_MODEL_2eeffd9fa38a462caf12e0de6b94464e",
       "style": "IPY_MODEL_a074149d2eca405fb03f25d8878f4750"
      }
     },
     "dc6ae8b4c9364640a7365ebf206c67e0": {
      "model_module": "@jupyter-widgets/controls",
      "model_module_version": "1.5.0",
      "model_name": "ButtonStyleModel",
      "state": {}
     },
     "dca2b09772e94b3f9a0702b72c7d5e0e": {
      "model_module": "@jupyter-widgets/controls",
      "model_module_version": "1.5.0",
      "model_name": "HTMLModel",
      "state": {
       "layout": "IPY_MODEL_c801555dca7c42bca4cb2553b86f1423",
       "style": "IPY_MODEL_7b8a222490f940ad972a758742f74119",
       "value": "<h4 style=\"font-size:14px;\">Welche Operationen hat der Shift Reduce Parser?</h4>"
      }
     },
     "dcb9d7c9f82d414397e1e4196decd363": {
      "model_module": "@jupyter-widgets/controls",
      "model_module_version": "1.5.0",
      "model_name": "ButtonStyleModel",
      "state": {}
     },
     "dd19e9b5b1f544978a69e9c6c8927271": {
      "model_module": "@jupyter-widgets/controls",
      "model_module_version": "1.5.0",
      "model_name": "ButtonStyleModel",
      "state": {
       "button_color": "lightgreen"
      }
     },
     "dd1e4a4e3ebb4c489f2a5df9da183882": {
      "model_module": "@jupyter-widgets/controls",
      "model_module_version": "1.5.0",
      "model_name": "HBoxModel",
      "state": {
       "children": [
        "IPY_MODEL_61126926a701471486286cf4915de235",
        "IPY_MODEL_46f7a0534f714463a89eca0be8eb2efb"
       ],
       "layout": "IPY_MODEL_67357725238b434eb52283627ada6a19"
      }
     },
     "dd49d96975fe49d4bc5fc678d4c6fb03": {
      "model_module": "@jupyter-widgets/controls",
      "model_module_version": "1.5.0",
      "model_name": "ButtonModel",
      "state": {
       "description": "Predict",
       "layout": "IPY_MODEL_2f2f7a95b66b47c1b3e9bb5b09c636e4",
       "style": "IPY_MODEL_66a7577e70364fd9874c9eb0d31a4a31"
      }
     },
     "dd52bbda3eaa456ebceb73fa7481b9be": {
      "model_module": "@jupyter-widgets/controls",
      "model_module_version": "1.5.0",
      "model_name": "ButtonStyleModel",
      "state": {}
     },
     "dd55ab79669c4b899f6cda575574a10a": {
      "model_module": "@jupyter-widgets/controls",
      "model_module_version": "1.5.0",
      "model_name": "VBoxModel",
      "state": {
       "children": [
        "IPY_MODEL_2b910b59b2a2423294976d6010626631",
        "IPY_MODEL_e5d9176ff8c0468ab9f5f16f3b2c23fb",
        "IPY_MODEL_b145271d43884ee2ba938e8213b1f3c0",
        "IPY_MODEL_61db0ef49f92405db283ab0ec1e659e8"
       ],
       "layout": "IPY_MODEL_fb09722c35fe465dbbb1e7c3ed6b11eb"
      }
     },
     "dd898b644efc42b5b1c12ed9c6975200": {
      "model_module": "@jupyter-widgets/base",
      "model_module_version": "1.2.0",
      "model_name": "LayoutModel",
      "state": {}
     },
     "ddab9f139e5c4ebca1745be71813e3c7": {
      "model_module": "@jupyter-widgets/base",
      "model_module_version": "1.2.0",
      "model_name": "LayoutModel",
      "state": {}
     },
     "ddcb4cf520524f088504086a581d96ad": {
      "model_module": "@jupyter-widgets/base",
      "model_module_version": "1.2.0",
      "model_name": "LayoutModel",
      "state": {
       "width": "250px"
      }
     },
     "ddeacd83554a4e4aa2a70bf266a8f6b7": {
      "model_module": "@jupyter-widgets/controls",
      "model_module_version": "1.5.0",
      "model_name": "DescriptionStyleModel",
      "state": {
       "description_width": ""
      }
     },
     "de1b2364bdb342a3bacd1b5350b6f728": {
      "model_module": "@jupyter-widgets/base",
      "model_module_version": "1.2.0",
      "model_name": "LayoutModel",
      "state": {
       "justify_content": "center"
      }
     },
     "de67b15b9d3d456da21bf0dd0926a35e": {
      "model_module": "@jupyter-widgets/controls",
      "model_module_version": "1.5.0",
      "model_name": "DescriptionStyleModel",
      "state": {
       "description_width": ""
      }
     },
     "de6add2a2cf34c0e92edfaf58a30b4af": {
      "model_module": "@jupyter-widgets/controls",
      "model_module_version": "1.5.0",
      "model_name": "ButtonStyleModel",
      "state": {}
     },
     "de7ef3d4eb61408a9d56b6ea5a27603b": {
      "model_module": "@jupyter-widgets/base",
      "model_module_version": "1.2.0",
      "model_name": "LayoutModel",
      "state": {
       "width": "250px"
      }
     },
     "de955d6d2ccb4a1385eb0533b27503c2": {
      "model_module": "@jupyter-widgets/controls",
      "model_module_version": "1.5.0",
      "model_name": "DescriptionStyleModel",
      "state": {
       "description_width": ""
      }
     },
     "de95dabc6bc948b09255421616acbfce": {
      "model_module": "@jupyter-widgets/controls",
      "model_module_version": "1.5.0",
      "model_name": "ButtonModel",
      "state": {
       "description": "Reduce",
       "layout": "IPY_MODEL_cdec5f0d8f2c4b57b541b4ca790146b8",
       "style": "IPY_MODEL_0cf2657ad03a49c1a7c78d4901e18032"
      }
     },
     "dea59c9e954849979650542c688f40d3": {
      "model_module": "@jupyter-widgets/controls",
      "model_module_version": "1.5.0",
      "model_name": "ButtonModel",
      "state": {
       "description": "Keine der Alternativen",
       "layout": "IPY_MODEL_b2fbd3701e144bffa00d9a287a9532f2",
       "style": "IPY_MODEL_f16adbb2f9f64e76a16b111e1acf99c3"
      }
     },
     "dedc791091cd4f38812c42be25b9c18b": {
      "model_module": "@jupyter-widgets/controls",
      "model_module_version": "1.5.0",
      "model_name": "HBoxModel",
      "state": {
       "children": [
        "IPY_MODEL_b581b1705ff7422dab639f269b577ec2",
        "IPY_MODEL_24eaffaf6b0541ec827487cb0fad51c6"
       ],
       "layout": "IPY_MODEL_0f89a38f43264b8786facee502d337ce"
      }
     },
     "dee29bcfa353407a96d08d18e46350a7": {
      "model_module": "@jupyter-widgets/controls",
      "model_module_version": "1.5.0",
      "model_name": "DescriptionStyleModel",
      "state": {
       "description_width": ""
      }
     },
     "deea33cd3b354264a123e4d6357c2fce": {
      "model_module": "@jupyter-widgets/controls",
      "model_module_version": "1.5.0",
      "model_name": "ButtonStyleModel",
      "state": {
       "button_color": "lightgreen"
      }
     },
     "df5f5f1968b1468eae739dd5f0e67a52": {
      "model_module": "@jupyter-widgets/controls",
      "model_module_version": "1.5.0",
      "model_name": "DescriptionStyleModel",
      "state": {
       "description_width": ""
      }
     },
     "df9d25eb33f14527b97a2976ec8e566e": {
      "model_module": "@jupyter-widgets/controls",
      "model_module_version": "1.5.0",
      "model_name": "ButtonStyleModel",
      "state": {}
     },
     "dfe93a0bad914a2f8980aac4d4cf6862": {
      "model_module": "@jupyter-widgets/base",
      "model_module_version": "1.2.0",
      "model_name": "LayoutModel",
      "state": {
       "width": "250px"
      }
     },
     "e055420538e447b09aebb3c0ec4ec343": {
      "model_module": "@jupyter-widgets/base",
      "model_module_version": "1.2.0",
      "model_name": "LayoutModel",
      "state": {
       "width": "250px"
      }
     },
     "e059c04e860f456e9c008f198e1de13a": {
      "model_module": "@jupyter-widgets/controls",
      "model_module_version": "1.5.0",
      "model_name": "ButtonModel",
      "state": {
       "description": "Complete",
       "layout": "IPY_MODEL_2716fb637e514e95adc6940c6d7f39db",
       "style": "IPY_MODEL_b48165fb26b34b7ea46e90e377ac5a96"
      }
     },
     "e073ca530b9b46c789c7dc2f05b53338": {
      "model_module": "@jupyter-widgets/base",
      "model_module_version": "1.2.0",
      "model_name": "LayoutModel",
      "state": {
       "width": "250px"
      }
     },
     "e09c0406aa6043c596dd7b48b61f9119": {
      "model_module": "@jupyter-widgets/base",
      "model_module_version": "1.2.0",
      "model_name": "LayoutModel",
      "state": {
       "justify_content": "center"
      }
     },
     "e0a9a56a49ae4a21af1081a89b92297e": {
      "model_module": "@jupyter-widgets/base",
      "model_module_version": "1.2.0",
      "model_name": "LayoutModel",
      "state": {}
     },
     "e0b78addc263496c8af0a667e7bfab81": {
      "model_module": "@jupyter-widgets/controls",
      "model_module_version": "1.5.0",
      "model_name": "ButtonModel",
      "state": {
       "description": "Predict",
       "layout": "IPY_MODEL_6ab2fafd580746bd80dd2b8b9033c707",
       "style": "IPY_MODEL_f4e44a9563cd47a482561d7401a5b8ba"
      }
     },
     "e0d9556d5867408687131f74af028088": {
      "model_module": "@jupyter-widgets/controls",
      "model_module_version": "1.5.0",
      "model_name": "ButtonModel",
      "state": {
       "description": "Reduce",
       "layout": "IPY_MODEL_0fc2563919e042f3a9f8e813d8b6edd7",
       "style": "IPY_MODEL_648bbc5e30a5476994d83b77cdbf2b0f"
      }
     },
     "e117597e4c4c4db1aeaf0df0adfdaddf": {
      "model_module": "@jupyter-widgets/controls",
      "model_module_version": "1.5.0",
      "model_name": "HTMLModel",
      "state": {
       "layout": "IPY_MODEL_d79f17fa60d8425fb12d8311f97392bc",
       "style": "IPY_MODEL_ab3e8ba31fa94596993fb54ab2387f9c",
       "value": "<h4 style=\"font-size:14px;\">Welche Operation folgt als nächstes?</h4>"
      }
     },
     "e12cd9e5dab24d5c890f02822b831d65": {
      "model_module": "@jupyter-widgets/base",
      "model_module_version": "1.2.0",
      "model_name": "LayoutModel",
      "state": {
       "width": "250px"
      }
     },
     "e14905aded124e31a51649467b74aba7": {
      "model_module": "@jupyter-widgets/controls",
      "model_module_version": "1.5.0",
      "model_name": "HTMLModel",
      "state": {
       "layout": "IPY_MODEL_622b8699718349b78a3f4ef9837a1d24",
       "style": "IPY_MODEL_d25b81b7612d4b41a7a9b4dd02f62e8f",
       "value": "<h4 style=\"font-size:14px;\">Welche Operation folgt als nächstes?</h4>"
      }
     },
     "e17e95586b1840ab9233de408806a304": {
      "model_module": "@jupyter-widgets/base",
      "model_module_version": "1.2.0",
      "model_name": "LayoutModel",
      "state": {
       "justify_content": "center"
      }
     },
     "e1a55c270b8c419cab25558c1498e8fb": {
      "model_module": "@jupyter-widgets/base",
      "model_module_version": "1.2.0",
      "model_name": "LayoutModel",
      "state": {
       "width": "250px"
      }
     },
     "e211ce922d2641259d2895218c6ceccd": {
      "model_module": "@jupyter-widgets/base",
      "model_module_version": "1.2.0",
      "model_name": "LayoutModel",
      "state": {
       "justify_content": "center"
      }
     },
     "e23102a2363e41098f0f98bff249eaef": {
      "model_module": "@jupyter-widgets/controls",
      "model_module_version": "1.5.0",
      "model_name": "ButtonModel",
      "state": {
       "description": "Predict",
       "layout": "IPY_MODEL_30ff9a0fec984661bd15ddb609b0f7b7",
       "style": "IPY_MODEL_22ddcda748f54985a9d7f84dd88eb2df"
      }
     },
     "e2460749b5f645b9bcf1366809e41745": {
      "model_module": "@jupyter-widgets/controls",
      "model_module_version": "1.5.0",
      "model_name": "ButtonStyleModel",
      "state": {}
     },
     "e2972b83b87c4e498f8e28d7674ba8a8": {
      "model_module": "@jupyter-widgets/base",
      "model_module_version": "1.2.0",
      "model_name": "LayoutModel",
      "state": {
       "width": "250px"
      }
     },
     "e29d17153dc7472bac3d0b03426c46db": {
      "model_module": "@jupyter-widgets/controls",
      "model_module_version": "1.5.0",
      "model_name": "ButtonModel",
      "state": {
       "description": "Shift",
       "layout": "IPY_MODEL_961385c6cb3d4d65b7783b0f870eef4e",
       "style": "IPY_MODEL_bc6cd3974be84059acd82f7af829b7e0"
      }
     },
     "e2cdee2ab2bc444dbb29f153e1e868d8": {
      "model_module": "@jupyter-widgets/base",
      "model_module_version": "1.2.0",
      "model_name": "LayoutModel",
      "state": {
       "justify_content": "center"
      }
     },
     "e2ec0dd598574c589fc2f36e9fc259ca": {
      "model_module": "@jupyter-widgets/controls",
      "model_module_version": "1.5.0",
      "model_name": "ButtonStyleModel",
      "state": {}
     },
     "e32f5d7e898e4db3a44617cd1060c89d": {
      "model_module": "@jupyter-widgets/controls",
      "model_module_version": "1.5.0",
      "model_name": "ButtonModel",
      "state": {
       "description": "Scan",
       "layout": "IPY_MODEL_bdb137f8000946febe2c1c1574a76675",
       "style": "IPY_MODEL_329f39e8fc9941e6bedcdf583bcb7bab"
      }
     },
     "e342a584e07f440cb3e8da243763450e": {
      "model_module": "@jupyter-widgets/base",
      "model_module_version": "1.2.0",
      "model_name": "LayoutModel",
      "state": {
       "justify_content": "center"
      }
     },
     "e35304f6429f4b098d329ba29f1cfc34": {
      "model_module": "@jupyter-widgets/base",
      "model_module_version": "1.2.0",
      "model_name": "LayoutModel",
      "state": {
       "width": "250px"
      }
     },
     "e35bd10fdfb24b7bb7a04aef52eeaa3f": {
      "model_module": "@jupyter-widgets/base",
      "model_module_version": "1.2.0",
      "model_name": "LayoutModel",
      "state": {
       "width": "600px"
      }
     },
     "e35c7b655a644c16af7a098ec3cc8467": {
      "model_module": "@jupyter-widgets/base",
      "model_module_version": "1.2.0",
      "model_name": "LayoutModel",
      "state": {}
     },
     "e3608a3681e241259ecd6ed8fef4fb01": {
      "model_module": "@jupyter-widgets/controls",
      "model_module_version": "1.5.0",
      "model_name": "DescriptionStyleModel",
      "state": {
       "description_width": "initial"
      }
     },
     "e3a3f41f0c8c41148192b226340026c0": {
      "model_module": "@jupyter-widgets/controls",
      "model_module_version": "1.5.0",
      "model_name": "HTMLModel",
      "state": {
       "layout": "IPY_MODEL_d3578a96bdfa45f881fb2118475282da",
       "style": "IPY_MODEL_c83338b52dcf4fc49e2e43becc1c732f",
       "value": "<h4 style=\"font-size:14px;\">Welche Operation folgt als nächstes?</h4>"
      }
     },
     "e3bea48265c8430994b644525eb5d80a": {
      "model_module": "@jupyter-widgets/base",
      "model_module_version": "1.2.0",
      "model_name": "LayoutModel",
      "state": {}
     },
     "e3c5b46f771343dc87942436660c4056": {
      "model_module": "@jupyter-widgets/controls",
      "model_module_version": "1.5.0",
      "model_name": "ButtonStyleModel",
      "state": {
       "button_color": "lightgreen"
      }
     },
     "e3cfca34612846fd80293fc30e5dc688": {
      "model_module": "@jupyter-widgets/controls",
      "model_module_version": "1.5.0",
      "model_name": "HTMLModel",
      "state": {
       "layout": "IPY_MODEL_1f4d43b9e5a44f9a8234234a16fb1b95",
       "style": "IPY_MODEL_4a067e137c6d4866ae209714db08ac6a",
       "value": "<i>Wählen Sie die <ins>eine</ins> korrekte Antwort aus: </i>"
      }
     },
     "e3d876de5e454b1eb69b88846fc0055c": {
      "model_module": "@jupyter-widgets/base",
      "model_module_version": "1.2.0",
      "model_name": "LayoutModel",
      "state": {
       "width": "250px"
      }
     },
     "e3f961bbd98942b39a3424f9649ce195": {
      "model_module": "@jupyter-widgets/controls",
      "model_module_version": "1.5.0",
      "model_name": "VBoxModel",
      "state": {
       "children": [
        "IPY_MODEL_6f435e4925ce40a7b64b4c63a6040568",
        "IPY_MODEL_07c45d8365864b87bb88e307633eef76",
        "IPY_MODEL_7c52baaa47f446ceace64da6528cd5d9",
        "IPY_MODEL_5c0eb46b9cff4c41a98dfbe63b9e4acc"
       ],
       "layout": "IPY_MODEL_1c74628fc96840b6a6f1ab0af9e7e868"
      }
     },
     "e41b3a41865e484f87ef9de6f6b020b1": {
      "model_module": "@jupyter-widgets/base",
      "model_module_version": "1.2.0",
      "model_name": "LayoutModel",
      "state": {
       "width": "250px"
      }
     },
     "e41b751e91414a6c86416a2dc956e98c": {
      "model_module": "@jupyter-widgets/controls",
      "model_module_version": "1.5.0",
      "model_name": "ButtonModel",
      "state": {
       "description": "Predict",
       "layout": "IPY_MODEL_c2ff1a6a6c2c48029130eb0a01fde6c5",
       "style": "IPY_MODEL_89fad49ac967480ba03587fb1dfd320a"
      }
     },
     "e481cb06fc6446f485f4e32558b803ac": {
      "model_module": "@jupyter-widgets/controls",
      "model_module_version": "1.5.0",
      "model_name": "ButtonModel",
      "state": {
       "description": "Shift",
       "layout": "IPY_MODEL_ae4990f8298046888b5a65bc75b432e3",
       "style": "IPY_MODEL_490857126f4f4545ac1cd53695149c9a"
      }
     },
     "e4824b3676cc45a4bf27354c5795d84e": {
      "model_module": "@jupyter-widgets/controls",
      "model_module_version": "1.5.0",
      "model_name": "ButtonModel",
      "state": {
       "description": "Scan",
       "layout": "IPY_MODEL_6b7c4176ed9640b6a71260456c81084d",
       "style": "IPY_MODEL_661632641dbe4e0b927cead4ac2e24bf"
      }
     },
     "e4ada88975504e9eb9c3b79cf6e384f6": {
      "model_module": "@jupyter-widgets/base",
      "model_module_version": "1.2.0",
      "model_name": "LayoutModel",
      "state": {
       "justify_content": "center"
      }
     },
     "e4b8fdca0f474ee2a0550b99541c076d": {
      "model_module": "@jupyter-widgets/controls",
      "model_module_version": "1.5.0",
      "model_name": "DescriptionStyleModel",
      "state": {
       "description_width": ""
      }
     },
     "e4d5fe64a6d84f7488f58655d271bdfb": {
      "model_module": "@jupyter-widgets/controls",
      "model_module_version": "1.5.0",
      "model_name": "CheckboxModel",
      "state": {
       "description": "Predict",
       "disabled": false,
       "layout": "IPY_MODEL_4e628bda4c7d408588607c6e04dc5401",
       "style": "IPY_MODEL_4b66b790658d49489f30d8729afabe18",
       "value": true
      }
     },
     "e4fc880147ff45e594289f43b0101c30": {
      "model_module": "@jupyter-widgets/base",
      "model_module_version": "1.2.0",
      "model_name": "LayoutModel",
      "state": {
       "justify_content": "center"
      }
     },
     "e52e86f5204e43c698df9b86073b72ea": {
      "model_module": "@jupyter-widgets/controls",
      "model_module_version": "1.5.0",
      "model_name": "ButtonModel",
      "state": {
       "description": "Scan",
       "layout": "IPY_MODEL_b86aebb66eff44ccaa58231c40d50349",
       "style": "IPY_MODEL_5193a81363b1406681bcf24187307c08"
      }
     },
     "e52fed76a42b44dfa0eba0c8f6c81df2": {
      "model_module": "@jupyter-widgets/controls",
      "model_module_version": "1.5.0",
      "model_name": "ButtonModel",
      "state": {
       "description": "Shift",
       "layout": "IPY_MODEL_260edccf59be439386256b955ed75c5d",
       "style": "IPY_MODEL_4eb8edb12bca4a5ab8cbfb6da7c8e3e5"
      }
     },
     "e56c72d85d3d437d85e1cea4dcf1a38c": {
      "model_module": "@jupyter-widgets/base",
      "model_module_version": "1.2.0",
      "model_name": "LayoutModel",
      "state": {
       "width": "250px"
      }
     },
     "e579a3a42e9a4b4cb45b57d9bbe1c72a": {
      "model_module": "@jupyter-widgets/base",
      "model_module_version": "1.2.0",
      "model_name": "LayoutModel",
      "state": {
       "width": "600px"
      }
     },
     "e5b29ba96ae24c9f826353a43f8ec3a6": {
      "model_module": "@jupyter-widgets/controls",
      "model_module_version": "1.5.0",
      "model_name": "DescriptionStyleModel",
      "state": {
       "description_width": "initial"
      }
     },
     "e5d9176ff8c0468ab9f5f16f3b2c23fb": {
      "model_module": "@jupyter-widgets/controls",
      "model_module_version": "1.5.0",
      "model_name": "HTMLModel",
      "state": {
       "layout": "IPY_MODEL_5d1f396b137b41fa97dcf7b34dc6149a",
       "style": "IPY_MODEL_42bf7e4bbe744bf890d564a5d5b35529",
       "value": "<i>Wählen Sie die <ins>eine</ins> korrekte Antwort aus: </i>"
      }
     },
     "e5f3668af637416482ad23ab554d27c2": {
      "model_module": "@jupyter-widgets/controls",
      "model_module_version": "1.5.0",
      "model_name": "ButtonStyleModel",
      "state": {
       "button_color": "lightgreen"
      }
     },
     "e62d8d6a440a4ff1a61378b6a23ba760": {
      "model_module": "@jupyter-widgets/controls",
      "model_module_version": "1.5.0",
      "model_name": "ButtonModel",
      "state": {
       "description": "Keine der Alternativen",
       "layout": "IPY_MODEL_16bbdddeceff4f7b846993693fcbd643",
       "style": "IPY_MODEL_e5f3668af637416482ad23ab554d27c2"
      }
     },
     "e656151eba424f4db06b901df283ae97": {
      "model_module": "@jupyter-widgets/controls",
      "model_module_version": "1.5.0",
      "model_name": "ButtonStyleModel",
      "state": {}
     },
     "e65db87429d24d9da4d08da4ebcd66b9": {
      "model_module": "@jupyter-widgets/controls",
      "model_module_version": "1.5.0",
      "model_name": "DescriptionStyleModel",
      "state": {
       "description_width": "initial"
      }
     },
     "e662d162e2db4103bf62f9a699cb7c95": {
      "model_module": "@jupyter-widgets/controls",
      "model_module_version": "1.5.0",
      "model_name": "HBoxModel",
      "state": {
       "children": [
        "IPY_MODEL_9182966c9ea4465abd11dc58f8019472",
        "IPY_MODEL_0bf0ccf204e1461da76651a3831e7c77"
       ],
       "layout": "IPY_MODEL_9119f1ebd8754598a2badc5a58421057"
      }
     },
     "e663cca03e5547288d3ab6cd95b9e6ec": {
      "model_module": "@jupyter-widgets/controls",
      "model_module_version": "1.5.0",
      "model_name": "HTMLModel",
      "state": {
       "layout": "IPY_MODEL_d0e9bc8acad9493c8301acbde3edf156",
       "style": "IPY_MODEL_5bf53657c3d4435891ddd5ac48f7949b",
       "value": "<i>Wählen Sie die <ins>eine</ins> korrekte Antwort aus: </i>"
      }
     },
     "e674ee031a8f48c38fa169a47f0b6edd": {
      "model_module": "@jupyter-widgets/controls",
      "model_module_version": "1.5.0",
      "model_name": "HBoxModel",
      "state": {
       "children": [
        "IPY_MODEL_31de47430a7f43268183f0e3e226c40c",
        "IPY_MODEL_1eba682da6dc421884a90d5ccdf328a1"
       ],
       "layout": "IPY_MODEL_b0b08e5cf937465cbc9bb6bc34e44136"
      }
     },
     "e6a09ea36bf54117b1e13d54587b3c37": {
      "model_module": "@jupyter-widgets/controls",
      "model_module_version": "1.5.0",
      "model_name": "ButtonStyleModel",
      "state": {}
     },
     "e6a1ef622a474ab4a177f99b26c464ee": {
      "model_module": "@jupyter-widgets/controls",
      "model_module_version": "1.5.0",
      "model_name": "ButtonModel",
      "state": {
       "description": "Earley",
       "layout": "IPY_MODEL_c2a2b251426049518f91589914487c84",
       "style": "IPY_MODEL_245b978b439e4578bfdf45ab9c3ae139"
      }
     },
     "e7059dc9fea644a094f66f50c9f89af4": {
      "model_module": "@jupyter-widgets/base",
      "model_module_version": "1.2.0",
      "model_name": "LayoutModel",
      "state": {
       "justify_content": "center"
      }
     },
     "e7062c27a6d5482eab914d8cb6db2b88": {
      "model_module": "@jupyter-widgets/controls",
      "model_module_version": "1.5.0",
      "model_name": "HTMLModel",
      "state": {
       "layout": "IPY_MODEL_30fec9d7d4e84330817479f037fd9387",
       "style": "IPY_MODEL_d90a302e59724c1fb67c10a7257afee5",
       "value": "<h4 style=\"font-size:14px;\">Welche Operationen hat der Shift Reduce Parser?</h4>"
      }
     },
     "e76ce42736844d4aa81552ec0e87e4fa": {
      "model_module": "@jupyter-widgets/controls",
      "model_module_version": "1.5.0",
      "model_name": "ButtonModel",
      "state": {
       "description": "Complete",
       "layout": "IPY_MODEL_a512d21d254848daae8bc746fceb064d",
       "style": "IPY_MODEL_cc7347d193ca4156b77619513f65b1c7"
      }
     },
     "e7db1db0c56b447e814574f2c40beb8f": {
      "model_module": "@jupyter-widgets/base",
      "model_module_version": "1.2.0",
      "model_name": "LayoutModel",
      "state": {}
     },
     "e80d252f84f2459f88e0c02c75776aa9": {
      "model_module": "@jupyter-widgets/controls",
      "model_module_version": "1.5.0",
      "model_name": "ButtonModel",
      "state": {
       "description": "Reduce",
       "layout": "IPY_MODEL_1ff2109224b64e50ab2098e45838abda",
       "style": "IPY_MODEL_4deac15f3db64ab9a6c78199ea671752"
      }
     },
     "e81f1455215047fa8556f6c42e235716": {
      "model_module": "@jupyter-widgets/controls",
      "model_module_version": "1.5.0",
      "model_name": "ButtonModel",
      "state": {
       "description": "Recusive Descent",
       "layout": "IPY_MODEL_6ac2497a4fd7439a8bd7ffc897b9c600",
       "style": "IPY_MODEL_eb3e687da92c4c1d9d183852c0f094de"
      }
     },
     "e82f02d63dbc4cc2a800254ec3da4503": {
      "model_module": "@jupyter-widgets/controls",
      "model_module_version": "1.5.0",
      "model_name": "ButtonStyleModel",
      "state": {}
     },
     "e8479e4990c3454fbd9c3b7df0a6199f": {
      "model_module": "@jupyter-widgets/controls",
      "model_module_version": "1.5.0",
      "model_name": "HTMLModel",
      "state": {
       "layout": "IPY_MODEL_306da6c10aa341aa98c0282b99f1d77d",
       "style": "IPY_MODEL_ca2e2331f232497a8fec077f97d5ce44",
       "value": "<h4 style=\"font-size:14px;\">Welche Operationen hat der Earley Parser?</h4>"
      }
     },
     "e852ffe4927c43b5857c707f9f792873": {
      "model_module": "@jupyter-widgets/base",
      "model_module_version": "1.2.0",
      "model_name": "LayoutModel",
      "state": {
       "width": "250px"
      }
     },
     "e8af30a054c64ad4a3f4cab74db98fbe": {
      "model_module": "@jupyter-widgets/controls",
      "model_module_version": "1.5.0",
      "model_name": "ButtonStyleModel",
      "state": {}
     },
     "e8daa8de6b41415f9ac34e885eff4d98": {
      "model_module": "@jupyter-widgets/base",
      "model_module_version": "1.2.0",
      "model_name": "LayoutModel",
      "state": {}
     },
     "e8e4f83302044e71bf3759990932a1c1": {
      "model_module": "@jupyter-widgets/controls",
      "model_module_version": "1.5.0",
      "model_name": "HTMLModel",
      "state": {
       "layout": "IPY_MODEL_b70b707b93964291b9ce3739a6e52c9c",
       "style": "IPY_MODEL_7a72c73d4ac74b67b738630289f5d20d",
       "value": "<h4 style=\"font-size:14px;\">Welche Operation folgt als nächstes?</h4>"
      }
     },
     "e8ec6a03dcb743899c9c774f8ba3123e": {
      "model_module": "@jupyter-widgets/controls",
      "model_module_version": "1.5.0",
      "model_name": "HBoxModel",
      "state": {
       "children": [
        "IPY_MODEL_2a9f1adfb2ed4703ad4201d5aa550a78"
       ],
       "layout": "IPY_MODEL_32faed6d30cb43b2908171af7fab4a3c"
      }
     },
     "e905e4c5f101401ca51c3a6260a37dc3": {
      "model_module": "@jupyter-widgets/base",
      "model_module_version": "1.2.0",
      "model_name": "LayoutModel",
      "state": {
       "width": "600px"
      }
     },
     "e90761e069c34cb6b74ffa19599042d4": {
      "model_module": "@jupyter-widgets/controls",
      "model_module_version": "1.5.0",
      "model_name": "HTMLModel",
      "state": {
       "layout": "IPY_MODEL_987cf58d064541dfa11ee323ae151a0f",
       "style": "IPY_MODEL_ae607c8bb542474798079836042d1131",
       "value": "<i>Wählen Sie die <ins>eine</ins> korrekte Antwort aus: </i>"
      }
     },
     "e92a24cabe6147939096e9bbb3a807b5": {
      "model_module": "@jupyter-widgets/base",
      "model_module_version": "1.2.0",
      "model_name": "LayoutModel",
      "state": {
       "width": "250px"
      }
     },
     "e934c44e892a48f2992423dfa346c73e": {
      "model_module": "@jupyter-widgets/controls",
      "model_module_version": "1.5.0",
      "model_name": "DescriptionStyleModel",
      "state": {
       "description_width": ""
      }
     },
     "e936ac3d24bd49cda18dd4e7b5345a68": {
      "model_module": "@jupyter-widgets/controls",
      "model_module_version": "1.5.0",
      "model_name": "VBoxModel",
      "state": {
       "children": [
        "IPY_MODEL_6e3b0ce6e72b42b8bac515a88136c7c9",
        "IPY_MODEL_0b3cd0f432cc40f0b6e23049200d2627",
        "IPY_MODEL_88849a79f31c493c95f7d842d98e6f0a",
        "IPY_MODEL_4f1ce7d838e444b4b7353a1fe0c94c7b",
        "IPY_MODEL_97d5ad7d172b4692a7717eddbc5c2553"
       ],
       "layout": "IPY_MODEL_e3bea48265c8430994b644525eb5d80a"
      }
     },
     "e988568e779f4153b5da9d0a27867047": {
      "model_module": "@jupyter-widgets/base",
      "model_module_version": "1.2.0",
      "model_name": "LayoutModel",
      "state": {}
     },
     "e99ff9e1dff747549e1a84e08f6d32cf": {
      "model_module": "@jupyter-widgets/controls",
      "model_module_version": "1.5.0",
      "model_name": "ButtonModel",
      "state": {
       "description": "Shift",
       "layout": "IPY_MODEL_4d8a88e314df4c379e625303a1e5da5f",
       "style": "IPY_MODEL_3bf99cf257b24458b1ee00286e2b82b2"
      }
     },
     "e9f3c3cc4b714e7aa67b2fec36ef0af6": {
      "model_module": "@jupyter-widgets/controls",
      "model_module_version": "1.5.0",
      "model_name": "ButtonStyleModel",
      "state": {
       "button_color": "lightgreen"
      }
     },
     "ea27efe2a485496a860e2cf57a9a7732": {
      "model_module": "@jupyter-widgets/base",
      "model_module_version": "1.2.0",
      "model_name": "LayoutModel",
      "state": {
       "width": "250px"
      }
     },
     "ea7ac2b64160473780e8b0df5f46e01e": {
      "model_module": "@jupyter-widgets/controls",
      "model_module_version": "1.5.0",
      "model_name": "ButtonModel",
      "state": {
       "description": "Shift Reduce",
       "layout": "IPY_MODEL_0fe474c99248415faf8e038fd5254fbd",
       "style": "IPY_MODEL_8c2677467f5f435e8b776a11c3580a43"
      }
     },
     "eaa6827fda5244959f560667c3dbb989": {
      "model_module": "@jupyter-widgets/controls",
      "model_module_version": "1.5.0",
      "model_name": "ButtonStyleModel",
      "state": {}
     },
     "eaaf5183c2254ebc93c438260a608052": {
      "model_module": "@jupyter-widgets/base",
      "model_module_version": "1.2.0",
      "model_name": "LayoutModel",
      "state": {}
     },
     "eac54c5fe4644ffbb49b14df4cefcdf3": {
      "model_module": "@jupyter-widgets/controls",
      "model_module_version": "1.5.0",
      "model_name": "HTMLModel",
      "state": {
       "layout": "IPY_MODEL_bfd4b563d29e484abb350f9fef520e29",
       "style": "IPY_MODEL_ee117549b5824b6caa17ebc37f7fee72",
       "value": "<h4 style=\"font-size:14px;\">Um welchen Parser handelt es sich?</h4>"
      }
     },
     "eaf9c924a03e42788f4945063ef3787a": {
      "model_module": "@jupyter-widgets/base",
      "model_module_version": "1.2.0",
      "model_name": "LayoutModel",
      "state": {
       "width": "600px"
      }
     },
     "eb3a2deaa7b342dd9e001daf0f2cfc05": {
      "model_module": "@jupyter-widgets/base",
      "model_module_version": "1.2.0",
      "model_name": "LayoutModel",
      "state": {}
     },
     "eb3e687da92c4c1d9d183852c0f094de": {
      "model_module": "@jupyter-widgets/controls",
      "model_module_version": "1.5.0",
      "model_name": "ButtonStyleModel",
      "state": {}
     },
     "eb3fef0208404be2afcf0e85d8ce030f": {
      "model_module": "@jupyter-widgets/controls",
      "model_module_version": "1.5.0",
      "model_name": "ButtonModel",
      "state": {
       "description": "Shift Reduce",
       "layout": "IPY_MODEL_ac4fb6f3706f44bda59c2dad1d7252b7",
       "style": "IPY_MODEL_89dd359788ed4682a5268a5db0fa507a"
      }
     },
     "eb497927fc79459da6662d69d94a56e9": {
      "model_module": "@jupyter-widgets/base",
      "model_module_version": "1.2.0",
      "model_name": "LayoutModel",
      "state": {
       "width": "250px"
      }
     },
     "ebacfb74bd844e4c8eaaada900f4f6df": {
      "model_module": "@jupyter-widgets/base",
      "model_module_version": "1.2.0",
      "model_name": "LayoutModel",
      "state": {
       "width": "250px"
      }
     },
     "ec12655b79764828b0020e78f5af8ffc": {
      "model_module": "@jupyter-widgets/controls",
      "model_module_version": "1.5.0",
      "model_name": "ButtonModel",
      "state": {
       "description": "Predict",
       "layout": "IPY_MODEL_4b15d729933b40ca95ab0ca49a5a8f86",
       "style": "IPY_MODEL_60d8c65880484e399015d5416d028dc2"
      }
     },
     "ec16c16545db47be8b531fe55eb99152": {
      "model_module": "@jupyter-widgets/controls",
      "model_module_version": "1.5.0",
      "model_name": "DescriptionStyleModel",
      "state": {
       "description_width": ""
      }
     },
     "ec30d6cccf0d42639af0bbccde300d52": {
      "model_module": "@jupyter-widgets/base",
      "model_module_version": "1.2.0",
      "model_name": "LayoutModel",
      "state": {
       "width": "250px"
      }
     },
     "ec858861de024d5e871df839d383c67c": {
      "model_module": "@jupyter-widgets/controls",
      "model_module_version": "1.5.0",
      "model_name": "VBoxModel",
      "state": {
       "children": [
        "IPY_MODEL_dca2b09772e94b3f9a0702b72c7d5e0e",
        "IPY_MODEL_695b466d181144a199bd68c86c121599",
        "IPY_MODEL_335099f09fe746bcb093aaaaf465e39e",
        "IPY_MODEL_4ad36a93f26a4074a29658306471665f"
       ],
       "layout": "IPY_MODEL_4997f7bb5bff46eb817a1f3b0b848154"
      }
     },
     "ecb8e5be45654b3a83b307f680a5c2a7": {
      "model_module": "@jupyter-widgets/base",
      "model_module_version": "1.2.0",
      "model_name": "LayoutModel",
      "state": {}
     },
     "ecbbce5e50ac480e898573f8fedd8f59": {
      "model_module": "@jupyter-widgets/base",
      "model_module_version": "1.2.0",
      "model_name": "LayoutModel",
      "state": {}
     },
     "ecf922f79b3b43a38ae59c9e927009a2": {
      "model_module": "@jupyter-widgets/controls",
      "model_module_version": "1.5.0",
      "model_name": "ButtonStyleModel",
      "state": {}
     },
     "ed05932b909a4b8cae8a2a79c103da88": {
      "model_module": "@jupyter-widgets/controls",
      "model_module_version": "1.5.0",
      "model_name": "HTMLModel",
      "state": {
       "layout": "IPY_MODEL_7a591cb3cc2e4418910a251cde7c68c7",
       "style": "IPY_MODEL_8201f05ee93042248a67dfa4c4d8546d",
       "value": "<i>Markieren Sie <ins>alle</ins> passenden Antworten: </i>"
      }
     },
     "ed12ce59e00c4f2cba00e86b64b38a6d": {
      "model_module": "@jupyter-widgets/controls",
      "model_module_version": "1.5.0",
      "model_name": "ButtonModel",
      "state": {
       "description": "Predict",
       "layout": "IPY_MODEL_701e4ce10a0f4add8ac5a67ff92da335",
       "style": "IPY_MODEL_8b2ecd387cc84da09b03be1192f70750"
      }
     },
     "ed1e61ec4adc4295a11d464587fce33a": {
      "model_module": "@jupyter-widgets/controls",
      "model_module_version": "1.5.0",
      "model_name": "HTMLModel",
      "state": {
       "layout": "IPY_MODEL_e342a584e07f440cb3e8da243763450e",
       "style": "IPY_MODEL_4d986d1741cf44a28733736fc41efc75",
       "value": "<i>Wählen Sie die <ins>eine</ins> korrekte Antwort aus: </i>"
      }
     },
     "ed9a1541c7dd485bab2454bcb0fbbd91": {
      "model_module": "@jupyter-widgets/controls",
      "model_module_version": "1.5.0",
      "model_name": "ButtonStyleModel",
      "state": {
       "button_color": "lightgreen"
      }
     },
     "edc59a3dc3ee41abb787379ec4062d25": {
      "model_module": "@jupyter-widgets/controls",
      "model_module_version": "1.5.0",
      "model_name": "ButtonStyleModel",
      "state": {}
     },
     "edc8b767df1148a086fba51beb54795e": {
      "model_module": "@jupyter-widgets/controls",
      "model_module_version": "1.5.0",
      "model_name": "ButtonModel",
      "state": {
       "description": "Keine der Alternativen",
       "layout": "IPY_MODEL_48123b3c82fb4ec68c67a3dd31bee9af",
       "style": "IPY_MODEL_3176b9b749a74fa4a835b8f27b068d9b"
      }
     },
     "edf38b020b8646ec99b84eb717640ae2": {
      "model_module": "@jupyter-widgets/base",
      "model_module_version": "1.2.0",
      "model_name": "LayoutModel",
      "state": {
       "justify_content": "center"
      }
     },
     "ee117549b5824b6caa17ebc37f7fee72": {
      "model_module": "@jupyter-widgets/controls",
      "model_module_version": "1.5.0",
      "model_name": "DescriptionStyleModel",
      "state": {
       "description_width": ""
      }
     },
     "ee1beb1e340f4e7bb5ef9114c2d52e7c": {
      "model_module": "@jupyter-widgets/controls",
      "model_module_version": "1.5.0",
      "model_name": "DescriptionStyleModel",
      "state": {
       "description_width": "initial"
      }
     },
     "ee24bb68de4f4c3aae86288a4d87af96": {
      "model_module": "@jupyter-widgets/controls",
      "model_module_version": "1.5.0",
      "model_name": "ButtonStyleModel",
      "state": {}
     },
     "ee2908de88c54e3693202e5cf7099167": {
      "model_module": "@jupyter-widgets/base",
      "model_module_version": "1.2.0",
      "model_name": "LayoutModel",
      "state": {
       "width": "250px"
      }
     },
     "ee714054188a4d6c8983faa87e48f7f3": {
      "model_module": "@jupyter-widgets/controls",
      "model_module_version": "1.5.0",
      "model_name": "ButtonStyleModel",
      "state": {}
     },
     "ee77700dfef246dbba4534748de5c465": {
      "model_module": "@jupyter-widgets/controls",
      "model_module_version": "1.5.0",
      "model_name": "HBoxModel",
      "state": {
       "children": [
        "IPY_MODEL_6aac360a36e8442691d4cebfb259a566",
        "IPY_MODEL_9c0c7dca039d4739b9b3e3458f3cabf8"
       ],
       "layout": "IPY_MODEL_baa9cf7d5e864e5db9af4518c2d5cb3d"
      }
     },
     "eea9d2881496420bb09372efee7959e4": {
      "model_module": "@jupyter-widgets/base",
      "model_module_version": "1.2.0",
      "model_name": "LayoutModel",
      "state": {
       "width": "250px"
      }
     },
     "eebb499a0db745cf80d72408508f00f1": {
      "model_module": "@jupyter-widgets/base",
      "model_module_version": "1.2.0",
      "model_name": "LayoutModel",
      "state": {
       "width": "250px"
      }
     },
     "eec029dbbdaf42809960c5b34eb4759b": {
      "model_module": "@jupyter-widgets/base",
      "model_module_version": "1.2.0",
      "model_name": "LayoutModel",
      "state": {
       "justify_content": "center"
      }
     },
     "ef09fb00a02144e2a9d1cce43559791a": {
      "model_module": "@jupyter-widgets/base",
      "model_module_version": "1.2.0",
      "model_name": "LayoutModel",
      "state": {}
     },
     "ef36f6b4e9464070bd8bddf06cdcd9b6": {
      "model_module": "@jupyter-widgets/controls",
      "model_module_version": "1.5.0",
      "model_name": "HTMLModel",
      "state": {
       "layout": "IPY_MODEL_09564e8ef68d428fb2f92d23bd248ffa",
       "style": "IPY_MODEL_11db1e2f29604c118e0dd100f507deca",
       "value": "<h4 style=\"font-size:14px;\">Welche Operation folgt als nächstes?</h4>"
      }
     },
     "ef63b0bbd76d43a7a6b7012724c033e6": {
      "model_module": "@jupyter-widgets/controls",
      "model_module_version": "1.5.0",
      "model_name": "ButtonModel",
      "state": {
       "description": "Complete",
       "layout": "IPY_MODEL_e852ffe4927c43b5857c707f9f792873",
       "style": "IPY_MODEL_2b269e8916864919bdc1f98ea550b6fd"
      }
     },
     "ef70dbeb922f47eba9928d789fcecf5e": {
      "model_module": "@jupyter-widgets/base",
      "model_module_version": "1.2.0",
      "model_name": "LayoutModel",
      "state": {
       "width": "250px"
      }
     },
     "ef8866c431b84d9281e86ecd61037caa": {
      "model_module": "@jupyter-widgets/base",
      "model_module_version": "1.2.0",
      "model_name": "LayoutModel",
      "state": {}
     },
     "ef94605e81444e92b438fddd03b4e4a2": {
      "model_module": "@jupyter-widgets/controls",
      "model_module_version": "1.5.0",
      "model_name": "HBoxModel",
      "state": {
       "children": [
        "IPY_MODEL_32ce388d48a14ce295d4eaea814864ee",
        "IPY_MODEL_5f42ded8643e44c691e01805c48b65fa"
       ],
       "layout": "IPY_MODEL_87b7ec5b1e724db5ad10874e0277948b"
      }
     },
     "ef9cd337ac8b41f0b09b9bd53901af86": {
      "model_module": "@jupyter-widgets/controls",
      "model_module_version": "1.5.0",
      "model_name": "ButtonStyleModel",
      "state": {}
     },
     "ef9d225201554ff7af4b5dd83decb208": {
      "model_module": "@jupyter-widgets/controls",
      "model_module_version": "1.5.0",
      "model_name": "HBoxModel",
      "state": {
       "children": [
        "IPY_MODEL_7600349d4f0d4302aaed2729af6be8ea",
        "IPY_MODEL_d5caa5169b354d21a3a6ac6ee27f0767"
       ],
       "layout": "IPY_MODEL_400a9fb98ccc4be284043745174ed845"
      }
     },
     "efabc0e437f4444ea130a6f378bfe755": {
      "model_module": "@jupyter-widgets/controls",
      "model_module_version": "1.5.0",
      "model_name": "DescriptionStyleModel",
      "state": {
       "description_width": ""
      }
     },
     "f0154444934a4f9085e61a586a2c34b6": {
      "model_module": "@jupyter-widgets/controls",
      "model_module_version": "1.5.0",
      "model_name": "ButtonStyleModel",
      "state": {}
     },
     "f02e4882cc8247df83ae125ff63559ef": {
      "model_module": "@jupyter-widgets/controls",
      "model_module_version": "1.5.0",
      "model_name": "CheckboxModel",
      "state": {
       "description": "Scan",
       "disabled": false,
       "layout": "IPY_MODEL_4b02d2f69a8e4704a356aa7552e71b68",
       "style": "IPY_MODEL_aab6676569684ced947e501bb0fd0a52",
       "value": false
      }
     },
     "f04a35568d614621a5e66aa7c485d101": {
      "model_module": "@jupyter-widgets/controls",
      "model_module_version": "1.5.0",
      "model_name": "HTMLModel",
      "state": {
       "layout": "IPY_MODEL_7e3d9599e9554563b1fc1edc2e358726",
       "style": "IPY_MODEL_a2fa38364f5b4a8cb83b302c7cf219f7",
       "value": "<i>Wählen Sie die <ins>eine</ins> korrekte Antwort aus: </i>"
      }
     },
     "f08de5729d3b405b9c9f98b4bc4b4d45": {
      "model_module": "@jupyter-widgets/controls",
      "model_module_version": "1.5.0",
      "model_name": "ButtonModel",
      "state": {
       "description": "Complete",
       "layout": "IPY_MODEL_8e5e7ff0e1e5417f8f820fa1603b9611",
       "style": "IPY_MODEL_e82f02d63dbc4cc2a800254ec3da4503"
      }
     },
     "f09a593fad5b4fcab7598eaf0f346e41": {
      "model_module": "@jupyter-widgets/controls",
      "model_module_version": "1.5.0",
      "model_name": "ButtonStyleModel",
      "state": {}
     },
     "f0b9252a8ac94f28949dd5797fec1082": {
      "model_module": "@jupyter-widgets/controls",
      "model_module_version": "1.5.0",
      "model_name": "DescriptionStyleModel",
      "state": {
       "description_width": "initial"
      }
     },
     "f112a15954e248628eefb59c187143ce": {
      "model_module": "@jupyter-widgets/controls",
      "model_module_version": "1.5.0",
      "model_name": "DescriptionStyleModel",
      "state": {
       "description_width": ""
      }
     },
     "f11b61be8f554e218719995ea47e45be": {
      "model_module": "@jupyter-widgets/base",
      "model_module_version": "1.2.0",
      "model_name": "LayoutModel",
      "state": {
       "width": "250px"
      }
     },
     "f11fecda7d81429aafb9b9a0771af2e7": {
      "model_module": "@jupyter-widgets/base",
      "model_module_version": "1.2.0",
      "model_name": "LayoutModel",
      "state": {
       "width": "250px"
      }
     },
     "f1335ca984644c2b9e3b36cdb761e52c": {
      "model_module": "@jupyter-widgets/controls",
      "model_module_version": "1.5.0",
      "model_name": "DescriptionStyleModel",
      "state": {
       "description_width": ""
      }
     },
     "f16adbb2f9f64e76a16b111e1acf99c3": {
      "model_module": "@jupyter-widgets/controls",
      "model_module_version": "1.5.0",
      "model_name": "ButtonStyleModel",
      "state": {}
     },
     "f16df036827147748f2ff066b6b3d441": {
      "model_module": "@jupyter-widgets/controls",
      "model_module_version": "1.5.0",
      "model_name": "HTMLModel",
      "state": {
       "layout": "IPY_MODEL_f8c1b4af96e7409092c8cb176dff42e0",
       "style": "IPY_MODEL_b22b2b6af5444c2ea70c1ae8b67c5e68",
       "value": "<h4 style=\"font-size:14px;\">Welche Operation folgt als nächstes?</h4>"
      }
     },
     "f179bbc33ae54a4cbda23993f27ecc36": {
      "model_module": "@jupyter-widgets/base",
      "model_module_version": "1.2.0",
      "model_name": "LayoutModel",
      "state": {
       "width": "250px"
      }
     },
     "f1b3dc4cac964e3fa30433507a72d97f": {
      "model_module": "@jupyter-widgets/base",
      "model_module_version": "1.2.0",
      "model_name": "LayoutModel",
      "state": {
       "width": "250px"
      }
     },
     "f1d0aa0949d94de4983f09a6e61a9025": {
      "model_module": "@jupyter-widgets/controls",
      "model_module_version": "1.5.0",
      "model_name": "DescriptionStyleModel",
      "state": {
       "description_width": ""
      }
     },
     "f1f4e2a936734269acdd71487f122e02": {
      "model_module": "@jupyter-widgets/controls",
      "model_module_version": "1.5.0",
      "model_name": "ButtonModel",
      "state": {
       "description": "Shift",
       "layout": "IPY_MODEL_c7cfc7bc5a4142dcb6ce99d3c4e8a091",
       "style": "IPY_MODEL_5407e789a2f44b569136a547ca550de5"
      }
     },
     "f2303c7e9f1a40a89258f9e3f331de6b": {
      "model_module": "@jupyter-widgets/base",
      "model_module_version": "1.2.0",
      "model_name": "LayoutModel",
      "state": {}
     },
     "f24c6f4ba9a9492faa3a24d3878d17d6": {
      "model_module": "@jupyter-widgets/controls",
      "model_module_version": "1.5.0",
      "model_name": "DescriptionStyleModel",
      "state": {
       "description_width": ""
      }
     },
     "f2b96e5ddaeb47e79b5a092b843f2d36": {
      "model_module": "@jupyter-widgets/base",
      "model_module_version": "1.2.0",
      "model_name": "LayoutModel",
      "state": {
       "justify_content": "center"
      }
     },
     "f386e2668dd04abe853d00ab0e7844b5": {
      "model_module": "@jupyter-widgets/controls",
      "model_module_version": "1.5.0",
      "model_name": "ButtonStyleModel",
      "state": {}
     },
     "f38d6ff7a12644b5bcd04a9bab64f3a7": {
      "model_module": "@jupyter-widgets/controls",
      "model_module_version": "1.5.0",
      "model_name": "ButtonStyleModel",
      "state": {}
     },
     "f39e80f05d9b41dd861c731151f99b42": {
      "model_module": "@jupyter-widgets/base",
      "model_module_version": "1.2.0",
      "model_name": "LayoutModel",
      "state": {}
     },
     "f3ee8ecba895457a8c2076de214f108e": {
      "model_module": "@jupyter-widgets/base",
      "model_module_version": "1.2.0",
      "model_name": "LayoutModel",
      "state": {
       "width": "250px"
      }
     },
     "f45ea716e679419c9aaa8c9b71cc6b82": {
      "model_module": "@jupyter-widgets/base",
      "model_module_version": "1.2.0",
      "model_name": "LayoutModel",
      "state": {
       "width": "250px"
      }
     },
     "f4675c861356430c95117413db73353b": {
      "model_module": "@jupyter-widgets/controls",
      "model_module_version": "1.5.0",
      "model_name": "HBoxModel",
      "state": {
       "children": [
        "IPY_MODEL_4dcb63f1e51645578a919c7637e009f8",
        "IPY_MODEL_1427f625865e4bea9abcc73494abace6"
       ],
       "layout": "IPY_MODEL_c82b808d7cf14a19bc80e049aa7267f9"
      }
     },
     "f468440ebcde4f1ca8b58aa2e0016e8a": {
      "model_module": "@jupyter-widgets/controls",
      "model_module_version": "1.5.0",
      "model_name": "ButtonModel",
      "state": {
       "description": "Scan",
       "layout": "IPY_MODEL_489be051c28a4f8c84f5ace5842329ae",
       "style": "IPY_MODEL_ff43595a315d42799c583e23a24de73c"
      }
     },
     "f496baa054054f12818160ed19bdfa44": {
      "model_module": "@jupyter-widgets/base",
      "model_module_version": "1.2.0",
      "model_name": "LayoutModel",
      "state": {}
     },
     "f4af41e8bf784d61b829330a6f2a0c48": {
      "model_module": "@jupyter-widgets/base",
      "model_module_version": "1.2.0",
      "model_name": "LayoutModel",
      "state": {}
     },
     "f4c23639f5a1430bb36432d208b46517": {
      "model_module": "@jupyter-widgets/controls",
      "model_module_version": "1.5.0",
      "model_name": "ButtonModel",
      "state": {
       "description": "Complete",
       "layout": "IPY_MODEL_ec30d6cccf0d42639af0bbccde300d52",
       "style": "IPY_MODEL_d9fc5b0b3b56467181cf5802bb498c3c"
      }
     },
     "f4e44a9563cd47a482561d7401a5b8ba": {
      "model_module": "@jupyter-widgets/controls",
      "model_module_version": "1.5.0",
      "model_name": "ButtonStyleModel",
      "state": {}
     },
     "f4f572937e83400b93ffd810cdf7797b": {
      "model_module": "@jupyter-widgets/base",
      "model_module_version": "1.2.0",
      "model_name": "LayoutModel",
      "state": {}
     },
     "f4fe53ff85204f38a361beca2b1cc22a": {
      "model_module": "@jupyter-widgets/base",
      "model_module_version": "1.2.0",
      "model_name": "LayoutModel",
      "state": {}
     },
     "f561d039527d495596874d895c70c11e": {
      "model_module": "@jupyter-widgets/base",
      "model_module_version": "1.2.0",
      "model_name": "LayoutModel",
      "state": {
       "justify_content": "center"
      }
     },
     "f56551d0285b48a08887407616023e48": {
      "model_module": "@jupyter-widgets/base",
      "model_module_version": "1.2.0",
      "model_name": "LayoutModel",
      "state": {}
     },
     "f578415577e2417f99acb973758edb4f": {
      "model_module": "@jupyter-widgets/controls",
      "model_module_version": "1.5.0",
      "model_name": "HTMLModel",
      "state": {
       "layout": "IPY_MODEL_abe01a9e0c9b44e798dd9207ff535c91",
       "style": "IPY_MODEL_528fe41f0ac7400a8acce85b6f0b8f57",
       "value": "<h4 style=\"font-size:14px;\">Welche Operation folgt als nächstes?</h4>"
      }
     },
     "f5a39281fde44a6ca3404fe555bee640": {
      "model_module": "@jupyter-widgets/base",
      "model_module_version": "1.2.0",
      "model_name": "LayoutModel",
      "state": {
       "width": "600px"
      }
     },
     "f5ba7996c5ca423db3af535d2d3da205": {
      "model_module": "@jupyter-widgets/controls",
      "model_module_version": "1.5.0",
      "model_name": "CheckboxModel",
      "state": {
       "description": "Shift",
       "disabled": false,
       "layout": "IPY_MODEL_a5871b46ac844f2eb6676274d07e1ed1",
       "style": "IPY_MODEL_cf24c02fd413462a8cc68dba7d11bba2",
       "value": true
      }
     },
     "f5bb31fdc92a4182908745dc4d25a882": {
      "model_module": "@jupyter-widgets/controls",
      "model_module_version": "1.5.0",
      "model_name": "DescriptionStyleModel",
      "state": {
       "description_width": ""
      }
     },
     "f5d3f6967756455c978f9645684e414c": {
      "model_module": "@jupyter-widgets/controls",
      "model_module_version": "1.5.0",
      "model_name": "ButtonStyleModel",
      "state": {}
     },
     "f5f323ab74414a219af09018f319751b": {
      "model_module": "@jupyter-widgets/base",
      "model_module_version": "1.2.0",
      "model_name": "LayoutModel",
      "state": {}
     },
     "f5f8e4f511fb4dd3ac4df3b983a07f49": {
      "model_module": "@jupyter-widgets/base",
      "model_module_version": "1.2.0",
      "model_name": "LayoutModel",
      "state": {
       "width": "250px"
      }
     },
     "f6003010c8524d9c8efce926354877f2": {
      "model_module": "@jupyter-widgets/controls",
      "model_module_version": "1.5.0",
      "model_name": "DescriptionStyleModel",
      "state": {
       "description_width": ""
      }
     },
     "f618bc682d9e4892bd06bcf2ba4f593d": {
      "model_module": "@jupyter-widgets/controls",
      "model_module_version": "1.5.0",
      "model_name": "ButtonModel",
      "state": {
       "description": "Recusive Descent",
       "layout": "IPY_MODEL_82855e26fa434ab99163c967050965ac",
       "style": "IPY_MODEL_ae8f7a0c66804b6282fc886c3a7bb5cf"
      }
     },
     "f62e23b7cc214fea98f388b8b216b417": {
      "model_module": "@jupyter-widgets/base",
      "model_module_version": "1.2.0",
      "model_name": "LayoutModel",
      "state": {
       "width": "250px"
      }
     },
     "f67d9ea1eb0b4481bbc05499d741a37d": {
      "model_module": "@jupyter-widgets/controls",
      "model_module_version": "1.5.0",
      "model_name": "ButtonModel",
      "state": {
       "description": "Earley",
       "layout": "IPY_MODEL_e073ca530b9b46c789c7dc2f05b53338",
       "style": "IPY_MODEL_dcb9d7c9f82d414397e1e4196decd363"
      }
     },
     "f68570584efc4aaf81722fda2bfe3489": {
      "model_module": "@jupyter-widgets/base",
      "model_module_version": "1.2.0",
      "model_name": "LayoutModel",
      "state": {}
     },
     "f685a42b7a294a5494456dc883fc1e63": {
      "model_module": "@jupyter-widgets/controls",
      "model_module_version": "1.5.0",
      "model_name": "ButtonStyleModel",
      "state": {}
     },
     "f6a3a586be074344a972f8970fb7cff8": {
      "model_module": "@jupyter-widgets/controls",
      "model_module_version": "1.5.0",
      "model_name": "HTMLModel",
      "state": {
       "layout": "IPY_MODEL_646bbe11186649159194db8f5938e5a7",
       "style": "IPY_MODEL_420b0ad18807436597b309ba5277dd8d",
       "value": "<h4 style=\"font-size:14px;\">Welche Operation folgt als nächstes?</h4>"
      }
     },
     "f6b6bd88d3a841a6ba6335b4cd61583c": {
      "model_module": "@jupyter-widgets/base",
      "model_module_version": "1.2.0",
      "model_name": "LayoutModel",
      "state": {
       "width": "250px"
      }
     },
     "f70fdc11ef2f41c888e2426740b0cc0b": {
      "model_module": "@jupyter-widgets/base",
      "model_module_version": "1.2.0",
      "model_name": "LayoutModel",
      "state": {
       "width": "250px"
      }
     },
     "f74541eac0c545e38a8f4494c4d06881": {
      "model_module": "@jupyter-widgets/base",
      "model_module_version": "1.2.0",
      "model_name": "LayoutModel",
      "state": {
       "width": "250px"
      }
     },
     "f7946aaec337468eb655a93231ac0826": {
      "model_module": "@jupyter-widgets/controls",
      "model_module_version": "1.5.0",
      "model_name": "ButtonModel",
      "state": {
       "description": "Reduce",
       "layout": "IPY_MODEL_e2972b83b87c4e498f8e28d7674ba8a8",
       "style": "IPY_MODEL_a9aa2e66aef84967a19a6da368608113"
      }
     },
     "f7bfe3b9d360446ab4dd55fbc9476633": {
      "model_module": "@jupyter-widgets/controls",
      "model_module_version": "1.5.0",
      "model_name": "HBoxModel",
      "state": {
       "children": [
        "IPY_MODEL_d20a86ce01fa4c3491577fdd722eca2e",
        "IPY_MODEL_a765c4c3bd62433f8cd6fe189224072d"
       ],
       "layout": "IPY_MODEL_a130bdc26fd24f63bffc115f1cf3b634"
      }
     },
     "f7ca7b3769a74aa2b2cd4773c1ba09a7": {
      "model_module": "@jupyter-widgets/base",
      "model_module_version": "1.2.0",
      "model_name": "LayoutModel",
      "state": {
       "justify_content": "center"
      }
     },
     "f7cb47012570449089f7ac641f6861bb": {
      "model_module": "@jupyter-widgets/base",
      "model_module_version": "1.2.0",
      "model_name": "LayoutModel",
      "state": {
       "justify_content": "center"
      }
     },
     "f811557531e04a3599c609fba2fdf0e6": {
      "model_module": "@jupyter-widgets/controls",
      "model_module_version": "1.5.0",
      "model_name": "ButtonModel",
      "state": {
       "description": "Korrekt?",
       "layout": "IPY_MODEL_cdf63774abb940b58746c8095b4ff1a8",
       "style": "IPY_MODEL_ef9cd337ac8b41f0b09b9bd53901af86"
      }
     },
     "f8691f870c474a788479362039740a65": {
      "model_module": "@jupyter-widgets/controls",
      "model_module_version": "1.5.0",
      "model_name": "ButtonModel",
      "state": {
       "description": "Predict",
       "layout": "IPY_MODEL_7a996264d66f40019e48e0c777a11fe9",
       "style": "IPY_MODEL_a892d85da27a47d79dadb5d422563ee0"
      }
     },
     "f89a44cb02f8400db650d8389eb77384": {
      "model_module": "@jupyter-widgets/controls",
      "model_module_version": "1.5.0",
      "model_name": "ButtonStyleModel",
      "state": {}
     },
     "f8a60b442af340d0826714eb47d8adf1": {
      "model_module": "@jupyter-widgets/controls",
      "model_module_version": "1.5.0",
      "model_name": "ButtonModel",
      "state": {
       "description": "Earley",
       "layout": "IPY_MODEL_a85ce85cbb7f48c291e71e289001992d",
       "style": "IPY_MODEL_0bb61ad21ecf4271a2dc4947efcf0dd4"
      }
     },
     "f8c1b4af96e7409092c8cb176dff42e0": {
      "model_module": "@jupyter-widgets/base",
      "model_module_version": "1.2.0",
      "model_name": "LayoutModel",
      "state": {
       "justify_content": "center"
      }
     },
     "f8cc2f4d8c534c5fa3fb86fafa621f7a": {
      "model_module": "@jupyter-widgets/controls",
      "model_module_version": "1.5.0",
      "model_name": "ButtonStyleModel",
      "state": {}
     },
     "f8d7b5264a5146f7923bf21c190db5e8": {
      "model_module": "@jupyter-widgets/controls",
      "model_module_version": "1.5.0",
      "model_name": "DescriptionStyleModel",
      "state": {
       "description_width": ""
      }
     },
     "f8ddf5bed19d4137867a6951c51b56af": {
      "model_module": "@jupyter-widgets/base",
      "model_module_version": "1.2.0",
      "model_name": "LayoutModel",
      "state": {
       "width": "250px"
      }
     },
     "f905a89ef77f493284a67ff14f7a8834": {
      "model_module": "@jupyter-widgets/base",
      "model_module_version": "1.2.0",
      "model_name": "LayoutModel",
      "state": {}
     },
     "f91466503c034123989f845d25f21fb4": {
      "model_module": "@jupyter-widgets/controls",
      "model_module_version": "1.5.0",
      "model_name": "DescriptionStyleModel",
      "state": {
       "description_width": ""
      }
     },
     "f93dcf6e27e94fafb9b3db4bcd17fc85": {
      "model_module": "@jupyter-widgets/controls",
      "model_module_version": "1.5.0",
      "model_name": "ButtonStyleModel",
      "state": {
       "button_color": "lightgreen"
      }
     },
     "f979634b494a4d138f34eeb51540fcde": {
      "model_module": "@jupyter-widgets/controls",
      "model_module_version": "1.5.0",
      "model_name": "HBoxModel",
      "state": {
       "children": [
        "IPY_MODEL_cc35acb3e78341ff93bca6d3a190f3a6",
        "IPY_MODEL_1947f88e617f4693bc3c7d90864ba252"
       ],
       "layout": "IPY_MODEL_e35c7b655a644c16af7a098ec3cc8467"
      }
     },
     "f98792bf93eb4a758e4d2d3c9a507b26": {
      "model_module": "@jupyter-widgets/controls",
      "model_module_version": "1.5.0",
      "model_name": "ButtonStyleModel",
      "state": {}
     },
     "f9b94d690c4040a3b4868e54c19902e9": {
      "model_module": "@jupyter-widgets/base",
      "model_module_version": "1.2.0",
      "model_name": "LayoutModel",
      "state": {
       "width": "250px"
      }
     },
     "fa156639f99c4877ae3d82df0e3ea3b4": {
      "model_module": "@jupyter-widgets/controls",
      "model_module_version": "1.5.0",
      "model_name": "ButtonModel",
      "state": {
       "description": "Complete",
       "layout": "IPY_MODEL_978b7878f91e4c9bb3ecdc08d1046811",
       "style": "IPY_MODEL_dd19e9b5b1f544978a69e9c6c8927271"
      }
     },
     "fa3eaa7e3ac44263a791b47a0a2129ec": {
      "model_module": "@jupyter-widgets/controls",
      "model_module_version": "1.5.0",
      "model_name": "ButtonModel",
      "state": {
       "description": "Predict",
       "layout": "IPY_MODEL_bd56d3bf78a94c5e8e2de8ac9e0dc7d1",
       "style": "IPY_MODEL_f386e2668dd04abe853d00ab0e7844b5"
      }
     },
     "fa8890de7290499ca5736cba88a093be": {
      "model_module": "@jupyter-widgets/controls",
      "model_module_version": "1.5.0",
      "model_name": "CheckboxModel",
      "state": {
       "description": "Reduce",
       "disabled": false,
       "layout": "IPY_MODEL_413427e807b24f5e89dcd0c94985dcf5",
       "style": "IPY_MODEL_ee1beb1e340f4e7bb5ef9114c2d52e7c",
       "value": true
      }
     },
     "fa8f9dc132fc47c1b266a0634bebc7dc": {
      "model_module": "@jupyter-widgets/base",
      "model_module_version": "1.2.0",
      "model_name": "LayoutModel",
      "state": {
       "width": "250px"
      }
     },
     "fa9b5edc928540fcb6f624e59ef20a00": {
      "model_module": "@jupyter-widgets/controls",
      "model_module_version": "1.5.0",
      "model_name": "HBoxModel",
      "state": {
       "children": [
        "IPY_MODEL_88bfe8136c99419e9d83d543f3b9a5a4",
        "IPY_MODEL_5073e7b55ca44d30ae2aac6dc0a5d92f"
       ],
       "layout": "IPY_MODEL_38963fca5c3445078c3859fb441716c3"
      }
     },
     "fa9d5c9abc1c4ca89a8ec452ee6c7061": {
      "model_module": "@jupyter-widgets/base",
      "model_module_version": "1.2.0",
      "model_name": "LayoutModel",
      "state": {}
     },
     "faa1774ba9d64397904beffd9068ee07": {
      "model_module": "@jupyter-widgets/controls",
      "model_module_version": "1.5.0",
      "model_name": "DescriptionStyleModel",
      "state": {
       "description_width": ""
      }
     },
     "facc1c2f099c4ed4b6a39ac32e771f79": {
      "model_module": "@jupyter-widgets/controls",
      "model_module_version": "1.5.0",
      "model_name": "HBoxModel",
      "state": {
       "children": [
        "IPY_MODEL_d45af81ecbc54464b94bca4ae21b6d97",
        "IPY_MODEL_e99ff9e1dff747549e1a84e08f6d32cf"
       ],
       "layout": "IPY_MODEL_c0d04f71b5d24e1ba67c090cd20ac733"
      }
     },
     "fb09722c35fe465dbbb1e7c3ed6b11eb": {
      "model_module": "@jupyter-widgets/base",
      "model_module_version": "1.2.0",
      "model_name": "LayoutModel",
      "state": {}
     },
     "fb1b34684ac4413ebf029102c9bb9364": {
      "model_module": "@jupyter-widgets/controls",
      "model_module_version": "1.5.0",
      "model_name": "ButtonStyleModel",
      "state": {}
     },
     "fb5e7359fd5146deab6bc932b8217bb0": {
      "model_module": "@jupyter-widgets/base",
      "model_module_version": "1.2.0",
      "model_name": "LayoutModel",
      "state": {}
     },
     "fb84a613aa904f0dbe8526618ecfa54d": {
      "model_module": "@jupyter-widgets/controls",
      "model_module_version": "1.5.0",
      "model_name": "DescriptionStyleModel",
      "state": {
       "description_width": ""
      }
     },
     "fbc443ccca9b4169844636ed9700b0ad": {
      "model_module": "@jupyter-widgets/base",
      "model_module_version": "1.2.0",
      "model_name": "LayoutModel",
      "state": {}
     },
     "fbd5fc7133b8442d9eebd975d0c32869": {
      "model_module": "@jupyter-widgets/controls",
      "model_module_version": "1.5.0",
      "model_name": "HTMLModel",
      "state": {
       "layout": "IPY_MODEL_d4aaaa336f234b99b045bd1a66cbdd86",
       "style": "IPY_MODEL_44176f38835a4de0befc36c08683141a",
       "value": "<i>Wählen Sie die <ins>eine</ins> korrekte Antwort aus: </i>"
      }
     },
     "fc41174b5c1c4e0ab0c729b437b725df": {
      "model_module": "@jupyter-widgets/base",
      "model_module_version": "1.2.0",
      "model_name": "LayoutModel",
      "state": {}
     },
     "fc9c49466c10429b9e49572f1fd2773d": {
      "model_module": "@jupyter-widgets/controls",
      "model_module_version": "1.5.0",
      "model_name": "HBoxModel",
      "state": {
       "children": [
        "IPY_MODEL_e32f5d7e898e4db3a44617cd1060c89d",
        "IPY_MODEL_bcfea01a41124be0bf2c2d38141005bc"
       ],
       "layout": "IPY_MODEL_9b47ba7a6d7f42a5a89ca785b2acfcee"
      }
     },
     "fcb0236b37304ffdad8549751db6aae0": {
      "model_module": "@jupyter-widgets/controls",
      "model_module_version": "1.5.0",
      "model_name": "CheckboxModel",
      "state": {
       "description": "Reduce",
       "disabled": false,
       "layout": "IPY_MODEL_49cb496b0d5949a58fb3d0e0defae6f1",
       "style": "IPY_MODEL_e65db87429d24d9da4d08da4ebcd66b9",
       "value": false
      }
     },
     "fcb3f47dbb53405bb3b483a98079d02c": {
      "model_module": "@jupyter-widgets/controls",
      "model_module_version": "1.5.0",
      "model_name": "HBoxModel",
      "state": {
       "children": [
        "IPY_MODEL_f08de5729d3b405b9c9f98b4bc4b4d45",
        "IPY_MODEL_49a9cf7278844b17b29a06f0a1ad24b9"
       ],
       "layout": "IPY_MODEL_ef09fb00a02144e2a9d1cce43559791a"
      }
     },
     "fce371f6076d4083bb8d64899ebc743b": {
      "model_module": "@jupyter-widgets/base",
      "model_module_version": "1.2.0",
      "model_name": "LayoutModel",
      "state": {
       "width": "250px"
      }
     },
     "fd100c3c6e3f4a8f8efea2f3c2f36468": {
      "model_module": "@jupyter-widgets/controls",
      "model_module_version": "1.5.0",
      "model_name": "ButtonModel",
      "state": {
       "description": "Korrekt?",
       "layout": "IPY_MODEL_028c3b089db744cba3053c571264ed85",
       "style": "IPY_MODEL_5b9fb336e03543b7bc9934bd736c0c94"
      }
     },
     "fd31a62e745e455fa2ce6ff799e99fa0": {
      "model_module": "@jupyter-widgets/controls",
      "model_module_version": "1.5.0",
      "model_name": "ButtonModel",
      "state": {
       "description": "Keine der Alternativen",
       "layout": "IPY_MODEL_eb497927fc79459da6662d69d94a56e9",
       "style": "IPY_MODEL_14fb4dfd7501478fb6881bee2fe5ca47"
      }
     },
     "fd5b8031066347d2a7934c86fea02ce5": {
      "model_module": "@jupyter-widgets/controls",
      "model_module_version": "1.5.0",
      "model_name": "DescriptionStyleModel",
      "state": {
       "description_width": ""
      }
     },
     "fd77bdc3fb5d4589a26b2d1236289bc9": {
      "model_module": "@jupyter-widgets/base",
      "model_module_version": "1.2.0",
      "model_name": "LayoutModel",
      "state": {
       "width": "250px"
      }
     },
     "fdb835a4024e4bf68d0a1e87c01f3b38": {
      "model_module": "@jupyter-widgets/base",
      "model_module_version": "1.2.0",
      "model_name": "LayoutModel",
      "state": {
       "width": "250px"
      }
     },
     "fdcf84fef4cf461f9bd578e7bcadc2ac": {
      "model_module": "@jupyter-widgets/base",
      "model_module_version": "1.2.0",
      "model_name": "LayoutModel",
      "state": {
       "width": "250px"
      }
     },
     "fdfdccce7db641b08e3e64ea52a73e61": {
      "model_module": "@jupyter-widgets/base",
      "model_module_version": "1.2.0",
      "model_name": "LayoutModel",
      "state": {}
     },
     "fe10136f3e9746e3b9cdad3ff75b8455": {
      "model_module": "@jupyter-widgets/controls",
      "model_module_version": "1.5.0",
      "model_name": "DescriptionStyleModel",
      "state": {
       "description_width": ""
      }
     },
     "fe1422baa0b942aba8910599a712c60f": {
      "model_module": "@jupyter-widgets/controls",
      "model_module_version": "1.5.0",
      "model_name": "ButtonModel",
      "state": {
       "description": "Complete",
       "layout": "IPY_MODEL_d9f75042699f4856b5e3d30476b4739e",
       "style": "IPY_MODEL_ae9cdc7dd61444d9ab4be5a9af496c05"
      }
     },
     "fe34e2b4f15540c1a0d8c72f21a76ca6": {
      "model_module": "@jupyter-widgets/controls",
      "model_module_version": "1.5.0",
      "model_name": "VBoxModel",
      "state": {
       "children": [
        "IPY_MODEL_3f09f7ef90c84e16b49f4d951cdf8428",
        "IPY_MODEL_a535ab4070ad4d8f846d777bc788ece1",
        "IPY_MODEL_4a59f79aa8804735862090525ed9d632",
        "IPY_MODEL_d048c6cee5cd43e1bfa984d4f7cef0c2",
        "IPY_MODEL_3ca433d44f264c69a5f1337ea8bf755b"
       ],
       "layout": "IPY_MODEL_4e34e16a008948c882f1977f613d72e3"
      }
     },
     "fe821d51a1334cdd8b766dd203085693": {
      "model_module": "@jupyter-widgets/controls",
      "model_module_version": "1.5.0",
      "model_name": "ButtonStyleModel",
      "state": {
       "button_color": "lightgreen"
      }
     },
     "ff0e1114455f4474b46fb4fc39765a56": {
      "model_module": "@jupyter-widgets/controls",
      "model_module_version": "1.5.0",
      "model_name": "ButtonModel",
      "state": {
       "description": "Shift Reduce",
       "layout": "IPY_MODEL_014849f3eef64e0fb9eb851f0875630f",
       "style": "IPY_MODEL_c1386ef6ab784dc0adc8506f993b7bc0"
      }
     },
     "ff43595a315d42799c583e23a24de73c": {
      "model_module": "@jupyter-widgets/controls",
      "model_module_version": "1.5.0",
      "model_name": "ButtonStyleModel",
      "state": {}
     },
     "ff81b310ad544488bde3dc5c80e0aa12": {
      "model_module": "@jupyter-widgets/controls",
      "model_module_version": "1.5.0",
      "model_name": "ButtonStyleModel",
      "state": {}
     },
     "ff843e934d34451999995cf7352c7ca0": {
      "model_module": "@jupyter-widgets/controls",
      "model_module_version": "1.5.0",
      "model_name": "ButtonStyleModel",
      "state": {}
     },
     "ff8c0f7a6af241989ea70ad6687c276f": {
      "model_module": "@jupyter-widgets/base",
      "model_module_version": "1.2.0",
      "model_name": "LayoutModel",
      "state": {}
     },
     "ff9378a71a5a4c0f823f3e927821b230": {
      "model_module": "@jupyter-widgets/controls",
      "model_module_version": "1.5.0",
      "model_name": "VBoxModel",
      "state": {
       "children": [
        "IPY_MODEL_635024bfed2f41ae94d5f90c7ce5b516",
        "IPY_MODEL_0e9f14713f0c45b39e276bce3b792a7a",
        "IPY_MODEL_3663185fcbc349a681dc82cec2a39e22",
        "IPY_MODEL_bb752a159a9e4aca9736657e88e1946b"
       ],
       "layout": "IPY_MODEL_2a5ce81803a34f76aa134b1c2906eed1"
      }
     }
    },
    "version_major": 2,
    "version_minor": 0
   }
  }
 },
 "nbformat": 4,
 "nbformat_minor": 2
}
