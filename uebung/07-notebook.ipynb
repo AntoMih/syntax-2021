{
 "cells": [
  {
   "cell_type": "markdown",
   "metadata": {},
   "source": [
    "***Vorlesung 'Syntax natürlicher Sprachen', WS 2020/21***\n",
    "\n",
    "---\n",
    "# Übung 7"
   ]
  },
  {
   "cell_type": "code",
   "execution_count": 1,
   "metadata": {},
   "outputs": [],
   "source": [
    "from exercises_7 import *\n",
    "from questions import aufgabe\n",
    "import nltk\n",
    "import sys\n",
    "from IPython.display import display"
   ]
  },
  {
   "cell_type": "markdown",
   "metadata": {},
   "source": [
    "---\n",
    "## Aufgabe 1 : CFG: Kongruenz in Nominalphrasen\n",
    "\n",
    "#### Die folgende Grammatik entspricht der Grammatik von Übungsblatt 4 am Ende der Präsenzaufgaben. (Sie können also stattdessen auch Ihre im Zuge der Übung von damals selbst erstellte Grammatik als Grundlage verwenden.)\n",
    "\n",
    "#### Orientieren Sie sich an folgender Tabelle zur Mehrdeutigkeit der Formen des bestimmen Artikels im Deutschen und passen Sie die Grammatik so an, dass sie nur noch grammatikalisch korrekte Nominalphrasen als Teil von Sätzen akzeptiert. Konzentrieren Sie sich auf die Kongruenz von Artikel und Nomen im Genus.\n",
    "\n",
    "|Form|mögliche Merkmale|\n",
    "|----|-----------------|\n",
    "|der|[NUM=sg, GEN=mas, KAS=nom]|\n",
    "|&nbsp;|[NUM=sg, GEN=fem, KAS=dat]|\n",
    "|&nbsp;|[NUM=sg, GEN=fem, KAS=GEN]|\n",
    "|&nbsp;|[NUM=pl, KAS=GEN]|\n",
    "|die|[NUM=sg, GEN=fem, KAS=nom]|\n",
    "|&nbsp;|[NUM=sg, GEN=fem, KAS=akk]|\n",
    "|&nbsp;|[NUM=pl, KAS=nom]|\n",
    "|&nbsp;|[NUM=pl, KAS=akk]|\n",
    "|das|[NUM=sg, GEN=neu, KAS=nom]|\n",
    "|&nbsp;|[NUM=sg, GEN=neu, KAS=akk]|"
   ]
  },
  {
   "cell_type": "code",
   "execution_count": 2,
   "metadata": {},
   "outputs": [],
   "source": [
    "grammar = \"\"\"\n",
    "S -> NP VP\n",
    "\n",
    "NP -> DET NOM\n",
    "NOM -> ADJ NOM | N\n",
    "VP -> V NP NP | V NP | V\n",
    "\n",
    "ADJ -> \"schöne\" | \"kluge\" | \"dicke\"\n",
    "DET -> \"der\" | \"die\" | \"das\"\n",
    "N -> \"Mann\" | \"Frau\" | \"Buch\"\n",
    "\n",
    "V -> \"gibt\" | \"schenkt\" | \"schläft\" | \"gefällt\" | \"kennt\"\n",
    "\"\"\""
   ]
  },
  {
   "cell_type": "code",
   "execution_count": 3,
   "metadata": {},
   "outputs": [],
   "source": [
    "def test_grammar(grammar, sentences):\n",
    "    cfg = nltk.grammar.FeatureGrammar.fromstring(grammar)\n",
    "    parser = nltk.parse.FeatureEarleyChartParser(cfg)\n",
    "    \n",
    "    for i, sent in enumerate(sentences, 1):\n",
    "        print(\"Satz {}: {}\".format(i, sent))\n",
    "        results = parser.parse(sent.split())\n",
    "        analyzed = False\n",
    "        for tree in results:\n",
    "            display(tree)\n",
    "            analyzed = True\n",
    "        if not analyzed:\n",
    "            print(\"Keine Analyse möglich\", file=sys.stderr)"
   ]
  },
  {
   "cell_type": "code",
   "execution_count": 4,
   "metadata": {},
   "outputs": [],
   "source": [
    "pos_sentences = [\"der Mann schläft\"]\n",
    "neg_sentences = [\"das Mann schläft\"]"
   ]
  },
  {
   "cell_type": "code",
   "execution_count": 5,
   "metadata": {},
   "outputs": [
    {
     "name": "stdout",
     "output_type": "stream",
     "text": [
      "Satz 1: das Mann schläft\n"
     ]
    },
    {
     "data": {
      "image/png": "[encoded data removed]",
      "text/plain": [
       "Tree(S[], [Tree(NP[], [Tree(DET[], ['das']), Tree(NOM[], [Tree(N[], ['Mann'])])]), Tree(VP[], [Tree(V[], ['schläft'])])])"
      ]
     },
     "metadata": {},
     "output_type": "display_data"
    }
   ],
   "source": [
    "test_grammar(grammar, neg_sentences)"
   ]
  },
  {
   "cell_type": "markdown",
   "metadata": {},
   "source": [
    "---\n",
    "## Aufgabe 2: CFG: Kasus\n",
    "\n",
    "#### Als nächstes sollen Kasusbedingungen in die Grammatik integriert werden:\n",
    "\n",
    "1. Es gibt nur eine Nominalphrase im Nominativ (Subjekt).\n",
    "1. Je nach Valenzstellen des Verbes sollen nur Nominalphrasen in den korrekten Kasus akzeptiert werden.\n",
    "1. *Optional:* Versuchen Sie die freie Satzstellung des Deutschen zu berücksichtigen."
   ]
  },
  {
   "cell_type": "code",
   "execution_count": 6,
   "metadata": {},
   "outputs": [],
   "source": [
    "grammar = \"\"\"\n",
    "\n",
    "BITTE NACH BEARBEITUNG VON (1) VON OBEN KOPIEREN\n",
    "\n",
    "\"\"\""
   ]
  },
  {
   "cell_type": "code",
   "execution_count": 7,
   "metadata": {},
   "outputs": [],
   "source": [
    "pos_sentences.extend([\n",
    "    \"das Buch gefällt der Frau\",\n",
    "    \"das Buch kennt die Frau\",\n",
    "    \"der Mann gibt der Frau das Buch\"\n",
    "])\n",
    "\n",
    "neg_sentences.extend([\n",
    "    \"der Mann schläft das Buch\",\n",
    "    \"die Frau gefällt das Buch\",\n",
    "    \"das Buch kennt\",\n",
    "    \"die Frau gibt das Buch\"\n",
    "])"
   ]
  },
  {
   "cell_type": "markdown",
   "metadata": {},
   "source": [
    "--- \n",
    "# Hausaufgaben"
   ]
  },
  {
   "cell_type": "markdown",
   "metadata": {},
   "source": [
    "---\n",
    "## Aufgabe 3: Plural für das Subjekt\n",
    "\n",
    "#### Ergänzen Sie die in den Präsenzaufgaben erstellte Grammatik um die Möglichkeit, das Subjekt in den Plural zu setzen.\n",
    "\n",
    "#### Dafür müssen Sie folgendes tun:\n",
    "  1. Erstellen Sie lexikalische Regeln für Pluralformen der Verben, Adjektive und Substantive (Nominativ ist ausreichend.).\n",
    "  1. Vervollständigen Sie die lexikalischen Regeln für die Form des Artikels *die* um die korrekte Merkmalstruktur für den Plural.\n",
    "  1. Formulieren Sie eine Kongruenzbedingung in Numerus zwischen Verb und Subjekt."
   ]
  },
  {
   "cell_type": "code",
   "execution_count": 8,
   "metadata": {},
   "outputs": [],
   "source": [
    "grammar = \"\"\"\n",
    "\n",
    "BITTE NACH BEARBEITUNG VON (2) VON OBEN KOPIEREN\n",
    "\n",
    "\"\"\""
   ]
  },
  {
   "cell_type": "code",
   "execution_count": 9,
   "metadata": {},
   "outputs": [],
   "source": [
    "pos_sentences.extend([\n",
    "    \"die Männer geben der Frau das Buch\",\n",
    "    \"die Bücher gefallen der Frau\",\n",
    "    \"die Frauen schlafen\"\n",
    "])\n",
    "\n",
    "neg_sentences.extend([\n",
    "    \"der Mann geben der Frau das Buch\",\n",
    "    \"das Buch gefällt der Frauen\",\n",
    "    \"die Frauen schläft\"\n",
    "])"
   ]
  },
  {
   "cell_type": "markdown",
   "metadata": {},
   "source": [
    "---\n",
    "## Aufgabe 4: Adverben und Verbzweitstellung\n",
    "\n",
    "#### Fügen Sie der Grammatik jetzt die zwei Adverben *heute* und *morgen* hinzu. Adverben können prinzipiell sehr frei im Satz platziert werden. Eine Besonderheit des Deutschen ist aber die sog. Verbzweitstellung, wie sie z. B. in Sätzen wie *Heute schläft der Mann.* deutlich wird.\n",
    "#### Versuchen Sie alle Möglichkeiten zu implementieren:"
   ]
  },
  {
   "cell_type": "code",
   "execution_count": 10,
   "metadata": {},
   "outputs": [],
   "source": [
    "grammar = \"\"\"\n",
    "\n",
    "BITTE NACH BEARBEITUNG VON (3) VON OBEN KOPIEREN\n",
    "\n",
    "\"\"\""
   ]
  },
  {
   "cell_type": "code",
   "execution_count": 11,
   "metadata": {},
   "outputs": [],
   "source": [
    "pos_sentences.extend([\n",
    "  \"heute gibt der Mann der Frau das Buch\",\n",
    "  \"der Mann gibt heute der Frau das Buch\",\n",
    "  \"der Mann gibt der Frau heute das Buch\",\n",
    "  \"der Mann gibt der Frau das Buch heute\"\n",
    "])\n",
    "\n",
    "neg_sentences.extend([\n",
    "    \"heute der Mann gibt der Frau das Buch\"\n",
    "])"
   ]
  },
  {
   "cell_type": "markdown",
   "metadata": {},
   "source": [
    "---\n",
    "## Aufgabe 5: Fragen zu NLTK-Kapitel 9.3.5\n",
    "\n",
    "#### Lesen Sie das NLTK-Teilkapitel 9.3.5 (’Case and Gender in German’): http://www.nltk.org/book/ch09.html#tab-german-def-art.\n",
    "#### Vollziehen Sie im letzten Codeblock das Trace-Output nach und erklären Sie, warum der Satz von der Grammatik abgelehnt wird."
   ]
  },
  {
   "cell_type": "code",
   "execution_count": 12,
   "metadata": {},
   "outputs": [
    {
     "data": {
      "application/vnd.jupyter.widget-view+json": {
       "model_id": "d12f301ed8b042c69916bf29917f5aac",
       "version_major": 2,
       "version_minor": 0
      },
      "text/plain": [
       "MultipleChoice(children=(HTML(value='<h4 style=\"font-size:14px;\">Welche DET-Kategorien gibt es für den Satz?</…"
      ]
     },
     "metadata": {},
     "output_type": "display_data"
    },
    {
     "data": {
      "application/vnd.jupyter.widget-view+json": {
       "model_id": "5521a1953e5048329f0d09eb0a6e14aa",
       "version_major": 2,
       "version_minor": 0
      },
      "text/plain": [
       "SingleChoice(children=(HTML(value='<h4 style=\"font-size:14px;\">Wieso wird der Satz von der Grammatik abgelehnt…"
      ]
     },
     "metadata": {},
     "output_type": "display_data"
    },
    {
     "data": {
      "application/vnd.jupyter.widget-view+json": {
       "model_id": "f95af53442304c1e80c13941677188cd",
       "version_major": 2,
       "version_minor": 0
      },
      "text/plain": [
       "MultipleChoice(children=(HTML(value='<h4 style=\"font-size:14px;\">Wo liegt das Problem, sodass der Satz abgeleh…"
      ]
     },
     "metadata": {},
     "output_type": "display_data"
    }
   ],
   "source": [
    "aufgabe(blatt7_5)"
   ]
  }
 ],
 "metadata": {
  "kernelspec": {
   "display_name": "Python 3",
   "language": "python",
   "name": "python3"
  },
  "language_info": {
   "codemirror_mode": {
    "name": "ipython",
    "version": 3
   },
   "file_extension": ".py",
   "mimetype": "text/x-python",
   "name": "python",
   "nbconvert_exporter": "python",
   "pygments_lexer": "ipython3",
   "version": "3.7.4"
  },
  "widgets": {
   "application/vnd.jupyter.widget-state+json": {
    "state": {
     "04861a9dc418461fb3f200dc4541195e": {
      "model_module": "@jupyter-widgets/controls",
      "model_module_version": "1.5.0",
      "model_name": "CheckboxModel",
      "state": {
       "description": "[NUM=’pl’, PER=3]",
       "disabled": false,
       "layout": "IPY_MODEL_e4df6f692cdd4a249b307ab0e50a21b3",
       "style": "IPY_MODEL_860b8e8dcff64498a89398a936b78389",
       "value": false
      }
     },
     "057b0cd824684579a0ffa9970fbe5e7c": {
      "model_module": "@jupyter-widgets/base",
      "model_module_version": "1.2.0",
      "model_name": "LayoutModel",
      "state": {
       "width": "600px"
      }
     },
     "068a0866dcb847ce8fa4c0d7ab278822": {
      "model_module": "@jupyter-widgets/base",
      "model_module_version": "1.2.0",
      "model_name": "LayoutModel",
      "state": {
       "width": "600px"
      }
     },
     "078693769a444626897a189dfc2a9290": {
      "model_module": "@jupyter-widgets/base",
      "model_module_version": "1.2.0",
      "model_name": "LayoutModel",
      "state": {}
     },
     "08a2689c8a0241a3b5430a322197be4c": {
      "model_module": "@jupyter-widgets/controls",
      "model_module_version": "1.5.0",
      "model_name": "DescriptionStyleModel",
      "state": {
       "description_width": ""
      }
     },
     "09edb363f97043e98d61453c734a6040": {
      "model_module": "@jupyter-widgets/controls",
      "model_module_version": "1.5.0",
      "model_name": "HTMLModel",
      "state": {
       "layout": "IPY_MODEL_1fbfdf16c5f842f1abcfbce93efc5080",
       "style": "IPY_MODEL_961e3387206f471fb4454d04b685ad16",
       "value": "<h4 style=\"font-size:14px;\">Welche DET-Kategorien gibt es für den Satz?</h4>"
      }
     },
     "0a5198693bbd43d489ec1c19a78379df": {
      "model_module": "@jupyter-widgets/base",
      "model_module_version": "1.2.0",
      "model_name": "LayoutModel",
      "state": {
       "justify_content": "center"
      }
     },
     "118c32f91e4846f0a2e8621bac064ae0": {
      "model_module": "@jupyter-widgets/base",
      "model_module_version": "1.2.0",
      "model_name": "LayoutModel",
      "state": {
       "width": "250px"
      }
     },
     "11cd503280fc429eb6254c22d47ed115": {
      "model_module": "@jupyter-widgets/base",
      "model_module_version": "1.2.0",
      "model_name": "LayoutModel",
      "state": {}
     },
     "12ad8975ff1f44dabea605710f45af9b": {
      "model_module": "@jupyter-widgets/controls",
      "model_module_version": "1.5.0",
      "model_name": "HTMLModel",
      "state": {
       "layout": "IPY_MODEL_14dda78bee3f4f24a7d4dc0d3be008e5",
       "style": "IPY_MODEL_3841d4d9492e472984eee297cc44c16b",
       "value": "<h4 style=\"font-size:14px;\">Wieso wird der Satz von der Grammatik abgelehnt?</h4>"
      }
     },
     "14dda78bee3f4f24a7d4dc0d3be008e5": {
      "model_module": "@jupyter-widgets/base",
      "model_module_version": "1.2.0",
      "model_name": "LayoutModel",
      "state": {
       "justify_content": "center"
      }
     },
     "16d7ab71c86a4eeeb01f971c88d8ed7b": {
      "model_module": "@jupyter-widgets/controls",
      "model_module_version": "1.5.0",
      "model_name": "VBoxModel",
      "state": {
       "children": [
        "IPY_MODEL_a578ed37fa6843bcaa5e49140de03b4f",
        "IPY_MODEL_5dad76dbe5504c968ee2dfab711fca44",
        "IPY_MODEL_a46d25a5c6c24b9589ef2d988f7cf171"
       ],
       "layout": "IPY_MODEL_346dc9d6350d4248bce10734e37f75ba"
      }
     },
     "17b305a615a34ad7a6801809ce9ab4b0": {
      "model_module": "@jupyter-widgets/controls",
      "model_module_version": "1.5.0",
      "model_name": "ButtonModel",
      "state": {
       "description": "'Katze' ist kein gültiges Wort",
       "layout": "IPY_MODEL_7cfeacaaa0cc443a9e469b645f4b5fe5",
       "style": "IPY_MODEL_33425cbbf5624367a55af3d4015bc17a"
      }
     },
     "1cccfffe92fd4ab2ac1d912721f12dba": {
      "model_module": "@jupyter-widgets/controls",
      "model_module_version": "1.5.0",
      "model_name": "ButtonStyleModel",
      "state": {}
     },
     "1d8cd427b1064f02b361e538209847f5": {
      "model_module": "@jupyter-widgets/controls",
      "model_module_version": "1.5.0",
      "model_name": "DescriptionStyleModel",
      "state": {
       "description_width": "initial"
      }
     },
     "1f9227e515e04234b82c13f457614048": {
      "model_module": "@jupyter-widgets/controls",
      "model_module_version": "1.5.0",
      "model_name": "DescriptionStyleModel",
      "state": {
       "description_width": "initial"
      }
     },
     "1fa0050554a34f56801cbfcd227a0a0e": {
      "model_module": "@jupyter-widgets/controls",
      "model_module_version": "1.5.0",
      "model_name": "CheckboxModel",
      "state": {
       "description": "[NUM=’pl’, PER=3]",
       "disabled": false,
       "layout": "IPY_MODEL_f9054c17a5f043efbd132c8cacb6db82",
       "style": "IPY_MODEL_1d8cd427b1064f02b361e538209847f5",
       "value": false
      }
     },
     "1fbfdf16c5f842f1abcfbce93efc5080": {
      "model_module": "@jupyter-widgets/base",
      "model_module_version": "1.2.0",
      "model_name": "LayoutModel",
      "state": {}
     },
     "21014698096c4a8da556b72990543196": {
      "model_module": "@jupyter-widgets/controls",
      "model_module_version": "1.5.0",
      "model_name": "CheckboxModel",
      "state": {
       "description": "[GND=’fem’, NUM=’sg’, PER=3]",
       "disabled": false,
       "layout": "IPY_MODEL_71675dda30fe4b8e959e776f37f0f31e",
       "style": "IPY_MODEL_6016ccff2e3c4d6b899ff6b644df17b4",
       "value": false
      }
     },
     "213562037d0d4a038e342520068a0df6": {
      "model_module": "@jupyter-widgets/base",
      "model_module_version": "1.2.0",
      "model_name": "LayoutModel",
      "state": {}
     },
     "219e0db764eb463ebebaddc883606da1": {
      "model_module": "@jupyter-widgets/controls",
      "model_module_version": "1.5.0",
      "model_name": "VBoxModel",
      "state": {
       "children": [
        "IPY_MODEL_5b5ff53a5ca34db895cdc56e4ac2ddaa",
        "IPY_MODEL_f94e0202080c4d018d2f54c0da049c90",
        "IPY_MODEL_7835a6e2be7646fe8000eecb74da316f",
        "IPY_MODEL_3c597422c2d94bb9a35a0fffa94031a7"
       ],
       "layout": "IPY_MODEL_52904d555eb8426aa4a14bfbfe46b73e"
      }
     },
     "26e28ad7155d4c38ac90ba014fcb1040": {
      "model_module": "@jupyter-widgets/controls",
      "model_module_version": "1.5.0",
      "model_name": "CheckboxModel",
      "state": {
       "description": "[GND=’masc’, NUM=’sg’, PER=3]",
       "disabled": false,
       "layout": "IPY_MODEL_068a0866dcb847ce8fa4c0d7ab278822",
       "style": "IPY_MODEL_3be2b59939d84a6199f59fdc03db346c",
       "value": false
      }
     },
     "298f6959ab2c497897c024f8b4a440ce": {
      "model_module": "@jupyter-widgets/base",
      "model_module_version": "1.2.0",
      "model_name": "LayoutModel",
      "state": {
       "justify_content": "center"
      }
     },
     "2ac328c32cd0469eac7cea4b38d84693": {
      "model_module": "@jupyter-widgets/base",
      "model_module_version": "1.2.0",
      "model_name": "LayoutModel",
      "state": {
       "justify_content": "center"
      }
     },
     "32f006257ce8459090492b99ae530e9c": {
      "model_module": "@jupyter-widgets/controls",
      "model_module_version": "1.5.0",
      "model_name": "HTMLModel",
      "state": {
       "layout": "IPY_MODEL_298f6959ab2c497897c024f8b4a440ce",
       "style": "IPY_MODEL_abc33bee9a6240c2b87f9475caab50b1",
       "value": "<h4 style=\"font-size:14px;\">Wieso wird der Satz von der Grammatik abgelehnt?</h4>"
      }
     },
     "33425cbbf5624367a55af3d4015bc17a": {
      "model_module": "@jupyter-widgets/controls",
      "model_module_version": "1.5.0",
      "model_name": "ButtonStyleModel",
      "state": {}
     },
     "346dc9d6350d4248bce10734e37f75ba": {
      "model_module": "@jupyter-widgets/base",
      "model_module_version": "1.2.0",
      "model_name": "LayoutModel",
      "state": {}
     },
     "3536867b82b742e087bf953c9d610ec4": {
      "model_module": "@jupyter-widgets/base",
      "model_module_version": "1.2.0",
      "model_name": "LayoutModel",
      "state": {}
     },
     "364107c241794f5e9a3a5382d6906a32": {
      "model_module": "@jupyter-widgets/controls",
      "model_module_version": "1.5.0",
      "model_name": "HBoxModel",
      "state": {
       "children": [
        "IPY_MODEL_82f0c2a03907425a90f37708d36dea89",
        "IPY_MODEL_eb184af0a9b94c8d82981f3b0cc93590"
       ],
       "layout": "IPY_MODEL_92680a62a53844ba93f06753b9c0674f"
      }
     },
     "3841d4d9492e472984eee297cc44c16b": {
      "model_module": "@jupyter-widgets/controls",
      "model_module_version": "1.5.0",
      "model_name": "DescriptionStyleModel",
      "state": {
       "description_width": ""
      }
     },
     "391edd0b8f504a76b1c5b8db7b66cff1": {
      "model_module": "@jupyter-widgets/controls",
      "model_module_version": "1.5.0",
      "model_name": "DescriptionStyleModel",
      "state": {
       "description_width": "initial"
      }
     },
     "3a6b0a026cd34e4b8f6d143797022a86": {
      "model_module": "@jupyter-widgets/base",
      "model_module_version": "1.2.0",
      "model_name": "LayoutModel",
      "state": {}
     },
     "3abb68dbd33a49d7ac1dc9d23a8fa6fc": {
      "model_module": "@jupyter-widgets/base",
      "model_module_version": "1.2.0",
      "model_name": "LayoutModel",
      "state": {
       "justify_content": "center"
      }
     },
     "3be2b59939d84a6199f59fdc03db346c": {
      "model_module": "@jupyter-widgets/controls",
      "model_module_version": "1.5.0",
      "model_name": "DescriptionStyleModel",
      "state": {
       "description_width": "initial"
      }
     },
     "3c597422c2d94bb9a35a0fffa94031a7": {
      "model_module": "@jupyter-widgets/controls",
      "model_module_version": "1.5.0",
      "model_name": "ButtonModel",
      "state": {
       "description": "Korrekt?",
       "layout": "IPY_MODEL_b65dea313ab44cbb98463c2ef12d0e94",
       "style": "IPY_MODEL_df5541a6a9a74e02b309861d09a46fdf"
      }
     },
     "3d2d90aebbeb42c5a3be3e8d0a6845c9": {
      "model_module": "@jupyter-widgets/base",
      "model_module_version": "1.2.0",
      "model_name": "LayoutModel",
      "state": {
       "width": "250px"
      }
     },
     "3e6ea3e1aa854746a6103741d1699183": {
      "model_module": "@jupyter-widgets/controls",
      "model_module_version": "1.5.0",
      "model_name": "DescriptionStyleModel",
      "state": {
       "description_width": ""
      }
     },
     "403f8cfd25184c15aa180b91b94d64d3": {
      "model_module": "@jupyter-widgets/controls",
      "model_module_version": "1.5.0",
      "model_name": "DescriptionStyleModel",
      "state": {
       "description_width": "initial"
      }
     },
     "40e88b5e21fa42a8b1ce375eeb67f8b5": {
      "model_module": "@jupyter-widgets/base",
      "model_module_version": "1.2.0",
      "model_name": "LayoutModel",
      "state": {
       "width": "600px"
      }
     },
     "43f78e1ac5cd457b9b92dd8fe80e882b": {
      "model_module": "@jupyter-widgets/controls",
      "model_module_version": "1.5.0",
      "model_name": "CheckboxModel",
      "state": {
       "description": "[GND=’masc’, NUM=’sg’, PER=3]",
       "disabled": false,
       "layout": "IPY_MODEL_4bc56e4a005a44949c206659da050fa7",
       "style": "IPY_MODEL_d72fb65fb82441218086ca51a4b5945a",
       "value": false
      }
     },
     "4950d93a293a47fb98d61ea4b47efa1b": {
      "model_module": "@jupyter-widgets/base",
      "model_module_version": "1.2.0",
      "model_name": "LayoutModel",
      "state": {
       "width": "600px"
      }
     },
     "4bc56e4a005a44949c206659da050fa7": {
      "model_module": "@jupyter-widgets/base",
      "model_module_version": "1.2.0",
      "model_name": "LayoutModel",
      "state": {
       "width": "600px"
      }
     },
     "4d2ef1a874cc47988603cd6a4504bc41": {
      "model_module": "@jupyter-widgets/controls",
      "model_module_version": "1.5.0",
      "model_name": "DescriptionStyleModel",
      "state": {
       "description_width": "initial"
      }
     },
     "5235b755aa924fe6a0f36798a06dd50a": {
      "model_module": "@jupyter-widgets/controls",
      "model_module_version": "1.5.0",
      "model_name": "ButtonStyleModel",
      "state": {}
     },
     "52904d555eb8426aa4a14bfbfe46b73e": {
      "model_module": "@jupyter-widgets/base",
      "model_module_version": "1.2.0",
      "model_name": "LayoutModel",
      "state": {}
     },
     "54367ebfd6044ab5aa049bb3d6773240": {
      "model_module": "@jupyter-widgets/controls",
      "model_module_version": "1.5.0",
      "model_name": "DescriptionStyleModel",
      "state": {
       "description_width": "initial"
      }
     },
     "5521a1953e5048329f0d09eb0a6e14aa": {
      "model_module": "@jupyter-widgets/controls",
      "model_module_version": "1.5.0",
      "model_name": "VBoxModel",
      "state": {
       "children": [
        "IPY_MODEL_32f006257ce8459090492b99ae530e9c",
        "IPY_MODEL_b484128f36fe40cb843ff395a4fdb4c1",
        "IPY_MODEL_dafce7bfa98e451ea97e350029ad67d0",
        "IPY_MODEL_a15119ee741246dead4c147c28fe143a"
       ],
       "layout": "IPY_MODEL_657d527819524f09a15acd6e94572f51"
      }
     },
     "567f3098a0284227b8ed2f737e795f8f": {
      "model_module": "@jupyter-widgets/base",
      "model_module_version": "1.2.0",
      "model_name": "LayoutModel",
      "state": {
       "width": "250px"
      }
     },
     "5b5ff53a5ca34db895cdc56e4ac2ddaa": {
      "model_module": "@jupyter-widgets/controls",
      "model_module_version": "1.5.0",
      "model_name": "HTMLModel",
      "state": {
       "layout": "IPY_MODEL_9e26f837e8014efa8a07c2b1a757f14c",
       "style": "IPY_MODEL_77c1354874cf4cfe8363a5ffca501107",
       "value": "<h4 style=\"font-size:14px;\">Wo liegt das Problem, sodass der Satz abgeleht wird?</h4>"
      }
     },
     "5cc0851bc5784bafadb6dd5a21db49b7": {
      "model_module": "@jupyter-widgets/base",
      "model_module_version": "1.2.0",
      "model_name": "LayoutModel",
      "state": {}
     },
     "5d34a491f9534e8babc282b22d30e251": {
      "model_module": "@jupyter-widgets/controls",
      "model_module_version": "1.5.0",
      "model_name": "CheckboxModel",
      "state": {
       "description": "[GND=’fem’, NUM=’sg’, PER=3]",
       "disabled": false,
       "layout": "IPY_MODEL_f02e13d1c8994442bce4072c21ed9200",
       "style": "IPY_MODEL_54367ebfd6044ab5aa049bb3d6773240",
       "value": false
      }
     },
     "5dad76dbe5504c968ee2dfab711fca44": {
      "model_module": "@jupyter-widgets/controls",
      "model_module_version": "1.5.0",
      "model_name": "CheckboxModel",
      "state": {
       "description": "< N NUM > ≠ < DET NUM >",
       "disabled": false,
       "layout": "IPY_MODEL_7733aa3028d8464cb8423645e42a0a12",
       "style": "IPY_MODEL_4d2ef1a874cc47988603cd6a4504bc41",
       "value": false
      }
     },
     "6016ccff2e3c4d6b899ff6b644df17b4": {
      "model_module": "@jupyter-widgets/controls",
      "model_module_version": "1.5.0",
      "model_name": "DescriptionStyleModel",
      "state": {
       "description_width": "initial"
      }
     },
     "627eb4168a5e43d0b7597130f3ea0245": {
      "model_module": "@jupyter-widgets/controls",
      "model_module_version": "1.5.0",
      "model_name": "ButtonStyleModel",
      "state": {}
     },
     "657d527819524f09a15acd6e94572f51": {
      "model_module": "@jupyter-widgets/base",
      "model_module_version": "1.2.0",
      "model_name": "LayoutModel",
      "state": {}
     },
     "68c0db066141428389e5c3b7013a1a9c": {
      "model_module": "@jupyter-widgets/controls",
      "model_module_version": "1.5.0",
      "model_name": "DescriptionStyleModel",
      "state": {
       "description_width": "initial"
      }
     },
     "69886ca412de4ad3b5e854746210d21a": {
      "model_module": "@jupyter-widgets/controls",
      "model_module_version": "1.5.0",
      "model_name": "ButtonStyleModel",
      "state": {}
     },
     "6d54bbe6f5954f8aaabdd718cb26415d": {
      "model_module": "@jupyter-widgets/base",
      "model_module_version": "1.2.0",
      "model_name": "LayoutModel",
      "state": {}
     },
     "6db512be24854ed39b3eb4ec40bca8ab": {
      "model_module": "@jupyter-widgets/base",
      "model_module_version": "1.2.0",
      "model_name": "LayoutModel",
      "state": {
       "width": "600px"
      }
     },
     "6e5a29ad7966467f8d27013ed0212ffa": {
      "model_module": "@jupyter-widgets/controls",
      "model_module_version": "1.5.0",
      "model_name": "ButtonModel",
      "state": {
       "description": "nicht unifizierbar",
       "layout": "IPY_MODEL_3d2d90aebbeb42c5a3be3e8d0a6845c9",
       "style": "IPY_MODEL_5235b755aa924fe6a0f36798a06dd50a"
      }
     },
     "6ff31ac13a504bb9b6044a5ffc42a2ba": {
      "model_module": "@jupyter-widgets/controls",
      "model_module_version": "1.5.0",
      "model_name": "ButtonModel",
      "state": {
       "description": "Keine der anderen Möglichkeiten",
       "layout": "IPY_MODEL_8b716092c0cd49dabf6926b8fa705f5c",
       "style": "IPY_MODEL_69886ca412de4ad3b5e854746210d21a"
      }
     },
     "70865c90b219457bbd9bb8ed5f70ccdc": {
      "model_module": "@jupyter-widgets/controls",
      "model_module_version": "1.5.0",
      "model_name": "HTMLModel",
      "state": {
       "layout": "IPY_MODEL_3abb68dbd33a49d7ac1dc9d23a8fa6fc",
       "style": "IPY_MODEL_3e6ea3e1aa854746a6103741d1699183",
       "value": "<i>Markieren Sie <ins>alle</ins> passenden Antworten: </i>"
      }
     },
     "71675dda30fe4b8e959e776f37f0f31e": {
      "model_module": "@jupyter-widgets/base",
      "model_module_version": "1.2.0",
      "model_name": "LayoutModel",
      "state": {
       "width": "600px"
      }
     },
     "74e839d973174dee9c4ffb3ce5701ec7": {
      "model_module": "@jupyter-widgets/controls",
      "model_module_version": "1.5.0",
      "model_name": "CheckboxModel",
      "state": {
       "description": "< N GEN > ≠ < DET GEN >",
       "disabled": false,
       "layout": "IPY_MODEL_057b0cd824684579a0ffa9970fbe5e7c",
       "style": "IPY_MODEL_a29e1ffb6b344b94b79a0813577bd2f9",
       "value": false
      }
     },
     "7733aa3028d8464cb8423645e42a0a12": {
      "model_module": "@jupyter-widgets/base",
      "model_module_version": "1.2.0",
      "model_name": "LayoutModel",
      "state": {
       "width": "600px"
      }
     },
     "77c1354874cf4cfe8363a5ffca501107": {
      "model_module": "@jupyter-widgets/controls",
      "model_module_version": "1.5.0",
      "model_name": "DescriptionStyleModel",
      "state": {
       "description_width": ""
      }
     },
     "7835a6e2be7646fe8000eecb74da316f": {
      "model_module": "@jupyter-widgets/controls",
      "model_module_version": "1.5.0",
      "model_name": "VBoxModel",
      "state": {
       "children": [
        "IPY_MODEL_74e839d973174dee9c4ffb3ce5701ec7",
        "IPY_MODEL_c3d271787f854904b6019772768f3387",
        "IPY_MODEL_cfcf7524fc02495aa8e49b9f5c3ab755"
       ],
       "layout": "IPY_MODEL_11cd503280fc429eb6254c22d47ed115"
      }
     },
     "7c5136acd66949059145f21dea2a928d": {
      "model_module": "@jupyter-widgets/controls",
      "model_module_version": "1.5.0",
      "model_name": "VBoxModel",
      "state": {
       "children": [
        "IPY_MODEL_b522a83310ed4ca58f1d716f2ca4ec97",
        "IPY_MODEL_70865c90b219457bbd9bb8ed5f70ccdc",
        "IPY_MODEL_85204fd765b24d07a5814492bf81a2c1",
        "IPY_MODEL_7d110c70c69f4f729312e00378d2e675"
       ],
       "layout": "IPY_MODEL_7eeb11306d1f4a39abac1b60c8d58370"
      }
     },
     "7cde1814e16a47ca8c6c0ff2ff7bbde8": {
      "model_module": "@jupyter-widgets/controls",
      "model_module_version": "1.5.0",
      "model_name": "CheckboxModel",
      "state": {
       "description": "[NUM=’sg’, PER=3]",
       "disabled": false,
       "layout": "IPY_MODEL_4950d93a293a47fb98d61ea4b47efa1b",
       "style": "IPY_MODEL_1f9227e515e04234b82c13f457614048",
       "value": false
      }
     },
     "7cfeacaaa0cc443a9e469b645f4b5fe5": {
      "model_module": "@jupyter-widgets/base",
      "model_module_version": "1.2.0",
      "model_name": "LayoutModel",
      "state": {
       "width": "250px"
      }
     },
     "7cff7d058f19496d8948d486ea40fc4a": {
      "model_module": "@jupyter-widgets/controls",
      "model_module_version": "1.5.0",
      "model_name": "DescriptionStyleModel",
      "state": {
       "description_width": ""
      }
     },
     "7d110c70c69f4f729312e00378d2e675": {
      "model_module": "@jupyter-widgets/controls",
      "model_module_version": "1.5.0",
      "model_name": "ButtonModel",
      "state": {
       "description": "Korrekt?",
       "layout": "IPY_MODEL_858be6d9a4a64232af116fcf923290d5",
       "style": "IPY_MODEL_965e8c0f491a4d1287d736d10cd581d6"
      }
     },
     "7eeb11306d1f4a39abac1b60c8d58370": {
      "model_module": "@jupyter-widgets/base",
      "model_module_version": "1.2.0",
      "model_name": "LayoutModel",
      "state": {}
     },
     "810fa9cccd8d4ddd8ab53157acde8b86": {
      "model_module": "@jupyter-widgets/base",
      "model_module_version": "1.2.0",
      "model_name": "LayoutModel",
      "state": {
       "width": "250px"
      }
     },
     "82f0c2a03907425a90f37708d36dea89": {
      "model_module": "@jupyter-widgets/controls",
      "model_module_version": "1.5.0",
      "model_name": "ButtonModel",
      "state": {
       "description": "'Katze' ist kein gültiges Wort",
       "layout": "IPY_MODEL_d2274ebeb19c4e869a2ecae6deeba081",
       "style": "IPY_MODEL_ce2bbe858d894c2e800d1bd64258b4d8"
      }
     },
     "82fdd8dd6dbb4b60b67fd5fcbc98562d": {
      "model_module": "@jupyter-widgets/base",
      "model_module_version": "1.2.0",
      "model_name": "LayoutModel",
      "state": {
       "width": "250px"
      }
     },
     "8460a98310c74b6982acd26ef46219d5": {
      "model_module": "@jupyter-widgets/controls",
      "model_module_version": "1.5.0",
      "model_name": "ButtonModel",
      "state": {
       "description": "Korrekt?",
       "layout": "IPY_MODEL_82fdd8dd6dbb4b60b67fd5fcbc98562d",
       "style": "IPY_MODEL_8586e2b2bab743c7ad8ba682586eff37"
      }
     },
     "85204fd765b24d07a5814492bf81a2c1": {
      "model_module": "@jupyter-widgets/controls",
      "model_module_version": "1.5.0",
      "model_name": "VBoxModel",
      "state": {
       "children": [
        "IPY_MODEL_21014698096c4a8da556b72990543196",
        "IPY_MODEL_26e28ad7155d4c38ac90ba014fcb1040",
        "IPY_MODEL_1fa0050554a34f56801cbfcd227a0a0e",
        "IPY_MODEL_ddca72fa67544758b2de2e5f0a2a829d"
       ],
       "layout": "IPY_MODEL_213562037d0d4a038e342520068a0df6"
      }
     },
     "8586e2b2bab743c7ad8ba682586eff37": {
      "model_module": "@jupyter-widgets/controls",
      "model_module_version": "1.5.0",
      "model_name": "ButtonStyleModel",
      "state": {}
     },
     "858be6d9a4a64232af116fcf923290d5": {
      "model_module": "@jupyter-widgets/base",
      "model_module_version": "1.2.0",
      "model_name": "LayoutModel",
      "state": {
       "width": "250px"
      }
     },
     "860b8e8dcff64498a89398a936b78389": {
      "model_module": "@jupyter-widgets/controls",
      "model_module_version": "1.5.0",
      "model_name": "DescriptionStyleModel",
      "state": {
       "description_width": "initial"
      }
     },
     "8ad912fb34d74351b36c11da44005bf6": {
      "model_module": "@jupyter-widgets/controls",
      "model_module_version": "1.5.0",
      "model_name": "ButtonModel",
      "state": {
       "description": "Korrekt?",
       "layout": "IPY_MODEL_810fa9cccd8d4ddd8ab53157acde8b86",
       "style": "IPY_MODEL_627eb4168a5e43d0b7597130f3ea0245"
      }
     },
     "8b716092c0cd49dabf6926b8fa705f5c": {
      "model_module": "@jupyter-widgets/base",
      "model_module_version": "1.2.0",
      "model_name": "LayoutModel",
      "state": {
       "width": "250px"
      }
     },
     "90994377d22b4c3e844a1008d4be1314": {
      "model_module": "@jupyter-widgets/controls",
      "model_module_version": "1.5.0",
      "model_name": "DescriptionStyleModel",
      "state": {
       "description_width": ""
      }
     },
     "91278e169f8b4a578b83aecfd1ad6484": {
      "model_module": "@jupyter-widgets/base",
      "model_module_version": "1.2.0",
      "model_name": "LayoutModel",
      "state": {
       "width": "600px"
      }
     },
     "922dea4a46b8468ebd972ac8809b1d75": {
      "model_module": "@jupyter-widgets/controls",
      "model_module_version": "1.5.0",
      "model_name": "ButtonStyleModel",
      "state": {}
     },
     "92680a62a53844ba93f06753b9c0674f": {
      "model_module": "@jupyter-widgets/base",
      "model_module_version": "1.2.0",
      "model_name": "LayoutModel",
      "state": {}
     },
     "92a3ae0afa5d4437a902436fd07ce5c0": {
      "model_module": "@jupyter-widgets/controls",
      "model_module_version": "1.5.0",
      "model_name": "DescriptionStyleModel",
      "state": {
       "description_width": ""
      }
     },
     "934ff37af0174c1089fa5f1a14b93f41": {
      "model_module": "@jupyter-widgets/base",
      "model_module_version": "1.2.0",
      "model_name": "LayoutModel",
      "state": {
       "width": "600px"
      }
     },
     "961e3387206f471fb4454d04b685ad16": {
      "model_module": "@jupyter-widgets/controls",
      "model_module_version": "1.5.0",
      "model_name": "DescriptionStyleModel",
      "state": {
       "description_width": ""
      }
     },
     "965e8c0f491a4d1287d736d10cd581d6": {
      "model_module": "@jupyter-widgets/controls",
      "model_module_version": "1.5.0",
      "model_name": "ButtonStyleModel",
      "state": {}
     },
     "97a62ef4c51148d1b6f61ccffc4e890a": {
      "model_module": "@jupyter-widgets/controls",
      "model_module_version": "1.5.0",
      "model_name": "DescriptionStyleModel",
      "state": {
       "description_width": "initial"
      }
     },
     "99b0f52d9c0745918b331827d25ec908": {
      "model_module": "@jupyter-widgets/controls",
      "model_module_version": "1.5.0",
      "model_name": "VBoxModel",
      "state": {
       "children": [
        "IPY_MODEL_12ad8975ff1f44dabea605710f45af9b",
        "IPY_MODEL_aee9ae2224e14253b8b24bc0fd1bf7cd",
        "IPY_MODEL_364107c241794f5e9a3a5382d6906a32",
        "IPY_MODEL_d0ce81b61fe2474b8f6f890891c0ecaf"
       ],
       "layout": "IPY_MODEL_ca3d1f929a4e422bbbe42a566a508068"
      }
     },
     "99f81e772e1e4133b3d07d7f2fb2303f": {
      "model_module": "@jupyter-widgets/controls",
      "model_module_version": "1.5.0",
      "model_name": "HTMLModel",
      "state": {
       "layout": "IPY_MODEL_2ac328c32cd0469eac7cea4b38d84693",
       "style": "IPY_MODEL_b8f3b25fd73a45b299d7aaa80c38eb16",
       "value": "<i>Markieren Sie <ins>alle</ins> passenden Antworten: </i>"
      }
     },
     "9e26f837e8014efa8a07c2b1a757f14c": {
      "model_module": "@jupyter-widgets/base",
      "model_module_version": "1.2.0",
      "model_name": "LayoutModel",
      "state": {}
     },
     "a1501b62736743d0be9ebaa52735c926": {
      "model_module": "@jupyter-widgets/base",
      "model_module_version": "1.2.0",
      "model_name": "LayoutModel",
      "state": {
       "width": "600px"
      }
     },
     "a15119ee741246dead4c147c28fe143a": {
      "model_module": "@jupyter-widgets/controls",
      "model_module_version": "1.5.0",
      "model_name": "HBoxModel",
      "state": {
       "children": [
        "IPY_MODEL_f1bd16ab57214a65b634575b43dfa560"
       ],
       "layout": "IPY_MODEL_eb30c3b54804483cbd8373df76c764d7"
      }
     },
     "a29e1ffb6b344b94b79a0813577bd2f9": {
      "model_module": "@jupyter-widgets/controls",
      "model_module_version": "1.5.0",
      "model_name": "DescriptionStyleModel",
      "state": {
       "description_width": "initial"
      }
     },
     "a3d78218643f471490995b0279359c12": {
      "model_module": "@jupyter-widgets/base",
      "model_module_version": "1.2.0",
      "model_name": "LayoutModel",
      "state": {
       "justify_content": "center"
      }
     },
     "a46d25a5c6c24b9589ef2d988f7cf171": {
      "model_module": "@jupyter-widgets/controls",
      "model_module_version": "1.5.0",
      "model_name": "CheckboxModel",
      "state": {
       "description": "< N PER > ≠ < DET PER >",
       "disabled": false,
       "layout": "IPY_MODEL_6db512be24854ed39b3eb4ec40bca8ab",
       "style": "IPY_MODEL_403f8cfd25184c15aa180b91b94d64d3",
       "value": false
      }
     },
     "a578ed37fa6843bcaa5e49140de03b4f": {
      "model_module": "@jupyter-widgets/controls",
      "model_module_version": "1.5.0",
      "model_name": "CheckboxModel",
      "state": {
       "description": "< N GEN > ≠ < DET GEN >",
       "disabled": false,
       "layout": "IPY_MODEL_91278e169f8b4a578b83aecfd1ad6484",
       "style": "IPY_MODEL_d6d6841904aa4cb3b2c04265503906a7",
       "value": false
      }
     },
     "abc33bee9a6240c2b87f9475caab50b1": {
      "model_module": "@jupyter-widgets/controls",
      "model_module_version": "1.5.0",
      "model_name": "DescriptionStyleModel",
      "state": {
       "description_width": ""
      }
     },
     "aee9ae2224e14253b8b24bc0fd1bf7cd": {
      "model_module": "@jupyter-widgets/controls",
      "model_module_version": "1.5.0",
      "model_name": "HTMLModel",
      "state": {
       "layout": "IPY_MODEL_0a5198693bbd43d489ec1c19a78379df",
       "style": "IPY_MODEL_b1b317eff63a474783e8973c945a5e2b",
       "value": "<i>Wählen Sie die <ins>eine</ins> korrekte Antwort aus: </i>"
      }
     },
     "b1b317eff63a474783e8973c945a5e2b": {
      "model_module": "@jupyter-widgets/controls",
      "model_module_version": "1.5.0",
      "model_name": "DescriptionStyleModel",
      "state": {
       "description_width": ""
      }
     },
     "b484128f36fe40cb843ff395a4fdb4c1": {
      "model_module": "@jupyter-widgets/controls",
      "model_module_version": "1.5.0",
      "model_name": "HTMLModel",
      "state": {
       "layout": "IPY_MODEL_ce44d81e7dca46d98ef9d53a0ce5fca3",
       "style": "IPY_MODEL_d3c6b3fc0ccf4cf39592eaa876c05230",
       "value": "<i>Wählen Sie die <ins>eine</ins> korrekte Antwort aus: </i>"
      }
     },
     "b522a83310ed4ca58f1d716f2ca4ec97": {
      "model_module": "@jupyter-widgets/controls",
      "model_module_version": "1.5.0",
      "model_name": "HTMLModel",
      "state": {
       "layout": "IPY_MODEL_5cc0851bc5784bafadb6dd5a21db49b7",
       "style": "IPY_MODEL_7cff7d058f19496d8948d486ea40fc4a",
       "value": "<h4 style=\"font-size:14px;\">Welche DET-Kategorien gibt es für den Satz?</h4>"
      }
     },
     "b65dea313ab44cbb98463c2ef12d0e94": {
      "model_module": "@jupyter-widgets/base",
      "model_module_version": "1.2.0",
      "model_name": "LayoutModel",
      "state": {
       "width": "250px"
      }
     },
     "b8f3b25fd73a45b299d7aaa80c38eb16": {
      "model_module": "@jupyter-widgets/controls",
      "model_module_version": "1.5.0",
      "model_name": "DescriptionStyleModel",
      "state": {
       "description_width": ""
      }
     },
     "ba726f13ea40485390d9c904f4c90604": {
      "model_module": "@jupyter-widgets/controls",
      "model_module_version": "1.5.0",
      "model_name": "VBoxModel",
      "state": {
       "children": [
        "IPY_MODEL_5d34a491f9534e8babc282b22d30e251",
        "IPY_MODEL_43f78e1ac5cd457b9b92dd8fe80e882b",
        "IPY_MODEL_04861a9dc418461fb3f200dc4541195e",
        "IPY_MODEL_7cde1814e16a47ca8c6c0ff2ff7bbde8"
       ],
       "layout": "IPY_MODEL_078693769a444626897a189dfc2a9290"
      }
     },
     "c3d271787f854904b6019772768f3387": {
      "model_module": "@jupyter-widgets/controls",
      "model_module_version": "1.5.0",
      "model_name": "CheckboxModel",
      "state": {
       "description": "< N NUM > ≠ < DET NUM >",
       "disabled": false,
       "layout": "IPY_MODEL_40e88b5e21fa42a8b1ce375eeb67f8b5",
       "style": "IPY_MODEL_391edd0b8f504a76b1c5b8db7b66cff1",
       "value": false
      }
     },
     "c579171698b2471f81fd41c5033b85cb": {
      "model_module": "@jupyter-widgets/base",
      "model_module_version": "1.2.0",
      "model_name": "LayoutModel",
      "state": {}
     },
     "ca3d1f929a4e422bbbe42a566a508068": {
      "model_module": "@jupyter-widgets/base",
      "model_module_version": "1.2.0",
      "model_name": "LayoutModel",
      "state": {}
     },
     "ce2bbe858d894c2e800d1bd64258b4d8": {
      "model_module": "@jupyter-widgets/controls",
      "model_module_version": "1.5.0",
      "model_name": "ButtonStyleModel",
      "state": {}
     },
     "ce44d81e7dca46d98ef9d53a0ce5fca3": {
      "model_module": "@jupyter-widgets/base",
      "model_module_version": "1.2.0",
      "model_name": "LayoutModel",
      "state": {
       "justify_content": "center"
      }
     },
     "cfcf7524fc02495aa8e49b9f5c3ab755": {
      "model_module": "@jupyter-widgets/controls",
      "model_module_version": "1.5.0",
      "model_name": "CheckboxModel",
      "state": {
       "description": "< N PER > ≠ < DET PER >",
       "disabled": false,
       "layout": "IPY_MODEL_934ff37af0174c1089fa5f1a14b93f41",
       "style": "IPY_MODEL_97a62ef4c51148d1b6f61ccffc4e890a",
       "value": false
      }
     },
     "d0ce81b61fe2474b8f6f890891c0ecaf": {
      "model_module": "@jupyter-widgets/controls",
      "model_module_version": "1.5.0",
      "model_name": "HBoxModel",
      "state": {
       "children": [
        "IPY_MODEL_6ff31ac13a504bb9b6044a5ffc42a2ba"
       ],
       "layout": "IPY_MODEL_3536867b82b742e087bf953c9d610ec4"
      }
     },
     "d12f301ed8b042c69916bf29917f5aac": {
      "model_module": "@jupyter-widgets/controls",
      "model_module_version": "1.5.0",
      "model_name": "VBoxModel",
      "state": {
       "children": [
        "IPY_MODEL_09edb363f97043e98d61453c734a6040",
        "IPY_MODEL_dbf119706c20426ca40238e03232bc26",
        "IPY_MODEL_ba726f13ea40485390d9c904f4c90604",
        "IPY_MODEL_8460a98310c74b6982acd26ef46219d5"
       ],
       "layout": "IPY_MODEL_c579171698b2471f81fd41c5033b85cb"
      }
     },
     "d205391bf9e243b588a63750bc1aae34": {
      "model_module": "@jupyter-widgets/base",
      "model_module_version": "1.2.0",
      "model_name": "LayoutModel",
      "state": {
       "justify_content": "center"
      }
     },
     "d2274ebeb19c4e869a2ecae6deeba081": {
      "model_module": "@jupyter-widgets/base",
      "model_module_version": "1.2.0",
      "model_name": "LayoutModel",
      "state": {
       "width": "250px"
      }
     },
     "d3c6b3fc0ccf4cf39592eaa876c05230": {
      "model_module": "@jupyter-widgets/controls",
      "model_module_version": "1.5.0",
      "model_name": "DescriptionStyleModel",
      "state": {
       "description_width": ""
      }
     },
     "d6d6841904aa4cb3b2c04265503906a7": {
      "model_module": "@jupyter-widgets/controls",
      "model_module_version": "1.5.0",
      "model_name": "DescriptionStyleModel",
      "state": {
       "description_width": "initial"
      }
     },
     "d72fb65fb82441218086ca51a4b5945a": {
      "model_module": "@jupyter-widgets/controls",
      "model_module_version": "1.5.0",
      "model_name": "DescriptionStyleModel",
      "state": {
       "description_width": "initial"
      }
     },
     "dafce7bfa98e451ea97e350029ad67d0": {
      "model_module": "@jupyter-widgets/controls",
      "model_module_version": "1.5.0",
      "model_name": "HBoxModel",
      "state": {
       "children": [
        "IPY_MODEL_17b305a615a34ad7a6801809ce9ab4b0",
        "IPY_MODEL_6e5a29ad7966467f8d27013ed0212ffa"
       ],
       "layout": "IPY_MODEL_3a6b0a026cd34e4b8f6d143797022a86"
      }
     },
     "dbf119706c20426ca40238e03232bc26": {
      "model_module": "@jupyter-widgets/controls",
      "model_module_version": "1.5.0",
      "model_name": "HTMLModel",
      "state": {
       "layout": "IPY_MODEL_d205391bf9e243b588a63750bc1aae34",
       "style": "IPY_MODEL_92a3ae0afa5d4437a902436fd07ce5c0",
       "value": "<i>Markieren Sie <ins>alle</ins> passenden Antworten: </i>"
      }
     },
     "ddca72fa67544758b2de2e5f0a2a829d": {
      "model_module": "@jupyter-widgets/controls",
      "model_module_version": "1.5.0",
      "model_name": "CheckboxModel",
      "state": {
       "description": "[NUM=’sg’, PER=3]",
       "disabled": false,
       "layout": "IPY_MODEL_a1501b62736743d0be9ebaa52735c926",
       "style": "IPY_MODEL_68c0db066141428389e5c3b7013a1a9c",
       "value": false
      }
     },
     "df5541a6a9a74e02b309861d09a46fdf": {
      "model_module": "@jupyter-widgets/controls",
      "model_module_version": "1.5.0",
      "model_name": "ButtonStyleModel",
      "state": {}
     },
     "e0ee2a6945c842df8f27e39ee36c218b": {
      "model_module": "@jupyter-widgets/base",
      "model_module_version": "1.2.0",
      "model_name": "LayoutModel",
      "state": {}
     },
     "e4df6f692cdd4a249b307ab0e50a21b3": {
      "model_module": "@jupyter-widgets/base",
      "model_module_version": "1.2.0",
      "model_name": "LayoutModel",
      "state": {
       "width": "600px"
      }
     },
     "eb184af0a9b94c8d82981f3b0cc93590": {
      "model_module": "@jupyter-widgets/controls",
      "model_module_version": "1.5.0",
      "model_name": "ButtonModel",
      "state": {
       "description": "nicht unifizierbar",
       "layout": "IPY_MODEL_118c32f91e4846f0a2e8621bac064ae0",
       "style": "IPY_MODEL_922dea4a46b8468ebd972ac8809b1d75"
      }
     },
     "eb30c3b54804483cbd8373df76c764d7": {
      "model_module": "@jupyter-widgets/base",
      "model_module_version": "1.2.0",
      "model_name": "LayoutModel",
      "state": {}
     },
     "ef5d387a52eb490c8abcbec7a293973b": {
      "model_module": "@jupyter-widgets/controls",
      "model_module_version": "1.5.0",
      "model_name": "HTMLModel",
      "state": {
       "layout": "IPY_MODEL_e0ee2a6945c842df8f27e39ee36c218b",
       "style": "IPY_MODEL_08a2689c8a0241a3b5430a322197be4c",
       "value": "<h4 style=\"font-size:14px;\">Wo liegt das Problem, sodass der Satz abgeleht wird?</h4>"
      }
     },
     "f02e13d1c8994442bce4072c21ed9200": {
      "model_module": "@jupyter-widgets/base",
      "model_module_version": "1.2.0",
      "model_name": "LayoutModel",
      "state": {
       "width": "600px"
      }
     },
     "f1bd16ab57214a65b634575b43dfa560": {
      "model_module": "@jupyter-widgets/controls",
      "model_module_version": "1.5.0",
      "model_name": "ButtonModel",
      "state": {
       "description": "Keine der anderen Möglichkeiten",
       "layout": "IPY_MODEL_567f3098a0284227b8ed2f737e795f8f",
       "style": "IPY_MODEL_1cccfffe92fd4ab2ac1d912721f12dba"
      }
     },
     "f9054c17a5f043efbd132c8cacb6db82": {
      "model_module": "@jupyter-widgets/base",
      "model_module_version": "1.2.0",
      "model_name": "LayoutModel",
      "state": {
       "width": "600px"
      }
     },
     "f94e0202080c4d018d2f54c0da049c90": {
      "model_module": "@jupyter-widgets/controls",
      "model_module_version": "1.5.0",
      "model_name": "HTMLModel",
      "state": {
       "layout": "IPY_MODEL_a3d78218643f471490995b0279359c12",
       "style": "IPY_MODEL_90994377d22b4c3e844a1008d4be1314",
       "value": "<i>Markieren Sie <ins>alle</ins> passenden Antworten: </i>"
      }
     },
     "f95af53442304c1e80c13941677188cd": {
      "model_module": "@jupyter-widgets/controls",
      "model_module_version": "1.5.0",
      "model_name": "VBoxModel",
      "state": {
       "children": [
        "IPY_MODEL_ef5d387a52eb490c8abcbec7a293973b",
        "IPY_MODEL_99f81e772e1e4133b3d07d7f2fb2303f",
        "IPY_MODEL_16d7ab71c86a4eeeb01f971c88d8ed7b",
        "IPY_MODEL_8ad912fb34d74351b36c11da44005bf6"
       ],
       "layout": "IPY_MODEL_6d54bbe6f5954f8aaabdd718cb26415d"
      }
     }
    },
    "version_major": 2,
    "version_minor": 0
   }
  }
 },
 "nbformat": 4,
 "nbformat_minor": 2
}
