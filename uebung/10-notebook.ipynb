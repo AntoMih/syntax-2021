{
 "cells": [
  {
   "cell_type": "markdown",
   "metadata": {},
   "source": [
    "***Vorlesung 'Syntax natürlicher Sprachen', WS 2020/21***\n",
    "\n",
    "---\n",
    "# Übung 10"
   ]
  },
  {
   "cell_type": "code",
   "execution_count": 1,
   "metadata": {},
   "outputs": [],
   "source": [
    "import nltk\n",
    "from nltk.featstruct import FeatStruct\n",
    "from nltk.featstruct import Feature, UnificationFailure\n",
    "import itertools\n",
    "from exercises_10 import *\n",
    "from questions import aufgabe"
   ]
  },
  {
   "cell_type": "markdown",
   "metadata": {},
   "source": [
    "---\n",
    "## Aufgabe 1: Unifikation I\n",
    "\n",
    "#### Gegeben seien folgende Merkmalstrukturen:"
   ]
  },
  {
   "cell_type": "code",
   "execution_count": 2,
   "metadata": {},
   "outputs": [],
   "source": [
    "f1 = FeatStruct(\n",
    "    '[Vorname=Max, Nachname=Mustermann,' + \n",
    "    'Privat=[Strasse=Hauptstrasse, Ort=[Muenchen]]]'\n",
    ")\n",
    "f2 = FeatStruct(\n",
    "    '[Arbeit=[Strasse=\"Oettingenstrasse\", Ort=(1)[\"Muenchen\"]],' +\n",
    "    'Privat=[Ort->(1)]]')\n",
    "f3 = FeatStruct(\n",
    "    '[Strasse=\"Hauptstrasse\"]'\n",
    ")\n",
    "f4 = FeatStruct(\n",
    "    '[Privat=[Strasse=\"Hauptstrasse\", Ort=[\"Passau\"]]]'\n",
    ")"
   ]
  },
  {
   "cell_type": "markdown",
   "metadata": {},
   "source": [
    "#### Unifizieren Sie:\n",
    "- f1 mit f2\n",
    "- f2 mit f4\n",
    "\n",
    "#### Kontrollieren sie am Ende ihre Lösung zuerst mit Hilfe der interaktiven Fragen und überdenken Sie diese gegebenenfalls.\n",
    "\n",
    "#### Mit der Ausführung der unteren beiden print-Statements können Sie abschließend die Lösung einsehen."
   ]
  },
  {
   "cell_type": "code",
   "execution_count": 3,
   "metadata": {
    "scrolled": false
   },
   "outputs": [
    {
     "data": {
      "application/vnd.jupyter.widget-view+json": {
       "model_id": "2c8151c9f87e4b359c3df85cc8c95f39",
       "version_major": 2,
       "version_minor": 0
      },
      "text/plain": [
       "SingleChoice(children=(HTML(value='<h4 style=\"font-size:14px;\">Unifizieren f1 und f2?</h4>', layout=Layout(jus…"
      ]
     },
     "metadata": {},
     "output_type": "display_data"
    },
    {
     "data": {
      "application/vnd.jupyter.widget-view+json": {
       "model_id": "9ee600df6f0643ac8bad0b9ef3f8e69a",
       "version_major": 2,
       "version_minor": 0
      },
      "text/plain": [
       "SingleChoice(children=(HTML(value='<h4 style=\"font-size:14px;\">Unifizieren f2 und f4?</h4>', layout=Layout(jus…"
      ]
     },
     "metadata": {},
     "output_type": "display_data"
    }
   ],
   "source": [
    "aufgabe(blatt10_1)"
   ]
  },
  {
   "cell_type": "code",
   "execution_count": null,
   "metadata": {},
   "outputs": [],
   "source": [
    "print(f1.unify(f2).__repr__())"
   ]
  },
  {
   "cell_type": "code",
   "execution_count": null,
   "metadata": {},
   "outputs": [],
   "source": [
    "print(f2.unify(f4).__repr__())"
   ]
  },
  {
   "cell_type": "markdown",
   "metadata": {},
   "source": [
    "---\n",
    "## Aufgabe 2:  Typhierarchie im NLTK\n",
    "\n",
    "#### Gegeben sei folgende Typhierarchie:\n",
    "\n",
    "$$\\bot \\sqsubseteq \\text{Genitiv}$$\n",
    "$$\\bot \\sqsubseteq \\text{nicht-Genitiv}$$\n",
    "$$\\text{nicht-Genitiv} \\sqsubseteq \\text{Nominativ-Akkusativ}$$\n",
    "$$\\text{nicht-Genitiv} \\sqsubseteq \\text{Dativ}$$\n",
    "$$\\text{Nominativ-Akkusativ} \\sqsubseteq \\text{Nominativ}$$\n",
    "$$\\text{Nominativ-Akkusativ} \\sqsubseteq \\text{Akkusativ}$$\n",
    "\n",
    "#### Implementieren Sie mithilfe der Klasse `HierarchicalFeature`, die Sie mit der folgenden Zelle importieren können, ein Feature `CASE`, das der vorgegebenen Typhierarchie entspricht.\n"
   ]
  },
  {
   "cell_type": "code",
   "execution_count": 4,
   "metadata": {},
   "outputs": [],
   "source": [
    "TYPE = nltk.featstruct.TYPE\n",
    "\n",
    "\n",
    "def check_sanity_constraints(th):\n",
    "    for type1, type2 in itertools.product(th, th):\n",
    "        if type1 in th[type2] and type2 in th[type1]:\n",
    "            if type1 != type2:\n",
    "                raise ValueError(\n",
    "                    \"The type hierarchy is not antisymmetric! \" +\n",
    "                    \"{} subsumes {} and vice versa!\".format(\n",
    "                        type1, type2\n",
    "                    )\n",
    "                )\n",
    "\n",
    "\n",
    "def refl_trans_closure(type_hierarchy):\n",
    "    # make everything a set\n",
    "    # and compute reflexive closure\n",
    "    closure = {}\n",
    "    for t in type_hierarchy:\n",
    "        closure[t] = set(type_hierarchy[t])\n",
    "        closure[t].add(t)\n",
    "\n",
    "    # compute transitive closure\n",
    "    still_changes = True\n",
    "    while still_changes:\n",
    "        still_changes = False\n",
    "        for x in closure:\n",
    "            new_for_x = set()\n",
    "            for y in closure[x]:\n",
    "                for z in closure[y]:\n",
    "                    new_for_x.add(z)\n",
    "            len_before = len(closure[x])\n",
    "            closure[x].update(new_for_x)\n",
    "            still_changes |= len(closure[x]) > len_before\n",
    "\n",
    "    return closure\n",
    "\n",
    "\n",
    "class HierarchicalFeature(Feature):\n",
    "    def __init__(self, name, type_hierarchy, **kwargs):\n",
    "        super(HierarchicalFeature, self).__init__(name, **kwargs)\n",
    "\n",
    "        self.hierarchy = refl_trans_closure(type_hierarchy)\n",
    "        check_sanity_constraints(self.hierarchy)\n",
    "\n",
    "    def unify_base_values(self, fval1, fval2, bindings):\n",
    "        candidates = self.hierarchy[fval1].intersection(self.hierarchy[fval2])\n",
    "        score = {t: 0 for t in candidates}\n",
    "        for type1, type2 in itertools.product(candidates, candidates):\n",
    "            if type1 in self.hierarchy[type2]:\n",
    "                score[type1] += 1\n",
    "\n",
    "        return min(candidates, key=score.__getitem__, default=UnificationFailure)\n"
   ]
  },
  {
   "cell_type": "markdown",
   "metadata": {},
   "source": [
    "\n",
    "#### Nutzen Sie dieses Feature dann, um Übergenerierung in folgender Grammatik zu vermeiden:"
   ]
  },
  {
   "cell_type": "code",
   "execution_count": 5,
   "metadata": {},
   "outputs": [],
   "source": [
    "grammar = \"\"\"\n",
    "S -> NP VP\n",
    "NP -> DET NOM\n",
    "NOM -> N NP | N\n",
    "VP -> V\n",
    "\n",
    "V -> \"schläft\"\n",
    "DET[GEN=mask] -> \"der\" | \"des\"\n",
    "DET[GEN=fem] -> \"die\" | \"der\"\n",
    "DET[GEN=neut] -> \"das\" | \"des\"\n",
    "N[GEN=mask] -> \"Mann\" | \"Mannes\"\n",
    "N[GEN=fem] -> \"Frau\"\n",
    "N[GEN=neut] -> \"Kind\" | \"Kindes\"\n",
    "\"\"\""
   ]
  },
  {
   "cell_type": "markdown",
   "metadata": {},
   "source": [
    "#### Hier muss die Typhierarchie in Form eines `Dictionary` definiert werden:"
   ]
  },
  {
   "cell_type": "code",
   "execution_count": 6,
   "metadata": {},
   "outputs": [],
   "source": [
    "type_hierarchy = {\n",
    "    \n",
    "}"
   ]
  },
  {
   "cell_type": "code",
   "execution_count": 7,
   "metadata": {},
   "outputs": [],
   "source": [
    "CASE = HierarchicalFeature(\"CASE\", type_hierarchy)\n",
    "compiled_grammar = nltk.grammar.FeatureGrammar.fromstring(\n",
    "    grammar, features=(CASE, TYPE)\n",
    ")\n",
    "parser = nltk.FeatureEarleyChartParser(compiled_grammar)"
   ]
  },
  {
   "cell_type": "markdown",
   "metadata": {},
   "source": [
    "#### Folgendes sollte funktionieren:"
   ]
  },
  {
   "cell_type": "code",
   "execution_count": 8,
   "metadata": {},
   "outputs": [
    {
     "name": "stdout",
     "output_type": "stream",
     "text": [
      "(S[]\n",
      "  (NP[]\n",
      "    (DET[GEN='neut'] das)\n",
      "    (NOM[]\n",
      "      (N[GEN='neut'] Kind)\n",
      "      (NP[] (DET[GEN='neut'] des) (NOM[] (N[GEN='mask'] Mannes)))))\n",
      "  (VP[] (V[] schläft)))\n",
      "(S[]\n",
      "  (NP[]\n",
      "    (DET[GEN='neut'] das)\n",
      "    (NOM[]\n",
      "      (N[GEN='neut'] Kind)\n",
      "      (NP[] (DET[GEN='mask'] des) (NOM[] (N[GEN='mask'] Mannes)))))\n",
      "  (VP[] (V[] schläft)))\n"
     ]
    }
   ],
   "source": [
    "for t in parser.parse(\"das Kind des Mannes schläft\".split()):\n",
    "    print(t)"
   ]
  },
  {
   "cell_type": "markdown",
   "metadata": {},
   "source": [
    "#### Folgendes sollte leer sein:"
   ]
  },
  {
   "cell_type": "code",
   "execution_count": 9,
   "metadata": {},
   "outputs": [
    {
     "data": {
      "text/plain": [
       "[Tree(S[], [Tree(NP[], [Tree(DET[GEN='neut'], ['des']), Tree(NOM[], [Tree(N[GEN='mask'], ['Mannes'])])]), Tree(VP[], [Tree(V[], ['schläft'])])]),\n",
       " Tree(S[], [Tree(NP[], [Tree(DET[GEN='mask'], ['des']), Tree(NOM[], [Tree(N[GEN='mask'], ['Mannes'])])]), Tree(VP[], [Tree(V[], ['schläft'])])])]"
      ]
     },
     "execution_count": 9,
     "metadata": {},
     "output_type": "execute_result"
    }
   ],
   "source": [
    "list(parser.parse(\"des Mannes schläft\".split()))"
   ]
  },
  {
   "cell_type": "markdown",
   "metadata": {},
   "source": [
    "---\n",
    "# Hausaufgaben"
   ]
  },
  {
   "cell_type": "markdown",
   "metadata": {},
   "source": [
    "---\n",
    "## Aufgabe 3: Unifikation II\n",
    "\n",
    "#### Es seien wieder die Merkmalstrukturen aus Aufgabe 1 gegeben.\n",
    "\n",
    "#### Unifizieren Sie:\n",
    "- f1 mit f4\n",
    "- f2 mit f3\n",
    "\n",
    "#### Kontrollieren sie am Ende ihre Lösung zuerst mit Hilfe der interaktiven Fragen und überdenken Sie diese gegebenenfalls.\n",
    "\n",
    "#### Mit der Ausführung der unteren beiden print-Statements können Sie abschließend die Lösung einsehen."
   ]
  },
  {
   "cell_type": "code",
   "execution_count": 10,
   "metadata": {},
   "outputs": [
    {
     "data": {
      "application/vnd.jupyter.widget-view+json": {
       "model_id": "72f2f9bdc39b4afd944c7e0d642da6c7",
       "version_major": 2,
       "version_minor": 0
      },
      "text/plain": [
       "SingleChoice(children=(HTML(value='<h4 style=\"font-size:14px;\">Unifizieren f1 und f4?</h4>', layout=Layout(jus…"
      ]
     },
     "metadata": {},
     "output_type": "display_data"
    },
    {
     "data": {
      "application/vnd.jupyter.widget-view+json": {
       "model_id": "1fb27fe16e5e48899b634f9fd78d03aa",
       "version_major": 2,
       "version_minor": 0
      },
      "text/plain": [
       "SingleChoice(children=(HTML(value='<h4 style=\"font-size:14px;\">Unifizieren f2 und f3?</h4>', layout=Layout(jus…"
      ]
     },
     "metadata": {},
     "output_type": "display_data"
    }
   ],
   "source": [
    "aufgabe(blatt10_3)"
   ]
  },
  {
   "cell_type": "code",
   "execution_count": null,
   "metadata": {},
   "outputs": [],
   "source": [
    "print(f1.unify(f4).__repr__())"
   ]
  },
  {
   "cell_type": "code",
   "execution_count": null,
   "metadata": {
    "scrolled": true
   },
   "outputs": [],
   "source": [
    "print(f2.unify(f3).__repr__())"
   ]
  },
  {
   "cell_type": "markdown",
   "metadata": {},
   "source": [
    "---\n",
    "## Aufgabe 4: Weniger Redundanz dank besonderer Merkmale\n",
    "\n",
    "#### Beseitigen Sie die Redundanz in den lexikalischen Regeln (Zeilen 8 - 32) der folgenden Grammatik durch eine Typhierarchie (wo dies nötig ist). Achten Sie darauf, die Menge der akzeptierten Sätze weder zu verkleinern noch zu vergrößern!\n",
    "\n",
    "#### Anzugeben sind die neuen Grammatikregeln, sowie Ihre Typhierarchie (z. B. in graphischer Form)."
   ]
  },
  {
   "cell_type": "code",
   "execution_count": 11,
   "metadata": {},
   "outputs": [],
   "source": [
    "redundant_grammar = \"\"\"\n",
    "S -> NP[KAS=nom] VP\n",
    "\n",
    "NP[KAS=?y] -> DET[GEN=?x,KAS=?y] NOM[GEN=?x,KAS=?y]\n",
    "NOM[GEN=?x,KAS=?y] -> N[GEN=?x,KAS=?y] NP[KAS=gen]\n",
    "NOM[GEN=?x,KAS=?y] -> N[GEN=?x,KAS=?y]\n",
    "\n",
    "DET[GEN=mask,KAS=nom] -> \"der\"\n",
    "DET[GEN=mask,KAS=gen] -> \"des\"\n",
    "DET[GEN=mask,KAS=dat] -> \"dem\"\n",
    "DET[GEN=mask,KAS=akk] -> \"den\"\n",
    "DET[GEN=fem,KAS=nom] -> \"die\"\n",
    "DET[GEN=fem,KAS=gen] -> \"der\"\n",
    "DET[GEN=fem,KAS=dat] -> \"der\"\n",
    "DET[GEN=fem,KAS=akk] -> \"die\"\n",
    "DET[GEN=neut,KAS=nom] -> \"das\"\n",
    "DET[GEN=neut,KAS=gen] -> \"des\"\n",
    "DET[GEN=neut,KAS=dat] -> \"dem\"\n",
    "DET[GEN=neut,KAS=akk] -> \"das\"\n",
    "\n",
    "N[GEN=mask,KAS=nom] -> \"Mann\"\n",
    "N[GEN=mask,KAS=gen] -> \"Mannes\"\n",
    "N[GEN=mask,KAS=dat] -> \"Mann\"\n",
    "N[GEN=mask,KAS=akk] -> \"Mann\"\n",
    "N[GEN=fem,KAS=nom] -> \"Frau\"\n",
    "N[GEN=fem,KAS=gen] -> \"Frau\"\n",
    "N[GEN=fem,KAS=dat] -> \"Frau\"\n",
    "N[GEN=fem,KAS=akk] -> \"Frau\"\n",
    "N[GEN=neut,KAS=nom] -> \"Buch\"\n",
    "N[GEN=neut,KAS=gen] -> \"Buches\"\n",
    "N[GEN=neut,KAS=dat] -> \"Buch\"\n",
    "N[GEN=neut,KAS=akk] -> \"Buch\"\n",
    "\n",
    "VP -> V NP[KAS=dat] NP[KAS=akk]\n",
    "V -> \"gibt\" | \"schenkt\"\n",
    "\"\"\""
   ]
  },
  {
   "cell_type": "code",
   "execution_count": 12,
   "metadata": {},
   "outputs": [],
   "source": [
    "pos_sentences = [\n",
    "    \"der Mann gibt der Frau das Buch\",\n",
    "    \"die Frau des Mannes gibt dem Mann der Frau das Buch des Buches\"\n",
    "]"
   ]
  },
  {
   "cell_type": "markdown",
   "metadata": {},
   "source": [
    "#### Testen Sie mit Ihren eigenen Negativbeispielen!"
   ]
  },
  {
   "cell_type": "code",
   "execution_count": 13,
   "metadata": {},
   "outputs": [],
   "source": [
    "neg_sentences = [\n",
    "    \n",
    "]"
   ]
  },
  {
   "cell_type": "code",
   "execution_count": 14,
   "metadata": {},
   "outputs": [],
   "source": [
    "from IPython.display import display\n",
    "\n",
    "def test_grammar(grammar, sentences):\n",
    "    cfg = nltk.grammar.FeatureGrammar.fromstring(grammar)\n",
    "    parser = nltk.parse.FeatureEarleyChartParser(cfg)\n",
    "    \n",
    "    for i, sent in enumerate(sentences, 1):\n",
    "        print(\"Satz {}: {}\".format(i, sent))\n",
    "        results = parser.parse(sent.split())\n",
    "        analyzed = False\n",
    "        for tree in results:\n",
    "            print(tree)  # oder display(tree)\n",
    "            analyzed = True\n",
    "        if not analyzed:\n",
    "            print(\"Keine Analyse möglich\", file=sys.stderr)"
   ]
  },
  {
   "cell_type": "code",
   "execution_count": 15,
   "metadata": {
    "scrolled": false
   },
   "outputs": [
    {
     "name": "stdout",
     "output_type": "stream",
     "text": [
      "Satz 1: der Mann gibt der Frau das Buch\n",
      "(S[]\n",
      "  (NP[KAS='nom']\n",
      "    (DET[GEN='mask', KAS='nom'] der)\n",
      "    (NOM[GEN='mask', KAS='nom'] (N[GEN='mask', KAS='nom'] Mann)))\n",
      "  (VP[]\n",
      "    (V[] gibt)\n",
      "    (NP[KAS='dat']\n",
      "      (DET[GEN='fem', KAS='dat'] der)\n",
      "      (NOM[GEN='fem', KAS='dat'] (N[GEN='fem', KAS='dat'] Frau)))\n",
      "    (NP[KAS='akk']\n",
      "      (DET[GEN='neut', KAS='akk'] das)\n",
      "      (NOM[GEN='neut', KAS='akk'] (N[GEN='neut', KAS='akk'] Buch)))))\n",
      "Satz 2: die Frau des Mannes gibt dem Mann der Frau das Buch des Buches\n",
      "(S[]\n",
      "  (NP[KAS='nom']\n",
      "    (DET[GEN='fem', KAS='nom'] die)\n",
      "    (NOM[GEN='fem', KAS='nom']\n",
      "      (N[GEN='fem', KAS='nom'] Frau)\n",
      "      (NP[KAS='gen']\n",
      "        (DET[GEN='mask', KAS='gen'] des)\n",
      "        (NOM[GEN='mask', KAS='gen']\n",
      "          (N[GEN='mask', KAS='gen'] Mannes)))))\n",
      "  (VP[]\n",
      "    (V[] gibt)\n",
      "    (NP[KAS='dat']\n",
      "      (DET[GEN='mask', KAS='dat'] dem)\n",
      "      (NOM[GEN='mask', KAS='dat']\n",
      "        (N[GEN='mask', KAS='dat'] Mann)\n",
      "        (NP[KAS='gen']\n",
      "          (DET[GEN='fem', KAS='gen'] der)\n",
      "          (NOM[GEN='fem', KAS='gen'] (N[GEN='fem', KAS='gen'] Frau)))))\n",
      "    (NP[KAS='akk']\n",
      "      (DET[GEN='neut', KAS='akk'] das)\n",
      "      (NOM[GEN='neut', KAS='akk']\n",
      "        (N[GEN='neut', KAS='akk'] Buch)\n",
      "        (NP[KAS='gen']\n",
      "          (DET[GEN='neut', KAS='gen'] des)\n",
      "          (NOM[GEN='neut', KAS='gen']\n",
      "            (N[GEN='neut', KAS='gen'] Buches)))))))\n"
     ]
    }
   ],
   "source": [
    "test_grammar(redundant_grammar, pos_sentences)"
   ]
  }
 ],
 "metadata": {
  "kernelspec": {
   "display_name": "Python 3",
   "language": "python",
   "name": "python3"
  },
  "language_info": {
   "codemirror_mode": {
    "name": "ipython",
    "version": 3
   },
   "file_extension": ".py",
   "mimetype": "text/x-python",
   "name": "python",
   "nbconvert_exporter": "python",
   "pygments_lexer": "ipython3",
   "version": "3.7.4"
  },
  "widgets": {
   "application/vnd.jupyter.widget-state+json": {
    "state": {
     "00528c5ef6f946c0a04362c98e15b5e6": {
      "model_module": "@jupyter-widgets/controls",
      "model_module_version": "1.5.0",
      "model_name": "HBoxModel",
      "state": {
       "children": [
        "IPY_MODEL_7fb4c7e5f88b4c45bd8804ab39d47189",
        "IPY_MODEL_8c8420c3ee824fe2ae963312ac480de7"
       ],
       "layout": "IPY_MODEL_11f74a46496440df99035f007b0ca518"
      }
     },
     "0100289e5fd94d7f8d6d6a33da069f90": {
      "model_module": "@jupyter-widgets/controls",
      "model_module_version": "1.5.0",
      "model_name": "ButtonStyleModel",
      "state": {}
     },
     "01d1d3fa80084d0da0a34bae36976d94": {
      "model_module": "@jupyter-widgets/base",
      "model_module_version": "1.2.0",
      "model_name": "LayoutModel",
      "state": {}
     },
     "035748e536c24ef4a494ef217cb3e9ac": {
      "model_module": "@jupyter-widgets/controls",
      "model_module_version": "1.5.0",
      "model_name": "ButtonModel",
      "state": {
       "description": "Nein",
       "layout": "IPY_MODEL_6064c6bf90864eddac3fc63d59fb47c8",
       "style": "IPY_MODEL_33c9b8ec6dca49a2acd35689563133c5"
      }
     },
     "040a878cbddf4beb8887f54e7bd0ad20": {
      "model_module": "@jupyter-widgets/controls",
      "model_module_version": "1.5.0",
      "model_name": "ButtonStyleModel",
      "state": {}
     },
     "05252691bace4668bd9d1e599ebf2b75": {
      "model_module": "@jupyter-widgets/base",
      "model_module_version": "1.2.0",
      "model_name": "LayoutModel",
      "state": {
       "justify_content": "center"
      }
     },
     "05ad098a00d64e2c953edfb6762f6afa": {
      "model_module": "@jupyter-widgets/controls",
      "model_module_version": "1.5.0",
      "model_name": "ButtonStyleModel",
      "state": {}
     },
     "067971efd5094d6193877201baf9ca6a": {
      "model_module": "@jupyter-widgets/base",
      "model_module_version": "1.2.0",
      "model_name": "LayoutModel",
      "state": {}
     },
     "068076b17a684dbb9ce2b2cf80b1018c": {
      "model_module": "@jupyter-widgets/controls",
      "model_module_version": "1.5.0",
      "model_name": "ButtonStyleModel",
      "state": {}
     },
     "0893a04e40c64f848bb0cbe2aabbce16": {
      "model_module": "@jupyter-widgets/base",
      "model_module_version": "1.2.0",
      "model_name": "LayoutModel",
      "state": {
       "width": "250px"
      }
     },
     "0ce16efe8cc4437984f83e7a37a522be": {
      "model_module": "@jupyter-widgets/controls",
      "model_module_version": "1.5.0",
      "model_name": "HTMLModel",
      "state": {
       "layout": "IPY_MODEL_adadcd0d5fd54469ac92f87ed36804af",
       "style": "IPY_MODEL_70f5d7bb7f454b5d9edfb155b9041a53",
       "value": "<i>Wählen Sie die <ins>eine</ins> korrekte Antwort aus: </i>"
      }
     },
     "0dba7e687fa14c81a28e8e9a99ee0098": {
      "model_module": "@jupyter-widgets/controls",
      "model_module_version": "1.5.0",
      "model_name": "HBoxModel",
      "state": {
       "children": [
        "IPY_MODEL_7243052366b04f0696cb05ef2f47b153",
        "IPY_MODEL_b382fc9f96dc4d459daf66c7fd944677"
       ],
       "layout": "IPY_MODEL_99ab52199c324262b9275d8b042cd5d2"
      }
     },
     "0e73401874ee4e08b178e9d41fa1fa3c": {
      "model_module": "@jupyter-widgets/base",
      "model_module_version": "1.2.0",
      "model_name": "LayoutModel",
      "state": {
       "width": "250px"
      }
     },
     "11f74a46496440df99035f007b0ca518": {
      "model_module": "@jupyter-widgets/base",
      "model_module_version": "1.2.0",
      "model_name": "LayoutModel",
      "state": {}
     },
     "125917d6c1b34710a2eff169f4355330": {
      "model_module": "@jupyter-widgets/base",
      "model_module_version": "1.2.0",
      "model_name": "LayoutModel",
      "state": {
       "width": "250px"
      }
     },
     "126a6f6af7bf4c38a7bf9bfc691e4c38": {
      "model_module": "@jupyter-widgets/base",
      "model_module_version": "1.2.0",
      "model_name": "LayoutModel",
      "state": {}
     },
     "135787998d764fc48ba78bcfa32a2672": {
      "model_module": "@jupyter-widgets/controls",
      "model_module_version": "1.5.0",
      "model_name": "HBoxModel",
      "state": {
       "children": [
        "IPY_MODEL_639d92d9bade49afb1ed46e71b1c44bf",
        "IPY_MODEL_1b10c9915b4244318547aa082ab9831d"
       ],
       "layout": "IPY_MODEL_20f280ff2f68440e95293d90141d18c2"
      }
     },
     "135d0be6666c47a3ac651dc2fbdc521f": {
      "model_module": "@jupyter-widgets/controls",
      "model_module_version": "1.5.0",
      "model_name": "HTMLModel",
      "state": {
       "layout": "IPY_MODEL_244c3cbb6962415d9ccd092269ecd231",
       "style": "IPY_MODEL_e4ce2b78b28f4093ba538bde2db31916",
       "value": "<h4 style=\"font-size:14px;\">Unifizieren f2 und f3?</h4>"
      }
     },
     "1369cb098de24e029c6526ce8011715e": {
      "model_module": "@jupyter-widgets/base",
      "model_module_version": "1.2.0",
      "model_name": "LayoutModel",
      "state": {
       "width": "250px"
      }
     },
     "1450acfd0c1f4fc8be876cfff38374f4": {
      "model_module": "@jupyter-widgets/base",
      "model_module_version": "1.2.0",
      "model_name": "LayoutModel",
      "state": {}
     },
     "155487732c274b5ea2461aec35c44ab3": {
      "model_module": "@jupyter-widgets/controls",
      "model_module_version": "1.5.0",
      "model_name": "DescriptionStyleModel",
      "state": {
       "description_width": ""
      }
     },
     "15b24061a97345098027ec1111203076": {
      "model_module": "@jupyter-widgets/controls",
      "model_module_version": "1.5.0",
      "model_name": "HBoxModel",
      "state": {
       "children": [
        "IPY_MODEL_6bf1ebd061e547c49df6354687304bbb",
        "IPY_MODEL_3b003fe64e7a4776ad83bef82cbd7557"
       ],
       "layout": "IPY_MODEL_4cfe9d31759e4a94965701618a257238"
      }
     },
     "19313a6b9f2d47f1ab8be9909f8beb41": {
      "model_module": "@jupyter-widgets/base",
      "model_module_version": "1.2.0",
      "model_name": "LayoutModel",
      "state": {
       "justify_content": "center"
      }
     },
     "19a7d2f17a594896b9964480ffe6a971": {
      "model_module": "@jupyter-widgets/base",
      "model_module_version": "1.2.0",
      "model_name": "LayoutModel",
      "state": {
       "justify_content": "center"
      }
     },
     "1a6cb536efc44a8a8e25301e499df8be": {
      "model_module": "@jupyter-widgets/controls",
      "model_module_version": "1.5.0",
      "model_name": "VBoxModel",
      "state": {
       "children": [
        "IPY_MODEL_debde5987b764c06a94707f0efd5d4ab",
        "IPY_MODEL_50f86cb1458242679fbbd4fa3b449fe6",
        "IPY_MODEL_9fbff19c0dd64922888f3d854b9be835"
       ],
       "layout": "IPY_MODEL_fa8665f3fde042fb8ef46e2154ae9350"
      }
     },
     "1b10c9915b4244318547aa082ab9831d": {
      "model_module": "@jupyter-widgets/controls",
      "model_module_version": "1.5.0",
      "model_name": "ButtonModel",
      "state": {
       "description": "Nein",
       "layout": "IPY_MODEL_5153d151a4604f2990a30c0275ecc60b",
       "style": "IPY_MODEL_af19a543987e4a0384a0c467d6c262d2"
      }
     },
     "1cb64fbca89245e2af423815257566c4": {
      "model_module": "@jupyter-widgets/controls",
      "model_module_version": "1.5.0",
      "model_name": "HTMLModel",
      "state": {
       "layout": "IPY_MODEL_260563d178ac4d1e9ce65f023d8262d8",
       "style": "IPY_MODEL_f3ff0b179d754b55a7f1479254bc1e77",
       "value": "<h4 style=\"font-size:14px;\">Unifizieren f1 und f2?</h4>"
      }
     },
     "1fb27fe16e5e48899b634f9fd78d03aa": {
      "model_module": "@jupyter-widgets/controls",
      "model_module_version": "1.5.0",
      "model_name": "VBoxModel",
      "state": {
       "children": [
        "IPY_MODEL_1fcca48dd4764ba4bd41c520f18c3290",
        "IPY_MODEL_d9ec2041d43a4069b0596521c0ea1ae1",
        "IPY_MODEL_f16f5132b36247eea5c3a3c650980c5e"
       ],
       "layout": "IPY_MODEL_9621e9ed3f284773b18187d77cd6838e"
      }
     },
     "1fcca48dd4764ba4bd41c520f18c3290": {
      "model_module": "@jupyter-widgets/controls",
      "model_module_version": "1.5.0",
      "model_name": "HTMLModel",
      "state": {
       "layout": "IPY_MODEL_e7d05244b16b4b4da7ad4b8bef2a2eed",
       "style": "IPY_MODEL_677eef9518ae47e5b83e47012e7b937b",
       "value": "<h4 style=\"font-size:14px;\">Unifizieren f2 und f3?</h4>"
      }
     },
     "1fd3c24258834a02918367cfd015dca6": {
      "model_module": "@jupyter-widgets/controls",
      "model_module_version": "1.5.0",
      "model_name": "ButtonModel",
      "state": {
       "description": "Ja",
       "layout": "IPY_MODEL_0e73401874ee4e08b178e9d41fa1fa3c",
       "style": "IPY_MODEL_eab026e48d2146ae808acab3ab3cdf30"
      }
     },
     "20f280ff2f68440e95293d90141d18c2": {
      "model_module": "@jupyter-widgets/base",
      "model_module_version": "1.2.0",
      "model_name": "LayoutModel",
      "state": {}
     },
     "2276d003ea484074a37d5ccb2b9d9213": {
      "model_module": "@jupyter-widgets/base",
      "model_module_version": "1.2.0",
      "model_name": "LayoutModel",
      "state": {
       "justify_content": "center"
      }
     },
     "23a2add7c6d54c18a2bcb04234aebf07": {
      "model_module": "@jupyter-widgets/base",
      "model_module_version": "1.2.0",
      "model_name": "LayoutModel",
      "state": {
       "width": "250px"
      }
     },
     "23f49647c32e4480b02ef09aadba8781": {
      "model_module": "@jupyter-widgets/controls",
      "model_module_version": "1.5.0",
      "model_name": "VBoxModel",
      "state": {
       "children": [
        "IPY_MODEL_68f6cb24471f461da75e598d657277e1",
        "IPY_MODEL_2fb9374d49d444f589199f4e6a0c73a8",
        "IPY_MODEL_b2459fe23f03475fa9fd33dc446a74a9"
       ],
       "layout": "IPY_MODEL_44251a97ba1f4c63a0274ebffe65f9f8"
      }
     },
     "244c3cbb6962415d9ccd092269ecd231": {
      "model_module": "@jupyter-widgets/base",
      "model_module_version": "1.2.0",
      "model_name": "LayoutModel",
      "state": {
       "justify_content": "center"
      }
     },
     "260563d178ac4d1e9ce65f023d8262d8": {
      "model_module": "@jupyter-widgets/base",
      "model_module_version": "1.2.0",
      "model_name": "LayoutModel",
      "state": {
       "justify_content": "center"
      }
     },
     "28278da151aa4c56b01e785c95c3d36c": {
      "model_module": "@jupyter-widgets/controls",
      "model_module_version": "1.5.0",
      "model_name": "HTMLModel",
      "state": {
       "layout": "IPY_MODEL_2276d003ea484074a37d5ccb2b9d9213",
       "style": "IPY_MODEL_b324eb7a92304b319c2ec880924202fc",
       "value": "<h4 style=\"font-size:14px;\">Unifizieren f1 und f2?</h4>"
      }
     },
     "2a3f611540454b4ea6a652bba5f4e3b1": {
      "model_module": "@jupyter-widgets/controls",
      "model_module_version": "1.5.0",
      "model_name": "ButtonStyleModel",
      "state": {}
     },
     "2c8151c9f87e4b359c3df85cc8c95f39": {
      "model_module": "@jupyter-widgets/controls",
      "model_module_version": "1.5.0",
      "model_name": "VBoxModel",
      "state": {
       "children": [
        "IPY_MODEL_28278da151aa4c56b01e785c95c3d36c",
        "IPY_MODEL_4141acdf07ec463fb2e11b77e0e56829",
        "IPY_MODEL_ed6bb048524b4b16b79f88d6440bdce7"
       ],
       "layout": "IPY_MODEL_8854b38f1e7d4f73bd9cf0e39d7d4062"
      }
     },
     "2dde9f6f47b54c6e866992d9dbadeb61": {
      "model_module": "@jupyter-widgets/controls",
      "model_module_version": "1.5.0",
      "model_name": "DescriptionStyleModel",
      "state": {
       "description_width": ""
      }
     },
     "2fb9374d49d444f589199f4e6a0c73a8": {
      "model_module": "@jupyter-widgets/controls",
      "model_module_version": "1.5.0",
      "model_name": "HTMLModel",
      "state": {
       "layout": "IPY_MODEL_19a7d2f17a594896b9964480ffe6a971",
       "style": "IPY_MODEL_f8f24966f05741aa9346346325bc2e46",
       "value": "<i>Wählen Sie die <ins>eine</ins> korrekte Antwort aus: </i>"
      }
     },
     "31af88a1bed241da988680296867d8b1": {
      "model_module": "@jupyter-widgets/controls",
      "model_module_version": "1.5.0",
      "model_name": "DescriptionStyleModel",
      "state": {
       "description_width": ""
      }
     },
     "31f53d2786b94106a9b1fd652329f2bd": {
      "model_module": "@jupyter-widgets/controls",
      "model_module_version": "1.5.0",
      "model_name": "DescriptionStyleModel",
      "state": {
       "description_width": ""
      }
     },
     "33c9b8ec6dca49a2acd35689563133c5": {
      "model_module": "@jupyter-widgets/controls",
      "model_module_version": "1.5.0",
      "model_name": "ButtonStyleModel",
      "state": {}
     },
     "33fd2cadb60546aa85d52c7aa63f1ffd": {
      "model_module": "@jupyter-widgets/base",
      "model_module_version": "1.2.0",
      "model_name": "LayoutModel",
      "state": {}
     },
     "35245d0b9f5745819c34b778f29b16fd": {
      "model_module": "@jupyter-widgets/base",
      "model_module_version": "1.2.0",
      "model_name": "LayoutModel",
      "state": {
       "width": "250px"
      }
     },
     "3b003fe64e7a4776ad83bef82cbd7557": {
      "model_module": "@jupyter-widgets/controls",
      "model_module_version": "1.5.0",
      "model_name": "ButtonModel",
      "state": {
       "description": "Nein",
       "layout": "IPY_MODEL_4b6d9aec44f64bda9a20e0f354a5c5e4",
       "style": "IPY_MODEL_b1df68cba3564046b2ecb41da8855b01"
      }
     },
     "3dd4e7a8539e467593e332f663ff52ad": {
      "model_module": "@jupyter-widgets/controls",
      "model_module_version": "1.5.0",
      "model_name": "ButtonModel",
      "state": {
       "description": "Nein",
       "layout": "IPY_MODEL_1369cb098de24e029c6526ce8011715e",
       "style": "IPY_MODEL_068076b17a684dbb9ce2b2cf80b1018c"
      }
     },
     "3e7b5591464247429b47610c6afebed0": {
      "model_module": "@jupyter-widgets/controls",
      "model_module_version": "1.5.0",
      "model_name": "HTMLModel",
      "state": {
       "layout": "IPY_MODEL_7ec0fabc9b7e499ba352b08e56ff5cb1",
       "style": "IPY_MODEL_53aa7ac8a4624cac872251b0d3254b96",
       "value": "<h4 style=\"font-size:14px;\">Unifizieren f1 und f4?</h4>"
      }
     },
     "4141acdf07ec463fb2e11b77e0e56829": {
      "model_module": "@jupyter-widgets/controls",
      "model_module_version": "1.5.0",
      "model_name": "HTMLModel",
      "state": {
       "layout": "IPY_MODEL_19313a6b9f2d47f1ab8be9909f8beb41",
       "style": "IPY_MODEL_884c41a30bdf4be1b04d59f04f7b74a6",
       "value": "<i>Wählen Sie die <ins>eine</ins> korrekte Antwort aus: </i>"
      }
     },
     "43f168e4f5244595aa0cc94d0351e6f4": {
      "model_module": "@jupyter-widgets/controls",
      "model_module_version": "1.5.0",
      "model_name": "DescriptionStyleModel",
      "state": {
       "description_width": ""
      }
     },
     "44251a97ba1f4c63a0274ebffe65f9f8": {
      "model_module": "@jupyter-widgets/base",
      "model_module_version": "1.2.0",
      "model_name": "LayoutModel",
      "state": {}
     },
     "48754e9e54574a719884a1bdef2b1ecd": {
      "model_module": "@jupyter-widgets/base",
      "model_module_version": "1.2.0",
      "model_name": "LayoutModel",
      "state": {
       "justify_content": "center"
      }
     },
     "4899112a68f84c9884a8f884e624d403": {
      "model_module": "@jupyter-widgets/controls",
      "model_module_version": "1.5.0",
      "model_name": "VBoxModel",
      "state": {
       "children": [
        "IPY_MODEL_135d0be6666c47a3ac651dc2fbdc521f",
        "IPY_MODEL_71f6babd81844b44b43bfc1baff2da62",
        "IPY_MODEL_00528c5ef6f946c0a04362c98e15b5e6"
       ],
       "layout": "IPY_MODEL_4b2d19d8710b4a3bb3ab716252fd3d57"
      }
     },
     "4b2d19d8710b4a3bb3ab716252fd3d57": {
      "model_module": "@jupyter-widgets/base",
      "model_module_version": "1.2.0",
      "model_name": "LayoutModel",
      "state": {}
     },
     "4b6d9aec44f64bda9a20e0f354a5c5e4": {
      "model_module": "@jupyter-widgets/base",
      "model_module_version": "1.2.0",
      "model_name": "LayoutModel",
      "state": {
       "width": "250px"
      }
     },
     "4cfe9d31759e4a94965701618a257238": {
      "model_module": "@jupyter-widgets/base",
      "model_module_version": "1.2.0",
      "model_name": "LayoutModel",
      "state": {}
     },
     "4d51b0363ff640b594589d306c3136a3": {
      "model_module": "@jupyter-widgets/controls",
      "model_module_version": "1.5.0",
      "model_name": "ButtonStyleModel",
      "state": {}
     },
     "4d691742f2044ec79ae8e8724d4d633e": {
      "model_module": "@jupyter-widgets/base",
      "model_module_version": "1.2.0",
      "model_name": "LayoutModel",
      "state": {}
     },
     "4ea7f1bcd1004fe9a0fdc81bbf6a8fa2": {
      "model_module": "@jupyter-widgets/controls",
      "model_module_version": "1.5.0",
      "model_name": "HTMLModel",
      "state": {
       "layout": "IPY_MODEL_5c8edaf6f2264ba298c3356526694f4a",
       "style": "IPY_MODEL_155487732c274b5ea2461aec35c44ab3",
       "value": "<i>Wählen Sie die <ins>eine</ins> korrekte Antwort aus: </i>"
      }
     },
     "50f86cb1458242679fbbd4fa3b449fe6": {
      "model_module": "@jupyter-widgets/controls",
      "model_module_version": "1.5.0",
      "model_name": "HTMLModel",
      "state": {
       "layout": "IPY_MODEL_cfc85f696d8d4ddc9cf27d9223884c1e",
       "style": "IPY_MODEL_5ceb8dc0ba6449adb7b487cb0c13439f",
       "value": "<i>Wählen Sie die <ins>eine</ins> korrekte Antwort aus: </i>"
      }
     },
     "5153d151a4604f2990a30c0275ecc60b": {
      "model_module": "@jupyter-widgets/base",
      "model_module_version": "1.2.0",
      "model_name": "LayoutModel",
      "state": {
       "width": "250px"
      }
     },
     "53aa7ac8a4624cac872251b0d3254b96": {
      "model_module": "@jupyter-widgets/controls",
      "model_module_version": "1.5.0",
      "model_name": "DescriptionStyleModel",
      "state": {
       "description_width": ""
      }
     },
     "548343ca621541b3bee2b77eee8d85e8": {
      "model_module": "@jupyter-widgets/base",
      "model_module_version": "1.2.0",
      "model_name": "LayoutModel",
      "state": {}
     },
     "55b7f0b29280499aa7d144251d799cfa": {
      "model_module": "@jupyter-widgets/controls",
      "model_module_version": "1.5.0",
      "model_name": "ButtonStyleModel",
      "state": {}
     },
     "5756e8c31cae4d669247516e212e0b2b": {
      "model_module": "@jupyter-widgets/controls",
      "model_module_version": "1.5.0",
      "model_name": "ButtonModel",
      "state": {
       "description": "Nein",
       "layout": "IPY_MODEL_f5f2a0d5b964486ba6e0eb48ed913eba",
       "style": "IPY_MODEL_88f2d166aef84a358552cdb82c94969b"
      }
     },
     "5ab22ef60fb84579be25cf67ebc5d777": {
      "model_module": "@jupyter-widgets/controls",
      "model_module_version": "1.5.0",
      "model_name": "HBoxModel",
      "state": {
       "children": [
        "IPY_MODEL_1fd3c24258834a02918367cfd015dca6",
        "IPY_MODEL_df17b6538f3245c0a0ca45ff5c52e298"
       ],
       "layout": "IPY_MODEL_f8b589e2bc62461b80ae88271deb1000"
      }
     },
     "5b2e016660a0480a9132ca3d51c90baa": {
      "model_module": "@jupyter-widgets/base",
      "model_module_version": "1.2.0",
      "model_name": "LayoutModel",
      "state": {
       "width": "250px"
      }
     },
     "5c8edaf6f2264ba298c3356526694f4a": {
      "model_module": "@jupyter-widgets/base",
      "model_module_version": "1.2.0",
      "model_name": "LayoutModel",
      "state": {
       "justify_content": "center"
      }
     },
     "5ceb8dc0ba6449adb7b487cb0c13439f": {
      "model_module": "@jupyter-widgets/controls",
      "model_module_version": "1.5.0",
      "model_name": "DescriptionStyleModel",
      "state": {
       "description_width": ""
      }
     },
     "5d97387c36fa470d9bda7dd5e1a3d7d1": {
      "model_module": "@jupyter-widgets/base",
      "model_module_version": "1.2.0",
      "model_name": "LayoutModel",
      "state": {
       "justify_content": "center"
      }
     },
     "6064c6bf90864eddac3fc63d59fb47c8": {
      "model_module": "@jupyter-widgets/base",
      "model_module_version": "1.2.0",
      "model_name": "LayoutModel",
      "state": {
       "width": "250px"
      }
     },
     "639d92d9bade49afb1ed46e71b1c44bf": {
      "model_module": "@jupyter-widgets/controls",
      "model_module_version": "1.5.0",
      "model_name": "ButtonModel",
      "state": {
       "description": "Ja",
       "layout": "IPY_MODEL_5b2e016660a0480a9132ca3d51c90baa",
       "style": "IPY_MODEL_fc462d67929c4501856e96e9371d4cd3"
      }
     },
     "65089cd4ab6a4e2d8079776d124ef1f6": {
      "model_module": "@jupyter-widgets/controls",
      "model_module_version": "1.5.0",
      "model_name": "HTMLModel",
      "state": {
       "layout": "IPY_MODEL_adf826825288450e99814c63af9c3a0e",
       "style": "IPY_MODEL_9739d121a6714832806ffe4ff3482612",
       "value": "<i>Wählen Sie die <ins>eine</ins> korrekte Antwort aus: </i>"
      }
     },
     "65b4dd43c8d7488e9516a1d487e989e0": {
      "model_module": "@jupyter-widgets/base",
      "model_module_version": "1.2.0",
      "model_name": "LayoutModel",
      "state": {
       "width": "250px"
      }
     },
     "670f0125ebaf403e973cd3eebd4fd081": {
      "model_module": "@jupyter-widgets/base",
      "model_module_version": "1.2.0",
      "model_name": "LayoutModel",
      "state": {
       "width": "250px"
      }
     },
     "677743b18c28422badeac2c483dc41d5": {
      "model_module": "@jupyter-widgets/base",
      "model_module_version": "1.2.0",
      "model_name": "LayoutModel",
      "state": {
       "justify_content": "center"
      }
     },
     "677eef9518ae47e5b83e47012e7b937b": {
      "model_module": "@jupyter-widgets/controls",
      "model_module_version": "1.5.0",
      "model_name": "DescriptionStyleModel",
      "state": {
       "description_width": ""
      }
     },
     "67c07a18bf11445b827887debe39e959": {
      "model_module": "@jupyter-widgets/controls",
      "model_module_version": "1.5.0",
      "model_name": "DescriptionStyleModel",
      "state": {
       "description_width": ""
      }
     },
     "67c3913111bb4f6d94b045eac35761cb": {
      "model_module": "@jupyter-widgets/controls",
      "model_module_version": "1.5.0",
      "model_name": "DescriptionStyleModel",
      "state": {
       "description_width": ""
      }
     },
     "68f6cb24471f461da75e598d657277e1": {
      "model_module": "@jupyter-widgets/controls",
      "model_module_version": "1.5.0",
      "model_name": "HTMLModel",
      "state": {
       "layout": "IPY_MODEL_e74db528adac455dacfd39ace38344cf",
       "style": "IPY_MODEL_6be2ae018b1d4927b245dcc78cef578e",
       "value": "<h4 style=\"font-size:14px;\">Unifizieren f2 und f3?</h4>"
      }
     },
     "6b82fdf1164a4ba9af77abc87c450fca": {
      "model_module": "@jupyter-widgets/controls",
      "model_module_version": "1.5.0",
      "model_name": "VBoxModel",
      "state": {
       "children": [
        "IPY_MODEL_3e7b5591464247429b47610c6afebed0",
        "IPY_MODEL_944fef3d1378473e91f5ebb21a43a991",
        "IPY_MODEL_0dba7e687fa14c81a28e8e9a99ee0098"
       ],
       "layout": "IPY_MODEL_dbd149e9db2340c0a986ceb8c64dadc0"
      }
     },
     "6bb19c14f3ff4d0aa2e24ae3f2af0edb": {
      "model_module": "@jupyter-widgets/controls",
      "model_module_version": "1.5.0",
      "model_name": "VBoxModel",
      "state": {
       "children": [
        "IPY_MODEL_b56a6c47a97449d9b5f9cbc20ae523ca",
        "IPY_MODEL_0ce16efe8cc4437984f83e7a37a522be",
        "IPY_MODEL_a5b92f4a310c4784b9e89dc64550f907"
       ],
       "layout": "IPY_MODEL_067971efd5094d6193877201baf9ca6a"
      }
     },
     "6be2ae018b1d4927b245dcc78cef578e": {
      "model_module": "@jupyter-widgets/controls",
      "model_module_version": "1.5.0",
      "model_name": "DescriptionStyleModel",
      "state": {
       "description_width": ""
      }
     },
     "6bf1ebd061e547c49df6354687304bbb": {
      "model_module": "@jupyter-widgets/controls",
      "model_module_version": "1.5.0",
      "model_name": "ButtonModel",
      "state": {
       "description": "Ja",
       "layout": "IPY_MODEL_23a2add7c6d54c18a2bcb04234aebf07",
       "style": "IPY_MODEL_91d5083894d94e03a2dce5528524be19"
      }
     },
     "6ccb1dcb32af40e7ad202ea660783985": {
      "model_module": "@jupyter-widgets/controls",
      "model_module_version": "1.5.0",
      "model_name": "ButtonModel",
      "state": {
       "description": "Ja",
       "layout": "IPY_MODEL_9d8ff936fe624e66951f441ca9f2ab1d",
       "style": "IPY_MODEL_4d51b0363ff640b594589d306c3136a3"
      }
     },
     "6d4e463365dc4866bcbc85b012a9a748": {
      "model_module": "@jupyter-widgets/base",
      "model_module_version": "1.2.0",
      "model_name": "LayoutModel",
      "state": {
       "justify_content": "center"
      }
     },
     "6d6e854d61b04b3e95eb641b373de5b2": {
      "model_module": "@jupyter-widgets/base",
      "model_module_version": "1.2.0",
      "model_name": "LayoutModel",
      "state": {}
     },
     "6e0d8fb60071413186cbff318a9af9a3": {
      "model_module": "@jupyter-widgets/base",
      "model_module_version": "1.2.0",
      "model_name": "LayoutModel",
      "state": {
       "justify_content": "center"
      }
     },
     "6e8f69aa09ef4e82ba2d2e86f80b05a5": {
      "model_module": "@jupyter-widgets/controls",
      "model_module_version": "1.5.0",
      "model_name": "ButtonModel",
      "state": {
       "description": "Ja",
       "layout": "IPY_MODEL_92acee4b22d543c6bb9f869b67c8e54b",
       "style": "IPY_MODEL_55b7f0b29280499aa7d144251d799cfa"
      }
     },
     "70f5d7bb7f454b5d9edfb155b9041a53": {
      "model_module": "@jupyter-widgets/controls",
      "model_module_version": "1.5.0",
      "model_name": "DescriptionStyleModel",
      "state": {
       "description_width": ""
      }
     },
     "71f6babd81844b44b43bfc1baff2da62": {
      "model_module": "@jupyter-widgets/controls",
      "model_module_version": "1.5.0",
      "model_name": "HTMLModel",
      "state": {
       "layout": "IPY_MODEL_efab3c4bd3f44ddd90bcb91aed7b2d6e",
       "style": "IPY_MODEL_a7be52ae01ba408ebcb032ba22d0629a",
       "value": "<i>Wählen Sie die <ins>eine</ins> korrekte Antwort aus: </i>"
      }
     },
     "7243052366b04f0696cb05ef2f47b153": {
      "model_module": "@jupyter-widgets/controls",
      "model_module_version": "1.5.0",
      "model_name": "ButtonModel",
      "state": {
       "description": "Ja",
       "layout": "IPY_MODEL_93a9146b0ad64c47ab097bcf1a0d7da4",
       "style": "IPY_MODEL_d3fce2750481416eb36ba8800f70b0c1"
      }
     },
     "72f2f9bdc39b4afd944c7e0d642da6c7": {
      "model_module": "@jupyter-widgets/controls",
      "model_module_version": "1.5.0",
      "model_name": "VBoxModel",
      "state": {
       "children": [
        "IPY_MODEL_7f24cd849d024060a9afb975bb02bb0b",
        "IPY_MODEL_deaf05e8e04d4007a1168104905a270c",
        "IPY_MODEL_8af3e5da5f9e4387aa6c662848135c96"
       ],
       "layout": "IPY_MODEL_01d1d3fa80084d0da0a34bae36976d94"
      }
     },
     "73cab591ddd049eb9b7363b6921fb5e1": {
      "model_module": "@jupyter-widgets/controls",
      "model_module_version": "1.5.0",
      "model_name": "VBoxModel",
      "state": {
       "children": [
        "IPY_MODEL_dec0b03ab3e54d7791d7b463f226057f",
        "IPY_MODEL_65089cd4ab6a4e2d8079776d124ef1f6",
        "IPY_MODEL_135787998d764fc48ba78bcfa32a2672"
       ],
       "layout": "IPY_MODEL_8886f80a3776487caf8f556ec3bb243a"
      }
     },
     "7626ad734fa64fc2848bcd0eefb5f182": {
      "model_module": "@jupyter-widgets/controls",
      "model_module_version": "1.5.0",
      "model_name": "ButtonStyleModel",
      "state": {}
     },
     "78b332c26a7e47bbbd4da87fbeacb2a5": {
      "model_module": "@jupyter-widgets/controls",
      "model_module_version": "1.5.0",
      "model_name": "ButtonModel",
      "state": {
       "description": "Nein",
       "layout": "IPY_MODEL_7b36f2e513f540618178d8ef11ee31fb",
       "style": "IPY_MODEL_2a3f611540454b4ea6a652bba5f4e3b1"
      }
     },
     "7b36f2e513f540618178d8ef11ee31fb": {
      "model_module": "@jupyter-widgets/base",
      "model_module_version": "1.2.0",
      "model_name": "LayoutModel",
      "state": {
       "width": "250px"
      }
     },
     "7cb92aae30bc4a77832d2817351349a8": {
      "model_module": "@jupyter-widgets/controls",
      "model_module_version": "1.5.0",
      "model_name": "ButtonStyleModel",
      "state": {}
     },
     "7e23466f34224978bbb371c839930579": {
      "model_module": "@jupyter-widgets/base",
      "model_module_version": "1.2.0",
      "model_name": "LayoutModel",
      "state": {
       "justify_content": "center"
      }
     },
     "7ec0fabc9b7e499ba352b08e56ff5cb1": {
      "model_module": "@jupyter-widgets/base",
      "model_module_version": "1.2.0",
      "model_name": "LayoutModel",
      "state": {
       "justify_content": "center"
      }
     },
     "7f24cd849d024060a9afb975bb02bb0b": {
      "model_module": "@jupyter-widgets/controls",
      "model_module_version": "1.5.0",
      "model_name": "HTMLModel",
      "state": {
       "layout": "IPY_MODEL_6d4e463365dc4866bcbc85b012a9a748",
       "style": "IPY_MODEL_983d9b85011a481dbaff79b3a9eab9b7",
       "value": "<h4 style=\"font-size:14px;\">Unifizieren f1 und f4?</h4>"
      }
     },
     "7fb4c7e5f88b4c45bd8804ab39d47189": {
      "model_module": "@jupyter-widgets/controls",
      "model_module_version": "1.5.0",
      "model_name": "ButtonModel",
      "state": {
       "description": "Ja",
       "layout": "IPY_MODEL_eb321bc643a24486bfd04221a9f2426c",
       "style": "IPY_MODEL_05ad098a00d64e2c953edfb6762f6afa"
      }
     },
     "81fa455a2842477d883981592c262b55": {
      "model_module": "@jupyter-widgets/controls",
      "model_module_version": "1.5.0",
      "model_name": "ButtonModel",
      "state": {
       "description": "Ja",
       "layout": "IPY_MODEL_125917d6c1b34710a2eff169f4355330",
       "style": "IPY_MODEL_7cb92aae30bc4a77832d2817351349a8"
      }
     },
     "842f30a26648443c9fb1ba647ffadb06": {
      "model_module": "@jupyter-widgets/controls",
      "model_module_version": "1.5.0",
      "model_name": "DescriptionStyleModel",
      "state": {
       "description_width": ""
      }
     },
     "8544641bf741446a83dcb283ce961746": {
      "model_module": "@jupyter-widgets/controls",
      "model_module_version": "1.5.0",
      "model_name": "ButtonModel",
      "state": {
       "description": "Ja",
       "layout": "IPY_MODEL_ca564d8c1c0d4eaea8f279224d75c9dd",
       "style": "IPY_MODEL_d35ea5297bd64b0e884ed28ec89eb82b"
      }
     },
     "865903cafa224c52a6fcc1e223d1b391": {
      "model_module": "@jupyter-widgets/base",
      "model_module_version": "1.2.0",
      "model_name": "LayoutModel",
      "state": {
       "width": "250px"
      }
     },
     "865a235b1a404b4ca80a49417d76f721": {
      "model_module": "@jupyter-widgets/base",
      "model_module_version": "1.2.0",
      "model_name": "LayoutModel",
      "state": {}
     },
     "884c41a30bdf4be1b04d59f04f7b74a6": {
      "model_module": "@jupyter-widgets/controls",
      "model_module_version": "1.5.0",
      "model_name": "DescriptionStyleModel",
      "state": {
       "description_width": ""
      }
     },
     "8854b38f1e7d4f73bd9cf0e39d7d4062": {
      "model_module": "@jupyter-widgets/base",
      "model_module_version": "1.2.0",
      "model_name": "LayoutModel",
      "state": {}
     },
     "8886f80a3776487caf8f556ec3bb243a": {
      "model_module": "@jupyter-widgets/base",
      "model_module_version": "1.2.0",
      "model_name": "LayoutModel",
      "state": {}
     },
     "88f2d166aef84a358552cdb82c94969b": {
      "model_module": "@jupyter-widgets/controls",
      "model_module_version": "1.5.0",
      "model_name": "ButtonStyleModel",
      "state": {}
     },
     "8af3e5da5f9e4387aa6c662848135c96": {
      "model_module": "@jupyter-widgets/controls",
      "model_module_version": "1.5.0",
      "model_name": "HBoxModel",
      "state": {
       "children": [
        "IPY_MODEL_d20b1edf6c3049de8fe417c2b583ca30",
        "IPY_MODEL_78b332c26a7e47bbbd4da87fbeacb2a5"
       ],
       "layout": "IPY_MODEL_f86acf7f399540deba6fc760299140bf"
      }
     },
     "8c8420c3ee824fe2ae963312ac480de7": {
      "model_module": "@jupyter-widgets/controls",
      "model_module_version": "1.5.0",
      "model_name": "ButtonModel",
      "state": {
       "description": "Nein",
       "layout": "IPY_MODEL_e7dcb4269cd947369f099763f6b070c5",
       "style": "IPY_MODEL_0100289e5fd94d7f8d6d6a33da069f90"
      }
     },
     "91d5083894d94e03a2dce5528524be19": {
      "model_module": "@jupyter-widgets/controls",
      "model_module_version": "1.5.0",
      "model_name": "ButtonStyleModel",
      "state": {}
     },
     "92acee4b22d543c6bb9f869b67c8e54b": {
      "model_module": "@jupyter-widgets/base",
      "model_module_version": "1.2.0",
      "model_name": "LayoutModel",
      "state": {
       "width": "250px"
      }
     },
     "93a9146b0ad64c47ab097bcf1a0d7da4": {
      "model_module": "@jupyter-widgets/base",
      "model_module_version": "1.2.0",
      "model_name": "LayoutModel",
      "state": {
       "width": "250px"
      }
     },
     "940513be585a43ee91fd9ef7c476ee39": {
      "model_module": "@jupyter-widgets/controls",
      "model_module_version": "1.5.0",
      "model_name": "ButtonModel",
      "state": {
       "description": "Nein",
       "layout": "IPY_MODEL_af26840ab5ad45239d955966771f7da5",
       "style": "IPY_MODEL_d7b9e4585ae3432bab353d2785e68b50"
      }
     },
     "944fef3d1378473e91f5ebb21a43a991": {
      "model_module": "@jupyter-widgets/controls",
      "model_module_version": "1.5.0",
      "model_name": "HTMLModel",
      "state": {
       "layout": "IPY_MODEL_c1ea92c3882b4e6e909a9f4784759dad",
       "style": "IPY_MODEL_b217ce0ee45c40ae8dc5f2a724a0f567",
       "value": "<i>Wählen Sie die <ins>eine</ins> korrekte Antwort aus: </i>"
      }
     },
     "95f8487a47944f4a9229b4e17d917c28": {
      "model_module": "@jupyter-widgets/controls",
      "model_module_version": "1.5.0",
      "model_name": "ButtonModel",
      "state": {
       "description": "Nein",
       "layout": "IPY_MODEL_35245d0b9f5745819c34b778f29b16fd",
       "style": "IPY_MODEL_baf71cb90a934e7c8c5fa8400af028bd"
      }
     },
     "9621e9ed3f284773b18187d77cd6838e": {
      "model_module": "@jupyter-widgets/base",
      "model_module_version": "1.2.0",
      "model_name": "LayoutModel",
      "state": {}
     },
     "9739d121a6714832806ffe4ff3482612": {
      "model_module": "@jupyter-widgets/controls",
      "model_module_version": "1.5.0",
      "model_name": "DescriptionStyleModel",
      "state": {
       "description_width": ""
      }
     },
     "983d9b85011a481dbaff79b3a9eab9b7": {
      "model_module": "@jupyter-widgets/controls",
      "model_module_version": "1.5.0",
      "model_name": "DescriptionStyleModel",
      "state": {
       "description_width": ""
      }
     },
     "99ab52199c324262b9275d8b042cd5d2": {
      "model_module": "@jupyter-widgets/base",
      "model_module_version": "1.2.0",
      "model_name": "LayoutModel",
      "state": {}
     },
     "99c3cebafd6043ecb7f0f592a421b407": {
      "model_module": "@jupyter-widgets/base",
      "model_module_version": "1.2.0",
      "model_name": "LayoutModel",
      "state": {
       "width": "250px"
      }
     },
     "9cb6316ffc924d95a704dc654d129f57": {
      "model_module": "@jupyter-widgets/controls",
      "model_module_version": "1.5.0",
      "model_name": "ButtonModel",
      "state": {
       "description": "Nein",
       "layout": "IPY_MODEL_65b4dd43c8d7488e9516a1d487e989e0",
       "style": "IPY_MODEL_7626ad734fa64fc2848bcd0eefb5f182"
      }
     },
     "9d8ff936fe624e66951f441ca9f2ab1d": {
      "model_module": "@jupyter-widgets/base",
      "model_module_version": "1.2.0",
      "model_name": "LayoutModel",
      "state": {
       "width": "250px"
      }
     },
     "9ee600df6f0643ac8bad0b9ef3f8e69a": {
      "model_module": "@jupyter-widgets/controls",
      "model_module_version": "1.5.0",
      "model_name": "VBoxModel",
      "state": {
       "children": [
        "IPY_MODEL_d2d9d3966cbf43418aa146cee5eb3d0d",
        "IPY_MODEL_aec0c978aeba40bc91f430a7894d8825",
        "IPY_MODEL_d7177a8f58c94b4788fed05de26a2a16"
       ],
       "layout": "IPY_MODEL_126a6f6af7bf4c38a7bf9bfc691e4c38"
      }
     },
     "9f85f9446e1946bdb51bf84076043b83": {
      "model_module": "@jupyter-widgets/controls",
      "model_module_version": "1.5.0",
      "model_name": "ButtonStyleModel",
      "state": {}
     },
     "9fbff19c0dd64922888f3d854b9be835": {
      "model_module": "@jupyter-widgets/controls",
      "model_module_version": "1.5.0",
      "model_name": "HBoxModel",
      "state": {
       "children": [
        "IPY_MODEL_6ccb1dcb32af40e7ad202ea660783985",
        "IPY_MODEL_3dd4e7a8539e467593e332f663ff52ad"
       ],
       "layout": "IPY_MODEL_dcb52b23ada346e9932a6a6dc228173a"
      }
     },
     "a46f096bf215419680c9086c33b58715": {
      "model_module": "@jupyter-widgets/controls",
      "model_module_version": "1.5.0",
      "model_name": "ButtonStyleModel",
      "state": {}
     },
     "a5b92f4a310c4784b9e89dc64550f907": {
      "model_module": "@jupyter-widgets/controls",
      "model_module_version": "1.5.0",
      "model_name": "HBoxModel",
      "state": {
       "children": [
        "IPY_MODEL_d9ed9a6647504b9cad24a265917671cb",
        "IPY_MODEL_035748e536c24ef4a494ef217cb3e9ac"
       ],
       "layout": "IPY_MODEL_6d6e854d61b04b3e95eb641b373de5b2"
      }
     },
     "a5fe57ff65f84ba3990bab11afa1b77f": {
      "model_module": "@jupyter-widgets/base",
      "model_module_version": "1.2.0",
      "model_name": "LayoutModel",
      "state": {
       "justify_content": "center"
      }
     },
     "a7be52ae01ba408ebcb032ba22d0629a": {
      "model_module": "@jupyter-widgets/controls",
      "model_module_version": "1.5.0",
      "model_name": "DescriptionStyleModel",
      "state": {
       "description_width": ""
      }
     },
     "adadcd0d5fd54469ac92f87ed36804af": {
      "model_module": "@jupyter-widgets/base",
      "model_module_version": "1.2.0",
      "model_name": "LayoutModel",
      "state": {
       "justify_content": "center"
      }
     },
     "adf826825288450e99814c63af9c3a0e": {
      "model_module": "@jupyter-widgets/base",
      "model_module_version": "1.2.0",
      "model_name": "LayoutModel",
      "state": {
       "justify_content": "center"
      }
     },
     "aec0c978aeba40bc91f430a7894d8825": {
      "model_module": "@jupyter-widgets/controls",
      "model_module_version": "1.5.0",
      "model_name": "HTMLModel",
      "state": {
       "layout": "IPY_MODEL_677743b18c28422badeac2c483dc41d5",
       "style": "IPY_MODEL_cca3441f610442e89c54ab92834bd559",
       "value": "<i>Wählen Sie die <ins>eine</ins> korrekte Antwort aus: </i>"
      }
     },
     "af19a543987e4a0384a0c467d6c262d2": {
      "model_module": "@jupyter-widgets/controls",
      "model_module_version": "1.5.0",
      "model_name": "ButtonStyleModel",
      "state": {}
     },
     "af26840ab5ad45239d955966771f7da5": {
      "model_module": "@jupyter-widgets/base",
      "model_module_version": "1.2.0",
      "model_name": "LayoutModel",
      "state": {
       "width": "250px"
      }
     },
     "b0741082f46b493ab5085dfd2c0c6081": {
      "model_module": "@jupyter-widgets/base",
      "model_module_version": "1.2.0",
      "model_name": "LayoutModel",
      "state": {
       "width": "250px"
      }
     },
     "b1df68cba3564046b2ecb41da8855b01": {
      "model_module": "@jupyter-widgets/controls",
      "model_module_version": "1.5.0",
      "model_name": "ButtonStyleModel",
      "state": {}
     },
     "b217ce0ee45c40ae8dc5f2a724a0f567": {
      "model_module": "@jupyter-widgets/controls",
      "model_module_version": "1.5.0",
      "model_name": "DescriptionStyleModel",
      "state": {
       "description_width": ""
      }
     },
     "b2459fe23f03475fa9fd33dc446a74a9": {
      "model_module": "@jupyter-widgets/controls",
      "model_module_version": "1.5.0",
      "model_name": "HBoxModel",
      "state": {
       "children": [
        "IPY_MODEL_81fa455a2842477d883981592c262b55",
        "IPY_MODEL_5756e8c31cae4d669247516e212e0b2b"
       ],
       "layout": "IPY_MODEL_4d691742f2044ec79ae8e8724d4d633e"
      }
     },
     "b324eb7a92304b319c2ec880924202fc": {
      "model_module": "@jupyter-widgets/controls",
      "model_module_version": "1.5.0",
      "model_name": "DescriptionStyleModel",
      "state": {
       "description_width": ""
      }
     },
     "b382fc9f96dc4d459daf66c7fd944677": {
      "model_module": "@jupyter-widgets/controls",
      "model_module_version": "1.5.0",
      "model_name": "ButtonModel",
      "state": {
       "description": "Nein",
       "layout": "IPY_MODEL_670f0125ebaf403e973cd3eebd4fd081",
       "style": "IPY_MODEL_9f85f9446e1946bdb51bf84076043b83"
      }
     },
     "b56a6c47a97449d9b5f9cbc20ae523ca": {
      "model_module": "@jupyter-widgets/controls",
      "model_module_version": "1.5.0",
      "model_name": "HTMLModel",
      "state": {
       "layout": "IPY_MODEL_05252691bace4668bd9d1e599ebf2b75",
       "style": "IPY_MODEL_c295f6456492482abddfd244ed2c1613",
       "value": "<h4 style=\"font-size:14px;\">Unifizieren f1 und f2?</h4>"
      }
     },
     "baf71cb90a934e7c8c5fa8400af028bd": {
      "model_module": "@jupyter-widgets/controls",
      "model_module_version": "1.5.0",
      "model_name": "ButtonStyleModel",
      "state": {}
     },
     "bc4a1c6ed2b6447ab0eac8c133c8f744": {
      "model_module": "@jupyter-widgets/controls",
      "model_module_version": "1.5.0",
      "model_name": "VBoxModel",
      "state": {
       "children": [
        "IPY_MODEL_fb53a1e76de542e8a5d810ad0817f550",
        "IPY_MODEL_c00d24c2418b455c963efc049c7c864e",
        "IPY_MODEL_5ab22ef60fb84579be25cf67ebc5d777"
       ],
       "layout": "IPY_MODEL_33fd2cadb60546aa85d52c7aa63f1ffd"
      }
     },
     "bd6cd83aa41c4275a1d1bdd39abdf5d8": {
      "model_module": "@jupyter-widgets/controls",
      "model_module_version": "1.5.0",
      "model_name": "VBoxModel",
      "state": {
       "children": [
        "IPY_MODEL_1cb64fbca89245e2af423815257566c4",
        "IPY_MODEL_4ea7f1bcd1004fe9a0fdc81bbf6a8fa2",
        "IPY_MODEL_15b24061a97345098027ec1111203076"
       ],
       "layout": "IPY_MODEL_cb1743d7c79348a999d229c3b9c57793"
      }
     },
     "c00d24c2418b455c963efc049c7c864e": {
      "model_module": "@jupyter-widgets/controls",
      "model_module_version": "1.5.0",
      "model_name": "HTMLModel",
      "state": {
       "layout": "IPY_MODEL_a5fe57ff65f84ba3990bab11afa1b77f",
       "style": "IPY_MODEL_31af88a1bed241da988680296867d8b1",
       "value": "<i>Wählen Sie die <ins>eine</ins> korrekte Antwort aus: </i>"
      }
     },
     "c1ea92c3882b4e6e909a9f4784759dad": {
      "model_module": "@jupyter-widgets/base",
      "model_module_version": "1.2.0",
      "model_name": "LayoutModel",
      "state": {
       "justify_content": "center"
      }
     },
     "c295f6456492482abddfd244ed2c1613": {
      "model_module": "@jupyter-widgets/controls",
      "model_module_version": "1.5.0",
      "model_name": "DescriptionStyleModel",
      "state": {
       "description_width": ""
      }
     },
     "ca564d8c1c0d4eaea8f279224d75c9dd": {
      "model_module": "@jupyter-widgets/base",
      "model_module_version": "1.2.0",
      "model_name": "LayoutModel",
      "state": {
       "width": "250px"
      }
     },
     "cb1743d7c79348a999d229c3b9c57793": {
      "model_module": "@jupyter-widgets/base",
      "model_module_version": "1.2.0",
      "model_name": "LayoutModel",
      "state": {}
     },
     "cb577c5137c046e690fbbc72db22053d": {
      "model_module": "@jupyter-widgets/base",
      "model_module_version": "1.2.0",
      "model_name": "LayoutModel",
      "state": {
       "justify_content": "center"
      }
     },
     "cca3441f610442e89c54ab92834bd559": {
      "model_module": "@jupyter-widgets/controls",
      "model_module_version": "1.5.0",
      "model_name": "DescriptionStyleModel",
      "state": {
       "description_width": ""
      }
     },
     "cfc85f696d8d4ddc9cf27d9223884c1e": {
      "model_module": "@jupyter-widgets/base",
      "model_module_version": "1.2.0",
      "model_name": "LayoutModel",
      "state": {
       "justify_content": "center"
      }
     },
     "d00aa734c986477dbfc2c1684215f1b6": {
      "model_module": "@jupyter-widgets/base",
      "model_module_version": "1.2.0",
      "model_name": "LayoutModel",
      "state": {
       "justify_content": "center"
      }
     },
     "d20b1edf6c3049de8fe417c2b583ca30": {
      "model_module": "@jupyter-widgets/controls",
      "model_module_version": "1.5.0",
      "model_name": "ButtonModel",
      "state": {
       "description": "Ja",
       "layout": "IPY_MODEL_865903cafa224c52a6fcc1e223d1b391",
       "style": "IPY_MODEL_a46f096bf215419680c9086c33b58715"
      }
     },
     "d2d9d3966cbf43418aa146cee5eb3d0d": {
      "model_module": "@jupyter-widgets/controls",
      "model_module_version": "1.5.0",
      "model_name": "HTMLModel",
      "state": {
       "layout": "IPY_MODEL_d00aa734c986477dbfc2c1684215f1b6",
       "style": "IPY_MODEL_67c07a18bf11445b827887debe39e959",
       "value": "<h4 style=\"font-size:14px;\">Unifizieren f2 und f4?</h4>"
      }
     },
     "d35ea5297bd64b0e884ed28ec89eb82b": {
      "model_module": "@jupyter-widgets/controls",
      "model_module_version": "1.5.0",
      "model_name": "ButtonStyleModel",
      "state": {}
     },
     "d3fce2750481416eb36ba8800f70b0c1": {
      "model_module": "@jupyter-widgets/controls",
      "model_module_version": "1.5.0",
      "model_name": "ButtonStyleModel",
      "state": {}
     },
     "d7177a8f58c94b4788fed05de26a2a16": {
      "model_module": "@jupyter-widgets/controls",
      "model_module_version": "1.5.0",
      "model_name": "HBoxModel",
      "state": {
       "children": [
        "IPY_MODEL_e18f0413f5dd4b3ca7101d405a1bab52",
        "IPY_MODEL_95f8487a47944f4a9229b4e17d917c28"
       ],
       "layout": "IPY_MODEL_1450acfd0c1f4fc8be876cfff38374f4"
      }
     },
     "d7226bd8bb694fef8f3a8eec460ba747": {
      "model_module": "@jupyter-widgets/controls",
      "model_module_version": "1.5.0",
      "model_name": "ButtonStyleModel",
      "state": {}
     },
     "d7b9e4585ae3432bab353d2785e68b50": {
      "model_module": "@jupyter-widgets/controls",
      "model_module_version": "1.5.0",
      "model_name": "ButtonStyleModel",
      "state": {}
     },
     "d9ec2041d43a4069b0596521c0ea1ae1": {
      "model_module": "@jupyter-widgets/controls",
      "model_module_version": "1.5.0",
      "model_name": "HTMLModel",
      "state": {
       "layout": "IPY_MODEL_6e0d8fb60071413186cbff318a9af9a3",
       "style": "IPY_MODEL_43f168e4f5244595aa0cc94d0351e6f4",
       "value": "<i>Wählen Sie die <ins>eine</ins> korrekte Antwort aus: </i>"
      }
     },
     "d9ed9a6647504b9cad24a265917671cb": {
      "model_module": "@jupyter-widgets/controls",
      "model_module_version": "1.5.0",
      "model_name": "ButtonModel",
      "state": {
       "description": "Ja",
       "layout": "IPY_MODEL_b0741082f46b493ab5085dfd2c0c6081",
       "style": "IPY_MODEL_d7226bd8bb694fef8f3a8eec460ba747"
      }
     },
     "dbd149e9db2340c0a986ceb8c64dadc0": {
      "model_module": "@jupyter-widgets/base",
      "model_module_version": "1.2.0",
      "model_name": "LayoutModel",
      "state": {}
     },
     "dcb52b23ada346e9932a6a6dc228173a": {
      "model_module": "@jupyter-widgets/base",
      "model_module_version": "1.2.0",
      "model_name": "LayoutModel",
      "state": {}
     },
     "deaf05e8e04d4007a1168104905a270c": {
      "model_module": "@jupyter-widgets/controls",
      "model_module_version": "1.5.0",
      "model_name": "HTMLModel",
      "state": {
       "layout": "IPY_MODEL_48754e9e54574a719884a1bdef2b1ecd",
       "style": "IPY_MODEL_31f53d2786b94106a9b1fd652329f2bd",
       "value": "<i>Wählen Sie die <ins>eine</ins> korrekte Antwort aus: </i>"
      }
     },
     "debde5987b764c06a94707f0efd5d4ab": {
      "model_module": "@jupyter-widgets/controls",
      "model_module_version": "1.5.0",
      "model_name": "HTMLModel",
      "state": {
       "layout": "IPY_MODEL_cb577c5137c046e690fbbc72db22053d",
       "style": "IPY_MODEL_842f30a26648443c9fb1ba647ffadb06",
       "value": "<h4 style=\"font-size:14px;\">Unifizieren f2 und f4?</h4>"
      }
     },
     "dec0b03ab3e54d7791d7b463f226057f": {
      "model_module": "@jupyter-widgets/controls",
      "model_module_version": "1.5.0",
      "model_name": "HTMLModel",
      "state": {
       "layout": "IPY_MODEL_5d97387c36fa470d9bda7dd5e1a3d7d1",
       "style": "IPY_MODEL_67c3913111bb4f6d94b045eac35761cb",
       "value": "<h4 style=\"font-size:14px;\">Unifizieren f1 und f4?</h4>"
      }
     },
     "df17b6538f3245c0a0ca45ff5c52e298": {
      "model_module": "@jupyter-widgets/controls",
      "model_module_version": "1.5.0",
      "model_name": "ButtonModel",
      "state": {
       "description": "Nein",
       "layout": "IPY_MODEL_0893a04e40c64f848bb0cbe2aabbce16",
       "style": "IPY_MODEL_040a878cbddf4beb8887f54e7bd0ad20"
      }
     },
     "e18f0413f5dd4b3ca7101d405a1bab52": {
      "model_module": "@jupyter-widgets/controls",
      "model_module_version": "1.5.0",
      "model_name": "ButtonModel",
      "state": {
       "description": "Ja",
       "layout": "IPY_MODEL_99c3cebafd6043ecb7f0f592a421b407",
       "style": "IPY_MODEL_e952a85105de4c6187be96ac6d51928b"
      }
     },
     "e4ce2b78b28f4093ba538bde2db31916": {
      "model_module": "@jupyter-widgets/controls",
      "model_module_version": "1.5.0",
      "model_name": "DescriptionStyleModel",
      "state": {
       "description_width": ""
      }
     },
     "e74db528adac455dacfd39ace38344cf": {
      "model_module": "@jupyter-widgets/base",
      "model_module_version": "1.2.0",
      "model_name": "LayoutModel",
      "state": {
       "justify_content": "center"
      }
     },
     "e7d05244b16b4b4da7ad4b8bef2a2eed": {
      "model_module": "@jupyter-widgets/base",
      "model_module_version": "1.2.0",
      "model_name": "LayoutModel",
      "state": {
       "justify_content": "center"
      }
     },
     "e7dcb4269cd947369f099763f6b070c5": {
      "model_module": "@jupyter-widgets/base",
      "model_module_version": "1.2.0",
      "model_name": "LayoutModel",
      "state": {
       "width": "250px"
      }
     },
     "e952a85105de4c6187be96ac6d51928b": {
      "model_module": "@jupyter-widgets/controls",
      "model_module_version": "1.5.0",
      "model_name": "ButtonStyleModel",
      "state": {}
     },
     "eab026e48d2146ae808acab3ab3cdf30": {
      "model_module": "@jupyter-widgets/controls",
      "model_module_version": "1.5.0",
      "model_name": "ButtonStyleModel",
      "state": {}
     },
     "eb321bc643a24486bfd04221a9f2426c": {
      "model_module": "@jupyter-widgets/base",
      "model_module_version": "1.2.0",
      "model_name": "LayoutModel",
      "state": {
       "width": "250px"
      }
     },
     "ed6bb048524b4b16b79f88d6440bdce7": {
      "model_module": "@jupyter-widgets/controls",
      "model_module_version": "1.5.0",
      "model_name": "HBoxModel",
      "state": {
       "children": [
        "IPY_MODEL_8544641bf741446a83dcb283ce961746",
        "IPY_MODEL_940513be585a43ee91fd9ef7c476ee39"
       ],
       "layout": "IPY_MODEL_865a235b1a404b4ca80a49417d76f721"
      }
     },
     "efab3c4bd3f44ddd90bcb91aed7b2d6e": {
      "model_module": "@jupyter-widgets/base",
      "model_module_version": "1.2.0",
      "model_name": "LayoutModel",
      "state": {
       "justify_content": "center"
      }
     },
     "f16f5132b36247eea5c3a3c650980c5e": {
      "model_module": "@jupyter-widgets/controls",
      "model_module_version": "1.5.0",
      "model_name": "HBoxModel",
      "state": {
       "children": [
        "IPY_MODEL_6e8f69aa09ef4e82ba2d2e86f80b05a5",
        "IPY_MODEL_9cb6316ffc924d95a704dc654d129f57"
       ],
       "layout": "IPY_MODEL_548343ca621541b3bee2b77eee8d85e8"
      }
     },
     "f3ff0b179d754b55a7f1479254bc1e77": {
      "model_module": "@jupyter-widgets/controls",
      "model_module_version": "1.5.0",
      "model_name": "DescriptionStyleModel",
      "state": {
       "description_width": ""
      }
     },
     "f5f2a0d5b964486ba6e0eb48ed913eba": {
      "model_module": "@jupyter-widgets/base",
      "model_module_version": "1.2.0",
      "model_name": "LayoutModel",
      "state": {
       "width": "250px"
      }
     },
     "f86acf7f399540deba6fc760299140bf": {
      "model_module": "@jupyter-widgets/base",
      "model_module_version": "1.2.0",
      "model_name": "LayoutModel",
      "state": {}
     },
     "f8b589e2bc62461b80ae88271deb1000": {
      "model_module": "@jupyter-widgets/base",
      "model_module_version": "1.2.0",
      "model_name": "LayoutModel",
      "state": {}
     },
     "f8f24966f05741aa9346346325bc2e46": {
      "model_module": "@jupyter-widgets/controls",
      "model_module_version": "1.5.0",
      "model_name": "DescriptionStyleModel",
      "state": {
       "description_width": ""
      }
     },
     "fa8665f3fde042fb8ef46e2154ae9350": {
      "model_module": "@jupyter-widgets/base",
      "model_module_version": "1.2.0",
      "model_name": "LayoutModel",
      "state": {}
     },
     "fb53a1e76de542e8a5d810ad0817f550": {
      "model_module": "@jupyter-widgets/controls",
      "model_module_version": "1.5.0",
      "model_name": "HTMLModel",
      "state": {
       "layout": "IPY_MODEL_7e23466f34224978bbb371c839930579",
       "style": "IPY_MODEL_2dde9f6f47b54c6e866992d9dbadeb61",
       "value": "<h4 style=\"font-size:14px;\">Unifizieren f2 und f4?</h4>"
      }
     },
     "fc462d67929c4501856e96e9371d4cd3": {
      "model_module": "@jupyter-widgets/controls",
      "model_module_version": "1.5.0",
      "model_name": "ButtonStyleModel",
      "state": {}
     }
    },
    "version_major": 2,
    "version_minor": 0
   }
  }
 },
 "nbformat": 4,
 "nbformat_minor": 2
}
