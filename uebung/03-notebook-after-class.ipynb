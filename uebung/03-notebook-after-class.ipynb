{
 "cells": [
  {
   "cell_type": "markdown",
   "metadata": {},
   "source": [
    "***Vorlesung 'Syntax natürlicher Sprachen', WS 2020/21***\n",
    "\n",
    "---\n",
    "# Übung 3"
   ]
  },
  {
   "cell_type": "code",
   "execution_count": 2,
   "metadata": {},
   "outputs": [],
   "source": [
    "from exercises_3 import *\n",
    "from questions import aufgabe\n",
    "from nltk.tree import Tree"
   ]
  },
  {
   "cell_type": "markdown",
   "metadata": {},
   "source": [
    "---\n",
    "## Aufgabe 1: Wortarten\n",
    "\n",
    "#### Bestimmen Sie die Wortarten des folgenden Satzes. Geben Sie jeweils das entsprechende Tag aus dem Universal Dependency (http://universaldependencies.org/u/pos/) Tagset an.\n",
    "\n",
    "- *Sie gab ihm das neue Buch von Chomsky, aber er zeigte kein Interesse daran.*"
   ]
  },
  {
   "cell_type": "markdown",
   "metadata": {},
   "source": [
    "| Sie | gab | ihm | das | neue | Buch | von | Chomsky, | aber | er  | zeigte | kein | Interesse | daran.\n",
    "| --- | --- | --- | --- | ---- | ---- | --- | -------- | ---- | --- | ------ | ---- | --------- | ------ |\n",
    "| PRON | VERB | PRON | DET | ADJ  | NOUN  | ADP | PROPN  | CCONJ  | PRON | VERB    | DET/PRON  | NOUN       | ADV/PRON    |"
   ]
  },
  {
   "cell_type": "markdown",
   "metadata": {},
   "source": [
    "#### Vergleichen Sie ihre Tabelle anschließend mit dem Output des Spacy-Taggers."
   ]
  },
  {
   "cell_type": "code",
   "execution_count": 33,
   "metadata": {},
   "outputs": [],
   "source": [
    "import spacy\n",
    "\n",
    "nlp = spacy.load(\"de_core_news_sm\")\n",
    "doc = nlp('Sie gab ihm das neue Buch von Chomsky, aber er zeigte kein Interesse daran.')"
   ]
  },
  {
   "cell_type": "code",
   "execution_count": 34,
   "metadata": {},
   "outputs": [
    {
     "name": "stdout",
     "output_type": "stream",
     "text": [
      "Text       UD Tag     TIGER Tag \n",
      "========== ========== ==========\n",
      "Sie        PRON       PPER      \n",
      "gab        VERB       VVFIN     \n",
      "ihm        PRON       PPER      \n",
      "das        DET        ART       \n",
      "neue       ADJ        ADJA      \n",
      "Buch       NOUN       NN        \n",
      "von        ADP        APPR      \n",
      "Chomsky    PROPN      NE        \n",
      ",          PUNCT      $,        \n",
      "aber       CONJ       KON       \n",
      "er         PRON       PPER      \n",
      "zeigte     VERB       VVFIN     \n",
      "kein       DET        PIAT      \n",
      "Interesse  NOUN       NN        \n",
      "daran      ADV        PROAV     \n",
      ".          PUNCT      $.        \n"
     ]
    }
   ],
   "source": [
    "format_string = '{:10s} {:10s} {:10s}'\n",
    "print(format_string.format('Text', 'UD Tag', 'TIGER Tag'))\n",
    "print(format_string.format(*(['==========']*3)))\n",
    "for token in doc:\n",
    "    print(format_string.format(token.text, token.pos_, token.tag_))"
   ]
  },
  {
   "cell_type": "code",
   "execution_count": 36,
   "metadata": {},
   "outputs": [
    {
     "data": {
      "text/plain": [
       "'attributive indefinite pronoun without determiner'"
      ]
     },
     "execution_count": 36,
     "metadata": {},
     "output_type": "execute_result"
    }
   ],
   "source": [
    "spacy.explain('PIAT')"
   ]
  },
  {
   "cell_type": "code",
   "execution_count": 37,
   "metadata": {},
   "outputs": [
    {
     "data": {
      "text/plain": [
       "'pronominal adverb'"
      ]
     },
     "execution_count": 37,
     "metadata": {},
     "output_type": "execute_result"
    }
   ],
   "source": [
    "spacy.explain('PROAV')"
   ]
  },
  {
   "cell_type": "markdown",
   "metadata": {},
   "source": [
    "---\n",
    "## Aufgabe 2: Wortarten im Kontext\n",
    "\n",
    "#### Betrachten sie folgende Sätze:\n",
    "1. *Er spielt gerne Schach.*\n",
    "2. *Er spielt gut Schach.*\n"
   ]
  },
  {
   "cell_type": "markdown",
   "metadata": {},
   "source": [
    "---\n",
    "\n",
    "### Lösung: Hinweise\n",
    "\n",
    "\n",
    "\n",
    "siehe https://grammis.ids-mannheim.de/progr@mm/1575 (*Adverb oder adverbial gebrauchtes Adjektiv?*)\n",
    "\n",
    "- Adverbiale Funktion: https://grammis.ids-mannheim.de/terminologie/13\n",
    "    - (kann neben `ADV(P)` auch durch `ADJ(P)` oder `PP` erfüllt werden)\n",
    "        - `ADVP`: *ich laufe (nur heute)*\n",
    "        - `ADJP`: *ich laufe (sehr lange)*        \n",
    "        - `PP`: *ich laufe (im Park)*\n",
    "        \n",
    "\n",
    "\n",
    "siehe auch:\n",
    "- Adjektiv: https://grammis.ids-mannheim.de/progr@mm/5255\n",
    "- Adverb: https://grammis.ids-mannheim.de/progr@mm/5293\n",
    "\n",
    "\n",
    "- Adjektivphrase: https://grammis.ids-mannheim.de/progr@mm/1644\n",
    "- Adverbphrase: https://grammis.ids-mannheim.de/progr@mm/1653\n",
    "\n",
    "\n"
   ]
  },
  {
   "cell_type": "markdown",
   "metadata": {},
   "source": [
    "---\n",
    "### Aufgabe 2 a:\n",
    "\n",
    "#### Diskutieren Sie, ob es sich bei dem Wort *gerne* in Satz 1 um ein Adverb oder ein Adjektiv handelt."
   ]
  },
  {
   "cell_type": "code",
   "execution_count": 5,
   "metadata": {},
   "outputs": [
    {
     "data": {
      "application/vnd.jupyter.widget-view+json": {
       "model_id": "e8df8f26546c4ccea2152e65b1c37d7c",
       "version_major": 2,
       "version_minor": 0
      },
      "text/plain": [
       "MultipleChoice(children=(HTML(value='<h4 style=\"font-size:14px;\">Welche Eigenschaften hat <i>gerne</i> in Satz…"
      ]
     },
     "metadata": {},
     "output_type": "display_data"
    },
    {
     "data": {
      "application/vnd.jupyter.widget-view+json": {
       "model_id": "b8bc1baa425f468e9fa62a55574ecd8e",
       "version_major": 2,
       "version_minor": 0
      },
      "text/plain": [
       "SingleChoice(children=(HTML(value='<h4 style=\"font-size:14px;\">Welche Wortart folgt damit für das Wort <i>gern…"
      ]
     },
     "metadata": {},
     "output_type": "display_data"
    }
   ],
   "source": [
    "aufgabe(blatt3_2a)"
   ]
  },
  {
   "cell_type": "markdown",
   "metadata": {},
   "source": [
    "---\n",
    "### Aufgabe 2 b:\n",
    "\n",
    "#### Um welche Wortart handelt es sich bei dem Lexem *gut* in Satz 2? Diskutieren Sie die Probleme, die hier bei der Wortartenbestimmung auftreten."
   ]
  },
  {
   "cell_type": "code",
   "execution_count": 6,
   "metadata": {},
   "outputs": [
    {
     "data": {
      "application/vnd.jupyter.widget-view+json": {
       "model_id": "de6a2728e8134a53a86752c35b17126e",
       "version_major": 2,
       "version_minor": 0
      },
      "text/plain": [
       "MultipleChoice(children=(HTML(value='<h4 style=\"font-size:14px;\">Welche Eigenschaften hat <i>gut</i> in Satz 2…"
      ]
     },
     "metadata": {},
     "output_type": "display_data"
    },
    {
     "data": {
      "application/vnd.jupyter.widget-view+json": {
       "model_id": "f584349d63f44e448287253ebeb27d08",
       "version_major": 2,
       "version_minor": 0
      },
      "text/plain": [
       "SingleChoice(children=(HTML(value='<h4 style=\"font-size:14px;\">Welche Wortart folgt damit für das Wort <i>gut<…"
      ]
     },
     "metadata": {},
     "output_type": "display_data"
    },
    {
     "data": {
      "application/vnd.jupyter.widget-view+json": {
       "model_id": "0b9a31f30ca64b94b47e11390e5e9be6",
       "version_major": 2,
       "version_minor": 0
      },
      "text/plain": [
       "SingleChoice(children=(HTML(value='<h4 style=\"font-size:14px;\">Welche Wortart könnte man für das Wort <i>gut<…"
      ]
     },
     "metadata": {},
     "output_type": "display_data"
    }
   ],
   "source": [
    "aufgabe(blatt3_2b)"
   ]
  },
  {
   "cell_type": "markdown",
   "metadata": {},
   "source": [
    "---\n",
    "## Aufgabe 3: Phrasenstruktur\n",
    "\n",
    "#### Geben Sie für den folgenden Satz einen Phrasenstrukturbaum an.\n",
    "\n",
    "- *Die Studierenden schenkten ihnen ein Buch von Chomsky.*\n",
    "\n",
    "#### Erinnern Sie sich, dass Sie mit der Klasse `Tree` aus dem NLTK auch per Hand Syntaxbäume erstellen können (siehe nächste Codezelle).\n",
    "#### Sie dürfen aber auch gerne Papier und Stift benutzen :-)"
   ]
  },
  {
   "cell_type": "code",
   "execution_count": 10,
   "metadata": {
    "scrolled": true
   },
   "outputs": [
    {
     "name": "stdout",
     "output_type": "stream",
     "text": [
      "                                 S                           \n",
      "     ┌───────────────────────────┴────┐                       \n",
      "     │                                VP                     \n",
      "     │                   ┌───────┬────┴───┐                   \n",
      "     │                   │       │        NP                 \n",
      "     │                   │       │    ┌───┼────────┐          \n",
      "     NP                  │       NP   │   │        NP        \n",
      " ┌───┴───────┐           │       │    │   │    ┌───┴─────┐    \n",
      "ART          N           V      PRON DET  N    P         N   \n",
      " │           │           │       │    │   │    │         │    \n",
      "Die     Studierenden schenkten ihnen ein Buch von     Chomsky\n",
      "\n"
     ]
    }
   ],
   "source": [
    "#flache Strukturanalyse der komplexen NP:\n",
    "\n",
    "pp = Tree(\n",
    "    'NP',\n",
    "    [Tree('P', ['von']),Tree('N', ['Chomsky'])]\n",
    ")\n",
    "\n",
    "\n",
    "np3 = Tree(\n",
    "    'NP',\n",
    "    [Tree('DET', ['ein']),Tree('N', ['Buch']),pp]\n",
    ")\n",
    "\n",
    "np2 = Tree(\n",
    "    'NP',\n",
    "    [Tree('PRON', ['ihnen'])]\n",
    ")\n",
    "\n",
    "vp = Tree(\n",
    "    'VP',\n",
    "    [Tree('V', ['schenkten']), np2, np3]\n",
    ")\n",
    "\n",
    "np1 = Tree(\n",
    "    'NP',\n",
    "    [Tree('ART', ['Die']),Tree('N', ['Studierenden'])]\n",
    ")\n",
    "\n",
    "s = Tree(\n",
    "    'S',\n",
    "    [np1, vp]\n",
    ")\n",
    "\n",
    "s.pretty_print(unicodelines=True)"
   ]
  },
  {
   "cell_type": "code",
   "execution_count": 14,
   "metadata": {},
   "outputs": [
    {
     "name": "stdout",
     "output_type": "stream",
     "text": [
      "                                 S                               \n",
      "     ┌───────────────────────────┴────┐                           \n",
      "     │                                VP                         \n",
      "     │                   ┌───────┬────┴────────┐                  \n",
      "     │                   │       │             NP                \n",
      "     │                   │       │    ┌────────┴───┐              \n",
      "     │                   │       │    │           NOM            \n",
      "     │                   │       │    │   ┌────────┴───┐          \n",
      "     NP                  │       NP   │   │            NP        \n",
      " ┌───┴───────┐           │       │    │   │        ┌───┴─────┐    \n",
      "ART          N           V      PRON DET  N        P         N   \n",
      " │           │           │       │    │   │        │         │    \n",
      "Die     Studierenden schenkten ihnen ein Buch     von     Chomsky\n",
      "\n"
     ]
    }
   ],
   "source": [
    "#X-Bar-Strukturanalyse der komplexen NP (von-PP als Komplement):\n",
    "\n",
    "compl = Tree(\n",
    "    'NP',\n",
    "    [Tree('P', ['von']),Tree('N', ['Chomsky'])]\n",
    ")\n",
    "\n",
    "\n",
    "nom = Tree(\n",
    "    'NOM',\n",
    "    [Tree('N', ['Buch']), compl]\n",
    ")\n",
    "\n",
    "\n",
    "np3 = Tree(\n",
    "    'NP',\n",
    "    [Tree('DET', ['ein']),nom]\n",
    ")\n",
    "\n",
    "np2 = Tree(\n",
    "    'NP',\n",
    "    [Tree('PRON', ['ihnen'])]\n",
    ")\n",
    "\n",
    "vp = Tree(\n",
    "    'VP',\n",
    "    [Tree('V', ['schenkten']), np2, np3]\n",
    ")\n",
    "\n",
    "np1 = Tree(\n",
    "    'NP',\n",
    "    [Tree('ART', ['Die']),Tree('N', ['Studierenden'])]\n",
    ")\n",
    "\n",
    "s = Tree(\n",
    "    'S',\n",
    "    [np1, vp]\n",
    ")\n",
    "\n",
    "s.pretty_print(unicodelines=True)"
   ]
  },
  {
   "cell_type": "markdown",
   "metadata": {},
   "source": [
    "---\n",
    "## Aufgabe 4: Konstituententests"
   ]
  },
  {
   "cell_type": "markdown",
   "metadata": {},
   "source": [
    "#### Füllen Sie folgende Tabelle aus, indem Sie den jeweils angegebenen Konstituententest am folgenden Satz ausführen.\n",
    "\n",
    "- *Die Studierenden schenkten ihnen ein Buch über Fußball.*\n",
    "\n",
    "| Wortgruppe | Substitutionstest | Eliminierungstest | Permutationstest | Konstituente?\n",
    "| ---------- | ----------------- | ----------------- | ---------------- | ------------- |\n",
    "| Die Studierenden | 1. ✓ | 2* | 3✓ | ja |\n",
    "| ihnen ein | 4✓ | 5* | 6* | nein |\n",
    "| Buch über Fußball | 7✓ | 8* | 9* | nein |\n",
    "| über Fußball | 10✓ | 11✓ | 12 (?) | ja|\n",
    "\n",
    "\n",
    "- 1 Sie schenkten ihnen ein Buch über Fußball.\n",
    "- 2 * schenkten ihnen ein Buch über Fußball.\n",
    "- 3 ein Buch über Fußball schenkten die Studierenden ihnen.\n",
    "\n",
    "\n",
    "- 4 Die Studierenden schenkten kein Buch über Fußball.\n",
    "- 5 * Die Studierenden schenkten Buch über Fußball.\n",
    "- 6 * ihnen ein schenkten Die Studierenden Buch über Fußball.\n",
    "\n",
    "\n",
    "- 7 Die Studierenden schenkten ihnen ein Blatt.\n",
    "- 8 *Die Studierenden schenkten ihnen ein .\n",
    "- 9 *Buch über Fußball  schenkten Die Studierenden ihnen ein .\n",
    "\n",
    "\n",
    "- 10 Die Studierenden schenkten ihnen ein Buch aus Indien.\n",
    "- 11 Die Studierenden schenkten ihnen ein Buch.\n",
    "- 12 *über Fußball schenkten Die Studierenden ihnen ein Buch .\n"
   ]
  },
  {
   "cell_type": "markdown",
   "metadata": {},
   "source": [
    "---\n",
    "## Aufgabe 5: Phrasen und Konstituenten"
   ]
  },
  {
   "cell_type": "markdown",
   "metadata": {},
   "source": [
    "#### Erläutern Sie am Beispiel des Wortes *Verloren* im folgenden Satz den Unterschied zwischen Konstituente und Phrase.\n",
    "\n",
    "- *Verloren hat er seinen Schlüsselbund zwar noch nie, aber oft genug verlegt.*"
   ]
  },
  {
   "cell_type": "code",
   "execution_count": 3,
   "metadata": {
    "scrolled": true
   },
   "outputs": [
    {
     "data": {
      "application/vnd.jupyter.widget-view+json": {
       "model_id": "3042d846be01419cbf96282298565d5c",
       "version_major": 2,
       "version_minor": 0
      },
      "text/plain": [
       "Lueckentext(children=(HTML(value='<i>Vervollständigen Sie den Lückentext: </i>', layout=Layout(justify_content…"
      ]
     },
     "metadata": {},
     "output_type": "display_data"
    }
   ],
   "source": [
    "aufgabe(blatt3_5)"
   ]
  },
  {
   "cell_type": "markdown",
   "metadata": {},
   "source": [
    "--- \n",
    "# Hausaufgaben"
   ]
  },
  {
   "cell_type": "markdown",
   "metadata": {},
   "source": [
    "---\n",
    "## Aufgabe 6: Phrasenstruktur\n",
    "\n",
    "\n",
    "#### Zerlegen Sie den folgenden Satz in seine Konstituenten. Stellen Sie die Konstituentenstruktur mit einem Kastendiagramm dar und erstellen Sie dann mit NLTK den entsprechenden Syntaxbaum.\n",
    "\n",
    "- *Die Kunst des Ausruhens ist ein Teil der Kunst des Arbeitens.*"
   ]
  },
  {
   "cell_type": "markdown",
   "metadata": {},
   "source": [
    "\n",
    "| Die | Kunst | des | Ausruhens | ist | ein | Teil | der | Kunst | des  | Arbeitens |\n",
    "\n",
    "| Die  Kunst | ..."
   ]
  },
  {
   "cell_type": "code",
   "execution_count": 9,
   "metadata": {},
   "outputs": [
    {
     "name": "stdout",
     "output_type": "stream",
     "text": [
      "          S      \n",
      "     ┌────┴────┐  \n",
      "     NP        VP\n",
      " ┌───┴────┐    │  \n",
      "ART       N    V \n",
      " │        │    │  \n",
      "Die     Kunst ist\n",
      "\n"
     ]
    }
   ],
   "source": [
    "#TEMPLATE:\n",
    "np1 = Tree(\n",
    "    'NP',\n",
    "    [Tree('ART', ['Die']),Tree('N', ['Kunst'])]\n",
    ")\n",
    "vp = Tree(\n",
    "    'VP',\n",
    "    [Tree('V', ['ist'])]\n",
    ")\n",
    "s = Tree(\n",
    "    'S',\n",
    "    [np1, vp]\n",
    ")\n",
    "\n",
    "s.pretty_print(unicodelines=True)"
   ]
  },
  {
   "cell_type": "markdown",
   "metadata": {},
   "source": [
    "---\n",
    "## Aufgabe 7: Konstituententests"
   ]
  },
  {
   "cell_type": "markdown",
   "metadata": {},
   "source": [
    "#### Zeigen Sie mit dem Substitutionstest, dass es sich in folgendem Satz bei der Wortverbingung *nur mit einem Schritt* um eine Konstituente handelt.\n",
    "\n",
    "- Eine Reise von tausend Meilen beginnt auch nur mit einem Schritt.\n",
    "\n",
    "#### Beantworten Sie anschließend die folgenden Fragen!"
   ]
  },
  {
   "cell_type": "markdown",
   "metadata": {},
   "source": [
    "Substitutionstest: *Hier fehlt Ihre Lösung*"
   ]
  },
  {
   "cell_type": "code",
   "execution_count": 10,
   "metadata": {},
   "outputs": [
    {
     "data": {
      "application/vnd.jupyter.widget-view+json": {
       "model_id": "4678aff4402e46a1b1366d08a016c7c0",
       "version_major": 2,
       "version_minor": 0
      },
      "text/plain": [
       "MultipleChoice(children=(HTML(value='<h4 style=\"font-size:14px;\">Welcher ist der richtig permutierte Satz?</h4…"
      ]
     },
     "metadata": {},
     "output_type": "display_data"
    },
    {
     "data": {
      "application/vnd.jupyter.widget-view+json": {
       "model_id": "26618490dbd14ff7b211a98a1f549c9e",
       "version_major": 2,
       "version_minor": 0
      },
      "text/plain": [
       "MultipleChoice(children=(HTML(value='<h4 style=\"font-size:14px;\"><i>Eine Reise beginnt auch nur mit einem Schr…"
      ]
     },
     "metadata": {},
     "output_type": "display_data"
    }
   ],
   "source": [
    "aufgabe(blatt3_7)"
   ]
  },
  {
   "cell_type": "markdown",
   "metadata": {},
   "source": [
    "---\n",
    "## Aufgabe 8: Fragen zu NLTK-Kapitel 5"
   ]
  },
  {
   "cell_type": "markdown",
   "metadata": {},
   "source": [
    "#### Lesen Sie das Vorwort von NLTK-Kapitel 5 (’Categorizing and Tagging Words’) sowie die Teilkapitel 5.1, 5.2 und 5.7: http://www.nltk.org/book/ch05.html.\n",
    "\n",
    "#### Beantworten Sie insbesondere folgende Fragen:"
   ]
  },
  {
   "cell_type": "markdown",
   "metadata": {},
   "source": [
    "---\n",
    "### Aufgabe 8 a:"
   ]
  },
  {
   "cell_type": "code",
   "execution_count": 11,
   "metadata": {},
   "outputs": [
    {
     "data": {
      "application/vnd.jupyter.widget-view+json": {
       "model_id": "b3d62cc67fad4e4b960a7e62f412a118",
       "version_major": 2,
       "version_minor": 0
      },
      "text/plain": [
       "SingleChoice(children=(HTML(value='<h4 style=\"font-size:14px;\">Was ist der Input eines Part-of-Speech-Taggers?…"
      ]
     },
     "metadata": {},
     "output_type": "display_data"
    },
    {
     "data": {
      "application/vnd.jupyter.widget-view+json": {
       "model_id": "728eea65f9e143c18bf3e2eeebafc0c6",
       "version_major": 2,
       "version_minor": 0
      },
      "text/plain": [
       "SingleChoice(children=(HTML(value='<h4 style=\"font-size:14px;\">Was ist der Output eines Part-of-Speech-Taggers…"
      ]
     },
     "metadata": {},
     "output_type": "display_data"
    },
    {
     "data": {
      "application/vnd.jupyter.widget-view+json": {
       "model_id": "2d555cb71eb8406ba36e22a38accacb1",
       "version_major": 2,
       "version_minor": 0
      },
      "text/plain": [
       "OpenTextfield(children=(HTML(value='<h4 style=\"font-size:14px;\">Wie wirt der POS-Tagger im NLTK aufgerufen?</h…"
      ]
     },
     "metadata": {},
     "output_type": "display_data"
    }
   ],
   "source": [
    "aufgabe(blatt3_8a)"
   ]
  },
  {
   "cell_type": "markdown",
   "metadata": {},
   "source": [
    "---\n",
    "### Aufgabe 8 b:\n",
    "\n",
    "#### Sehen Sie sich folgenden Codeblock und dessen Output an (s. auch NLTK 5.1):"
   ]
  },
  {
   "cell_type": "code",
   "execution_count": 12,
   "metadata": {},
   "outputs": [
    {
     "name": "stdout",
     "output_type": "stream",
     "text": [
      "the his this that their one any no her its in our my some your each it\n",
      "all another of\n",
      "\n",
      "\n",
      "good much simple one new little white young sure beautiful that is\n",
      "time quiet certain great small proud bad thin\n",
      "\n",
      "\n",
      "time way day year man state work world moment country house group case\n",
      "room war church area job point car\n"
     ]
    }
   ],
   "source": [
    "import nltk\n",
    "text = nltk.Text(word.lower() for word in nltk.corpus.brown.words())\n",
    "\n",
    "text.similar('a')\n",
    "print('\\n')\n",
    "text.similar('nice')\n",
    "print('\\n')\n",
    "text.similar('book')"
   ]
  },
  {
   "cell_type": "code",
   "execution_count": 13,
   "metadata": {},
   "outputs": [
    {
     "data": {
      "application/vnd.jupyter.widget-view+json": {
       "model_id": "48b961676c4441a19aeebbe59e2bcee2",
       "version_major": 2,
       "version_minor": 0
      },
      "text/plain": [
       "MultipleChoice(children=(HTML(value='<h4 style=\"font-size:14px;\">Was leistet die Funktion <code>nltk.similar()…"
      ]
     },
     "metadata": {},
     "output_type": "display_data"
    }
   ],
   "source": [
    "aufgabe(blatt3_8b)"
   ]
  },
  {
   "cell_type": "markdown",
   "metadata": {},
   "source": [
    "---\n",
    "### Aufgabe 8 c:\n",
    "\n",
    "#### Erklären Sie, wie im zweiten der folgenden Codeblocks (NLTK 5.2.3/4) syntaktische Muster festgestellt werden. \n",
    "\n",
    "#### Füllen Sie mit diesem Wissen den Lückentext."
   ]
  },
  {
   "cell_type": "code",
   "execution_count": 14,
   "metadata": {},
   "outputs": [
    {
     "name": "stdout",
     "output_type": "stream",
     "text": [
      "(('The', 'DET'), ('Fulton', 'NOUN'))\n",
      "(('Fulton', 'NOUN'), ('County', 'NOUN'))\n",
      "(('County', 'NOUN'), ('Grand', 'ADJ'))\n"
     ]
    }
   ],
   "source": [
    "from nltk.corpus import brown\n",
    "brown_news_tagged = brown.tagged_words(categories='news', tagset='universal')\n",
    "word_tag_pairs = nltk.bigrams(brown_news_tagged)\n",
    "word_tag_pairs_list = list(word_tag_pairs)\n",
    "print(word_tag_pairs_list[0])\n",
    "print(word_tag_pairs_list[1])\n",
    "print(word_tag_pairs_list[2])"
   ]
  },
  {
   "cell_type": "code",
   "execution_count": 15,
   "metadata": {},
   "outputs": [
    {
     "data": {
      "text/plain": [
       "['NOUN',\n",
       " 'DET',\n",
       " 'ADJ',\n",
       " 'ADP',\n",
       " '.',\n",
       " 'VERB',\n",
       " 'CONJ',\n",
       " 'NUM',\n",
       " 'ADV',\n",
       " 'PRT',\n",
       " 'PRON',\n",
       " 'X']"
      ]
     },
     "execution_count": 15,
     "metadata": {},
     "output_type": "execute_result"
    }
   ],
   "source": [
    "word_tag_pairs = nltk.bigrams(brown_news_tagged)\n",
    "noun_preceders = [a[1] for (a, b) in word_tag_pairs if b[1] == 'NOUN']\n",
    "fdist = nltk.FreqDist(noun_preceders)\n",
    "[tag for (tag, _) in fdist.most_common()]"
   ]
  },
  {
   "cell_type": "code",
   "execution_count": 16,
   "metadata": {},
   "outputs": [
    {
     "data": {
      "application/vnd.jupyter.widget-view+json": {
       "model_id": "aed3cef5c7a548f3a7cf95a594012ebb",
       "version_major": 2,
       "version_minor": 0
      },
      "text/plain": [
       "Lueckentext(children=(HTML(value='<i>Vervollständigen Sie den Lückentext: </i>', layout=Layout(justify_content…"
      ]
     },
     "metadata": {},
     "output_type": "display_data"
    }
   ],
   "source": [
    "aufgabe(blatt3_8c)"
   ]
  },
  {
   "cell_type": "markdown",
   "metadata": {},
   "source": [
    "---\n",
    "### Aufgabe 8 d:"
   ]
  },
  {
   "cell_type": "code",
   "execution_count": 17,
   "metadata": {},
   "outputs": [
    {
     "data": {
      "application/vnd.jupyter.widget-view+json": {
       "model_id": "88fac10f67a140469535b72d00673991",
       "version_major": 2,
       "version_minor": 0
      },
      "text/plain": [
       "MultipleChoice(children=(HTML(value='<h4 style=\"font-size:14px;\">Was sind morphologische Kriterien für Wortkat…"
      ]
     },
     "metadata": {},
     "output_type": "display_data"
    },
    {
     "data": {
      "application/vnd.jupyter.widget-view+json": {
       "model_id": "abd3c30542804f4a97bcf39ad4a2c7f7",
       "version_major": 2,
       "version_minor": 0
      },
      "text/plain": [
       "MultipleChoice(children=(HTML(value='<h4 style=\"font-size:14px;\">Was sind syntaktische Kriterien für Wortkateg…"
      ]
     },
     "metadata": {},
     "output_type": "display_data"
    },
    {
     "data": {
      "application/vnd.jupyter.widget-view+json": {
       "model_id": "fe2cd03a497f429e921e940e638d4a16",
       "version_major": 2,
       "version_minor": 0
      },
      "text/plain": [
       "SingleChoice(children=(HTML(value='<h4 style=\"font-size:14px;\">Was bedeutet das Tag <i>VB</i> im Browntagset (…"
      ]
     },
     "metadata": {},
     "output_type": "display_data"
    },
    {
     "data": {
      "application/vnd.jupyter.widget-view+json": {
       "model_id": "19d005c0ad6c458d88b444d6ebc76437",
       "version_major": 2,
       "version_minor": 0
      },
      "text/plain": [
       "SingleChoice(children=(HTML(value='<h4 style=\"font-size:14px;\">Was bedeutet das Tag <i>VBZ</i> im Browntagset …"
      ]
     },
     "metadata": {},
     "output_type": "display_data"
    },
    {
     "data": {
      "application/vnd.jupyter.widget-view+json": {
       "model_id": "8e1f9b570a0f438781a5123fee11a2ee",
       "version_major": 2,
       "version_minor": 0
      },
      "text/plain": [
       "SingleChoice(children=(HTML(value='<h4 style=\"font-size:14px;\">Was bedeutet das Tag <i>VBN</i> im Browntagset …"
      ]
     },
     "metadata": {},
     "output_type": "display_data"
    },
    {
     "data": {
      "application/vnd.jupyter.widget-view+json": {
       "model_id": "0ee95499c5bf436f92c201b917b8611e",
       "version_major": 2,
       "version_minor": 0
      },
      "text/plain": [
       "SingleChoice(children=(HTML(value='<h4 style=\"font-size:14px;\">Was bedeutet das Tag <i>VBG</i> im Browntagset …"
      ]
     },
     "metadata": {},
     "output_type": "display_data"
    },
    {
     "data": {
      "application/vnd.jupyter.widget-view+json": {
       "model_id": "1ddce1666f5a4591a4ee48dc2504adaa",
       "version_major": 2,
       "version_minor": 0
      },
      "text/plain": [
       "SingleChoice(children=(HTML(value='<h4 style=\"font-size:14px;\">Was bedeutet das Tag <i>VBD</i> im Browntagset …"
      ]
     },
     "metadata": {},
     "output_type": "display_data"
    }
   ],
   "source": [
    "aufgabe(blatt3_8d)"
   ]
  },
  {
   "cell_type": "markdown",
   "metadata": {},
   "source": [
    "---\n",
    "## Aufgabe 9: Fragen zu NLTK-Kapitel 8.2"
   ]
  },
  {
   "cell_type": "markdown",
   "metadata": {},
   "source": [
    "#### Lesen Sie das NLTK-Teilkapitel 8.2 (’What’s the Use of Syntax?’): http://www.nltk.org/book/ch08.html.\n",
    "\n",
    "#### Beantworten Sie insbesondere folgende Fragen:"
   ]
  },
  {
   "cell_type": "markdown",
   "metadata": {},
   "source": [
    "---\n",
    "### Aufgabe 9 a:\n",
    "\n",
    "#### Durch welches Prinzip lassen sich Konstituenten nachweisen?"
   ]
  },
  {
   "cell_type": "code",
   "execution_count": 18,
   "metadata": {},
   "outputs": [
    {
     "data": {
      "application/vnd.jupyter.widget-view+json": {
       "model_id": "7d7bb11907ad4091a895b21592961619",
       "version_major": 2,
       "version_minor": 0
      },
      "text/plain": [
       "Lueckentext(children=(HTML(value='<i>Vervollständigen Sie den Lückentext: </i>', layout=Layout(justify_content…"
      ]
     },
     "metadata": {},
     "output_type": "display_data"
    }
   ],
   "source": [
    "aufgabe(blatt3_9a)"
   ]
  },
  {
   "cell_type": "markdown",
   "metadata": {},
   "source": [
    "---\n",
    "### Aufgabe 9 b:\n",
    "\n",
    "#### Führen Sie (incl. lexikalischer und phrasaler Labels) eine Ersetzung (oder Pronominalisierung oder Eliminierung) in folgendem Satz durch, bis sie bei einem 2-Wort-Satz ankommen:\n",
    "\n",
    "- Fischers Fritz fischt die frischen Fische aus dem Fluss."
   ]
  },
  {
   "cell_type": "markdown",
   "metadata": {},
   "source": [
    "Fischers (N) Fritz (N) fischt (V) die (...) frischen () Fische () aus () dem () Fluss ()\n",
    "\n",
    "Er (NP) ..."
   ]
  },
  {
   "cell_type": "markdown",
   "metadata": {},
   "source": [
    "---\n",
    "### Aufgabe 9 c:\n",
    "\n",
    "#### Welche Einschränkung gibt es bei der Koordinierung von Phrasen?"
   ]
  },
  {
   "cell_type": "code",
   "execution_count": 19,
   "metadata": {},
   "outputs": [
    {
     "data": {
      "application/vnd.jupyter.widget-view+json": {
       "model_id": "8336c82aca3e46a5aaf3468657bc50df",
       "version_major": 2,
       "version_minor": 0
      },
      "text/plain": [
       "Lueckentext(children=(HTML(value='<i>Vervollständigen Sie den Lückentext: </i>', layout=Layout(justify_content…"
      ]
     },
     "metadata": {},
     "output_type": "display_data"
    }
   ],
   "source": [
    "aufgabe(blatt3_9c)"
   ]
  }
 ],
 "metadata": {
  "kernelspec": {
   "display_name": "Python 3",
   "language": "python",
   "name": "python3"
  },
  "language_info": {
   "codemirror_mode": {
    "name": "ipython",
    "version": 3
   },
   "file_extension": ".py",
   "mimetype": "text/x-python",
   "name": "python",
   "nbconvert_exporter": "python",
   "pygments_lexer": "ipython3",
   "version": "3.6.1"
  },
  "widgets": {
   "application/vnd.jupyter.widget-state+json": {
    "state": {
     "003c358b6441433b875c5338062c97a1": {
      "model_module": "@jupyter-widgets/controls",
      "model_module_version": "1.2.0",
      "model_name": "DropdownModel",
      "state": {
       "_options_labels": [
        "Mittelfeld",
        "Nachfeld",
        "Vorfeld",
        " "
       ],
       "index": 3,
       "layout": "IPY_MODEL_a8312e77973f4bd2ab5dda46af8184aa",
       "style": "IPY_MODEL_9960a7c192114e469aab979c5b6fa57e"
      }
     },
     "0040a97a3ae54ec1b24694bb5f2cdd8f": {
      "model_module": "@jupyter-widgets/controls",
      "model_module_version": "1.2.0",
      "model_name": "DescriptionStyleModel",
      "state": {
       "description_width": ""
      }
     },
     "00627cc1eaff4e7dbea425e0c0a8a85e": {
      "model_module": "@jupyter-widgets/controls",
      "model_module_version": "1.2.0",
      "model_name": "ButtonStyleModel",
      "state": {}
     },
     "009b088060df403481d140ba8bbcf097": {
      "model_module": "@jupyter-widgets/controls",
      "model_module_version": "1.2.0",
      "model_name": "ButtonModel",
      "state": {
       "description": "base",
       "layout": "IPY_MODEL_28dfbc4bacda4d92aee9fd3fd44e1f9c",
       "style": "IPY_MODEL_1aee676a9e404a3995f039cda394d49a"
      }
     },
     "00aa7d66e4624ea19135b9118e6018f0": {
      "model_module": "@jupyter-widgets/controls",
      "model_module_version": "1.2.0",
      "model_name": "DescriptionStyleModel",
      "state": {
       "description_width": "initial"
      }
     },
     "011e4f7547d94015a822d4d3c3e44949": {
      "model_module": "@jupyter-widgets/controls",
      "model_module_version": "1.2.0",
      "model_name": "ButtonModel",
      "state": {
       "description": "Korrekt?",
       "layout": "IPY_MODEL_43d1637682f5491b9f61edc8df84799b",
       "style": "IPY_MODEL_6dd2eda8086a4536be640905a5098f41"
      }
     },
     "013c88fcf5334355b71c4125e88523ea": {
      "model_module": "@jupyter-widgets/base",
      "model_module_version": "1.0.0",
      "model_name": "LayoutModel",
      "state": {
       "width": "250px"
      }
     },
     "0149712afce742509faa865ec5b1d08a": {
      "model_module": "@jupyter-widgets/controls",
      "model_module_version": "1.2.0",
      "model_name": "HTMLModel",
      "state": {
       "layout": "IPY_MODEL_8acf576253794496a509d79b5eb2e443",
       "style": "IPY_MODEL_bc40e5e131314a769c281672318f7fd5",
       "value": "<h4 style=\"font-size:14px;\">Ersetzbarkeit einer</h4>"
      }
     },
     "016bf982247d4957856a1977ab3f7cbc": {
      "model_module": "@jupyter-widgets/base",
      "model_module_version": "1.0.0",
      "model_name": "LayoutModel",
      "state": {}
     },
     "0175919d7843437888ac5e96bc52ead1": {
      "model_module": "@jupyter-widgets/controls",
      "model_module_version": "1.2.0",
      "model_name": "HTMLModel",
      "state": {
       "layout": "IPY_MODEL_2558ab9de10c48d18dc272b2975dfec9",
       "style": "IPY_MODEL_53de42281404447d8addfa8d4ec93e16",
       "value": "<i>Wählen Sie die <ins>eine</ins> korrekte Antwort aus: </i>"
      }
     },
     "017a4318c24c4ba1a50347f28bb50759": {
      "model_module": "@jupyter-widgets/base",
      "model_module_version": "1.0.0",
      "model_name": "LayoutModel",
      "state": {
       "width": "600px"
      }
     },
     "017ec6e9135b46a3923cdec0558ebb24": {
      "model_module": "@jupyter-widgets/controls",
      "model_module_version": "1.2.0",
      "model_name": "DescriptionStyleModel",
      "state": {
       "description_width": "initial"
      }
     },
     "018de17deb80425eb52d01731f39b266": {
      "model_module": "@jupyter-widgets/base",
      "model_module_version": "1.0.0",
      "model_name": "LayoutModel",
      "state": {}
     },
     "018f13f03ffc445190b80dc31f5d5a2d": {
      "model_module": "@jupyter-widgets/base",
      "model_module_version": "1.0.0",
      "model_name": "LayoutModel",
      "state": {
       "width": "600px"
      }
     },
     "01ac87c3c89d427fb34666d8cff76bda": {
      "model_module": "@jupyter-widgets/base",
      "model_module_version": "1.0.0",
      "model_name": "LayoutModel",
      "state": {
       "width": "250px"
      }
     },
     "01e29658490444ed8b067a47353bb9e9": {
      "model_module": "@jupyter-widgets/controls",
      "model_module_version": "1.2.0",
      "model_name": "ButtonStyleModel",
      "state": {}
     },
     "022d708c638248bda2c5b95394d17c81": {
      "model_module": "@jupyter-widgets/base",
      "model_module_version": "1.0.0",
      "model_name": "LayoutModel",
      "state": {}
     },
     "022de624a12d49e8ae2f9e4e0ead525b": {
      "model_module": "@jupyter-widgets/controls",
      "model_module_version": "1.2.0",
      "model_name": "ButtonStyleModel",
      "state": {}
     },
     "0233919372824ebead2a33e424a6ae52": {
      "model_module": "@jupyter-widgets/base",
      "model_module_version": "1.0.0",
      "model_name": "LayoutModel",
      "state": {}
     },
     "0234d0edebe2422fac6f6ee955c04775": {
      "model_module": "@jupyter-widgets/controls",
      "model_module_version": "1.2.0",
      "model_name": "DescriptionStyleModel",
      "state": {
       "description_width": ""
      }
     },
     "026228d6d5b04f208ba326a771248033": {
      "model_module": "@jupyter-widgets/controls",
      "model_module_version": "1.2.0",
      "model_name": "ButtonStyleModel",
      "state": {}
     },
     "028759c7b4104089945fcab7d10934a7": {
      "model_module": "@jupyter-widgets/controls",
      "model_module_version": "1.2.0",
      "model_name": "DescriptionStyleModel",
      "state": {
       "description_width": ""
      }
     },
     "02896e75150943acb41552723249a069": {
      "model_module": "@jupyter-widgets/controls",
      "model_module_version": "1.2.0",
      "model_name": "ButtonStyleModel",
      "state": {}
     },
     "028bdb6bdd4b4d95b12f75e7b7ef647d": {
      "model_module": "@jupyter-widgets/controls",
      "model_module_version": "1.2.0",
      "model_name": "HTMLModel",
      "state": {
       "layout": "IPY_MODEL_dcd045bedae1425cbcd11b2b134eb7cd",
       "style": "IPY_MODEL_566e49f7089c41318c969aeb76fafe90",
       "value": "<i>Wählen Sie die <ins>eine</ins> korrekte Antwort aus: </i>"
      }
     },
     "031359b10326498aa95ba477550a0b3c": {
      "model_module": "@jupyter-widgets/base",
      "model_module_version": "1.0.0",
      "model_name": "LayoutModel",
      "state": {
       "justify_content": "center"
      }
     },
     "03176ad3c6684bce9835234e0d5023e3": {
      "model_module": "@jupyter-widgets/base",
      "model_module_version": "1.0.0",
      "model_name": "LayoutModel",
      "state": {
       "width": "250px"
      }
     },
     "0367e53f4e304041bb08ae44c1ff7866": {
      "model_module": "@jupyter-widgets/controls",
      "model_module_version": "1.2.0",
      "model_name": "HTMLModel",
      "state": {
       "layout": "IPY_MODEL_5704fd408f654debbc1967949f870dfb",
       "style": "IPY_MODEL_4e8b642285df44aaad2bef52a9669f13",
       "value": "<h4 style=\"font-size:14px;\">Was leistet die Funktion <code>nltk.similar()</code>?</h4>"
      }
     },
     "039e5b06e942469d8eebcd9a28f92652": {
      "model_module": "@jupyter-widgets/base",
      "model_module_version": "1.0.0",
      "model_name": "LayoutModel",
      "state": {
       "width": "150px"
      }
     },
     "040fd9e082b542cc903a10282b312d6e": {
      "model_module": "@jupyter-widgets/controls",
      "model_module_version": "1.2.0",
      "model_name": "DropdownModel",
      "state": {
       "_options_labels": [
        "Mittelfeld",
        "Nachfeld",
        "Vorfeld",
        " "
       ],
       "index": 2,
       "layout": "IPY_MODEL_d8987caea1fb4466bfa6946d9a283fd4",
       "style": "IPY_MODEL_263e2107ad5444fdb79d3e680dd39fbf"
      }
     },
     "0470bfe5fda348b190a024c53518e3fe": {
      "model_module": "@jupyter-widgets/base",
      "model_module_version": "1.0.0",
      "model_name": "LayoutModel",
      "state": {
       "width": "150px"
      }
     },
     "047a8c43c1ba432c9e0f8398a3a59e08": {
      "model_module": "@jupyter-widgets/base",
      "model_module_version": "1.0.0",
      "model_name": "LayoutModel",
      "state": {}
     },
     "0508d3b843a141ef9ff7682d57b9e07f": {
      "model_module": "@jupyter-widgets/base",
      "model_module_version": "1.0.0",
      "model_name": "LayoutModel",
      "state": {
       "justify_content": "center"
      }
     },
     "05199ea0109242909c749a187d4a4fec": {
      "model_module": "@jupyter-widgets/controls",
      "model_module_version": "1.2.0",
      "model_name": "ButtonModel",
      "state": {
       "description": "gerund",
       "layout": "IPY_MODEL_1e265baef324437b9a193b8d79c454a1",
       "style": "IPY_MODEL_5f13879108094cbbab45ea4f2085c74a"
      }
     },
     "0524018ea7f64de99dbd920334c74455": {
      "model_module": "@jupyter-widgets/controls",
      "model_module_version": "1.2.0",
      "model_name": "ButtonModel",
      "state": {
       "description": "base",
       "layout": "IPY_MODEL_936f91f6e08f4738839cdb2af992a7b9",
       "style": "IPY_MODEL_4a95eebef8c74290b0eb726bd7a9d217"
      }
     },
     "05407653d3d34e9cb72d25616527da1b": {
      "model_module": "@jupyter-widgets/base",
      "model_module_version": "1.0.0",
      "model_name": "LayoutModel",
      "state": {}
     },
     "056ad91d8d674fb1bc3b21679d0e98a3": {
      "model_module": "@jupyter-widgets/base",
      "model_module_version": "1.0.0",
      "model_name": "LayoutModel",
      "state": {}
     },
     "0581c1a09c1d48b0b21415f47a75a5e5": {
      "model_module": "@jupyter-widgets/controls",
      "model_module_version": "1.2.0",
      "model_name": "HBoxModel",
      "state": {
       "children": [
        "IPY_MODEL_b6e3bcdee82c4aecb5a7e31919c7f4ca",
        "IPY_MODEL_9e44558eaf52499b877e73366dd8550a"
       ],
       "layout": "IPY_MODEL_5b1d34630fbb4251ababcb3fc0da5c4d"
      }
     },
     "05837f23126046519bc557c35f02c394": {
      "model_module": "@jupyter-widgets/base",
      "model_module_version": "1.0.0",
      "model_name": "LayoutModel",
      "state": {
       "width": "250px"
      }
     },
     "0589512f81b348a785cb01edbf029424": {
      "model_module": "@jupyter-widgets/base",
      "model_module_version": "1.0.0",
      "model_name": "LayoutModel",
      "state": {}
     },
     "058a55da7bae4748a32a7cb4b213c1bf": {
      "model_module": "@jupyter-widgets/controls",
      "model_module_version": "1.2.0",
      "model_name": "HBoxModel",
      "state": {
       "children": [
        "IPY_MODEL_621ed98f946e40f0af6b8256ac7d1fc0"
       ],
       "layout": "IPY_MODEL_1d342e9c7ff84913b1c494bd87302a07"
      }
     },
     "05a7b363c5c94ad28c76240a5f34271e": {
      "model_module": "@jupyter-widgets/controls",
      "model_module_version": "1.2.0",
      "model_name": "DescriptionStyleModel",
      "state": {
       "description_width": "initial"
      }
     },
     "05abb530f2e14467924585b23dd9edbe": {
      "model_module": "@jupyter-widgets/base",
      "model_module_version": "1.0.0",
      "model_name": "LayoutModel",
      "state": {}
     },
     "05b17330194a43709de1676bab6bfe0a": {
      "model_module": "@jupyter-widgets/controls",
      "model_module_version": "1.2.0",
      "model_name": "DescriptionStyleModel",
      "state": {
       "description_width": ""
      }
     },
     "05b60b2fd5c449a1887bc891b38dfdf4": {
      "model_module": "@jupyter-widgets/controls",
      "model_module_version": "1.2.0",
      "model_name": "ButtonModel",
      "state": {
       "description": "Wortfolge",
       "layout": "IPY_MODEL_d2058a9ec53040e09576d358345fec39",
       "style": "IPY_MODEL_2a38fef219794292ac7667a0b97922f9"
      }
     },
     "05b8f3afc8504c8d93210709f2632412": {
      "model_module": "@jupyter-widgets/controls",
      "model_module_version": "1.2.0",
      "model_name": "ButtonStyleModel",
      "state": {}
     },
     "060dcd17914245bf86eee2ad8a5c4168": {
      "model_module": "@jupyter-widgets/base",
      "model_module_version": "1.0.0",
      "model_name": "LayoutModel",
      "state": {
       "width": "600px"
      }
     },
     "0634c994f5fa47e5bd97db2c375c5785": {
      "model_module": "@jupyter-widgets/controls",
      "model_module_version": "1.2.0",
      "model_name": "ButtonModel",
      "state": {
       "description": "Korrekt?",
       "layout": "IPY_MODEL_5598f89511c248ea8edb7dfbfae554e5",
       "style": "IPY_MODEL_1456bcb0a52b4209bc68db4d3dd3f412"
      }
     },
     "06ca91dece9f4883a8f33b6ec44b8e79": {
      "model_module": "@jupyter-widgets/base",
      "model_module_version": "1.0.0",
      "model_name": "LayoutModel",
      "state": {}
     },
     "06ea0edfc5354bd6a5fc9d088be61020": {
      "model_module": "@jupyter-widgets/controls",
      "model_module_version": "1.2.0",
      "model_name": "HTMLModel",
      "state": {
       "layout": "IPY_MODEL_1fcc9178f8044b48bf4af1f4c6c2b435",
       "style": "IPY_MODEL_6fdd4159bef74aab93267152088ab9a0",
       "value": "<h4 style=\"font-size:14px;\">Was ist der Input eines Part-of-Speech-Taggers?</h4>"
      }
     },
     "06f7fe4c09d94fc8a5320ad32fe07216": {
      "model_module": "@jupyter-widgets/base",
      "model_module_version": "1.0.0",
      "model_name": "LayoutModel",
      "state": {
       "width": "250px"
      }
     },
     "07131530f4e44de895ed79611b2e644f": {
      "model_module": "@jupyter-widgets/base",
      "model_module_version": "1.0.0",
      "model_name": "LayoutModel",
      "state": {}
     },
     "0714e1065b834dc4bb0705fdefb14f50": {
      "model_module": "@jupyter-widgets/controls",
      "model_module_version": "1.2.0",
      "model_name": "VBoxModel",
      "state": {
       "children": [
        "IPY_MODEL_bd0d0bdf7d0e4ba9aba48d36129dcd85",
        "IPY_MODEL_81f409f5173741dd8a01b55c0003da61",
        "IPY_MODEL_a6a5463890744d2e9bcf1d0d77d97e7b",
        "IPY_MODEL_732468fbd99146b0811eab20accc9977"
       ],
       "layout": "IPY_MODEL_8e09dd67fdb24244a785a8c593ebb5a0"
      }
     },
     "072bcd74b498483fbe0924c3dbd2898f": {
      "model_module": "@jupyter-widgets/controls",
      "model_module_version": "1.2.0",
      "model_name": "ButtonStyleModel",
      "state": {}
     },
     "072c05a13baf427aa7539e303730b61b": {
      "model_module": "@jupyter-widgets/base",
      "model_module_version": "1.0.0",
      "model_name": "LayoutModel",
      "state": {}
     },
     "07badabeddc04bf59a90d306829f3ae9": {
      "model_module": "@jupyter-widgets/base",
      "model_module_version": "1.0.0",
      "model_name": "LayoutModel",
      "state": {
       "width": "600px"
      }
     },
     "07ddf82495a644ba9263ca708656bf19": {
      "model_module": "@jupyter-widgets/base",
      "model_module_version": "1.0.0",
      "model_name": "LayoutModel",
      "state": {
       "justify_content": "center"
      }
     },
     "07e669d9de7641289bb6fd9732154009": {
      "model_module": "@jupyter-widgets/controls",
      "model_module_version": "1.2.0",
      "model_name": "ButtonStyleModel",
      "state": {}
     },
     "085ba7635a484c40b147651e23f7b845": {
      "model_module": "@jupyter-widgets/controls",
      "model_module_version": "1.2.0",
      "model_name": "DescriptionStyleModel",
      "state": {
       "description_width": ""
      }
     },
     "088e5ad8967744cdb583a952fe170f3f": {
      "model_module": "@jupyter-widgets/base",
      "model_module_version": "1.0.0",
      "model_name": "LayoutModel",
      "state": {
       "justify_content": "center"
      }
     },
     "08a3590a783c40c7890b74c9340155ed": {
      "model_module": "@jupyter-widgets/controls",
      "model_module_version": "1.2.0",
      "model_name": "DescriptionStyleModel",
      "state": {
       "description_width": "initial"
      }
     },
     "08bcd47bfe174064adaa1e4107174440": {
      "model_module": "@jupyter-widgets/controls",
      "model_module_version": "1.2.0",
      "model_name": "CheckboxModel",
      "state": {
       "description": "Es fungiert als Satzglied mit der syntaktischen Funktion Adverbial.",
       "disabled": false,
       "layout": "IPY_MODEL_2771ab549cc241d09829a1c6401cbdfe",
       "style": "IPY_MODEL_e2f09f02190447678d4ec0720307f4c9",
       "value": false
      }
     },
     "0901c7f778894258a5b0a2a591a95ead": {
      "model_module": "@jupyter-widgets/controls",
      "model_module_version": "1.2.0",
      "model_name": "ButtonStyleModel",
      "state": {}
     },
     "091ca09b1fc2489da353f888c711948c": {
      "model_module": "@jupyter-widgets/controls",
      "model_module_version": "1.2.0",
      "model_name": "HBoxModel",
      "state": {
       "children": [
        "IPY_MODEL_ce665bbbc89c49849ace964b36d047a5",
        "IPY_MODEL_38160e8ceab84ac1ab5feed87bfbb320"
       ],
       "layout": "IPY_MODEL_3498e89da87e4652afc5e558713b0901"
      }
     },
     "0923f7ff8f3347c6aa4ea40e93a5a954": {
      "model_module": "@jupyter-widgets/controls",
      "model_module_version": "1.2.0",
      "model_name": "DescriptionStyleModel",
      "state": {
       "description_width": ""
      }
     },
     "0946891cc9de4b1193a1f6443f0ff3ef": {
      "model_module": "@jupyter-widgets/controls",
      "model_module_version": "1.2.0",
      "model_name": "ButtonStyleModel",
      "state": {}
     },
     "096fc263b8744b1c9b8f67e6d8cdf493": {
      "model_module": "@jupyter-widgets/controls",
      "model_module_version": "1.2.0",
      "model_name": "HBoxModel",
      "state": {
       "children": [
        "IPY_MODEL_eafb3dec8a2446e68180b23f92cfa90c",
        "IPY_MODEL_c702f7f8df78489f854774deb6167988"
       ],
       "layout": "IPY_MODEL_5425c785231b4b7a81141c09e28910db"
      }
     },
     "097f3328c73d4fbc959bb42b46447a54": {
      "model_module": "@jupyter-widgets/base",
      "model_module_version": "1.0.0",
      "model_name": "LayoutModel",
      "state": {}
     },
     "098203001097408f958eb1fc8254ce2f": {
      "model_module": "@jupyter-widgets/controls",
      "model_module_version": "1.2.0",
      "model_name": "VBoxModel",
      "state": {
       "children": [
        "IPY_MODEL_3d3cc4ab9b5049859b106c0c6c19ca13",
        "IPY_MODEL_ddd67b5ea7144198927bac51ed285e7f",
        "IPY_MODEL_3a4faed976cb4e219d7b9e4292b2db04",
        "IPY_MODEL_a35cc65f9e404daa93fd8ed45421d64f"
       ],
       "layout": "IPY_MODEL_eb1022e2a4e546a497e1f39b9bce7427"
      }
     },
     "09b3a77b06fd411e95217e979a70085b": {
      "model_module": "@jupyter-widgets/controls",
      "model_module_version": "1.2.0",
      "model_name": "DropdownModel",
      "state": {
       "_options_labels": [
        "'ADJ'",
        "'DET'",
        "'NOUN'",
        " "
       ],
       "index": 3,
       "layout": "IPY_MODEL_fff07f60481f4b308b5e58529d649b71",
       "style": "IPY_MODEL_44ed58a8da1f4cde8059bb1f88ae1f19"
      }
     },
     "09b61322b37c4ee29a7f0f4c8acf6444": {
      "model_module": "@jupyter-widgets/controls",
      "model_module_version": "1.2.0",
      "model_name": "ButtonStyleModel",
      "state": {}
     },
     "09dc912800a146d895a9773e7af972e1": {
      "model_module": "@jupyter-widgets/controls",
      "model_module_version": "1.2.0",
      "model_name": "DropdownModel",
      "state": {
       "_options_labels": [
        "POS",
        "POS+Wort+POS",
        "Wort+POS-Tag",
        " "
       ],
       "index": 3,
       "layout": "IPY_MODEL_a5e407519cee4399af1f8ece54233fe7",
       "style": "IPY_MODEL_10f7fdff5ba849b7bae461d72c00578b"
      }
     },
     "0a03fb8f81994d1ba84d61e06e89e4d3": {
      "model_module": "@jupyter-widgets/base",
      "model_module_version": "1.0.0",
      "model_name": "LayoutModel",
      "state": {
       "width": "250px"
      }
     },
     "0a207d2c42c14a1f99147528405eb8af": {
      "model_module": "@jupyter-widgets/controls",
      "model_module_version": "1.2.0",
      "model_name": "DescriptionStyleModel",
      "state": {
       "description_width": ""
      }
     },
     "0a8ff7715e6e467dba699731203aaff8": {
      "model_module": "@jupyter-widgets/controls",
      "model_module_version": "1.2.0",
      "model_name": "DescriptionStyleModel",
      "state": {
       "description_width": ""
      }
     },
     "0b0ee425bd654b1daf652416b039d34c": {
      "model_module": "@jupyter-widgets/controls",
      "model_module_version": "1.2.0",
      "model_name": "HBoxModel",
      "state": {
       "children": [
        "IPY_MODEL_da8eb68b1aad41b384a879ad70ff6739",
        "IPY_MODEL_7b40d7769d354c70a00df7cf8f0a8223"
       ],
       "layout": "IPY_MODEL_40396045486f4cdc8c5bd254fdb9a956"
      }
     },
     "0b1590da9e82440da212190c797fbf23": {
      "model_module": "@jupyter-widgets/base",
      "model_module_version": "1.0.0",
      "model_name": "LayoutModel",
      "state": {
       "width": "250px"
      }
     },
     "0b3afac0205a430eb8d093818c46a563": {
      "model_module": "@jupyter-widgets/controls",
      "model_module_version": "1.2.0",
      "model_name": "HTMLModel",
      "state": {
       "layout": "IPY_MODEL_63e99fecee0249beac5870a81ba51788",
       "style": "IPY_MODEL_60999b5f55ba4c218499dfee62bbe1c9",
       "value": "<h4 style=\"font-size:14px;\">. Es gehört zu einer komplexen</h4>"
      }
     },
     "0b5c30ac94884795ad77e727ade25056": {
      "model_module": "@jupyter-widgets/controls",
      "model_module_version": "1.2.0",
      "model_name": "DropdownModel",
      "state": {
       "_options_labels": [
        "Konstituente",
        "Phrase",
        " "
       ],
       "index": 2,
       "layout": "IPY_MODEL_4e3f839197a14063904a4fb2164e3f62",
       "style": "IPY_MODEL_26bc08b329a74369be81c53dcc225dc7"
      }
     },
     "0b700d56f3db4318a4fd18b5fe12ad7e": {
      "model_module": "@jupyter-widgets/base",
      "model_module_version": "1.0.0",
      "model_name": "LayoutModel",
      "state": {}
     },
     "0b9a31f30ca64b94b47e11390e5e9be6": {
      "model_module": "@jupyter-widgets/controls",
      "model_module_version": "1.2.0",
      "model_name": "VBoxModel",
      "state": {
       "children": [
        "IPY_MODEL_3e43a0d8ba0544cabc0d0adb823c7cc5",
        "IPY_MODEL_b85adcdcc41b4d968c898a007a4ae44a",
        "IPY_MODEL_82346973247b419fb2879c296616a19f",
        "IPY_MODEL_d8b5f1713baf4062b63c0de77a9852a4"
       ],
       "layout": "IPY_MODEL_32f69d0bb3464ea5925d30908bc625bc"
      }
     },
     "0ba914419a514a81a4610c2aed8812f5": {
      "model_module": "@jupyter-widgets/base",
      "model_module_version": "1.0.0",
      "model_name": "LayoutModel",
      "state": {
       "justify_content": "center"
      }
     },
     "0bcf069cc9b5487f93c88537ec283d96": {
      "model_module": "@jupyter-widgets/controls",
      "model_module_version": "1.2.0",
      "model_name": "HBoxModel",
      "state": {
       "children": [
        "IPY_MODEL_90bb9845e2574072afd2406335b90527",
        "IPY_MODEL_9034963a026a41ec90c6b70849629404"
       ],
       "layout": "IPY_MODEL_465cbc40c8a840a29fadf48862fbaf3c"
      }
     },
     "0c953f11d7f140089bdd2b0086b0831a": {
      "model_module": "@jupyter-widgets/controls",
      "model_module_version": "1.2.0",
      "model_name": "ButtonStyleModel",
      "state": {}
     },
     "0cb5f078508c45a48195bb9442cd19c2": {
      "model_module": "@jupyter-widgets/controls",
      "model_module_version": "1.2.0",
      "model_name": "DescriptionStyleModel",
      "state": {
       "description_width": ""
      }
     },
     "0cbd09a685b941d698732633d7f8f3b1": {
      "model_module": "@jupyter-widgets/base",
      "model_module_version": "1.0.0",
      "model_name": "LayoutModel",
      "state": {
       "width": "250px"
      }
     },
     "0cc5c36542ba4b77b3cd9bf13120b720": {
      "model_module": "@jupyter-widgets/base",
      "model_module_version": "1.0.0",
      "model_name": "LayoutModel",
      "state": {
       "width": "600px"
      }
     },
     "0ce80873a5414e348db871b1acc16749": {
      "model_module": "@jupyter-widgets/controls",
      "model_module_version": "1.2.0",
      "model_name": "ButtonModel",
      "state": {
       "description": "simple past",
       "layout": "IPY_MODEL_03176ad3c6684bce9835234e0d5023e3",
       "style": "IPY_MODEL_debec8eeb56d41b2ae72fe3afe12b50b"
      }
     },
     "0d08405d7fc14696aaab30500c1cd793": {
      "model_module": "@jupyter-widgets/controls",
      "model_module_version": "1.2.0",
      "model_name": "DescriptionStyleModel",
      "state": {
       "description_width": ""
      }
     },
     "0d0fafb6c15646fc81b79a9abd7ecd78": {
      "model_module": "@jupyter-widgets/base",
      "model_module_version": "1.0.0",
      "model_name": "LayoutModel",
      "state": {
       "width": "250px"
      }
     },
     "0d104d24f46e45a8a6c5f5e5cb0db3c8": {
      "model_module": "@jupyter-widgets/controls",
      "model_module_version": "1.2.0",
      "model_name": "DescriptionStyleModel",
      "state": {
       "description_width": ""
      }
     },
     "0d4048d3ff514c29b8cc8fcf82f4d917": {
      "model_module": "@jupyter-widgets/base",
      "model_module_version": "1.0.0",
      "model_name": "LayoutModel",
      "state": {}
     },
     "0ddff34cb3174d9fb5ae0588cf9868a3": {
      "model_module": "@jupyter-widgets/controls",
      "model_module_version": "1.2.0",
      "model_name": "VBoxModel",
      "state": {
       "children": [
        "IPY_MODEL_be34ad1ab47646b0a2f06c62804cf0ee",
        "IPY_MODEL_eb162d85af6846b1a3c4cec700913152",
        "IPY_MODEL_5aea9b3941244278a26899d24036f83e",
        "IPY_MODEL_b9519f55162749e39537317b18064078",
        "IPY_MODEL_43b65d9aec544059ad8edb78d6d45554"
       ],
       "layout": "IPY_MODEL_35f0d9ee5a854597a4bbef1dd5a9fd7d"
      }
     },
     "0dfb2c21876f4bafa8943678dbd408cd": {
      "model_module": "@jupyter-widgets/base",
      "model_module_version": "1.0.0",
      "model_name": "LayoutModel",
      "state": {
       "width": "250px"
      }
     },
     "0e2b4f860edd4ccaa37453a965de2c7f": {
      "model_module": "@jupyter-widgets/controls",
      "model_module_version": "1.2.0",
      "model_name": "ButtonStyleModel",
      "state": {}
     },
     "0e349974a694427793b7b9733f6f3954": {
      "model_module": "@jupyter-widgets/base",
      "model_module_version": "1.0.0",
      "model_name": "LayoutModel",
      "state": {}
     },
     "0e452fb013f2489ea659221138de3605": {
      "model_module": "@jupyter-widgets/base",
      "model_module_version": "1.0.0",
      "model_name": "LayoutModel",
      "state": {}
     },
     "0e67fa95c22b4ca28b7773daba77e0d3": {
      "model_module": "@jupyter-widgets/controls",
      "model_module_version": "1.2.0",
      "model_name": "DescriptionStyleModel",
      "state": {
       "description_width": ""
      }
     },
     "0ec713f6c1214032a5194e567be8ae8a": {
      "model_module": "@jupyter-widgets/base",
      "model_module_version": "1.0.0",
      "model_name": "LayoutModel",
      "state": {
       "width": "250px"
      }
     },
     "0ed3ee192a9543159d029f45f2023da2": {
      "model_module": "@jupyter-widgets/controls",
      "model_module_version": "1.2.0",
      "model_name": "HTMLModel",
      "state": {
       "layout": "IPY_MODEL_20846c5c8a9240fe9e27b6df698ccd22",
       "style": "IPY_MODEL_497346ef65394f60bff1cf1293383b82",
       "value": "<i>Vervollständigen Sie den Lückentext: </i>"
      }
     },
     "0edfd6fc320e41a5a763511e214a68b6": {
      "model_module": "@jupyter-widgets/base",
      "model_module_version": "1.0.0",
      "model_name": "LayoutModel",
      "state": {}
     },
     "0ee8047de3544763bc1e39a7150aa200": {
      "model_module": "@jupyter-widgets/controls",
      "model_module_version": "1.2.0",
      "model_name": "ButtonModel",
      "state": {
       "description": "Adverb",
       "layout": "IPY_MODEL_9143c95c678549b398570c2236a13eb0",
       "style": "IPY_MODEL_a36afedc84bf443197f2b9b8bcf8f959"
      }
     },
     "0ee95499c5bf436f92c201b917b8611e": {
      "model_module": "@jupyter-widgets/controls",
      "model_module_version": "1.2.0",
      "model_name": "VBoxModel",
      "state": {
       "children": [
        "IPY_MODEL_86304d36145749abaa20a144ade502f6",
        "IPY_MODEL_45d18dc290224108a63eefaaf131905e",
        "IPY_MODEL_35cf3df69c1f465baf01e51ab6eb1496",
        "IPY_MODEL_6177348b36f94472b1480b5b5072610a",
        "IPY_MODEL_1a7f6666d11e4f97ad8fc02048e50551"
       ],
       "layout": "IPY_MODEL_aaabc27614be478d809065fbd6445c32"
      }
     },
     "0f4da7568f554b5ea44e7b8f2652c7e5": {
      "model_module": "@jupyter-widgets/controls",
      "model_module_version": "1.2.0",
      "model_name": "HTMLModel",
      "state": {
       "layout": "IPY_MODEL_522c288cb7aa42868856ff485cfc11cd",
       "style": "IPY_MODEL_2e894047c9e14af29e0bfa5a30f215c6",
       "value": "<h4 style=\"font-size:14px;\"><i>seinen Schlüsselbund zwar noch nie verloren haben.</i></h4>"
      }
     },
     "0f956d04b3244c1188e924991751dac1": {
      "model_module": "@jupyter-widgets/controls",
      "model_module_version": "1.2.0",
      "model_name": "ButtonStyleModel",
      "state": {}
     },
     "0f9a48cf2d64475696b93ec097626957": {
      "model_module": "@jupyter-widgets/controls",
      "model_module_version": "1.2.0",
      "model_name": "VBoxModel",
      "state": {
       "children": [
        "IPY_MODEL_117b403736834883832fca20a878406b",
        "IPY_MODEL_9516c9b48884412c8963a4695a50660e",
        "IPY_MODEL_dc40ada0a51f4d67adc6a4fa9d6a3390",
        "IPY_MODEL_0b0ee425bd654b1daf652416b039d34c",
        "IPY_MODEL_219cd86083a44ac58c245afb98061c0d"
       ],
       "layout": "IPY_MODEL_32fd77bfcb2944eaa536b23185a4eaa3"
      }
     },
     "0fb21de7ffad4c6786aa0801e3d3fec1": {
      "model_module": "@jupyter-widgets/controls",
      "model_module_version": "1.2.0",
      "model_name": "DescriptionStyleModel",
      "state": {
       "description_width": ""
      }
     },
     "0ff021300237400b825c7942679b162a": {
      "model_module": "@jupyter-widgets/controls",
      "model_module_version": "1.2.0",
      "model_name": "HTMLModel",
      "state": {
       "layout": "IPY_MODEL_9bb8617468994a088038b432f34d3cd6",
       "style": "IPY_MODEL_ec2363ab6f504fe58afc6f08479d790d",
       "value": "<h4 style=\"font-size:14px;\">. Es gehört zu einer komplexen</h4>"
      }
     },
     "100c6bdf3de24371af0e94b7a19766dc": {
      "model_module": "@jupyter-widgets/base",
      "model_module_version": "1.0.0",
      "model_name": "LayoutModel",
      "state": {}
     },
     "1044bc60a3064b0ca27173ca4c4ce3c4": {
      "model_module": "@jupyter-widgets/base",
      "model_module_version": "1.0.0",
      "model_name": "LayoutModel",
      "state": {
       "align_content": "stretch",
       "align_items": "stretch",
       "display": "inline-flex",
       "flex": "flex-grow",
       "flex_flow": "row wrap",
       "justify_content": "flex-start"
      }
     },
     "1053915e93dd4430be15fd7ad45febdc": {
      "model_module": "@jupyter-widgets/controls",
      "model_module_version": "1.2.0",
      "model_name": "HTMLModel",
      "state": {
       "layout": "IPY_MODEL_d1b4a3e4f57b4f16a0e19ac79b9fb4d7",
       "style": "IPY_MODEL_eb45cc4a7eae46d98ca4b4a71a809a62",
       "value": "<h4 style=\"font-size:14px;\">-Tupeln aus einem englischen Korpus erstellt. Zeile 2 und 3 dienen der Erzeugung einer Frequenzliste von POS-Tags derjenigen Bigramme, deren zweites Element das POS-Tag</h4>"
      }
     },
     "106c7d662b2e4a85a54a5fa53a302693": {
      "model_module": "@jupyter-widgets/base",
      "model_module_version": "1.0.0",
      "model_name": "LayoutModel",
      "state": {
       "justify_content": "center"
      }
     },
     "109b1bc754504e08b79e971f08b5204f": {
      "model_module": "@jupyter-widgets/base",
      "model_module_version": "1.0.0",
      "model_name": "LayoutModel",
      "state": {
       "width": "150px"
      }
     },
     "10a29d61c88e4e4583581d67fe45a071": {
      "model_module": "@jupyter-widgets/controls",
      "model_module_version": "1.2.0",
      "model_name": "DescriptionStyleModel",
      "state": {
       "description_width": "initial"
      }
     },
     "10a70cae11e244f7bbb4a798c90e7e4e": {
      "model_module": "@jupyter-widgets/controls",
      "model_module_version": "1.2.0",
      "model_name": "HTMLModel",
      "state": {
       "layout": "IPY_MODEL_b0d64f70fd034d3396a5ce5e79a195c9",
       "style": "IPY_MODEL_e69569b0e86d4e9c9ec51d822c7c013f",
       "value": "<h4 style=\"font-size:14px;\">Wie wirt der POS-Tagger im NLTK aufgerufen?</h4>"
      }
     },
     "10a874d617084385abb471366194ad31": {
      "model_module": "@jupyter-widgets/controls",
      "model_module_version": "1.2.0",
      "model_name": "DescriptionStyleModel",
      "state": {
       "description_width": ""
      }
     },
     "10eac1e82b0043038c1490d350e74ca0": {
      "model_module": "@jupyter-widgets/base",
      "model_module_version": "1.0.0",
      "model_name": "LayoutModel",
      "state": {
       "width": "150px"
      }
     },
     "10f4a51a126a4af1a5ecfee6868d3f72": {
      "model_module": "@jupyter-widgets/controls",
      "model_module_version": "1.2.0",
      "model_name": "DescriptionStyleModel",
      "state": {
       "description_width": ""
      }
     },
     "10f7fdff5ba849b7bae461d72c00578b": {
      "model_module": "@jupyter-widgets/controls",
      "model_module_version": "1.2.0",
      "model_name": "DescriptionStyleModel",
      "state": {
       "description_width": ""
      }
     },
     "110ad4700d094c13b2a1c92e0adc16c2": {
      "model_module": "@jupyter-widgets/base",
      "model_module_version": "1.0.0",
      "model_name": "LayoutModel",
      "state": {}
     },
     "11678758fccd4fa9a84a0a4a28291fde": {
      "model_module": "@jupyter-widgets/base",
      "model_module_version": "1.0.0",
      "model_name": "LayoutModel",
      "state": {
       "width": "250px"
      }
     },
     "116d357a74de4ff9bdb425d774c9345c": {
      "model_module": "@jupyter-widgets/base",
      "model_module_version": "1.0.0",
      "model_name": "LayoutModel",
      "state": {
       "width": "150px"
      }
     },
     "117b403736834883832fca20a878406b": {
      "model_module": "@jupyter-widgets/controls",
      "model_module_version": "1.2.0",
      "model_name": "HTMLModel",
      "state": {
       "layout": "IPY_MODEL_3d70368519974813b7b339c11b3980e2",
       "style": "IPY_MODEL_10f4a51a126a4af1a5ecfee6868d3f72",
       "value": "<h4 style=\"font-size:14px;\">Was bedeutet das Tag <i>VBG</i> im Browntagset (siehe 5.7)?</h4>"
      }
     },
     "1185aca5adff47dd814286bd3a163118": {
      "model_module": "@jupyter-widgets/base",
      "model_module_version": "1.0.0",
      "model_name": "LayoutModel",
      "state": {
       "width": "250px"
      }
     },
     "11863ad9a5db478ca983f34308382daf": {
      "model_module": "@jupyter-widgets/controls",
      "model_module_version": "1.2.0",
      "model_name": "ButtonStyleModel",
      "state": {}
     },
     "11a57c80b7734bc4b447de07f9f9b1bb": {
      "model_module": "@jupyter-widgets/controls",
      "model_module_version": "1.2.0",
      "model_name": "CheckboxModel",
      "state": {
       "description": "Nur mit beginnt eine Reise von tausend Meilen auch einem Schritt.",
       "disabled": false,
       "layout": "IPY_MODEL_abede8cf7afa47d49d9ca50a8b7d7f02",
       "style": "IPY_MODEL_871118bbe4c6415e9258a590be7161ab",
       "value": false
      }
     },
     "120567b802d04c36aa9e46a82f848be1": {
      "model_module": "@jupyter-widgets/base",
      "model_module_version": "1.0.0",
      "model_name": "LayoutModel",
      "state": {
       "width": "500px"
      }
     },
     "12206ab61c1949c4a6af793e697ed15f": {
      "model_module": "@jupyter-widgets/base",
      "model_module_version": "1.0.0",
      "model_name": "LayoutModel",
      "state": {
       "width": "150px"
      }
     },
     "12495ce19c7f47b5b6a1491bac867df6": {
      "model_module": "@jupyter-widgets/controls",
      "model_module_version": "1.2.0",
      "model_name": "HBoxModel",
      "state": {
       "children": [
        "IPY_MODEL_2b590829db3e409b9839166fb6a50746",
        "IPY_MODEL_837fd41b507a48778ac1aefa62347d26"
       ],
       "layout": "IPY_MODEL_be50087a66ef425c92509d69de2b6bb8"
      }
     },
     "12617eb065ca41629bfee6fa984e4a63": {
      "model_module": "@jupyter-widgets/controls",
      "model_module_version": "1.2.0",
      "model_name": "DropdownModel",
      "state": {
       "_options_labels": [
        "kürzeren",
        "längeren",
        " "
       ],
       "index": 2,
       "layout": "IPY_MODEL_1ba7dc2d62b4404384c70a87fb42849e",
       "style": "IPY_MODEL_bf4b7c33234442c3a2879ba021a1b669"
      }
     },
     "12647469bd724e4f8dde743749105571": {
      "model_module": "@jupyter-widgets/controls",
      "model_module_version": "1.2.0",
      "model_name": "ButtonModel",
      "state": {
       "description": "Lösung zeigen",
       "layout": "IPY_MODEL_9882f3e1009349d0bd86ac9f23d745ec",
       "style": "IPY_MODEL_661e776381254db0b9c80196103f0bd4"
      }
     },
     "126b9b6145a84884b286a93b2067a267": {
      "model_module": "@jupyter-widgets/base",
      "model_module_version": "1.0.0",
      "model_name": "LayoutModel",
      "state": {}
     },
     "127cbd0d73d74177bf03fed2d5f45b72": {
      "model_module": "@jupyter-widgets/base",
      "model_module_version": "1.0.0",
      "model_name": "LayoutModel",
      "state": {
       "justify_content": "center"
      }
     },
     "12843a4d507a409eb7cde8ff3e866f43": {
      "model_module": "@jupyter-widgets/base",
      "model_module_version": "1.0.0",
      "model_name": "LayoutModel",
      "state": {
       "width": "350px"
      }
     },
     "128df17541c14f13a51fd9c172580f3d": {
      "model_module": "@jupyter-widgets/controls",
      "model_module_version": "1.2.0",
      "model_name": "DescriptionStyleModel",
      "state": {
       "description_width": ""
      }
     },
     "12a333bd313640299a1f7af72993bda4": {
      "model_module": "@jupyter-widgets/controls",
      "model_module_version": "1.2.0",
      "model_name": "DescriptionStyleModel",
      "state": {
       "description_width": ""
      }
     },
     "12b0bc1b86a5444f97bb3dd513fb8b6b": {
      "model_module": "@jupyter-widgets/controls",
      "model_module_version": "1.2.0",
      "model_name": "DescriptionStyleModel",
      "state": {
       "description_width": "initial"
      }
     },
     "12bb3f6f00494bfbb65029f1a72409cf": {
      "model_module": "@jupyter-widgets/base",
      "model_module_version": "1.0.0",
      "model_name": "LayoutModel",
      "state": {
       "width": "250px"
      }
     },
     "12de3d3d919647d7af7a9b643dcfd9ac": {
      "model_module": "@jupyter-widgets/controls",
      "model_module_version": "1.2.0",
      "model_name": "DescriptionStyleModel",
      "state": {
       "description_width": ""
      }
     },
     "12e78bafaeb04afcaa14f68b2976eb6f": {
      "model_module": "@jupyter-widgets/controls",
      "model_module_version": "1.2.0",
      "model_name": "DescriptionStyleModel",
      "state": {
       "description_width": "initial"
      }
     },
     "12f3acb6f76b42dd9b661233b675483d": {
      "model_module": "@jupyter-widgets/controls",
      "model_module_version": "1.2.0",
      "model_name": "ButtonModel",
      "state": {
       "description": "Keine der anderen Möglichkeiten",
       "layout": "IPY_MODEL_7d2d1856833c48aab8bb1615b330db84",
       "style": "IPY_MODEL_01e29658490444ed8b067a47353bb9e9"
      }
     },
     "12f527309b1e4ea794774b14bbeb3247": {
      "model_module": "@jupyter-widgets/base",
      "model_module_version": "1.0.0",
      "model_name": "LayoutModel",
      "state": {
       "width": "250px"
      }
     },
     "12fa1579b6dc4667923b5fb19cecca36": {
      "model_module": "@jupyter-widgets/controls",
      "model_module_version": "1.2.0",
      "model_name": "DescriptionStyleModel",
      "state": {
       "description_width": ""
      }
     },
     "12fd0a2474884cdcb49ab10838ff89b9": {
      "model_module": "@jupyter-widgets/base",
      "model_module_version": "1.0.0",
      "model_name": "LayoutModel",
      "state": {}
     },
     "1349b19392974df4b80a70b33057edc0": {
      "model_module": "@jupyter-widgets/controls",
      "model_module_version": "1.2.0",
      "model_name": "DescriptionStyleModel",
      "state": {
       "description_width": ""
      }
     },
     "137133943cec42398fa8b9b83bb2c7c1": {
      "model_module": "@jupyter-widgets/base",
      "model_module_version": "1.0.0",
      "model_name": "LayoutModel",
      "state": {
       "width": "150px"
      }
     },
     "138e1330939146fead8f9c676c763ac3": {
      "model_module": "@jupyter-widgets/controls",
      "model_module_version": "1.2.0",
      "model_name": "DescriptionStyleModel",
      "state": {
       "description_width": "initial"
      }
     },
     "13a40b34bf534a3880c132ff20fcb41c": {
      "model_module": "@jupyter-widgets/base",
      "model_module_version": "1.0.0",
      "model_name": "LayoutModel",
      "state": {}
     },
     "13a8613d54b24893a4acaa2171247260": {
      "model_module": "@jupyter-widgets/controls",
      "model_module_version": "1.2.0",
      "model_name": "VBoxModel",
      "state": {
       "children": [
        "IPY_MODEL_486366e527ee411389f288a5b5dd7617",
        "IPY_MODEL_75efb3ee219040d7b52ca31563f5a3b6",
        "IPY_MODEL_3c6ba3415494489ab501f71b20bbb5fe",
        "IPY_MODEL_5616b14fda2547b7846fb940fe3230f6"
       ],
       "layout": "IPY_MODEL_cb02825a74d64fb28d6e18041679f4e9"
      }
     },
     "13debb62345c4cc7863dbcb4a6984a67": {
      "model_module": "@jupyter-widgets/controls",
      "model_module_version": "1.2.0",
      "model_name": "HBoxModel",
      "state": {
       "children": [
        "IPY_MODEL_a1d1e61d49104db79b21d71fa4fd05cf",
        "IPY_MODEL_15d350e1433a41f1b6193bda7cc58b6f"
       ],
       "layout": "IPY_MODEL_e16c607027a14d0a962cd05b798fe500"
      }
     },
     "13eba5b105f74892a0e770faa9976aef": {
      "model_module": "@jupyter-widgets/controls",
      "model_module_version": "1.2.0",
      "model_name": "DropdownModel",
      "state": {
       "_options_labels": [
        "kürzere",
        "längere",
        " "
       ],
       "index": 2,
       "layout": "IPY_MODEL_e89900bd2c934e0f8f87149f49829d8d",
       "style": "IPY_MODEL_df98daddc04347649192a59cfdaabdde"
      }
     },
     "14041b4ba5914b9283aebf99e2a0b701": {
      "model_module": "@jupyter-widgets/controls",
      "model_module_version": "1.2.0",
      "model_name": "ButtonStyleModel",
      "state": {}
     },
     "14365c77e55a4625b7354913cf705138": {
      "model_module": "@jupyter-widgets/controls",
      "model_module_version": "1.2.0",
      "model_name": "DropdownModel",
      "state": {
       "_options_labels": [
        "kürzere",
        "längere",
        " "
       ],
       "index": 2,
       "layout": "IPY_MODEL_968357fe45d14894900f504280030ca0",
       "style": "IPY_MODEL_adad70d64ead45b9a975f2b75fab7f27"
      }
     },
     "1456bcb0a52b4209bc68db4d3dd3f412": {
      "model_module": "@jupyter-widgets/controls",
      "model_module_version": "1.2.0",
      "model_name": "ButtonStyleModel",
      "state": {}
     },
     "146a6bdb670c458bae9bb240645e6be8": {
      "model_module": "@jupyter-widgets/base",
      "model_module_version": "1.0.0",
      "model_name": "LayoutModel",
      "state": {
       "width": "250px"
      }
     },
     "14d2e51a06fc42d0ae5b94b951116e1f": {
      "model_module": "@jupyter-widgets/controls",
      "model_module_version": "1.2.0",
      "model_name": "ButtonStyleModel",
      "state": {}
     },
     "14e9c3018f1148bab6d42bf1470c9470": {
      "model_module": "@jupyter-widgets/controls",
      "model_module_version": "1.2.0",
      "model_name": "HTMLModel",
      "state": {
       "layout": "IPY_MODEL_88056478e35a43d0819bfbb2427e5d59",
       "style": "IPY_MODEL_1c01100647da4be8a38fc63efe237916",
       "value": "<h4 style=\"font-size:14px;\">Welche Wortart folgt damit für das Wort <i>gut</i> in Satz 2?</h4>"
      }
     },
     "1521058646234a48af8ac67785f1e114": {
      "model_module": "@jupyter-widgets/controls",
      "model_module_version": "1.2.0",
      "model_name": "ButtonModel",
      "state": {
       "description": "Adjektiv",
       "layout": "IPY_MODEL_8b3cf996157148e3a7e2b6658126628a",
       "style": "IPY_MODEL_cb99c063eb814c988d50c33df702b17b"
      }
     },
     "1552c539e9f5484ea6b842ac511519da": {
      "model_module": "@jupyter-widgets/controls",
      "model_module_version": "1.2.0",
      "model_name": "DescriptionStyleModel",
      "state": {
       "description_width": "initial"
      }
     },
     "1592c701e0dc4ce1ab68e4d938218872": {
      "model_module": "@jupyter-widgets/base",
      "model_module_version": "1.0.0",
      "model_name": "LayoutModel",
      "state": {
       "width": "250px"
      }
     },
     "159d98e1697c415389e441e8b63ae4f6": {
      "model_module": "@jupyter-widgets/controls",
      "model_module_version": "1.2.0",
      "model_name": "ButtonModel",
      "state": {
       "description": "Partikel",
       "layout": "IPY_MODEL_7c324577ce124967a768a1f0030734ca",
       "style": "IPY_MODEL_dcf024cb51d04a969645266e7ad2fbb2"
      }
     },
     "159f955b6b86413ea29f6cd2038b0fc6": {
      "model_module": "@jupyter-widgets/controls",
      "model_module_version": "1.2.0",
      "model_name": "CheckboxModel",
      "state": {
       "description": "Zu einem Wort wird ein Index seiner Kontexte aufgebaut.",
       "disabled": false,
       "layout": "IPY_MODEL_3d5dd888875b454fab98d01de872c625",
       "style": "IPY_MODEL_760a3211d9424674a8278c40e795cbb6",
       "value": false
      }
     },
     "15bad9f12b36446fb0d7507154f7d2f5": {
      "model_module": "@jupyter-widgets/controls",
      "model_module_version": "1.2.0",
      "model_name": "ButtonModel",
      "state": {
       "description": "Partikel",
       "layout": "IPY_MODEL_dbd420409ad2405da60aa535f7111f45",
       "style": "IPY_MODEL_699f6b19fa824593a976642405da36a8"
      }
     },
     "15d350e1433a41f1b6193bda7cc58b6f": {
      "model_module": "@jupyter-widgets/controls",
      "model_module_version": "1.2.0",
      "model_name": "ButtonModel",
      "state": {
       "description": "Wortfolge",
       "layout": "IPY_MODEL_c69d69b9baa64f57bee6fe57e126b07a",
       "style": "IPY_MODEL_921cc165626745aabd708c6561464936"
      }
     },
     "161308115811479a92184946337df60f": {
      "model_module": "@jupyter-widgets/controls",
      "model_module_version": "1.2.0",
      "model_name": "HTMLModel",
      "state": {
       "layout": "IPY_MODEL_a76b37a2fd3a4229905a14a2c323e391",
       "style": "IPY_MODEL_f28c748bc1b34f908a3213f49d63109a",
       "value": "<h4 style=\"font-size:14px;\">Was ist der Input eines Part-of-Speech-Taggers?</h4>"
      }
     },
     "16298cdaa8ee40e8b9b684751d0400a3": {
      "model_module": "@jupyter-widgets/base",
      "model_module_version": "1.0.0",
      "model_name": "LayoutModel",
      "state": {
       "width": "150px"
      }
     },
     "16c3894af09942dba6c8ca4721a23b70": {
      "model_module": "@jupyter-widgets/controls",
      "model_module_version": "1.2.0",
      "model_name": "DescriptionStyleModel",
      "state": {
       "description_width": ""
      }
     },
     "170228dff9ec4f1db03fa1da12ab032e": {
      "model_module": "@jupyter-widgets/base",
      "model_module_version": "1.0.0",
      "model_name": "LayoutModel",
      "state": {
       "width": "250px"
      }
     },
     "1723c5ebd658478ab1fe04b652d48c47": {
      "model_module": "@jupyter-widgets/controls",
      "model_module_version": "1.2.0",
      "model_name": "DescriptionStyleModel",
      "state": {
       "description_width": ""
      }
     },
     "174971885ae1430fbeb9928f563d1c4f": {
      "model_module": "@jupyter-widgets/controls",
      "model_module_version": "1.2.0",
      "model_name": "DescriptionStyleModel",
      "state": {
       "description_width": ""
      }
     },
     "178b0ae1c0b94b12899c7dafd8089406": {
      "model_module": "@jupyter-widgets/controls",
      "model_module_version": "1.2.0",
      "model_name": "ButtonStyleModel",
      "state": {}
     },
     "17f68f79937c4740964fedc65926e5fd": {
      "model_module": "@jupyter-widgets/controls",
      "model_module_version": "1.2.0",
      "model_name": "HTMLModel",
      "state": {
       "layout": "IPY_MODEL_ad24b0cd02524f45bd492ddc3e3045df",
       "style": "IPY_MODEL_cd1154662dc4438d841491c2414b69ef",
       "value": "<h4 style=\"font-size:14px;\">Was sind syntaktische Kriterien für Wortkategorien?</h4>"
      }
     },
     "187dbd60c5ec4ef48a3555baf56931e2": {
      "model_module": "@jupyter-widgets/base",
      "model_module_version": "1.0.0",
      "model_name": "LayoutModel",
      "state": {
       "width": "250px"
      }
     },
     "18b88fd20c7140778ce0e13457251a27": {
      "model_module": "@jupyter-widgets/controls",
      "model_module_version": "1.2.0",
      "model_name": "HTMLModel",
      "state": {
       "layout": "IPY_MODEL_ab6e4216736449e0ab7d6b66ab1729a2",
       "style": "IPY_MODEL_d3a7c1b4b8384cb4bf110e618904ef6d",
       "value": "<h4 style=\"font-size:14px;\">In der ersten Zeile des Codes werden</h4>"
      }
     },
     "19313be0668c493497940d933eccbd5f": {
      "model_module": "@jupyter-widgets/controls",
      "model_module_version": "1.2.0",
      "model_name": "ButtonStyleModel",
      "state": {}
     },
     "1953a93102344111b72ad6eff8eb8a60": {
      "model_module": "@jupyter-widgets/base",
      "model_module_version": "1.0.0",
      "model_name": "LayoutModel",
      "state": {}
     },
     "19597326d30f4942975ff79d617cc6ef": {
      "model_module": "@jupyter-widgets/base",
      "model_module_version": "1.0.0",
      "model_name": "LayoutModel",
      "state": {}
     },
     "195dc0c161a2457ca142d8ef5df65cd2": {
      "model_module": "@jupyter-widgets/controls",
      "model_module_version": "1.2.0",
      "model_name": "HTMLModel",
      "state": {
       "layout": "IPY_MODEL_127cbd0d73d74177bf03fed2d5f45b72",
       "style": "IPY_MODEL_e5fe3fcd768746ec8ebd979d494d2a7f",
       "value": "<i>Wählen Sie die <ins>eine</ins> korrekte Antwort aus: </i>"
      }
     },
     "195fd6b0dd054f4180129d5fdb88bb28": {
      "model_module": "@jupyter-widgets/base",
      "model_module_version": "1.0.0",
      "model_name": "LayoutModel",
      "state": {}
     },
     "197baae1088d4b5c978fbb9adbea3cda": {
      "model_module": "@jupyter-widgets/controls",
      "model_module_version": "1.2.0",
      "model_name": "ButtonModel",
      "state": {
       "description": "Adjektiv",
       "layout": "IPY_MODEL_7ec11ecf362e4a3a9e232f2f5c5e9341",
       "style": "IPY_MODEL_6f19fa81cac646d18f79c793b6f1b866"
      }
     },
     "1995e0c2269149d5bcae72669936672d": {
      "model_module": "@jupyter-widgets/controls",
      "model_module_version": "1.2.0",
      "model_name": "VBoxModel",
      "state": {
       "children": [
        "IPY_MODEL_9b8d550f6b1c473199ab96bdc261139b",
        "IPY_MODEL_2ec949d8fa8a4e0db31718a73c811857",
        "IPY_MODEL_bcb4395cc4da47aa94213eb43af8810b",
        "IPY_MODEL_c6b5f320cc69475c9e7c96bc3ba294c4"
       ],
       "layout": "IPY_MODEL_484540af1835424ba25fab9764b5d756"
      }
     },
     "19c7b24f4b2d47b0874d90542e0ed5b2": {
      "model_module": "@jupyter-widgets/base",
      "model_module_version": "1.0.0",
      "model_name": "LayoutModel",
      "state": {}
     },
     "19d005c0ad6c458d88b444d6ebc76437": {
      "model_module": "@jupyter-widgets/controls",
      "model_module_version": "1.2.0",
      "model_name": "VBoxModel",
      "state": {
       "children": [
        "IPY_MODEL_ee3054c414074e238d94f3259efc9000",
        "IPY_MODEL_ecfd270419fe41bfa1a2ed623e0576f1",
        "IPY_MODEL_ae0f9d2ebc9c4f389d7962ebc1bb47aa",
        "IPY_MODEL_b829f0c8bac24a48933aeffb13f694b8",
        "IPY_MODEL_9fbdbacad5284993b27e54cacb46912f"
       ],
       "layout": "IPY_MODEL_b085c6fbaefd4d8baa17f86bf9e2f9b6"
      }
     },
     "19e89de6a28040c894918fe8e4cd9a15": {
      "model_module": "@jupyter-widgets/controls",
      "model_module_version": "1.2.0",
      "model_name": "DescriptionStyleModel",
      "state": {
       "description_width": ""
      }
     },
     "1a1bf3c2324c478b906f3b8032b1db49": {
      "model_module": "@jupyter-widgets/controls",
      "model_module_version": "1.2.0",
      "model_name": "HTMLModel",
      "state": {
       "layout": "IPY_MODEL_243baf50d22947a886a9e5ad13baad20",
       "style": "IPY_MODEL_128df17541c14f13a51fd9c172580f3d",
       "value": "<h4 style=\"font-size:14px;\">-Tupel von</h4>"
      }
     },
     "1a2aeabc4c184adebb720c904ceb6aa7": {
      "model_module": "@jupyter-widgets/base",
      "model_module_version": "1.0.0",
      "model_name": "LayoutModel",
      "state": {}
     },
     "1a2dacff383c45d3a13e0728478b2396": {
      "model_module": "@jupyter-widgets/base",
      "model_module_version": "1.0.0",
      "model_name": "LayoutModel",
      "state": {}
     },
     "1a4fbf19238644c8a874610a67879bed": {
      "model_module": "@jupyter-widgets/controls",
      "model_module_version": "1.2.0",
      "model_name": "HTMLModel",
      "state": {
       "layout": "IPY_MODEL_d508d595440448f298aaf6b9f9f8822d",
       "style": "IPY_MODEL_c27a53106f7741b993d68a5310ba4d5e",
       "value": "<h4 style=\"font-size:14px;\">Was sind morphologische Kriterien für Wortkategorien?</h4>"
      }
     },
     "1a5582a643c84ba9806127da0642e58c": {
      "model_module": "@jupyter-widgets/controls",
      "model_module_version": "1.2.0",
      "model_name": "ButtonModel",
      "state": {
       "description": "Partikel",
       "layout": "IPY_MODEL_b025d65598ba4b5587022c2f7d570aa0",
       "style": "IPY_MODEL_619df496873d4f4f8bb46424d2afeb1a"
      }
     },
     "1a7f6666d11e4f97ad8fc02048e50551": {
      "model_module": "@jupyter-widgets/controls",
      "model_module_version": "1.2.0",
      "model_name": "HBoxModel",
      "state": {
       "children": [
        "IPY_MODEL_35e6ca946f1e4eaba306c426de892bf8"
       ],
       "layout": "IPY_MODEL_19597326d30f4942975ff79d617cc6ef"
      }
     },
     "1ab532c22c434b77b133820547bf7414": {
      "model_module": "@jupyter-widgets/controls",
      "model_module_version": "1.2.0",
      "model_name": "DescriptionStyleModel",
      "state": {
       "description_width": ""
      }
     },
     "1acf95144f9e452f9426f98f4c9ee180": {
      "model_module": "@jupyter-widgets/controls",
      "model_module_version": "1.2.0",
      "model_name": "DescriptionStyleModel",
      "state": {
       "description_width": "initial"
      }
     },
     "1aec29d86085410ba96e70f1d1accf0d": {
      "model_module": "@jupyter-widgets/base",
      "model_module_version": "1.0.0",
      "model_name": "LayoutModel",
      "state": {}
     },
     "1aee676a9e404a3995f039cda394d49a": {
      "model_module": "@jupyter-widgets/controls",
      "model_module_version": "1.2.0",
      "model_name": "ButtonStyleModel",
      "state": {}
     },
     "1b2fe743d9084475b46fe137bb52648e": {
      "model_module": "@jupyter-widgets/base",
      "model_module_version": "1.0.0",
      "model_name": "LayoutModel",
      "state": {
       "width": "250px"
      }
     },
     "1b42e05bb71a4ce28a6518e7a9da2e26": {
      "model_module": "@jupyter-widgets/controls",
      "model_module_version": "1.2.0",
      "model_name": "HTMLModel",
      "state": {
       "layout": "IPY_MODEL_2b83c6f3529b4feab5e56c0f527be56e",
       "style": "IPY_MODEL_19e89de6a28040c894918fe8e4cd9a15",
       "value": "<i>Markieren Sie <ins>alle</ins> passenden Antworten: </i>"
      }
     },
     "1ba7dc2d62b4404384c70a87fb42849e": {
      "model_module": "@jupyter-widgets/base",
      "model_module_version": "1.0.0",
      "model_name": "LayoutModel",
      "state": {
       "width": "150px"
      }
     },
     "1bb65d8e8f504058893c1fca3cde76f6": {
      "model_module": "@jupyter-widgets/base",
      "model_module_version": "1.0.0",
      "model_name": "LayoutModel",
      "state": {
       "justify_content": "center"
      }
     },
     "1c01100647da4be8a38fc63efe237916": {
      "model_module": "@jupyter-widgets/controls",
      "model_module_version": "1.2.0",
      "model_name": "DescriptionStyleModel",
      "state": {
       "description_width": ""
      }
     },
     "1c1abf07bd004b67a745f8423a23f75b": {
      "model_module": "@jupyter-widgets/controls",
      "model_module_version": "1.2.0",
      "model_name": "ButtonModel",
      "state": {
       "description": "Korrekt?",
       "layout": "IPY_MODEL_96386b500b884b42ba1d16b5c34304ed",
       "style": "IPY_MODEL_aa2fb08f267e4ea8b779e44f10480ee2"
      }
     },
     "1c207a7eeb3148ce90d2f79285b8c95e": {
      "model_module": "@jupyter-widgets/controls",
      "model_module_version": "1.2.0",
      "model_name": "CheckboxModel",
      "state": {
       "description": "Es bezeichnet die näheren Umstände des im Verb ausgedrückten Geschehens.",
       "disabled": false,
       "layout": "IPY_MODEL_b56c73eeb6424b71b690fa92eacbc381",
       "style": "IPY_MODEL_be2ddc3472af43f29de8831f54e71193",
       "value": false
      }
     },
     "1c7ffb10d7a841bfbb42e5fb5fd9b5f7": {
      "model_module": "@jupyter-widgets/controls",
      "model_module_version": "1.2.0",
      "model_name": "DescriptionStyleModel",
      "state": {
       "description_width": "initial"
      }
     },
     "1c8302e688b041fdaa8919485bbf7222": {
      "model_module": "@jupyter-widgets/base",
      "model_module_version": "1.0.0",
      "model_name": "LayoutModel",
      "state": {
       "width": "250px"
      }
     },
     "1cb2712237cf4ab4b62be5d77b9bda7e": {
      "model_module": "@jupyter-widgets/controls",
      "model_module_version": "1.2.0",
      "model_name": "DescriptionStyleModel",
      "state": {
       "description_width": ""
      }
     },
     "1ceb361b3e1344e8b562053a8d832a5e": {
      "model_module": "@jupyter-widgets/controls",
      "model_module_version": "1.2.0",
      "model_name": "DescriptionStyleModel",
      "state": {
       "description_width": ""
      }
     },
     "1d27c71c7d714afc82634f96e23c1675": {
      "model_module": "@jupyter-widgets/base",
      "model_module_version": "1.0.0",
      "model_name": "LayoutModel",
      "state": {
       "justify_content": "center"
      }
     },
     "1d342e9c7ff84913b1c494bd87302a07": {
      "model_module": "@jupyter-widgets/base",
      "model_module_version": "1.0.0",
      "model_name": "LayoutModel",
      "state": {}
     },
     "1d5068201cc840e08c27039d08ab52ba": {
      "model_module": "@jupyter-widgets/controls",
      "model_module_version": "1.2.0",
      "model_name": "HTMLModel",
      "state": {
       "layout": "IPY_MODEL_022d708c638248bda2c5b95394d17c81",
       "style": "IPY_MODEL_d17040395fa841028d1c2b7412b99f8a",
       "value": "<h4 style=\"font-size:14px;\">Phrasen verkettet werden können. Das Ergebnis ist eine Phrase des gleichen Typs, also der gleichen</h4>"
      }
     },
     "1d6b0336d75f44e8be3fd4158f9c8161": {
      "model_module": "@jupyter-widgets/base",
      "model_module_version": "1.0.0",
      "model_name": "LayoutModel",
      "state": {}
     },
     "1dd5415d5d3e4f9eba3691f1fca25b17": {
      "model_module": "@jupyter-widgets/controls",
      "model_module_version": "1.2.0",
      "model_name": "HBoxModel",
      "state": {
       "children": [
        "IPY_MODEL_7a2c0e9cf4f647f384f4669cb00bf9b7"
       ],
       "layout": "IPY_MODEL_71c19be127a94551829be5ab46240d5d"
      }
     },
     "1ddce1666f5a4591a4ee48dc2504adaa": {
      "model_module": "@jupyter-widgets/controls",
      "model_module_version": "1.2.0",
      "model_name": "VBoxModel",
      "state": {
       "children": [
        "IPY_MODEL_5273783512fa4c27b171cfd8abec2ae0",
        "IPY_MODEL_6b4682b2f4d4476b8a276b3a8ce21d07",
        "IPY_MODEL_4425f649d7c14a11bffb4b83e69b9398",
        "IPY_MODEL_6e98eb28af8d4e789cb5ea67980afe12",
        "IPY_MODEL_2ad497e5d2b144fbaddc6de1ea425fac"
       ],
       "layout": "IPY_MODEL_5d67dad3610b4380a300d13cdcc26e72"
      }
     },
     "1e0b7419cedd48158cc365697238b9dd": {
      "model_module": "@jupyter-widgets/controls",
      "model_module_version": "1.2.0",
      "model_name": "ButtonModel",
      "state": {
       "description": "base",
       "layout": "IPY_MODEL_e92ebb8be89d42c8b7e94aa21cc40771",
       "style": "IPY_MODEL_3562b39254e144e38629629b9dc5cf93"
      }
     },
     "1e265baef324437b9a193b8d79c454a1": {
      "model_module": "@jupyter-widgets/base",
      "model_module_version": "1.0.0",
      "model_name": "LayoutModel",
      "state": {
       "width": "250px"
      }
     },
     "1e2856a4c03f4ad69ac8470ed365a543": {
      "model_module": "@jupyter-widgets/controls",
      "model_module_version": "1.2.0",
      "model_name": "HTMLModel",
      "state": {
       "layout": "IPY_MODEL_a3c830fcbb424820b40e6850a6f5f605",
       "style": "IPY_MODEL_eeeb8a86dfec4344a4ae8e1760455fea",
       "value": "<h4 style=\"font-size:14px;\">gestellt. Die gesamte</h4>"
      }
     },
     "1e3bcfdc4b844df38dbf9a3dd710c51f": {
      "model_module": "@jupyter-widgets/controls",
      "model_module_version": "1.2.0",
      "model_name": "ButtonModel",
      "state": {
       "description": "3rd singular present",
       "layout": "IPY_MODEL_65c1bba23d8a431db415b785e8bd08d1",
       "style": "IPY_MODEL_48279469d78a4130b393c2d4fd602494"
      }
     },
     "1e3f8a2fa51f47948860ef33b21f9db7": {
      "model_module": "@jupyter-widgets/controls",
      "model_module_version": "1.2.0",
      "model_name": "DescriptionStyleModel",
      "state": {
       "description_width": ""
      }
     },
     "1e93d90a4c85415880497c12ecec6240": {
      "model_module": "@jupyter-widgets/base",
      "model_module_version": "1.0.0",
      "model_name": "LayoutModel",
      "state": {
       "width": "250px"
      }
     },
     "1eb9713369c7479aa380c3c4368a68de": {
      "model_module": "@jupyter-widgets/controls",
      "model_module_version": "1.2.0",
      "model_name": "DescriptionStyleModel",
      "state": {
       "description_width": "initial"
      }
     },
     "1ec981d841c84218ae266f587f14a03e": {
      "model_module": "@jupyter-widgets/base",
      "model_module_version": "1.0.0",
      "model_name": "LayoutModel",
      "state": {}
     },
     "1f560ba037f9421c81738e39c2f5d86f": {
      "model_module": "@jupyter-widgets/controls",
      "model_module_version": "1.2.0",
      "model_name": "HTMLModel",
      "state": {
       "layout": "IPY_MODEL_3ae73044b32f48afbd5c65275746581c",
       "style": "IPY_MODEL_6334f1574a024a0681b00edc54cb387b",
       "value": "<i>Wählen Sie die <ins>eine</ins> korrekte Antwort aus: </i>"
      }
     },
     "1fcc9178f8044b48bf4af1f4c6c2b435": {
      "model_module": "@jupyter-widgets/base",
      "model_module_version": "1.0.0",
      "model_name": "LayoutModel",
      "state": {
       "justify_content": "center"
      }
     },
     "1fd36ddb9dcf4b27ac94350a3be69c69": {
      "model_module": "@jupyter-widgets/base",
      "model_module_version": "1.0.0",
      "model_name": "LayoutModel",
      "state": {}
     },
     "1fd68f853b384baf80b8fd54f813e7de": {
      "model_module": "@jupyter-widgets/base",
      "model_module_version": "1.0.0",
      "model_name": "LayoutModel",
      "state": {
       "width": "250px"
      }
     },
     "2016ef0bf28741dba9d7bf6b9fcf4c76": {
      "model_module": "@jupyter-widgets/base",
      "model_module_version": "1.0.0",
      "model_name": "LayoutModel",
      "state": {}
     },
     "202fcb9431d942efa88a0ec6628f3d83": {
      "model_module": "@jupyter-widgets/controls",
      "model_module_version": "1.2.0",
      "model_name": "DescriptionStyleModel",
      "state": {
       "description_width": "initial"
      }
     },
     "20413d162d0241a98d085ede603d6464": {
      "model_module": "@jupyter-widgets/controls",
      "model_module_version": "1.2.0",
      "model_name": "DescriptionStyleModel",
      "state": {
       "description_width": ""
      }
     },
     "204a39e093074d289adcfe0277fb4e15": {
      "model_module": "@jupyter-widgets/controls",
      "model_module_version": "1.2.0",
      "model_name": "DescriptionStyleModel",
      "state": {
       "description_width": ""
      }
     },
     "205ca884bb0c4e23a83eda9616362069": {
      "model_module": "@jupyter-widgets/base",
      "model_module_version": "1.0.0",
      "model_name": "LayoutModel",
      "state": {
       "width": "250px"
      }
     },
     "2067fecf9c4f468e988bccbb58e344a4": {
      "model_module": "@jupyter-widgets/controls",
      "model_module_version": "1.2.0",
      "model_name": "HTMLModel",
      "state": {
       "layout": "IPY_MODEL_770f277bcf5b454b8337e4349f4919a3",
       "style": "IPY_MODEL_8e06b6feeafc4de08261081b71990209",
       "value": "<i>Vervollständigen Sie den Lückentext: </i>"
      }
     },
     "20846c5c8a9240fe9e27b6df698ccd22": {
      "model_module": "@jupyter-widgets/base",
      "model_module_version": "1.0.0",
      "model_name": "LayoutModel",
      "state": {
       "justify_content": "center"
      }
     },
     "20a1f06dee80482991fe60a1b0e8d784": {
      "model_module": "@jupyter-widgets/controls",
      "model_module_version": "1.2.0",
      "model_name": "DescriptionStyleModel",
      "state": {
       "description_width": ""
      }
     },
     "20f79f5e328249a78b1645b3a4c4b437": {
      "model_module": "@jupyter-widgets/controls",
      "model_module_version": "1.2.0",
      "model_name": "DescriptionStyleModel",
      "state": {
       "description_width": ""
      }
     },
     "20fdc97d50864401a52f585bec51dbf4": {
      "model_module": "@jupyter-widgets/controls",
      "model_module_version": "1.2.0",
      "model_name": "CheckboxModel",
      "state": {
       "description": "Mit einem Schritt beginnt eine Reise von tausend Meilen auch nur.",
       "disabled": false,
       "layout": "IPY_MODEL_018f13f03ffc445190b80dc31f5d5a2d",
       "style": "IPY_MODEL_6a2356ed00d447e18fd14c45aad419d3",
       "value": false
      }
     },
     "210171bc2cd54f298375ae112772b9ea": {
      "model_module": "@jupyter-widgets/controls",
      "model_module_version": "1.2.0",
      "model_name": "HTMLModel",
      "state": {
       "layout": "IPY_MODEL_36af468123ac4025ad59a5e0a88ad377",
       "style": "IPY_MODEL_8d2d0501cdca49c78d490b2bf41d827a",
       "value": "<h4 style=\"font-size:14px;\">Welche Wortart folgt damit für das Wort <i>gerne</i> in Satz 1?</h4>"
      }
     },
     "213441fa045c40cab61d24819968096b": {
      "model_module": "@jupyter-widgets/controls",
      "model_module_version": "1.2.0",
      "model_name": "ButtonModel",
      "state": {
       "description": "Korrekt?",
       "layout": "IPY_MODEL_f33e88163c694418beca88bd7df16020",
       "style": "IPY_MODEL_a6d9c58749714c7eb24a06bdf99ca0ea"
      }
     },
     "2165a55cccef4b48ac71465702c3f393": {
      "model_module": "@jupyter-widgets/base",
      "model_module_version": "1.0.0",
      "model_name": "LayoutModel",
      "state": {}
     },
     "21703cbabf174c18bea03e92558fd8af": {
      "model_module": "@jupyter-widgets/controls",
      "model_module_version": "1.2.0",
      "model_name": "DropdownModel",
      "state": {
       "_options_labels": [
        "NP",
        "PP",
        "VP",
        " "
       ],
       "index": 3,
       "layout": "IPY_MODEL_116d357a74de4ff9bdb425d774c9345c",
       "style": "IPY_MODEL_0a207d2c42c14a1f99147528405eb8af"
      }
     },
     "21802d400aaa432ea432b6eadb050cc6": {
      "model_module": "@jupyter-widgets/controls",
      "model_module_version": "1.2.0",
      "model_name": "HTMLModel",
      "state": {
       "layout": "IPY_MODEL_8d15ed5cdab448649e73aaa32f30a337",
       "style": "IPY_MODEL_b871c75f3f5644f9a2536e3765cc2686",
       "value": "<h4 style=\"font-size:14px;\">Welche Eigenschaften hat <i>gut</i> in Satz 2?</h4>"
      }
     },
     "219cd86083a44ac58c245afb98061c0d": {
      "model_module": "@jupyter-widgets/controls",
      "model_module_version": "1.2.0",
      "model_name": "HBoxModel",
      "state": {
       "children": [
        "IPY_MODEL_0ce80873a5414e348db871b1acc16749"
       ],
       "layout": "IPY_MODEL_47f9d254fdee43c7b68e5904a83bfb1e"
      }
     },
     "21bf378bcbe149958ae52c22a01fc9fa": {
      "model_module": "@jupyter-widgets/controls",
      "model_module_version": "1.2.0",
      "model_name": "CheckboxModel",
      "state": {
       "description": "Mit einem Schritt beginnt eine Reise von tausend Meilen auch nur.",
       "disabled": false,
       "layout": "IPY_MODEL_017a4318c24c4ba1a50347f28bb50759",
       "style": "IPY_MODEL_762e92b7332b4d36ae02a5acb608e792",
       "value": false
      }
     },
     "21f08c2618ec456d947a0c377b92f22d": {
      "model_module": "@jupyter-widgets/controls",
      "model_module_version": "1.2.0",
      "model_name": "HTMLModel",
      "state": {
       "layout": "IPY_MODEL_c6f9fc20807d4464a8df19a9207e34d0",
       "style": "IPY_MODEL_8eb07ebcd3cb4b7eb9580b7a1200faae",
       "value": "<i>Markieren Sie <ins>alle</ins> passenden Antworten: </i>"
      }
     },
     "220d3ebfed8e4435a53f8bc149d48303": {
      "model_module": "@jupyter-widgets/controls",
      "model_module_version": "1.2.0",
      "model_name": "ButtonModel",
      "state": {
       "description": "Korrekt?",
       "layout": "IPY_MODEL_510bfd29332645f98d406a49aae9b061",
       "style": "IPY_MODEL_b897362432454df4a8cf5fcd3e039244"
      }
     },
     "22183340981f45e5bdb83b9c636dadd0": {
      "model_module": "@jupyter-widgets/controls",
      "model_module_version": "1.2.0",
      "model_name": "ButtonModel",
      "state": {
       "description": "simple past",
       "layout": "IPY_MODEL_4901d2a98be54e86ab8670f7663abc3c",
       "style": "IPY_MODEL_178b0ae1c0b94b12899c7dafd8089406"
      }
     },
     "2254a42aadaf4547914a5de06c606334": {
      "model_module": "@jupyter-widgets/controls",
      "model_module_version": "1.2.0",
      "model_name": "ButtonStyleModel",
      "state": {}
     },
     "22667d70e4a549f783cc8b8bf2bed333": {
      "model_module": "@jupyter-widgets/controls",
      "model_module_version": "1.2.0",
      "model_name": "DescriptionStyleModel",
      "state": {
       "description_width": ""
      }
     },
     "228044a8cf414f3ab91a5ca6983b9b0d": {
      "model_module": "@jupyter-widgets/controls",
      "model_module_version": "1.2.0",
      "model_name": "ButtonStyleModel",
      "state": {}
     },
     "22a2c95ffbf74dfeb1393add9dac8f22": {
      "model_module": "@jupyter-widgets/base",
      "model_module_version": "1.0.0",
      "model_name": "LayoutModel",
      "state": {
       "justify_content": "center"
      }
     },
     "22ca28ebf5ff4ca2b233c9743b8f4c85": {
      "model_module": "@jupyter-widgets/base",
      "model_module_version": "1.0.0",
      "model_name": "LayoutModel",
      "state": {
       "width": "500px"
      }
     },
     "22cf14261b234d68987dd9dae310a4c8": {
      "model_module": "@jupyter-widgets/controls",
      "model_module_version": "1.2.0",
      "model_name": "ButtonModel",
      "state": {
       "description": "simple past",
       "layout": "IPY_MODEL_950cfb1fb01c4bc2b36a008ec918a0d5",
       "style": "IPY_MODEL_4a16689f506941589fed889195739ec5"
      }
     },
     "234a50084ae248b884006265db37a570": {
      "model_module": "@jupyter-widgets/base",
      "model_module_version": "1.0.0",
      "model_name": "LayoutModel",
      "state": {}
     },
     "2358de3e5a8444978fe7670e02eabb38": {
      "model_module": "@jupyter-widgets/base",
      "model_module_version": "1.0.0",
      "model_name": "LayoutModel",
      "state": {
       "width": "250px"
      }
     },
     "23da053b4c964eda8e56f61a506f4592": {
      "model_module": "@jupyter-widgets/controls",
      "model_module_version": "1.2.0",
      "model_name": "ButtonModel",
      "state": {
       "description": "Folge von Wortklassen",
       "layout": "IPY_MODEL_312bdd3be4f144f0a17d37ddd56692d6",
       "style": "IPY_MODEL_a7518c198f9c44b48c054777812ef358"
      }
     },
     "242ecdbe8ab34604b727342b318130d6": {
      "model_module": "@jupyter-widgets/base",
      "model_module_version": "1.0.0",
      "model_name": "LayoutModel",
      "state": {
       "width": "500px"
      }
     },
     "243baf50d22947a886a9e5ad13baad20": {
      "model_module": "@jupyter-widgets/base",
      "model_module_version": "1.0.0",
      "model_name": "LayoutModel",
      "state": {}
     },
     "24443ef8eab4439bb491056336cbde2b": {
      "model_module": "@jupyter-widgets/controls",
      "model_module_version": "1.2.0",
      "model_name": "ButtonStyleModel",
      "state": {}
     },
     "244f50c2c2804a378cd877f463f4c2a4": {
      "model_module": "@jupyter-widgets/controls",
      "model_module_version": "1.2.0",
      "model_name": "VBoxModel",
      "state": {
       "children": [
        "IPY_MODEL_59277841cd9e45ee9e12fe7134f54b07",
        "IPY_MODEL_a5e63de12c1e42c5bbf003c58a481a7c",
        "IPY_MODEL_e70abc51ff64435db60a6fbfb257797b"
       ],
       "layout": "IPY_MODEL_bf32c3ee2be7463da36c893352b77f5c"
      }
     },
     "244fb7533a3248e1bbba47a5df9e9ddf": {
      "model_module": "@jupyter-widgets/base",
      "model_module_version": "1.0.0",
      "model_name": "LayoutModel",
      "state": {
       "align_content": "stretch",
       "align_items": "stretch",
       "display": "inline-flex",
       "flex": "flex-grow",
       "flex_flow": "row wrap",
       "justify_content": "flex-start"
      }
     },
     "2452662eaaae4b37bae080637df6a562": {
      "model_module": "@jupyter-widgets/controls",
      "model_module_version": "1.2.0",
      "model_name": "DescriptionStyleModel",
      "state": {
       "description_width": ""
      }
     },
     "2456074304394239a47880da3708ee28": {
      "model_module": "@jupyter-widgets/controls",
      "model_module_version": "1.2.0",
      "model_name": "HBoxModel",
      "state": {
       "children": [
        "IPY_MODEL_b57383f5eca5466ebcb032975c9b1f76",
        "IPY_MODEL_2e29cd69094a4d9584e4397bc975151a"
       ],
       "layout": "IPY_MODEL_f29655d1007b41f0a2cfab3ada7d7864"
      }
     },
     "245ff676c3dd485b9866c45bcba68e92": {
      "model_module": "@jupyter-widgets/controls",
      "model_module_version": "1.2.0",
      "model_name": "DescriptionStyleModel",
      "state": {
       "description_width": ""
      }
     },
     "2468a808ea9841bab0e91180dff9b800": {
      "model_module": "@jupyter-widgets/controls",
      "model_module_version": "1.2.0",
      "model_name": "CheckboxModel",
      "state": {
       "description": "Es bezeichnet die näheren Umstände des im Verb ausgedrückten Geschehens.",
       "disabled": false,
       "layout": "IPY_MODEL_3a23fd728033455d8f48b0386866540a",
       "style": "IPY_MODEL_1552c539e9f5484ea6b842ac511519da",
       "value": true
      }
     },
     "25396274734643d09c236e5ce62b1bea": {
      "model_module": "@jupyter-widgets/base",
      "model_module_version": "1.0.0",
      "model_name": "LayoutModel",
      "state": {}
     },
     "2543197a46c340289a87d13ee1152794": {
      "model_module": "@jupyter-widgets/controls",
      "model_module_version": "1.2.0",
      "model_name": "ButtonModel",
      "state": {
       "description": "Korrekt?",
       "layout": "IPY_MODEL_284fec1716474ddb9ae38c3058ce1004",
       "style": "IPY_MODEL_727b8c190c044470afcaa8e2736daa7d"
      }
     },
     "2544da89910b453487ea04c5303e4d3e": {
      "model_module": "@jupyter-widgets/controls",
      "model_module_version": "1.2.0",
      "model_name": "DescriptionStyleModel",
      "state": {
       "description_width": ""
      }
     },
     "2558ab9de10c48d18dc272b2975dfec9": {
      "model_module": "@jupyter-widgets/base",
      "model_module_version": "1.0.0",
      "model_name": "LayoutModel",
      "state": {
       "justify_content": "center"
      }
     },
     "25ad559753324eb1a6c370a26fe47d7b": {
      "model_module": "@jupyter-widgets/base",
      "model_module_version": "1.0.0",
      "model_name": "LayoutModel",
      "state": {}
     },
     "25bd2d28df4e4e0d8ff1372cf957ffd5": {
      "model_module": "@jupyter-widgets/controls",
      "model_module_version": "1.2.0",
      "model_name": "ButtonStyleModel",
      "state": {}
     },
     "25d68aade2cb48ac8dce03e10b66a565": {
      "model_module": "@jupyter-widgets/base",
      "model_module_version": "1.0.0",
      "model_name": "LayoutModel",
      "state": {
       "width": "600px"
      }
     },
     "262213e7d3584a928726126af9e0bda5": {
      "model_module": "@jupyter-widgets/controls",
      "model_module_version": "1.2.0",
      "model_name": "DropdownModel",
      "state": {
       "_options_labels": [
        "Bedeutung",
        "Wohlgeformtheit",
        " "
       ],
       "index": 2,
       "layout": "IPY_MODEL_039e5b06e942469d8eebcd9a28f92652",
       "style": "IPY_MODEL_1e3f8a2fa51f47948860ef33b21f9db7"
      }
     },
     "2639efd89a7d43eda8482b9dc3c78b4a": {
      "model_module": "@jupyter-widgets/controls",
      "model_module_version": "1.2.0",
      "model_name": "ButtonModel",
      "state": {
       "description": "Korrekt?",
       "layout": "IPY_MODEL_8e847107abac496cbfdb2f96b5199903",
       "style": "IPY_MODEL_eb77f486baae4c00a2fcc55b2c589bde"
      }
     },
     "263e2107ad5444fdb79d3e680dd39fbf": {
      "model_module": "@jupyter-widgets/controls",
      "model_module_version": "1.2.0",
      "model_name": "DescriptionStyleModel",
      "state": {
       "description_width": ""
      }
     },
     "26618490dbd14ff7b211a98a1f549c9e": {
      "model_module": "@jupyter-widgets/controls",
      "model_module_version": "1.2.0",
      "model_name": "VBoxModel",
      "state": {
       "children": [
        "IPY_MODEL_b0374c48dede4179a68ae010ed983dfa",
        "IPY_MODEL_50acfad0055e4fca9528ee2b34c242ce",
        "IPY_MODEL_535b16fca9ad423597cb6cf3a45f6111",
        "IPY_MODEL_fbc19b0e47b64e378b21720eaeed8153"
       ],
       "layout": "IPY_MODEL_3a4bb5da900a4f6cb161204c2cdfd12a"
      }
     },
     "2671775eb6e94bc9a78fa78f388a5158": {
      "model_module": "@jupyter-widgets/controls",
      "model_module_version": "1.2.0",
      "model_name": "CheckboxModel",
      "state": {
       "description": "Flexionstyp",
       "disabled": false,
       "layout": "IPY_MODEL_39c30e172ba846b58e04596b806d61e8",
       "style": "IPY_MODEL_42fb032963e049e6b3b1c680c78338e9",
       "value": false
      }
     },
     "26a5c624d24e46c1ad21c58e4d8b91fa": {
      "model_module": "@jupyter-widgets/controls",
      "model_module_version": "1.2.0",
      "model_name": "HTMLModel",
      "state": {
       "layout": "IPY_MODEL_1a2aeabc4c184adebb720c904ceb6aa7",
       "style": "IPY_MODEL_3bb95cf2266547d0b49390961b587b0b",
       "value": "<h4 style=\"font-size:14px;\">durch eine</h4>"
      }
     },
     "26a65b3a40c64e3a95a1967d8044dfe3": {
      "model_module": "@jupyter-widgets/controls",
      "model_module_version": "1.2.0",
      "model_name": "DescriptionStyleModel",
      "state": {
       "description_width": ""
      }
     },
     "26bc08b329a74369be81c53dcc225dc7": {
      "model_module": "@jupyter-widgets/controls",
      "model_module_version": "1.2.0",
      "model_name": "DescriptionStyleModel",
      "state": {
       "description_width": ""
      }
     },
     "26c2024c9f804688a1f098a94067a3bb": {
      "model_module": "@jupyter-widgets/controls",
      "model_module_version": "1.2.0",
      "model_name": "DescriptionStyleModel",
      "state": {
       "description_width": ""
      }
     },
     "27164ea75b2947648774eb109be3615f": {
      "model_module": "@jupyter-widgets/controls",
      "model_module_version": "1.2.0",
      "model_name": "ButtonModel",
      "state": {
       "description": "Adverb",
       "layout": "IPY_MODEL_766197304c064c71a179b90b063f3513",
       "style": "IPY_MODEL_c7f1e4399dde4e6f982f3bcdb5ca2dba"
      }
     },
     "273b595d873d48328134690c2590af2c": {
      "model_module": "@jupyter-widgets/controls",
      "model_module_version": "1.2.0",
      "model_name": "DescriptionStyleModel",
      "state": {
       "description_width": ""
      }
     },
     "2771ab549cc241d09829a1c6401cbdfe": {
      "model_module": "@jupyter-widgets/base",
      "model_module_version": "1.0.0",
      "model_name": "LayoutModel",
      "state": {
       "width": "600px"
      }
     },
     "27958b648b254a868860fae5d9b2ccc3": {
      "model_module": "@jupyter-widgets/base",
      "model_module_version": "1.0.0",
      "model_name": "LayoutModel",
      "state": {
       "justify_content": "center"
      }
     },
     "27c5271d54a34e3fb4fdfea0a7efa8f5": {
      "model_module": "@jupyter-widgets/controls",
      "model_module_version": "1.2.0",
      "model_name": "HTMLModel",
      "state": {
       "layout": "IPY_MODEL_86fcf63ed7dd41c0b1a1d9c1303202d9",
       "style": "IPY_MODEL_5ae0d464fb624e1288f444e5e707e035",
       "value": "<h4 style=\"font-size:14px;\">gestellt. Die gesamte</h4>"
      }
     },
     "27ea8cc795c34a7995165028b8e4002d": {
      "model_module": "@jupyter-widgets/controls",
      "model_module_version": "1.2.0",
      "model_name": "DescriptionStyleModel",
      "state": {
       "description_width": ""
      }
     },
     "27fb7e87b4e247a9bc4c2c5b4afddf66": {
      "model_module": "@jupyter-widgets/base",
      "model_module_version": "1.0.0",
      "model_name": "LayoutModel",
      "state": {
       "width": "250px"
      }
     },
     "2811d6aa2cab41acbe44dc0c49f787da": {
      "model_module": "@jupyter-widgets/controls",
      "model_module_version": "1.2.0",
      "model_name": "ButtonModel",
      "state": {
       "description": "simple past",
       "layout": "IPY_MODEL_ea5ef9b686e14b10b0ace1f3766b7061",
       "style": "IPY_MODEL_ad10c2aad8f94c5bbc410cc4e2c0f921"
      }
     },
     "284fec1716474ddb9ae38c3058ce1004": {
      "model_module": "@jupyter-widgets/base",
      "model_module_version": "1.0.0",
      "model_name": "LayoutModel",
      "state": {
       "width": "250px"
      }
     },
     "28a37dd4689c43dfac0c82c14ed219a7": {
      "model_module": "@jupyter-widgets/base",
      "model_module_version": "1.0.0",
      "model_name": "LayoutModel",
      "state": {
       "justify_content": "center"
      }
     },
     "28a7a2b9a6a94a57b63dc27963aa3963": {
      "model_module": "@jupyter-widgets/controls",
      "model_module_version": "1.2.0",
      "model_name": "CheckboxModel",
      "state": {
       "description": "gleiche Endungen",
       "disabled": false,
       "layout": "IPY_MODEL_6f3ab125119646499094cbba0d025f4c",
       "style": "IPY_MODEL_7daf1abc1eec4e1f94f3da5871c0d00f",
       "value": false
      }
     },
     "28dfbc4bacda4d92aee9fd3fd44e1f9c": {
      "model_module": "@jupyter-widgets/base",
      "model_module_version": "1.0.0",
      "model_name": "LayoutModel",
      "state": {
       "width": "250px"
      }
     },
     "290c8af452324dada4749bc457fee095": {
      "model_module": "@jupyter-widgets/controls",
      "model_module_version": "1.2.0",
      "model_name": "ButtonStyleModel",
      "state": {}
     },
     "2920894789a84d8db47e17b342402ae6": {
      "model_module": "@jupyter-widgets/controls",
      "model_module_version": "1.2.0",
      "model_name": "ButtonModel",
      "state": {
       "description": "Wortfolge",
       "layout": "IPY_MODEL_c8c70400c9984091be662f7f4388bc89",
       "style": "IPY_MODEL_81f5b11300aa4143859511ccbc3b2d18"
      }
     },
     "292b4c51cdda44e0aff150393068e031": {
      "model_module": "@jupyter-widgets/controls",
      "model_module_version": "1.2.0",
      "model_name": "DescriptionStyleModel",
      "state": {
       "description_width": ""
      }
     },
     "2946608f5a394683b610159b9e4f9312": {
      "model_module": "@jupyter-widgets/controls",
      "model_module_version": "1.2.0",
      "model_name": "DescriptionStyleModel",
      "state": {
       "description_width": ""
      }
     },
     "297cdd63d0d248cfbad4b20b56c72826": {
      "model_module": "@jupyter-widgets/controls",
      "model_module_version": "1.2.0",
      "model_name": "DescriptionStyleModel",
      "state": {
       "description_width": ""
      }
     },
     "299304545d744eb2b7d979e3f43f5df0": {
      "model_module": "@jupyter-widgets/base",
      "model_module_version": "1.0.0",
      "model_name": "LayoutModel",
      "state": {}
     },
     "2996f3a8a25645c8b42be79b471047fb": {
      "model_module": "@jupyter-widgets/base",
      "model_module_version": "1.0.0",
      "model_name": "LayoutModel",
      "state": {
       "width": "250px"
      }
     },
     "29982c68f6bd4009a799fee3297183e8": {
      "model_module": "@jupyter-widgets/base",
      "model_module_version": "1.0.0",
      "model_name": "LayoutModel",
      "state": {}
     },
     "29c04575ac804bc593dd289b4bcfe719": {
      "model_module": "@jupyter-widgets/controls",
      "model_module_version": "1.2.0",
      "model_name": "DescriptionStyleModel",
      "state": {
       "description_width": ""
      }
     },
     "29f3e95bef49490e9b201bed43544461": {
      "model_module": "@jupyter-widgets/base",
      "model_module_version": "1.0.0",
      "model_name": "LayoutModel",
      "state": {
       "width": "600px"
      }
     },
     "2a20fa3354794266af3c916c9564c5fd": {
      "model_module": "@jupyter-widgets/controls",
      "model_module_version": "1.2.0",
      "model_name": "CheckboxModel",
      "state": {
       "description": "Nur beginnt eine Reise von tausend Meilen auch mit einem Schritt",
       "disabled": false,
       "layout": "IPY_MODEL_9df6442c25564065a1986686fd5c7a90",
       "style": "IPY_MODEL_6a3ffadc6ecd4488ab916996077759c2",
       "value": false
      }
     },
     "2a38fef219794292ac7667a0b97922f9": {
      "model_module": "@jupyter-widgets/controls",
      "model_module_version": "1.2.0",
      "model_name": "ButtonStyleModel",
      "state": {}
     },
     "2a3b673596b24107b8b2b13256a8c611": {
      "model_module": "@jupyter-widgets/base",
      "model_module_version": "1.0.0",
      "model_name": "LayoutModel",
      "state": {}
     },
     "2a3ce4723c3740669b00730f403dfb7a": {
      "model_module": "@jupyter-widgets/controls",
      "model_module_version": "1.2.0",
      "model_name": "HBoxModel",
      "state": {
       "children": [
        "IPY_MODEL_48f3232588184eb6a806bc1123d048a8",
        "IPY_MODEL_84b642c8634b428b965a2a9cdef2db56"
       ],
       "layout": "IPY_MODEL_aa2c217f98664504955f7dc074917a13"
      }
     },
     "2a445f211bfc47ebae5ad7b0051f56a6": {
      "model_module": "@jupyter-widgets/controls",
      "model_module_version": "1.2.0",
      "model_name": "DescriptionStyleModel",
      "state": {
       "description_width": "initial"
      }
     },
     "2a912c0865b74f0d9d29627e91278fe9": {
      "model_module": "@jupyter-widgets/controls",
      "model_module_version": "1.2.0",
      "model_name": "ButtonModel",
      "state": {
       "description": "past participle",
       "layout": "IPY_MODEL_905279fd49c343e58cf92d363a18d10c",
       "style": "IPY_MODEL_4abbc9870bed48bd86693976644862f7"
      }
     },
     "2aaadd3a9df94dc09d20e2f663134d5e": {
      "model_module": "@jupyter-widgets/controls",
      "model_module_version": "1.2.0",
      "model_name": "VBoxModel",
      "state": {
       "children": [
        "IPY_MODEL_746f5cc35f6f4fd5a0234b988b3b7709",
        "IPY_MODEL_48d707cdb2c4421e98dbb86713015e7d",
        "IPY_MODEL_0581c1a09c1d48b0b21415f47a75a5e5",
        "IPY_MODEL_6f48340937584a7ebafa66454ca00792"
       ],
       "layout": "IPY_MODEL_2c701fa1afb14ef9839ce98401bb4050"
      }
     },
     "2ac0d189cf3f4079b7f69a64c93ffb5b": {
      "model_module": "@jupyter-widgets/base",
      "model_module_version": "1.0.0",
      "model_name": "LayoutModel",
      "state": {}
     },
     "2ad497e5d2b144fbaddc6de1ea425fac": {
      "model_module": "@jupyter-widgets/controls",
      "model_module_version": "1.2.0",
      "model_name": "HBoxModel",
      "state": {
       "children": [
        "IPY_MODEL_f01880c64622476c84602db588480c30"
       ],
       "layout": "IPY_MODEL_7b00f87ec4cc4e47b7c711eb7f0f9abe"
      }
     },
     "2aea0e32a3fa4c5fb546d495ceb967bd": {
      "model_module": "@jupyter-widgets/base",
      "model_module_version": "1.0.0",
      "model_name": "LayoutModel",
      "state": {
       "width": "150px"
      }
     },
     "2af3e97c0e7345589954403c051c00b4": {
      "model_module": "@jupyter-widgets/controls",
      "model_module_version": "1.2.0",
      "model_name": "HTMLModel",
      "state": {
       "layout": "IPY_MODEL_6f716c6808dc47bfa7691f9a2272fadb",
       "style": "IPY_MODEL_4f2de25ed90c4ffd9dd43a72824068fe",
       "value": "<h4 style=\"font-size:14px;\">durch eine</h4>"
      }
     },
     "2b12a99b9e0946ad877d62649e1ee05c": {
      "model_module": "@jupyter-widgets/controls",
      "model_module_version": "1.2.0",
      "model_name": "DescriptionStyleModel",
      "state": {
       "description_width": ""
      }
     },
     "2b26e69363544a4fb24cbcb23d7f20bd": {
      "model_module": "@jupyter-widgets/controls",
      "model_module_version": "1.2.0",
      "model_name": "ButtonModel",
      "state": {
       "description": "Adjektiv",
       "layout": "IPY_MODEL_205ca884bb0c4e23a83eda9616362069",
       "style": "IPY_MODEL_3a856b5b57ff41d6bf4ab8c43354a8ab"
      }
     },
     "2b4a45972c1644c0965b10b0f1bbead2": {
      "model_module": "@jupyter-widgets/controls",
      "model_module_version": "1.2.0",
      "model_name": "ButtonStyleModel",
      "state": {}
     },
     "2b590829db3e409b9839166fb6a50746": {
      "model_module": "@jupyter-widgets/controls",
      "model_module_version": "1.2.0",
      "model_name": "ButtonModel",
      "state": {
       "description": "gerund",
       "layout": "IPY_MODEL_f1d98ea2dd4a472698180e6e3b4fe503",
       "style": "IPY_MODEL_5150a52a680c4789a6eca3b7b3bdb4bf"
      }
     },
     "2b83c6f3529b4feab5e56c0f527be56e": {
      "model_module": "@jupyter-widgets/base",
      "model_module_version": "1.0.0",
      "model_name": "LayoutModel",
      "state": {
       "justify_content": "center"
      }
     },
     "2b879a22d25f4557b8fa04c57f6c6975": {
      "model_module": "@jupyter-widgets/controls",
      "model_module_version": "1.2.0",
      "model_name": "HTMLModel",
      "state": {
       "layout": "IPY_MODEL_dde32c78f78141888f9dae7dd10803bc",
       "style": "IPY_MODEL_ec29415c771b460696851b982bd39dd0",
       "value": "<h4 style=\"font-size:14px;\">Welche Wortart folgt damit für das Wort <i>gerne</i> in Satz 1?</h4>"
      }
     },
     "2bb36b9442ed45449eed23739e19a85a": {
      "model_module": "@jupyter-widgets/base",
      "model_module_version": "1.0.0",
      "model_name": "LayoutModel",
      "state": {
       "width": "600px"
      }
     },
     "2be46034801243b59144a40d3db15b5c": {
      "model_module": "@jupyter-widgets/base",
      "model_module_version": "1.0.0",
      "model_name": "LayoutModel",
      "state": {}
     },
     "2bef0b84cbca48daaf6111ea2b231bfd": {
      "model_module": "@jupyter-widgets/base",
      "model_module_version": "1.0.0",
      "model_name": "LayoutModel",
      "state": {}
     },
     "2bfd1b7372754b6aa566dbab614a4b97": {
      "model_module": "@jupyter-widgets/controls",
      "model_module_version": "1.2.0",
      "model_name": "DescriptionStyleModel",
      "state": {
       "description_width": ""
      }
     },
     "2c1c8d493b2b4fcca8c9be1b5bca8119": {
      "model_module": "@jupyter-widgets/controls",
      "model_module_version": "1.2.0",
      "model_name": "VBoxModel",
      "state": {
       "children": [
        "IPY_MODEL_44c1bed22507449cb27fa085fed59b78",
        "IPY_MODEL_82ae5ec5e3bb416da76b26dc61c2c767",
        "IPY_MODEL_922c3c89db894fd4bae98c7c254275b0"
       ],
       "layout": "IPY_MODEL_3f6e880acdd04750baa056c07fd969f6"
      }
     },
     "2c701fa1afb14ef9839ce98401bb4050": {
      "model_module": "@jupyter-widgets/base",
      "model_module_version": "1.0.0",
      "model_name": "LayoutModel",
      "state": {}
     },
     "2c8fbb199aa848e5a45131f0d4df264e": {
      "model_module": "@jupyter-widgets/controls",
      "model_module_version": "1.2.0",
      "model_name": "DescriptionStyleModel",
      "state": {
       "description_width": ""
      }
     },
     "2ce06bc3d155458482f7020b37548989": {
      "model_module": "@jupyter-widgets/controls",
      "model_module_version": "1.2.0",
      "model_name": "ButtonModel",
      "state": {
       "description": "Keine der anderen Möglichkeiten",
       "layout": "IPY_MODEL_7f944004cc7744df8e74182a339a8ef5",
       "style": "IPY_MODEL_290c8af452324dada4749bc457fee095"
      }
     },
     "2cf885607d6a407694ab278dc2920c06": {
      "model_module": "@jupyter-widgets/base",
      "model_module_version": "1.0.0",
      "model_name": "LayoutModel",
      "state": {
       "width": "250px"
      }
     },
     "2cfd86ac15974b3186a25db76655026f": {
      "model_module": "@jupyter-widgets/controls",
      "model_module_version": "1.2.0",
      "model_name": "DescriptionStyleModel",
      "state": {
       "description_width": ""
      }
     },
     "2d3bc9bafaa6445d8ab9796e71c6f66e": {
      "model_module": "@jupyter-widgets/base",
      "model_module_version": "1.0.0",
      "model_name": "LayoutModel",
      "state": {
       "width": "250px"
      }
     },
     "2d555cb71eb8406ba36e22a38accacb1": {
      "model_module": "@jupyter-widgets/controls",
      "model_module_version": "1.2.0",
      "model_name": "VBoxModel",
      "state": {
       "children": [
        "IPY_MODEL_b6a6fbcd52be4faf8669a6337329153a",
        "IPY_MODEL_d8b7212c5147468ba172bef5a9c1bc14",
        "IPY_MODEL_43fac2b8474542a0b6e34dc3400553e1",
        "IPY_MODEL_8f282ded65f74298bdd82dc06f5eced9"
       ],
       "layout": "IPY_MODEL_de356c6049cc4cf8b1ed3ada3394d574"
      }
     },
     "2d9a4a6a640d4889904a387d93a3848c": {
      "model_module": "@jupyter-widgets/controls",
      "model_module_version": "1.2.0",
      "model_name": "HTMLModel",
      "state": {
       "layout": "IPY_MODEL_82a456f6008247dbb2234cf086c24961",
       "style": "IPY_MODEL_e5a7e07199bb4a0a8a57f7307e61329f",
       "value": "<h4 style=\"font-size:14px;\">Ersetzbarkeit einer</h4>"
      }
     },
     "2d9e19700c954ef9a279f1217bf09577": {
      "model_module": "@jupyter-widgets/controls",
      "model_module_version": "1.2.0",
      "model_name": "DescriptionStyleModel",
      "state": {
       "description_width": ""
      }
     },
     "2dc12bf39d1e469a939684a456f5c394": {
      "model_module": "@jupyter-widgets/controls",
      "model_module_version": "1.2.0",
      "model_name": "DescriptionStyleModel",
      "state": {
       "description_width": ""
      }
     },
     "2e1cc2555fd24b7fa55d2873f69baecb": {
      "model_module": "@jupyter-widgets/controls",
      "model_module_version": "1.2.0",
      "model_name": "ButtonStyleModel",
      "state": {}
     },
     "2e1d159db96b497b93d9f94a8945d01c": {
      "model_module": "@jupyter-widgets/controls",
      "model_module_version": "1.2.0",
      "model_name": "DescriptionStyleModel",
      "state": {
       "description_width": "initial"
      }
     },
     "2e1f69f074ab418f8523b1b3158552c6": {
      "model_module": "@jupyter-widgets/controls",
      "model_module_version": "1.2.0",
      "model_name": "CheckboxModel",
      "state": {
       "description": "Zu einem Wort wird ein Index seiner Kontexte aufgebaut.",
       "disabled": false,
       "layout": "IPY_MODEL_7b268953a6ff44a88168335fc8ae3b53",
       "style": "IPY_MODEL_b7b967d6e07b466381146e73de80e1ea",
       "value": false
      }
     },
     "2e29cd69094a4d9584e4397bc975151a": {
      "model_module": "@jupyter-widgets/controls",
      "model_module_version": "1.2.0",
      "model_name": "ButtonModel",
      "state": {
       "description": "past participle",
       "layout": "IPY_MODEL_eae5c35f5626492589ff72084e42b96e",
       "style": "IPY_MODEL_630d3576587041bd9eff41e52abbccac"
      }
     },
     "2e42ee1278824eadbfbcf5517f20b536": {
      "model_module": "@jupyter-widgets/controls",
      "model_module_version": "1.2.0",
      "model_name": "DescriptionStyleModel",
      "state": {
       "description_width": "initial"
      }
     },
     "2e4affeee29c491f89a6c7518206ec5d": {
      "model_module": "@jupyter-widgets/controls",
      "model_module_version": "1.2.0",
      "model_name": "ButtonModel",
      "state": {
       "description": "Korrekt?",
       "layout": "IPY_MODEL_a297f76a835c462ca2ff2a6ff6a895fc",
       "style": "IPY_MODEL_e6f04844710e46008ed24b47c6c31b9b"
      }
     },
     "2e6072f4a586409a87a082d39d1cb505": {
      "model_module": "@jupyter-widgets/base",
      "model_module_version": "1.0.0",
      "model_name": "LayoutModel",
      "state": {
       "width": "150px"
      }
     },
     "2e894047c9e14af29e0bfa5a30f215c6": {
      "model_module": "@jupyter-widgets/controls",
      "model_module_version": "1.2.0",
      "model_name": "DescriptionStyleModel",
      "state": {
       "description_width": ""
      }
     },
     "2e9dcb70acd7436f97b3adaf4fc9b779": {
      "model_module": "@jupyter-widgets/base",
      "model_module_version": "1.0.0",
      "model_name": "LayoutModel",
      "state": {
       "justify_content": "center"
      }
     },
     "2ec949d8fa8a4e0db31718a73c811857": {
      "model_module": "@jupyter-widgets/controls",
      "model_module_version": "1.2.0",
      "model_name": "CheckboxModel",
      "state": {
       "description": "Zu einem Wort werden alle Wörter gefunden, die in gleichen Kontexten vorkommen.",
       "disabled": false,
       "layout": "IPY_MODEL_313c87a2fff64cff9b4f1d1ca984db39",
       "style": "IPY_MODEL_ea354e2158d940458f84110b4253998f",
       "value": false
      }
     },
     "2efd60e3faea48c48b2f2c034fce4fd0": {
      "model_module": "@jupyter-widgets/base",
      "model_module_version": "1.0.0",
      "model_name": "LayoutModel",
      "state": {}
     },
     "2f2bb97ae6964831ab45573a8eaa692c": {
      "model_module": "@jupyter-widgets/controls",
      "model_module_version": "1.2.0",
      "model_name": "ButtonModel",
      "state": {
       "description": "simple past",
       "layout": "IPY_MODEL_dbc788a3ebd24876a202f8d91d2434b5",
       "style": "IPY_MODEL_fe175aedd3094b6aa2c891aaf12bd19c"
      }
     },
     "2f4d5e07a2b544328d32e8b38ed620a5": {
      "model_module": "@jupyter-widgets/base",
      "model_module_version": "1.0.0",
      "model_name": "LayoutModel",
      "state": {
       "justify_content": "center"
      }
     },
     "2fa138bf1aa14cb5af3a50b5b3f281b1": {
      "model_module": "@jupyter-widgets/controls",
      "model_module_version": "1.2.0",
      "model_name": "VBoxModel",
      "state": {
       "children": [
        "IPY_MODEL_1a4fbf19238644c8a874610a67879bed",
        "IPY_MODEL_8ab68e301e734e439621c2893110bc9a",
        "IPY_MODEL_c9f054da8cdc448eaaf94d3a2562aabb",
        "IPY_MODEL_bedaed764a3046bb9d0db8a1fe02e421"
       ],
       "layout": "IPY_MODEL_827bade57ddf4091bdfc510aa976fad6"
      }
     },
     "2ff4f732fb1941de811f9d24df2fa383": {
      "model_module": "@jupyter-widgets/base",
      "model_module_version": "1.0.0",
      "model_name": "LayoutModel",
      "state": {}
     },
     "3042d846be01419cbf96282298565d5c": {
      "model_module": "@jupyter-widgets/controls",
      "model_module_version": "1.2.0",
      "model_name": "VBoxModel",
      "state": {
       "children": [
        "IPY_MODEL_2067fecf9c4f468e988bccbb58e344a4",
        "IPY_MODEL_aa3211238cd64759a0d56c01925f2e9e",
        "IPY_MODEL_829232ef1b634b8d9723ee7b39f8162f"
       ],
       "layout": "IPY_MODEL_ed7a42296e71450697dda3a7e20f4923"
      }
     },
     "30aecafe235544ee9c631274c8af463e": {
      "model_module": "@jupyter-widgets/controls",
      "model_module_version": "1.2.0",
      "model_name": "DropdownModel",
      "state": {
       "_options_labels": [
        "POS",
        "POS+Wort+POS",
        "Wort+POS-Tag",
        " "
       ],
       "index": 3,
       "layout": "IPY_MODEL_e5b73e311e88437c8d7eed1f9a992cc9",
       "style": "IPY_MODEL_9e7ff2ed2a5343ecac78a413fca38d19"
      }
     },
     "311bd7833fba461c9f22716764b7b872": {
      "model_module": "@jupyter-widgets/controls",
      "model_module_version": "1.2.0",
      "model_name": "HTMLModel",
      "state": {
       "layout": "IPY_MODEL_b223bc944f944bd08b515401dc01adcd",
       "style": "IPY_MODEL_996f988c2bd74854802d29057b71b19e",
       "value": "<h4 style=\"font-size:14px;\"><i>seinen Schlüsselbund zwar noch nie verloren haben.</i></h4>"
      }
     },
     "312bdd3be4f144f0a17d37ddd56692d6": {
      "model_module": "@jupyter-widgets/base",
      "model_module_version": "1.0.0",
      "model_name": "LayoutModel",
      "state": {
       "width": "250px"
      }
     },
     "3139de61fdbe413d976cf4c9e9f57f3d": {
      "model_module": "@jupyter-widgets/base",
      "model_module_version": "1.0.0",
      "model_name": "LayoutModel",
      "state": {}
     },
     "313c19be1bdc44149c376c607a2dec6a": {
      "model_module": "@jupyter-widgets/controls",
      "model_module_version": "1.2.0",
      "model_name": "BoxModel",
      "state": {
       "children": [
        "IPY_MODEL_caaffa157186429ca53d17151d0c94db",
        "IPY_MODEL_0b5c30ac94884795ad77e727ade25056",
        "IPY_MODEL_b18a25409c93461d8671a436be10bc6f",
        "IPY_MODEL_9f5034d4a1324dd19bc7ca8c26c1662e",
        "IPY_MODEL_0b3afac0205a430eb8d093818c46a563",
        "IPY_MODEL_21703cbabf174c18bea03e92558fd8af",
        "IPY_MODEL_d70f29365bc6471595da2acdd0e5b42e",
        "IPY_MODEL_003c358b6441433b875c5338062c97a1",
        "IPY_MODEL_1e2856a4c03f4ad69ac8470ed365a543",
        "IPY_MODEL_f7a272febe094b559190363b9f368c91",
        "IPY_MODEL_cc16cba242bf49b897aba1679ba593a6",
        "IPY_MODEL_4512412b47af47af9c6377e570a4b6e3",
        "IPY_MODEL_0f4da7568f554b5ea44e7b8f2652c7e5"
       ],
       "layout": "IPY_MODEL_1044bc60a3064b0ca27173ca4c4ce3c4"
      }
     },
     "313c87a2fff64cff9b4f1d1ca984db39": {
      "model_module": "@jupyter-widgets/base",
      "model_module_version": "1.0.0",
      "model_name": "LayoutModel",
      "state": {
       "width": "600px"
      }
     },
     "3158065894984928857d97d2c4685855": {
      "model_module": "@jupyter-widgets/base",
      "model_module_version": "1.0.0",
      "model_name": "LayoutModel",
      "state": {}
     },
     "32092f04e7bc4683a097b5f5104e313a": {
      "model_module": "@jupyter-widgets/controls",
      "model_module_version": "1.2.0",
      "model_name": "DescriptionStyleModel",
      "state": {
       "description_width": "initial"
      }
     },
     "3233ae6c93924560adbe8bbbdbf5a4d0": {
      "model_module": "@jupyter-widgets/base",
      "model_module_version": "1.0.0",
      "model_name": "LayoutModel",
      "state": {
       "justify_content": "center"
      }
     },
     "32775d1596fe484b8c3c5b95afa67876": {
      "model_module": "@jupyter-widgets/controls",
      "model_module_version": "1.2.0",
      "model_name": "HTMLModel",
      "state": {
       "layout": "IPY_MODEL_48651f62db034c5faec426ae82486908",
       "style": "IPY_MODEL_bb1351bea1e741fc81141717011fea1b",
       "value": "<h4 style=\"font-size:14px;\">.</h4>"
      }
     },
     "327e409c05e448d081bd44dc07ec12fe": {
      "model_module": "@jupyter-widgets/controls",
      "model_module_version": "1.2.0",
      "model_name": "ButtonModel",
      "state": {
       "description": "base",
       "layout": "IPY_MODEL_46af242726b04d149885187098ca4819",
       "style": "IPY_MODEL_2b4a45972c1644c0965b10b0f1bbead2"
      }
     },
     "32a9392df34c4ab78f78e01b0d66bbf1": {
      "model_module": "@jupyter-widgets/controls",
      "model_module_version": "1.2.0",
      "model_name": "DescriptionStyleModel",
      "state": {
       "description_width": ""
      }
     },
     "32bf6dc6bfe646a8ac95277665c15e8e": {
      "model_module": "@jupyter-widgets/controls",
      "model_module_version": "1.2.0",
      "model_name": "VBoxModel",
      "state": {
       "children": [
        "IPY_MODEL_a991ffa8e4e44a52ae6ebe26b4aa4f44",
        "IPY_MODEL_cfffa5bb13624eb59e1ac03c58788953",
        "IPY_MODEL_096fc263b8744b1c9b8f67e6d8cdf493",
        "IPY_MODEL_c5399cebabe74fa6b2de74043d1157ea"
       ],
       "layout": "IPY_MODEL_fdcee4101b8c434bae50a29054c323cf"
      }
     },
     "32ce27fae7f444ac94aeb49ccfc8a543": {
      "model_module": "@jupyter-widgets/controls",
      "model_module_version": "1.2.0",
      "model_name": "DescriptionStyleModel",
      "state": {
       "description_width": "initial"
      }
     },
     "32d4117a31a04e57bb5fcdd4f341dda2": {
      "model_module": "@jupyter-widgets/base",
      "model_module_version": "1.0.0",
      "model_name": "LayoutModel",
      "state": {
       "width": "150px"
      }
     },
     "32d887ea88ff47c69fd704b1398c7074": {
      "model_module": "@jupyter-widgets/controls",
      "model_module_version": "1.2.0",
      "model_name": "VBoxModel",
      "state": {
       "children": [
        "IPY_MODEL_bcd45601e1a245789bfcdb94dcadc019",
        "IPY_MODEL_bc1d69b7783841b5b6c07e3ca92e0ab5",
        "IPY_MODEL_13a8613d54b24893a4acaa2171247260",
        "IPY_MODEL_85634c894b4f46ecb63b28f20f3b7a34"
       ],
       "layout": "IPY_MODEL_589df59cd9134407905f6060abe4b825"
      }
     },
     "32efdd3a1fd946b0b58fa772e73c5f25": {
      "model_module": "@jupyter-widgets/controls",
      "model_module_version": "1.2.0",
      "model_name": "ButtonModel",
      "state": {
       "description": "base",
       "layout": "IPY_MODEL_860b81f0413a4c2ab2f8b7951ded265e",
       "style": "IPY_MODEL_d4c5758be82542b989c782ec7705787c"
      }
     },
     "32f69d0bb3464ea5925d30908bc625bc": {
      "model_module": "@jupyter-widgets/base",
      "model_module_version": "1.0.0",
      "model_name": "LayoutModel",
      "state": {}
     },
     "32fd77bfcb2944eaa536b23185a4eaa3": {
      "model_module": "@jupyter-widgets/base",
      "model_module_version": "1.0.0",
      "model_name": "LayoutModel",
      "state": {}
     },
     "336756ac86aa49caab28ebb93010ff18": {
      "model_module": "@jupyter-widgets/controls",
      "model_module_version": "1.2.0",
      "model_name": "DropdownModel",
      "state": {
       "_options_labels": [
        "gleichartige",
        "unterschiedliche",
        " "
       ],
       "index": 2,
       "layout": "IPY_MODEL_aa7bb1739ca6405fbdfae1249b80d8b6",
       "style": "IPY_MODEL_617d744cc1854f72a798cb53bb52f571"
      }
     },
     "3394cd66dddd4d09bf3f7cbec06a5498": {
      "model_module": "@jupyter-widgets/controls",
      "model_module_version": "1.2.0",
      "model_name": "HTMLModel",
      "state": {
       "layout": "IPY_MODEL_495059cca72240599f83408d249622d2",
       "style": "IPY_MODEL_ac0ca9a95db545f8a29e19aa559702ff",
       "value": "<i>Wählen Sie die <ins>eine</ins> korrekte Antwort aus: </i>"
      }
     },
     "33bbf2144ca94d4a9681dd9ee8196011": {
      "model_module": "@jupyter-widgets/controls",
      "model_module_version": "1.2.0",
      "model_name": "HTMLModel",
      "state": {
       "layout": "IPY_MODEL_c5a2181eb0614d96b2c86793264089c4",
       "style": "IPY_MODEL_772a328aaeb44c6b8292c1a61c0523ee",
       "value": "<i>Vervollständigen Sie den Lückentext: </i>"
      }
     },
     "33eeabfafdfc4e628eb1a4159fdf0865": {
      "model_module": "@jupyter-widgets/controls",
      "model_module_version": "1.2.0",
      "model_name": "VBoxModel",
      "state": {
       "children": [
        "IPY_MODEL_21bf378bcbe149958ae52c22a01fc9fa",
        "IPY_MODEL_b55e1052b6464d639a9f677766f8c2d8",
        "IPY_MODEL_11a57c80b7734bc4b447de07f9f9b1bb",
        "IPY_MODEL_6c202a85f6994ab3929472d2f7179111"
       ],
       "layout": "IPY_MODEL_2be46034801243b59144a40d3db15b5c"
      }
     },
     "34003e9011bc4a57928a1c7e159adfa1": {
      "model_module": "@jupyter-widgets/base",
      "model_module_version": "1.0.0",
      "model_name": "LayoutModel",
      "state": {}
     },
     "345b7ef3f28540bcb04cd16891a1e6d6": {
      "model_module": "@jupyter-widgets/controls",
      "model_module_version": "1.2.0",
      "model_name": "CheckboxModel",
      "state": {
       "description": "gleicher Kontext",
       "disabled": false,
       "layout": "IPY_MODEL_8e0f907f6cee4f02bc71d46e9c668b35",
       "style": "IPY_MODEL_fdfa398e438a45d39f79dbda2078ee20",
       "value": false
      }
     },
     "345f29516c834edeac91b80076141c64": {
      "model_module": "@jupyter-widgets/base",
      "model_module_version": "1.0.0",
      "model_name": "LayoutModel",
      "state": {}
     },
     "3498e89da87e4652afc5e558713b0901": {
      "model_module": "@jupyter-widgets/base",
      "model_module_version": "1.0.0",
      "model_name": "LayoutModel",
      "state": {}
     },
     "34a121b9c61f42a7905366c4a1f8351c": {
      "model_module": "@jupyter-widgets/controls",
      "model_module_version": "1.2.0",
      "model_name": "ButtonModel",
      "state": {
       "description": "Lösung zeigen",
       "layout": "IPY_MODEL_d59320bfa95a41f592ec6a46857709f8",
       "style": "IPY_MODEL_cabe8bfdaa9b4a428350c08fe3d4d697"
      }
     },
     "34e224061bfb4f5e957668acd551a09c": {
      "model_module": "@jupyter-widgets/controls",
      "model_module_version": "1.2.0",
      "model_name": "HTMLModel",
      "state": {
       "layout": "IPY_MODEL_b0f7657c9b5c4f219b6fbc56100d2e34",
       "style": "IPY_MODEL_245ff676c3dd485b9866c45bcba68e92",
       "value": "<h4 style=\"font-size:14px;\">Welcher ist der richtig permutierte Satz?</h4>"
      }
     },
     "351bc6cc313d42829647bfc854a44f89": {
      "model_module": "@jupyter-widgets/base",
      "model_module_version": "1.0.0",
      "model_name": "LayoutModel",
      "state": {}
     },
     "3552a1f982264443b3c212cb7f6c394e": {
      "model_module": "@jupyter-widgets/base",
      "model_module_version": "1.0.0",
      "model_name": "LayoutModel",
      "state": {
       "width": "250px"
      }
     },
     "355f9663f2d64fa0b426d7f0b03da730": {
      "model_module": "@jupyter-widgets/controls",
      "model_module_version": "1.2.0",
      "model_name": "DescriptionStyleModel",
      "state": {
       "description_width": ""
      }
     },
     "3562b39254e144e38629629b9dc5cf93": {
      "model_module": "@jupyter-widgets/controls",
      "model_module_version": "1.2.0",
      "model_name": "ButtonStyleModel",
      "state": {}
     },
     "3580f5248e1943b6bb9f2571d6be74e1": {
      "model_module": "@jupyter-widgets/controls",
      "model_module_version": "1.2.0",
      "model_name": "DescriptionStyleModel",
      "state": {
       "description_width": ""
      }
     },
     "35cc0a1811c44f0595149db292010b95": {
      "model_module": "@jupyter-widgets/base",
      "model_module_version": "1.0.0",
      "model_name": "LayoutModel",
      "state": {
       "width": "250px"
      }
     },
     "35cf3df69c1f465baf01e51ab6eb1496": {
      "model_module": "@jupyter-widgets/controls",
      "model_module_version": "1.2.0",
      "model_name": "HBoxModel",
      "state": {
       "children": [
        "IPY_MODEL_d6a09c492c1946eaa7afae230781a94d",
        "IPY_MODEL_f72b7bfd04994154803b5960c99f5db0"
       ],
       "layout": "IPY_MODEL_474c048dceea40d1ad1fa62d3eb413d1"
      }
     },
     "35da9ddb4c7f4192ac43f7dfed30d04e": {
      "model_module": "@jupyter-widgets/controls",
      "model_module_version": "1.2.0",
      "model_name": "HBoxModel",
      "state": {
       "children": [
        "IPY_MODEL_12f3acb6f76b42dd9b661233b675483d"
       ],
       "layout": "IPY_MODEL_2efd60e3faea48c48b2f2c034fce4fd0"
      }
     },
     "35e6ca946f1e4eaba306c426de892bf8": {
      "model_module": "@jupyter-widgets/controls",
      "model_module_version": "1.2.0",
      "model_name": "ButtonModel",
      "state": {
       "description": "simple past",
       "layout": "IPY_MODEL_38a4f3bf2f86430996a589b34954ec37",
       "style": "IPY_MODEL_d20beaa594f4422d8c48464abeed1b9a"
      }
     },
     "35f0d9ee5a854597a4bbef1dd5a9fd7d": {
      "model_module": "@jupyter-widgets/base",
      "model_module_version": "1.0.0",
      "model_name": "LayoutModel",
      "state": {}
     },
     "35fcc3c8d73f45ebb8bf0f7555b9f715": {
      "model_module": "@jupyter-widgets/controls",
      "model_module_version": "1.2.0",
      "model_name": "DescriptionStyleModel",
      "state": {
       "description_width": ""
      }
     },
     "369e9b04f09a4aba972f462336f51070": {
      "model_module": "@jupyter-widgets/controls",
      "model_module_version": "1.2.0",
      "model_name": "ButtonModel",
      "state": {
       "description": "past participle",
       "layout": "IPY_MODEL_965243e1061045b896262db4100c8ad6",
       "style": "IPY_MODEL_55048c7c4bf84cb0a39d185e01b003f0"
      }
     },
     "36af468123ac4025ad59a5e0a88ad377": {
      "model_module": "@jupyter-widgets/base",
      "model_module_version": "1.0.0",
      "model_name": "LayoutModel",
      "state": {
       "justify_content": "center"
      }
     },
     "36b1a10e98804ed8971ff219900baf05": {
      "model_module": "@jupyter-widgets/controls",
      "model_module_version": "1.2.0",
      "model_name": "DescriptionStyleModel",
      "state": {
       "description_width": "initial"
      }
     },
     "36b21174c26f4be899ec578edc5ecd5d": {
      "model_module": "@jupyter-widgets/controls",
      "model_module_version": "1.2.0",
      "model_name": "HTMLModel",
      "state": {
       "layout": "IPY_MODEL_494180e8440842f19cd945c2b599974b",
       "style": "IPY_MODEL_e8bb14eb929e44bc8d6c0def409dcf6d",
       "value": "<i>Wählen Sie die <ins>eine</ins> korrekte Antwort aus: </i>"
      }
     },
     "36ba574a7b9a48788f162522a8585e10": {
      "model_module": "@jupyter-widgets/controls",
      "model_module_version": "1.2.0",
      "model_name": "HTMLModel",
      "state": {
       "layout": "IPY_MODEL_0e452fb013f2489ea659221138de3605",
       "style": "IPY_MODEL_91608f25f3004d0b91d2a23c326ae698",
       "value": "<h4 style=\"font-size:14px;\">.</h4>"
      }
     },
     "371ba1d530c844058e1cb676f66d569a": {
      "model_module": "@jupyter-widgets/base",
      "model_module_version": "1.0.0",
      "model_name": "LayoutModel",
      "state": {
       "width": "600px"
      }
     },
     "373dae6511194a30b2215bc27c18be50": {
      "model_module": "@jupyter-widgets/base",
      "model_module_version": "1.0.0",
      "model_name": "LayoutModel",
      "state": {}
     },
     "378cfde707a149ce97ffe98c9db0fba8": {
      "model_module": "@jupyter-widgets/controls",
      "model_module_version": "1.2.0",
      "model_name": "ButtonModel",
      "state": {
       "description": "gerund",
       "layout": "IPY_MODEL_9a233cb82df44491b54d8b3b89521bc7",
       "style": "IPY_MODEL_61461ce05a2d4c1caa7075b1dc0269e2"
      }
     },
     "37cf2b0c48004251b74fd24925f4075d": {
      "model_module": "@jupyter-widgets/controls",
      "model_module_version": "1.2.0",
      "model_name": "HBoxModel",
      "state": {
       "children": [
        "IPY_MODEL_2f2bb97ae6964831ab45573a8eaa692c"
       ],
       "layout": "IPY_MODEL_9dd02c8cf40d48308ec0529df684731e"
      }
     },
     "38160e8ceab84ac1ab5feed87bfbb320": {
      "model_module": "@jupyter-widgets/controls",
      "model_module_version": "1.2.0",
      "model_name": "ButtonModel",
      "state": {
       "description": "Keine der anderen Möglichkeiten",
       "layout": "IPY_MODEL_d7fcdb3df8094da2a871dcff75aec26f",
       "style": "IPY_MODEL_3b297673c45b4d37a01e6e93461b32c8"
      }
     },
     "381c78d7fd424a6ab606702a0a0430bf": {
      "model_module": "@jupyter-widgets/controls",
      "model_module_version": "1.2.0",
      "model_name": "ButtonStyleModel",
      "state": {}
     },
     "382912b249af48ffa102158b9548b2f5": {
      "model_module": "@jupyter-widgets/controls",
      "model_module_version": "1.2.0",
      "model_name": "CheckboxModel",
      "state": {
       "description": "Flexionstyp",
       "disabled": false,
       "layout": "IPY_MODEL_95c4cc293ceb41dab45ca6694254030e",
       "style": "IPY_MODEL_138e1330939146fead8f9c676c763ac3",
       "value": false
      }
     },
     "3860afb26ba446828e8c22a48585d5f9": {
      "model_module": "@jupyter-widgets/controls",
      "model_module_version": "1.2.0",
      "model_name": "DescriptionStyleModel",
      "state": {
       "description_width": "initial"
      }
     },
     "38a4f3bf2f86430996a589b34954ec37": {
      "model_module": "@jupyter-widgets/base",
      "model_module_version": "1.0.0",
      "model_name": "LayoutModel",
      "state": {
       "width": "250px"
      }
     },
     "38b36b1a1df24648ba052e9343828a51": {
      "model_module": "@jupyter-widgets/controls",
      "model_module_version": "1.2.0",
      "model_name": "ButtonStyleModel",
      "state": {}
     },
     "3911576eeeff481aa77ac16993f046b0": {
      "model_module": "@jupyter-widgets/base",
      "model_module_version": "1.0.0",
      "model_name": "LayoutModel",
      "state": {
       "width": "150px"
      }
     },
     "3916126b29fc422280a05447f721f018": {
      "model_module": "@jupyter-widgets/controls",
      "model_module_version": "1.2.0",
      "model_name": "ButtonStyleModel",
      "state": {}
     },
     "3981eb89486742a2ac948abae1bb8b7a": {
      "model_module": "@jupyter-widgets/controls",
      "model_module_version": "1.2.0",
      "model_name": "ButtonStyleModel",
      "state": {}
     },
     "399e96aa323c431f968af04aad445c5d": {
      "model_module": "@jupyter-widgets/controls",
      "model_module_version": "1.2.0",
      "model_name": "BoxModel",
      "state": {
       "children": [
        "IPY_MODEL_aa644b38f17f42afa984c1e6bd98255a",
        "IPY_MODEL_5324e4c4ed594221836fd8dc040c0139",
        "IPY_MODEL_9e1bd168ae8c4fb08595593ca38ed96b",
        "IPY_MODEL_e1402925cb8c4f6c9670819c804dae75",
        "IPY_MODEL_3e6f75c27efb4c2daa0b086bd819dd5b"
       ],
       "layout": "IPY_MODEL_a27da214c18c41c69728e83a56320f85"
      }
     },
     "39ad4c3268814a84ac465e65f8c033f3": {
      "model_module": "@jupyter-widgets/base",
      "model_module_version": "1.0.0",
      "model_name": "LayoutModel",
      "state": {
       "width": "600px"
      }
     },
     "39bb4630427e4790be660e121cc06261": {
      "model_module": "@jupyter-widgets/base",
      "model_module_version": "1.0.0",
      "model_name": "LayoutModel",
      "state": {
       "width": "250px"
      }
     },
     "39c30e172ba846b58e04596b806d61e8": {
      "model_module": "@jupyter-widgets/base",
      "model_module_version": "1.0.0",
      "model_name": "LayoutModel",
      "state": {
       "width": "600px"
      }
     },
     "39ee3b3cd4aa440d99ffd27de3ea6d81": {
      "model_module": "@jupyter-widgets/controls",
      "model_module_version": "1.2.0",
      "model_name": "HTMLModel",
      "state": {
       "layout": "IPY_MODEL_0ba914419a514a81a4610c2aed8812f5",
       "style": "IPY_MODEL_9caefddc27f84c27baa0b26d62d694fb",
       "value": "<i>Vervollständigen Sie den Lückentext: </i>"
      }
     },
     "3a16e1e5fc074c27af119329a5ad8eee": {
      "model_module": "@jupyter-widgets/controls",
      "model_module_version": "1.2.0",
      "model_name": "DescriptionStyleModel",
      "state": {
       "description_width": ""
      }
     },
     "3a23fd728033455d8f48b0386866540a": {
      "model_module": "@jupyter-widgets/base",
      "model_module_version": "1.0.0",
      "model_name": "LayoutModel",
      "state": {
       "width": "600px"
      }
     },
     "3a4bb5da900a4f6cb161204c2cdfd12a": {
      "model_module": "@jupyter-widgets/base",
      "model_module_version": "1.0.0",
      "model_name": "LayoutModel",
      "state": {}
     },
     "3a4faed976cb4e219d7b9e4292b2db04": {
      "model_module": "@jupyter-widgets/controls",
      "model_module_version": "1.2.0",
      "model_name": "TextareaModel",
      "state": {
       "layout": "IPY_MODEL_120567b802d04c36aa9e46a82f848be1",
       "placeholder": "Type something",
       "style": "IPY_MODEL_0923f7ff8f3347c6aa4ea40e93a5a954",
       "value": "nltk.____()"
      }
     },
     "3a679ce2f2a14d8293dd2ebb45d949a3": {
      "model_module": "@jupyter-widgets/base",
      "model_module_version": "1.0.0",
      "model_name": "LayoutModel",
      "state": {}
     },
     "3a6bd93c93e8476ca4984b6837256724": {
      "model_module": "@jupyter-widgets/base",
      "model_module_version": "1.0.0",
      "model_name": "LayoutModel",
      "state": {}
     },
     "3a715368c8c343bfab8aa59965767ea8": {
      "model_module": "@jupyter-widgets/base",
      "model_module_version": "1.0.0",
      "model_name": "LayoutModel",
      "state": {
       "width": "250px"
      }
     },
     "3a830d8b647f41cb89a16a5169e0827f": {
      "model_module": "@jupyter-widgets/controls",
      "model_module_version": "1.2.0",
      "model_name": "DescriptionStyleModel",
      "state": {
       "description_width": ""
      }
     },
     "3a856b5b57ff41d6bf4ab8c43354a8ab": {
      "model_module": "@jupyter-widgets/controls",
      "model_module_version": "1.2.0",
      "model_name": "ButtonStyleModel",
      "state": {}
     },
     "3a8a411806e848b180248c6b0a05c1a6": {
      "model_module": "@jupyter-widgets/base",
      "model_module_version": "1.0.0",
      "model_name": "LayoutModel",
      "state": {
       "width": "250px"
      }
     },
     "3adeda1a44ef41bb8eb1feceba4c656b": {
      "model_module": "@jupyter-widgets/controls",
      "model_module_version": "1.2.0",
      "model_name": "HTMLModel",
      "state": {
       "layout": "IPY_MODEL_f2978c81987145e9a0841a0d196b04cf",
       "style": "IPY_MODEL_5bd3f4945ece4e0b8d3952c71d9e4ff6",
       "value": "<h4 style=\"font-size:14px;\">Was bedeutet das Tag <i>VBD</i> im Browntagset (siehe 5.7)?</h4>"
      }
     },
     "3ae73044b32f48afbd5c65275746581c": {
      "model_module": "@jupyter-widgets/base",
      "model_module_version": "1.0.0",
      "model_name": "LayoutModel",
      "state": {
       "justify_content": "center"
      }
     },
     "3b042d5fc0e44fb1b9ad5fb8eaa2334c": {
      "model_module": "@jupyter-widgets/controls",
      "model_module_version": "1.2.0",
      "model_name": "ButtonModel",
      "state": {
       "description": "Korrekt?",
       "layout": "IPY_MODEL_170228dff9ec4f1db03fa1da12ab032e",
       "style": "IPY_MODEL_25bd2d28df4e4e0d8ff1372cf957ffd5"
      }
     },
     "3b297673c45b4d37a01e6e93461b32c8": {
      "model_module": "@jupyter-widgets/controls",
      "model_module_version": "1.2.0",
      "model_name": "ButtonStyleModel",
      "state": {}
     },
     "3baba7f87db642f787cd6a08a167292d": {
      "model_module": "@jupyter-widgets/base",
      "model_module_version": "1.0.0",
      "model_name": "LayoutModel",
      "state": {
       "justify_content": "center"
      }
     },
     "3bb95cf2266547d0b49390961b587b0b": {
      "model_module": "@jupyter-widgets/controls",
      "model_module_version": "1.2.0",
      "model_name": "DescriptionStyleModel",
      "state": {
       "description_width": ""
      }
     },
     "3bc212c514c74394b64219ca4dc2699c": {
      "model_module": "@jupyter-widgets/base",
      "model_module_version": "1.0.0",
      "model_name": "LayoutModel",
      "state": {}
     },
     "3bf06800587e4b48a0688160c248a7dc": {
      "model_module": "@jupyter-widgets/base",
      "model_module_version": "1.0.0",
      "model_name": "LayoutModel",
      "state": {}
     },
     "3c1270415af24c86a5ff22672ef6d2bd": {
      "model_module": "@jupyter-widgets/controls",
      "model_module_version": "1.2.0",
      "model_name": "HTMLModel",
      "state": {
       "layout": "IPY_MODEL_f3033a5a780f4559997793e353beae77",
       "style": "IPY_MODEL_448ef3d8f06243eabb50593e1214a9a5",
       "value": "<i>Vervollständigen Sie den Lückentext: </i>"
      }
     },
     "3c17e87eee094ae79e646df7a1ea69da": {
      "model_module": "@jupyter-widgets/controls",
      "model_module_version": "1.2.0",
      "model_name": "HTMLModel",
      "state": {
       "layout": "IPY_MODEL_0233919372824ebead2a33e424a6ae52",
       "style": "IPY_MODEL_64bf9263a936426ca571be2c1c659552",
       "value": "<h4 style=\"font-size:14px;\">Welcher ist der richtig permutierte Satz?</h4>"
      }
     },
     "3c1930bd1fda44cbac0848b3a3803042": {
      "model_module": "@jupyter-widgets/base",
      "model_module_version": "1.0.0",
      "model_name": "LayoutModel",
      "state": {
       "width": "150px"
      }
     },
     "3c43455d67474f8bafa3a3be185680a1": {
      "model_module": "@jupyter-widgets/controls",
      "model_module_version": "1.2.0",
      "model_name": "HTMLModel",
      "state": {
       "layout": "IPY_MODEL_fdcd4caa057843aa9d901edb21497235",
       "style": "IPY_MODEL_2946608f5a394683b610159b9e4f9312",
       "value": "<h4 style=\"font-size:14px;\">im Englischen.</h4>"
      }
     },
     "3c48d43dd5334dcb80cc649bbb6a155d": {
      "model_module": "@jupyter-widgets/controls",
      "model_module_version": "1.2.0",
      "model_name": "ButtonModel",
      "state": {
       "description": "3rd singular present",
       "layout": "IPY_MODEL_fcaa755f9efc4ce4922f85eeb981d2d0",
       "style": "IPY_MODEL_07e669d9de7641289bb6fd9732154009"
      }
     },
     "3c6ba3415494489ab501f71b20bbb5fe": {
      "model_module": "@jupyter-widgets/controls",
      "model_module_version": "1.2.0",
      "model_name": "CheckboxModel",
      "state": {
       "description": "Permutationstest",
       "disabled": false,
       "layout": "IPY_MODEL_c4203ce17ba4428bb0c0712c4efb23b1",
       "style": "IPY_MODEL_6bfcc1683a3041179e63573f8cb4875a",
       "value": false
      }
     },
     "3c7bd443c8b64bd592eced68212540a2": {
      "model_module": "@jupyter-widgets/controls",
      "model_module_version": "1.2.0",
      "model_name": "VBoxModel",
      "state": {
       "children": [
        "IPY_MODEL_8c6a6c300f53475cbd94e58aa76f6fc2",
        "IPY_MODEL_43aa1ede335947bc9cc38ada6d696beb",
        "IPY_MODEL_95580bbce87d4b03a1c16450bff36c32",
        "IPY_MODEL_47b6883fd4224929b9dc0c2e45002ad5"
       ],
       "layout": "IPY_MODEL_ae7e2baab9944aee9f13fe85440fb2cd"
      }
     },
     "3c842e5acc804917ae7e0489d064da3b": {
      "model_module": "@jupyter-widgets/controls",
      "model_module_version": "1.2.0",
      "model_name": "VBoxModel",
      "state": {
       "children": [
        "IPY_MODEL_603a09d9e7fc4c0097bcdf48ddcf41dc",
        "IPY_MODEL_a9433ec00a7447ffbd4dd940a48528f0",
        "IPY_MODEL_ae76812f24d74137b7bd55c93412d514",
        "IPY_MODEL_4b9cc7584b9440c0b0161d184fa29dfd",
        "IPY_MODEL_f1918eddb89d48088b6b70076144271f"
       ],
       "layout": "IPY_MODEL_deb72af68ac846889d645a391ef10048"
      }
     },
     "3cf79bd1b1764c48a5c85c9b3d9af47e": {
      "model_module": "@jupyter-widgets/controls",
      "model_module_version": "1.2.0",
      "model_name": "ButtonStyleModel",
      "state": {}
     },
     "3d181784fb024c52b2aea77096c547f8": {
      "model_module": "@jupyter-widgets/controls",
      "model_module_version": "1.2.0",
      "model_name": "ButtonStyleModel",
      "state": {}
     },
     "3d3cc4ab9b5049859b106c0c6c19ca13": {
      "model_module": "@jupyter-widgets/controls",
      "model_module_version": "1.2.0",
      "model_name": "HTMLModel",
      "state": {
       "layout": "IPY_MODEL_3a6bd93c93e8476ca4984b6837256724",
       "style": "IPY_MODEL_aa8ec83ca176499da3c83d195a5afc0c",
       "value": "<h4 style=\"font-size:14px;\">Wie wirt der POS-Tagger im NLTK aufgerufen?</h4>"
      }
     },
     "3d41676edb0b47eea59ee97fac61040d": {
      "model_module": "@jupyter-widgets/controls",
      "model_module_version": "1.2.0",
      "model_name": "VBoxModel",
      "state": {
       "children": [
        "IPY_MODEL_17f68f79937c4740964fedc65926e5fd",
        "IPY_MODEL_f6893f62d1a4464cb0839a3d7b7f4582",
        "IPY_MODEL_5c268e82d2954f31a88ce2e81a1ce71e",
        "IPY_MODEL_ce905a7c0fff42368966e7feae3b7430"
       ],
       "layout": "IPY_MODEL_9a9d4522ff20422eb040fd32dac85b79"
      }
     },
     "3d45549fa30d4f3aac0ff92e3a9d47cb": {
      "model_module": "@jupyter-widgets/controls",
      "model_module_version": "1.2.0",
      "model_name": "ButtonStyleModel",
      "state": {}
     },
     "3d5c4b17da9348bbbee6ed7aa30be90e": {
      "model_module": "@jupyter-widgets/base",
      "model_module_version": "1.0.0",
      "model_name": "LayoutModel",
      "state": {}
     },
     "3d5dd888875b454fab98d01de872c625": {
      "model_module": "@jupyter-widgets/base",
      "model_module_version": "1.0.0",
      "model_name": "LayoutModel",
      "state": {
       "width": "600px"
      }
     },
     "3d70368519974813b7b339c11b3980e2": {
      "model_module": "@jupyter-widgets/base",
      "model_module_version": "1.0.0",
      "model_name": "LayoutModel",
      "state": {
       "justify_content": "center"
      }
     },
     "3d73cafd7b394176b4357fc1a2fbb92d": {
      "model_module": "@jupyter-widgets/base",
      "model_module_version": "1.0.0",
      "model_name": "LayoutModel",
      "state": {
       "width": "600px"
      }
     },
     "3d8654f1aaba4923bd224e06493786f9": {
      "model_module": "@jupyter-widgets/controls",
      "model_module_version": "1.2.0",
      "model_name": "HBoxModel",
      "state": {
       "children": [
        "IPY_MODEL_e9dbde2e9d0f4de39b98250fdb26a2e5"
       ],
       "layout": "IPY_MODEL_a973926a45504bda8ad0f5d28d405033"
      }
     },
     "3db7795d7a874b629889006a28cf2357": {
      "model_module": "@jupyter-widgets/base",
      "model_module_version": "1.0.0",
      "model_name": "LayoutModel",
      "state": {
       "width": "250px"
      }
     },
     "3dc27bb6f1c24d1089f110e47435f3c6": {
      "model_module": "@jupyter-widgets/base",
      "model_module_version": "1.0.0",
      "model_name": "LayoutModel",
      "state": {
       "width": "600px"
      }
     },
     "3dd29a88129c4b0684d8a23fd340c393": {
      "model_module": "@jupyter-widgets/base",
      "model_module_version": "1.0.0",
      "model_name": "LayoutModel",
      "state": {}
     },
     "3e01a42a09cf4157aea64fd8a85fe468": {
      "model_module": "@jupyter-widgets/base",
      "model_module_version": "1.0.0",
      "model_name": "LayoutModel",
      "state": {
       "justify_content": "center"
      }
     },
     "3e3e256a04e94464a7ade9bc8f81a708": {
      "model_module": "@jupyter-widgets/controls",
      "model_module_version": "1.2.0",
      "model_name": "HTMLModel",
      "state": {
       "layout": "IPY_MODEL_28a37dd4689c43dfac0c82c14ed219a7",
       "style": "IPY_MODEL_7d8389e78d624545b4b8cff17780f7b9",
       "value": "<i>Wählen Sie die <ins>eine</ins> korrekte Antwort aus: </i>"
      }
     },
     "3e43a0d8ba0544cabc0d0adb823c7cc5": {
      "model_module": "@jupyter-widgets/controls",
      "model_module_version": "1.2.0",
      "model_name": "HTMLModel",
      "state": {
       "layout": "IPY_MODEL_b2943dd8c6654a83b10cde3b74478200",
       "style": "IPY_MODEL_a8f1b6f09a8e4bd68f5bce30a97fc1eb",
       "value": "<h4 style=\"font-size:14px;\">Welche Wortart könnte man für das Wort <i>gut</i> in Satz 2 vermuten, wenn man Adverbien nicht morphologisch, sondern semantisch charakterisiert (als Wortart, die der Modifizierung des Verbalgeschehens dient)?</h4>"
      }
     },
     "3e4c83f3dd4a4b48977859434bdc9844": {
      "model_module": "@jupyter-widgets/controls",
      "model_module_version": "1.2.0",
      "model_name": "HBoxModel",
      "state": {
       "children": [
        "IPY_MODEL_d3c4910aadc642688daab02630babe46",
        "IPY_MODEL_698934991e604e7091afc68910b5de94"
       ],
       "layout": "IPY_MODEL_8712d3d7dfcc4a4c8714494ff4b84dc4"
      }
     },
     "3e5898a0dc8b4e739209021e1b7311d6": {
      "model_module": "@jupyter-widgets/controls",
      "model_module_version": "1.2.0",
      "model_name": "ButtonStyleModel",
      "state": {}
     },
     "3e5b353e074b483ba98c2dc390330156": {
      "model_module": "@jupyter-widgets/controls",
      "model_module_version": "1.2.0",
      "model_name": "HBoxModel",
      "state": {
       "children": [
        "IPY_MODEL_22183340981f45e5bdb83b9c636dadd0"
       ],
       "layout": "IPY_MODEL_b2edddb21b4944d388828df262730bb5"
      }
     },
     "3e6f75c27efb4c2daa0b086bd819dd5b": {
      "model_module": "@jupyter-widgets/controls",
      "model_module_version": "1.2.0",
      "model_name": "HTMLModel",
      "state": {
       "layout": "IPY_MODEL_e3eb798663d94d0386980d4419b63560",
       "style": "IPY_MODEL_0234d0edebe2422fac6f6ee955c04775",
       "value": "<h4 style=\"font-size:14px;\">Kategorie.</h4>"
      }
     },
     "3eab1a5cddee4c9c8b3ee0079d53b772": {
      "model_module": "@jupyter-widgets/base",
      "model_module_version": "1.0.0",
      "model_name": "LayoutModel",
      "state": {
       "width": "250px"
      }
     },
     "3ec4d05df2cf4cc298b5350b6ea939cf": {
      "model_module": "@jupyter-widgets/controls",
      "model_module_version": "1.2.0",
      "model_name": "DescriptionStyleModel",
      "state": {
       "description_width": ""
      }
     },
     "3ed9d684eaf1423980bdb7b70b862ecb": {
      "model_module": "@jupyter-widgets/base",
      "model_module_version": "1.0.0",
      "model_name": "LayoutModel",
      "state": {}
     },
     "3f27e676d1a649a49e0fe8b1ab454b0e": {
      "model_module": "@jupyter-widgets/base",
      "model_module_version": "1.0.0",
      "model_name": "LayoutModel",
      "state": {}
     },
     "3f2f666f057c4332be09ebab30076935": {
      "model_module": "@jupyter-widgets/base",
      "model_module_version": "1.0.0",
      "model_name": "LayoutModel",
      "state": {}
     },
     "3f6e880acdd04750baa056c07fd969f6": {
      "model_module": "@jupyter-widgets/base",
      "model_module_version": "1.0.0",
      "model_name": "LayoutModel",
      "state": {}
     },
     "3fb0cf89c227438982c39b1303a7d496": {
      "model_module": "@jupyter-widgets/base",
      "model_module_version": "1.0.0",
      "model_name": "LayoutModel",
      "state": {
       "justify_content": "center"
      }
     },
     "3fb17628615c45039eb2eebb607f8387": {
      "model_module": "@jupyter-widgets/base",
      "model_module_version": "1.0.0",
      "model_name": "LayoutModel",
      "state": {}
     },
     "3fdf5a1f5fac49f5a35daac6d45e625a": {
      "model_module": "@jupyter-widgets/controls",
      "model_module_version": "1.2.0",
      "model_name": "ButtonModel",
      "state": {
       "description": "Korrekt?",
       "layout": "IPY_MODEL_0dfb2c21876f4bafa8943678dbd408cd",
       "style": "IPY_MODEL_a606d227ee21487ab47a96add3d04d5f"
      }
     },
     "3ff92a4dc7684a0f85df0bf48a6a1531": {
      "model_module": "@jupyter-widgets/controls",
      "model_module_version": "1.2.0",
      "model_name": "DropdownModel",
      "state": {
       "_options_labels": [
        "Konstituenten",
        "Phrasen",
        " "
       ],
       "index": 2,
       "layout": "IPY_MODEL_2e6072f4a586409a87a082d39d1cb505",
       "style": "IPY_MODEL_bde95fc970ab4ce9b3c6e36e7b2a8bb2"
      }
     },
     "4018389bca8a48629054cb0522546a6e": {
      "model_module": "@jupyter-widgets/base",
      "model_module_version": "1.0.0",
      "model_name": "LayoutModel",
      "state": {}
     },
     "4033574f1f3d4ba1a694cb38b70e67c0": {
      "model_module": "@jupyter-widgets/controls",
      "model_module_version": "1.2.0",
      "model_name": "DescriptionStyleModel",
      "state": {
       "description_width": ""
      }
     },
     "40396045486f4cdc8c5bd254fdb9a956": {
      "model_module": "@jupyter-widgets/base",
      "model_module_version": "1.0.0",
      "model_name": "LayoutModel",
      "state": {}
     },
     "404ee1cdeb4d444e9e87d64373c1f079": {
      "model_module": "@jupyter-widgets/base",
      "model_module_version": "1.0.0",
      "model_name": "LayoutModel",
      "state": {
       "width": "600px"
      }
     },
     "404fa525ea954917a8876c266354841f": {
      "model_module": "@jupyter-widgets/base",
      "model_module_version": "1.0.0",
      "model_name": "LayoutModel",
      "state": {}
     },
     "406b53f12bf44caa84e129075960dbc2": {
      "model_module": "@jupyter-widgets/controls",
      "model_module_version": "1.2.0",
      "model_name": "ButtonModel",
      "state": {
       "description": "base",
       "layout": "IPY_MODEL_e49c8d27c0eb4712a40957696de44fa1",
       "style": "IPY_MODEL_24443ef8eab4439bb491056336cbde2b"
      }
     },
     "406e8c600ac24d2092e9c41e3ffb8533": {
      "model_module": "@jupyter-widgets/base",
      "model_module_version": "1.0.0",
      "model_name": "LayoutModel",
      "state": {
       "width": "600px"
      }
     },
     "4078ca2867cf473f945784bc6b15804f": {
      "model_module": "@jupyter-widgets/controls",
      "model_module_version": "1.2.0",
      "model_name": "CheckboxModel",
      "state": {
       "description": "gleicher Kontext",
       "disabled": false,
       "layout": "IPY_MODEL_3d73cafd7b394176b4357fc1a2fbb92d",
       "style": "IPY_MODEL_e102a1d1ce8040d89a7d1ac336392fd6",
       "value": false
      }
     },
     "40addfbe80ad4f619d193ba65efbd0a9": {
      "model_module": "@jupyter-widgets/base",
      "model_module_version": "1.0.0",
      "model_name": "LayoutModel",
      "state": {
       "justify_content": "center"
      }
     },
     "40c4e8ea76b944579a7b5f61ec1e3164": {
      "model_module": "@jupyter-widgets/controls",
      "model_module_version": "1.2.0",
      "model_name": "ButtonStyleModel",
      "state": {}
     },
     "40d9f8dba13c4dafb61c2a295bb3d1bf": {
      "model_module": "@jupyter-widgets/controls",
      "model_module_version": "1.2.0",
      "model_name": "HTMLModel",
      "state": {
       "layout": "IPY_MODEL_345f29516c834edeac91b80076141c64",
       "style": "IPY_MODEL_fab84733ddb34543b5c08209b312fa0f",
       "value": "<h4 style=\"font-size:14px;\">Das Partizip <i>Verloren<i> ist eine</h4>"
      }
     },
     "40df080766244e4dbcd9e752969ed7dd": {
      "model_module": "@jupyter-widgets/controls",
      "model_module_version": "1.2.0",
      "model_name": "VBoxModel",
      "state": {
       "children": [
        "IPY_MODEL_1c207a7eeb3148ce90d2f79285b8c95e",
        "IPY_MODEL_08bcd47bfe174064adaa1e4107174440",
        "IPY_MODEL_d507645ada814132a5ab22e7e6816990"
       ],
       "layout": "IPY_MODEL_647aaaca181646b5b40375c0249c892a"
      }
     },
     "4108c333d2384fe08d5e7a34c2f25929": {
      "model_module": "@jupyter-widgets/controls",
      "model_module_version": "1.2.0",
      "model_name": "DescriptionStyleModel",
      "state": {
       "description_width": ""
      }
     },
     "41430c496669487bb40b270f923c0292": {
      "model_module": "@jupyter-widgets/controls",
      "model_module_version": "1.2.0",
      "model_name": "ButtonStyleModel",
      "state": {}
     },
     "418e482010154aef832997d78291982c": {
      "model_module": "@jupyter-widgets/controls",
      "model_module_version": "1.2.0",
      "model_name": "HBoxModel",
      "state": {
       "children": [
        "IPY_MODEL_a7bb67ef76c743cfa3decf3f9b52db6d",
        "IPY_MODEL_d3d98c6bc09146109a1987a566b3653c"
       ],
       "layout": "IPY_MODEL_1aec29d86085410ba96e70f1d1accf0d"
      }
     },
     "41ac55ad398f41f3813834478f625784": {
      "model_module": "@jupyter-widgets/controls",
      "model_module_version": "1.2.0",
      "model_name": "BoxModel",
      "state": {
       "children": [
        "IPY_MODEL_d1912f7047b4462093463c0ccd8adfde",
        "IPY_MODEL_9daa762f50534d748643d3fbc9ec2ba6",
        "IPY_MODEL_56942630916848aeaa14b6874f98cd46",
        "IPY_MODEL_b69e33aaaa044e079ae1a8799f7d8327",
        "IPY_MODEL_88526e554f1640f6b5fb6aaba2fc7e0c"
       ],
       "layout": "IPY_MODEL_9bdaa5c67dc64ed28676c2f79a73cc24"
      }
     },
     "41d896fa9b424de4bf85536f979cc44e": {
      "model_module": "@jupyter-widgets/controls",
      "model_module_version": "1.2.0",
      "model_name": "DescriptionStyleModel",
      "state": {
       "description_width": ""
      }
     },
     "42021eebbf5240f7889a33793bd85a43": {
      "model_module": "@jupyter-widgets/controls",
      "model_module_version": "1.2.0",
      "model_name": "CheckboxModel",
      "state": {
       "description": "Eliminierungstest",
       "disabled": false,
       "layout": "IPY_MODEL_65a0d3dcc83341b481785c99146888bd",
       "style": "IPY_MODEL_d14e70823dec4082840c7408864c5fe8",
       "value": false
      }
     },
     "4263aaaf0b0a4035827b5675b7027c1d": {
      "model_module": "@jupyter-widgets/base",
      "model_module_version": "1.0.0",
      "model_name": "LayoutModel",
      "state": {}
     },
     "4299741124d1494b8eebc46175efa391": {
      "model_module": "@jupyter-widgets/base",
      "model_module_version": "1.0.0",
      "model_name": "LayoutModel",
      "state": {
       "justify_content": "center"
      }
     },
     "42aca485ff3249dfa2ec634cbf875d33": {
      "model_module": "@jupyter-widgets/base",
      "model_module_version": "1.0.0",
      "model_name": "LayoutModel",
      "state": {
       "width": "250px"
      }
     },
     "42b2c86d3dce4f7e8bc9307a0e624239": {
      "model_module": "@jupyter-widgets/base",
      "model_module_version": "1.0.0",
      "model_name": "LayoutModel",
      "state": {
       "width": "150px"
      }
     },
     "42c6b056fc4f406fbf27344989546f67": {
      "model_module": "@jupyter-widgets/base",
      "model_module_version": "1.0.0",
      "model_name": "LayoutModel",
      "state": {
       "width": "250px"
      }
     },
     "42ce06315cb74e3bb4acc12c8d6ab66c": {
      "model_module": "@jupyter-widgets/base",
      "model_module_version": "1.0.0",
      "model_name": "LayoutModel",
      "state": {
       "justify_content": "center"
      }
     },
     "42fb032963e049e6b3b1c680c78338e9": {
      "model_module": "@jupyter-widgets/controls",
      "model_module_version": "1.2.0",
      "model_name": "DescriptionStyleModel",
      "state": {
       "description_width": "initial"
      }
     },
     "430805e5c1a44d57aa40644f25a5f695": {
      "model_module": "@jupyter-widgets/controls",
      "model_module_version": "1.2.0",
      "model_name": "ButtonStyleModel",
      "state": {}
     },
     "439afd84567d41e2af346b2a84c985f5": {
      "model_module": "@jupyter-widgets/controls",
      "model_module_version": "1.2.0",
      "model_name": "HTMLModel",
      "state": {
       "layout": "IPY_MODEL_22a2c95ffbf74dfeb1393add9dac8f22",
       "style": "IPY_MODEL_2452662eaaae4b37bae080637df6a562",
       "value": "<h4 style=\"font-size:14px;\">Was ist der Output eines Part-of-Speech-Taggers?</h4>"
      }
     },
     "43aa1ede335947bc9cc38ada6d696beb": {
      "model_module": "@jupyter-widgets/controls",
      "model_module_version": "1.2.0",
      "model_name": "HTMLModel",
      "state": {
       "layout": "IPY_MODEL_f17ce0bc1f8c479c8d2a2c38347bce47",
       "style": "IPY_MODEL_4b6c248db6ee49858a0ca7107e163a02",
       "value": "<i>Markieren Sie <ins>alle</ins> passenden Antworten: </i>"
      }
     },
     "43b65d9aec544059ad8edb78d6d45554": {
      "model_module": "@jupyter-widgets/controls",
      "model_module_version": "1.2.0",
      "model_name": "HBoxModel",
      "state": {
       "children": [
        "IPY_MODEL_fd2191e8a92d44988d309d5941d84c79"
       ],
       "layout": "IPY_MODEL_1a2dacff383c45d3a13e0728478b2396"
      }
     },
     "43d1637682f5491b9f61edc8df84799b": {
      "model_module": "@jupyter-widgets/base",
      "model_module_version": "1.0.0",
      "model_name": "LayoutModel",
      "state": {
       "width": "250px"
      }
     },
     "43fac2b8474542a0b6e34dc3400553e1": {
      "model_module": "@jupyter-widgets/controls",
      "model_module_version": "1.2.0",
      "model_name": "TextareaModel",
      "state": {
       "layout": "IPY_MODEL_22ca28ebf5ff4ca2b233c9743b8f4c85",
       "placeholder": "Type something",
       "style": "IPY_MODEL_fbff42fd1ddb4cb0837d250230d76e35",
       "value": "nltk.____()"
      }
     },
     "4425f649d7c14a11bffb4b83e69b9398": {
      "model_module": "@jupyter-widgets/controls",
      "model_module_version": "1.2.0",
      "model_name": "HBoxModel",
      "state": {
       "children": [
        "IPY_MODEL_8f3669e82ac8415d97068c7dadc33613",
        "IPY_MODEL_0524018ea7f64de99dbd920334c74455"
       ],
       "layout": "IPY_MODEL_c291c48acf6f42ccaf3650a724542b2b"
      }
     },
     "446a6eea3fcf4cfa9392400aaa7b5536": {
      "model_module": "@jupyter-widgets/base",
      "model_module_version": "1.0.0",
      "model_name": "LayoutModel",
      "state": {
       "width": "600px"
      }
     },
     "448ef3d8f06243eabb50593e1214a9a5": {
      "model_module": "@jupyter-widgets/controls",
      "model_module_version": "1.2.0",
      "model_name": "DescriptionStyleModel",
      "state": {
       "description_width": ""
      }
     },
     "44948936b9314eb4b537d13cd5d2f81d": {
      "model_module": "@jupyter-widgets/base",
      "model_module_version": "1.0.0",
      "model_name": "LayoutModel",
      "state": {
       "justify_content": "center"
      }
     },
     "44c1bed22507449cb27fa085fed59b78": {
      "model_module": "@jupyter-widgets/controls",
      "model_module_version": "1.2.0",
      "model_name": "CheckboxModel",
      "state": {
       "description": "Es bezeichnet die näheren Umstände des im Verb ausgedrückten Geschehens.",
       "disabled": false,
       "layout": "IPY_MODEL_5f1757f90bbf48a989608d3d4aef67e4",
       "style": "IPY_MODEL_96cf6d48899f466e917c36f9c5fc97c7",
       "value": false
      }
     },
     "44c76c82597b41b0baca08c407f24945": {
      "model_module": "@jupyter-widgets/controls",
      "model_module_version": "1.2.0",
      "model_name": "ButtonModel",
      "state": {
       "description": "Keine der anderen Möglichkeiten",
       "layout": "IPY_MODEL_75c069bad4be4cf6b1c281800a1975be",
       "style": "IPY_MODEL_5b4d9e8199da413db8e071ba02c9cbee"
      }
     },
     "44ed58a8da1f4cde8059bb1f88ae1f19": {
      "model_module": "@jupyter-widgets/controls",
      "model_module_version": "1.2.0",
      "model_name": "DescriptionStyleModel",
      "state": {
       "description_width": ""
      }
     },
     "44f4152dac394a5d83b7c76d4c6decc3": {
      "model_module": "@jupyter-widgets/controls",
      "model_module_version": "1.2.0",
      "model_name": "HTMLModel",
      "state": {
       "layout": "IPY_MODEL_bfef1d7b2de54a3f9a85bfd5f6a8c769",
       "style": "IPY_MODEL_7bea3366569a477cbc5931e0de409f7e",
       "value": "<h4 style=\"font-size:14px;\">-Tupeln aus einem englischen Korpus erstellt. Zeile 2 und 3 dienen der Erzeugung einer Frequenzliste von POS-Tags derjenigen Bigramme, deren zweites Element das POS-Tag</h4>"
      }
     },
     "45073be3e586403cbbb6b206ff64fea0": {
      "model_module": "@jupyter-widgets/base",
      "model_module_version": "1.0.0",
      "model_name": "LayoutModel",
      "state": {
       "justify_content": "center"
      }
     },
     "4512412b47af47af9c6377e570a4b6e3": {
      "model_module": "@jupyter-widgets/controls",
      "model_module_version": "1.2.0",
      "model_name": "DropdownModel",
      "state": {
       "_options_labels": [
        "Konstituenten",
        "Phrasen",
        " "
       ],
       "index": 2,
       "layout": "IPY_MODEL_f2307be0fe704421beaf86f154d5c25d",
       "style": "IPY_MODEL_3a16e1e5fc074c27af119329a5ad8eee"
      }
     },
     "4515f29be5654fa6ae71e7f3be609a73": {
      "model_module": "@jupyter-widgets/base",
      "model_module_version": "1.0.0",
      "model_name": "LayoutModel",
      "state": {
       "width": "250px"
      }
     },
     "4565378f525f4dc192240e4a71b85655": {
      "model_module": "@jupyter-widgets/controls",
      "model_module_version": "1.2.0",
      "model_name": "HTMLModel",
      "state": {
       "layout": "IPY_MODEL_6fce487dd4c743bc8a03ed0162218845",
       "style": "IPY_MODEL_d6370f6837a74a98b6aa2b72a67751de",
       "value": "<h4 style=\"font-size:14px;\">Sequenz unter Erhalt der</h4>"
      }
     },
     "458f2b415beb4b73b8f4292dd82ee691": {
      "model_module": "@jupyter-widgets/controls",
      "model_module_version": "1.2.0",
      "model_name": "HTMLModel",
      "state": {
       "layout": "IPY_MODEL_f200df20c8ee405c8ffa6e9e794589c4",
       "style": "IPY_MODEL_f09921b643e64a91a893224d8349d1bc",
       "value": "<h4 style=\"font-size:14px;\">im Englischen.</h4>"
      }
     },
     "459a73329ca84ba1b3f4ded01aad5023": {
      "model_module": "@jupyter-widgets/base",
      "model_module_version": "1.0.0",
      "model_name": "LayoutModel",
      "state": {}
     },
     "45d18dc290224108a63eefaaf131905e": {
      "model_module": "@jupyter-widgets/controls",
      "model_module_version": "1.2.0",
      "model_name": "HTMLModel",
      "state": {
       "layout": "IPY_MODEL_ffc16f8035694b59b037db1d047611cf",
       "style": "IPY_MODEL_56d30d2f607d49e98f51fbf039a50b36",
       "value": "<i>Wählen Sie die <ins>eine</ins> korrekte Antwort aus: </i>"
      }
     },
     "45e8f7dd26a3402b8e4adbd9ee6295fc": {
      "model_module": "@jupyter-widgets/controls",
      "model_module_version": "1.2.0",
      "model_name": "ButtonModel",
      "state": {
       "description": "Korrekt?",
       "layout": "IPY_MODEL_6775a5da67b24e478d537f13852c5852",
       "style": "IPY_MODEL_71d35e551c444f78a674fff5f2ef322e"
      }
     },
     "45efc85f98d446cd89f89f935005640a": {
      "model_module": "@jupyter-widgets/controls",
      "model_module_version": "1.2.0",
      "model_name": "HTMLModel",
      "state": {
       "layout": "IPY_MODEL_3e01a42a09cf4157aea64fd8a85fe468",
       "style": "IPY_MODEL_27ea8cc795c34a7995165028b8e4002d",
       "value": "<i>Markieren Sie <ins>alle</ins> passenden Antworten: </i>"
      }
     },
     "45fe757805784a8b93f6dfeac823c870": {
      "model_module": "@jupyter-widgets/base",
      "model_module_version": "1.0.0",
      "model_name": "LayoutModel",
      "state": {}
     },
     "465cbc40c8a840a29fadf48862fbaf3c": {
      "model_module": "@jupyter-widgets/base",
      "model_module_version": "1.0.0",
      "model_name": "LayoutModel",
      "state": {}
     },
     "46787a55e45a45f38d16cef90d6e1601": {
      "model_module": "@jupyter-widgets/controls",
      "model_module_version": "1.2.0",
      "model_name": "DescriptionStyleModel",
      "state": {
       "description_width": ""
      }
     },
     "4678aff4402e46a1b1366d08a016c7c0": {
      "model_module": "@jupyter-widgets/controls",
      "model_module_version": "1.2.0",
      "model_name": "VBoxModel",
      "state": {
       "children": [
        "IPY_MODEL_34e224061bfb4f5e957668acd551a09c",
        "IPY_MODEL_cc4bba474d3b46cbaf0de568ade47880",
        "IPY_MODEL_99cd6841c45847e6997175909fc677fd",
        "IPY_MODEL_a93f70c680ff4a95a2e1c908104a6860"
       ],
       "layout": "IPY_MODEL_77ef4425dd334fc9853f82bcc228598c"
      }
     },
     "46adb7e5cae04dc9b93ac1922c1f3aa5": {
      "model_module": "@jupyter-widgets/controls",
      "model_module_version": "1.2.0",
      "model_name": "CheckboxModel",
      "state": {
       "description": "Nur beginnt eine Reise von tausend Meilen auch mit einem Schritt",
       "disabled": false,
       "layout": "IPY_MODEL_f91e9ae55f0944e5b8d9c8d5961e003c",
       "style": "IPY_MODEL_76bb912bafce489da9b2cc82639af0d2",
       "value": false
      }
     },
     "46af242726b04d149885187098ca4819": {
      "model_module": "@jupyter-widgets/base",
      "model_module_version": "1.0.0",
      "model_name": "LayoutModel",
      "state": {
       "width": "250px"
      }
     },
     "46c9b08f3fc84f37b62dcf3f201420e3": {
      "model_module": "@jupyter-widgets/base",
      "model_module_version": "1.0.0",
      "model_name": "LayoutModel",
      "state": {
       "width": "250px"
      }
     },
     "47338cc8dbad4b56b2e5425b88eea8ac": {
      "model_module": "@jupyter-widgets/controls",
      "model_module_version": "1.2.0",
      "model_name": "HTMLModel",
      "state": {
       "layout": "IPY_MODEL_2165a55cccef4b48ac71465702c3f393",
       "style": "IPY_MODEL_b6efe2b67c4240069e67dbd07469d3df",
       "value": "<h4 style=\"font-size:14px;\">Was leistet die Funktion <code>nltk.similar()</code>?</h4>"
      }
     },
     "474355e40e384192ab3f362997a96426": {
      "model_module": "@jupyter-widgets/controls",
      "model_module_version": "1.2.0",
      "model_name": "HBoxModel",
      "state": {
       "children": [
        "IPY_MODEL_1a5582a643c84ba9806127da0642e58c",
        "IPY_MODEL_5a8ff579b0094ba192ee89618aa4ad52"
       ],
       "layout": "IPY_MODEL_81af7728b5d64833b16080914f22fc3d"
      }
     },
     "4744cb932c694443909ecd91d1f69309": {
      "model_module": "@jupyter-widgets/controls",
      "model_module_version": "1.2.0",
      "model_name": "BoxModel",
      "state": {
       "children": [
        "IPY_MODEL_6927d63d9d1e47a28c5004f502f57875",
        "IPY_MODEL_336756ac86aa49caab28ebb93010ff18",
        "IPY_MODEL_1d5068201cc840e08c27039d08ab52ba",
        "IPY_MODEL_dbd8e4e70153456ca7d9b2c10df23a6d",
        "IPY_MODEL_f127f5441bbb40f5884218ad56b6897a"
       ],
       "layout": "IPY_MODEL_c3741e4919174d60bc34e0947590b64a"
      }
     },
     "474c048dceea40d1ad1fa62d3eb413d1": {
      "model_module": "@jupyter-widgets/base",
      "model_module_version": "1.0.0",
      "model_name": "LayoutModel",
      "state": {}
     },
     "47b6883fd4224929b9dc0c2e45002ad5": {
      "model_module": "@jupyter-widgets/controls",
      "model_module_version": "1.2.0",
      "model_name": "ButtonModel",
      "state": {
       "description": "Korrekt?",
       "layout": "IPY_MODEL_af0d8f2c59e242d4aee560055e27dbd5",
       "style": "IPY_MODEL_fa28752d3c314659a103a6e55db88981"
      }
     },
     "47f9d254fdee43c7b68e5904a83bfb1e": {
      "model_module": "@jupyter-widgets/base",
      "model_module_version": "1.0.0",
      "model_name": "LayoutModel",
      "state": {}
     },
     "480c8b4f91f943cf9cd559906123a8c3": {
      "model_module": "@jupyter-widgets/controls",
      "model_module_version": "1.2.0",
      "model_name": "DescriptionStyleModel",
      "state": {
       "description_width": ""
      }
     },
     "48279469d78a4130b393c2d4fd602494": {
      "model_module": "@jupyter-widgets/controls",
      "model_module_version": "1.2.0",
      "model_name": "ButtonStyleModel",
      "state": {}
     },
     "483ed7de56e542f6ad96631b5d4b5216": {
      "model_module": "@jupyter-widgets/controls",
      "model_module_version": "1.2.0",
      "model_name": "HTMLModel",
      "state": {
       "layout": "IPY_MODEL_d9e09cc7a7454c2ebc78491efa14d260",
       "style": "IPY_MODEL_8c6b2c117de04786aef7e1017bbf82c5",
       "value": "<i>Wählen Sie die <ins>eine</ins> korrekte Antwort aus: </i>"
      }
     },
     "484540af1835424ba25fab9764b5d756": {
      "model_module": "@jupyter-widgets/base",
      "model_module_version": "1.0.0",
      "model_name": "LayoutModel",
      "state": {}
     },
     "4847af4dd1374f229c575182dcb9f236": {
      "model_module": "@jupyter-widgets/base",
      "model_module_version": "1.0.0",
      "model_name": "LayoutModel",
      "state": {
       "width": "600px"
      }
     },
     "486366e527ee411389f288a5b5dd7617": {
      "model_module": "@jupyter-widgets/controls",
      "model_module_version": "1.2.0",
      "model_name": "CheckboxModel",
      "state": {
       "description": "Eliminierungstest",
       "disabled": false,
       "layout": "IPY_MODEL_0cc5c36542ba4b77b3cd9bf13120b720",
       "style": "IPY_MODEL_a1d5ea56b17c42708fd486cc8e7ca583",
       "value": false
      }
     },
     "48651f62db034c5faec426ae82486908": {
      "model_module": "@jupyter-widgets/base",
      "model_module_version": "1.0.0",
      "model_name": "LayoutModel",
      "state": {}
     },
     "48b67b67432e4e3c89334baad4b65362": {
      "model_module": "@jupyter-widgets/controls",
      "model_module_version": "1.2.0",
      "model_name": "ButtonModel",
      "state": {
       "description": "Adjektiv",
       "layout": "IPY_MODEL_5d8a0978d1e748698a11e0f1f0aab1b5",
       "style": "IPY_MODEL_3981eb89486742a2ac948abae1bb8b7a"
      }
     },
     "48b961676c4441a19aeebbe59e2bcee2": {
      "model_module": "@jupyter-widgets/controls",
      "model_module_version": "1.2.0",
      "model_name": "VBoxModel",
      "state": {
       "children": [
        "IPY_MODEL_906b69f72a4b44c188b803014809831d",
        "IPY_MODEL_98e8e323f4744dbc98db22ad16f6e8d3",
        "IPY_MODEL_8a41a87a807a40218afeda7bf7e797f9",
        "IPY_MODEL_2e4affeee29c491f89a6c7518206ec5d"
       ],
       "layout": "IPY_MODEL_0e349974a694427793b7b9733f6f3954"
      }
     },
     "48d707cdb2c4421e98dbb86713015e7d": {
      "model_module": "@jupyter-widgets/controls",
      "model_module_version": "1.2.0",
      "model_name": "HTMLModel",
      "state": {
       "layout": "IPY_MODEL_95bef34a728a4057b19478e5abe83111",
       "style": "IPY_MODEL_da78ef67fcf843fda72611510b9c008f",
       "value": "<i>Wählen Sie die <ins>eine</ins> korrekte Antwort aus: </i>"
      }
     },
     "48f3232588184eb6a806bc1123d048a8": {
      "model_module": "@jupyter-widgets/controls",
      "model_module_version": "1.2.0",
      "model_name": "ButtonModel",
      "state": {
       "description": "3rd singular present",
       "layout": "IPY_MODEL_0a03fb8f81994d1ba84d61e06e89e4d3",
       "style": "IPY_MODEL_a580f912d78b40f08b231307311d3cde"
      }
     },
     "4901d2a98be54e86ab8670f7663abc3c": {
      "model_module": "@jupyter-widgets/base",
      "model_module_version": "1.0.0",
      "model_name": "LayoutModel",
      "state": {
       "width": "250px"
      }
     },
     "4924c0c20ba94dd7af23ad7b42022f89": {
      "model_module": "@jupyter-widgets/controls",
      "model_module_version": "1.2.0",
      "model_name": "HTMLModel",
      "state": {
       "layout": "IPY_MODEL_25396274734643d09c236e5ce62b1bea",
       "style": "IPY_MODEL_6df76d1fe06a406ea8d393fd5515d7c8",
       "value": "<h4 style=\"font-size:14px;\">Welche Eigenschaften hat <i>gerne</i> in Satz 1?</h4>"
      }
     },
     "494180e8440842f19cd945c2b599974b": {
      "model_module": "@jupyter-widgets/base",
      "model_module_version": "1.0.0",
      "model_name": "LayoutModel",
      "state": {
       "justify_content": "center"
      }
     },
     "495059cca72240599f83408d249622d2": {
      "model_module": "@jupyter-widgets/base",
      "model_module_version": "1.0.0",
      "model_name": "LayoutModel",
      "state": {
       "justify_content": "center"
      }
     },
     "497346ef65394f60bff1cf1293383b82": {
      "model_module": "@jupyter-widgets/controls",
      "model_module_version": "1.2.0",
      "model_name": "DescriptionStyleModel",
      "state": {
       "description_width": ""
      }
     },
     "49c25e318118469ea26e1fbcc8158f4c": {
      "model_module": "@jupyter-widgets/controls",
      "model_module_version": "1.2.0",
      "model_name": "ButtonModel",
      "state": {
       "description": "base",
       "layout": "IPY_MODEL_c71e3e2ddb204a919ac9de4f2461b7cd",
       "style": "IPY_MODEL_e14c07b01d0f427aa54fc347b3fb9fab"
      }
     },
     "4a052e582d034c3993c85761f071bd3b": {
      "model_module": "@jupyter-widgets/base",
      "model_module_version": "1.0.0",
      "model_name": "LayoutModel",
      "state": {
       "width": "600px"
      }
     },
     "4a16689f506941589fed889195739ec5": {
      "model_module": "@jupyter-widgets/controls",
      "model_module_version": "1.2.0",
      "model_name": "ButtonStyleModel",
      "state": {}
     },
     "4a30b455ae274b75b80efeb2e6950802": {
      "model_module": "@jupyter-widgets/controls",
      "model_module_version": "1.2.0",
      "model_name": "ButtonModel",
      "state": {
       "description": "simple past",
       "layout": "IPY_MODEL_1b2fe743d9084475b46fe137bb52648e",
       "style": "IPY_MODEL_3e5898a0dc8b4e739209021e1b7311d6"
      }
     },
     "4a6dcc71ca8e46008a772e84710eddcc": {
      "model_module": "@jupyter-widgets/controls",
      "model_module_version": "1.2.0",
      "model_name": "BoxModel",
      "state": {
       "children": [
        "IPY_MODEL_69c3db767bab4898bf4e5f62b4940e21",
        "IPY_MODEL_12617eb065ca41629bfee6fa984e4a63",
        "IPY_MODEL_26a5c624d24e46c1ad21c58e4d8b91fa",
        "IPY_MODEL_b1a1df2da7be4695ac01b079ed12a2b7",
        "IPY_MODEL_9e4dfa03f0714b53a98926edcce186ec",
        "IPY_MODEL_262213e7d3584a928726126af9e0bda5",
        "IPY_MODEL_32775d1596fe484b8c3c5b95afa67876"
       ],
       "layout": "IPY_MODEL_a23f4b787d8642c89e204793b8282f2d"
      }
     },
     "4a78bd96d7d94bbcbed8e19bc3c1b3e2": {
      "model_module": "@jupyter-widgets/base",
      "model_module_version": "1.0.0",
      "model_name": "LayoutModel",
      "state": {}
     },
     "4a9427686b4a4a4ea9d8bb2eb1e1e30f": {
      "model_module": "@jupyter-widgets/controls",
      "model_module_version": "1.2.0",
      "model_name": "DescriptionStyleModel",
      "state": {
       "description_width": ""
      }
     },
     "4a95eebef8c74290b0eb726bd7a9d217": {
      "model_module": "@jupyter-widgets/controls",
      "model_module_version": "1.2.0",
      "model_name": "ButtonStyleModel",
      "state": {}
     },
     "4abbc9870bed48bd86693976644862f7": {
      "model_module": "@jupyter-widgets/controls",
      "model_module_version": "1.2.0",
      "model_name": "ButtonStyleModel",
      "state": {}
     },
     "4ad9ad4f5181424696f718206e04a9b5": {
      "model_module": "@jupyter-widgets/base",
      "model_module_version": "1.0.0",
      "model_name": "LayoutModel",
      "state": {}
     },
     "4af5b8d83a964a9fb980c3da37f37847": {
      "model_module": "@jupyter-widgets/base",
      "model_module_version": "1.0.0",
      "model_name": "LayoutModel",
      "state": {
       "width": "600px"
      }
     },
     "4b1a0229ac72463fb8de90b670b7a6fa": {
      "model_module": "@jupyter-widgets/base",
      "model_module_version": "1.0.0",
      "model_name": "LayoutModel",
      "state": {}
     },
     "4b6c248db6ee49858a0ca7107e163a02": {
      "model_module": "@jupyter-widgets/controls",
      "model_module_version": "1.2.0",
      "model_name": "DescriptionStyleModel",
      "state": {
       "description_width": ""
      }
     },
     "4b9cc7584b9440c0b0161d184fa29dfd": {
      "model_module": "@jupyter-widgets/controls",
      "model_module_version": "1.2.0",
      "model_name": "HBoxModel",
      "state": {
       "children": [
        "IPY_MODEL_05199ea0109242909c749a187d4a4fec",
        "IPY_MODEL_a9dff8425f9247da8de807ac7ffc088d"
       ],
       "layout": "IPY_MODEL_8f5786af566a4413973fbfcb8bdf2662"
      }
     },
     "4c115528ffb447c1977459807bbb13de": {
      "model_module": "@jupyter-widgets/controls",
      "model_module_version": "1.2.0",
      "model_name": "HTMLModel",
      "state": {
       "layout": "IPY_MODEL_fc8a51882627437282aa97519ff401e9",
       "style": "IPY_MODEL_eb511ee71320444687d24f6c065a7ed1",
       "value": "<h4 style=\"font-size:14px;\">-Tupel von</h4>"
      }
     },
     "4c151cebf18a4492950d4b1b541c2c4c": {
      "model_module": "@jupyter-widgets/base",
      "model_module_version": "1.0.0",
      "model_name": "LayoutModel",
      "state": {}
     },
     "4c20f51d335943d8a5f6e33f2f2f9c89": {
      "model_module": "@jupyter-widgets/controls",
      "model_module_version": "1.2.0",
      "model_name": "DescriptionStyleModel",
      "state": {
       "description_width": "initial"
      }
     },
     "4c8b132e58774455b982be8a152684ed": {
      "model_module": "@jupyter-widgets/controls",
      "model_module_version": "1.2.0",
      "model_name": "HTMLModel",
      "state": {
       "layout": "IPY_MODEL_cdd438d7a87d405baf9ac4cf2fc33128",
       "style": "IPY_MODEL_05b17330194a43709de1676bab6bfe0a",
       "value": "<i>Wählen Sie die <ins>eine</ins> korrekte Antwort aus: </i>"
      }
     },
     "4d479d8cf32f4f97842c494a1bd38681": {
      "model_module": "@jupyter-widgets/controls",
      "model_module_version": "1.2.0",
      "model_name": "ButtonStyleModel",
      "state": {
       "button_color": "lightgreen"
      }
     },
     "4d914b28fc814e3cb7e9409c4a08c0d9": {
      "model_module": "@jupyter-widgets/controls",
      "model_module_version": "1.2.0",
      "model_name": "VBoxModel",
      "state": {
       "children": [
        "IPY_MODEL_ddf803373cc545bca859b3f7f6ac3181",
        "IPY_MODEL_1f560ba037f9421c81738e39c2f5d86f",
        "IPY_MODEL_9c751b3a582b42da98929f82452d99d4",
        "IPY_MODEL_a9107254b8cc4bb19724a70ade754730"
       ],
       "layout": "IPY_MODEL_8d8955618c6a4720911a8790ea4bc6a9"
      }
     },
     "4dbecefce49f403081fbcbc70b2de66a": {
      "model_module": "@jupyter-widgets/base",
      "model_module_version": "1.0.0",
      "model_name": "LayoutModel",
      "state": {
       "width": "250px"
      }
     },
     "4dd6cd93d950457bbbed1ae317911642": {
      "model_module": "@jupyter-widgets/base",
      "model_module_version": "1.0.0",
      "model_name": "LayoutModel",
      "state": {
       "width": "600px"
      }
     },
     "4e184398866c47b49e6ee7945ac4e8e4": {
      "model_module": "@jupyter-widgets/controls",
      "model_module_version": "1.2.0",
      "model_name": "DescriptionStyleModel",
      "state": {
       "description_width": ""
      }
     },
     "4e3f839197a14063904a4fb2164e3f62": {
      "model_module": "@jupyter-widgets/base",
      "model_module_version": "1.0.0",
      "model_name": "LayoutModel",
      "state": {
       "width": "150px"
      }
     },
     "4e73446426304309b39608d8c15c2ff5": {
      "model_module": "@jupyter-widgets/base",
      "model_module_version": "1.0.0",
      "model_name": "LayoutModel",
      "state": {
       "justify_content": "center"
      }
     },
     "4e8b642285df44aaad2bef52a9669f13": {
      "model_module": "@jupyter-widgets/controls",
      "model_module_version": "1.2.0",
      "model_name": "DescriptionStyleModel",
      "state": {
       "description_width": ""
      }
     },
     "4eb30e3ff71c431cbe0ec3906cb262ba": {
      "model_module": "@jupyter-widgets/base",
      "model_module_version": "1.0.0",
      "model_name": "LayoutModel",
      "state": {}
     },
     "4ece0852c08544cab4c6f8dd260982ce": {
      "model_module": "@jupyter-widgets/controls",
      "model_module_version": "1.2.0",
      "model_name": "DescriptionStyleModel",
      "state": {
       "description_width": ""
      }
     },
     "4ef11d5f0f794534ab796f88c8c0f1b8": {
      "model_module": "@jupyter-widgets/controls",
      "model_module_version": "1.2.0",
      "model_name": "VBoxModel",
      "state": {
       "children": [
        "IPY_MODEL_3adeda1a44ef41bb8eb1feceba4c656b",
        "IPY_MODEL_b920c781948e48ac9f2d0db4685994e8",
        "IPY_MODEL_94cc180e71cf45e893f13cef9d2429a7",
        "IPY_MODEL_8cd94742a894407090babc076f4a5672",
        "IPY_MODEL_37cf2b0c48004251b74fd24925f4075d"
       ],
       "layout": "IPY_MODEL_5fabf96b88454010afce203dd2fc89b3"
      }
     },
     "4ef1f1945c6c49b9ad561e052a725a98": {
      "model_module": "@jupyter-widgets/base",
      "model_module_version": "1.0.0",
      "model_name": "LayoutModel",
      "state": {
       "width": "250px"
      }
     },
     "4f173d394b83481583193b2fd17bade7": {
      "model_module": "@jupyter-widgets/controls",
      "model_module_version": "1.2.0",
      "model_name": "DescriptionStyleModel",
      "state": {
       "description_width": "initial"
      }
     },
     "4f2de25ed90c4ffd9dd43a72824068fe": {
      "model_module": "@jupyter-widgets/controls",
      "model_module_version": "1.2.0",
      "model_name": "DescriptionStyleModel",
      "state": {
       "description_width": ""
      }
     },
     "4f99a6ba13a44fc28c8d0e7bce6706b6": {
      "model_module": "@jupyter-widgets/controls",
      "model_module_version": "1.2.0",
      "model_name": "DescriptionStyleModel",
      "state": {
       "description_width": ""
      }
     },
     "4ff87a1dfa814fbfb1520839cf32ebf2": {
      "model_module": "@jupyter-widgets/controls",
      "model_module_version": "1.2.0",
      "model_name": "ButtonModel",
      "state": {
       "description": "past participle",
       "layout": "IPY_MODEL_12f527309b1e4ea794774b14bbeb3247",
       "style": "IPY_MODEL_eafa1c178db84d7096e6a75ff0fe771c"
      }
     },
     "50acfad0055e4fca9528ee2b34c242ce": {
      "model_module": "@jupyter-widgets/controls",
      "model_module_version": "1.2.0",
      "model_name": "HTMLModel",
      "state": {
       "layout": "IPY_MODEL_031359b10326498aa95ba477550a0b3c",
       "style": "IPY_MODEL_297cdd63d0d248cfbad4b20b56c72826",
       "value": "<i>Markieren Sie <ins>alle</ins> passenden Antworten: </i>"
      }
     },
     "50adecbf1d174bb4a18a61172b859592": {
      "model_module": "@jupyter-widgets/base",
      "model_module_version": "1.0.0",
      "model_name": "LayoutModel",
      "state": {
       "justify_content": "center"
      }
     },
     "50bb5be8368b4a9ab9d9c0bcee6955ef": {
      "model_module": "@jupyter-widgets/controls",
      "model_module_version": "1.2.0",
      "model_name": "HTMLModel",
      "state": {
       "layout": "IPY_MODEL_25ad559753324eb1a6c370a26fe47d7b",
       "style": "IPY_MODEL_b124f55ee50846b5b206c63ecff9b727",
       "value": "<h4 style=\"font-size:14px;\">gestellt. Die gesamte</h4>"
      }
     },
     "510bfd29332645f98d406a49aae9b061": {
      "model_module": "@jupyter-widgets/base",
      "model_module_version": "1.0.0",
      "model_name": "LayoutModel",
      "state": {
       "width": "250px"
      }
     },
     "51168353e79448109183593d84a112b3": {
      "model_module": "@jupyter-widgets/controls",
      "model_module_version": "1.2.0",
      "model_name": "CheckboxModel",
      "state": {
       "description": "Eliminierungstest",
       "disabled": false,
       "layout": "IPY_MODEL_bcd9b9c9d4e64fb79f3a0fcc8b2491e0",
       "style": "IPY_MODEL_77e499c355cb4d27b6836058a4fd4f35",
       "value": false
      }
     },
     "513dc43464b84eae936fa53d4865778d": {
      "model_module": "@jupyter-widgets/controls",
      "model_module_version": "1.2.0",
      "model_name": "ButtonStyleModel",
      "state": {}
     },
     "51434281aa6c40f59c136b6d976ed822": {
      "model_module": "@jupyter-widgets/controls",
      "model_module_version": "1.2.0",
      "model_name": "CheckboxModel",
      "state": {
       "description": "Zu einem Wort werden seine Kookkurrenzpartner gefunden.",
       "disabled": false,
       "layout": "IPY_MODEL_406e8c600ac24d2092e9c41e3ffb8533",
       "style": "IPY_MODEL_a0f9f6f6f4654846ba4183d61191aae8",
       "value": false
      }
     },
     "5150a52a680c4789a6eca3b7b3bdb4bf": {
      "model_module": "@jupyter-widgets/controls",
      "model_module_version": "1.2.0",
      "model_name": "ButtonStyleModel",
      "state": {}
     },
     "51b75ce1c5e147898b6d58ccbc23374e": {
      "model_module": "@jupyter-widgets/controls",
      "model_module_version": "1.2.0",
      "model_name": "DescriptionStyleModel",
      "state": {
       "description_width": "initial"
      }
     },
     "51d8c9a787ef42be912aa8c4bfe5f46f": {
      "model_module": "@jupyter-widgets/controls",
      "model_module_version": "1.2.0",
      "model_name": "ButtonModel",
      "state": {
       "description": "base",
       "layout": "IPY_MODEL_62aecc1b976b42de99c1b5949932fda0",
       "style": "IPY_MODEL_6a4d274cfd644f938465906adb62151e"
      }
     },
     "522c288cb7aa42868856ff485cfc11cd": {
      "model_module": "@jupyter-widgets/base",
      "model_module_version": "1.0.0",
      "model_name": "LayoutModel",
      "state": {}
     },
     "5273783512fa4c27b171cfd8abec2ae0": {
      "model_module": "@jupyter-widgets/controls",
      "model_module_version": "1.2.0",
      "model_name": "HTMLModel",
      "state": {
       "layout": "IPY_MODEL_7d08c48898384b3795d681eb3b0f6002",
       "style": "IPY_MODEL_7edc9a51c29c496e9972f9b1acc645aa",
       "value": "<h4 style=\"font-size:14px;\">Was bedeutet das Tag <i>VBD</i> im Browntagset (siehe 5.7)?</h4>"
      }
     },
     "52ccc68479e846cebc3e1cad2d04526a": {
      "model_module": "@jupyter-widgets/base",
      "model_module_version": "1.0.0",
      "model_name": "LayoutModel",
      "state": {
       "width": "250px"
      }
     },
     "5312fb78c8b84dd68d78ee711eab50ae": {
      "model_module": "@jupyter-widgets/base",
      "model_module_version": "1.0.0",
      "model_name": "LayoutModel",
      "state": {
       "width": "250px"
      }
     },
     "5324e4c4ed594221836fd8dc040c0139": {
      "model_module": "@jupyter-widgets/controls",
      "model_module_version": "1.2.0",
      "model_name": "DropdownModel",
      "state": {
       "_options_labels": [
        "gleichartige",
        "unterschiedliche",
        " "
       ],
       "index": 2,
       "layout": "IPY_MODEL_10eac1e82b0043038c1490d350e74ca0",
       "style": "IPY_MODEL_f41107fa74cb48bdb0ba3494e9485702"
      }
     },
     "53258691052c4425929001e17c1ca225": {
      "model_module": "@jupyter-widgets/controls",
      "model_module_version": "1.2.0",
      "model_name": "HTMLModel",
      "state": {
       "layout": "IPY_MODEL_5c8ec8883e0e4945b17715e123ee0795",
       "style": "IPY_MODEL_951577293af546bfbb4f29b7f11f6d9e",
       "value": "<h4 style=\"font-size:14px;\">. Aus dieser wurde es extrahiert und ins</h4>"
      }
     },
     "53273e9bb607456abf4ad3daf94387da": {
      "model_module": "@jupyter-widgets/controls",
      "model_module_version": "1.2.0",
      "model_name": "BoxModel",
      "state": {
       "children": [
        "IPY_MODEL_71f649d5845345f3a8f82748268b828c",
        "IPY_MODEL_f56b3c71dc3a46219607135a2034b513",
        "IPY_MODEL_abc2b5b434e6468f91473f844f4ff476",
        "IPY_MODEL_09dc912800a146d895a9773e7af972e1",
        "IPY_MODEL_cb9eef3132424b4a875745e356a735f7",
        "IPY_MODEL_09b3a77b06fd411e95217e979a70085b",
        "IPY_MODEL_722fa9ac6ff444de904c35f3dd32e46c",
        "IPY_MODEL_8b2337471d27477bb1473558e771c75d",
        "IPY_MODEL_6e5b1c0f7e604432ade7d891581d34de"
       ],
       "layout": "IPY_MODEL_244fb7533a3248e1bbba47a5df9e9ddf"
      }
     },
     "532b1dc308924e5f923772e723b45187": {
      "model_module": "@jupyter-widgets/base",
      "model_module_version": "1.0.0",
      "model_name": "LayoutModel",
      "state": {}
     },
     "5335f1fafc2841afb9ff31e8b1b58090": {
      "model_module": "@jupyter-widgets/controls",
      "model_module_version": "1.2.0",
      "model_name": "DescriptionStyleModel",
      "state": {
       "description_width": ""
      }
     },
     "535b16fca9ad423597cb6cf3a45f6111": {
      "model_module": "@jupyter-widgets/controls",
      "model_module_version": "1.2.0",
      "model_name": "VBoxModel",
      "state": {
       "children": [
        "IPY_MODEL_51168353e79448109183593d84a112b3",
        "IPY_MODEL_68790d4880024d158c410dc8496a3644",
        "IPY_MODEL_f6d642444cea42cf9771fab2938cdb9e",
        "IPY_MODEL_a5314618ed32410aa93e329d69adbca8"
       ],
       "layout": "IPY_MODEL_e33f227e7a9b4c0092272f345658c9c2"
      }
     },
     "53624897a0584b5f8b191310f9f556d3": {
      "model_module": "@jupyter-widgets/base",
      "model_module_version": "1.0.0",
      "model_name": "LayoutModel",
      "state": {}
     },
     "53de42281404447d8addfa8d4ec93e16": {
      "model_module": "@jupyter-widgets/controls",
      "model_module_version": "1.2.0",
      "model_name": "DescriptionStyleModel",
      "state": {
       "description_width": ""
      }
     },
     "53e657368f9e4413bba78d380ebb25e5": {
      "model_module": "@jupyter-widgets/controls",
      "model_module_version": "1.2.0",
      "model_name": "ButtonStyleModel",
      "state": {}
     },
     "5425c785231b4b7a81141c09e28910db": {
      "model_module": "@jupyter-widgets/base",
      "model_module_version": "1.0.0",
      "model_name": "LayoutModel",
      "state": {}
     },
     "5436be2c4a7542698c84f7e55beafa39": {
      "model_module": "@jupyter-widgets/controls",
      "model_module_version": "1.2.0",
      "model_name": "ButtonModel",
      "state": {
       "description": "3rd singular present",
       "layout": "IPY_MODEL_4ef1f1945c6c49b9ad561e052a725a98",
       "style": "IPY_MODEL_38b36b1a1df24648ba052e9343828a51"
      }
     },
     "54731af491224859bf977b409d7e10d0": {
      "model_module": "@jupyter-widgets/base",
      "model_module_version": "1.0.0",
      "model_name": "LayoutModel",
      "state": {
       "width": "250px"
      }
     },
     "54aa14a0481b44fd9f26c79f9a5f1ab5": {
      "model_module": "@jupyter-widgets/controls",
      "model_module_version": "1.2.0",
      "model_name": "ButtonModel",
      "state": {
       "description": "Wortfolge",
       "layout": "IPY_MODEL_ee79173fb5ff4bf6a9a6b1a14bb007c1",
       "style": "IPY_MODEL_d7ac593da792489d9d5bf4fb39cffd5b"
      }
     },
     "55048c7c4bf84cb0a39d185e01b003f0": {
      "model_module": "@jupyter-widgets/controls",
      "model_module_version": "1.2.0",
      "model_name": "ButtonStyleModel",
      "state": {}
     },
     "552e91411e1b423eb686b2cee94b0d61": {
      "model_module": "@jupyter-widgets/controls",
      "model_module_version": "1.2.0",
      "model_name": "ButtonModel",
      "state": {
       "description": "Korrekt?",
       "layout": "IPY_MODEL_9accfcd6645f441b8f6b8a870087f39c",
       "style": "IPY_MODEL_e1d6afef0c4746c28c5787f657f8da8d"
      }
     },
     "553bd48ae7734acca87ea9e4f630c345": {
      "model_module": "@jupyter-widgets/controls",
      "model_module_version": "1.2.0",
      "model_name": "ButtonModel",
      "state": {
       "description": "Adjektiv",
       "layout": "IPY_MODEL_9010fea4299f4a54a1da8c57b42f3d83",
       "style": "IPY_MODEL_5ecf4cd7e516476a8f5fbb68866a10ac"
      }
     },
     "5598f89511c248ea8edb7dfbfae554e5": {
      "model_module": "@jupyter-widgets/base",
      "model_module_version": "1.0.0",
      "model_name": "LayoutModel",
      "state": {
       "width": "250px"
      }
     },
     "5616b14fda2547b7846fb940fe3230f6": {
      "model_module": "@jupyter-widgets/controls",
      "model_module_version": "1.2.0",
      "model_name": "CheckboxModel",
      "state": {
       "description": "Substitutionstest",
       "disabled": false,
       "layout": "IPY_MODEL_6dd244cc9f074076a770f184eb8a0c51",
       "style": "IPY_MODEL_36b1a10e98804ed8971ff219900baf05",
       "value": false
      }
     },
     "562ba4807239467d8bb097582dc7242d": {
      "model_module": "@jupyter-widgets/controls",
      "model_module_version": "1.2.0",
      "model_name": "HTMLModel",
      "state": {
       "layout": "IPY_MODEL_07ddf82495a644ba9263ca708656bf19",
       "style": "IPY_MODEL_d1eecd3c8770494dac412db4601505f6",
       "value": "<h4 style=\"font-size:14px;\">Was bedeutet das Tag <i>VB</i> im Browntagset (siehe 5.7)?</h4>"
      }
     },
     "566e49f7089c41318c969aeb76fafe90": {
      "model_module": "@jupyter-widgets/controls",
      "model_module_version": "1.2.0",
      "model_name": "DescriptionStyleModel",
      "state": {
       "description_width": ""
      }
     },
     "56832d06587149d6a06f9101e357ead3": {
      "model_module": "@jupyter-widgets/base",
      "model_module_version": "1.0.0",
      "model_name": "LayoutModel",
      "state": {}
     },
     "56942630916848aeaa14b6874f98cd46": {
      "model_module": "@jupyter-widgets/controls",
      "model_module_version": "1.2.0",
      "model_name": "HTMLModel",
      "state": {
       "layout": "IPY_MODEL_0edfd6fc320e41a5a763511e214a68b6",
       "style": "IPY_MODEL_204a39e093074d289adcfe0277fb4e15",
       "value": "<h4 style=\"font-size:14px;\">Phrasen verkettet werden können. Das Ergebnis ist eine Phrase des gleichen Typs, also der gleichen</h4>"
      }
     },
     "56c08356f16c488ca62d5fa99d1e7ef6": {
      "model_module": "@jupyter-widgets/controls",
      "model_module_version": "1.2.0",
      "model_name": "DescriptionStyleModel",
      "state": {
       "description_width": "initial"
      }
     },
     "56c5f3cbc49c4c98a30d062cd740a824": {
      "model_module": "@jupyter-widgets/controls",
      "model_module_version": "1.2.0",
      "model_name": "HTMLModel",
      "state": {
       "layout": "IPY_MODEL_3bf06800587e4b48a0688160c248a7dc",
       "style": "IPY_MODEL_1cb2712237cf4ab4b62be5d77b9bda7e",
       "value": "<h4 style=\"font-size:14px;\"><i>seinen Schlüsselbund zwar noch nie verloren haben.</i></h4>"
      }
     },
     "56c9cbef8dc549cbafccf6ddcea71762": {
      "model_module": "@jupyter-widgets/controls",
      "model_module_version": "1.2.0",
      "model_name": "HTMLModel",
      "state": {
       "layout": "IPY_MODEL_088e5ad8967744cdb583a952fe170f3f",
       "style": "IPY_MODEL_2544da89910b453487ea04c5303e4d3e",
       "value": "<i>Wählen Sie die <ins>eine</ins> korrekte Antwort aus: </i>"
      }
     },
     "56d30d2f607d49e98f51fbf039a50b36": {
      "model_module": "@jupyter-widgets/controls",
      "model_module_version": "1.2.0",
      "model_name": "DescriptionStyleModel",
      "state": {
       "description_width": ""
      }
     },
     "56d7280d7c7e47a6abd06fd9f79731fb": {
      "model_module": "@jupyter-widgets/base",
      "model_module_version": "1.0.0",
      "model_name": "LayoutModel",
      "state": {
       "width": "600px"
      }
     },
     "56e92b4f109d429d9cacc3381440621a": {
      "model_module": "@jupyter-widgets/controls",
      "model_module_version": "1.2.0",
      "model_name": "ButtonModel",
      "state": {
       "description": "past participle",
       "layout": "IPY_MODEL_11678758fccd4fa9a84a0a4a28291fde",
       "style": "IPY_MODEL_5e38c433f3d84a51a9a7040d78189d3b"
      }
     },
     "56efcffe64314108ae40c22164b2fa6b": {
      "model_module": "@jupyter-widgets/controls",
      "model_module_version": "1.2.0",
      "model_name": "CheckboxModel",
      "state": {
       "description": "gleiche syntagmatische Position",
       "disabled": false,
       "layout": "IPY_MODEL_9ed5fd06c8344c3b9f70c5053790575f",
       "style": "IPY_MODEL_4f173d394b83481583193b2fd17bade7",
       "value": false
      }
     },
     "5704fd408f654debbc1967949f870dfb": {
      "model_module": "@jupyter-widgets/base",
      "model_module_version": "1.0.0",
      "model_name": "LayoutModel",
      "state": {}
     },
     "575f336547744f77af10238563cd8261": {
      "model_module": "@jupyter-widgets/base",
      "model_module_version": "1.0.0",
      "model_name": "LayoutModel",
      "state": {
       "width": "250px"
      }
     },
     "579404e426b74529850040e7d5cdde26": {
      "model_module": "@jupyter-widgets/base",
      "model_module_version": "1.0.0",
      "model_name": "LayoutModel",
      "state": {
       "width": "250px"
      }
     },
     "57c3c8c76e0e4d0898bc743e8aaa69c0": {
      "model_module": "@jupyter-widgets/controls",
      "model_module_version": "1.2.0",
      "model_name": "ButtonModel",
      "state": {
       "description": "Keine der anderen Möglichkeiten",
       "layout": "IPY_MODEL_71eb833925cb4deabb9180d722032adb",
       "style": "IPY_MODEL_5d0df56bc4d246efb8231c0a944c2f6b"
      }
     },
     "580ecb72e215442ba0900ddb0fa6029e": {
      "model_module": "@jupyter-widgets/controls",
      "model_module_version": "1.2.0",
      "model_name": "HTMLModel",
      "state": {
       "layout": "IPY_MODEL_097f3328c73d4fbc959bb42b46447a54",
       "style": "IPY_MODEL_2bfd1b7372754b6aa566dbab614a4b97",
       "value": "<h4 style=\"font-size:14px;\">, aber keine</h4>"
      }
     },
     "5834d21e18ab4d6b9a510296253b4c89": {
      "model_module": "@jupyter-widgets/controls",
      "model_module_version": "1.2.0",
      "model_name": "HBoxModel",
      "state": {
       "children": [
        "IPY_MODEL_c0439ba6726348d59bf3b9855b8812ee",
        "IPY_MODEL_931673459c014101a6790c10d43c0007"
       ],
       "layout": "IPY_MODEL_19c7b24f4b2d47b0874d90542e0ed5b2"
      }
     },
     "5850f5a201d243a39b5c68e5b5f6faf1": {
      "model_module": "@jupyter-widgets/controls",
      "model_module_version": "1.2.0",
      "model_name": "HBoxModel",
      "state": {
       "children": [
        "IPY_MODEL_f53da9703dd84b1ea5ac8ebb39a56bfe"
       ],
       "layout": "IPY_MODEL_4ad9ad4f5181424696f718206e04a9b5"
      }
     },
     "586a9e1aaa12409fbb8d9d59dccc820a": {
      "model_module": "@jupyter-widgets/controls",
      "model_module_version": "1.2.0",
      "model_name": "DescriptionStyleModel",
      "state": {
       "description_width": ""
      }
     },
     "589df59cd9134407905f6060abe4b825": {
      "model_module": "@jupyter-widgets/base",
      "model_module_version": "1.0.0",
      "model_name": "LayoutModel",
      "state": {}
     },
     "590c0e44a8134e53b0b2562e6a945bee": {
      "model_module": "@jupyter-widgets/controls",
      "model_module_version": "1.2.0",
      "model_name": "ButtonModel",
      "state": {
       "description": "3rd singular present",
       "layout": "IPY_MODEL_61ba3db965f64ad6bdb0b726eb232ecd",
       "style": "IPY_MODEL_65e2bd381f5c4ec3a1bfd2b952fb32f5"
      }
     },
     "59277841cd9e45ee9e12fe7134f54b07": {
      "model_module": "@jupyter-widgets/controls",
      "model_module_version": "1.2.0",
      "model_name": "CheckboxModel",
      "state": {
       "description": "Es bezeichnet die näheren Umstände des im Verb ausgedrückten Geschehens.",
       "disabled": false,
       "layout": "IPY_MODEL_8ff1b16e585d462c9e75eb99366bee21",
       "style": "IPY_MODEL_12b0bc1b86a5444f97bb3dd513fb8b6b",
       "value": false
      }
     },
     "593197b6e8c24c889531cc73502a4126": {
      "model_module": "@jupyter-widgets/base",
      "model_module_version": "1.0.0",
      "model_name": "LayoutModel",
      "state": {}
     },
     "595c5fe709cd4b469f3614ab2be718f7": {
      "model_module": "@jupyter-widgets/controls",
      "model_module_version": "1.2.0",
      "model_name": "DropdownModel",
      "state": {
       "_options_labels": [
        "Konstituenten",
        "Phrasen",
        " "
       ],
       "index": 0,
       "layout": "IPY_MODEL_6b673d19fadb4fb8acc66d206f73289d",
       "style": "IPY_MODEL_d43672252e474750903755b0cca1bd8a"
      }
     },
     "597e650307ba4d75b2989c5fddb5d3a8": {
      "model_module": "@jupyter-widgets/controls",
      "model_module_version": "1.2.0",
      "model_name": "DescriptionStyleModel",
      "state": {
       "description_width": ""
      }
     },
     "59b386129bd24f1190d8a2408ca1be05": {
      "model_module": "@jupyter-widgets/controls",
      "model_module_version": "1.2.0",
      "model_name": "CheckboxModel",
      "state": {
       "description": "Es fungiert als Satzglied mit der syntaktischen Funktion Adverbial.",
       "disabled": false,
       "layout": "IPY_MODEL_70f0b75f7a9f4e248e67c9ea737f8c12",
       "style": "IPY_MODEL_68848e540cb2455a80af97c485a12e92",
       "value": true
      }
     },
     "59e9a6bf9f714aaba7c250105c76b41f": {
      "model_module": "@jupyter-widgets/controls",
      "model_module_version": "1.2.0",
      "model_name": "ButtonStyleModel",
      "state": {}
     },
     "59f4fa54548c4fb8b2b466596d3a47d8": {
      "model_module": "@jupyter-widgets/controls",
      "model_module_version": "1.2.0",
      "model_name": "DescriptionStyleModel",
      "state": {
       "description_width": "initial"
      }
     },
     "5a05b4024381489a8b666fe2ffe7b52a": {
      "model_module": "@jupyter-widgets/base",
      "model_module_version": "1.0.0",
      "model_name": "LayoutModel",
      "state": {}
     },
     "5a1efd025b274eae8ec3eca6aec33c64": {
      "model_module": "@jupyter-widgets/controls",
      "model_module_version": "1.2.0",
      "model_name": "HBoxModel",
      "state": {
       "children": [
        "IPY_MODEL_ba6b5e8d3d5649c885d1c1b59a788d19",
        "IPY_MODEL_05b60b2fd5c449a1887bc891b38dfdf4"
       ],
       "layout": "IPY_MODEL_2bef0b84cbca48daaf6111ea2b231bfd"
      }
     },
     "5a8ff579b0094ba192ee89618aa4ad52": {
      "model_module": "@jupyter-widgets/controls",
      "model_module_version": "1.2.0",
      "model_name": "ButtonModel",
      "state": {
       "description": "Keine der anderen Möglichkeiten",
       "layout": "IPY_MODEL_3eab1a5cddee4c9c8b3ee0079d53b772",
       "style": "IPY_MODEL_8012723aadfd468a9ead9b89cc9bb698"
      }
     },
     "5a92f51fbb274b7d8daa36bf869aa7f0": {
      "model_module": "@jupyter-widgets/controls",
      "model_module_version": "1.2.0",
      "model_name": "ButtonModel",
      "state": {
       "description": "3rd singular present",
       "layout": "IPY_MODEL_f9b5cd8f4b7d436ba57f7114a1c5314b",
       "style": "IPY_MODEL_09b61322b37c4ee29a7f0f4c8acf6444"
      }
     },
     "5a95d302f0db4aa4806da5ef467c256a": {
      "model_module": "@jupyter-widgets/controls",
      "model_module_version": "1.2.0",
      "model_name": "DescriptionStyleModel",
      "state": {
       "description_width": ""
      }
     },
     "5abb7f3dda374cad8981364f63dcb190": {
      "model_module": "@jupyter-widgets/controls",
      "model_module_version": "1.2.0",
      "model_name": "HTMLModel",
      "state": {
       "layout": "IPY_MODEL_7095976213934ef7a8a577ced8b5ab56",
       "style": "IPY_MODEL_d9f86d6284754e57bcb1832800fef900",
       "value": "<i>Markieren Sie <ins>alle</ins> passenden Antworten: </i>"
      }
     },
     "5ae0d464fb624e1288f444e5e707e035": {
      "model_module": "@jupyter-widgets/controls",
      "model_module_version": "1.2.0",
      "model_name": "DescriptionStyleModel",
      "state": {
       "description_width": ""
      }
     },
     "5aea9b3941244278a26899d24036f83e": {
      "model_module": "@jupyter-widgets/controls",
      "model_module_version": "1.2.0",
      "model_name": "HBoxModel",
      "state": {
       "children": [
        "IPY_MODEL_9f73c81c03074e11bce9ea97d1937d74",
        "IPY_MODEL_1e0b7419cedd48158cc365697238b9dd"
       ],
       "layout": "IPY_MODEL_8f48da55c1204d9489dda96707c9a498"
      }
     },
     "5b1d34630fbb4251ababcb3fc0da5c4d": {
      "model_module": "@jupyter-widgets/base",
      "model_module_version": "1.0.0",
      "model_name": "LayoutModel",
      "state": {}
     },
     "5b2c789c26cd440d97c607fb1a423637": {
      "model_module": "@jupyter-widgets/controls",
      "model_module_version": "1.2.0",
      "model_name": "ButtonModel",
      "state": {
       "description": "Partikel",
       "layout": "IPY_MODEL_7601a01f83e7496cbb78eb8f1b882cf6",
       "style": "IPY_MODEL_63a5bcb60e5846a19188b23c119fb646"
      }
     },
     "5b4c9ab4aeef48158337231d05bf62da": {
      "model_module": "@jupyter-widgets/controls",
      "model_module_version": "1.2.0",
      "model_name": "ButtonModel",
      "state": {
       "description": "gerund",
       "layout": "IPY_MODEL_5312fb78c8b84dd68d78ee711eab50ae",
       "style": "IPY_MODEL_6332f2c6bafe42b085fb8593959f499a"
      }
     },
     "5b4d9e8199da413db8e071ba02c9cbee": {
      "model_module": "@jupyter-widgets/controls",
      "model_module_version": "1.2.0",
      "model_name": "ButtonStyleModel",
      "state": {}
     },
     "5b6d4553727c490c8d3b378417fa8f0c": {
      "model_module": "@jupyter-widgets/controls",
      "model_module_version": "1.2.0",
      "model_name": "DescriptionStyleModel",
      "state": {
       "description_width": ""
      }
     },
     "5b8669f120fe44e99dea8536da58c049": {
      "model_module": "@jupyter-widgets/base",
      "model_module_version": "1.0.0",
      "model_name": "LayoutModel",
      "state": {
       "width": "150px"
      }
     },
     "5bc11d42c4f4429abd76ede2d6eacd32": {
      "model_module": "@jupyter-widgets/controls",
      "model_module_version": "1.2.0",
      "model_name": "ButtonStyleModel",
      "state": {}
     },
     "5bd3f4945ece4e0b8d3952c71d9e4ff6": {
      "model_module": "@jupyter-widgets/controls",
      "model_module_version": "1.2.0",
      "model_name": "DescriptionStyleModel",
      "state": {
       "description_width": ""
      }
     },
     "5c268e82d2954f31a88ce2e81a1ce71e": {
      "model_module": "@jupyter-widgets/controls",
      "model_module_version": "1.2.0",
      "model_name": "VBoxModel",
      "state": {
       "children": [
        "IPY_MODEL_bd6b799f8aa841969ebf02269a1a0996",
        "IPY_MODEL_7f928f157c694a99a03974773cd0ca8d",
        "IPY_MODEL_a90aaba51d9545bd9332074e2cbca701",
        "IPY_MODEL_345b7ef3f28540bcb04cd16891a1e6d6"
       ],
       "layout": "IPY_MODEL_195fd6b0dd054f4180129d5fdb88bb28"
      }
     },
     "5c3544788ee14b86bca8f03064960c45": {
      "model_module": "@jupyter-widgets/base",
      "model_module_version": "1.0.0",
      "model_name": "LayoutModel",
      "state": {
       "justify_content": "center"
      }
     },
     "5c6971edda4a4c3099eb9f33fa5db713": {
      "model_module": "@jupyter-widgets/controls",
      "model_module_version": "1.2.0",
      "model_name": "HBoxModel",
      "state": {
       "children": [
        "IPY_MODEL_23da053b4c964eda8e56f61a506f4592",
        "IPY_MODEL_54aa14a0481b44fd9f26c79f9a5f1ab5"
       ],
       "layout": "IPY_MODEL_e2a3f7747fed4af8bc47eba4b27c80ac"
      }
     },
     "5c8a2226e5a14a028faa360f3aec5940": {
      "model_module": "@jupyter-widgets/base",
      "model_module_version": "1.0.0",
      "model_name": "LayoutModel",
      "state": {
       "justify_content": "center"
      }
     },
     "5c8bb56a43454b0b9a5df85d088342f2": {
      "model_module": "@jupyter-widgets/controls",
      "model_module_version": "1.2.0",
      "model_name": "ButtonModel",
      "state": {
       "description": "Adjektiv",
       "layout": "IPY_MODEL_1592c701e0dc4ce1ab68e4d938218872",
       "style": "IPY_MODEL_d4f720ed22974fff9067580b6e9742dc"
      }
     },
     "5c8ec8883e0e4945b17715e123ee0795": {
      "model_module": "@jupyter-widgets/base",
      "model_module_version": "1.0.0",
      "model_name": "LayoutModel",
      "state": {}
     },
     "5d0df56bc4d246efb8231c0a944c2f6b": {
      "model_module": "@jupyter-widgets/controls",
      "model_module_version": "1.2.0",
      "model_name": "ButtonStyleModel",
      "state": {}
     },
     "5d161c9e3991413d96bd326f64693fd0": {
      "model_module": "@jupyter-widgets/controls",
      "model_module_version": "1.2.0",
      "model_name": "HBoxModel",
      "state": {
       "children": [
        "IPY_MODEL_eda45b3f02c64ebaaa5bb3d236bbc96c"
       ],
       "layout": "IPY_MODEL_072c05a13baf427aa7539e303730b61b"
      }
     },
     "5d67dad3610b4380a300d13cdcc26e72": {
      "model_module": "@jupyter-widgets/base",
      "model_module_version": "1.0.0",
      "model_name": "LayoutModel",
      "state": {}
     },
     "5d759c916880408baed6fb86deb6ed29": {
      "model_module": "@jupyter-widgets/controls",
      "model_module_version": "1.2.0",
      "model_name": "DescriptionStyleModel",
      "state": {
       "description_width": ""
      }
     },
     "5d878c35c6814ca9bcd39872abbac015": {
      "model_module": "@jupyter-widgets/base",
      "model_module_version": "1.0.0",
      "model_name": "LayoutModel",
      "state": {
       "width": "250px"
      }
     },
     "5d8a0978d1e748698a11e0f1f0aab1b5": {
      "model_module": "@jupyter-widgets/base",
      "model_module_version": "1.0.0",
      "model_name": "LayoutModel",
      "state": {
       "width": "250px"
      }
     },
     "5d93f70c56244d8abd08df8e036fb4cf": {
      "model_module": "@jupyter-widgets/base",
      "model_module_version": "1.0.0",
      "model_name": "LayoutModel",
      "state": {
       "align_content": "stretch",
       "align_items": "stretch",
       "display": "inline-flex",
       "flex": "flex-grow",
       "flex_flow": "row wrap",
       "justify_content": "flex-start"
      }
     },
     "5df8096ec50d46ce8021d82332d070c2": {
      "model_module": "@jupyter-widgets/base",
      "model_module_version": "1.0.0",
      "model_name": "LayoutModel",
      "state": {
       "width": "150px"
      }
     },
     "5e38c433f3d84a51a9a7040d78189d3b": {
      "model_module": "@jupyter-widgets/controls",
      "model_module_version": "1.2.0",
      "model_name": "ButtonStyleModel",
      "state": {}
     },
     "5e5aef5f032640c3bb77ce8e76866a26": {
      "model_module": "@jupyter-widgets/base",
      "model_module_version": "1.0.0",
      "model_name": "LayoutModel",
      "state": {
       "width": "150px"
      }
     },
     "5e6bbd32f29f4214b48b0979198a1a96": {
      "model_module": "@jupyter-widgets/base",
      "model_module_version": "1.0.0",
      "model_name": "LayoutModel",
      "state": {}
     },
     "5eab935bf6804a36bfc6b7913f93b7c2": {
      "model_module": "@jupyter-widgets/controls",
      "model_module_version": "1.2.0",
      "model_name": "DescriptionStyleModel",
      "state": {
       "description_width": "initial"
      }
     },
     "5ec446d8a7af49b58f2a360bee86014f": {
      "model_module": "@jupyter-widgets/controls",
      "model_module_version": "1.2.0",
      "model_name": "CheckboxModel",
      "state": {
       "description": "Permutationstest",
       "disabled": false,
       "layout": "IPY_MODEL_e07b3b8ed9124a9f978e7b92c94cc294",
       "style": "IPY_MODEL_5eab935bf6804a36bfc6b7913f93b7c2",
       "value": false
      }
     },
     "5ecf4cd7e516476a8f5fbb68866a10ac": {
      "model_module": "@jupyter-widgets/controls",
      "model_module_version": "1.2.0",
      "model_name": "ButtonStyleModel",
      "state": {}
     },
     "5edcb65dd9344d22a18e3ba413912d9d": {
      "model_module": "@jupyter-widgets/controls",
      "model_module_version": "1.2.0",
      "model_name": "DescriptionStyleModel",
      "state": {
       "description_width": ""
      }
     },
     "5ee5e8fecf4b4dc5a8c6e62ccdb76a2f": {
      "model_module": "@jupyter-widgets/controls",
      "model_module_version": "1.2.0",
      "model_name": "DescriptionStyleModel",
      "state": {
       "description_width": ""
      }
     },
     "5f07b7cb64ef41c5a70c39db240030a5": {
      "model_module": "@jupyter-widgets/controls",
      "model_module_version": "1.2.0",
      "model_name": "HBoxModel",
      "state": {
       "children": [
        "IPY_MODEL_590c0e44a8134e53b0b2562e6a945bee",
        "IPY_MODEL_51d8c9a787ef42be912aa8c4bfe5f46f"
       ],
       "layout": "IPY_MODEL_351bc6cc313d42829647bfc854a44f89"
      }
     },
     "5f0fad8411a645f58e194a3bf5f88c90": {
      "model_module": "@jupyter-widgets/controls",
      "model_module_version": "1.2.0",
      "model_name": "DescriptionStyleModel",
      "state": {
       "description_width": "initial"
      }
     },
     "5f13879108094cbbab45ea4f2085c74a": {
      "model_module": "@jupyter-widgets/controls",
      "model_module_version": "1.2.0",
      "model_name": "ButtonStyleModel",
      "state": {}
     },
     "5f1757f90bbf48a989608d3d4aef67e4": {
      "model_module": "@jupyter-widgets/base",
      "model_module_version": "1.0.0",
      "model_name": "LayoutModel",
      "state": {
       "width": "600px"
      }
     },
     "5f18aac9a117420ab393fdfee6e73659": {
      "model_module": "@jupyter-widgets/base",
      "model_module_version": "1.0.0",
      "model_name": "LayoutModel",
      "state": {}
     },
     "5f7ad475307841048bc7a311c454645c": {
      "model_module": "@jupyter-widgets/base",
      "model_module_version": "1.0.0",
      "model_name": "LayoutModel",
      "state": {}
     },
     "5fabf96b88454010afce203dd2fc89b3": {
      "model_module": "@jupyter-widgets/base",
      "model_module_version": "1.0.0",
      "model_name": "LayoutModel",
      "state": {}
     },
     "5ff7d4bed1dd4bb6bc3fca2e5a69cf2b": {
      "model_module": "@jupyter-widgets/controls",
      "model_module_version": "1.2.0",
      "model_name": "CheckboxModel",
      "state": {
       "description": "Es bezeichnet die näheren Umstände des im Verb ausgedrückten Geschehens.",
       "disabled": false,
       "layout": "IPY_MODEL_371ba1d530c844058e1cb676f66d569a",
       "style": "IPY_MODEL_72a3c1ac85984bd5bc26b83d73eed72d",
       "value": true
      }
     },
     "6014d9999a1548d3a94134a73c0d9bb2": {
      "model_module": "@jupyter-widgets/controls",
      "model_module_version": "1.2.0",
      "model_name": "VBoxModel",
      "state": {
       "children": [
        "IPY_MODEL_42021eebbf5240f7889a33793bd85a43",
        "IPY_MODEL_ff3507530bbb4d728053a99bad68be1b",
        "IPY_MODEL_5ec446d8a7af49b58f2a360bee86014f",
        "IPY_MODEL_90ac08aac19a4cb98889e45fbe7f4571"
       ],
       "layout": "IPY_MODEL_affd0d97217b4d7598276005d27228d7"
      }
     },
     "60222e0c12b0445285b3d11e95b1f0c6": {
      "model_module": "@jupyter-widgets/controls",
      "model_module_version": "1.2.0",
      "model_name": "DescriptionStyleModel",
      "state": {
       "description_width": "initial"
      }
     },
     "603a09d9e7fc4c0097bcdf48ddcf41dc": {
      "model_module": "@jupyter-widgets/controls",
      "model_module_version": "1.2.0",
      "model_name": "HTMLModel",
      "state": {
       "layout": "IPY_MODEL_c0764df35f1f487ebb1e028f567ba138",
       "style": "IPY_MODEL_3580f5248e1943b6bb9f2571d6be74e1",
       "value": "<h4 style=\"font-size:14px;\">Was bedeutet das Tag <i>VBZ</i> im Browntagset (siehe 5.7)?</h4>"
      }
     },
     "60999b5f55ba4c218499dfee62bbe1c9": {
      "model_module": "@jupyter-widgets/controls",
      "model_module_version": "1.2.0",
      "model_name": "DescriptionStyleModel",
      "state": {
       "description_width": ""
      }
     },
     "60ac38c4145e4ac28dfff2c7c89b5eb6": {
      "model_module": "@jupyter-widgets/base",
      "model_module_version": "1.0.0",
      "model_name": "LayoutModel",
      "state": {
       "width": "250px"
      }
     },
     "60ce2ed4cdad48c8b8e7295b373fce61": {
      "model_module": "@jupyter-widgets/base",
      "model_module_version": "1.0.0",
      "model_name": "LayoutModel",
      "state": {}
     },
     "61309ee3918a4d918f236bbf8b8b63ea": {
      "model_module": "@jupyter-widgets/controls",
      "model_module_version": "1.2.0",
      "model_name": "DescriptionStyleModel",
      "state": {
       "description_width": ""
      }
     },
     "61461ce05a2d4c1caa7075b1dc0269e2": {
      "model_module": "@jupyter-widgets/controls",
      "model_module_version": "1.2.0",
      "model_name": "ButtonStyleModel",
      "state": {}
     },
     "614ea12753fe477ea0942344310ca20e": {
      "model_module": "@jupyter-widgets/controls",
      "model_module_version": "1.2.0",
      "model_name": "ButtonModel",
      "state": {
       "description": "gerund",
       "layout": "IPY_MODEL_06f7fe4c09d94fc8a5320ad32fe07216",
       "style": "IPY_MODEL_11863ad9a5db478ca983f34308382daf"
      }
     },
     "6177348b36f94472b1480b5b5072610a": {
      "model_module": "@jupyter-widgets/controls",
      "model_module_version": "1.2.0",
      "model_name": "HBoxModel",
      "state": {
       "children": [
        "IPY_MODEL_c6a960cf32854af8bd3d205d2b6a081e",
        "IPY_MODEL_d41ee2440c574e4eb540c0215b3e44cb"
       ],
       "layout": "IPY_MODEL_9d8ba78ae97a460db78689956137cec9"
      }
     },
     "61786824ee89486d974a7d4b813ddd46": {
      "model_module": "@jupyter-widgets/controls",
      "model_module_version": "1.2.0",
      "model_name": "ButtonStyleModel",
      "state": {}
     },
     "617d744cc1854f72a798cb53bb52f571": {
      "model_module": "@jupyter-widgets/controls",
      "model_module_version": "1.2.0",
      "model_name": "DescriptionStyleModel",
      "state": {
       "description_width": ""
      }
     },
     "61812ee1824f467aad6682606846ee2e": {
      "model_module": "@jupyter-widgets/base",
      "model_module_version": "1.0.0",
      "model_name": "LayoutModel",
      "state": {}
     },
     "619df496873d4f4f8bb46424d2afeb1a": {
      "model_module": "@jupyter-widgets/controls",
      "model_module_version": "1.2.0",
      "model_name": "ButtonStyleModel",
      "state": {}
     },
     "61ba3db965f64ad6bdb0b726eb232ecd": {
      "model_module": "@jupyter-widgets/base",
      "model_module_version": "1.0.0",
      "model_name": "LayoutModel",
      "state": {
       "width": "250px"
      }
     },
     "621ed98f946e40f0af6b8256ac7d1fc0": {
      "model_module": "@jupyter-widgets/controls",
      "model_module_version": "1.2.0",
      "model_name": "ButtonModel",
      "state": {
       "description": "simple past",
       "layout": "IPY_MODEL_bcd66a7489e141bea9c167d99f92b29c",
       "style": "IPY_MODEL_756f1067791a43a3a8be48a623079784"
      }
     },
     "625014109bf94bf69d619e31ada68744": {
      "model_module": "@jupyter-widgets/base",
      "model_module_version": "1.0.0",
      "model_name": "LayoutModel",
      "state": {
       "width": "250px"
      }
     },
     "6281806bdb52486782abc43b459717af": {
      "model_module": "@jupyter-widgets/base",
      "model_module_version": "1.0.0",
      "model_name": "LayoutModel",
      "state": {
       "width": "250px"
      }
     },
     "62856a1500fc41e7a301614c50e962ba": {
      "model_module": "@jupyter-widgets/base",
      "model_module_version": "1.0.0",
      "model_name": "LayoutModel",
      "state": {
       "width": "250px"
      }
     },
     "62857b33871a43d29f4eee4f04136271": {
      "model_module": "@jupyter-widgets/base",
      "model_module_version": "1.0.0",
      "model_name": "LayoutModel",
      "state": {}
     },
     "62aecc1b976b42de99c1b5949932fda0": {
      "model_module": "@jupyter-widgets/base",
      "model_module_version": "1.0.0",
      "model_name": "LayoutModel",
      "state": {
       "width": "250px"
      }
     },
     "630d3576587041bd9eff41e52abbccac": {
      "model_module": "@jupyter-widgets/controls",
      "model_module_version": "1.2.0",
      "model_name": "ButtonStyleModel",
      "state": {}
     },
     "6320c998304a4bcd8cab6fe306e8f11e": {
      "model_module": "@jupyter-widgets/base",
      "model_module_version": "1.0.0",
      "model_name": "LayoutModel",
      "state": {}
     },
     "632f5836396445e192287a8dff71899e": {
      "model_module": "@jupyter-widgets/base",
      "model_module_version": "1.0.0",
      "model_name": "LayoutModel",
      "state": {}
     },
     "6332f2c6bafe42b085fb8593959f499a": {
      "model_module": "@jupyter-widgets/controls",
      "model_module_version": "1.2.0",
      "model_name": "ButtonStyleModel",
      "state": {}
     },
     "6334f1574a024a0681b00edc54cb387b": {
      "model_module": "@jupyter-widgets/controls",
      "model_module_version": "1.2.0",
      "model_name": "DescriptionStyleModel",
      "state": {
       "description_width": ""
      }
     },
     "633c072d6ef540f38f2332da30aee7bc": {
      "model_module": "@jupyter-widgets/controls",
      "model_module_version": "1.2.0",
      "model_name": "VBoxModel",
      "state": {
       "children": [
        "IPY_MODEL_10a70cae11e244f7bbb4a798c90e7e4e",
        "IPY_MODEL_b1dfb4cdcf524028bba510c1e21b51ac",
        "IPY_MODEL_88f36a5f89d3479bbf10d39adc48e069",
        "IPY_MODEL_81228b4133a54aceac5f88053382127b"
       ],
       "layout": "IPY_MODEL_b3b617bd3a404b0ca2e6c8115cbc0bff"
      }
     },
     "63402998acd14777ac81b1181f5047d2": {
      "model_module": "@jupyter-widgets/controls",
      "model_module_version": "1.2.0",
      "model_name": "DescriptionStyleModel",
      "state": {
       "description_width": "initial"
      }
     },
     "635201f6b700434da95c45c7bf099264": {
      "model_module": "@jupyter-widgets/controls",
      "model_module_version": "1.2.0",
      "model_name": "CheckboxModel",
      "state": {
       "description": "Nur mit beginnt eine Reise von tausend Meilen auch einem Schritt.",
       "disabled": false,
       "layout": "IPY_MODEL_680fa3c2b0cd4945bd34ed9e1731c9c8",
       "style": "IPY_MODEL_ee7190bb853c49f1b5cc6e21fb0dd078",
       "value": false
      }
     },
     "63a5bcb60e5846a19188b23c119fb646": {
      "model_module": "@jupyter-widgets/controls",
      "model_module_version": "1.2.0",
      "model_name": "ButtonStyleModel",
      "state": {}
     },
     "63b7c80889d5498f987dd0320cfa1ef0": {
      "model_module": "@jupyter-widgets/controls",
      "model_module_version": "1.2.0",
      "model_name": "HTMLModel",
      "state": {
       "layout": "IPY_MODEL_2f4d5e07a2b544328d32e8b38ed620a5",
       "style": "IPY_MODEL_717bea62773d456fa60ae70409c198a6",
       "value": "<i>Markieren Sie <ins>alle</ins> passenden Antworten: </i>"
      }
     },
     "63e99fecee0249beac5870a81ba51788": {
      "model_module": "@jupyter-widgets/base",
      "model_module_version": "1.0.0",
      "model_name": "LayoutModel",
      "state": {}
     },
     "641e4cd0817e45ba82cfc83e4513e310": {
      "model_module": "@jupyter-widgets/controls",
      "model_module_version": "1.2.0",
      "model_name": "HTMLModel",
      "state": {
       "layout": "IPY_MODEL_3233ae6c93924560adbe8bbbdbf5a4d0",
       "style": "IPY_MODEL_20413d162d0241a98d085ede603d6464",
       "value": "<i>Wählen Sie die <ins>eine</ins> korrekte Antwort aus: </i>"
      }
     },
     "6462cb79d2d24a74b6624bf3db231733": {
      "model_module": "@jupyter-widgets/controls",
      "model_module_version": "1.2.0",
      "model_name": "DescriptionStyleModel",
      "state": {
       "description_width": "initial"
      }
     },
     "647aaaca181646b5b40375c0249c892a": {
      "model_module": "@jupyter-widgets/base",
      "model_module_version": "1.0.0",
      "model_name": "LayoutModel",
      "state": {}
     },
     "649ab1fbead34a33aafcd0d2d95dc1fc": {
      "model_module": "@jupyter-widgets/controls",
      "model_module_version": "1.2.0",
      "model_name": "ButtonStyleModel",
      "state": {}
     },
     "64bf9263a936426ca571be2c1c659552": {
      "model_module": "@jupyter-widgets/controls",
      "model_module_version": "1.2.0",
      "model_name": "DescriptionStyleModel",
      "state": {
       "description_width": ""
      }
     },
     "64fc68c32ea84ead9a8c56d760a61ace": {
      "model_module": "@jupyter-widgets/controls",
      "model_module_version": "1.2.0",
      "model_name": "DescriptionStyleModel",
      "state": {
       "description_width": ""
      }
     },
     "655278375cf449568b0346f40e5b2b71": {
      "model_module": "@jupyter-widgets/base",
      "model_module_version": "1.0.0",
      "model_name": "LayoutModel",
      "state": {
       "width": "150px"
      }
     },
     "658e79f3bc684119b5d15e0e4d7c9c0a": {
      "model_module": "@jupyter-widgets/controls",
      "model_module_version": "1.2.0",
      "model_name": "DescriptionStyleModel",
      "state": {
       "description_width": "initial"
      }
     },
     "65a0d3dcc83341b481785c99146888bd": {
      "model_module": "@jupyter-widgets/base",
      "model_module_version": "1.0.0",
      "model_name": "LayoutModel",
      "state": {
       "width": "600px"
      }
     },
     "65c1bba23d8a431db415b785e8bd08d1": {
      "model_module": "@jupyter-widgets/base",
      "model_module_version": "1.0.0",
      "model_name": "LayoutModel",
      "state": {
       "width": "250px"
      }
     },
     "65e2bd381f5c4ec3a1bfd2b952fb32f5": {
      "model_module": "@jupyter-widgets/controls",
      "model_module_version": "1.2.0",
      "model_name": "ButtonStyleModel",
      "state": {}
     },
     "661e776381254db0b9c80196103f0bd4": {
      "model_module": "@jupyter-widgets/controls",
      "model_module_version": "1.2.0",
      "model_name": "ButtonStyleModel",
      "state": {}
     },
     "666b0bf6b3264e219fc36030292f9423": {
      "model_module": "@jupyter-widgets/controls",
      "model_module_version": "1.2.0",
      "model_name": "ButtonModel",
      "state": {
       "description": "past participle",
       "layout": "IPY_MODEL_625014109bf94bf69d619e31ada68744",
       "style": "IPY_MODEL_05b8f3afc8504c8d93210709f2632412"
      }
     },
     "66f67e1a7456488caf366f7fb682fdf3": {
      "model_module": "@jupyter-widgets/controls",
      "model_module_version": "1.2.0",
      "model_name": "ButtonStyleModel",
      "state": {}
     },
     "675ad8a284b1430aadc868aa7bb04501": {
      "model_module": "@jupyter-widgets/controls",
      "model_module_version": "1.2.0",
      "model_name": "VBoxModel",
      "state": {
       "children": [
        "IPY_MODEL_dfe69e1512ef4d1abad00813b2f456dc",
        "IPY_MODEL_8f24ae7b78e5481e86890bd9dc586b85",
        "IPY_MODEL_f8382b03250b4f3c8c874fe40c793c7a",
        "IPY_MODEL_9879d4d949f347c48acd87faacc7ce8c",
        "IPY_MODEL_fdc7fa59e1324582867bde297a3ed1b8"
       ],
       "layout": "IPY_MODEL_404fa525ea954917a8876c266354841f"
      }
     },
     "675ae37ad2f345f790d088da4159dfcb": {
      "model_module": "@jupyter-widgets/controls",
      "model_module_version": "1.2.0",
      "model_name": "ButtonModel",
      "state": {
       "description": "Folge von Wortklassen",
       "layout": "IPY_MODEL_3db7795d7a874b629889006a28cf2357",
       "style": "IPY_MODEL_2254a42aadaf4547914a5de06c606334"
      }
     },
     "6775a5da67b24e478d537f13852c5852": {
      "model_module": "@jupyter-widgets/base",
      "model_module_version": "1.0.0",
      "model_name": "LayoutModel",
      "state": {
       "width": "250px"
      }
     },
     "680fa3c2b0cd4945bd34ed9e1731c9c8": {
      "model_module": "@jupyter-widgets/base",
      "model_module_version": "1.0.0",
      "model_name": "LayoutModel",
      "state": {
       "width": "600px"
      }
     },
     "68502935db8e47a8815e4f8156c0d00e": {
      "model_module": "@jupyter-widgets/controls",
      "model_module_version": "1.2.0",
      "model_name": "DescriptionStyleModel",
      "state": {
       "description_width": ""
      }
     },
     "686a4b2bbd534007b97e3bcc763623e2": {
      "model_module": "@jupyter-widgets/controls",
      "model_module_version": "1.2.0",
      "model_name": "ButtonModel",
      "state": {
       "description": "Lösung zeigen",
       "layout": "IPY_MODEL_5df8096ec50d46ce8021d82332d070c2",
       "style": "IPY_MODEL_2e1cc2555fd24b7fa55d2873f69baecb"
      }
     },
     "68790d4880024d158c410dc8496a3644": {
      "model_module": "@jupyter-widgets/controls",
      "model_module_version": "1.2.0",
      "model_name": "CheckboxModel",
      "state": {
       "description": "Koordinationstest",
       "disabled": false,
       "layout": "IPY_MODEL_c3fd6eaa6260495cb77f652c876ed2ee",
       "style": "IPY_MODEL_ec31c62753a8437fbb54757d25e85c58",
       "value": false
      }
     },
     "68848e540cb2455a80af97c485a12e92": {
      "model_module": "@jupyter-widgets/controls",
      "model_module_version": "1.2.0",
      "model_name": "DescriptionStyleModel",
      "state": {
       "description_width": "initial"
      }
     },
     "68ac6022e61942068db5c2df84f78af3": {
      "model_module": "@jupyter-widgets/controls",
      "model_module_version": "1.2.0",
      "model_name": "DropdownModel",
      "state": {
       "_options_labels": [
        "Köpfe",
        "Länge",
        "Phrasenstruktur",
        " "
       ],
       "index": 3,
       "layout": "IPY_MODEL_109b1bc754504e08b79e971f08b5204f",
       "style": "IPY_MODEL_6981d4b88fa4452d95e0d6f1d4ff587d"
      }
     },
     "68e0a345310d4e8eac61d765c9c35f41": {
      "model_module": "@jupyter-widgets/controls",
      "model_module_version": "1.2.0",
      "model_name": "ButtonStyleModel",
      "state": {}
     },
     "6913c008832f4af8adcd301d84658509": {
      "model_module": "@jupyter-widgets/controls",
      "model_module_version": "1.2.0",
      "model_name": "ButtonModel",
      "state": {
       "description": "Korrekt?",
       "layout": "IPY_MODEL_146a6bdb670c458bae9bb240645e6be8",
       "style": "IPY_MODEL_0901c7f778894258a5b0a2a591a95ead"
      }
     },
     "6927d63d9d1e47a28c5004f502f57875": {
      "model_module": "@jupyter-widgets/controls",
      "model_module_version": "1.2.0",
      "model_name": "HTMLModel",
      "state": {
       "layout": "IPY_MODEL_cc84b953269746f0b6d34859c7f0d23a",
       "style": "IPY_MODEL_5d759c916880408baed6fb86deb6ed29",
       "value": "<h4 style=\"font-size:14px;\">Die Koordination von Phrasen ist dadurch eingeschränkt, dass nur</h4>"
      }
     },
     "6981d4b88fa4452d95e0d6f1d4ff587d": {
      "model_module": "@jupyter-widgets/controls",
      "model_module_version": "1.2.0",
      "model_name": "DescriptionStyleModel",
      "state": {
       "description_width": ""
      }
     },
     "698934991e604e7091afc68910b5de94": {
      "model_module": "@jupyter-widgets/controls",
      "model_module_version": "1.2.0",
      "model_name": "ButtonModel",
      "state": {
       "description": "past participle",
       "layout": "IPY_MODEL_fc220cc8379247969e3dcd258dee2214",
       "style": "IPY_MODEL_a34fefc3fa5b45009820bb959311dfc5"
      }
     },
     "699f6b19fa824593a976642405da36a8": {
      "model_module": "@jupyter-widgets/controls",
      "model_module_version": "1.2.0",
      "model_name": "ButtonStyleModel",
      "state": {}
     },
     "69bcc5d9e0b34b8c955365a71b424b12": {
      "model_module": "@jupyter-widgets/base",
      "model_module_version": "1.0.0",
      "model_name": "LayoutModel",
      "state": {}
     },
     "69be0a62b4fc4f96b111d0dffaa9ec88": {
      "model_module": "@jupyter-widgets/controls",
      "model_module_version": "1.2.0",
      "model_name": "HBoxModel",
      "state": {
       "children": [
        "IPY_MODEL_6c9a47424aaa4a2ba1977a2bd621b902",
        "IPY_MODEL_a2534db4857f471ba2dbb0ad10f1b2bd"
       ],
       "layout": "IPY_MODEL_100c6bdf3de24371af0e94b7a19766dc"
      }
     },
     "69c3db767bab4898bf4e5f62b4940e21": {
      "model_module": "@jupyter-widgets/controls",
      "model_module_version": "1.2.0",
      "model_name": "HTMLModel",
      "state": {
       "layout": "IPY_MODEL_016bf982247d4957856a1977ab3f7cbc",
       "style": "IPY_MODEL_0cb5f078508c45a48195bb9442cd19c2",
       "value": "<h4 style=\"font-size:14px;\">Ersetzbarkeit einer</h4>"
      }
     },
     "6a2356ed00d447e18fd14c45aad419d3": {
      "model_module": "@jupyter-widgets/controls",
      "model_module_version": "1.2.0",
      "model_name": "DescriptionStyleModel",
      "state": {
       "description_width": "initial"
      }
     },
     "6a26006c833b42638ceb415f03b8b16f": {
      "model_module": "@jupyter-widgets/controls",
      "model_module_version": "1.2.0",
      "model_name": "DescriptionStyleModel",
      "state": {
       "description_width": ""
      }
     },
     "6a3ffadc6ecd4488ab916996077759c2": {
      "model_module": "@jupyter-widgets/controls",
      "model_module_version": "1.2.0",
      "model_name": "DescriptionStyleModel",
      "state": {
       "description_width": "initial"
      }
     },
     "6a4d274cfd644f938465906adb62151e": {
      "model_module": "@jupyter-widgets/controls",
      "model_module_version": "1.2.0",
      "model_name": "ButtonStyleModel",
      "state": {}
     },
     "6a509eb142084f44bc269bbf4bcc802b": {
      "model_module": "@jupyter-widgets/base",
      "model_module_version": "1.0.0",
      "model_name": "LayoutModel",
      "state": {}
     },
     "6ab56d1339b84c70836b363a91cd1fb5": {
      "model_module": "@jupyter-widgets/base",
      "model_module_version": "1.0.0",
      "model_name": "LayoutModel",
      "state": {}
     },
     "6ac3d8d2e8aa4766b4691aa9847364c4": {
      "model_module": "@jupyter-widgets/controls",
      "model_module_version": "1.2.0",
      "model_name": "DescriptionStyleModel",
      "state": {
       "description_width": ""
      }
     },
     "6ac515348c264499923b873d9baa766b": {
      "model_module": "@jupyter-widgets/base",
      "model_module_version": "1.0.0",
      "model_name": "LayoutModel",
      "state": {}
     },
     "6b05ab3a59b4417bb60f12f56298f984": {
      "model_module": "@jupyter-widgets/base",
      "model_module_version": "1.0.0",
      "model_name": "LayoutModel",
      "state": {
       "justify_content": "center"
      }
     },
     "6b0bdd4543524130a0856f87823faad5": {
      "model_module": "@jupyter-widgets/base",
      "model_module_version": "1.0.0",
      "model_name": "LayoutModel",
      "state": {
       "width": "600px"
      }
     },
     "6b26e38d5c2f40acb5145265ea2f6cce": {
      "model_module": "@jupyter-widgets/controls",
      "model_module_version": "1.2.0",
      "model_name": "ButtonStyleModel",
      "state": {}
     },
     "6b4682b2f4d4476b8a276b3a8ce21d07": {
      "model_module": "@jupyter-widgets/controls",
      "model_module_version": "1.2.0",
      "model_name": "HTMLModel",
      "state": {
       "layout": "IPY_MODEL_27958b648b254a868860fae5d9b2ccc3",
       "style": "IPY_MODEL_12fa1579b6dc4667923b5fb19cecca36",
       "value": "<i>Wählen Sie die <ins>eine</ins> korrekte Antwort aus: </i>"
      }
     },
     "6b673d19fadb4fb8acc66d206f73289d": {
      "model_module": "@jupyter-widgets/base",
      "model_module_version": "1.0.0",
      "model_name": "LayoutModel",
      "state": {
       "width": "150px"
      }
     },
     "6bb140a42cf64f9d9dcfb44635364513": {
      "model_module": "@jupyter-widgets/base",
      "model_module_version": "1.0.0",
      "model_name": "LayoutModel",
      "state": {
       "width": "600px"
      }
     },
     "6bb9dd8a0c3046d8bcc4a41fe9358f8a": {
      "model_module": "@jupyter-widgets/base",
      "model_module_version": "1.0.0",
      "model_name": "LayoutModel",
      "state": {
       "width": "250px"
      }
     },
     "6bf50b0035434cb188705adb69ba99b4": {
      "model_module": "@jupyter-widgets/controls",
      "model_module_version": "1.2.0",
      "model_name": "ButtonStyleModel",
      "state": {}
     },
     "6bfcc1683a3041179e63573f8cb4875a": {
      "model_module": "@jupyter-widgets/controls",
      "model_module_version": "1.2.0",
      "model_name": "DescriptionStyleModel",
      "state": {
       "description_width": "initial"
      }
     },
     "6c202a85f6994ab3929472d2f7179111": {
      "model_module": "@jupyter-widgets/controls",
      "model_module_version": "1.2.0",
      "model_name": "CheckboxModel",
      "state": {
       "description": "Nur mit einem Schritt beginnt auch eine Reise von tausend Meilen.",
       "disabled": false,
       "layout": "IPY_MODEL_d6db94192edf40f182817a9e92706a8e",
       "style": "IPY_MODEL_12e78bafaeb04afcaa14f68b2976eb6f",
       "value": false
      }
     },
     "6c356c7529394d9ba7b7f8f6625d6de8": {
      "model_module": "@jupyter-widgets/base",
      "model_module_version": "1.0.0",
      "model_name": "LayoutModel",
      "state": {
       "justify_content": "center"
      }
     },
     "6c9a47424aaa4a2ba1977a2bd621b902": {
      "model_module": "@jupyter-widgets/controls",
      "model_module_version": "1.2.0",
      "model_name": "ButtonModel",
      "state": {
       "description": "Adjektiv",
       "layout": "IPY_MODEL_9d8abf4945424487bb38463f1e4a3a53",
       "style": "IPY_MODEL_3d181784fb024c52b2aea77096c547f8"
      }
     },
     "6cdc67edf3bd4d7b80034eecbb3e8b39": {
      "model_module": "@jupyter-widgets/controls",
      "model_module_version": "1.2.0",
      "model_name": "VBoxModel",
      "state": {
       "children": [
        "IPY_MODEL_7522e8280e36402991fef6dc90019b19",
        "IPY_MODEL_daa55aff4cc3428e8a8e0fb0f81f8150",
        "IPY_MODEL_40df080766244e4dbcd9e752969ed7dd",
        "IPY_MODEL_3fdf5a1f5fac49f5a35daac6d45e625a"
       ],
       "layout": "IPY_MODEL_eeb718f2add94907a67c269368bdd109"
      }
     },
     "6d993776773e4c5c9c9459a3d7ecd8c5": {
      "model_module": "@jupyter-widgets/controls",
      "model_module_version": "1.2.0",
      "model_name": "DescriptionStyleModel",
      "state": {
       "description_width": ""
      }
     },
     "6dd244cc9f074076a770f184eb8a0c51": {
      "model_module": "@jupyter-widgets/base",
      "model_module_version": "1.0.0",
      "model_name": "LayoutModel",
      "state": {
       "width": "600px"
      }
     },
     "6dd2eda8086a4536be640905a5098f41": {
      "model_module": "@jupyter-widgets/controls",
      "model_module_version": "1.2.0",
      "model_name": "ButtonStyleModel",
      "state": {}
     },
     "6df76d1fe06a406ea8d393fd5515d7c8": {
      "model_module": "@jupyter-widgets/controls",
      "model_module_version": "1.2.0",
      "model_name": "DescriptionStyleModel",
      "state": {
       "description_width": ""
      }
     },
     "6e3960560f1b4b829a03cd380f60adac": {
      "model_module": "@jupyter-widgets/base",
      "model_module_version": "1.0.0",
      "model_name": "LayoutModel",
      "state": {
       "justify_content": "center"
      }
     },
     "6e5b1c0f7e604432ade7d891581d34de": {
      "model_module": "@jupyter-widgets/controls",
      "model_module_version": "1.2.0",
      "model_name": "HTMLModel",
      "state": {
       "layout": "IPY_MODEL_61812ee1824f467aad6682606846ee2e",
       "style": "IPY_MODEL_a806980eb9794858a3ed026300f55143",
       "value": "<h4 style=\"font-size:14px;\">im Englischen.</h4>"
      }
     },
     "6e742a3d180c4ad788084d236061fa36": {
      "model_module": "@jupyter-widgets/controls",
      "model_module_version": "1.2.0",
      "model_name": "DescriptionStyleModel",
      "state": {
       "description_width": "initial"
      }
     },
     "6e98eb28af8d4e789cb5ea67980afe12": {
      "model_module": "@jupyter-widgets/controls",
      "model_module_version": "1.2.0",
      "model_name": "HBoxModel",
      "state": {
       "children": [
        "IPY_MODEL_c8a10f3ebe0a4a6686271851c4c3a90b",
        "IPY_MODEL_7bc8abfd976941569970f3528de0c224"
       ],
       "layout": "IPY_MODEL_e5af3fd9f85f4e30a62a1507b190ceb0"
      }
     },
     "6eb6b6eeff2e49c1b946073c59c30b81": {
      "model_module": "@jupyter-widgets/controls",
      "model_module_version": "1.2.0",
      "model_name": "HBoxModel",
      "state": {
       "children": [
        "IPY_MODEL_5a92f51fbb274b7d8daa36bf869aa7f0",
        "IPY_MODEL_009b088060df403481d140ba8bbcf097"
       ],
       "layout": "IPY_MODEL_fd678701ed7e461e930e647925532f37"
      }
     },
     "6efdfdb498104b6ab0a56779aa8e3194": {
      "model_module": "@jupyter-widgets/controls",
      "model_module_version": "1.2.0",
      "model_name": "ButtonStyleModel",
      "state": {}
     },
     "6f0a3fa3ec9f4fbaacae0aca7e687c82": {
      "model_module": "@jupyter-widgets/base",
      "model_module_version": "1.0.0",
      "model_name": "LayoutModel",
      "state": {
       "width": "600px"
      }
     },
     "6f19fa81cac646d18f79c793b6f1b866": {
      "model_module": "@jupyter-widgets/controls",
      "model_module_version": "1.2.0",
      "model_name": "ButtonStyleModel",
      "state": {}
     },
     "6f30f00c76374686940353c058ce8c3b": {
      "model_module": "@jupyter-widgets/controls",
      "model_module_version": "1.2.0",
      "model_name": "DescriptionStyleModel",
      "state": {
       "description_width": ""
      }
     },
     "6f3ab125119646499094cbba0d025f4c": {
      "model_module": "@jupyter-widgets/base",
      "model_module_version": "1.0.0",
      "model_name": "LayoutModel",
      "state": {
       "width": "600px"
      }
     },
     "6f48340937584a7ebafa66454ca00792": {
      "model_module": "@jupyter-widgets/controls",
      "model_module_version": "1.2.0",
      "model_name": "HBoxModel",
      "state": {
       "children": [
        "IPY_MODEL_95efd6d7dbcb41de8205e3541188672e",
        "IPY_MODEL_44c76c82597b41b0baca08c407f24945"
       ],
       "layout": "IPY_MODEL_e1e3ea361c414fb8814203e118770220"
      }
     },
     "6f69239dcb6b436bb8d2b1272baa0ccc": {
      "model_module": "@jupyter-widgets/controls",
      "model_module_version": "1.2.0",
      "model_name": "HTMLModel",
      "state": {
       "layout": "IPY_MODEL_d7207407b3ac4a16845afa2c00e4e180",
       "style": "IPY_MODEL_174971885ae1430fbeb9928f563d1c4f",
       "value": "<i>Wählen Sie die <ins>eine</ins> korrekte Antwort aus: </i>"
      }
     },
     "6f716c6808dc47bfa7691f9a2272fadb": {
      "model_module": "@jupyter-widgets/base",
      "model_module_version": "1.0.0",
      "model_name": "LayoutModel",
      "state": {}
     },
     "6f91b26711ad4b63888165b44d53cfda": {
      "model_module": "@jupyter-widgets/controls",
      "model_module_version": "1.2.0",
      "model_name": "CheckboxModel",
      "state": {
       "description": "Mit einem Schritt beginnt eine Reise von tausend Meilen auch nur.",
       "disabled": false,
       "layout": "IPY_MODEL_b588747391c14012be83162df25cee22",
       "style": "IPY_MODEL_59f4fa54548c4fb8b2b466596d3a47d8",
       "value": false
      }
     },
     "6f9887c1694143bda2e89505d357799b": {
      "model_module": "@jupyter-widgets/controls",
      "model_module_version": "1.2.0",
      "model_name": "BoxModel",
      "state": {
       "children": [
        "IPY_MODEL_f58e0c150eb043d48ced327afb6ed445",
        "IPY_MODEL_88e769ad24d84b6c8242043930d28736",
        "IPY_MODEL_4c115528ffb447c1977459807bbb13de",
        "IPY_MODEL_fdf8901a0f124bdfb051e01296d7e885",
        "IPY_MODEL_1053915e93dd4430be15fd7ad45febdc",
        "IPY_MODEL_cc599d152b3049008aed8cdcf8da4e68",
        "IPY_MODEL_89011942703446ceba9a86177bab77a3",
        "IPY_MODEL_dadba7a3d20d452e82a5dad84a6292f5",
        "IPY_MODEL_3c43455d67474f8bafa3a3be185680a1"
       ],
       "layout": "IPY_MODEL_5d93f70c56244d8abd08df8e036fb4cf"
      }
     },
     "6fce487dd4c743bc8a03ed0162218845": {
      "model_module": "@jupyter-widgets/base",
      "model_module_version": "1.0.0",
      "model_name": "LayoutModel",
      "state": {}
     },
     "6fdd4159bef74aab93267152088ab9a0": {
      "model_module": "@jupyter-widgets/controls",
      "model_module_version": "1.2.0",
      "model_name": "DescriptionStyleModel",
      "state": {
       "description_width": ""
      }
     },
     "702d9070e5da44f2936fd1e7bac54496": {
      "model_module": "@jupyter-widgets/base",
      "model_module_version": "1.0.0",
      "model_name": "LayoutModel",
      "state": {}
     },
     "7031fb56f6a341ba86b4298665c86558": {
      "model_module": "@jupyter-widgets/base",
      "model_module_version": "1.0.0",
      "model_name": "LayoutModel",
      "state": {}
     },
     "70672574da7e48ceae8ee3dbf3a0432b": {
      "model_module": "@jupyter-widgets/controls",
      "model_module_version": "1.2.0",
      "model_name": "HTMLModel",
      "state": {
       "layout": "IPY_MODEL_b7661db6dbf047a7872cacbcce8e7c36",
       "style": "IPY_MODEL_26c2024c9f804688a1f098a94067a3bb",
       "value": "<h4 style=\"font-size:14px;\">Welche Eigenschaften hat <i>gut</i> in Satz 2?</h4>"
      }
     },
     "7095976213934ef7a8a577ced8b5ab56": {
      "model_module": "@jupyter-widgets/base",
      "model_module_version": "1.0.0",
      "model_name": "LayoutModel",
      "state": {
       "justify_content": "center"
      }
     },
     "7098ecdbaa644eecacaec20a2feaa31b": {
      "model_module": "@jupyter-widgets/base",
      "model_module_version": "1.0.0",
      "model_name": "LayoutModel",
      "state": {
       "width": "250px"
      }
     },
     "70e5378a28a244e3b06ffffa346c285a": {
      "model_module": "@jupyter-widgets/controls",
      "model_module_version": "1.2.0",
      "model_name": "DescriptionStyleModel",
      "state": {
       "description_width": "initial"
      }
     },
     "70f0b75f7a9f4e248e67c9ea737f8c12": {
      "model_module": "@jupyter-widgets/base",
      "model_module_version": "1.0.0",
      "model_name": "LayoutModel",
      "state": {
       "width": "600px"
      }
     },
     "71680f477e064c549c5e2e1421f54dd6": {
      "model_module": "@jupyter-widgets/controls",
      "model_module_version": "1.2.0",
      "model_name": "HTMLModel",
      "state": {
       "layout": "IPY_MODEL_c436f71f759241cca83152c91e77e07d",
       "style": "IPY_MODEL_f9b7399a0d3c4229ac2e5fb1ed452932",
       "value": "<h4 style=\"font-size:14px;\">durch eine</h4>"
      }
     },
     "717bea62773d456fa60ae70409c198a6": {
      "model_module": "@jupyter-widgets/controls",
      "model_module_version": "1.2.0",
      "model_name": "DescriptionStyleModel",
      "state": {
       "description_width": ""
      }
     },
     "71850e4dfe114a86885e1e7bba9c564c": {
      "model_module": "@jupyter-widgets/controls",
      "model_module_version": "1.2.0",
      "model_name": "DropdownModel",
      "state": {
       "_options_labels": [
        "Konstituente",
        "Phrase",
        " "
       ],
       "index": 2,
       "layout": "IPY_MODEL_ec223f3491b948c4b253a7692f139247",
       "style": "IPY_MODEL_81a2062d24ea4c128a16b0dde21200f5"
      }
     },
     "71c19be127a94551829be5ab46240d5d": {
      "model_module": "@jupyter-widgets/base",
      "model_module_version": "1.0.0",
      "model_name": "LayoutModel",
      "state": {}
     },
     "71cccd421b9c417a8f5fef5d34a3f962": {
      "model_module": "@jupyter-widgets/base",
      "model_module_version": "1.0.0",
      "model_name": "LayoutModel",
      "state": {
       "align_content": "stretch",
       "align_items": "stretch",
       "display": "inline-flex",
       "flex": "flex-grow",
       "flex_flow": "row wrap",
       "justify_content": "flex-start"
      }
     },
     "71d35e551c444f78a674fff5f2ef322e": {
      "model_module": "@jupyter-widgets/controls",
      "model_module_version": "1.2.0",
      "model_name": "ButtonStyleModel",
      "state": {}
     },
     "71eb833925cb4deabb9180d722032adb": {
      "model_module": "@jupyter-widgets/base",
      "model_module_version": "1.0.0",
      "model_name": "LayoutModel",
      "state": {
       "width": "250px"
      }
     },
     "71f01fd8420942e6a2a473976da9011e": {
      "model_module": "@jupyter-widgets/base",
      "model_module_version": "1.0.0",
      "model_name": "LayoutModel",
      "state": {
       "width": "150px"
      }
     },
     "71f649d5845345f3a8f82748268b828c": {
      "model_module": "@jupyter-widgets/controls",
      "model_module_version": "1.2.0",
      "model_name": "HTMLModel",
      "state": {
       "layout": "IPY_MODEL_a63591a2505f493b8c373be3b3954f96",
       "style": "IPY_MODEL_d15617a806ed48e1bd7d517b7a2e8c86",
       "value": "<h4 style=\"font-size:14px;\">In der ersten Zeile des Codes werden</h4>"
      }
     },
     "71f74438a7f446729a61de86ce65101e": {
      "model_module": "@jupyter-widgets/controls",
      "model_module_version": "1.2.0",
      "model_name": "VBoxModel",
      "state": {
       "children": [
        "IPY_MODEL_d948d264ad6f48c894319856aba68599",
        "IPY_MODEL_1b42e05bb71a4ce28a6518e7a9da2e26",
        "IPY_MODEL_6014d9999a1548d3a94134a73c0d9bb2",
        "IPY_MODEL_f14bec8d55f943788cb58c29e1e6bb10"
       ],
       "layout": "IPY_MODEL_6320c998304a4bcd8cab6fe306e8f11e"
      }
     },
     "722fa9ac6ff444de904c35f3dd32e46c": {
      "model_module": "@jupyter-widgets/controls",
      "model_module_version": "1.2.0",
      "model_name": "HTMLModel",
      "state": {
       "layout": "IPY_MODEL_8683d05796a84dc0aa72cf38d526add8",
       "style": "IPY_MODEL_3a830d8b647f41cb89a16a5169e0827f",
       "value": "<h4 style=\"font-size:14px;\">trägt. Das Ergebnis sind die häufigsten zweistelligen syntaktischen Muster des Englischen mit NOUN als rechtem Kontext, nämlich NOUN+NOUN, DET+NOUN und ADJ+NOUN; diese Ergebnisse geben Hinweis auf die NP-</h4>"
      }
     },
     "727b8c190c044470afcaa8e2736daa7d": {
      "model_module": "@jupyter-widgets/controls",
      "model_module_version": "1.2.0",
      "model_name": "ButtonStyleModel",
      "state": {
       "button_color": "lightgreen"
      }
     },
     "72846f388f384b75a775734aee934eb7": {
      "model_module": "@jupyter-widgets/base",
      "model_module_version": "1.0.0",
      "model_name": "LayoutModel",
      "state": {}
     },
     "728eea65f9e143c18bf3e2eeebafc0c6": {
      "model_module": "@jupyter-widgets/controls",
      "model_module_version": "1.2.0",
      "model_name": "VBoxModel",
      "state": {
       "children": [
        "IPY_MODEL_439afd84567d41e2af346b2a84c985f5",
        "IPY_MODEL_4c8b132e58774455b982be8a152684ed",
        "IPY_MODEL_bfd102b123bd4965b23820a60800f26d",
        "IPY_MODEL_5850f5a201d243a39b5c68e5b5f6faf1"
       ],
       "layout": "IPY_MODEL_fd9537fb60d144828829faf9e7b2b562"
      }
     },
     "72a3c1ac85984bd5bc26b83d73eed72d": {
      "model_module": "@jupyter-widgets/controls",
      "model_module_version": "1.2.0",
      "model_name": "DescriptionStyleModel",
      "state": {
       "description_width": "initial"
      }
     },
     "72a50eeab5264436919c9d77ec466d7c": {
      "model_module": "@jupyter-widgets/controls",
      "model_module_version": "1.2.0",
      "model_name": "ButtonStyleModel",
      "state": {}
     },
     "72bdf99012834d8c96c37e0e181b2aec": {
      "model_module": "@jupyter-widgets/controls",
      "model_module_version": "1.2.0",
      "model_name": "DescriptionStyleModel",
      "state": {
       "description_width": ""
      }
     },
     "72d518b90ce84505ab7f412d15f073b5": {
      "model_module": "@jupyter-widgets/controls",
      "model_module_version": "1.2.0",
      "model_name": "CheckboxModel",
      "state": {
       "description": "gleiche Endungen",
       "disabled": false,
       "layout": "IPY_MODEL_89aa44786dde40d2ac7586624780b10c",
       "style": "IPY_MODEL_32ce27fae7f444ac94aeb49ccfc8a543",
       "value": false
      }
     },
     "72da4c153f1d49d2a0bca9b74961aa3b": {
      "model_module": "@jupyter-widgets/base",
      "model_module_version": "1.0.0",
      "model_name": "LayoutModel",
      "state": {}
     },
     "72f99a876c814e85a92622c9ad0e7e0a": {
      "model_module": "@jupyter-widgets/controls",
      "model_module_version": "1.2.0",
      "model_name": "DescriptionStyleModel",
      "state": {
       "description_width": ""
      }
     },
     "732468fbd99146b0811eab20accc9977": {
      "model_module": "@jupyter-widgets/controls",
      "model_module_version": "1.2.0",
      "model_name": "CheckboxModel",
      "state": {
       "description": "gleicher Kontext",
       "disabled": false,
       "layout": "IPY_MODEL_ccf189659e754df8828ed50f3fb471bd",
       "style": "IPY_MODEL_b76dc22ef65641b5893b198f330f1b4c",
       "value": false
      }
     },
     "7399e9d3be144c7d89358249d10af73b": {
      "model_module": "@jupyter-widgets/controls",
      "model_module_version": "1.2.0",
      "model_name": "DescriptionStyleModel",
      "state": {
       "description_width": "initial"
      }
     },
     "740ef1dfc19e48aebc42c095a1729921": {
      "model_module": "@jupyter-widgets/controls",
      "model_module_version": "1.2.0",
      "model_name": "ButtonStyleModel",
      "state": {}
     },
     "746b1c7d4e0b4ef6874836c6c36b3af3": {
      "model_module": "@jupyter-widgets/controls",
      "model_module_version": "1.2.0",
      "model_name": "HTMLModel",
      "state": {
       "layout": "IPY_MODEL_1d6b0336d75f44e8be3fd4158f9c8161",
       "style": "IPY_MODEL_2b12a99b9e0946ad877d62649e1ee05c",
       "value": "<h4 style=\"font-size:14px;\">trägt. Das Ergebnis sind die häufigsten zweistelligen syntaktischen Muster des Englischen mit NOUN als rechtem Kontext, nämlich NOUN+NOUN, DET+NOUN und ADJ+NOUN; diese Ergebnisse geben Hinweis auf die NP-</h4>"
      }
     },
     "746f5cc35f6f4fd5a0234b988b3b7709": {
      "model_module": "@jupyter-widgets/controls",
      "model_module_version": "1.2.0",
      "model_name": "HTMLModel",
      "state": {
       "layout": "IPY_MODEL_fb300981b955410ea35b4cccd40dabdc",
       "style": "IPY_MODEL_94dd3fab2a964d91b5c9daedef8bafe3",
       "value": "<h4 style=\"font-size:14px;\">Welche Wortart könnte man für das Wort <i>gut</i> in Satz 2 vermuten, wenn man Adverbien nicht morphologisch, sondern semantisch charakterisiert (als Wortart, die der Modifizierung des Verbalgeschehens dient)?</h4>"
      }
     },
     "74a0cfb08977434883483ab6515b2499": {
      "model_module": "@jupyter-widgets/controls",
      "model_module_version": "1.2.0",
      "model_name": "DescriptionStyleModel",
      "state": {
       "description_width": ""
      }
     },
     "74cdecc7e26043e298931f503c052d05": {
      "model_module": "@jupyter-widgets/controls",
      "model_module_version": "1.2.0",
      "model_name": "CheckboxModel",
      "state": {
       "description": "gleiche syntagmatische Position",
       "disabled": false,
       "layout": "IPY_MODEL_4847af4dd1374f229c575182dcb9f236",
       "style": "IPY_MODEL_e3918b94ada440189028a59d39b7bbe4",
       "value": false
      }
     },
     "74d41c082abe44199a7600cf8e7ea4b4": {
      "model_module": "@jupyter-widgets/controls",
      "model_module_version": "1.2.0",
      "model_name": "HTMLModel",
      "state": {
       "layout": "IPY_MODEL_1d27c71c7d714afc82634f96e23c1675",
       "style": "IPY_MODEL_b3ebb424789c4685820042a21214042b",
       "value": "<i>Markieren Sie <ins>alle</ins> passenden Antworten: </i>"
      }
     },
     "7522e8280e36402991fef6dc90019b19": {
      "model_module": "@jupyter-widgets/controls",
      "model_module_version": "1.2.0",
      "model_name": "HTMLModel",
      "state": {
       "layout": "IPY_MODEL_b129ef6962164cefaa2569a345398217",
       "style": "IPY_MODEL_32a9392df34c4ab78f78e01b0d66bbf1",
       "value": "<h4 style=\"font-size:14px;\">Welche Eigenschaften hat <i>gerne</i> in Satz 1?</h4>"
      }
     },
     "756d2353e8c7417e948e751cde7aac33": {
      "model_module": "@jupyter-widgets/controls",
      "model_module_version": "1.2.0",
      "model_name": "ButtonModel",
      "state": {
       "description": "Korrekt?",
       "layout": "IPY_MODEL_b291b987a2d24c2d82e47a0d9d8f8529",
       "style": "IPY_MODEL_fb4c6152805341a48133735398919e99"
      }
     },
     "756f1067791a43a3a8be48a623079784": {
      "model_module": "@jupyter-widgets/controls",
      "model_module_version": "1.2.0",
      "model_name": "ButtonStyleModel",
      "state": {}
     },
     "758ad791cf4645e3ac5fe909131b1636": {
      "model_module": "@jupyter-widgets/controls",
      "model_module_version": "1.2.0",
      "model_name": "VBoxModel",
      "state": {
       "children": [
        "IPY_MODEL_382912b249af48ffa102158b9548b2f5",
        "IPY_MODEL_ce705682e78b4d3799842531905a568f",
        "IPY_MODEL_c52d9480bdd445f48bf7860b8148fd09",
        "IPY_MODEL_a6f8ee993dee400d8b52cba737e9f3c8"
       ],
       "layout": "IPY_MODEL_05abb530f2e14467924585b23dd9edbe"
      }
     },
     "75c069bad4be4cf6b1c281800a1975be": {
      "model_module": "@jupyter-widgets/base",
      "model_module_version": "1.0.0",
      "model_name": "LayoutModel",
      "state": {
       "width": "250px"
      }
     },
     "75efb3ee219040d7b52ca31563f5a3b6": {
      "model_module": "@jupyter-widgets/controls",
      "model_module_version": "1.2.0",
      "model_name": "CheckboxModel",
      "state": {
       "description": "Koordinationstest",
       "disabled": false,
       "layout": "IPY_MODEL_78c5e84de3d34018ad0d3c606cd8fb13",
       "style": "IPY_MODEL_70e5378a28a244e3b06ffffa346c285a",
       "value": false
      }
     },
     "7601a01f83e7496cbb78eb8f1b882cf6": {
      "model_module": "@jupyter-widgets/base",
      "model_module_version": "1.0.0",
      "model_name": "LayoutModel",
      "state": {
       "width": "250px"
      }
     },
     "760a3211d9424674a8278c40e795cbb6": {
      "model_module": "@jupyter-widgets/controls",
      "model_module_version": "1.2.0",
      "model_name": "DescriptionStyleModel",
      "state": {
       "description_width": "initial"
      }
     },
     "761b5e5345214d2eb82f73cccc25c83a": {
      "model_module": "@jupyter-widgets/base",
      "model_module_version": "1.0.0",
      "model_name": "LayoutModel",
      "state": {
       "width": "250px"
      }
     },
     "7622924ec506460fb72b509668ac4147": {
      "model_module": "@jupyter-widgets/controls",
      "model_module_version": "1.2.0",
      "model_name": "ButtonStyleModel",
      "state": {}
     },
     "7623f401d1214a509461d7c76524a22c": {
      "model_module": "@jupyter-widgets/base",
      "model_module_version": "1.0.0",
      "model_name": "LayoutModel",
      "state": {
       "width": "600px"
      }
     },
     "762e92b7332b4d36ae02a5acb608e792": {
      "model_module": "@jupyter-widgets/controls",
      "model_module_version": "1.2.0",
      "model_name": "DescriptionStyleModel",
      "state": {
       "description_width": "initial"
      }
     },
     "7655c7086b1f43ae87772f3df0dcd5c5": {
      "model_module": "@jupyter-widgets/base",
      "model_module_version": "1.0.0",
      "model_name": "LayoutModel",
      "state": {
       "justify_content": "center"
      }
     },
     "766197304c064c71a179b90b063f3513": {
      "model_module": "@jupyter-widgets/base",
      "model_module_version": "1.0.0",
      "model_name": "LayoutModel",
      "state": {
       "width": "250px"
      }
     },
     "768ca528220e42e2bf8a81fbf63a8541": {
      "model_module": "@jupyter-widgets/base",
      "model_module_version": "1.0.0",
      "model_name": "LayoutModel",
      "state": {
       "align_content": "stretch",
       "align_items": "stretch",
       "display": "inline-flex",
       "flex": "flex-grow",
       "flex_flow": "row wrap",
       "justify_content": "flex-start"
      }
     },
     "7690e947e764417ea2167a21e4f35ce2": {
      "model_module": "@jupyter-widgets/base",
      "model_module_version": "1.0.0",
      "model_name": "LayoutModel",
      "state": {
       "justify_content": "center"
      }
     },
     "7693872cdd4e41bfaf007c7967549d38": {
      "model_module": "@jupyter-widgets/controls",
      "model_module_version": "1.2.0",
      "model_name": "ButtonModel",
      "state": {
       "description": "Korrekt?",
       "layout": "IPY_MODEL_d189d7e8608b463b8429f97a8523972e",
       "style": "IPY_MODEL_96baef3d39014395a0e1b6aad81f6f5c"
      }
     },
     "76bb912bafce489da9b2cc82639af0d2": {
      "model_module": "@jupyter-widgets/controls",
      "model_module_version": "1.2.0",
      "model_name": "DescriptionStyleModel",
      "state": {
       "description_width": "initial"
      }
     },
     "76c22f475ed7495ca6d7640676b9b4e5": {
      "model_module": "@jupyter-widgets/base",
      "model_module_version": "1.0.0",
      "model_name": "LayoutModel",
      "state": {
       "width": "150px"
      }
     },
     "770f277bcf5b454b8337e4349f4919a3": {
      "model_module": "@jupyter-widgets/base",
      "model_module_version": "1.0.0",
      "model_name": "LayoutModel",
      "state": {
       "justify_content": "center"
      }
     },
     "77216fd682d849039a87f779154c7300": {
      "model_module": "@jupyter-widgets/controls",
      "model_module_version": "1.2.0",
      "model_name": "DescriptionStyleModel",
      "state": {
       "description_width": ""
      }
     },
     "7726acf595bd459695526e1c2d7675c3": {
      "model_module": "@jupyter-widgets/base",
      "model_module_version": "1.0.0",
      "model_name": "LayoutModel",
      "state": {
       "width": "250px"
      }
     },
     "772a328aaeb44c6b8292c1a61c0523ee": {
      "model_module": "@jupyter-widgets/controls",
      "model_module_version": "1.2.0",
      "model_name": "DescriptionStyleModel",
      "state": {
       "description_width": ""
      }
     },
     "77312844067642f496985b75766f05c5": {
      "model_module": "@jupyter-widgets/base",
      "model_module_version": "1.0.0",
      "model_name": "LayoutModel",
      "state": {}
     },
     "7733aac590684c46b9da683b5d134344": {
      "model_module": "@jupyter-widgets/base",
      "model_module_version": "1.0.0",
      "model_name": "LayoutModel",
      "state": {
       "justify_content": "center"
      }
     },
     "77be9f3046774e4a98082d1a2163b584": {
      "model_module": "@jupyter-widgets/controls",
      "model_module_version": "1.2.0",
      "model_name": "HTMLModel",
      "state": {
       "layout": "IPY_MODEL_3baba7f87db642f787cd6a08a167292d",
       "style": "IPY_MODEL_5ee5e8fecf4b4dc5a8c6e62ccdb76a2f",
       "value": "<i>Vervollständigen Sie den Lückentext: </i>"
      }
     },
     "77cc2a8bab174ea4bc4aff066929fe13": {
      "model_module": "@jupyter-widgets/controls",
      "model_module_version": "1.2.0",
      "model_name": "DescriptionStyleModel",
      "state": {
       "description_width": "initial"
      }
     },
     "77e499c355cb4d27b6836058a4fd4f35": {
      "model_module": "@jupyter-widgets/controls",
      "model_module_version": "1.2.0",
      "model_name": "DescriptionStyleModel",
      "state": {
       "description_width": "initial"
      }
     },
     "77ef4425dd334fc9853f82bcc228598c": {
      "model_module": "@jupyter-widgets/base",
      "model_module_version": "1.0.0",
      "model_name": "LayoutModel",
      "state": {}
     },
     "7847e6c7707d4690ac00d541f63510ab": {
      "model_module": "@jupyter-widgets/base",
      "model_module_version": "1.0.0",
      "model_name": "LayoutModel",
      "state": {
       "width": "600px"
      }
     },
     "78760654130e4711b31ea8159b906575": {
      "model_module": "@jupyter-widgets/controls",
      "model_module_version": "1.2.0",
      "model_name": "DropdownModel",
      "state": {
       "_options_labels": [
        "kürzeren",
        "längeren",
        " "
       ],
       "index": 2,
       "layout": "IPY_MODEL_71f01fd8420942e6a2a473976da9011e",
       "style": "IPY_MODEL_4ece0852c08544cab4c6f8dd260982ce"
      }
     },
     "78c5e84de3d34018ad0d3c606cd8fb13": {
      "model_module": "@jupyter-widgets/base",
      "model_module_version": "1.0.0",
      "model_name": "LayoutModel",
      "state": {
       "width": "600px"
      }
     },
     "79879721f9864ee7bb2b72a1b0e45e01": {
      "model_module": "@jupyter-widgets/controls",
      "model_module_version": "1.2.0",
      "model_name": "DescriptionStyleModel",
      "state": {
       "description_width": ""
      }
     },
     "7a2c0e9cf4f647f384f4669cb00bf9b7": {
      "model_module": "@jupyter-widgets/controls",
      "model_module_version": "1.2.0",
      "model_name": "ButtonModel",
      "state": {
       "description": "simple past",
       "layout": "IPY_MODEL_81a8aac869454486bd502754362ba30d",
       "style": "IPY_MODEL_e86c79953005428daa562cc7b7cc9988"
      }
     },
     "7a69811d3f494be2a30305cebc11373d": {
      "model_module": "@jupyter-widgets/controls",
      "model_module_version": "1.2.0",
      "model_name": "ButtonModel",
      "state": {
       "description": "Korrekt?",
       "layout": "IPY_MODEL_da6939390aa844b1b68afffb39d39bee",
       "style": "IPY_MODEL_02896e75150943acb41552723249a069"
      }
     },
     "7a69880c7e45446fa45cdcacddd5282e": {
      "model_module": "@jupyter-widgets/controls",
      "model_module_version": "1.2.0",
      "model_name": "DescriptionStyleModel",
      "state": {
       "description_width": ""
      }
     },
     "7aaf5881d85f4f438efd4597502ce54c": {
      "model_module": "@jupyter-widgets/controls",
      "model_module_version": "1.2.0",
      "model_name": "HTMLModel",
      "state": {
       "layout": "IPY_MODEL_45fe757805784a8b93f6dfeac823c870",
       "style": "IPY_MODEL_ac3c4abbd28b4df88c25517a0e0f8ec2",
       "value": "<h4 style=\"font-size:14px;\">. Es gehört zu einer komplexen</h4>"
      }
     },
     "7abea22a52a44196ae144894e58c1c63": {
      "model_module": "@jupyter-widgets/controls",
      "model_module_version": "1.2.0",
      "model_name": "DescriptionStyleModel",
      "state": {
       "description_width": ""
      }
     },
     "7ae7c272d2194b91821769b972e5a5bc": {
      "model_module": "@jupyter-widgets/controls",
      "model_module_version": "1.2.0",
      "model_name": "DescriptionStyleModel",
      "state": {
       "description_width": "initial"
      }
     },
     "7af650856e92482ab69c95a153846547": {
      "model_module": "@jupyter-widgets/controls",
      "model_module_version": "1.2.0",
      "model_name": "DescriptionStyleModel",
      "state": {
       "description_width": ""
      }
     },
     "7b00f87ec4cc4e47b7c711eb7f0f9abe": {
      "model_module": "@jupyter-widgets/base",
      "model_module_version": "1.0.0",
      "model_name": "LayoutModel",
      "state": {}
     },
     "7b19a28c40d6438c8e705d9fdcea8aad": {
      "model_module": "@jupyter-widgets/controls",
      "model_module_version": "1.2.0",
      "model_name": "DescriptionStyleModel",
      "state": {
       "description_width": ""
      }
     },
     "7b268953a6ff44a88168335fc8ae3b53": {
      "model_module": "@jupyter-widgets/base",
      "model_module_version": "1.0.0",
      "model_name": "LayoutModel",
      "state": {
       "width": "600px"
      }
     },
     "7b40d7769d354c70a00df7cf8f0a8223": {
      "model_module": "@jupyter-widgets/controls",
      "model_module_version": "1.2.0",
      "model_name": "ButtonModel",
      "state": {
       "description": "past participle",
       "layout": "IPY_MODEL_2d3bc9bafaa6445d8ab9796e71c6f66e",
       "style": "IPY_MODEL_93b2d663fdc142cb82e853dd041637d1"
      }
     },
     "7b67da34eb3046db84d8f299826ebd29": {
      "model_module": "@jupyter-widgets/base",
      "model_module_version": "1.0.0",
      "model_name": "LayoutModel",
      "state": {
       "width": "600px"
      }
     },
     "7b97a01cf98944a9922b314217d6f831": {
      "model_module": "@jupyter-widgets/controls",
      "model_module_version": "1.2.0",
      "model_name": "DescriptionStyleModel",
      "state": {
       "description_width": "initial"
      }
     },
     "7bafb311df694857b6fecc726a89ca20": {
      "model_module": "@jupyter-widgets/controls",
      "model_module_version": "1.2.0",
      "model_name": "VBoxModel",
      "state": {
       "children": [
        "IPY_MODEL_0367e53f4e304041bb08ae44c1ff7866",
        "IPY_MODEL_d6cdead2b762497dabbaa5413f05f788",
        "IPY_MODEL_1995e0c2269149d5bcae72669936672d",
        "IPY_MODEL_213441fa045c40cab61d24819968096b"
       ],
       "layout": "IPY_MODEL_ce8c84f1e07945098cf7e4bbd856cf8d"
      }
     },
     "7bc8abfd976941569970f3528de0c224": {
      "model_module": "@jupyter-widgets/controls",
      "model_module_version": "1.2.0",
      "model_name": "ButtonModel",
      "state": {
       "description": "past participle",
       "layout": "IPY_MODEL_b60497e94663416b8a1597effe46c31a",
       "style": "IPY_MODEL_bdc0b948343c4109a4d411cbeac871eb"
      }
     },
     "7bcfc32e612440ada867033293a825c0": {
      "model_module": "@jupyter-widgets/controls",
      "model_module_version": "1.2.0",
      "model_name": "DescriptionStyleModel",
      "state": {
       "description_width": "initial"
      }
     },
     "7bea3366569a477cbc5931e0de409f7e": {
      "model_module": "@jupyter-widgets/controls",
      "model_module_version": "1.2.0",
      "model_name": "DescriptionStyleModel",
      "state": {
       "description_width": ""
      }
     },
     "7bec3c970c3e44cdb9e4d37e2c85ae61": {
      "model_module": "@jupyter-widgets/controls",
      "model_module_version": "1.2.0",
      "model_name": "HTMLModel",
      "state": {
       "layout": "IPY_MODEL_6a509eb142084f44bc269bbf4bcc802b",
       "style": "IPY_MODEL_9f01fb2cefd14f028a1b01c5b50727c9",
       "value": "<h4 style=\"font-size:14px;\">Welcher ist der richtig permutierte Satz?</h4>"
      }
     },
     "7c324577ce124967a768a1f0030734ca": {
      "model_module": "@jupyter-widgets/base",
      "model_module_version": "1.0.0",
      "model_name": "LayoutModel",
      "state": {
       "width": "250px"
      }
     },
     "7c368f831fef47ac8dd7427081daa5a3": {
      "model_module": "@jupyter-widgets/controls",
      "model_module_version": "1.2.0",
      "model_name": "VBoxModel",
      "state": {
       "children": [
        "IPY_MODEL_77be9f3046774e4a98082d1a2163b584",
        "IPY_MODEL_d2669a5097c84b5ba1d77e8be092b5be",
        "IPY_MODEL_3b042d5fc0e44fb1b9ad5fb8eaa2334c"
       ],
       "layout": "IPY_MODEL_e872a52d9a414c04872b091dd0f1d809"
      }
     },
     "7c430dc0c8f84ee5942823ec758c5bee": {
      "model_module": "@jupyter-widgets/controls",
      "model_module_version": "1.2.0",
      "model_name": "DropdownModel",
      "state": {
       "_options_labels": [
        " ",
        "NP",
        "PP",
        "VP",
        " "
       ],
       "index": 3,
       "layout": "IPY_MODEL_0470bfe5fda348b190a024c53518e3fe",
       "style": "IPY_MODEL_0040a97a3ae54ec1b24694bb5f2cdd8f"
      }
     },
     "7c58edffdfcd4eaf902782321135f486": {
      "model_module": "@jupyter-widgets/controls",
      "model_module_version": "1.2.0",
      "model_name": "DescriptionStyleModel",
      "state": {
       "description_width": ""
      }
     },
     "7c71343c6e5b400fb13ea2efdf74a0a6": {
      "model_module": "@jupyter-widgets/base",
      "model_module_version": "1.0.0",
      "model_name": "LayoutModel",
      "state": {}
     },
     "7ca602bb3bc2489198555e95054e57a4": {
      "model_module": "@jupyter-widgets/controls",
      "model_module_version": "1.2.0",
      "model_name": "HTMLModel",
      "state": {
       "layout": "IPY_MODEL_40addfbe80ad4f619d193ba65efbd0a9",
       "style": "IPY_MODEL_61309ee3918a4d918f236bbf8b8b63ea",
       "value": "<h4 style=\"font-size:14px;\">Was bedeutet das Tag <i>VB</i> im Browntagset (siehe 5.7)?</h4>"
      }
     },
     "7cac18ad99554477b355277e301dac3f": {
      "model_module": "@jupyter-widgets/base",
      "model_module_version": "1.0.0",
      "model_name": "LayoutModel",
      "state": {
       "width": "250px"
      }
     },
     "7d08c48898384b3795d681eb3b0f6002": {
      "model_module": "@jupyter-widgets/base",
      "model_module_version": "1.0.0",
      "model_name": "LayoutModel",
      "state": {
       "justify_content": "center"
      }
     },
     "7d2d1856833c48aab8bb1615b330db84": {
      "model_module": "@jupyter-widgets/base",
      "model_module_version": "1.0.0",
      "model_name": "LayoutModel",
      "state": {
       "width": "250px"
      }
     },
     "7d5676dc6d804a2181a95c76b69162fa": {
      "model_module": "@jupyter-widgets/base",
      "model_module_version": "1.0.0",
      "model_name": "LayoutModel",
      "state": {
       "justify_content": "center"
      }
     },
     "7d596428c78b4a85bb9c52c7a227e600": {
      "model_module": "@jupyter-widgets/controls",
      "model_module_version": "1.2.0",
      "model_name": "ButtonStyleModel",
      "state": {}
     },
     "7d7bb11907ad4091a895b21592961619": {
      "model_module": "@jupyter-widgets/controls",
      "model_module_version": "1.2.0",
      "model_name": "VBoxModel",
      "state": {
       "children": [
        "IPY_MODEL_a8477005ace54a2f8c453743ee7d1989",
        "IPY_MODEL_4a6dcc71ca8e46008a772e84710eddcc",
        "IPY_MODEL_220d3ebfed8e4435a53f8bc149d48303"
       ],
       "layout": "IPY_MODEL_e6174ad64df349ad913e3ffba21f0143"
      }
     },
     "7d8389e78d624545b4b8cff17780f7b9": {
      "model_module": "@jupyter-widgets/controls",
      "model_module_version": "1.2.0",
      "model_name": "DescriptionStyleModel",
      "state": {
       "description_width": ""
      }
     },
     "7d8f57c240534cfc893bf5e2e52a57c5": {
      "model_module": "@jupyter-widgets/controls",
      "model_module_version": "1.2.0",
      "model_name": "ButtonModel",
      "state": {
       "description": "3rd singular present",
       "layout": "IPY_MODEL_3552a1f982264443b3c212cb7f6c394e",
       "style": "IPY_MODEL_740ef1dfc19e48aebc42c095a1729921"
      }
     },
     "7dad28971db84379870eba7e7b237f75": {
      "model_module": "@jupyter-widgets/base",
      "model_module_version": "1.0.0",
      "model_name": "LayoutModel",
      "state": {
       "width": "150px"
      }
     },
     "7daf1abc1eec4e1f94f3da5871c0d00f": {
      "model_module": "@jupyter-widgets/controls",
      "model_module_version": "1.2.0",
      "model_name": "DescriptionStyleModel",
      "state": {
       "description_width": "initial"
      }
     },
     "7e610a41fc744a7dadc188120830d0a4": {
      "model_module": "@jupyter-widgets/controls",
      "model_module_version": "1.2.0",
      "model_name": "CheckboxModel",
      "state": {
       "description": "Es ist flektierbar.",
       "disabled": false,
       "layout": "IPY_MODEL_fe67e792901e47bbb3c8bd78ec3d471d",
       "style": "IPY_MODEL_2a445f211bfc47ebae5ad7b0051f56a6",
       "value": false
      }
     },
     "7e650aea2a6149cfa6bbad2072ffe49d": {
      "model_module": "@jupyter-widgets/controls",
      "model_module_version": "1.2.0",
      "model_name": "DescriptionStyleModel",
      "state": {
       "description_width": ""
      }
     },
     "7e8cb8745ed3417eb653848fd2351b19": {
      "model_module": "@jupyter-widgets/base",
      "model_module_version": "1.0.0",
      "model_name": "LayoutModel",
      "state": {}
     },
     "7ec11ecf362e4a3a9e232f2f5c5e9341": {
      "model_module": "@jupyter-widgets/base",
      "model_module_version": "1.0.0",
      "model_name": "LayoutModel",
      "state": {
       "width": "250px"
      }
     },
     "7edc9a51c29c496e9972f9b1acc645aa": {
      "model_module": "@jupyter-widgets/controls",
      "model_module_version": "1.2.0",
      "model_name": "DescriptionStyleModel",
      "state": {
       "description_width": ""
      }
     },
     "7efd269a903f4eae964e5897921a452c": {
      "model_module": "@jupyter-widgets/controls",
      "model_module_version": "1.2.0",
      "model_name": "DescriptionStyleModel",
      "state": {
       "description_width": ""
      }
     },
     "7f882c541ce04236a1de72c66ba6523c": {
      "model_module": "@jupyter-widgets/controls",
      "model_module_version": "1.2.0",
      "model_name": "VBoxModel",
      "state": {
       "children": [
        "IPY_MODEL_f8b6fbb6cb974fd893922f0d7e43d1a7",
        "IPY_MODEL_56c9cbef8dc549cbafccf6ddcea71762",
        "IPY_MODEL_93b63ec4ef6140d1aecdb2aa19349c7d",
        "IPY_MODEL_3e4c83f3dd4a4b48977859434bdc9844",
        "IPY_MODEL_eea92881352f49949a4354f2f823dbcc"
       ],
       "layout": "IPY_MODEL_a40a085e21534d2fa8ac993ee60dfcc3"
      }
     },
     "7f928f157c694a99a03974773cd0ca8d": {
      "model_module": "@jupyter-widgets/controls",
      "model_module_version": "1.2.0",
      "model_name": "CheckboxModel",
      "state": {
       "description": "gleiche Endungen",
       "disabled": false,
       "layout": "IPY_MODEL_6b0bdd4543524130a0856f87823faad5",
       "style": "IPY_MODEL_10a29d61c88e4e4583581d67fe45a071",
       "value": false
      }
     },
     "7f944004cc7744df8e74182a339a8ef5": {
      "model_module": "@jupyter-widgets/base",
      "model_module_version": "1.0.0",
      "model_name": "LayoutModel",
      "state": {
       "width": "250px"
      }
     },
     "7fe8548ac8ee4c65b1640216491ea3ab": {
      "model_module": "@jupyter-widgets/controls",
      "model_module_version": "1.2.0",
      "model_name": "CheckboxModel",
      "state": {
       "description": "Es ist flektierbar.",
       "disabled": false,
       "layout": "IPY_MODEL_e47fc76e875443b4a6a2e84e50d5097c",
       "style": "IPY_MODEL_7b97a01cf98944a9922b314217d6f831",
       "value": true
      }
     },
     "8012723aadfd468a9ead9b89cc9bb698": {
      "model_module": "@jupyter-widgets/controls",
      "model_module_version": "1.2.0",
      "model_name": "ButtonStyleModel",
      "state": {}
     },
     "8052c773a5b04832910eff74d72ffcf6": {
      "model_module": "@jupyter-widgets/base",
      "model_module_version": "1.0.0",
      "model_name": "LayoutModel",
      "state": {
       "justify_content": "center"
      }
     },
     "80fe76dc066048479e1a519cb36a97a0": {
      "model_module": "@jupyter-widgets/controls",
      "model_module_version": "1.2.0",
      "model_name": "ButtonStyleModel",
      "state": {}
     },
     "81228b4133a54aceac5f88053382127b": {
      "model_module": "@jupyter-widgets/controls",
      "model_module_version": "1.2.0",
      "model_name": "HBoxModel",
      "state": {
       "children": [
        "IPY_MODEL_7a69811d3f494be2a30305cebc11373d",
        "IPY_MODEL_34a121b9c61f42a7905366c4a1f8351c"
       ],
       "layout": "IPY_MODEL_6ac515348c264499923b873d9baa766b"
      }
     },
     "813b9ca890fe40839431febed5a2787f": {
      "model_module": "@jupyter-widgets/controls",
      "model_module_version": "1.2.0",
      "model_name": "ButtonModel",
      "state": {
       "description": "simple past",
       "layout": "IPY_MODEL_e920dd9f3c46491faf0f96eb50823103",
       "style": "IPY_MODEL_9734f755820140c89acc6b79d8e55237"
      }
     },
     "814005a11e134097901136ae105b5d01": {
      "model_module": "@jupyter-widgets/controls",
      "model_module_version": "1.2.0",
      "model_name": "DropdownModel",
      "state": {
       "_options_labels": [
        "Konstituente",
        "Phrase",
        " "
       ],
       "index": 1,
       "layout": "IPY_MODEL_b98fe24e71be4816947ee2ce60c40a2d",
       "style": "IPY_MODEL_72f99a876c814e85a92622c9ad0e7e0a"
      }
     },
     "817916bd25eb48be99314d869cb8e445": {
      "model_module": "@jupyter-widgets/controls",
      "model_module_version": "1.2.0",
      "model_name": "HBoxModel",
      "state": {
       "children": [
        "IPY_MODEL_93eca29746934f2792b5ac8abc65bc40",
        "IPY_MODEL_c64399322cb646a69c78599384670f44"
       ],
       "layout": "IPY_MODEL_60ce2ed4cdad48c8b8e7295b373fce61"
      }
     },
     "81a2062d24ea4c128a16b0dde21200f5": {
      "model_module": "@jupyter-widgets/controls",
      "model_module_version": "1.2.0",
      "model_name": "DescriptionStyleModel",
      "state": {
       "description_width": ""
      }
     },
     "81a8aac869454486bd502754362ba30d": {
      "model_module": "@jupyter-widgets/base",
      "model_module_version": "1.0.0",
      "model_name": "LayoutModel",
      "state": {
       "width": "250px"
      }
     },
     "81af7728b5d64833b16080914f22fc3d": {
      "model_module": "@jupyter-widgets/base",
      "model_module_version": "1.0.0",
      "model_name": "LayoutModel",
      "state": {}
     },
     "81e0e28c7aba49538a99087446cbddd0": {
      "model_module": "@jupyter-widgets/controls",
      "model_module_version": "1.2.0",
      "model_name": "HTMLModel",
      "state": {
       "layout": "IPY_MODEL_5c3544788ee14b86bca8f03064960c45",
       "style": "IPY_MODEL_e2fe23fba3e04c1face022eca228e126",
       "value": "<h4 style=\"font-size:14px;\">Was bedeutet das Tag <i>VBG</i> im Browntagset (siehe 5.7)?</h4>"
      }
     },
     "81f409f5173741dd8a01b55c0003da61": {
      "model_module": "@jupyter-widgets/controls",
      "model_module_version": "1.2.0",
      "model_name": "CheckboxModel",
      "state": {
       "description": "gleiche Endungen",
       "disabled": false,
       "layout": "IPY_MODEL_6bb140a42cf64f9d9dcfb44635364513",
       "style": "IPY_MODEL_51b75ce1c5e147898b6d58ccbc23374e",
       "value": false
      }
     },
     "81f5b11300aa4143859511ccbc3b2d18": {
      "model_module": "@jupyter-widgets/controls",
      "model_module_version": "1.2.0",
      "model_name": "ButtonStyleModel",
      "state": {}
     },
     "82346973247b419fb2879c296616a19f": {
      "model_module": "@jupyter-widgets/controls",
      "model_module_version": "1.2.0",
      "model_name": "HBoxModel",
      "state": {
       "children": [
        "IPY_MODEL_2b26e69363544a4fb24cbcb23d7f20bd",
        "IPY_MODEL_d85720abf2104f4c8be15e93844a0f48"
       ],
       "layout": "IPY_MODEL_bf0ee8b8234145afbe52c5fc387dac23"
      }
     },
     "82722bce32bf4bb5accc723b7a2ad677": {
      "model_module": "@jupyter-widgets/base",
      "model_module_version": "1.0.0",
      "model_name": "LayoutModel",
      "state": {
       "justify_content": "center"
      }
     },
     "827bade57ddf4091bdfc510aa976fad6": {
      "model_module": "@jupyter-widgets/base",
      "model_module_version": "1.0.0",
      "model_name": "LayoutModel",
      "state": {}
     },
     "829232ef1b634b8d9723ee7b39f8162f": {
      "model_module": "@jupyter-widgets/controls",
      "model_module_version": "1.2.0",
      "model_name": "ButtonModel",
      "state": {
       "description": "Korrekt?",
       "layout": "IPY_MODEL_e264e49563444b06847696d0263a055e",
       "style": "IPY_MODEL_94e5d24b067344a49f6a16219bfcfd07"
      }
     },
     "8298b34edd95431092c592db531f3376": {
      "model_module": "@jupyter-widgets/base",
      "model_module_version": "1.0.0",
      "model_name": "LayoutModel",
      "state": {}
     },
     "82a456f6008247dbb2234cf086c24961": {
      "model_module": "@jupyter-widgets/base",
      "model_module_version": "1.0.0",
      "model_name": "LayoutModel",
      "state": {}
     },
     "82ae001014194a44a8c713c83fa6c393": {
      "model_module": "@jupyter-widgets/controls",
      "model_module_version": "1.2.0",
      "model_name": "DescriptionStyleModel",
      "state": {
       "description_width": ""
      }
     },
     "82ae5ec5e3bb416da76b26dc61c2c767": {
      "model_module": "@jupyter-widgets/controls",
      "model_module_version": "1.2.0",
      "model_name": "CheckboxModel",
      "state": {
       "description": "Es fungiert als Satzglied mit der syntaktischen Funktion Adverbial.",
       "disabled": false,
       "layout": "IPY_MODEL_446a6eea3fcf4cfa9392400aaa7b5536",
       "style": "IPY_MODEL_77cc2a8bab174ea4bc4aff066929fe13",
       "value": false
      }
     },
     "83281334cd4347db9ea69ef646459b6e": {
      "model_module": "@jupyter-widgets/base",
      "model_module_version": "1.0.0",
      "model_name": "LayoutModel",
      "state": {
       "width": "250px"
      }
     },
     "8336c82aca3e46a5aaf3468657bc50df": {
      "model_module": "@jupyter-widgets/controls",
      "model_module_version": "1.2.0",
      "model_name": "VBoxModel",
      "state": {
       "children": [
        "IPY_MODEL_33bbf2144ca94d4a9681dd9ee8196011",
        "IPY_MODEL_399e96aa323c431f968af04aad445c5d",
        "IPY_MODEL_2639efd89a7d43eda8482b9dc3c78b4a"
       ],
       "layout": "IPY_MODEL_dbcf2ef35779479d80747953971a2eda"
      }
     },
     "83466017edd64d389d4731137a8751e9": {
      "model_module": "@jupyter-widgets/base",
      "model_module_version": "1.0.0",
      "model_name": "LayoutModel",
      "state": {
       "justify_content": "center"
      }
     },
     "835dee16415a40eb8cdb8c4f2da64e27": {
      "model_module": "@jupyter-widgets/controls",
      "model_module_version": "1.2.0",
      "model_name": "HTMLModel",
      "state": {
       "layout": "IPY_MODEL_9fcf5f0fe09f486aa4302a1908ffd9d3",
       "style": "IPY_MODEL_f7c4782dad9544e89915214dbcb4be4e",
       "value": "<h4 style=\"font-size:14px;\">Was sind syntaktische Kriterien für Wortkategorien?</h4>"
      }
     },
     "837fd41b507a48778ac1aefa62347d26": {
      "model_module": "@jupyter-widgets/controls",
      "model_module_version": "1.2.0",
      "model_name": "ButtonModel",
      "state": {
       "description": "past participle",
       "layout": "IPY_MODEL_bfecb397ae2b4b0cae9a594ac5b185e1",
       "style": "IPY_MODEL_6efdfdb498104b6ab0a56779aa8e3194"
      }
     },
     "839e63cc59b14fd18624a5a27c8f4b2e": {
      "model_module": "@jupyter-widgets/controls",
      "model_module_version": "1.2.0",
      "model_name": "DescriptionStyleModel",
      "state": {
       "description_width": "initial"
      }
     },
     "83c2dc316ac14891b8911df87dd23fec": {
      "model_module": "@jupyter-widgets/controls",
      "model_module_version": "1.2.0",
      "model_name": "HBoxModel",
      "state": {
       "children": [
        "IPY_MODEL_fa106c7be2074b9991842e461f385830",
        "IPY_MODEL_57c3c8c76e0e4d0898bc743e8aaa69c0"
       ],
       "layout": "IPY_MODEL_4018389bca8a48629054cb0522546a6e"
      }
     },
     "83d1fc2bffe34bbca57f9d26958cd2cb": {
      "model_module": "@jupyter-widgets/base",
      "model_module_version": "1.0.0",
      "model_name": "LayoutModel",
      "state": {
       "width": "250px"
      }
     },
     "840b03b0a8ad4dc899d06f0d6e8cd4dc": {
      "model_module": "@jupyter-widgets/base",
      "model_module_version": "1.0.0",
      "model_name": "LayoutModel",
      "state": {
       "justify_content": "center"
      }
     },
     "84b642c8634b428b965a2a9cdef2db56": {
      "model_module": "@jupyter-widgets/controls",
      "model_module_version": "1.2.0",
      "model_name": "ButtonModel",
      "state": {
       "description": "base",
       "layout": "IPY_MODEL_cb584be6e2084ddb85044117b3f2c49e",
       "style": "IPY_MODEL_6b26e38d5c2f40acb5145265ea2f6cce"
      }
     },
     "84c907b98ed8476c8ce6852de094d747": {
      "model_module": "@jupyter-widgets/base",
      "model_module_version": "1.0.0",
      "model_name": "LayoutModel",
      "state": {
       "align_content": "stretch",
       "align_items": "stretch",
       "display": "inline-flex",
       "flex": "flex-grow",
       "flex_flow": "row wrap",
       "justify_content": "flex-start"
      }
     },
     "85634c894b4f46ecb63b28f20f3b7a34": {
      "model_module": "@jupyter-widgets/controls",
      "model_module_version": "1.2.0",
      "model_name": "ButtonModel",
      "state": {
       "description": "Korrekt?",
       "layout": "IPY_MODEL_187dbd60c5ec4ef48a3555baf56931e2",
       "style": "IPY_MODEL_d271767189d844d8ae6cc2f1342f72d1"
      }
     },
     "860b81f0413a4c2ab2f8b7951ded265e": {
      "model_module": "@jupyter-widgets/base",
      "model_module_version": "1.0.0",
      "model_name": "LayoutModel",
      "state": {
       "width": "250px"
      }
     },
     "86304d36145749abaa20a144ade502f6": {
      "model_module": "@jupyter-widgets/controls",
      "model_module_version": "1.2.0",
      "model_name": "HTMLModel",
      "state": {
       "layout": "IPY_MODEL_f753fc0ea4334068a668760555e48769",
       "style": "IPY_MODEL_b1054f05d3c441908d5ea44547618dc0",
       "value": "<h4 style=\"font-size:14px;\">Was bedeutet das Tag <i>VBG</i> im Browntagset (siehe 5.7)?</h4>"
      }
     },
     "8683d05796a84dc0aa72cf38d526add8": {
      "model_module": "@jupyter-widgets/base",
      "model_module_version": "1.0.0",
      "model_name": "LayoutModel",
      "state": {}
     },
     "86c23b46e5084efd8dacce073e6d8874": {
      "model_module": "@jupyter-widgets/base",
      "model_module_version": "1.0.0",
      "model_name": "LayoutModel",
      "state": {
       "width": "150px"
      }
     },
     "86f7d18df9e441b19871cda6452c5cb8": {
      "model_module": "@jupyter-widgets/controls",
      "model_module_version": "1.2.0",
      "model_name": "DescriptionStyleModel",
      "state": {
       "description_width": ""
      }
     },
     "86fc3b2577ba4c0399e3e8b4f72ab8b6": {
      "model_module": "@jupyter-widgets/base",
      "model_module_version": "1.0.0",
      "model_name": "LayoutModel",
      "state": {
       "width": "250px"
      }
     },
     "86fcf63ed7dd41c0b1a1d9c1303202d9": {
      "model_module": "@jupyter-widgets/base",
      "model_module_version": "1.0.0",
      "model_name": "LayoutModel",
      "state": {}
     },
     "871118bbe4c6415e9258a590be7161ab": {
      "model_module": "@jupyter-widgets/controls",
      "model_module_version": "1.2.0",
      "model_name": "DescriptionStyleModel",
      "state": {
       "description_width": "initial"
      }
     },
     "8712d3d7dfcc4a4c8714494ff4b84dc4": {
      "model_module": "@jupyter-widgets/base",
      "model_module_version": "1.0.0",
      "model_name": "LayoutModel",
      "state": {}
     },
     "873f2858b8b4441f8fa6a6c343105ea2": {
      "model_module": "@jupyter-widgets/controls",
      "model_module_version": "1.2.0",
      "model_name": "DescriptionStyleModel",
      "state": {
       "description_width": ""
      }
     },
     "87ce7f129b42407a9349433248ae8c30": {
      "model_module": "@jupyter-widgets/base",
      "model_module_version": "1.0.0",
      "model_name": "LayoutModel",
      "state": {
       "width": "250px"
      }
     },
     "88056478e35a43d0819bfbb2427e5d59": {
      "model_module": "@jupyter-widgets/base",
      "model_module_version": "1.0.0",
      "model_name": "LayoutModel",
      "state": {
       "justify_content": "center"
      }
     },
     "88526e554f1640f6b5fb6aaba2fc7e0c": {
      "model_module": "@jupyter-widgets/controls",
      "model_module_version": "1.2.0",
      "model_name": "HTMLModel",
      "state": {
       "layout": "IPY_MODEL_5f18aac9a117420ab393fdfee6e73659",
       "style": "IPY_MODEL_b842c17a93fa4abdb3d6bb4a9aa18bc3",
       "value": "<h4 style=\"font-size:14px;\">Kategorie.</h4>"
      }
     },
     "8852b2e8c81242519d9b1d9edef02419": {
      "model_module": "@jupyter-widgets/controls",
      "model_module_version": "1.2.0",
      "model_name": "DescriptionStyleModel",
      "state": {
       "description_width": ""
      }
     },
     "8853276b21c547a88b3e9bfd8fc98419": {
      "model_module": "@jupyter-widgets/controls",
      "model_module_version": "1.2.0",
      "model_name": "CheckboxModel",
      "state": {
       "description": "Es fungiert als Satzglied mit der syntaktischen Funktion Adverbial.",
       "disabled": false,
       "layout": "IPY_MODEL_404ee1cdeb4d444e9e87d64373c1f079",
       "style": "IPY_MODEL_1acf95144f9e452f9426f98f4c9ee180",
       "value": true
      }
     },
     "88e04ab296a84b8d9b6889793e1c7ddd": {
      "model_module": "@jupyter-widgets/controls",
      "model_module_version": "1.2.0",
      "model_name": "DropdownModel",
      "state": {
       "_options_labels": [
        " ",
        "NP",
        "PP",
        "VP",
        " "
       ],
       "index": 0,
       "layout": "IPY_MODEL_e904607ada924debb295f5c8c23bb877",
       "style": "IPY_MODEL_3ec4d05df2cf4cc298b5350b6ea939cf"
      }
     },
     "88e769ad24d84b6c8242043930d28736": {
      "model_module": "@jupyter-widgets/controls",
      "model_module_version": "1.2.0",
      "model_name": "DropdownModel",
      "state": {
       "_options_labels": [
        "Bigramm",
        "Trigramm",
        "Unigramm",
        " "
       ],
       "index": 3,
       "layout": "IPY_MODEL_5e5aef5f032640c3bb77ce8e76866a26",
       "style": "IPY_MODEL_94b35fc45f534b66aff4125848a5997b"
      }
     },
     "88f36a5f89d3479bbf10d39adc48e069": {
      "model_module": "@jupyter-widgets/controls",
      "model_module_version": "1.2.0",
      "model_name": "TextareaModel",
      "state": {
       "layout": "IPY_MODEL_242ecdbe8ab34604b727342b318130d6",
       "placeholder": "Type something",
       "style": "IPY_MODEL_b2e2a3be90f84abea2272c48d6d7ffe7",
       "value": "nltk.____()"
      }
     },
     "88fac10f67a140469535b72d00673991": {
      "model_module": "@jupyter-widgets/controls",
      "model_module_version": "1.2.0",
      "model_name": "VBoxModel",
      "state": {
       "children": [
        "IPY_MODEL_f2a502da447842c4aa7453c1ba22efae",
        "IPY_MODEL_5abb7f3dda374cad8981364f63dcb190",
        "IPY_MODEL_0714e1065b834dc4bb0705fdefb14f50",
        "IPY_MODEL_d609dfdfb4454bf3b87db5f6a7bcaf7e"
       ],
       "layout": "IPY_MODEL_0589512f81b348a785cb01edbf029424"
      }
     },
     "88ff5bfbf3e64979882957e4bc957844": {
      "model_module": "@jupyter-widgets/controls",
      "model_module_version": "1.2.0",
      "model_name": "ButtonStyleModel",
      "state": {}
     },
     "89011942703446ceba9a86177bab77a3": {
      "model_module": "@jupyter-widgets/controls",
      "model_module_version": "1.2.0",
      "model_name": "HTMLModel",
      "state": {
       "layout": "IPY_MODEL_ac4e38c0282549b1b8cc2f831faa9141",
       "style": "IPY_MODEL_b97d999ee44348b5aa989c28d314b313",
       "value": "<h4 style=\"font-size:14px;\">trägt. Das Ergebnis sind die häufigsten zweistelligen syntaktischen Muster des Englischen mit NOUN als rechtem Kontext, nämlich NOUN+NOUN, DET+NOUN und ADJ+NOUN; diese Ergebnisse geben Hinweis auf die NP-</h4>"
      }
     },
     "8974a4176dd84c1995ae11f5c0d61fce": {
      "model_module": "@jupyter-widgets/controls",
      "model_module_version": "1.2.0",
      "model_name": "ButtonModel",
      "state": {
       "description": "Keine der anderen Möglichkeiten",
       "layout": "IPY_MODEL_6bb9dd8a0c3046d8bcc4a41fe9358f8a",
       "style": "IPY_MODEL_022de624a12d49e8ae2f9e4e0ead525b"
      }
     },
     "89826c49e10d4d4cbc3e2a0374082d41": {
      "model_module": "@jupyter-widgets/controls",
      "model_module_version": "1.2.0",
      "model_name": "ButtonModel",
      "state": {
       "description": "3rd singular present",
       "layout": "IPY_MODEL_54731af491224859bf977b409d7e10d0",
       "style": "IPY_MODEL_19313be0668c493497940d933eccbd5f"
      }
     },
     "89aa44786dde40d2ac7586624780b10c": {
      "model_module": "@jupyter-widgets/base",
      "model_module_version": "1.0.0",
      "model_name": "LayoutModel",
      "state": {
       "width": "600px"
      }
     },
     "8a41a87a807a40218afeda7bf7e797f9": {
      "model_module": "@jupyter-widgets/controls",
      "model_module_version": "1.2.0",
      "model_name": "VBoxModel",
      "state": {
       "children": [
        "IPY_MODEL_9f604f7953734e3d9c4fe406ba54872c",
        "IPY_MODEL_aad4940829be49f0a77fba62ec79e36f",
        "IPY_MODEL_aa5aec1e15d44367b155511d93e19e2a",
        "IPY_MODEL_2e1f69f074ab418f8523b1b3158552c6"
       ],
       "layout": "IPY_MODEL_917ab765d84348dfbae23c17c88d0c1b"
      }
     },
     "8a6f97ad0f3049008abc1637a001ce79": {
      "model_module": "@jupyter-widgets/controls",
      "model_module_version": "1.2.0",
      "model_name": "VBoxModel",
      "state": {
       "children": [
        "IPY_MODEL_c22634d2e22d40c79067e27413b70b3b",
        "IPY_MODEL_6f9887c1694143bda2e89505d357799b",
        "IPY_MODEL_ad13fabcb61d41bfb3f00114278ece75"
       ],
       "layout": "IPY_MODEL_4a78bd96d7d94bbcbed8e19bc3c1b3e2"
      }
     },
     "8a7d830a73b34ba68e68a57d453a3cb4": {
      "model_module": "@jupyter-widgets/base",
      "model_module_version": "1.0.0",
      "model_name": "LayoutModel",
      "state": {}
     },
     "8ab68e301e734e439621c2893110bc9a": {
      "model_module": "@jupyter-widgets/controls",
      "model_module_version": "1.2.0",
      "model_name": "HTMLModel",
      "state": {
       "layout": "IPY_MODEL_0508d3b843a141ef9ff7682d57b9e07f",
       "style": "IPY_MODEL_873f2858b8b4441f8fa6a6c343105ea2",
       "value": "<i>Markieren Sie <ins>alle</ins> passenden Antworten: </i>"
      }
     },
     "8ac4ce956baa4b54a6f857c1851a67cf": {
      "model_module": "@jupyter-widgets/controls",
      "model_module_version": "1.2.0",
      "model_name": "ButtonModel",
      "state": {
       "description": "Korrekt?",
       "layout": "IPY_MODEL_0d0fafb6c15646fc81b79a9abd7ecd78",
       "style": "IPY_MODEL_66f67e1a7456488caf366f7fb682fdf3"
      }
     },
     "8acf576253794496a509d79b5eb2e443": {
      "model_module": "@jupyter-widgets/base",
      "model_module_version": "1.0.0",
      "model_name": "LayoutModel",
      "state": {}
     },
     "8b2337471d27477bb1473558e771c75d": {
      "model_module": "@jupyter-widgets/controls",
      "model_module_version": "1.2.0",
      "model_name": "DropdownModel",
      "state": {
       "_options_labels": [
        "Köpfe",
        "Länge",
        "Phrasenstruktur",
        " "
       ],
       "index": 3,
       "layout": "IPY_MODEL_5b8669f120fe44e99dea8536da58c049",
       "style": "IPY_MODEL_6f30f00c76374686940353c058ce8c3b"
      }
     },
     "8b3cf996157148e3a7e2b6658126628a": {
      "model_module": "@jupyter-widgets/base",
      "model_module_version": "1.0.0",
      "model_name": "LayoutModel",
      "state": {
       "width": "250px"
      }
     },
     "8b458c587ba448ea83d2b862ad72cdd8": {
      "model_module": "@jupyter-widgets/controls",
      "model_module_version": "1.2.0",
      "model_name": "DescriptionStyleModel",
      "state": {
       "description_width": ""
      }
     },
     "8b8a6d65b39a45ad9295249c0544601a": {
      "model_module": "@jupyter-widgets/controls",
      "model_module_version": "1.2.0",
      "model_name": "ButtonModel",
      "state": {
       "description": "base",
       "layout": "IPY_MODEL_0b1590da9e82440da212190c797fbf23",
       "style": "IPY_MODEL_14041b4ba5914b9283aebf99e2a0b701"
      }
     },
     "8bc43eaeef5f4b5eb8c26fa5fcef1a60": {
      "model_module": "@jupyter-widgets/controls",
      "model_module_version": "1.2.0",
      "model_name": "VBoxModel",
      "state": {
       "children": [
        "IPY_MODEL_7bec3c970c3e44cdb9e4d37e2c85ae61",
        "IPY_MODEL_ef22792d8b9347b892527930d7a7663b",
        "IPY_MODEL_cab5b4c5f6f44f5281622a6a5bab986d",
        "IPY_MODEL_eb8bda4e4fdd47e1b06f662a7cb628df"
       ],
       "layout": "IPY_MODEL_6ab56d1339b84c70836b363a91cd1fb5"
      }
     },
     "8bcbed09b5bb42de9955fb8f5cdce28f": {
      "model_module": "@jupyter-widgets/base",
      "model_module_version": "1.0.0",
      "model_name": "LayoutModel",
      "state": {}
     },
     "8c043d0d526c4b24a043c47c7e66aae1": {
      "model_module": "@jupyter-widgets/base",
      "model_module_version": "1.0.0",
      "model_name": "LayoutModel",
      "state": {}
     },
     "8c1808b4306742b3b7d8cabee7952574": {
      "model_module": "@jupyter-widgets/controls",
      "model_module_version": "1.2.0",
      "model_name": "HTMLModel",
      "state": {
       "layout": "IPY_MODEL_e123a55f8de84410a67ad4965881637a",
       "style": "IPY_MODEL_7b19a28c40d6438c8e705d9fdcea8aad",
       "value": "<h4 style=\"font-size:14px;\">Welche Wortart folgt damit für das Wort <i>gut</i> in Satz 2?</h4>"
      }
     },
     "8c3e8d0bc967418aac2cffdd1d8535ed": {
      "model_module": "@jupyter-widgets/controls",
      "model_module_version": "1.2.0",
      "model_name": "HTMLModel",
      "state": {
       "layout": "IPY_MODEL_c92f51cf91d044c08bf245af557b5403",
       "style": "IPY_MODEL_82ae001014194a44a8c713c83fa6c393",
       "value": "<h4 style=\"font-size:14px;\">Welche Eigenschaften hat <i>gerne</i> in Satz 1?</h4>"
      }
     },
     "8c6a6c300f53475cbd94e58aa76f6fc2": {
      "model_module": "@jupyter-widgets/controls",
      "model_module_version": "1.2.0",
      "model_name": "HTMLModel",
      "state": {
       "layout": "IPY_MODEL_c9cd3079d1d34b33ac2de64f3c50a69e",
       "style": "IPY_MODEL_e65e3d49ded442619a89ea386db6fe7f",
       "value": "<h4 style=\"font-size:14px;\">Welche Eigenschaften hat <i>gut</i> in Satz 2?</h4>"
      }
     },
     "8c6b2c117de04786aef7e1017bbf82c5": {
      "model_module": "@jupyter-widgets/controls",
      "model_module_version": "1.2.0",
      "model_name": "DescriptionStyleModel",
      "state": {
       "description_width": ""
      }
     },
     "8cd55c9c049041c5a67baac7f19afda3": {
      "model_module": "@jupyter-widgets/base",
      "model_module_version": "1.0.0",
      "model_name": "LayoutModel",
      "state": {
       "width": "600px"
      }
     },
     "8cd94742a894407090babc076f4a5672": {
      "model_module": "@jupyter-widgets/controls",
      "model_module_version": "1.2.0",
      "model_name": "HBoxModel",
      "state": {
       "children": [
        "IPY_MODEL_614ea12753fe477ea0942344310ca20e",
        "IPY_MODEL_af5b104fc15c4167b98815f170379096"
       ],
       "layout": "IPY_MODEL_7031fb56f6a341ba86b4298665c86558"
      }
     },
     "8d15ed5cdab448649e73aaa32f30a337": {
      "model_module": "@jupyter-widgets/base",
      "model_module_version": "1.0.0",
      "model_name": "LayoutModel",
      "state": {}
     },
     "8d2d0501cdca49c78d490b2bf41d827a": {
      "model_module": "@jupyter-widgets/controls",
      "model_module_version": "1.2.0",
      "model_name": "DescriptionStyleModel",
      "state": {
       "description_width": ""
      }
     },
     "8d3075a3c33b44baa8124f5344fdc222": {
      "model_module": "@jupyter-widgets/controls",
      "model_module_version": "1.2.0",
      "model_name": "ButtonModel",
      "state": {
       "description": "base",
       "layout": "IPY_MODEL_2996f3a8a25645c8b42be79b471047fb",
       "style": "IPY_MODEL_3cf79bd1b1764c48a5c85c9b3d9af47e"
      }
     },
     "8d71ca09da4949f09f0e993c729a8be8": {
      "model_module": "@jupyter-widgets/base",
      "model_module_version": "1.0.0",
      "model_name": "LayoutModel",
      "state": {}
     },
     "8d82fc0251864e1b9e35ef2c56419cee": {
      "model_module": "@jupyter-widgets/base",
      "model_module_version": "1.0.0",
      "model_name": "LayoutModel",
      "state": {}
     },
     "8d8955618c6a4720911a8790ea4bc6a9": {
      "model_module": "@jupyter-widgets/base",
      "model_module_version": "1.0.0",
      "model_name": "LayoutModel",
      "state": {}
     },
     "8de9afecce714541a4c2ca4046137a44": {
      "model_module": "@jupyter-widgets/controls",
      "model_module_version": "1.2.0",
      "model_name": "CheckboxModel",
      "state": {
       "description": "Zu einem Wort werden alle Wörter gefunden, die in gleichen Kontexten vorkommen.",
       "disabled": false,
       "layout": "IPY_MODEL_934629635f284bf6b5d76619dbf98631",
       "style": "IPY_MODEL_d8653182893b4c18838300d282d97159",
       "value": false
      }
     },
     "8e06b6feeafc4de08261081b71990209": {
      "model_module": "@jupyter-widgets/controls",
      "model_module_version": "1.2.0",
      "model_name": "DescriptionStyleModel",
      "state": {
       "description_width": ""
      }
     },
     "8e09dd67fdb24244a785a8c593ebb5a0": {
      "model_module": "@jupyter-widgets/base",
      "model_module_version": "1.0.0",
      "model_name": "LayoutModel",
      "state": {}
     },
     "8e0f907f6cee4f02bc71d46e9c668b35": {
      "model_module": "@jupyter-widgets/base",
      "model_module_version": "1.0.0",
      "model_name": "LayoutModel",
      "state": {
       "width": "600px"
      }
     },
     "8e1f9b570a0f438781a5123fee11a2ee": {
      "model_module": "@jupyter-widgets/controls",
      "model_module_version": "1.2.0",
      "model_name": "VBoxModel",
      "state": {
       "children": [
        "IPY_MODEL_f40f06d9ac2348be83688843ba298253",
        "IPY_MODEL_3394cd66dddd4d09bf3f7cbec06a5498",
        "IPY_MODEL_5834d21e18ab4d6b9a510296253b4c89",
        "IPY_MODEL_12495ce19c7f47b5b6a1491bac867df6",
        "IPY_MODEL_058a55da7bae4748a32a7cb4b213c1bf"
       ],
       "layout": "IPY_MODEL_cdd71e36b2544af4afa9b2d1900c86b7"
      }
     },
     "8e40620a711f476fa7604992faf0ac1d": {
      "model_module": "@jupyter-widgets/controls",
      "model_module_version": "1.2.0",
      "model_name": "ButtonStyleModel",
      "state": {}
     },
     "8e796fe20a22466fa0d877467e30bfd3": {
      "model_module": "@jupyter-widgets/base",
      "model_module_version": "1.0.0",
      "model_name": "LayoutModel",
      "state": {}
     },
     "8e847107abac496cbfdb2f96b5199903": {
      "model_module": "@jupyter-widgets/base",
      "model_module_version": "1.0.0",
      "model_name": "LayoutModel",
      "state": {
       "width": "250px"
      }
     },
     "8eb07ebcd3cb4b7eb9580b7a1200faae": {
      "model_module": "@jupyter-widgets/controls",
      "model_module_version": "1.2.0",
      "model_name": "DescriptionStyleModel",
      "state": {
       "description_width": ""
      }
     },
     "8ed58e5c5a0c4b4c86bf0fc7dd10161c": {
      "model_module": "@jupyter-widgets/controls",
      "model_module_version": "1.2.0",
      "model_name": "VBoxModel",
      "state": {
       "children": [
        "IPY_MODEL_97f0ba8717cd485bbae9954d474c42b9",
        "IPY_MODEL_fb4b81e3fa7b48dc8856ccec314d36f0",
        "IPY_MODEL_74cdecc7e26043e298931f503c052d05",
        "IPY_MODEL_93894aae1c2740e1a4a79d95762c325f"
       ],
       "layout": "IPY_MODEL_373dae6511194a30b2215bc27c18be50"
      }
     },
     "8efdf925c53840f29472797725acf159": {
      "model_module": "@jupyter-widgets/base",
      "model_module_version": "1.0.0",
      "model_name": "LayoutModel",
      "state": {
       "width": "250px"
      }
     },
     "8f24ae7b78e5481e86890bd9dc586b85": {
      "model_module": "@jupyter-widgets/controls",
      "model_module_version": "1.2.0",
      "model_name": "HTMLModel",
      "state": {
       "layout": "IPY_MODEL_7d5676dc6d804a2181a95c76b69162fa",
       "style": "IPY_MODEL_41d896fa9b424de4bf85536f979cc44e",
       "value": "<i>Wählen Sie die <ins>eine</ins> korrekte Antwort aus: </i>"
      }
     },
     "8f282ded65f74298bdd82dc06f5eced9": {
      "model_module": "@jupyter-widgets/controls",
      "model_module_version": "1.2.0",
      "model_name": "HBoxModel",
      "state": {
       "children": [
        "IPY_MODEL_552e91411e1b423eb686b2cee94b0d61",
        "IPY_MODEL_12647469bd724e4f8dde743749105571"
       ],
       "layout": "IPY_MODEL_c0afada7805e49e2b79ea7bf53c88d5c"
      }
     },
     "8f3669e82ac8415d97068c7dadc33613": {
      "model_module": "@jupyter-widgets/controls",
      "model_module_version": "1.2.0",
      "model_name": "ButtonModel",
      "state": {
       "description": "3rd singular present",
       "layout": "IPY_MODEL_e41d55e6bba945dcbc6dcb7edc2e4173",
       "style": "IPY_MODEL_fad6c2b1ae944821842d1956b5e6fc6d"
      }
     },
     "8f48da55c1204d9489dda96707c9a498": {
      "model_module": "@jupyter-widgets/base",
      "model_module_version": "1.0.0",
      "model_name": "LayoutModel",
      "state": {}
     },
     "8f5786af566a4413973fbfcb8bdf2662": {
      "model_module": "@jupyter-widgets/base",
      "model_module_version": "1.0.0",
      "model_name": "LayoutModel",
      "state": {}
     },
     "8faf6ed097204d63b52d03fd5c6ac6eb": {
      "model_module": "@jupyter-widgets/controls",
      "model_module_version": "1.2.0",
      "model_name": "ButtonStyleModel",
      "state": {}
     },
     "8ff1b16e585d462c9e75eb99366bee21": {
      "model_module": "@jupyter-widgets/base",
      "model_module_version": "1.0.0",
      "model_name": "LayoutModel",
      "state": {
       "width": "600px"
      }
     },
     "9010fea4299f4a54a1da8c57b42f3d83": {
      "model_module": "@jupyter-widgets/base",
      "model_module_version": "1.0.0",
      "model_name": "LayoutModel",
      "state": {
       "width": "250px"
      }
     },
     "9034963a026a41ec90c6b70849629404": {
      "model_module": "@jupyter-widgets/controls",
      "model_module_version": "1.2.0",
      "model_name": "ButtonModel",
      "state": {
       "description": "Keine der anderen Möglichkeiten",
       "layout": "IPY_MODEL_b9cf811af8fc483fb57f12ac130bcf82",
       "style": "IPY_MODEL_c87995a81392412681708588591f18fb"
      }
     },
     "905279fd49c343e58cf92d363a18d10c": {
      "model_module": "@jupyter-widgets/base",
      "model_module_version": "1.0.0",
      "model_name": "LayoutModel",
      "state": {
       "width": "250px"
      }
     },
     "906b69f72a4b44c188b803014809831d": {
      "model_module": "@jupyter-widgets/controls",
      "model_module_version": "1.2.0",
      "model_name": "HTMLModel",
      "state": {
       "layout": "IPY_MODEL_593197b6e8c24c889531cc73502a4126",
       "style": "IPY_MODEL_e25723a7b1c44f91958f98c369e963c4",
       "value": "<h4 style=\"font-size:14px;\">Was leistet die Funktion <code>nltk.similar()</code>?</h4>"
      }
     },
     "9070f43b1d3646b7a924f95550d8980f": {
      "model_module": "@jupyter-widgets/base",
      "model_module_version": "1.0.0",
      "model_name": "LayoutModel",
      "state": {
       "width": "250px"
      }
     },
     "908464c4c82e47d9a47505cd0474cb28": {
      "model_module": "@jupyter-widgets/controls",
      "model_module_version": "1.2.0",
      "model_name": "DescriptionStyleModel",
      "state": {
       "description_width": "initial"
      }
     },
     "90ab83c25a3e46b6be74da4e96a0a541": {
      "model_module": "@jupyter-widgets/base",
      "model_module_version": "1.0.0",
      "model_name": "LayoutModel",
      "state": {
       "width": "250px"
      }
     },
     "90ac08aac19a4cb98889e45fbe7f4571": {
      "model_module": "@jupyter-widgets/controls",
      "model_module_version": "1.2.0",
      "model_name": "CheckboxModel",
      "state": {
       "description": "Substitutionstest",
       "disabled": false,
       "layout": "IPY_MODEL_b003b086188d437288dea8fc964e63a7",
       "style": "IPY_MODEL_5f0fad8411a645f58e194a3bf5f88c90",
       "value": false
      }
     },
     "90bb9845e2574072afd2406335b90527": {
      "model_module": "@jupyter-widgets/controls",
      "model_module_version": "1.2.0",
      "model_name": "ButtonModel",
      "state": {
       "description": "Partikel",
       "layout": "IPY_MODEL_9070f43b1d3646b7a924f95550d8980f",
       "style": "IPY_MODEL_d6d4f43a5f284c7cb3e50f40fe0fd3b2"
      }
     },
     "9143c95c678549b398570c2236a13eb0": {
      "model_module": "@jupyter-widgets/base",
      "model_module_version": "1.0.0",
      "model_name": "LayoutModel",
      "state": {
       "width": "250px"
      }
     },
     "91608f25f3004d0b91d2a23c326ae698": {
      "model_module": "@jupyter-widgets/controls",
      "model_module_version": "1.2.0",
      "model_name": "DescriptionStyleModel",
      "state": {
       "description_width": ""
      }
     },
     "917ab765d84348dfbae23c17c88d0c1b": {
      "model_module": "@jupyter-widgets/base",
      "model_module_version": "1.0.0",
      "model_name": "LayoutModel",
      "state": {}
     },
     "91ee56ff8cf5457e85dd1a8441f95866": {
      "model_module": "@jupyter-widgets/controls",
      "model_module_version": "1.2.0",
      "model_name": "HBoxModel",
      "state": {
       "children": [
        "IPY_MODEL_e053449637b24e6f89cce808cb3b5b6b",
        "IPY_MODEL_b3c326255924482597a88a2fb784d283"
       ],
       "layout": "IPY_MODEL_a139778817904a21aa068690c8e2ca1a"
      }
     },
     "921cc165626745aabd708c6561464936": {
      "model_module": "@jupyter-widgets/controls",
      "model_module_version": "1.2.0",
      "model_name": "ButtonStyleModel",
      "state": {}
     },
     "922a279051f449d79cc5e62352779863": {
      "model_module": "@jupyter-widgets/controls",
      "model_module_version": "1.2.0",
      "model_name": "ButtonModel",
      "state": {
       "description": "Adverb",
       "layout": "IPY_MODEL_579404e426b74529850040e7d5cdde26",
       "style": "IPY_MODEL_c8fde776c4cd463fac536003fae2e8a6"
      }
     },
     "922c3c89db894fd4bae98c7c254275b0": {
      "model_module": "@jupyter-widgets/controls",
      "model_module_version": "1.2.0",
      "model_name": "CheckboxModel",
      "state": {
       "description": "Es ist flektierbar.",
       "disabled": false,
       "layout": "IPY_MODEL_29f3e95bef49490e9b201bed43544461",
       "style": "IPY_MODEL_edd572252be849e0a85c3165499087eb",
       "value": false
      }
     },
     "931673459c014101a6790c10d43c0007": {
      "model_module": "@jupyter-widgets/controls",
      "model_module_version": "1.2.0",
      "model_name": "ButtonModel",
      "state": {
       "description": "base",
       "layout": "IPY_MODEL_90ab83c25a3e46b6be74da4e96a0a541",
       "style": "IPY_MODEL_99a356b79a0b4a1885a9fffcc10e6fa9"
      }
     },
     "934629635f284bf6b5d76619dbf98631": {
      "model_module": "@jupyter-widgets/base",
      "model_module_version": "1.0.0",
      "model_name": "LayoutModel",
      "state": {
       "width": "600px"
      }
     },
     "936f91f6e08f4738839cdb2af992a7b9": {
      "model_module": "@jupyter-widgets/base",
      "model_module_version": "1.0.0",
      "model_name": "LayoutModel",
      "state": {
       "width": "250px"
      }
     },
     "93894aae1c2740e1a4a79d95762c325f": {
      "model_module": "@jupyter-widgets/controls",
      "model_module_version": "1.2.0",
      "model_name": "CheckboxModel",
      "state": {
       "description": "gleicher Kontext",
       "disabled": false,
       "layout": "IPY_MODEL_b37942da45f347c9b668548a3d7538ad",
       "style": "IPY_MODEL_56c08356f16c488ca62d5fa99d1e7ef6",
       "value": false
      }
     },
     "93b2d663fdc142cb82e853dd041637d1": {
      "model_module": "@jupyter-widgets/controls",
      "model_module_version": "1.2.0",
      "model_name": "ButtonStyleModel",
      "state": {}
     },
     "93b63ec4ef6140d1aecdb2aa19349c7d": {
      "model_module": "@jupyter-widgets/controls",
      "model_module_version": "1.2.0",
      "model_name": "HBoxModel",
      "state": {
       "children": [
        "IPY_MODEL_f1987b1a44f2492aacf472fcf8f9c714",
        "IPY_MODEL_406b53f12bf44caa84e129075960dbc2"
       ],
       "layout": "IPY_MODEL_4263aaaf0b0a4035827b5675b7027c1d"
      }
     },
     "93bc16f4d1fa4c0dbacc38beb1e5a609": {
      "model_module": "@jupyter-widgets/base",
      "model_module_version": "1.0.0",
      "model_name": "LayoutModel",
      "state": {
       "width": "250px"
      }
     },
     "93d35f0daa7244a4a71b2e51d9d3d87c": {
      "model_module": "@jupyter-widgets/base",
      "model_module_version": "1.0.0",
      "model_name": "LayoutModel",
      "state": {
       "width": "250px"
      }
     },
     "93eca29746934f2792b5ac8abc65bc40": {
      "model_module": "@jupyter-widgets/controls",
      "model_module_version": "1.2.0",
      "model_name": "ButtonModel",
      "state": {
       "description": "3rd singular present",
       "layout": "IPY_MODEL_0cbd09a685b941d698732633d7f8f3b1",
       "style": "IPY_MODEL_98182cac339c4532876c3d4452d40006"
      }
     },
     "9447416a80f4479eb18c383fd980101d": {
      "model_module": "@jupyter-widgets/controls",
      "model_module_version": "1.2.0",
      "model_name": "DescriptionStyleModel",
      "state": {
       "description_width": ""
      }
     },
     "94b090fd5e3841f299116056c0f99e60": {
      "model_module": "@jupyter-widgets/base",
      "model_module_version": "1.0.0",
      "model_name": "LayoutModel",
      "state": {}
     },
     "94b35fc45f534b66aff4125848a5997b": {
      "model_module": "@jupyter-widgets/controls",
      "model_module_version": "1.2.0",
      "model_name": "DescriptionStyleModel",
      "state": {
       "description_width": ""
      }
     },
     "94cc180e71cf45e893f13cef9d2429a7": {
      "model_module": "@jupyter-widgets/controls",
      "model_module_version": "1.2.0",
      "model_name": "HBoxModel",
      "state": {
       "children": [
        "IPY_MODEL_1e3bcfdc4b844df38dbf9a3dd710c51f",
        "IPY_MODEL_327e409c05e448d081bd44dc07ec12fe"
       ],
       "layout": "IPY_MODEL_29982c68f6bd4009a799fee3297183e8"
      }
     },
     "94dd3fab2a964d91b5c9daedef8bafe3": {
      "model_module": "@jupyter-widgets/controls",
      "model_module_version": "1.2.0",
      "model_name": "DescriptionStyleModel",
      "state": {
       "description_width": ""
      }
     },
     "94e5d24b067344a49f6a16219bfcfd07": {
      "model_module": "@jupyter-widgets/controls",
      "model_module_version": "1.2.0",
      "model_name": "ButtonStyleModel",
      "state": {
       "button_color": "lightgreen"
      }
     },
     "94fa21fa3779415d984abb897373fb48": {
      "model_module": "@jupyter-widgets/base",
      "model_module_version": "1.0.0",
      "model_name": "LayoutModel",
      "state": {
       "justify_content": "center"
      }
     },
     "950cfb1fb01c4bc2b36a008ec918a0d5": {
      "model_module": "@jupyter-widgets/base",
      "model_module_version": "1.0.0",
      "model_name": "LayoutModel",
      "state": {
       "width": "250px"
      }
     },
     "951577293af546bfbb4f29b7f11f6d9e": {
      "model_module": "@jupyter-widgets/controls",
      "model_module_version": "1.2.0",
      "model_name": "DescriptionStyleModel",
      "state": {
       "description_width": ""
      }
     },
     "9516c9b48884412c8963a4695a50660e": {
      "model_module": "@jupyter-widgets/controls",
      "model_module_version": "1.2.0",
      "model_name": "HTMLModel",
      "state": {
       "layout": "IPY_MODEL_b2632d080881452d86dc44c2054e929d",
       "style": "IPY_MODEL_f549ba12dd5a48c9bd24e3484608da1d",
       "value": "<i>Wählen Sie die <ins>eine</ins> korrekte Antwort aus: </i>"
      }
     },
     "9519c5ca015145228021ced50fc16bac": {
      "model_module": "@jupyter-widgets/controls",
      "model_module_version": "1.2.0",
      "model_name": "HBoxModel",
      "state": {
       "children": [
        "IPY_MODEL_ae127b1e7b9e4f7598683eb59399ae03",
        "IPY_MODEL_56e92b4f109d429d9cacc3381440621a"
       ],
       "layout": "IPY_MODEL_b08a15cee843482d9d4d4a38bd591d23"
      }
     },
     "95580bbce87d4b03a1c16450bff36c32": {
      "model_module": "@jupyter-widgets/controls",
      "model_module_version": "1.2.0",
      "model_name": "VBoxModel",
      "state": {
       "children": [
        "IPY_MODEL_a5684580313546f5907d771279bd6691",
        "IPY_MODEL_b8116e76f5ec42d38071fc197eea6700",
        "IPY_MODEL_7e610a41fc744a7dadc188120830d0a4"
       ],
       "layout": "IPY_MODEL_018de17deb80425eb52d01731f39b266"
      }
     },
     "95bef34a728a4057b19478e5abe83111": {
      "model_module": "@jupyter-widgets/base",
      "model_module_version": "1.0.0",
      "model_name": "LayoutModel",
      "state": {
       "justify_content": "center"
      }
     },
     "95c4cc293ceb41dab45ca6694254030e": {
      "model_module": "@jupyter-widgets/base",
      "model_module_version": "1.0.0",
      "model_name": "LayoutModel",
      "state": {
       "width": "600px"
      }
     },
     "95d6210ebe274cd0baa961fd540ac771": {
      "model_module": "@jupyter-widgets/controls",
      "model_module_version": "1.2.0",
      "model_name": "VBoxModel",
      "state": {
       "children": [
        "IPY_MODEL_c0817a32889f4ca286198f63d79062a0",
        "IPY_MODEL_c02a7784a6834921844937fa2cc1c90c",
        "IPY_MODEL_13debb62345c4cc7863dbcb4a6984a67",
        "IPY_MODEL_5d161c9e3991413d96bd326f64693fd0"
       ],
       "layout": "IPY_MODEL_cd2a067f3dd3464e911ecd80eeac00b3"
      }
     },
     "95efd6d7dbcb41de8205e3541188672e": {
      "model_module": "@jupyter-widgets/controls",
      "model_module_version": "1.2.0",
      "model_name": "ButtonModel",
      "state": {
       "description": "Partikel",
       "layout": "IPY_MODEL_a8ec1e461e8a4f77941f88953ad29c07",
       "style": "IPY_MODEL_bde8770179804704956e9a27244da5ad"
      }
     },
     "95f83b83ab6345cfa7373eac5f84a1ea": {
      "model_module": "@jupyter-widgets/base",
      "model_module_version": "1.0.0",
      "model_name": "LayoutModel",
      "state": {}
     },
     "9625c4a1e2b94d5d8c2e7911f45f7236": {
      "model_module": "@jupyter-widgets/controls",
      "model_module_version": "1.2.0",
      "model_name": "VBoxModel",
      "state": {
       "children": [
        "IPY_MODEL_81e0e28c7aba49538a99087446cbddd0",
        "IPY_MODEL_974c9a9d733341f8b43ccc9682a1d267",
        "IPY_MODEL_2a3ce4723c3740669b00730f403dfb7a",
        "IPY_MODEL_9519c5ca015145228021ced50fc16bac",
        "IPY_MODEL_a4f2c9af8368493682128f663908074e"
       ],
       "layout": "IPY_MODEL_de2e8adf300d42299de225cc6f6f468c"
      }
     },
     "96386b500b884b42ba1d16b5c34304ed": {
      "model_module": "@jupyter-widgets/base",
      "model_module_version": "1.0.0",
      "model_name": "LayoutModel",
      "state": {
       "width": "250px"
      }
     },
     "965243e1061045b896262db4100c8ad6": {
      "model_module": "@jupyter-widgets/base",
      "model_module_version": "1.0.0",
      "model_name": "LayoutModel",
      "state": {
       "width": "250px"
      }
     },
     "968357fe45d14894900f504280030ca0": {
      "model_module": "@jupyter-widgets/base",
      "model_module_version": "1.0.0",
      "model_name": "LayoutModel",
      "state": {
       "width": "150px"
      }
     },
     "969e354a80d34d3d8b3b6d6b6a198815": {
      "model_module": "@jupyter-widgets/controls",
      "model_module_version": "1.2.0",
      "model_name": "ButtonModel",
      "state": {
       "description": "Korrekt?",
       "layout": "IPY_MODEL_7cac18ad99554477b355277e301dac3f",
       "style": "IPY_MODEL_acd7002da63d4bcab64ba9d0d6a07771"
      }
     },
     "96baef3d39014395a0e1b6aad81f6f5c": {
      "model_module": "@jupyter-widgets/controls",
      "model_module_version": "1.2.0",
      "model_name": "ButtonStyleModel",
      "state": {}
     },
     "96cf6d48899f466e917c36f9c5fc97c7": {
      "model_module": "@jupyter-widgets/controls",
      "model_module_version": "1.2.0",
      "model_name": "DescriptionStyleModel",
      "state": {
       "description_width": "initial"
      }
     },
     "96e869ece7e240dd88282702d1e2594b": {
      "model_module": "@jupyter-widgets/base",
      "model_module_version": "1.0.0",
      "model_name": "LayoutModel",
      "state": {
       "width": "600px"
      }
     },
     "9734f755820140c89acc6b79d8e55237": {
      "model_module": "@jupyter-widgets/controls",
      "model_module_version": "1.2.0",
      "model_name": "ButtonStyleModel",
      "state": {}
     },
     "974c9a9d733341f8b43ccc9682a1d267": {
      "model_module": "@jupyter-widgets/controls",
      "model_module_version": "1.2.0",
      "model_name": "HTMLModel",
      "state": {
       "layout": "IPY_MODEL_a852abfa3f624aa598ef1163c99e2e44",
       "style": "IPY_MODEL_8b458c587ba448ea83d2b862ad72cdd8",
       "value": "<i>Wählen Sie die <ins>eine</ins> korrekte Antwort aus: </i>"
      }
     },
     "97d129600c2d4d70a49d3aecc49a4fd2": {
      "model_module": "@jupyter-widgets/controls",
      "model_module_version": "1.2.0",
      "model_name": "DescriptionStyleModel",
      "state": {
       "description_width": "initial"
      }
     },
     "97f0ba8717cd485bbae9954d474c42b9": {
      "model_module": "@jupyter-widgets/controls",
      "model_module_version": "1.2.0",
      "model_name": "CheckboxModel",
      "state": {
       "description": "Flexionstyp",
       "disabled": false,
       "layout": "IPY_MODEL_56d7280d7c7e47a6abd06fd9f79731fb",
       "style": "IPY_MODEL_e8b1bb6efdec4fa58c3a107b234ecd41",
       "value": false
      }
     },
     "98182cac339c4532876c3d4452d40006": {
      "model_module": "@jupyter-widgets/controls",
      "model_module_version": "1.2.0",
      "model_name": "ButtonStyleModel",
      "state": {}
     },
     "9879d4d949f347c48acd87faacc7ce8c": {
      "model_module": "@jupyter-widgets/controls",
      "model_module_version": "1.2.0",
      "model_name": "HBoxModel",
      "state": {
       "children": [
        "IPY_MODEL_9a6d8fe1128347409223671d1a1505ac",
        "IPY_MODEL_4ff87a1dfa814fbfb1520839cf32ebf2"
       ],
       "layout": "IPY_MODEL_f2e13c6e329343869281d5dfe554aee3"
      }
     },
     "9882f3e1009349d0bd86ac9f23d745ec": {
      "model_module": "@jupyter-widgets/base",
      "model_module_version": "1.0.0",
      "model_name": "LayoutModel",
      "state": {
       "width": "150px"
      }
     },
     "98e89e42c09b481db271f030ca4df336": {
      "model_module": "@jupyter-widgets/controls",
      "model_module_version": "1.2.0",
      "model_name": "ButtonStyleModel",
      "state": {}
     },
     "98e8e323f4744dbc98db22ad16f6e8d3": {
      "model_module": "@jupyter-widgets/controls",
      "model_module_version": "1.2.0",
      "model_name": "HTMLModel",
      "state": {
       "layout": "IPY_MODEL_8052c773a5b04832910eff74d72ffcf6",
       "style": "IPY_MODEL_7af650856e92482ab69c95a153846547",
       "value": "<i>Markieren Sie <ins>alle</ins> passenden Antworten: </i>"
      }
     },
     "99251492ace94992a863fc56c5a8fe2a": {
      "model_module": "@jupyter-widgets/controls",
      "model_module_version": "1.2.0",
      "model_name": "DescriptionStyleModel",
      "state": {
       "description_width": ""
      }
     },
     "994745b8ae5f4b589b38cc4d56480f2f": {
      "model_module": "@jupyter-widgets/controls",
      "model_module_version": "1.2.0",
      "model_name": "DropdownModel",
      "state": {
       "_options_labels": [
        "Bedeutung",
        "Wohlgeformtheit",
        " "
       ],
       "index": 2,
       "layout": "IPY_MODEL_e12af5e94ce64adf9b10a915446f8388",
       "style": "IPY_MODEL_7abea22a52a44196ae144894e58c1c63"
      }
     },
     "9960a7c192114e469aab979c5b6fa57e": {
      "model_module": "@jupyter-widgets/controls",
      "model_module_version": "1.2.0",
      "model_name": "DescriptionStyleModel",
      "state": {
       "description_width": ""
      }
     },
     "996a0f0f955b43719526b4af58bc492d": {
      "model_module": "@jupyter-widgets/controls",
      "model_module_version": "1.2.0",
      "model_name": "DescriptionStyleModel",
      "state": {
       "description_width": "initial"
      }
     },
     "996f988c2bd74854802d29057b71b19e": {
      "model_module": "@jupyter-widgets/controls",
      "model_module_version": "1.2.0",
      "model_name": "DescriptionStyleModel",
      "state": {
       "description_width": ""
      }
     },
     "99910234079c454582418a9aefe6ed00": {
      "model_module": "@jupyter-widgets/controls",
      "model_module_version": "1.2.0",
      "model_name": "DescriptionStyleModel",
      "state": {
       "description_width": ""
      }
     },
     "99a356b79a0b4a1885a9fffcc10e6fa9": {
      "model_module": "@jupyter-widgets/controls",
      "model_module_version": "1.2.0",
      "model_name": "ButtonStyleModel",
      "state": {}
     },
     "99cd6841c45847e6997175909fc677fd": {
      "model_module": "@jupyter-widgets/controls",
      "model_module_version": "1.2.0",
      "model_name": "VBoxModel",
      "state": {
       "children": [
        "IPY_MODEL_20fdc97d50864401a52f585bec51dbf4",
        "IPY_MODEL_46adb7e5cae04dc9b93ac1922c1f3aa5",
        "IPY_MODEL_fe0114e0233547709b5b69ce64f169c2",
        "IPY_MODEL_fd9a1051fa4e4700b922d7e62277f443"
       ],
       "layout": "IPY_MODEL_e9fddb8875ee4dbebb3edde653e023a3"
      }
     },
     "9a233cb82df44491b54d8b3b89521bc7": {
      "model_module": "@jupyter-widgets/base",
      "model_module_version": "1.0.0",
      "model_name": "LayoutModel",
      "state": {
       "width": "250px"
      }
     },
     "9a6d8fe1128347409223671d1a1505ac": {
      "model_module": "@jupyter-widgets/controls",
      "model_module_version": "1.2.0",
      "model_name": "ButtonModel",
      "state": {
       "description": "gerund",
       "layout": "IPY_MODEL_87ce7f129b42407a9349433248ae8c30",
       "style": "IPY_MODEL_b1f6f535f4ca4ed8a8ba09e1c770280c"
      }
     },
     "9a7f6ed4d4c84fa18cb0a99dbfb3b17b": {
      "model_module": "@jupyter-widgets/controls",
      "model_module_version": "1.2.0",
      "model_name": "DescriptionStyleModel",
      "state": {
       "description_width": ""
      }
     },
     "9a9d4522ff20422eb040fd32dac85b79": {
      "model_module": "@jupyter-widgets/base",
      "model_module_version": "1.0.0",
      "model_name": "LayoutModel",
      "state": {}
     },
     "9accfcd6645f441b8f6b8a870087f39c": {
      "model_module": "@jupyter-widgets/base",
      "model_module_version": "1.0.0",
      "model_name": "LayoutModel",
      "state": {
       "width": "350px"
      }
     },
     "9af1ca5010184345a5815fe19d298575": {
      "model_module": "@jupyter-widgets/controls",
      "model_module_version": "1.2.0",
      "model_name": "VBoxModel",
      "state": {
       "children": [
        "IPY_MODEL_f1720811274e46c9bc8c9f9c5824ae7d",
        "IPY_MODEL_28a7a2b9a6a94a57b63dc27963aa3963",
        "IPY_MODEL_56efcffe64314108ae40c22164b2fa6b",
        "IPY_MODEL_4078ca2867cf473f945784bc6b15804f"
       ],
       "layout": "IPY_MODEL_c52f3682714f48dbbfffe4fce29b5855"
      }
     },
     "9b2c60af55bb40dd888d46073824c7fd": {
      "model_module": "@jupyter-widgets/controls",
      "model_module_version": "1.2.0",
      "model_name": "ButtonStyleModel",
      "state": {}
     },
     "9b8d550f6b1c473199ab96bdc261139b": {
      "model_module": "@jupyter-widgets/controls",
      "model_module_version": "1.2.0",
      "model_name": "CheckboxModel",
      "state": {
       "description": "Zu einem Wort werden alle Synonyme gefunden.",
       "disabled": false,
       "layout": "IPY_MODEL_8cd55c9c049041c5a67baac7f19afda3",
       "style": "IPY_MODEL_2e1d159db96b497b93d9f94a8945d01c",
       "value": false
      }
     },
     "9bb8617468994a088038b432f34d3cd6": {
      "model_module": "@jupyter-widgets/base",
      "model_module_version": "1.0.0",
      "model_name": "LayoutModel",
      "state": {}
     },
     "9bdaa5c67dc64ed28676c2f79a73cc24": {
      "model_module": "@jupyter-widgets/base",
      "model_module_version": "1.0.0",
      "model_name": "LayoutModel",
      "state": {
       "align_content": "stretch",
       "align_items": "stretch",
       "display": "inline-flex",
       "flex": "flex-grow",
       "flex_flow": "row wrap",
       "justify_content": "flex-start"
      }
     },
     "9c751b3a582b42da98929f82452d99d4": {
      "model_module": "@jupyter-widgets/controls",
      "model_module_version": "1.2.0",
      "model_name": "HBoxModel",
      "state": {
       "children": [
        "IPY_MODEL_5c8bb56a43454b0b9a5df85d088342f2",
        "IPY_MODEL_0ee8047de3544763bc1e39a7150aa200"
       ],
       "layout": "IPY_MODEL_f1f41e5a5baf405b9631d83bac08ff7f"
      }
     },
     "9caefddc27f84c27baa0b26d62d694fb": {
      "model_module": "@jupyter-widgets/controls",
      "model_module_version": "1.2.0",
      "model_name": "DescriptionStyleModel",
      "state": {
       "description_width": ""
      }
     },
     "9cf7bf1852484b1b8cda8ff68d2352c0": {
      "model_module": "@jupyter-widgets/base",
      "model_module_version": "1.0.0",
      "model_name": "LayoutModel",
      "state": {}
     },
     "9cf9297de0cd4024a6ec4216e46ef786": {
      "model_module": "@jupyter-widgets/controls",
      "model_module_version": "1.2.0",
      "model_name": "DescriptionStyleModel",
      "state": {
       "description_width": "initial"
      }
     },
     "9d8abf4945424487bb38463f1e4a3a53": {
      "model_module": "@jupyter-widgets/base",
      "model_module_version": "1.0.0",
      "model_name": "LayoutModel",
      "state": {
       "width": "250px"
      }
     },
     "9d8ba78ae97a460db78689956137cec9": {
      "model_module": "@jupyter-widgets/base",
      "model_module_version": "1.0.0",
      "model_name": "LayoutModel",
      "state": {}
     },
     "9d8d242efbd44357bc9cd9a2af41e8f6": {
      "model_module": "@jupyter-widgets/base",
      "model_module_version": "1.0.0",
      "model_name": "LayoutModel",
      "state": {
       "width": "250px"
      }
     },
     "9daa762f50534d748643d3fbc9ec2ba6": {
      "model_module": "@jupyter-widgets/controls",
      "model_module_version": "1.2.0",
      "model_name": "DropdownModel",
      "state": {
       "_options_labels": [
        "gleichartige",
        "unterschiedliche",
        " "
       ],
       "index": 2,
       "layout": "IPY_MODEL_12206ab61c1949c4a6af793e697ed15f",
       "style": "IPY_MODEL_5335f1fafc2841afb9ff31e8b1b58090"
      }
     },
     "9dd02c8cf40d48308ec0529df684731e": {
      "model_module": "@jupyter-widgets/base",
      "model_module_version": "1.0.0",
      "model_name": "LayoutModel",
      "state": {}
     },
     "9de0c04dda2a4046bc22b981c02c7898": {
      "model_module": "@jupyter-widgets/controls",
      "model_module_version": "1.2.0",
      "model_name": "HBoxModel",
      "state": {
       "children": [
        "IPY_MODEL_fb3006c618c54195969f7ca75a12ba10"
       ],
       "layout": "IPY_MODEL_dd3f62f047324351b7a405a070b3d9fb"
      }
     },
     "9df6442c25564065a1986686fd5c7a90": {
      "model_module": "@jupyter-widgets/base",
      "model_module_version": "1.0.0",
      "model_name": "LayoutModel",
      "state": {
       "width": "600px"
      }
     },
     "9e1bd168ae8c4fb08595593ca38ed96b": {
      "model_module": "@jupyter-widgets/controls",
      "model_module_version": "1.2.0",
      "model_name": "HTMLModel",
      "state": {
       "layout": "IPY_MODEL_b9621d00dc6b423b86e17a46c48faf82",
       "style": "IPY_MODEL_9a7f6ed4d4c84fa18cb0a99dbfb3b17b",
       "value": "<h4 style=\"font-size:14px;\">Phrasen verkettet werden können. Das Ergebnis ist eine Phrase des gleichen Typs, also der gleichen</h4>"
      }
     },
     "9e44558eaf52499b877e73366dd8550a": {
      "model_module": "@jupyter-widgets/controls",
      "model_module_version": "1.2.0",
      "model_name": "ButtonModel",
      "state": {
       "description": "Adverb",
       "layout": "IPY_MODEL_b1a5b68819834c86b7abda63833959e1",
       "style": "IPY_MODEL_3916126b29fc422280a05447f721f018"
      }
     },
     "9e4dfa03f0714b53a98926edcce186ec": {
      "model_module": "@jupyter-widgets/controls",
      "model_module_version": "1.2.0",
      "model_name": "HTMLModel",
      "state": {
       "layout": "IPY_MODEL_77312844067642f496985b75766f05c5",
       "style": "IPY_MODEL_ed319341e9a44317a9253f090914e668",
       "value": "<h4 style=\"font-size:14px;\">Sequenz unter Erhalt der</h4>"
      }
     },
     "9e7ff2ed2a5343ecac78a413fca38d19": {
      "model_module": "@jupyter-widgets/controls",
      "model_module_version": "1.2.0",
      "model_name": "DescriptionStyleModel",
      "state": {
       "description_width": ""
      }
     },
     "9e8ef238bbf24a5594d1aeb0823318eb": {
      "model_module": "@jupyter-widgets/base",
      "model_module_version": "1.0.0",
      "model_name": "LayoutModel",
      "state": {}
     },
     "9ed5fd06c8344c3b9f70c5053790575f": {
      "model_module": "@jupyter-widgets/base",
      "model_module_version": "1.0.0",
      "model_name": "LayoutModel",
      "state": {
       "width": "600px"
      }
     },
     "9f01fb2cefd14f028a1b01c5b50727c9": {
      "model_module": "@jupyter-widgets/controls",
      "model_module_version": "1.2.0",
      "model_name": "DescriptionStyleModel",
      "state": {
       "description_width": ""
      }
     },
     "9f5034d4a1324dd19bc7ca8c26c1662e": {
      "model_module": "@jupyter-widgets/controls",
      "model_module_version": "1.2.0",
      "model_name": "DropdownModel",
      "state": {
       "_options_labels": [
        "Konstituente",
        "Phrase",
        " "
       ],
       "index": 2,
       "layout": "IPY_MODEL_42b2c86d3dce4f7e8bc9307a0e624239",
       "style": "IPY_MODEL_46787a55e45a45f38d16cef90d6e1601"
      }
     },
     "9f604f7953734e3d9c4fe406ba54872c": {
      "model_module": "@jupyter-widgets/controls",
      "model_module_version": "1.2.0",
      "model_name": "CheckboxModel",
      "state": {
       "description": "Zu einem Wort werden alle Synonyme gefunden.",
       "disabled": false,
       "layout": "IPY_MODEL_7623f401d1214a509461d7c76524a22c",
       "style": "IPY_MODEL_32092f04e7bc4683a097b5f5104e313a",
       "value": false
      }
     },
     "9f73c81c03074e11bce9ea97d1937d74": {
      "model_module": "@jupyter-widgets/controls",
      "model_module_version": "1.2.0",
      "model_name": "ButtonModel",
      "state": {
       "description": "3rd singular present",
       "layout": "IPY_MODEL_cefa814927c54961bbbc0a533ce4c054",
       "style": "IPY_MODEL_f7c98aa464ce470395e7d010356f15fd"
      }
     },
     "9f85628fa1c04c3c83841ef03182920c": {
      "model_module": "@jupyter-widgets/controls",
      "model_module_version": "1.2.0",
      "model_name": "DescriptionStyleModel",
      "state": {
       "description_width": ""
      }
     },
     "9fbdbacad5284993b27e54cacb46912f": {
      "model_module": "@jupyter-widgets/controls",
      "model_module_version": "1.2.0",
      "model_name": "HBoxModel",
      "state": {
       "children": [
        "IPY_MODEL_2811d6aa2cab41acbe44dc0c49f787da"
       ],
       "layout": "IPY_MODEL_62857b33871a43d29f4eee4f04136271"
      }
     },
     "9fcf5f0fe09f486aa4302a1908ffd9d3": {
      "model_module": "@jupyter-widgets/base",
      "model_module_version": "1.0.0",
      "model_name": "LayoutModel",
      "state": {}
     },
     "9fcf8d2681f54aa5a3e0a62d8e211518": {
      "model_module": "@jupyter-widgets/base",
      "model_module_version": "1.0.0",
      "model_name": "LayoutModel",
      "state": {
       "width": "600px"
      }
     },
     "9ff85e78967343b3917420940841fc2b": {
      "model_module": "@jupyter-widgets/controls",
      "model_module_version": "1.2.0",
      "model_name": "HBoxModel",
      "state": {
       "children": [
        "IPY_MODEL_7d8f57c240534cfc893bf5e2e52a57c5",
        "IPY_MODEL_c5afcefe697f415192af98dad00d23c2"
       ],
       "layout": "IPY_MODEL_632f5836396445e192287a8dff71899e"
      }
     },
     "a0308cccba1946f1a760641ed81a85c8": {
      "model_module": "@jupyter-widgets/controls",
      "model_module_version": "1.2.0",
      "model_name": "DescriptionStyleModel",
      "state": {
       "description_width": ""
      }
     },
     "a085e0eb1a1c491794a7e25de8a26a99": {
      "model_module": "@jupyter-widgets/controls",
      "model_module_version": "1.2.0",
      "model_name": "DescriptionStyleModel",
      "state": {
       "description_width": ""
      }
     },
     "a091e7e22f294aceacfcee0d2d37e0d8": {
      "model_module": "@jupyter-widgets/controls",
      "model_module_version": "1.2.0",
      "model_name": "HTMLModel",
      "state": {
       "layout": "IPY_MODEL_45073be3e586403cbbb6b206ff64fea0",
       "style": "IPY_MODEL_e9816e78e57142b5b2e5eedb52bb1507",
       "value": "<h4 style=\"font-size:14px;\">Welche Wortart folgt damit für das Wort <i>gut</i> in Satz 2?</h4>"
      }
     },
     "a0c85f7135c0450ab2004353ced03f20": {
      "model_module": "@jupyter-widgets/base",
      "model_module_version": "1.0.0",
      "model_name": "LayoutModel",
      "state": {
       "width": "250px"
      }
     },
     "a0e3b5bfec5241cc83b3ba2110b58500": {
      "model_module": "@jupyter-widgets/controls",
      "model_module_version": "1.2.0",
      "model_name": "HTMLModel",
      "state": {
       "layout": "IPY_MODEL_a3c6b7a5c6884cfc8a9f9a92bec30bbc",
       "style": "IPY_MODEL_0d08405d7fc14696aaab30500c1cd793",
       "value": "<h4 style=\"font-size:14px;\">Was sind morphologische Kriterien für Wortkategorien?</h4>"
      }
     },
     "a0f9f6f6f4654846ba4183d61191aae8": {
      "model_module": "@jupyter-widgets/controls",
      "model_module_version": "1.2.0",
      "model_name": "DescriptionStyleModel",
      "state": {
       "description_width": "initial"
      }
     },
     "a1197f2fab5041d7b236a459816a651d": {
      "model_module": "@jupyter-widgets/base",
      "model_module_version": "1.0.0",
      "model_name": "LayoutModel",
      "state": {}
     },
     "a139778817904a21aa068690c8e2ca1a": {
      "model_module": "@jupyter-widgets/base",
      "model_module_version": "1.0.0",
      "model_name": "LayoutModel",
      "state": {}
     },
     "a1ae0e16e30f4d3a80491c6b28b13927": {
      "model_module": "@jupyter-widgets/controls",
      "model_module_version": "1.2.0",
      "model_name": "ButtonStyleModel",
      "state": {}
     },
     "a1d1e61d49104db79b21d71fa4fd05cf": {
      "model_module": "@jupyter-widgets/controls",
      "model_module_version": "1.2.0",
      "model_name": "ButtonModel",
      "state": {
       "description": "Folge von Wortklassen",
       "layout": "IPY_MODEL_d3b317f61d7b452c93210ac2e020c4c1",
       "style": "IPY_MODEL_0f956d04b3244c1188e924991751dac1"
      }
     },
     "a1d5ea56b17c42708fd486cc8e7ca583": {
      "model_module": "@jupyter-widgets/controls",
      "model_module_version": "1.2.0",
      "model_name": "DescriptionStyleModel",
      "state": {
       "description_width": "initial"
      }
     },
     "a22254b460a9437d82a7efbbe30805af": {
      "model_module": "@jupyter-widgets/controls",
      "model_module_version": "1.2.0",
      "model_name": "DropdownModel",
      "state": {
       "_options_labels": [
        "kürzeren",
        "längeren",
        " "
       ],
       "index": 2,
       "layout": "IPY_MODEL_7dad28971db84379870eba7e7b237f75",
       "style": "IPY_MODEL_4a9427686b4a4a4ea9d8bb2eb1e1e30f"
      }
     },
     "a23f4b787d8642c89e204793b8282f2d": {
      "model_module": "@jupyter-widgets/base",
      "model_module_version": "1.0.0",
      "model_name": "LayoutModel",
      "state": {
       "align_content": "stretch",
       "align_items": "stretch",
       "display": "inline-flex",
       "flex": "flex-grow",
       "flex_flow": "row wrap",
       "justify_content": "flex-start"
      }
     },
     "a2444b3322ca421f8e71ac81413bd5eb": {
      "model_module": "@jupyter-widgets/base",
      "model_module_version": "1.0.0",
      "model_name": "LayoutModel",
      "state": {
       "width": "250px"
      }
     },
     "a2534db4857f471ba2dbb0ad10f1b2bd": {
      "model_module": "@jupyter-widgets/controls",
      "model_module_version": "1.2.0",
      "model_name": "ButtonModel",
      "state": {
       "description": "Adverb",
       "layout": "IPY_MODEL_fb45e1d0252840fa8cf132a10ca31347",
       "style": "IPY_MODEL_b46f2160c7534b50adf7d5daa9be7322"
      }
     },
     "a27da214c18c41c69728e83a56320f85": {
      "model_module": "@jupyter-widgets/base",
      "model_module_version": "1.0.0",
      "model_name": "LayoutModel",
      "state": {
       "align_content": "stretch",
       "align_items": "stretch",
       "display": "inline-flex",
       "flex": "flex-grow",
       "flex_flow": "row wrap",
       "justify_content": "flex-start"
      }
     },
     "a283276f195b4bd09f36506d0b0b0e84": {
      "model_module": "@jupyter-widgets/controls",
      "model_module_version": "1.2.0",
      "model_name": "ButtonStyleModel",
      "state": {}
     },
     "a28edbe917f744dc89d7c39a9fa13e5a": {
      "model_module": "@jupyter-widgets/base",
      "model_module_version": "1.0.0",
      "model_name": "LayoutModel",
      "state": {
       "width": "250px"
      }
     },
     "a297311eae824144b5d11296dab05807": {
      "model_module": "@jupyter-widgets/controls",
      "model_module_version": "1.2.0",
      "model_name": "ButtonModel",
      "state": {
       "description": "gerund",
       "layout": "IPY_MODEL_f1d91739888d48c5b05f41d6136571f6",
       "style": "IPY_MODEL_513dc43464b84eae936fa53d4865778d"
      }
     },
     "a297f76a835c462ca2ff2a6ff6a895fc": {
      "model_module": "@jupyter-widgets/base",
      "model_module_version": "1.0.0",
      "model_name": "LayoutModel",
      "state": {
       "width": "250px"
      }
     },
     "a31e33c0bb8c48d681a77d10307d16de": {
      "model_module": "@jupyter-widgets/base",
      "model_module_version": "1.0.0",
      "model_name": "LayoutModel",
      "state": {}
     },
     "a34fefc3fa5b45009820bb959311dfc5": {
      "model_module": "@jupyter-widgets/controls",
      "model_module_version": "1.2.0",
      "model_name": "ButtonStyleModel",
      "state": {}
     },
     "a35cc65f9e404daa93fd8ed45421d64f": {
      "model_module": "@jupyter-widgets/controls",
      "model_module_version": "1.2.0",
      "model_name": "HBoxModel",
      "state": {
       "children": [
        "IPY_MODEL_d6ceedb213224b29a862cdfbf852baf1",
        "IPY_MODEL_686a4b2bbd534007b97e3bcc763623e2"
       ],
       "layout": "IPY_MODEL_ea50b5a43b0f437f8176e73a9de9d4cb"
      }
     },
     "a36afedc84bf443197f2b9b8bcf8f959": {
      "model_module": "@jupyter-widgets/controls",
      "model_module_version": "1.2.0",
      "model_name": "ButtonStyleModel",
      "state": {}
     },
     "a3c6b7a5c6884cfc8a9f9a92bec30bbc": {
      "model_module": "@jupyter-widgets/base",
      "model_module_version": "1.0.0",
      "model_name": "LayoutModel",
      "state": {}
     },
     "a3c830fcbb424820b40e6850a6f5f605": {
      "model_module": "@jupyter-widgets/base",
      "model_module_version": "1.0.0",
      "model_name": "LayoutModel",
      "state": {}
     },
     "a40a085e21534d2fa8ac993ee60dfcc3": {
      "model_module": "@jupyter-widgets/base",
      "model_module_version": "1.0.0",
      "model_name": "LayoutModel",
      "state": {}
     },
     "a497faf506cd4c8ba9332b56f3571a72": {
      "model_module": "@jupyter-widgets/controls",
      "model_module_version": "1.2.0",
      "model_name": "VBoxModel",
      "state": {
       "children": [
        "IPY_MODEL_ff938070930c475e9ab11db698e3851c",
        "IPY_MODEL_3e3e256a04e94464a7ade9bc8f81a708",
        "IPY_MODEL_9ff85e78967343b3917420940841fc2b",
        "IPY_MODEL_2456074304394239a47880da3708ee28",
        "IPY_MODEL_d7fafb27a51643f782e8f43e13f4c696"
       ],
       "layout": "IPY_MODEL_72846f388f384b75a775734aee934eb7"
      }
     },
     "a4a999b95f0c4a628eab927819030f47": {
      "model_module": "@jupyter-widgets/controls",
      "model_module_version": "1.2.0",
      "model_name": "DescriptionStyleModel",
      "state": {
       "description_width": ""
      }
     },
     "a4f2c9af8368493682128f663908074e": {
      "model_module": "@jupyter-widgets/controls",
      "model_module_version": "1.2.0",
      "model_name": "HBoxModel",
      "state": {
       "children": [
        "IPY_MODEL_4a30b455ae274b75b80efeb2e6950802"
       ],
       "layout": "IPY_MODEL_047a8c43c1ba432c9e0f8398a3a59e08"
      }
     },
     "a5314618ed32410aa93e329d69adbca8": {
      "model_module": "@jupyter-widgets/controls",
      "model_module_version": "1.2.0",
      "model_name": "CheckboxModel",
      "state": {
       "description": "Substitutionstest",
       "disabled": false,
       "layout": "IPY_MODEL_e0c8475979dc4d6493de783845b1730e",
       "style": "IPY_MODEL_e01569ea39934ec0a43dd1880e14be91",
       "value": false
      }
     },
     "a55017a22ba24679a977453d19684a76": {
      "model_module": "@jupyter-widgets/controls",
      "model_module_version": "1.2.0",
      "model_name": "DescriptionStyleModel",
      "state": {
       "description_width": ""
      }
     },
     "a5684580313546f5907d771279bd6691": {
      "model_module": "@jupyter-widgets/controls",
      "model_module_version": "1.2.0",
      "model_name": "CheckboxModel",
      "state": {
       "description": "Es bezeichnet die näheren Umstände des im Verb ausgedrückten Geschehens.",
       "disabled": false,
       "layout": "IPY_MODEL_a5922ff3caf64b27873445d31e31272a",
       "style": "IPY_MODEL_1c7ffb10d7a841bfbb42e5fb5fd9b5f7",
       "value": false
      }
     },
     "a570552288ce4a39ba44587fe5f39a1b": {
      "model_module": "@jupyter-widgets/controls",
      "model_module_version": "1.2.0",
      "model_name": "ButtonStyleModel",
      "state": {}
     },
     "a580f912d78b40f08b231307311d3cde": {
      "model_module": "@jupyter-widgets/controls",
      "model_module_version": "1.2.0",
      "model_name": "ButtonStyleModel",
      "state": {}
     },
     "a5922ff3caf64b27873445d31e31272a": {
      "model_module": "@jupyter-widgets/base",
      "model_module_version": "1.0.0",
      "model_name": "LayoutModel",
      "state": {
       "width": "600px"
      }
     },
     "a5d150f6ed314c2cb89e52717260a630": {
      "model_module": "@jupyter-widgets/controls",
      "model_module_version": "1.2.0",
      "model_name": "DescriptionStyleModel",
      "state": {
       "description_width": ""
      }
     },
     "a5e407519cee4399af1f8ece54233fe7": {
      "model_module": "@jupyter-widgets/base",
      "model_module_version": "1.0.0",
      "model_name": "LayoutModel",
      "state": {
       "width": "150px"
      }
     },
     "a5e63de12c1e42c5bbf003c58a481a7c": {
      "model_module": "@jupyter-widgets/controls",
      "model_module_version": "1.2.0",
      "model_name": "CheckboxModel",
      "state": {
       "description": "Es fungiert als Satzglied mit der syntaktischen Funktion Adverbial.",
       "disabled": false,
       "layout": "IPY_MODEL_7b67da34eb3046db84d8f299826ebd29",
       "style": "IPY_MODEL_7bcfc32e612440ada867033293a825c0",
       "value": false
      }
     },
     "a5e89d43edcc40f48a8789980cc2070f": {
      "model_module": "@jupyter-widgets/base",
      "model_module_version": "1.0.0",
      "model_name": "LayoutModel",
      "state": {
       "width": "250px"
      }
     },
     "a606d227ee21487ab47a96add3d04d5f": {
      "model_module": "@jupyter-widgets/controls",
      "model_module_version": "1.2.0",
      "model_name": "ButtonStyleModel",
      "state": {}
     },
     "a6244ada362f486299c35a1b4f8e7fe0": {
      "model_module": "@jupyter-widgets/controls",
      "model_module_version": "1.2.0",
      "model_name": "HBoxModel",
      "state": {
       "children": [
        "IPY_MODEL_15bad9f12b36446fb0d7507154f7d2f5",
        "IPY_MODEL_e06d1cc3cc8e4a16bf6ea55b05877dd5"
       ],
       "layout": "IPY_MODEL_7c71343c6e5b400fb13ea2efdf74a0a6"
      }
     },
     "a63591a2505f493b8c373be3b3954f96": {
      "model_module": "@jupyter-widgets/base",
      "model_module_version": "1.0.0",
      "model_name": "LayoutModel",
      "state": {}
     },
     "a685ecc79dd84450b4047762dab46b46": {
      "model_module": "@jupyter-widgets/controls",
      "model_module_version": "1.2.0",
      "model_name": "ButtonModel",
      "state": {
       "description": "Korrekt?",
       "layout": "IPY_MODEL_1185aca5adff47dd814286bd3a163118",
       "style": "IPY_MODEL_4d479d8cf32f4f97842c494a1bd38681"
      }
     },
     "a68d3b87444e4a909abd15b2d5a1a746": {
      "model_module": "@jupyter-widgets/controls",
      "model_module_version": "1.2.0",
      "model_name": "DropdownModel",
      "state": {
       "_options_labels": [
        "Konstituente",
        "Phrase",
        " "
       ],
       "index": 0,
       "layout": "IPY_MODEL_86c23b46e5084efd8dacce073e6d8874",
       "style": "IPY_MODEL_ccbfbd26758a49c0b062463469effb28"
      }
     },
     "a6a5463890744d2e9bcf1d0d77d97e7b": {
      "model_module": "@jupyter-widgets/controls",
      "model_module_version": "1.2.0",
      "model_name": "CheckboxModel",
      "state": {
       "description": "gleiche syntagmatische Position",
       "disabled": false,
       "layout": "IPY_MODEL_bde7998af4a54c8db47f0c2cd5bf8e6a",
       "style": "IPY_MODEL_fd0bf56be5f5470688ca87a1f4b5a496",
       "value": false
      }
     },
     "a6c0486924ba421aad1a91e44a5b9b44": {
      "model_module": "@jupyter-widgets/base",
      "model_module_version": "1.0.0",
      "model_name": "LayoutModel",
      "state": {}
     },
     "a6d9c58749714c7eb24a06bdf99ca0ea": {
      "model_module": "@jupyter-widgets/controls",
      "model_module_version": "1.2.0",
      "model_name": "ButtonStyleModel",
      "state": {}
     },
     "a6f8ee993dee400d8b52cba737e9f3c8": {
      "model_module": "@jupyter-widgets/controls",
      "model_module_version": "1.2.0",
      "model_name": "CheckboxModel",
      "state": {
       "description": "gleicher Kontext",
       "disabled": false,
       "layout": "IPY_MODEL_e71a3d0e496349949eafba2f4ea81a8b",
       "style": "IPY_MODEL_ba20e4e322654b3895a971861ae645b1",
       "value": false
      }
     },
     "a7518c198f9c44b48c054777812ef358": {
      "model_module": "@jupyter-widgets/controls",
      "model_module_version": "1.2.0",
      "model_name": "ButtonStyleModel",
      "state": {}
     },
     "a75f0da5d35d414394228c798d5134e5": {
      "model_module": "@jupyter-widgets/controls",
      "model_module_version": "1.2.0",
      "model_name": "CheckboxModel",
      "state": {
       "description": "gleiche syntagmatische Position",
       "disabled": false,
       "layout": "IPY_MODEL_9fcf8d2681f54aa5a3e0a62d8e211518",
       "style": "IPY_MODEL_9cf9297de0cd4024a6ec4216e46ef786",
       "value": false
      }
     },
     "a76b37a2fd3a4229905a14a2c323e391": {
      "model_module": "@jupyter-widgets/base",
      "model_module_version": "1.0.0",
      "model_name": "LayoutModel",
      "state": {
       "justify_content": "center"
      }
     },
     "a7bb67ef76c743cfa3decf3f9b52db6d": {
      "model_module": "@jupyter-widgets/controls",
      "model_module_version": "1.2.0",
      "model_name": "ButtonModel",
      "state": {
       "description": "gerund",
       "layout": "IPY_MODEL_05837f23126046519bc557c35f02c394",
       "style": "IPY_MODEL_b69d48d6ae8149f98370b268d2cd77bd"
      }
     },
     "a806980eb9794858a3ed026300f55143": {
      "model_module": "@jupyter-widgets/controls",
      "model_module_version": "1.2.0",
      "model_name": "DescriptionStyleModel",
      "state": {
       "description_width": ""
      }
     },
     "a8312e77973f4bd2ab5dda46af8184aa": {
      "model_module": "@jupyter-widgets/base",
      "model_module_version": "1.0.0",
      "model_name": "LayoutModel",
      "state": {
       "width": "150px"
      }
     },
     "a8477005ace54a2f8c453743ee7d1989": {
      "model_module": "@jupyter-widgets/controls",
      "model_module_version": "1.2.0",
      "model_name": "HTMLModel",
      "state": {
       "layout": "IPY_MODEL_44948936b9314eb4b537d13cd5d2f81d",
       "style": "IPY_MODEL_ee1f4b796d974b6ca8d5ea3f02559e26",
       "value": "<i>Vervollständigen Sie den Lückentext: </i>"
      }
     },
     "a852abfa3f624aa598ef1163c99e2e44": {
      "model_module": "@jupyter-widgets/base",
      "model_module_version": "1.0.0",
      "model_name": "LayoutModel",
      "state": {
       "justify_content": "center"
      }
     },
     "a88c8f4f5ffd48e9af313a7a231c9947": {
      "model_module": "@jupyter-widgets/controls",
      "model_module_version": "1.2.0",
      "model_name": "VBoxModel",
      "state": {
       "children": [
        "IPY_MODEL_b35d02ccd74d4b0d908bbcd90e40856f",
        "IPY_MODEL_8de9afecce714541a4c2ca4046137a44",
        "IPY_MODEL_51434281aa6c40f59c136b6d976ed822",
        "IPY_MODEL_159f955b6b86413ea29f6cd2038b0fc6"
       ],
       "layout": "IPY_MODEL_2a3b673596b24107b8b2b13256a8c611"
      }
     },
     "a8c69081763e447f80bdb69bac47e1b0": {
      "model_module": "@jupyter-widgets/base",
      "model_module_version": "1.0.0",
      "model_name": "LayoutModel",
      "state": {}
     },
     "a8ec1e461e8a4f77941f88953ad29c07": {
      "model_module": "@jupyter-widgets/base",
      "model_module_version": "1.0.0",
      "model_name": "LayoutModel",
      "state": {
       "width": "250px"
      }
     },
     "a8f1b6f09a8e4bd68f5bce30a97fc1eb": {
      "model_module": "@jupyter-widgets/controls",
      "model_module_version": "1.2.0",
      "model_name": "DescriptionStyleModel",
      "state": {
       "description_width": ""
      }
     },
     "a90aaba51d9545bd9332074e2cbca701": {
      "model_module": "@jupyter-widgets/controls",
      "model_module_version": "1.2.0",
      "model_name": "CheckboxModel",
      "state": {
       "description": "gleiche syntagmatische Position",
       "disabled": false,
       "layout": "IPY_MODEL_4dd6cd93d950457bbbed1ae317911642",
       "style": "IPY_MODEL_908464c4c82e47d9a47505cd0474cb28",
       "value": false
      }
     },
     "a9107254b8cc4bb19724a70ade754730": {
      "model_module": "@jupyter-widgets/controls",
      "model_module_version": "1.2.0",
      "model_name": "HBoxModel",
      "state": {
       "children": [
        "IPY_MODEL_5b2c789c26cd440d97c607fb1a423637",
        "IPY_MODEL_fed5e32d87a84906a713a067c3f2539d"
       ],
       "layout": "IPY_MODEL_8e796fe20a22466fa0d877467e30bfd3"
      }
     },
     "a93f70c680ff4a95a2e1c908104a6860": {
      "model_module": "@jupyter-widgets/controls",
      "model_module_version": "1.2.0",
      "model_name": "ButtonModel",
      "state": {
       "description": "Korrekt?",
       "layout": "IPY_MODEL_d58caaffcd0c4e2fbb19a72433aa1c2d",
       "style": "IPY_MODEL_40c4e8ea76b944579a7b5f61ec1e3164"
      }
     },
     "a9433ec00a7447ffbd4dd940a48528f0": {
      "model_module": "@jupyter-widgets/controls",
      "model_module_version": "1.2.0",
      "model_name": "HTMLModel",
      "state": {
       "layout": "IPY_MODEL_c47cc4ac97dd4a52b4411c1d9469bc91",
       "style": "IPY_MODEL_5b6d4553727c490c8d3b378417fa8f0c",
       "value": "<i>Wählen Sie die <ins>eine</ins> korrekte Antwort aus: </i>"
      }
     },
     "a973926a45504bda8ad0f5d28d405033": {
      "model_module": "@jupyter-widgets/base",
      "model_module_version": "1.0.0",
      "model_name": "LayoutModel",
      "state": {}
     },
     "a991ffa8e4e44a52ae6ebe26b4aa4f44": {
      "model_module": "@jupyter-widgets/controls",
      "model_module_version": "1.2.0",
      "model_name": "HTMLModel",
      "state": {
       "layout": "IPY_MODEL_bf5333e15c604a58a614bada99d09111",
       "style": "IPY_MODEL_1ceb361b3e1344e8b562053a8d832a5e",
       "value": "<h4 style=\"font-size:14px;\">Welche Wortart könnte man für das Wort <i>gut</i> in Satz 2 vermuten, wenn man Adverbien nicht morphologisch, sondern semantisch charakterisiert (als Wortart, die der Modifizierung des Verbalgeschehens dient)?</h4>"
      }
     },
     "a9dff8425f9247da8de807ac7ffc088d": {
      "model_module": "@jupyter-widgets/controls",
      "model_module_version": "1.2.0",
      "model_name": "ButtonModel",
      "state": {
       "description": "past participle",
       "layout": "IPY_MODEL_2cf885607d6a407694ab278dc2920c06",
       "style": "IPY_MODEL_9b2c60af55bb40dd888d46073824c7fd"
      }
     },
     "aa2c217f98664504955f7dc074917a13": {
      "model_module": "@jupyter-widgets/base",
      "model_module_version": "1.0.0",
      "model_name": "LayoutModel",
      "state": {}
     },
     "aa2fb08f267e4ea8b779e44f10480ee2": {
      "model_module": "@jupyter-widgets/controls",
      "model_module_version": "1.2.0",
      "model_name": "ButtonStyleModel",
      "state": {}
     },
     "aa3211238cd64759a0d56c01925f2e9e": {
      "model_module": "@jupyter-widgets/controls",
      "model_module_version": "1.2.0",
      "model_name": "BoxModel",
      "state": {
       "children": [
        "IPY_MODEL_40d9f8dba13c4dafb61c2a295bb3d1bf",
        "IPY_MODEL_a68d3b87444e4a909abd15b2d5a1a746",
        "IPY_MODEL_cbc47cb833bc49d0a9f5383bf4a1a060",
        "IPY_MODEL_814005a11e134097901136ae105b5d01",
        "IPY_MODEL_7aaf5881d85f4f438efd4597502ce54c",
        "IPY_MODEL_f6d1ad3f8b254348958d055be9c2a59c",
        "IPY_MODEL_eb7a4dd1fdd147c495a3bdafb516d7b4",
        "IPY_MODEL_040fd9e082b542cc903a10282b312d6e",
        "IPY_MODEL_27c5271d54a34e3fb4fdfea0a7efa8f5",
        "IPY_MODEL_7c430dc0c8f84ee5942823ec758c5bee",
        "IPY_MODEL_bbe841bd39f64387bc2fdf014a079cee",
        "IPY_MODEL_595c5fe709cd4b469f3614ab2be718f7",
        "IPY_MODEL_311bd7833fba461c9f22716764b7b872"
       ],
       "layout": "IPY_MODEL_e4de42c971904a86ac2100b6307c089d"
      }
     },
     "aa408d3e29ec473daddf70b9f026f834": {
      "model_module": "@jupyter-widgets/base",
      "model_module_version": "1.0.0",
      "model_name": "LayoutModel",
      "state": {}
     },
     "aa5aec1e15d44367b155511d93e19e2a": {
      "model_module": "@jupyter-widgets/controls",
      "model_module_version": "1.2.0",
      "model_name": "CheckboxModel",
      "state": {
       "description": "Zu einem Wort werden seine Kookkurrenzpartner gefunden.",
       "disabled": false,
       "layout": "IPY_MODEL_6f0a3fa3ec9f4fbaacae0aca7e687c82",
       "style": "IPY_MODEL_7399e9d3be144c7d89358249d10af73b",
       "value": false
      }
     },
     "aa6033ea764f41d4a453e249b2e02e81": {
      "model_module": "@jupyter-widgets/controls",
      "model_module_version": "1.2.0",
      "model_name": "DescriptionStyleModel",
      "state": {
       "description_width": ""
      }
     },
     "aa644b38f17f42afa984c1e6bd98255a": {
      "model_module": "@jupyter-widgets/controls",
      "model_module_version": "1.2.0",
      "model_name": "HTMLModel",
      "state": {
       "layout": "IPY_MODEL_e3355b9fd3e74982944b750deab77956",
       "style": "IPY_MODEL_e7757b882cb44c44bd3e106f90938ce9",
       "value": "<h4 style=\"font-size:14px;\">Die Koordination von Phrasen ist dadurch eingeschränkt, dass nur</h4>"
      }
     },
     "aa71ae1a3ea04e8a9c47b05139bb703d": {
      "model_module": "@jupyter-widgets/controls",
      "model_module_version": "1.2.0",
      "model_name": "HTMLModel",
      "state": {
       "layout": "IPY_MODEL_459a73329ca84ba1b3f4ded01aad5023",
       "style": "IPY_MODEL_1ab532c22c434b77b133820547bf7414",
       "value": "<h4 style=\"font-size:14px;\">Was sind syntaktische Kriterien für Wortkategorien?</h4>"
      }
     },
     "aa7bb1739ca6405fbdfae1249b80d8b6": {
      "model_module": "@jupyter-widgets/base",
      "model_module_version": "1.0.0",
      "model_name": "LayoutModel",
      "state": {
       "width": "150px"
      }
     },
     "aa8ec83ca176499da3c83d195a5afc0c": {
      "model_module": "@jupyter-widgets/controls",
      "model_module_version": "1.2.0",
      "model_name": "DescriptionStyleModel",
      "state": {
       "description_width": ""
      }
     },
     "aaa01deff8d042109644ac6b55b739d5": {
      "model_module": "@jupyter-widgets/controls",
      "model_module_version": "1.2.0",
      "model_name": "ButtonStyleModel",
      "state": {
       "button_color": "lightgreen"
      }
     },
     "aaabc27614be478d809065fbd6445c32": {
      "model_module": "@jupyter-widgets/base",
      "model_module_version": "1.0.0",
      "model_name": "LayoutModel",
      "state": {}
     },
     "aad4940829be49f0a77fba62ec79e36f": {
      "model_module": "@jupyter-widgets/controls",
      "model_module_version": "1.2.0",
      "model_name": "CheckboxModel",
      "state": {
       "description": "Zu einem Wort werden alle Wörter gefunden, die in gleichen Kontexten vorkommen.",
       "disabled": false,
       "layout": "IPY_MODEL_4a052e582d034c3993c85761f071bd3b",
       "style": "IPY_MODEL_7ae7c272d2194b91821769b972e5a5bc",
       "value": false
      }
     },
     "ab6e4216736449e0ab7d6b66ab1729a2": {
      "model_module": "@jupyter-widgets/base",
      "model_module_version": "1.0.0",
      "model_name": "LayoutModel",
      "state": {}
     },
     "ab83bcd888574917aeb5da37ab8a1bd6": {
      "model_module": "@jupyter-widgets/controls",
      "model_module_version": "1.2.0",
      "model_name": "ButtonStyleModel",
      "state": {}
     },
     "abc2b5b434e6468f91473f844f4ff476": {
      "model_module": "@jupyter-widgets/controls",
      "model_module_version": "1.2.0",
      "model_name": "HTMLModel",
      "state": {
       "layout": "IPY_MODEL_9cf7bf1852484b1b8cda8ff68d2352c0",
       "style": "IPY_MODEL_df868ab09c594009aa56814821118b3c",
       "value": "<h4 style=\"font-size:14px;\">-Tupel von</h4>"
      }
     },
     "abd3c30542804f4a97bcf39ad4a2c7f7": {
      "model_module": "@jupyter-widgets/controls",
      "model_module_version": "1.2.0",
      "model_name": "VBoxModel",
      "state": {
       "children": [
        "IPY_MODEL_aa71ae1a3ea04e8a9c47b05139bb703d",
        "IPY_MODEL_caad23e09cf94cbba24fa0da758d041f",
        "IPY_MODEL_9af1ca5010184345a5815fe19d298575",
        "IPY_MODEL_8ac4ce956baa4b54a6f857c1851a67cf"
       ],
       "layout": "IPY_MODEL_c921b042f3cb4e97a5740d5d81a18571"
      }
     },
     "abe7e40d56b240b59ce8e65b402923e7": {
      "model_module": "@jupyter-widgets/controls",
      "model_module_version": "1.2.0",
      "model_name": "ButtonModel",
      "state": {
       "description": "simple past",
       "layout": "IPY_MODEL_42c6b056fc4f406fbf27344989546f67",
       "style": "IPY_MODEL_68e0a345310d4e8eac61d765c9c35f41"
      }
     },
     "abede8cf7afa47d49d9ca50a8b7d7f02": {
      "model_module": "@jupyter-widgets/base",
      "model_module_version": "1.0.0",
      "model_name": "LayoutModel",
      "state": {
       "width": "600px"
      }
     },
     "ac09b24254a44958878518aa43740a4e": {
      "model_module": "@jupyter-widgets/controls",
      "model_module_version": "1.2.0",
      "model_name": "DropdownModel",
      "state": {
       "_options_labels": [
        "Mittelfeld",
        "Nachfeld",
        "Vorfeld",
        " "
       ],
       "index": 3,
       "layout": "IPY_MODEL_b29f3ccc4f0944fd8d86245653cf15a3",
       "style": "IPY_MODEL_20a1f06dee80482991fe60a1b0e8d784"
      }
     },
     "ac0ca9a95db545f8a29e19aa559702ff": {
      "model_module": "@jupyter-widgets/controls",
      "model_module_version": "1.2.0",
      "model_name": "DescriptionStyleModel",
      "state": {
       "description_width": ""
      }
     },
     "ac1d0e186577459480f72660c834dd08": {
      "model_module": "@jupyter-widgets/base",
      "model_module_version": "1.0.0",
      "model_name": "LayoutModel",
      "state": {
       "width": "150px"
      }
     },
     "ac3c4abbd28b4df88c25517a0e0f8ec2": {
      "model_module": "@jupyter-widgets/controls",
      "model_module_version": "1.2.0",
      "model_name": "DescriptionStyleModel",
      "state": {
       "description_width": ""
      }
     },
     "ac4e38c0282549b1b8cc2f831faa9141": {
      "model_module": "@jupyter-widgets/base",
      "model_module_version": "1.0.0",
      "model_name": "LayoutModel",
      "state": {}
     },
     "ac77f1c556b9491895efbf08d2a18484": {
      "model_module": "@jupyter-widgets/controls",
      "model_module_version": "1.2.0",
      "model_name": "HBoxModel",
      "state": {
       "children": [
        "IPY_MODEL_5b4c9ab4aeef48158337231d05bf62da",
        "IPY_MODEL_369e9b04f09a4aba972f462336f51070"
       ],
       "layout": "IPY_MODEL_95f83b83ab6345cfa7373eac5f84a1ea"
      }
     },
     "acd7002da63d4bcab64ba9d0d6a07771": {
      "model_module": "@jupyter-widgets/controls",
      "model_module_version": "1.2.0",
      "model_name": "ButtonStyleModel",
      "state": {}
     },
     "ad10c2aad8f94c5bbc410cc4e2c0f921": {
      "model_module": "@jupyter-widgets/controls",
      "model_module_version": "1.2.0",
      "model_name": "ButtonStyleModel",
      "state": {}
     },
     "ad13fabcb61d41bfb3f00114278ece75": {
      "model_module": "@jupyter-widgets/controls",
      "model_module_version": "1.2.0",
      "model_name": "ButtonModel",
      "state": {
       "description": "Korrekt?",
       "layout": "IPY_MODEL_575f336547744f77af10238563cd8261",
       "style": "IPY_MODEL_228044a8cf414f3ab91a5ca6983b9b0d"
      }
     },
     "ad24b0cd02524f45bd492ddc3e3045df": {
      "model_module": "@jupyter-widgets/base",
      "model_module_version": "1.0.0",
      "model_name": "LayoutModel",
      "state": {}
     },
     "ad95394850234b478c44f8bf7578d73a": {
      "model_module": "@jupyter-widgets/controls",
      "model_module_version": "1.2.0",
      "model_name": "DescriptionStyleModel",
      "state": {
       "description_width": ""
      }
     },
     "adad70d64ead45b9a975f2b75fab7f27": {
      "model_module": "@jupyter-widgets/controls",
      "model_module_version": "1.2.0",
      "model_name": "DescriptionStyleModel",
      "state": {
       "description_width": ""
      }
     },
     "adcb1635b51b45fb97eb7506e3861481": {
      "model_module": "@jupyter-widgets/base",
      "model_module_version": "1.0.0",
      "model_name": "LayoutModel",
      "state": {
       "justify_content": "center"
      }
     },
     "add68ac50e7c408c9efb00683c3f10e9": {
      "model_module": "@jupyter-widgets/controls",
      "model_module_version": "1.2.0",
      "model_name": "ButtonStyleModel",
      "state": {}
     },
     "ae0f9d2ebc9c4f389d7962ebc1bb47aa": {
      "model_module": "@jupyter-widgets/controls",
      "model_module_version": "1.2.0",
      "model_name": "HBoxModel",
      "state": {
       "children": [
        "IPY_MODEL_5436be2c4a7542698c84f7e55beafa39",
        "IPY_MODEL_8d3075a3c33b44baa8124f5344fdc222"
       ],
       "layout": "IPY_MODEL_4b1a0229ac72463fb8de90b670b7a6fa"
      }
     },
     "ae127b1e7b9e4f7598683eb59399ae03": {
      "model_module": "@jupyter-widgets/controls",
      "model_module_version": "1.2.0",
      "model_name": "ButtonModel",
      "state": {
       "description": "gerund",
       "layout": "IPY_MODEL_e2f7a463243c4c4691a6b5dd3a0a8126",
       "style": "IPY_MODEL_649ab1fbead34a33aafcd0d2d95dc1fc"
      }
     },
     "ae76812f24d74137b7bd55c93412d514": {
      "model_module": "@jupyter-widgets/controls",
      "model_module_version": "1.2.0",
      "model_name": "HBoxModel",
      "state": {
       "children": [
        "IPY_MODEL_cc00da4924714a3d8c484c61daa065c3",
        "IPY_MODEL_8b8a6d65b39a45ad9295249c0544601a"
       ],
       "layout": "IPY_MODEL_532b1dc308924e5f923772e723b45187"
      }
     },
     "ae7d1e85073742049ab7780d7b0b06dd": {
      "model_module": "@jupyter-widgets/controls",
      "model_module_version": "1.2.0",
      "model_name": "HBoxModel",
      "state": {
       "children": [
        "IPY_MODEL_48b67b67432e4e3c89334baad4b65362",
        "IPY_MODEL_b31300796682499cbc10c94662ee8f15"
       ],
       "layout": "IPY_MODEL_2ff4f732fb1941de811f9d24df2fa383"
      }
     },
     "ae7e2baab9944aee9f13fe85440fb2cd": {
      "model_module": "@jupyter-widgets/base",
      "model_module_version": "1.0.0",
      "model_name": "LayoutModel",
      "state": {}
     },
     "aec4c34d1f2c4d69a71efafb0d35bc4f": {
      "model_module": "@jupyter-widgets/controls",
      "model_module_version": "1.2.0",
      "model_name": "HBoxModel",
      "state": {
       "children": [
        "IPY_MODEL_fd2fbb21565d4046834e3a50e712a22b"
       ],
       "layout": "IPY_MODEL_d91e76abb2c94ec4882c1b19ba1e6735"
      }
     },
     "aed3cef5c7a548f3a7cf95a594012ebb": {
      "model_module": "@jupyter-widgets/controls",
      "model_module_version": "1.2.0",
      "model_name": "VBoxModel",
      "state": {
       "children": [
        "IPY_MODEL_d34ce0971676411395be86d1740b6588",
        "IPY_MODEL_53273e9bb607456abf4ad3daf94387da",
        "IPY_MODEL_969e354a80d34d3d8b3b6d6b6a198815"
       ],
       "layout": "IPY_MODEL_3139de61fdbe413d976cf4c9e9f57f3d"
      }
     },
     "aefcd2b7f3ef4852a8aa218e704442e5": {
      "model_module": "@jupyter-widgets/controls",
      "model_module_version": "1.2.0",
      "model_name": "DescriptionStyleModel",
      "state": {
       "description_width": ""
      }
     },
     "af0d8f2c59e242d4aee560055e27dbd5": {
      "model_module": "@jupyter-widgets/base",
      "model_module_version": "1.0.0",
      "model_name": "LayoutModel",
      "state": {
       "width": "250px"
      }
     },
     "af5b104fc15c4167b98815f170379096": {
      "model_module": "@jupyter-widgets/controls",
      "model_module_version": "1.2.0",
      "model_name": "ButtonModel",
      "state": {
       "description": "past participle",
       "layout": "IPY_MODEL_01ac87c3c89d427fb34666d8cff76bda",
       "style": "IPY_MODEL_6bf50b0035434cb188705adb69ba99b4"
      }
     },
     "affd0d97217b4d7598276005d27228d7": {
      "model_module": "@jupyter-widgets/base",
      "model_module_version": "1.0.0",
      "model_name": "LayoutModel",
      "state": {}
     },
     "b003b086188d437288dea8fc964e63a7": {
      "model_module": "@jupyter-widgets/base",
      "model_module_version": "1.0.0",
      "model_name": "LayoutModel",
      "state": {
       "width": "600px"
      }
     },
     "b025d65598ba4b5587022c2f7d570aa0": {
      "model_module": "@jupyter-widgets/base",
      "model_module_version": "1.0.0",
      "model_name": "LayoutModel",
      "state": {
       "width": "250px"
      }
     },
     "b0374c48dede4179a68ae010ed983dfa": {
      "model_module": "@jupyter-widgets/controls",
      "model_module_version": "1.2.0",
      "model_name": "HTMLModel",
      "state": {
       "layout": "IPY_MODEL_06ca91dece9f4883a8f33b6ec44b8e79",
       "style": "IPY_MODEL_7efd269a903f4eae964e5897921a452c",
       "value": "<h4 style=\"font-size:14px;\"><i>Eine Reise beginnt auch nur mit einem Schritt.</i><br>Welche Tests wurden angewandt?</h4>"
      }
     },
     "b0841ed3d3de40ac815c94f86559ffe3": {
      "model_module": "@jupyter-widgets/base",
      "model_module_version": "1.0.0",
      "model_name": "LayoutModel",
      "state": {}
     },
     "b085c6fbaefd4d8baa17f86bf9e2f9b6": {
      "model_module": "@jupyter-widgets/base",
      "model_module_version": "1.0.0",
      "model_name": "LayoutModel",
      "state": {}
     },
     "b08a15cee843482d9d4d4a38bd591d23": {
      "model_module": "@jupyter-widgets/base",
      "model_module_version": "1.0.0",
      "model_name": "LayoutModel",
      "state": {}
     },
     "b0d64f70fd034d3396a5ce5e79a195c9": {
      "model_module": "@jupyter-widgets/base",
      "model_module_version": "1.0.0",
      "model_name": "LayoutModel",
      "state": {}
     },
     "b0f7657c9b5c4f219b6fbc56100d2e34": {
      "model_module": "@jupyter-widgets/base",
      "model_module_version": "1.0.0",
      "model_name": "LayoutModel",
      "state": {}
     },
     "b1054f05d3c441908d5ea44547618dc0": {
      "model_module": "@jupyter-widgets/controls",
      "model_module_version": "1.2.0",
      "model_name": "DescriptionStyleModel",
      "state": {
       "description_width": ""
      }
     },
     "b124f55ee50846b5b206c63ecff9b727": {
      "model_module": "@jupyter-widgets/controls",
      "model_module_version": "1.2.0",
      "model_name": "DescriptionStyleModel",
      "state": {
       "description_width": ""
      }
     },
     "b129ef6962164cefaa2569a345398217": {
      "model_module": "@jupyter-widgets/base",
      "model_module_version": "1.0.0",
      "model_name": "LayoutModel",
      "state": {}
     },
     "b18760e8aa2042f8b0fdaab7b7f81450": {
      "model_module": "@jupyter-widgets/base",
      "model_module_version": "1.0.0",
      "model_name": "LayoutModel",
      "state": {
       "justify_content": "center"
      }
     },
     "b18a25409c93461d8671a436be10bc6f": {
      "model_module": "@jupyter-widgets/controls",
      "model_module_version": "1.2.0",
      "model_name": "HTMLModel",
      "state": {
       "layout": "IPY_MODEL_94b090fd5e3841f299116056c0f99e60",
       "style": "IPY_MODEL_6d993776773e4c5c9c9459a3d7ecd8c5",
       "value": "<h4 style=\"font-size:14px;\">, aber keine</h4>"
      }
     },
     "b1a1df2da7be4695ac01b079ed12a2b7": {
      "model_module": "@jupyter-widgets/controls",
      "model_module_version": "1.2.0",
      "model_name": "DropdownModel",
      "state": {
       "_options_labels": [
        "kürzere",
        "längere",
        " "
       ],
       "index": 2,
       "layout": "IPY_MODEL_137133943cec42398fa8b9b83bb2c7c1",
       "style": "IPY_MODEL_8852b2e8c81242519d9b1d9edef02419"
      }
     },
     "b1a5b68819834c86b7abda63833959e1": {
      "model_module": "@jupyter-widgets/base",
      "model_module_version": "1.0.0",
      "model_name": "LayoutModel",
      "state": {
       "width": "250px"
      }
     },
     "b1b79b4c318e42a689bc4134b748a1fe": {
      "model_module": "@jupyter-widgets/controls",
      "model_module_version": "1.2.0",
      "model_name": "HTMLModel",
      "state": {
       "layout": "IPY_MODEL_702d9070e5da44f2936fd1e7bac54496",
       "style": "IPY_MODEL_4e184398866c47b49e6ee7945ac4e8e4",
       "value": "<h4 style=\"font-size:14px;\">Das Partizip <i>Verloren<i> ist eine</h4>"
      }
     },
     "b1d98a7e1dfc483b92f628fd29de8638": {
      "model_module": "@jupyter-widgets/base",
      "model_module_version": "1.0.0",
      "model_name": "LayoutModel",
      "state": {
       "width": "150px"
      }
     },
     "b1dfb4cdcf524028bba510c1e21b51ac": {
      "model_module": "@jupyter-widgets/controls",
      "model_module_version": "1.2.0",
      "model_name": "HTMLModel",
      "state": {
       "layout": "IPY_MODEL_8298b34edd95431092c592db531f3376",
       "style": "IPY_MODEL_99910234079c454582418a9aefe6ed00",
       "value": "<i>Geben Sie die entsprechende Funktion anstelle des Unterstrichs ein.</i>"
      }
     },
     "b1f6f535f4ca4ed8a8ba09e1c770280c": {
      "model_module": "@jupyter-widgets/controls",
      "model_module_version": "1.2.0",
      "model_name": "ButtonStyleModel",
      "state": {}
     },
     "b2004758f0b3410987aec23ed6f67e71": {
      "model_module": "@jupyter-widgets/base",
      "model_module_version": "1.0.0",
      "model_name": "LayoutModel",
      "state": {
       "width": "600px"
      }
     },
     "b223bc944f944bd08b515401dc01adcd": {
      "model_module": "@jupyter-widgets/base",
      "model_module_version": "1.0.0",
      "model_name": "LayoutModel",
      "state": {}
     },
     "b2632d080881452d86dc44c2054e929d": {
      "model_module": "@jupyter-widgets/base",
      "model_module_version": "1.0.0",
      "model_name": "LayoutModel",
      "state": {
       "justify_content": "center"
      }
     },
     "b291b987a2d24c2d82e47a0d9d8f8529": {
      "model_module": "@jupyter-widgets/base",
      "model_module_version": "1.0.0",
      "model_name": "LayoutModel",
      "state": {
       "width": "250px"
      }
     },
     "b2943dd8c6654a83b10cde3b74478200": {
      "model_module": "@jupyter-widgets/base",
      "model_module_version": "1.0.0",
      "model_name": "LayoutModel",
      "state": {
       "justify_content": "center"
      }
     },
     "b29f3ccc4f0944fd8d86245653cf15a3": {
      "model_module": "@jupyter-widgets/base",
      "model_module_version": "1.0.0",
      "model_name": "LayoutModel",
      "state": {
       "width": "150px"
      }
     },
     "b2e2a3be90f84abea2272c48d6d7ffe7": {
      "model_module": "@jupyter-widgets/controls",
      "model_module_version": "1.2.0",
      "model_name": "DescriptionStyleModel",
      "state": {
       "description_width": ""
      }
     },
     "b2edddb21b4944d388828df262730bb5": {
      "model_module": "@jupyter-widgets/base",
      "model_module_version": "1.0.0",
      "model_name": "LayoutModel",
      "state": {}
     },
     "b30973df0af44023ab38b4caf37917fa": {
      "model_module": "@jupyter-widgets/base",
      "model_module_version": "1.0.0",
      "model_name": "LayoutModel",
      "state": {
       "justify_content": "center"
      }
     },
     "b31300796682499cbc10c94662ee8f15": {
      "model_module": "@jupyter-widgets/controls",
      "model_module_version": "1.2.0",
      "model_name": "ButtonModel",
      "state": {
       "description": "Adverb",
       "layout": "IPY_MODEL_12bb3f6f00494bfbb65029f1a72409cf",
       "style": "IPY_MODEL_c468fd97b09c43948f3278c6a4a60715"
      }
     },
     "b35d02ccd74d4b0d908bbcd90e40856f": {
      "model_module": "@jupyter-widgets/controls",
      "model_module_version": "1.2.0",
      "model_name": "CheckboxModel",
      "state": {
       "description": "Zu einem Wort werden alle Synonyme gefunden.",
       "disabled": false,
       "layout": "IPY_MODEL_ca26450b99a845a9b5522ec2c0c46c30",
       "style": "IPY_MODEL_b79e6bb79ad4416c8015531a8447e5c3",
       "value": false
      }
     },
     "b36d13466e644f719eb613cf2aaf9ce2": {
      "model_module": "@jupyter-widgets/base",
      "model_module_version": "1.0.0",
      "model_name": "LayoutModel",
      "state": {
       "justify_content": "center"
      }
     },
     "b37942da45f347c9b668548a3d7538ad": {
      "model_module": "@jupyter-widgets/base",
      "model_module_version": "1.0.0",
      "model_name": "LayoutModel",
      "state": {
       "width": "600px"
      }
     },
     "b3b617bd3a404b0ca2e6c8115cbc0bff": {
      "model_module": "@jupyter-widgets/base",
      "model_module_version": "1.0.0",
      "model_name": "LayoutModel",
      "state": {}
     },
     "b3c326255924482597a88a2fb784d283": {
      "model_module": "@jupyter-widgets/controls",
      "model_module_version": "1.2.0",
      "model_name": "ButtonModel",
      "state": {
       "description": "Wortfolge",
       "layout": "IPY_MODEL_0ec713f6c1214032a5194e567be8ae8a",
       "style": "IPY_MODEL_00627cc1eaff4e7dbea425e0c0a8a85e"
      }
     },
     "b3cfc2e1fd7b4e168b6ffd38cd299ff0": {
      "model_module": "@jupyter-widgets/controls",
      "model_module_version": "1.2.0",
      "model_name": "ButtonModel",
      "state": {
       "description": "Korrekt?",
       "layout": "IPY_MODEL_93d35f0daa7244a4a71b2e51d9d3d87c",
       "style": "IPY_MODEL_41430c496669487bb40b270f923c0292"
      }
     },
     "b3d62cc67fad4e4b960a7e62f412a118": {
      "model_module": "@jupyter-widgets/controls",
      "model_module_version": "1.2.0",
      "model_name": "VBoxModel",
      "state": {
       "children": [
        "IPY_MODEL_ff6cf44537a34a8caec1231af58da5e5",
        "IPY_MODEL_36b21174c26f4be899ec578edc5ecd5d",
        "IPY_MODEL_5c6971edda4a4c3099eb9f33fa5db713",
        "IPY_MODEL_3d8654f1aaba4923bd224e06493786f9"
       ],
       "layout": "IPY_MODEL_56832d06587149d6a06f9101e357ead3"
      }
     },
     "b3ebb424789c4685820042a21214042b": {
      "model_module": "@jupyter-widgets/controls",
      "model_module_version": "1.2.0",
      "model_name": "DescriptionStyleModel",
      "state": {
       "description_width": ""
      }
     },
     "b3fdd26f5d5f43bb8f1e3de88992fee5": {
      "model_module": "@jupyter-widgets/controls",
      "model_module_version": "1.2.0",
      "model_name": "ButtonModel",
      "state": {
       "description": "Korrekt?",
       "layout": "IPY_MODEL_35cc0a1811c44f0595149db292010b95",
       "style": "IPY_MODEL_d6fb3341007e46dbb9496f7c0a4d0feb"
      }
     },
     "b3ff937296f94c1da6817b89b090750c": {
      "model_module": "@jupyter-widgets/base",
      "model_module_version": "1.0.0",
      "model_name": "LayoutModel",
      "state": {
       "width": "600px"
      }
     },
     "b43c8883c3f44ebdbcdada33bc12c8ad": {
      "model_module": "@jupyter-widgets/controls",
      "model_module_version": "1.2.0",
      "model_name": "VBoxModel",
      "state": {
       "children": [
        "IPY_MODEL_3c17e87eee094ae79e646df7a1ea69da",
        "IPY_MODEL_483ed7de56e542f6ad96631b5d4b5216",
        "IPY_MODEL_33eeabfafdfc4e628eb1a4159fdf0865",
        "IPY_MODEL_e02f4645fd394fcabe439b521a60cdc6"
       ],
       "layout": "IPY_MODEL_3f27e676d1a649a49e0fe8b1ab454b0e"
      }
     },
     "b46f2160c7534b50adf7d5daa9be7322": {
      "model_module": "@jupyter-widgets/controls",
      "model_module_version": "1.2.0",
      "model_name": "ButtonStyleModel",
      "state": {}
     },
     "b4d1150da1224479a08f3c8bfc4a03ca": {
      "model_module": "@jupyter-widgets/controls",
      "model_module_version": "1.2.0",
      "model_name": "HBoxModel",
      "state": {
       "children": [
        "IPY_MODEL_553bd48ae7734acca87ea9e4f630c345",
        "IPY_MODEL_e0c591c0d46d49988ba6467d08f2954f"
       ],
       "layout": "IPY_MODEL_05407653d3d34e9cb72d25616527da1b"
      }
     },
     "b4d4b0ee2bf64593bb7823c9e9b5c9d1": {
      "model_module": "@jupyter-widgets/controls",
      "model_module_version": "1.2.0",
      "model_name": "VBoxModel",
      "state": {
       "children": [
        "IPY_MODEL_2468a808ea9841bab0e91180dff9b800",
        "IPY_MODEL_59b386129bd24f1190d8a2408ca1be05",
        "IPY_MODEL_b9eebfd52aa84670b6396c52cac5a31a"
       ],
       "layout": "IPY_MODEL_3bc212c514c74394b64219ca4dc2699c"
      }
     },
     "b510dd98f73744b888d1a3fd2e357c79": {
      "model_module": "@jupyter-widgets/controls",
      "model_module_version": "1.2.0",
      "model_name": "VBoxModel",
      "state": {
       "children": [
        "IPY_MODEL_3c1270415af24c86a5ff22672ef6d2bd",
        "IPY_MODEL_313c19be1bdc44149c376c607a2dec6a",
        "IPY_MODEL_1c1abf07bd004b67a745f8423a23f75b"
       ],
       "layout": "IPY_MODEL_8d82fc0251864e1b9e35ef2c56419cee"
      }
     },
     "b52cd29e826240f2b4b6816c1d4472ad": {
      "model_module": "@jupyter-widgets/controls",
      "model_module_version": "1.2.0",
      "model_name": "DropdownModel",
      "state": {
       "_options_labels": [
        "Bigramm",
        "Trigramm",
        "Unigramm",
        " "
       ],
       "index": 3,
       "layout": "IPY_MODEL_3c1930bd1fda44cbac0848b3a3803042",
       "style": "IPY_MODEL_bc84042d63e54481b73d8e831e72cb68"
      }
     },
     "b53b42c26c4945a6aa07fed4162f9b1c": {
      "model_module": "@jupyter-widgets/base",
      "model_module_version": "1.0.0",
      "model_name": "LayoutModel",
      "state": {
       "width": "250px"
      }
     },
     "b5453a7f5315411e95bb2cb285b86f6d": {
      "model_module": "@jupyter-widgets/controls",
      "model_module_version": "1.2.0",
      "model_name": "ButtonStyleModel",
      "state": {}
     },
     "b55e1052b6464d639a9f677766f8c2d8": {
      "model_module": "@jupyter-widgets/controls",
      "model_module_version": "1.2.0",
      "model_name": "CheckboxModel",
      "state": {
       "description": "Nur beginnt eine Reise von tausend Meilen auch mit einem Schritt",
       "disabled": false,
       "layout": "IPY_MODEL_e9b12731dc734291978df9ac278f9a60",
       "style": "IPY_MODEL_e563343aac364329853148c772b19eb7",
       "value": false
      }
     },
     "b55ed441785940f294b0a73ca75d32f2": {
      "model_module": "@jupyter-widgets/base",
      "model_module_version": "1.0.0",
      "model_name": "LayoutModel",
      "state": {
       "width": "250px"
      }
     },
     "b56c73eeb6424b71b690fa92eacbc381": {
      "model_module": "@jupyter-widgets/base",
      "model_module_version": "1.0.0",
      "model_name": "LayoutModel",
      "state": {
       "width": "600px"
      }
     },
     "b57383f5eca5466ebcb032975c9b1f76": {
      "model_module": "@jupyter-widgets/controls",
      "model_module_version": "1.2.0",
      "model_name": "ButtonModel",
      "state": {
       "description": "gerund",
       "layout": "IPY_MODEL_9d8d242efbd44357bc9cd9a2af41e8f6",
       "style": "IPY_MODEL_5bc11d42c4f4429abd76ede2d6eacd32"
      }
     },
     "b588747391c14012be83162df25cee22": {
      "model_module": "@jupyter-widgets/base",
      "model_module_version": "1.0.0",
      "model_name": "LayoutModel",
      "state": {
       "width": "600px"
      }
     },
     "b5ade096cd094d75b1a9fadbd3c39747": {
      "model_module": "@jupyter-widgets/controls",
      "model_module_version": "1.2.0",
      "model_name": "BoxModel",
      "state": {
       "children": [
        "IPY_MODEL_b1b79b4c318e42a689bc4134b748a1fe",
        "IPY_MODEL_beb8d7ab5833467aa5f651e539648c2c",
        "IPY_MODEL_580ecb72e215442ba0900ddb0fa6029e",
        "IPY_MODEL_71850e4dfe114a86885e1e7bba9c564c",
        "IPY_MODEL_0ff021300237400b825c7942679b162a",
        "IPY_MODEL_c22d02ace4c1480b9a55333ae179ecbf",
        "IPY_MODEL_53258691052c4425929001e17c1ca225",
        "IPY_MODEL_ac09b24254a44958878518aa43740a4e",
        "IPY_MODEL_50bb5be8368b4a9ab9d9c0bcee6955ef",
        "IPY_MODEL_88e04ab296a84b8d9b6889793e1c7ddd",
        "IPY_MODEL_e14f0480a8e24cddb03733092cc4bdaa",
        "IPY_MODEL_3ff92a4dc7684a0f85df0bf48a6a1531",
        "IPY_MODEL_56c5f3cbc49c4c98a30d062cd740a824"
       ],
       "layout": "IPY_MODEL_84c907b98ed8476c8ce6852de094d747"
      }
     },
     "b60497e94663416b8a1597effe46c31a": {
      "model_module": "@jupyter-widgets/base",
      "model_module_version": "1.0.0",
      "model_name": "LayoutModel",
      "state": {
       "width": "250px"
      }
     },
     "b66e223090e54719acce701930786084": {
      "model_module": "@jupyter-widgets/base",
      "model_module_version": "1.0.0",
      "model_name": "LayoutModel",
      "state": {}
     },
     "b69d48d6ae8149f98370b268d2cd77bd": {
      "model_module": "@jupyter-widgets/controls",
      "model_module_version": "1.2.0",
      "model_name": "ButtonStyleModel",
      "state": {}
     },
     "b69e33aaaa044e079ae1a8799f7d8327": {
      "model_module": "@jupyter-widgets/controls",
      "model_module_version": "1.2.0",
      "model_name": "DropdownModel",
      "state": {
       "_options_labels": [
        "morphologischen",
        "syntaktischen",
        " "
       ],
       "index": 2,
       "layout": "IPY_MODEL_ffaca8b0f4ab4f6c94807a68fc7402aa",
       "style": "IPY_MODEL_e8116a518fba47c7a3dc9bb6585696fe"
      }
     },
     "b6a6fbcd52be4faf8669a6337329153a": {
      "model_module": "@jupyter-widgets/controls",
      "model_module_version": "1.2.0",
      "model_name": "HTMLModel",
      "state": {
       "layout": "IPY_MODEL_3dd29a88129c4b0684d8a23fd340c393",
       "style": "IPY_MODEL_7c58edffdfcd4eaf902782321135f486",
       "value": "<h4 style=\"font-size:14px;\">Wie wirt der POS-Tagger im NLTK aufgerufen?</h4>"
      }
     },
     "b6e3bcdee82c4aecb5a7e31919c7f4ca": {
      "model_module": "@jupyter-widgets/controls",
      "model_module_version": "1.2.0",
      "model_name": "ButtonModel",
      "state": {
       "description": "Adjektiv",
       "layout": "IPY_MODEL_f7d63bc0b5b44656a645dc24e699297d",
       "style": "IPY_MODEL_d825d30e4208471a80d1668a60c32638"
      }
     },
     "b6efe2b67c4240069e67dbd07469d3df": {
      "model_module": "@jupyter-widgets/controls",
      "model_module_version": "1.2.0",
      "model_name": "DescriptionStyleModel",
      "state": {
       "description_width": ""
      }
     },
     "b7661db6dbf047a7872cacbcce8e7c36": {
      "model_module": "@jupyter-widgets/base",
      "model_module_version": "1.0.0",
      "model_name": "LayoutModel",
      "state": {}
     },
     "b76dc22ef65641b5893b198f330f1b4c": {
      "model_module": "@jupyter-widgets/controls",
      "model_module_version": "1.2.0",
      "model_name": "DescriptionStyleModel",
      "state": {
       "description_width": "initial"
      }
     },
     "b7753846df1d40dcb56c497c5de0e05e": {
      "model_module": "@jupyter-widgets/controls",
      "model_module_version": "1.2.0",
      "model_name": "DescriptionStyleModel",
      "state": {
       "description_width": ""
      }
     },
     "b79e6bb79ad4416c8015531a8447e5c3": {
      "model_module": "@jupyter-widgets/controls",
      "model_module_version": "1.2.0",
      "model_name": "DescriptionStyleModel",
      "state": {
       "description_width": "initial"
      }
     },
     "b7b967d6e07b466381146e73de80e1ea": {
      "model_module": "@jupyter-widgets/controls",
      "model_module_version": "1.2.0",
      "model_name": "DescriptionStyleModel",
      "state": {
       "description_width": "initial"
      }
     },
     "b7edb550d38b4039ab652bf2fe2c8a60": {
      "model_module": "@jupyter-widgets/base",
      "model_module_version": "1.0.0",
      "model_name": "LayoutModel",
      "state": {
       "width": "250px"
      }
     },
     "b8116e76f5ec42d38071fc197eea6700": {
      "model_module": "@jupyter-widgets/controls",
      "model_module_version": "1.2.0",
      "model_name": "CheckboxModel",
      "state": {
       "description": "Es fungiert als Satzglied mit der syntaktischen Funktion Adverbial.",
       "disabled": false,
       "layout": "IPY_MODEL_2bb36b9442ed45449eed23739e19a85a",
       "style": "IPY_MODEL_3860afb26ba446828e8c22a48585d5f9",
       "value": false
      }
     },
     "b829f0c8bac24a48933aeffb13f694b8": {
      "model_module": "@jupyter-widgets/controls",
      "model_module_version": "1.2.0",
      "model_name": "HBoxModel",
      "state": {
       "children": [
        "IPY_MODEL_b994e0e2e35448e8abe2daa9ffd3cb75",
        "IPY_MODEL_f56015eb56134ae0b031357f2f20edbe"
       ],
       "layout": "IPY_MODEL_b0841ed3d3de40ac815c94f86559ffe3"
      }
     },
     "b842c17a93fa4abdb3d6bb4a9aa18bc3": {
      "model_module": "@jupyter-widgets/controls",
      "model_module_version": "1.2.0",
      "model_name": "DescriptionStyleModel",
      "state": {
       "description_width": ""
      }
     },
     "b85adcdcc41b4d968c898a007a4ae44a": {
      "model_module": "@jupyter-widgets/controls",
      "model_module_version": "1.2.0",
      "model_name": "HTMLModel",
      "state": {
       "layout": "IPY_MODEL_3fb0cf89c227438982c39b1303a7d496",
       "style": "IPY_MODEL_4033574f1f3d4ba1a694cb38b70e67c0",
       "value": "<i>Wählen Sie die <ins>eine</ins> korrekte Antwort aus: </i>"
      }
     },
     "b871c75f3f5644f9a2536e3765cc2686": {
      "model_module": "@jupyter-widgets/controls",
      "model_module_version": "1.2.0",
      "model_name": "DescriptionStyleModel",
      "state": {
       "description_width": ""
      }
     },
     "b897362432454df4a8cf5fcd3e039244": {
      "model_module": "@jupyter-widgets/controls",
      "model_module_version": "1.2.0",
      "model_name": "ButtonStyleModel",
      "state": {}
     },
     "b8bc1baa425f468e9fa62a55574ecd8e": {
      "model_module": "@jupyter-widgets/controls",
      "model_module_version": "1.2.0",
      "model_name": "VBoxModel",
      "state": {
       "children": [
        "IPY_MODEL_2b879a22d25f4557b8fa04c57f6c6975",
        "IPY_MODEL_6f69239dcb6b436bb8d2b1272baa0ccc",
        "IPY_MODEL_daa4e427c66f4c78bdc7ff7520f6c01d",
        "IPY_MODEL_a6244ada362f486299c35a1b4f8e7fe0"
       ],
       "layout": "IPY_MODEL_5e6bbd32f29f4214b48b0979198a1a96"
      }
     },
     "b91f4e3a7f0b4ba4a61922bc21ec134f": {
      "model_module": "@jupyter-widgets/base",
      "model_module_version": "1.0.0",
      "model_name": "LayoutModel",
      "state": {
       "width": "250px"
      }
     },
     "b920c781948e48ac9f2d0db4685994e8": {
      "model_module": "@jupyter-widgets/controls",
      "model_module_version": "1.2.0",
      "model_name": "HTMLModel",
      "state": {
       "layout": "IPY_MODEL_ce368cf0c98a49ee8d3adc66f6ec2024",
       "style": "IPY_MODEL_4f99a6ba13a44fc28c8d0e7bce6706b6",
       "value": "<i>Wählen Sie die <ins>eine</ins> korrekte Antwort aus: </i>"
      }
     },
     "b9519f55162749e39537317b18064078": {
      "model_module": "@jupyter-widgets/controls",
      "model_module_version": "1.2.0",
      "model_name": "HBoxModel",
      "state": {
       "children": [
        "IPY_MODEL_378cfde707a149ce97ffe98c9db0fba8",
        "IPY_MODEL_666b0bf6b3264e219fc36030292f9423"
       ],
       "layout": "IPY_MODEL_1ec981d841c84218ae266f587f14a03e"
      }
     },
     "b95f46a81c514ffcabb274304a6f8243": {
      "model_module": "@jupyter-widgets/base",
      "model_module_version": "1.0.0",
      "model_name": "LayoutModel",
      "state": {
       "width": "250px"
      }
     },
     "b9621a06923e4ef58ca1d6f10c71e881": {
      "model_module": "@jupyter-widgets/controls",
      "model_module_version": "1.2.0",
      "model_name": "ButtonStyleModel",
      "state": {}
     },
     "b9621d00dc6b423b86e17a46c48faf82": {
      "model_module": "@jupyter-widgets/base",
      "model_module_version": "1.0.0",
      "model_name": "LayoutModel",
      "state": {}
     },
     "b97d999ee44348b5aa989c28d314b313": {
      "model_module": "@jupyter-widgets/controls",
      "model_module_version": "1.2.0",
      "model_name": "DescriptionStyleModel",
      "state": {
       "description_width": ""
      }
     },
     "b98fe24e71be4816947ee2ce60c40a2d": {
      "model_module": "@jupyter-widgets/base",
      "model_module_version": "1.0.0",
      "model_name": "LayoutModel",
      "state": {
       "width": "150px"
      }
     },
     "b994e0e2e35448e8abe2daa9ffd3cb75": {
      "model_module": "@jupyter-widgets/controls",
      "model_module_version": "1.2.0",
      "model_name": "ButtonModel",
      "state": {
       "description": "gerund",
       "layout": "IPY_MODEL_86fc3b2577ba4c0399e3e8b4f72ab8b6",
       "style": "IPY_MODEL_fae287b0f92842b3bc182d942cb7029d"
      }
     },
     "b9cf811af8fc483fb57f12ac130bcf82": {
      "model_module": "@jupyter-widgets/base",
      "model_module_version": "1.0.0",
      "model_name": "LayoutModel",
      "state": {
       "width": "250px"
      }
     },
     "b9eebfd52aa84670b6396c52cac5a31a": {
      "model_module": "@jupyter-widgets/controls",
      "model_module_version": "1.2.0",
      "model_name": "CheckboxModel",
      "state": {
       "description": "Es ist flektierbar.",
       "disabled": false,
       "layout": "IPY_MODEL_39ad4c3268814a84ac465e65f8c033f3",
       "style": "IPY_MODEL_202fcb9431d942efa88a0ec6628f3d83",
       "value": false
      }
     },
     "ba20e4e322654b3895a971861ae645b1": {
      "model_module": "@jupyter-widgets/controls",
      "model_module_version": "1.2.0",
      "model_name": "DescriptionStyleModel",
      "state": {
       "description_width": "initial"
      }
     },
     "ba45f030b06e458b9f5b2347dadbd849": {
      "model_module": "@jupyter-widgets/base",
      "model_module_version": "1.0.0",
      "model_name": "LayoutModel",
      "state": {
       "width": "600px"
      }
     },
     "ba6b5e8d3d5649c885d1c1b59a788d19": {
      "model_module": "@jupyter-widgets/controls",
      "model_module_version": "1.2.0",
      "model_name": "ButtonModel",
      "state": {
       "description": "Folge von Wortklassen",
       "layout": "IPY_MODEL_42aca485ff3249dfa2ec634cbf875d33",
       "style": "IPY_MODEL_0946891cc9de4b1193a1f6443f0ff3ef"
      }
     },
     "ba8a7f85c9ee4be98edd4a02d6a84833": {
      "model_module": "@jupyter-widgets/controls",
      "model_module_version": "1.2.0",
      "model_name": "ButtonStyleModel",
      "state": {}
     },
     "bb1351bea1e741fc81141717011fea1b": {
      "model_module": "@jupyter-widgets/controls",
      "model_module_version": "1.2.0",
      "model_name": "DescriptionStyleModel",
      "state": {
       "description_width": ""
      }
     },
     "bb58d19de7544978a06bf23c3a1e0bbb": {
      "model_module": "@jupyter-widgets/base",
      "model_module_version": "1.0.0",
      "model_name": "LayoutModel",
      "state": {
       "justify_content": "center"
      }
     },
     "bbe841bd39f64387bc2fdf014a079cee": {
      "model_module": "@jupyter-widgets/controls",
      "model_module_version": "1.2.0",
      "model_name": "HTMLModel",
      "state": {
       "layout": "IPY_MODEL_5f7ad475307841048bc7a311c454645c",
       "style": "IPY_MODEL_273b595d873d48328134690c2590af2c",
       "value": "<h4 style=\"font-size:14px;\">umfasst die</h4>"
      }
     },
     "bc13f27c314e41bd943bbb22ba620d3e": {
      "model_module": "@jupyter-widgets/controls",
      "model_module_version": "1.2.0",
      "model_name": "VBoxModel",
      "state": {
       "children": [
        "IPY_MODEL_210171bc2cd54f298375ae112772b9ea",
        "IPY_MODEL_d6fd9228571846f7b8e81e81d4c5a00f",
        "IPY_MODEL_69be0a62b4fc4f96b111d0dffaa9ec88",
        "IPY_MODEL_474355e40e384192ab3f362997a96426"
       ],
       "layout": "IPY_MODEL_53624897a0584b5f8b191310f9f556d3"
      }
     },
     "bc1d69b7783841b5b6c07e3ca92e0ab5": {
      "model_module": "@jupyter-widgets/controls",
      "model_module_version": "1.2.0",
      "model_name": "HTMLModel",
      "state": {
       "layout": "IPY_MODEL_7655c7086b1f43ae87772f3df0dcd5c5",
       "style": "IPY_MODEL_355f9663f2d64fa0b426d7f0b03da730",
       "value": "<i>Markieren Sie <ins>alle</ins> passenden Antworten: </i>"
      }
     },
     "bc40e5e131314a769c281672318f7fd5": {
      "model_module": "@jupyter-widgets/controls",
      "model_module_version": "1.2.0",
      "model_name": "DescriptionStyleModel",
      "state": {
       "description_width": ""
      }
     },
     "bc4375de25294643989e8614d7d566f5": {
      "model_module": "@jupyter-widgets/controls",
      "model_module_version": "1.2.0",
      "model_name": "ButtonModel",
      "state": {
       "description": "Korrekt?",
       "layout": "IPY_MODEL_3a715368c8c343bfab8aa59965767ea8",
       "style": "IPY_MODEL_ba8a7f85c9ee4be98edd4a02d6a84833"
      }
     },
     "bc6cee3eda2c43149e9891505f98a9ac": {
      "model_module": "@jupyter-widgets/controls",
      "model_module_version": "1.2.0",
      "model_name": "DescriptionStyleModel",
      "state": {
       "description_width": ""
      }
     },
     "bc84042d63e54481b73d8e831e72cb68": {
      "model_module": "@jupyter-widgets/controls",
      "model_module_version": "1.2.0",
      "model_name": "DescriptionStyleModel",
      "state": {
       "description_width": ""
      }
     },
     "bc9bf328e39546a58f7d8d743451d30a": {
      "model_module": "@jupyter-widgets/controls",
      "model_module_version": "1.2.0",
      "model_name": "VBoxModel",
      "state": {
       "children": [
        "IPY_MODEL_a0e3b5bfec5241cc83b3ba2110b58500",
        "IPY_MODEL_d9109d780ff34924b7954a3da431224d",
        "IPY_MODEL_8ed58e5c5a0c4b4c86bf0fc7dd10161c",
        "IPY_MODEL_45e8f7dd26a3402b8e4adbd9ee6295fc"
       ],
       "layout": "IPY_MODEL_8d71ca09da4949f09f0e993c729a8be8"
      }
     },
     "bcb4395cc4da47aa94213eb43af8810b": {
      "model_module": "@jupyter-widgets/controls",
      "model_module_version": "1.2.0",
      "model_name": "CheckboxModel",
      "state": {
       "description": "Zu einem Wort werden seine Kookkurrenzpartner gefunden.",
       "disabled": false,
       "layout": "IPY_MODEL_3dc27bb6f1c24d1089f110e47435f3c6",
       "style": "IPY_MODEL_2e42ee1278824eadbfbcf5517f20b536",
       "value": false
      }
     },
     "bcd45601e1a245789bfcdb94dcadc019": {
      "model_module": "@jupyter-widgets/controls",
      "model_module_version": "1.2.0",
      "model_name": "HTMLModel",
      "state": {
       "layout": "IPY_MODEL_2ac0d189cf3f4079b7f69a64c93ffb5b",
       "style": "IPY_MODEL_a55017a22ba24679a977453d19684a76",
       "value": "<h4 style=\"font-size:14px;\"><i>Eine Reise beginnt auch nur mit einem Schritt.</i><br>Welche Tests wurden angewandt?</h4>"
      }
     },
     "bcd66a7489e141bea9c167d99f92b29c": {
      "model_module": "@jupyter-widgets/base",
      "model_module_version": "1.0.0",
      "model_name": "LayoutModel",
      "state": {
       "width": "250px"
      }
     },
     "bcd9b9c9d4e64fb79f3a0fcc8b2491e0": {
      "model_module": "@jupyter-widgets/base",
      "model_module_version": "1.0.0",
      "model_name": "LayoutModel",
      "state": {
       "width": "600px"
      }
     },
     "bced85feac9443e2ba382b761eabcd98": {
      "model_module": "@jupyter-widgets/controls",
      "model_module_version": "1.2.0",
      "model_name": "DescriptionStyleModel",
      "state": {
       "description_width": ""
      }
     },
     "bd0d0bdf7d0e4ba9aba48d36129dcd85": {
      "model_module": "@jupyter-widgets/controls",
      "model_module_version": "1.2.0",
      "model_name": "CheckboxModel",
      "state": {
       "description": "Flexionstyp",
       "disabled": false,
       "layout": "IPY_MODEL_25d68aade2cb48ac8dce03e10b66a565",
       "style": "IPY_MODEL_63402998acd14777ac81b1181f5047d2",
       "value": false
      }
     },
     "bd6b799f8aa841969ebf02269a1a0996": {
      "model_module": "@jupyter-widgets/controls",
      "model_module_version": "1.2.0",
      "model_name": "CheckboxModel",
      "state": {
       "description": "Flexionstyp",
       "disabled": false,
       "layout": "IPY_MODEL_060dcd17914245bf86eee2ad8a5c4168",
       "style": "IPY_MODEL_08a3590a783c40c7890b74c9340155ed",
       "value": false
      }
     },
     "bdc0b948343c4109a4d411cbeac871eb": {
      "model_module": "@jupyter-widgets/controls",
      "model_module_version": "1.2.0",
      "model_name": "ButtonStyleModel",
      "state": {}
     },
     "bde7998af4a54c8db47f0c2cd5bf8e6a": {
      "model_module": "@jupyter-widgets/base",
      "model_module_version": "1.0.0",
      "model_name": "LayoutModel",
      "state": {
       "width": "600px"
      }
     },
     "bde8770179804704956e9a27244da5ad": {
      "model_module": "@jupyter-widgets/controls",
      "model_module_version": "1.2.0",
      "model_name": "ButtonStyleModel",
      "state": {}
     },
     "bde95fc970ab4ce9b3c6e36e7b2a8bb2": {
      "model_module": "@jupyter-widgets/controls",
      "model_module_version": "1.2.0",
      "model_name": "DescriptionStyleModel",
      "state": {
       "description_width": ""
      }
     },
     "be2ddc3472af43f29de8831f54e71193": {
      "model_module": "@jupyter-widgets/controls",
      "model_module_version": "1.2.0",
      "model_name": "DescriptionStyleModel",
      "state": {
       "description_width": "initial"
      }
     },
     "be34ad1ab47646b0a2f06c62804cf0ee": {
      "model_module": "@jupyter-widgets/controls",
      "model_module_version": "1.2.0",
      "model_name": "HTMLModel",
      "state": {
       "layout": "IPY_MODEL_b18760e8aa2042f8b0fdaab7b7f81450",
       "style": "IPY_MODEL_aefcd2b7f3ef4852a8aa218e704442e5",
       "value": "<h4 style=\"font-size:14px;\">Was bedeutet das Tag <i>VBD</i> im Browntagset (siehe 5.7)?</h4>"
      }
     },
     "be50087a66ef425c92509d69de2b6bb8": {
      "model_module": "@jupyter-widgets/base",
      "model_module_version": "1.0.0",
      "model_name": "LayoutModel",
      "state": {}
     },
     "be7dc491c72e4bf19c78eefd4cc68d09": {
      "model_module": "@jupyter-widgets/controls",
      "model_module_version": "1.2.0",
      "model_name": "ButtonStyleModel",
      "state": {}
     },
     "beb8d7ab5833467aa5f651e539648c2c": {
      "model_module": "@jupyter-widgets/controls",
      "model_module_version": "1.2.0",
      "model_name": "DropdownModel",
      "state": {
       "_options_labels": [
        "Konstituente",
        "Phrase",
        " "
       ],
       "index": 2,
       "layout": "IPY_MODEL_2aea0e32a3fa4c5fb546d495ceb967bd",
       "style": "IPY_MODEL_72bdf99012834d8c96c37e0e181b2aec"
      }
     },
     "bedaed764a3046bb9d0db8a1fe02e421": {
      "model_module": "@jupyter-widgets/controls",
      "model_module_version": "1.2.0",
      "model_name": "ButtonModel",
      "state": {
       "description": "Korrekt?",
       "layout": "IPY_MODEL_b91f4e3a7f0b4ba4a61922bc21ec134f",
       "style": "IPY_MODEL_b9621a06923e4ef58ca1d6f10c71e881"
      }
     },
     "bf0ee8b8234145afbe52c5fc387dac23": {
      "model_module": "@jupyter-widgets/base",
      "model_module_version": "1.0.0",
      "model_name": "LayoutModel",
      "state": {}
     },
     "bf32c3ee2be7463da36c893352b77f5c": {
      "model_module": "@jupyter-widgets/base",
      "model_module_version": "1.0.0",
      "model_name": "LayoutModel",
      "state": {}
     },
     "bf4b7c33234442c3a2879ba021a1b669": {
      "model_module": "@jupyter-widgets/controls",
      "model_module_version": "1.2.0",
      "model_name": "DescriptionStyleModel",
      "state": {
       "description_width": ""
      }
     },
     "bf5333e15c604a58a614bada99d09111": {
      "model_module": "@jupyter-widgets/base",
      "model_module_version": "1.0.0",
      "model_name": "LayoutModel",
      "state": {
       "justify_content": "center"
      }
     },
     "bf88bfa6bd6c4f44b53ef3069a175bf2": {
      "model_module": "@jupyter-widgets/controls",
      "model_module_version": "1.2.0",
      "model_name": "HTMLModel",
      "state": {
       "layout": "IPY_MODEL_106c7d662b2e4a85a54a5fa53a302693",
       "style": "IPY_MODEL_bced85feac9443e2ba382b761eabcd98",
       "value": "<i>Wählen Sie die <ins>eine</ins> korrekte Antwort aus: </i>"
      }
     },
     "bfc6f992989d4959842fdd96c2cce7a1": {
      "model_module": "@jupyter-widgets/base",
      "model_module_version": "1.0.0",
      "model_name": "LayoutModel",
      "state": {
       "width": "250px"
      }
     },
     "bfccfcb639e24318b3d038df9926e46c": {
      "model_module": "@jupyter-widgets/controls",
      "model_module_version": "1.2.0",
      "model_name": "HTMLModel",
      "state": {
       "layout": "IPY_MODEL_2e9dcb70acd7436f97b3adaf4fc9b779",
       "style": "IPY_MODEL_0a8ff7715e6e467dba699731203aaff8",
       "value": "<i>Wählen Sie die <ins>eine</ins> korrekte Antwort aus: </i>"
      }
     },
     "bfd102b123bd4965b23820a60800f26d": {
      "model_module": "@jupyter-widgets/controls",
      "model_module_version": "1.2.0",
      "model_name": "HBoxModel",
      "state": {
       "children": [
        "IPY_MODEL_ffdf48db894447a2ace2c9869c97f898",
        "IPY_MODEL_2920894789a84d8db47e17b342402ae6"
       ],
       "layout": "IPY_MODEL_4c151cebf18a4492950d4b1b541c2c4c"
      }
     },
     "bfecb397ae2b4b0cae9a594ac5b185e1": {
      "model_module": "@jupyter-widgets/base",
      "model_module_version": "1.0.0",
      "model_name": "LayoutModel",
      "state": {
       "width": "250px"
      }
     },
     "bfef1d7b2de54a3f9a85bfd5f6a8c769": {
      "model_module": "@jupyter-widgets/base",
      "model_module_version": "1.0.0",
      "model_name": "LayoutModel",
      "state": {}
     },
     "c02a7784a6834921844937fa2cc1c90c": {
      "model_module": "@jupyter-widgets/controls",
      "model_module_version": "1.2.0",
      "model_name": "HTMLModel",
      "state": {
       "layout": "IPY_MODEL_42ce06315cb74e3bb4acc12c8d6ab66c",
       "style": "IPY_MODEL_2cfd86ac15974b3186a25db76655026f",
       "value": "<i>Wählen Sie die <ins>eine</ins> korrekte Antwort aus: </i>"
      }
     },
     "c0439ba6726348d59bf3b9855b8812ee": {
      "model_module": "@jupyter-widgets/controls",
      "model_module_version": "1.2.0",
      "model_name": "ButtonModel",
      "state": {
       "description": "3rd singular present",
       "layout": "IPY_MODEL_1fd68f853b384baf80b8fd54f813e7de",
       "style": "IPY_MODEL_026228d6d5b04f208ba326a771248033"
      }
     },
     "c0764df35f1f487ebb1e028f567ba138": {
      "model_module": "@jupyter-widgets/base",
      "model_module_version": "1.0.0",
      "model_name": "LayoutModel",
      "state": {
       "justify_content": "center"
      }
     },
     "c078f287cdbb4f6a9bdb79df0733ee47": {
      "model_module": "@jupyter-widgets/base",
      "model_module_version": "1.0.0",
      "model_name": "LayoutModel",
      "state": {}
     },
     "c0817a32889f4ca286198f63d79062a0": {
      "model_module": "@jupyter-widgets/controls",
      "model_module_version": "1.2.0",
      "model_name": "HTMLModel",
      "state": {
       "layout": "IPY_MODEL_4299741124d1494b8eebc46175efa391",
       "style": "IPY_MODEL_586a9e1aaa12409fbb8d9d59dccc820a",
       "value": "<h4 style=\"font-size:14px;\">Was ist der Output eines Part-of-Speech-Taggers?</h4>"
      }
     },
     "c0afada7805e49e2b79ea7bf53c88d5c": {
      "model_module": "@jupyter-widgets/base",
      "model_module_version": "1.0.0",
      "model_name": "LayoutModel",
      "state": {}
     },
     "c1b0c96f75fd43eb8f74dec8114f7ddf": {
      "model_module": "@jupyter-widgets/base",
      "model_module_version": "1.0.0",
      "model_name": "LayoutModel",
      "state": {
       "width": "600px"
      }
     },
     "c22634d2e22d40c79067e27413b70b3b": {
      "model_module": "@jupyter-widgets/controls",
      "model_module_version": "1.2.0",
      "model_name": "HTMLModel",
      "state": {
       "layout": "IPY_MODEL_d33ba3f9519c4acf89d9b6b1421cd6dc",
       "style": "IPY_MODEL_4108c333d2384fe08d5e7a34c2f25929",
       "value": "<i>Vervollständigen Sie den Lückentext: </i>"
      }
     },
     "c22d02ace4c1480b9a55333ae179ecbf": {
      "model_module": "@jupyter-widgets/controls",
      "model_module_version": "1.2.0",
      "model_name": "DropdownModel",
      "state": {
       "_options_labels": [
        "NP",
        "PP",
        "VP",
        " "
       ],
       "index": 3,
       "layout": "IPY_MODEL_32d4117a31a04e57bb5fcdd4f341dda2",
       "style": "IPY_MODEL_c3252554977e4f6fa1622d7609a3419a"
      }
     },
     "c27a53106f7741b993d68a5310ba4d5e": {
      "model_module": "@jupyter-widgets/controls",
      "model_module_version": "1.2.0",
      "model_name": "DescriptionStyleModel",
      "state": {
       "description_width": ""
      }
     },
     "c291c48acf6f42ccaf3650a724542b2b": {
      "model_module": "@jupyter-widgets/base",
      "model_module_version": "1.0.0",
      "model_name": "LayoutModel",
      "state": {}
     },
     "c2c733fd4e1d48ce9e4a194805786aae": {
      "model_module": "@jupyter-widgets/base",
      "model_module_version": "1.0.0",
      "model_name": "LayoutModel",
      "state": {
       "width": "150px"
      }
     },
     "c2c8d57d46f246d0aaefce5f196ef2f2": {
      "model_module": "@jupyter-widgets/base",
      "model_module_version": "1.0.0",
      "model_name": "LayoutModel",
      "state": {
       "justify_content": "center"
      }
     },
     "c3252554977e4f6fa1622d7609a3419a": {
      "model_module": "@jupyter-widgets/controls",
      "model_module_version": "1.2.0",
      "model_name": "DescriptionStyleModel",
      "state": {
       "description_width": ""
      }
     },
     "c3741e4919174d60bc34e0947590b64a": {
      "model_module": "@jupyter-widgets/base",
      "model_module_version": "1.0.0",
      "model_name": "LayoutModel",
      "state": {
       "align_content": "stretch",
       "align_items": "stretch",
       "display": "inline-flex",
       "flex": "flex-grow",
       "flex_flow": "row wrap",
       "justify_content": "flex-start"
      }
     },
     "c3eb27617aab461182da24b2fbfcd196": {
      "model_module": "@jupyter-widgets/controls",
      "model_module_version": "1.2.0",
      "model_name": "ButtonModel",
      "state": {
       "description": "Korrekt?",
       "layout": "IPY_MODEL_f1e49c86d030497894755b21f7f2caf7",
       "style": "IPY_MODEL_7622924ec506460fb72b509668ac4147"
      }
     },
     "c3fd6eaa6260495cb77f652c876ed2ee": {
      "model_module": "@jupyter-widgets/base",
      "model_module_version": "1.0.0",
      "model_name": "LayoutModel",
      "state": {
       "width": "600px"
      }
     },
     "c4203ce17ba4428bb0c0712c4efb23b1": {
      "model_module": "@jupyter-widgets/base",
      "model_module_version": "1.0.0",
      "model_name": "LayoutModel",
      "state": {
       "width": "600px"
      }
     },
     "c436f71f759241cca83152c91e77e07d": {
      "model_module": "@jupyter-widgets/base",
      "model_module_version": "1.0.0",
      "model_name": "LayoutModel",
      "state": {}
     },
     "c468fd97b09c43948f3278c6a4a60715": {
      "model_module": "@jupyter-widgets/controls",
      "model_module_version": "1.2.0",
      "model_name": "ButtonStyleModel",
      "state": {}
     },
     "c47cc4ac97dd4a52b4411c1d9469bc91": {
      "model_module": "@jupyter-widgets/base",
      "model_module_version": "1.0.0",
      "model_name": "LayoutModel",
      "state": {
       "justify_content": "center"
      }
     },
     "c4ccb2828bf846be903af1932cd820a4": {
      "model_module": "@jupyter-widgets/base",
      "model_module_version": "1.0.0",
      "model_name": "LayoutModel",
      "state": {}
     },
     "c4d3d46a383b4051bb9c657690c082af": {
      "model_module": "@jupyter-widgets/base",
      "model_module_version": "1.0.0",
      "model_name": "LayoutModel",
      "state": {
       "width": "250px"
      }
     },
     "c4d69551773247e0b37c772fe6c67841": {
      "model_module": "@jupyter-widgets/base",
      "model_module_version": "1.0.0",
      "model_name": "LayoutModel",
      "state": {}
     },
     "c52d9480bdd445f48bf7860b8148fd09": {
      "model_module": "@jupyter-widgets/controls",
      "model_module_version": "1.2.0",
      "model_name": "CheckboxModel",
      "state": {
       "description": "gleiche syntagmatische Position",
       "disabled": false,
       "layout": "IPY_MODEL_c1b0c96f75fd43eb8f74dec8114f7ddf",
       "style": "IPY_MODEL_839e63cc59b14fd18624a5a27c8f4b2e",
       "value": false
      }
     },
     "c52f3682714f48dbbfffe4fce29b5855": {
      "model_module": "@jupyter-widgets/base",
      "model_module_version": "1.0.0",
      "model_name": "LayoutModel",
      "state": {}
     },
     "c5399cebabe74fa6b2de74043d1157ea": {
      "model_module": "@jupyter-widgets/controls",
      "model_module_version": "1.2.0",
      "model_name": "HBoxModel",
      "state": {
       "children": [
        "IPY_MODEL_e33b8d0c7a1b414d8318df1f276cff76",
        "IPY_MODEL_cefdac7be5c8418c91509bca54a95b9a"
       ],
       "layout": "IPY_MODEL_299304545d744eb2b7d979e3f43f5df0"
      }
     },
     "c55c13f399144e92b139a316e17c5639": {
      "model_module": "@jupyter-widgets/controls",
      "model_module_version": "1.2.0",
      "model_name": "HTMLModel",
      "state": {
       "layout": "IPY_MODEL_f7852f71deae4946bef6c1a5a8b1a7d3",
       "style": "IPY_MODEL_a5d150f6ed314c2cb89e52717260a630",
       "value": "<i>Vervollständigen Sie den Lückentext: </i>"
      }
     },
     "c5a2181eb0614d96b2c86793264089c4": {
      "model_module": "@jupyter-widgets/base",
      "model_module_version": "1.0.0",
      "model_name": "LayoutModel",
      "state": {
       "justify_content": "center"
      }
     },
     "c5afcefe697f415192af98dad00d23c2": {
      "model_module": "@jupyter-widgets/controls",
      "model_module_version": "1.2.0",
      "model_name": "ButtonModel",
      "state": {
       "description": "base",
       "layout": "IPY_MODEL_f65eff2991f54fbe9996967041a6e116",
       "style": "IPY_MODEL_14d2e51a06fc42d0ae5b94b951116e1f"
      }
     },
     "c5f779a276934eac879af4e126e82d1c": {
      "model_module": "@jupyter-widgets/controls",
      "model_module_version": "1.2.0",
      "model_name": "ButtonStyleModel",
      "state": {}
     },
     "c60e6cd70ab444c4a67067075355f98e": {
      "model_module": "@jupyter-widgets/controls",
      "model_module_version": "1.2.0",
      "model_name": "VBoxModel",
      "state": {
       "children": [
        "IPY_MODEL_835dee16415a40eb8cdb8c4f2da64e27",
        "IPY_MODEL_63b7c80889d5498f987dd0320cfa1ef0",
        "IPY_MODEL_758ad791cf4645e3ac5fe909131b1636",
        "IPY_MODEL_756d2353e8c7417e948e751cde7aac33"
       ],
       "layout": "IPY_MODEL_110ad4700d094c13b2a1c92e0adc16c2"
      }
     },
     "c64399322cb646a69c78599384670f44": {
      "model_module": "@jupyter-widgets/controls",
      "model_module_version": "1.2.0",
      "model_name": "ButtonModel",
      "state": {
       "description": "base",
       "layout": "IPY_MODEL_4515f29be5654fa6ae71e7f3be609a73",
       "style": "IPY_MODEL_cc9f8fdcc2314164afeef6ad4a41e87f"
      }
     },
     "c69d69b9baa64f57bee6fe57e126b07a": {
      "model_module": "@jupyter-widgets/base",
      "model_module_version": "1.0.0",
      "model_name": "LayoutModel",
      "state": {
       "width": "250px"
      }
     },
     "c6a960cf32854af8bd3d205d2b6a081e": {
      "model_module": "@jupyter-widgets/controls",
      "model_module_version": "1.2.0",
      "model_name": "ButtonModel",
      "state": {
       "description": "gerund",
       "layout": "IPY_MODEL_b55ed441785940f294b0a73ca75d32f2",
       "style": "IPY_MODEL_61786824ee89486d974a7d4b813ddd46"
      }
     },
     "c6b5f320cc69475c9e7c96bc3ba294c4": {
      "model_module": "@jupyter-widgets/controls",
      "model_module_version": "1.2.0",
      "model_name": "CheckboxModel",
      "state": {
       "description": "Zu einem Wort wird ein Index seiner Kontexte aufgebaut.",
       "disabled": false,
       "layout": "IPY_MODEL_4af5b8d83a964a9fb980c3da37f37847",
       "style": "IPY_MODEL_05a7b363c5c94ad28c76240a5f34271e",
       "value": false
      }
     },
     "c6cb77e2543648738ff14d7c2cf72716": {
      "model_module": "@jupyter-widgets/base",
      "model_module_version": "1.0.0",
      "model_name": "LayoutModel",
      "state": {
       "width": "600px"
      }
     },
     "c6f9fc20807d4464a8df19a9207e34d0": {
      "model_module": "@jupyter-widgets/base",
      "model_module_version": "1.0.0",
      "model_name": "LayoutModel",
      "state": {
       "justify_content": "center"
      }
     },
     "c702f7f8df78489f854774deb6167988": {
      "model_module": "@jupyter-widgets/controls",
      "model_module_version": "1.2.0",
      "model_name": "ButtonModel",
      "state": {
       "description": "Adverb",
       "layout": "IPY_MODEL_b95f46a81c514ffcabb274304a6f8243",
       "style": "IPY_MODEL_a1ae0e16e30f4d3a80491c6b28b13927"
      }
     },
     "c71e3e2ddb204a919ac9de4f2461b7cd": {
      "model_module": "@jupyter-widgets/base",
      "model_module_version": "1.0.0",
      "model_name": "LayoutModel",
      "state": {
       "width": "250px"
      }
     },
     "c7221659a75a4ef4852969ea3a149c13": {
      "model_module": "@jupyter-widgets/base",
      "model_module_version": "1.0.0",
      "model_name": "LayoutModel",
      "state": {}
     },
     "c7f1e4399dde4e6f982f3bcdb5ca2dba": {
      "model_module": "@jupyter-widgets/controls",
      "model_module_version": "1.2.0",
      "model_name": "ButtonStyleModel",
      "state": {
       "button_color": "lightgreen"
      }
     },
     "c8102e2e955e4ac7a895377a6ebc1531": {
      "model_module": "@jupyter-widgets/base",
      "model_module_version": "1.0.0",
      "model_name": "LayoutModel",
      "state": {
       "width": "600px"
      }
     },
     "c82d7657554e42c1bea33e6f8489a27e": {
      "model_module": "@jupyter-widgets/base",
      "model_module_version": "1.0.0",
      "model_name": "LayoutModel",
      "state": {}
     },
     "c87995a81392412681708588591f18fb": {
      "model_module": "@jupyter-widgets/controls",
      "model_module_version": "1.2.0",
      "model_name": "ButtonStyleModel",
      "state": {}
     },
     "c88e575ec0a84dccb0cc7a801381a0e9": {
      "model_module": "@jupyter-widgets/controls",
      "model_module_version": "1.2.0",
      "model_name": "HTMLModel",
      "state": {
       "layout": "IPY_MODEL_1bb65d8e8f504058893c1fca3cde76f6",
       "style": "IPY_MODEL_292b4c51cdda44e0aff150393068e031",
       "value": "<i>Vervollständigen Sie den Lückentext: </i>"
      }
     },
     "c89372d1ade24a998e34e6c99cd1c0a0": {
      "model_module": "@jupyter-widgets/controls",
      "model_module_version": "1.2.0",
      "model_name": "HTMLModel",
      "state": {
       "layout": "IPY_MODEL_7733aac590684c46b9da683b5d134344",
       "style": "IPY_MODEL_fe7543096764425b9ab417d0bf7d3911",
       "value": "<i>Markieren Sie <ins>alle</ins> passenden Antworten: </i>"
      }
     },
     "c89681242175492297da7c670b65e271": {
      "model_module": "@jupyter-widgets/base",
      "model_module_version": "1.0.0",
      "model_name": "LayoutModel",
      "state": {
       "width": "250px"
      }
     },
     "c8a10f3ebe0a4a6686271851c4c3a90b": {
      "model_module": "@jupyter-widgets/controls",
      "model_module_version": "1.2.0",
      "model_name": "ButtonModel",
      "state": {
       "description": "gerund",
       "layout": "IPY_MODEL_27fb7e87b4e247a9bc4c2c5b4afddf66",
       "style": "IPY_MODEL_ab83bcd888574917aeb5da37ab8a1bd6"
      }
     },
     "c8c70400c9984091be662f7f4388bc89": {
      "model_module": "@jupyter-widgets/base",
      "model_module_version": "1.0.0",
      "model_name": "LayoutModel",
      "state": {
       "width": "250px"
      }
     },
     "c8e798c386cd4e0bba904fc52a295799": {
      "model_module": "@jupyter-widgets/controls",
      "model_module_version": "1.2.0",
      "model_name": "ButtonStyleModel",
      "state": {}
     },
     "c8fde776c4cd463fac536003fae2e8a6": {
      "model_module": "@jupyter-widgets/controls",
      "model_module_version": "1.2.0",
      "model_name": "ButtonStyleModel",
      "state": {}
     },
     "c921b042f3cb4e97a5740d5d81a18571": {
      "model_module": "@jupyter-widgets/base",
      "model_module_version": "1.0.0",
      "model_name": "LayoutModel",
      "state": {}
     },
     "c92f51cf91d044c08bf245af557b5403": {
      "model_module": "@jupyter-widgets/base",
      "model_module_version": "1.0.0",
      "model_name": "LayoutModel",
      "state": {}
     },
     "c9cd3079d1d34b33ac2de64f3c50a69e": {
      "model_module": "@jupyter-widgets/base",
      "model_module_version": "1.0.0",
      "model_name": "LayoutModel",
      "state": {}
     },
     "c9f054da8cdc448eaaf94d3a2562aabb": {
      "model_module": "@jupyter-widgets/controls",
      "model_module_version": "1.2.0",
      "model_name": "VBoxModel",
      "state": {
       "children": [
        "IPY_MODEL_2671775eb6e94bc9a78fa78f388a5158",
        "IPY_MODEL_72d518b90ce84505ab7f412d15f073b5",
        "IPY_MODEL_a75f0da5d35d414394228c798d5134e5",
        "IPY_MODEL_f019fd24b94b4664bd18f5f9af8f1f77"
       ],
       "layout": "IPY_MODEL_c078f287cdbb4f6a9bdb79df0733ee47"
      }
     },
     "ca21dc24285a412cb7e0627e218bad05": {
      "model_module": "@jupyter-widgets/controls",
      "model_module_version": "1.2.0",
      "model_name": "HBoxModel",
      "state": {
       "children": [
        "IPY_MODEL_2ce06bc3d155458482f7020b37548989"
       ],
       "layout": "IPY_MODEL_4eb30e3ff71c431cbe0ec3906cb262ba"
      }
     },
     "ca26450b99a845a9b5522ec2c0c46c30": {
      "model_module": "@jupyter-widgets/base",
      "model_module_version": "1.0.0",
      "model_name": "LayoutModel",
      "state": {
       "width": "600px"
      }
     },
     "ca2d81ec74404180881f4db9e3ea9340": {
      "model_module": "@jupyter-widgets/controls",
      "model_module_version": "1.2.0",
      "model_name": "VBoxModel",
      "state": {
       "children": [
        "IPY_MODEL_c88e575ec0a84dccb0cc7a801381a0e9",
        "IPY_MODEL_b5ade096cd094d75b1a9fadbd3c39747",
        "IPY_MODEL_b3cfc2e1fd7b4e168b6ffd38cd299ff0"
       ],
       "layout": "IPY_MODEL_8a7d830a73b34ba68e68a57d453a3cb4"
      }
     },
     "ca63bacfdea64bbe9f9898e2fedf1f2c": {
      "model_module": "@jupyter-widgets/controls",
      "model_module_version": "1.2.0",
      "model_name": "HBoxModel",
      "state": {
       "children": [
        "IPY_MODEL_a297311eae824144b5d11296dab05807",
        "IPY_MODEL_2a912c0865b74f0d9d29627e91278fe9"
       ],
       "layout": "IPY_MODEL_3a679ce2f2a14d8293dd2ebb45d949a3"
      }
     },
     "caad23e09cf94cbba24fa0da758d041f": {
      "model_module": "@jupyter-widgets/controls",
      "model_module_version": "1.2.0",
      "model_name": "HTMLModel",
      "state": {
       "layout": "IPY_MODEL_82722bce32bf4bb5accc723b7a2ad677",
       "style": "IPY_MODEL_0d104d24f46e45a8a6c5f5e5cb0db3c8",
       "value": "<i>Markieren Sie <ins>alle</ins> passenden Antworten: </i>"
      }
     },
     "caaffa157186429ca53d17151d0c94db": {
      "model_module": "@jupyter-widgets/controls",
      "model_module_version": "1.2.0",
      "model_name": "HTMLModel",
      "state": {
       "layout": "IPY_MODEL_34003e9011bc4a57928a1c7e159adfa1",
       "style": "IPY_MODEL_aa6033ea764f41d4a453e249b2e02e81",
       "value": "<h4 style=\"font-size:14px;\">Das Partizip <i>Verloren<i> ist eine</h4>"
      }
     },
     "cab5b4c5f6f44f5281622a6a5bab986d": {
      "model_module": "@jupyter-widgets/controls",
      "model_module_version": "1.2.0",
      "model_name": "VBoxModel",
      "state": {
       "children": [
        "IPY_MODEL_6f91b26711ad4b63888165b44d53cfda",
        "IPY_MODEL_2a20fa3354794266af3c916c9564c5fd",
        "IPY_MODEL_635201f6b700434da95c45c7bf099264",
        "IPY_MODEL_d55f8c6b0b8241e0afd421669aced8ac"
       ],
       "layout": "IPY_MODEL_e124b82aedb54f019ba217ebaa673748"
      }
     },
     "cabe8bfdaa9b4a428350c08fe3d4d697": {
      "model_module": "@jupyter-widgets/controls",
      "model_module_version": "1.2.0",
      "model_name": "ButtonStyleModel",
      "state": {}
     },
     "cb02825a74d64fb28d6e18041679f4e9": {
      "model_module": "@jupyter-widgets/base",
      "model_module_version": "1.0.0",
      "model_name": "LayoutModel",
      "state": {}
     },
     "cb584be6e2084ddb85044117b3f2c49e": {
      "model_module": "@jupyter-widgets/base",
      "model_module_version": "1.0.0",
      "model_name": "LayoutModel",
      "state": {
       "width": "250px"
      }
     },
     "cb99c063eb814c988d50c33df702b17b": {
      "model_module": "@jupyter-widgets/controls",
      "model_module_version": "1.2.0",
      "model_name": "ButtonStyleModel",
      "state": {
       "button_color": "lightgreen"
      }
     },
     "cb9eef3132424b4a875745e356a735f7": {
      "model_module": "@jupyter-widgets/controls",
      "model_module_version": "1.2.0",
      "model_name": "HTMLModel",
      "state": {
       "layout": "IPY_MODEL_f02cea109bd54d519f8b5c810c31f273",
       "style": "IPY_MODEL_64fc68c32ea84ead9a8c56d760a61ace",
       "value": "<h4 style=\"font-size:14px;\">-Tupeln aus einem englischen Korpus erstellt. Zeile 2 und 3 dienen der Erzeugung einer Frequenzliste von POS-Tags derjenigen Bigramme, deren zweites Element das POS-Tag</h4>"
      }
     },
     "cbc47cb833bc49d0a9f5383bf4a1a060": {
      "model_module": "@jupyter-widgets/controls",
      "model_module_version": "1.2.0",
      "model_name": "HTMLModel",
      "state": {
       "layout": "IPY_MODEL_ebc7b108395d432f989188069b52e54d",
       "style": "IPY_MODEL_10a874d617084385abb471366194ad31",
       "value": "<h4 style=\"font-size:14px;\">, aber keine</h4>"
      }
     },
     "cc00da4924714a3d8c484c61daa065c3": {
      "model_module": "@jupyter-widgets/controls",
      "model_module_version": "1.2.0",
      "model_name": "ButtonModel",
      "state": {
       "description": "3rd singular present",
       "layout": "IPY_MODEL_013c88fcf5334355b71c4125e88523ea",
       "style": "IPY_MODEL_c5f779a276934eac879af4e126e82d1c"
      }
     },
     "cc16cba242bf49b897aba1679ba593a6": {
      "model_module": "@jupyter-widgets/controls",
      "model_module_version": "1.2.0",
      "model_name": "HTMLModel",
      "state": {
       "layout": "IPY_MODEL_234a50084ae248b884006265db37a570",
       "style": "IPY_MODEL_5a95d302f0db4aa4806da5ef467c256a",
       "value": "<h4 style=\"font-size:14px;\">umfasst die</h4>"
      }
     },
     "cc4bba474d3b46cbaf0de568ade47880": {
      "model_module": "@jupyter-widgets/controls",
      "model_module_version": "1.2.0",
      "model_name": "HTMLModel",
      "state": {
       "layout": "IPY_MODEL_d0056b49f946438097a5eb8282a9e007",
       "style": "IPY_MODEL_ad95394850234b478c44f8bf7578d73a",
       "value": "<i>Wählen Sie die <ins>eine</ins> korrekte Antwort aus: </i>"
      }
     },
     "cc599d152b3049008aed8cdcf8da4e68": {
      "model_module": "@jupyter-widgets/controls",
      "model_module_version": "1.2.0",
      "model_name": "DropdownModel",
      "state": {
       "_options_labels": [
        "'ADJ'",
        "'DET'",
        "'NOUN'",
        " "
       ],
       "index": 3,
       "layout": "IPY_MODEL_cdde16d1cdc940a1b6b74f0142ca867f",
       "style": "IPY_MODEL_085ba7635a484c40b147651e23f7b845"
      }
     },
     "cc84b953269746f0b6d34859c7f0d23a": {
      "model_module": "@jupyter-widgets/base",
      "model_module_version": "1.0.0",
      "model_name": "LayoutModel",
      "state": {}
     },
     "cc9f8fdcc2314164afeef6ad4a41e87f": {
      "model_module": "@jupyter-widgets/controls",
      "model_module_version": "1.2.0",
      "model_name": "ButtonStyleModel",
      "state": {}
     },
     "ccbfbd26758a49c0b062463469effb28": {
      "model_module": "@jupyter-widgets/controls",
      "model_module_version": "1.2.0",
      "model_name": "DescriptionStyleModel",
      "state": {
       "description_width": ""
      }
     },
     "cccf37926f3a4eb0a86a67ec0cf2b4d3": {
      "model_module": "@jupyter-widgets/controls",
      "model_module_version": "1.2.0",
      "model_name": "VBoxModel",
      "state": {
       "children": [
        "IPY_MODEL_4924c0c20ba94dd7af23ad7b42022f89",
        "IPY_MODEL_74d41c082abe44199a7600cf8e7ea4b4",
        "IPY_MODEL_2c1c8d493b2b4fcca8c9be1b5bca8119",
        "IPY_MODEL_011e4f7547d94015a822d4d3c3e44949"
       ],
       "layout": "IPY_MODEL_8c043d0d526c4b24a043c47c7e66aae1"
      }
     },
     "ccf189659e754df8828ed50f3fb471bd": {
      "model_module": "@jupyter-widgets/base",
      "model_module_version": "1.0.0",
      "model_name": "LayoutModel",
      "state": {
       "width": "600px"
      }
     },
     "cd1154662dc4438d841491c2414b69ef": {
      "model_module": "@jupyter-widgets/controls",
      "model_module_version": "1.2.0",
      "model_name": "DescriptionStyleModel",
      "state": {
       "description_width": ""
      }
     },
     "cd2a067f3dd3464e911ecd80eeac00b3": {
      "model_module": "@jupyter-widgets/base",
      "model_module_version": "1.0.0",
      "model_name": "LayoutModel",
      "state": {}
     },
     "cd3fd2abacb747ecb50459da65d0de41": {
      "model_module": "@jupyter-widgets/controls",
      "model_module_version": "1.2.0",
      "model_name": "VBoxModel",
      "state": {
       "children": [
        "IPY_MODEL_161308115811479a92184946337df60f",
        "IPY_MODEL_fd51975fb75d442c937681c20213d2ec",
        "IPY_MODEL_5a1efd025b274eae8ec3eca6aec33c64",
        "IPY_MODEL_9de0c04dda2a4046bc22b981c02c7898"
       ],
       "layout": "IPY_MODEL_0d4048d3ff514c29b8cc8fcf82f4d917"
      }
     },
     "cdd438d7a87d405baf9ac4cf2fc33128": {
      "model_module": "@jupyter-widgets/base",
      "model_module_version": "1.0.0",
      "model_name": "LayoutModel",
      "state": {
       "justify_content": "center"
      }
     },
     "cdd71e36b2544af4afa9b2d1900c86b7": {
      "model_module": "@jupyter-widgets/base",
      "model_module_version": "1.0.0",
      "model_name": "LayoutModel",
      "state": {}
     },
     "cdd83d4335cc4e5db79398e0ee74a510": {
      "model_module": "@jupyter-widgets/base",
      "model_module_version": "1.0.0",
      "model_name": "LayoutModel",
      "state": {}
     },
     "cdde16d1cdc940a1b6b74f0142ca867f": {
      "model_module": "@jupyter-widgets/base",
      "model_module_version": "1.0.0",
      "model_name": "LayoutModel",
      "state": {
       "width": "150px"
      }
     },
     "ce368cf0c98a49ee8d3adc66f6ec2024": {
      "model_module": "@jupyter-widgets/base",
      "model_module_version": "1.0.0",
      "model_name": "LayoutModel",
      "state": {
       "justify_content": "center"
      }
     },
     "ce665bbbc89c49849ace964b36d047a5": {
      "model_module": "@jupyter-widgets/controls",
      "model_module_version": "1.2.0",
      "model_name": "ButtonModel",
      "state": {
       "description": "Partikel",
       "layout": "IPY_MODEL_62856a1500fc41e7a301614c50e962ba",
       "style": "IPY_MODEL_ea937bff4aa24ebe9384af855aa0fbe5"
      }
     },
     "ce705682e78b4d3799842531905a568f": {
      "model_module": "@jupyter-widgets/controls",
      "model_module_version": "1.2.0",
      "model_name": "CheckboxModel",
      "state": {
       "description": "gleiche Endungen",
       "disabled": false,
       "layout": "IPY_MODEL_ba45f030b06e458b9f5b2347dadbd849",
       "style": "IPY_MODEL_017ec6e9135b46a3923cdec0558ebb24",
       "value": false
      }
     },
     "ce8c84f1e07945098cf7e4bbd856cf8d": {
      "model_module": "@jupyter-widgets/base",
      "model_module_version": "1.0.0",
      "model_name": "LayoutModel",
      "state": {}
     },
     "ce905a7c0fff42368966e7feae3b7430": {
      "model_module": "@jupyter-widgets/controls",
      "model_module_version": "1.2.0",
      "model_name": "ButtonModel",
      "state": {
       "description": "Korrekt?",
       "layout": "IPY_MODEL_a0c85f7135c0450ab2004353ced03f20",
       "style": "IPY_MODEL_fbd78049bb4c4971b8ddda4a5ebaa49c"
      }
     },
     "cefa814927c54961bbbc0a533ce4c054": {
      "model_module": "@jupyter-widgets/base",
      "model_module_version": "1.0.0",
      "model_name": "LayoutModel",
      "state": {
       "width": "250px"
      }
     },
     "cefdac7be5c8418c91509bca54a95b9a": {
      "model_module": "@jupyter-widgets/controls",
      "model_module_version": "1.2.0",
      "model_name": "ButtonModel",
      "state": {
       "description": "Keine der anderen Möglichkeiten",
       "layout": "IPY_MODEL_7098ecdbaa644eecacaec20a2feaa31b",
       "style": "IPY_MODEL_59e9a6bf9f714aaba7c250105c76b41f"
      }
     },
     "cfab66fa323d4598b87b52d4b6b25332": {
      "model_module": "@jupyter-widgets/base",
      "model_module_version": "1.0.0",
      "model_name": "LayoutModel",
      "state": {
       "justify_content": "center"
      }
     },
     "cfffa5bb13624eb59e1ac03c58788953": {
      "model_module": "@jupyter-widgets/controls",
      "model_module_version": "1.2.0",
      "model_name": "HTMLModel",
      "state": {
       "layout": "IPY_MODEL_5c8a2226e5a14a028faa360f3aec5940",
       "style": "IPY_MODEL_99251492ace94992a863fc56c5a8fe2a",
       "value": "<i>Wählen Sie die <ins>eine</ins> korrekte Antwort aus: </i>"
      }
     },
     "d0056b49f946438097a5eb8282a9e007": {
      "model_module": "@jupyter-widgets/base",
      "model_module_version": "1.0.0",
      "model_name": "LayoutModel",
      "state": {
       "justify_content": "center"
      }
     },
     "d0275d261d3443c7b0f58977e3385733": {
      "model_module": "@jupyter-widgets/controls",
      "model_module_version": "1.2.0",
      "model_name": "VBoxModel",
      "state": {
       "children": [
        "IPY_MODEL_0ed3ee192a9543159d029f45f2023da2",
        "IPY_MODEL_4744cb932c694443909ecd91d1f69309",
        "IPY_MODEL_7693872cdd4e41bfaf007c7967549d38"
       ],
       "layout": "IPY_MODEL_f3e1dff1db774b1f8cced32d0947fd40"
      }
     },
     "d133829141e64ee49f51e75ada11c02c": {
      "model_module": "@jupyter-widgets/controls",
      "model_module_version": "1.2.0",
      "model_name": "ButtonStyleModel",
      "state": {}
     },
     "d14e70823dec4082840c7408864c5fe8": {
      "model_module": "@jupyter-widgets/controls",
      "model_module_version": "1.2.0",
      "model_name": "DescriptionStyleModel",
      "state": {
       "description_width": "initial"
      }
     },
     "d15617a806ed48e1bd7d517b7a2e8c86": {
      "model_module": "@jupyter-widgets/controls",
      "model_module_version": "1.2.0",
      "model_name": "DescriptionStyleModel",
      "state": {
       "description_width": ""
      }
     },
     "d17040395fa841028d1c2b7412b99f8a": {
      "model_module": "@jupyter-widgets/controls",
      "model_module_version": "1.2.0",
      "model_name": "DescriptionStyleModel",
      "state": {
       "description_width": ""
      }
     },
     "d189d7e8608b463b8429f97a8523972e": {
      "model_module": "@jupyter-widgets/base",
      "model_module_version": "1.0.0",
      "model_name": "LayoutModel",
      "state": {
       "width": "250px"
      }
     },
     "d1912f7047b4462093463c0ccd8adfde": {
      "model_module": "@jupyter-widgets/controls",
      "model_module_version": "1.2.0",
      "model_name": "HTMLModel",
      "state": {
       "layout": "IPY_MODEL_69bcc5d9e0b34b8c955365a71b424b12",
       "style": "IPY_MODEL_a4a999b95f0c4a628eab927819030f47",
       "value": "<h4 style=\"font-size:14px;\">Die Koordination von Phrasen ist dadurch eingeschränkt, dass nur</h4>"
      }
     },
     "d1b4a3e4f57b4f16a0e19ac79b9fb4d7": {
      "model_module": "@jupyter-widgets/base",
      "model_module_version": "1.0.0",
      "model_name": "LayoutModel",
      "state": {}
     },
     "d1cd0b3d5682492ea808150907f59c95": {
      "model_module": "@jupyter-widgets/base",
      "model_module_version": "1.0.0",
      "model_name": "LayoutModel",
      "state": {
       "justify_content": "center"
      }
     },
     "d1ea0dc01b6f48ada4614ba1d2a472d4": {
      "model_module": "@jupyter-widgets/base",
      "model_module_version": "1.0.0",
      "model_name": "LayoutModel",
      "state": {}
     },
     "d1eecd3c8770494dac412db4601505f6": {
      "model_module": "@jupyter-widgets/controls",
      "model_module_version": "1.2.0",
      "model_name": "DescriptionStyleModel",
      "state": {
       "description_width": ""
      }
     },
     "d2058a9ec53040e09576d358345fec39": {
      "model_module": "@jupyter-widgets/base",
      "model_module_version": "1.0.0",
      "model_name": "LayoutModel",
      "state": {
       "width": "250px"
      }
     },
     "d20beaa594f4422d8c48464abeed1b9a": {
      "model_module": "@jupyter-widgets/controls",
      "model_module_version": "1.2.0",
      "model_name": "ButtonStyleModel",
      "state": {}
     },
     "d20ff4a81c2f4a01999c082f6b3a5bda": {
      "model_module": "@jupyter-widgets/controls",
      "model_module_version": "1.2.0",
      "model_name": "DropdownModel",
      "state": {
       "_options_labels": [
        "Bedeutung",
        "Wohlgeformtheit",
        " "
       ],
       "index": 2,
       "layout": "IPY_MODEL_b1d98a7e1dfc483b92f628fd29de8638",
       "style": "IPY_MODEL_6ac3d8d2e8aa4766b4691aa9847364c4"
      }
     },
     "d2669a5097c84b5ba1d77e8be092b5be": {
      "model_module": "@jupyter-widgets/controls",
      "model_module_version": "1.2.0",
      "model_name": "BoxModel",
      "state": {
       "children": [
        "IPY_MODEL_0149712afce742509faa865ec5b1d08a",
        "IPY_MODEL_a22254b460a9437d82a7efbbe30805af",
        "IPY_MODEL_71680f477e064c549c5e2e1421f54dd6",
        "IPY_MODEL_14365c77e55a4625b7354913cf705138",
        "IPY_MODEL_d6f72877c4a54467bf99fe15630df790",
        "IPY_MODEL_994745b8ae5f4b589b38cc4d56480f2f",
        "IPY_MODEL_f096a8caf0f848b3bad8593b9896f0b1"
       ],
       "layout": "IPY_MODEL_d50dc4ce13b14fb1971f4222f1e5f62e"
      }
     },
     "d271767189d844d8ae6cc2f1342f72d1": {
      "model_module": "@jupyter-widgets/controls",
      "model_module_version": "1.2.0",
      "model_name": "ButtonStyleModel",
      "state": {}
     },
     "d33ba3f9519c4acf89d9b6b1421cd6dc": {
      "model_module": "@jupyter-widgets/base",
      "model_module_version": "1.0.0",
      "model_name": "LayoutModel",
      "state": {
       "justify_content": "center"
      }
     },
     "d34ce0971676411395be86d1740b6588": {
      "model_module": "@jupyter-widgets/controls",
      "model_module_version": "1.2.0",
      "model_name": "HTMLModel",
      "state": {
       "layout": "IPY_MODEL_d6847cecff7e4852b48e50cbd8ab0c13",
       "style": "IPY_MODEL_77216fd682d849039a87f779154c7300",
       "value": "<i>Vervollständigen Sie den Lückentext: </i>"
      }
     },
     "d3a7c1b4b8384cb4bf110e618904ef6d": {
      "model_module": "@jupyter-widgets/controls",
      "model_module_version": "1.2.0",
      "model_name": "DescriptionStyleModel",
      "state": {
       "description_width": ""
      }
     },
     "d3b317f61d7b452c93210ac2e020c4c1": {
      "model_module": "@jupyter-widgets/base",
      "model_module_version": "1.0.0",
      "model_name": "LayoutModel",
      "state": {
       "width": "250px"
      }
     },
     "d3c4910aadc642688daab02630babe46": {
      "model_module": "@jupyter-widgets/controls",
      "model_module_version": "1.2.0",
      "model_name": "ButtonModel",
      "state": {
       "description": "gerund",
       "layout": "IPY_MODEL_4dbecefce49f403081fbcbc70b2de66a",
       "style": "IPY_MODEL_0c953f11d7f140089bdd2b0086b0831a"
      }
     },
     "d3d463085c534b7ea60ee177513e316c": {
      "model_module": "@jupyter-widgets/base",
      "model_module_version": "1.0.0",
      "model_name": "LayoutModel",
      "state": {
       "justify_content": "center"
      }
     },
     "d3d98c6bc09146109a1987a566b3653c": {
      "model_module": "@jupyter-widgets/controls",
      "model_module_version": "1.2.0",
      "model_name": "ButtonModel",
      "state": {
       "description": "past participle",
       "layout": "IPY_MODEL_c89681242175492297da7c670b65e271",
       "style": "IPY_MODEL_0e2b4f860edd4ccaa37453a965de2c7f"
      }
     },
     "d41ee2440c574e4eb540c0215b3e44cb": {
      "model_module": "@jupyter-widgets/controls",
      "model_module_version": "1.2.0",
      "model_name": "ButtonModel",
      "state": {
       "description": "past participle",
       "layout": "IPY_MODEL_c4d3d46a383b4051bb9c657690c082af",
       "style": "IPY_MODEL_88ff5bfbf3e64979882957e4bc957844"
      }
     },
     "d43672252e474750903755b0cca1bd8a": {
      "model_module": "@jupyter-widgets/controls",
      "model_module_version": "1.2.0",
      "model_name": "DescriptionStyleModel",
      "state": {
       "description_width": ""
      }
     },
     "d49d5d33a8324c2ea23eaf55a3810e8b": {
      "model_module": "@jupyter-widgets/controls",
      "model_module_version": "1.2.0",
      "model_name": "VBoxModel",
      "state": {
       "children": [
        "IPY_MODEL_a091e7e22f294aceacfcee0d2d37e0d8",
        "IPY_MODEL_ef8332250c114a56a8979c32d77c86c6",
        "IPY_MODEL_b4d1150da1224479a08f3c8bfc4a03ca",
        "IPY_MODEL_091ca09b1fc2489da353f888c711948c"
       ],
       "layout": "IPY_MODEL_e4856f12e69346f499f57f96c64bda36"
      }
     },
     "d4c5758be82542b989c782ec7705787c": {
      "model_module": "@jupyter-widgets/controls",
      "model_module_version": "1.2.0",
      "model_name": "ButtonStyleModel",
      "state": {}
     },
     "d4f720ed22974fff9067580b6e9742dc": {
      "model_module": "@jupyter-widgets/controls",
      "model_module_version": "1.2.0",
      "model_name": "ButtonStyleModel",
      "state": {}
     },
     "d507645ada814132a5ab22e7e6816990": {
      "model_module": "@jupyter-widgets/controls",
      "model_module_version": "1.2.0",
      "model_name": "CheckboxModel",
      "state": {
       "description": "Es ist flektierbar.",
       "disabled": false,
       "layout": "IPY_MODEL_f22ded2b250145398d775f94159144f3",
       "style": "IPY_MODEL_e98a08725be5455299711a2e10a5c72f",
       "value": false
      }
     },
     "d508d595440448f298aaf6b9f9f8822d": {
      "model_module": "@jupyter-widgets/base",
      "model_module_version": "1.0.0",
      "model_name": "LayoutModel",
      "state": {}
     },
     "d50dc4ce13b14fb1971f4222f1e5f62e": {
      "model_module": "@jupyter-widgets/base",
      "model_module_version": "1.0.0",
      "model_name": "LayoutModel",
      "state": {
       "align_content": "stretch",
       "align_items": "stretch",
       "display": "inline-flex",
       "flex": "flex-grow",
       "flex_flow": "row wrap",
       "justify_content": "flex-start"
      }
     },
     "d55f8c6b0b8241e0afd421669aced8ac": {
      "model_module": "@jupyter-widgets/controls",
      "model_module_version": "1.2.0",
      "model_name": "CheckboxModel",
      "state": {
       "description": "Nur mit einem Schritt beginnt auch eine Reise von tausend Meilen.",
       "disabled": false,
       "layout": "IPY_MODEL_b2004758f0b3410987aec23ed6f67e71",
       "style": "IPY_MODEL_1eb9713369c7479aa380c3c4368a68de",
       "value": false
      }
     },
     "d58caaffcd0c4e2fbb19a72433aa1c2d": {
      "model_module": "@jupyter-widgets/base",
      "model_module_version": "1.0.0",
      "model_name": "LayoutModel",
      "state": {
       "width": "250px"
      }
     },
     "d59320bfa95a41f592ec6a46857709f8": {
      "model_module": "@jupyter-widgets/base",
      "model_module_version": "1.0.0",
      "model_name": "LayoutModel",
      "state": {
       "width": "150px"
      }
     },
     "d609dfdfb4454bf3b87db5f6a7bcaf7e": {
      "model_module": "@jupyter-widgets/controls",
      "model_module_version": "1.2.0",
      "model_name": "ButtonModel",
      "state": {
       "description": "Korrekt?",
       "layout": "IPY_MODEL_a2444b3322ca421f8e71ac81413bd5eb",
       "style": "IPY_MODEL_98e89e42c09b481db271f030ca4df336"
      }
     },
     "d6370f6837a74a98b6aa2b72a67751de": {
      "model_module": "@jupyter-widgets/controls",
      "model_module_version": "1.2.0",
      "model_name": "DescriptionStyleModel",
      "state": {
       "description_width": ""
      }
     },
     "d6847cecff7e4852b48e50cbd8ab0c13": {
      "model_module": "@jupyter-widgets/base",
      "model_module_version": "1.0.0",
      "model_name": "LayoutModel",
      "state": {
       "justify_content": "center"
      }
     },
     "d6a09c492c1946eaa7afae230781a94d": {
      "model_module": "@jupyter-widgets/controls",
      "model_module_version": "1.2.0",
      "model_name": "ButtonModel",
      "state": {
       "description": "3rd singular present",
       "layout": "IPY_MODEL_761b5e5345214d2eb82f73cccc25c83a",
       "style": "IPY_MODEL_8faf6ed097204d63b52d03fd5c6ac6eb"
      }
     },
     "d6ad29e734034cce8ed03f2e569472ce": {
      "model_module": "@jupyter-widgets/base",
      "model_module_version": "1.0.0",
      "model_name": "LayoutModel",
      "state": {
       "justify_content": "center"
      }
     },
     "d6cdead2b762497dabbaa5413f05f788": {
      "model_module": "@jupyter-widgets/controls",
      "model_module_version": "1.2.0",
      "model_name": "HTMLModel",
      "state": {
       "layout": "IPY_MODEL_4e73446426304309b39608d8c15c2ff5",
       "style": "IPY_MODEL_480c8b4f91f943cf9cd559906123a8c3",
       "value": "<i>Markieren Sie <ins>alle</ins> passenden Antworten: </i>"
      }
     },
     "d6ceedb213224b29a862cdfbf852baf1": {
      "model_module": "@jupyter-widgets/controls",
      "model_module_version": "1.2.0",
      "model_name": "ButtonModel",
      "state": {
       "description": "Korrekt?",
       "layout": "IPY_MODEL_12843a4d507a409eb7cde8ff3e866f43",
       "style": "IPY_MODEL_c8e798c386cd4e0bba904fc52a295799"
      }
     },
     "d6d4f43a5f284c7cb3e50f40fe0fd3b2": {
      "model_module": "@jupyter-widgets/controls",
      "model_module_version": "1.2.0",
      "model_name": "ButtonStyleModel",
      "state": {}
     },
     "d6db94192edf40f182817a9e92706a8e": {
      "model_module": "@jupyter-widgets/base",
      "model_module_version": "1.0.0",
      "model_name": "LayoutModel",
      "state": {
       "width": "600px"
      }
     },
     "d6f72877c4a54467bf99fe15630df790": {
      "model_module": "@jupyter-widgets/controls",
      "model_module_version": "1.2.0",
      "model_name": "HTMLModel",
      "state": {
       "layout": "IPY_MODEL_0b700d56f3db4318a4fd18b5fe12ad7e",
       "style": "IPY_MODEL_fb38e0f9c9824f7d980dfe0c8d3b70f4",
       "value": "<h4 style=\"font-size:14px;\">Sequenz unter Erhalt der</h4>"
      }
     },
     "d6fb3341007e46dbb9496f7c0a4d0feb": {
      "model_module": "@jupyter-widgets/controls",
      "model_module_version": "1.2.0",
      "model_name": "ButtonStyleModel",
      "state": {}
     },
     "d6fd9228571846f7b8e81e81d4c5a00f": {
      "model_module": "@jupyter-widgets/controls",
      "model_module_version": "1.2.0",
      "model_name": "HTMLModel",
      "state": {
       "layout": "IPY_MODEL_f074e4c04570456da1fe895722a94397",
       "style": "IPY_MODEL_1723c5ebd658478ab1fe04b652d48c47",
       "value": "<i>Wählen Sie die <ins>eine</ins> korrekte Antwort aus: </i>"
      }
     },
     "d70f29365bc6471595da2acdd0e5b42e": {
      "model_module": "@jupyter-widgets/controls",
      "model_module_version": "1.2.0",
      "model_name": "HTMLModel",
      "state": {
       "layout": "IPY_MODEL_12fd0a2474884cdcb49ab10838ff89b9",
       "style": "IPY_MODEL_ecd9ecbe206347d2afbed4649023fa31",
       "value": "<h4 style=\"font-size:14px;\">. Aus dieser wurde es extrahiert und ins</h4>"
      }
     },
     "d7207407b3ac4a16845afa2c00e4e180": {
      "model_module": "@jupyter-widgets/base",
      "model_module_version": "1.0.0",
      "model_name": "LayoutModel",
      "state": {
       "justify_content": "center"
      }
     },
     "d7ac593da792489d9d5bf4fb39cffd5b": {
      "model_module": "@jupyter-widgets/controls",
      "model_module_version": "1.2.0",
      "model_name": "ButtonStyleModel",
      "state": {}
     },
     "d7fafb27a51643f782e8f43e13f4c696": {
      "model_module": "@jupyter-widgets/controls",
      "model_module_version": "1.2.0",
      "model_name": "HBoxModel",
      "state": {
       "children": [
        "IPY_MODEL_813b9ca890fe40839431febed5a2787f"
       ],
       "layout": "IPY_MODEL_1fd36ddb9dcf4b27ac94350a3be69c69"
      }
     },
     "d7fcdb3df8094da2a871dcff75aec26f": {
      "model_module": "@jupyter-widgets/base",
      "model_module_version": "1.0.0",
      "model_name": "LayoutModel",
      "state": {
       "width": "250px"
      }
     },
     "d825d30e4208471a80d1668a60c32638": {
      "model_module": "@jupyter-widgets/controls",
      "model_module_version": "1.2.0",
      "model_name": "ButtonStyleModel",
      "state": {}
     },
     "d83fbc867c274d1eb30b8a4a57dc93df": {
      "model_module": "@jupyter-widgets/controls",
      "model_module_version": "1.2.0",
      "model_name": "DescriptionStyleModel",
      "state": {
       "description_width": ""
      }
     },
     "d85720abf2104f4c8be15e93844a0f48": {
      "model_module": "@jupyter-widgets/controls",
      "model_module_version": "1.2.0",
      "model_name": "ButtonModel",
      "state": {
       "description": "Adverb",
       "layout": "IPY_MODEL_83d1fc2bffe34bbca57f9d26958cd2cb",
       "style": "IPY_MODEL_aaa01deff8d042109644ac6b55b739d5"
      }
     },
     "d8653182893b4c18838300d282d97159": {
      "model_module": "@jupyter-widgets/controls",
      "model_module_version": "1.2.0",
      "model_name": "DescriptionStyleModel",
      "state": {
       "description_width": "initial"
      }
     },
     "d8987caea1fb4466bfa6946d9a283fd4": {
      "model_module": "@jupyter-widgets/base",
      "model_module_version": "1.0.0",
      "model_name": "LayoutModel",
      "state": {
       "width": "150px"
      }
     },
     "d8b5f1713baf4062b63c0de77a9852a4": {
      "model_module": "@jupyter-widgets/controls",
      "model_module_version": "1.2.0",
      "model_name": "HBoxModel",
      "state": {
       "children": [
        "IPY_MODEL_159d98e1697c415389e441e8b63ae4f6",
        "IPY_MODEL_8974a4176dd84c1995ae11f5c0d61fce"
       ],
       "layout": "IPY_MODEL_3ed9d684eaf1423980bdb7b70b862ecb"
      }
     },
     "d8b7212c5147468ba172bef5a9c1bc14": {
      "model_module": "@jupyter-widgets/controls",
      "model_module_version": "1.2.0",
      "model_name": "HTMLModel",
      "state": {
       "layout": "IPY_MODEL_d937bc840cf44cea9cdf0b24c77947c2",
       "style": "IPY_MODEL_9f85628fa1c04c3c83841ef03182920c",
       "value": "<i>Geben Sie die entsprechende Funktion anstelle des Unterstrichs ein.</i>"
      }
     },
     "d8f2f5d511ba4bf49727159fac291691": {
      "model_module": "@jupyter-widgets/controls",
      "model_module_version": "1.2.0",
      "model_name": "DescriptionStyleModel",
      "state": {
       "description_width": ""
      }
     },
     "d9109d780ff34924b7954a3da431224d": {
      "model_module": "@jupyter-widgets/controls",
      "model_module_version": "1.2.0",
      "model_name": "HTMLModel",
      "state": {
       "layout": "IPY_MODEL_ec11276bb8da4cc89e105baae007e6aa",
       "style": "IPY_MODEL_26a65b3a40c64e3a95a1967d8044dfe3",
       "value": "<i>Markieren Sie <ins>alle</ins> passenden Antworten: </i>"
      }
     },
     "d91e76abb2c94ec4882c1b19ba1e6735": {
      "model_module": "@jupyter-widgets/base",
      "model_module_version": "1.0.0",
      "model_name": "LayoutModel",
      "state": {}
     },
     "d937bc840cf44cea9cdf0b24c77947c2": {
      "model_module": "@jupyter-widgets/base",
      "model_module_version": "1.0.0",
      "model_name": "LayoutModel",
      "state": {}
     },
     "d948d264ad6f48c894319856aba68599": {
      "model_module": "@jupyter-widgets/controls",
      "model_module_version": "1.2.0",
      "model_name": "HTMLModel",
      "state": {
       "layout": "IPY_MODEL_c7221659a75a4ef4852969ea3a149c13",
       "style": "IPY_MODEL_f613aac95692413497ce9480f5997437",
       "value": "<h4 style=\"font-size:14px;\"><i>Eine Reise beginnt auch nur mit einem Schritt.</i><br>Welche Tests wurden angewandt?</h4>"
      }
     },
     "d9e09cc7a7454c2ebc78491efa14d260": {
      "model_module": "@jupyter-widgets/base",
      "model_module_version": "1.0.0",
      "model_name": "LayoutModel",
      "state": {
       "justify_content": "center"
      }
     },
     "d9f86d6284754e57bcb1832800fef900": {
      "model_module": "@jupyter-widgets/controls",
      "model_module_version": "1.2.0",
      "model_name": "DescriptionStyleModel",
      "state": {
       "description_width": ""
      }
     },
     "da6939390aa844b1b68afffb39d39bee": {
      "model_module": "@jupyter-widgets/base",
      "model_module_version": "1.0.0",
      "model_name": "LayoutModel",
      "state": {
       "width": "350px"
      }
     },
     "da78ef67fcf843fda72611510b9c008f": {
      "model_module": "@jupyter-widgets/controls",
      "model_module_version": "1.2.0",
      "model_name": "DescriptionStyleModel",
      "state": {
       "description_width": ""
      }
     },
     "da8eb68b1aad41b384a879ad70ff6739": {
      "model_module": "@jupyter-widgets/controls",
      "model_module_version": "1.2.0",
      "model_name": "ButtonModel",
      "state": {
       "description": "gerund",
       "layout": "IPY_MODEL_ddfefecf48104edba756ea2481f732ab",
       "style": "IPY_MODEL_e9d925ab4fd24134bff094ae115b9f04"
      }
     },
     "daa4e427c66f4c78bdc7ff7520f6c01d": {
      "model_module": "@jupyter-widgets/controls",
      "model_module_version": "1.2.0",
      "model_name": "HBoxModel",
      "state": {
       "children": [
        "IPY_MODEL_197baae1088d4b5c978fbb9adbea3cda",
        "IPY_MODEL_27164ea75b2947648774eb109be3615f"
       ],
       "layout": "IPY_MODEL_7e8cb8745ed3417eb653848fd2351b19"
      }
     },
     "daa55aff4cc3428e8a8e0fb0f81f8150": {
      "model_module": "@jupyter-widgets/controls",
      "model_module_version": "1.2.0",
      "model_name": "HTMLModel",
      "state": {
       "layout": "IPY_MODEL_e423db3cb1c344a0830c0ec3db729fbe",
       "style": "IPY_MODEL_29c04575ac804bc593dd289b4bcfe719",
       "value": "<i>Markieren Sie <ins>alle</ins> passenden Antworten: </i>"
      }
     },
     "dab5ee34b52341ffa42847ee07b688b3": {
      "model_module": "@jupyter-widgets/controls",
      "model_module_version": "1.2.0",
      "model_name": "HTMLModel",
      "state": {
       "layout": "IPY_MODEL_83466017edd64d389d4731137a8751e9",
       "style": "IPY_MODEL_7a69880c7e45446fa45cdcacddd5282e",
       "value": "<h4 style=\"font-size:14px;\">Was bedeutet das Tag <i>VBN</i> im Browntagset (siehe 5.7)?</h4>"
      }
     },
     "dabf16ff49844e6eb30fd573f35930db": {
      "model_module": "@jupyter-widgets/controls",
      "model_module_version": "1.2.0",
      "model_name": "VBoxModel",
      "state": {
       "children": [
        "IPY_MODEL_c55c13f399144e92b139a316e17c5639",
        "IPY_MODEL_41ac55ad398f41f3813834478f625784",
        "IPY_MODEL_b3fdd26f5d5f43bb8f1e3de88992fee5"
       ],
       "layout": "IPY_MODEL_1953a93102344111b72ad6eff8eb8a60"
      }
     },
     "dadba7a3d20d452e82a5dad84a6292f5": {
      "model_module": "@jupyter-widgets/controls",
      "model_module_version": "1.2.0",
      "model_name": "DropdownModel",
      "state": {
       "_options_labels": [
        "Köpfe",
        "Länge",
        "Phrasenstruktur",
        " "
       ],
       "index": 3,
       "layout": "IPY_MODEL_ece581709d7e49dfb407349834317dc6",
       "style": "IPY_MODEL_a085e0eb1a1c491794a7e25de8a26a99"
      }
     },
     "dbc788a3ebd24876a202f8d91d2434b5": {
      "model_module": "@jupyter-widgets/base",
      "model_module_version": "1.0.0",
      "model_name": "LayoutModel",
      "state": {
       "width": "250px"
      }
     },
     "dbcf2ef35779479d80747953971a2eda": {
      "model_module": "@jupyter-widgets/base",
      "model_module_version": "1.0.0",
      "model_name": "LayoutModel",
      "state": {}
     },
     "dbd420409ad2405da60aa535f7111f45": {
      "model_module": "@jupyter-widgets/base",
      "model_module_version": "1.0.0",
      "model_name": "LayoutModel",
      "state": {
       "width": "250px"
      }
     },
     "dbd8e4e70153456ca7d9b2c10df23a6d": {
      "model_module": "@jupyter-widgets/controls",
      "model_module_version": "1.2.0",
      "model_name": "DropdownModel",
      "state": {
       "_options_labels": [
        "morphologischen",
        "syntaktischen",
        " "
       ],
       "index": 2,
       "layout": "IPY_MODEL_ac1d0e186577459480f72660c834dd08",
       "style": "IPY_MODEL_20f79f5e328249a78b1645b3a4c4b437"
      }
     },
     "dbf7a1f49ff64384bb0d986037a3b643": {
      "model_module": "@jupyter-widgets/controls",
      "model_module_version": "1.2.0",
      "model_name": "VBoxModel",
      "state": {
       "children": [
        "IPY_MODEL_dab5ee34b52341ffa42847ee07b688b3",
        "IPY_MODEL_195dc0c161a2457ca142d8ef5df65cd2",
        "IPY_MODEL_817916bd25eb48be99314d869cb8e445",
        "IPY_MODEL_418e482010154aef832997d78291982c",
        "IPY_MODEL_aec4c34d1f2c4d69a71efafb0d35bc4f"
       ],
       "layout": "IPY_MODEL_d1ea0dc01b6f48ada4614ba1d2a472d4"
      }
     },
     "dc40ada0a51f4d67adc6a4fa9d6a3390": {
      "model_module": "@jupyter-widgets/controls",
      "model_module_version": "1.2.0",
      "model_name": "HBoxModel",
      "state": {
       "children": [
        "IPY_MODEL_3c48d43dd5334dcb80cc649bbb6a155d",
        "IPY_MODEL_49c25e318118469ea26e1fbcc8158f4c"
       ],
       "layout": "IPY_MODEL_a6c0486924ba421aad1a91e44a5b9b44"
      }
     },
     "dcb606e79861487981827ec0d90ba71f": {
      "model_module": "@jupyter-widgets/controls",
      "model_module_version": "1.2.0",
      "model_name": "VBoxModel",
      "state": {
       "children": [
        "IPY_MODEL_21802d400aaa432ea432b6eadb050cc6",
        "IPY_MODEL_fa13cda1d4bd4223a1f784d688a704eb",
        "IPY_MODEL_244f50c2c2804a378cd877f463f4c2a4",
        "IPY_MODEL_bc4375de25294643989e8614d7d566f5"
       ],
       "layout": "IPY_MODEL_a1197f2fab5041d7b236a459816a651d"
      }
     },
     "dcd045bedae1425cbcd11b2b134eb7cd": {
      "model_module": "@jupyter-widgets/base",
      "model_module_version": "1.0.0",
      "model_name": "LayoutModel",
      "state": {
       "justify_content": "center"
      }
     },
     "dcf024cb51d04a969645266e7ad2fbb2": {
      "model_module": "@jupyter-widgets/controls",
      "model_module_version": "1.2.0",
      "model_name": "ButtonStyleModel",
      "state": {}
     },
     "dcf33c06e36b40f2b72f05c369af631b": {
      "model_module": "@jupyter-widgets/controls",
      "model_module_version": "1.2.0",
      "model_name": "VBoxModel",
      "state": {
       "children": [
        "IPY_MODEL_f690e7a44d1a4fdfba7b5769b69d29ef",
        "IPY_MODEL_f9c8f2b364cd451bbfc959fbdd0114a3",
        "IPY_MODEL_edd7c5a10f394c1988a4a2665c71ff81",
        "IPY_MODEL_35da9ddb4c7f4192ac43f7dfed30d04e"
       ],
       "layout": "IPY_MODEL_2016ef0bf28741dba9d7bf6b9fcf4c76"
      }
     },
     "dd3f62f047324351b7a405a070b3d9fb": {
      "model_module": "@jupyter-widgets/base",
      "model_module_version": "1.0.0",
      "model_name": "LayoutModel",
      "state": {}
     },
     "ddd67b5ea7144198927bac51ed285e7f": {
      "model_module": "@jupyter-widgets/controls",
      "model_module_version": "1.2.0",
      "model_name": "HTMLModel",
      "state": {
       "layout": "IPY_MODEL_cdd83d4335cc4e5db79398e0ee74a510",
       "style": "IPY_MODEL_9447416a80f4479eb18c383fd980101d",
       "value": "<i>Geben Sie die entsprechende Funktion anstelle des Unterstrichs ein.</i>"
      }
     },
     "dde32c78f78141888f9dae7dd10803bc": {
      "model_module": "@jupyter-widgets/base",
      "model_module_version": "1.0.0",
      "model_name": "LayoutModel",
      "state": {
       "justify_content": "center"
      }
     },
     "ddf803373cc545bca859b3f7f6ac3181": {
      "model_module": "@jupyter-widgets/controls",
      "model_module_version": "1.2.0",
      "model_name": "HTMLModel",
      "state": {
       "layout": "IPY_MODEL_6b05ab3a59b4417bb60f12f56298f984",
       "style": "IPY_MODEL_7e650aea2a6149cfa6bbad2072ffe49d",
       "value": "<h4 style=\"font-size:14px;\">Welche Wortart folgt damit für das Wort <i>gerne</i> in Satz 1?</h4>"
      }
     },
     "ddf813821d0340bbb8d0965472bd536d": {
      "model_module": "@jupyter-widgets/controls",
      "model_module_version": "1.2.0",
      "model_name": "VBoxModel",
      "state": {
       "children": [
        "IPY_MODEL_39ee3b3cd4aa440d99ffd27de3ea6d81",
        "IPY_MODEL_f599581715d24c79ac0e2a59b5156b38",
        "IPY_MODEL_6913c008832f4af8adcd301d84658509"
       ],
       "layout": "IPY_MODEL_efc7a3b0134141b9bae817e67454f2ef"
      }
     },
     "ddfefecf48104edba756ea2481f732ab": {
      "model_module": "@jupyter-widgets/base",
      "model_module_version": "1.0.0",
      "model_name": "LayoutModel",
      "state": {
       "width": "250px"
      }
     },
     "de2e8adf300d42299de225cc6f6f468c": {
      "model_module": "@jupyter-widgets/base",
      "model_module_version": "1.0.0",
      "model_name": "LayoutModel",
      "state": {}
     },
     "de356c6049cc4cf8b1ed3ada3394d574": {
      "model_module": "@jupyter-widgets/base",
      "model_module_version": "1.0.0",
      "model_name": "LayoutModel",
      "state": {}
     },
     "de6a2728e8134a53a86752c35b17126e": {
      "model_module": "@jupyter-widgets/controls",
      "model_module_version": "1.2.0",
      "model_name": "VBoxModel",
      "state": {
       "children": [
        "IPY_MODEL_70672574da7e48ceae8ee3dbf3a0432b",
        "IPY_MODEL_45efc85f98d446cd89f89f935005640a",
        "IPY_MODEL_e0644f238d5c46f7a61227e332610fdc",
        "IPY_MODEL_a685ecc79dd84450b4047762dab46b46"
       ],
       "layout": "IPY_MODEL_8bcbed09b5bb42de9955fb8f5cdce28f"
      }
     },
     "de6a66e1fb0b4b229b2e38ea083384bf": {
      "model_module": "@jupyter-widgets/base",
      "model_module_version": "1.0.0",
      "model_name": "LayoutModel",
      "state": {
       "width": "250px"
      }
     },
     "deb72af68ac846889d645a391ef10048": {
      "model_module": "@jupyter-widgets/base",
      "model_module_version": "1.0.0",
      "model_name": "LayoutModel",
      "state": {}
     },
     "debec8eeb56d41b2ae72fe3afe12b50b": {
      "model_module": "@jupyter-widgets/controls",
      "model_module_version": "1.2.0",
      "model_name": "ButtonStyleModel",
      "state": {}
     },
     "df868ab09c594009aa56814821118b3c": {
      "model_module": "@jupyter-widgets/controls",
      "model_module_version": "1.2.0",
      "model_name": "DescriptionStyleModel",
      "state": {
       "description_width": ""
      }
     },
     "df98daddc04347649192a59cfdaabdde": {
      "model_module": "@jupyter-widgets/controls",
      "model_module_version": "1.2.0",
      "model_name": "DescriptionStyleModel",
      "state": {
       "description_width": ""
      }
     },
     "dfe69e1512ef4d1abad00813b2f456dc": {
      "model_module": "@jupyter-widgets/controls",
      "model_module_version": "1.2.0",
      "model_name": "HTMLModel",
      "state": {
       "layout": "IPY_MODEL_d3d463085c534b7ea60ee177513e316c",
       "style": "IPY_MODEL_12de3d3d919647d7af7a9b643dcfd9ac",
       "value": "<h4 style=\"font-size:14px;\">Was bedeutet das Tag <i>VBN</i> im Browntagset (siehe 5.7)?</h4>"
      }
     },
     "e01569ea39934ec0a43dd1880e14be91": {
      "model_module": "@jupyter-widgets/controls",
      "model_module_version": "1.2.0",
      "model_name": "DescriptionStyleModel",
      "state": {
       "description_width": "initial"
      }
     },
     "e02f4645fd394fcabe439b521a60cdc6": {
      "model_module": "@jupyter-widgets/controls",
      "model_module_version": "1.2.0",
      "model_name": "ButtonModel",
      "state": {
       "description": "Korrekt?",
       "layout": "IPY_MODEL_5d878c35c6814ca9bcd39872abbac015",
       "style": "IPY_MODEL_381c78d7fd424a6ab606702a0a0430bf"
      }
     },
     "e053449637b24e6f89cce808cb3b5b6b": {
      "model_module": "@jupyter-widgets/controls",
      "model_module_version": "1.2.0",
      "model_name": "ButtonModel",
      "state": {
       "description": "Folge von Wortklassen",
       "layout": "IPY_MODEL_bfc6f992989d4959842fdd96c2cce7a1",
       "style": "IPY_MODEL_3d45549fa30d4f3aac0ff92e3a9d47cb"
      }
     },
     "e0644f238d5c46f7a61227e332610fdc": {
      "model_module": "@jupyter-widgets/controls",
      "model_module_version": "1.2.0",
      "model_name": "VBoxModel",
      "state": {
       "children": [
        "IPY_MODEL_5ff7d4bed1dd4bb6bc3fca2e5a69cf2b",
        "IPY_MODEL_8853276b21c547a88b3e9bfd8fc98419",
        "IPY_MODEL_7fe8548ac8ee4c65b1640216491ea3ab"
       ],
       "layout": "IPY_MODEL_e53b582dcf9f4c12a015245311dfd507"
      }
     },
     "e06d1cc3cc8e4a16bf6ea55b05877dd5": {
      "model_module": "@jupyter-widgets/controls",
      "model_module_version": "1.2.0",
      "model_name": "ButtonModel",
      "state": {
       "description": "Keine der anderen Möglichkeiten",
       "layout": "IPY_MODEL_46c9b08f3fc84f37b62dcf3f201420e3",
       "style": "IPY_MODEL_f1a95cfc3b3544ba917455ae37a3888f"
      }
     },
     "e07b3b8ed9124a9f978e7b92c94cc294": {
      "model_module": "@jupyter-widgets/base",
      "model_module_version": "1.0.0",
      "model_name": "LayoutModel",
      "state": {
       "width": "600px"
      }
     },
     "e0c591c0d46d49988ba6467d08f2954f": {
      "model_module": "@jupyter-widgets/controls",
      "model_module_version": "1.2.0",
      "model_name": "ButtonModel",
      "state": {
       "description": "Adverb",
       "layout": "IPY_MODEL_1c8302e688b041fdaa8919485bbf7222",
       "style": "IPY_MODEL_a283276f195b4bd09f36506d0b0b0e84"
      }
     },
     "e0c8475979dc4d6493de783845b1730e": {
      "model_module": "@jupyter-widgets/base",
      "model_module_version": "1.0.0",
      "model_name": "LayoutModel",
      "state": {
       "width": "600px"
      }
     },
     "e102a1d1ce8040d89a7d1ac336392fd6": {
      "model_module": "@jupyter-widgets/controls",
      "model_module_version": "1.2.0",
      "model_name": "DescriptionStyleModel",
      "state": {
       "description_width": "initial"
      }
     },
     "e123a55f8de84410a67ad4965881637a": {
      "model_module": "@jupyter-widgets/base",
      "model_module_version": "1.0.0",
      "model_name": "LayoutModel",
      "state": {
       "justify_content": "center"
      }
     },
     "e124b82aedb54f019ba217ebaa673748": {
      "model_module": "@jupyter-widgets/base",
      "model_module_version": "1.0.0",
      "model_name": "LayoutModel",
      "state": {}
     },
     "e12af5e94ce64adf9b10a915446f8388": {
      "model_module": "@jupyter-widgets/base",
      "model_module_version": "1.0.0",
      "model_name": "LayoutModel",
      "state": {
       "width": "150px"
      }
     },
     "e1402925cb8c4f6c9670819c804dae75": {
      "model_module": "@jupyter-widgets/controls",
      "model_module_version": "1.2.0",
      "model_name": "DropdownModel",
      "state": {
       "_options_labels": [
        "morphologischen",
        "syntaktischen",
        " "
       ],
       "index": 2,
       "layout": "IPY_MODEL_c2c733fd4e1d48ce9e4a194805786aae",
       "style": "IPY_MODEL_86f7d18df9e441b19871cda6452c5cb8"
      }
     },
     "e14c07b01d0f427aa54fc347b3fb9fab": {
      "model_module": "@jupyter-widgets/controls",
      "model_module_version": "1.2.0",
      "model_name": "ButtonStyleModel",
      "state": {}
     },
     "e14f0480a8e24cddb03733092cc4bdaa": {
      "model_module": "@jupyter-widgets/controls",
      "model_module_version": "1.2.0",
      "model_name": "HTMLModel",
      "state": {
       "layout": "IPY_MODEL_3fb17628615c45039eb2eebb607f8387",
       "style": "IPY_MODEL_2dc12bf39d1e469a939684a456f5c394",
       "value": "<h4 style=\"font-size:14px;\">umfasst die</h4>"
      }
     },
     "e16c607027a14d0a962cd05b798fe500": {
      "model_module": "@jupyter-widgets/base",
      "model_module_version": "1.0.0",
      "model_name": "LayoutModel",
      "state": {}
     },
     "e1d6afef0c4746c28c5787f657f8da8d": {
      "model_module": "@jupyter-widgets/controls",
      "model_module_version": "1.2.0",
      "model_name": "ButtonStyleModel",
      "state": {}
     },
     "e1e3ea361c414fb8814203e118770220": {
      "model_module": "@jupyter-widgets/base",
      "model_module_version": "1.0.0",
      "model_name": "LayoutModel",
      "state": {}
     },
     "e1f6c06355d7424ca912eff55642ea84": {
      "model_module": "@jupyter-widgets/controls",
      "model_module_version": "1.2.0",
      "model_name": "ButtonStyleModel",
      "state": {}
     },
     "e25723a7b1c44f91958f98c369e963c4": {
      "model_module": "@jupyter-widgets/controls",
      "model_module_version": "1.2.0",
      "model_name": "DescriptionStyleModel",
      "state": {
       "description_width": ""
      }
     },
     "e264e49563444b06847696d0263a055e": {
      "model_module": "@jupyter-widgets/base",
      "model_module_version": "1.0.0",
      "model_name": "LayoutModel",
      "state": {
       "width": "250px"
      }
     },
     "e2a3f7747fed4af8bc47eba4b27c80ac": {
      "model_module": "@jupyter-widgets/base",
      "model_module_version": "1.0.0",
      "model_name": "LayoutModel",
      "state": {}
     },
     "e2f09f02190447678d4ec0720307f4c9": {
      "model_module": "@jupyter-widgets/controls",
      "model_module_version": "1.2.0",
      "model_name": "DescriptionStyleModel",
      "state": {
       "description_width": "initial"
      }
     },
     "e2f7a463243c4c4691a6b5dd3a0a8126": {
      "model_module": "@jupyter-widgets/base",
      "model_module_version": "1.0.0",
      "model_name": "LayoutModel",
      "state": {
       "width": "250px"
      }
     },
     "e2fe23fba3e04c1face022eca228e126": {
      "model_module": "@jupyter-widgets/controls",
      "model_module_version": "1.2.0",
      "model_name": "DescriptionStyleModel",
      "state": {
       "description_width": ""
      }
     },
     "e3355b9fd3e74982944b750deab77956": {
      "model_module": "@jupyter-widgets/base",
      "model_module_version": "1.0.0",
      "model_name": "LayoutModel",
      "state": {}
     },
     "e33b8d0c7a1b414d8318df1f276cff76": {
      "model_module": "@jupyter-widgets/controls",
      "model_module_version": "1.2.0",
      "model_name": "ButtonModel",
      "state": {
       "description": "Partikel",
       "layout": "IPY_MODEL_ff713eb299594c2993b06716a5fa70b4",
       "style": "IPY_MODEL_072bcd74b498483fbe0924c3dbd2898f"
      }
     },
     "e33f227e7a9b4c0092272f345658c9c2": {
      "model_module": "@jupyter-widgets/base",
      "model_module_version": "1.0.0",
      "model_name": "LayoutModel",
      "state": {}
     },
     "e37aa04b43794e2fa72c915c2ff9889a": {
      "model_module": "@jupyter-widgets/base",
      "model_module_version": "1.0.0",
      "model_name": "LayoutModel",
      "state": {
       "justify_content": "center"
      }
     },
     "e3918b94ada440189028a59d39b7bbe4": {
      "model_module": "@jupyter-widgets/controls",
      "model_module_version": "1.2.0",
      "model_name": "DescriptionStyleModel",
      "state": {
       "description_width": "initial"
      }
     },
     "e3b681567dde49f396c7e4c531af2547": {
      "model_module": "@jupyter-widgets/base",
      "model_module_version": "1.0.0",
      "model_name": "LayoutModel",
      "state": {
       "width": "250px"
      }
     },
     "e3eb798663d94d0386980d4419b63560": {
      "model_module": "@jupyter-widgets/base",
      "model_module_version": "1.0.0",
      "model_name": "LayoutModel",
      "state": {}
     },
     "e3fea9301c77445db8acd3b49cc453d8": {
      "model_module": "@jupyter-widgets/controls",
      "model_module_version": "1.2.0",
      "model_name": "DescriptionStyleModel",
      "state": {
       "description_width": ""
      }
     },
     "e41d55e6bba945dcbc6dcb7edc2e4173": {
      "model_module": "@jupyter-widgets/base",
      "model_module_version": "1.0.0",
      "model_name": "LayoutModel",
      "state": {
       "width": "250px"
      }
     },
     "e423db3cb1c344a0830c0ec3db729fbe": {
      "model_module": "@jupyter-widgets/base",
      "model_module_version": "1.0.0",
      "model_name": "LayoutModel",
      "state": {
       "justify_content": "center"
      }
     },
     "e43a7efdd6fb464ab1531665b49b6a49": {
      "model_module": "@jupyter-widgets/base",
      "model_module_version": "1.0.0",
      "model_name": "LayoutModel",
      "state": {
       "width": "600px"
      }
     },
     "e45c9701e68c47a38fe0ede73a32b28c": {
      "model_module": "@jupyter-widgets/controls",
      "model_module_version": "1.2.0",
      "model_name": "ButtonStyleModel",
      "state": {}
     },
     "e47fc76e875443b4a6a2e84e50d5097c": {
      "model_module": "@jupyter-widgets/base",
      "model_module_version": "1.0.0",
      "model_name": "LayoutModel",
      "state": {
       "width": "600px"
      }
     },
     "e4856f12e69346f499f57f96c64bda36": {
      "model_module": "@jupyter-widgets/base",
      "model_module_version": "1.0.0",
      "model_name": "LayoutModel",
      "state": {}
     },
     "e4867b58929b4c3a9935c5c0ed7e791f": {
      "model_module": "@jupyter-widgets/controls",
      "model_module_version": "1.2.0",
      "model_name": "ButtonModel",
      "state": {
       "description": "Wortfolge",
       "layout": "IPY_MODEL_b53b42c26c4945a6aa07fed4162f9b1c",
       "style": "IPY_MODEL_fa0e7e9dd7724af89dcdd85b2a9ee768"
      }
     },
     "e49c8d27c0eb4712a40957696de44fa1": {
      "model_module": "@jupyter-widgets/base",
      "model_module_version": "1.0.0",
      "model_name": "LayoutModel",
      "state": {
       "width": "250px"
      }
     },
     "e4de42c971904a86ac2100b6307c089d": {
      "model_module": "@jupyter-widgets/base",
      "model_module_version": "1.0.0",
      "model_name": "LayoutModel",
      "state": {
       "align_content": "stretch",
       "align_items": "stretch",
       "display": "inline-flex",
       "flex": "flex-grow",
       "flex_flow": "row wrap",
       "justify_content": "flex-start"
      }
     },
     "e503cf105cf04d1fbf81835064505a71": {
      "model_module": "@jupyter-widgets/controls",
      "model_module_version": "1.2.0",
      "model_name": "VBoxModel",
      "state": {
       "children": [
        "IPY_MODEL_06ea0edfc5354bd6a5fc9d088be61020",
        "IPY_MODEL_0175919d7843437888ac5e96bc52ead1",
        "IPY_MODEL_91ee56ff8cf5457e85dd1a8441f95866",
        "IPY_MODEL_ca21dc24285a412cb7e0627e218bad05"
       ],
       "layout": "IPY_MODEL_3158065894984928857d97d2c4685855"
      }
     },
     "e53b582dcf9f4c12a015245311dfd507": {
      "model_module": "@jupyter-widgets/base",
      "model_module_version": "1.0.0",
      "model_name": "LayoutModel",
      "state": {}
     },
     "e563343aac364329853148c772b19eb7": {
      "model_module": "@jupyter-widgets/controls",
      "model_module_version": "1.2.0",
      "model_name": "DescriptionStyleModel",
      "state": {
       "description_width": "initial"
      }
     },
     "e58f25745d8b42d4b568e34e2a9cbe27": {
      "model_module": "@jupyter-widgets/controls",
      "model_module_version": "1.2.0",
      "model_name": "ButtonStyleModel",
      "state": {}
     },
     "e5a7e07199bb4a0a8a57f7307e61329f": {
      "model_module": "@jupyter-widgets/controls",
      "model_module_version": "1.2.0",
      "model_name": "DescriptionStyleModel",
      "state": {
       "description_width": ""
      }
     },
     "e5af3fd9f85f4e30a62a1507b190ceb0": {
      "model_module": "@jupyter-widgets/base",
      "model_module_version": "1.0.0",
      "model_name": "LayoutModel",
      "state": {}
     },
     "e5b73e311e88437c8d7eed1f9a992cc9": {
      "model_module": "@jupyter-widgets/base",
      "model_module_version": "1.0.0",
      "model_name": "LayoutModel",
      "state": {
       "width": "150px"
      }
     },
     "e5fe3fcd768746ec8ebd979d494d2a7f": {
      "model_module": "@jupyter-widgets/controls",
      "model_module_version": "1.2.0",
      "model_name": "DescriptionStyleModel",
      "state": {
       "description_width": ""
      }
     },
     "e6174ad64df349ad913e3ffba21f0143": {
      "model_module": "@jupyter-widgets/base",
      "model_module_version": "1.0.0",
      "model_name": "LayoutModel",
      "state": {}
     },
     "e65e3d49ded442619a89ea386db6fe7f": {
      "model_module": "@jupyter-widgets/controls",
      "model_module_version": "1.2.0",
      "model_name": "DescriptionStyleModel",
      "state": {
       "description_width": ""
      }
     },
     "e69569b0e86d4e9c9ec51d822c7c013f": {
      "model_module": "@jupyter-widgets/controls",
      "model_module_version": "1.2.0",
      "model_name": "DescriptionStyleModel",
      "state": {
       "description_width": ""
      }
     },
     "e6f04844710e46008ed24b47c6c31b9b": {
      "model_module": "@jupyter-widgets/controls",
      "model_module_version": "1.2.0",
      "model_name": "ButtonStyleModel",
      "state": {}
     },
     "e70abc51ff64435db60a6fbfb257797b": {
      "model_module": "@jupyter-widgets/controls",
      "model_module_version": "1.2.0",
      "model_name": "CheckboxModel",
      "state": {
       "description": "Es ist flektierbar.",
       "disabled": false,
       "layout": "IPY_MODEL_c8102e2e955e4ac7a895377a6ebc1531",
       "style": "IPY_MODEL_6e742a3d180c4ad788084d236061fa36",
       "value": false
      }
     },
     "e71a3d0e496349949eafba2f4ea81a8b": {
      "model_module": "@jupyter-widgets/base",
      "model_module_version": "1.0.0",
      "model_name": "LayoutModel",
      "state": {
       "width": "600px"
      }
     },
     "e7757b882cb44c44bd3e106f90938ce9": {
      "model_module": "@jupyter-widgets/controls",
      "model_module_version": "1.2.0",
      "model_name": "DescriptionStyleModel",
      "state": {
       "description_width": ""
      }
     },
     "e7ff18db3fb3412a8d978b70526c4f56": {
      "model_module": "@jupyter-widgets/controls",
      "model_module_version": "1.2.0",
      "model_name": "BoxModel",
      "state": {
       "children": [
        "IPY_MODEL_2d9a4a6a640d4889904a387d93a3848c",
        "IPY_MODEL_78760654130e4711b31ea8159b906575",
        "IPY_MODEL_2af3e97c0e7345589954403c051c00b4",
        "IPY_MODEL_13eba5b105f74892a0e770faa9976aef",
        "IPY_MODEL_4565378f525f4dc192240e4a71b85655",
        "IPY_MODEL_d20ff4a81c2f4a01999c082f6b3a5bda",
        "IPY_MODEL_36ba574a7b9a48788f162522a8585e10"
       ],
       "layout": "IPY_MODEL_768ca528220e42e2bf8a81fbf63a8541"
      }
     },
     "e8116a518fba47c7a3dc9bb6585696fe": {
      "model_module": "@jupyter-widgets/controls",
      "model_module_version": "1.2.0",
      "model_name": "DescriptionStyleModel",
      "state": {
       "description_width": ""
      }
     },
     "e86c79953005428daa562cc7b7cc9988": {
      "model_module": "@jupyter-widgets/controls",
      "model_module_version": "1.2.0",
      "model_name": "ButtonStyleModel",
      "state": {}
     },
     "e872a52d9a414c04872b091dd0f1d809": {
      "model_module": "@jupyter-widgets/base",
      "model_module_version": "1.0.0",
      "model_name": "LayoutModel",
      "state": {}
     },
     "e89900bd2c934e0f8f87149f49829d8d": {
      "model_module": "@jupyter-widgets/base",
      "model_module_version": "1.0.0",
      "model_name": "LayoutModel",
      "state": {
       "width": "150px"
      }
     },
     "e8b1bb6efdec4fa58c3a107b234ecd41": {
      "model_module": "@jupyter-widgets/controls",
      "model_module_version": "1.2.0",
      "model_name": "DescriptionStyleModel",
      "state": {
       "description_width": "initial"
      }
     },
     "e8bb14eb929e44bc8d6c0def409dcf6d": {
      "model_module": "@jupyter-widgets/controls",
      "model_module_version": "1.2.0",
      "model_name": "DescriptionStyleModel",
      "state": {
       "description_width": ""
      }
     },
     "e8df8f26546c4ccea2152e65b1c37d7c": {
      "model_module": "@jupyter-widgets/controls",
      "model_module_version": "1.2.0",
      "model_name": "VBoxModel",
      "state": {
       "children": [
        "IPY_MODEL_8c3e8d0bc967418aac2cffdd1d8535ed",
        "IPY_MODEL_c89372d1ade24a998e34e6c99cd1c0a0",
        "IPY_MODEL_b4d4b0ee2bf64593bb7823c9e9b5c9d1",
        "IPY_MODEL_2543197a46c340289a87d13ee1152794"
       ],
       "layout": "IPY_MODEL_5a05b4024381489a8b666fe2ffe7b52a"
      }
     },
     "e904607ada924debb295f5c8c23bb877": {
      "model_module": "@jupyter-widgets/base",
      "model_module_version": "1.0.0",
      "model_name": "LayoutModel",
      "state": {
       "width": "150px"
      }
     },
     "e920dd9f3c46491faf0f96eb50823103": {
      "model_module": "@jupyter-widgets/base",
      "model_module_version": "1.0.0",
      "model_name": "LayoutModel",
      "state": {
       "width": "250px"
      }
     },
     "e92ebb8be89d42c8b7e94aa21cc40771": {
      "model_module": "@jupyter-widgets/base",
      "model_module_version": "1.0.0",
      "model_name": "LayoutModel",
      "state": {
       "width": "250px"
      }
     },
     "e9515d0946fc47a69cca2532716061d0": {
      "model_module": "@jupyter-widgets/controls",
      "model_module_version": "1.2.0",
      "model_name": "DropdownModel",
      "state": {
       "_options_labels": [
        "'ADJ'",
        "'DET'",
        "'NOUN'",
        " "
       ],
       "index": 3,
       "layout": "IPY_MODEL_16298cdaa8ee40e8b9b684751d0400a3",
       "style": "IPY_MODEL_68502935db8e47a8815e4f8156c0d00e"
      }
     },
     "e9816e78e57142b5b2e5eedb52bb1507": {
      "model_module": "@jupyter-widgets/controls",
      "model_module_version": "1.2.0",
      "model_name": "DescriptionStyleModel",
      "state": {
       "description_width": ""
      }
     },
     "e98a08725be5455299711a2e10a5c72f": {
      "model_module": "@jupyter-widgets/controls",
      "model_module_version": "1.2.0",
      "model_name": "DescriptionStyleModel",
      "state": {
       "description_width": "initial"
      }
     },
     "e9b12731dc734291978df9ac278f9a60": {
      "model_module": "@jupyter-widgets/base",
      "model_module_version": "1.0.0",
      "model_name": "LayoutModel",
      "state": {
       "width": "600px"
      }
     },
     "e9d925ab4fd24134bff094ae115b9f04": {
      "model_module": "@jupyter-widgets/controls",
      "model_module_version": "1.2.0",
      "model_name": "ButtonStyleModel",
      "state": {}
     },
     "e9dbde2e9d0f4de39b98250fdb26a2e5": {
      "model_module": "@jupyter-widgets/controls",
      "model_module_version": "1.2.0",
      "model_name": "ButtonModel",
      "state": {
       "description": "Keine der anderen Möglichkeiten",
       "layout": "IPY_MODEL_a28edbe917f744dc89d7c39a9fa13e5a",
       "style": "IPY_MODEL_8e40620a711f476fa7604992faf0ac1d"
      }
     },
     "e9fddb8875ee4dbebb3edde653e023a3": {
      "model_module": "@jupyter-widgets/base",
      "model_module_version": "1.0.0",
      "model_name": "LayoutModel",
      "state": {}
     },
     "ea354e2158d940458f84110b4253998f": {
      "model_module": "@jupyter-widgets/controls",
      "model_module_version": "1.2.0",
      "model_name": "DescriptionStyleModel",
      "state": {
       "description_width": "initial"
      }
     },
     "ea50b5a43b0f437f8176e73a9de9d4cb": {
      "model_module": "@jupyter-widgets/base",
      "model_module_version": "1.0.0",
      "model_name": "LayoutModel",
      "state": {}
     },
     "ea5ef9b686e14b10b0ace1f3766b7061": {
      "model_module": "@jupyter-widgets/base",
      "model_module_version": "1.0.0",
      "model_name": "LayoutModel",
      "state": {
       "width": "250px"
      }
     },
     "ea937bff4aa24ebe9384af855aa0fbe5": {
      "model_module": "@jupyter-widgets/controls",
      "model_module_version": "1.2.0",
      "model_name": "ButtonStyleModel",
      "state": {}
     },
     "eae5c35f5626492589ff72084e42b96e": {
      "model_module": "@jupyter-widgets/base",
      "model_module_version": "1.0.0",
      "model_name": "LayoutModel",
      "state": {
       "width": "250px"
      }
     },
     "eafa1c178db84d7096e6a75ff0fe771c": {
      "model_module": "@jupyter-widgets/controls",
      "model_module_version": "1.2.0",
      "model_name": "ButtonStyleModel",
      "state": {}
     },
     "eafb3dec8a2446e68180b23f92cfa90c": {
      "model_module": "@jupyter-widgets/controls",
      "model_module_version": "1.2.0",
      "model_name": "ButtonModel",
      "state": {
       "description": "Adjektiv",
       "layout": "IPY_MODEL_b7edb550d38b4039ab652bf2fe2c8a60",
       "style": "IPY_MODEL_f0783420a31c4c26ba98b2baca763518"
      }
     },
     "eb014d59820d48afa2d7f23874187694": {
      "model_module": "@jupyter-widgets/base",
      "model_module_version": "1.0.0",
      "model_name": "LayoutModel",
      "state": {
       "width": "250px"
      }
     },
     "eb1022e2a4e546a497e1f39b9bce7427": {
      "model_module": "@jupyter-widgets/base",
      "model_module_version": "1.0.0",
      "model_name": "LayoutModel",
      "state": {}
     },
     "eb162d85af6846b1a3c4cec700913152": {
      "model_module": "@jupyter-widgets/controls",
      "model_module_version": "1.2.0",
      "model_name": "HTMLModel",
      "state": {
       "layout": "IPY_MODEL_b36d13466e644f719eb613cf2aaf9ce2",
       "style": "IPY_MODEL_2d9e19700c954ef9a279f1217bf09577",
       "value": "<i>Wählen Sie die <ins>eine</ins> korrekte Antwort aus: </i>"
      }
     },
     "eb45cc4a7eae46d98ca4b4a71a809a62": {
      "model_module": "@jupyter-widgets/controls",
      "model_module_version": "1.2.0",
      "model_name": "DescriptionStyleModel",
      "state": {
       "description_width": ""
      }
     },
     "eb511ee71320444687d24f6c065a7ed1": {
      "model_module": "@jupyter-widgets/controls",
      "model_module_version": "1.2.0",
      "model_name": "DescriptionStyleModel",
      "state": {
       "description_width": ""
      }
     },
     "eb77f486baae4c00a2fcc55b2c589bde": {
      "model_module": "@jupyter-widgets/controls",
      "model_module_version": "1.2.0",
      "model_name": "ButtonStyleModel",
      "state": {}
     },
     "eb7a4dd1fdd147c495a3bdafb516d7b4": {
      "model_module": "@jupyter-widgets/controls",
      "model_module_version": "1.2.0",
      "model_name": "HTMLModel",
      "state": {
       "layout": "IPY_MODEL_c4d69551773247e0b37c772fe6c67841",
       "style": "IPY_MODEL_bc6cee3eda2c43149e9891505f98a9ac",
       "value": "<h4 style=\"font-size:14px;\">. Aus dieser wurde es extrahiert und ins</h4>"
      }
     },
     "eb8bda4e4fdd47e1b06f662a7cb628df": {
      "model_module": "@jupyter-widgets/controls",
      "model_module_version": "1.2.0",
      "model_name": "ButtonModel",
      "state": {
       "description": "Korrekt?",
       "layout": "IPY_MODEL_fc0db8848cea466ab70f4fff4d511200",
       "style": "IPY_MODEL_53e657368f9e4413bba78d380ebb25e5"
      }
     },
     "ebc7b108395d432f989188069b52e54d": {
      "model_module": "@jupyter-widgets/base",
      "model_module_version": "1.0.0",
      "model_name": "LayoutModel",
      "state": {}
     },
     "ebc906d6b94a45a999f490fd8828ac2e": {
      "model_module": "@jupyter-widgets/controls",
      "model_module_version": "1.2.0",
      "model_name": "VBoxModel",
      "state": {
       "children": [
        "IPY_MODEL_7ca602bb3bc2489198555e95054e57a4",
        "IPY_MODEL_641e4cd0817e45ba82cfc83e4513e310",
        "IPY_MODEL_5f07b7cb64ef41c5a70c39db240030a5",
        "IPY_MODEL_ca63bacfdea64bbe9f9898e2fedf1f2c",
        "IPY_MODEL_3e5b353e074b483ba98c2dc390330156"
       ],
       "layout": "IPY_MODEL_c82d7657554e42c1bea33e6f8489a27e"
      }
     },
     "ec11276bb8da4cc89e105baae007e6aa": {
      "model_module": "@jupyter-widgets/base",
      "model_module_version": "1.0.0",
      "model_name": "LayoutModel",
      "state": {
       "justify_content": "center"
      }
     },
     "ec223f3491b948c4b253a7692f139247": {
      "model_module": "@jupyter-widgets/base",
      "model_module_version": "1.0.0",
      "model_name": "LayoutModel",
      "state": {
       "width": "150px"
      }
     },
     "ec2363ab6f504fe58afc6f08479d790d": {
      "model_module": "@jupyter-widgets/controls",
      "model_module_version": "1.2.0",
      "model_name": "DescriptionStyleModel",
      "state": {
       "description_width": ""
      }
     },
     "ec29415c771b460696851b982bd39dd0": {
      "model_module": "@jupyter-widgets/controls",
      "model_module_version": "1.2.0",
      "model_name": "DescriptionStyleModel",
      "state": {
       "description_width": ""
      }
     },
     "ec31c62753a8437fbb54757d25e85c58": {
      "model_module": "@jupyter-widgets/controls",
      "model_module_version": "1.2.0",
      "model_name": "DescriptionStyleModel",
      "state": {
       "description_width": "initial"
      }
     },
     "ecd9ecbe206347d2afbed4649023fa31": {
      "model_module": "@jupyter-widgets/controls",
      "model_module_version": "1.2.0",
      "model_name": "DescriptionStyleModel",
      "state": {
       "description_width": ""
      }
     },
     "ece581709d7e49dfb407349834317dc6": {
      "model_module": "@jupyter-widgets/base",
      "model_module_version": "1.0.0",
      "model_name": "LayoutModel",
      "state": {
       "width": "150px"
      }
     },
     "ecfd270419fe41bfa1a2ed623e0576f1": {
      "model_module": "@jupyter-widgets/controls",
      "model_module_version": "1.2.0",
      "model_name": "HTMLModel",
      "state": {
       "layout": "IPY_MODEL_7690e947e764417ea2167a21e4f35ce2",
       "style": "IPY_MODEL_2c8fbb199aa848e5a45131f0d4df264e",
       "value": "<i>Wählen Sie die <ins>eine</ins> korrekte Antwort aus: </i>"
      }
     },
     "ed319341e9a44317a9253f090914e668": {
      "model_module": "@jupyter-widgets/controls",
      "model_module_version": "1.2.0",
      "model_name": "DescriptionStyleModel",
      "state": {
       "description_width": ""
      }
     },
     "ed7a42296e71450697dda3a7e20f4923": {
      "model_module": "@jupyter-widgets/base",
      "model_module_version": "1.0.0",
      "model_name": "LayoutModel",
      "state": {}
     },
     "eda45b3f02c64ebaaa5bb3d236bbc96c": {
      "model_module": "@jupyter-widgets/controls",
      "model_module_version": "1.2.0",
      "model_name": "ButtonModel",
      "state": {
       "description": "Keine der anderen Möglichkeiten",
       "layout": "IPY_MODEL_e3b681567dde49f396c7e4c531af2547",
       "style": "IPY_MODEL_430805e5c1a44d57aa40644f25a5f695"
      }
     },
     "edd572252be849e0a85c3165499087eb": {
      "model_module": "@jupyter-widgets/controls",
      "model_module_version": "1.2.0",
      "model_name": "DescriptionStyleModel",
      "state": {
       "description_width": "initial"
      }
     },
     "edd7c5a10f394c1988a4a2665c71ff81": {
      "model_module": "@jupyter-widgets/controls",
      "model_module_version": "1.2.0",
      "model_name": "HBoxModel",
      "state": {
       "children": [
        "IPY_MODEL_675ae37ad2f345f790d088da4159dfcb",
        "IPY_MODEL_e4867b58929b4c3a9935c5c0ed7e791f"
       ],
       "layout": "IPY_MODEL_9e8ef238bbf24a5594d1aeb0823318eb"
      }
     },
     "ee1f4b796d974b6ca8d5ea3f02559e26": {
      "model_module": "@jupyter-widgets/controls",
      "model_module_version": "1.2.0",
      "model_name": "DescriptionStyleModel",
      "state": {
       "description_width": ""
      }
     },
     "ee2140f1d79e4e93910ec3fb79e3ffbd": {
      "model_module": "@jupyter-widgets/controls",
      "model_module_version": "1.2.0",
      "model_name": "ButtonStyleModel",
      "state": {}
     },
     "ee3054c414074e238d94f3259efc9000": {
      "model_module": "@jupyter-widgets/controls",
      "model_module_version": "1.2.0",
      "model_name": "HTMLModel",
      "state": {
       "layout": "IPY_MODEL_d6ad29e734034cce8ed03f2e569472ce",
       "style": "IPY_MODEL_16c3894af09942dba6c8ca4721a23b70",
       "value": "<h4 style=\"font-size:14px;\">Was bedeutet das Tag <i>VBZ</i> im Browntagset (siehe 5.7)?</h4>"
      }
     },
     "ee3167df76c7433cbebea09aa87611db": {
      "model_module": "@jupyter-widgets/controls",
      "model_module_version": "1.2.0",
      "model_name": "ButtonModel",
      "state": {
       "description": "simple past",
       "layout": "IPY_MODEL_8efdf925c53840f29472797725acf159",
       "style": "IPY_MODEL_add68ac50e7c408c9efb00683c3f10e9"
      }
     },
     "ee441d18ab0e4ec486f25f3424287e2a": {
      "model_module": "@jupyter-widgets/base",
      "model_module_version": "1.0.0",
      "model_name": "LayoutModel",
      "state": {}
     },
     "ee7190bb853c49f1b5cc6e21fb0dd078": {
      "model_module": "@jupyter-widgets/controls",
      "model_module_version": "1.2.0",
      "model_name": "DescriptionStyleModel",
      "state": {
       "description_width": "initial"
      }
     },
     "ee79173fb5ff4bf6a9a6b1a14bb007c1": {
      "model_module": "@jupyter-widgets/base",
      "model_module_version": "1.0.0",
      "model_name": "LayoutModel",
      "state": {
       "width": "250px"
      }
     },
     "eea92881352f49949a4354f2f823dbcc": {
      "model_module": "@jupyter-widgets/controls",
      "model_module_version": "1.2.0",
      "model_name": "HBoxModel",
      "state": {
       "children": [
        "IPY_MODEL_abe7e40d56b240b59ce8e65b402923e7"
       ],
       "layout": "IPY_MODEL_fb513d49d8cb4e3db298e9b734ae8c13"
      }
     },
     "eeb718f2add94907a67c269368bdd109": {
      "model_module": "@jupyter-widgets/base",
      "model_module_version": "1.0.0",
      "model_name": "LayoutModel",
      "state": {}
     },
     "eeeb8a86dfec4344a4ae8e1760455fea": {
      "model_module": "@jupyter-widgets/controls",
      "model_module_version": "1.2.0",
      "model_name": "DescriptionStyleModel",
      "state": {
       "description_width": ""
      }
     },
     "ef22792d8b9347b892527930d7a7663b": {
      "model_module": "@jupyter-widgets/controls",
      "model_module_version": "1.2.0",
      "model_name": "HTMLModel",
      "state": {
       "layout": "IPY_MODEL_adcb1635b51b45fb97eb7506e3861481",
       "style": "IPY_MODEL_fdae8ad25eda40cfb67247ccf6811111",
       "value": "<i>Wählen Sie die <ins>eine</ins> korrekte Antwort aus: </i>"
      }
     },
     "ef8332250c114a56a8979c32d77c86c6": {
      "model_module": "@jupyter-widgets/controls",
      "model_module_version": "1.2.0",
      "model_name": "HTMLModel",
      "state": {
       "layout": "IPY_MODEL_6c356c7529394d9ba7b7f8f6625d6de8",
       "style": "IPY_MODEL_35fcc3c8d73f45ebb8bf0f7555b9f715",
       "value": "<i>Wählen Sie die <ins>eine</ins> korrekte Antwort aus: </i>"
      }
     },
     "efc7a3b0134141b9bae817e67454f2ef": {
      "model_module": "@jupyter-widgets/base",
      "model_module_version": "1.0.0",
      "model_name": "LayoutModel",
      "state": {}
     },
     "f01880c64622476c84602db588480c30": {
      "model_module": "@jupyter-widgets/controls",
      "model_module_version": "1.2.0",
      "model_name": "ButtonModel",
      "state": {
       "description": "simple past",
       "layout": "IPY_MODEL_de6a66e1fb0b4b229b2e38ea083384bf",
       "style": "IPY_MODEL_b5453a7f5315411e95bb2cb285b86f6d"
      }
     },
     "f019fd24b94b4664bd18f5f9af8f1f77": {
      "model_module": "@jupyter-widgets/controls",
      "model_module_version": "1.2.0",
      "model_name": "CheckboxModel",
      "state": {
       "description": "gleicher Kontext",
       "disabled": false,
       "layout": "IPY_MODEL_07badabeddc04bf59a90d306829f3ae9",
       "style": "IPY_MODEL_996a0f0f955b43719526b4af58bc492d",
       "value": false
      }
     },
     "f02cea109bd54d519f8b5c810c31f273": {
      "model_module": "@jupyter-widgets/base",
      "model_module_version": "1.0.0",
      "model_name": "LayoutModel",
      "state": {}
     },
     "f074e4c04570456da1fe895722a94397": {
      "model_module": "@jupyter-widgets/base",
      "model_module_version": "1.0.0",
      "model_name": "LayoutModel",
      "state": {
       "justify_content": "center"
      }
     },
     "f0783420a31c4c26ba98b2baca763518": {
      "model_module": "@jupyter-widgets/controls",
      "model_module_version": "1.2.0",
      "model_name": "ButtonStyleModel",
      "state": {}
     },
     "f096a8caf0f848b3bad8593b9896f0b1": {
      "model_module": "@jupyter-widgets/controls",
      "model_module_version": "1.2.0",
      "model_name": "HTMLModel",
      "state": {
       "layout": "IPY_MODEL_3d5c4b17da9348bbbee6ed7aa30be90e",
       "style": "IPY_MODEL_22667d70e4a549f783cc8b8bf2bed333",
       "value": "<h4 style=\"font-size:14px;\">.</h4>"
      }
     },
     "f09921b643e64a91a893224d8349d1bc": {
      "model_module": "@jupyter-widgets/controls",
      "model_module_version": "1.2.0",
      "model_name": "DescriptionStyleModel",
      "state": {
       "description_width": ""
      }
     },
     "f127f5441bbb40f5884218ad56b6897a": {
      "model_module": "@jupyter-widgets/controls",
      "model_module_version": "1.2.0",
      "model_name": "HTMLModel",
      "state": {
       "layout": "IPY_MODEL_b66e223090e54719acce701930786084",
       "style": "IPY_MODEL_d8f2f5d511ba4bf49727159fac291691",
       "value": "<h4 style=\"font-size:14px;\">Kategorie.</h4>"
      }
     },
     "f14bec8d55f943788cb58c29e1e6bb10": {
      "model_module": "@jupyter-widgets/controls",
      "model_module_version": "1.2.0",
      "model_name": "ButtonModel",
      "state": {
       "description": "Korrekt?",
       "layout": "IPY_MODEL_83281334cd4347db9ea69ef646459b6e",
       "style": "IPY_MODEL_ee2140f1d79e4e93910ec3fb79e3ffbd"
      }
     },
     "f1720811274e46c9bc8c9f9c5824ae7d": {
      "model_module": "@jupyter-widgets/controls",
      "model_module_version": "1.2.0",
      "model_name": "CheckboxModel",
      "state": {
       "description": "Flexionstyp",
       "disabled": false,
       "layout": "IPY_MODEL_e43a7efdd6fb464ab1531665b49b6a49",
       "style": "IPY_MODEL_6462cb79d2d24a74b6624bf3db231733",
       "value": false
      }
     },
     "f17ce0bc1f8c479c8d2a2c38347bce47": {
      "model_module": "@jupyter-widgets/base",
      "model_module_version": "1.0.0",
      "model_name": "LayoutModel",
      "state": {
       "justify_content": "center"
      }
     },
     "f1918eddb89d48088b6b70076144271f": {
      "model_module": "@jupyter-widgets/controls",
      "model_module_version": "1.2.0",
      "model_name": "HBoxModel",
      "state": {
       "children": [
        "IPY_MODEL_ee3167df76c7433cbebea09aa87611db"
       ],
       "layout": "IPY_MODEL_c4ccb2828bf846be903af1932cd820a4"
      }
     },
     "f1987b1a44f2492aacf472fcf8f9c714": {
      "model_module": "@jupyter-widgets/controls",
      "model_module_version": "1.2.0",
      "model_name": "ButtonModel",
      "state": {
       "description": "3rd singular present",
       "layout": "IPY_MODEL_39bb4630427e4790be660e121cc06261",
       "style": "IPY_MODEL_72a50eeab5264436919c9d77ec466d7c"
      }
     },
     "f1a95cfc3b3544ba917455ae37a3888f": {
      "model_module": "@jupyter-widgets/controls",
      "model_module_version": "1.2.0",
      "model_name": "ButtonStyleModel",
      "state": {}
     },
     "f1d91739888d48c5b05f41d6136571f6": {
      "model_module": "@jupyter-widgets/base",
      "model_module_version": "1.0.0",
      "model_name": "LayoutModel",
      "state": {
       "width": "250px"
      }
     },
     "f1d98ea2dd4a472698180e6e3b4fe503": {
      "model_module": "@jupyter-widgets/base",
      "model_module_version": "1.0.0",
      "model_name": "LayoutModel",
      "state": {
       "width": "250px"
      }
     },
     "f1e49c86d030497894755b21f7f2caf7": {
      "model_module": "@jupyter-widgets/base",
      "model_module_version": "1.0.0",
      "model_name": "LayoutModel",
      "state": {
       "width": "250px"
      }
     },
     "f1f41e5a5baf405b9631d83bac08ff7f": {
      "model_module": "@jupyter-widgets/base",
      "model_module_version": "1.0.0",
      "model_name": "LayoutModel",
      "state": {}
     },
     "f200df20c8ee405c8ffa6e9e794589c4": {
      "model_module": "@jupyter-widgets/base",
      "model_module_version": "1.0.0",
      "model_name": "LayoutModel",
      "state": {}
     },
     "f22ded2b250145398d775f94159144f3": {
      "model_module": "@jupyter-widgets/base",
      "model_module_version": "1.0.0",
      "model_name": "LayoutModel",
      "state": {
       "width": "600px"
      }
     },
     "f2307be0fe704421beaf86f154d5c25d": {
      "model_module": "@jupyter-widgets/base",
      "model_module_version": "1.0.0",
      "model_name": "LayoutModel",
      "state": {
       "width": "150px"
      }
     },
     "f28c748bc1b34f908a3213f49d63109a": {
      "model_module": "@jupyter-widgets/controls",
      "model_module_version": "1.2.0",
      "model_name": "DescriptionStyleModel",
      "state": {
       "description_width": ""
      }
     },
     "f28fb0a2e788477382874483f2d81267": {
      "model_module": "@jupyter-widgets/controls",
      "model_module_version": "1.2.0",
      "model_name": "ButtonStyleModel",
      "state": {}
     },
     "f29655d1007b41f0a2cfab3ada7d7864": {
      "model_module": "@jupyter-widgets/base",
      "model_module_version": "1.0.0",
      "model_name": "LayoutModel",
      "state": {}
     },
     "f2978c81987145e9a0841a0d196b04cf": {
      "model_module": "@jupyter-widgets/base",
      "model_module_version": "1.0.0",
      "model_name": "LayoutModel",
      "state": {
       "justify_content": "center"
      }
     },
     "f2a502da447842c4aa7453c1ba22efae": {
      "model_module": "@jupyter-widgets/controls",
      "model_module_version": "1.2.0",
      "model_name": "HTMLModel",
      "state": {
       "layout": "IPY_MODEL_a8c69081763e447f80bdb69bac47e1b0",
       "style": "IPY_MODEL_028759c7b4104089945fcab7d10934a7",
       "value": "<h4 style=\"font-size:14px;\">Was sind morphologische Kriterien für Wortkategorien?</h4>"
      }
     },
     "f2baa357bf374e36ab05dbaf5fbde2ee": {
      "model_module": "@jupyter-widgets/controls",
      "model_module_version": "1.2.0",
      "model_name": "HTMLModel",
      "state": {
       "layout": "IPY_MODEL_e37aa04b43794e2fa72c915c2ff9889a",
       "style": "IPY_MODEL_0e67fa95c22b4ca28b7773daba77e0d3",
       "value": "<i>Vervollständigen Sie den Lückentext: </i>"
      }
     },
     "f2e13c6e329343869281d5dfe554aee3": {
      "model_module": "@jupyter-widgets/base",
      "model_module_version": "1.0.0",
      "model_name": "LayoutModel",
      "state": {}
     },
     "f3033a5a780f4559997793e353beae77": {
      "model_module": "@jupyter-widgets/base",
      "model_module_version": "1.0.0",
      "model_name": "LayoutModel",
      "state": {
       "justify_content": "center"
      }
     },
     "f33e88163c694418beca88bd7df16020": {
      "model_module": "@jupyter-widgets/base",
      "model_module_version": "1.0.0",
      "model_name": "LayoutModel",
      "state": {
       "width": "250px"
      }
     },
     "f37fe49ee6fd4c4d966770632de7d301": {
      "model_module": "@jupyter-widgets/controls",
      "model_module_version": "1.2.0",
      "model_name": "VBoxModel",
      "state": {
       "children": [
        "IPY_MODEL_47338cc8dbad4b56b2e5425b88eea8ac",
        "IPY_MODEL_21f08c2618ec456d947a0c377b92f22d",
        "IPY_MODEL_a88c8f4f5ffd48e9af313a7a231c9947",
        "IPY_MODEL_c3eb27617aab461182da24b2fbfcd196"
       ],
       "layout": "IPY_MODEL_126b9b6145a84884b286a93b2067a267"
      }
     },
     "f3e1dff1db774b1f8cced32d0947fd40": {
      "model_module": "@jupyter-widgets/base",
      "model_module_version": "1.0.0",
      "model_name": "LayoutModel",
      "state": {}
     },
     "f40f06d9ac2348be83688843ba298253": {
      "model_module": "@jupyter-widgets/controls",
      "model_module_version": "1.2.0",
      "model_name": "HTMLModel",
      "state": {
       "layout": "IPY_MODEL_d1cd0b3d5682492ea808150907f59c95",
       "style": "IPY_MODEL_1349b19392974df4b80a70b33057edc0",
       "value": "<h4 style=\"font-size:14px;\">Was bedeutet das Tag <i>VBN</i> im Browntagset (siehe 5.7)?</h4>"
      }
     },
     "f41107fa74cb48bdb0ba3494e9485702": {
      "model_module": "@jupyter-widgets/controls",
      "model_module_version": "1.2.0",
      "model_name": "DescriptionStyleModel",
      "state": {
       "description_width": ""
      }
     },
     "f416a505dc6a44c2bbfe69c9e79766bd": {
      "model_module": "@jupyter-widgets/controls",
      "model_module_version": "1.2.0",
      "model_name": "ButtonStyleModel",
      "state": {}
     },
     "f53da9703dd84b1ea5ac8ebb39a56bfe": {
      "model_module": "@jupyter-widgets/controls",
      "model_module_version": "1.2.0",
      "model_name": "ButtonModel",
      "state": {
       "description": "Keine der anderen Möglichkeiten",
       "layout": "IPY_MODEL_93bc16f4d1fa4c0dbacc38beb1e5a609",
       "style": "IPY_MODEL_be7dc491c72e4bf19c78eefd4cc68d09"
      }
     },
     "f549ba12dd5a48c9bd24e3484608da1d": {
      "model_module": "@jupyter-widgets/controls",
      "model_module_version": "1.2.0",
      "model_name": "DescriptionStyleModel",
      "state": {
       "description_width": ""
      }
     },
     "f56015eb56134ae0b031357f2f20edbe": {
      "model_module": "@jupyter-widgets/controls",
      "model_module_version": "1.2.0",
      "model_name": "ButtonModel",
      "state": {
       "description": "past participle",
       "layout": "IPY_MODEL_1e93d90a4c85415880497c12ecec6240",
       "style": "IPY_MODEL_7d596428c78b4a85bb9c52c7a227e600"
      }
     },
     "f56b3c71dc3a46219607135a2034b513": {
      "model_module": "@jupyter-widgets/controls",
      "model_module_version": "1.2.0",
      "model_name": "DropdownModel",
      "state": {
       "_options_labels": [
        "Bigramm",
        "Trigramm",
        "Unigramm",
        " "
       ],
       "index": 3,
       "layout": "IPY_MODEL_f9296d6ab72449f2bbc3b1fa09b8bf14",
       "style": "IPY_MODEL_b7753846df1d40dcb56c497c5de0e05e"
      }
     },
     "f584349d63f44e448287253ebeb27d08": {
      "model_module": "@jupyter-widgets/controls",
      "model_module_version": "1.2.0",
      "model_name": "VBoxModel",
      "state": {
       "children": [
        "IPY_MODEL_14e9c3018f1148bab6d42bf1470c9470",
        "IPY_MODEL_028bdb6bdd4b4d95b12f75e7b7ef647d",
        "IPY_MODEL_fab7dbdb562f4993a9181301916fcee3",
        "IPY_MODEL_83c2dc316ac14891b8911df87dd23fec"
       ],
       "layout": "IPY_MODEL_ee441d18ab0e4ec486f25f3424287e2a"
      }
     },
     "f58e0c150eb043d48ced327afb6ed445": {
      "model_module": "@jupyter-widgets/controls",
      "model_module_version": "1.2.0",
      "model_name": "HTMLModel",
      "state": {
       "layout": "IPY_MODEL_aa408d3e29ec473daddf70b9f026f834",
       "style": "IPY_MODEL_5edcb65dd9344d22a18e3ba413912d9d",
       "value": "<h4 style=\"font-size:14px;\">In der ersten Zeile des Codes werden</h4>"
      }
     },
     "f599581715d24c79ac0e2a59b5156b38": {
      "model_module": "@jupyter-widgets/controls",
      "model_module_version": "1.2.0",
      "model_name": "BoxModel",
      "state": {
       "children": [
        "IPY_MODEL_18b88fd20c7140778ce0e13457251a27",
        "IPY_MODEL_b52cd29e826240f2b4b6816c1d4472ad",
        "IPY_MODEL_1a1bf3c2324c478b906f3b8032b1db49",
        "IPY_MODEL_30aecafe235544ee9c631274c8af463e",
        "IPY_MODEL_44f4152dac394a5d83b7c76d4c6decc3",
        "IPY_MODEL_e9515d0946fc47a69cca2532716061d0",
        "IPY_MODEL_746b1c7d4e0b4ef6874836c6c36b3af3",
        "IPY_MODEL_68ac6022e61942068db5c2df84f78af3",
        "IPY_MODEL_458f2b415beb4b73b8f4292dd82ee691"
       ],
       "layout": "IPY_MODEL_71cccd421b9c417a8f5fef5d34a3f962"
      }
     },
     "f5b3ac8e3d074e55a5177d66c4e406d1": {
      "model_module": "@jupyter-widgets/controls",
      "model_module_version": "1.2.0",
      "model_name": "DescriptionStyleModel",
      "state": {
       "description_width": ""
      }
     },
     "f5b6122bf590467ba80c5d56e2951b40": {
      "model_module": "@jupyter-widgets/base",
      "model_module_version": "1.0.0",
      "model_name": "LayoutModel",
      "state": {
       "width": "600px"
      }
     },
     "f613aac95692413497ce9480f5997437": {
      "model_module": "@jupyter-widgets/controls",
      "model_module_version": "1.2.0",
      "model_name": "DescriptionStyleModel",
      "state": {
       "description_width": ""
      }
     },
     "f65eff2991f54fbe9996967041a6e116": {
      "model_module": "@jupyter-widgets/base",
      "model_module_version": "1.0.0",
      "model_name": "LayoutModel",
      "state": {
       "width": "250px"
      }
     },
     "f6893f62d1a4464cb0839a3d7b7f4582": {
      "model_module": "@jupyter-widgets/controls",
      "model_module_version": "1.2.0",
      "model_name": "HTMLModel",
      "state": {
       "layout": "IPY_MODEL_b30973df0af44023ab38b4caf37917fa",
       "style": "IPY_MODEL_12a333bd313640299a1f7af72993bda4",
       "value": "<i>Markieren Sie <ins>alle</ins> passenden Antworten: </i>"
      }
     },
     "f690e7a44d1a4fdfba7b5769b69d29ef": {
      "model_module": "@jupyter-widgets/controls",
      "model_module_version": "1.2.0",
      "model_name": "HTMLModel",
      "state": {
       "layout": "IPY_MODEL_50adecbf1d174bb4a18a61172b859592",
       "style": "IPY_MODEL_79879721f9864ee7bb2b72a1b0e45e01",
       "value": "<h4 style=\"font-size:14px;\">Was ist der Output eines Part-of-Speech-Taggers?</h4>"
      }
     },
     "f6d1ad3f8b254348958d055be9c2a59c": {
      "model_module": "@jupyter-widgets/controls",
      "model_module_version": "1.2.0",
      "model_name": "DropdownModel",
      "state": {
       "_options_labels": [
        "NP",
        "PP",
        "VP",
        " "
       ],
       "index": 2,
       "layout": "IPY_MODEL_3911576eeeff481aa77ac16993f046b0",
       "style": "IPY_MODEL_597e650307ba4d75b2989c5fddb5d3a8"
      }
     },
     "f6d642444cea42cf9771fab2938cdb9e": {
      "model_module": "@jupyter-widgets/controls",
      "model_module_version": "1.2.0",
      "model_name": "CheckboxModel",
      "state": {
       "description": "Permutationstest",
       "disabled": false,
       "layout": "IPY_MODEL_96e869ece7e240dd88282702d1e2594b",
       "style": "IPY_MODEL_00aa7d66e4624ea19135b9118e6018f0",
       "value": false
      }
     },
     "f72b7bfd04994154803b5960c99f5db0": {
      "model_module": "@jupyter-widgets/controls",
      "model_module_version": "1.2.0",
      "model_name": "ButtonModel",
      "state": {
       "description": "base",
       "layout": "IPY_MODEL_6281806bdb52486782abc43b459717af",
       "style": "IPY_MODEL_a570552288ce4a39ba44587fe5f39a1b"
      }
     },
     "f753fc0ea4334068a668760555e48769": {
      "model_module": "@jupyter-widgets/base",
      "model_module_version": "1.0.0",
      "model_name": "LayoutModel",
      "state": {
       "justify_content": "center"
      }
     },
     "f7852f71deae4946bef6c1a5a8b1a7d3": {
      "model_module": "@jupyter-widgets/base",
      "model_module_version": "1.0.0",
      "model_name": "LayoutModel",
      "state": {
       "justify_content": "center"
      }
     },
     "f7a272febe094b559190363b9f368c91": {
      "model_module": "@jupyter-widgets/controls",
      "model_module_version": "1.2.0",
      "model_name": "DropdownModel",
      "state": {
       "_options_labels": [
        " ",
        "NP",
        "PP",
        "VP",
        " "
       ],
       "index": 0,
       "layout": "IPY_MODEL_76c22f475ed7495ca6d7640676b9b4e5",
       "style": "IPY_MODEL_6a26006c833b42638ceb415f03b8b16f"
      }
     },
     "f7c4782dad9544e89915214dbcb4be4e": {
      "model_module": "@jupyter-widgets/controls",
      "model_module_version": "1.2.0",
      "model_name": "DescriptionStyleModel",
      "state": {
       "description_width": ""
      }
     },
     "f7c98aa464ce470395e7d010356f15fd": {
      "model_module": "@jupyter-widgets/controls",
      "model_module_version": "1.2.0",
      "model_name": "ButtonStyleModel",
      "state": {}
     },
     "f7d63bc0b5b44656a645dc24e699297d": {
      "model_module": "@jupyter-widgets/base",
      "model_module_version": "1.0.0",
      "model_name": "LayoutModel",
      "state": {
       "width": "250px"
      }
     },
     "f8382b03250b4f3c8c874fe40c793c7a": {
      "model_module": "@jupyter-widgets/controls",
      "model_module_version": "1.2.0",
      "model_name": "HBoxModel",
      "state": {
       "children": [
        "IPY_MODEL_89826c49e10d4d4cbc3e2a0374082d41",
        "IPY_MODEL_32efdd3a1fd946b0b58fa772e73c5f25"
       ],
       "layout": "IPY_MODEL_13a40b34bf534a3880c132ff20fcb41c"
      }
     },
     "f8b60976369d41d68ec056209875e30b": {
      "model_module": "@jupyter-widgets/controls",
      "model_module_version": "1.2.0",
      "model_name": "VBoxModel",
      "state": {
       "children": [
        "IPY_MODEL_f2baa357bf374e36ab05dbaf5fbde2ee",
        "IPY_MODEL_e7ff18db3fb3412a8d978b70526c4f56",
        "IPY_MODEL_0634c994f5fa47e5bd97db2c375c5785"
       ],
       "layout": "IPY_MODEL_72da4c153f1d49d2a0bca9b74961aa3b"
      }
     },
     "f8b6fbb6cb974fd893922f0d7e43d1a7": {
      "model_module": "@jupyter-widgets/controls",
      "model_module_version": "1.2.0",
      "model_name": "HTMLModel",
      "state": {
       "layout": "IPY_MODEL_cfab66fa323d4598b87b52d4b6b25332",
       "style": "IPY_MODEL_e3fea9301c77445db8acd3b49cc453d8",
       "value": "<h4 style=\"font-size:14px;\">Was bedeutet das Tag <i>VB</i> im Browntagset (siehe 5.7)?</h4>"
      }
     },
     "f91e9ae55f0944e5b8d9c8d5961e003c": {
      "model_module": "@jupyter-widgets/base",
      "model_module_version": "1.0.0",
      "model_name": "LayoutModel",
      "state": {
       "width": "600px"
      }
     },
     "f9296d6ab72449f2bbc3b1fa09b8bf14": {
      "model_module": "@jupyter-widgets/base",
      "model_module_version": "1.0.0",
      "model_name": "LayoutModel",
      "state": {
       "width": "150px"
      }
     },
     "f9b5cd8f4b7d436ba57f7114a1c5314b": {
      "model_module": "@jupyter-widgets/base",
      "model_module_version": "1.0.0",
      "model_name": "LayoutModel",
      "state": {
       "width": "250px"
      }
     },
     "f9b7399a0d3c4229ac2e5fb1ed452932": {
      "model_module": "@jupyter-widgets/controls",
      "model_module_version": "1.2.0",
      "model_name": "DescriptionStyleModel",
      "state": {
       "description_width": ""
      }
     },
     "f9c8f2b364cd451bbfc959fbdd0114a3": {
      "model_module": "@jupyter-widgets/controls",
      "model_module_version": "1.2.0",
      "model_name": "HTMLModel",
      "state": {
       "layout": "IPY_MODEL_94fa21fa3779415d984abb897373fb48",
       "style": "IPY_MODEL_d83fbc867c274d1eb30b8a4a57dc93df",
       "value": "<i>Wählen Sie die <ins>eine</ins> korrekte Antwort aus: </i>"
      }
     },
     "fa0e7e9dd7724af89dcdd85b2a9ee768": {
      "model_module": "@jupyter-widgets/controls",
      "model_module_version": "1.2.0",
      "model_name": "ButtonStyleModel",
      "state": {}
     },
     "fa106c7be2074b9991842e461f385830": {
      "model_module": "@jupyter-widgets/controls",
      "model_module_version": "1.2.0",
      "model_name": "ButtonModel",
      "state": {
       "description": "Partikel",
       "layout": "IPY_MODEL_a5e89d43edcc40f48a8789980cc2070f",
       "style": "IPY_MODEL_e45c9701e68c47a38fe0ede73a32b28c"
      }
     },
     "fa13cda1d4bd4223a1f784d688a704eb": {
      "model_module": "@jupyter-widgets/controls",
      "model_module_version": "1.2.0",
      "model_name": "HTMLModel",
      "state": {
       "layout": "IPY_MODEL_6e3960560f1b4b829a03cd380f60adac",
       "style": "IPY_MODEL_fa933c956a054f1f8b8d9295d3907500",
       "value": "<i>Markieren Sie <ins>alle</ins> passenden Antworten: </i>"
      }
     },
     "fa28752d3c314659a103a6e55db88981": {
      "model_module": "@jupyter-widgets/controls",
      "model_module_version": "1.2.0",
      "model_name": "ButtonStyleModel",
      "state": {}
     },
     "fa933c956a054f1f8b8d9295d3907500": {
      "model_module": "@jupyter-widgets/controls",
      "model_module_version": "1.2.0",
      "model_name": "DescriptionStyleModel",
      "state": {
       "description_width": ""
      }
     },
     "fab7dbdb562f4993a9181301916fcee3": {
      "model_module": "@jupyter-widgets/controls",
      "model_module_version": "1.2.0",
      "model_name": "HBoxModel",
      "state": {
       "children": [
        "IPY_MODEL_1521058646234a48af8ac67785f1e114",
        "IPY_MODEL_922a279051f449d79cc5e62352779863"
       ],
       "layout": "IPY_MODEL_07131530f4e44de895ed79611b2e644f"
      }
     },
     "fab84733ddb34543b5c08209b312fa0f": {
      "model_module": "@jupyter-widgets/controls",
      "model_module_version": "1.2.0",
      "model_name": "DescriptionStyleModel",
      "state": {
       "description_width": ""
      }
     },
     "fad6c2b1ae944821842d1956b5e6fc6d": {
      "model_module": "@jupyter-widgets/controls",
      "model_module_version": "1.2.0",
      "model_name": "ButtonStyleModel",
      "state": {}
     },
     "fae287b0f92842b3bc182d942cb7029d": {
      "model_module": "@jupyter-widgets/controls",
      "model_module_version": "1.2.0",
      "model_name": "ButtonStyleModel",
      "state": {}
     },
     "fb3006c618c54195969f7ca75a12ba10": {
      "model_module": "@jupyter-widgets/controls",
      "model_module_version": "1.2.0",
      "model_name": "ButtonModel",
      "state": {
       "description": "Keine der anderen Möglichkeiten",
       "layout": "IPY_MODEL_eb014d59820d48afa2d7f23874187694",
       "style": "IPY_MODEL_80fe76dc066048479e1a519cb36a97a0"
      }
     },
     "fb300981b955410ea35b4cccd40dabdc": {
      "model_module": "@jupyter-widgets/base",
      "model_module_version": "1.0.0",
      "model_name": "LayoutModel",
      "state": {
       "justify_content": "center"
      }
     },
     "fb38e0f9c9824f7d980dfe0c8d3b70f4": {
      "model_module": "@jupyter-widgets/controls",
      "model_module_version": "1.2.0",
      "model_name": "DescriptionStyleModel",
      "state": {
       "description_width": ""
      }
     },
     "fb45e1d0252840fa8cf132a10ca31347": {
      "model_module": "@jupyter-widgets/base",
      "model_module_version": "1.0.0",
      "model_name": "LayoutModel",
      "state": {
       "width": "250px"
      }
     },
     "fb4b81e3fa7b48dc8856ccec314d36f0": {
      "model_module": "@jupyter-widgets/controls",
      "model_module_version": "1.2.0",
      "model_name": "CheckboxModel",
      "state": {
       "description": "gleiche Endungen",
       "disabled": false,
       "layout": "IPY_MODEL_7847e6c7707d4690ac00d541f63510ab",
       "style": "IPY_MODEL_658e79f3bc684119b5d15e0e4d7c9c0a",
       "value": false
      }
     },
     "fb4c6152805341a48133735398919e99": {
      "model_module": "@jupyter-widgets/controls",
      "model_module_version": "1.2.0",
      "model_name": "ButtonStyleModel",
      "state": {}
     },
     "fb513d49d8cb4e3db298e9b734ae8c13": {
      "model_module": "@jupyter-widgets/base",
      "model_module_version": "1.0.0",
      "model_name": "LayoutModel",
      "state": {}
     },
     "fbc19b0e47b64e378b21720eaeed8153": {
      "model_module": "@jupyter-widgets/controls",
      "model_module_version": "1.2.0",
      "model_name": "ButtonModel",
      "state": {
       "description": "Korrekt?",
       "layout": "IPY_MODEL_52ccc68479e846cebc3e1cad2d04526a",
       "style": "IPY_MODEL_f416a505dc6a44c2bbfe69c9e79766bd"
      }
     },
     "fbd78049bb4c4971b8ddda4a5ebaa49c": {
      "model_module": "@jupyter-widgets/controls",
      "model_module_version": "1.2.0",
      "model_name": "ButtonStyleModel",
      "state": {}
     },
     "fbff42fd1ddb4cb0837d250230d76e35": {
      "model_module": "@jupyter-widgets/controls",
      "model_module_version": "1.2.0",
      "model_name": "DescriptionStyleModel",
      "state": {
       "description_width": ""
      }
     },
     "fc0db8848cea466ab70f4fff4d511200": {
      "model_module": "@jupyter-widgets/base",
      "model_module_version": "1.0.0",
      "model_name": "LayoutModel",
      "state": {
       "width": "250px"
      }
     },
     "fc220cc8379247969e3dcd258dee2214": {
      "model_module": "@jupyter-widgets/base",
      "model_module_version": "1.0.0",
      "model_name": "LayoutModel",
      "state": {
       "width": "250px"
      }
     },
     "fc8a51882627437282aa97519ff401e9": {
      "model_module": "@jupyter-widgets/base",
      "model_module_version": "1.0.0",
      "model_name": "LayoutModel",
      "state": {}
     },
     "fcaa755f9efc4ce4922f85eeb981d2d0": {
      "model_module": "@jupyter-widgets/base",
      "model_module_version": "1.0.0",
      "model_name": "LayoutModel",
      "state": {
       "width": "250px"
      }
     },
     "fd0bf56be5f5470688ca87a1f4b5a496": {
      "model_module": "@jupyter-widgets/controls",
      "model_module_version": "1.2.0",
      "model_name": "DescriptionStyleModel",
      "state": {
       "description_width": "initial"
      }
     },
     "fd2191e8a92d44988d309d5941d84c79": {
      "model_module": "@jupyter-widgets/controls",
      "model_module_version": "1.2.0",
      "model_name": "ButtonModel",
      "state": {
       "description": "simple past",
       "layout": "IPY_MODEL_2358de3e5a8444978fe7670e02eabb38",
       "style": "IPY_MODEL_e58f25745d8b42d4b568e34e2a9cbe27"
      }
     },
     "fd2fbb21565d4046834e3a50e712a22b": {
      "model_module": "@jupyter-widgets/controls",
      "model_module_version": "1.2.0",
      "model_name": "ButtonModel",
      "state": {
       "description": "simple past",
       "layout": "IPY_MODEL_3a8a411806e848b180248c6b0a05c1a6",
       "style": "IPY_MODEL_e1f6c06355d7424ca912eff55642ea84"
      }
     },
     "fd51975fb75d442c937681c20213d2ec": {
      "model_module": "@jupyter-widgets/controls",
      "model_module_version": "1.2.0",
      "model_name": "HTMLModel",
      "state": {
       "layout": "IPY_MODEL_c2c8d57d46f246d0aaefce5f196ef2f2",
       "style": "IPY_MODEL_f5b3ac8e3d074e55a5177d66c4e406d1",
       "value": "<i>Wählen Sie die <ins>eine</ins> korrekte Antwort aus: </i>"
      }
     },
     "fd678701ed7e461e930e647925532f37": {
      "model_module": "@jupyter-widgets/base",
      "model_module_version": "1.0.0",
      "model_name": "LayoutModel",
      "state": {}
     },
     "fd9537fb60d144828829faf9e7b2b562": {
      "model_module": "@jupyter-widgets/base",
      "model_module_version": "1.0.0",
      "model_name": "LayoutModel",
      "state": {}
     },
     "fd9a1051fa4e4700b922d7e62277f443": {
      "model_module": "@jupyter-widgets/controls",
      "model_module_version": "1.2.0",
      "model_name": "CheckboxModel",
      "state": {
       "description": "Nur mit einem Schritt beginnt auch eine Reise von tausend Meilen.",
       "disabled": false,
       "layout": "IPY_MODEL_b3ff937296f94c1da6817b89b090750c",
       "style": "IPY_MODEL_60222e0c12b0445285b3d11e95b1f0c6",
       "value": false
      }
     },
     "fdae8ad25eda40cfb67247ccf6811111": {
      "model_module": "@jupyter-widgets/controls",
      "model_module_version": "1.2.0",
      "model_name": "DescriptionStyleModel",
      "state": {
       "description_width": ""
      }
     },
     "fdc7fa59e1324582867bde297a3ed1b8": {
      "model_module": "@jupyter-widgets/controls",
      "model_module_version": "1.2.0",
      "model_name": "HBoxModel",
      "state": {
       "children": [
        "IPY_MODEL_22cf14261b234d68987dd9dae310a4c8"
       ],
       "layout": "IPY_MODEL_056ad91d8d674fb1bc3b21679d0e98a3"
      }
     },
     "fdcd4caa057843aa9d901edb21497235": {
      "model_module": "@jupyter-widgets/base",
      "model_module_version": "1.0.0",
      "model_name": "LayoutModel",
      "state": {}
     },
     "fdcee4101b8c434bae50a29054c323cf": {
      "model_module": "@jupyter-widgets/base",
      "model_module_version": "1.0.0",
      "model_name": "LayoutModel",
      "state": {}
     },
     "fdf8901a0f124bdfb051e01296d7e885": {
      "model_module": "@jupyter-widgets/controls",
      "model_module_version": "1.2.0",
      "model_name": "DropdownModel",
      "state": {
       "_options_labels": [
        "POS",
        "POS+Wort+POS",
        "Wort+POS-Tag",
        " "
       ],
       "index": 3,
       "layout": "IPY_MODEL_655278375cf449568b0346f40e5b2b71",
       "style": "IPY_MODEL_0fb21de7ffad4c6786aa0801e3d3fec1"
      }
     },
     "fdfa398e438a45d39f79dbda2078ee20": {
      "model_module": "@jupyter-widgets/controls",
      "model_module_version": "1.2.0",
      "model_name": "DescriptionStyleModel",
      "state": {
       "description_width": "initial"
      }
     },
     "fe0114e0233547709b5b69ce64f169c2": {
      "model_module": "@jupyter-widgets/controls",
      "model_module_version": "1.2.0",
      "model_name": "CheckboxModel",
      "state": {
       "description": "Nur mit beginnt eine Reise von tausend Meilen auch einem Schritt.",
       "disabled": false,
       "layout": "IPY_MODEL_f5b6122bf590467ba80c5d56e2951b40",
       "style": "IPY_MODEL_97d129600c2d4d70a49d3aecc49a4fd2",
       "value": false
      }
     },
     "fe175aedd3094b6aa2c891aaf12bd19c": {
      "model_module": "@jupyter-widgets/controls",
      "model_module_version": "1.2.0",
      "model_name": "ButtonStyleModel",
      "state": {}
     },
     "fe2cd03a497f429e921e940e638d4a16": {
      "model_module": "@jupyter-widgets/controls",
      "model_module_version": "1.2.0",
      "model_name": "VBoxModel",
      "state": {
       "children": [
        "IPY_MODEL_562ba4807239467d8bb097582dc7242d",
        "IPY_MODEL_bf88bfa6bd6c4f44b53ef3069a175bf2",
        "IPY_MODEL_6eb6b6eeff2e49c1b946073c59c30b81",
        "IPY_MODEL_ac77f1c556b9491895efbf08d2a18484",
        "IPY_MODEL_1dd5415d5d3e4f9eba3691f1fca25b17"
       ],
       "layout": "IPY_MODEL_3f2f666f057c4332be09ebab30076935"
      }
     },
     "fe67e792901e47bbb3c8bd78ec3d471d": {
      "model_module": "@jupyter-widgets/base",
      "model_module_version": "1.0.0",
      "model_name": "LayoutModel",
      "state": {
       "width": "600px"
      }
     },
     "fe7543096764425b9ab417d0bf7d3911": {
      "model_module": "@jupyter-widgets/controls",
      "model_module_version": "1.2.0",
      "model_name": "DescriptionStyleModel",
      "state": {
       "description_width": ""
      }
     },
     "febfffc70e48453eba36358f053eafbe": {
      "model_module": "@jupyter-widgets/controls",
      "model_module_version": "1.2.0",
      "model_name": "VBoxModel",
      "state": {
       "children": [
        "IPY_MODEL_8c1808b4306742b3b7d8cabee7952574",
        "IPY_MODEL_bfccfcb639e24318b3d038df9926e46c",
        "IPY_MODEL_ae7d1e85073742049ab7780d7b0b06dd",
        "IPY_MODEL_0bcf069cc9b5487f93c88537ec283d96"
       ],
       "layout": "IPY_MODEL_a31e33c0bb8c48d681a77d10307d16de"
      }
     },
     "fed5e32d87a84906a713a067c3f2539d": {
      "model_module": "@jupyter-widgets/controls",
      "model_module_version": "1.2.0",
      "model_name": "ButtonModel",
      "state": {
       "description": "Keine der anderen Möglichkeiten",
       "layout": "IPY_MODEL_7726acf595bd459695526e1c2d7675c3",
       "style": "IPY_MODEL_d133829141e64ee49f51e75ada11c02c"
      }
     },
     "ff3507530bbb4d728053a99bad68be1b": {
      "model_module": "@jupyter-widgets/controls",
      "model_module_version": "1.2.0",
      "model_name": "CheckboxModel",
      "state": {
       "description": "Koordinationstest",
       "disabled": false,
       "layout": "IPY_MODEL_c6cb77e2543648738ff14d7c2cf72716",
       "style": "IPY_MODEL_4c20f51d335943d8a5f6e33f2f2f9c89",
       "value": false
      }
     },
     "ff6cf44537a34a8caec1231af58da5e5": {
      "model_module": "@jupyter-widgets/controls",
      "model_module_version": "1.2.0",
      "model_name": "HTMLModel",
      "state": {
       "layout": "IPY_MODEL_bb58d19de7544978a06bf23c3a1e0bbb",
       "style": "IPY_MODEL_74a0cfb08977434883483ab6515b2499",
       "value": "<h4 style=\"font-size:14px;\">Was ist der Input eines Part-of-Speech-Taggers?</h4>"
      }
     },
     "ff713eb299594c2993b06716a5fa70b4": {
      "model_module": "@jupyter-widgets/base",
      "model_module_version": "1.0.0",
      "model_name": "LayoutModel",
      "state": {
       "width": "250px"
      }
     },
     "ff938070930c475e9ab11db698e3851c": {
      "model_module": "@jupyter-widgets/controls",
      "model_module_version": "1.2.0",
      "model_name": "HTMLModel",
      "state": {
       "layout": "IPY_MODEL_840b03b0a8ad4dc899d06f0d6e8cd4dc",
       "style": "IPY_MODEL_a0308cccba1946f1a760641ed81a85c8",
       "value": "<h4 style=\"font-size:14px;\">Was bedeutet das Tag <i>VBZ</i> im Browntagset (siehe 5.7)?</h4>"
      }
     },
     "ffaca8b0f4ab4f6c94807a68fc7402aa": {
      "model_module": "@jupyter-widgets/base",
      "model_module_version": "1.0.0",
      "model_name": "LayoutModel",
      "state": {
       "width": "150px"
      }
     },
     "ffc16f8035694b59b037db1d047611cf": {
      "model_module": "@jupyter-widgets/base",
      "model_module_version": "1.0.0",
      "model_name": "LayoutModel",
      "state": {
       "justify_content": "center"
      }
     },
     "ffdf48db894447a2ace2c9869c97f898": {
      "model_module": "@jupyter-widgets/controls",
      "model_module_version": "1.2.0",
      "model_name": "ButtonModel",
      "state": {
       "description": "Folge von Wortklassen",
       "layout": "IPY_MODEL_60ac38c4145e4ac28dfff2c7c89b5eb6",
       "style": "IPY_MODEL_f28fb0a2e788477382874483f2d81267"
      }
     },
     "fff07f60481f4b308b5e58529d649b71": {
      "model_module": "@jupyter-widgets/base",
      "model_module_version": "1.0.0",
      "model_name": "LayoutModel",
      "state": {
       "width": "150px"
      }
     }
    },
    "version_major": 2,
    "version_minor": 0
   }
  }
 },
 "nbformat": 4,
 "nbformat_minor": 2
}
