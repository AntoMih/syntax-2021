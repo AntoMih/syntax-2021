{
 "cells": [
  {
   "cell_type": "markdown",
   "metadata": {},
   "source": [
    "***Vorlesung 'Syntax natürlicher Sprachen'***\n",
    "\n",
    "--- \n",
    "# Intro Vorlesung 4: Phrasenstrukturgrammatiken\n"
   ]
  },
  {
   "cell_type": "code",
   "execution_count": 66,
   "metadata": {},
   "outputs": [],
   "source": [
    "import nltk"
   ]
  },
  {
   "cell_type": "markdown",
   "metadata": {},
   "source": [
    "## Einführungsbeispiel: Umwandlung CFG in X-Bar-Struktur\n"
   ]
  },
  {
   "cell_type": "code",
   "execution_count": 67,
   "metadata": {},
   "outputs": [
    {
     "name": "stdout",
     "output_type": "stream",
     "text": [
      "              S                                  \n",
      "     ┌────────┴────────┐                          \n",
      "     │                 VP                        \n",
      "     │        ┌────────┴───────┐                  \n",
      "     NP       │                NP                \n",
      " ┌───┴───┐    │    ┌───────────┼───────────┐      \n",
      "DET      N    V   DET         ADJ          N     \n",
      " │       │    │    │           │           │      \n",
      "Der     Hund jagt den     schreienden Briefträger\n",
      "\n"
     ]
    }
   ],
   "source": [
    "#vgl. Aufgabe 1, Thema 4, Wiederholungsaufgaben\n",
    "\n",
    "grammar = nltk.CFG.fromstring(\"\"\"\n",
    "    S   -> NP VP\n",
    "    \n",
    "    VP  -> V NP\n",
    " \n",
    "    NP  -> DET N\n",
    "    NP  -> DET ADJ N\n",
    "\n",
    "    DET -> \"Der\" | \"den\"\n",
    "    N   -> \"Hund\" | \"Briefträger\"\n",
    "    ADJ -> \"schreienden\"\n",
    "    V   -> \"jagt\"\n",
    "\"\"\")\n",
    "\n",
    "parser = nltk.ChartParser(grammar,trace=0)\n",
    "\n",
    "sent = 'Der Hund jagt den schreienden Briefträger'.split()\n",
    "\n",
    "for tree in parser.parse(sent):\n",
    "    tree.pretty_print(unicodelines=True)    "
   ]
  },
  {
   "cell_type": "markdown",
   "metadata": {},
   "source": [
    "---\n",
    "\n",
    "## NP-Adjunkt (ADJ)\n",
    "\n",
    "- **Umwandlung in X-Bar-Struktur, um rekursive Erweiterung um Adjektive zu ermöglichen:**\n",
    "\n",
    "*Der Hund jagt den **schreienden schreienden** Briefträger*\n",
    "\n",
    "- **Gleichzeitig sollen Überproduktionen folgender Art vermieden werden:**\n",
    "\n",
    "*Der Hund jagt den schreienden schreienden **den** Briefträger*\n"
   ]
  },
  {
   "cell_type": "code",
   "execution_count": 68,
   "metadata": {
    "scrolled": false
   },
   "outputs": [
    {
     "name": "stdout",
     "output_type": "stream",
     "text": [
      "                   S                                             \n",
      "     ┌─────────────┴───────┐                                      \n",
      "     │                     VP                                    \n",
      "     │        ┌────────────┴───────┐                              \n",
      "     │        │                    NP                            \n",
      "     │        │    ┌───────────────┴───────┐                      \n",
      "     │        │    │                      NOM                    \n",
      "     │        │    │       ┌───────────────┴───────┐              \n",
      "     NP       │    │       │                      NOM            \n",
      " ┌───┴───┐    │    │       │               ┌───────┴───────┐      \n",
      " │      NOM   │    │       │               │              NOM    \n",
      " │       │    │    │       │               │               │      \n",
      "DET      N    V   DET     ADJ             ADJ              N     \n",
      " │       │    │    │       │               │               │      \n",
      "der     Hund jagt den schreienden     schreienden     Briefträger\n",
      "\n"
     ]
    }
   ],
   "source": [
    "#X-Bar mit NP-Adjunkt (ADJ):\n",
    "grammar = nltk.CFG.fromstring(\"\"\"\n",
    "    S   -> NP VP\n",
    "   \n",
    "    VP -> V NP\n",
    "    \n",
    "#NP-SPEZIFIZIERER:    \n",
    "    NP  -> DET NOM\n",
    "#NP-ADJUNKT:\n",
    "    NOM -> ADJ NOM\n",
    "#NP-KOMPLEMENT (leer):\n",
    "    NOM -> N\n",
    " \n",
    "    DET -> \"der\" | \"den\"\n",
    "    N   -> \"Hund\" | \"Briefträger\"\n",
    "    ADJ -> \"schreienden\"\n",
    "    V   -> \"jagt\"\n",
    "\"\"\")\n",
    "\n",
    "parser = nltk.ChartParser(grammar,trace=0)\n",
    "\n",
    "sent = 'der Hund jagt den schreienden schreienden Briefträger'.split()\n",
    "for tree in parser.parse(sent):\n",
    "    tree.pretty_print(unicodelines=True)    "
   ]
  },
  {
   "cell_type": "code",
   "execution_count": 69,
   "metadata": {},
   "outputs": [],
   "source": [
    "#Negativ-Beispiel mit wiederholtem Determinierer (wird nicht erkannt):\n",
    "sent = 'der Hund jagt den schreienden schreienden den Briefträger'.split()\n",
    "for tree in parser.parse(sent):\n",
    "    tree.pretty_print(unicodelines=True)    "
   ]
  },
  {
   "cell_type": "markdown",
   "metadata": {},
   "source": [
    "## NP-Komplement (Genitiv-NP) und VP-Komplement (Objekt-NP)"
   ]
  },
  {
   "cell_type": "code",
   "execution_count": 70,
   "metadata": {},
   "outputs": [
    {
     "name": "stdout",
     "output_type": "stream",
     "text": [
      "                   S                               \n",
      "     ┌─────────────┴───────┐                        \n",
      "     │                     VP                      \n",
      "     │                     │                        \n",
      "     │                   VERBAL                    \n",
      "     │        ┌────────────┴───────┐                \n",
      "     │        │                    NP              \n",
      "     │        │    ┌───────────────┴───┐            \n",
      "     │        │    │                  NOM          \n",
      "     │        │    │       ┌───────────┴───┐        \n",
      "     NP       │    │       │               NP      \n",
      " ┌───┴───┐    │    │       │           ┌───┴────┐   \n",
      " │      NOM   │    │       │           │       NOM \n",
      " │       │    │    │       │           │        │   \n",
      "DET      N    V   DET      N          DET       N  \n",
      " │       │    │    │       │           │        │   \n",
      "der     Hund jagt den Briefträger     der     Stadt\n",
      "\n"
     ]
    }
   ],
   "source": [
    "#X-Bar mit NP-Komplement (Genititv-NP):\n",
    "grammar = nltk.CFG.fromstring(\"\"\"\n",
    "    S   -> NP VP\n",
    "    \n",
    "#VP-SPEZIFIZIERER (leer):   \n",
    "    VP  -> VERBAL \n",
    "#VP-KOMPLEMENT (transitives Verb):    \n",
    "    VERBAL -> V NP\n",
    "        \n",
    "    NP  -> DET NOM\n",
    "    NOM -> ADJ NOM\n",
    "    NOM -> N\n",
    "#neues NP-KOMPLEMENT (Genititv-NP):    \n",
    "    NOM -> N NP\n",
    " \n",
    "    DET -> \"der\" | \"den\"\n",
    "    N   -> \"Hund\" | \"Briefträger\" | \"Stadt\"\n",
    "    ADJ -> \"schreienden\"\n",
    "    V   -> \"jagt\"\n",
    "\"\"\")\n",
    "\n",
    "parser = nltk.ChartParser(grammar,trace=0)\n",
    "\n",
    "sent = 'der Hund jagt den Briefträger der Stadt'.split()\n",
    "for tree in parser.parse(sent):\n",
    "    tree.pretty_print(unicodelines=True)    "
   ]
  },
  {
   "cell_type": "code",
   "execution_count": 71,
   "metadata": {},
   "outputs": [
    {
     "name": "stdout",
     "output_type": "stream",
     "text": [
      "         S                                                            \n",
      "     ┌───┴──────────┐                                                  \n",
      "     │              VP                                                \n",
      "     │              │                                                  \n",
      "     │            VERBAL                                              \n",
      "     │        ┌─────┴─────────────────┐                                \n",
      "     │        │                       NP                              \n",
      "     │        │     ┌─────────────────┴────┐                           \n",
      "     │        │     │                     NOM                         \n",
      "     │        │     │         ┌────────────┴────┐                      \n",
      "     │        │     │         │                 NP                    \n",
      "     │        │     │         │       ┌─────────┴───┐                  \n",
      "     │        │     │         │       │            NOM                \n",
      "     │        │     │         │       │    ┌────────┴───┐              \n",
      "     NP       │     │         │       │    │            NP            \n",
      " ┌───┴───┐    │     │         │       │    │        ┌───┴───────┐      \n",
      " │      NOM   │     │         │       │    │        │          NOM    \n",
      " │       │    │     │         │       │    │        │           │      \n",
      "DET      N    V    DET        N      DET   N       DET          N     \n",
      " │       │    │     │         │       │    │        │           │      \n",
      "der     Hund jagt  den   Briefträger der Stadt     der     Briefträger\n",
      "\n"
     ]
    }
   ],
   "source": [
    "#Beispiel mit verschachtelten Genitiv-NPs:\n",
    "sent = 'der Hund jagt den Briefträger der Stadt der Briefträger'.split()\n",
    "\n",
    "for tree in parser.parse(sent):\n",
    "    tree.pretty_print(unicodelines=True)    "
   ]
  },
  {
   "cell_type": "markdown",
   "metadata": {},
   "source": [
    "## mehr VP-Komplemente (Objekt und indirektes Objekt)\n",
    "\n",
    "- 2 Analysen (Ambiguität):\n",
    "   - *der*: Genitiv (NP-Komplement) oder Dativ (VP-Komplement)!\n",
    "   - beide Analysen linguistisch möglich (*übergeben* kann sowohl ditransitiv als auch transitiv verwendet werden)"
   ]
  },
  {
   "cell_type": "code",
   "execution_count": 72,
   "metadata": {},
   "outputs": [
    {
     "name": "stdout",
     "output_type": "stream",
     "text": [
      "2\n",
      "                              S                          \n",
      "     ┌────────────────────────┴────────┐                  \n",
      "     │                                 VP                \n",
      "     │                                 │                  \n",
      "     │                               VERBAL              \n",
      "     │                 ┌──────────┬────┴─────────┐        \n",
      "     NP                │          NP             NP      \n",
      " ┌───┴───────┐         │      ┌───┴────┐     ┌───┴────┐   \n",
      " │          NOM        │      │       NOM    │       NOM \n",
      " │           │         │      │        │     │        │   \n",
      "DET          N         V     DET       N    DET       N  \n",
      " │           │         │      │        │     │        │   \n",
      "der     Briefträger übergibt den      Hund  der     Stadt\n",
      "\n",
      "                              S                          \n",
      "     ┌────────────────────────┴────┐                      \n",
      "     │                             VP                    \n",
      "     │                             │                      \n",
      "     │                           VERBAL                  \n",
      "     │                 ┌───────────┴─────┐                \n",
      "     │                 │                 NP              \n",
      "     │                 │      ┌──────────┴───┐            \n",
      "     │                 │      │             NOM          \n",
      "     │                 │      │    ┌─────────┴───┐        \n",
      "     NP                │      │    │             NP      \n",
      " ┌───┴───────┐         │      │    │         ┌───┴────┐   \n",
      " │          NOM        │      │    │         │       NOM \n",
      " │           │         │      │    │         │        │   \n",
      "DET          N         V     DET   N        DET       N  \n",
      " │           │         │      │    │         │        │   \n",
      "der     Briefträger übergibt den  Hund      der     Stadt\n",
      "\n"
     ]
    }
   ],
   "source": [
    "#X-Bar:\n",
    "grammar = nltk.CFG.fromstring(\"\"\"\n",
    "    S   -> NP VP\n",
    "    \n",
    "    VP  -> VERBAL \n",
    "    VERBAL -> V NP\n",
    "#neue VP-KOMPLEMENT-Regel (ditransitives Verb: 2 Komplemente):        \n",
    "    VERBAL -> V NP NP\n",
    "\n",
    "\n",
    "    NP  -> DET NOM\n",
    "    NOM -> ADJ NOM\n",
    "    NOM -> N\n",
    "    NOM -> N NP\n",
    " \n",
    "    DET -> \"der\" | \"den\"\n",
    "    N   -> \"Hund\" | \"Briefträger\" | \"Stadt\"\n",
    "    ADJ -> \"schreienden\"\n",
    "    V   -> \"jagt\" | \"übergibt\"\n",
    "\"\"\")\n",
    "\n",
    "parser = nltk.ChartParser(grammar,trace=0)\n",
    "\n",
    "sent = 'der Briefträger übergibt den Hund der Stadt'.split()\n",
    "\n",
    "print(len(list(parser.parse(sent))))\n",
    "\n",
    "for tree in parser.parse(sent):\n",
    "    tree.pretty_print(unicodelines=True)    "
   ]
  },
  {
   "cell_type": "markdown",
   "metadata": {},
   "source": [
    "## VP-Adjunkt (NP=Kasusadverbial) und intransitive Verben\n",
    "\n",
    "- führt zu Überproduktion (Analyse als Komplement von intransitivem Verb: falsch)"
   ]
  },
  {
   "cell_type": "code",
   "execution_count": 73,
   "metadata": {},
   "outputs": [
    {
     "name": "stdout",
     "output_type": "stream",
     "text": [
      "2\n",
      "                      S                             \n",
      "     ┌────────────────┴──────────┐                   \n",
      "     │                           VP                 \n",
      "     │                           │                   \n",
      "     │                         VERBAL               \n",
      "     │                ┌──────────┴──────┐            \n",
      "     │                │                 NP          \n",
      "     │                │     ┌───────────┴─────┐      \n",
      "     NP               │     │                NOM    \n",
      " ┌───┴───────┐        │     │           ┌─────┴───┐  \n",
      " │          NOM     VERBAL  │           │        NOM\n",
      " │           │        │     │           │         │  \n",
      "DET          N        V    DET         ADJ        N \n",
      " │           │        │     │           │         │  \n",
      "der     Briefträger läuft  den        ganzen     Tag\n",
      "\n",
      "                      S                            \n",
      "     ┌────────────────┴─────────┐                   \n",
      "     │                          VP                 \n",
      "     │                          │                   \n",
      "     │                        VERBAL               \n",
      "     │                ┌─────────┴──────┐            \n",
      "     │                │                NP          \n",
      "     │                │    ┌───────────┴─────┐      \n",
      "     NP               │    │                NOM    \n",
      " ┌───┴───────┐        │    │           ┌─────┴───┐  \n",
      " │          NOM       │    │           │        NOM\n",
      " │           │        │    │           │         │  \n",
      "DET          N        V   DET         ADJ        N \n",
      " │           │        │    │           │         │  \n",
      "der     Briefträger läuft den        ganzen     Tag\n",
      "\n"
     ]
    }
   ],
   "source": [
    "#X-Bar:\n",
    "grammar = nltk.CFG.fromstring(\"\"\"\n",
    "    S   -> NP VP\n",
    "    \n",
    "    VP  -> VERBAL \n",
    "    VERBAL -> V NP\n",
    "    VERBAL -> V NP NP\n",
    "#neue VP-KOMPLEMENT-Regel für intransitiv (leer):        \n",
    "    VERBAL -> V\n",
    "#neues VP-ADJUNKT (NP als Kasusadverbial):        \n",
    "    VERBAL -> VERBAL NP\n",
    "\n",
    "    NP  -> DET NOM\n",
    "    NOM -> ADJ NOM\n",
    "    NOM -> N    \n",
    "    NOM -> N NP\n",
    " \n",
    "    DET -> \"der\" | \"den\"\n",
    "    N   -> \"Hund\" | \"Briefträger\" | \"Stadt\" | \"Tag\"\n",
    "    ADJ -> \"schreienden\" | \"ganzen\"\n",
    "    V   -> \"jagt\" | \"läuft\" | \"übergibt\"\n",
    "\"\"\")\n",
    "\n",
    "parser = nltk.ChartParser(grammar,trace=0)\n",
    "sent = 'der Briefträger läuft den ganzen Tag'.split()\n",
    "\n",
    "\n",
    "print(len(list(parser.parse(sent))))\n",
    "\n",
    "for tree in parser.parse(sent):\n",
    "    tree.pretty_print(unicodelines=True)    \n"
   ]
  },
  {
   "cell_type": "markdown",
   "metadata": {},
   "source": [
    "#### mögliche Lösung für Überproduktion: Kategorienerweiterung\n",
    "- Einführung differenzierender Nonterminale im V-Bereich"
   ]
  },
  {
   "cell_type": "code",
   "execution_count": 74,
   "metadata": {},
   "outputs": [
    {
     "name": "stdout",
     "output_type": "stream",
     "text": [
      "1\n",
      "                      S                             \n",
      "     ┌────────────────┴──────────┐                   \n",
      "     │                           VP                 \n",
      "     │                           │                   \n",
      "     │                         VERBAL               \n",
      "     │                ┌──────────┴──────┐            \n",
      "     │                │                 NP          \n",
      "     │                │     ┌───────────┴─────┐      \n",
      "     NP               │     │                NOM    \n",
      " ┌───┴───────┐        │     │           ┌─────┴───┐  \n",
      " │          NOM     VERBAL  │           │        NOM\n",
      " │           │        │     │           │         │  \n",
      "DET          N        IV   DET         ADJ        N \n",
      " │           │        │     │           │         │  \n",
      "der     Briefträger läuft  den        ganzen     Tag\n",
      "\n"
     ]
    }
   ],
   "source": [
    "#X-Bar:\n",
    "grammar = nltk.CFG.fromstring(\"\"\"\n",
    "    S   -> NP VP\n",
    "    \n",
    "    VP  -> VERBAL \n",
    "#Verwendung neuer PRAETERMINALE:\n",
    "    VERBAL -> TV NP\n",
    "    VERBAL -> DTV NP NP\n",
    "    VERBAL -> IV\n",
    "    VERBAL -> VERBAL NP\n",
    "\n",
    "    NP  -> DET NOM\n",
    "    NOM -> ADJ NOM\n",
    "    NOM -> N\n",
    "    NOM -> N NP\n",
    " \n",
    "    DET -> \"der\" | \"den\"\n",
    "    N   -> \"Hund\" | \"Briefträger\" | \"Stadt\" | \"Tag\"\n",
    "    ADJ -> \"schreienden\" | \"ganzen\"\n",
    "#neue POS-PRAETERMINALE (Subdifferenzierung V):\n",
    "    IV   -> \"läuft\"\n",
    "    TV   -> \"jagt\"\n",
    "    DTV -> \"übergibt\"\n",
    "\"\"\")\n",
    "\n",
    "parser = nltk.ChartParser(grammar,trace=0)\n",
    "\n",
    "sent = 'der Briefträger läuft den ganzen Tag'.split()\n",
    "\n",
    "print(len(list(parser.parse(sent))))\n",
    "\n",
    "for tree in parser.parse(sent):\n",
    "    tree.pretty_print(unicodelines=True)"
   ]
  },
  {
   "cell_type": "code",
   "execution_count": 75,
   "metadata": {},
   "outputs": [
    {
     "name": "stdout",
     "output_type": "stream",
     "text": [
      "                              S                          \n",
      "     ┌────────────────────────┴────────┐                  \n",
      "     │                                 VP                \n",
      "     │                                 │                  \n",
      "     │                               VERBAL              \n",
      "     │                 ┌──────────┬────┴─────────┐        \n",
      "     NP                │          NP             NP      \n",
      " ┌───┴───────┐         │      ┌───┴────┐     ┌───┴────┐   \n",
      " │          NOM        │      │       NOM    │       NOM \n",
      " │           │         │      │        │     │        │   \n",
      "DET          N        DTV    DET       N    DET       N  \n",
      " │           │         │      │        │     │        │   \n",
      "der     Briefträger übergibt den      Hund  der     Stadt\n",
      "\n"
     ]
    }
   ],
   "source": [
    "# durch Festlegung 'übergibt' als DTV: auch Auflösung Ambiguität von oben:\n",
    "sent = 'der Briefträger übergibt den Hund der Stadt'.split()\n",
    "for tree in parser.parse(sent):\n",
    "    tree.pretty_print(unicodelines=True)"
   ]
  },
  {
   "cell_type": "markdown",
   "metadata": {},
   "source": [
    "## VP-Spezifizierer (AUX) mit Zusatzregel für invertiertes Komplement:\n"
   ]
  },
  {
   "cell_type": "code",
   "execution_count": 77,
   "metadata": {},
   "outputs": [
    {
     "name": "stdout",
     "output_type": "stream",
     "text": [
      "1\n",
      "                     S                          \n",
      "     ┌───────────────┴───────┐                   \n",
      "     │                       VP                 \n",
      "     │               ┌───────┴────┐              \n",
      "     │               │          VERBAL          \n",
      "     │               │       ┌────┴────────┐     \n",
      "     NP              │       NP            │    \n",
      " ┌───┴───────┐       │   ┌───┴────┐        │     \n",
      " │          NOM      │   │       NOM       │    \n",
      " │           │       │   │        │        │     \n",
      "DET          N      AUX DET       N        V    \n",
      " │           │       │   │        │        │     \n",
      "der     Briefträger hat den      Hund  übergeben\n",
      "\n"
     ]
    }
   ],
   "source": [
    "#X-Bar (ausgehend von Grammatik ohne IV/TV/DTV-Differenzierung):\n",
    "grammar = nltk.CFG.fromstring(\"\"\"\n",
    "    S   -> NP VP\n",
    "    \n",
    "    VP  -> VERBAL \n",
    "    VERBAL -> V NP\n",
    "    VERBAL -> V NP NP\n",
    "#neuer VP-SPEZIFIZIERER (Auxiliar):        \n",
    "    VP -> AUX VERBAL\n",
    "#neue VP-KOMPLEMENT-REGEL mit invertierter Wortstellung: \n",
    "    VERBAL -> NP V\n",
    "\n",
    "    NP  -> DET NOM\n",
    "    NOM -> ADJ NOM\n",
    "    NOM -> N\n",
    "    NOM -> N NP\n",
    " \n",
    "    DET -> \"der\" | \"den\"\n",
    "    N   -> \"Hund\" | \"Briefträger\" | \"Stadt\"\n",
    "    ADJ -> \"schreienden\"\n",
    "    V   -> \"jagt\" | \"übergibt\"\n",
    "#neue lexikalische Regeln für AUX:\n",
    "    AUX -> \"hat\"\n",
    "    V -> \"übergeben\"\n",
    "\"\"\")\n",
    "\n",
    "parser = nltk.ChartParser(grammar,trace=0)\n",
    "\n",
    "sent = 'der Briefträger hat den Hund übergeben'.split()\n",
    "\n",
    "print(len(list(parser.parse(sent))))\n",
    "\n",
    "for tree in parser.parse(sent):\n",
    "    tree.pretty_print(unicodelines=True)    "
   ]
  }
 ],
 "metadata": {
  "kernelspec": {
   "display_name": "Python 3",
   "language": "python",
   "name": "python3"
  },
  "language_info": {
   "codemirror_mode": {
    "name": "ipython",
    "version": 3
   },
   "file_extension": ".py",
   "mimetype": "text/x-python",
   "name": "python",
   "nbconvert_exporter": "python",
   "pygments_lexer": "ipython3",
   "version": "3.6.1"
  },
  "widgets": {
   "application/vnd.jupyter.widget-state+json": {
    "state": {
     "098dd75f65594c0f992ddeffeb8523e3": {
      "model_module": "@jupyter-widgets/controls",
      "model_module_version": "1.2.0",
      "model_name": "SliderStyleModel",
      "state": {
       "description_width": ""
      }
     },
     "0ccfa5129ab64950adda077f6ac8f44a": {
      "model_module": "@jupyter-widgets/controls",
      "model_module_version": "1.2.0",
      "model_name": "IntSliderModel",
      "state": {
       "layout": "IPY_MODEL_641f3cf31a334ee6810a9a92f93e89a7",
       "style": "IPY_MODEL_63aadafcc3504a3b8b15fdea9d4ec244",
       "value": 50
      }
     },
     "1b37a149a74c40c68d34c61b481048f8": {
      "model_module": "@jupyter-widgets/base",
      "model_module_version": "1.0.0",
      "model_name": "LayoutModel",
      "state": {}
     },
     "367694b2ecc94715a20952236f9ced88": {
      "model_module": "@jupyter-widgets/base",
      "model_module_version": "1.0.0",
      "model_name": "LayoutModel",
      "state": {}
     },
     "3d6ebd239fc84a8e95b3007988e38134": {
      "model_module": "@jupyter-widgets/controls",
      "model_module_version": "1.2.0",
      "model_name": "SliderStyleModel",
      "state": {
       "description_width": ""
      }
     },
     "63aadafcc3504a3b8b15fdea9d4ec244": {
      "model_module": "@jupyter-widgets/controls",
      "model_module_version": "1.2.0",
      "model_name": "SliderStyleModel",
      "state": {
       "description_width": ""
      }
     },
     "641f3cf31a334ee6810a9a92f93e89a7": {
      "model_module": "@jupyter-widgets/base",
      "model_module_version": "1.0.0",
      "model_name": "LayoutModel",
      "state": {}
     },
     "993ec756027845c19085347ca5f9f6ce": {
      "model_module": "@jupyter-widgets/controls",
      "model_module_version": "1.2.0",
      "model_name": "SliderStyleModel",
      "state": {
       "description_width": ""
      }
     },
     "bb743dc2dd2d4bb08dd2c5255e1d87c6": {
      "model_module": "@jupyter-widgets/controls",
      "model_module_version": "1.2.0",
      "model_name": "SliderStyleModel",
      "state": {
       "description_width": ""
      }
     },
     "cb4a4abdac584f78ac3b37579ac33b10": {
      "model_module": "@jupyter-widgets/controls",
      "model_module_version": "1.2.0",
      "model_name": "IntSliderModel",
      "state": {
       "layout": "IPY_MODEL_f25c2eb22704411b9981f8047a2c0182",
       "style": "IPY_MODEL_993ec756027845c19085347ca5f9f6ce",
       "value": 50
      }
     },
     "cfbb8ba5969a49e18a1733c50e6b73e4": {
      "model_module": "@jupyter-widgets/controls",
      "model_module_version": "1.2.0",
      "model_name": "IntSliderModel",
      "state": {
       "layout": "IPY_MODEL_1b37a149a74c40c68d34c61b481048f8",
       "style": "IPY_MODEL_3d6ebd239fc84a8e95b3007988e38134",
       "value": 50
      }
     },
     "da2e37629b7141b8a194c275f89ccef5": {
      "model_module": "@jupyter-widgets/base",
      "model_module_version": "1.0.0",
      "model_name": "LayoutModel",
      "state": {}
     },
     "eafa48b852af4f40b414b8d4f0b90c7a": {
      "model_module": "@jupyter-widgets/controls",
      "model_module_version": "1.2.0",
      "model_name": "IntSliderModel",
      "state": {
       "layout": "IPY_MODEL_da2e37629b7141b8a194c275f89ccef5",
       "style": "IPY_MODEL_bb743dc2dd2d4bb08dd2c5255e1d87c6"
      }
     },
     "f196171317cf493fabedf854f59c1d44": {
      "model_module": "@jupyter-widgets/controls",
      "model_module_version": "1.2.0",
      "model_name": "IntSliderModel",
      "state": {
       "layout": "IPY_MODEL_367694b2ecc94715a20952236f9ced88",
       "style": "IPY_MODEL_098dd75f65594c0f992ddeffeb8523e3"
      }
     },
     "f25c2eb22704411b9981f8047a2c0182": {
      "model_module": "@jupyter-widgets/base",
      "model_module_version": "1.0.0",
      "model_name": "LayoutModel",
      "state": {}
     }
    },
    "version_major": 2,
    "version_minor": 0
   }
  }
 },
 "nbformat": 4,
 "nbformat_minor": 2
}
