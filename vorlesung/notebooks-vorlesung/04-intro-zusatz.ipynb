{
 "cells": [
  {
   "cell_type": "markdown",
   "metadata": {},
   "source": [
    "***Vorlesung 'Syntax natürlicher Sprachen'***\n",
    "\n",
    "--- \n",
    "# \\**Zusatz Vorlesung 4: Phrasen- und CFG-Regeltypen sowie weitere Beispiele*\n"
   ]
  },
  {
   "cell_type": "code",
   "execution_count": 1,
   "metadata": {},
   "outputs": [],
   "source": [
    "import nltk"
   ]
  },
  {
   "cell_type": "markdown",
   "metadata": {},
   "source": [
    "\n",
    "## 1 Phrasenstrukturgrammatik als Erweiterungsregeln\n",
    "\n",
    "\n",
    "---\n",
    "\n",
    "### Phrasen: Erweiterungen um Kopf (*bottom-up*):\n",
    "- phrasenbildende Wortarten (im Deutschen): `V, N, P, ADJ, ADV`\n",
    "- Phrasentypen: **`VP, NP, PP, ADJP, ADVP`**\n",
    "- Erweiterung um: \n",
    "    - *lexikalische Kategorien*: `ADJP -> `*`PART`*` ADJ`\n",
    "    - *Phrasen*: `NP -> NP `*`PP`*"
   ]
  },
  {
   "cell_type": "markdown",
   "metadata": {},
   "source": [
    "---\n",
    "\n",
    "### Satzglieder als Hauptkonstituenten des Satzes (***top-down***)\n",
    "\n",
    "*Syntaktische Funktionen der Satzglieder: **Prädikat, Subjekt, Objekt, Adverbial***\n",
    "\n",
    "\n",
    "#### `VP` und `NP` als *prototypische Realisierungen* der zentralen Satzfunktionen (Satzglieder):\n",
    "- `S` (Satz): Prädikat (`VP`) + Subjekt (`NP`)\n",
    "    - semantisch: `VP` = Ereignis/Sachverhalt, `NP` = Objekt/Gegenstand \n",
    "- `VP`: besteht aus Verb + dessen Argumente (`NP`-*Komplemente*) + optionale Erweiterungen (*Adjunkte*)\n",
    "\n",
    "\n",
    "- Regeln für Subjekt-Prädikat:\n",
    "`S -> NP VP | SBAR VP`  (Beispiele siehe unten: 3.)\n",
    "\n",
    "- Regeln für VP-Komplemente (primär Objekte):\n",
    "`VP -> V | V NP | V NP NP | V PP | V SBAR`\n",
    "\n",
    "- Regeln für VP-Adjunkte (Adverbiale):\n",
    "`VP -> VP ADVP | VP PP` (noch kein X-Bar-Schema!)\n",
    "\n"
   ]
  },
  {
   "cell_type": "markdown",
   "metadata": {},
   "source": [
    "---\n",
    "\n",
    "### Zwei Erweiterungstypen: Komplemente und Adjunkte \n",
    "\n",
    "- **Komplemente: *notwendige, vom Kopf geforderte Erweiterungen*** (Auftreten und Form valenzgefordert)\n",
    "    - ***prototypische Realisierung*** durch:\n",
    "      - `NP` für Objekt(e), Subjekt (gefordert vom Verb `V` bzw. vom Satz `S`)\n",
    "- **Adjunkte: *optionale Erweiterungen (sog. Modifikatoren; syntaktische Funktion: Adverbiale)***\n",
    "    - ***prototypische Realisierung*** durch:\n",
    "      - `PP` (semantisch: Relationierung Objekt/Sachverhalt mit Objekt; Erweiterung `NP` oder `VP`)\n",
    "      - `ADVP` (semantisch: Umstände eines Sachverhalts; Erweiterung `VP`)\n",
    "      - `ADJP` (semantisch: Eigenschaft von Objekt/Sachverhalt; Erweiterung `NP`)\n"
   ]
  },
  {
   "cell_type": "markdown",
   "metadata": {},
   "source": [
    "---\n",
    "\n",
    "## 2. Typen von Erweiterungsregeln (Komplement- vs. Adjunkt vs. Spezifizierer-Regeln)\n",
    "\n",
    "\n",
    "*unterschiedliche Regelschemata für die verschiedenen Erweiterungstypen:*\n",
    "\n",
    "- **Komplement: *Anzahl und Art/Form von Kopf (X) gefordert* (0 / 1 / 2 /... Komplemente): `XP -> X KOMPLEMENT`**\n",
    "    - Komplement-Regel bestimmt Anzahl und Art der Erweiterungen (Phrasentyp, z.B. `PP` oder `NP`)\n",
    "    - Position im Strukturbaum: kopfnah (bildet mit Kopf Kernphrase `X'`)\n",
    "    - **X-BAR: `X' -> X KOMPLEMENT`**, z.B.:\n",
    "        - `VERBAL/V' -> V NP` (transitive Verben wie *jmd. sehen*)\n",
    "        - `VERBAL/V' -> V NP NP` (ditransitives Verben wie *jmd. etwas geben*)\n",
    "\n",
    "\n",
    "- **Adjunkt: *beliebige Anzahl, Art/Form unabhängig von Kopf (=Modifikator)*: `XP -> XP ADJUNKT`**\n",
    "    - rekursive Adjunkt-Regel für 0-n Erweiterungen\n",
    "    - Position im Strukturbaum: an Kernphrase (Kopf + Komplemente) angehängt\n",
    "    - also: rekursive Erweiterungen der Kernphrase (`X'`)\n",
    "    - **X-BAR: `X' -> X' ADJUNKT`**, z.B.:\n",
    "        - `VERBAL/V' -> VERBAL/V' PP` (durch Wiederholung rekursive Adjunktion einer PP: *läuft im Park in München*)\n",
    "\n",
    "\n",
    "---\n",
    "\n",
    "- X-Bar: **Komplement-Adjunkt**-Unterscheidung anhand **Strukturposition** \n",
    "    - schrittweise (binäre) Erweiterungsregeln \n",
    "    - `X'`(X-Bar) als phrasale Zwischenebene für Adjunkt-Erweiterung:\n",
    "        - `NOM` = nominale Zwischenebene\n",
    "        - `VERBAL`= verbale Zwischenebene\n",
    "\n",
    "    - Komplementregeln, u.a.: `VERBAL -> V NP` (transitives Verb: 1 Komplement, Phrasentyp des Komplements: NP)\n",
    "        - **`VERBAL` (ebenso `NOM`) ist Eltern-Knoten, der Kopf (hier `V`) ist Geschwisterknoten des Komplements\n",
    "        - Kernphrase**\n",
    "\n",
    "    - rekursive Adjunktregeln, u.a.: `NOM -> NOM PP`, `NOM -> NOM SREL`, `VERBAL -> VERBAL PP`\n",
    "        - **`NOM/VERBAL` ist Geschwister- sowie Eltern-Knoten des Adjunkts**\n",
    "\n",
    "\n",
    "---\n",
    "### weiterer Erweiterungstyp: Spezifizierer\n",
    "\n",
    "- im X-Bar-Regel-Schema ist noch eine Regel für den Phrasenabschluss notwendig\n",
    "    - z.B. `VP -> VERBAL`\n",
    "- insbesondere bei NP kann hier noch eine phrasenabschließende Erweiterung hinzukommen = **Spezifizierer**\n",
    "\n",
    "---\n",
    "\n",
    "- **Spezifizierer: *Anzahl: 0-1, Art/Form abhängig von Kopf*: `XP -> X' SPEZIFIZIERER`**\n",
    "    - z.B. `VP -> VERBAL/V' AUX`, `NP -> DET NOM/N'`\n",
    "    - Spezifizierer-Regel für 0-1 Erweiterungen\n",
    "    - Position im Strukturbaum: phrasenabschließend (unterhalb Phrasenknoten)\n",
    "    - also: Erweiterung des um Komplemente und Adjunkte erweiterten Kopfes\n",
    "    - z.B.: `NP -> DET NOM`\n",
    "    - **`NP` ist Eltern-Knoten, die (evtl. um Adjunkte erweiterte) `NOM`-Kernphrase ist Geschwisterknoten des Spezifizierers**\n"
   ]
  },
  {
   "cell_type": "markdown",
   "metadata": {},
   "source": [
    "---\n",
    "\n",
    "## 3. Realisierungstypen der verschiedenen Erweiterungen\n",
    "\n",
    "*Verschiedene Phrasentypen können jeweils Erweiterungen sein:*\n",
    "\n",
    "\n",
    "--- \n",
    "\n",
    "### S-Komplemente:\n",
    "\n",
    "#### Subjekt:\n",
    "\n",
    "- `NP`: *(der Hund) läuft*\n",
    "- `SBAR`: *(wer anderen eine Grube gräbt,) fällt selbst hinein* (= Subjektsatz)\n",
    "\n",
    "\n",
    "#### Prädikat:\n",
    "- `VP`: *er (läuft nach Hause)*\n"
   ]
  },
  {
   "cell_type": "markdown",
   "metadata": {},
   "source": [
    "\n",
    "---\n",
    "\n",
    "### VP- und NP-Komplemente:\n",
    "\n",
    "#### `VP-Komplemente` (Funktion: Objekt, z.T. auch Adverbial):\n",
    "  - `NP`: *sieht (den Hund)*\n",
    "  - `PP`: *glaubt (an Geister)* (= Präpositionalobjekt)\n",
    "    - **SONDERFALL: *adverbiales Komplement***: *stellt (auf/neben den Tisch)* \n",
    "        - Form nicht vom Verb gefordert, aber Auftreten einer adverbialen Näherbestimmung notwendig\n",
    "  - `SBAR`: *glaubt (, dass es Geister gibt)* (= Objektsatz)\n"
   ]
  },
  {
   "cell_type": "markdown",
   "metadata": {},
   "source": [
    "\n",
    "\n",
    "#### `NP-Komplemente` (bei deverbalen Substantiven):\n",
    "  - `Genititv-NP`: *das Heulen (des Motors)*; *der Beweis (des Theorems)*\n",
    "\n"
   ]
  },
  {
   "cell_type": "markdown",
   "metadata": {},
   "source": [
    "\n",
    "---\n",
    "\n",
    "\n",
    "### VP- und NP-Adjunkte:\n",
    "\n",
    "#### `VP-Adjunkte` (Funktion: Adverbial): \n",
    "  - `PP`: *läuft (im Park)*\n",
    "  - `ADVP`: *läuft (gerne)*\n",
    "  - `ADJP`: *läuft (schnell)*\n",
    "  - `NP`: *läuft (den ganzen Tag)* (= Kasusadverbial)\n",
    "\n"
   ]
  },
  {
   "cell_type": "markdown",
   "metadata": {},
   "source": [
    "\n",
    "#### `NP-Adjunkte` (Attribute, nominale Modifizierer):\n",
    "  - `ADJP`: *(sehr großer) Hund*\n",
    "  - `PP`: *Hund (im Park)*\n",
    "  - `NP`: *Hund (Brutus)* (= enge Apposition)\n",
    "  - `Genitiv-NP`: *Hund (des Mannes)* (= Genitiv-NP)\n",
    "  - `DET`: *(der) Hund*\n",
    "  - `SREL`: *Hund (, der läuft)*\n"
   ]
  },
  {
   "cell_type": "markdown",
   "metadata": {},
   "source": [
    "\n",
    "---\n",
    "\n",
    "\n",
    "### VP- und NP-Spezifizierer:\n",
    "\n",
    "#### `VP-Spezifizierer` : \n",
    "  - `AUX`: *(hat) den Hund gesehen*\n",
    "\n",
    "\n",
    "#### `NP-Spezifizierer`: \n",
    "  - `DET`:\n",
    "      - `ART`: *(der/ein) Hund*\n",
    "      - `pronominaler DET`: *(kein/dieser) Hund*, *(alle/irgendwelche) Hunde*\n",
    "      - `Possessiv-DET`: *(mein) Hund* \n",
    "  - `NUM`: *(vier) Hunde*\n",
    "  - `sächsicher Genitiv`: *(seines Glückes) Schmied*\n",
    "\n"
   ]
  },
  {
   "cell_type": "markdown",
   "metadata": {},
   "source": [
    "---\n",
    "\n",
    "## 4. Beispiele (Regeltypen und Realisierungstypen für die unterschiedlichen Erweiterungen) \n",
    "\n",
    "--- \n",
    "\n",
    "### 4.1 NP-Adjunkte:"
   ]
  },
  {
   "cell_type": "code",
   "execution_count": 2,
   "metadata": {},
   "outputs": [],
   "source": [
    "## PPs als NP-Adjunkte:\n",
    "grammar = nltk.CFG.fromstring(\"\"\"\n",
    "    NP -> NOM\n",
    "#NP-Adjunkt-Regel:    \n",
    "    NOM -> NOM PP\n",
    "    NOM -> N\n",
    "\n",
    "    PP -> P NP\n",
    "\n",
    "###LEXIKALISCHE REGELN:    \n",
    "    N -> \"Franz\" | \"München\" | \"Bayern\"\n",
    "    P ->  \"aus\" | \"in\"\n",
    "\"\"\")\n",
    "\n",
    "parser = nltk.ChartParser(grammar,trace=0)"
   ]
  },
  {
   "cell_type": "code",
   "execution_count": 3,
   "metadata": {},
   "outputs": [
    {
     "name": "stdout",
     "output_type": "stream",
     "text": [
      "                 NP                 \n",
      "                 │                   \n",
      "                NOM                 \n",
      "       ┌─────────┴─────────┐         \n",
      "      NOM                  │        \n",
      "  ┌────┴───┐               │         \n",
      "  │        PP              PP       \n",
      "  │    ┌───┴─────┐     ┌───┴────┐    \n",
      "  │    │         NP    │        NP  \n",
      "  │    │         │     │        │    \n",
      " NOM   │        NOM    │       NOM  \n",
      "  │    │         │     │        │    \n",
      "  N    P         N     P        N   \n",
      "  │    │         │     │        │    \n",
      "Franz aus     München  in     Bayern\n",
      "\n",
      "             NP                     \n",
      "             │                       \n",
      "            NOM                     \n",
      "  ┌──────────┴─────┐                 \n",
      "  │                PP               \n",
      "  │    ┌───────────┴───┐             \n",
      "  │    │               NP           \n",
      "  │    │               │             \n",
      "  │    │              NOM           \n",
      "  │    │     ┌─────────┴───┐         \n",
      "  │    │     │             PP       \n",
      "  │    │     │         ┌───┴────┐    \n",
      "  │    │     │         │        NP  \n",
      "  │    │     │         │        │    \n",
      " NOM   │    NOM        │       NOM  \n",
      "  │    │     │         │        │    \n",
      "  N    P     N         P        N   \n",
      "  │    │     │         │        │    \n",
      "Franz aus München      in     Bayern\n",
      "\n"
     ]
    }
   ],
   "source": [
    "sent = 'Franz aus München in Bayern'.split()\n",
    "for tree in parser.parse(sent):\n",
    "    tree.pretty_print(unicodelines=True)    "
   ]
  },
  {
   "cell_type": "markdown",
   "metadata": {},
   "source": [
    "---\n",
    "\n",
    "### 4. 2 VP-Komplemente vs. VP-Adjunkte (jeweils realisiert durch PP):"
   ]
  },
  {
   "cell_type": "code",
   "execution_count": 4,
   "metadata": {},
   "outputs": [],
   "source": [
    "## PP-Adverbial (Adjunkt) vs PP-Objekt (Komplement):\n",
    "grammar = nltk.CFG.fromstring(\"\"\"\n",
    "    S -> NP VP\n",
    "\n",
    "#####VP-X-BAR-REGELN:\n",
    "\n",
    "##PHRASENABSCHLUSS:\n",
    "    VP -> VERBAL\n",
    "    \n",
    "##VP-ADJUNKT: PP (Adverbial)\n",
    "    VERBAL -> VERBAL PP\n",
    "    \n",
    "##VP-KOMPLEMENT: PP (Präpositionalobjekt)\n",
    "    VERBAL -> V PP\n",
    "\n",
    "######WEITERE SYNTAKTISCHE REGELN:\n",
    "    PP -> P NP\n",
    "    \n",
    "    NP -> DET N\n",
    "    NP -> N\n",
    "    \n",
    "###LEXIKALISCHE REGELN:    \n",
    "    DET -> \"dem\" | \"die\"\n",
    "    N -> \"ich\" | \"Berg\" | \"Sonne\" | \"Park\"\n",
    "    V -> \"warte\"\n",
    "    P ->  \"auf\" | \"im\"\n",
    "\"\"\")\n",
    "\n",
    "parser = nltk.ChartParser(grammar,trace=0)"
   ]
  },
  {
   "cell_type": "code",
   "execution_count": 5,
   "metadata": {},
   "outputs": [
    {
     "name": "stdout",
     "output_type": "stream",
     "text": [
      "      S                                           \n",
      " ┌────┴────────────────┐                           \n",
      " │                     VP                         \n",
      " │                     │                           \n",
      " │                   VERBAL                       \n",
      " │              ┌──────┴───────────────────┐       \n",
      " │            VERBAL                       │      \n",
      " │    ┌─────────┴──────┐                   │       \n",
      " │    │                PP                  PP     \n",
      " │    │    ┌───────────┴─────┐         ┌───┴───┐   \n",
      " NP   │    │                 NP        │       NP \n",
      " │    │    │           ┌─────┴────┐    │       │   \n",
      " N    V    P          DET         N    P       N  \n",
      " │    │    │           │          │    │       │   \n",
      "ich warte auf         die       Sonne  im     Park\n",
      "\n"
     ]
    }
   ],
   "source": [
    "sent = 'ich warte auf die Sonne im Park'.split()\n",
    "for tree in parser.parse(sent):\n",
    "    tree.pretty_print(unicodelines=True)    "
   ]
  },
  {
   "cell_type": "markdown",
   "metadata": {},
   "source": [
    "---\n",
    "\n",
    "### 4.3 Beispielgrammatik (Adjunkt, Komplement und Spezifizierer-Regeln, verschieden Realisierungstypen):"
   ]
  },
  {
   "cell_type": "code",
   "execution_count": 6,
   "metadata": {},
   "outputs": [],
   "source": [
    "grammar = nltk.CFG.fromstring(\"\"\"\n",
    "\n",
    "#########SYNTAKTISCHE REGELN (X-BAR-SCHEMA):\n",
    "\n",
    "\n",
    "##S (Startsymbol)###########\n",
    "S -> NP VP\n",
    "\n",
    "\n",
    "\n",
    "###VP (X-Bar)###########\n",
    "\n",
    "##VP-SPEZIFIZIERER (0-1: -,Aux):\n",
    "VP -> VERBAL\n",
    "VP -> Aux VERBAL\n",
    "\n",
    "##VP-ADJUNKTE (ADVP,PP):\n",
    "VERBAL -> VERBAL ADVP\n",
    "VERBAL -> VERBAL PP\n",
    "\n",
    "##VP-KOMPLEMENTE (0-2: -,intransitiv, transitiv):\n",
    "VERBAL -> V\n",
    "VERBAL -> V NP\n",
    "\n",
    "\n",
    "\n",
    "\n",
    "###NP (X-Bar)###########\n",
    "\n",
    "##NP-SPEZIFIZIERER (0-1: -,Det):\n",
    "NP -> NOM\n",
    "NP -> Det NOM\n",
    "\n",
    "##NP-ADJUNKT (ADJP, PP):\n",
    "NOM -> ADJP NOM\n",
    "NOM -> NOM PP\n",
    "\n",
    "\n",
    "##NP-KOMPLEMENTE (0-1: -, [Genitiv-]NP):\n",
    "NOM -> N\n",
    "NOM -> N NP\n",
    "\n",
    "\n",
    "\n",
    "\n",
    "###PP (nicht X-Bar)###########\n",
    "PP -> P NP\n",
    "\n",
    "### ADJP (rekursive Regel, aber nicht X-Bar)###########\n",
    "ADJP -> Prt ADJP\n",
    "ADJP -> Adj\n",
    "\n",
    "### ADVP (rekursive Regel, aber nicht X-Bar)###########\n",
    "ADVP -> Prt ADVP\n",
    "ADVP -> Adv\n",
    "\n",
    "\n",
    "\n",
    "#########LEXIKALISCHE REGELN:\n",
    "##Lexikalische Regeln:\n",
    "    Det -> 'die' | 'der' |'das' | 'des'\n",
    "    N -> 'Katze' | 'Stadt' | 'Ecke' | 'Heulen' | 'Auto' | 'Autos'\n",
    "    V -> 'lief' | 'bemerkte'\n",
    "    P -> 'durch' | 'an'\n",
    "    Adj -> 'schlaue' | 'schnelle'\n",
    "    Prt -> 'sehr'\n",
    "    Adv -> 'dort'\n",
    "\"\"\")\n",
    "\n",
    "parser = nltk.ChartParser(grammar,trace=0)"
   ]
  },
  {
   "cell_type": "code",
   "execution_count": 7,
   "metadata": {
    "scrolled": true
   },
   "outputs": [
    {
     "name": "stdout",
     "output_type": "stream",
     "text": [
      "                 S                    \n",
      "     ┌───────────┴───────┐             \n",
      "     │                   VP           \n",
      "     │                   │             \n",
      "     │                 VERBAL         \n",
      "     │           ┌───────┴─────┐       \n",
      "     NP          │             NP     \n",
      " ┌───┴────┐      │       ┌─────┴───┐   \n",
      " │       NOM     │       │        NOM \n",
      " │        │      │       │         │   \n",
      "Det       N      V      Det        N  \n",
      " │        │      │       │         │   \n",
      "die     Katze bemerkte  das       Auto\n",
      "\n"
     ]
    }
   ],
   "source": [
    "##minimaler Satz: nur Komplemente und Spezifizierer:\n",
    "sent = 'die Katze bemerkte das Auto'.split()\n",
    "for tree in parser.parse(sent):\n",
    "    tree.pretty_print(unicodelines=True)    "
   ]
  },
  {
   "cell_type": "code",
   "execution_count": 8,
   "metadata": {},
   "outputs": [
    {
     "name": "stdout",
     "output_type": "stream",
     "text": [
      "                                          S                                          \n",
      "          ┌───────────────────────────────┴────────────────────────┐                  \n",
      "          NP                                                       VP                \n",
      " ┌────────┴───────────┐                                            │                  \n",
      " │                   NOM                                         VERBAL              \n",
      " │        ┌───────────┴──────────────┐                 ┌───────────┴─────┐            \n",
      " │       ADJP                        │                 │                 PP          \n",
      " │   ┌────┴────┐                     │                 │           ┌─────┴───┐        \n",
      " │   │        ADJP                  NOM              VERBAL        │         NP      \n",
      " │   │    ┌────┴──────┐       ┌──────┴────┐     ┌──────┴─────┐     │     ┌───┴────┐   \n",
      " │   │    │          ADJP    ADJP        NOM  VERBAL        ADVP   │     │       NOM \n",
      " │   │    │           │       │           │     │            │     │     │        │   \n",
      "Det Prt  Prt         Adj     Adj          N     V           Adv    P    Det       N  \n",
      " │   │    │           │       │           │     │            │     │     │        │   \n",
      "die sehr sehr      schlaue schnelle     Katze  lief         dort durch  die     Stadt\n",
      "\n"
     ]
    }
   ],
   "source": [
    "#Satz mit NP-Adjunkten (ADJPs) und VP-Adjunkten (ADVP, PP):\n",
    "sent = 'die sehr sehr schlaue schnelle Katze lief dort durch die Stadt'.split()\n",
    "for tree in parser.parse(sent):\n",
    "    tree.pretty_print(unicodelines=True)    "
   ]
  },
  {
   "cell_type": "code",
   "execution_count": 9,
   "metadata": {},
   "outputs": [
    {
     "name": "stdout",
     "output_type": "stream",
     "text": [
      "                             S                                         \n",
      "     ┌───────────────────────┴──────────┐                               \n",
      "     │                                  VP                             \n",
      "     │                                  │                               \n",
      "     │                                VERBAL                           \n",
      "     │                       ┌──────────┴───────────────────┐           \n",
      "     │                     VERBAL                           │          \n",
      "     │           ┌───────────┴─────┐                        │           \n",
      "     │           │                 NP                       │          \n",
      "     │           │      ┌──────────┴────┐                   │           \n",
      "     │           │      │              NOM                  PP         \n",
      "     │           │      │    ┌──────────┴─────┐         ┌───┴───┐       \n",
      "     NP          │      │    │                NP        │       NP     \n",
      " ┌───┴────┐      │      │    │          ┌─────┴────┐    │   ┌───┴───┐   \n",
      " │       NOM     │      │    │          │         NOM   │   │      NOM \n",
      " │        │      │      │    │          │          │    │   │       │   \n",
      "Det       N      V     Det   N         Det         N    P  Det      N  \n",
      " │        │      │      │    │          │          │    │   │       │   \n",
      "die     Katze bemerkte das Heulen      des       Autos  an der     Ecke\n",
      "\n",
      "          S                                                        \n",
      "     ┌────┴──────────────┐                                          \n",
      "     │                   VP                                        \n",
      "     │                   │                                          \n",
      "     │                 VERBAL                                      \n",
      "     │           ┌───────┴──────┐                                   \n",
      "     │           │              NP                                 \n",
      "     │           │       ┌──────┴──────────────┐                    \n",
      "     │           │       │                    NOM                  \n",
      "     │           │       │            ┌────────┴────────┐           \n",
      "     │           │       │           NOM                PP         \n",
      "     │           │       │      ┌─────┴───┐         ┌───┴───┐       \n",
      "     NP          │       │      │         NP        │       NP     \n",
      " ┌───┴────┐      │       │      │     ┌───┴────┐    │   ┌───┴───┐   \n",
      " │       NOM     │       │      │     │       NOM   │   │      NOM \n",
      " │        │      │       │      │     │        │    │   │       │   \n",
      "Det       N      V      Det     N    Det       N    P  Det      N  \n",
      " │        │      │       │      │     │        │    │   │       │   \n",
      "die     Katze bemerkte  das   Heulen des     Autos  an der     Ecke\n",
      "\n",
      "          S                                                        \n",
      "     ┌────┴──────────────┐                                          \n",
      "     │                   VP                                        \n",
      "     │                   │                                          \n",
      "     │                 VERBAL                                      \n",
      "     │           ┌───────┴──────┐                                   \n",
      "     │           │              NP                                 \n",
      "     │           │       ┌──────┴──────────┐                        \n",
      "     │           │       │                NOM                      \n",
      "     │           │       │      ┌──────────┴────┐                   \n",
      "     │           │       │      │               NP                 \n",
      "     │           │       │      │     ┌─────────┴───┐               \n",
      "     │           │       │      │     │            NOM             \n",
      "     │           │       │      │     │    ┌────────┴───┐           \n",
      "     │           │       │      │     │    │            PP         \n",
      "     │           │       │      │     │    │    ┌───────┴───┐       \n",
      "     NP          │       │      │     │    │    │           NP     \n",
      " ┌───┴────┐      │       │      │     │    │    │       ┌───┴───┐   \n",
      " │       NOM     │       │      │     │   NOM   │       │      NOM \n",
      " │        │      │       │      │     │    │    │       │       │   \n",
      "Det       N      V      Det     N    Det   N    P      Det      N  \n",
      " │        │      │       │      │     │    │    │       │       │   \n",
      "die     Katze bemerkte  das   Heulen des Autos  an     der     Ecke\n",
      "\n"
     ]
    }
   ],
   "source": [
    "##Satz mit NP-Komplement (Genitiv-NP von deverbalem Substantiv) sowie mehrfach strukturell ambiger PP (Adjunkt):\n",
    "sent = 'die Katze bemerkte das Heulen des Autos an der Ecke'.split()\n",
    "for tree in parser.parse(sent):\n",
    "    tree.pretty_print(unicodelines=True)    "
   ]
  },
  {
   "cell_type": "markdown",
   "metadata": {},
   "source": [
    "---\n",
    "\n",
    "## 5. Vergleich CFG-Analysen (Stanford: PennTreebank-Schema=en bzw TIGER=dt)"
   ]
  },
  {
   "cell_type": "code",
   "execution_count": 10,
   "metadata": {},
   "outputs": [],
   "source": [
    "from nltk.parse.stanford import StanfordParser\n",
    "import os\n",
    "\n",
    "PATH_TO_CORE = os.path.join(os.getenv(\"HOME\"), \"nltk_data\", \"stanford-corenlp-full-2018-10-05\")\n",
    "PATH_TO_GERMAN_MODEL = os.path.join(os.getenv(\"HOME\"), \"nltk_data\", \"stanford-models-2018-10-05\")\n",
    "\n",
    "jar = os.path.join(PATH_TO_CORE, \"stanford-corenlp-3.9.2.jar\")\n",
    "model = os.path.join(PATH_TO_GERMAN_MODEL, \"stanford-german-corenlp-2018-10-05-models.jar\")"
   ]
  },
  {
   "cell_type": "code",
   "execution_count": 11,
   "metadata": {},
   "outputs": [],
   "source": [
    "#Stanford German-PCFG:\n",
    "parser = StanfordParser(jar, model,model_path=\"edu/stanford/nlp/models/lexparser/germanPCFG.ser.gz\")"
   ]
  },
  {
   "cell_type": "code",
   "execution_count": 12,
   "metadata": {},
   "outputs": [
    {
     "name": "stdout",
     "output_type": "stream",
     "text": [
      "                                  ROOT                            \n",
      "                                   │                               \n",
      "                                   S                              \n",
      "     ┌───────────┬───────────┬─────┴───────────────────┬────────┐  \n",
      "     │           │           NP                        │        │ \n",
      "     │           │      ┌────┼──────────┐              │        │  \n",
      "     NP          │      │    │          NP             PP       │ \n",
      " ┌───┴────┐      │      │    │     ┌────┴────┐    ┌────┼───┐    │  \n",
      "ART       NN   VVFIN   ART   NN   ART        NN  APPR ART  NN   $.\n",
      " │        │      │      │    │     │         │    │    │   │    │  \n",
      "Die     Katze bemerkte das Heulen des      Autos  an  der Ecke  . \n",
      "\n"
     ]
    }
   ],
   "source": [
    "sent = 'Die Katze bemerkte das Heulen des Autos an der Ecke.'\n",
    "tree_list = list(parser.raw_parse(sent)) \n",
    "tree_list[0].pretty_print(unicodelines=True)"
   ]
  },
  {
   "cell_type": "code",
   "execution_count": 13,
   "metadata": {},
   "outputs": [],
   "source": [
    "#Stanford English-PCFG:\n",
    "parser=StanfordParser(jar,model,model_path=\"edu/stanford/nlp/models/lexparser/englishPCFG.ser.gz\")"
   ]
  },
  {
   "cell_type": "code",
   "execution_count": 14,
   "metadata": {},
   "outputs": [
    {
     "name": "stdout",
     "output_type": "stream",
     "text": [
      "                                 ROOT                               \n",
      "                                  │                                  \n",
      "                                  S                                 \n",
      "     ┌────────────────────────────┴────┐                             \n",
      "     │                                 VP                           \n",
      "     │         ┌──────────────────┬────┴───────────────┐             \n",
      "     │         │                  NP                   │            \n",
      "     │         │         ┌────────┴────┐               │             \n",
      "     │         │         │             PP              PP           \n",
      "     │         │         │        ┌────┴───┐       ┌───┴───┐         \n",
      "     NP        │         NP       │        NP      │       NP       \n",
      " ┌───┴───┐     │     ┌───┴───┐    │    ┌───┴───┐   │   ┌───┴────┐    \n",
      " DT      NN   VBD    DT      NN   IN   DT      NN  IN  DT       NN  \n",
      " │       │     │     │       │    │    │       │   │   │        │    \n",
      "the     cat noticed the     roar  of  the     car  on the     corner\n",
      "\n"
     ]
    }
   ],
   "source": [
    "sent = 'the cat noticed the roar of the car on the corner'\n",
    "tree_list = list(parser.raw_parse(sent)) \n",
    "tree_list[0].pretty_print(unicodelines=True)\n"
   ]
  }
 ],
 "metadata": {
  "kernelspec": {
   "display_name": "Python 3",
   "language": "python",
   "name": "python3"
  },
  "language_info": {
   "codemirror_mode": {
    "name": "ipython",
    "version": 3
   },
   "file_extension": ".py",
   "mimetype": "text/x-python",
   "name": "python",
   "nbconvert_exporter": "python",
   "pygments_lexer": "ipython3",
   "version": "3.6.1"
  },
  "widgets": {
   "application/vnd.jupyter.widget-state+json": {
    "state": {
     "098dd75f65594c0f992ddeffeb8523e3": {
      "model_module": "@jupyter-widgets/controls",
      "model_module_version": "1.2.0",
      "model_name": "SliderStyleModel",
      "state": {
       "description_width": ""
      }
     },
     "0ccfa5129ab64950adda077f6ac8f44a": {
      "model_module": "@jupyter-widgets/controls",
      "model_module_version": "1.2.0",
      "model_name": "IntSliderModel",
      "state": {
       "layout": "IPY_MODEL_641f3cf31a334ee6810a9a92f93e89a7",
       "style": "IPY_MODEL_63aadafcc3504a3b8b15fdea9d4ec244",
       "value": 50
      }
     },
     "1b37a149a74c40c68d34c61b481048f8": {
      "model_module": "@jupyter-widgets/base",
      "model_module_version": "1.0.0",
      "model_name": "LayoutModel",
      "state": {}
     },
     "367694b2ecc94715a20952236f9ced88": {
      "model_module": "@jupyter-widgets/base",
      "model_module_version": "1.0.0",
      "model_name": "LayoutModel",
      "state": {}
     },
     "3d6ebd239fc84a8e95b3007988e38134": {
      "model_module": "@jupyter-widgets/controls",
      "model_module_version": "1.2.0",
      "model_name": "SliderStyleModel",
      "state": {
       "description_width": ""
      }
     },
     "63aadafcc3504a3b8b15fdea9d4ec244": {
      "model_module": "@jupyter-widgets/controls",
      "model_module_version": "1.2.0",
      "model_name": "SliderStyleModel",
      "state": {
       "description_width": ""
      }
     },
     "641f3cf31a334ee6810a9a92f93e89a7": {
      "model_module": "@jupyter-widgets/base",
      "model_module_version": "1.0.0",
      "model_name": "LayoutModel",
      "state": {}
     },
     "993ec756027845c19085347ca5f9f6ce": {
      "model_module": "@jupyter-widgets/controls",
      "model_module_version": "1.2.0",
      "model_name": "SliderStyleModel",
      "state": {
       "description_width": ""
      }
     },
     "bb743dc2dd2d4bb08dd2c5255e1d87c6": {
      "model_module": "@jupyter-widgets/controls",
      "model_module_version": "1.2.0",
      "model_name": "SliderStyleModel",
      "state": {
       "description_width": ""
      }
     },
     "cb4a4abdac584f78ac3b37579ac33b10": {
      "model_module": "@jupyter-widgets/controls",
      "model_module_version": "1.2.0",
      "model_name": "IntSliderModel",
      "state": {
       "layout": "IPY_MODEL_f25c2eb22704411b9981f8047a2c0182",
       "style": "IPY_MODEL_993ec756027845c19085347ca5f9f6ce",
       "value": 50
      }
     },
     "cfbb8ba5969a49e18a1733c50e6b73e4": {
      "model_module": "@jupyter-widgets/controls",
      "model_module_version": "1.2.0",
      "model_name": "IntSliderModel",
      "state": {
       "layout": "IPY_MODEL_1b37a149a74c40c68d34c61b481048f8",
       "style": "IPY_MODEL_3d6ebd239fc84a8e95b3007988e38134",
       "value": 50
      }
     },
     "da2e37629b7141b8a194c275f89ccef5": {
      "model_module": "@jupyter-widgets/base",
      "model_module_version": "1.0.0",
      "model_name": "LayoutModel",
      "state": {}
     },
     "eafa48b852af4f40b414b8d4f0b90c7a": {
      "model_module": "@jupyter-widgets/controls",
      "model_module_version": "1.2.0",
      "model_name": "IntSliderModel",
      "state": {
       "layout": "IPY_MODEL_da2e37629b7141b8a194c275f89ccef5",
       "style": "IPY_MODEL_bb743dc2dd2d4bb08dd2c5255e1d87c6"
      }
     },
     "f196171317cf493fabedf854f59c1d44": {
      "model_module": "@jupyter-widgets/controls",
      "model_module_version": "1.2.0",
      "model_name": "IntSliderModel",
      "state": {
       "layout": "IPY_MODEL_367694b2ecc94715a20952236f9ced88",
       "style": "IPY_MODEL_098dd75f65594c0f992ddeffeb8523e3"
      }
     },
     "f25c2eb22704411b9981f8047a2c0182": {
      "model_module": "@jupyter-widgets/base",
      "model_module_version": "1.0.0",
      "model_name": "LayoutModel",
      "state": {}
     }
    },
    "version_major": 2,
    "version_minor": 0
   }
  }
 },
 "nbformat": 4,
 "nbformat_minor": 2
}
