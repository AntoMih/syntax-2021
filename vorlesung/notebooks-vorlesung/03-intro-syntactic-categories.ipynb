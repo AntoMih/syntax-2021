{
 "cells": [
  {
   "cell_type": "markdown",
   "metadata": {},
   "source": [
    "***Vorlesung 'Syntax natürlicher Sprachen'***\n",
    "\n",
    "--- \n",
    "# Intro Vorlesung 3: Syntaktische Kategorien\n"
   ]
  },
  {
   "cell_type": "code",
   "execution_count": 2,
   "metadata": {},
   "outputs": [],
   "source": [
    "import nltk"
   ]
  },
  {
   "cell_type": "markdown",
   "metadata": {},
   "source": [
    "## Wortarten (Präterminale)\n",
    "\n",
    "### Generierung von POS-Mustern mit rekursiven Phrasenstrukturregeln"
   ]
  },
  {
   "cell_type": "code",
   "execution_count": 19,
   "metadata": {},
   "outputs": [
    {
     "name": "stdout",
     "output_type": "stream",
     "text": [
      "Anzahl an POS-Mustern:  \n",
      "\tbei 6 Regelanwendungen: 24 \n",
      "\tbei 7 Regelanwendungen: 64 \n",
      "\tbei 8 Regelanwendungen: 408\n"
     ]
    }
   ],
   "source": [
    "# http://www.nltk.org/howto/generate.html\n",
    "grammar = nltk.CFG.fromstring(\"\"\"\n",
    "    S -> NP VP\n",
    "    PP -> P NP\n",
    "    NP -> Det N | Det N PP | N\n",
    "    VP -> V NP | VP PP\n",
    "    Det -> 'Det'\n",
    "    N -> 'N'\n",
    "    V -> 'V'\n",
    "    P -> 'P'\n",
    "\"\"\")\n",
    "\n",
    "\n",
    "print('Anzahl an POS-Mustern: ', \n",
    "    '\\n\\tbei 6 Regelanwendungen:', len(list(generate(grammar, depth=6))), \n",
    "    '\\n\\tbei 7 Regelanwendungen:', len(list(generate(grammar, depth=7))),\n",
    "    '\\n\\tbei 8 Regelanwendungen:', len(list(generate(grammar, depth=8))))"
   ]
  },
  {
   "cell_type": "code",
   "execution_count": 6,
   "metadata": {},
   "outputs": [
    {
     "name": "stdout",
     "output_type": "stream",
     "text": [
      "Det N V Det N\n",
      "Det N V Det N P Det N\n",
      "Det N V Det N P N\n",
      "Det N V N\n",
      "Det N V Det N P Det N\n",
      "Det N V Det N P N\n",
      "Det N V N P Det N\n",
      "Det N V N P N\n",
      "Det N V Det N P Det N P Det N\n",
      "Det N V Det N P Det N P N\n",
      "Det N V Det N P N P Det N\n",
      "Det N V Det N P N P N\n",
      "Det N V N P Det N P Det N\n",
      "Det N V N P Det N P N\n",
      "Det N V N P N P Det N\n",
      "Det N V N P N P N\n",
      "Det N P Det N V Det N\n",
      "Det N P Det N V Det N P Det N\n",
      "Det N P Det N V Det N P N\n",
      "Det N P Det N V N\n",
      "Det N P Det N V Det N P Det N\n",
      "Det N P Det N V Det N P N\n",
      "Det N P Det N V N P Det N\n",
      "Det N P Det N V N P N\n",
      "Det N P Det N V Det N P Det N P Det N\n",
      "Det N P Det N V Det N P Det N P N\n",
      "Det N P Det N V Det N P N P Det N\n",
      "Det N P Det N V Det N P N P N\n",
      "Det N P Det N V N P Det N P Det N\n",
      "Det N P Det N V N P Det N P N\n",
      "Det N P Det N V N P N P Det N\n",
      "Det N P Det N V N P N P N\n",
      "Det N P N V Det N\n",
      "Det N P N V Det N P Det N\n",
      "Det N P N V Det N P N\n",
      "Det N P N V N\n",
      "Det N P N V Det N P Det N\n",
      "Det N P N V Det N P N\n",
      "Det N P N V N P Det N\n",
      "Det N P N V N P N\n",
      "Det N P N V Det N P Det N P Det N\n",
      "Det N P N V Det N P Det N P N\n",
      "Det N P N V Det N P N P Det N\n",
      "Det N P N V Det N P N P N\n",
      "Det N P N V N P Det N P Det N\n",
      "Det N P N V N P Det N P N\n",
      "Det N P N V N P N P Det N\n",
      "Det N P N V N P N P N\n",
      "N V Det N\n",
      "N V Det N P Det N\n",
      "N V Det N P N\n",
      "N V N\n",
      "N V Det N P Det N\n",
      "N V Det N P N\n",
      "N V N P Det N\n",
      "N V N P N\n",
      "N V Det N P Det N P Det N\n",
      "N V Det N P Det N P N\n",
      "N V Det N P N P Det N\n",
      "N V Det N P N P N\n",
      "N V N P Det N P Det N\n",
      "N V N P Det N P N\n",
      "N V N P N P Det N\n",
      "N V N P N P N\n"
     ]
    }
   ],
   "source": [
    "from nltk.parse.generate import generate\n",
    "for sentence in generate(grammar, depth=7):\n",
    "    print(' '.join(sentence))"
   ]
  },
  {
   "cell_type": "markdown",
   "metadata": {},
   "source": [
    "### Suche kontextäquivalenter Wörter im Korpus mit NLTK (paradigmatische Dimension)\n",
    "\n",
    "http://www.nltk.org/book/ch05.html#using-a-tagger:\n",
    "\n",
    "> Lexical categories like \"noun\" and part-of-speech tags like NN seem to have their uses, but the details will be obscure to many readers. You might wonder what justification there is for introducing this extra level of information. Many of these categories arise from superficial analysis the distribution of words in text. Consider the following analysis involving *woman* (a noun), *bought* (a verb), *over* (a preposition), and *the* (a determiner). The `text.similar()` method takes a word *w*, finds all contexts *w1 w w2*, then finds all words *w'* that appear in the same context, i.e. *w1 w' w2*.\n",
    "\n"
   ]
  },
  {
   "cell_type": "code",
   "execution_count": 107,
   "metadata": {},
   "outputs": [],
   "source": [
    "#http://www.nltk.org/book/ch05.html#using-a-tagger\n",
    "\n",
    "from nltk.corpus import brown\n",
    "text = nltk.Text(word.lower() for word in nltk.corpus.brown.words())"
   ]
  },
  {
   "cell_type": "markdown",
   "metadata": {},
   "source": [
    "> Observe that searching for *woman* finds nouns; searching for *bought* mostly finds verbs; searching for *over* generally finds prepositions; searching for *the* finds several determiners. A tagger can correctly identify the tags on these words in the context of a sentence, e.g. *The woman bought over $150,000 worth of clothes.* (http://www.nltk.org/book/ch05.html#using-a-tagger)\n",
    "\n"
   ]
  },
  {
   "cell_type": "code",
   "execution_count": 108,
   "metadata": {},
   "outputs": [
    {
     "name": "stdout",
     "output_type": "stream",
     "text": [
      "man time day year car moment world house family child country boy\n",
      "state job place way war girl work word\n"
     ]
    }
   ],
   "source": [
    "text.similar('woman')"
   ]
  },
  {
   "cell_type": "code",
   "execution_count": 102,
   "metadata": {},
   "outputs": [
    {
     "name": "stdout",
     "output_type": "stream",
     "text": [
      "made said done put had seen found given left heard was been brought\n",
      "set got that took in told felt\n"
     ]
    }
   ],
   "source": [
    "text.similar('bought')"
   ]
  },
  {
   "cell_type": "code",
   "execution_count": 103,
   "metadata": {},
   "outputs": [
    {
     "name": "stdout",
     "output_type": "stream",
     "text": [
      "in on to of and for with from at by that into as up out down through\n",
      "is all about\n"
     ]
    }
   ],
   "source": [
    "text.similar('over')"
   ]
  },
  {
   "cell_type": "code",
   "execution_count": 104,
   "metadata": {},
   "outputs": [
    {
     "name": "stdout",
     "output_type": "stream",
     "text": [
      "a his this their its her an that our any all one these my in your no\n",
      "some other and\n"
     ]
    }
   ],
   "source": [
    "text.similar('the')"
   ]
  },
  {
   "cell_type": "markdown",
   "metadata": {},
   "source": [
    "--- \n",
    "### Suche nach nominalen Mustern im Korpus  (syntagmatische Dimension)\n",
    "\n",
    "http://www.nltk.org/book/ch05.html#nouns:\n",
    "\n",
    "> Let's inspect some tagged text to see what parts of speech occur before a noun, with the most frequent ones first. To begin with, we construct a list of bigrams whose members are themselves word-tag pairs such as `(('The', 'DET'), ('Fulton', 'NP'))` and `(('Fulton', 'NP'), ('County', 'N'))`. Then we construct a `FreqDist` from the tag parts of the bigrams.\n"
   ]
  },
  {
   "cell_type": "code",
   "execution_count": 130,
   "metadata": {},
   "outputs": [
    {
     "data": {
      "text/plain": [
       "[('NOUN', 7959),\n",
       " ('DET', 7373),\n",
       " ('ADJ', 4761),\n",
       " ('ADP', 3781),\n",
       " ('.', 2796),\n",
       " ('VERB', 1842),\n",
       " ('CONJ', 938),\n",
       " ('NUM', 894),\n",
       " ('ADV', 186),\n",
       " ('PRT', 94),\n",
       " ('PRON', 19),\n",
       " ('X', 11)]"
      ]
     },
     "execution_count": 130,
     "metadata": {},
     "output_type": "execute_result"
    }
   ],
   "source": [
    "from nltk.corpus import brown\n",
    "brown_news_tagged = brown.tagged_words(categories='news', tagset='universal')\n",
    "word_tag_pairs = nltk.bigrams(brown_news_tagged)\n",
    "noun_preceders = [a[1] for (a, b) in word_tag_pairs if b[1] == 'NOUN']\n",
    "fdist = nltk.FreqDist(noun_preceders)\n",
    "[(tag, fq) for (tag, fq) in fdist.most_common()]"
   ]
  },
  {
   "cell_type": "markdown",
   "metadata": {},
   "source": [
    "> This confirms our assertion that nouns occur after determiners and adjectives, including numeral adjectives (tagged as `NUM``). (http://www.nltk.org/book/ch05.html#nouns)\n"
   ]
  },
  {
   "cell_type": "markdown",
   "metadata": {},
   "source": [
    "--- \n",
    "\n",
    "### Adjektive als Klasse distributionsäquivalenter Wörter:\n",
    "\n",
    "#### Suche nach distributionsäquivalenten Wörtern (Auftreten in gleichen Kontexten):"
   ]
  },
  {
   "cell_type": "code",
   "execution_count": 143,
   "metadata": {},
   "outputs": [
    {
     "name": "stdout",
     "output_type": "stream",
     "text": [
      "little new first good small large great the old other strong young\n",
      "major white second short beautiful a best long\n"
     ]
    }
   ],
   "source": [
    "from nltk.corpus import brown\n",
    "text = nltk.Text(word.lower() for word in nltk.corpus.brown.words())\n",
    "text.similar('big')"
   ]
  },
  {
   "cell_type": "markdown",
   "metadata": {},
   "source": [
    "#### Wortarten-Kontexte von distributionsäquivalenter Wörtern (als Vertreter einer Distributionsklasse):"
   ]
  },
  {
   "cell_type": "code",
   "execution_count": 181,
   "metadata": {},
   "outputs": [
    {
     "data": {
      "text/plain": [
       "[(('DET', 'NOUN'), 193),\n",
       " (('ADP', 'NOUN'), 42),\n",
       " (('VERB', 'NOUN'), 36),\n",
       " (('DET', 'ADJ'), 30),\n",
       " (('DET', 'NUM'), 22),\n",
       " (('NOUN', 'NOUN'), 13),\n",
       " (('DET', 'ADP'), 13),\n",
       " (('ADJ', 'NOUN'), 12),\n",
       " (('CONJ', 'NOUN'), 10),\n",
       " (('NUM', 'NOUN'), 10),\n",
       " (('NOUN', 'ADJ'), 8),\n",
       " (('ADV', 'NOUN'), 8),\n",
       " (('VERB', '.'), 7),\n",
       " (('.', 'NOUN'), 6),\n",
       " (('DET', '.'), 5),\n",
       " (('ADV', 'ADP'), 5),\n",
       " (('ADV', '.'), 5),\n",
       " (('NOUN', '.'), 4),\n",
       " (('VERB', 'VERB'), 4),\n",
       " (('DET', 'VERB'), 4),\n",
       " (('NOUN', 'VERB'), 4),\n",
       " (('ADP', 'ADJ'), 3),\n",
       " (('NUM', 'ADJ'), 3),\n",
       " (('ADP', '.'), 3),\n",
       " (('PRON', 'VERB'), 3),\n",
       " (('PRT', 'NOUN'), 3),\n",
       " (('ADV', 'DET'), 3),\n",
       " (('ADV', 'VERB'), 3),\n",
       " (('ADJ', 'ADJ'), 2),\n",
       " (('VERB', 'ADJ'), 2),\n",
       " (('VERB', 'ADV'), 2),\n",
       " (('DET', 'PRT'), 2),\n",
       " (('ADP', 'VERB'), 2),\n",
       " (('ADP', 'CONJ'), 2),\n",
       " (('DET', 'ADV'), 2),\n",
       " (('PRT', 'VERB'), 1),\n",
       " (('VERB', 'DET'), 1),\n",
       " (('DET', 'X'), 1),\n",
       " (('DET', 'CONJ'), 1),\n",
       " (('NOUN', 'NUM'), 1),\n",
       " (('ADV', 'CONJ'), 1),\n",
       " (('ADP', 'ADP'), 1),\n",
       " (('ADP', 'NUM'), 1),\n",
       " (('VERB', 'CONJ'), 1),\n",
       " (('ADV', 'PRT'), 1),\n",
       " (('ADJ', 'CONJ'), 1),\n",
       " (('NOUN', 'ADP'), 1),\n",
       " (('ADJ', 'NUM'), 1),\n",
       " (('ADV', 'ADV'), 1),\n",
       " (('CONJ', 'ADJ'), 1),\n",
       " (('CONJ', 'ADV'), 1),\n",
       " (('VERB', 'ADP'), 1),\n",
       " (('NOUN', 'ADV'), 1),\n",
       " (('ADP', 'DET'), 1),\n",
       " (('PRON', 'NOUN'), 1)]"
      ]
     },
     "execution_count": 181,
     "metadata": {},
     "output_type": "execute_result"
    }
   ],
   "source": [
    "#Rechter und linker Kontext für eine Menge distributionsäquivalenter Wörter:\n",
    "from nltk.corpus import brown\n",
    "brown_news_tagged = brown.tagged_words(categories='news', tagset='universal')\n",
    "word_tag_trigrams = nltk.trigrams(brown_news_tagged)\n",
    "adj_contexts = [(a[1], c[1]) for (a, b, c) in word_tag_trigrams if b[0] in ('big', 'little', 'new', 'first', 'good', 'small', 'large', 'great')]\n",
    "\n",
    "fdist = nltk.FreqDist(adj_contexts)\n",
    "[(tag, fq) for (tag, fq) in fdist.most_common()]"
   ]
  },
  {
   "cell_type": "code",
   "execution_count": 140,
   "metadata": {},
   "outputs": [
    {
     "data": {
      "text/plain": [
       "[(('DET', 'NOUN'), 2081),\n",
       " (('ADP', 'NOUN'), 745),\n",
       " (('NOUN', 'NOUN'), 368),\n",
       " (('ADJ', 'NOUN'), 363),\n",
       " (('VERB', 'NOUN'), 351),\n",
       " (('.', 'NOUN'), 332),\n",
       " (('DET', 'ADJ'), 218),\n",
       " (('CONJ', 'NOUN'), 214),\n",
       " (('ADV', 'NOUN'), 154),\n",
       " (('VERB', 'ADP'), 145),\n",
       " (('NUM', 'NOUN'), 129),\n",
       " (('DET', '.'), 104),\n",
       " (('ADV', 'ADP'), 100),\n",
       " (('ADV', '.'), 83),\n",
       " (('DET', 'NUM'), 83),\n",
       " (('VERB', '.'), 77),\n",
       " (('VERB', 'PRT'), 61),\n",
       " (('.', 'ADP'), 57),\n",
       " (('DET', 'CONJ'), 56),\n",
       " (('NOUN', 'ADP'), 56),\n",
       " (('ADP', 'ADJ'), 56),\n",
       " (('DET', 'ADP'), 56),\n",
       " (('.', '.'), 53),\n",
       " (('DET', 'VERB'), 44),\n",
       " (('ADP', '.'), 42),\n",
       " (('ADP', 'ADP'), 38),\n",
       " (('NOUN', '.'), 33),\n",
       " (('VERB', 'CONJ'), 32),\n",
       " (('ADP', 'CONJ'), 30),\n",
       " (('.', 'CONJ'), 27),\n",
       " (('.', 'ADJ'), 26),\n",
       " (('CONJ', '.'), 25),\n",
       " (('VERB', 'ADJ'), 25),\n",
       " (('NOUN', 'ADJ'), 24),\n",
       " (('ADJ', 'ADJ'), 21),\n",
       " (('PRT', 'NOUN'), 19),\n",
       " (('CONJ', 'ADP'), 18),\n",
       " (('CONJ', 'ADJ'), 17),\n",
       " (('ADP', 'NUM'), 16),\n",
       " (('ADV', 'PRT'), 13),\n",
       " (('NOUN', 'VERB'), 13),\n",
       " (('VERB', 'ADV'), 13),\n",
       " (('ADV', 'VERB'), 12),\n",
       " (('VERB', 'NUM'), 12),\n",
       " (('ADV', 'ADJ'), 11),\n",
       " (('ADV', 'CONJ'), 10),\n",
       " (('ADP', 'DET'), 10),\n",
       " (('VERB', 'VERB'), 10),\n",
       " (('NUM', 'ADJ'), 9),\n",
       " (('VERB', 'DET'), 9),\n",
       " (('ADJ', 'CONJ'), 9),\n",
       " (('ADP', 'VERB'), 9),\n",
       " (('ADV', 'DET'), 9),\n",
       " (('NOUN', 'PRT'), 8),\n",
       " (('PRT', '.'), 8),\n",
       " (('DET', 'ADV'), 7),\n",
       " (('ADJ', '.'), 7),\n",
       " (('PRON', 'ADP'), 7),\n",
       " (('.', 'VERB'), 6),\n",
       " (('ADV', 'ADV'), 6),\n",
       " (('CONJ', 'VERB'), 6),\n",
       " (('DET', 'PRT'), 6),\n",
       " (('NUM', 'ADP'), 6),\n",
       " (('PRT', 'ADP'), 6),\n",
       " (('PRT', 'PRT'), 5),\n",
       " (('PRON', 'NOUN'), 5),\n",
       " (('NOUN', 'DET'), 5),\n",
       " (('NOUN', 'NUM'), 5),\n",
       " (('NUM', '.'), 5),\n",
       " (('CONJ', 'CONJ'), 4),\n",
       " (('ADJ', 'VERB'), 4),\n",
       " (('.', 'PRT'), 4),\n",
       " (('ADP', 'PRT'), 4),\n",
       " (('PRON', 'PRT'), 4),\n",
       " (('NOUN', 'CONJ'), 4),\n",
       " (('.', 'NUM'), 4),\n",
       " (('DET', 'PRON'), 4),\n",
       " (('CONJ', 'ADV'), 4),\n",
       " (('CONJ', 'PRT'), 3),\n",
       " (('VERB', 'PRON'), 3),\n",
       " (('NOUN', 'ADV'), 3),\n",
       " (('ADJ', 'NUM'), 3),\n",
       " (('.', 'DET'), 3),\n",
       " (('ADV', 'PRON'), 3),\n",
       " (('NOUN', 'PRON'), 2),\n",
       " (('ADP', 'ADV'), 2),\n",
       " (('PRON', 'VERB'), 2),\n",
       " (('CONJ', 'NUM'), 2),\n",
       " (('ADJ', 'PRON'), 2),\n",
       " (('PRON', 'ADJ'), 2),\n",
       " (('PRON', '.'), 2),\n",
       " (('ADV', 'NUM'), 2),\n",
       " (('NUM', 'CONJ'), 1),\n",
       " (('DET', 'X'), 1),\n",
       " (('PRT', 'PRON'), 1),\n",
       " (('NUM', 'VERB'), 1),\n",
       " (('.', 'ADV'), 1),\n",
       " (('.', 'PRON'), 1),\n",
       " (('PRON', 'ADV'), 1),\n",
       " (('ADP', 'PRON'), 1),\n",
       " (('PRT', 'CONJ'), 1),\n",
       " (('NOUN', 'X'), 1)]"
      ]
     },
     "execution_count": 140,
     "metadata": {},
     "output_type": "execute_result"
    }
   ],
   "source": [
    "#Linker und rechter Kontext für ADJ:\n",
    "from nltk.corpus import brown\n",
    "brown_news_tagged = brown.tagged_words(categories='news', tagset='universal')\n",
    "word_tag_trigrams = nltk.trigrams(brown_news_tagged)\n",
    "adj_contexts = [(a[1], c[1]) for (a, b, c) in word_tag_trigrams if b[1] == 'ADJ']\n",
    "\n",
    "fdist = nltk.FreqDist(adj_contexts)\n",
    "[(tag, fq) for (tag, fq) in fdist.most_common()]"
   ]
  },
  {
   "cell_type": "code",
   "execution_count": 178,
   "metadata": {},
   "outputs": [
    {
     "data": {
      "text/plain": [
       "[('is', 77),\n",
       " ('be', 67),\n",
       " ('was', 44),\n",
       " ('are', 37),\n",
       " ('were', 26),\n",
       " ('been', 13),\n",
       " ('had', 11),\n",
       " ('made', 10),\n",
       " ('get', 9),\n",
       " ('become', 8),\n",
       " ('provide', 7),\n",
       " ('make', 7),\n",
       " ('has', 7),\n",
       " ('have', 6),\n",
       " ('getting', 4),\n",
       " ('give', 4),\n",
       " ('said', 4),\n",
       " (\"isn't\", 4),\n",
       " ('brought', 3),\n",
       " ('left', 3)]"
      ]
     },
     "execution_count": 178,
     "metadata": {},
     "output_type": "execute_result"
    }
   ],
   "source": [
    "#Beispiele aus Korpus für prädikative ('is good') bzw. adverbiale Verwendung ('left fast')\n",
    "from nltk.corpus import brown\n",
    "brown_news_tagged = brown.tagged_words(categories='news', tagset='universal')\n",
    "word_tag_pairs = nltk.bigrams(brown_news_tagged)\n",
    "noun_preceders = [a[0] for (a, b) in word_tag_pairs if b[1] == 'ADJ' and a[1] == 'VERB']\n",
    "fdist = nltk.FreqDist(noun_preceders)\n",
    "[(tag, fq) for (tag, fq) in fdist.most_common(20)]"
   ]
  },
  {
   "cell_type": "markdown",
   "metadata": {},
   "source": [
    "---\n",
    "\n",
    "## Konstituententests: Beispiel `ADJP` (Eliminierungstests)\n",
    "\n",
    "Ergebnis Eliminierungstest: `der sehr große Hund` > `*der sehr Hund`: ungrammatisch\n",
    "\n",
    "> Eine unter Erhalt der Grammatikalität eines Satzes weglassbare Wortfolge ist Konstituente"
   ]
  },
  {
   "cell_type": "code",
   "execution_count": 173,
   "metadata": {},
   "outputs": [],
   "source": [
    "# Grammatik als Ergebnis der folgenden Konstituententests (Eliminierungstests):\n",
    "grammar = nltk.CFG.fromstring(\"\"\"\n",
    "    NP -> Det ADJP N\n",
    "    ADJP -> Prt Adj\n",
    "    ADJP -> Adj\n",
    "    Det -> 'der'\n",
    "    N -> 'Hund'\n",
    "    Adj -> 'große' | 'kleine'\n",
    "    Prt -> 'sehr'\n",
    "\"\"\")\n",
    "\n",
    "parser = nltk.ShiftReduceParser(grammar,trace=2)"
   ]
  },
  {
   "cell_type": "code",
   "execution_count": 174,
   "metadata": {},
   "outputs": [
    {
     "name": "stdout",
     "output_type": "stream",
     "text": [
      "Parsing 'der sehr große Hund'\n",
      "    [ * der sehr große Hund]\n",
      "  S [ 'der' * sehr große Hund]\n",
      "  R [ Det * sehr große Hund]\n",
      "  S [ Det 'sehr' * große Hund]\n",
      "  R [ Det Prt * große Hund]\n",
      "  S [ Det Prt 'große' * Hund]\n",
      "  R [ Det Prt Adj * Hund]\n",
      "  R [ Det ADJP * Hund]\n",
      "  S [ Det ADJP 'Hund' * ]\n",
      "  R [ Det ADJP N * ]\n",
      "  R [ NP * ]\n",
      "\n",
      " (NP (Det der) (ADJP (Prt sehr) (Adj große)) (N Hund)) \n",
      "\n",
      "     NP                 \n",
      " ┌───┴────┬──────────┐   \n",
      " │       ADJP        │  \n",
      " │   ┌────┴─────┐    │   \n",
      "Det Prt        Adj   N  \n",
      " │   │          │    │   \n",
      "der sehr      große Hund\n",
      "\n"
     ]
    }
   ],
   "source": [
    "sent = 'der sehr große Hund'.split()\n",
    "for tree in parser.parse(sent):\n",
    "    print('\\n',tree,'\\n')\n",
    "    tree.pretty_print(unicodelines=True)"
   ]
  },
  {
   "cell_type": "code",
   "execution_count": 175,
   "metadata": {},
   "outputs": [
    {
     "name": "stdout",
     "output_type": "stream",
     "text": [
      "Parsing 'der Hund'\n",
      "    [ * der Hund]\n",
      "  S [ 'der' * Hund]\n",
      "  R [ Det * Hund]\n",
      "  S [ Det 'Hund' * ]\n",
      "  R [ Det N * ]\n"
     ]
    }
   ],
   "source": [
    "# 'sehr große' ist eliminierbar (unter Erhalt der Grammatikalität) \n",
    "#    > Konstituente (ADJP):\n",
    "sent = 'der Hund'.split()\n",
    "for tree in parser.parse(sent):\n",
    "    print('\\n',tree,'\\n')\n",
    "    tree.pretty_print(unicodelines=True)"
   ]
  },
  {
   "cell_type": "code",
   "execution_count": 172,
   "metadata": {},
   "outputs": [
    {
     "name": "stdout",
     "output_type": "stream",
     "text": [
      "Parsing 'der große Hund'\n",
      "    [ * der große Hund]\n",
      "  S [ 'der' * große Hund]\n",
      "  R [ Det * große Hund]\n",
      "  S [ Det 'große' * Hund]\n",
      "  R [ Det Adj * Hund]\n",
      "  R [ Det ADJP * Hund]\n",
      "  S [ Det ADJP 'Hund' * ]\n",
      "  R [ Det ADJP N * ]\n",
      "  R [ NP * ]\n",
      "\n",
      " (NP (Det der) (ADJP (Adj große)) (N Hund)) \n",
      "\n",
      "      NP      \n",
      " ┌────┼────┐   \n",
      " │   ADJP  │  \n",
      " │    │    │   \n",
      "Det  Adj   N  \n",
      " │    │    │   \n",
      "der große Hund\n",
      "\n"
     ]
    }
   ],
   "source": [
    "#Eliminierung Prt 'sehr' unter Erhalt der Grammatikalität \n",
    "#    > Adj ist Kopf der Konstituente = ADJP:\n",
    "sent = 'der große Hund'.split()\n",
    "for tree in parser.parse(sent):\n",
    "    print('\\n',tree,'\\n')\n",
    "    tree.pretty_print(unicodelines=True)"
   ]
  },
  {
   "cell_type": "code",
   "execution_count": 176,
   "metadata": {},
   "outputs": [
    {
     "name": "stdout",
     "output_type": "stream",
     "text": [
      "Parsing 'der sehr Hund'\n",
      "    [ * der sehr Hund]\n",
      "  S [ 'der' * sehr Hund]\n",
      "  R [ Det * sehr Hund]\n",
      "  S [ Det 'sehr' * Hund]\n",
      "  R [ Det Prt * Hund]\n",
      "  S [ Det Prt 'Hund' * ]\n",
      "  R [ Det Prt N * ]\n"
     ]
    }
   ],
   "source": [
    "#Eliminierung Adj 'große' ohne gleichzeitig Elim. von 'sehr' nicht möglich\n",
    "#    > ungrammatische Struktur (~ Grammatik findet keine Ableitung)\n",
    "#    > Ergebnis Eliminierungstest: 'große' ist keine Konstituente!\n",
    "sent = 'der sehr Hund'.split()\n",
    "for tree in parser.parse(sent):\n",
    "    print('\\n',tree,'\\n')\n",
    "    tree.pretty_print(unicodelines=True)"
   ]
  },
  {
   "cell_type": "markdown",
   "metadata": {},
   "source": [
    "#### aber Ergebnis Substitutionstest: Adj ist Konstituente\n",
    "\n",
    "> Eine unter Erhalt der Grammatikalität des Satzes durch eine andere Wortfolge ersetzbare Wortfolge ist Konstituente\n",
    "\n",
    "#### Merke: Eliminierungstest findet nur optionale Konstituenten (s.u. Dependenzanalyse) \n",
    "- also Modifikatoren wie das Attribut *sehr große* oder die optionale Erweiterung des Adjektivs um den Gradpartikel *sehr*"
   ]
  },
  {
   "cell_type": "code",
   "execution_count": 177,
   "metadata": {},
   "outputs": [
    {
     "name": "stdout",
     "output_type": "stream",
     "text": [
      "Parsing 'der sehr kleine Hund'\n",
      "    [ * der sehr kleine Hund]\n",
      "  S [ 'der' * sehr kleine Hund]\n",
      "  R [ Det * sehr kleine Hund]\n",
      "  S [ Det 'sehr' * kleine Hund]\n",
      "  R [ Det Prt * kleine Hund]\n",
      "  S [ Det Prt 'kleine' * Hund]\n",
      "  R [ Det Prt Adj * Hund]\n",
      "  R [ Det ADJP * Hund]\n",
      "  S [ Det ADJP 'Hund' * ]\n",
      "  R [ Det ADJP N * ]\n",
      "  R [ NP * ]\n",
      "\n",
      " (NP (Det der) (ADJP (Prt sehr) (Adj kleine)) (N Hund)) \n",
      "\n",
      "     NP                  \n",
      " ┌───┴────┬───────────┐   \n",
      " │       ADJP         │  \n",
      " │   ┌────┴─────┐     │   \n",
      "Det Prt        Adj    N  \n",
      " │   │          │     │   \n",
      "der sehr      kleine Hund\n",
      "\n"
     ]
    }
   ],
   "source": [
    "#Substitution des Adj möglich\n",
    "sent = 'der sehr kleine Hund'.split()\n",
    "for tree in parser.parse(sent):\n",
    "    print('\\n',tree,'\\n')\n",
    "    tree.pretty_print(unicodelines=True)"
   ]
  },
  {
   "cell_type": "markdown",
   "metadata": {},
   "source": [
    "--- \n",
    "\n",
    "### Vergleich mit Dependenzstruktur:"
   ]
  },
  {
   "cell_type": "code",
   "execution_count": 91,
   "metadata": {},
   "outputs": [],
   "source": [
    "# Grammatik als Ergebnis der folgenden Eliminierungstests:\n",
    "grammar = nltk.DependencyGrammar.fromstring(\"\"\"\n",
    "    'Hund' -> 'der' | 'große'\n",
    "    'große' -> 'sehr'\n",
    "    \"\"\")\n",
    "\n",
    "parser = nltk.ProjectiveDependencyParser(grammar)"
   ]
  },
  {
   "cell_type": "code",
   "execution_count": 98,
   "metadata": {},
   "outputs": [
    {
     "name": "stdout",
     "output_type": "stream",
     "text": [
      "    Hund      \n",
      " ┌───┴─────┐   \n",
      " │       große\n",
      " │         │   \n",
      "der       sehr\n",
      "\n"
     ]
    }
   ],
   "source": [
    "sent = 'der sehr große Hund'.split()\n",
    "for tree in parser.parse(sent):\n",
    "    tree.pretty_print(unicodelines=True)"
   ]
  },
  {
   "cell_type": "code",
   "execution_count": 89,
   "metadata": {},
   "outputs": [
    {
     "name": "stdout",
     "output_type": "stream",
     "text": [
      "Hund\n",
      " │   \n",
      "der \n",
      "\n"
     ]
    }
   ],
   "source": [
    "# 'sehr große' ist eliminierbar \n",
    "#    > optionale Einheit (Attribut) \n",
    "sent = 'der Hund'.split()\n",
    "for tree in parser.parse(sent):\n",
    "    tree.pretty_print(unicodelines=True)"
   ]
  },
  {
   "cell_type": "code",
   "execution_count": 88,
   "metadata": {},
   "outputs": [
    {
     "name": "stdout",
     "output_type": "stream",
     "text": [
      "    Hund      \n",
      " ┌───┴─────┐   \n",
      "der      große\n",
      "\n"
     ]
    }
   ],
   "source": [
    "#Prt 'sehr' ist eliminierbar\n",
    "#    >'sehr' ist optionale Einheit (Dependent von Adjektiv)\n",
    "sent = 'der große Hund'.split()\n",
    "for tree in parser.parse(sent):\n",
    "    tree.pretty_print(unicodelines=True)"
   ]
  },
  {
   "cell_type": "code",
   "execution_count": 99,
   "metadata": {},
   "outputs": [],
   "source": [
    "#Eliminierung Adj nicht möglich \n",
    "#    > 'sehr' kann als Dependent nicht ohne seinen Kopf ('große') auftreten\n",
    "sent = 'der sehr Hund'.split()\n",
    "for tree in parser.parse(sent):\n",
    "    tree.pretty_print(unicodelines=True)"
   ]
  },
  {
   "cell_type": "markdown",
   "metadata": {},
   "source": [
    "---\n",
    "\n",
    "## POS-Tagsets\n",
    "- http://www.nltk.org/book/ch05.html#tab-universal-tagset\n",
    "- https://www.ling.upenn.edu/courses/Fall_2003/ling001/penn_treebank_pos.html\n",
    "- https://www.linguistik.hu-berlin.de/de/institut/professuren/korpuslinguistik/mitarbeiter-innen/hagen/STTS_Tagset_Tiger\n",
    "- https://universaldependencies.org/u/pos/"
   ]
  },
  {
   "cell_type": "markdown",
   "metadata": {},
   "source": [
    "## Syntaktische Tagsets\n",
    "\n",
    "### Phrasenstruktur\n",
    "- http://www.surdeanu.info/mihai/teaching/ista555-fall13/readings/PennTreebankConstituents.html\n",
    "- https://www.linguistik.hu-berlin.de/de/institut/professuren/korpuslinguistik/mitarbeiter-innen/hagen/Tiger_Knotenlabels\n",
    "\n",
    "### Dependenzrelationen\n",
    "- https://universaldependencies.org/u/dep/"
   ]
  },
  {
   "cell_type": "code",
   "execution_count": 3,
   "metadata": {},
   "outputs": [
    {
     "name": "stdout",
     "output_type": "stream",
     "text": [
      "$: dollar\n",
      "    $ -$ --$ A$ C$ HK$ M$ NZ$ S$ U.S.$ US$\n",
      "'': closing quotation mark\n",
      "    ' ''\n",
      "(: opening parenthesis\n",
      "    ( [ {\n",
      "): closing parenthesis\n",
      "    ) ] }\n",
      ",: comma\n",
      "    ,\n",
      "--: dash\n",
      "    --\n",
      ".: sentence terminator\n",
      "    . ! ?\n",
      ":: colon or ellipsis\n",
      "    : ; ...\n",
      "CC: conjunction, coordinating\n",
      "    & 'n and both but either et for less minus neither nor or plus so\n",
      "    therefore times v. versus vs. whether yet\n",
      "CD: numeral, cardinal\n",
      "    mid-1890 nine-thirty forty-two one-tenth ten million 0.5 one forty-\n",
      "    seven 1987 twenty '79 zero two 78-degrees eighty-four IX '60s .025\n",
      "    fifteen 271,124 dozen quintillion DM2,000 ...\n",
      "DT: determiner\n",
      "    all an another any both del each either every half la many much nary\n",
      "    neither no some such that the them these this those\n",
      "EX: existential there\n",
      "    there\n",
      "FW: foreign word\n",
      "    gemeinschaft hund ich jeux habeas Haementeria Herr K'ang-si vous\n",
      "    lutihaw alai je jour objets salutaris fille quibusdam pas trop Monte\n",
      "    terram fiche oui corporis ...\n",
      "IN: preposition or conjunction, subordinating\n",
      "    astride among uppon whether out inside pro despite on by throughout\n",
      "    below within for towards near behind atop around if like until below\n",
      "    next into if beside ...\n",
      "JJ: adjective or numeral, ordinal\n",
      "    third ill-mannered pre-war regrettable oiled calamitous first separable\n",
      "    ectoplasmic battery-powered participatory fourth still-to-be-named\n",
      "    multilingual multi-disciplinary ...\n",
      "JJR: adjective, comparative\n",
      "    bleaker braver breezier briefer brighter brisker broader bumper busier\n",
      "    calmer cheaper choosier cleaner clearer closer colder commoner costlier\n",
      "    cozier creamier crunchier cuter ...\n",
      "JJS: adjective, superlative\n",
      "    calmest cheapest choicest classiest cleanest clearest closest commonest\n",
      "    corniest costliest crassest creepiest crudest cutest darkest deadliest\n",
      "    dearest deepest densest dinkiest ...\n",
      "LS: list item marker\n",
      "    A A. B B. C C. D E F First G H I J K One SP-44001 SP-44002 SP-44005\n",
      "    SP-44007 Second Third Three Two * a b c d first five four one six three\n",
      "    two\n",
      "MD: modal auxiliary\n",
      "    can cannot could couldn't dare may might must need ought shall should\n",
      "    shouldn't will would\n",
      "NN: noun, common, singular or mass\n",
      "    common-carrier cabbage knuckle-duster Casino afghan shed thermostat\n",
      "    investment slide humour falloff slick wind hyena override subhumanity\n",
      "    machinist ...\n",
      "NNP: noun, proper, singular\n",
      "    Motown Venneboerger Czestochwa Ranzer Conchita Trumplane Christos\n",
      "    Oceanside Escobar Kreisler Sawyer Cougar Yvette Ervin ODI Darryl CTCA\n",
      "    Shannon A.K.C. Meltex Liverpool ...\n",
      "NNPS: noun, proper, plural\n",
      "    Americans Americas Amharas Amityvilles Amusements Anarcho-Syndicalists\n",
      "    Andalusians Andes Andruses Angels Animals Anthony Antilles Antiques\n",
      "    Apache Apaches Apocrypha ...\n",
      "NNS: noun, common, plural\n",
      "    undergraduates scotches bric-a-brac products bodyguards facets coasts\n",
      "    divestitures storehouses designs clubs fragrances averages\n",
      "    subjectivists apprehensions muses factory-jobs ...\n",
      "PDT: pre-determiner\n",
      "    all both half many quite such sure this\n",
      "POS: genitive marker\n",
      "    ' 's\n",
      "PRP: pronoun, personal\n",
      "    hers herself him himself hisself it itself me myself one oneself ours\n",
      "    ourselves ownself self she thee theirs them themselves they thou thy us\n",
      "PRP$: pronoun, possessive\n",
      "    her his mine my our ours their thy your\n",
      "RB: adverb\n",
      "    occasionally unabatingly maddeningly adventurously professedly\n",
      "    stirringly prominently technologically magisterially predominately\n",
      "    swiftly fiscally pitilessly ...\n",
      "RBR: adverb, comparative\n",
      "    further gloomier grander graver greater grimmer harder harsher\n",
      "    healthier heavier higher however larger later leaner lengthier less-\n",
      "    perfectly lesser lonelier longer louder lower more ...\n",
      "RBS: adverb, superlative\n",
      "    best biggest bluntest earliest farthest first furthest hardest\n",
      "    heartiest highest largest least less most nearest second tightest worst\n",
      "RP: particle\n",
      "    aboard about across along apart around aside at away back before behind\n",
      "    by crop down ever fast for forth from go high i.e. in into just later\n",
      "    low more off on open out over per pie raising start teeth that through\n",
      "    under unto up up-pp upon whole with you\n",
      "SYM: symbol\n",
      "    % & ' '' ''. ) ). * + ,. < = > @ A[fj] U.S U.S.S.R * ** ***\n",
      "TO: \"to\" as preposition or infinitive marker\n",
      "    to\n",
      "UH: interjection\n",
      "    Goodbye Goody Gosh Wow Jeepers Jee-sus Hubba Hey Kee-reist Oops amen\n",
      "    huh howdy uh dammit whammo shucks heck anyways whodunnit honey golly\n",
      "    man baby diddle hush sonuvabitch ...\n",
      "VB: verb, base form\n",
      "    ask assemble assess assign assume atone attention avoid bake balkanize\n",
      "    bank begin behold believe bend benefit bevel beware bless boil bomb\n",
      "    boost brace break bring broil brush build ...\n",
      "VBD: verb, past tense\n",
      "    dipped pleaded swiped regummed soaked tidied convened halted registered\n",
      "    cushioned exacted snubbed strode aimed adopted belied figgered\n",
      "    speculated wore appreciated contemplated ...\n",
      "VBG: verb, present participle or gerund\n",
      "    telegraphing stirring focusing angering judging stalling lactating\n",
      "    hankerin' alleging veering capping approaching traveling besieging\n",
      "    encrypting interrupting erasing wincing ...\n",
      "VBN: verb, past participle\n",
      "    multihulled dilapidated aerosolized chaired languished panelized used\n",
      "    experimented flourished imitated reunifed factored condensed sheared\n",
      "    unsettled primed dubbed desired ...\n",
      "VBP: verb, present tense, not 3rd person singular\n",
      "    predominate wrap resort sue twist spill cure lengthen brush terminate\n",
      "    appear tend stray glisten obtain comprise detest tease attract\n",
      "    emphasize mold postpone sever return wag ...\n",
      "VBZ: verb, present tense, 3rd person singular\n",
      "    bases reconstructs marks mixes displeases seals carps weaves snatches\n",
      "    slumps stretches authorizes smolders pictures emerges stockpiles\n",
      "    seduces fizzes uses bolsters slaps speaks pleads ...\n",
      "WDT: WH-determiner\n",
      "    that what whatever which whichever\n",
      "WP: WH-pronoun\n",
      "    that what whatever whatsoever which who whom whosoever\n",
      "WP$: WH-pronoun, possessive\n",
      "    whose\n",
      "WRB: Wh-adverb\n",
      "    how however whence whenever where whereby whereever wherein whereof why\n",
      "``: opening quotation mark\n",
      "    ` ``\n"
     ]
    }
   ],
   "source": [
    "#nltk: Penn Treebank POS Tagset:\n",
    "nltk.help.upenn_tagset()"
   ]
  }
 ],
 "metadata": {
  "kernelspec": {
   "display_name": "Python 3",
   "language": "python",
   "name": "python3"
  },
  "language_info": {
   "codemirror_mode": {
    "name": "ipython",
    "version": 3
   },
   "file_extension": ".py",
   "mimetype": "text/x-python",
   "name": "python",
   "nbconvert_exporter": "python",
   "pygments_lexer": "ipython3",
   "version": "3.6.1"
  },
  "widgets": {
   "application/vnd.jupyter.widget-state+json": {
    "state": {
     "098dd75f65594c0f992ddeffeb8523e3": {
      "model_module": "@jupyter-widgets/controls",
      "model_module_version": "1.2.0",
      "model_name": "SliderStyleModel",
      "state": {
       "description_width": ""
      }
     },
     "0ccfa5129ab64950adda077f6ac8f44a": {
      "model_module": "@jupyter-widgets/controls",
      "model_module_version": "1.2.0",
      "model_name": "IntSliderModel",
      "state": {
       "layout": "IPY_MODEL_641f3cf31a334ee6810a9a92f93e89a7",
       "style": "IPY_MODEL_63aadafcc3504a3b8b15fdea9d4ec244",
       "value": 50
      }
     },
     "1b37a149a74c40c68d34c61b481048f8": {
      "model_module": "@jupyter-widgets/base",
      "model_module_version": "1.0.0",
      "model_name": "LayoutModel",
      "state": {}
     },
     "367694b2ecc94715a20952236f9ced88": {
      "model_module": "@jupyter-widgets/base",
      "model_module_version": "1.0.0",
      "model_name": "LayoutModel",
      "state": {}
     },
     "3d6ebd239fc84a8e95b3007988e38134": {
      "model_module": "@jupyter-widgets/controls",
      "model_module_version": "1.2.0",
      "model_name": "SliderStyleModel",
      "state": {
       "description_width": ""
      }
     },
     "63aadafcc3504a3b8b15fdea9d4ec244": {
      "model_module": "@jupyter-widgets/controls",
      "model_module_version": "1.2.0",
      "model_name": "SliderStyleModel",
      "state": {
       "description_width": ""
      }
     },
     "641f3cf31a334ee6810a9a92f93e89a7": {
      "model_module": "@jupyter-widgets/base",
      "model_module_version": "1.0.0",
      "model_name": "LayoutModel",
      "state": {}
     },
     "993ec756027845c19085347ca5f9f6ce": {
      "model_module": "@jupyter-widgets/controls",
      "model_module_version": "1.2.0",
      "model_name": "SliderStyleModel",
      "state": {
       "description_width": ""
      }
     },
     "bb743dc2dd2d4bb08dd2c5255e1d87c6": {
      "model_module": "@jupyter-widgets/controls",
      "model_module_version": "1.2.0",
      "model_name": "SliderStyleModel",
      "state": {
       "description_width": ""
      }
     },
     "cb4a4abdac584f78ac3b37579ac33b10": {
      "model_module": "@jupyter-widgets/controls",
      "model_module_version": "1.2.0",
      "model_name": "IntSliderModel",
      "state": {
       "layout": "IPY_MODEL_f25c2eb22704411b9981f8047a2c0182",
       "style": "IPY_MODEL_993ec756027845c19085347ca5f9f6ce",
       "value": 50
      }
     },
     "cfbb8ba5969a49e18a1733c50e6b73e4": {
      "model_module": "@jupyter-widgets/controls",
      "model_module_version": "1.2.0",
      "model_name": "IntSliderModel",
      "state": {
       "layout": "IPY_MODEL_1b37a149a74c40c68d34c61b481048f8",
       "style": "IPY_MODEL_3d6ebd239fc84a8e95b3007988e38134",
       "value": 50
      }
     },
     "da2e37629b7141b8a194c275f89ccef5": {
      "model_module": "@jupyter-widgets/base",
      "model_module_version": "1.0.0",
      "model_name": "LayoutModel",
      "state": {}
     },
     "eafa48b852af4f40b414b8d4f0b90c7a": {
      "model_module": "@jupyter-widgets/controls",
      "model_module_version": "1.2.0",
      "model_name": "IntSliderModel",
      "state": {
       "layout": "IPY_MODEL_da2e37629b7141b8a194c275f89ccef5",
       "style": "IPY_MODEL_bb743dc2dd2d4bb08dd2c5255e1d87c6"
      }
     },
     "f196171317cf493fabedf854f59c1d44": {
      "model_module": "@jupyter-widgets/controls",
      "model_module_version": "1.2.0",
      "model_name": "IntSliderModel",
      "state": {
       "layout": "IPY_MODEL_367694b2ecc94715a20952236f9ced88",
       "style": "IPY_MODEL_098dd75f65594c0f992ddeffeb8523e3"
      }
     },
     "f25c2eb22704411b9981f8047a2c0182": {
      "model_module": "@jupyter-widgets/base",
      "model_module_version": "1.0.0",
      "model_name": "LayoutModel",
      "state": {}
     }
    },
    "version_major": 2,
    "version_minor": 0
   }
  }
 },
 "nbformat": 4,
 "nbformat_minor": 2
}
