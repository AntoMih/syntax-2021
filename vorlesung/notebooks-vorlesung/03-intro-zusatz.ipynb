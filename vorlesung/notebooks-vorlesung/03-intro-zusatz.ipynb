{
 "cells": [
  {
   "cell_type": "markdown",
   "metadata": {},
   "source": [
    "***Vorlesung 'Syntax natürlicher Sprachen'***\n",
    "\n",
    "--- \n",
    "# \\**Zusatz Vorlesung 3: Konstituententests und Grammatiken*\n"
   ]
  },
  {
   "cell_type": "code",
   "execution_count": 1,
   "metadata": {},
   "outputs": [],
   "source": [
    "import nltk"
   ]
  },
  {
   "cell_type": "markdown",
   "metadata": {},
   "source": [
    "\n",
    "\n",
    "## Konstituententests: Beispiel `ADJP` (Eliminierungstests)\n",
    "\n",
    "Ergebnis Eliminierungstest: `der sehr große Hund` > `*der sehr Hund`: ungrammatisch\n",
    "\n",
    "> Eine unter Erhalt der Grammatikalität eines Satzes weglassbare Wortfolge ist Konstituente"
   ]
  },
  {
   "cell_type": "code",
   "execution_count": 2,
   "metadata": {},
   "outputs": [],
   "source": [
    "# Grammatik als Ergebnis der folgenden Konstituententests (Eliminierungstests):\n",
    "grammar = nltk.CFG.fromstring(\"\"\"\n",
    "    NP -> Det ADJP N\n",
    "    ADJP -> Prt Adj\n",
    "    ADJP -> Adj\n",
    "    Det -> 'der'\n",
    "    N -> 'Hund'\n",
    "    Adj -> 'große' | 'kleine'\n",
    "    Prt -> 'sehr'\n",
    "\"\"\")\n",
    "\n",
    "parser = nltk.ShiftReduceParser(grammar,trace=2)"
   ]
  },
  {
   "cell_type": "code",
   "execution_count": 3,
   "metadata": {},
   "outputs": [
    {
     "name": "stdout",
     "output_type": "stream",
     "text": [
      "Parsing 'der sehr große Hund'\n",
      "    [ * der sehr große Hund]\n",
      "  S [ 'der' * sehr große Hund]\n",
      "  R [ Det * sehr große Hund]\n",
      "  S [ Det 'sehr' * große Hund]\n",
      "  R [ Det Prt * große Hund]\n",
      "  S [ Det Prt 'große' * Hund]\n",
      "  R [ Det Prt Adj * Hund]\n",
      "  R [ Det ADJP * Hund]\n",
      "  S [ Det ADJP 'Hund' * ]\n",
      "  R [ Det ADJP N * ]\n",
      "  R [ NP * ]\n",
      "\n",
      " (NP (Det der) (ADJP (Prt sehr) (Adj große)) (N Hund)) \n",
      "\n",
      "     NP                 \n",
      " ┌───┴────┬──────────┐   \n",
      " │       ADJP        │  \n",
      " │   ┌────┴─────┐    │   \n",
      "Det Prt        Adj   N  \n",
      " │   │          │    │   \n",
      "der sehr      große Hund\n",
      "\n"
     ]
    }
   ],
   "source": [
    "sent = 'der sehr große Hund'.split()\n",
    "for tree in parser.parse(sent):\n",
    "    print('\\n',tree,'\\n')\n",
    "    tree.pretty_print(unicodelines=True)"
   ]
  },
  {
   "cell_type": "code",
   "execution_count": 4,
   "metadata": {},
   "outputs": [
    {
     "name": "stdout",
     "output_type": "stream",
     "text": [
      "Parsing 'der Hund'\n",
      "    [ * der Hund]\n",
      "  S [ 'der' * Hund]\n",
      "  R [ Det * Hund]\n",
      "  S [ Det 'Hund' * ]\n",
      "  R [ Det N * ]\n"
     ]
    }
   ],
   "source": [
    "# 'sehr große' ist eliminierbar (unter Erhalt der Grammatikalität) \n",
    "#    > Konstituente (ADJP):\n",
    "sent = 'der Hund'.split()\n",
    "for tree in parser.parse(sent):\n",
    "    print('\\n',tree,'\\n')\n",
    "    tree.pretty_print(unicodelines=True)"
   ]
  },
  {
   "cell_type": "code",
   "execution_count": 5,
   "metadata": {},
   "outputs": [
    {
     "name": "stdout",
     "output_type": "stream",
     "text": [
      "Parsing 'der große Hund'\n",
      "    [ * der große Hund]\n",
      "  S [ 'der' * große Hund]\n",
      "  R [ Det * große Hund]\n",
      "  S [ Det 'große' * Hund]\n",
      "  R [ Det Adj * Hund]\n",
      "  R [ Det ADJP * Hund]\n",
      "  S [ Det ADJP 'Hund' * ]\n",
      "  R [ Det ADJP N * ]\n",
      "  R [ NP * ]\n",
      "\n",
      " (NP (Det der) (ADJP (Adj große)) (N Hund)) \n",
      "\n",
      "      NP      \n",
      " ┌────┼────┐   \n",
      " │   ADJP  │  \n",
      " │    │    │   \n",
      "Det  Adj   N  \n",
      " │    │    │   \n",
      "der große Hund\n",
      "\n"
     ]
    }
   ],
   "source": [
    "#Eliminierung Prt 'sehr' unter Erhalt der Grammatikalität \n",
    "#    > Adj ist Kopf der Konstituente = ADJP:\n",
    "sent = 'der große Hund'.split()\n",
    "for tree in parser.parse(sent):\n",
    "    print('\\n',tree,'\\n')\n",
    "    tree.pretty_print(unicodelines=True)"
   ]
  },
  {
   "cell_type": "code",
   "execution_count": 6,
   "metadata": {},
   "outputs": [
    {
     "name": "stdout",
     "output_type": "stream",
     "text": [
      "Parsing 'der sehr Hund'\n",
      "    [ * der sehr Hund]\n",
      "  S [ 'der' * sehr Hund]\n",
      "  R [ Det * sehr Hund]\n",
      "  S [ Det 'sehr' * Hund]\n",
      "  R [ Det Prt * Hund]\n",
      "  S [ Det Prt 'Hund' * ]\n",
      "  R [ Det Prt N * ]\n"
     ]
    }
   ],
   "source": [
    "#Eliminierung Adj 'große' ohne gleichzeitig Elim. von 'sehr' nicht möglich\n",
    "#    > ungrammatische Struktur (~ Grammatik findet keine Ableitung)\n",
    "#    > Ergebnis Eliminierungstest: 'große' ist keine Konstituente!\n",
    "sent = 'der sehr Hund'.split()\n",
    "for tree in parser.parse(sent):\n",
    "    print('\\n',tree,'\\n')\n",
    "    tree.pretty_print(unicodelines=True)"
   ]
  },
  {
   "cell_type": "markdown",
   "metadata": {},
   "source": [
    "#### aber Ergebnis Substitutionstest: Adj ist Konstituente\n",
    "\n",
    "> Eine unter Erhalt der Grammatikalität des Satzes durch eine andere Wortfolge ersetzbare Wortfolge ist Konstituente\n",
    "\n",
    "#### Merke: Eliminierungstest findet nur optionale Konstituenten (s.u. Dependenzanalyse) \n",
    "- also Modifikatoren wie das Attribut *sehr große* oder die optionale Erweiterung des Adjektivs um den Gradpartikel *sehr*"
   ]
  },
  {
   "cell_type": "code",
   "execution_count": 7,
   "metadata": {},
   "outputs": [
    {
     "name": "stdout",
     "output_type": "stream",
     "text": [
      "Parsing 'der sehr kleine Hund'\n",
      "    [ * der sehr kleine Hund]\n",
      "  S [ 'der' * sehr kleine Hund]\n",
      "  R [ Det * sehr kleine Hund]\n",
      "  S [ Det 'sehr' * kleine Hund]\n",
      "  R [ Det Prt * kleine Hund]\n",
      "  S [ Det Prt 'kleine' * Hund]\n",
      "  R [ Det Prt Adj * Hund]\n",
      "  R [ Det ADJP * Hund]\n",
      "  S [ Det ADJP 'Hund' * ]\n",
      "  R [ Det ADJP N * ]\n",
      "  R [ NP * ]\n",
      "\n",
      " (NP (Det der) (ADJP (Prt sehr) (Adj kleine)) (N Hund)) \n",
      "\n",
      "     NP                  \n",
      " ┌───┴────┬───────────┐   \n",
      " │       ADJP         │  \n",
      " │   ┌────┴─────┐     │   \n",
      "Det Prt        Adj    N  \n",
      " │   │          │     │   \n",
      "der sehr      kleine Hund\n",
      "\n"
     ]
    }
   ],
   "source": [
    "#Substitution des Adj möglich\n",
    "sent = 'der sehr kleine Hund'.split()\n",
    "for tree in parser.parse(sent):\n",
    "    print('\\n',tree,'\\n')\n",
    "    tree.pretty_print(unicodelines=True)"
   ]
  },
  {
   "cell_type": "markdown",
   "metadata": {},
   "source": [
    "--- \n",
    "\n",
    "### Vergleich mit Dependenzstruktur:"
   ]
  },
  {
   "cell_type": "code",
   "execution_count": 8,
   "metadata": {},
   "outputs": [],
   "source": [
    "# Grammatik als Ergebnis der folgenden Eliminierungstests:\n",
    "grammar = nltk.DependencyGrammar.fromstring(\"\"\"\n",
    "    'Hund' -> 'der' | 'große'\n",
    "    'große' -> 'sehr'\n",
    "    \"\"\")\n",
    "\n",
    "parser = nltk.ProjectiveDependencyParser(grammar)"
   ]
  },
  {
   "cell_type": "code",
   "execution_count": 9,
   "metadata": {},
   "outputs": [
    {
     "name": "stdout",
     "output_type": "stream",
     "text": [
      "    Hund      \n",
      " ┌───┴─────┐   \n",
      " │       große\n",
      " │         │   \n",
      "der       sehr\n",
      "\n"
     ]
    }
   ],
   "source": [
    "sent = 'der sehr große Hund'.split()\n",
    "for tree in parser.parse(sent):\n",
    "    tree.pretty_print(unicodelines=True)"
   ]
  },
  {
   "cell_type": "code",
   "execution_count": 10,
   "metadata": {},
   "outputs": [
    {
     "name": "stdout",
     "output_type": "stream",
     "text": [
      "Hund\n",
      " │   \n",
      "der \n",
      "\n"
     ]
    }
   ],
   "source": [
    "# 'sehr große' ist eliminierbar \n",
    "#    > optionale Einheit (Attribut) \n",
    "sent = 'der Hund'.split()\n",
    "for tree in parser.parse(sent):\n",
    "    tree.pretty_print(unicodelines=True)"
   ]
  },
  {
   "cell_type": "code",
   "execution_count": 11,
   "metadata": {},
   "outputs": [
    {
     "name": "stdout",
     "output_type": "stream",
     "text": [
      "    Hund      \n",
      " ┌───┴─────┐   \n",
      "der      große\n",
      "\n"
     ]
    }
   ],
   "source": [
    "#Prt 'sehr' ist eliminierbar\n",
    "#    >'sehr' ist optionale Einheit (Dependent von Adjektiv)\n",
    "sent = 'der große Hund'.split()\n",
    "for tree in parser.parse(sent):\n",
    "    tree.pretty_print(unicodelines=True)"
   ]
  },
  {
   "cell_type": "code",
   "execution_count": 12,
   "metadata": {},
   "outputs": [],
   "source": [
    "#Eliminierung Adj nicht möglich \n",
    "#    > 'sehr' kann als Dependent nicht ohne seinen Kopf ('große') auftreten\n",
    "sent = 'der sehr Hund'.split()\n",
    "for tree in parser.parse(sent):\n",
    "    tree.pretty_print(unicodelines=True)"
   ]
  }
 ],
 "metadata": {
  "kernelspec": {
   "display_name": "Python 3",
   "language": "python",
   "name": "python3"
  },
  "language_info": {
   "codemirror_mode": {
    "name": "ipython",
    "version": 3
   },
   "file_extension": ".py",
   "mimetype": "text/x-python",
   "name": "python",
   "nbconvert_exporter": "python",
   "pygments_lexer": "ipython3",
   "version": "3.6.1"
  },
  "widgets": {
   "application/vnd.jupyter.widget-state+json": {
    "state": {
     "098dd75f65594c0f992ddeffeb8523e3": {
      "model_module": "@jupyter-widgets/controls",
      "model_module_version": "1.2.0",
      "model_name": "SliderStyleModel",
      "state": {
       "description_width": ""
      }
     },
     "0ccfa5129ab64950adda077f6ac8f44a": {
      "model_module": "@jupyter-widgets/controls",
      "model_module_version": "1.2.0",
      "model_name": "IntSliderModel",
      "state": {
       "layout": "IPY_MODEL_641f3cf31a334ee6810a9a92f93e89a7",
       "style": "IPY_MODEL_63aadafcc3504a3b8b15fdea9d4ec244",
       "value": 50
      }
     },
     "1b37a149a74c40c68d34c61b481048f8": {
      "model_module": "@jupyter-widgets/base",
      "model_module_version": "1.0.0",
      "model_name": "LayoutModel",
      "state": {}
     },
     "367694b2ecc94715a20952236f9ced88": {
      "model_module": "@jupyter-widgets/base",
      "model_module_version": "1.0.0",
      "model_name": "LayoutModel",
      "state": {}
     },
     "3d6ebd239fc84a8e95b3007988e38134": {
      "model_module": "@jupyter-widgets/controls",
      "model_module_version": "1.2.0",
      "model_name": "SliderStyleModel",
      "state": {
       "description_width": ""
      }
     },
     "63aadafcc3504a3b8b15fdea9d4ec244": {
      "model_module": "@jupyter-widgets/controls",
      "model_module_version": "1.2.0",
      "model_name": "SliderStyleModel",
      "state": {
       "description_width": ""
      }
     },
     "641f3cf31a334ee6810a9a92f93e89a7": {
      "model_module": "@jupyter-widgets/base",
      "model_module_version": "1.0.0",
      "model_name": "LayoutModel",
      "state": {}
     },
     "993ec756027845c19085347ca5f9f6ce": {
      "model_module": "@jupyter-widgets/controls",
      "model_module_version": "1.2.0",
      "model_name": "SliderStyleModel",
      "state": {
       "description_width": ""
      }
     },
     "bb743dc2dd2d4bb08dd2c5255e1d87c6": {
      "model_module": "@jupyter-widgets/controls",
      "model_module_version": "1.2.0",
      "model_name": "SliderStyleModel",
      "state": {
       "description_width": ""
      }
     },
     "cb4a4abdac584f78ac3b37579ac33b10": {
      "model_module": "@jupyter-widgets/controls",
      "model_module_version": "1.2.0",
      "model_name": "IntSliderModel",
      "state": {
       "layout": "IPY_MODEL_f25c2eb22704411b9981f8047a2c0182",
       "style": "IPY_MODEL_993ec756027845c19085347ca5f9f6ce",
       "value": 50
      }
     },
     "cfbb8ba5969a49e18a1733c50e6b73e4": {
      "model_module": "@jupyter-widgets/controls",
      "model_module_version": "1.2.0",
      "model_name": "IntSliderModel",
      "state": {
       "layout": "IPY_MODEL_1b37a149a74c40c68d34c61b481048f8",
       "style": "IPY_MODEL_3d6ebd239fc84a8e95b3007988e38134",
       "value": 50
      }
     },
     "da2e37629b7141b8a194c275f89ccef5": {
      "model_module": "@jupyter-widgets/base",
      "model_module_version": "1.0.0",
      "model_name": "LayoutModel",
      "state": {}
     },
     "eafa48b852af4f40b414b8d4f0b90c7a": {
      "model_module": "@jupyter-widgets/controls",
      "model_module_version": "1.2.0",
      "model_name": "IntSliderModel",
      "state": {
       "layout": "IPY_MODEL_da2e37629b7141b8a194c275f89ccef5",
       "style": "IPY_MODEL_bb743dc2dd2d4bb08dd2c5255e1d87c6"
      }
     },
     "f196171317cf493fabedf854f59c1d44": {
      "model_module": "@jupyter-widgets/controls",
      "model_module_version": "1.2.0",
      "model_name": "IntSliderModel",
      "state": {
       "layout": "IPY_MODEL_367694b2ecc94715a20952236f9ced88",
       "style": "IPY_MODEL_098dd75f65594c0f992ddeffeb8523e3"
      }
     },
     "f25c2eb22704411b9981f8047a2c0182": {
      "model_module": "@jupyter-widgets/base",
      "model_module_version": "1.0.0",
      "model_name": "LayoutModel",
      "state": {}
     }
    },
    "version_major": 2,
    "version_minor": 0
   }
  }
 },
 "nbformat": 4,
 "nbformat_minor": 2
}
