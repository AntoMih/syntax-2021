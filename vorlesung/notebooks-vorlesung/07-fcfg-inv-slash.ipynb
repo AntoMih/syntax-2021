{
 "cells": [
  {
   "cell_type": "markdown",
   "metadata": {},
   "source": [
    "***Vorlesung 'Syntax natürlicher Sprachen'***\n",
    "\n",
    "--- \n",
    "\n",
    "\n",
    "# FCFG mit Gap-Introduction (*long distance dependencies*)\n",
    "\n",
    "### https://www.nltk.org/book/ch09.html#unbounded-dependency-constructions\n",
    "\n",
    "#### vgl. https://www.nltk.org/book/ch09.html#auxiliary-verbs-and-inversion\n"
   ]
  },
  {
   "cell_type": "code",
   "execution_count": 1,
   "metadata": {},
   "outputs": [],
   "source": [
    "import nltk\n",
    "from nltk import Tree"
   ]
  },
  {
   "cell_type": "markdown",
   "metadata": {},
   "source": [
    "### 1. Ausgangsgrammatik ohne Inversionsregel und Gap-Introduction:"
   ]
  },
  {
   "cell_type": "code",
   "execution_count": 2,
   "metadata": {},
   "outputs": [
    {
     "name": "stdout",
     "output_type": "stream",
     "text": [
      "1\n"
     ]
    },
    {
     "data": {
      "image/png": "[encoded data removed]",
      "text/plain": [
       "Tree('S[]', [Tree('NP[]', [Tree('Pron[]', ['sie'])]), Tree('VP[]', [Tree('V[]', ['sieht']), Tree('NP[]', [Tree('Pron[]', ['ihn'])])])])"
      ]
     },
     "metadata": {},
     "output_type": "display_data"
    }
   ],
   "source": [
    "gramstring = r\"\"\"\n",
    "% start S\n",
    "    \n",
    "    S -> NP VP\n",
    "    VP  -> V NP     \n",
    "   \n",
    "   \n",
    "    NP -> Pron\n",
    "\n",
    "    Pron   -> \"sie\"\n",
    "    Pron   -> \"ihn\"\n",
    "    V   -> \"sieht\" \n",
    "\"\"\"\n",
    "\n",
    "grammar = nltk.grammar.FeatureGrammar.fromstring(gramstring)\n",
    "parser = nltk.parse.FeatureChartParser(grammar,trace=0)\n",
    "\n",
    "#'sie (sieht ihn)VP'\n",
    "sent = 'sie sieht ihn'.split()\n",
    "print(len(list(parser.parse(sent))))\n",
    "\n",
    "for tree in parser.parse(sent):\n",
    "    tree = Tree.fromstring(str(tree).replace(\", \",\",\"))\n",
    "    #tree.pretty_print(unicodelines=True)\n",
    "    display(tree)"
   ]
  },
  {
   "cell_type": "code",
   "execution_count": 3,
   "metadata": {},
   "outputs": [
    {
     "name": "stdout",
     "output_type": "stream",
     "text": [
      "0\n"
     ]
    }
   ],
   "source": [
    "#Regeln fehlen noch..\n",
    "sent = 'sieht sie ihn'.split()\n",
    "print(len(list(parser.parse(sent))))\n",
    "\n",
    "for tree in parser.parse(sent):\n",
    "    tree = Tree.fromstring(str(tree).replace(\", \",\",\"))\n",
    "    #tree.pretty_print(unicodelines=True)\n",
    "    display(tree)"
   ]
  },
  {
   "cell_type": "markdown",
   "metadata": {},
   "source": [
    "---\n",
    "\n",
    "### 2. FCFG mit Inversionsregel und Gap-Introduction über Slash-Syntax:\n",
    "\n",
    "- `VP/NP` entspricht `VP[SLASH=NP]` (NLTK verarbeitet Slash als Merkmal)  \n",
    "- `VP/NP` = *VP ohne NP / mit NP-Lücke*\n",
    "- `NP/NP -> ` = Realisierung *NP ohne NP* als leeren String (ε)"
   ]
  },
  {
   "cell_type": "code",
   "execution_count": 4,
   "metadata": {},
   "outputs": [
    {
     "name": "stdout",
     "output_type": "stream",
     "text": [
      "1\n"
     ]
    },
    {
     "data": {
      "image/png": "[encoded data removed]",
      "text/plain": [
       "Tree('S[+INV,+MOVE]', [Tree('VP[]/NP[]', [Tree('V[]', ['sieht']), Tree('NP[]/NP[]', [])]), Tree('NP[]', [Tree('Pron[]', ['sie'])]), Tree('NP[]', [Tree('Pron[]', ['ihn'])]), '?'])"
      ]
     },
     "metadata": {},
     "output_type": "display_data"
    }
   ],
   "source": [
    "gramstring = r\"\"\"\n",
    "% start S\n",
    "    \n",
    "    S[-INV] -> NP VP[-INV]\n",
    "    VP[-INV]  -> V NP     \n",
    "    \n",
    "#INVERSION SUBJEKT-VP in FRAGESATZ + MOVEMENT OBJEKT (Gap-Introduction):\n",
    "    S[+INV, +MOVE]  -> VP/NP NP NP '?'\n",
    "    \n",
    "#Gap-Information wird heruntergereicht:    \n",
    "    VP/?x  -> V NP/?x \n",
    "    NP/NP ->\n",
    "    \n",
    "    \n",
    "    NP -> Pron\n",
    "\n",
    "    Pron   -> \"sie\"\n",
    "    Pron   -> \"ihn\"\n",
    "    V   -> \"sieht\" \n",
    "\"\"\"\n",
    "\n",
    "grammar = nltk.grammar.FeatureGrammar.fromstring(gramstring)\n",
    "parser = nltk.parse.FeatureChartParser(grammar,trace=0)\n",
    "\n",
    "#'(sieht GAP=NP/NP)VP/NP sie (ihn)NP'\n",
    "sent = 'sieht sie ihn ?'.split()\n",
    "print(len(list(parser.parse(sent))))\n",
    "\n",
    "for tree in parser.parse(sent):\n",
    "    tree = Tree.fromstring(str(tree).replace(\", \",\",\"))\n",
    "    #tree.pretty_print(unicodelines=True)\n",
    "    display(tree)"
   ]
  },
  {
   "cell_type": "code",
   "execution_count": 5,
   "metadata": {},
   "outputs": [
    {
     "name": "stdout",
     "output_type": "stream",
     "text": [
      "1\n"
     ]
    },
    {
     "data": {
      "image/png": "[encoded data removed]",
      "text/plain": [
       "Tree('S[-INV]', [Tree('NP[]', [Tree('Pron[]', ['sie'])]), Tree('VP[-INV]', [Tree('V[]', ['sieht']), Tree('NP[]', [Tree('Pron[]', ['ihn'])])])])"
      ]
     },
     "metadata": {},
     "output_type": "display_data"
    }
   ],
   "source": [
    "#'sie (sieht ihn)VP'\n",
    "sent = 'sie sieht ihn'.split()\n",
    "print(len(list(parser.parse(sent))))\n",
    "\n",
    "for tree in parser.parse(sent):\n",
    "    tree = Tree.fromstring(str(tree).replace(\", \",\",\"))\n",
    "    #tree.pretty_print(unicodelines=True)\n",
    "    display(tree)"
   ]
  },
  {
   "cell_type": "code",
   "execution_count": 6,
   "metadata": {},
   "outputs": [
    {
     "name": "stdout",
     "output_type": "stream",
     "text": [
      "1\n"
     ]
    },
    {
     "data": {
      "image/png": "[encoded data removed]",
      "text/plain": [
       "Tree('S[+INV,+MOVE]', [Tree('VP[]/NP[]', [Tree('V[]', ['sieht']), Tree('NP[]/NP[]', [])]), Tree('NP[]', [Tree('Pron[]', ['ihn'])]), Tree('NP[]', [Tree('Pron[]', ['sie'])]), '?'])"
      ]
     },
     "metadata": {},
     "output_type": "display_data"
    }
   ],
   "source": [
    "#NEGATIVBEISPIEL:\n",
    "sent = 'sieht ihn sie ?'.split()\n",
    "print(len(list(parser.parse(sent))))\n",
    "\n",
    "for tree in parser.parse(sent):\n",
    "    tree = Tree.fromstring(str(tree).replace(\", \",\",\"))\n",
    "    #tree.pretty_print(unicodelines=True)\n",
    "    display(tree)    \n",
    "    "
   ]
  },
  {
   "cell_type": "markdown",
   "metadata": {},
   "source": [
    "---\n",
    "\n",
    "### 3. FCFG mit zusätzlichem `CASE`-Constraint:"
   ]
  },
  {
   "cell_type": "code",
   "execution_count": 7,
   "metadata": {},
   "outputs": [
    {
     "name": "stdout",
     "output_type": "stream",
     "text": [
      "1\n"
     ]
    },
    {
     "data": {
      "image/png": "[encoded data removed]",
      "text/plain": [
       "Tree('S[+INV,+MOVE]', [Tree('VP[]/NP[]', [Tree('V[]', ['sieht']), Tree('NP[]/NP[]', [])]), Tree('NP[CASE=?c]', [Tree('Pron[]', ['sie'])]), Tree(\"NP[CASE='acc']\", [Tree(\"Pron[CASE='acc']\", ['ihn'])]), '?'])"
      ]
     },
     "metadata": {},
     "output_type": "display_data"
    }
   ],
   "source": [
    "gramstring = r\"\"\"\n",
    "% start S\n",
    "    \n",
    "    S[-INV] -> NP[CASE=nom] VP[-INV]\n",
    "    VP[-INV]  -> V NP[CASE=acc]     \n",
    "    \n",
    "#INVERSION SUBJEKT-VP in FRAGESATZ + MOVEMENT OBJEKT (Gap-Introduction):\n",
    "    S[+INV, +MOVE]  -> VP/NP NP[CASE=nom] NP[CASE=acc] '?'\n",
    "    \n",
    "#Gap-Information wird heruntergereicht:    \n",
    "    VP/?x  -> V NP/?x \n",
    "    NP/NP ->\n",
    "    \n",
    "    \n",
    "    NP[CASE=?c] -> Pron[CASE=?c]\n",
    "\n",
    "    Pron   -> \"sie\"\n",
    "    Pron[CASE=acc]   -> \"ihn\"\n",
    "    V   -> \"sieht\" \n",
    "\"\"\"\n",
    "\n",
    "grammar = nltk.grammar.FeatureGrammar.fromstring(gramstring)\n",
    "parser = nltk.parse.FeatureChartParser(grammar,trace=0)\n",
    "\n",
    "#'(sieht GAP=NP/NP)VP/NP sie (ihn)NP'\n",
    "sent = 'sieht sie ihn ?'.split()\n",
    "print(len(list(parser.parse(sent))))\n",
    "\n",
    "for tree in parser.parse(sent):\n",
    "    tree = Tree.fromstring(str(tree).replace(\", \",\",\"))\n",
    "    #tree.pretty_print(unicodelines=True)\n",
    "    display(tree)"
   ]
  },
  {
   "cell_type": "code",
   "execution_count": 8,
   "metadata": {},
   "outputs": [
    {
     "name": "stdout",
     "output_type": "stream",
     "text": [
      "1\n"
     ]
    },
    {
     "data": {
      "image/png": "[encoded data removed]",
      "text/plain": [
       "Tree('S[-INV]', [Tree('NP[CASE=?c]', [Tree('Pron[]', ['sie'])]), Tree('VP[-INV]', [Tree('V[]', ['sieht']), Tree(\"NP[CASE='acc']\", [Tree(\"Pron[CASE='acc']\", ['ihn'])])])])"
      ]
     },
     "metadata": {},
     "output_type": "display_data"
    }
   ],
   "source": [
    "#'sie (sieht ihn)VP'\n",
    "sent = 'sie sieht ihn'.split()\n",
    "print(len(list(parser.parse(sent))))\n",
    "\n",
    "for tree in parser.parse(sent):\n",
    "    tree = Tree.fromstring(str(tree).replace(\", \",\",\"))\n",
    "    #tree.pretty_print(unicodelines=True)\n",
    "    display(tree)"
   ]
  },
  {
   "cell_type": "code",
   "execution_count": 9,
   "metadata": {},
   "outputs": [
    {
     "name": "stdout",
     "output_type": "stream",
     "text": [
      "0\n"
     ]
    }
   ],
   "source": [
    "#NEGATIVBEISPIEL:\n",
    "sent = 'sieht ihn sie ?'.split()\n",
    "print(len(list(parser.parse(sent))))\n",
    "\n",
    "for tree in parser.parse(sent):\n",
    "    tree = Tree.fromstring(str(tree).replace(\", \",\",\"))\n",
    "    #tree.pretty_print(unicodelines=True)\n",
    "    display(tree)    "
   ]
  },
  {
   "cell_type": "markdown",
   "metadata": {},
   "source": [
    "---\n",
    "\n",
    "### 4. FCFG mit getrennten Inversions- und Movement-Regeln:"
   ]
  },
  {
   "cell_type": "code",
   "execution_count": 10,
   "metadata": {},
   "outputs": [
    {
     "name": "stdout",
     "output_type": "stream",
     "text": [
      "1\n"
     ]
    },
    {
     "data": {
      "image/png": "[encoded data removed]",
      "text/plain": [
       "Tree('S[+MOVE]', [Tree('S[+INV]/NP[]', [Tree('VP[]/NP[]', [Tree('V[]', ['sieht']), Tree('NP[]/NP[]', [])]), Tree('NP[CASE=?c]', [Tree('Pron[]', ['sie'])])]), Tree(\"NP[CASE='acc']\", [Tree(\"Pron[CASE='acc']\", ['ihn'])]), '?'])"
      ]
     },
     "metadata": {},
     "output_type": "display_data"
    }
   ],
   "source": [
    "gramstring = r\"\"\"\n",
    "% start S\n",
    "\n",
    "    S[-INV] -> NP[CASE=nom] VP[-INV]\n",
    "    VP[-INV]  -> V NP[CASE=acc]     \n",
    "\n",
    "\n",
    "#SCHRITT 1 = SUBJEKT-VP-INVERSION: '(sieht ihn)VP-INV sie': \n",
    "    S[+INV]/?x  -> VP/?x NP[CASE=nom]\n",
    "\n",
    "#SCHRITT 2 = MOVEMENT von OBJEKT aus VP an SATZENDE: '(sieht)VP-INV/NP sie (ihn)NP-acc?':\n",
    "#(Gap-Introduction)\n",
    "    S[+MOVE] -> S[+INV]/NP NP '?'\n",
    "\n",
    "#Gap-Information wird heruntergereicht:    \n",
    "    VP/?x  -> V NP/?x \n",
    "    NP/NP ->    \n",
    "    \n",
    "    \n",
    "    NP[CASE=?c] -> Pron[CASE=?c]\n",
    "\n",
    "    Pron   -> \"sie\"\n",
    "    Pron[CASE=acc]   -> \"ihn\"\n",
    "    V   -> \"sieht\" \n",
    "\"\"\"\n",
    "\n",
    "grammar = nltk.grammar.FeatureGrammar.fromstring(gramstring)\n",
    "parser = nltk.parse.FeatureChartParser(grammar,trace=0)\n",
    "\n",
    "#'((sieht GAP=NP/NP)VP/NP sie)S/NP (ihn)NP'\n",
    "sent = 'sieht sie ihn ?'.split()\n",
    "print(len(list(parser.parse(sent))))\n",
    "\n",
    "for tree in parser.parse(sent):\n",
    "    tree = Tree.fromstring(str(tree).replace(\", \",\",\"))\n",
    "    #tree.pretty_print(unicodelines=True)\n",
    "    display(tree)"
   ]
  },
  {
   "cell_type": "code",
   "execution_count": 11,
   "metadata": {},
   "outputs": [
    {
     "name": "stdout",
     "output_type": "stream",
     "text": [
      "1\n"
     ]
    },
    {
     "data": {
      "image/png": "[encoded data removed]",
      "text/plain": [
       "Tree('S[-INV]', [Tree('NP[CASE=?c]', [Tree('Pron[]', ['sie'])]), Tree('VP[-INV]', [Tree('V[]', ['sieht']), Tree(\"NP[CASE='acc']\", [Tree(\"Pron[CASE='acc']\", ['ihn'])])])])"
      ]
     },
     "metadata": {},
     "output_type": "display_data"
    }
   ],
   "source": [
    "#'sie (sieht ihn)VP'\n",
    "sent = 'sie sieht ihn'.split()\n",
    "print(len(list(parser.parse(sent))))\n",
    "\n",
    "for tree in parser.parse(sent):\n",
    "    tree = Tree.fromstring(str(tree).replace(\", \",\",\"))\n",
    "    #tree.pretty_print(unicodelines=True)\n",
    "    display(tree)"
   ]
  },
  {
   "cell_type": "code",
   "execution_count": 12,
   "metadata": {},
   "outputs": [
    {
     "name": "stdout",
     "output_type": "stream",
     "text": [
      "0\n"
     ]
    }
   ],
   "source": [
    "#NEGATIVBEISPIEL:\n",
    "sent = 'sieht ihn sie ?'.split()\n",
    "print(len(list(parser.parse(sent))))\n",
    "\n",
    "for tree in parser.parse(sent):\n",
    "    tree = Tree.fromstring(str(tree).replace(\", \",\",\"))\n",
    "    #tree.pretty_print(unicodelines=True)\n",
    "    display(tree)    \n",
    "    "
   ]
  }
 ],
 "metadata": {
  "kernelspec": {
   "display_name": "Python 3",
   "language": "python",
   "name": "python3"
  },
  "language_info": {
   "codemirror_mode": {
    "name": "ipython",
    "version": 3
   },
   "file_extension": ".py",
   "mimetype": "text/x-python",
   "name": "python",
   "nbconvert_exporter": "python",
   "pygments_lexer": "ipython3",
   "version": "3.6.1"
  },
  "widgets": {
   "application/vnd.jupyter.widget-state+json": {
    "state": {
     "098dd75f65594c0f992ddeffeb8523e3": {
      "model_module": "@jupyter-widgets/controls",
      "model_module_version": "1.2.0",
      "model_name": "SliderStyleModel",
      "state": {
       "description_width": ""
      }
     },
     "0ccfa5129ab64950adda077f6ac8f44a": {
      "model_module": "@jupyter-widgets/controls",
      "model_module_version": "1.2.0",
      "model_name": "IntSliderModel",
      "state": {
       "layout": "IPY_MODEL_641f3cf31a334ee6810a9a92f93e89a7",
       "style": "IPY_MODEL_63aadafcc3504a3b8b15fdea9d4ec244",
       "value": 50
      }
     },
     "1b37a149a74c40c68d34c61b481048f8": {
      "model_module": "@jupyter-widgets/base",
      "model_module_version": "1.0.0",
      "model_name": "LayoutModel",
      "state": {}
     },
     "367694b2ecc94715a20952236f9ced88": {
      "model_module": "@jupyter-widgets/base",
      "model_module_version": "1.0.0",
      "model_name": "LayoutModel",
      "state": {}
     },
     "3d6ebd239fc84a8e95b3007988e38134": {
      "model_module": "@jupyter-widgets/controls",
      "model_module_version": "1.2.0",
      "model_name": "SliderStyleModel",
      "state": {
       "description_width": ""
      }
     },
     "63aadafcc3504a3b8b15fdea9d4ec244": {
      "model_module": "@jupyter-widgets/controls",
      "model_module_version": "1.2.0",
      "model_name": "SliderStyleModel",
      "state": {
       "description_width": ""
      }
     },
     "641f3cf31a334ee6810a9a92f93e89a7": {
      "model_module": "@jupyter-widgets/base",
      "model_module_version": "1.0.0",
      "model_name": "LayoutModel",
      "state": {}
     },
     "993ec756027845c19085347ca5f9f6ce": {
      "model_module": "@jupyter-widgets/controls",
      "model_module_version": "1.2.0",
      "model_name": "SliderStyleModel",
      "state": {
       "description_width": ""
      }
     },
     "bb743dc2dd2d4bb08dd2c5255e1d87c6": {
      "model_module": "@jupyter-widgets/controls",
      "model_module_version": "1.2.0",
      "model_name": "SliderStyleModel",
      "state": {
       "description_width": ""
      }
     },
     "cb4a4abdac584f78ac3b37579ac33b10": {
      "model_module": "@jupyter-widgets/controls",
      "model_module_version": "1.2.0",
      "model_name": "IntSliderModel",
      "state": {
       "layout": "IPY_MODEL_f25c2eb22704411b9981f8047a2c0182",
       "style": "IPY_MODEL_993ec756027845c19085347ca5f9f6ce",
       "value": 50
      }
     },
     "cfbb8ba5969a49e18a1733c50e6b73e4": {
      "model_module": "@jupyter-widgets/controls",
      "model_module_version": "1.2.0",
      "model_name": "IntSliderModel",
      "state": {
       "layout": "IPY_MODEL_1b37a149a74c40c68d34c61b481048f8",
       "style": "IPY_MODEL_3d6ebd239fc84a8e95b3007988e38134",
       "value": 50
      }
     },
     "da2e37629b7141b8a194c275f89ccef5": {
      "model_module": "@jupyter-widgets/base",
      "model_module_version": "1.0.0",
      "model_name": "LayoutModel",
      "state": {}
     },
     "eafa48b852af4f40b414b8d4f0b90c7a": {
      "model_module": "@jupyter-widgets/controls",
      "model_module_version": "1.2.0",
      "model_name": "IntSliderModel",
      "state": {
       "layout": "IPY_MODEL_da2e37629b7141b8a194c275f89ccef5",
       "style": "IPY_MODEL_bb743dc2dd2d4bb08dd2c5255e1d87c6"
      }
     },
     "f196171317cf493fabedf854f59c1d44": {
      "model_module": "@jupyter-widgets/controls",
      "model_module_version": "1.2.0",
      "model_name": "IntSliderModel",
      "state": {
       "layout": "IPY_MODEL_367694b2ecc94715a20952236f9ced88",
       "style": "IPY_MODEL_098dd75f65594c0f992ddeffeb8523e3"
      }
     },
     "f25c2eb22704411b9981f8047a2c0182": {
      "model_module": "@jupyter-widgets/base",
      "model_module_version": "1.0.0",
      "model_name": "LayoutModel",
      "state": {}
     }
    },
    "version_major": 2,
    "version_minor": 0
   }
  }
 },
 "nbformat": 4,
 "nbformat_minor": 2
}
