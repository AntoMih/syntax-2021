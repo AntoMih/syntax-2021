{
 "cells": [
  {
   "cell_type": "markdown",
   "metadata": {},
   "source": [
    "***Vorlesung 'Syntax natürlicher Sprachen'***\n",
    "\n",
    "--- \n",
    "# Zusatz: Relativsätze *center-embedding'-Rekursion\n"
   ]
  },
  {
   "cell_type": "code",
   "execution_count": 1,
   "metadata": {},
   "outputs": [],
   "source": [
    "import nltk"
   ]
  },
  {
   "cell_type": "markdown",
   "metadata": {},
   "source": [
    "\n",
    "## Rekursion in Phrasenstrukturgrammatik: *center-embedding* von Relativsätzen"
   ]
  },
  {
   "cell_type": "code",
   "execution_count": 2,
   "metadata": {},
   "outputs": [],
   "source": [
    "grammar = nltk.CFG.fromstring(\"\"\"\n",
    "## Syntaktische Regeln:\n",
    "    S -> NP VP\n",
    "    NP -> Det N\n",
    "    NP -> Det N Relpron NP VP\n",
    "    VP -> V\n",
    "##Lexikalische Regeln:\n",
    "    Det -> 'die'\n",
    "    Relpron -> 'welche'\n",
    "    N -> 'Katze'\n",
    "    V -> 'erschrickt' \n",
    "\"\"\")\n",
    "\n",
    "parser = nltk.ChartParser(grammar,trace=0)"
   ]
  },
  {
   "cell_type": "code",
   "execution_count": 3,
   "metadata": {},
   "outputs": [
    {
     "name": "stdout",
     "output_type": "stream",
     "text": [
      "die Katze erschrickt\n",
      "die Katze welche die Katze erschrickt erschrickt\n",
      "die Katze welche die Katze welche die Katze erschrickt erschrickt erschrickt\n"
     ]
    }
   ],
   "source": [
    "#Generierung:\n",
    "from nltk.parse.generate import generate\n",
    "for sentence in generate(grammar, depth=6):\n",
    "    print(' '.join(sentence))"
   ]
  },
  {
   "cell_type": "code",
   "execution_count": 4,
   "metadata": {},
   "outputs": [],
   "source": [
    "#mit erweiterten lexikalischen Regeln:\n",
    "grammar = nltk.CFG.fromstring(\"\"\"\n",
    "## Syntaktische Regeln:\n",
    "    S -> NP VP\n",
    "    NP -> Det N\n",
    "    NP -> Det N Relpron NP VP\n",
    "    VP -> V\n",
    "##Lexikalische Regeln:\n",
    "    Det -> 'die'\n",
    "    Relpron -> 'welche'\n",
    "    N -> 'Katze' | 'Maus'\n",
    "    V -> 'sieht' | 'beobachtet' | 'erschrickt' \n",
    "\"\"\")\n",
    "\n",
    "parser = nltk.ChartParser(grammar,trace=0)"
   ]
  },
  {
   "cell_type": "code",
   "execution_count": 5,
   "metadata": {},
   "outputs": [
    {
     "name": "stdout",
     "output_type": "stream",
     "text": [
      "(S (NP (Det die) (N Maus)) (VP (V erschrickt)))\n",
      "         S             \n",
      "     ┌───┴───────┐      \n",
      "     NP          VP    \n",
      " ┌───┴───┐       │      \n",
      "Det      N       V     \n",
      " │       │       │      \n",
      "die     Maus erschrickt\n",
      "\n"
     ]
    }
   ],
   "source": [
    "sent = 'die Maus erschrickt'.split()\n",
    "for tree in parser.parse(sent):\n",
    "    print(tree)\n",
    "    tree.pretty_print(unicodelines=True)"
   ]
  },
  {
   "cell_type": "code",
   "execution_count": 6,
   "metadata": {},
   "outputs": [
    {
     "name": "stdout",
     "output_type": "stream",
     "text": [
      "                  S                            \n",
      "            ┌─────┴──────────────────────┐      \n",
      "            NP                           │     \n",
      " ┌───┬──────┼─────────┬──────────┐       │      \n",
      " │   │      │         NP         VP      VP    \n",
      " │   │      │     ┌───┴────┐     │       │      \n",
      "Det  N   Relpron Det       N     V       V     \n",
      " │   │      │     │        │     │       │      \n",
      "die Maus  welche die     Katze sieht erschrickt\n",
      "\n"
     ]
    }
   ],
   "source": [
    "sent = 'die Maus welche die Katze sieht erschrickt'.split()\n",
    "for tree in parser.parse(sent):\n",
    "    #print(tree)\n",
    "    tree.pretty_print(unicodelines=True)"
   ]
  },
  {
   "cell_type": "code",
   "execution_count": 7,
   "metadata": {},
   "outputs": [
    {
     "name": "stdout",
     "output_type": "stream",
     "text": [
      "                              S                                            \n",
      "                       ┌──────┴──────────────────────────────────────┐      \n",
      "                       NP                                            │     \n",
      " ┌───┬──────┬──────────┴──────┬──────────────────────────────┐       │      \n",
      " │   │      │                 NP                             │       │     \n",
      " │   │      │     ┌────┬──────┼─────────┬───────────┐        │       │      \n",
      " │   │      │     │    │      │         NP          VP       VP      VP    \n",
      " │   │      │     │    │      │     ┌───┴───┐       │        │       │      \n",
      "Det  N   Relpron Det   N   Relpron Det      N       V        V       V     \n",
      " │   │      │     │    │      │     │       │       │        │       │      \n",
      "die Maus  welche die Katze  welche die     Maus beobachtet sieht erschrickt\n",
      "\n"
     ]
    }
   ],
   "source": [
    "##Center-Embedding:\n",
    "sent = 'die Maus welche die Katze welche die Maus beobachtet sieht erschrickt'.split()\n",
    "for tree in parser.parse(sent):\n",
    "    #print(tree)\n",
    "    tree.pretty_print(unicodelines=True)"
   ]
  },
  {
   "cell_type": "markdown",
   "metadata": {},
   "source": [
    "## Dependenzanalyse:"
   ]
  },
  {
   "cell_type": "code",
   "execution_count": 8,
   "metadata": {},
   "outputs": [],
   "source": [
    "grammar = nltk.DependencyGrammar.fromstring(\"\"\"\n",
    "    'erschrickt' -> 'Maus'\n",
    "    'Katze' -> 'die' | 'beobachtet'\n",
    "    'Maus' -> 'die' | 'sieht'\n",
    "    'sieht' -> 'welche' | 'Katze'\n",
    "    'beobachtet' -> 'welche' | 'Maus'\n",
    "    \"\"\")\n",
    "\n",
    "parser = nltk.ProjectiveDependencyParser(grammar)"
   ]
  },
  {
   "cell_type": "code",
   "execution_count": 9,
   "metadata": {},
   "outputs": [
    {
     "name": "stdout",
     "output_type": "stream",
     "text": [
      "    erschrickt            \n",
      "        │                  \n",
      "       Maus               \n",
      " ┌──────┴────────┐         \n",
      " │             sieht      \n",
      " │      ┌────────┴─────┐   \n",
      " │      │            Katze\n",
      " │      │              │   \n",
      "die   welche          die \n",
      "\n"
     ]
    }
   ],
   "source": [
    "sent = 'die Maus welche die Katze sieht erschrickt'.split()\n",
    "\n",
    "for tree in parser.parse(sent):\n",
    "    tree.pretty_print(unicodelines=True)"
   ]
  },
  {
   "cell_type": "code",
   "execution_count": 10,
   "metadata": {},
   "outputs": [
    {
     "name": "stdout",
     "output_type": "stream",
     "text": [
      "           erschrickt                             \n",
      "               │                                   \n",
      "              Maus                                \n",
      " ┌─────────────┴────────┐                          \n",
      " │                    sieht                       \n",
      " │    ┌─────────────────┴─────┐                    \n",
      " │    │                     Katze                 \n",
      " │    │        ┌──────────────┴────────┐           \n",
      " │    │        │                   beobachtet     \n",
      " │    │        │              ┌────────┴───────┐   \n",
      " │    │        │              │               Maus\n",
      " │    │        │              │                │   \n",
      "die welche    die           welche            die \n",
      "\n"
     ]
    }
   ],
   "source": [
    "sent = 'die Maus welche die Katze welche die Maus beobachtet sieht erschrickt'.split()\n",
    "\n",
    "for tree in parser.parse(sent):\n",
    "    tree.pretty_print(unicodelines=True)"
   ]
  }
 ],
 "metadata": {
  "kernelspec": {
   "display_name": "Python 3",
   "language": "python",
   "name": "python3"
  },
  "language_info": {
   "codemirror_mode": {
    "name": "ipython",
    "version": 3
   },
   "file_extension": ".py",
   "mimetype": "text/x-python",
   "name": "python",
   "nbconvert_exporter": "python",
   "pygments_lexer": "ipython3",
   "version": "3.6.1"
  },
  "widgets": {
   "application/vnd.jupyter.widget-state+json": {
    "state": {
     "098dd75f65594c0f992ddeffeb8523e3": {
      "model_module": "@jupyter-widgets/controls",
      "model_module_version": "1.2.0",
      "model_name": "SliderStyleModel",
      "state": {
       "description_width": ""
      }
     },
     "0ccfa5129ab64950adda077f6ac8f44a": {
      "model_module": "@jupyter-widgets/controls",
      "model_module_version": "1.2.0",
      "model_name": "IntSliderModel",
      "state": {
       "layout": "IPY_MODEL_641f3cf31a334ee6810a9a92f93e89a7",
       "style": "IPY_MODEL_63aadafcc3504a3b8b15fdea9d4ec244",
       "value": 50
      }
     },
     "1b37a149a74c40c68d34c61b481048f8": {
      "model_module": "@jupyter-widgets/base",
      "model_module_version": "1.0.0",
      "model_name": "LayoutModel",
      "state": {}
     },
     "367694b2ecc94715a20952236f9ced88": {
      "model_module": "@jupyter-widgets/base",
      "model_module_version": "1.0.0",
      "model_name": "LayoutModel",
      "state": {}
     },
     "3d6ebd239fc84a8e95b3007988e38134": {
      "model_module": "@jupyter-widgets/controls",
      "model_module_version": "1.2.0",
      "model_name": "SliderStyleModel",
      "state": {
       "description_width": ""
      }
     },
     "63aadafcc3504a3b8b15fdea9d4ec244": {
      "model_module": "@jupyter-widgets/controls",
      "model_module_version": "1.2.0",
      "model_name": "SliderStyleModel",
      "state": {
       "description_width": ""
      }
     },
     "641f3cf31a334ee6810a9a92f93e89a7": {
      "model_module": "@jupyter-widgets/base",
      "model_module_version": "1.0.0",
      "model_name": "LayoutModel",
      "state": {}
     },
     "993ec756027845c19085347ca5f9f6ce": {
      "model_module": "@jupyter-widgets/controls",
      "model_module_version": "1.2.0",
      "model_name": "SliderStyleModel",
      "state": {
       "description_width": ""
      }
     },
     "bb743dc2dd2d4bb08dd2c5255e1d87c6": {
      "model_module": "@jupyter-widgets/controls",
      "model_module_version": "1.2.0",
      "model_name": "SliderStyleModel",
      "state": {
       "description_width": ""
      }
     },
     "cb4a4abdac584f78ac3b37579ac33b10": {
      "model_module": "@jupyter-widgets/controls",
      "model_module_version": "1.2.0",
      "model_name": "IntSliderModel",
      "state": {
       "layout": "IPY_MODEL_f25c2eb22704411b9981f8047a2c0182",
       "style": "IPY_MODEL_993ec756027845c19085347ca5f9f6ce",
       "value": 50
      }
     },
     "cfbb8ba5969a49e18a1733c50e6b73e4": {
      "model_module": "@jupyter-widgets/controls",
      "model_module_version": "1.2.0",
      "model_name": "IntSliderModel",
      "state": {
       "layout": "IPY_MODEL_1b37a149a74c40c68d34c61b481048f8",
       "style": "IPY_MODEL_3d6ebd239fc84a8e95b3007988e38134",
       "value": 50
      }
     },
     "da2e37629b7141b8a194c275f89ccef5": {
      "model_module": "@jupyter-widgets/base",
      "model_module_version": "1.0.0",
      "model_name": "LayoutModel",
      "state": {}
     },
     "eafa48b852af4f40b414b8d4f0b90c7a": {
      "model_module": "@jupyter-widgets/controls",
      "model_module_version": "1.2.0",
      "model_name": "IntSliderModel",
      "state": {
       "layout": "IPY_MODEL_da2e37629b7141b8a194c275f89ccef5",
       "style": "IPY_MODEL_bb743dc2dd2d4bb08dd2c5255e1d87c6"
      }
     },
     "f196171317cf493fabedf854f59c1d44": {
      "model_module": "@jupyter-widgets/controls",
      "model_module_version": "1.2.0",
      "model_name": "IntSliderModel",
      "state": {
       "layout": "IPY_MODEL_367694b2ecc94715a20952236f9ced88",
       "style": "IPY_MODEL_098dd75f65594c0f992ddeffeb8523e3"
      }
     },
     "f25c2eb22704411b9981f8047a2c0182": {
      "model_module": "@jupyter-widgets/base",
      "model_module_version": "1.0.0",
      "model_name": "LayoutModel",
      "state": {}
     }
    },
    "version_major": 2,
    "version_minor": 0
   }
  }
 },
 "nbformat": 4,
 "nbformat_minor": 2
}
